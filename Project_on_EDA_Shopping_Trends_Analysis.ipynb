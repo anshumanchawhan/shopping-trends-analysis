{
  "cells": [
    {
      "cell_type": "markdown",
      "id": "8e6cbbd1",
      "metadata": {
        "id": "8e6cbbd1"
      },
      "source": [
        "\n",
        "![](https://i.imgur.com/KhDDHls.gif)\n",
        "![](https://i.imgur.com/Ffjv44w.gif)"
      ]
    },
    {
      "cell_type": "markdown",
      "id": "3c74108e",
      "metadata": {
        "id": "3c74108e"
      },
      "source": [
        "\n",
        "<div style=\"color: White; display: fill;\n",
        "            border-radius: 5px;\n",
        "            background-color: #123456;\n",
        "            font-size: 100%;\n",
        "            font-family: Verdana\">\n",
        "\n",
        "<p style=\"padding: 7px; color: Black;\">\n",
        "      <ul>  📌 <b>Customer ID</b> - Unique identifier for each customer.<br>\n",
        "        📌 <b>Age</b> - Age of the customer.<br>\n",
        "        📌 <b>Gender</b> - Gender of the customer (Male/Female).<br>\n",
        "        📌 <b>Item Purchased</b> - The item purchased by the customer.<br>\n",
        "        📌 <b>Category</b> - Category of the item purchased.<br>\n",
        "        📌 <b>Purchase Amount (USD)</b> - The amount of the purchase in USD.<br>\n",
        "        📌 <b>Location</b> - Location where the purchase was made.<br>\n",
        "        📌 <b>Size</b> - Size of the purchased item.<br>\n",
        "        📌 <b>Color</b> - Color of the purchased item.<br>\n",
        "        📌 <b>Season</b> - Season during which the purchase was made.<br>\n",
        "        📌 <b>Review Rating</b> - Rating given by the customer for the purchased item.<br>\n",
        "        📌 <b>Subscription Status</b> - Indicates if the customer has a subscription (Yes/No).<br>\n",
        "        📌 <b>Shipping Type</b> - Type of shipping chosen by the customer.<br>\n",
        "        📌 <b>Discount Applied</b> - Indicates if a discount was applied to the purchase (Yes/No).<br>\n",
        "        📌 <b>Promo Code Used</b> - Indicates if a promo code was used for the purchase (Yes/No).<br>\n",
        "        📌 <b>Previous Purchases</b> - Number of previous purchases made by the customer.<br>\n",
        "        📌 <b>Payment Method</b> - Customer's most preferred payment method.<br>\n",
        "        📌 <b>Frequency of Purchases</b> - Frequency at which the customer makes purchases (e.g., Weekly, Fortnightly, Monthly).<br><br>\n",
        "    <p style = \"padding: 3px; color: Black;\">\n"
      ]
    },
    {
      "cell_type": "markdown",
      "id": "cd1b9111-5969-4d7d-96e4-e30da9684a3d",
      "metadata": {
        "id": "cd1b9111-5969-4d7d-96e4-e30da9684a3d"
      },
      "source": [
        "## OBSERVATION:\n",
        "Upon initial examination of the dataset, it is evident that we have a comprehensive and well-structured dataset with 3900 rows and 18 columns. The data is complete, with no missing values, which allows us to proceed confidently with our analysis.\n",
        "\n",
        "Let's delve into the columns and their significance in understanding our custome      \n",
        "\n",
        "-  **Customer ID:** This column serves as a unique identifier for each customer, enabling us to differentiate between individuals.\n",
        "-  **Age:** The age column provides insights into the age demographics of our customers, helping us understand their preferences and behaviors.\n",
        "-  **Gender:** This column showcases the gender of the customers, enabling us to analyze buying patterns based on gender.\n",
        "-  **Item Purchased:** Here, we can identify the specific products that customers have bought, allowing us to gain an understanding of popular choices.\n",
        "-  **Category:** The category column categorizes the products into different groups such as clothing, footwear, and more, aiding us in analyzing trends within specific product categories.\n",
        "-  **Purchase Amount (USD):** This column reveals the amount customers spent on their purchases, providing insights into their spending habits.\n",
        "-  **Location:** The location column indicates the geographical location of customers, which can help identify regional trends and preferences.\n",
        "-  **Size:** This column denotes the size of the purchased products, assisting in understanding size preferences across different categories.\n",
        "-  **Color:** Here, we can determine the color preferences of customers, aiding in analyzing color trends and their impact on purchasing decisions.\n",
        "-  **Season:** The season column allows us to identify the season during which customers made their purchases, enabling us to explore seasonal shopping trends.\n",
        "-  **Review Rating:** This column showcases the ratings given by customers, providing valuable feedback on product satisfaction and quality.\n",
        "-  **Subscription Status:** This column indicates whether customers have opted for a subscription status, which can help us understand customer loyalty and engagement.\n",
        "-  **Shipping Type:** Here, we can identify the different shipping methods used to deliver products to customers, shedding light on preferred shipping options.\n",
        "-  **Discount Applied:** This column indicates whether a discount was applied to the purchased products, enabling us to analyze the impact of discounts on customer behavior.\n",
        "-  **Promo Code Used:** Here, we can identify whether customers utilized promo codes during their purchases, helping us evaluate the effectiveness of promotional campaigns.\n",
        "-  **Previous Purchases:** This column reveals the number of previous purchases made by customers, aiding in understanding customer loyalty and repeat business.\n",
        "-  **Payment Method:** The payment method column showcases the various methods used by customers to make their purchases, allowing us to analyze preferred payment options.\n",
        "-  **Frequency of Purchases:** This column provides insights into the frequency at which customers make purchases, helping us identify patterns and customer buying habits.\n",
        "\n",
        "ustomer buying habits.\n",
        "With this rich and diverse dataset, we are well-equipped to explore customer shopping trends, understand their preferences, and uncover valuable insights that can drive informed decision-making and enhance the overall customer experience. Let's embark on this exciting analysis journey!\n",
        "\n"
      ]
    },
    {
      "cell_type": "markdown",
      "metadata": {
        "id": "HhfV-JJviCcP"
      },
      "source": [
        "## ***1. Know Your Data***"
      ],
      "id": "HhfV-JJviCcP"
    },
    {
      "cell_type": "markdown",
      "metadata": {
        "id": "Y3lxredqlCYt"
      },
      "source": [
        "### Import Libraries"
      ],
      "id": "Y3lxredqlCYt"
    },
    {
      "cell_type": "code",
      "execution_count": 1,
      "metadata": {
        "id": "-Ty8qtjtJq_t"
      },
      "outputs": [],
      "source": [
        "# Import Libraries\n",
        "import numpy as np\n",
        "import pandas as pd\n",
        "import seaborn as sns\n",
        "import matplotlib.pyplot as plt\n",
        "from wordcloud import WordCloud\n",
        "import plotly.express as px # this library can makes interactive plots\n"
      ],
      "id": "-Ty8qtjtJq_t"
    },
    {
      "cell_type": "code",
      "execution_count": 2,
      "metadata": {
        "colab": {
          "base_uri": "https://localhost:8080/"
        },
        "id": "372a29c8",
        "outputId": "9faeb998-f629-4b20-d59e-fc9dafd5f51d"
      },
      "outputs": [
        {
          "output_type": "stream",
          "name": "stdout",
          "text": [
            "Requirement already satisfied: WordCloud in /usr/local/lib/python3.11/dist-packages (1.9.4)\n",
            "Requirement already satisfied: numpy>=1.6.1 in /usr/local/lib/python3.11/dist-packages (from WordCloud) (1.26.4)\n",
            "Requirement already satisfied: pillow in /usr/local/lib/python3.11/dist-packages (from WordCloud) (11.1.0)\n",
            "Requirement already satisfied: matplotlib in /usr/local/lib/python3.11/dist-packages (from WordCloud) (3.10.0)\n",
            "Requirement already satisfied: contourpy>=1.0.1 in /usr/local/lib/python3.11/dist-packages (from matplotlib->WordCloud) (1.3.1)\n",
            "Requirement already satisfied: cycler>=0.10 in /usr/local/lib/python3.11/dist-packages (from matplotlib->WordCloud) (0.12.1)\n",
            "Requirement already satisfied: fonttools>=4.22.0 in /usr/local/lib/python3.11/dist-packages (from matplotlib->WordCloud) (4.55.6)\n",
            "Requirement already satisfied: kiwisolver>=1.3.1 in /usr/local/lib/python3.11/dist-packages (from matplotlib->WordCloud) (1.4.8)\n",
            "Requirement already satisfied: packaging>=20.0 in /usr/local/lib/python3.11/dist-packages (from matplotlib->WordCloud) (24.2)\n",
            "Requirement already satisfied: pyparsing>=2.3.1 in /usr/local/lib/python3.11/dist-packages (from matplotlib->WordCloud) (3.2.1)\n",
            "Requirement already satisfied: python-dateutil>=2.7 in /usr/local/lib/python3.11/dist-packages (from matplotlib->WordCloud) (2.8.2)\n",
            "Requirement already satisfied: six>=1.5 in /usr/local/lib/python3.11/dist-packages (from python-dateutil>=2.7->matplotlib->WordCloud) (1.17.0)\n"
          ]
        }
      ],
      "source": [
        "!pip install WordCloud"
      ],
      "id": "372a29c8"
    },
    {
      "cell_type": "markdown",
      "metadata": {
        "id": "3RnN4peoiCZX"
      },
      "source": [
        "### Dataset Loading"
      ],
      "id": "3RnN4peoiCZX"
    },
    {
      "cell_type": "code",
      "execution_count": 3,
      "metadata": {
        "colab": {
          "base_uri": "https://localhost:8080/",
          "height": 580
        },
        "id": "4CkvbW_SlZ_R",
        "outputId": "b9892c4e-47f1-41e1-f75c-216e3db51699"
      },
      "outputs": [
        {
          "output_type": "stream",
          "name": "stdout",
          "text": [
            "Mounted at /content/drive\n"
          ]
        },
        {
          "output_type": "execute_result",
          "data": {
            "text/plain": [
              "      Customer ID  Age  Gender Item Purchased     Category  \\\n",
              "0               1   55    Male         Blouse     Clothing   \n",
              "1               2   19    Male        Sweater     Clothing   \n",
              "2               3   50    Male          Jeans     Clothing   \n",
              "3               4   21    Male        Sandals     Footwear   \n",
              "4               5   45    Male         Blouse     Clothing   \n",
              "...           ...  ...     ...            ...          ...   \n",
              "3895         3896   40  Female         Hoodie     Clothing   \n",
              "3896         3897   52  Female       Backpack  Accessories   \n",
              "3897         3898   46  Female           Belt  Accessories   \n",
              "3898         3899   44  Female          Shoes     Footwear   \n",
              "3899         3900   52  Female        Handbag  Accessories   \n",
              "\n",
              "      Purchase Amount (USD)       Location Size      Color  Season  \\\n",
              "0                        53       Kentucky    L       Gray  Winter   \n",
              "1                        64          Maine    L     Maroon  Winter   \n",
              "2                        73  Massachusetts    S     Maroon  Spring   \n",
              "3                        90   Rhode Island    M     Maroon  Spring   \n",
              "4                        49         Oregon    M  Turquoise  Spring   \n",
              "...                     ...            ...  ...        ...     ...   \n",
              "3895                     28       Virginia    L  Turquoise  Summer   \n",
              "3896                     49           Iowa    L      White  Spring   \n",
              "3897                     33     New Jersey    L      Green  Spring   \n",
              "3898                     77      Minnesota    S      Brown  Summer   \n",
              "3899                     81     California    M      Beige  Spring   \n",
              "\n",
              "      Review Rating Subscription Status   Shipping Type Discount Applied  \\\n",
              "0               3.1                 Yes         Express              Yes   \n",
              "1               3.1                 Yes         Express              Yes   \n",
              "2               3.1                 Yes   Free Shipping              Yes   \n",
              "3               3.5                 Yes    Next Day Air              Yes   \n",
              "4               2.7                 Yes   Free Shipping              Yes   \n",
              "...             ...                 ...             ...              ...   \n",
              "3895            4.2                  No  2-Day Shipping               No   \n",
              "3896            4.5                  No    Store Pickup               No   \n",
              "3897            2.9                  No        Standard               No   \n",
              "3898            3.8                  No         Express               No   \n",
              "3899            3.1                  No    Store Pickup               No   \n",
              "\n",
              "     Promo Code Used  Previous Purchases Payment Method Frequency of Purchases  \n",
              "0                Yes                  14          Venmo            Fortnightly  \n",
              "1                Yes                   2           Cash            Fortnightly  \n",
              "2                Yes                  23    Credit Card                 Weekly  \n",
              "3                Yes                  49         PayPal                 Weekly  \n",
              "4                Yes                  31         PayPal               Annually  \n",
              "...              ...                 ...            ...                    ...  \n",
              "3895              No                  32          Venmo                 Weekly  \n",
              "3896              No                  41  Bank Transfer              Bi-Weekly  \n",
              "3897              No                  24          Venmo              Quarterly  \n",
              "3898              No                  24          Venmo                 Weekly  \n",
              "3899              No                  33          Venmo              Quarterly  \n",
              "\n",
              "[3900 rows x 18 columns]"
            ],
            "text/html": [
              "\n",
              "  <div id=\"df-7808603a-c5ec-436b-912b-3ed0bf7ba731\" class=\"colab-df-container\">\n",
              "    <div>\n",
              "<style scoped>\n",
              "    .dataframe tbody tr th:only-of-type {\n",
              "        vertical-align: middle;\n",
              "    }\n",
              "\n",
              "    .dataframe tbody tr th {\n",
              "        vertical-align: top;\n",
              "    }\n",
              "\n",
              "    .dataframe thead th {\n",
              "        text-align: right;\n",
              "    }\n",
              "</style>\n",
              "<table border=\"1\" class=\"dataframe\">\n",
              "  <thead>\n",
              "    <tr style=\"text-align: right;\">\n",
              "      <th></th>\n",
              "      <th>Customer ID</th>\n",
              "      <th>Age</th>\n",
              "      <th>Gender</th>\n",
              "      <th>Item Purchased</th>\n",
              "      <th>Category</th>\n",
              "      <th>Purchase Amount (USD)</th>\n",
              "      <th>Location</th>\n",
              "      <th>Size</th>\n",
              "      <th>Color</th>\n",
              "      <th>Season</th>\n",
              "      <th>Review Rating</th>\n",
              "      <th>Subscription Status</th>\n",
              "      <th>Shipping Type</th>\n",
              "      <th>Discount Applied</th>\n",
              "      <th>Promo Code Used</th>\n",
              "      <th>Previous Purchases</th>\n",
              "      <th>Payment Method</th>\n",
              "      <th>Frequency of Purchases</th>\n",
              "    </tr>\n",
              "  </thead>\n",
              "  <tbody>\n",
              "    <tr>\n",
              "      <th>0</th>\n",
              "      <td>1</td>\n",
              "      <td>55</td>\n",
              "      <td>Male</td>\n",
              "      <td>Blouse</td>\n",
              "      <td>Clothing</td>\n",
              "      <td>53</td>\n",
              "      <td>Kentucky</td>\n",
              "      <td>L</td>\n",
              "      <td>Gray</td>\n",
              "      <td>Winter</td>\n",
              "      <td>3.1</td>\n",
              "      <td>Yes</td>\n",
              "      <td>Express</td>\n",
              "      <td>Yes</td>\n",
              "      <td>Yes</td>\n",
              "      <td>14</td>\n",
              "      <td>Venmo</td>\n",
              "      <td>Fortnightly</td>\n",
              "    </tr>\n",
              "    <tr>\n",
              "      <th>1</th>\n",
              "      <td>2</td>\n",
              "      <td>19</td>\n",
              "      <td>Male</td>\n",
              "      <td>Sweater</td>\n",
              "      <td>Clothing</td>\n",
              "      <td>64</td>\n",
              "      <td>Maine</td>\n",
              "      <td>L</td>\n",
              "      <td>Maroon</td>\n",
              "      <td>Winter</td>\n",
              "      <td>3.1</td>\n",
              "      <td>Yes</td>\n",
              "      <td>Express</td>\n",
              "      <td>Yes</td>\n",
              "      <td>Yes</td>\n",
              "      <td>2</td>\n",
              "      <td>Cash</td>\n",
              "      <td>Fortnightly</td>\n",
              "    </tr>\n",
              "    <tr>\n",
              "      <th>2</th>\n",
              "      <td>3</td>\n",
              "      <td>50</td>\n",
              "      <td>Male</td>\n",
              "      <td>Jeans</td>\n",
              "      <td>Clothing</td>\n",
              "      <td>73</td>\n",
              "      <td>Massachusetts</td>\n",
              "      <td>S</td>\n",
              "      <td>Maroon</td>\n",
              "      <td>Spring</td>\n",
              "      <td>3.1</td>\n",
              "      <td>Yes</td>\n",
              "      <td>Free Shipping</td>\n",
              "      <td>Yes</td>\n",
              "      <td>Yes</td>\n",
              "      <td>23</td>\n",
              "      <td>Credit Card</td>\n",
              "      <td>Weekly</td>\n",
              "    </tr>\n",
              "    <tr>\n",
              "      <th>3</th>\n",
              "      <td>4</td>\n",
              "      <td>21</td>\n",
              "      <td>Male</td>\n",
              "      <td>Sandals</td>\n",
              "      <td>Footwear</td>\n",
              "      <td>90</td>\n",
              "      <td>Rhode Island</td>\n",
              "      <td>M</td>\n",
              "      <td>Maroon</td>\n",
              "      <td>Spring</td>\n",
              "      <td>3.5</td>\n",
              "      <td>Yes</td>\n",
              "      <td>Next Day Air</td>\n",
              "      <td>Yes</td>\n",
              "      <td>Yes</td>\n",
              "      <td>49</td>\n",
              "      <td>PayPal</td>\n",
              "      <td>Weekly</td>\n",
              "    </tr>\n",
              "    <tr>\n",
              "      <th>4</th>\n",
              "      <td>5</td>\n",
              "      <td>45</td>\n",
              "      <td>Male</td>\n",
              "      <td>Blouse</td>\n",
              "      <td>Clothing</td>\n",
              "      <td>49</td>\n",
              "      <td>Oregon</td>\n",
              "      <td>M</td>\n",
              "      <td>Turquoise</td>\n",
              "      <td>Spring</td>\n",
              "      <td>2.7</td>\n",
              "      <td>Yes</td>\n",
              "      <td>Free Shipping</td>\n",
              "      <td>Yes</td>\n",
              "      <td>Yes</td>\n",
              "      <td>31</td>\n",
              "      <td>PayPal</td>\n",
              "      <td>Annually</td>\n",
              "    </tr>\n",
              "    <tr>\n",
              "      <th>...</th>\n",
              "      <td>...</td>\n",
              "      <td>...</td>\n",
              "      <td>...</td>\n",
              "      <td>...</td>\n",
              "      <td>...</td>\n",
              "      <td>...</td>\n",
              "      <td>...</td>\n",
              "      <td>...</td>\n",
              "      <td>...</td>\n",
              "      <td>...</td>\n",
              "      <td>...</td>\n",
              "      <td>...</td>\n",
              "      <td>...</td>\n",
              "      <td>...</td>\n",
              "      <td>...</td>\n",
              "      <td>...</td>\n",
              "      <td>...</td>\n",
              "      <td>...</td>\n",
              "    </tr>\n",
              "    <tr>\n",
              "      <th>3895</th>\n",
              "      <td>3896</td>\n",
              "      <td>40</td>\n",
              "      <td>Female</td>\n",
              "      <td>Hoodie</td>\n",
              "      <td>Clothing</td>\n",
              "      <td>28</td>\n",
              "      <td>Virginia</td>\n",
              "      <td>L</td>\n",
              "      <td>Turquoise</td>\n",
              "      <td>Summer</td>\n",
              "      <td>4.2</td>\n",
              "      <td>No</td>\n",
              "      <td>2-Day Shipping</td>\n",
              "      <td>No</td>\n",
              "      <td>No</td>\n",
              "      <td>32</td>\n",
              "      <td>Venmo</td>\n",
              "      <td>Weekly</td>\n",
              "    </tr>\n",
              "    <tr>\n",
              "      <th>3896</th>\n",
              "      <td>3897</td>\n",
              "      <td>52</td>\n",
              "      <td>Female</td>\n",
              "      <td>Backpack</td>\n",
              "      <td>Accessories</td>\n",
              "      <td>49</td>\n",
              "      <td>Iowa</td>\n",
              "      <td>L</td>\n",
              "      <td>White</td>\n",
              "      <td>Spring</td>\n",
              "      <td>4.5</td>\n",
              "      <td>No</td>\n",
              "      <td>Store Pickup</td>\n",
              "      <td>No</td>\n",
              "      <td>No</td>\n",
              "      <td>41</td>\n",
              "      <td>Bank Transfer</td>\n",
              "      <td>Bi-Weekly</td>\n",
              "    </tr>\n",
              "    <tr>\n",
              "      <th>3897</th>\n",
              "      <td>3898</td>\n",
              "      <td>46</td>\n",
              "      <td>Female</td>\n",
              "      <td>Belt</td>\n",
              "      <td>Accessories</td>\n",
              "      <td>33</td>\n",
              "      <td>New Jersey</td>\n",
              "      <td>L</td>\n",
              "      <td>Green</td>\n",
              "      <td>Spring</td>\n",
              "      <td>2.9</td>\n",
              "      <td>No</td>\n",
              "      <td>Standard</td>\n",
              "      <td>No</td>\n",
              "      <td>No</td>\n",
              "      <td>24</td>\n",
              "      <td>Venmo</td>\n",
              "      <td>Quarterly</td>\n",
              "    </tr>\n",
              "    <tr>\n",
              "      <th>3898</th>\n",
              "      <td>3899</td>\n",
              "      <td>44</td>\n",
              "      <td>Female</td>\n",
              "      <td>Shoes</td>\n",
              "      <td>Footwear</td>\n",
              "      <td>77</td>\n",
              "      <td>Minnesota</td>\n",
              "      <td>S</td>\n",
              "      <td>Brown</td>\n",
              "      <td>Summer</td>\n",
              "      <td>3.8</td>\n",
              "      <td>No</td>\n",
              "      <td>Express</td>\n",
              "      <td>No</td>\n",
              "      <td>No</td>\n",
              "      <td>24</td>\n",
              "      <td>Venmo</td>\n",
              "      <td>Weekly</td>\n",
              "    </tr>\n",
              "    <tr>\n",
              "      <th>3899</th>\n",
              "      <td>3900</td>\n",
              "      <td>52</td>\n",
              "      <td>Female</td>\n",
              "      <td>Handbag</td>\n",
              "      <td>Accessories</td>\n",
              "      <td>81</td>\n",
              "      <td>California</td>\n",
              "      <td>M</td>\n",
              "      <td>Beige</td>\n",
              "      <td>Spring</td>\n",
              "      <td>3.1</td>\n",
              "      <td>No</td>\n",
              "      <td>Store Pickup</td>\n",
              "      <td>No</td>\n",
              "      <td>No</td>\n",
              "      <td>33</td>\n",
              "      <td>Venmo</td>\n",
              "      <td>Quarterly</td>\n",
              "    </tr>\n",
              "  </tbody>\n",
              "</table>\n",
              "<p>3900 rows × 18 columns</p>\n",
              "</div>\n",
              "    <div class=\"colab-df-buttons\">\n",
              "\n",
              "  <div class=\"colab-df-container\">\n",
              "    <button class=\"colab-df-convert\" onclick=\"convertToInteractive('df-7808603a-c5ec-436b-912b-3ed0bf7ba731')\"\n",
              "            title=\"Convert this dataframe to an interactive table.\"\n",
              "            style=\"display:none;\">\n",
              "\n",
              "  <svg xmlns=\"http://www.w3.org/2000/svg\" height=\"24px\" viewBox=\"0 -960 960 960\">\n",
              "    <path d=\"M120-120v-720h720v720H120Zm60-500h600v-160H180v160Zm220 220h160v-160H400v160Zm0 220h160v-160H400v160ZM180-400h160v-160H180v160Zm440 0h160v-160H620v160ZM180-180h160v-160H180v160Zm440 0h160v-160H620v160Z\"/>\n",
              "  </svg>\n",
              "    </button>\n",
              "\n",
              "  <style>\n",
              "    .colab-df-container {\n",
              "      display:flex;\n",
              "      gap: 12px;\n",
              "    }\n",
              "\n",
              "    .colab-df-convert {\n",
              "      background-color: #E8F0FE;\n",
              "      border: none;\n",
              "      border-radius: 50%;\n",
              "      cursor: pointer;\n",
              "      display: none;\n",
              "      fill: #1967D2;\n",
              "      height: 32px;\n",
              "      padding: 0 0 0 0;\n",
              "      width: 32px;\n",
              "    }\n",
              "\n",
              "    .colab-df-convert:hover {\n",
              "      background-color: #E2EBFA;\n",
              "      box-shadow: 0px 1px 2px rgba(60, 64, 67, 0.3), 0px 1px 3px 1px rgba(60, 64, 67, 0.15);\n",
              "      fill: #174EA6;\n",
              "    }\n",
              "\n",
              "    .colab-df-buttons div {\n",
              "      margin-bottom: 4px;\n",
              "    }\n",
              "\n",
              "    [theme=dark] .colab-df-convert {\n",
              "      background-color: #3B4455;\n",
              "      fill: #D2E3FC;\n",
              "    }\n",
              "\n",
              "    [theme=dark] .colab-df-convert:hover {\n",
              "      background-color: #434B5C;\n",
              "      box-shadow: 0px 1px 3px 1px rgba(0, 0, 0, 0.15);\n",
              "      filter: drop-shadow(0px 1px 2px rgba(0, 0, 0, 0.3));\n",
              "      fill: #FFFFFF;\n",
              "    }\n",
              "  </style>\n",
              "\n",
              "    <script>\n",
              "      const buttonEl =\n",
              "        document.querySelector('#df-7808603a-c5ec-436b-912b-3ed0bf7ba731 button.colab-df-convert');\n",
              "      buttonEl.style.display =\n",
              "        google.colab.kernel.accessAllowed ? 'block' : 'none';\n",
              "\n",
              "      async function convertToInteractive(key) {\n",
              "        const element = document.querySelector('#df-7808603a-c5ec-436b-912b-3ed0bf7ba731');\n",
              "        const dataTable =\n",
              "          await google.colab.kernel.invokeFunction('convertToInteractive',\n",
              "                                                    [key], {});\n",
              "        if (!dataTable) return;\n",
              "\n",
              "        const docLinkHtml = 'Like what you see? Visit the ' +\n",
              "          '<a target=\"_blank\" href=https://colab.research.google.com/notebooks/data_table.ipynb>data table notebook</a>'\n",
              "          + ' to learn more about interactive tables.';\n",
              "        element.innerHTML = '';\n",
              "        dataTable['output_type'] = 'display_data';\n",
              "        await google.colab.output.renderOutput(dataTable, element);\n",
              "        const docLink = document.createElement('div');\n",
              "        docLink.innerHTML = docLinkHtml;\n",
              "        element.appendChild(docLink);\n",
              "      }\n",
              "    </script>\n",
              "  </div>\n",
              "\n",
              "\n",
              "<div id=\"df-3db059eb-3094-4786-8136-3d574b70bae6\">\n",
              "  <button class=\"colab-df-quickchart\" onclick=\"quickchart('df-3db059eb-3094-4786-8136-3d574b70bae6')\"\n",
              "            title=\"Suggest charts\"\n",
              "            style=\"display:none;\">\n",
              "\n",
              "<svg xmlns=\"http://www.w3.org/2000/svg\" height=\"24px\"viewBox=\"0 0 24 24\"\n",
              "     width=\"24px\">\n",
              "    <g>\n",
              "        <path d=\"M19 3H5c-1.1 0-2 .9-2 2v14c0 1.1.9 2 2 2h14c1.1 0 2-.9 2-2V5c0-1.1-.9-2-2-2zM9 17H7v-7h2v7zm4 0h-2V7h2v10zm4 0h-2v-4h2v4z\"/>\n",
              "    </g>\n",
              "</svg>\n",
              "  </button>\n",
              "\n",
              "<style>\n",
              "  .colab-df-quickchart {\n",
              "      --bg-color: #E8F0FE;\n",
              "      --fill-color: #1967D2;\n",
              "      --hover-bg-color: #E2EBFA;\n",
              "      --hover-fill-color: #174EA6;\n",
              "      --disabled-fill-color: #AAA;\n",
              "      --disabled-bg-color: #DDD;\n",
              "  }\n",
              "\n",
              "  [theme=dark] .colab-df-quickchart {\n",
              "      --bg-color: #3B4455;\n",
              "      --fill-color: #D2E3FC;\n",
              "      --hover-bg-color: #434B5C;\n",
              "      --hover-fill-color: #FFFFFF;\n",
              "      --disabled-bg-color: #3B4455;\n",
              "      --disabled-fill-color: #666;\n",
              "  }\n",
              "\n",
              "  .colab-df-quickchart {\n",
              "    background-color: var(--bg-color);\n",
              "    border: none;\n",
              "    border-radius: 50%;\n",
              "    cursor: pointer;\n",
              "    display: none;\n",
              "    fill: var(--fill-color);\n",
              "    height: 32px;\n",
              "    padding: 0;\n",
              "    width: 32px;\n",
              "  }\n",
              "\n",
              "  .colab-df-quickchart:hover {\n",
              "    background-color: var(--hover-bg-color);\n",
              "    box-shadow: 0 1px 2px rgba(60, 64, 67, 0.3), 0 1px 3px 1px rgba(60, 64, 67, 0.15);\n",
              "    fill: var(--button-hover-fill-color);\n",
              "  }\n",
              "\n",
              "  .colab-df-quickchart-complete:disabled,\n",
              "  .colab-df-quickchart-complete:disabled:hover {\n",
              "    background-color: var(--disabled-bg-color);\n",
              "    fill: var(--disabled-fill-color);\n",
              "    box-shadow: none;\n",
              "  }\n",
              "\n",
              "  .colab-df-spinner {\n",
              "    border: 2px solid var(--fill-color);\n",
              "    border-color: transparent;\n",
              "    border-bottom-color: var(--fill-color);\n",
              "    animation:\n",
              "      spin 1s steps(1) infinite;\n",
              "  }\n",
              "\n",
              "  @keyframes spin {\n",
              "    0% {\n",
              "      border-color: transparent;\n",
              "      border-bottom-color: var(--fill-color);\n",
              "      border-left-color: var(--fill-color);\n",
              "    }\n",
              "    20% {\n",
              "      border-color: transparent;\n",
              "      border-left-color: var(--fill-color);\n",
              "      border-top-color: var(--fill-color);\n",
              "    }\n",
              "    30% {\n",
              "      border-color: transparent;\n",
              "      border-left-color: var(--fill-color);\n",
              "      border-top-color: var(--fill-color);\n",
              "      border-right-color: var(--fill-color);\n",
              "    }\n",
              "    40% {\n",
              "      border-color: transparent;\n",
              "      border-right-color: var(--fill-color);\n",
              "      border-top-color: var(--fill-color);\n",
              "    }\n",
              "    60% {\n",
              "      border-color: transparent;\n",
              "      border-right-color: var(--fill-color);\n",
              "    }\n",
              "    80% {\n",
              "      border-color: transparent;\n",
              "      border-right-color: var(--fill-color);\n",
              "      border-bottom-color: var(--fill-color);\n",
              "    }\n",
              "    90% {\n",
              "      border-color: transparent;\n",
              "      border-bottom-color: var(--fill-color);\n",
              "    }\n",
              "  }\n",
              "</style>\n",
              "\n",
              "  <script>\n",
              "    async function quickchart(key) {\n",
              "      const quickchartButtonEl =\n",
              "        document.querySelector('#' + key + ' button');\n",
              "      quickchartButtonEl.disabled = true;  // To prevent multiple clicks.\n",
              "      quickchartButtonEl.classList.add('colab-df-spinner');\n",
              "      try {\n",
              "        const charts = await google.colab.kernel.invokeFunction(\n",
              "            'suggestCharts', [key], {});\n",
              "      } catch (error) {\n",
              "        console.error('Error during call to suggestCharts:', error);\n",
              "      }\n",
              "      quickchartButtonEl.classList.remove('colab-df-spinner');\n",
              "      quickchartButtonEl.classList.add('colab-df-quickchart-complete');\n",
              "    }\n",
              "    (() => {\n",
              "      let quickchartButtonEl =\n",
              "        document.querySelector('#df-3db059eb-3094-4786-8136-3d574b70bae6 button');\n",
              "      quickchartButtonEl.style.display =\n",
              "        google.colab.kernel.accessAllowed ? 'block' : 'none';\n",
              "    })();\n",
              "  </script>\n",
              "</div>\n",
              "\n",
              "  <div id=\"id_1eddf235-5c85-4ce9-b6a9-76671a4ac879\">\n",
              "    <style>\n",
              "      .colab-df-generate {\n",
              "        background-color: #E8F0FE;\n",
              "        border: none;\n",
              "        border-radius: 50%;\n",
              "        cursor: pointer;\n",
              "        display: none;\n",
              "        fill: #1967D2;\n",
              "        height: 32px;\n",
              "        padding: 0 0 0 0;\n",
              "        width: 32px;\n",
              "      }\n",
              "\n",
              "      .colab-df-generate:hover {\n",
              "        background-color: #E2EBFA;\n",
              "        box-shadow: 0px 1px 2px rgba(60, 64, 67, 0.3), 0px 1px 3px 1px rgba(60, 64, 67, 0.15);\n",
              "        fill: #174EA6;\n",
              "      }\n",
              "\n",
              "      [theme=dark] .colab-df-generate {\n",
              "        background-color: #3B4455;\n",
              "        fill: #D2E3FC;\n",
              "      }\n",
              "\n",
              "      [theme=dark] .colab-df-generate:hover {\n",
              "        background-color: #434B5C;\n",
              "        box-shadow: 0px 1px 3px 1px rgba(0, 0, 0, 0.15);\n",
              "        filter: drop-shadow(0px 1px 2px rgba(0, 0, 0, 0.3));\n",
              "        fill: #FFFFFF;\n",
              "      }\n",
              "    </style>\n",
              "    <button class=\"colab-df-generate\" onclick=\"generateWithVariable('shop')\"\n",
              "            title=\"Generate code using this dataframe.\"\n",
              "            style=\"display:none;\">\n",
              "\n",
              "  <svg xmlns=\"http://www.w3.org/2000/svg\" height=\"24px\"viewBox=\"0 0 24 24\"\n",
              "       width=\"24px\">\n",
              "    <path d=\"M7,19H8.4L18.45,9,17,7.55,7,17.6ZM5,21V16.75L18.45,3.32a2,2,0,0,1,2.83,0l1.4,1.43a1.91,1.91,0,0,1,.58,1.4,1.91,1.91,0,0,1-.58,1.4L9.25,21ZM18.45,9,17,7.55Zm-12,3A5.31,5.31,0,0,0,4.9,8.1,5.31,5.31,0,0,0,1,6.5,5.31,5.31,0,0,0,4.9,4.9,5.31,5.31,0,0,0,6.5,1,5.31,5.31,0,0,0,8.1,4.9,5.31,5.31,0,0,0,12,6.5,5.46,5.46,0,0,0,6.5,12Z\"/>\n",
              "  </svg>\n",
              "    </button>\n",
              "    <script>\n",
              "      (() => {\n",
              "      const buttonEl =\n",
              "        document.querySelector('#id_1eddf235-5c85-4ce9-b6a9-76671a4ac879 button.colab-df-generate');\n",
              "      buttonEl.style.display =\n",
              "        google.colab.kernel.accessAllowed ? 'block' : 'none';\n",
              "\n",
              "      buttonEl.onclick = () => {\n",
              "        google.colab.notebook.generateWithVariable('shop');\n",
              "      }\n",
              "      })();\n",
              "    </script>\n",
              "  </div>\n",
              "\n",
              "    </div>\n",
              "  </div>\n"
            ],
            "application/vnd.google.colaboratory.intrinsic+json": {
              "type": "dataframe",
              "variable_name": "shop",
              "summary": "{\n  \"name\": \"shop\",\n  \"rows\": 3900,\n  \"fields\": [\n    {\n      \"column\": \"Customer ID\",\n      \"properties\": {\n        \"dtype\": \"number\",\n        \"std\": 1125,\n        \"min\": 1,\n        \"max\": 3900,\n        \"num_unique_values\": 3900,\n        \"samples\": [\n          840,\n          1718,\n          322\n        ],\n        \"semantic_type\": \"\",\n        \"description\": \"\"\n      }\n    },\n    {\n      \"column\": \"Age\",\n      \"properties\": {\n        \"dtype\": \"number\",\n        \"std\": 15,\n        \"min\": 18,\n        \"max\": 70,\n        \"num_unique_values\": 53,\n        \"samples\": [\n          56,\n          24,\n          51\n        ],\n        \"semantic_type\": \"\",\n        \"description\": \"\"\n      }\n    },\n    {\n      \"column\": \"Gender\",\n      \"properties\": {\n        \"dtype\": \"category\",\n        \"num_unique_values\": 2,\n        \"samples\": [\n          \"Female\",\n          \"Male\"\n        ],\n        \"semantic_type\": \"\",\n        \"description\": \"\"\n      }\n    },\n    {\n      \"column\": \"Item Purchased\",\n      \"properties\": {\n        \"dtype\": \"category\",\n        \"num_unique_values\": 25,\n        \"samples\": [\n          \"Handbag\",\n          \"Jewelry\"\n        ],\n        \"semantic_type\": \"\",\n        \"description\": \"\"\n      }\n    },\n    {\n      \"column\": \"Category\",\n      \"properties\": {\n        \"dtype\": \"category\",\n        \"num_unique_values\": 4,\n        \"samples\": [\n          \"Footwear\",\n          \"Accessories\"\n        ],\n        \"semantic_type\": \"\",\n        \"description\": \"\"\n      }\n    },\n    {\n      \"column\": \"Purchase Amount (USD)\",\n      \"properties\": {\n        \"dtype\": \"number\",\n        \"std\": 23,\n        \"min\": 20,\n        \"max\": 100,\n        \"num_unique_values\": 81,\n        \"samples\": [\n          60,\n          53\n        ],\n        \"semantic_type\": \"\",\n        \"description\": \"\"\n      }\n    },\n    {\n      \"column\": \"Location\",\n      \"properties\": {\n        \"dtype\": \"category\",\n        \"num_unique_values\": 50,\n        \"samples\": [\n          \"New Hampshire\",\n          \"Connecticut\"\n        ],\n        \"semantic_type\": \"\",\n        \"description\": \"\"\n      }\n    },\n    {\n      \"column\": \"Size\",\n      \"properties\": {\n        \"dtype\": \"category\",\n        \"num_unique_values\": 4,\n        \"samples\": [\n          \"S\",\n          \"XL\"\n        ],\n        \"semantic_type\": \"\",\n        \"description\": \"\"\n      }\n    },\n    {\n      \"column\": \"Color\",\n      \"properties\": {\n        \"dtype\": \"category\",\n        \"num_unique_values\": 25,\n        \"samples\": [\n          \"Olive\",\n          \"Red\"\n        ],\n        \"semantic_type\": \"\",\n        \"description\": \"\"\n      }\n    },\n    {\n      \"column\": \"Season\",\n      \"properties\": {\n        \"dtype\": \"category\",\n        \"num_unique_values\": 4,\n        \"samples\": [\n          \"Spring\",\n          \"Fall\"\n        ],\n        \"semantic_type\": \"\",\n        \"description\": \"\"\n      }\n    },\n    {\n      \"column\": \"Review Rating\",\n      \"properties\": {\n        \"dtype\": \"number\",\n        \"std\": 0.7162228139312449,\n        \"min\": 2.5,\n        \"max\": 5.0,\n        \"num_unique_values\": 26,\n        \"samples\": [\n          4.9,\n          5.0\n        ],\n        \"semantic_type\": \"\",\n        \"description\": \"\"\n      }\n    },\n    {\n      \"column\": \"Subscription Status\",\n      \"properties\": {\n        \"dtype\": \"category\",\n        \"num_unique_values\": 2,\n        \"samples\": [\n          \"No\",\n          \"Yes\"\n        ],\n        \"semantic_type\": \"\",\n        \"description\": \"\"\n      }\n    },\n    {\n      \"column\": \"Shipping Type\",\n      \"properties\": {\n        \"dtype\": \"category\",\n        \"num_unique_values\": 6,\n        \"samples\": [\n          \"Express\",\n          \"Free Shipping\"\n        ],\n        \"semantic_type\": \"\",\n        \"description\": \"\"\n      }\n    },\n    {\n      \"column\": \"Discount Applied\",\n      \"properties\": {\n        \"dtype\": \"category\",\n        \"num_unique_values\": 2,\n        \"samples\": [\n          \"No\",\n          \"Yes\"\n        ],\n        \"semantic_type\": \"\",\n        \"description\": \"\"\n      }\n    },\n    {\n      \"column\": \"Promo Code Used\",\n      \"properties\": {\n        \"dtype\": \"category\",\n        \"num_unique_values\": 2,\n        \"samples\": [\n          \"No\",\n          \"Yes\"\n        ],\n        \"semantic_type\": \"\",\n        \"description\": \"\"\n      }\n    },\n    {\n      \"column\": \"Previous Purchases\",\n      \"properties\": {\n        \"dtype\": \"number\",\n        \"std\": 14,\n        \"min\": 1,\n        \"max\": 50,\n        \"num_unique_values\": 50,\n        \"samples\": [\n          36,\n          47\n        ],\n        \"semantic_type\": \"\",\n        \"description\": \"\"\n      }\n    },\n    {\n      \"column\": \"Payment Method\",\n      \"properties\": {\n        \"dtype\": \"category\",\n        \"num_unique_values\": 6,\n        \"samples\": [\n          \"Venmo\",\n          \"Cash\"\n        ],\n        \"semantic_type\": \"\",\n        \"description\": \"\"\n      }\n    },\n    {\n      \"column\": \"Frequency of Purchases\",\n      \"properties\": {\n        \"dtype\": \"category\",\n        \"num_unique_values\": 7,\n        \"samples\": [\n          \"Fortnightly\",\n          \"Weekly\"\n        ],\n        \"semantic_type\": \"\",\n        \"description\": \"\"\n      }\n    }\n  ]\n}"
            }
          },
          "metadata": {},
          "execution_count": 3
        }
      ],
      "source": [
        "# Load Dataset\n",
        "\n",
        "# #Connecting Google Drive with the Colab\n",
        "from google.colab import drive\n",
        "drive.mount('/content/drive')\n",
        "\n",
        "\n",
        "file_path = '/content/drive/MyDrive/Dataset/csv/shopping_trends_updated.csv'\n",
        "shop=pd.read_csv(file_path)\n",
        "\n",
        "shop\n"
      ],
      "id": "4CkvbW_SlZ_R"
    },
    {
      "cell_type": "markdown",
      "metadata": {
        "id": "x71ZqKXriCWQ"
      },
      "source": [
        "### Dataset First View"
      ],
      "id": "x71ZqKXriCWQ"
    },
    {
      "cell_type": "code",
      "execution_count": 4,
      "metadata": {
        "colab": {
          "base_uri": "https://localhost:8080/",
          "height": 293
        },
        "id": "LWNFOSvLl09H",
        "outputId": "9f35495a-3af5-4451-8dfe-c19c74313b04"
      },
      "outputs": [
        {
          "output_type": "execute_result",
          "data": {
            "text/plain": [
              "   Customer ID  Age Gender Item Purchased  Category  Purchase Amount (USD)  \\\n",
              "0            1   55   Male         Blouse  Clothing                     53   \n",
              "1            2   19   Male        Sweater  Clothing                     64   \n",
              "2            3   50   Male          Jeans  Clothing                     73   \n",
              "3            4   21   Male        Sandals  Footwear                     90   \n",
              "4            5   45   Male         Blouse  Clothing                     49   \n",
              "\n",
              "        Location Size      Color  Season  Review Rating Subscription Status  \\\n",
              "0       Kentucky    L       Gray  Winter            3.1                 Yes   \n",
              "1          Maine    L     Maroon  Winter            3.1                 Yes   \n",
              "2  Massachusetts    S     Maroon  Spring            3.1                 Yes   \n",
              "3   Rhode Island    M     Maroon  Spring            3.5                 Yes   \n",
              "4         Oregon    M  Turquoise  Spring            2.7                 Yes   \n",
              "\n",
              "   Shipping Type Discount Applied Promo Code Used  Previous Purchases  \\\n",
              "0        Express              Yes             Yes                  14   \n",
              "1        Express              Yes             Yes                   2   \n",
              "2  Free Shipping              Yes             Yes                  23   \n",
              "3   Next Day Air              Yes             Yes                  49   \n",
              "4  Free Shipping              Yes             Yes                  31   \n",
              "\n",
              "  Payment Method Frequency of Purchases  \n",
              "0          Venmo            Fortnightly  \n",
              "1           Cash            Fortnightly  \n",
              "2    Credit Card                 Weekly  \n",
              "3         PayPal                 Weekly  \n",
              "4         PayPal               Annually  "
            ],
            "text/html": [
              "\n",
              "  <div id=\"df-2d9bb989-1189-4003-a623-75f270783674\" class=\"colab-df-container\">\n",
              "    <div>\n",
              "<style scoped>\n",
              "    .dataframe tbody tr th:only-of-type {\n",
              "        vertical-align: middle;\n",
              "    }\n",
              "\n",
              "    .dataframe tbody tr th {\n",
              "        vertical-align: top;\n",
              "    }\n",
              "\n",
              "    .dataframe thead th {\n",
              "        text-align: right;\n",
              "    }\n",
              "</style>\n",
              "<table border=\"1\" class=\"dataframe\">\n",
              "  <thead>\n",
              "    <tr style=\"text-align: right;\">\n",
              "      <th></th>\n",
              "      <th>Customer ID</th>\n",
              "      <th>Age</th>\n",
              "      <th>Gender</th>\n",
              "      <th>Item Purchased</th>\n",
              "      <th>Category</th>\n",
              "      <th>Purchase Amount (USD)</th>\n",
              "      <th>Location</th>\n",
              "      <th>Size</th>\n",
              "      <th>Color</th>\n",
              "      <th>Season</th>\n",
              "      <th>Review Rating</th>\n",
              "      <th>Subscription Status</th>\n",
              "      <th>Shipping Type</th>\n",
              "      <th>Discount Applied</th>\n",
              "      <th>Promo Code Used</th>\n",
              "      <th>Previous Purchases</th>\n",
              "      <th>Payment Method</th>\n",
              "      <th>Frequency of Purchases</th>\n",
              "    </tr>\n",
              "  </thead>\n",
              "  <tbody>\n",
              "    <tr>\n",
              "      <th>0</th>\n",
              "      <td>1</td>\n",
              "      <td>55</td>\n",
              "      <td>Male</td>\n",
              "      <td>Blouse</td>\n",
              "      <td>Clothing</td>\n",
              "      <td>53</td>\n",
              "      <td>Kentucky</td>\n",
              "      <td>L</td>\n",
              "      <td>Gray</td>\n",
              "      <td>Winter</td>\n",
              "      <td>3.1</td>\n",
              "      <td>Yes</td>\n",
              "      <td>Express</td>\n",
              "      <td>Yes</td>\n",
              "      <td>Yes</td>\n",
              "      <td>14</td>\n",
              "      <td>Venmo</td>\n",
              "      <td>Fortnightly</td>\n",
              "    </tr>\n",
              "    <tr>\n",
              "      <th>1</th>\n",
              "      <td>2</td>\n",
              "      <td>19</td>\n",
              "      <td>Male</td>\n",
              "      <td>Sweater</td>\n",
              "      <td>Clothing</td>\n",
              "      <td>64</td>\n",
              "      <td>Maine</td>\n",
              "      <td>L</td>\n",
              "      <td>Maroon</td>\n",
              "      <td>Winter</td>\n",
              "      <td>3.1</td>\n",
              "      <td>Yes</td>\n",
              "      <td>Express</td>\n",
              "      <td>Yes</td>\n",
              "      <td>Yes</td>\n",
              "      <td>2</td>\n",
              "      <td>Cash</td>\n",
              "      <td>Fortnightly</td>\n",
              "    </tr>\n",
              "    <tr>\n",
              "      <th>2</th>\n",
              "      <td>3</td>\n",
              "      <td>50</td>\n",
              "      <td>Male</td>\n",
              "      <td>Jeans</td>\n",
              "      <td>Clothing</td>\n",
              "      <td>73</td>\n",
              "      <td>Massachusetts</td>\n",
              "      <td>S</td>\n",
              "      <td>Maroon</td>\n",
              "      <td>Spring</td>\n",
              "      <td>3.1</td>\n",
              "      <td>Yes</td>\n",
              "      <td>Free Shipping</td>\n",
              "      <td>Yes</td>\n",
              "      <td>Yes</td>\n",
              "      <td>23</td>\n",
              "      <td>Credit Card</td>\n",
              "      <td>Weekly</td>\n",
              "    </tr>\n",
              "    <tr>\n",
              "      <th>3</th>\n",
              "      <td>4</td>\n",
              "      <td>21</td>\n",
              "      <td>Male</td>\n",
              "      <td>Sandals</td>\n",
              "      <td>Footwear</td>\n",
              "      <td>90</td>\n",
              "      <td>Rhode Island</td>\n",
              "      <td>M</td>\n",
              "      <td>Maroon</td>\n",
              "      <td>Spring</td>\n",
              "      <td>3.5</td>\n",
              "      <td>Yes</td>\n",
              "      <td>Next Day Air</td>\n",
              "      <td>Yes</td>\n",
              "      <td>Yes</td>\n",
              "      <td>49</td>\n",
              "      <td>PayPal</td>\n",
              "      <td>Weekly</td>\n",
              "    </tr>\n",
              "    <tr>\n",
              "      <th>4</th>\n",
              "      <td>5</td>\n",
              "      <td>45</td>\n",
              "      <td>Male</td>\n",
              "      <td>Blouse</td>\n",
              "      <td>Clothing</td>\n",
              "      <td>49</td>\n",
              "      <td>Oregon</td>\n",
              "      <td>M</td>\n",
              "      <td>Turquoise</td>\n",
              "      <td>Spring</td>\n",
              "      <td>2.7</td>\n",
              "      <td>Yes</td>\n",
              "      <td>Free Shipping</td>\n",
              "      <td>Yes</td>\n",
              "      <td>Yes</td>\n",
              "      <td>31</td>\n",
              "      <td>PayPal</td>\n",
              "      <td>Annually</td>\n",
              "    </tr>\n",
              "  </tbody>\n",
              "</table>\n",
              "</div>\n",
              "    <div class=\"colab-df-buttons\">\n",
              "\n",
              "  <div class=\"colab-df-container\">\n",
              "    <button class=\"colab-df-convert\" onclick=\"convertToInteractive('df-2d9bb989-1189-4003-a623-75f270783674')\"\n",
              "            title=\"Convert this dataframe to an interactive table.\"\n",
              "            style=\"display:none;\">\n",
              "\n",
              "  <svg xmlns=\"http://www.w3.org/2000/svg\" height=\"24px\" viewBox=\"0 -960 960 960\">\n",
              "    <path d=\"M120-120v-720h720v720H120Zm60-500h600v-160H180v160Zm220 220h160v-160H400v160Zm0 220h160v-160H400v160ZM180-400h160v-160H180v160Zm440 0h160v-160H620v160ZM180-180h160v-160H180v160Zm440 0h160v-160H620v160Z\"/>\n",
              "  </svg>\n",
              "    </button>\n",
              "\n",
              "  <style>\n",
              "    .colab-df-container {\n",
              "      display:flex;\n",
              "      gap: 12px;\n",
              "    }\n",
              "\n",
              "    .colab-df-convert {\n",
              "      background-color: #E8F0FE;\n",
              "      border: none;\n",
              "      border-radius: 50%;\n",
              "      cursor: pointer;\n",
              "      display: none;\n",
              "      fill: #1967D2;\n",
              "      height: 32px;\n",
              "      padding: 0 0 0 0;\n",
              "      width: 32px;\n",
              "    }\n",
              "\n",
              "    .colab-df-convert:hover {\n",
              "      background-color: #E2EBFA;\n",
              "      box-shadow: 0px 1px 2px rgba(60, 64, 67, 0.3), 0px 1px 3px 1px rgba(60, 64, 67, 0.15);\n",
              "      fill: #174EA6;\n",
              "    }\n",
              "\n",
              "    .colab-df-buttons div {\n",
              "      margin-bottom: 4px;\n",
              "    }\n",
              "\n",
              "    [theme=dark] .colab-df-convert {\n",
              "      background-color: #3B4455;\n",
              "      fill: #D2E3FC;\n",
              "    }\n",
              "\n",
              "    [theme=dark] .colab-df-convert:hover {\n",
              "      background-color: #434B5C;\n",
              "      box-shadow: 0px 1px 3px 1px rgba(0, 0, 0, 0.15);\n",
              "      filter: drop-shadow(0px 1px 2px rgba(0, 0, 0, 0.3));\n",
              "      fill: #FFFFFF;\n",
              "    }\n",
              "  </style>\n",
              "\n",
              "    <script>\n",
              "      const buttonEl =\n",
              "        document.querySelector('#df-2d9bb989-1189-4003-a623-75f270783674 button.colab-df-convert');\n",
              "      buttonEl.style.display =\n",
              "        google.colab.kernel.accessAllowed ? 'block' : 'none';\n",
              "\n",
              "      async function convertToInteractive(key) {\n",
              "        const element = document.querySelector('#df-2d9bb989-1189-4003-a623-75f270783674');\n",
              "        const dataTable =\n",
              "          await google.colab.kernel.invokeFunction('convertToInteractive',\n",
              "                                                    [key], {});\n",
              "        if (!dataTable) return;\n",
              "\n",
              "        const docLinkHtml = 'Like what you see? Visit the ' +\n",
              "          '<a target=\"_blank\" href=https://colab.research.google.com/notebooks/data_table.ipynb>data table notebook</a>'\n",
              "          + ' to learn more about interactive tables.';\n",
              "        element.innerHTML = '';\n",
              "        dataTable['output_type'] = 'display_data';\n",
              "        await google.colab.output.renderOutput(dataTable, element);\n",
              "        const docLink = document.createElement('div');\n",
              "        docLink.innerHTML = docLinkHtml;\n",
              "        element.appendChild(docLink);\n",
              "      }\n",
              "    </script>\n",
              "  </div>\n",
              "\n",
              "\n",
              "<div id=\"df-b75d165f-187c-4fbb-aeac-dda16860ee78\">\n",
              "  <button class=\"colab-df-quickchart\" onclick=\"quickchart('df-b75d165f-187c-4fbb-aeac-dda16860ee78')\"\n",
              "            title=\"Suggest charts\"\n",
              "            style=\"display:none;\">\n",
              "\n",
              "<svg xmlns=\"http://www.w3.org/2000/svg\" height=\"24px\"viewBox=\"0 0 24 24\"\n",
              "     width=\"24px\">\n",
              "    <g>\n",
              "        <path d=\"M19 3H5c-1.1 0-2 .9-2 2v14c0 1.1.9 2 2 2h14c1.1 0 2-.9 2-2V5c0-1.1-.9-2-2-2zM9 17H7v-7h2v7zm4 0h-2V7h2v10zm4 0h-2v-4h2v4z\"/>\n",
              "    </g>\n",
              "</svg>\n",
              "  </button>\n",
              "\n",
              "<style>\n",
              "  .colab-df-quickchart {\n",
              "      --bg-color: #E8F0FE;\n",
              "      --fill-color: #1967D2;\n",
              "      --hover-bg-color: #E2EBFA;\n",
              "      --hover-fill-color: #174EA6;\n",
              "      --disabled-fill-color: #AAA;\n",
              "      --disabled-bg-color: #DDD;\n",
              "  }\n",
              "\n",
              "  [theme=dark] .colab-df-quickchart {\n",
              "      --bg-color: #3B4455;\n",
              "      --fill-color: #D2E3FC;\n",
              "      --hover-bg-color: #434B5C;\n",
              "      --hover-fill-color: #FFFFFF;\n",
              "      --disabled-bg-color: #3B4455;\n",
              "      --disabled-fill-color: #666;\n",
              "  }\n",
              "\n",
              "  .colab-df-quickchart {\n",
              "    background-color: var(--bg-color);\n",
              "    border: none;\n",
              "    border-radius: 50%;\n",
              "    cursor: pointer;\n",
              "    display: none;\n",
              "    fill: var(--fill-color);\n",
              "    height: 32px;\n",
              "    padding: 0;\n",
              "    width: 32px;\n",
              "  }\n",
              "\n",
              "  .colab-df-quickchart:hover {\n",
              "    background-color: var(--hover-bg-color);\n",
              "    box-shadow: 0 1px 2px rgba(60, 64, 67, 0.3), 0 1px 3px 1px rgba(60, 64, 67, 0.15);\n",
              "    fill: var(--button-hover-fill-color);\n",
              "  }\n",
              "\n",
              "  .colab-df-quickchart-complete:disabled,\n",
              "  .colab-df-quickchart-complete:disabled:hover {\n",
              "    background-color: var(--disabled-bg-color);\n",
              "    fill: var(--disabled-fill-color);\n",
              "    box-shadow: none;\n",
              "  }\n",
              "\n",
              "  .colab-df-spinner {\n",
              "    border: 2px solid var(--fill-color);\n",
              "    border-color: transparent;\n",
              "    border-bottom-color: var(--fill-color);\n",
              "    animation:\n",
              "      spin 1s steps(1) infinite;\n",
              "  }\n",
              "\n",
              "  @keyframes spin {\n",
              "    0% {\n",
              "      border-color: transparent;\n",
              "      border-bottom-color: var(--fill-color);\n",
              "      border-left-color: var(--fill-color);\n",
              "    }\n",
              "    20% {\n",
              "      border-color: transparent;\n",
              "      border-left-color: var(--fill-color);\n",
              "      border-top-color: var(--fill-color);\n",
              "    }\n",
              "    30% {\n",
              "      border-color: transparent;\n",
              "      border-left-color: var(--fill-color);\n",
              "      border-top-color: var(--fill-color);\n",
              "      border-right-color: var(--fill-color);\n",
              "    }\n",
              "    40% {\n",
              "      border-color: transparent;\n",
              "      border-right-color: var(--fill-color);\n",
              "      border-top-color: var(--fill-color);\n",
              "    }\n",
              "    60% {\n",
              "      border-color: transparent;\n",
              "      border-right-color: var(--fill-color);\n",
              "    }\n",
              "    80% {\n",
              "      border-color: transparent;\n",
              "      border-right-color: var(--fill-color);\n",
              "      border-bottom-color: var(--fill-color);\n",
              "    }\n",
              "    90% {\n",
              "      border-color: transparent;\n",
              "      border-bottom-color: var(--fill-color);\n",
              "    }\n",
              "  }\n",
              "</style>\n",
              "\n",
              "  <script>\n",
              "    async function quickchart(key) {\n",
              "      const quickchartButtonEl =\n",
              "        document.querySelector('#' + key + ' button');\n",
              "      quickchartButtonEl.disabled = true;  // To prevent multiple clicks.\n",
              "      quickchartButtonEl.classList.add('colab-df-spinner');\n",
              "      try {\n",
              "        const charts = await google.colab.kernel.invokeFunction(\n",
              "            'suggestCharts', [key], {});\n",
              "      } catch (error) {\n",
              "        console.error('Error during call to suggestCharts:', error);\n",
              "      }\n",
              "      quickchartButtonEl.classList.remove('colab-df-spinner');\n",
              "      quickchartButtonEl.classList.add('colab-df-quickchart-complete');\n",
              "    }\n",
              "    (() => {\n",
              "      let quickchartButtonEl =\n",
              "        document.querySelector('#df-b75d165f-187c-4fbb-aeac-dda16860ee78 button');\n",
              "      quickchartButtonEl.style.display =\n",
              "        google.colab.kernel.accessAllowed ? 'block' : 'none';\n",
              "    })();\n",
              "  </script>\n",
              "</div>\n",
              "\n",
              "    </div>\n",
              "  </div>\n"
            ],
            "application/vnd.google.colaboratory.intrinsic+json": {
              "type": "dataframe",
              "variable_name": "shop",
              "summary": "{\n  \"name\": \"shop\",\n  \"rows\": 3900,\n  \"fields\": [\n    {\n      \"column\": \"Customer ID\",\n      \"properties\": {\n        \"dtype\": \"number\",\n        \"std\": 1125,\n        \"min\": 1,\n        \"max\": 3900,\n        \"num_unique_values\": 3900,\n        \"samples\": [\n          840,\n          1718,\n          322\n        ],\n        \"semantic_type\": \"\",\n        \"description\": \"\"\n      }\n    },\n    {\n      \"column\": \"Age\",\n      \"properties\": {\n        \"dtype\": \"number\",\n        \"std\": 15,\n        \"min\": 18,\n        \"max\": 70,\n        \"num_unique_values\": 53,\n        \"samples\": [\n          56,\n          24,\n          51\n        ],\n        \"semantic_type\": \"\",\n        \"description\": \"\"\n      }\n    },\n    {\n      \"column\": \"Gender\",\n      \"properties\": {\n        \"dtype\": \"category\",\n        \"num_unique_values\": 2,\n        \"samples\": [\n          \"Female\",\n          \"Male\"\n        ],\n        \"semantic_type\": \"\",\n        \"description\": \"\"\n      }\n    },\n    {\n      \"column\": \"Item Purchased\",\n      \"properties\": {\n        \"dtype\": \"category\",\n        \"num_unique_values\": 25,\n        \"samples\": [\n          \"Handbag\",\n          \"Jewelry\"\n        ],\n        \"semantic_type\": \"\",\n        \"description\": \"\"\n      }\n    },\n    {\n      \"column\": \"Category\",\n      \"properties\": {\n        \"dtype\": \"category\",\n        \"num_unique_values\": 4,\n        \"samples\": [\n          \"Footwear\",\n          \"Accessories\"\n        ],\n        \"semantic_type\": \"\",\n        \"description\": \"\"\n      }\n    },\n    {\n      \"column\": \"Purchase Amount (USD)\",\n      \"properties\": {\n        \"dtype\": \"number\",\n        \"std\": 23,\n        \"min\": 20,\n        \"max\": 100,\n        \"num_unique_values\": 81,\n        \"samples\": [\n          60,\n          53\n        ],\n        \"semantic_type\": \"\",\n        \"description\": \"\"\n      }\n    },\n    {\n      \"column\": \"Location\",\n      \"properties\": {\n        \"dtype\": \"category\",\n        \"num_unique_values\": 50,\n        \"samples\": [\n          \"New Hampshire\",\n          \"Connecticut\"\n        ],\n        \"semantic_type\": \"\",\n        \"description\": \"\"\n      }\n    },\n    {\n      \"column\": \"Size\",\n      \"properties\": {\n        \"dtype\": \"category\",\n        \"num_unique_values\": 4,\n        \"samples\": [\n          \"S\",\n          \"XL\"\n        ],\n        \"semantic_type\": \"\",\n        \"description\": \"\"\n      }\n    },\n    {\n      \"column\": \"Color\",\n      \"properties\": {\n        \"dtype\": \"category\",\n        \"num_unique_values\": 25,\n        \"samples\": [\n          \"Olive\",\n          \"Red\"\n        ],\n        \"semantic_type\": \"\",\n        \"description\": \"\"\n      }\n    },\n    {\n      \"column\": \"Season\",\n      \"properties\": {\n        \"dtype\": \"category\",\n        \"num_unique_values\": 4,\n        \"samples\": [\n          \"Spring\",\n          \"Fall\"\n        ],\n        \"semantic_type\": \"\",\n        \"description\": \"\"\n      }\n    },\n    {\n      \"column\": \"Review Rating\",\n      \"properties\": {\n        \"dtype\": \"number\",\n        \"std\": 0.7162228139312449,\n        \"min\": 2.5,\n        \"max\": 5.0,\n        \"num_unique_values\": 26,\n        \"samples\": [\n          4.9,\n          5.0\n        ],\n        \"semantic_type\": \"\",\n        \"description\": \"\"\n      }\n    },\n    {\n      \"column\": \"Subscription Status\",\n      \"properties\": {\n        \"dtype\": \"category\",\n        \"num_unique_values\": 2,\n        \"samples\": [\n          \"No\",\n          \"Yes\"\n        ],\n        \"semantic_type\": \"\",\n        \"description\": \"\"\n      }\n    },\n    {\n      \"column\": \"Shipping Type\",\n      \"properties\": {\n        \"dtype\": \"category\",\n        \"num_unique_values\": 6,\n        \"samples\": [\n          \"Express\",\n          \"Free Shipping\"\n        ],\n        \"semantic_type\": \"\",\n        \"description\": \"\"\n      }\n    },\n    {\n      \"column\": \"Discount Applied\",\n      \"properties\": {\n        \"dtype\": \"category\",\n        \"num_unique_values\": 2,\n        \"samples\": [\n          \"No\",\n          \"Yes\"\n        ],\n        \"semantic_type\": \"\",\n        \"description\": \"\"\n      }\n    },\n    {\n      \"column\": \"Promo Code Used\",\n      \"properties\": {\n        \"dtype\": \"category\",\n        \"num_unique_values\": 2,\n        \"samples\": [\n          \"No\",\n          \"Yes\"\n        ],\n        \"semantic_type\": \"\",\n        \"description\": \"\"\n      }\n    },\n    {\n      \"column\": \"Previous Purchases\",\n      \"properties\": {\n        \"dtype\": \"number\",\n        \"std\": 14,\n        \"min\": 1,\n        \"max\": 50,\n        \"num_unique_values\": 50,\n        \"samples\": [\n          36,\n          47\n        ],\n        \"semantic_type\": \"\",\n        \"description\": \"\"\n      }\n    },\n    {\n      \"column\": \"Payment Method\",\n      \"properties\": {\n        \"dtype\": \"category\",\n        \"num_unique_values\": 6,\n        \"samples\": [\n          \"Venmo\",\n          \"Cash\"\n        ],\n        \"semantic_type\": \"\",\n        \"description\": \"\"\n      }\n    },\n    {\n      \"column\": \"Frequency of Purchases\",\n      \"properties\": {\n        \"dtype\": \"category\",\n        \"num_unique_values\": 7,\n        \"samples\": [\n          \"Fortnightly\",\n          \"Weekly\"\n        ],\n        \"semantic_type\": \"\",\n        \"description\": \"\"\n      }\n    }\n  ]\n}"
            }
          },
          "metadata": {},
          "execution_count": 4
        }
      ],
      "source": [
        "# Dataset First Look\n",
        "shop.head()"
      ],
      "id": "LWNFOSvLl09H"
    },
    {
      "cell_type": "code",
      "execution_count": 5,
      "metadata": {
        "colab": {
          "base_uri": "https://localhost:8080/",
          "height": 310
        },
        "id": "I-TPlGhZD4Z6",
        "outputId": "8e738e87-0b88-44ec-c30c-5193054294ef"
      },
      "outputs": [
        {
          "output_type": "execute_result",
          "data": {
            "text/plain": [
              "      Customer ID  Age  Gender Item Purchased     Category  \\\n",
              "3895         3896   40  Female         Hoodie     Clothing   \n",
              "3896         3897   52  Female       Backpack  Accessories   \n",
              "3897         3898   46  Female           Belt  Accessories   \n",
              "3898         3899   44  Female          Shoes     Footwear   \n",
              "3899         3900   52  Female        Handbag  Accessories   \n",
              "\n",
              "      Purchase Amount (USD)    Location Size      Color  Season  \\\n",
              "3895                     28    Virginia    L  Turquoise  Summer   \n",
              "3896                     49        Iowa    L      White  Spring   \n",
              "3897                     33  New Jersey    L      Green  Spring   \n",
              "3898                     77   Minnesota    S      Brown  Summer   \n",
              "3899                     81  California    M      Beige  Spring   \n",
              "\n",
              "      Review Rating Subscription Status   Shipping Type Discount Applied  \\\n",
              "3895            4.2                  No  2-Day Shipping               No   \n",
              "3896            4.5                  No    Store Pickup               No   \n",
              "3897            2.9                  No        Standard               No   \n",
              "3898            3.8                  No         Express               No   \n",
              "3899            3.1                  No    Store Pickup               No   \n",
              "\n",
              "     Promo Code Used  Previous Purchases Payment Method Frequency of Purchases  \n",
              "3895              No                  32          Venmo                 Weekly  \n",
              "3896              No                  41  Bank Transfer              Bi-Weekly  \n",
              "3897              No                  24          Venmo              Quarterly  \n",
              "3898              No                  24          Venmo                 Weekly  \n",
              "3899              No                  33          Venmo              Quarterly  "
            ],
            "text/html": [
              "\n",
              "  <div id=\"df-cb2f28c9-b100-4347-96e8-33022602d84f\" class=\"colab-df-container\">\n",
              "    <div>\n",
              "<style scoped>\n",
              "    .dataframe tbody tr th:only-of-type {\n",
              "        vertical-align: middle;\n",
              "    }\n",
              "\n",
              "    .dataframe tbody tr th {\n",
              "        vertical-align: top;\n",
              "    }\n",
              "\n",
              "    .dataframe thead th {\n",
              "        text-align: right;\n",
              "    }\n",
              "</style>\n",
              "<table border=\"1\" class=\"dataframe\">\n",
              "  <thead>\n",
              "    <tr style=\"text-align: right;\">\n",
              "      <th></th>\n",
              "      <th>Customer ID</th>\n",
              "      <th>Age</th>\n",
              "      <th>Gender</th>\n",
              "      <th>Item Purchased</th>\n",
              "      <th>Category</th>\n",
              "      <th>Purchase Amount (USD)</th>\n",
              "      <th>Location</th>\n",
              "      <th>Size</th>\n",
              "      <th>Color</th>\n",
              "      <th>Season</th>\n",
              "      <th>Review Rating</th>\n",
              "      <th>Subscription Status</th>\n",
              "      <th>Shipping Type</th>\n",
              "      <th>Discount Applied</th>\n",
              "      <th>Promo Code Used</th>\n",
              "      <th>Previous Purchases</th>\n",
              "      <th>Payment Method</th>\n",
              "      <th>Frequency of Purchases</th>\n",
              "    </tr>\n",
              "  </thead>\n",
              "  <tbody>\n",
              "    <tr>\n",
              "      <th>3895</th>\n",
              "      <td>3896</td>\n",
              "      <td>40</td>\n",
              "      <td>Female</td>\n",
              "      <td>Hoodie</td>\n",
              "      <td>Clothing</td>\n",
              "      <td>28</td>\n",
              "      <td>Virginia</td>\n",
              "      <td>L</td>\n",
              "      <td>Turquoise</td>\n",
              "      <td>Summer</td>\n",
              "      <td>4.2</td>\n",
              "      <td>No</td>\n",
              "      <td>2-Day Shipping</td>\n",
              "      <td>No</td>\n",
              "      <td>No</td>\n",
              "      <td>32</td>\n",
              "      <td>Venmo</td>\n",
              "      <td>Weekly</td>\n",
              "    </tr>\n",
              "    <tr>\n",
              "      <th>3896</th>\n",
              "      <td>3897</td>\n",
              "      <td>52</td>\n",
              "      <td>Female</td>\n",
              "      <td>Backpack</td>\n",
              "      <td>Accessories</td>\n",
              "      <td>49</td>\n",
              "      <td>Iowa</td>\n",
              "      <td>L</td>\n",
              "      <td>White</td>\n",
              "      <td>Spring</td>\n",
              "      <td>4.5</td>\n",
              "      <td>No</td>\n",
              "      <td>Store Pickup</td>\n",
              "      <td>No</td>\n",
              "      <td>No</td>\n",
              "      <td>41</td>\n",
              "      <td>Bank Transfer</td>\n",
              "      <td>Bi-Weekly</td>\n",
              "    </tr>\n",
              "    <tr>\n",
              "      <th>3897</th>\n",
              "      <td>3898</td>\n",
              "      <td>46</td>\n",
              "      <td>Female</td>\n",
              "      <td>Belt</td>\n",
              "      <td>Accessories</td>\n",
              "      <td>33</td>\n",
              "      <td>New Jersey</td>\n",
              "      <td>L</td>\n",
              "      <td>Green</td>\n",
              "      <td>Spring</td>\n",
              "      <td>2.9</td>\n",
              "      <td>No</td>\n",
              "      <td>Standard</td>\n",
              "      <td>No</td>\n",
              "      <td>No</td>\n",
              "      <td>24</td>\n",
              "      <td>Venmo</td>\n",
              "      <td>Quarterly</td>\n",
              "    </tr>\n",
              "    <tr>\n",
              "      <th>3898</th>\n",
              "      <td>3899</td>\n",
              "      <td>44</td>\n",
              "      <td>Female</td>\n",
              "      <td>Shoes</td>\n",
              "      <td>Footwear</td>\n",
              "      <td>77</td>\n",
              "      <td>Minnesota</td>\n",
              "      <td>S</td>\n",
              "      <td>Brown</td>\n",
              "      <td>Summer</td>\n",
              "      <td>3.8</td>\n",
              "      <td>No</td>\n",
              "      <td>Express</td>\n",
              "      <td>No</td>\n",
              "      <td>No</td>\n",
              "      <td>24</td>\n",
              "      <td>Venmo</td>\n",
              "      <td>Weekly</td>\n",
              "    </tr>\n",
              "    <tr>\n",
              "      <th>3899</th>\n",
              "      <td>3900</td>\n",
              "      <td>52</td>\n",
              "      <td>Female</td>\n",
              "      <td>Handbag</td>\n",
              "      <td>Accessories</td>\n",
              "      <td>81</td>\n",
              "      <td>California</td>\n",
              "      <td>M</td>\n",
              "      <td>Beige</td>\n",
              "      <td>Spring</td>\n",
              "      <td>3.1</td>\n",
              "      <td>No</td>\n",
              "      <td>Store Pickup</td>\n",
              "      <td>No</td>\n",
              "      <td>No</td>\n",
              "      <td>33</td>\n",
              "      <td>Venmo</td>\n",
              "      <td>Quarterly</td>\n",
              "    </tr>\n",
              "  </tbody>\n",
              "</table>\n",
              "</div>\n",
              "    <div class=\"colab-df-buttons\">\n",
              "\n",
              "  <div class=\"colab-df-container\">\n",
              "    <button class=\"colab-df-convert\" onclick=\"convertToInteractive('df-cb2f28c9-b100-4347-96e8-33022602d84f')\"\n",
              "            title=\"Convert this dataframe to an interactive table.\"\n",
              "            style=\"display:none;\">\n",
              "\n",
              "  <svg xmlns=\"http://www.w3.org/2000/svg\" height=\"24px\" viewBox=\"0 -960 960 960\">\n",
              "    <path d=\"M120-120v-720h720v720H120Zm60-500h600v-160H180v160Zm220 220h160v-160H400v160Zm0 220h160v-160H400v160ZM180-400h160v-160H180v160Zm440 0h160v-160H620v160ZM180-180h160v-160H180v160Zm440 0h160v-160H620v160Z\"/>\n",
              "  </svg>\n",
              "    </button>\n",
              "\n",
              "  <style>\n",
              "    .colab-df-container {\n",
              "      display:flex;\n",
              "      gap: 12px;\n",
              "    }\n",
              "\n",
              "    .colab-df-convert {\n",
              "      background-color: #E8F0FE;\n",
              "      border: none;\n",
              "      border-radius: 50%;\n",
              "      cursor: pointer;\n",
              "      display: none;\n",
              "      fill: #1967D2;\n",
              "      height: 32px;\n",
              "      padding: 0 0 0 0;\n",
              "      width: 32px;\n",
              "    }\n",
              "\n",
              "    .colab-df-convert:hover {\n",
              "      background-color: #E2EBFA;\n",
              "      box-shadow: 0px 1px 2px rgba(60, 64, 67, 0.3), 0px 1px 3px 1px rgba(60, 64, 67, 0.15);\n",
              "      fill: #174EA6;\n",
              "    }\n",
              "\n",
              "    .colab-df-buttons div {\n",
              "      margin-bottom: 4px;\n",
              "    }\n",
              "\n",
              "    [theme=dark] .colab-df-convert {\n",
              "      background-color: #3B4455;\n",
              "      fill: #D2E3FC;\n",
              "    }\n",
              "\n",
              "    [theme=dark] .colab-df-convert:hover {\n",
              "      background-color: #434B5C;\n",
              "      box-shadow: 0px 1px 3px 1px rgba(0, 0, 0, 0.15);\n",
              "      filter: drop-shadow(0px 1px 2px rgba(0, 0, 0, 0.3));\n",
              "      fill: #FFFFFF;\n",
              "    }\n",
              "  </style>\n",
              "\n",
              "    <script>\n",
              "      const buttonEl =\n",
              "        document.querySelector('#df-cb2f28c9-b100-4347-96e8-33022602d84f button.colab-df-convert');\n",
              "      buttonEl.style.display =\n",
              "        google.colab.kernel.accessAllowed ? 'block' : 'none';\n",
              "\n",
              "      async function convertToInteractive(key) {\n",
              "        const element = document.querySelector('#df-cb2f28c9-b100-4347-96e8-33022602d84f');\n",
              "        const dataTable =\n",
              "          await google.colab.kernel.invokeFunction('convertToInteractive',\n",
              "                                                    [key], {});\n",
              "        if (!dataTable) return;\n",
              "\n",
              "        const docLinkHtml = 'Like what you see? Visit the ' +\n",
              "          '<a target=\"_blank\" href=https://colab.research.google.com/notebooks/data_table.ipynb>data table notebook</a>'\n",
              "          + ' to learn more about interactive tables.';\n",
              "        element.innerHTML = '';\n",
              "        dataTable['output_type'] = 'display_data';\n",
              "        await google.colab.output.renderOutput(dataTable, element);\n",
              "        const docLink = document.createElement('div');\n",
              "        docLink.innerHTML = docLinkHtml;\n",
              "        element.appendChild(docLink);\n",
              "      }\n",
              "    </script>\n",
              "  </div>\n",
              "\n",
              "\n",
              "<div id=\"df-e0cc2132-820c-4883-894d-2cf9a305cd38\">\n",
              "  <button class=\"colab-df-quickchart\" onclick=\"quickchart('df-e0cc2132-820c-4883-894d-2cf9a305cd38')\"\n",
              "            title=\"Suggest charts\"\n",
              "            style=\"display:none;\">\n",
              "\n",
              "<svg xmlns=\"http://www.w3.org/2000/svg\" height=\"24px\"viewBox=\"0 0 24 24\"\n",
              "     width=\"24px\">\n",
              "    <g>\n",
              "        <path d=\"M19 3H5c-1.1 0-2 .9-2 2v14c0 1.1.9 2 2 2h14c1.1 0 2-.9 2-2V5c0-1.1-.9-2-2-2zM9 17H7v-7h2v7zm4 0h-2V7h2v10zm4 0h-2v-4h2v4z\"/>\n",
              "    </g>\n",
              "</svg>\n",
              "  </button>\n",
              "\n",
              "<style>\n",
              "  .colab-df-quickchart {\n",
              "      --bg-color: #E8F0FE;\n",
              "      --fill-color: #1967D2;\n",
              "      --hover-bg-color: #E2EBFA;\n",
              "      --hover-fill-color: #174EA6;\n",
              "      --disabled-fill-color: #AAA;\n",
              "      --disabled-bg-color: #DDD;\n",
              "  }\n",
              "\n",
              "  [theme=dark] .colab-df-quickchart {\n",
              "      --bg-color: #3B4455;\n",
              "      --fill-color: #D2E3FC;\n",
              "      --hover-bg-color: #434B5C;\n",
              "      --hover-fill-color: #FFFFFF;\n",
              "      --disabled-bg-color: #3B4455;\n",
              "      --disabled-fill-color: #666;\n",
              "  }\n",
              "\n",
              "  .colab-df-quickchart {\n",
              "    background-color: var(--bg-color);\n",
              "    border: none;\n",
              "    border-radius: 50%;\n",
              "    cursor: pointer;\n",
              "    display: none;\n",
              "    fill: var(--fill-color);\n",
              "    height: 32px;\n",
              "    padding: 0;\n",
              "    width: 32px;\n",
              "  }\n",
              "\n",
              "  .colab-df-quickchart:hover {\n",
              "    background-color: var(--hover-bg-color);\n",
              "    box-shadow: 0 1px 2px rgba(60, 64, 67, 0.3), 0 1px 3px 1px rgba(60, 64, 67, 0.15);\n",
              "    fill: var(--button-hover-fill-color);\n",
              "  }\n",
              "\n",
              "  .colab-df-quickchart-complete:disabled,\n",
              "  .colab-df-quickchart-complete:disabled:hover {\n",
              "    background-color: var(--disabled-bg-color);\n",
              "    fill: var(--disabled-fill-color);\n",
              "    box-shadow: none;\n",
              "  }\n",
              "\n",
              "  .colab-df-spinner {\n",
              "    border: 2px solid var(--fill-color);\n",
              "    border-color: transparent;\n",
              "    border-bottom-color: var(--fill-color);\n",
              "    animation:\n",
              "      spin 1s steps(1) infinite;\n",
              "  }\n",
              "\n",
              "  @keyframes spin {\n",
              "    0% {\n",
              "      border-color: transparent;\n",
              "      border-bottom-color: var(--fill-color);\n",
              "      border-left-color: var(--fill-color);\n",
              "    }\n",
              "    20% {\n",
              "      border-color: transparent;\n",
              "      border-left-color: var(--fill-color);\n",
              "      border-top-color: var(--fill-color);\n",
              "    }\n",
              "    30% {\n",
              "      border-color: transparent;\n",
              "      border-left-color: var(--fill-color);\n",
              "      border-top-color: var(--fill-color);\n",
              "      border-right-color: var(--fill-color);\n",
              "    }\n",
              "    40% {\n",
              "      border-color: transparent;\n",
              "      border-right-color: var(--fill-color);\n",
              "      border-top-color: var(--fill-color);\n",
              "    }\n",
              "    60% {\n",
              "      border-color: transparent;\n",
              "      border-right-color: var(--fill-color);\n",
              "    }\n",
              "    80% {\n",
              "      border-color: transparent;\n",
              "      border-right-color: var(--fill-color);\n",
              "      border-bottom-color: var(--fill-color);\n",
              "    }\n",
              "    90% {\n",
              "      border-color: transparent;\n",
              "      border-bottom-color: var(--fill-color);\n",
              "    }\n",
              "  }\n",
              "</style>\n",
              "\n",
              "  <script>\n",
              "    async function quickchart(key) {\n",
              "      const quickchartButtonEl =\n",
              "        document.querySelector('#' + key + ' button');\n",
              "      quickchartButtonEl.disabled = true;  // To prevent multiple clicks.\n",
              "      quickchartButtonEl.classList.add('colab-df-spinner');\n",
              "      try {\n",
              "        const charts = await google.colab.kernel.invokeFunction(\n",
              "            'suggestCharts', [key], {});\n",
              "      } catch (error) {\n",
              "        console.error('Error during call to suggestCharts:', error);\n",
              "      }\n",
              "      quickchartButtonEl.classList.remove('colab-df-spinner');\n",
              "      quickchartButtonEl.classList.add('colab-df-quickchart-complete');\n",
              "    }\n",
              "    (() => {\n",
              "      let quickchartButtonEl =\n",
              "        document.querySelector('#df-e0cc2132-820c-4883-894d-2cf9a305cd38 button');\n",
              "      quickchartButtonEl.style.display =\n",
              "        google.colab.kernel.accessAllowed ? 'block' : 'none';\n",
              "    })();\n",
              "  </script>\n",
              "</div>\n",
              "\n",
              "    </div>\n",
              "  </div>\n"
            ],
            "application/vnd.google.colaboratory.intrinsic+json": {
              "type": "dataframe",
              "summary": "{\n  \"name\": \"shop\",\n  \"rows\": 5,\n  \"fields\": [\n    {\n      \"column\": \"Customer ID\",\n      \"properties\": {\n        \"dtype\": \"number\",\n        \"std\": 1,\n        \"min\": 3896,\n        \"max\": 3900,\n        \"num_unique_values\": 5,\n        \"samples\": [\n          3897,\n          3900,\n          3898\n        ],\n        \"semantic_type\": \"\",\n        \"description\": \"\"\n      }\n    },\n    {\n      \"column\": \"Age\",\n      \"properties\": {\n        \"dtype\": \"number\",\n        \"std\": 5,\n        \"min\": 40,\n        \"max\": 52,\n        \"num_unique_values\": 4,\n        \"samples\": [\n          52,\n          44,\n          40\n        ],\n        \"semantic_type\": \"\",\n        \"description\": \"\"\n      }\n    },\n    {\n      \"column\": \"Gender\",\n      \"properties\": {\n        \"dtype\": \"category\",\n        \"num_unique_values\": 1,\n        \"samples\": [\n          \"Female\"\n        ],\n        \"semantic_type\": \"\",\n        \"description\": \"\"\n      }\n    },\n    {\n      \"column\": \"Item Purchased\",\n      \"properties\": {\n        \"dtype\": \"string\",\n        \"num_unique_values\": 5,\n        \"samples\": [\n          \"Backpack\"\n        ],\n        \"semantic_type\": \"\",\n        \"description\": \"\"\n      }\n    },\n    {\n      \"column\": \"Category\",\n      \"properties\": {\n        \"dtype\": \"string\",\n        \"num_unique_values\": 3,\n        \"samples\": [\n          \"Clothing\"\n        ],\n        \"semantic_type\": \"\",\n        \"description\": \"\"\n      }\n    },\n    {\n      \"column\": \"Purchase Amount (USD)\",\n      \"properties\": {\n        \"dtype\": \"number\",\n        \"std\": 24,\n        \"min\": 28,\n        \"max\": 81,\n        \"num_unique_values\": 5,\n        \"samples\": [\n          49\n        ],\n        \"semantic_type\": \"\",\n        \"description\": \"\"\n      }\n    },\n    {\n      \"column\": \"Location\",\n      \"properties\": {\n        \"dtype\": \"string\",\n        \"num_unique_values\": 5,\n        \"samples\": [\n          \"Iowa\"\n        ],\n        \"semantic_type\": \"\",\n        \"description\": \"\"\n      }\n    },\n    {\n      \"column\": \"Size\",\n      \"properties\": {\n        \"dtype\": \"string\",\n        \"num_unique_values\": 3,\n        \"samples\": [\n          \"L\"\n        ],\n        \"semantic_type\": \"\",\n        \"description\": \"\"\n      }\n    },\n    {\n      \"column\": \"Color\",\n      \"properties\": {\n        \"dtype\": \"string\",\n        \"num_unique_values\": 5,\n        \"samples\": [\n          \"White\"\n        ],\n        \"semantic_type\": \"\",\n        \"description\": \"\"\n      }\n    },\n    {\n      \"column\": \"Season\",\n      \"properties\": {\n        \"dtype\": \"category\",\n        \"num_unique_values\": 2,\n        \"samples\": [\n          \"Spring\"\n        ],\n        \"semantic_type\": \"\",\n        \"description\": \"\"\n      }\n    },\n    {\n      \"column\": \"Review Rating\",\n      \"properties\": {\n        \"dtype\": \"number\",\n        \"std\": 0.6892024376045112,\n        \"min\": 2.9,\n        \"max\": 4.5,\n        \"num_unique_values\": 5,\n        \"samples\": [\n          4.5\n        ],\n        \"semantic_type\": \"\",\n        \"description\": \"\"\n      }\n    },\n    {\n      \"column\": \"Subscription Status\",\n      \"properties\": {\n        \"dtype\": \"category\",\n        \"num_unique_values\": 1,\n        \"samples\": [\n          \"No\"\n        ],\n        \"semantic_type\": \"\",\n        \"description\": \"\"\n      }\n    },\n    {\n      \"column\": \"Shipping Type\",\n      \"properties\": {\n        \"dtype\": \"string\",\n        \"num_unique_values\": 4,\n        \"samples\": [\n          \"Store Pickup\"\n        ],\n        \"semantic_type\": \"\",\n        \"description\": \"\"\n      }\n    },\n    {\n      \"column\": \"Discount Applied\",\n      \"properties\": {\n        \"dtype\": \"category\",\n        \"num_unique_values\": 1,\n        \"samples\": [\n          \"No\"\n        ],\n        \"semantic_type\": \"\",\n        \"description\": \"\"\n      }\n    },\n    {\n      \"column\": \"Promo Code Used\",\n      \"properties\": {\n        \"dtype\": \"category\",\n        \"num_unique_values\": 1,\n        \"samples\": [\n          \"No\"\n        ],\n        \"semantic_type\": \"\",\n        \"description\": \"\"\n      }\n    },\n    {\n      \"column\": \"Previous Purchases\",\n      \"properties\": {\n        \"dtype\": \"number\",\n        \"std\": 7,\n        \"min\": 24,\n        \"max\": 41,\n        \"num_unique_values\": 4,\n        \"samples\": [\n          41\n        ],\n        \"semantic_type\": \"\",\n        \"description\": \"\"\n      }\n    },\n    {\n      \"column\": \"Payment Method\",\n      \"properties\": {\n        \"dtype\": \"category\",\n        \"num_unique_values\": 2,\n        \"samples\": [\n          \"Bank Transfer\"\n        ],\n        \"semantic_type\": \"\",\n        \"description\": \"\"\n      }\n    },\n    {\n      \"column\": \"Frequency of Purchases\",\n      \"properties\": {\n        \"dtype\": \"string\",\n        \"num_unique_values\": 3,\n        \"samples\": [\n          \"Weekly\"\n        ],\n        \"semantic_type\": \"\",\n        \"description\": \"\"\n      }\n    }\n  ]\n}"
            }
          },
          "metadata": {},
          "execution_count": 5
        }
      ],
      "source": [
        "# Dataset last Look\n",
        "shop.tail()"
      ],
      "id": "I-TPlGhZD4Z6"
    },
    {
      "cell_type": "markdown",
      "metadata": {
        "id": "7hBIi_osiCS2"
      },
      "source": [
        "### Dataset Rows & Columns count"
      ],
      "id": "7hBIi_osiCS2"
    },
    {
      "cell_type": "code",
      "execution_count": 6,
      "metadata": {
        "colab": {
          "base_uri": "https://localhost:8080/"
        },
        "id": "Kllu7SJgmLij",
        "outputId": "fd5c3a4b-8d14-4dd9-a87b-1d9b849a2320"
      },
      "outputs": [
        {
          "output_type": "execute_result",
          "data": {
            "text/plain": [
              "(3900, 18)"
            ]
          },
          "metadata": {},
          "execution_count": 6
        }
      ],
      "source": [
        "# Dataset Rows & Columns count\n",
        "shop.shape"
      ],
      "id": "Kllu7SJgmLij"
    },
    {
      "cell_type": "markdown",
      "metadata": {
        "id": "JlHwYmJAmNHm"
      },
      "source": [
        "### Dataset Information"
      ],
      "id": "JlHwYmJAmNHm"
    },
    {
      "cell_type": "code",
      "execution_count": 7,
      "metadata": {
        "colab": {
          "base_uri": "https://localhost:8080/"
        },
        "id": "e9hRXRi6meOf",
        "outputId": "e5b3e299-daff-4d9c-df86-97ea3620b4ee"
      },
      "outputs": [
        {
          "output_type": "stream",
          "name": "stdout",
          "text": [
            "<class 'pandas.core.frame.DataFrame'>\n",
            "RangeIndex: 3900 entries, 0 to 3899\n",
            "Data columns (total 18 columns):\n",
            " #   Column                  Non-Null Count  Dtype  \n",
            "---  ------                  --------------  -----  \n",
            " 0   Customer ID             3900 non-null   int64  \n",
            " 1   Age                     3900 non-null   int64  \n",
            " 2   Gender                  3900 non-null   object \n",
            " 3   Item Purchased          3900 non-null   object \n",
            " 4   Category                3900 non-null   object \n",
            " 5   Purchase Amount (USD)   3900 non-null   int64  \n",
            " 6   Location                3900 non-null   object \n",
            " 7   Size                    3900 non-null   object \n",
            " 8   Color                   3900 non-null   object \n",
            " 9   Season                  3900 non-null   object \n",
            " 10  Review Rating           3900 non-null   float64\n",
            " 11  Subscription Status     3900 non-null   object \n",
            " 12  Shipping Type           3900 non-null   object \n",
            " 13  Discount Applied        3900 non-null   object \n",
            " 14  Promo Code Used         3900 non-null   object \n",
            " 15  Previous Purchases      3900 non-null   int64  \n",
            " 16  Payment Method          3900 non-null   object \n",
            " 17  Frequency of Purchases  3900 non-null   object \n",
            "dtypes: float64(1), int64(4), object(13)\n",
            "memory usage: 548.6+ KB\n"
          ]
        }
      ],
      "source": [
        "# Dataset Info to get summary of dataset\n",
        "shop.info()"
      ],
      "id": "e9hRXRi6meOf"
    },
    {
      "cell_type": "markdown",
      "metadata": {
        "id": "1IJkjC8RFMEP"
      },
      "source": [
        "creating a data dictionary for a dataset using pandas, we can summarizes each column's details, including column names, data types, number of unique values, missing values, and sample values. This is helpful for understanding the structure and contents of the dataset."
      ],
      "id": "1IJkjC8RFMEP"
    },
    {
      "cell_type": "code",
      "execution_count": 8,
      "metadata": {
        "colab": {
          "base_uri": "https://localhost:8080/"
        },
        "id": "0id6mIrLErNC",
        "outputId": "3d16c568-7635-49a6-9dfb-1d93c720f50b"
      },
      "outputs": [
        {
          "output_type": "stream",
          "name": "stdout",
          "text": [
            "                                   Column Name Data Type  \\\n",
            "Customer ID                        Customer ID     int64   \n",
            "Age                                        Age     int64   \n",
            "Gender                                  Gender    object   \n",
            "Item Purchased                  Item Purchased    object   \n",
            "Category                              Category    object   \n",
            "Purchase Amount (USD)    Purchase Amount (USD)     int64   \n",
            "Location                              Location    object   \n",
            "Size                                      Size    object   \n",
            "Color                                    Color    object   \n",
            "Season                                  Season    object   \n",
            "Review Rating                    Review Rating   float64   \n",
            "Subscription Status        Subscription Status    object   \n",
            "Shipping Type                    Shipping Type    object   \n",
            "Discount Applied              Discount Applied    object   \n",
            "Promo Code Used                Promo Code Used    object   \n",
            "Previous Purchases          Previous Purchases     int64   \n",
            "Payment Method                  Payment Method    object   \n",
            "Frequency of Purchases  Frequency of Purchases    object   \n",
            "\n",
            "                        Number of Unique Values  Number of Missing Values  \\\n",
            "Customer ID                                3900                         0   \n",
            "Age                                          53                         0   \n",
            "Gender                                        2                         0   \n",
            "Item Purchased                               25                         0   \n",
            "Category                                      4                         0   \n",
            "Purchase Amount (USD)                        81                         0   \n",
            "Location                                     50                         0   \n",
            "Size                                          4                         0   \n",
            "Color                                        25                         0   \n",
            "Season                                        4                         0   \n",
            "Review Rating                                26                         0   \n",
            "Subscription Status                           2                         0   \n",
            "Shipping Type                                 6                         0   \n",
            "Discount Applied                              2                         0   \n",
            "Promo Code Used                               2                         0   \n",
            "Previous Purchases                           50                         0   \n",
            "Payment Method                                6                         0   \n",
            "Frequency of Purchases                        7                         0   \n",
            "\n",
            "                                                            Sample Values  \n",
            "Customer ID                                               [1, 2, 3, 4, 5]  \n",
            "Age                                                  [55, 19, 50, 21, 45]  \n",
            "Gender                                                     [Male, Female]  \n",
            "Item Purchased                [Blouse, Sweater, Jeans, Sandals, Sneakers]  \n",
            "Category                     [Clothing, Footwear, Outerwear, Accessories]  \n",
            "Purchase Amount (USD)                                [53, 64, 73, 90, 49]  \n",
            "Location                [Kentucky, Maine, Massachusetts, Rhode Island,...  \n",
            "Size                                                        [L, S, M, XL]  \n",
            "Color                          [Gray, Maroon, Turquoise, White, Charcoal]  \n",
            "Season                                     [Winter, Spring, Summer, Fall]  \n",
            "Review Rating                                   [3.1, 3.5, 2.7, 2.9, 3.2]  \n",
            "Subscription Status                                             [Yes, No]  \n",
            "Shipping Type           [Express, Free Shipping, Next Day Air, Standar...  \n",
            "Discount Applied                                                [Yes, No]  \n",
            "Promo Code Used                                                 [Yes, No]  \n",
            "Previous Purchases                                    [14, 2, 23, 49, 31]  \n",
            "Payment Method          [Venmo, Cash, Credit Card, PayPal, Bank Transfer]  \n",
            "Frequency of Purchases  [Fortnightly, Weekly, Annually, Quarterly, Bi-...  \n"
          ]
        }
      ],
      "source": [
        "# Creating Data dictionary\n",
        "import pandas as pd\n",
        "\n",
        "def create_data_dictionary(df):\n",
        "    data_dict = pd.DataFrame({\n",
        "        'Column Name': df.columns,\n",
        "        'Data Type': df.dtypes,\n",
        "        'Number of Unique Values': df.nunique(),\n",
        "        'Number of Missing Values': df.isnull().sum(),\n",
        "        'Sample Values': df.apply(lambda x: list(x.dropna().unique()[:5]))  # shows up to 5 unique values\n",
        "    })\n",
        "    return data_dict\n",
        "\n",
        "\n",
        "data_dictionary = create_data_dictionary(shop)\n",
        "print(data_dictionary)\n"
      ],
      "id": "0id6mIrLErNC"
    },
    {
      "cell_type": "markdown",
      "metadata": {
        "id": "35m5QtbWiB9F"
      },
      "source": [
        "#### Duplicate Values"
      ],
      "id": "35m5QtbWiB9F"
    },
    {
      "cell_type": "code",
      "execution_count": 9,
      "metadata": {
        "colab": {
          "base_uri": "https://localhost:8080/"
        },
        "id": "pZhAaeXcpBAt",
        "outputId": "7d8ec50e-fb6b-4f82-e5a1-21e17b2a25df"
      },
      "outputs": [
        {
          "output_type": "execute_result",
          "data": {
            "text/plain": [
              "0"
            ]
          },
          "metadata": {},
          "execution_count": 9
        }
      ],
      "source": [
        "# Dataset Duplicate Value Count\n",
        "shop.duplicated().sum()"
      ],
      "id": "pZhAaeXcpBAt"
    },
    {
      "cell_type": "markdown",
      "metadata": {
        "id": "GLuLzc8rpinN"
      },
      "source": [
        "there are no duplicate values"
      ],
      "id": "GLuLzc8rpinN"
    },
    {
      "cell_type": "markdown",
      "metadata": {
        "id": "PoPl-ycgm1ru"
      },
      "source": [
        "#### Missing Values/Null Values"
      ],
      "id": "PoPl-ycgm1ru"
    },
    {
      "cell_type": "code",
      "execution_count": 10,
      "metadata": {
        "colab": {
          "base_uri": "https://localhost:8080/"
        },
        "id": "GgHWkxvamxVg",
        "outputId": "8d5d0909-4cec-45e1-b70d-ba2b73414a6f"
      },
      "outputs": [
        {
          "output_type": "stream",
          "name": "stdout",
          "text": [
            "Customer ID               0\n",
            "Age                       0\n",
            "Gender                    0\n",
            "Item Purchased            0\n",
            "Category                  0\n",
            "Purchase Amount (USD)     0\n",
            "Location                  0\n",
            "Size                      0\n",
            "Color                     0\n",
            "Season                    0\n",
            "Review Rating             0\n",
            "Subscription Status       0\n",
            "Shipping Type             0\n",
            "Discount Applied          0\n",
            "Promo Code Used           0\n",
            "Previous Purchases        0\n",
            "Payment Method            0\n",
            "Frequency of Purchases    0\n",
            "dtype: int64\n"
          ]
        }
      ],
      "source": [
        "# Missing Values/Null Values Count\n",
        "print(shop.isnull().sum())"
      ],
      "id": "GgHWkxvamxVg"
    },
    {
      "cell_type": "code",
      "execution_count": 11,
      "metadata": {
        "colab": {
          "base_uri": "https://localhost:8080/"
        },
        "id": "vev2YuM9gKSR",
        "outputId": "8fe7f54b-816d-40f0-d9d3-5ab939844f0a"
      },
      "outputs": [
        {
          "output_type": "stream",
          "name": "stdout",
          "text": [
            "0\n"
          ]
        }
      ],
      "source": [
        "# Missing Values/Null Values Count\n",
        "print((shop.isnull().sum()).sum())"
      ],
      "id": "vev2YuM9gKSR"
    },
    {
      "cell_type": "markdown",
      "metadata": {
        "id": "H0kj-8xxnORC"
      },
      "source": [
        "### What did you know about your dataset?"
      ],
      "id": "H0kj-8xxnORC"
    },
    {
      "cell_type": "markdown",
      "metadata": {
        "id": "nA9Y7ga8ng1Z"
      },
      "source": [
        "## ***2. Understanding Your Variables***"
      ],
      "id": "nA9Y7ga8ng1Z"
    },
    {
      "cell_type": "code",
      "execution_count": 12,
      "metadata": {
        "colab": {
          "base_uri": "https://localhost:8080/"
        },
        "id": "XxYCaalemiXb",
        "outputId": "68d054a9-7607-43e8-c161-8b0a1f8ebfb4"
      },
      "outputs": [
        {
          "output_type": "execute_result",
          "data": {
            "text/plain": [
              "Index(['Customer ID', 'Age', 'Gender', 'Item Purchased', 'Category',\n",
              "       'Purchase Amount (USD)', 'Location', 'Size', 'Color', 'Season',\n",
              "       'Review Rating', 'Subscription Status', 'Shipping Type',\n",
              "       'Discount Applied', 'Promo Code Used', 'Previous Purchases',\n",
              "       'Payment Method', 'Frequency of Purchases'],\n",
              "      dtype='object')"
            ]
          },
          "metadata": {},
          "execution_count": 12
        }
      ],
      "source": [
        "# Dataset Columns\n",
        "shop.columns"
      ],
      "id": "XxYCaalemiXb"
    },
    {
      "cell_type": "code",
      "execution_count": 13,
      "metadata": {
        "colab": {
          "base_uri": "https://localhost:8080/"
        },
        "id": "2xdDkxB7oBnX",
        "outputId": "f997e6ff-2d63-475e-b332-4e0247c21ff5"
      },
      "outputs": [
        {
          "output_type": "stream",
          "name": "stdout",
          "text": [
            "Number of columns in Airbnb_df: 18\n"
          ]
        }
      ],
      "source": [
        "# Number of columns in Airbnb_df\n",
        "column_count = len(shop.columns)\n",
        "print(\"Number of columns in Airbnb_df:\", column_count)\n"
      ],
      "id": "2xdDkxB7oBnX"
    },
    {
      "cell_type": "code",
      "execution_count": 14,
      "metadata": {
        "colab": {
          "base_uri": "https://localhost:8080/",
          "height": 300
        },
        "id": "GRyRLp4QmfuR",
        "outputId": "88776e76-786b-4905-ee12-5ed886ad7cfa"
      },
      "outputs": [
        {
          "output_type": "execute_result",
          "data": {
            "text/plain": [
              "       Customer ID          Age  Purchase Amount (USD)  Review Rating  \\\n",
              "count  3900.000000  3900.000000            3900.000000    3900.000000   \n",
              "mean   1950.500000    44.068462              59.764359       3.749949   \n",
              "std    1125.977353    15.207589              23.685392       0.716223   \n",
              "min       1.000000    18.000000              20.000000       2.500000   \n",
              "25%     975.750000    31.000000              39.000000       3.100000   \n",
              "50%    1950.500000    44.000000              60.000000       3.700000   \n",
              "75%    2925.250000    57.000000              81.000000       4.400000   \n",
              "max    3900.000000    70.000000             100.000000       5.000000   \n",
              "\n",
              "       Previous Purchases  \n",
              "count         3900.000000  \n",
              "mean            25.351538  \n",
              "std             14.447125  \n",
              "min              1.000000  \n",
              "25%             13.000000  \n",
              "50%             25.000000  \n",
              "75%             38.000000  \n",
              "max             50.000000  "
            ],
            "text/html": [
              "\n",
              "  <div id=\"df-0f7f96d8-8db1-4195-8eea-c2d65eb7f32d\" class=\"colab-df-container\">\n",
              "    <div>\n",
              "<style scoped>\n",
              "    .dataframe tbody tr th:only-of-type {\n",
              "        vertical-align: middle;\n",
              "    }\n",
              "\n",
              "    .dataframe tbody tr th {\n",
              "        vertical-align: top;\n",
              "    }\n",
              "\n",
              "    .dataframe thead th {\n",
              "        text-align: right;\n",
              "    }\n",
              "</style>\n",
              "<table border=\"1\" class=\"dataframe\">\n",
              "  <thead>\n",
              "    <tr style=\"text-align: right;\">\n",
              "      <th></th>\n",
              "      <th>Customer ID</th>\n",
              "      <th>Age</th>\n",
              "      <th>Purchase Amount (USD)</th>\n",
              "      <th>Review Rating</th>\n",
              "      <th>Previous Purchases</th>\n",
              "    </tr>\n",
              "  </thead>\n",
              "  <tbody>\n",
              "    <tr>\n",
              "      <th>count</th>\n",
              "      <td>3900.000000</td>\n",
              "      <td>3900.000000</td>\n",
              "      <td>3900.000000</td>\n",
              "      <td>3900.000000</td>\n",
              "      <td>3900.000000</td>\n",
              "    </tr>\n",
              "    <tr>\n",
              "      <th>mean</th>\n",
              "      <td>1950.500000</td>\n",
              "      <td>44.068462</td>\n",
              "      <td>59.764359</td>\n",
              "      <td>3.749949</td>\n",
              "      <td>25.351538</td>\n",
              "    </tr>\n",
              "    <tr>\n",
              "      <th>std</th>\n",
              "      <td>1125.977353</td>\n",
              "      <td>15.207589</td>\n",
              "      <td>23.685392</td>\n",
              "      <td>0.716223</td>\n",
              "      <td>14.447125</td>\n",
              "    </tr>\n",
              "    <tr>\n",
              "      <th>min</th>\n",
              "      <td>1.000000</td>\n",
              "      <td>18.000000</td>\n",
              "      <td>20.000000</td>\n",
              "      <td>2.500000</td>\n",
              "      <td>1.000000</td>\n",
              "    </tr>\n",
              "    <tr>\n",
              "      <th>25%</th>\n",
              "      <td>975.750000</td>\n",
              "      <td>31.000000</td>\n",
              "      <td>39.000000</td>\n",
              "      <td>3.100000</td>\n",
              "      <td>13.000000</td>\n",
              "    </tr>\n",
              "    <tr>\n",
              "      <th>50%</th>\n",
              "      <td>1950.500000</td>\n",
              "      <td>44.000000</td>\n",
              "      <td>60.000000</td>\n",
              "      <td>3.700000</td>\n",
              "      <td>25.000000</td>\n",
              "    </tr>\n",
              "    <tr>\n",
              "      <th>75%</th>\n",
              "      <td>2925.250000</td>\n",
              "      <td>57.000000</td>\n",
              "      <td>81.000000</td>\n",
              "      <td>4.400000</td>\n",
              "      <td>38.000000</td>\n",
              "    </tr>\n",
              "    <tr>\n",
              "      <th>max</th>\n",
              "      <td>3900.000000</td>\n",
              "      <td>70.000000</td>\n",
              "      <td>100.000000</td>\n",
              "      <td>5.000000</td>\n",
              "      <td>50.000000</td>\n",
              "    </tr>\n",
              "  </tbody>\n",
              "</table>\n",
              "</div>\n",
              "    <div class=\"colab-df-buttons\">\n",
              "\n",
              "  <div class=\"colab-df-container\">\n",
              "    <button class=\"colab-df-convert\" onclick=\"convertToInteractive('df-0f7f96d8-8db1-4195-8eea-c2d65eb7f32d')\"\n",
              "            title=\"Convert this dataframe to an interactive table.\"\n",
              "            style=\"display:none;\">\n",
              "\n",
              "  <svg xmlns=\"http://www.w3.org/2000/svg\" height=\"24px\" viewBox=\"0 -960 960 960\">\n",
              "    <path d=\"M120-120v-720h720v720H120Zm60-500h600v-160H180v160Zm220 220h160v-160H400v160Zm0 220h160v-160H400v160ZM180-400h160v-160H180v160Zm440 0h160v-160H620v160ZM180-180h160v-160H180v160Zm440 0h160v-160H620v160Z\"/>\n",
              "  </svg>\n",
              "    </button>\n",
              "\n",
              "  <style>\n",
              "    .colab-df-container {\n",
              "      display:flex;\n",
              "      gap: 12px;\n",
              "    }\n",
              "\n",
              "    .colab-df-convert {\n",
              "      background-color: #E8F0FE;\n",
              "      border: none;\n",
              "      border-radius: 50%;\n",
              "      cursor: pointer;\n",
              "      display: none;\n",
              "      fill: #1967D2;\n",
              "      height: 32px;\n",
              "      padding: 0 0 0 0;\n",
              "      width: 32px;\n",
              "    }\n",
              "\n",
              "    .colab-df-convert:hover {\n",
              "      background-color: #E2EBFA;\n",
              "      box-shadow: 0px 1px 2px rgba(60, 64, 67, 0.3), 0px 1px 3px 1px rgba(60, 64, 67, 0.15);\n",
              "      fill: #174EA6;\n",
              "    }\n",
              "\n",
              "    .colab-df-buttons div {\n",
              "      margin-bottom: 4px;\n",
              "    }\n",
              "\n",
              "    [theme=dark] .colab-df-convert {\n",
              "      background-color: #3B4455;\n",
              "      fill: #D2E3FC;\n",
              "    }\n",
              "\n",
              "    [theme=dark] .colab-df-convert:hover {\n",
              "      background-color: #434B5C;\n",
              "      box-shadow: 0px 1px 3px 1px rgba(0, 0, 0, 0.15);\n",
              "      filter: drop-shadow(0px 1px 2px rgba(0, 0, 0, 0.3));\n",
              "      fill: #FFFFFF;\n",
              "    }\n",
              "  </style>\n",
              "\n",
              "    <script>\n",
              "      const buttonEl =\n",
              "        document.querySelector('#df-0f7f96d8-8db1-4195-8eea-c2d65eb7f32d button.colab-df-convert');\n",
              "      buttonEl.style.display =\n",
              "        google.colab.kernel.accessAllowed ? 'block' : 'none';\n",
              "\n",
              "      async function convertToInteractive(key) {\n",
              "        const element = document.querySelector('#df-0f7f96d8-8db1-4195-8eea-c2d65eb7f32d');\n",
              "        const dataTable =\n",
              "          await google.colab.kernel.invokeFunction('convertToInteractive',\n",
              "                                                    [key], {});\n",
              "        if (!dataTable) return;\n",
              "\n",
              "        const docLinkHtml = 'Like what you see? Visit the ' +\n",
              "          '<a target=\"_blank\" href=https://colab.research.google.com/notebooks/data_table.ipynb>data table notebook</a>'\n",
              "          + ' to learn more about interactive tables.';\n",
              "        element.innerHTML = '';\n",
              "        dataTable['output_type'] = 'display_data';\n",
              "        await google.colab.output.renderOutput(dataTable, element);\n",
              "        const docLink = document.createElement('div');\n",
              "        docLink.innerHTML = docLinkHtml;\n",
              "        element.appendChild(docLink);\n",
              "      }\n",
              "    </script>\n",
              "  </div>\n",
              "\n",
              "\n",
              "<div id=\"df-ad1f9976-d196-42c9-b1a2-e975454592e6\">\n",
              "  <button class=\"colab-df-quickchart\" onclick=\"quickchart('df-ad1f9976-d196-42c9-b1a2-e975454592e6')\"\n",
              "            title=\"Suggest charts\"\n",
              "            style=\"display:none;\">\n",
              "\n",
              "<svg xmlns=\"http://www.w3.org/2000/svg\" height=\"24px\"viewBox=\"0 0 24 24\"\n",
              "     width=\"24px\">\n",
              "    <g>\n",
              "        <path d=\"M19 3H5c-1.1 0-2 .9-2 2v14c0 1.1.9 2 2 2h14c1.1 0 2-.9 2-2V5c0-1.1-.9-2-2-2zM9 17H7v-7h2v7zm4 0h-2V7h2v10zm4 0h-2v-4h2v4z\"/>\n",
              "    </g>\n",
              "</svg>\n",
              "  </button>\n",
              "\n",
              "<style>\n",
              "  .colab-df-quickchart {\n",
              "      --bg-color: #E8F0FE;\n",
              "      --fill-color: #1967D2;\n",
              "      --hover-bg-color: #E2EBFA;\n",
              "      --hover-fill-color: #174EA6;\n",
              "      --disabled-fill-color: #AAA;\n",
              "      --disabled-bg-color: #DDD;\n",
              "  }\n",
              "\n",
              "  [theme=dark] .colab-df-quickchart {\n",
              "      --bg-color: #3B4455;\n",
              "      --fill-color: #D2E3FC;\n",
              "      --hover-bg-color: #434B5C;\n",
              "      --hover-fill-color: #FFFFFF;\n",
              "      --disabled-bg-color: #3B4455;\n",
              "      --disabled-fill-color: #666;\n",
              "  }\n",
              "\n",
              "  .colab-df-quickchart {\n",
              "    background-color: var(--bg-color);\n",
              "    border: none;\n",
              "    border-radius: 50%;\n",
              "    cursor: pointer;\n",
              "    display: none;\n",
              "    fill: var(--fill-color);\n",
              "    height: 32px;\n",
              "    padding: 0;\n",
              "    width: 32px;\n",
              "  }\n",
              "\n",
              "  .colab-df-quickchart:hover {\n",
              "    background-color: var(--hover-bg-color);\n",
              "    box-shadow: 0 1px 2px rgba(60, 64, 67, 0.3), 0 1px 3px 1px rgba(60, 64, 67, 0.15);\n",
              "    fill: var(--button-hover-fill-color);\n",
              "  }\n",
              "\n",
              "  .colab-df-quickchart-complete:disabled,\n",
              "  .colab-df-quickchart-complete:disabled:hover {\n",
              "    background-color: var(--disabled-bg-color);\n",
              "    fill: var(--disabled-fill-color);\n",
              "    box-shadow: none;\n",
              "  }\n",
              "\n",
              "  .colab-df-spinner {\n",
              "    border: 2px solid var(--fill-color);\n",
              "    border-color: transparent;\n",
              "    border-bottom-color: var(--fill-color);\n",
              "    animation:\n",
              "      spin 1s steps(1) infinite;\n",
              "  }\n",
              "\n",
              "  @keyframes spin {\n",
              "    0% {\n",
              "      border-color: transparent;\n",
              "      border-bottom-color: var(--fill-color);\n",
              "      border-left-color: var(--fill-color);\n",
              "    }\n",
              "    20% {\n",
              "      border-color: transparent;\n",
              "      border-left-color: var(--fill-color);\n",
              "      border-top-color: var(--fill-color);\n",
              "    }\n",
              "    30% {\n",
              "      border-color: transparent;\n",
              "      border-left-color: var(--fill-color);\n",
              "      border-top-color: var(--fill-color);\n",
              "      border-right-color: var(--fill-color);\n",
              "    }\n",
              "    40% {\n",
              "      border-color: transparent;\n",
              "      border-right-color: var(--fill-color);\n",
              "      border-top-color: var(--fill-color);\n",
              "    }\n",
              "    60% {\n",
              "      border-color: transparent;\n",
              "      border-right-color: var(--fill-color);\n",
              "    }\n",
              "    80% {\n",
              "      border-color: transparent;\n",
              "      border-right-color: var(--fill-color);\n",
              "      border-bottom-color: var(--fill-color);\n",
              "    }\n",
              "    90% {\n",
              "      border-color: transparent;\n",
              "      border-bottom-color: var(--fill-color);\n",
              "    }\n",
              "  }\n",
              "</style>\n",
              "\n",
              "  <script>\n",
              "    async function quickchart(key) {\n",
              "      const quickchartButtonEl =\n",
              "        document.querySelector('#' + key + ' button');\n",
              "      quickchartButtonEl.disabled = true;  // To prevent multiple clicks.\n",
              "      quickchartButtonEl.classList.add('colab-df-spinner');\n",
              "      try {\n",
              "        const charts = await google.colab.kernel.invokeFunction(\n",
              "            'suggestCharts', [key], {});\n",
              "      } catch (error) {\n",
              "        console.error('Error during call to suggestCharts:', error);\n",
              "      }\n",
              "      quickchartButtonEl.classList.remove('colab-df-spinner');\n",
              "      quickchartButtonEl.classList.add('colab-df-quickchart-complete');\n",
              "    }\n",
              "    (() => {\n",
              "      let quickchartButtonEl =\n",
              "        document.querySelector('#df-ad1f9976-d196-42c9-b1a2-e975454592e6 button');\n",
              "      quickchartButtonEl.style.display =\n",
              "        google.colab.kernel.accessAllowed ? 'block' : 'none';\n",
              "    })();\n",
              "  </script>\n",
              "</div>\n",
              "\n",
              "    </div>\n",
              "  </div>\n"
            ],
            "application/vnd.google.colaboratory.intrinsic+json": {
              "type": "dataframe",
              "summary": "{\n  \"name\": \"shop\",\n  \"rows\": 8,\n  \"fields\": [\n    {\n      \"column\": \"Customer ID\",\n      \"properties\": {\n        \"dtype\": \"number\",\n        \"std\": 1405.274081775269,\n        \"min\": 1.0,\n        \"max\": 3900.0,\n        \"num_unique_values\": 6,\n        \"samples\": [\n          3900.0,\n          1950.5,\n          2925.25\n        ],\n        \"semantic_type\": \"\",\n        \"description\": \"\"\n      }\n    },\n    {\n      \"column\": \"Age\",\n      \"properties\": {\n        \"dtype\": \"number\",\n        \"std\": 1364.878318051572,\n        \"min\": 15.20758912716238,\n        \"max\": 3900.0,\n        \"num_unique_values\": 8,\n        \"samples\": [\n          44.06846153846154,\n          44.0,\n          3900.0\n        ],\n        \"semantic_type\": \"\",\n        \"description\": \"\"\n      }\n    },\n    {\n      \"column\": \"Purchase Amount (USD)\",\n      \"properties\": {\n        \"dtype\": \"number\",\n        \"std\": 1359.7647934740537,\n        \"min\": 20.0,\n        \"max\": 3900.0,\n        \"num_unique_values\": 8,\n        \"samples\": [\n          59.76435897435898,\n          60.0,\n          3900.0\n        ],\n        \"semantic_type\": \"\",\n        \"description\": \"\"\n      }\n    },\n    {\n      \"column\": \"Review Rating\",\n      \"properties\": {\n        \"dtype\": \"number\",\n        \"std\": 1377.6887676679473,\n        \"min\": 0.7162228139312449,\n        \"max\": 3900.0,\n        \"num_unique_values\": 8,\n        \"samples\": [\n          3.7499487179487176,\n          3.7,\n          3900.0\n        ],\n        \"semantic_type\": \"\",\n        \"description\": \"\"\n      }\n    },\n    {\n      \"column\": \"Previous Purchases\",\n      \"properties\": {\n        \"dtype\": \"number\",\n        \"std\": 1370.5178374100155,\n        \"min\": 1.0,\n        \"max\": 3900.0,\n        \"num_unique_values\": 8,\n        \"samples\": [\n          25.35153846153846,\n          25.0,\n          3900.0\n        ],\n        \"semantic_type\": \"\",\n        \"description\": \"\"\n      }\n    }\n  ]\n}"
            }
          },
          "metadata": {},
          "execution_count": 14
        }
      ],
      "source": [
        "# Dataset Describe   to get summary of dataset\n",
        "shop.describe()"
      ],
      "id": "GRyRLp4QmfuR"
    },
    {
      "cell_type": "markdown",
      "metadata": {
        "id": "PBTbrJXOngz2"
      },
      "source": [
        "### Variables Description"
      ],
      "id": "PBTbrJXOngz2"
    },
    {
      "cell_type": "markdown",
      "metadata": {
        "id": "aJV4KIxSnxay"
      },
      "source": [
        "Answer Here"
      ],
      "id": "aJV4KIxSnxay"
    },
    {
      "cell_type": "markdown",
      "metadata": {
        "id": "u3PMJOP6ngxN"
      },
      "source": [
        "### Check Unique Values for each variable."
      ],
      "id": "u3PMJOP6ngxN"
    },
    {
      "cell_type": "code",
      "execution_count": 15,
      "metadata": {
        "colab": {
          "base_uri": "https://localhost:8080/",
          "height": 648
        },
        "id": "-lowKgdrmPPa",
        "outputId": "4a453317-2e69-4563-ae2c-ac46dac48470"
      },
      "outputs": [
        {
          "output_type": "execute_result",
          "data": {
            "text/plain": [
              "Customer ID               3900\n",
              "Age                         53\n",
              "Gender                       2\n",
              "Item Purchased              25\n",
              "Category                     4\n",
              "Purchase Amount (USD)       81\n",
              "Location                    50\n",
              "Size                         4\n",
              "Color                       25\n",
              "Season                       4\n",
              "Review Rating               26\n",
              "Subscription Status          2\n",
              "Shipping Type                6\n",
              "Discount Applied             2\n",
              "Promo Code Used              2\n",
              "Previous Purchases          50\n",
              "Payment Method               6\n",
              "Frequency of Purchases       7\n",
              "dtype: int64"
            ],
            "text/html": [
              "<div>\n",
              "<style scoped>\n",
              "    .dataframe tbody tr th:only-of-type {\n",
              "        vertical-align: middle;\n",
              "    }\n",
              "\n",
              "    .dataframe tbody tr th {\n",
              "        vertical-align: top;\n",
              "    }\n",
              "\n",
              "    .dataframe thead th {\n",
              "        text-align: right;\n",
              "    }\n",
              "</style>\n",
              "<table border=\"1\" class=\"dataframe\">\n",
              "  <thead>\n",
              "    <tr style=\"text-align: right;\">\n",
              "      <th></th>\n",
              "      <th>0</th>\n",
              "    </tr>\n",
              "  </thead>\n",
              "  <tbody>\n",
              "    <tr>\n",
              "      <th>Customer ID</th>\n",
              "      <td>3900</td>\n",
              "    </tr>\n",
              "    <tr>\n",
              "      <th>Age</th>\n",
              "      <td>53</td>\n",
              "    </tr>\n",
              "    <tr>\n",
              "      <th>Gender</th>\n",
              "      <td>2</td>\n",
              "    </tr>\n",
              "    <tr>\n",
              "      <th>Item Purchased</th>\n",
              "      <td>25</td>\n",
              "    </tr>\n",
              "    <tr>\n",
              "      <th>Category</th>\n",
              "      <td>4</td>\n",
              "    </tr>\n",
              "    <tr>\n",
              "      <th>Purchase Amount (USD)</th>\n",
              "      <td>81</td>\n",
              "    </tr>\n",
              "    <tr>\n",
              "      <th>Location</th>\n",
              "      <td>50</td>\n",
              "    </tr>\n",
              "    <tr>\n",
              "      <th>Size</th>\n",
              "      <td>4</td>\n",
              "    </tr>\n",
              "    <tr>\n",
              "      <th>Color</th>\n",
              "      <td>25</td>\n",
              "    </tr>\n",
              "    <tr>\n",
              "      <th>Season</th>\n",
              "      <td>4</td>\n",
              "    </tr>\n",
              "    <tr>\n",
              "      <th>Review Rating</th>\n",
              "      <td>26</td>\n",
              "    </tr>\n",
              "    <tr>\n",
              "      <th>Subscription Status</th>\n",
              "      <td>2</td>\n",
              "    </tr>\n",
              "    <tr>\n",
              "      <th>Shipping Type</th>\n",
              "      <td>6</td>\n",
              "    </tr>\n",
              "    <tr>\n",
              "      <th>Discount Applied</th>\n",
              "      <td>2</td>\n",
              "    </tr>\n",
              "    <tr>\n",
              "      <th>Promo Code Used</th>\n",
              "      <td>2</td>\n",
              "    </tr>\n",
              "    <tr>\n",
              "      <th>Previous Purchases</th>\n",
              "      <td>50</td>\n",
              "    </tr>\n",
              "    <tr>\n",
              "      <th>Payment Method</th>\n",
              "      <td>6</td>\n",
              "    </tr>\n",
              "    <tr>\n",
              "      <th>Frequency of Purchases</th>\n",
              "      <td>7</td>\n",
              "    </tr>\n",
              "  </tbody>\n",
              "</table>\n",
              "</div><br><label><b>dtype:</b> int64</label>"
            ]
          },
          "metadata": {},
          "execution_count": 15
        }
      ],
      "source": [
        "# Check Unique Values for each variable.\n",
        "shop.nunique()"
      ],
      "id": "-lowKgdrmPPa"
    },
    {
      "cell_type": "code",
      "execution_count": 16,
      "metadata": {
        "colab": {
          "base_uri": "https://localhost:8080/"
        },
        "id": "GdiQ1nuFrXU9",
        "outputId": "4aa7ff24-bf0b-4f73-b239-0e04e733e69f"
      },
      "outputs": [
        {
          "output_type": "execute_result",
          "data": {
            "text/plain": [
              "4249"
            ]
          },
          "metadata": {},
          "execution_count": 16
        }
      ],
      "source": [
        "# Total Unique Values\n",
        "shop.nunique().sum()"
      ],
      "id": "GdiQ1nuFrXU9"
    },
    {
      "cell_type": "code",
      "execution_count": 17,
      "metadata": {
        "colab": {
          "base_uri": "https://localhost:8080/"
        },
        "id": "878ca58e-50c8-4401-a4dd-c338c75e3501",
        "outputId": "f8ba44ea-dc42-4bce-b7e9-e7e7f346b157"
      },
      "outputs": [
        {
          "output_type": "stream",
          "name": "stdout",
          "text": [
            "The unique values of the 'Gender' column are: ['Male' 'Female']\n",
            "\n",
            "The unique values of the 'Category' column are: ['Clothing' 'Footwear' 'Outerwear' 'Accessories']\n",
            "\n",
            "The unique values of the 'Size' column are: ['L' 'S' 'M' 'XL']\n",
            "\n",
            "The unique values of the 'Subscription Status' column are: ['Yes' 'No']\n",
            "\n",
            "The unique values of the 'Shipping Type' column are: ['Express' 'Free Shipping' 'Next Day Air' 'Standard' '2-Day Shipping'\n",
            " 'Store Pickup']\n",
            "\n",
            "The unique values of the 'Discount Applied' column are: ['Yes' 'No']\n",
            "\n",
            "The unique values of the 'Promo Code Used' column are: ['Yes' 'No']\n",
            "\n",
            "The unique values of the 'Payment Method' column are: ['Venmo' 'Cash' 'Credit Card' 'PayPal' 'Bank Transfer' 'Debit Card']\n"
          ]
        }
      ],
      "source": [
        "print(f\"The unique values of the 'Gender' column are: {shop['Gender'].unique()}\")\n",
        "print()# This will print a blank line\n",
        "print(f\"The unique values of the 'Category' column are: {shop['Category'].unique()}\")\n",
        "print()# This will print a blank line\n",
        "print(f\"The unique values of the 'Size' column are: {shop['Size'].unique()}\")\n",
        "print()# This will print a blank line\n",
        "print(f\"The unique values of the 'Subscription Status' column are: {shop['Subscription Status'].unique()}\")\n",
        "print()# This will print a blank line\n",
        "print(f\"The unique values of the 'Shipping Type' column are: {shop['Shipping Type'].unique()}\")\n",
        "print()# This will print a blank line\n",
        "print(f\"The unique values of the 'Discount Applied' column are: {shop['Discount Applied'].unique()}\")\n",
        "print()# This will print a blank line\n",
        "print(f\"The unique values of the 'Promo Code Used' column are: {shop['Promo Code Used'].unique()}\")\n",
        "print()# This will print a blank line\n",
        "print(f\"The unique values of the 'Payment Method' column are: {shop['Payment Method'].unique()}\")"
      ],
      "id": "878ca58e-50c8-4401-a4dd-c338c75e3501"
    },
    {
      "cell_type": "markdown",
      "id": "2dae46f6-9436-4835-8199-202c22f44e40",
      "metadata": {
        "id": "2dae46f6-9436-4835-8199-202c22f44e40"
      },
      "source": [
        "## 1 What is the overall distribution of customer ages in the dataset?"
      ]
    },
    {
      "cell_type": "code",
      "execution_count": 18,
      "id": "d0751254-5655-43f5-9a70-ad6389e7e23f",
      "metadata": {
        "colab": {
          "base_uri": "https://localhost:8080/",
          "height": 1000
        },
        "id": "d0751254-5655-43f5-9a70-ad6389e7e23f",
        "outputId": "0f2682fc-049e-4e70-9261-5af2fbbe40d7"
      },
      "outputs": [
        {
          "output_type": "execute_result",
          "data": {
            "text/plain": [
              "Age\n",
              "69    88\n",
              "57    87\n",
              "41    86\n",
              "25    85\n",
              "49    84\n",
              "50    83\n",
              "54    83\n",
              "27    83\n",
              "62    83\n",
              "32    82\n",
              "19    81\n",
              "58    81\n",
              "42    80\n",
              "43    79\n",
              "28    79\n",
              "31    79\n",
              "37    77\n",
              "46    76\n",
              "29    76\n",
              "68    75\n",
              "59    75\n",
              "63    75\n",
              "56    74\n",
              "36    74\n",
              "55    73\n",
              "52    73\n",
              "64    73\n",
              "35    72\n",
              "51    72\n",
              "65    72\n",
              "40    72\n",
              "45    72\n",
              "47    71\n",
              "66    71\n",
              "30    71\n",
              "23    71\n",
              "38    70\n",
              "53    70\n",
              "18    69\n",
              "21    69\n",
              "26    69\n",
              "34    68\n",
              "48    68\n",
              "24    68\n",
              "39    68\n",
              "70    67\n",
              "22    66\n",
              "61    65\n",
              "60    65\n",
              "33    63\n",
              "20    62\n",
              "67    54\n",
              "44    51\n",
              "Name: count, dtype: int64"
            ],
            "text/html": [
              "<div>\n",
              "<style scoped>\n",
              "    .dataframe tbody tr th:only-of-type {\n",
              "        vertical-align: middle;\n",
              "    }\n",
              "\n",
              "    .dataframe tbody tr th {\n",
              "        vertical-align: top;\n",
              "    }\n",
              "\n",
              "    .dataframe thead th {\n",
              "        text-align: right;\n",
              "    }\n",
              "</style>\n",
              "<table border=\"1\" class=\"dataframe\">\n",
              "  <thead>\n",
              "    <tr style=\"text-align: right;\">\n",
              "      <th></th>\n",
              "      <th>count</th>\n",
              "    </tr>\n",
              "    <tr>\n",
              "      <th>Age</th>\n",
              "      <th></th>\n",
              "    </tr>\n",
              "  </thead>\n",
              "  <tbody>\n",
              "    <tr>\n",
              "      <th>69</th>\n",
              "      <td>88</td>\n",
              "    </tr>\n",
              "    <tr>\n",
              "      <th>57</th>\n",
              "      <td>87</td>\n",
              "    </tr>\n",
              "    <tr>\n",
              "      <th>41</th>\n",
              "      <td>86</td>\n",
              "    </tr>\n",
              "    <tr>\n",
              "      <th>25</th>\n",
              "      <td>85</td>\n",
              "    </tr>\n",
              "    <tr>\n",
              "      <th>49</th>\n",
              "      <td>84</td>\n",
              "    </tr>\n",
              "    <tr>\n",
              "      <th>50</th>\n",
              "      <td>83</td>\n",
              "    </tr>\n",
              "    <tr>\n",
              "      <th>54</th>\n",
              "      <td>83</td>\n",
              "    </tr>\n",
              "    <tr>\n",
              "      <th>27</th>\n",
              "      <td>83</td>\n",
              "    </tr>\n",
              "    <tr>\n",
              "      <th>62</th>\n",
              "      <td>83</td>\n",
              "    </tr>\n",
              "    <tr>\n",
              "      <th>32</th>\n",
              "      <td>82</td>\n",
              "    </tr>\n",
              "    <tr>\n",
              "      <th>19</th>\n",
              "      <td>81</td>\n",
              "    </tr>\n",
              "    <tr>\n",
              "      <th>58</th>\n",
              "      <td>81</td>\n",
              "    </tr>\n",
              "    <tr>\n",
              "      <th>42</th>\n",
              "      <td>80</td>\n",
              "    </tr>\n",
              "    <tr>\n",
              "      <th>43</th>\n",
              "      <td>79</td>\n",
              "    </tr>\n",
              "    <tr>\n",
              "      <th>28</th>\n",
              "      <td>79</td>\n",
              "    </tr>\n",
              "    <tr>\n",
              "      <th>31</th>\n",
              "      <td>79</td>\n",
              "    </tr>\n",
              "    <tr>\n",
              "      <th>37</th>\n",
              "      <td>77</td>\n",
              "    </tr>\n",
              "    <tr>\n",
              "      <th>46</th>\n",
              "      <td>76</td>\n",
              "    </tr>\n",
              "    <tr>\n",
              "      <th>29</th>\n",
              "      <td>76</td>\n",
              "    </tr>\n",
              "    <tr>\n",
              "      <th>68</th>\n",
              "      <td>75</td>\n",
              "    </tr>\n",
              "    <tr>\n",
              "      <th>59</th>\n",
              "      <td>75</td>\n",
              "    </tr>\n",
              "    <tr>\n",
              "      <th>63</th>\n",
              "      <td>75</td>\n",
              "    </tr>\n",
              "    <tr>\n",
              "      <th>56</th>\n",
              "      <td>74</td>\n",
              "    </tr>\n",
              "    <tr>\n",
              "      <th>36</th>\n",
              "      <td>74</td>\n",
              "    </tr>\n",
              "    <tr>\n",
              "      <th>55</th>\n",
              "      <td>73</td>\n",
              "    </tr>\n",
              "    <tr>\n",
              "      <th>52</th>\n",
              "      <td>73</td>\n",
              "    </tr>\n",
              "    <tr>\n",
              "      <th>64</th>\n",
              "      <td>73</td>\n",
              "    </tr>\n",
              "    <tr>\n",
              "      <th>35</th>\n",
              "      <td>72</td>\n",
              "    </tr>\n",
              "    <tr>\n",
              "      <th>51</th>\n",
              "      <td>72</td>\n",
              "    </tr>\n",
              "    <tr>\n",
              "      <th>65</th>\n",
              "      <td>72</td>\n",
              "    </tr>\n",
              "    <tr>\n",
              "      <th>40</th>\n",
              "      <td>72</td>\n",
              "    </tr>\n",
              "    <tr>\n",
              "      <th>45</th>\n",
              "      <td>72</td>\n",
              "    </tr>\n",
              "    <tr>\n",
              "      <th>47</th>\n",
              "      <td>71</td>\n",
              "    </tr>\n",
              "    <tr>\n",
              "      <th>66</th>\n",
              "      <td>71</td>\n",
              "    </tr>\n",
              "    <tr>\n",
              "      <th>30</th>\n",
              "      <td>71</td>\n",
              "    </tr>\n",
              "    <tr>\n",
              "      <th>23</th>\n",
              "      <td>71</td>\n",
              "    </tr>\n",
              "    <tr>\n",
              "      <th>38</th>\n",
              "      <td>70</td>\n",
              "    </tr>\n",
              "    <tr>\n",
              "      <th>53</th>\n",
              "      <td>70</td>\n",
              "    </tr>\n",
              "    <tr>\n",
              "      <th>18</th>\n",
              "      <td>69</td>\n",
              "    </tr>\n",
              "    <tr>\n",
              "      <th>21</th>\n",
              "      <td>69</td>\n",
              "    </tr>\n",
              "    <tr>\n",
              "      <th>26</th>\n",
              "      <td>69</td>\n",
              "    </tr>\n",
              "    <tr>\n",
              "      <th>34</th>\n",
              "      <td>68</td>\n",
              "    </tr>\n",
              "    <tr>\n",
              "      <th>48</th>\n",
              "      <td>68</td>\n",
              "    </tr>\n",
              "    <tr>\n",
              "      <th>24</th>\n",
              "      <td>68</td>\n",
              "    </tr>\n",
              "    <tr>\n",
              "      <th>39</th>\n",
              "      <td>68</td>\n",
              "    </tr>\n",
              "    <tr>\n",
              "      <th>70</th>\n",
              "      <td>67</td>\n",
              "    </tr>\n",
              "    <tr>\n",
              "      <th>22</th>\n",
              "      <td>66</td>\n",
              "    </tr>\n",
              "    <tr>\n",
              "      <th>61</th>\n",
              "      <td>65</td>\n",
              "    </tr>\n",
              "    <tr>\n",
              "      <th>60</th>\n",
              "      <td>65</td>\n",
              "    </tr>\n",
              "    <tr>\n",
              "      <th>33</th>\n",
              "      <td>63</td>\n",
              "    </tr>\n",
              "    <tr>\n",
              "      <th>20</th>\n",
              "      <td>62</td>\n",
              "    </tr>\n",
              "    <tr>\n",
              "      <th>67</th>\n",
              "      <td>54</td>\n",
              "    </tr>\n",
              "    <tr>\n",
              "      <th>44</th>\n",
              "      <td>51</td>\n",
              "    </tr>\n",
              "  </tbody>\n",
              "</table>\n",
              "</div><br><label><b>dtype:</b> int64</label>"
            ]
          },
          "metadata": {},
          "execution_count": 18
        }
      ],
      "source": [
        "shop['Age'].value_counts()"
      ]
    },
    {
      "cell_type": "code",
      "execution_count": 19,
      "id": "a4a59f39-6b74-467d-bd44-cae9b971b787",
      "metadata": {
        "colab": {
          "base_uri": "https://localhost:8080/"
        },
        "id": "a4a59f39-6b74-467d-bd44-cae9b971b787",
        "outputId": "b5b7a907-ca80-4d9e-fb1c-345aee3ea13f"
      },
      "outputs": [
        {
          "output_type": "execute_result",
          "data": {
            "text/plain": [
              "44.06846153846154"
            ]
          },
          "metadata": {},
          "execution_count": 19
        }
      ],
      "source": [
        "shop['Age'].mean()"
      ]
    },
    {
      "cell_type": "code",
      "execution_count": 20,
      "id": "22fe6b77-0893-4b19-bb73-ee11124ed9db",
      "metadata": {
        "colab": {
          "base_uri": "https://localhost:8080/"
        },
        "id": "22fe6b77-0893-4b19-bb73-ee11124ed9db",
        "outputId": "e3c0e765-ff6f-4b40-e228-7b2a1c08d9af"
      },
      "outputs": [
        {
          "output_type": "execute_result",
          "data": {
            "text/plain": [
              "array(['Male', 'Female'], dtype=object)"
            ]
          },
          "metadata": {},
          "execution_count": 20
        }
      ],
      "source": [
        "shop['Gender'].unique()"
      ]
    },
    {
      "cell_type": "code",
      "execution_count": 21,
      "id": "a4580d69-78f6-4743-8749-080d0c69bb6a",
      "metadata": {
        "id": "a4580d69-78f6-4743-8749-080d0c69bb6a"
      },
      "outputs": [],
      "source": [
        "shop['Age_category'] = pd.cut(shop['Age'], bins= [0,15, 18 , 30 , 50 , 70] , labels= ['child' , 'teen' , 'Young Adults' ,'Middle-Aged Adults'\n",
        "                                                                                             , 'old'] )"
      ]
    },
    {
      "cell_type": "code",
      "execution_count": 22,
      "id": "f1254544-ab85-4879-9db4-563eda07c874",
      "metadata": {
        "colab": {
          "base_uri": "https://localhost:8080/",
          "height": 542
        },
        "id": "f1254544-ab85-4879-9db4-563eda07c874",
        "outputId": "9f9523d7-88ad-41a8-ce87-06b385676796"
      },
      "outputs": [
        {
          "output_type": "display_data",
          "data": {
            "text/html": [
              "<html>\n",
              "<head><meta charset=\"utf-8\" /></head>\n",
              "<body>\n",
              "    <div>            <script src=\"https://cdnjs.cloudflare.com/ajax/libs/mathjax/2.7.5/MathJax.js?config=TeX-AMS-MML_SVG\"></script><script type=\"text/javascript\">if (window.MathJax && window.MathJax.Hub && window.MathJax.Hub.Config) {window.MathJax.Hub.Config({SVG: {font: \"STIX-Web\"}});}</script>                <script type=\"text/javascript\">window.PlotlyConfig = {MathJaxConfig: 'local'};</script>\n",
              "        <script charset=\"utf-8\" src=\"https://cdn.plot.ly/plotly-2.35.2.min.js\"></script>                <div id=\"a0537ff6-2030-4e02-bf16-e593e9de5e44\" class=\"plotly-graph-div\" style=\"height:525px; width:100%;\"></div>            <script type=\"text/javascript\">                                    window.PLOTLYENV=window.PLOTLYENV || {};                                    if (document.getElementById(\"a0537ff6-2030-4e02-bf16-e593e9de5e44\")) {                    Plotly.newPlot(                        \"a0537ff6-2030-4e02-bf16-e593e9de5e44\",                        [{\"alignmentgroup\":\"True\",\"bingroup\":\"x\",\"histfunc\":\"sum\",\"hovertemplate\":\"Age_category=%{x}\\u003cbr\\u003esum of Age=%{y}\\u003cextra\\u003e\\u003c\\u002fextra\\u003e\",\"legendgroup\":\"\",\"marker\":{\"color\":\"#636efa\",\"pattern\":{\"shape\":\"\"}},\"name\":\"\",\"offsetgroup\":\"\",\"orientation\":\"v\",\"showlegend\":false,\"x\":[\"old\",\"Young Adults\",\"Middle-Aged Adults\",\"Young Adults\",\"Middle-Aged Adults\",\"Middle-Aged Adults\",\"old\",\"Young Adults\",\"Young Adults\",\"old\",\"old\",\"Young Adults\",\"old\",\"old\",\"old\",\"old\",\"Young Adults\",\"old\",\"old\",\"old\",\"Young Adults\",\"Middle-Aged Adults\",\"old\",\"Middle-Aged Adults\",\"teen\",\"teen\",\"Middle-Aged Adults\",\"old\",\"old\",\"Middle-Aged Adults\",\"old\",\"Middle-Aged Adults\",\"Middle-Aged Adults\",\"old\",\"Middle-Aged Adults\",\"old\",\"Middle-Aged Adults\",\"Middle-Aged Adults\",\"Young Adults\",\"old\",\"old\",\"old\",\"Young Adults\",\"Young Adults\",\"Middle-Aged Adults\",\"Middle-Aged Adults\",\"old\",\"old\",\"Middle-Aged Adults\",\"old\",\"Middle-Aged Adults\",\"old\",\"Middle-Aged Adults\",\"Young Adults\",\"Middle-Aged Adults\",\"Middle-Aged Adults\",\"Middle-Aged Adults\",\"Young Adults\",\"old\",\"old\",\"Middle-Aged Adults\",\"old\",\"Young Adults\",\"Middle-Aged Adults\",\"old\",\"old\",\"Middle-Aged Adults\",\"Middle-Aged Adults\",\"old\",\"Middle-Aged Adults\",\"Young Adults\",\"Middle-Aged Adults\",\"teen\",\"Middle-Aged Adults\",\"Middle-Aged Adults\",\"old\",\"Middle-Aged Adults\",\"Young Adults\",\"Middle-Aged Adults\",\"Middle-Aged Adults\",\"Young Adults\",\"old\",\"Young Adults\",\"Middle-Aged Adults\",\"old\",\"old\",\"Young Adults\",\"old\",\"Middle-Aged Adults\",\"Middle-Aged Adults\",\"Young Adults\",\"Middle-Aged Adults\",\"old\",\"Middle-Aged Adults\",\"old\",\"Middle-Aged Adults\",\"Middle-Aged Adults\",\"Young Adults\",\"Young Adults\",\"Young Adults\",\"old\",\"Young Adults\",\"old\",\"old\",\"old\",\"old\",\"old\",\"Young Adults\",\"old\",\"old\",\"old\",\"Young Adults\",\"Middle-Aged Adults\",\"Middle-Aged Adults\",\"old\",\"old\",\"old\",\"Middle-Aged Adults\",\"Middle-Aged Adults\",\"Middle-Aged Adults\",\"old\",\"Young Adults\",\"Middle-Aged Adults\",\"old\",\"Middle-Aged Adults\",\"Middle-Aged Adults\",\"Middle-Aged Adults\",\"Young Adults\",\"Young Adults\",\"Young Adults\",\"Middle-Aged Adults\",\"Young Adults\",\"Young Adults\",\"old\",\"Middle-Aged Adults\",\"Middle-Aged Adults\",\"Middle-Aged Adults\",\"old\",\"old\",\"Middle-Aged Adults\",\"old\",\"old\",\"Middle-Aged Adults\",\"Young Adults\",\"Young Adults\",\"Young Adults\",\"old\",\"old\",\"Middle-Aged Adults\",\"Middle-Aged Adults\",\"Middle-Aged Adults\",\"Young Adults\",\"Young Adults\",\"old\",\"Middle-Aged Adults\",\"old\",\"Middle-Aged Adults\",\"Middle-Aged Adults\",\"Young Adults\",\"old\",\"Young Adults\",\"old\",\"old\",\"old\",\"old\",\"Middle-Aged Adults\",\"Middle-Aged Adults\",\"Middle-Aged Adults\",\"Middle-Aged Adults\",\"Young Adults\",\"old\",\"Young Adults\",\"old\",\"Young Adults\",\"Middle-Aged Adults\",\"old\",\"old\",\"Young Adults\",\"old\",\"old\",\"old\",\"Middle-Aged Adults\",\"Middle-Aged Adults\",\"old\",\"Middle-Aged Adults\",\"Middle-Aged Adults\",\"Middle-Aged Adults\",\"Young Adults\",\"Middle-Aged Adults\",\"Middle-Aged Adults\",\"old\",\"old\",\"Middle-Aged Adults\",\"Middle-Aged Adults\",\"old\",\"old\",\"Middle-Aged Adults\",\"old\",\"old\",\"old\",\"Young Adults\",\"old\",\"old\",\"old\",\"Young Adults\",\"old\",\"Young Adults\",\"old\",\"old\",\"old\",\"Middle-Aged Adults\",\"old\",\"old\",\"Young Adults\",\"Young Adults\",\"old\",\"Middle-Aged Adults\",\"Middle-Aged Adults\",\"Young Adults\",\"Middle-Aged Adults\",\"Middle-Aged Adults\",\"Young Adults\",\"Middle-Aged Adults\",\"Young Adults\",\"old\",\"Young Adults\",\"Young Adults\",\"Middle-Aged Adults\",\"teen\",\"old\",\"old\",\"Young Adults\",\"old\",\"Young Adults\",\"Young Adults\",\"Middle-Aged Adults\",\"Middle-Aged Adults\",\"Middle-Aged Adults\",\"old\",\"Middle-Aged Adults\",\"Middle-Aged Adults\",\"Middle-Aged Adults\",\"old\",\"Young Adults\",\"old\",\"Middle-Aged Adults\",\"Middle-Aged Adults\",\"Young Adults\",\"Middle-Aged Adults\",\"old\",\"Middle-Aged Adults\",\"Young Adults\",\"Middle-Aged Adults\",\"old\",\"old\",\"Middle-Aged Adults\",\"old\",\"Young Adults\",\"old\",\"Middle-Aged Adults\",\"Middle-Aged Adults\",\"Young Adults\",\"Middle-Aged Adults\",\"Young Adults\",\"Middle-Aged Adults\",\"Middle-Aged Adults\",\"old\",\"old\",\"old\",\"old\",\"Middle-Aged Adults\",\"old\",\"Middle-Aged Adults\",\"old\",\"old\",\"Middle-Aged Adults\",\"Young Adults\",\"Young Adults\",\"old\",\"Young Adults\",\"Middle-Aged Adults\",\"Middle-Aged Adults\",\"Young Adults\",\"Middle-Aged Adults\",\"old\",\"Young Adults\",\"Young Adults\",\"old\",\"Young Adults\",\"Middle-Aged Adults\",\"old\",\"old\",\"old\",\"old\",\"old\",\"old\",\"Young Adults\",\"Middle-Aged Adults\",\"old\",\"Young Adults\",\"Young Adults\",\"Middle-Aged Adults\",\"Middle-Aged Adults\",\"Young Adults\",\"Middle-Aged Adults\",\"old\",\"Young Adults\",\"Young Adults\",\"old\",\"old\",\"old\",\"old\",\"Middle-Aged Adults\",\"Middle-Aged Adults\",\"Young Adults\",\"old\",\"Middle-Aged Adults\",\"old\",\"Middle-Aged Adults\",\"Middle-Aged Adults\",\"old\",\"Middle-Aged Adults\",\"Middle-Aged Adults\",\"old\",\"Middle-Aged Adults\",\"old\",\"old\",\"old\",\"Middle-Aged Adults\",\"old\",\"Middle-Aged Adults\",\"Middle-Aged Adults\",\"Young Adults\",\"Middle-Aged Adults\",\"Middle-Aged Adults\",\"Young Adults\",\"Middle-Aged Adults\",\"Middle-Aged Adults\",\"old\",\"Middle-Aged Adults\",\"Middle-Aged Adults\",\"Young Adults\",\"old\",\"Young Adults\",\"Young Adults\",\"Middle-Aged Adults\",\"Middle-Aged Adults\",\"Middle-Aged Adults\",\"old\",\"Middle-Aged Adults\",\"Middle-Aged Adults\",\"Young Adults\",\"Young Adults\",\"old\",\"old\",\"Middle-Aged Adults\",\"old\",\"teen\",\"Middle-Aged Adults\",\"Middle-Aged Adults\",\"old\",\"old\",\"old\",\"old\",\"old\",\"old\",\"old\",\"old\",\"Young Adults\",\"Middle-Aged Adults\",\"old\",\"Young Adults\",\"Young Adults\",\"Young Adults\",\"old\",\"old\",\"old\",\"old\",\"old\",\"Middle-Aged Adults\",\"Middle-Aged Adults\",\"old\",\"Young Adults\",\"Middle-Aged Adults\",\"old\",\"old\",\"old\",\"Middle-Aged Adults\",\"Young Adults\",\"Young Adults\",\"Young Adults\",\"Middle-Aged Adults\",\"Young Adults\",\"Middle-Aged Adults\",\"Middle-Aged Adults\",\"Middle-Aged Adults\",\"Middle-Aged Adults\",\"Young Adults\",\"Young Adults\",\"old\",\"Middle-Aged Adults\",\"Middle-Aged Adults\",\"Middle-Aged Adults\",\"Young Adults\",\"Middle-Aged Adults\",\"Middle-Aged Adults\",\"old\",\"Middle-Aged Adults\",\"Middle-Aged Adults\",\"Middle-Aged Adults\",\"Young Adults\",\"old\",\"Young Adults\",\"old\",\"Young Adults\",\"old\",\"Middle-Aged Adults\",\"Young Adults\",\"teen\",\"old\",\"Middle-Aged Adults\",\"Middle-Aged Adults\",\"Middle-Aged Adults\",\"Middle-Aged Adults\",\"old\",\"Middle-Aged Adults\",\"Middle-Aged Adults\",\"old\",\"Young Adults\",\"Middle-Aged Adults\",\"Young Adults\",\"Middle-Aged Adults\",\"Middle-Aged Adults\",\"Middle-Aged Adults\",\"Middle-Aged Adults\",\"old\",\"Middle-Aged Adults\",\"Middle-Aged Adults\",\"old\",\"old\",\"Young Adults\",\"Middle-Aged Adults\",\"Young Adults\",\"Young Adults\",\"Middle-Aged Adults\",\"Middle-Aged Adults\",\"Young Adults\",\"old\",\"Middle-Aged Adults\",\"Young Adults\",\"Young Adults\",\"old\",\"Middle-Aged Adults\",\"old\",\"Middle-Aged Adults\",\"old\",\"Middle-Aged Adults\",\"Young Adults\",\"Middle-Aged Adults\",\"old\",\"old\",\"teen\",\"old\",\"Middle-Aged Adults\",\"Young Adults\",\"old\",\"Middle-Aged Adults\",\"Young Adults\",\"Middle-Aged Adults\",\"Young Adults\",\"Middle-Aged Adults\",\"old\",\"Young Adults\",\"Middle-Aged Adults\",\"old\",\"Young Adults\",\"Young Adults\",\"Middle-Aged Adults\",\"Middle-Aged Adults\",\"Middle-Aged Adults\",\"old\",\"Middle-Aged Adults\",\"Middle-Aged Adults\",\"Young Adults\",\"old\",\"Middle-Aged Adults\",\"Middle-Aged Adults\",\"Middle-Aged Adults\",\"old\",\"Middle-Aged Adults\",\"old\",\"Middle-Aged Adults\",\"Middle-Aged Adults\",\"Young Adults\",\"Middle-Aged Adults\",\"Middle-Aged Adults\",\"Young Adults\",\"Middle-Aged Adults\",\"Middle-Aged Adults\",\"Middle-Aged Adults\",\"Middle-Aged Adults\",\"old\",\"old\",\"old\",\"Middle-Aged Adults\",\"old\",\"Young Adults\",\"old\",\"Young Adults\",\"Middle-Aged Adults\",\"Young Adults\",\"old\",\"Young Adults\",\"Young Adults\",\"old\",\"Young Adults\",\"Middle-Aged Adults\",\"old\",\"Young Adults\",\"Young Adults\",\"old\",\"Middle-Aged Adults\",\"old\",\"Middle-Aged Adults\",\"old\",\"old\",\"old\",\"Young Adults\",\"Middle-Aged Adults\",\"Middle-Aged Adults\",\"Middle-Aged Adults\",\"Middle-Aged Adults\",\"Young Adults\",\"old\",\"old\",\"old\",\"Middle-Aged Adults\",\"Middle-Aged Adults\",\"Young Adults\",\"Middle-Aged Adults\",\"Middle-Aged Adults\",\"old\",\"Young Adults\",\"old\",\"Middle-Aged Adults\",\"Middle-Aged Adults\",\"old\",\"Middle-Aged Adults\",\"Middle-Aged Adults\",\"Middle-Aged Adults\",\"old\",\"Young Adults\",\"Young Adults\",\"old\",\"old\",\"old\",\"Middle-Aged Adults\",\"teen\",\"Middle-Aged Adults\",\"old\",\"Young Adults\",\"old\",\"old\",\"old\",\"old\",\"old\",\"old\",\"Young Adults\",\"Middle-Aged Adults\",\"old\",\"old\",\"old\",\"old\",\"old\",\"old\",\"old\",\"Middle-Aged Adults\",\"Young Adults\",\"old\",\"old\",\"Middle-Aged Adults\",\"Middle-Aged Adults\",\"Middle-Aged Adults\",\"Young Adults\",\"old\",\"old\",\"Middle-Aged Adults\",\"Young Adults\",\"Middle-Aged Adults\",\"Young Adults\",\"old\",\"Middle-Aged Adults\",\"old\",\"old\",\"Middle-Aged Adults\",\"Young Adults\",\"Young Adults\",\"old\",\"Young Adults\",\"old\",\"Young Adults\",\"Middle-Aged Adults\",\"Middle-Aged Adults\",\"Middle-Aged Adults\",\"Middle-Aged Adults\",\"Middle-Aged Adults\",\"Young Adults\",\"Middle-Aged Adults\",\"Middle-Aged Adults\",\"old\",\"old\",\"Middle-Aged Adults\",\"old\",\"old\",\"old\",\"old\",\"Young Adults\",\"Middle-Aged Adults\",\"old\",\"Young Adults\",\"Middle-Aged Adults\",\"old\",\"old\",\"Young Adults\",\"old\",\"Middle-Aged Adults\",\"Middle-Aged Adults\",\"Middle-Aged Adults\",\"old\",\"Young Adults\",\"Middle-Aged Adults\",\"old\",\"Middle-Aged Adults\",\"old\",\"Middle-Aged Adults\",\"Young Adults\",\"Middle-Aged Adults\",\"Young Adults\",\"old\",\"old\",\"old\",\"Middle-Aged Adults\",\"old\",\"teen\",\"old\",\"old\",\"old\",\"old\",\"Young Adults\",\"old\",\"Middle-Aged Adults\",\"Middle-Aged Adults\",\"old\",\"Young Adults\",\"Young Adults\",\"Young Adults\",\"Middle-Aged Adults\",\"Middle-Aged Adults\",\"old\",\"old\",\"Middle-Aged Adults\",\"old\",\"Young Adults\",\"old\",\"old\",\"Middle-Aged Adults\",\"Middle-Aged Adults\",\"Middle-Aged Adults\",\"Middle-Aged Adults\",\"Middle-Aged Adults\",\"old\",\"Middle-Aged Adults\",\"old\",\"Middle-Aged Adults\",\"Middle-Aged Adults\",\"old\",\"Young Adults\",\"old\",\"Young Adults\",\"old\",\"old\",\"Young Adults\",\"Young Adults\",\"Middle-Aged Adults\",\"old\",\"old\",\"old\",\"Young Adults\",\"Young Adults\",\"Young Adults\",\"Young Adults\",\"old\",\"Middle-Aged Adults\",\"Middle-Aged Adults\",\"Middle-Aged Adults\",\"Young Adults\",\"Middle-Aged Adults\",\"old\",\"old\",\"Middle-Aged Adults\",\"old\",\"old\",\"teen\",\"old\",\"Middle-Aged Adults\",\"Young Adults\",\"Middle-Aged Adults\",\"old\",\"Middle-Aged Adults\",\"Middle-Aged Adults\",\"Young Adults\",\"old\",\"Middle-Aged Adults\",\"Middle-Aged Adults\",\"Young Adults\",\"Middle-Aged Adults\",\"Young Adults\",\"Young Adults\",\"Young Adults\",\"old\",\"Middle-Aged Adults\",\"Middle-Aged Adults\",\"Young Adults\",\"Middle-Aged Adults\",\"Middle-Aged Adults\",\"old\",\"Middle-Aged Adults\",\"old\",\"Young Adults\",\"Middle-Aged Adults\",\"Middle-Aged Adults\",\"Middle-Aged Adults\",\"Middle-Aged Adults\",\"Middle-Aged Adults\",\"old\",\"old\",\"teen\",\"Middle-Aged Adults\",\"old\",\"old\",\"Young Adults\",\"Young Adults\",\"old\",\"Young Adults\",\"old\",\"Middle-Aged Adults\",\"Middle-Aged Adults\",\"old\",\"Middle-Aged Adults\",\"old\",\"Young Adults\",\"old\",\"Middle-Aged Adults\",\"Middle-Aged Adults\",\"Middle-Aged Adults\",\"old\",\"old\",\"Middle-Aged Adults\",\"old\",\"old\",\"Middle-Aged Adults\",\"old\",\"Middle-Aged Adults\",\"old\",\"old\",\"old\",\"old\",\"Young Adults\",\"old\",\"old\",\"Young Adults\",\"Young Adults\",\"teen\",\"Young Adults\",\"Middle-Aged Adults\",\"Middle-Aged Adults\",\"Middle-Aged Adults\",\"old\",\"Young Adults\",\"old\",\"Middle-Aged Adults\",\"Young Adults\",\"Young Adults\",\"old\",\"Middle-Aged Adults\",\"Middle-Aged Adults\",\"old\",\"old\",\"Middle-Aged Adults\",\"Middle-Aged Adults\",\"Young Adults\",\"Middle-Aged Adults\",\"Middle-Aged Adults\",\"Young Adults\",\"old\",\"Middle-Aged Adults\",\"Middle-Aged Adults\",\"Middle-Aged Adults\",\"Young Adults\",\"old\",\"Middle-Aged Adults\",\"Young Adults\",\"Middle-Aged Adults\",\"Middle-Aged Adults\",\"Middle-Aged Adults\",\"Middle-Aged Adults\",\"old\",\"Young Adults\",\"Middle-Aged Adults\",\"Middle-Aged Adults\",\"old\",\"teen\",\"old\",\"old\",\"Middle-Aged Adults\",\"Young Adults\",\"Young Adults\",\"Young Adults\",\"old\",\"old\",\"old\",\"old\",\"Middle-Aged Adults\",\"old\",\"old\",\"Young Adults\",\"old\",\"Middle-Aged Adults\",\"Young Adults\",\"Middle-Aged Adults\",\"Middle-Aged Adults\",\"old\",\"old\",\"Middle-Aged Adults\",\"old\",\"Middle-Aged Adults\",\"Young Adults\",\"Young Adults\",\"Middle-Aged Adults\",\"Middle-Aged Adults\",\"Middle-Aged Adults\",\"old\",\"old\",\"old\",\"old\",\"Middle-Aged Adults\",\"Middle-Aged Adults\",\"old\",\"Middle-Aged Adults\",\"Young Adults\",\"old\",\"Middle-Aged Adults\",\"Middle-Aged Adults\",\"old\",\"Young Adults\",\"old\",\"old\",\"Middle-Aged Adults\",\"Young Adults\",\"Middle-Aged Adults\",\"Young Adults\",\"Middle-Aged Adults\",\"Young Adults\",\"Middle-Aged Adults\",\"old\",\"old\",\"old\",\"Middle-Aged Adults\",\"Middle-Aged Adults\",\"Middle-Aged Adults\",\"old\",\"Middle-Aged Adults\",\"old\",\"old\",\"Young Adults\",\"Middle-Aged Adults\",\"Middle-Aged Adults\",\"old\",\"Young Adults\",\"old\",\"Middle-Aged Adults\",\"old\",\"Middle-Aged Adults\",\"Young Adults\",\"old\",\"Middle-Aged Adults\",\"Young Adults\",\"old\",\"Middle-Aged Adults\",\"old\",\"old\",\"Young Adults\",\"Middle-Aged Adults\",\"Middle-Aged Adults\",\"Middle-Aged Adults\",\"Middle-Aged Adults\",\"old\",\"Young Adults\",\"old\",\"old\",\"old\",\"old\",\"Middle-Aged Adults\",\"Middle-Aged Adults\",\"old\",\"Middle-Aged Adults\",\"Middle-Aged Adults\",\"Middle-Aged Adults\",\"Young Adults\",\"old\",\"Middle-Aged Adults\",\"old\",\"Young Adults\",\"Middle-Aged Adults\",\"Middle-Aged Adults\",\"Middle-Aged Adults\",\"Middle-Aged Adults\",\"old\",\"old\",\"Middle-Aged Adults\",\"Middle-Aged Adults\",\"old\",\"old\",\"old\",\"old\",\"Young Adults\",\"old\",\"Young Adults\",\"old\",\"old\",\"Young Adults\",\"Young Adults\",\"old\",\"old\",\"Middle-Aged Adults\",\"old\",\"Middle-Aged Adults\",\"Middle-Aged Adults\",\"Middle-Aged Adults\",\"Young Adults\",\"Middle-Aged Adults\",\"Middle-Aged Adults\",\"Young Adults\",\"Middle-Aged Adults\",\"old\",\"Middle-Aged Adults\",\"Middle-Aged Adults\",\"old\",\"Middle-Aged Adults\",\"Middle-Aged Adults\",\"old\",\"Middle-Aged Adults\",\"Middle-Aged Adults\",\"old\",\"old\",\"old\",\"Young Adults\",\"Middle-Aged Adults\",\"old\",\"Middle-Aged Adults\",\"teen\",\"old\",\"Young Adults\",\"Young Adults\",\"Middle-Aged Adults\",\"Middle-Aged Adults\",\"old\",\"Young Adults\",\"old\",\"Middle-Aged Adults\",\"Middle-Aged Adults\",\"Middle-Aged Adults\",\"old\",\"old\",\"old\",\"old\",\"Middle-Aged Adults\",\"Young Adults\",\"old\",\"old\",\"old\",\"Young Adults\",\"Middle-Aged Adults\",\"Young Adults\",\"Young Adults\",\"Middle-Aged Adults\",\"old\",\"old\",\"Middle-Aged Adults\",\"old\",\"Middle-Aged Adults\",\"Young Adults\",\"Middle-Aged Adults\",\"old\",\"old\",\"Middle-Aged Adults\",\"Young Adults\",\"old\",\"old\",\"Middle-Aged Adults\",\"Middle-Aged Adults\",\"old\",\"old\",\"old\",\"Middle-Aged Adults\",\"Middle-Aged Adults\",\"Young Adults\",\"old\",\"Middle-Aged Adults\",\"Middle-Aged Adults\",\"old\",\"Middle-Aged Adults\",\"Young Adults\",\"old\",\"Young Adults\",\"old\",\"Young Adults\",\"Young Adults\",\"Middle-Aged Adults\",\"Middle-Aged Adults\",\"Young Adults\",\"old\",\"old\",\"old\",\"Young Adults\",\"old\",\"Middle-Aged Adults\",\"Middle-Aged Adults\",\"Middle-Aged Adults\",\"Young Adults\",\"old\",\"Young Adults\",\"old\",\"Young Adults\",\"old\",\"old\",\"old\",\"old\",\"Middle-Aged Adults\",\"Young Adults\",\"old\",\"Middle-Aged Adults\",\"old\",\"Young Adults\",\"Middle-Aged Adults\",\"old\",\"Middle-Aged Adults\",\"Middle-Aged Adults\",\"Young Adults\",\"Middle-Aged Adults\",\"Middle-Aged Adults\",\"Middle-Aged Adults\",\"old\",\"old\",\"teen\",\"old\",\"Young Adults\",\"old\",\"Young Adults\",\"Young Adults\",\"Young Adults\",\"Middle-Aged Adults\",\"old\",\"old\",\"Middle-Aged Adults\",\"old\",\"Middle-Aged Adults\",\"teen\",\"old\",\"Middle-Aged Adults\",\"Middle-Aged Adults\",\"old\",\"Middle-Aged Adults\",\"Young Adults\",\"Middle-Aged Adults\",\"old\",\"Middle-Aged Adults\",\"old\",\"Middle-Aged Adults\",\"teen\",\"old\",\"old\",\"old\",\"Middle-Aged Adults\",\"Middle-Aged Adults\",\"Young Adults\",\"old\",\"Middle-Aged Adults\",\"Middle-Aged Adults\",\"Middle-Aged Adults\",\"Middle-Aged Adults\",\"Middle-Aged Adults\",\"old\",\"old\",\"Young Adults\",\"Young Adults\",\"old\",\"old\",\"Middle-Aged Adults\",\"Young Adults\",\"Middle-Aged Adults\",\"Young Adults\",\"old\",\"Middle-Aged Adults\",\"Middle-Aged Adults\",\"Middle-Aged Adults\",\"old\",\"old\",\"Young Adults\",\"old\",\"Young Adults\",\"Young Adults\",\"old\",\"Young Adults\",\"old\",\"Young Adults\",\"old\",\"Young Adults\",\"Middle-Aged Adults\",\"Middle-Aged Adults\",\"Young Adults\",\"old\",\"old\",\"Middle-Aged Adults\",\"Middle-Aged Adults\",\"Young Adults\",\"Young Adults\",\"Middle-Aged Adults\",\"old\",\"Middle-Aged Adults\",\"old\",\"old\",\"Middle-Aged Adults\",\"Middle-Aged Adults\",\"old\",\"old\",\"Young Adults\",\"Middle-Aged Adults\",\"teen\",\"old\",\"Middle-Aged Adults\",\"Middle-Aged Adults\",\"old\",\"old\",\"Middle-Aged Adults\",\"Middle-Aged Adults\",\"Middle-Aged Adults\",\"old\",\"Middle-Aged Adults\",\"Young Adults\",\"Young Adults\",\"Middle-Aged Adults\",\"old\",\"Young Adults\",\"Middle-Aged Adults\",\"old\",\"Young Adults\",\"Middle-Aged Adults\",\"old\",\"old\",\"Middle-Aged Adults\",\"old\",\"Middle-Aged Adults\",\"Young Adults\",\"old\",\"old\",\"Middle-Aged Adults\",\"old\",\"old\",\"Young Adults\",\"old\",\"Middle-Aged Adults\",\"old\",\"Middle-Aged Adults\",\"Middle-Aged Adults\",\"Middle-Aged Adults\",\"Middle-Aged Adults\",\"old\",\"Middle-Aged Adults\",\"Young Adults\",\"Young Adults\",\"old\",\"Middle-Aged Adults\",\"Young Adults\",\"old\",\"Middle-Aged Adults\",\"old\",\"old\",\"old\",\"old\",\"old\",\"Middle-Aged Adults\",\"Middle-Aged Adults\",\"Middle-Aged Adults\",\"Middle-Aged Adults\",\"Young Adults\",\"Young Adults\",\"old\",\"Middle-Aged Adults\",\"Middle-Aged Adults\",\"Young Adults\",\"Young Adults\",\"Middle-Aged Adults\",\"Middle-Aged Adults\",\"old\",\"old\",\"Young Adults\",\"old\",\"Young Adults\",\"Middle-Aged Adults\",\"Middle-Aged Adults\",\"Young Adults\",\"Middle-Aged Adults\",\"old\",\"Young Adults\",\"old\",\"old\",\"Middle-Aged Adults\",\"old\",\"Young Adults\",\"old\",\"teen\",\"old\",\"old\",\"old\",\"Young Adults\",\"old\",\"Young Adults\",\"old\",\"Middle-Aged Adults\",\"Young Adults\",\"old\",\"old\",\"Middle-Aged Adults\",\"Middle-Aged Adults\",\"Young Adults\",\"Middle-Aged Adults\",\"Young Adults\",\"old\",\"old\",\"Middle-Aged Adults\",\"old\",\"old\",\"Young Adults\",\"old\",\"Middle-Aged Adults\",\"Young Adults\",\"old\",\"old\",\"old\",\"old\",\"old\",\"Young Adults\",\"Middle-Aged Adults\",\"old\",\"Young Adults\",\"Middle-Aged Adults\",\"old\",\"Middle-Aged Adults\",\"old\",\"old\",\"Young Adults\",\"Young Adults\",\"Middle-Aged Adults\",\"old\",\"Middle-Aged Adults\",\"Young Adults\",\"Middle-Aged Adults\",\"Young Adults\",\"Middle-Aged Adults\",\"old\",\"old\",\"Middle-Aged Adults\",\"Middle-Aged Adults\",\"old\",\"old\",\"old\",\"Young Adults\",\"Young Adults\",\"old\",\"Young Adults\",\"Young Adults\",\"Young Adults\",\"old\",\"old\",\"old\",\"Middle-Aged Adults\",\"Young Adults\",\"old\",\"Middle-Aged Adults\",\"old\",\"old\",\"Young Adults\",\"Young Adults\",\"Young Adults\",\"Young Adults\",\"Middle-Aged Adults\",\"Middle-Aged Adults\",\"Young Adults\",\"Young Adults\",\"old\",\"Middle-Aged Adults\",\"Young Adults\",\"Middle-Aged Adults\",\"old\",\"Middle-Aged Adults\",\"old\",\"Young Adults\",\"old\",\"Middle-Aged Adults\",\"Middle-Aged Adults\",\"Middle-Aged Adults\",\"old\",\"old\",\"Middle-Aged Adults\",\"old\",\"Young Adults\",\"Young Adults\",\"old\",\"old\",\"old\",\"old\",\"Young Adults\",\"old\",\"Middle-Aged Adults\",\"Young Adults\",\"Middle-Aged Adults\",\"old\",\"Middle-Aged Adults\",\"old\",\"Young Adults\",\"Middle-Aged Adults\",\"old\",\"Young Adults\",\"Middle-Aged Adults\",\"old\",\"Young Adults\",\"Middle-Aged Adults\",\"old\",\"Middle-Aged Adults\",\"Middle-Aged Adults\",\"Young Adults\",\"old\",\"old\",\"old\",\"Middle-Aged Adults\",\"Middle-Aged Adults\",\"Middle-Aged Adults\",\"Young Adults\",\"Young Adults\",\"Middle-Aged Adults\",\"Young Adults\",\"old\",\"Middle-Aged Adults\",\"old\",\"old\",\"Middle-Aged Adults\",\"Young Adults\",\"Young Adults\",\"Young Adults\",\"old\",\"Middle-Aged Adults\",\"Middle-Aged Adults\",\"Middle-Aged Adults\",\"old\",\"Young Adults\",\"Middle-Aged Adults\",\"old\",\"Young Adults\",\"Middle-Aged Adults\",\"Young Adults\",\"Middle-Aged Adults\",\"old\",\"teen\",\"Young Adults\",\"Middle-Aged Adults\",\"old\",\"Middle-Aged Adults\",\"Middle-Aged Adults\",\"Young Adults\",\"old\",\"Young Adults\",\"old\",\"Middle-Aged Adults\",\"Middle-Aged Adults\",\"Middle-Aged Adults\",\"old\",\"Young Adults\",\"old\",\"old\",\"Young Adults\",\"old\",\"Middle-Aged Adults\",\"Middle-Aged Adults\",\"Young Adults\",\"Middle-Aged Adults\",\"Middle-Aged Adults\",\"old\",\"Young Adults\",\"Young Adults\",\"Middle-Aged Adults\",\"Young Adults\",\"old\",\"Young Adults\",\"Middle-Aged Adults\",\"Middle-Aged Adults\",\"Middle-Aged Adults\",\"old\",\"old\",\"Middle-Aged Adults\",\"old\",\"Middle-Aged Adults\",\"Young Adults\",\"old\",\"Young Adults\",\"old\",\"Middle-Aged Adults\",\"old\",\"teen\",\"Middle-Aged Adults\",\"Young Adults\",\"old\",\"Middle-Aged Adults\",\"old\",\"old\",\"old\",\"old\",\"Middle-Aged Adults\",\"Young Adults\",\"Young Adults\",\"Middle-Aged Adults\",\"Middle-Aged Adults\",\"Middle-Aged Adults\",\"old\",\"old\",\"Middle-Aged Adults\",\"Middle-Aged Adults\",\"old\",\"old\",\"Young Adults\",\"Young Adults\",\"Middle-Aged Adults\",\"old\",\"old\",\"Middle-Aged Adults\",\"old\",\"old\",\"Young Adults\",\"old\",\"teen\",\"Young Adults\",\"old\",\"old\",\"Middle-Aged Adults\",\"old\",\"old\",\"old\",\"old\",\"Middle-Aged Adults\",\"Young Adults\",\"old\",\"old\",\"Middle-Aged Adults\",\"old\",\"Middle-Aged Adults\",\"Middle-Aged Adults\",\"old\",\"Young Adults\",\"Middle-Aged Adults\",\"Young Adults\",\"Middle-Aged Adults\",\"Middle-Aged Adults\",\"Middle-Aged Adults\",\"old\",\"Middle-Aged Adults\",\"Middle-Aged Adults\",\"Middle-Aged Adults\",\"Young Adults\",\"Young Adults\",\"Middle-Aged Adults\",\"Middle-Aged Adults\",\"old\",\"Young Adults\",\"Middle-Aged Adults\",\"Middle-Aged Adults\",\"Young Adults\",\"Young Adults\",\"Middle-Aged Adults\",\"Young Adults\",\"Young Adults\",\"old\",\"Young Adults\",\"old\",\"old\",\"Middle-Aged Adults\",\"Middle-Aged Adults\",\"old\",\"old\",\"old\",\"Young Adults\",\"old\",\"Middle-Aged Adults\",\"Middle-Aged Adults\",\"Middle-Aged Adults\",\"old\",\"Middle-Aged Adults\",\"Middle-Aged Adults\",\"old\",\"Middle-Aged Adults\",\"Young Adults\",\"old\",\"Middle-Aged Adults\",\"old\",\"Young Adults\",\"Young Adults\",\"Middle-Aged Adults\",\"Young Adults\",\"old\",\"old\",\"Middle-Aged Adults\",\"Young Adults\",\"Young Adults\",\"Middle-Aged Adults\",\"old\",\"Young Adults\",\"Young Adults\",\"Middle-Aged Adults\",\"Young Adults\",\"old\",\"Young Adults\",\"old\",\"old\",\"old\",\"Middle-Aged Adults\",\"old\",\"Middle-Aged Adults\",\"teen\",\"old\",\"old\",\"Middle-Aged Adults\",\"Young Adults\",\"Young Adults\",\"old\",\"old\",\"Young Adults\",\"Middle-Aged Adults\",\"old\",\"Middle-Aged Adults\",\"old\",\"Young Adults\",\"old\",\"old\",\"old\",\"Young Adults\",\"old\",\"Middle-Aged Adults\",\"Middle-Aged Adults\",\"Young Adults\",\"Middle-Aged Adults\",\"Middle-Aged Adults\",\"old\",\"Middle-Aged Adults\",\"Middle-Aged Adults\",\"old\",\"Young Adults\",\"old\",\"Middle-Aged Adults\",\"Young Adults\",\"old\",\"Young Adults\",\"Young Adults\",\"Young Adults\",\"Middle-Aged Adults\",\"Middle-Aged Adults\",\"teen\",\"old\",\"old\",\"old\",\"old\",\"Middle-Aged Adults\",\"old\",\"old\",\"Young Adults\",\"Middle-Aged Adults\",\"Middle-Aged Adults\",\"Middle-Aged Adults\",\"Young Adults\",\"Middle-Aged Adults\",\"Middle-Aged Adults\",\"Middle-Aged Adults\",\"old\",\"teen\",\"old\",\"old\",\"Middle-Aged Adults\",\"Middle-Aged Adults\",\"Middle-Aged Adults\",\"Middle-Aged Adults\",\"Middle-Aged Adults\",\"Middle-Aged Adults\",\"Young Adults\",\"old\",\"old\",\"Young Adults\",\"teen\",\"old\",\"old\",\"Middle-Aged Adults\",\"Young Adults\",\"Middle-Aged Adults\",\"Young Adults\",\"Middle-Aged Adults\",\"teen\",\"Young Adults\",\"Young Adults\",\"old\",\"Young Adults\",\"Middle-Aged Adults\",\"old\",\"old\",\"Young Adults\",\"old\",\"Middle-Aged Adults\",\"old\",\"Middle-Aged Adults\",\"Middle-Aged Adults\",\"Middle-Aged Adults\",\"old\",\"Middle-Aged Adults\",\"Middle-Aged Adults\",\"old\",\"old\",\"Middle-Aged Adults\",\"old\",\"Young Adults\",\"old\",\"old\",\"Middle-Aged Adults\",\"old\",\"Middle-Aged Adults\",\"old\",\"Middle-Aged Adults\",\"teen\",\"Middle-Aged Adults\",\"old\",\"old\",\"old\",\"Middle-Aged Adults\",\"Middle-Aged Adults\",\"old\",\"old\",\"old\",\"old\",\"Middle-Aged Adults\",\"Middle-Aged Adults\",\"Middle-Aged Adults\",\"Young Adults\",\"old\",\"Middle-Aged Adults\",\"old\",\"old\",\"old\",\"old\",\"Middle-Aged Adults\",\"Young Adults\",\"Middle-Aged Adults\",\"old\",\"old\",\"old\",\"Middle-Aged Adults\",\"Young Adults\",\"Middle-Aged Adults\",\"teen\",\"Young Adults\",\"Middle-Aged Adults\",\"Middle-Aged Adults\",\"Young Adults\",\"old\",\"Middle-Aged Adults\",\"old\",\"old\",\"Young Adults\",\"old\",\"Young Adults\",\"Young Adults\",\"Middle-Aged Adults\",\"Young Adults\",\"old\",\"Young Adults\",\"Middle-Aged Adults\",\"Middle-Aged Adults\",\"old\",\"old\",\"old\",\"Young Adults\",\"old\",\"Middle-Aged Adults\",\"Middle-Aged Adults\",\"Young Adults\",\"Young Adults\",\"old\",\"old\",\"old\",\"Middle-Aged Adults\",\"old\",\"Middle-Aged Adults\",\"Middle-Aged Adults\",\"Young Adults\",\"Middle-Aged Adults\",\"Middle-Aged Adults\",\"Young Adults\",\"Young Adults\",\"old\",\"Middle-Aged Adults\",\"Young Adults\",\"Young Adults\",\"old\",\"Young Adults\",\"old\",\"Middle-Aged Adults\",\"Young Adults\",\"Middle-Aged Adults\",\"Middle-Aged Adults\",\"old\",\"Middle-Aged Adults\",\"Middle-Aged Adults\",\"old\",\"Middle-Aged Adults\",\"Young Adults\",\"Middle-Aged Adults\",\"Young Adults\",\"Young Adults\",\"Middle-Aged Adults\",\"old\",\"Middle-Aged Adults\",\"old\",\"old\",\"Middle-Aged Adults\",\"old\",\"Young Adults\",\"old\",\"Middle-Aged Adults\",\"old\",\"Young Adults\",\"old\",\"Middle-Aged Adults\",\"old\",\"old\",\"Middle-Aged Adults\",\"Middle-Aged Adults\",\"Middle-Aged Adults\",\"old\",\"Middle-Aged Adults\",\"Young Adults\",\"old\",\"old\",\"Middle-Aged Adults\",\"Young Adults\",\"Young Adults\",\"old\",\"Young Adults\",\"Young Adults\",\"Middle-Aged Adults\",\"Middle-Aged Adults\",\"old\",\"old\",\"old\",\"old\",\"Young Adults\",\"Middle-Aged Adults\",\"old\",\"Middle-Aged Adults\",\"old\",\"Young Adults\",\"Middle-Aged Adults\",\"teen\",\"old\",\"teen\",\"Middle-Aged Adults\",\"Young Adults\",\"old\",\"Middle-Aged Adults\",\"old\",\"Middle-Aged Adults\",\"Middle-Aged Adults\",\"Middle-Aged Adults\",\"Middle-Aged Adults\",\"Young Adults\",\"old\",\"old\",\"Middle-Aged Adults\",\"old\",\"Middle-Aged Adults\",\"old\",\"old\",\"old\",\"old\",\"old\",\"Middle-Aged Adults\",\"Middle-Aged Adults\",\"Young Adults\",\"Middle-Aged Adults\",\"old\",\"old\",\"Young Adults\",\"Middle-Aged Adults\",\"old\",\"Middle-Aged Adults\",\"old\",\"old\",\"Middle-Aged Adults\",\"Middle-Aged Adults\",\"Middle-Aged Adults\",\"Middle-Aged Adults\",\"Middle-Aged Adults\",\"old\",\"Young Adults\",\"Middle-Aged Adults\",\"old\",\"old\",\"Young Adults\",\"old\",\"old\",\"old\",\"old\",\"Young Adults\",\"Middle-Aged Adults\",\"Young Adults\",\"Middle-Aged Adults\",\"Young Adults\",\"Middle-Aged Adults\",\"old\",\"old\",\"Middle-Aged Adults\",\"Middle-Aged Adults\",\"old\",\"old\",\"Middle-Aged Adults\",\"Middle-Aged Adults\",\"Middle-Aged Adults\",\"Middle-Aged Adults\",\"Middle-Aged Adults\",\"old\",\"Middle-Aged Adults\",\"old\",\"old\",\"old\",\"Middle-Aged Adults\",\"Young Adults\",\"Young Adults\",\"old\",\"Young Adults\",\"Middle-Aged Adults\",\"Young Adults\",\"Young Adults\",\"old\",\"old\",\"old\",\"Young Adults\",\"old\",\"teen\",\"Young Adults\",\"old\",\"Young Adults\",\"Young Adults\",\"old\",\"Middle-Aged Adults\",\"Middle-Aged Adults\",\"Young Adults\",\"teen\",\"Middle-Aged Adults\",\"old\",\"Middle-Aged Adults\",\"old\",\"old\",\"old\",\"old\",\"old\",\"Middle-Aged Adults\",\"old\",\"Middle-Aged Adults\",\"old\",\"Middle-Aged Adults\",\"Young Adults\",\"Young Adults\",\"Young Adults\",\"teen\",\"old\",\"old\",\"old\",\"Middle-Aged Adults\",\"old\",\"Middle-Aged Adults\",\"Young Adults\",\"Middle-Aged Adults\",\"Middle-Aged Adults\",\"old\",\"old\",\"old\",\"Middle-Aged Adults\",\"old\",\"old\",\"Middle-Aged Adults\",\"old\",\"Young Adults\",\"Middle-Aged Adults\",\"Young Adults\",\"old\",\"teen\",\"Middle-Aged Adults\",\"Young Adults\",\"old\",\"Young Adults\",\"Middle-Aged Adults\",\"Young Adults\",\"old\",\"Young Adults\",\"Middle-Aged Adults\",\"Middle-Aged Adults\",\"Middle-Aged Adults\",\"old\",\"Middle-Aged Adults\",\"teen\",\"old\",\"Young Adults\",\"old\",\"old\",\"Middle-Aged Adults\",\"Young Adults\",\"old\",\"old\",\"old\",\"Middle-Aged Adults\",\"Middle-Aged Adults\",\"Middle-Aged Adults\",\"Young Adults\",\"old\",\"Middle-Aged Adults\",\"Middle-Aged Adults\",\"old\",\"Middle-Aged Adults\",\"old\",\"old\",\"Middle-Aged Adults\",\"Young Adults\",\"Middle-Aged Adults\",\"old\",\"old\",\"old\",\"old\",\"Middle-Aged Adults\",\"Middle-Aged Adults\",\"old\",\"Young Adults\",\"Young Adults\",\"Middle-Aged Adults\",\"old\",\"old\",\"Middle-Aged Adults\",\"Middle-Aged Adults\",\"old\",\"Middle-Aged Adults\",\"Middle-Aged Adults\",\"old\",\"Middle-Aged Adults\",\"old\",\"old\",\"Middle-Aged Adults\",\"old\",\"old\",\"Young Adults\",\"old\",\"old\",\"Young Adults\",\"Young Adults\",\"old\",\"Middle-Aged Adults\",\"Young Adults\",\"Middle-Aged Adults\",\"Middle-Aged Adults\",\"old\",\"old\",\"Middle-Aged Adults\",\"old\",\"Young Adults\",\"Young Adults\",\"old\",\"old\",\"Middle-Aged Adults\",\"Middle-Aged Adults\",\"Middle-Aged Adults\",\"Middle-Aged Adults\",\"Middle-Aged Adults\",\"Middle-Aged Adults\",\"Middle-Aged Adults\",\"old\",\"old\",\"Middle-Aged Adults\",\"Young Adults\",\"Middle-Aged Adults\",\"Young Adults\",\"old\",\"Middle-Aged Adults\",\"old\",\"Middle-Aged Adults\",\"teen\",\"old\",\"Young Adults\",\"old\",\"Middle-Aged Adults\",\"Young Adults\",\"old\",\"Middle-Aged Adults\",\"Middle-Aged Adults\",\"old\",\"old\",\"old\",\"old\",\"old\",\"Middle-Aged Adults\",\"Middle-Aged Adults\",\"old\",\"old\",\"Middle-Aged Adults\",\"old\",\"Middle-Aged Adults\",\"Middle-Aged Adults\",\"Middle-Aged Adults\",\"Young Adults\",\"Young Adults\",\"old\",\"Young Adults\",\"Middle-Aged Adults\",\"old\",\"old\",\"old\",\"Middle-Aged Adults\",\"Middle-Aged Adults\",\"old\",\"Middle-Aged Adults\",\"old\",\"old\",\"Young Adults\",\"Middle-Aged Adults\",\"Middle-Aged Adults\",\"Middle-Aged Adults\",\"Middle-Aged Adults\",\"old\",\"Middle-Aged Adults\",\"old\",\"Middle-Aged Adults\",\"old\",\"Middle-Aged Adults\",\"Young Adults\",\"old\",\"Young Adults\",\"old\",\"old\",\"Young Adults\",\"old\",\"Young Adults\",\"Middle-Aged Adults\",\"old\",\"old\",\"Middle-Aged Adults\",\"Young Adults\",\"old\",\"old\",\"old\",\"Middle-Aged Adults\",\"old\",\"old\",\"Middle-Aged Adults\",\"Middle-Aged Adults\",\"Middle-Aged Adults\",\"Middle-Aged Adults\",\"old\",\"old\",\"Middle-Aged Adults\",\"Middle-Aged Adults\",\"Young Adults\",\"Young Adults\",\"Middle-Aged Adults\",\"Middle-Aged Adults\",\"Middle-Aged Adults\",\"old\",\"old\",\"old\",\"Middle-Aged Adults\",\"Middle-Aged Adults\",\"old\",\"Young Adults\",\"Middle-Aged Adults\",\"Young Adults\",\"old\",\"Middle-Aged Adults\",\"Young Adults\",\"Middle-Aged Adults\",\"Middle-Aged Adults\",\"Middle-Aged Adults\",\"old\",\"Middle-Aged Adults\",\"Young Adults\",\"Young Adults\",\"old\",\"old\",\"old\",\"Middle-Aged Adults\",\"old\",\"old\",\"old\",\"Middle-Aged Adults\",\"Middle-Aged Adults\",\"old\",\"Middle-Aged Adults\",\"Middle-Aged Adults\",\"old\",\"Young Adults\",\"old\",\"old\",\"old\",\"Middle-Aged Adults\",\"Middle-Aged Adults\",\"old\",\"Middle-Aged Adults\",\"old\",\"old\",\"old\",\"old\",\"Middle-Aged Adults\",\"Young Adults\",\"Young Adults\",\"Young Adults\",\"Young Adults\",\"old\",\"Middle-Aged Adults\",\"Middle-Aged Adults\",\"Young Adults\",\"old\",\"Middle-Aged Adults\",\"old\",\"Young Adults\",\"Middle-Aged Adults\",\"old\",\"Middle-Aged Adults\",\"Middle-Aged Adults\",\"Middle-Aged Adults\",\"Middle-Aged Adults\",\"Young Adults\",\"Middle-Aged Adults\",\"old\",\"old\",\"Middle-Aged Adults\",\"Middle-Aged Adults\",\"Middle-Aged Adults\",\"Middle-Aged Adults\",\"Middle-Aged Adults\",\"Middle-Aged Adults\",\"Young Adults\",\"teen\",\"Middle-Aged Adults\",\"Young Adults\",\"old\",\"old\",\"Middle-Aged Adults\",\"Young Adults\",\"Middle-Aged Adults\",\"Young Adults\",\"Young Adults\",\"Middle-Aged Adults\",\"Middle-Aged Adults\",\"Middle-Aged Adults\",\"Young Adults\",\"Young Adults\",\"Middle-Aged Adults\",\"old\",\"Young Adults\",\"Young Adults\",\"Young Adults\",\"Middle-Aged Adults\",\"Middle-Aged Adults\",\"Young Adults\",\"Middle-Aged Adults\",\"Young Adults\",\"Middle-Aged Adults\",\"Middle-Aged Adults\",\"old\",\"Middle-Aged Adults\",\"Middle-Aged Adults\",\"Middle-Aged Adults\",\"Middle-Aged Adults\",\"Young Adults\",\"Middle-Aged Adults\",\"Young Adults\",\"old\",\"old\",\"Young Adults\",\"Middle-Aged Adults\",\"old\",\"Middle-Aged Adults\",\"old\",\"Middle-Aged Adults\",\"Middle-Aged Adults\",\"old\",\"Young Adults\",\"Middle-Aged Adults\",\"Middle-Aged Adults\",\"old\",\"Young Adults\",\"Middle-Aged Adults\",\"Young Adults\",\"Middle-Aged Adults\",\"old\",\"old\",\"Middle-Aged Adults\",\"Young Adults\",\"Middle-Aged Adults\",\"Middle-Aged Adults\",\"old\",\"Middle-Aged Adults\",\"Young Adults\",\"Young Adults\",\"Middle-Aged Adults\",\"Young Adults\",\"teen\",\"Middle-Aged Adults\",\"Young Adults\",\"Middle-Aged Adults\",\"old\",\"old\",\"old\",\"Middle-Aged Adults\",\"old\",\"Middle-Aged Adults\",\"Middle-Aged Adults\",\"Middle-Aged Adults\",\"Young Adults\",\"Middle-Aged Adults\",\"Middle-Aged Adults\",\"Middle-Aged Adults\",\"old\",\"teen\",\"teen\",\"old\",\"Middle-Aged Adults\",\"Middle-Aged Adults\",\"Middle-Aged Adults\",\"Middle-Aged Adults\",\"old\",\"Middle-Aged Adults\",\"Middle-Aged Adults\",\"Young Adults\",\"Middle-Aged Adults\",\"old\",\"Young Adults\",\"Middle-Aged Adults\",\"Middle-Aged Adults\",\"Middle-Aged Adults\",\"Young Adults\",\"old\",\"Middle-Aged Adults\",\"old\",\"old\",\"Middle-Aged Adults\",\"old\",\"Middle-Aged Adults\",\"Young Adults\",\"Middle-Aged Adults\",\"old\",\"Middle-Aged Adults\",\"Young Adults\",\"Young Adults\",\"Young Adults\",\"old\",\"old\",\"Young Adults\",\"Middle-Aged Adults\",\"Young Adults\",\"old\",\"old\",\"Young Adults\",\"Young Adults\",\"teen\",\"Middle-Aged Adults\",\"Middle-Aged Adults\",\"Middle-Aged Adults\",\"old\",\"old\",\"Young Adults\",\"old\",\"Middle-Aged Adults\",\"Young Adults\",\"Middle-Aged Adults\",\"Middle-Aged Adults\",\"old\",\"Middle-Aged Adults\",\"Middle-Aged Adults\",\"old\",\"Middle-Aged Adults\",\"old\",\"teen\",\"Middle-Aged Adults\",\"Middle-Aged Adults\",\"old\",\"Young Adults\",\"old\",\"Young Adults\",\"Young Adults\",\"Middle-Aged Adults\",\"old\",\"Young Adults\",\"Young Adults\",\"Young Adults\",\"old\",\"Middle-Aged Adults\",\"old\",\"Young Adults\",\"Middle-Aged Adults\",\"old\",\"old\",\"Young Adults\",\"Middle-Aged Adults\",\"Middle-Aged Adults\",\"Middle-Aged Adults\",\"old\",\"Middle-Aged Adults\",\"old\",\"Young Adults\",\"Middle-Aged Adults\",\"Middle-Aged Adults\",\"old\",\"old\",\"Middle-Aged Adults\",\"Middle-Aged Adults\",\"Middle-Aged Adults\",\"Middle-Aged Adults\",\"Young Adults\",\"Middle-Aged Adults\",\"old\",\"Young Adults\",\"old\",\"old\",\"Young Adults\",\"old\",\"Middle-Aged Adults\",\"Young Adults\",\"Young Adults\",\"Middle-Aged Adults\",\"old\",\"old\",\"old\",\"Middle-Aged Adults\",\"old\",\"old\",\"old\",\"Young Adults\",\"old\",\"old\",\"old\",\"Young Adults\",\"Middle-Aged Adults\",\"Middle-Aged Adults\",\"Young Adults\",\"old\",\"old\",\"old\",\"Young Adults\",\"old\",\"Young Adults\",\"Young Adults\",\"old\",\"old\",\"Middle-Aged Adults\",\"Middle-Aged Adults\",\"old\",\"old\",\"Young Adults\",\"Middle-Aged Adults\",\"Young Adults\",\"Middle-Aged Adults\",\"Middle-Aged Adults\",\"old\",\"Middle-Aged Adults\",\"old\",\"Young Adults\",\"Middle-Aged Adults\",\"Young Adults\",\"Middle-Aged Adults\",\"Young Adults\",\"Young Adults\",\"old\",\"Middle-Aged Adults\",\"Middle-Aged Adults\",\"old\",\"Middle-Aged Adults\",\"old\",\"Middle-Aged Adults\",\"Middle-Aged Adults\",\"old\",\"old\",\"Middle-Aged Adults\",\"Middle-Aged Adults\",\"Middle-Aged Adults\",\"old\",\"Young Adults\",\"old\",\"old\",\"old\",\"Young Adults\",\"Young Adults\",\"Middle-Aged Adults\",\"Middle-Aged Adults\",\"old\",\"old\",\"Young Adults\",\"Young Adults\",\"old\",\"Young Adults\",\"Young Adults\",\"Young Adults\",\"Middle-Aged Adults\",\"Middle-Aged Adults\",\"Young Adults\",\"Middle-Aged Adults\",\"Middle-Aged Adults\",\"old\",\"old\",\"Young Adults\",\"old\",\"old\",\"Young Adults\",\"Middle-Aged Adults\",\"old\",\"old\",\"Middle-Aged Adults\",\"Young Adults\",\"old\",\"Middle-Aged Adults\",\"Middle-Aged Adults\",\"old\",\"Middle-Aged Adults\",\"Middle-Aged Adults\",\"old\",\"Young Adults\",\"Middle-Aged Adults\",\"old\",\"Middle-Aged Adults\",\"old\",\"old\",\"Young Adults\",\"old\",\"Middle-Aged Adults\",\"old\",\"Young Adults\",\"Middle-Aged Adults\",\"Young Adults\",\"old\",\"old\",\"old\",\"Middle-Aged Adults\",\"old\",\"Young Adults\",\"old\",\"old\",\"Middle-Aged Adults\",\"teen\",\"Middle-Aged Adults\",\"Young Adults\",\"old\",\"old\",\"old\",\"Young Adults\",\"Young Adults\",\"old\",\"Young Adults\",\"old\",\"old\",\"Young Adults\",\"teen\",\"Middle-Aged Adults\",\"old\",\"Middle-Aged Adults\",\"old\",\"Middle-Aged Adults\",\"old\",\"Middle-Aged Adults\",\"old\",\"old\",\"old\",\"old\",\"old\",\"old\",\"Middle-Aged Adults\",\"Young Adults\",\"Middle-Aged Adults\",\"Middle-Aged Adults\",\"old\",\"Middle-Aged Adults\",\"teen\",\"old\",\"old\",\"Middle-Aged Adults\",\"Middle-Aged Adults\",\"old\",\"old\",\"Young Adults\",\"old\",\"old\",\"Young Adults\",\"Young Adults\",\"Middle-Aged Adults\",\"old\",\"Middle-Aged Adults\",\"old\",\"Middle-Aged Adults\",\"Middle-Aged Adults\",\"Middle-Aged Adults\",\"old\",\"Young Adults\",\"Middle-Aged Adults\",\"old\",\"Young Adults\",\"Young Adults\",\"Middle-Aged Adults\",\"old\",\"Middle-Aged Adults\",\"Middle-Aged Adults\",\"Young Adults\",\"old\",\"Middle-Aged Adults\",\"Young Adults\",\"Middle-Aged Adults\",\"old\",\"old\",\"Middle-Aged Adults\",\"Middle-Aged Adults\",\"old\",\"Middle-Aged Adults\",\"teen\",\"Middle-Aged Adults\",\"Young Adults\",\"Middle-Aged Adults\",\"old\",\"Young Adults\",\"Middle-Aged Adults\",\"Middle-Aged Adults\",\"old\",\"Middle-Aged Adults\",\"Middle-Aged Adults\",\"Middle-Aged Adults\",\"old\",\"Young Adults\",\"old\",\"old\",\"old\",\"Young Adults\",\"Young Adults\",\"old\",\"Middle-Aged Adults\",\"Middle-Aged Adults\",\"old\",\"Middle-Aged Adults\",\"old\",\"old\",\"Middle-Aged Adults\",\"Young Adults\",\"Middle-Aged Adults\",\"Young Adults\",\"old\",\"Middle-Aged Adults\",\"Middle-Aged Adults\",\"Middle-Aged Adults\",\"old\",\"old\",\"Young Adults\",\"old\",\"Young Adults\",\"old\",\"old\",\"old\",\"Middle-Aged Adults\",\"old\",\"Young Adults\",\"old\",\"Young Adults\",\"old\",\"Young Adults\",\"old\",\"Middle-Aged Adults\",\"old\",\"old\",\"Middle-Aged Adults\",\"Young Adults\",\"Middle-Aged Adults\",\"old\",\"Young Adults\",\"old\",\"old\",\"old\",\"old\",\"Young Adults\",\"old\",\"old\",\"old\",\"Middle-Aged Adults\",\"Middle-Aged Adults\",\"old\",\"Middle-Aged Adults\",\"Middle-Aged Adults\",\"old\",\"old\",\"Middle-Aged Adults\",\"old\",\"old\",\"teen\",\"Middle-Aged Adults\",\"old\",\"Middle-Aged Adults\",\"old\",\"old\",\"Young Adults\",\"Middle-Aged Adults\",\"old\",\"Middle-Aged Adults\",\"Young Adults\",\"Young Adults\",\"Middle-Aged Adults\",\"old\",\"Young Adults\",\"old\",\"Young Adults\",\"old\",\"Young Adults\",\"old\",\"Young Adults\",\"old\",\"Middle-Aged Adults\",\"Young Adults\",\"Young Adults\",\"teen\",\"Young Adults\",\"Young Adults\",\"Middle-Aged Adults\",\"Middle-Aged Adults\",\"Young Adults\",\"Young Adults\",\"Middle-Aged Adults\",\"old\",\"old\",\"Young Adults\",\"Young Adults\",\"old\",\"Young Adults\",\"old\",\"Young Adults\",\"Young Adults\",\"old\",\"old\",\"old\",\"Middle-Aged Adults\",\"Young Adults\",\"Middle-Aged Adults\",\"Young Adults\",\"Middle-Aged Adults\",\"Young Adults\",\"old\",\"Middle-Aged Adults\",\"Middle-Aged Adults\",\"old\",\"Middle-Aged Adults\",\"Young Adults\",\"Middle-Aged Adults\",\"old\",\"old\",\"Middle-Aged Adults\",\"Young Adults\",\"Middle-Aged Adults\",\"Middle-Aged Adults\",\"Middle-Aged Adults\",\"old\",\"Middle-Aged Adults\",\"Young Adults\",\"old\",\"old\",\"Middle-Aged Adults\",\"old\",\"Middle-Aged Adults\",\"old\",\"old\",\"Young Adults\",\"Middle-Aged Adults\",\"Middle-Aged Adults\",\"Middle-Aged Adults\",\"old\",\"old\",\"Middle-Aged Adults\",\"old\",\"Middle-Aged Adults\",\"old\",\"Young Adults\",\"Young Adults\",\"Middle-Aged Adults\",\"old\",\"old\",\"old\",\"old\",\"Young Adults\",\"Middle-Aged Adults\",\"old\",\"Middle-Aged Adults\",\"old\",\"Young Adults\",\"Middle-Aged Adults\",\"Young Adults\",\"old\",\"Young Adults\",\"Middle-Aged Adults\",\"teen\",\"Young Adults\",\"old\",\"old\",\"Young Adults\",\"Young Adults\",\"old\",\"old\",\"old\",\"Middle-Aged Adults\",\"Middle-Aged Adults\",\"Young Adults\",\"Middle-Aged Adults\",\"Young Adults\",\"old\",\"Young Adults\",\"Middle-Aged Adults\",\"old\",\"Middle-Aged Adults\",\"Middle-Aged Adults\",\"old\",\"Middle-Aged Adults\",\"Middle-Aged Adults\",\"Young Adults\",\"old\",\"Young Adults\",\"old\",\"Middle-Aged Adults\",\"Young Adults\",\"Middle-Aged Adults\",\"teen\",\"Young Adults\",\"old\",\"old\",\"Young Adults\",\"Middle-Aged Adults\",\"old\",\"old\",\"old\",\"Middle-Aged Adults\",\"Middle-Aged Adults\",\"Middle-Aged Adults\",\"old\",\"Middle-Aged Adults\",\"Middle-Aged Adults\",\"old\",\"Young Adults\",\"old\",\"old\",\"old\",\"Middle-Aged Adults\",\"old\",\"Middle-Aged Adults\",\"Middle-Aged Adults\",\"old\",\"teen\",\"Middle-Aged Adults\",\"old\",\"Middle-Aged Adults\",\"Middle-Aged Adults\",\"old\",\"old\",\"old\",\"Middle-Aged Adults\",\"old\",\"Middle-Aged Adults\",\"Young Adults\",\"Middle-Aged Adults\",\"old\",\"old\",\"Middle-Aged Adults\",\"old\",\"Young Adults\",\"Middle-Aged Adults\",\"Middle-Aged Adults\",\"old\",\"Middle-Aged Adults\",\"Middle-Aged Adults\",\"Middle-Aged Adults\",\"old\",\"old\",\"old\",\"Young Adults\",\"old\",\"old\",\"Young Adults\",\"Middle-Aged Adults\",\"old\",\"teen\",\"Middle-Aged Adults\",\"old\",\"Middle-Aged Adults\",\"old\",\"Young Adults\",\"old\",\"old\",\"Middle-Aged Adults\",\"Middle-Aged Adults\",\"Middle-Aged Adults\",\"Middle-Aged Adults\",\"Young Adults\",\"Middle-Aged Adults\",\"old\",\"Young Adults\",\"Middle-Aged Adults\",\"old\",\"Young Adults\",\"Middle-Aged Adults\",\"old\",\"Middle-Aged Adults\",\"Young Adults\",\"Young Adults\",\"old\",\"old\",\"Middle-Aged Adults\",\"Young Adults\",\"Middle-Aged Adults\",\"Middle-Aged Adults\",\"Middle-Aged Adults\",\"old\",\"old\",\"old\",\"old\",\"Middle-Aged Adults\",\"Young Adults\",\"Young Adults\",\"old\",\"Middle-Aged Adults\",\"Young Adults\",\"Middle-Aged Adults\",\"old\",\"Middle-Aged Adults\",\"old\",\"old\",\"old\",\"Middle-Aged Adults\",\"Middle-Aged Adults\",\"Middle-Aged Adults\",\"Young Adults\",\"old\",\"Middle-Aged Adults\",\"Middle-Aged Adults\",\"Middle-Aged Adults\",\"Young Adults\",\"old\",\"old\",\"Middle-Aged Adults\",\"old\",\"Young Adults\",\"old\",\"Young Adults\",\"Middle-Aged Adults\",\"old\",\"Middle-Aged Adults\",\"Middle-Aged Adults\",\"old\",\"Middle-Aged Adults\",\"Middle-Aged Adults\",\"Young Adults\",\"old\",\"Middle-Aged Adults\",\"old\",\"old\",\"Young Adults\",\"Middle-Aged Adults\",\"old\",\"Young Adults\",\"old\",\"Young Adults\",\"Middle-Aged Adults\",\"Young Adults\",\"old\",\"old\",\"Middle-Aged Adults\",\"Middle-Aged Adults\",\"Young Adults\",\"old\",\"Middle-Aged Adults\",\"old\",\"Young Adults\",\"Middle-Aged Adults\",\"Young Adults\",\"Middle-Aged Adults\",\"Middle-Aged Adults\",\"Middle-Aged Adults\",\"Young Adults\",\"Middle-Aged Adults\",\"Middle-Aged Adults\",\"old\",\"old\",\"Young Adults\",\"Middle-Aged Adults\",\"Young Adults\",\"Middle-Aged Adults\",\"Young Adults\",\"Middle-Aged Adults\",\"Middle-Aged Adults\",\"Middle-Aged Adults\",\"Young Adults\",\"old\",\"old\",\"Young Adults\",\"old\",\"Middle-Aged Adults\",\"Young Adults\",\"Middle-Aged Adults\",\"Young Adults\",\"Middle-Aged Adults\",\"old\",\"old\",\"Middle-Aged Adults\",\"Middle-Aged Adults\",\"Middle-Aged Adults\",\"Middle-Aged Adults\",\"Middle-Aged Adults\",\"old\",\"Young Adults\",\"Middle-Aged Adults\",\"old\",\"Middle-Aged Adults\",\"Young Adults\",\"Young Adults\",\"Middle-Aged Adults\",\"old\",\"Middle-Aged Adults\",\"old\",\"Young Adults\",\"Middle-Aged Adults\",\"Middle-Aged Adults\",\"Middle-Aged Adults\",\"old\",\"old\",\"Young Adults\",\"Young Adults\",\"Middle-Aged Adults\",\"Middle-Aged Adults\",\"Middle-Aged Adults\",\"Middle-Aged Adults\",\"Middle-Aged Adults\",\"old\",\"old\",\"old\",\"Middle-Aged Adults\",\"old\",\"Middle-Aged Adults\",\"old\",\"old\",\"Middle-Aged Adults\",\"Middle-Aged Adults\",\"old\",\"Middle-Aged Adults\",\"Young Adults\",\"Middle-Aged Adults\",\"Young Adults\",\"Young Adults\",\"Middle-Aged Adults\",\"Young Adults\",\"old\",\"old\",\"Young Adults\",\"Middle-Aged Adults\",\"old\",\"Middle-Aged Adults\",\"old\",\"Young Adults\",\"Middle-Aged Adults\",\"old\",\"Middle-Aged Adults\",\"Middle-Aged Adults\",\"old\",\"old\",\"old\",\"Middle-Aged Adults\",\"old\",\"old\",\"Middle-Aged Adults\",\"Middle-Aged Adults\",\"old\",\"Young Adults\",\"old\",\"Middle-Aged Adults\",\"Middle-Aged Adults\",\"Middle-Aged Adults\",\"old\",\"Young Adults\",\"old\",\"old\",\"Middle-Aged Adults\",\"teen\",\"Middle-Aged Adults\",\"Young Adults\",\"Middle-Aged Adults\",\"old\",\"old\",\"Young Adults\",\"Middle-Aged Adults\",\"Middle-Aged Adults\",\"Young Adults\",\"Middle-Aged Adults\",\"Young Adults\",\"old\",\"Middle-Aged Adults\",\"Young Adults\",\"Young Adults\",\"old\",\"old\",\"Middle-Aged Adults\",\"old\",\"Middle-Aged Adults\",\"old\",\"old\",\"old\",\"old\",\"Middle-Aged Adults\",\"old\",\"Young Adults\",\"Young Adults\",\"old\",\"old\",\"Middle-Aged Adults\",\"old\",\"old\",\"old\",\"teen\",\"Middle-Aged Adults\",\"old\",\"Middle-Aged Adults\",\"Young Adults\",\"Middle-Aged Adults\",\"old\",\"Young Adults\",\"old\",\"Middle-Aged Adults\",\"Middle-Aged Adults\",\"Middle-Aged Adults\",\"Middle-Aged Adults\",\"Middle-Aged Adults\",\"Middle-Aged Adults\",\"Young Adults\",\"old\",\"old\",\"Middle-Aged Adults\",\"Middle-Aged Adults\",\"Middle-Aged Adults\",\"Middle-Aged Adults\",\"old\",\"Young Adults\",\"Young Adults\",\"Middle-Aged Adults\",\"old\",\"old\",\"Middle-Aged Adults\",\"old\",\"old\",\"Young Adults\",\"Young Adults\",\"old\",\"Young Adults\",\"old\",\"old\",\"old\",\"Middle-Aged Adults\",\"Middle-Aged Adults\",\"old\",\"old\",\"old\",\"Young Adults\",\"Middle-Aged Adults\",\"Young Adults\",\"Middle-Aged Adults\",\"old\",\"Middle-Aged Adults\",\"Middle-Aged Adults\",\"Young Adults\",\"old\",\"old\",\"Young Adults\",\"Young Adults\",\"old\",\"old\",\"Middle-Aged Adults\",\"old\",\"Middle-Aged Adults\",\"Middle-Aged Adults\",\"Middle-Aged Adults\",\"old\",\"Young Adults\",\"Middle-Aged Adults\",\"Middle-Aged Adults\",\"old\",\"old\",\"Middle-Aged Adults\",\"old\",\"Young Adults\",\"Young Adults\",\"Young Adults\",\"Middle-Aged Adults\",\"Young Adults\",\"Young Adults\",\"Middle-Aged Adults\",\"Middle-Aged Adults\",\"old\",\"old\",\"Middle-Aged Adults\",\"old\",\"Young Adults\",\"old\",\"old\",\"Middle-Aged Adults\",\"old\",\"old\",\"old\",\"old\",\"old\",\"Middle-Aged Adults\",\"Middle-Aged Adults\",\"old\",\"Middle-Aged Adults\",\"old\",\"old\",\"Middle-Aged Adults\",\"Middle-Aged Adults\",\"Middle-Aged Adults\",\"Middle-Aged Adults\",\"Middle-Aged Adults\",\"Young Adults\",\"old\",\"Young Adults\",\"old\",\"Young Adults\",\"Middle-Aged Adults\",\"Middle-Aged Adults\",\"teen\",\"old\",\"old\",\"Middle-Aged Adults\",\"old\",\"Young Adults\",\"Young Adults\",\"teen\",\"Young Adults\",\"Young Adults\",\"old\",\"Young Adults\",\"old\",\"old\",\"Middle-Aged Adults\",\"Middle-Aged Adults\",\"Middle-Aged Adults\",\"Young Adults\",\"Young Adults\",\"Middle-Aged Adults\",\"Middle-Aged Adults\",\"old\",\"old\",\"old\",\"old\",\"Middle-Aged Adults\",\"Middle-Aged Adults\",\"Middle-Aged Adults\",\"old\",\"old\",\"old\",\"teen\",\"Middle-Aged Adults\",\"Middle-Aged Adults\",\"Middle-Aged Adults\",\"old\",\"old\",\"Middle-Aged Adults\",\"old\",\"Middle-Aged Adults\",\"Young Adults\",\"Middle-Aged Adults\",\"old\",\"Young Adults\",\"old\",\"Middle-Aged Adults\",\"old\",\"Young Adults\",\"Young Adults\",\"old\",\"old\",\"old\",\"Middle-Aged Adults\",\"old\",\"old\",\"old\",\"Middle-Aged Adults\",\"Middle-Aged Adults\",\"old\",\"old\",\"old\",\"Young Adults\",\"old\",\"Young Adults\",\"Young Adults\",\"old\",\"Middle-Aged Adults\",\"Middle-Aged Adults\",\"Middle-Aged Adults\",\"Middle-Aged Adults\",\"old\",\"Middle-Aged Adults\",\"Young Adults\",\"Middle-Aged Adults\",\"old\",\"Middle-Aged Adults\",\"old\",\"old\",\"Young Adults\",\"Middle-Aged Adults\",\"old\",\"Middle-Aged Adults\",\"old\",\"Middle-Aged Adults\",\"Middle-Aged Adults\",\"Middle-Aged Adults\",\"Young Adults\",\"old\",\"old\",\"Young Adults\",\"Middle-Aged Adults\",\"old\",\"Middle-Aged Adults\",\"Middle-Aged Adults\",\"Middle-Aged Adults\",\"old\",\"old\",\"old\",\"old\",\"Young Adults\",\"Young Adults\",\"Young Adults\",\"Young Adults\",\"old\",\"Middle-Aged Adults\",\"Young Adults\",\"old\",\"old\",\"Middle-Aged Adults\",\"Middle-Aged Adults\",\"old\",\"Middle-Aged Adults\",\"Middle-Aged Adults\",\"Middle-Aged Adults\",\"old\",\"Young Adults\",\"Middle-Aged Adults\",\"Middle-Aged Adults\",\"Middle-Aged Adults\",\"Young Adults\",\"Young Adults\",\"old\",\"Middle-Aged Adults\",\"old\",\"old\",\"Middle-Aged Adults\",\"Middle-Aged Adults\",\"Middle-Aged Adults\",\"old\",\"old\",\"old\",\"Middle-Aged Adults\",\"Young Adults\",\"Young Adults\",\"Middle-Aged Adults\",\"old\",\"old\",\"Middle-Aged Adults\",\"Young Adults\",\"old\",\"Middle-Aged Adults\",\"old\",\"Young Adults\",\"old\",\"Young Adults\",\"old\",\"old\",\"Young Adults\",\"old\",\"old\",\"Middle-Aged Adults\",\"Young Adults\",\"Middle-Aged Adults\",\"Middle-Aged Adults\",\"Young Adults\",\"Young Adults\",\"Middle-Aged Adults\",\"old\",\"teen\",\"old\",\"Middle-Aged Adults\",\"Middle-Aged Adults\",\"Young Adults\",\"old\",\"old\",\"old\",\"Middle-Aged Adults\",\"Middle-Aged Adults\",\"Young Adults\",\"Middle-Aged Adults\",\"Young Adults\",\"old\",\"Middle-Aged Adults\",\"old\",\"old\",\"Middle-Aged Adults\",\"Young Adults\",\"Middle-Aged Adults\",\"Middle-Aged Adults\",\"Middle-Aged Adults\",\"Middle-Aged Adults\",\"Middle-Aged Adults\",\"old\",\"Young Adults\",\"old\",\"old\",\"Middle-Aged Adults\",\"Middle-Aged Adults\",\"Young Adults\",\"Young Adults\",\"Young Adults\",\"Middle-Aged Adults\",\"old\",\"old\",\"Young Adults\",\"old\",\"Young Adults\",\"Young Adults\",\"Young Adults\",\"Young Adults\",\"Middle-Aged Adults\",\"Middle-Aged Adults\",\"Middle-Aged Adults\",\"old\",\"Middle-Aged Adults\",\"Middle-Aged Adults\",\"Middle-Aged Adults\",\"Middle-Aged Adults\",\"Middle-Aged Adults\",\"old\",\"Middle-Aged Adults\",\"Young Adults\",\"Middle-Aged Adults\",\"Middle-Aged Adults\",\"old\",\"Middle-Aged Adults\",\"Middle-Aged Adults\",\"Middle-Aged Adults\",\"Middle-Aged Adults\",\"Young Adults\",\"Middle-Aged Adults\",\"Young Adults\",\"Middle-Aged Adults\",\"old\",\"old\",\"Young Adults\",\"old\",\"Young Adults\",\"Middle-Aged Adults\",\"Middle-Aged Adults\",\"old\",\"Middle-Aged Adults\",\"old\",\"Middle-Aged Adults\",\"Young Adults\",\"Middle-Aged Adults\",\"old\",\"Middle-Aged Adults\",\"old\",\"Middle-Aged Adults\",\"Middle-Aged Adults\",\"Middle-Aged Adults\",\"Middle-Aged Adults\",\"old\",\"old\",\"Middle-Aged Adults\",\"Middle-Aged Adults\",\"Young Adults\",\"Young Adults\",\"old\",\"Middle-Aged Adults\",\"Middle-Aged Adults\",\"Middle-Aged Adults\",\"Young Adults\",\"Young Adults\",\"old\",\"Young Adults\",\"old\",\"Middle-Aged Adults\",\"Middle-Aged Adults\",\"Young Adults\",\"Middle-Aged Adults\",\"Young Adults\",\"old\",\"Middle-Aged Adults\",\"Young Adults\",\"Middle-Aged Adults\",\"Young Adults\",\"old\",\"old\",\"Young Adults\",\"Young Adults\",\"old\",\"Young Adults\",\"Middle-Aged Adults\",\"Middle-Aged Adults\",\"Middle-Aged Adults\",\"Middle-Aged Adults\",\"Middle-Aged Adults\",\"Middle-Aged Adults\",\"Young Adults\",\"old\",\"Middle-Aged Adults\",\"Middle-Aged Adults\",\"old\",\"Middle-Aged Adults\",\"old\",\"old\",\"Young Adults\",\"Young Adults\",\"Middle-Aged Adults\",\"Middle-Aged Adults\",\"old\",\"Young Adults\",\"Middle-Aged Adults\",\"old\",\"Middle-Aged Adults\",\"old\",\"old\",\"teen\",\"Middle-Aged Adults\",\"Young Adults\",\"Middle-Aged Adults\",\"Young Adults\",\"Middle-Aged Adults\",\"old\",\"Middle-Aged Adults\",\"Middle-Aged Adults\",\"old\",\"old\",\"old\",\"Middle-Aged Adults\",\"old\",\"Middle-Aged Adults\",\"Young Adults\",\"Middle-Aged Adults\",\"Young Adults\",\"Middle-Aged Adults\",\"teen\",\"Middle-Aged Adults\",\"Middle-Aged Adults\",\"Young Adults\",\"Middle-Aged Adults\",\"Middle-Aged Adults\",\"old\",\"Middle-Aged Adults\",\"Middle-Aged Adults\",\"old\",\"old\",\"Middle-Aged Adults\",\"Middle-Aged Adults\",\"Young Adults\",\"old\",\"old\",\"Young Adults\",\"Middle-Aged Adults\",\"Middle-Aged Adults\",\"old\",\"Young Adults\",\"old\",\"Middle-Aged Adults\",\"old\",\"Young Adults\",\"Middle-Aged Adults\",\"Middle-Aged Adults\",\"old\",\"Young Adults\",\"Middle-Aged Adults\",\"Middle-Aged Adults\",\"Middle-Aged Adults\",\"Young Adults\",\"Middle-Aged Adults\",\"old\",\"Middle-Aged Adults\",\"Middle-Aged Adults\",\"old\",\"Middle-Aged Adults\",\"teen\",\"Middle-Aged Adults\",\"old\",\"Middle-Aged Adults\",\"Middle-Aged Adults\",\"old\",\"Middle-Aged Adults\",\"Young Adults\",\"Young Adults\",\"Young Adults\",\"Middle-Aged Adults\",\"Young Adults\",\"Middle-Aged Adults\",\"Middle-Aged Adults\",\"Middle-Aged Adults\",\"old\",\"Young Adults\",\"Middle-Aged Adults\",\"old\",\"Middle-Aged Adults\",\"Young Adults\",\"Young Adults\",\"Middle-Aged Adults\",\"old\",\"old\",\"old\",\"old\",\"Middle-Aged Adults\",\"old\",\"old\",\"old\",\"old\",\"old\",\"Young Adults\",\"Young Adults\",\"old\",\"old\",\"old\",\"old\",\"Middle-Aged Adults\",\"old\",\"old\",\"old\",\"Middle-Aged Adults\",\"old\",\"old\",\"Young Adults\",\"old\",\"Middle-Aged Adults\",\"Young Adults\",\"old\",\"old\",\"old\",\"teen\",\"teen\",\"old\",\"Middle-Aged Adults\",\"Middle-Aged Adults\",\"old\",\"Middle-Aged Adults\",\"Young Adults\",\"Middle-Aged Adults\",\"Young Adults\",\"Middle-Aged Adults\",\"Young Adults\",\"old\",\"Young Adults\",\"Middle-Aged Adults\",\"Young Adults\",\"old\",\"Young Adults\",\"old\",\"Middle-Aged Adults\",\"Middle-Aged Adults\",\"old\",\"Young Adults\",\"Young Adults\",\"old\",\"Middle-Aged Adults\",\"Middle-Aged Adults\",\"Middle-Aged Adults\",\"Middle-Aged Adults\",\"Young Adults\",\"Middle-Aged Adults\",\"Young Adults\",\"Middle-Aged Adults\",\"old\",\"old\",\"Young Adults\",\"Young Adults\",\"Young Adults\",\"Young Adults\",\"Young Adults\",\"Middle-Aged Adults\",\"old\",\"Middle-Aged Adults\",\"old\",\"Middle-Aged Adults\",\"old\",\"old\",\"Middle-Aged Adults\",\"Middle-Aged Adults\",\"Young Adults\",\"Young Adults\",\"teen\",\"old\",\"Middle-Aged Adults\",\"old\",\"Middle-Aged Adults\",\"Middle-Aged Adults\",\"Middle-Aged Adults\",\"Middle-Aged Adults\",\"Young Adults\",\"Middle-Aged Adults\",\"old\",\"Middle-Aged Adults\",\"Middle-Aged Adults\",\"Middle-Aged Adults\",\"Young Adults\",\"Middle-Aged Adults\",\"old\",\"Middle-Aged Adults\",\"old\",\"old\",\"old\",\"Middle-Aged Adults\",\"Young Adults\",\"Middle-Aged Adults\",\"old\",\"old\",\"Middle-Aged Adults\",\"Middle-Aged Adults\",\"Middle-Aged Adults\",\"Young Adults\",\"Middle-Aged Adults\",\"old\",\"Middle-Aged Adults\",\"old\",\"Middle-Aged Adults\",\"Middle-Aged Adults\",\"old\",\"Middle-Aged Adults\",\"Middle-Aged Adults\",\"old\",\"old\",\"Young Adults\",\"Young Adults\",\"old\",\"Young Adults\",\"Young Adults\",\"Middle-Aged Adults\",\"old\",\"Young Adults\",\"Young Adults\",\"Young Adults\",\"old\",\"old\",\"old\",\"old\",\"Young Adults\",\"old\",\"old\",\"old\",\"Young Adults\",\"Middle-Aged Adults\",\"old\",\"old\",\"Middle-Aged Adults\",\"Middle-Aged Adults\",\"old\",\"Young Adults\",\"Middle-Aged Adults\",\"old\",\"old\",\"Young Adults\",\"Young Adults\",\"Middle-Aged Adults\",\"Young Adults\",\"Young Adults\",\"Middle-Aged Adults\",\"old\",\"Middle-Aged Adults\",\"old\",\"Middle-Aged Adults\",\"Young Adults\",\"old\",\"old\",\"old\",\"Middle-Aged Adults\",\"Middle-Aged Adults\",\"old\",\"old\",\"Young Adults\",\"old\",\"Young Adults\",\"Middle-Aged Adults\",\"old\",\"Young Adults\",\"old\",\"Young Adults\",\"Young Adults\",\"Middle-Aged Adults\",\"Middle-Aged Adults\",\"Middle-Aged Adults\",\"old\",\"old\",\"old\",\"Middle-Aged Adults\",\"teen\",\"old\",\"old\",\"Middle-Aged Adults\",\"Middle-Aged Adults\",\"Young Adults\",\"Young Adults\",\"old\",\"Young Adults\",\"Young Adults\",\"Young Adults\",\"teen\",\"Middle-Aged Adults\",\"Middle-Aged Adults\",\"old\",\"Young Adults\",\"Middle-Aged Adults\",\"old\",\"Middle-Aged Adults\",\"Young Adults\",\"Middle-Aged Adults\",\"Middle-Aged Adults\",\"Middle-Aged Adults\",\"Young Adults\",\"Middle-Aged Adults\",\"Middle-Aged Adults\",\"Middle-Aged Adults\",\"old\",\"old\",\"old\",\"Young Adults\",\"old\",\"old\",\"Young Adults\",\"Middle-Aged Adults\",\"Young Adults\",\"Middle-Aged Adults\",\"Middle-Aged Adults\",\"Young Adults\",\"Middle-Aged Adults\",\"Middle-Aged Adults\",\"old\",\"old\",\"old\",\"old\",\"Middle-Aged Adults\",\"old\",\"old\",\"old\",\"Young Adults\",\"Middle-Aged Adults\",\"Young Adults\",\"old\",\"old\",\"Middle-Aged Adults\",\"old\",\"Young Adults\",\"Young Adults\",\"Middle-Aged Adults\",\"Young Adults\",\"old\",\"Middle-Aged Adults\",\"Young Adults\",\"Middle-Aged Adults\",\"Young Adults\",\"old\",\"old\",\"old\",\"Middle-Aged Adults\",\"Middle-Aged Adults\",\"old\",\"old\",\"Middle-Aged Adults\",\"Middle-Aged Adults\",\"Middle-Aged Adults\",\"old\",\"Young Adults\",\"Middle-Aged Adults\",\"Middle-Aged Adults\",\"old\",\"Middle-Aged Adults\",\"Middle-Aged Adults\",\"Middle-Aged Adults\",\"old\",\"old\",\"old\",\"Young Adults\",\"Young Adults\",\"old\",\"Middle-Aged Adults\",\"Middle-Aged Adults\",\"Middle-Aged Adults\",\"teen\",\"Middle-Aged Adults\",\"Middle-Aged Adults\",\"old\",\"Middle-Aged Adults\",\"Middle-Aged Adults\",\"Middle-Aged Adults\",\"old\",\"Middle-Aged Adults\",\"Middle-Aged Adults\",\"Young Adults\",\"old\",\"old\",\"Middle-Aged Adults\",\"Middle-Aged Adults\",\"Young Adults\",\"old\",\"Middle-Aged Adults\",\"old\",\"Middle-Aged Adults\",\"Middle-Aged Adults\",\"old\",\"Middle-Aged Adults\",\"old\",\"Young Adults\",\"Middle-Aged Adults\",\"old\",\"Middle-Aged Adults\",\"Middle-Aged Adults\",\"old\",\"old\",\"Middle-Aged Adults\",\"Middle-Aged Adults\",\"old\",\"Young Adults\",\"old\",\"Middle-Aged Adults\",\"old\",\"Young Adults\",\"old\",\"old\",\"old\",\"Young Adults\",\"Middle-Aged Adults\",\"Young Adults\",\"Middle-Aged Adults\",\"old\",\"old\",\"old\",\"Middle-Aged Adults\",\"Middle-Aged Adults\",\"Middle-Aged Adults\",\"Young Adults\",\"old\",\"old\",\"old\",\"old\",\"Middle-Aged Adults\",\"old\",\"Young Adults\",\"old\",\"Middle-Aged Adults\",\"teen\",\"Young Adults\",\"old\",\"old\",\"Middle-Aged Adults\",\"Middle-Aged Adults\",\"old\",\"old\",\"old\",\"Young Adults\",\"old\",\"Young Adults\",\"Middle-Aged Adults\",\"old\",\"Middle-Aged Adults\",\"Middle-Aged Adults\",\"Middle-Aged Adults\",\"Middle-Aged Adults\",\"Middle-Aged Adults\",\"Middle-Aged Adults\",\"Middle-Aged Adults\",\"old\",\"Middle-Aged Adults\",\"Middle-Aged Adults\",\"Middle-Aged Adults\",\"Young Adults\",\"old\",\"Middle-Aged Adults\",\"old\",\"Middle-Aged Adults\",\"Middle-Aged Adults\",\"old\"],\"xaxis\":\"x\",\"y\":[55,19,50,21,45,46,63,27,26,57,53,30,61,65,64,64,25,53,52,66,21,31,56,31,18,18,38,56,54,31,57,33,36,54,36,54,35,35,29,70,69,67,20,25,39,50,57,55,42,68,49,59,42,29,47,40,41,21,69,63,50,55,30,33,65,65,31,45,57,48,22,36,18,48,49,64,50,22,50,38,19,67,19,36,52,53,24,52,33,47,25,44,61,37,58,37,32,21,20,26,62,27,51,54,55,69,64,28,70,58,56,26,37,44,70,53,55,50,50,38,64,19,40,57,44,49,43,24,20,24,44,28,30,52,43,43,39,68,68,49,63,56,37,30,19,24,52,63,37,38,35,28,30,69,41,63,35,36,25,58,27,65,54,54,59,42,46,33,34,27,52,29,54,25,41,53,53,21,61,64,51,32,38,58,32,46,39,19,50,36,65,64,46,36,51,51,38,59,57,54,25,69,57,70,24,67,24,62,57,55,45,69,67,30,24,62,43,35,28,32,39,28,47,20,63,25,29,50,18,70,66,28,54,19,20,43,38,50,64,49,47,36,55,25,53,49,35,29,47,53,33,21,32,52,67,43,58,20,61,32,38,21,37,27,36,32,51,64,68,68,33,65,48,69,59,48,25,29,57,23,45,38,21,32,63,29,27,56,30,49,58,57,60,69,70,53,25,48,69,25,29,46,37,20,40,60,26,29,66,66,56,69,38,42,30,66,36,58,45,47,66,41,41,66,37,70,62,61,48,70,46,31,19,39,41,20,36,32,69,40,40,20,64,27,24,48,49,36,56,37,42,28,27,63,58,37,56,18,48,31,51,65,53,55,62,55,64,52,24,38,59,27,24,23,69,59,51,63,54,32,39,66,28,50,70,67,64,45,22,27,25,37,26,33,43,37,46,22,20,60,39,43,31,19,35,41,52,45,34,35,29,59,24,70,29,67,36,23,18,53,32,38,47,46,66,40,43,58,21,42,24,43,47,49,50,51,40,45,52,62,20,43,29,22,48,42,19,60,32,26,25,66,45,54,37,54,50,25,47,63,64,18,59,37,23,54,38,19,34,21,50,55,20,34,62,21,21,42,35,39,68,46,41,23,68,48,38,41,58,49,57,49,50,28,38,33,30,43,43,36,36,64,59,55,42,61,28,65,27,41,21,61,19,22,64,28,34,61,24,19,51,36,65,46,59,51,51,21,34,32,48,50,26,57,65,56,44,50,27,49,49,52,27,53,34,33,62,38,36,31,62,29,24,63,56,63,40,18,50,66,25,65,53,61,67,59,55,21,44,65,65,54,56,58,54,58,48,19,69,58,49,32,40,25,70,69,45,29,47,28,64,47,60,67,35,30,23,70,21,51,22,32,37,31,44,40,27,47,41,51,53,43,67,61,68,67,29,50,61,19,33,51,69,19,55,49,31,42,69,26,41,55,35,66,36,27,41,21,53,54,53,47,64,18,68,62,51,54,22,53,34,32,64,20,24,20,42,48,62,62,50,57,24,59,63,41,35,34,49,43,63,38,59,35,48,64,28,60,27,56,58,30,23,33,63,70,70,19,25,19,25,60,35,46,41,30,44,61,55,50,57,51,18,63,34,25,46,59,37,49,22,64,42,37,26,33,30,21,22,63,33,43,27,35,37,61,32,62,29,41,48,43,34,45,65,61,18,47,56,64,26,22,64,21,67,46,40,51,35,56,25,65,39,47,36,66,62,41,66,51,33,57,45,61,55,54,57,27,64,52,19,22,18,29,42,49,49,55,29,60,34,30,28,63,31,46,70,53,50,33,22,50,34,24,69,39,42,42,29,55,32,25,38,32,43,41,56,27,46,48,52,18,64,54,31,30,26,25,59,55,56,62,35,51,61,27,54,31,24,42,41,66,58,43,52,35,23,25,33,48,42,55,59,65,59,31,49,53,48,23,68,35,34,62,21,70,55,43,19,47,26,46,19,49,51,64,67,37,40,38,66,47,56,51,25,37,41,64,23,62,39,52,50,28,67,41,19,70,49,59,52,20,31,33,44,40,69,29,54,65,54,60,43,44,69,46,41,32,26,61,49,53,24,37,43,31,49,69,65,41,37,70,63,55,52,22,54,28,67,59,26,24,62,70,45,58,31,32,36,25,48,39,26,32,54,38,46,57,49,33,54,47,36,68,60,55,29,38,70,36,18,62,29,21,42,43,58,27,57,40,45,47,61,60,69,58,34,20,56,64,56,27,35,24,26,32,54,62,50,70,48,20,46,51,53,44,29,64,51,50,43,61,55,56,33,43,21,58,41,39,54,43,28,59,28,68,20,21,50,32,24,55,61,61,28,60,49,33,45,29,58,22,55,19,68,61,68,52,41,29,68,36,55,28,39,54,40,31,30,45,48,45,60,59,18,70,20,65,29,22,27,36,59,62,34,59,49,18,55,38,50,61,48,22,48,57,33,58,37,18,65,62,54,35,34,25,53,45,49,40,38,44,68,60,25,19,57,58,49,19,50,30,52,35,35,33,52,69,27,66,28,22,69,28,55,30,67,25,49,34,22,63,70,36,42,27,23,50,56,37,67,67,50,36,62,65,23,46,18,58,31,39,69,68,41,31,48,59,34,21,29,41,62,27,49,67,20,37,69,66,37,63,47,26,68,51,48,60,68,25,57,41,59,44,42,35,36,54,37,20,23,61,37,23,63,47,63,56,68,64,62,34,49,40,50,25,30,54,40,49,27,27,48,40,67,52,22,62,20,41,34,23,32,68,30,66,62,50,55,19,67,18,58,69,62,28,53,27,55,34,25,66,57,46,38,23,42,25,55,62,41,58,56,25,70,42,27,65,62,62,52,56,28,39,54,30,45,68,47,68,63,20,29,41,52,32,20,47,23,43,67,70,35,41,54,55,51,19,28,63,30,29,24,69,65,64,40,24,66,35,67,69,26,23,27,30,48,44,29,29,67,42,23,34,64,31,54,23,59,32,43,32,66,70,42,56,28,28,52,65,56,59,23,58,39,28,40,52,37,70,30,38,66,29,46,56,23,37,56,36,40,26,57,68,56,40,44,44,19,21,31,30,65,39,64,59,49,24,19,27,56,49,41,36,68,28,45,60,21,32,27,40,64,18,22,42,57,33,37,21,51,30,68,36,46,41,68,21,62,59,25,53,31,46,26,47,37,55,30,19,36,23,62,26,36,33,32,56,58,34,61,48,25,51,29,54,48,62,18,43,22,68,44,51,66,59,60,31,20,24,48,39,34,70,59,45,35,69,58,25,27,34,53,58,32,64,63,23,64,18,25,54,60,36,66,60,59,58,35,20,70,54,38,54,33,46,58,30,42,28,43,31,39,69,31,44,39,24,28,48,39,64,28,39,49,22,25,40,23,24,66,27,62,70,43,45,63,69,59,19,63,37,37,50,60,46,35,66,35,20,55,34,60,22,26,39,20,57,68,50,21,29,38,54,22,29,41,26,69,20,59,63,68,50,55,36,18,68,56,32,28,24,59,56,30,48,60,46,69,19,66,64,54,27,64,43,43,27,35,43,57,50,37,68,22,58,48,30,51,20,30,28,37,36,18,52,56,68,62,35,65,69,28,37,41,37,25,41,48,42,54,18,56,61,40,34,42,43,47,48,20,65,54,23,18,70,55,49,26,33,20,41,18,26,30,64,26,43,63,57,25,68,31,64,38,34,32,69,45,35,63,65,35,54,28,68,58,35,68,41,65,50,18,38,68,53,58,34,36,58,60,59,65,31,43,37,21,69,32,53,59,64,63,43,19,40,51,51,66,42,22,31,18,21,35,35,27,65,41,60,61,24,65,23,30,33,22,67,28,32,40,64,56,63,20,54,31,36,25,20,62,69,54,39,56,39,37,25,35,45,19,21,65,49,30,23,69,29,54,45,25,34,46,70,42,45,57,49,23,47,23,21,45,67,31,58,57,42,60,21,69,41,51,23,57,40,65,61,34,43,31,57,34,25,66,56,49,19,27,68,20,21,36,37,61,68,60,69,25,32,53,46,58,21,46,18,56,18,49,29,67,31,52,42,32,47,45,20,66,52,50,62,38,65,60,68,62,62,40,32,22,33,57,60,30,41,58,34,67,58,41,42,50,40,32,51,26,32,58,51,19,57,66,62,58,23,45,20,33,30,50,62,69,34,49,65,66,41,37,32,42,31,61,36,60,51,68,46,19,30,51,28,41,29,25,60,63,51,22,54,18,29,59,25,19,56,31,45,23,18,43,56,43,64,67,63,54,69,34,56,34,58,44,25,27,26,18,64,62,59,36,69,39,28,42,31,57,53,59,32,65,56,31,59,22,47,23,69,18,50,29,65,29,49,28,51,26,38,35,34,51,47,18,64,30,59,66,40,25,59,66,54,42,48,34,19,70,43,46,66,50,55,63,32,30,35,59,59,54,63,43,33,57,25,26,50,70,68,39,46,57,47,40,52,40,67,67,37,67,64,28,54,54,24,27,53,32,24,45,49,51,69,41,59,26,23,62,69,46,35,32,46,33,32,33,67,67,42,20,39,26,51,31,68,44,18,58,26,57,37,24,57,48,39,51,57,53,70,60,31,41,62,59,46,62,42,37,50,29,25,66,21,46,57,61,53,37,39,53,35,69,66,19,47,49,31,39,58,45,68,35,65,45,19,65,28,55,66,29,56,21,32,54,61,31,27,64,60,70,36,56,69,39,38,36,46,59,64,49,32,29,24,41,41,32,69,65,54,39,37,51,26,42,21,53,36,21,33,49,31,68,49,23,30,53,65,60,46,54,59,52,41,43,63,37,44,67,27,60,58,53,43,32,54,47,57,63,70,62,40,25,19,25,21,55,34,47,27,67,40,53,24,47,53,47,38,48,47,19,38,57,70,38,35,46,32,38,41,19,18,45,23,60,52,42,29,31,30,23,31,40,39,28,23,42,68,24,24,21,49,41,22,42,30,38,40,55,37,41,38,42,26,41,27,61,58,25,33,57,39,60,39,42,53,20,46,46,69,28,42,30,50,59,54,50,25,41,35,67,33,19,25,32,30,18,38,22,40,54,70,52,34,65,38,35,40,23,45,40,42,57,18,18,56,35,49,49,34,63,42,41,26,48,62,24,48,31,41,24,60,38,58,53,44,51,36,20,32,66,49,27,29,29,55,57,29,31,25,61,53,22,28,18,44,32,34,67,66,28,70,37,28,43,37,54,50,46,60,40,64,18,37,36,51,26,68,27,28,49,70,30,27,19,64,42,69,28,47,69,56,28,50,39,35,59,44,66,20,45,49,60,61,36,33,49,31,19,39,66,25,63,56,20,58,34,28,22,37,54,65,57,38,70,56,56,22,57,53,53,19,49,44,27,60,62,52,30,66,29,24,51,67,50,37,69,60,21,44,26,40,41,62,39,53,24,41,19,36,21,25,65,42,40,58,40,62,38,37,65,55,43,43,45,64,28,69,54,52,23,26,48,49,53,69,26,21,59,21,22,26,41,37,30,49,49,58,70,27,65,57,20,34,59,54,36,21,52,43,32,55,31,45,53,24,47,63,38,59,54,26,68,41,68,21,32,20,59,53,66,47,58,28,68,60,47,18,32,27,65,68,55,30,24,57,23,69,60,25,18,37,61,41,69,32,60,43,61,57,56,66,52,63,50,21,42,40,67,35,18,52,59,49,46,69,56,27,57,58,23,19,40,54,50,69,42,37,46,64,20,40,64,29,20,43,60,39,47,19,52,34,25,43,55,66,41,47,51,44,18,33,24,33,61,27,46,38,63,47,42,41,53,29,61,69,51,24,24,70,49,48,58,32,57,69,42,30,35,19,52,42,36,45,54,54,27,53,20,52,54,65,43,57,19,69,26,57,20,55,44,52,57,40,23,36,59,29,63,60,64,63,21,61,65,69,47,41,68,41,42,66,66,33,55,58,18,49,61,31,70,68,27,48,63,49,19,30,50,66,25,61,29,53,24,51,26,59,41,20,22,18,30,25,39,49,25,23,33,60,51,23,20,51,23,67,23,26,52,52,52,35,24,43,25,46,22,70,49,48,59,39,30,37,56,67,40,24,43,45,33,53,44,23,59,68,46,56,40,61,53,29,44,43,40,55,66,50,57,42,55,25,22,49,70,56,52,65,24,32,57,35,69,30,37,19,53,25,47,18,22,69,55,19,23,54,52,64,33,40,26,31,23,52,21,31,63,46,44,57,50,33,19,68,27,61,38,28,39,18,24,64,51,27,48,69,59,59,42,39,32,68,41,31,58,28,63,64,66,31,55,32,50,58,18,39,56,37,46,52,70,61,33,65,41,19,33,53,54,36,56,28,34,43,54,37,33,33,55,63,52,23,70,64,22,46,65,18,45,56,49,66,27,69,66,45,31,33,43,25,46,67,26,35,61,26,39,69,32,20,25,56,63,34,29,43,39,33,51,65,51,70,40,19,28,51,32,26,50,68,33,56,57,58,40,37,36,29,65,44,34,31,28,66,68,37,58,28,54,21,45,57,47,46,63,44,36,24,65,32,63,62,19,38,59,22,55,29,42,23,70,64,39,47,22,69,35,56,30,43,23,50,41,41,27,38,41,58,58,19,43,27,32,28,48,43,45,26,62,58,19,64,33,20,45,28,47,54,64,45,40,31,38,36,65,27,38,58,31,28,28,32,61,38,54,29,50,32,38,52,61,25,22,47,50,45,33,42,52,69,55,38,57,33,57,52,44,48,52,34,26,36,24,30,31,25,57,61,30,38,53,31,70,21,33,60,45,46,62,63,69,46,69,66,41,32,69,29,70,41,31,31,57,29,70,51,45,18,37,23,39,62,70,20,42,41,24,37,30,58,43,19,23,65,58,50,67,40,55,52,62,64,43,61,26,22,51,69,50,51,56,59,18,48,53,45,21,42,60,21,69,40,31,44,48,32,42,27,69,67,41,46,47,33,51,26,22,49,58,70,32,62,52,23,26,58,26,54,66,60,32,48,69,64,56,22,46,24,47,62,34,50,29,68,52,29,22,62,69,48,66,42,50,32,51,27,43,48,62,65,50,60,19,21,19,46,21,26,50,43,61,63,46,63,23,57,57,33,57,55,65,60,52,34,33,58,35,68,58,34,47,35,34,36,23,68,23,57,21,45,37,18,55,52,49,56,27,22,18,21,30,62,28,66,66,49,40,49,19,24,31,35,65,68,57,69,45,35,36,55,66,57,18,31,50,50,61,52,38,67,42,25,41,62,19,63,43,68,24,27,61,59,67,46,65,63,57,40,36,67,61,64,30,53,27,27,53,34,39,44,37,57,38,21,45,68,37,53,57,28,37,54,49,62,45,45,49,27,63,61,25,33,56,50,45,45,65,63,70,53,22,26,23,25,69,36,21,57,60,44,31,57,39,48,42,56,28,40,49,37,22,27,59,35,58,58,46,43,39,59,59,59,45,27,24,47,70,58,45,24,67,31,52,29,62,19,62,70,20,67,65,45,26,36,36,20,30,34,63,18,55,48,45,29,55,55,55,48,42,21,45,23,66,32,52,54,37,29,47,47,42,34,38,55,27,55,66,44,39,23,29,20,42,55,66,24,62,28,30,22,28,35,45,43,55,31,42,40,39,41,56,43,22,47,50,58,50,43,38,44,30,47,30,49,56,70,22,51,22,37,49,61,41,57,34,27,39,62,34,53,35,38,32,47,53,60,31,44,29,19,54,40,39,44,22,30,69,28,57,46,48,24,50,29,61,34,27,38,25,54,53,23,19,57,19,33,33,38,47,39,32,27,67,46,36,62,31,68,57,22,26,43,45,64,28,47,53,42,51,62,18,48,20,32,26,31,55,49,42,64,68,68,41,51,44,27,36,19,49,18,36,36,19,43,31,63,41,48,68,53,36,46,21,52,66,19,44,50,51,25,62,48,62,22,48,48,62,24,39,35,47,22,38,53,31,31,65,48,18,46,52,50,49,69,36,30,25,19,34,29,50,31,41,52,27,49,69,45,20,25,38,55,62,54,61,50,65,68,55,57,56,29,24,59,62,58,64,48,60,52,63,44,63,66,22,62,39,25,70,52,68,18,18,63,47,43,60,49,28,32,29,35,23,70,23,43,29,61,29,66,46,34,51,26,23,52,39,39,33,33,23,31,27,48,61,63,19,21,28,29,23,37,67,34,58,45,63,68,41,50,24,21,18,63,47,58,46,35,42,48,28,44,60,38,46,39,22,44,69,39,53,52,65,48,27,39,59,52,50,32,40,26,47,51,47,53,35,38,69,47,31,68,51,20,27,67,21,20,35,58,28,27,19,63,69,65,63,28,67,51,59,25,31,62,51,32,35,70,19,32,56,53,22,26,42,30,29,47,59,34,52,47,24,63,59,66,45,38,63,55,25,51,28,46,58,30,68,28,26,35,40,31,60,69,51,49,18,63,57,45,36,20,21,62,23,26,30,18,47,41,62,28,46,54,36,25,38,38,42,19,34,38,42,58,56,62,24,60,53,26,34,24,42,36,24,39,46,64,64,61,61,44,65,60,65,27,36,22,62,59,50,51,23,21,44,25,57,41,19,43,25,60,54,52,40,39,54,64,31,37,43,56,27,40,43,62,44,45,40,68,63,60,19,26,70,48,37,48,18,38,33,57,46,46,50,61,45,32,29,66,70,36,34,20,70,50,54,49,50,62,42,69,22,36,64,44,43,58,62,45,47,66,30,68,35,64,30,58,57,60,22,46,27,50,65,61,57,40,39,42,30,65,57,64,56,40,55,25,58,46,18,26,61,55,41,42,70,63,60,28,60,26,42,56,35,34,47,49,37,40,45,57,35,36,35,21,66,40,52,46,44,52],\"yaxis\":\"y\",\"type\":\"histogram\"}],                        {\"template\":{\"data\":{\"histogram2dcontour\":[{\"type\":\"histogram2dcontour\",\"colorbar\":{\"outlinewidth\":0,\"ticks\":\"\"},\"colorscale\":[[0.0,\"#0d0887\"],[0.1111111111111111,\"#46039f\"],[0.2222222222222222,\"#7201a8\"],[0.3333333333333333,\"#9c179e\"],[0.4444444444444444,\"#bd3786\"],[0.5555555555555556,\"#d8576b\"],[0.6666666666666666,\"#ed7953\"],[0.7777777777777778,\"#fb9f3a\"],[0.8888888888888888,\"#fdca26\"],[1.0,\"#f0f921\"]]}],\"choropleth\":[{\"type\":\"choropleth\",\"colorbar\":{\"outlinewidth\":0,\"ticks\":\"\"}}],\"histogram2d\":[{\"type\":\"histogram2d\",\"colorbar\":{\"outlinewidth\":0,\"ticks\":\"\"},\"colorscale\":[[0.0,\"#0d0887\"],[0.1111111111111111,\"#46039f\"],[0.2222222222222222,\"#7201a8\"],[0.3333333333333333,\"#9c179e\"],[0.4444444444444444,\"#bd3786\"],[0.5555555555555556,\"#d8576b\"],[0.6666666666666666,\"#ed7953\"],[0.7777777777777778,\"#fb9f3a\"],[0.8888888888888888,\"#fdca26\"],[1.0,\"#f0f921\"]]}],\"heatmap\":[{\"type\":\"heatmap\",\"colorbar\":{\"outlinewidth\":0,\"ticks\":\"\"},\"colorscale\":[[0.0,\"#0d0887\"],[0.1111111111111111,\"#46039f\"],[0.2222222222222222,\"#7201a8\"],[0.3333333333333333,\"#9c179e\"],[0.4444444444444444,\"#bd3786\"],[0.5555555555555556,\"#d8576b\"],[0.6666666666666666,\"#ed7953\"],[0.7777777777777778,\"#fb9f3a\"],[0.8888888888888888,\"#fdca26\"],[1.0,\"#f0f921\"]]}],\"heatmapgl\":[{\"type\":\"heatmapgl\",\"colorbar\":{\"outlinewidth\":0,\"ticks\":\"\"},\"colorscale\":[[0.0,\"#0d0887\"],[0.1111111111111111,\"#46039f\"],[0.2222222222222222,\"#7201a8\"],[0.3333333333333333,\"#9c179e\"],[0.4444444444444444,\"#bd3786\"],[0.5555555555555556,\"#d8576b\"],[0.6666666666666666,\"#ed7953\"],[0.7777777777777778,\"#fb9f3a\"],[0.8888888888888888,\"#fdca26\"],[1.0,\"#f0f921\"]]}],\"contourcarpet\":[{\"type\":\"contourcarpet\",\"colorbar\":{\"outlinewidth\":0,\"ticks\":\"\"}}],\"contour\":[{\"type\":\"contour\",\"colorbar\":{\"outlinewidth\":0,\"ticks\":\"\"},\"colorscale\":[[0.0,\"#0d0887\"],[0.1111111111111111,\"#46039f\"],[0.2222222222222222,\"#7201a8\"],[0.3333333333333333,\"#9c179e\"],[0.4444444444444444,\"#bd3786\"],[0.5555555555555556,\"#d8576b\"],[0.6666666666666666,\"#ed7953\"],[0.7777777777777778,\"#fb9f3a\"],[0.8888888888888888,\"#fdca26\"],[1.0,\"#f0f921\"]]}],\"surface\":[{\"type\":\"surface\",\"colorbar\":{\"outlinewidth\":0,\"ticks\":\"\"},\"colorscale\":[[0.0,\"#0d0887\"],[0.1111111111111111,\"#46039f\"],[0.2222222222222222,\"#7201a8\"],[0.3333333333333333,\"#9c179e\"],[0.4444444444444444,\"#bd3786\"],[0.5555555555555556,\"#d8576b\"],[0.6666666666666666,\"#ed7953\"],[0.7777777777777778,\"#fb9f3a\"],[0.8888888888888888,\"#fdca26\"],[1.0,\"#f0f921\"]]}],\"mesh3d\":[{\"type\":\"mesh3d\",\"colorbar\":{\"outlinewidth\":0,\"ticks\":\"\"}}],\"scatter\":[{\"fillpattern\":{\"fillmode\":\"overlay\",\"size\":10,\"solidity\":0.2},\"type\":\"scatter\"}],\"parcoords\":[{\"type\":\"parcoords\",\"line\":{\"colorbar\":{\"outlinewidth\":0,\"ticks\":\"\"}}}],\"scatterpolargl\":[{\"type\":\"scatterpolargl\",\"marker\":{\"colorbar\":{\"outlinewidth\":0,\"ticks\":\"\"}}}],\"bar\":[{\"error_x\":{\"color\":\"#2a3f5f\"},\"error_y\":{\"color\":\"#2a3f5f\"},\"marker\":{\"line\":{\"color\":\"#E5ECF6\",\"width\":0.5},\"pattern\":{\"fillmode\":\"overlay\",\"size\":10,\"solidity\":0.2}},\"type\":\"bar\"}],\"scattergeo\":[{\"type\":\"scattergeo\",\"marker\":{\"colorbar\":{\"outlinewidth\":0,\"ticks\":\"\"}}}],\"scatterpolar\":[{\"type\":\"scatterpolar\",\"marker\":{\"colorbar\":{\"outlinewidth\":0,\"ticks\":\"\"}}}],\"histogram\":[{\"marker\":{\"pattern\":{\"fillmode\":\"overlay\",\"size\":10,\"solidity\":0.2}},\"type\":\"histogram\"}],\"scattergl\":[{\"type\":\"scattergl\",\"marker\":{\"colorbar\":{\"outlinewidth\":0,\"ticks\":\"\"}}}],\"scatter3d\":[{\"type\":\"scatter3d\",\"line\":{\"colorbar\":{\"outlinewidth\":0,\"ticks\":\"\"}},\"marker\":{\"colorbar\":{\"outlinewidth\":0,\"ticks\":\"\"}}}],\"scattermapbox\":[{\"type\":\"scattermapbox\",\"marker\":{\"colorbar\":{\"outlinewidth\":0,\"ticks\":\"\"}}}],\"scatterternary\":[{\"type\":\"scatterternary\",\"marker\":{\"colorbar\":{\"outlinewidth\":0,\"ticks\":\"\"}}}],\"scattercarpet\":[{\"type\":\"scattercarpet\",\"marker\":{\"colorbar\":{\"outlinewidth\":0,\"ticks\":\"\"}}}],\"carpet\":[{\"aaxis\":{\"endlinecolor\":\"#2a3f5f\",\"gridcolor\":\"white\",\"linecolor\":\"white\",\"minorgridcolor\":\"white\",\"startlinecolor\":\"#2a3f5f\"},\"baxis\":{\"endlinecolor\":\"#2a3f5f\",\"gridcolor\":\"white\",\"linecolor\":\"white\",\"minorgridcolor\":\"white\",\"startlinecolor\":\"#2a3f5f\"},\"type\":\"carpet\"}],\"table\":[{\"cells\":{\"fill\":{\"color\":\"#EBF0F8\"},\"line\":{\"color\":\"white\"}},\"header\":{\"fill\":{\"color\":\"#C8D4E3\"},\"line\":{\"color\":\"white\"}},\"type\":\"table\"}],\"barpolar\":[{\"marker\":{\"line\":{\"color\":\"#E5ECF6\",\"width\":0.5},\"pattern\":{\"fillmode\":\"overlay\",\"size\":10,\"solidity\":0.2}},\"type\":\"barpolar\"}],\"pie\":[{\"automargin\":true,\"type\":\"pie\"}]},\"layout\":{\"autotypenumbers\":\"strict\",\"colorway\":[\"#636efa\",\"#EF553B\",\"#00cc96\",\"#ab63fa\",\"#FFA15A\",\"#19d3f3\",\"#FF6692\",\"#B6E880\",\"#FF97FF\",\"#FECB52\"],\"font\":{\"color\":\"#2a3f5f\"},\"hovermode\":\"closest\",\"hoverlabel\":{\"align\":\"left\"},\"paper_bgcolor\":\"white\",\"plot_bgcolor\":\"#E5ECF6\",\"polar\":{\"bgcolor\":\"#E5ECF6\",\"angularaxis\":{\"gridcolor\":\"white\",\"linecolor\":\"white\",\"ticks\":\"\"},\"radialaxis\":{\"gridcolor\":\"white\",\"linecolor\":\"white\",\"ticks\":\"\"}},\"ternary\":{\"bgcolor\":\"#E5ECF6\",\"aaxis\":{\"gridcolor\":\"white\",\"linecolor\":\"white\",\"ticks\":\"\"},\"baxis\":{\"gridcolor\":\"white\",\"linecolor\":\"white\",\"ticks\":\"\"},\"caxis\":{\"gridcolor\":\"white\",\"linecolor\":\"white\",\"ticks\":\"\"}},\"coloraxis\":{\"colorbar\":{\"outlinewidth\":0,\"ticks\":\"\"}},\"colorscale\":{\"sequential\":[[0.0,\"#0d0887\"],[0.1111111111111111,\"#46039f\"],[0.2222222222222222,\"#7201a8\"],[0.3333333333333333,\"#9c179e\"],[0.4444444444444444,\"#bd3786\"],[0.5555555555555556,\"#d8576b\"],[0.6666666666666666,\"#ed7953\"],[0.7777777777777778,\"#fb9f3a\"],[0.8888888888888888,\"#fdca26\"],[1.0,\"#f0f921\"]],\"sequentialminus\":[[0.0,\"#0d0887\"],[0.1111111111111111,\"#46039f\"],[0.2222222222222222,\"#7201a8\"],[0.3333333333333333,\"#9c179e\"],[0.4444444444444444,\"#bd3786\"],[0.5555555555555556,\"#d8576b\"],[0.6666666666666666,\"#ed7953\"],[0.7777777777777778,\"#fb9f3a\"],[0.8888888888888888,\"#fdca26\"],[1.0,\"#f0f921\"]],\"diverging\":[[0,\"#8e0152\"],[0.1,\"#c51b7d\"],[0.2,\"#de77ae\"],[0.3,\"#f1b6da\"],[0.4,\"#fde0ef\"],[0.5,\"#f7f7f7\"],[0.6,\"#e6f5d0\"],[0.7,\"#b8e186\"],[0.8,\"#7fbc41\"],[0.9,\"#4d9221\"],[1,\"#276419\"]]},\"xaxis\":{\"gridcolor\":\"white\",\"linecolor\":\"white\",\"ticks\":\"\",\"title\":{\"standoff\":15},\"zerolinecolor\":\"white\",\"automargin\":true,\"zerolinewidth\":2},\"yaxis\":{\"gridcolor\":\"white\",\"linecolor\":\"white\",\"ticks\":\"\",\"title\":{\"standoff\":15},\"zerolinecolor\":\"white\",\"automargin\":true,\"zerolinewidth\":2},\"scene\":{\"xaxis\":{\"backgroundcolor\":\"#E5ECF6\",\"gridcolor\":\"white\",\"linecolor\":\"white\",\"showbackground\":true,\"ticks\":\"\",\"zerolinecolor\":\"white\",\"gridwidth\":2},\"yaxis\":{\"backgroundcolor\":\"#E5ECF6\",\"gridcolor\":\"white\",\"linecolor\":\"white\",\"showbackground\":true,\"ticks\":\"\",\"zerolinecolor\":\"white\",\"gridwidth\":2},\"zaxis\":{\"backgroundcolor\":\"#E5ECF6\",\"gridcolor\":\"white\",\"linecolor\":\"white\",\"showbackground\":true,\"ticks\":\"\",\"zerolinecolor\":\"white\",\"gridwidth\":2}},\"shapedefaults\":{\"line\":{\"color\":\"#2a3f5f\"}},\"annotationdefaults\":{\"arrowcolor\":\"#2a3f5f\",\"arrowhead\":0,\"arrowwidth\":1},\"geo\":{\"bgcolor\":\"white\",\"landcolor\":\"#E5ECF6\",\"subunitcolor\":\"white\",\"showland\":true,\"showlakes\":true,\"lakecolor\":\"white\"},\"title\":{\"x\":0.05},\"mapbox\":{\"style\":\"light\"}}},\"xaxis\":{\"anchor\":\"y\",\"domain\":[0.0,1.0],\"title\":{\"text\":\"Age_category\"}},\"yaxis\":{\"anchor\":\"x\",\"domain\":[0.0,1.0],\"title\":{\"text\":\"sum of Age\"}},\"legend\":{\"tracegroupgap\":0},\"margin\":{\"t\":60},\"barmode\":\"relative\"},                        {\"responsive\": true}                    ).then(function(){\n",
              "                            \n",
              "var gd = document.getElementById('a0537ff6-2030-4e02-bf16-e593e9de5e44');\n",
              "var x = new MutationObserver(function (mutations, observer) {{\n",
              "        var display = window.getComputedStyle(gd).display;\n",
              "        if (!display || display === 'none') {{\n",
              "            console.log([gd, 'removed!']);\n",
              "            Plotly.purge(gd);\n",
              "            observer.disconnect();\n",
              "        }}\n",
              "}});\n",
              "\n",
              "// Listen for the removal of the full notebook cells\n",
              "var notebookContainer = gd.closest('#notebook-container');\n",
              "if (notebookContainer) {{\n",
              "    x.observe(notebookContainer, {childList: true});\n",
              "}}\n",
              "\n",
              "// Listen for the clearing of the current output cell\n",
              "var outputEl = gd.closest('.output');\n",
              "if (outputEl) {{\n",
              "    x.observe(outputEl, {childList: true});\n",
              "}}\n",
              "\n",
              "                        })                };                            </script>        </div>\n",
              "</body>\n",
              "</html>"
            ]
          },
          "metadata": {}
        }
      ],
      "source": [
        "fig = px.histogram(shop , y = 'Age' , x = 'Age_category')\n",
        "fig.show()"
      ]
    },
    {
      "cell_type": "markdown",
      "id": "90ba091a-8550-4547-9625-67fe41354078",
      "metadata": {
        "id": "90ba091a-8550-4547-9625-67fe41354078"
      },
      "source": [
        "## 2 How does the average purchase amount vary across different product categories?"
      ]
    },
    {
      "cell_type": "code",
      "execution_count": 23,
      "id": "00968bc9-977c-4a10-bc1f-ba28b0f986c2",
      "metadata": {
        "colab": {
          "base_uri": "https://localhost:8080/"
        },
        "id": "00968bc9-977c-4a10-bc1f-ba28b0f986c2",
        "outputId": "d6234d6a-2eaf-41da-c06e-66b56104b008"
      },
      "outputs": [
        {
          "output_type": "execute_result",
          "data": {
            "text/plain": [
              "Index(['Customer ID', 'Age', 'Gender', 'Item Purchased', 'Category',\n",
              "       'Purchase Amount (USD)', 'Location', 'Size', 'Color', 'Season',\n",
              "       'Review Rating', 'Subscription Status', 'Shipping Type',\n",
              "       'Discount Applied', 'Promo Code Used', 'Previous Purchases',\n",
              "       'Payment Method', 'Frequency of Purchases', 'Age_category'],\n",
              "      dtype='object')"
            ]
          },
          "metadata": {},
          "execution_count": 23
        }
      ],
      "source": [
        "shop.columns"
      ]
    },
    {
      "cell_type": "code",
      "execution_count": 24,
      "id": "bc0195f4-6f70-481b-8100-2271a0f42d41",
      "metadata": {
        "colab": {
          "base_uri": "https://localhost:8080/"
        },
        "id": "bc0195f4-6f70-481b-8100-2271a0f42d41",
        "outputId": "e935573c-f8c8-4194-fd48-c4f912a5b760"
      },
      "outputs": [
        {
          "output_type": "execute_result",
          "data": {
            "text/plain": [
              "array(['Clothing', 'Footwear', 'Outerwear', 'Accessories'], dtype=object)"
            ]
          },
          "metadata": {},
          "execution_count": 24
        }
      ],
      "source": [
        "shop['Category'].unique()"
      ]
    },
    {
      "cell_type": "code",
      "execution_count": 25,
      "id": "b53b2dc1-1c15-4925-9826-1fcc269d3467",
      "metadata": {
        "colab": {
          "base_uri": "https://localhost:8080/",
          "height": 241
        },
        "id": "b53b2dc1-1c15-4925-9826-1fcc269d3467",
        "outputId": "9b2fd54d-aacb-404d-c65b-4ea99347e64d"
      },
      "outputs": [
        {
          "output_type": "execute_result",
          "data": {
            "text/plain": [
              "Category\n",
              "Accessories    59.838710\n",
              "Clothing       60.025331\n",
              "Footwear       60.255426\n",
              "Outerwear      57.172840\n",
              "Name: Purchase Amount (USD), dtype: float64"
            ],
            "text/html": [
              "<div>\n",
              "<style scoped>\n",
              "    .dataframe tbody tr th:only-of-type {\n",
              "        vertical-align: middle;\n",
              "    }\n",
              "\n",
              "    .dataframe tbody tr th {\n",
              "        vertical-align: top;\n",
              "    }\n",
              "\n",
              "    .dataframe thead th {\n",
              "        text-align: right;\n",
              "    }\n",
              "</style>\n",
              "<table border=\"1\" class=\"dataframe\">\n",
              "  <thead>\n",
              "    <tr style=\"text-align: right;\">\n",
              "      <th></th>\n",
              "      <th>Purchase Amount (USD)</th>\n",
              "    </tr>\n",
              "    <tr>\n",
              "      <th>Category</th>\n",
              "      <th></th>\n",
              "    </tr>\n",
              "  </thead>\n",
              "  <tbody>\n",
              "    <tr>\n",
              "      <th>Accessories</th>\n",
              "      <td>59.838710</td>\n",
              "    </tr>\n",
              "    <tr>\n",
              "      <th>Clothing</th>\n",
              "      <td>60.025331</td>\n",
              "    </tr>\n",
              "    <tr>\n",
              "      <th>Footwear</th>\n",
              "      <td>60.255426</td>\n",
              "    </tr>\n",
              "    <tr>\n",
              "      <th>Outerwear</th>\n",
              "      <td>57.172840</td>\n",
              "    </tr>\n",
              "  </tbody>\n",
              "</table>\n",
              "</div><br><label><b>dtype:</b> float64</label>"
            ]
          },
          "metadata": {},
          "execution_count": 25
        }
      ],
      "source": [
        "shop.groupby('Category')['Purchase Amount (USD)'].mean()"
      ]
    },
    {
      "cell_type": "markdown",
      "id": "da2e803d-dd65-49ef-bd6b-b1aeda7ffbc1",
      "metadata": {
        "id": "da2e803d-dd65-49ef-bd6b-b1aeda7ffbc1"
      },
      "source": [
        "## 3 Which gender has the highest number of purchases?"
      ]
    },
    {
      "cell_type": "code",
      "execution_count": 26,
      "id": "bc63da3a-9061-44c4-88a0-0d3c04ce6dde",
      "metadata": {
        "colab": {
          "base_uri": "https://localhost:8080/"
        },
        "id": "bc63da3a-9061-44c4-88a0-0d3c04ce6dde",
        "outputId": "32e28e97-549d-4c6d-dd63-9fdd7844da95"
      },
      "outputs": [
        {
          "output_type": "execute_result",
          "data": {
            "text/plain": [
              "Index(['Customer ID', 'Age', 'Gender', 'Item Purchased', 'Category',\n",
              "       'Purchase Amount (USD)', 'Location', 'Size', 'Color', 'Season',\n",
              "       'Review Rating', 'Subscription Status', 'Shipping Type',\n",
              "       'Discount Applied', 'Promo Code Used', 'Previous Purchases',\n",
              "       'Payment Method', 'Frequency of Purchases', 'Age_category'],\n",
              "      dtype='object')"
            ]
          },
          "metadata": {},
          "execution_count": 26
        }
      ],
      "source": [
        "shop.columns"
      ]
    },
    {
      "cell_type": "code",
      "execution_count": 27,
      "id": "144d34b0-5fdc-455e-8d96-c6ff85c8c723",
      "metadata": {
        "colab": {
          "base_uri": "https://localhost:8080/",
          "height": 466
        },
        "id": "144d34b0-5fdc-455e-8d96-c6ff85c8c723",
        "outputId": "046fe546-205f-476f-99f3-38ebc0b8a4df"
      },
      "outputs": [
        {
          "output_type": "execute_result",
          "data": {
            "text/plain": [
              "<Axes: xlabel='Gender', ylabel='Purchase Amount (USD)'>"
            ]
          },
          "metadata": {},
          "execution_count": 27
        },
        {
          "output_type": "display_data",
          "data": {
            "text/plain": [
              "<Figure size 640x480 with 1 Axes>"
            ],
            "image/png": "[encoded data removed]"
          },
          "metadata": {}
        }
      ],
      "source": [
        "sns.barplot(shop , x = 'Gender' , y = 'Purchase Amount (USD)')"
      ]
    },
    {
      "cell_type": "markdown",
      "id": "fceb1814-09d8-4f39-8d01-8e4122369ff1",
      "metadata": {
        "id": "fceb1814-09d8-4f39-8d01-8e4122369ff1"
      },
      "source": [
        "## 4 What are the most commonly purchased items in each category?"
      ]
    },
    {
      "cell_type": "code",
      "execution_count": 28,
      "id": "dd058c0d-7f51-4d86-9234-ad39ed6e03b6",
      "metadata": {
        "colab": {
          "base_uri": "https://localhost:8080/"
        },
        "id": "dd058c0d-7f51-4d86-9234-ad39ed6e03b6",
        "outputId": "56182dc3-faff-4184-8d40-fc724587accf"
      },
      "outputs": [
        {
          "output_type": "execute_result",
          "data": {
            "text/plain": [
              "Index(['Customer ID', 'Age', 'Gender', 'Item Purchased', 'Category',\n",
              "       'Purchase Amount (USD)', 'Location', 'Size', 'Color', 'Season',\n",
              "       'Review Rating', 'Subscription Status', 'Shipping Type',\n",
              "       'Discount Applied', 'Promo Code Used', 'Previous Purchases',\n",
              "       'Payment Method', 'Frequency of Purchases', 'Age_category'],\n",
              "      dtype='object')"
            ]
          },
          "metadata": {},
          "execution_count": 28
        }
      ],
      "source": [
        "shop.columns"
      ]
    },
    {
      "cell_type": "code",
      "execution_count": 29,
      "id": "6f895c48-7a06-4544-a605-d9e4fc16d233",
      "metadata": {
        "colab": {
          "base_uri": "https://localhost:8080/",
          "height": 899
        },
        "id": "6f895c48-7a06-4544-a605-d9e4fc16d233",
        "outputId": "5b5f78a7-adab-422d-dd05-43389025e998"
      },
      "outputs": [
        {
          "output_type": "execute_result",
          "data": {
            "text/plain": [
              "Category     Item Purchased\n",
              "Accessories  Jewelry           171\n",
              "             Belt              161\n",
              "             Sunglasses        161\n",
              "             Scarf             157\n",
              "             Hat               154\n",
              "             Handbag           153\n",
              "             Backpack          143\n",
              "             Gloves            140\n",
              "Clothing     Blouse            171\n",
              "             Pants             171\n",
              "             Shirt             169\n",
              "             Dress             166\n",
              "             Sweater           164\n",
              "             Socks             159\n",
              "             Skirt             158\n",
              "             Shorts            157\n",
              "             Hoodie            151\n",
              "             T-shirt           147\n",
              "             Jeans             124\n",
              "Footwear     Sandals           160\n",
              "             Shoes             150\n",
              "             Sneakers          145\n",
              "             Boots             144\n",
              "Outerwear    Jacket            163\n",
              "             Coat              161\n",
              "Name: count, dtype: int64"
            ],
            "text/html": [
              "<div>\n",
              "<style scoped>\n",
              "    .dataframe tbody tr th:only-of-type {\n",
              "        vertical-align: middle;\n",
              "    }\n",
              "\n",
              "    .dataframe tbody tr th {\n",
              "        vertical-align: top;\n",
              "    }\n",
              "\n",
              "    .dataframe thead th {\n",
              "        text-align: right;\n",
              "    }\n",
              "</style>\n",
              "<table border=\"1\" class=\"dataframe\">\n",
              "  <thead>\n",
              "    <tr style=\"text-align: right;\">\n",
              "      <th></th>\n",
              "      <th></th>\n",
              "      <th>count</th>\n",
              "    </tr>\n",
              "    <tr>\n",
              "      <th>Category</th>\n",
              "      <th>Item Purchased</th>\n",
              "      <th></th>\n",
              "    </tr>\n",
              "  </thead>\n",
              "  <tbody>\n",
              "    <tr>\n",
              "      <th rowspan=\"8\" valign=\"top\">Accessories</th>\n",
              "      <th>Jewelry</th>\n",
              "      <td>171</td>\n",
              "    </tr>\n",
              "    <tr>\n",
              "      <th>Belt</th>\n",
              "      <td>161</td>\n",
              "    </tr>\n",
              "    <tr>\n",
              "      <th>Sunglasses</th>\n",
              "      <td>161</td>\n",
              "    </tr>\n",
              "    <tr>\n",
              "      <th>Scarf</th>\n",
              "      <td>157</td>\n",
              "    </tr>\n",
              "    <tr>\n",
              "      <th>Hat</th>\n",
              "      <td>154</td>\n",
              "    </tr>\n",
              "    <tr>\n",
              "      <th>Handbag</th>\n",
              "      <td>153</td>\n",
              "    </tr>\n",
              "    <tr>\n",
              "      <th>Backpack</th>\n",
              "      <td>143</td>\n",
              "    </tr>\n",
              "    <tr>\n",
              "      <th>Gloves</th>\n",
              "      <td>140</td>\n",
              "    </tr>\n",
              "    <tr>\n",
              "      <th rowspan=\"11\" valign=\"top\">Clothing</th>\n",
              "      <th>Blouse</th>\n",
              "      <td>171</td>\n",
              "    </tr>\n",
              "    <tr>\n",
              "      <th>Pants</th>\n",
              "      <td>171</td>\n",
              "    </tr>\n",
              "    <tr>\n",
              "      <th>Shirt</th>\n",
              "      <td>169</td>\n",
              "    </tr>\n",
              "    <tr>\n",
              "      <th>Dress</th>\n",
              "      <td>166</td>\n",
              "    </tr>\n",
              "    <tr>\n",
              "      <th>Sweater</th>\n",
              "      <td>164</td>\n",
              "    </tr>\n",
              "    <tr>\n",
              "      <th>Socks</th>\n",
              "      <td>159</td>\n",
              "    </tr>\n",
              "    <tr>\n",
              "      <th>Skirt</th>\n",
              "      <td>158</td>\n",
              "    </tr>\n",
              "    <tr>\n",
              "      <th>Shorts</th>\n",
              "      <td>157</td>\n",
              "    </tr>\n",
              "    <tr>\n",
              "      <th>Hoodie</th>\n",
              "      <td>151</td>\n",
              "    </tr>\n",
              "    <tr>\n",
              "      <th>T-shirt</th>\n",
              "      <td>147</td>\n",
              "    </tr>\n",
              "    <tr>\n",
              "      <th>Jeans</th>\n",
              "      <td>124</td>\n",
              "    </tr>\n",
              "    <tr>\n",
              "      <th rowspan=\"4\" valign=\"top\">Footwear</th>\n",
              "      <th>Sandals</th>\n",
              "      <td>160</td>\n",
              "    </tr>\n",
              "    <tr>\n",
              "      <th>Shoes</th>\n",
              "      <td>150</td>\n",
              "    </tr>\n",
              "    <tr>\n",
              "      <th>Sneakers</th>\n",
              "      <td>145</td>\n",
              "    </tr>\n",
              "    <tr>\n",
              "      <th>Boots</th>\n",
              "      <td>144</td>\n",
              "    </tr>\n",
              "    <tr>\n",
              "      <th rowspan=\"2\" valign=\"top\">Outerwear</th>\n",
              "      <th>Jacket</th>\n",
              "      <td>163</td>\n",
              "    </tr>\n",
              "    <tr>\n",
              "      <th>Coat</th>\n",
              "      <td>161</td>\n",
              "    </tr>\n",
              "  </tbody>\n",
              "</table>\n",
              "</div><br><label><b>dtype:</b> int64</label>"
            ]
          },
          "metadata": {},
          "execution_count": 29
        }
      ],
      "source": [
        "shop.groupby('Category')['Item Purchased'].value_counts()"
      ]
    },
    {
      "cell_type": "code",
      "execution_count": 30,
      "id": "c7c9caea-d899-4cf8-88ad-39fb37e5b4e6",
      "metadata": {
        "colab": {
          "base_uri": "https://localhost:8080/",
          "height": 542
        },
        "id": "c7c9caea-d899-4cf8-88ad-39fb37e5b4e6",
        "outputId": "ceeb1614-5bd8-460d-b2d7-3f357bc9d846"
      },
      "outputs": [
        {
          "output_type": "display_data",
          "data": {
            "text/html": [
              "<html>\n",
              "<head><meta charset=\"utf-8\" /></head>\n",
              "<body>\n",
              "    <div>            <script src=\"https://cdnjs.cloudflare.com/ajax/libs/mathjax/2.7.5/MathJax.js?config=TeX-AMS-MML_SVG\"></script><script type=\"text/javascript\">if (window.MathJax && window.MathJax.Hub && window.MathJax.Hub.Config) {window.MathJax.Hub.Config({SVG: {font: \"STIX-Web\"}});}</script>                <script type=\"text/javascript\">window.PlotlyConfig = {MathJaxConfig: 'local'};</script>\n",
              "        <script charset=\"utf-8\" src=\"https://cdn.plot.ly/plotly-2.35.2.min.js\"></script>                <div id=\"aa02934d-ece2-4f82-9e95-56f3842f485c\" class=\"plotly-graph-div\" style=\"height:525px; width:100%;\"></div>            <script type=\"text/javascript\">                                    window.PLOTLYENV=window.PLOTLYENV || {};                                    if (document.getElementById(\"aa02934d-ece2-4f82-9e95-56f3842f485c\")) {                    Plotly.newPlot(                        \"aa02934d-ece2-4f82-9e95-56f3842f485c\",                        [{\"alignmentgroup\":\"True\",\"bingroup\":\"x\",\"hovertemplate\":\"Category=Clothing\\u003cbr\\u003eItem Purchased=%{x}\\u003cbr\\u003ecount=%{y}\\u003cextra\\u003e\\u003c\\u002fextra\\u003e\",\"legendgroup\":\"Clothing\",\"marker\":{\"color\":\"#636efa\",\"pattern\":{\"shape\":\"\"}},\"name\":\"Clothing\",\"offsetgroup\":\"Clothing\",\"orientation\":\"v\",\"showlegend\":true,\"x\":[\"Blouse\",\"Sweater\",\"Jeans\",\"Blouse\",\"Shirt\",\"Shorts\",\"Shorts\",\"Dress\",\"Skirt\",\"Dress\",\"Sweater\",\"Pants\",\"Pants\",\"Pants\",\"Pants\",\"Pants\",\"Hoodie\",\"Shorts\",\"Dress\",\"Dress\",\"Pants\",\"T-shirt\",\"Blouse\",\"T-shirt\",\"Jeans\",\"Dress\",\"Pants\",\"Socks\",\"Shirt\",\"Shirt\",\"Hoodie\",\"Blouse\",\"Skirt\",\"T-shirt\",\"Skirt\",\"Hoodie\",\"Sweater\",\"Blouse\",\"Dress\",\"Dress\",\"Pants\",\"Dress\",\"Skirt\",\"Pants\",\"Dress\",\"Hoodie\",\"T-shirt\",\"Sweater\",\"Skirt\",\"Jeans\",\"Hoodie\",\"Socks\",\"Socks\",\"T-shirt\",\"Skirt\",\"Sweater\",\"Shorts\",\"Sweater\",\"Sweater\",\"Shorts\",\"Shorts\",\"Sweater\",\"Dress\",\"Skirt\",\"Sweater\",\"Blouse\",\"Skirt\",\"Shirt\",\"Skirt\",\"Pants\",\"Shirt\",\"Hoodie\",\"Dress\",\"Socks\",\"Shorts\",\"Shirt\",\"Skirt\",\"Shirt\",\"Shorts\",\"Hoodie\",\"Skirt\",\"Pants\",\"Skirt\",\"T-shirt\",\"Hoodie\",\"Blouse\",\"Dress\",\"Blouse\",\"Shirt\",\"T-shirt\",\"Skirt\",\"Skirt\",\"Shorts\",\"T-shirt\",\"Pants\",\"Socks\",\"Jeans\",\"Socks\",\"Blouse\",\"Sweater\",\"Dress\",\"Skirt\",\"Pants\",\"Sweater\",\"Hoodie\",\"Sweater\",\"Skirt\",\"Shorts\",\"Jeans\",\"Jeans\",\"Pants\",\"Shorts\",\"Pants\",\"Sweater\",\"Blouse\",\"Jeans\",\"Skirt\",\"Shirt\",\"Sweater\",\"Skirt\",\"Sweater\",\"Skirt\",\"T-shirt\",\"T-shirt\",\"Dress\",\"Skirt\",\"T-shirt\",\"Skirt\",\"Sweater\",\"Dress\",\"Sweater\",\"Dress\",\"Pants\",\"Jeans\",\"Pants\",\"Dress\",\"Pants\",\"Sweater\",\"Shorts\",\"Hoodie\",\"Shirt\",\"Pants\",\"Socks\",\"Sweater\",\"Shirt\",\"Shirt\",\"Sweater\",\"Blouse\",\"Sweater\",\"Sweater\",\"Hoodie\",\"Shorts\",\"Shorts\",\"Skirt\",\"Jeans\",\"Blouse\",\"Sweater\",\"Skirt\",\"Jeans\",\"Pants\",\"Pants\",\"T-shirt\",\"Shorts\",\"Socks\",\"Dress\",\"Sweater\",\"Dress\",\"T-shirt\",\"Jeans\",\"Sweater\",\"Shorts\",\"Sweater\",\"T-shirt\",\"Dress\",\"T-shirt\",\"T-shirt\",\"Jeans\",\"Hoodie\",\"Shorts\",\"Sweater\",\"Jeans\",\"Sweater\",\"Shorts\",\"Socks\",\"Shirt\",\"Pants\",\"Sweater\",\"Jeans\",\"Pants\",\"Shirt\",\"Shirt\",\"Skirt\",\"Pants\",\"Shirt\",\"Hoodie\",\"Dress\",\"Shirt\",\"Shorts\",\"Pants\",\"Blouse\",\"Blouse\",\"Shorts\",\"Skirt\",\"Jeans\",\"Shorts\",\"Dress\",\"Jeans\",\"Sweater\",\"Sweater\",\"Hoodie\",\"Hoodie\",\"Sweater\",\"Socks\",\"Shirt\",\"Dress\",\"T-shirt\",\"Pants\",\"T-shirt\",\"Shorts\",\"T-shirt\",\"Shirt\",\"Shirt\",\"Skirt\",\"Hoodie\",\"Blouse\",\"Shorts\",\"Shirt\",\"Pants\",\"T-shirt\",\"Shorts\",\"Pants\",\"T-shirt\",\"Blouse\",\"Socks\",\"Dress\",\"Skirt\",\"Hoodie\",\"T-shirt\",\"Shirt\",\"Jeans\",\"Hoodie\",\"Blouse\",\"Pants\",\"Skirt\",\"T-shirt\",\"Pants\",\"Jeans\",\"Skirt\",\"Sweater\",\"Sweater\",\"Shorts\",\"Socks\",\"Socks\",\"Hoodie\",\"Socks\",\"Shirt\",\"Hoodie\",\"Dress\",\"Hoodie\",\"Sweater\",\"Shorts\",\"Socks\",\"Pants\",\"Sweater\",\"Hoodie\",\"Sweater\",\"Dress\",\"Skirt\",\"Blouse\",\"Skirt\",\"Sweater\",\"Hoodie\",\"Blouse\",\"Hoodie\",\"Pants\",\"Jeans\",\"Shorts\",\"Shirt\",\"Dress\",\"Pants\",\"Pants\",\"Hoodie\",\"T-shirt\",\"Sweater\",\"Socks\",\"Shirt\",\"Pants\",\"Socks\",\"Blouse\",\"Shirt\",\"Blouse\",\"Sweater\",\"Hoodie\",\"Shorts\",\"Shorts\",\"Dress\",\"Shorts\",\"Pants\",\"Shirt\",\"Dress\",\"Hoodie\",\"Pants\",\"Jeans\",\"Shirt\",\"Blouse\",\"Hoodie\",\"Jeans\",\"Socks\",\"Shirt\",\"Shorts\",\"Blouse\",\"Sweater\",\"T-shirt\",\"Shorts\",\"Sweater\",\"Jeans\",\"Shirt\",\"Dress\",\"Shirt\",\"Dress\",\"Shorts\",\"Jeans\",\"T-shirt\",\"Pants\",\"T-shirt\",\"Shorts\",\"T-shirt\",\"Hoodie\",\"Dress\",\"Sweater\",\"Skirt\",\"Socks\",\"Sweater\",\"Jeans\",\"Shirt\",\"Socks\",\"Socks\",\"Dress\",\"Hoodie\",\"T-shirt\",\"Jeans\",\"Shorts\",\"Pants\",\"Sweater\",\"Pants\",\"Socks\",\"Socks\",\"Socks\",\"Pants\",\"Shorts\",\"Dress\",\"Jeans\",\"T-shirt\",\"Shirt\",\"Sweater\",\"Shirt\",\"Hoodie\",\"Shirt\",\"Blouse\",\"Dress\",\"Socks\",\"Socks\",\"Shorts\",\"Hoodie\",\"Shirt\",\"Shirt\",\"Sweater\",\"Shirt\",\"Hoodie\",\"Hoodie\",\"Jeans\",\"Dress\",\"Pants\",\"Socks\",\"Shirt\",\"Shorts\",\"Hoodie\",\"Skirt\",\"Jeans\",\"Blouse\",\"Dress\",\"Hoodie\",\"Jeans\",\"Skirt\",\"Skirt\",\"Dress\",\"Shorts\",\"Skirt\",\"Shorts\",\"Hoodie\",\"Shirt\",\"Sweater\",\"T-shirt\",\"Dress\",\"Pants\",\"Sweater\",\"Hoodie\",\"Pants\",\"Hoodie\",\"Dress\",\"Dress\",\"Jeans\",\"Sweater\",\"Shorts\",\"Shirt\",\"Shirt\",\"Socks\",\"Jeans\",\"Jeans\",\"Dress\",\"T-shirt\",\"Skirt\",\"Jeans\",\"Hoodie\",\"Shorts\",\"Blouse\",\"T-shirt\",\"Dress\",\"Blouse\",\"Jeans\",\"Dress\",\"Dress\",\"Shirt\",\"Skirt\",\"Dress\",\"Hoodie\",\"Shorts\",\"Jeans\",\"Skirt\",\"Sweater\",\"T-shirt\",\"Pants\",\"Shorts\",\"Pants\",\"Socks\",\"Socks\",\"Dress\",\"Pants\",\"Hoodie\",\"Jeans\",\"Dress\",\"Shirt\",\"T-shirt\",\"Shirt\",\"Hoodie\",\"Pants\",\"Socks\",\"Blouse\",\"Pants\",\"Jeans\",\"Shirt\",\"Jeans\",\"Jeans\",\"Sweater\",\"Socks\",\"Socks\",\"Socks\",\"Blouse\",\"Shorts\",\"Sweater\",\"Sweater\",\"Hoodie\",\"T-shirt\",\"Dress\",\"Shirt\",\"Skirt\",\"Shorts\",\"Sweater\",\"T-shirt\",\"Jeans\",\"Pants\",\"Sweater\",\"Sweater\",\"Pants\",\"Sweater\",\"Hoodie\",\"T-shirt\",\"Skirt\",\"Shorts\",\"Hoodie\",\"Hoodie\",\"Hoodie\",\"Skirt\",\"T-shirt\",\"Sweater\",\"Shirt\",\"Hoodie\",\"Shirt\",\"Hoodie\",\"T-shirt\",\"Skirt\",\"Shirt\",\"Pants\",\"Jeans\",\"T-shirt\",\"Jeans\",\"Pants\",\"Blouse\",\"Shirt\",\"Dress\",\"T-shirt\",\"Shorts\",\"Pants\",\"Dress\",\"T-shirt\",\"Dress\",\"Socks\",\"Skirt\",\"Socks\",\"Dress\",\"Skirt\",\"Dress\",\"T-shirt\",\"Skirt\",\"Shorts\",\"Pants\",\"Jeans\",\"Jeans\",\"Blouse\",\"Shirt\",\"Shirt\",\"T-shirt\",\"Hoodie\",\"Socks\",\"Pants\",\"Hoodie\",\"Blouse\",\"Pants\",\"Sweater\",\"Socks\",\"Jeans\",\"Pants\",\"Shorts\",\"Blouse\",\"Socks\",\"Pants\",\"Sweater\",\"Dress\",\"Pants\",\"Hoodie\",\"Socks\",\"Blouse\",\"Socks\",\"Dress\",\"Hoodie\",\"T-shirt\",\"Jeans\",\"Shorts\",\"Dress\",\"Skirt\",\"Shirt\",\"Shirt\",\"Hoodie\",\"Sweater\",\"Shirt\",\"Blouse\",\"T-shirt\",\"Hoodie\",\"Jeans\",\"Sweater\",\"Blouse\",\"Shorts\",\"Hoodie\",\"Pants\",\"Shirt\",\"Shirt\",\"Dress\",\"Jeans\",\"Skirt\",\"Sweater\",\"Shirt\",\"Jeans\",\"Pants\",\"T-shirt\",\"Shirt\",\"Blouse\",\"Pants\",\"Sweater\",\"Dress\",\"Blouse\",\"Hoodie\",\"T-shirt\",\"Shorts\",\"Pants\",\"Shorts\",\"T-shirt\",\"Pants\",\"Shorts\",\"Sweater\",\"Socks\",\"Hoodie\",\"Pants\",\"Sweater\",\"Hoodie\",\"T-shirt\",\"Dress\",\"Hoodie\",\"Sweater\",\"Socks\",\"Pants\",\"Shorts\",\"Hoodie\",\"Skirt\",\"Dress\",\"Blouse\",\"Shirt\",\"Pants\",\"Blouse\",\"T-shirt\",\"Blouse\",\"Dress\",\"Blouse\",\"Pants\",\"Dress\",\"Socks\",\"Shirt\",\"Blouse\",\"Skirt\",\"Shorts\",\"Blouse\",\"Socks\",\"Shorts\",\"Shirt\",\"Jeans\",\"Dress\",\"Dress\",\"Pants\",\"Blouse\",\"Skirt\",\"Pants\",\"Hoodie\",\"Sweater\",\"Pants\",\"Hoodie\",\"Sweater\",\"Jeans\",\"Hoodie\",\"Socks\",\"Dress\",\"Pants\",\"Shirt\",\"Sweater\",\"Shorts\",\"Shorts\",\"Sweater\",\"Blouse\",\"Skirt\",\"Shorts\",\"Skirt\",\"Shirt\",\"T-shirt\",\"T-shirt\",\"Sweater\",\"Jeans\",\"Jeans\",\"Pants\",\"Shirt\",\"Dress\",\"Blouse\",\"Dress\",\"Blouse\",\"Dress\",\"Socks\",\"Jeans\",\"Jeans\",\"Shorts\",\"Socks\",\"Socks\",\"T-shirt\",\"Blouse\",\"Dress\",\"Shorts\",\"Blouse\",\"Jeans\",\"Dress\",\"Blouse\",\"Blouse\",\"Shorts\",\"Shorts\",\"Hoodie\",\"Pants\",\"Skirt\",\"Pants\",\"Skirt\",\"T-shirt\",\"Skirt\",\"Shirt\",\"Dress\",\"Pants\",\"Blouse\",\"Sweater\",\"Socks\",\"Jeans\",\"Skirt\",\"Dress\",\"Shirt\",\"Shirt\",\"Shorts\",\"Sweater\",\"T-shirt\",\"Shorts\",\"Shirt\",\"Socks\",\"Pants\",\"Skirt\",\"T-shirt\",\"Blouse\",\"Shorts\",\"Sweater\",\"Skirt\",\"Dress\",\"Blouse\",\"Sweater\",\"Socks\",\"Dress\",\"Hoodie\",\"Pants\",\"T-shirt\",\"Sweater\",\"Sweater\",\"Blouse\",\"Skirt\",\"T-shirt\",\"Shirt\",\"Skirt\",\"Blouse\",\"T-shirt\",\"Pants\",\"Hoodie\",\"Blouse\",\"Pants\",\"Jeans\",\"Pants\",\"Dress\",\"Socks\",\"Shirt\",\"Blouse\",\"Skirt\",\"Shirt\",\"Shirt\",\"Shirt\",\"Sweater\",\"Hoodie\",\"Jeans\",\"Shorts\",\"Skirt\",\"Pants\",\"T-shirt\",\"T-shirt\",\"Jeans\",\"Dress\",\"Blouse\",\"Hoodie\",\"T-shirt\",\"Sweater\",\"Shorts\",\"T-shirt\",\"Blouse\",\"Jeans\",\"Shorts\",\"Shirt\",\"Blouse\",\"Jeans\",\"Dress\",\"Shorts\",\"Pants\",\"Pants\",\"Skirt\",\"Skirt\",\"Skirt\",\"Hoodie\",\"Sweater\",\"Skirt\",\"Dress\",\"Dress\",\"Sweater\",\"Skirt\",\"Hoodie\",\"Dress\",\"Hoodie\",\"Sweater\",\"Socks\",\"Shirt\",\"Sweater\",\"T-shirt\",\"Pants\",\"Sweater\",\"Blouse\",\"Blouse\",\"Jeans\",\"Jeans\",\"Skirt\",\"Dress\",\"Hoodie\",\"Sweater\",\"Shorts\",\"Sweater\",\"T-shirt\",\"Jeans\",\"Shorts\",\"Jeans\",\"T-shirt\",\"Socks\",\"Shirt\",\"Shorts\",\"Shirt\",\"Socks\",\"Pants\",\"T-shirt\",\"T-shirt\",\"Blouse\",\"Skirt\",\"Pants\",\"Shirt\",\"Socks\",\"Shorts\",\"Jeans\",\"Skirt\",\"Skirt\",\"Sweater\",\"Blouse\",\"Sweater\",\"Shirt\",\"T-shirt\",\"T-shirt\",\"Pants\",\"T-shirt\",\"Skirt\",\"Blouse\",\"Blouse\",\"Jeans\",\"T-shirt\",\"Sweater\",\"Pants\",\"Skirt\",\"Socks\",\"T-shirt\",\"Blouse\",\"Blouse\",\"Shorts\",\"Hoodie\",\"Hoodie\",\"Skirt\",\"Dress\",\"Hoodie\",\"Jeans\",\"Pants\",\"Shorts\",\"Socks\",\"Pants\",\"T-shirt\",\"Skirt\",\"Sweater\",\"Sweater\",\"Skirt\",\"Shorts\",\"Hoodie\",\"Skirt\",\"Skirt\",\"Blouse\",\"Shirt\",\"Pants\",\"Jeans\",\"Pants\",\"Hoodie\",\"Blouse\",\"Socks\",\"Jeans\",\"Pants\",\"Socks\",\"Hoodie\",\"Hoodie\",\"Pants\",\"Shirt\",\"T-shirt\",\"Dress\",\"Skirt\",\"Hoodie\",\"Socks\",\"Shorts\",\"Jeans\",\"Shorts\",\"Pants\",\"Sweater\",\"Dress\",\"Shirt\",\"Dress\",\"Skirt\",\"Jeans\",\"Skirt\",\"Pants\",\"Hoodie\",\"Blouse\",\"Pants\",\"Socks\",\"Shirt\",\"Shirt\",\"Skirt\",\"Sweater\",\"Jeans\",\"Skirt\",\"Socks\",\"Shirt\",\"Sweater\",\"Socks\",\"Socks\",\"Shirt\",\"Socks\",\"Blouse\",\"Jeans\",\"Shorts\",\"T-shirt\",\"Blouse\",\"Blouse\",\"T-shirt\",\"Jeans\",\"Pants\",\"T-shirt\",\"Sweater\",\"Socks\",\"Shirt\",\"Shorts\",\"Sweater\",\"Shorts\",\"Pants\",\"T-shirt\",\"Sweater\",\"Dress\",\"Jeans\",\"Jeans\",\"Blouse\",\"Jeans\",\"Dress\",\"Socks\",\"Jeans\",\"Dress\",\"Socks\",\"Hoodie\",\"Dress\",\"T-shirt\",\"T-shirt\",\"Sweater\",\"Shirt\",\"Pants\",\"Pants\",\"Hoodie\",\"Socks\",\"Dress\",\"Shirt\",\"Dress\",\"Socks\",\"Skirt\",\"Skirt\",\"Shorts\",\"Skirt\",\"Socks\",\"Sweater\",\"Dress\",\"Skirt\",\"Skirt\",\"T-shirt\",\"Shirt\",\"Jeans\",\"Shorts\",\"Shirt\",\"Skirt\",\"Shirt\",\"Blouse\",\"Dress\",\"Shorts\",\"Pants\",\"Skirt\",\"Sweater\",\"Shorts\",\"Skirt\",\"Dress\",\"Socks\",\"Blouse\",\"Shorts\",\"Shorts\",\"Blouse\",\"Blouse\",\"Blouse\",\"Shirt\",\"Socks\",\"Jeans\",\"Dress\",\"Pants\",\"Dress\",\"Dress\",\"Jeans\",\"Sweater\",\"Sweater\",\"Pants\",\"Pants\",\"Blouse\",\"Shorts\",\"Pants\",\"Shirt\",\"Pants\",\"Blouse\",\"Socks\",\"T-shirt\",\"Skirt\",\"Shirt\",\"Shorts\",\"Socks\",\"T-shirt\",\"Hoodie\",\"Blouse\",\"Skirt\",\"T-shirt\",\"Jeans\",\"Dress\",\"Sweater\",\"Skirt\",\"Blouse\",\"Dress\",\"Dress\",\"Shorts\",\"Jeans\",\"Hoodie\",\"Blouse\",\"Socks\",\"Blouse\",\"Shorts\",\"T-shirt\",\"Sweater\",\"Socks\",\"Pants\",\"Hoodie\",\"Skirt\",\"Dress\",\"T-shirt\",\"Dress\",\"Socks\",\"Hoodie\",\"Skirt\",\"Skirt\",\"Pants\",\"Shirt\",\"Shirt\",\"Blouse\",\"Skirt\",\"Socks\",\"T-shirt\",\"Blouse\",\"Sweater\",\"Blouse\",\"Skirt\",\"Shirt\",\"Sweater\",\"Jeans\",\"Socks\",\"Socks\",\"Sweater\",\"Socks\",\"Hoodie\",\"Blouse\",\"Sweater\",\"Blouse\",\"Socks\",\"Dress\",\"Shirt\",\"Shirt\",\"Jeans\",\"Socks\",\"Blouse\",\"Shirt\",\"Dress\",\"Shorts\",\"Shorts\",\"Jeans\",\"Shorts\",\"Hoodie\",\"Shorts\",\"Socks\",\"Pants\",\"Sweater\",\"T-shirt\",\"Hoodie\",\"T-shirt\",\"T-shirt\",\"Jeans\",\"Socks\",\"Blouse\",\"Shirt\",\"Pants\",\"T-shirt\",\"Socks\",\"Shirt\",\"Sweater\",\"Jeans\",\"T-shirt\",\"Socks\",\"Jeans\",\"Pants\",\"Blouse\",\"Shorts\",\"Shorts\",\"Skirt\",\"Blouse\",\"Shirt\",\"Socks\",\"T-shirt\",\"Dress\",\"Socks\",\"Dress\",\"Socks\",\"Skirt\",\"Hoodie\",\"Blouse\",\"Jeans\",\"Blouse\",\"Socks\",\"Hoodie\",\"Shorts\",\"Skirt\",\"Shorts\",\"Dress\",\"Socks\",\"Socks\",\"Blouse\",\"Shorts\",\"Shirt\",\"Sweater\",\"Shorts\",\"Pants\",\"Skirt\",\"Socks\",\"Pants\",\"Pants\",\"T-shirt\",\"Shorts\",\"Hoodie\",\"Hoodie\",\"Shorts\",\"Socks\",\"T-shirt\",\"Dress\",\"Blouse\",\"T-shirt\",\"Shorts\",\"Hoodie\",\"Socks\",\"Blouse\",\"Jeans\",\"Dress\",\"Dress\",\"Jeans\",\"Socks\",\"Pants\",\"Shorts\",\"Pants\",\"Skirt\",\"Blouse\",\"Shirt\",\"Dress\",\"Dress\",\"Sweater\",\"Hoodie\",\"Jeans\",\"T-shirt\",\"Shorts\",\"Pants\",\"Blouse\",\"Dress\",\"Skirt\",\"Shirt\",\"Hoodie\",\"Skirt\",\"Skirt\",\"Hoodie\",\"Pants\",\"Shirt\",\"Blouse\",\"Skirt\",\"Pants\",\"T-shirt\",\"Pants\",\"Socks\",\"Shorts\",\"Blouse\",\"Shorts\",\"Dress\",\"Pants\",\"Skirt\",\"T-shirt\",\"Hoodie\",\"Shorts\",\"Shorts\",\"Shorts\",\"Socks\",\"Dress\",\"Socks\",\"Dress\",\"Blouse\",\"Pants\",\"Hoodie\",\"T-shirt\",\"Sweater\",\"Dress\",\"Dress\",\"Shirt\",\"Sweater\",\"Shorts\",\"Hoodie\",\"Shirt\",\"Skirt\",\"Socks\",\"Jeans\",\"Skirt\",\"Hoodie\",\"Shirt\",\"Dress\",\"Shirt\",\"Hoodie\",\"Jeans\",\"Dress\",\"Sweater\",\"Blouse\",\"Skirt\",\"T-shirt\",\"Sweater\",\"Dress\",\"Dress\",\"Blouse\",\"Shirt\",\"Pants\",\"Socks\",\"Blouse\",\"Skirt\",\"Skirt\",\"Blouse\",\"Sweater\",\"Socks\",\"Shorts\",\"Hoodie\",\"T-shirt\",\"Shirt\",\"Shirt\",\"T-shirt\",\"Hoodie\",\"Blouse\",\"Hoodie\",\"Skirt\",\"Shorts\",\"Jeans\",\"Hoodie\",\"Shirt\",\"T-shirt\",\"Blouse\",\"Skirt\",\"Shorts\",\"Shirt\",\"Skirt\",\"Dress\",\"Blouse\",\"Skirt\",\"Hoodie\",\"Jeans\",\"T-shirt\",\"Pants\",\"T-shirt\",\"Dress\",\"Sweater\",\"Socks\",\"Sweater\",\"Blouse\",\"Dress\",\"Jeans\",\"Shorts\",\"Shirt\",\"T-shirt\",\"Sweater\",\"Skirt\",\"Blouse\",\"Socks\",\"Shorts\",\"Sweater\",\"Shirt\",\"Pants\",\"Hoodie\",\"Socks\",\"Dress\",\"Blouse\",\"Skirt\",\"Blouse\",\"Socks\",\"Hoodie\",\"Jeans\",\"T-shirt\",\"Dress\",\"Hoodie\",\"Blouse\",\"Blouse\",\"Blouse\",\"Blouse\",\"Socks\",\"Sweater\",\"Shirt\",\"Shorts\",\"Shirt\",\"Shirt\",\"Shirt\",\"Sweater\",\"Shirt\",\"Socks\",\"T-shirt\",\"Skirt\",\"Sweater\",\"Skirt\",\"Socks\",\"Shirt\",\"Pants\",\"Pants\",\"Jeans\",\"Dress\",\"T-shirt\",\"Dress\",\"Skirt\",\"Hoodie\",\"Pants\",\"Sweater\",\"Shorts\",\"Shorts\",\"Jeans\",\"Pants\",\"Dress\",\"Pants\",\"Skirt\",\"Socks\",\"Shirt\",\"Dress\",\"Socks\",\"Sweater\",\"Jeans\",\"Sweater\",\"Hoodie\",\"Blouse\",\"Skirt\",\"Shorts\",\"Dress\",\"Skirt\",\"T-shirt\",\"Blouse\",\"Jeans\",\"Blouse\",\"Shirt\",\"Hoodie\",\"Dress\",\"Dress\",\"Blouse\",\"Sweater\",\"Hoodie\",\"Blouse\",\"Socks\",\"Sweater\",\"T-shirt\",\"Skirt\",\"Jeans\",\"Sweater\",\"Shirt\",\"Shorts\",\"Sweater\",\"Hoodie\",\"T-shirt\",\"Pants\",\"Sweater\",\"Shirt\",\"Dress\",\"Shirt\",\"Dress\",\"Socks\",\"Shirt\",\"Pants\",\"Shirt\",\"Shirt\",\"Pants\",\"Skirt\",\"Blouse\",\"Socks\",\"Blouse\",\"Shirt\",\"Hoodie\",\"Shorts\",\"Shirt\",\"Hoodie\",\"Socks\",\"Pants\",\"Sweater\",\"T-shirt\",\"Skirt\",\"Blouse\",\"Hoodie\",\"Shirt\",\"Sweater\",\"Shorts\",\"Blouse\",\"T-shirt\",\"Socks\",\"Shirt\",\"Dress\",\"Pants\",\"Dress\",\"Shirt\",\"Dress\",\"Jeans\",\"T-shirt\",\"Socks\",\"Skirt\",\"Pants\",\"Socks\",\"Shorts\",\"Sweater\",\"Skirt\",\"Blouse\",\"Blouse\",\"Jeans\",\"Hoodie\",\"Sweater\",\"Sweater\",\"Socks\",\"Pants\",\"Hoodie\",\"Socks\",\"Socks\",\"Pants\",\"Skirt\",\"Hoodie\",\"Skirt\",\"T-shirt\",\"Shirt\",\"Hoodie\",\"Blouse\",\"Pants\",\"T-shirt\",\"T-shirt\",\"Socks\",\"Hoodie\",\"Sweater\",\"Pants\",\"T-shirt\",\"Sweater\",\"Shorts\",\"Shirt\",\"T-shirt\",\"Shorts\",\"Pants\",\"Hoodie\",\"Dress\",\"Blouse\",\"Socks\",\"Socks\",\"Sweater\",\"Pants\",\"Skirt\",\"Dress\",\"Pants\",\"T-shirt\",\"Skirt\",\"Sweater\",\"Blouse\",\"Blouse\",\"Shorts\",\"Pants\",\"Blouse\",\"Hoodie\",\"Jeans\",\"Socks\",\"Socks\",\"Shorts\",\"Blouse\",\"Sweater\",\"T-shirt\",\"Shorts\",\"T-shirt\",\"Jeans\",\"Shirt\",\"Blouse\",\"Skirt\",\"T-shirt\",\"Shorts\",\"Jeans\",\"T-shirt\",\"Shirt\",\"Dress\",\"Skirt\",\"Blouse\",\"Jeans\",\"Hoodie\",\"T-shirt\",\"Sweater\",\"Skirt\",\"T-shirt\",\"Sweater\",\"Hoodie\",\"Socks\",\"Blouse\",\"Shirt\",\"Shorts\",\"Dress\",\"Sweater\",\"Hoodie\",\"T-shirt\",\"Pants\",\"Sweater\",\"Pants\",\"Socks\",\"Hoodie\",\"Dress\",\"Dress\",\"Pants\",\"Blouse\",\"Jeans\",\"Pants\",\"Hoodie\",\"Blouse\",\"Sweater\",\"Dress\",\"Socks\",\"Shirt\",\"Blouse\",\"Socks\",\"T-shirt\",\"Skirt\",\"Socks\",\"Socks\",\"Pants\",\"Socks\",\"Shirt\",\"Sweater\",\"Skirt\",\"Dress\",\"Pants\",\"Blouse\",\"Shorts\",\"Blouse\",\"Shirt\",\"T-shirt\",\"Hoodie\",\"Hoodie\",\"Jeans\",\"Socks\",\"Socks\",\"Blouse\",\"Dress\",\"Pants\",\"Sweater\",\"Socks\",\"Hoodie\",\"Dress\",\"Shirt\",\"Shorts\",\"Sweater\",\"Dress\",\"Pants\",\"Pants\",\"Shorts\",\"Socks\",\"Shirt\",\"Shirt\",\"Shirt\",\"Pants\",\"T-shirt\",\"Shirt\",\"Blouse\",\"Dress\",\"Skirt\",\"Shirt\",\"Shorts\",\"Pants\",\"Pants\",\"Sweater\",\"Blouse\",\"T-shirt\",\"Pants\",\"Shorts\",\"Shorts\",\"Blouse\",\"Socks\",\"Blouse\",\"T-shirt\",\"Dress\",\"Blouse\",\"Sweater\",\"Shorts\",\"Socks\",\"Blouse\",\"Jeans\",\"Dress\",\"Skirt\",\"Shorts\",\"Jeans\",\"Socks\",\"Blouse\",\"Dress\",\"Shorts\",\"Blouse\",\"Hoodie\",\"Sweater\",\"Dress\",\"Blouse\",\"Hoodie\",\"Hoodie\",\"Dress\",\"T-shirt\",\"Skirt\",\"Jeans\",\"Hoodie\",\"Jeans\",\"Socks\",\"T-shirt\",\"Dress\",\"Hoodie\",\"Dress\",\"Blouse\",\"Blouse\",\"T-shirt\",\"Socks\",\"Dress\",\"Blouse\",\"Shorts\",\"Skirt\",\"Skirt\",\"Jeans\",\"Sweater\",\"T-shirt\",\"Shorts\",\"Socks\",\"Pants\",\"Blouse\",\"Socks\",\"Socks\",\"Shirt\",\"Shirt\",\"Socks\",\"Skirt\",\"Shorts\",\"Shirt\",\"Blouse\",\"Blouse\",\"Sweater\",\"Skirt\",\"Blouse\",\"Hoodie\",\"Skirt\",\"Skirt\",\"Hoodie\",\"Socks\",\"Blouse\",\"Shirt\",\"T-shirt\",\"Pants\",\"Pants\",\"Dress\",\"Socks\",\"Shirt\",\"Socks\",\"Hoodie\",\"Jeans\",\"Shorts\",\"Pants\",\"Shirt\",\"Shirt\",\"Pants\",\"Hoodie\",\"Socks\",\"Sweater\",\"Blouse\",\"Hoodie\",\"Skirt\",\"Skirt\",\"Skirt\",\"Socks\",\"Shorts\",\"Shirt\",\"Socks\",\"Shorts\",\"Sweater\",\"Pants\",\"T-shirt\",\"Pants\",\"Sweater\",\"Shorts\",\"Jeans\",\"Socks\",\"Jeans\",\"Blouse\",\"Shirt\",\"Shorts\",\"Sweater\",\"Blouse\",\"Blouse\",\"Socks\",\"Skirt\",\"Skirt\",\"Pants\",\"Dress\",\"Pants\",\"Shirt\",\"Shorts\",\"Shorts\",\"Blouse\",\"Pants\",\"Hoodie\",\"Skirt\",\"Hoodie\",\"Dress\",\"Jeans\",\"Jeans\",\"Shorts\",\"Sweater\",\"Blouse\",\"Sweater\",\"Hoodie\",\"T-shirt\",\"Shirt\",\"T-shirt\",\"Shorts\",\"Shirt\",\"T-shirt\",\"Shorts\",\"Dress\",\"T-shirt\",\"Sweater\",\"Hoodie\",\"Skirt\",\"Shirt\",\"Pants\",\"Socks\",\"Shirt\",\"Dress\",\"Shirt\",\"Dress\",\"Skirt\",\"Hoodie\"],\"xaxis\":\"x\",\"yaxis\":\"y\",\"type\":\"histogram\"},{\"alignmentgroup\":\"True\",\"bingroup\":\"x\",\"hovertemplate\":\"Category=Footwear\\u003cbr\\u003eItem Purchased=%{x}\\u003cbr\\u003ecount=%{y}\\u003cextra\\u003e\\u003c\\u002fextra\\u003e\",\"legendgroup\":\"Footwear\",\"marker\":{\"color\":\"#EF553B\",\"pattern\":{\"shape\":\"\"}},\"name\":\"Footwear\",\"offsetgroup\":\"Footwear\",\"orientation\":\"v\",\"showlegend\":true,\"x\":[\"Sandals\",\"Sneakers\",\"Shoes\",\"Sneakers\",\"Boots\",\"Sandals\",\"Shoes\",\"Shoes\",\"Sneakers\",\"Shoes\",\"Boots\",\"Sneakers\",\"Shoes\",\"Sandals\",\"Sandals\",\"Sneakers\",\"Shoes\",\"Shoes\",\"Boots\",\"Sneakers\",\"Shoes\",\"Shoes\",\"Boots\",\"Sandals\",\"Sneakers\",\"Shoes\",\"Shoes\",\"Boots\",\"Sneakers\",\"Sandals\",\"Sneakers\",\"Shoes\",\"Sandals\",\"Sandals\",\"Boots\",\"Shoes\",\"Sneakers\",\"Sandals\",\"Shoes\",\"Sandals\",\"Shoes\",\"Sneakers\",\"Sandals\",\"Sneakers\",\"Sandals\",\"Shoes\",\"Sandals\",\"Sneakers\",\"Sneakers\",\"Sneakers\",\"Shoes\",\"Sneakers\",\"Shoes\",\"Boots\",\"Shoes\",\"Sneakers\",\"Boots\",\"Boots\",\"Sneakers\",\"Sneakers\",\"Sandals\",\"Sandals\",\"Shoes\",\"Boots\",\"Boots\",\"Shoes\",\"Boots\",\"Sneakers\",\"Shoes\",\"Sandals\",\"Sneakers\",\"Boots\",\"Sneakers\",\"Boots\",\"Shoes\",\"Boots\",\"Shoes\",\"Shoes\",\"Boots\",\"Sandals\",\"Sneakers\",\"Sandals\",\"Sandals\",\"Boots\",\"Sandals\",\"Sneakers\",\"Sneakers\",\"Shoes\",\"Sneakers\",\"Sneakers\",\"Sandals\",\"Sandals\",\"Boots\",\"Boots\",\"Shoes\",\"Shoes\",\"Boots\",\"Shoes\",\"Sandals\",\"Shoes\",\"Sandals\",\"Shoes\",\"Boots\",\"Sandals\",\"Sneakers\",\"Sandals\",\"Boots\",\"Sandals\",\"Sneakers\",\"Sandals\",\"Boots\",\"Boots\",\"Boots\",\"Boots\",\"Boots\",\"Sandals\",\"Boots\",\"Shoes\",\"Sneakers\",\"Sneakers\",\"Shoes\",\"Sneakers\",\"Sandals\",\"Boots\",\"Shoes\",\"Boots\",\"Sneakers\",\"Boots\",\"Sneakers\",\"Shoes\",\"Boots\",\"Sandals\",\"Boots\",\"Sandals\",\"Shoes\",\"Sandals\",\"Shoes\",\"Sneakers\",\"Boots\",\"Sandals\",\"Sandals\",\"Boots\",\"Sneakers\",\"Sneakers\",\"Sneakers\",\"Sneakers\",\"Boots\",\"Sneakers\",\"Shoes\",\"Boots\",\"Sneakers\",\"Boots\",\"Boots\",\"Sandals\",\"Boots\",\"Sneakers\",\"Boots\",\"Shoes\",\"Shoes\",\"Sandals\",\"Shoes\",\"Sandals\",\"Shoes\",\"Shoes\",\"Sandals\",\"Shoes\",\"Sandals\",\"Boots\",\"Sneakers\",\"Sneakers\",\"Shoes\",\"Boots\",\"Sneakers\",\"Sneakers\",\"Shoes\",\"Sneakers\",\"Sandals\",\"Shoes\",\"Boots\",\"Sneakers\",\"Sneakers\",\"Shoes\",\"Sandals\",\"Sneakers\",\"Sandals\",\"Shoes\",\"Sneakers\",\"Boots\",\"Boots\",\"Shoes\",\"Boots\",\"Boots\",\"Sandals\",\"Boots\",\"Sandals\",\"Sandals\",\"Sneakers\",\"Boots\",\"Boots\",\"Sandals\",\"Boots\",\"Sandals\",\"Sneakers\",\"Sandals\",\"Sneakers\",\"Shoes\",\"Shoes\",\"Boots\",\"Shoes\",\"Boots\",\"Sneakers\",\"Sneakers\",\"Shoes\",\"Sneakers\",\"Sandals\",\"Sneakers\",\"Shoes\",\"Sneakers\",\"Sandals\",\"Boots\",\"Sandals\",\"Sandals\",\"Sneakers\",\"Boots\",\"Boots\",\"Sandals\",\"Sandals\",\"Boots\",\"Boots\",\"Sneakers\",\"Shoes\",\"Boots\",\"Sneakers\",\"Sandals\",\"Sneakers\",\"Sneakers\",\"Boots\",\"Sneakers\",\"Shoes\",\"Shoes\",\"Sandals\",\"Shoes\",\"Sneakers\",\"Sneakers\",\"Sneakers\",\"Sneakers\",\"Boots\",\"Sneakers\",\"Boots\",\"Sneakers\",\"Shoes\",\"Boots\",\"Sandals\",\"Sandals\",\"Sneakers\",\"Shoes\",\"Boots\",\"Boots\",\"Boots\",\"Shoes\",\"Sneakers\",\"Shoes\",\"Sneakers\",\"Boots\",\"Shoes\",\"Sandals\",\"Boots\",\"Sandals\",\"Sandals\",\"Shoes\",\"Sneakers\",\"Sneakers\",\"Sneakers\",\"Sneakers\",\"Boots\",\"Shoes\",\"Boots\",\"Sandals\",\"Sandals\",\"Sandals\",\"Sneakers\",\"Sandals\",\"Boots\",\"Sandals\",\"Sandals\",\"Boots\",\"Sandals\",\"Sandals\",\"Sneakers\",\"Sandals\",\"Shoes\",\"Shoes\",\"Shoes\",\"Boots\",\"Sandals\",\"Sandals\",\"Shoes\",\"Sneakers\",\"Boots\",\"Sneakers\",\"Sneakers\",\"Shoes\",\"Sandals\",\"Boots\",\"Sandals\",\"Shoes\",\"Shoes\",\"Shoes\",\"Shoes\",\"Sneakers\",\"Boots\",\"Shoes\",\"Sneakers\",\"Sneakers\",\"Sandals\",\"Sandals\",\"Sneakers\",\"Shoes\",\"Shoes\",\"Boots\",\"Sandals\",\"Boots\",\"Sandals\",\"Shoes\",\"Sandals\",\"Shoes\",\"Sandals\",\"Shoes\",\"Sandals\",\"Boots\",\"Sandals\",\"Sandals\",\"Sandals\",\"Sandals\",\"Sneakers\",\"Shoes\",\"Boots\",\"Sandals\",\"Sneakers\",\"Sandals\",\"Shoes\",\"Shoes\",\"Shoes\",\"Sneakers\",\"Shoes\",\"Sneakers\",\"Boots\",\"Sneakers\",\"Sneakers\",\"Sandals\",\"Shoes\",\"Sandals\",\"Boots\",\"Boots\",\"Boots\",\"Sneakers\",\"Sandals\",\"Shoes\",\"Shoes\",\"Boots\",\"Sneakers\",\"Shoes\",\"Shoes\",\"Boots\",\"Sandals\",\"Sandals\",\"Boots\",\"Sneakers\",\"Shoes\",\"Sandals\",\"Sneakers\",\"Shoes\",\"Sneakers\",\"Sneakers\",\"Sneakers\",\"Sandals\",\"Sandals\",\"Sandals\",\"Boots\",\"Shoes\",\"Boots\",\"Shoes\",\"Sneakers\",\"Boots\",\"Sandals\",\"Sandals\",\"Shoes\",\"Boots\",\"Boots\",\"Shoes\",\"Boots\",\"Sneakers\",\"Shoes\",\"Shoes\",\"Sandals\",\"Shoes\",\"Shoes\",\"Sandals\",\"Shoes\",\"Sneakers\",\"Boots\",\"Boots\",\"Sneakers\",\"Sandals\",\"Boots\",\"Sandals\",\"Boots\",\"Shoes\",\"Sneakers\",\"Boots\",\"Sneakers\",\"Boots\",\"Boots\",\"Shoes\",\"Shoes\",\"Sneakers\",\"Shoes\",\"Sandals\",\"Shoes\",\"Sneakers\",\"Sneakers\",\"Shoes\",\"Boots\",\"Sandals\",\"Shoes\",\"Sneakers\",\"Boots\",\"Boots\",\"Boots\",\"Sandals\",\"Boots\",\"Boots\",\"Boots\",\"Shoes\",\"Shoes\",\"Boots\",\"Sandals\",\"Boots\",\"Sneakers\",\"Boots\",\"Sandals\",\"Sneakers\",\"Boots\",\"Boots\",\"Sandals\",\"Shoes\",\"Shoes\",\"Sneakers\",\"Sneakers\",\"Boots\",\"Boots\",\"Boots\",\"Sneakers\",\"Boots\",\"Sneakers\",\"Sandals\",\"Shoes\",\"Boots\",\"Sandals\",\"Shoes\",\"Sneakers\",\"Boots\",\"Boots\",\"Shoes\",\"Sneakers\",\"Shoes\",\"Shoes\",\"Boots\",\"Sandals\",\"Boots\",\"Shoes\",\"Boots\",\"Sneakers\",\"Sandals\",\"Sandals\",\"Shoes\",\"Sandals\",\"Sandals\",\"Sandals\",\"Boots\",\"Shoes\",\"Sneakers\",\"Boots\",\"Shoes\",\"Sandals\",\"Sandals\",\"Sneakers\",\"Boots\",\"Sneakers\",\"Boots\",\"Shoes\",\"Sneakers\",\"Sneakers\",\"Sneakers\",\"Shoes\",\"Sneakers\",\"Sandals\",\"Sneakers\",\"Sandals\",\"Shoes\",\"Shoes\",\"Sneakers\",\"Sandals\",\"Sandals\",\"Sneakers\",\"Shoes\",\"Shoes\",\"Sandals\",\"Sandals\",\"Boots\",\"Sandals\",\"Boots\",\"Sandals\",\"Shoes\",\"Sandals\",\"Boots\",\"Sandals\",\"Shoes\",\"Boots\",\"Boots\",\"Boots\",\"Sandals\",\"Shoes\",\"Sandals\",\"Sneakers\",\"Boots\",\"Sandals\",\"Sandals\",\"Boots\",\"Shoes\",\"Sandals\",\"Shoes\",\"Sneakers\",\"Sneakers\",\"Boots\",\"Shoes\",\"Shoes\",\"Sneakers\",\"Shoes\",\"Shoes\",\"Sandals\",\"Shoes\",\"Shoes\",\"Sneakers\",\"Sneakers\",\"Sandals\",\"Sandals\",\"Boots\",\"Shoes\",\"Sneakers\",\"Boots\",\"Sandals\",\"Sandals\",\"Sandals\",\"Sandals\",\"Sneakers\",\"Sneakers\",\"Sandals\",\"Sandals\",\"Boots\",\"Shoes\",\"Sandals\",\"Shoes\",\"Sandals\",\"Shoes\",\"Sandals\",\"Sandals\",\"Sandals\",\"Sandals\",\"Shoes\",\"Sandals\",\"Sandals\",\"Shoes\",\"Sandals\",\"Boots\",\"Shoes\",\"Sandals\",\"Shoes\",\"Sandals\",\"Sneakers\",\"Sneakers\",\"Sneakers\",\"Sneakers\",\"Boots\",\"Boots\",\"Boots\",\"Shoes\",\"Sneakers\",\"Sneakers\",\"Boots\",\"Sandals\",\"Sandals\",\"Sandals\",\"Sandals\",\"Sandals\",\"Shoes\",\"Sandals\",\"Sneakers\",\"Shoes\"],\"xaxis\":\"x\",\"yaxis\":\"y\",\"type\":\"histogram\"},{\"alignmentgroup\":\"True\",\"bingroup\":\"x\",\"hovertemplate\":\"Category=Outerwear\\u003cbr\\u003eItem Purchased=%{x}\\u003cbr\\u003ecount=%{y}\\u003cextra\\u003e\\u003c\\u002fextra\\u003e\",\"legendgroup\":\"Outerwear\",\"marker\":{\"color\":\"#00cc96\",\"pattern\":{\"shape\":\"\"}},\"name\":\"Outerwear\",\"offsetgroup\":\"Outerwear\",\"orientation\":\"v\",\"showlegend\":true,\"x\":[\"Coat\",\"Coat\",\"Coat\",\"Jacket\",\"Jacket\",\"Coat\",\"Coat\",\"Jacket\",\"Coat\",\"Coat\",\"Jacket\",\"Coat\",\"Jacket\",\"Jacket\",\"Coat\",\"Jacket\",\"Coat\",\"Coat\",\"Coat\",\"Jacket\",\"Coat\",\"Jacket\",\"Coat\",\"Coat\",\"Jacket\",\"Jacket\",\"Jacket\",\"Jacket\",\"Coat\",\"Coat\",\"Coat\",\"Coat\",\"Jacket\",\"Coat\",\"Coat\",\"Coat\",\"Coat\",\"Coat\",\"Jacket\",\"Coat\",\"Coat\",\"Coat\",\"Jacket\",\"Jacket\",\"Jacket\",\"Coat\",\"Jacket\",\"Coat\",\"Coat\",\"Coat\",\"Jacket\",\"Coat\",\"Jacket\",\"Coat\",\"Jacket\",\"Coat\",\"Coat\",\"Jacket\",\"Jacket\",\"Jacket\",\"Coat\",\"Coat\",\"Jacket\",\"Jacket\",\"Coat\",\"Jacket\",\"Jacket\",\"Jacket\",\"Jacket\",\"Jacket\",\"Coat\",\"Coat\",\"Coat\",\"Coat\",\"Jacket\",\"Coat\",\"Jacket\",\"Coat\",\"Jacket\",\"Jacket\",\"Jacket\",\"Coat\",\"Coat\",\"Coat\",\"Coat\",\"Jacket\",\"Coat\",\"Jacket\",\"Jacket\",\"Coat\",\"Coat\",\"Jacket\",\"Jacket\",\"Jacket\",\"Coat\",\"Coat\",\"Coat\",\"Jacket\",\"Coat\",\"Coat\",\"Coat\",\"Coat\",\"Coat\",\"Coat\",\"Jacket\",\"Coat\",\"Jacket\",\"Jacket\",\"Coat\",\"Coat\",\"Jacket\",\"Jacket\",\"Coat\",\"Coat\",\"Coat\",\"Coat\",\"Jacket\",\"Coat\",\"Jacket\",\"Jacket\",\"Jacket\",\"Coat\",\"Jacket\",\"Coat\",\"Coat\",\"Jacket\",\"Jacket\",\"Coat\",\"Coat\",\"Jacket\",\"Jacket\",\"Jacket\",\"Jacket\",\"Jacket\",\"Coat\",\"Jacket\",\"Jacket\",\"Coat\",\"Jacket\",\"Coat\",\"Coat\",\"Coat\",\"Jacket\",\"Coat\",\"Coat\",\"Coat\",\"Jacket\",\"Jacket\",\"Coat\",\"Coat\",\"Coat\",\"Jacket\",\"Jacket\",\"Jacket\",\"Coat\",\"Jacket\",\"Coat\",\"Jacket\",\"Jacket\",\"Jacket\",\"Jacket\",\"Jacket\",\"Jacket\",\"Coat\",\"Jacket\",\"Coat\",\"Jacket\",\"Coat\",\"Jacket\",\"Jacket\",\"Jacket\",\"Coat\",\"Coat\",\"Coat\",\"Jacket\",\"Coat\",\"Coat\",\"Coat\",\"Jacket\",\"Jacket\",\"Jacket\",\"Coat\",\"Coat\",\"Jacket\",\"Coat\",\"Coat\",\"Coat\",\"Coat\",\"Jacket\",\"Coat\",\"Coat\",\"Coat\",\"Jacket\",\"Jacket\",\"Coat\",\"Jacket\",\"Jacket\",\"Coat\",\"Jacket\",\"Jacket\",\"Jacket\",\"Jacket\",\"Jacket\",\"Coat\",\"Jacket\",\"Coat\",\"Coat\",\"Jacket\",\"Jacket\",\"Jacket\",\"Coat\",\"Coat\",\"Coat\",\"Jacket\",\"Jacket\",\"Coat\",\"Jacket\",\"Coat\",\"Jacket\",\"Jacket\",\"Jacket\",\"Jacket\",\"Jacket\",\"Coat\",\"Coat\",\"Coat\",\"Jacket\",\"Jacket\",\"Jacket\",\"Jacket\",\"Coat\",\"Jacket\",\"Jacket\",\"Jacket\",\"Jacket\",\"Jacket\",\"Coat\",\"Jacket\",\"Jacket\",\"Jacket\",\"Coat\",\"Coat\",\"Jacket\",\"Coat\",\"Coat\",\"Jacket\",\"Coat\",\"Coat\",\"Coat\",\"Coat\",\"Jacket\",\"Coat\",\"Jacket\",\"Coat\",\"Jacket\",\"Coat\",\"Coat\",\"Coat\",\"Jacket\",\"Jacket\",\"Jacket\",\"Coat\",\"Coat\",\"Jacket\",\"Jacket\",\"Coat\",\"Jacket\",\"Jacket\",\"Coat\",\"Jacket\",\"Coat\",\"Coat\",\"Coat\",\"Coat\",\"Coat\",\"Jacket\",\"Jacket\",\"Coat\",\"Coat\",\"Jacket\",\"Jacket\",\"Jacket\",\"Jacket\",\"Coat\",\"Jacket\",\"Jacket\",\"Jacket\",\"Jacket\",\"Coat\",\"Coat\",\"Jacket\",\"Coat\",\"Jacket\",\"Coat\",\"Jacket\",\"Coat\",\"Coat\",\"Coat\",\"Jacket\",\"Coat\",\"Jacket\",\"Jacket\",\"Coat\",\"Jacket\",\"Coat\",\"Jacket\",\"Jacket\",\"Coat\",\"Coat\",\"Coat\",\"Jacket\",\"Jacket\",\"Coat\",\"Coat\",\"Jacket\",\"Jacket\",\"Coat\",\"Jacket\",\"Jacket\",\"Jacket\",\"Jacket\",\"Jacket\",\"Coat\",\"Jacket\"],\"xaxis\":\"x\",\"yaxis\":\"y\",\"type\":\"histogram\"},{\"alignmentgroup\":\"True\",\"bingroup\":\"x\",\"hovertemplate\":\"Category=Accessories\\u003cbr\\u003eItem Purchased=%{x}\\u003cbr\\u003ecount=%{y}\\u003cextra\\u003e\\u003c\\u002fextra\\u003e\",\"legendgroup\":\"Accessories\",\"marker\":{\"color\":\"#ab63fa\",\"pattern\":{\"shape\":\"\"}},\"name\":\"Accessories\",\"offsetgroup\":\"Accessories\",\"orientation\":\"v\",\"showlegend\":true,\"x\":[\"Handbag\",\"Sunglasses\",\"Jewelry\",\"Handbag\",\"Jewelry\",\"Handbag\",\"Scarf\",\"Scarf\",\"Hat\",\"Jewelry\",\"Backpack\",\"Belt\",\"Scarf\",\"Sunglasses\",\"Backpack\",\"Handbag\",\"Belt\",\"Belt\",\"Gloves\",\"Scarf\",\"Hat\",\"Sunglasses\",\"Hat\",\"Scarf\",\"Gloves\",\"Sunglasses\",\"Sunglasses\",\"Backpack\",\"Backpack\",\"Belt\",\"Gloves\",\"Hat\",\"Hat\",\"Backpack\",\"Scarf\",\"Scarf\",\"Backpack\",\"Hat\",\"Gloves\",\"Jewelry\",\"Gloves\",\"Sunglasses\",\"Hat\",\"Gloves\",\"Gloves\",\"Backpack\",\"Sunglasses\",\"Handbag\",\"Handbag\",\"Gloves\",\"Jewelry\",\"Hat\",\"Backpack\",\"Gloves\",\"Backpack\",\"Hat\",\"Belt\",\"Backpack\",\"Scarf\",\"Jewelry\",\"Hat\",\"Hat\",\"Scarf\",\"Gloves\",\"Handbag\",\"Handbag\",\"Scarf\",\"Sunglasses\",\"Belt\",\"Hat\",\"Gloves\",\"Scarf\",\"Jewelry\",\"Gloves\",\"Sunglasses\",\"Jewelry\",\"Belt\",\"Sunglasses\",\"Belt\",\"Handbag\",\"Handbag\",\"Sunglasses\",\"Scarf\",\"Jewelry\",\"Handbag\",\"Gloves\",\"Hat\",\"Backpack\",\"Jewelry\",\"Sunglasses\",\"Jewelry\",\"Jewelry\",\"Backpack\",\"Belt\",\"Handbag\",\"Jewelry\",\"Scarf\",\"Handbag\",\"Sunglasses\",\"Hat\",\"Gloves\",\"Handbag\",\"Jewelry\",\"Handbag\",\"Backpack\",\"Jewelry\",\"Belt\",\"Scarf\",\"Hat\",\"Hat\",\"Hat\",\"Jewelry\",\"Jewelry\",\"Belt\",\"Hat\",\"Gloves\",\"Handbag\",\"Belt\",\"Scarf\",\"Jewelry\",\"Sunglasses\",\"Scarf\",\"Backpack\",\"Jewelry\",\"Sunglasses\",\"Jewelry\",\"Handbag\",\"Gloves\",\"Scarf\",\"Belt\",\"Scarf\",\"Backpack\",\"Gloves\",\"Jewelry\",\"Backpack\",\"Belt\",\"Scarf\",\"Backpack\",\"Hat\",\"Jewelry\",\"Belt\",\"Sunglasses\",\"Sunglasses\",\"Gloves\",\"Jewelry\",\"Jewelry\",\"Jewelry\",\"Gloves\",\"Hat\",\"Jewelry\",\"Sunglasses\",\"Backpack\",\"Backpack\",\"Scarf\",\"Scarf\",\"Jewelry\",\"Handbag\",\"Hat\",\"Belt\",\"Hat\",\"Backpack\",\"Handbag\",\"Scarf\",\"Jewelry\",\"Gloves\",\"Scarf\",\"Hat\",\"Belt\",\"Sunglasses\",\"Gloves\",\"Gloves\",\"Backpack\",\"Backpack\",\"Belt\",\"Sunglasses\",\"Gloves\",\"Scarf\",\"Jewelry\",\"Backpack\",\"Scarf\",\"Hat\",\"Belt\",\"Backpack\",\"Jewelry\",\"Hat\",\"Backpack\",\"Handbag\",\"Sunglasses\",\"Hat\",\"Scarf\",\"Backpack\",\"Scarf\",\"Hat\",\"Jewelry\",\"Gloves\",\"Backpack\",\"Backpack\",\"Backpack\",\"Sunglasses\",\"Jewelry\",\"Sunglasses\",\"Jewelry\",\"Backpack\",\"Handbag\",\"Backpack\",\"Gloves\",\"Hat\",\"Sunglasses\",\"Scarf\",\"Handbag\",\"Handbag\",\"Backpack\",\"Gloves\",\"Sunglasses\",\"Jewelry\",\"Sunglasses\",\"Hat\",\"Gloves\",\"Scarf\",\"Backpack\",\"Sunglasses\",\"Belt\",\"Scarf\",\"Handbag\",\"Backpack\",\"Scarf\",\"Jewelry\",\"Jewelry\",\"Jewelry\",\"Hat\",\"Sunglasses\",\"Sunglasses\",\"Sunglasses\",\"Sunglasses\",\"Sunglasses\",\"Hat\",\"Scarf\",\"Gloves\",\"Scarf\",\"Gloves\",\"Belt\",\"Gloves\",\"Jewelry\",\"Belt\",\"Gloves\",\"Backpack\",\"Hat\",\"Hat\",\"Handbag\",\"Scarf\",\"Hat\",\"Handbag\",\"Handbag\",\"Scarf\",\"Backpack\",\"Belt\",\"Belt\",\"Scarf\",\"Handbag\",\"Hat\",\"Handbag\",\"Sunglasses\",\"Sunglasses\",\"Belt\",\"Gloves\",\"Handbag\",\"Backpack\",\"Gloves\",\"Belt\",\"Hat\",\"Sunglasses\",\"Hat\",\"Handbag\",\"Belt\",\"Handbag\",\"Sunglasses\",\"Backpack\",\"Handbag\",\"Scarf\",\"Belt\",\"Gloves\",\"Backpack\",\"Hat\",\"Jewelry\",\"Belt\",\"Hat\",\"Scarf\",\"Hat\",\"Sunglasses\",\"Belt\",\"Belt\",\"Belt\",\"Handbag\",\"Hat\",\"Belt\",\"Hat\",\"Backpack\",\"Hat\",\"Sunglasses\",\"Hat\",\"Scarf\",\"Jewelry\",\"Sunglasses\",\"Sunglasses\",\"Belt\",\"Gloves\",\"Hat\",\"Belt\",\"Hat\",\"Handbag\",\"Scarf\",\"Handbag\",\"Sunglasses\",\"Jewelry\",\"Hat\",\"Backpack\",\"Backpack\",\"Gloves\",\"Scarf\",\"Backpack\",\"Belt\",\"Gloves\",\"Belt\",\"Scarf\",\"Handbag\",\"Sunglasses\",\"Handbag\",\"Jewelry\",\"Gloves\",\"Handbag\",\"Jewelry\",\"Belt\",\"Belt\",\"Sunglasses\",\"Scarf\",\"Hat\",\"Jewelry\",\"Hat\",\"Scarf\",\"Jewelry\",\"Sunglasses\",\"Scarf\",\"Belt\",\"Hat\",\"Backpack\",\"Jewelry\",\"Sunglasses\",\"Backpack\",\"Scarf\",\"Jewelry\",\"Jewelry\",\"Sunglasses\",\"Handbag\",\"Gloves\",\"Hat\",\"Sunglasses\",\"Hat\",\"Backpack\",\"Sunglasses\",\"Belt\",\"Jewelry\",\"Handbag\",\"Hat\",\"Scarf\",\"Gloves\",\"Jewelry\",\"Handbag\",\"Gloves\",\"Hat\",\"Jewelry\",\"Jewelry\",\"Handbag\",\"Belt\",\"Belt\",\"Handbag\",\"Scarf\",\"Scarf\",\"Backpack\",\"Jewelry\",\"Backpack\",\"Belt\",\"Jewelry\",\"Belt\",\"Hat\",\"Scarf\",\"Belt\",\"Scarf\",\"Belt\",\"Handbag\",\"Handbag\",\"Sunglasses\",\"Handbag\",\"Gloves\",\"Gloves\",\"Jewelry\",\"Hat\",\"Handbag\",\"Gloves\",\"Hat\",\"Scarf\",\"Hat\",\"Hat\",\"Jewelry\",\"Jewelry\",\"Hat\",\"Belt\",\"Gloves\",\"Gloves\",\"Belt\",\"Belt\",\"Belt\",\"Backpack\",\"Belt\",\"Sunglasses\",\"Hat\",\"Jewelry\",\"Backpack\",\"Gloves\",\"Handbag\",\"Handbag\",\"Belt\",\"Belt\",\"Sunglasses\",\"Belt\",\"Sunglasses\",\"Hat\",\"Backpack\",\"Backpack\",\"Scarf\",\"Hat\",\"Handbag\",\"Belt\",\"Belt\",\"Scarf\",\"Gloves\",\"Handbag\",\"Sunglasses\",\"Scarf\",\"Jewelry\",\"Scarf\",\"Hat\",\"Gloves\",\"Gloves\",\"Scarf\",\"Sunglasses\",\"Hat\",\"Backpack\",\"Sunglasses\",\"Backpack\",\"Jewelry\",\"Handbag\",\"Backpack\",\"Hat\",\"Belt\",\"Handbag\",\"Backpack\",\"Hat\",\"Scarf\",\"Belt\",\"Sunglasses\",\"Jewelry\",\"Belt\",\"Gloves\",\"Jewelry\",\"Gloves\",\"Jewelry\",\"Jewelry\",\"Hat\",\"Hat\",\"Belt\",\"Gloves\",\"Jewelry\",\"Gloves\",\"Jewelry\",\"Gloves\",\"Hat\",\"Jewelry\",\"Belt\",\"Jewelry\",\"Belt\",\"Gloves\",\"Belt\",\"Sunglasses\",\"Hat\",\"Backpack\",\"Belt\",\"Hat\",\"Backpack\",\"Backpack\",\"Sunglasses\",\"Belt\",\"Handbag\",\"Jewelry\",\"Belt\",\"Hat\",\"Sunglasses\",\"Handbag\",\"Backpack\",\"Sunglasses\",\"Scarf\",\"Hat\",\"Scarf\",\"Scarf\",\"Backpack\",\"Sunglasses\",\"Backpack\",\"Jewelry\",\"Jewelry\",\"Belt\",\"Scarf\",\"Belt\",\"Handbag\",\"Backpack\",\"Jewelry\",\"Hat\",\"Jewelry\",\"Sunglasses\",\"Belt\",\"Jewelry\",\"Jewelry\",\"Hat\",\"Handbag\",\"Hat\",\"Scarf\",\"Backpack\",\"Sunglasses\",\"Gloves\",\"Sunglasses\",\"Gloves\",\"Scarf\",\"Scarf\",\"Scarf\",\"Handbag\",\"Scarf\",\"Belt\",\"Belt\",\"Jewelry\",\"Gloves\",\"Gloves\",\"Sunglasses\",\"Handbag\",\"Handbag\",\"Sunglasses\",\"Gloves\",\"Handbag\",\"Handbag\",\"Hat\",\"Sunglasses\",\"Belt\",\"Handbag\",\"Backpack\",\"Jewelry\",\"Sunglasses\",\"Jewelry\",\"Scarf\",\"Sunglasses\",\"Backpack\",\"Belt\",\"Jewelry\",\"Handbag\",\"Jewelry\",\"Sunglasses\",\"Handbag\",\"Sunglasses\",\"Belt\",\"Jewelry\",\"Hat\",\"Jewelry\",\"Jewelry\",\"Backpack\",\"Belt\",\"Scarf\",\"Jewelry\",\"Handbag\",\"Backpack\",\"Gloves\",\"Gloves\",\"Hat\",\"Backpack\",\"Belt\",\"Handbag\",\"Backpack\",\"Belt\",\"Hat\",\"Sunglasses\",\"Hat\",\"Sunglasses\",\"Jewelry\",\"Jewelry\",\"Scarf\",\"Hat\",\"Gloves\",\"Handbag\",\"Scarf\",\"Gloves\",\"Jewelry\",\"Scarf\",\"Belt\",\"Gloves\",\"Backpack\",\"Gloves\",\"Gloves\",\"Scarf\",\"Backpack\",\"Jewelry\",\"Gloves\",\"Sunglasses\",\"Jewelry\",\"Sunglasses\",\"Jewelry\",\"Backpack\",\"Scarf\",\"Jewelry\",\"Backpack\",\"Backpack\",\"Gloves\",\"Backpack\",\"Sunglasses\",\"Jewelry\",\"Jewelry\",\"Gloves\",\"Hat\",\"Backpack\",\"Gloves\",\"Gloves\",\"Gloves\",\"Hat\",\"Belt\",\"Hat\",\"Backpack\",\"Gloves\",\"Handbag\",\"Sunglasses\",\"Sunglasses\",\"Scarf\",\"Gloves\",\"Belt\",\"Jewelry\",\"Backpack\",\"Sunglasses\",\"Backpack\",\"Belt\",\"Sunglasses\",\"Scarf\",\"Backpack\",\"Belt\",\"Backpack\",\"Handbag\",\"Jewelry\",\"Scarf\",\"Scarf\",\"Sunglasses\",\"Belt\",\"Jewelry\",\"Gloves\",\"Jewelry\",\"Jewelry\",\"Hat\",\"Backpack\",\"Sunglasses\",\"Handbag\",\"Backpack\",\"Belt\",\"Jewelry\",\"Jewelry\",\"Backpack\",\"Belt\",\"Scarf\",\"Gloves\",\"Scarf\",\"Sunglasses\",\"Scarf\",\"Hat\",\"Hat\",\"Gloves\",\"Jewelry\",\"Jewelry\",\"Sunglasses\",\"Belt\",\"Scarf\",\"Jewelry\",\"Scarf\",\"Backpack\",\"Backpack\",\"Hat\",\"Sunglasses\",\"Sunglasses\",\"Handbag\",\"Hat\",\"Sunglasses\",\"Scarf\",\"Handbag\",\"Handbag\",\"Gloves\",\"Handbag\",\"Gloves\",\"Backpack\",\"Belt\",\"Gloves\",\"Jewelry\",\"Handbag\",\"Belt\",\"Scarf\",\"Scarf\",\"Scarf\",\"Gloves\",\"Handbag\",\"Scarf\",\"Sunglasses\",\"Hat\",\"Belt\",\"Jewelry\",\"Sunglasses\",\"Belt\",\"Gloves\",\"Belt\",\"Scarf\",\"Gloves\",\"Jewelry\",\"Jewelry\",\"Gloves\",\"Belt\",\"Scarf\",\"Backpack\",\"Backpack\",\"Scarf\",\"Hat\",\"Gloves\",\"Hat\",\"Gloves\",\"Handbag\",\"Belt\",\"Jewelry\",\"Sunglasses\",\"Hat\",\"Gloves\",\"Handbag\",\"Belt\",\"Sunglasses\",\"Handbag\",\"Gloves\",\"Sunglasses\",\"Gloves\",\"Handbag\",\"Gloves\",\"Hat\",\"Backpack\",\"Scarf\",\"Scarf\",\"Belt\",\"Belt\",\"Handbag\",\"Backpack\",\"Scarf\",\"Handbag\",\"Scarf\",\"Sunglasses\",\"Sunglasses\",\"Gloves\",\"Backpack\",\"Gloves\",\"Scarf\",\"Hat\",\"Scarf\",\"Backpack\",\"Scarf\",\"Hat\",\"Sunglasses\",\"Sunglasses\",\"Scarf\",\"Scarf\",\"Jewelry\",\"Backpack\",\"Jewelry\",\"Backpack\",\"Jewelry\",\"Gloves\",\"Handbag\",\"Jewelry\",\"Backpack\",\"Scarf\",\"Scarf\",\"Hat\",\"Gloves\",\"Belt\",\"Handbag\",\"Scarf\",\"Hat\",\"Gloves\",\"Belt\",\"Handbag\",\"Handbag\",\"Handbag\",\"Sunglasses\",\"Backpack\",\"Scarf\",\"Backpack\",\"Gloves\",\"Handbag\",\"Backpack\",\"Handbag\",\"Hat\",\"Handbag\",\"Belt\",\"Handbag\",\"Jewelry\",\"Gloves\",\"Jewelry\",\"Sunglasses\",\"Belt\",\"Scarf\",\"Belt\",\"Scarf\",\"Jewelry\",\"Scarf\",\"Backpack\",\"Belt\",\"Jewelry\",\"Jewelry\",\"Belt\",\"Backpack\",\"Scarf\",\"Handbag\",\"Sunglasses\",\"Sunglasses\",\"Hat\",\"Sunglasses\",\"Sunglasses\",\"Scarf\",\"Backpack\",\"Gloves\",\"Jewelry\",\"Backpack\",\"Jewelry\",\"Belt\",\"Backpack\",\"Sunglasses\",\"Gloves\",\"Handbag\",\"Backpack\",\"Scarf\",\"Scarf\",\"Sunglasses\",\"Sunglasses\",\"Belt\",\"Gloves\",\"Scarf\",\"Gloves\",\"Sunglasses\",\"Handbag\",\"Jewelry\",\"Belt\",\"Sunglasses\",\"Hat\",\"Backpack\",\"Belt\",\"Backpack\",\"Handbag\",\"Belt\",\"Sunglasses\",\"Hat\",\"Scarf\",\"Backpack\",\"Sunglasses\",\"Sunglasses\",\"Scarf\",\"Hat\",\"Backpack\",\"Belt\",\"Gloves\",\"Gloves\",\"Handbag\",\"Backpack\",\"Jewelry\",\"Sunglasses\",\"Belt\",\"Gloves\",\"Sunglasses\",\"Belt\",\"Hat\",\"Hat\",\"Handbag\",\"Gloves\",\"Backpack\",\"Scarf\",\"Belt\",\"Sunglasses\",\"Gloves\",\"Handbag\",\"Gloves\",\"Scarf\",\"Jewelry\",\"Sunglasses\",\"Backpack\",\"Backpack\",\"Hat\",\"Handbag\",\"Handbag\",\"Scarf\",\"Jewelry\",\"Scarf\",\"Scarf\",\"Hat\",\"Backpack\",\"Jewelry\",\"Belt\",\"Hat\",\"Backpack\",\"Jewelry\",\"Jewelry\",\"Backpack\",\"Backpack\",\"Hat\",\"Sunglasses\",\"Belt\",\"Jewelry\",\"Scarf\",\"Sunglasses\",\"Sunglasses\",\"Backpack\",\"Belt\",\"Sunglasses\",\"Sunglasses\",\"Handbag\",\"Sunglasses\",\"Handbag\",\"Jewelry\",\"Jewelry\",\"Backpack\",\"Hat\",\"Gloves\",\"Handbag\",\"Sunglasses\",\"Handbag\",\"Belt\",\"Jewelry\",\"Jewelry\",\"Scarf\",\"Belt\",\"Jewelry\",\"Handbag\",\"Scarf\",\"Belt\",\"Jewelry\",\"Handbag\",\"Scarf\",\"Gloves\",\"Gloves\",\"Belt\",\"Belt\",\"Belt\",\"Jewelry\",\"Sunglasses\",\"Belt\",\"Sunglasses\",\"Belt\",\"Belt\",\"Belt\",\"Belt\",\"Scarf\",\"Sunglasses\",\"Sunglasses\",\"Backpack\",\"Backpack\",\"Handbag\",\"Belt\",\"Jewelry\",\"Handbag\",\"Handbag\",\"Belt\",\"Jewelry\",\"Handbag\",\"Sunglasses\",\"Gloves\",\"Backpack\",\"Handbag\",\"Backpack\",\"Sunglasses\",\"Belt\",\"Belt\",\"Jewelry\",\"Handbag\",\"Belt\",\"Belt\",\"Scarf\",\"Handbag\",\"Sunglasses\",\"Hat\",\"Hat\",\"Jewelry\",\"Handbag\",\"Belt\",\"Handbag\",\"Scarf\",\"Handbag\",\"Jewelry\",\"Sunglasses\",\"Gloves\",\"Sunglasses\",\"Gloves\",\"Sunglasses\",\"Handbag\",\"Belt\",\"Belt\",\"Belt\",\"Handbag\",\"Belt\",\"Jewelry\",\"Hat\",\"Backpack\",\"Sunglasses\",\"Jewelry\",\"Belt\",\"Handbag\",\"Sunglasses\",\"Jewelry\",\"Gloves\",\"Sunglasses\",\"Belt\",\"Gloves\",\"Handbag\",\"Scarf\",\"Jewelry\",\"Sunglasses\",\"Sunglasses\",\"Handbag\",\"Sunglasses\",\"Scarf\",\"Jewelry\",\"Belt\",\"Jewelry\",\"Belt\",\"Belt\",\"Sunglasses\",\"Handbag\",\"Gloves\",\"Backpack\",\"Backpack\",\"Sunglasses\",\"Hat\",\"Scarf\",\"Belt\",\"Sunglasses\",\"Belt\",\"Scarf\",\"Hat\",\"Handbag\",\"Scarf\",\"Hat\",\"Handbag\",\"Backpack\",\"Belt\",\"Handbag\",\"Belt\",\"Hat\",\"Belt\",\"Handbag\",\"Scarf\",\"Handbag\",\"Hat\",\"Hat\",\"Scarf\",\"Hat\",\"Handbag\",\"Gloves\",\"Backpack\",\"Sunglasses\",\"Hat\",\"Gloves\",\"Hat\",\"Handbag\",\"Jewelry\",\"Handbag\",\"Belt\",\"Sunglasses\",\"Handbag\",\"Scarf\",\"Gloves\",\"Belt\",\"Hat\",\"Handbag\",\"Hat\",\"Jewelry\",\"Scarf\",\"Sunglasses\",\"Backpack\",\"Gloves\",\"Gloves\",\"Jewelry\",\"Hat\",\"Scarf\",\"Hat\",\"Jewelry\",\"Belt\",\"Belt\",\"Gloves\",\"Handbag\",\"Hat\",\"Handbag\",\"Jewelry\",\"Jewelry\",\"Scarf\",\"Jewelry\",\"Backpack\",\"Scarf\",\"Sunglasses\",\"Handbag\",\"Handbag\",\"Gloves\",\"Gloves\",\"Scarf\",\"Handbag\",\"Backpack\",\"Handbag\",\"Jewelry\",\"Handbag\",\"Jewelry\",\"Hat\",\"Backpack\",\"Sunglasses\",\"Scarf\",\"Sunglasses\",\"Handbag\",\"Handbag\",\"Jewelry\",\"Hat\",\"Scarf\",\"Scarf\",\"Gloves\",\"Sunglasses\",\"Backpack\",\"Gloves\",\"Handbag\",\"Scarf\",\"Belt\",\"Scarf\",\"Gloves\",\"Sunglasses\",\"Belt\",\"Scarf\",\"Sunglasses\",\"Scarf\",\"Hat\",\"Gloves\",\"Hat\",\"Gloves\",\"Belt\",\"Gloves\",\"Scarf\",\"Jewelry\",\"Hat\",\"Scarf\",\"Belt\",\"Hat\",\"Hat\",\"Gloves\",\"Backpack\",\"Sunglasses\",\"Scarf\",\"Backpack\",\"Jewelry\",\"Handbag\",\"Handbag\",\"Jewelry\",\"Backpack\",\"Jewelry\",\"Handbag\",\"Handbag\",\"Hat\",\"Jewelry\",\"Backpack\",\"Sunglasses\",\"Gloves\",\"Sunglasses\",\"Jewelry\",\"Backpack\",\"Handbag\",\"Sunglasses\",\"Gloves\",\"Jewelry\",\"Hat\",\"Hat\",\"Sunglasses\",\"Hat\",\"Gloves\",\"Belt\",\"Hat\",\"Jewelry\",\"Sunglasses\",\"Backpack\",\"Jewelry\",\"Sunglasses\",\"Backpack\",\"Jewelry\",\"Handbag\",\"Gloves\",\"Gloves\",\"Belt\",\"Gloves\",\"Hat\",\"Handbag\",\"Sunglasses\",\"Scarf\",\"Sunglasses\",\"Scarf\",\"Gloves\",\"Sunglasses\",\"Jewelry\",\"Scarf\",\"Handbag\",\"Hat\",\"Scarf\",\"Belt\",\"Hat\",\"Scarf\",\"Belt\",\"Hat\",\"Jewelry\",\"Hat\",\"Backpack\",\"Hat\",\"Jewelry\",\"Jewelry\",\"Scarf\",\"Hat\",\"Sunglasses\",\"Hat\",\"Sunglasses\",\"Scarf\",\"Hat\",\"Hat\",\"Hat\",\"Scarf\",\"Hat\",\"Jewelry\",\"Jewelry\",\"Hat\",\"Backpack\",\"Belt\",\"Handbag\"],\"xaxis\":\"x\",\"yaxis\":\"y\",\"type\":\"histogram\"}],                        {\"template\":{\"data\":{\"histogram2dcontour\":[{\"type\":\"histogram2dcontour\",\"colorbar\":{\"outlinewidth\":0,\"ticks\":\"\"},\"colorscale\":[[0.0,\"#0d0887\"],[0.1111111111111111,\"#46039f\"],[0.2222222222222222,\"#7201a8\"],[0.3333333333333333,\"#9c179e\"],[0.4444444444444444,\"#bd3786\"],[0.5555555555555556,\"#d8576b\"],[0.6666666666666666,\"#ed7953\"],[0.7777777777777778,\"#fb9f3a\"],[0.8888888888888888,\"#fdca26\"],[1.0,\"#f0f921\"]]}],\"choropleth\":[{\"type\":\"choropleth\",\"colorbar\":{\"outlinewidth\":0,\"ticks\":\"\"}}],\"histogram2d\":[{\"type\":\"histogram2d\",\"colorbar\":{\"outlinewidth\":0,\"ticks\":\"\"},\"colorscale\":[[0.0,\"#0d0887\"],[0.1111111111111111,\"#46039f\"],[0.2222222222222222,\"#7201a8\"],[0.3333333333333333,\"#9c179e\"],[0.4444444444444444,\"#bd3786\"],[0.5555555555555556,\"#d8576b\"],[0.6666666666666666,\"#ed7953\"],[0.7777777777777778,\"#fb9f3a\"],[0.8888888888888888,\"#fdca26\"],[1.0,\"#f0f921\"]]}],\"heatmap\":[{\"type\":\"heatmap\",\"colorbar\":{\"outlinewidth\":0,\"ticks\":\"\"},\"colorscale\":[[0.0,\"#0d0887\"],[0.1111111111111111,\"#46039f\"],[0.2222222222222222,\"#7201a8\"],[0.3333333333333333,\"#9c179e\"],[0.4444444444444444,\"#bd3786\"],[0.5555555555555556,\"#d8576b\"],[0.6666666666666666,\"#ed7953\"],[0.7777777777777778,\"#fb9f3a\"],[0.8888888888888888,\"#fdca26\"],[1.0,\"#f0f921\"]]}],\"heatmapgl\":[{\"type\":\"heatmapgl\",\"colorbar\":{\"outlinewidth\":0,\"ticks\":\"\"},\"colorscale\":[[0.0,\"#0d0887\"],[0.1111111111111111,\"#46039f\"],[0.2222222222222222,\"#7201a8\"],[0.3333333333333333,\"#9c179e\"],[0.4444444444444444,\"#bd3786\"],[0.5555555555555556,\"#d8576b\"],[0.6666666666666666,\"#ed7953\"],[0.7777777777777778,\"#fb9f3a\"],[0.8888888888888888,\"#fdca26\"],[1.0,\"#f0f921\"]]}],\"contourcarpet\":[{\"type\":\"contourcarpet\",\"colorbar\":{\"outlinewidth\":0,\"ticks\":\"\"}}],\"contour\":[{\"type\":\"contour\",\"colorbar\":{\"outlinewidth\":0,\"ticks\":\"\"},\"colorscale\":[[0.0,\"#0d0887\"],[0.1111111111111111,\"#46039f\"],[0.2222222222222222,\"#7201a8\"],[0.3333333333333333,\"#9c179e\"],[0.4444444444444444,\"#bd3786\"],[0.5555555555555556,\"#d8576b\"],[0.6666666666666666,\"#ed7953\"],[0.7777777777777778,\"#fb9f3a\"],[0.8888888888888888,\"#fdca26\"],[1.0,\"#f0f921\"]]}],\"surface\":[{\"type\":\"surface\",\"colorbar\":{\"outlinewidth\":0,\"ticks\":\"\"},\"colorscale\":[[0.0,\"#0d0887\"],[0.1111111111111111,\"#46039f\"],[0.2222222222222222,\"#7201a8\"],[0.3333333333333333,\"#9c179e\"],[0.4444444444444444,\"#bd3786\"],[0.5555555555555556,\"#d8576b\"],[0.6666666666666666,\"#ed7953\"],[0.7777777777777778,\"#fb9f3a\"],[0.8888888888888888,\"#fdca26\"],[1.0,\"#f0f921\"]]}],\"mesh3d\":[{\"type\":\"mesh3d\",\"colorbar\":{\"outlinewidth\":0,\"ticks\":\"\"}}],\"scatter\":[{\"fillpattern\":{\"fillmode\":\"overlay\",\"size\":10,\"solidity\":0.2},\"type\":\"scatter\"}],\"parcoords\":[{\"type\":\"parcoords\",\"line\":{\"colorbar\":{\"outlinewidth\":0,\"ticks\":\"\"}}}],\"scatterpolargl\":[{\"type\":\"scatterpolargl\",\"marker\":{\"colorbar\":{\"outlinewidth\":0,\"ticks\":\"\"}}}],\"bar\":[{\"error_x\":{\"color\":\"#2a3f5f\"},\"error_y\":{\"color\":\"#2a3f5f\"},\"marker\":{\"line\":{\"color\":\"#E5ECF6\",\"width\":0.5},\"pattern\":{\"fillmode\":\"overlay\",\"size\":10,\"solidity\":0.2}},\"type\":\"bar\"}],\"scattergeo\":[{\"type\":\"scattergeo\",\"marker\":{\"colorbar\":{\"outlinewidth\":0,\"ticks\":\"\"}}}],\"scatterpolar\":[{\"type\":\"scatterpolar\",\"marker\":{\"colorbar\":{\"outlinewidth\":0,\"ticks\":\"\"}}}],\"histogram\":[{\"marker\":{\"pattern\":{\"fillmode\":\"overlay\",\"size\":10,\"solidity\":0.2}},\"type\":\"histogram\"}],\"scattergl\":[{\"type\":\"scattergl\",\"marker\":{\"colorbar\":{\"outlinewidth\":0,\"ticks\":\"\"}}}],\"scatter3d\":[{\"type\":\"scatter3d\",\"line\":{\"colorbar\":{\"outlinewidth\":0,\"ticks\":\"\"}},\"marker\":{\"colorbar\":{\"outlinewidth\":0,\"ticks\":\"\"}}}],\"scattermapbox\":[{\"type\":\"scattermapbox\",\"marker\":{\"colorbar\":{\"outlinewidth\":0,\"ticks\":\"\"}}}],\"scatterternary\":[{\"type\":\"scatterternary\",\"marker\":{\"colorbar\":{\"outlinewidth\":0,\"ticks\":\"\"}}}],\"scattercarpet\":[{\"type\":\"scattercarpet\",\"marker\":{\"colorbar\":{\"outlinewidth\":0,\"ticks\":\"\"}}}],\"carpet\":[{\"aaxis\":{\"endlinecolor\":\"#2a3f5f\",\"gridcolor\":\"white\",\"linecolor\":\"white\",\"minorgridcolor\":\"white\",\"startlinecolor\":\"#2a3f5f\"},\"baxis\":{\"endlinecolor\":\"#2a3f5f\",\"gridcolor\":\"white\",\"linecolor\":\"white\",\"minorgridcolor\":\"white\",\"startlinecolor\":\"#2a3f5f\"},\"type\":\"carpet\"}],\"table\":[{\"cells\":{\"fill\":{\"color\":\"#EBF0F8\"},\"line\":{\"color\":\"white\"}},\"header\":{\"fill\":{\"color\":\"#C8D4E3\"},\"line\":{\"color\":\"white\"}},\"type\":\"table\"}],\"barpolar\":[{\"marker\":{\"line\":{\"color\":\"#E5ECF6\",\"width\":0.5},\"pattern\":{\"fillmode\":\"overlay\",\"size\":10,\"solidity\":0.2}},\"type\":\"barpolar\"}],\"pie\":[{\"automargin\":true,\"type\":\"pie\"}]},\"layout\":{\"autotypenumbers\":\"strict\",\"colorway\":[\"#636efa\",\"#EF553B\",\"#00cc96\",\"#ab63fa\",\"#FFA15A\",\"#19d3f3\",\"#FF6692\",\"#B6E880\",\"#FF97FF\",\"#FECB52\"],\"font\":{\"color\":\"#2a3f5f\"},\"hovermode\":\"closest\",\"hoverlabel\":{\"align\":\"left\"},\"paper_bgcolor\":\"white\",\"plot_bgcolor\":\"#E5ECF6\",\"polar\":{\"bgcolor\":\"#E5ECF6\",\"angularaxis\":{\"gridcolor\":\"white\",\"linecolor\":\"white\",\"ticks\":\"\"},\"radialaxis\":{\"gridcolor\":\"white\",\"linecolor\":\"white\",\"ticks\":\"\"}},\"ternary\":{\"bgcolor\":\"#E5ECF6\",\"aaxis\":{\"gridcolor\":\"white\",\"linecolor\":\"white\",\"ticks\":\"\"},\"baxis\":{\"gridcolor\":\"white\",\"linecolor\":\"white\",\"ticks\":\"\"},\"caxis\":{\"gridcolor\":\"white\",\"linecolor\":\"white\",\"ticks\":\"\"}},\"coloraxis\":{\"colorbar\":{\"outlinewidth\":0,\"ticks\":\"\"}},\"colorscale\":{\"sequential\":[[0.0,\"#0d0887\"],[0.1111111111111111,\"#46039f\"],[0.2222222222222222,\"#7201a8\"],[0.3333333333333333,\"#9c179e\"],[0.4444444444444444,\"#bd3786\"],[0.5555555555555556,\"#d8576b\"],[0.6666666666666666,\"#ed7953\"],[0.7777777777777778,\"#fb9f3a\"],[0.8888888888888888,\"#fdca26\"],[1.0,\"#f0f921\"]],\"sequentialminus\":[[0.0,\"#0d0887\"],[0.1111111111111111,\"#46039f\"],[0.2222222222222222,\"#7201a8\"],[0.3333333333333333,\"#9c179e\"],[0.4444444444444444,\"#bd3786\"],[0.5555555555555556,\"#d8576b\"],[0.6666666666666666,\"#ed7953\"],[0.7777777777777778,\"#fb9f3a\"],[0.8888888888888888,\"#fdca26\"],[1.0,\"#f0f921\"]],\"diverging\":[[0,\"#8e0152\"],[0.1,\"#c51b7d\"],[0.2,\"#de77ae\"],[0.3,\"#f1b6da\"],[0.4,\"#fde0ef\"],[0.5,\"#f7f7f7\"],[0.6,\"#e6f5d0\"],[0.7,\"#b8e186\"],[0.8,\"#7fbc41\"],[0.9,\"#4d9221\"],[1,\"#276419\"]]},\"xaxis\":{\"gridcolor\":\"white\",\"linecolor\":\"white\",\"ticks\":\"\",\"title\":{\"standoff\":15},\"zerolinecolor\":\"white\",\"automargin\":true,\"zerolinewidth\":2},\"yaxis\":{\"gridcolor\":\"white\",\"linecolor\":\"white\",\"ticks\":\"\",\"title\":{\"standoff\":15},\"zerolinecolor\":\"white\",\"automargin\":true,\"zerolinewidth\":2},\"scene\":{\"xaxis\":{\"backgroundcolor\":\"#E5ECF6\",\"gridcolor\":\"white\",\"linecolor\":\"white\",\"showbackground\":true,\"ticks\":\"\",\"zerolinecolor\":\"white\",\"gridwidth\":2},\"yaxis\":{\"backgroundcolor\":\"#E5ECF6\",\"gridcolor\":\"white\",\"linecolor\":\"white\",\"showbackground\":true,\"ticks\":\"\",\"zerolinecolor\":\"white\",\"gridwidth\":2},\"zaxis\":{\"backgroundcolor\":\"#E5ECF6\",\"gridcolor\":\"white\",\"linecolor\":\"white\",\"showbackground\":true,\"ticks\":\"\",\"zerolinecolor\":\"white\",\"gridwidth\":2}},\"shapedefaults\":{\"line\":{\"color\":\"#2a3f5f\"}},\"annotationdefaults\":{\"arrowcolor\":\"#2a3f5f\",\"arrowhead\":0,\"arrowwidth\":1},\"geo\":{\"bgcolor\":\"white\",\"landcolor\":\"#E5ECF6\",\"subunitcolor\":\"white\",\"showland\":true,\"showlakes\":true,\"lakecolor\":\"white\"},\"title\":{\"x\":0.05},\"mapbox\":{\"style\":\"light\"}}},\"xaxis\":{\"anchor\":\"y\",\"domain\":[0.0,1.0],\"title\":{\"text\":\"Item Purchased\"}},\"yaxis\":{\"anchor\":\"x\",\"domain\":[0.0,1.0],\"title\":{\"text\":\"count\"}},\"legend\":{\"title\":{\"text\":\"Category\"},\"tracegroupgap\":0},\"margin\":{\"t\":60},\"barmode\":\"relative\"},                        {\"responsive\": true}                    ).then(function(){\n",
              "                            \n",
              "var gd = document.getElementById('aa02934d-ece2-4f82-9e95-56f3842f485c');\n",
              "var x = new MutationObserver(function (mutations, observer) {{\n",
              "        var display = window.getComputedStyle(gd).display;\n",
              "        if (!display || display === 'none') {{\n",
              "            console.log([gd, 'removed!']);\n",
              "            Plotly.purge(gd);\n",
              "            observer.disconnect();\n",
              "        }}\n",
              "}});\n",
              "\n",
              "// Listen for the removal of the full notebook cells\n",
              "var notebookContainer = gd.closest('#notebook-container');\n",
              "if (notebookContainer) {{\n",
              "    x.observe(notebookContainer, {childList: true});\n",
              "}}\n",
              "\n",
              "// Listen for the clearing of the current output cell\n",
              "var outputEl = gd.closest('.output');\n",
              "if (outputEl) {{\n",
              "    x.observe(outputEl, {childList: true});\n",
              "}}\n",
              "\n",
              "                        })                };                            </script>        </div>\n",
              "</body>\n",
              "</html>"
            ]
          },
          "metadata": {}
        }
      ],
      "source": [
        "fig = px.histogram(shop , x = 'Item Purchased' , color = 'Category')\n",
        "fig.show()"
      ]
    },
    {
      "cell_type": "markdown",
      "id": "c2d8ce2a-6a6f-4598-af78-a3128daade1c",
      "metadata": {
        "id": "c2d8ce2a-6a6f-4598-af78-a3128daade1c"
      },
      "source": [
        "## 5 Are there any specific seasons or months where customer spending is significantly higher?"
      ]
    },
    {
      "cell_type": "code",
      "execution_count": 31,
      "id": "78ac5ef3-b719-4ed0-86cd-3ab41425770f",
      "metadata": {
        "colab": {
          "base_uri": "https://localhost:8080/"
        },
        "id": "78ac5ef3-b719-4ed0-86cd-3ab41425770f",
        "outputId": "fb4e64fc-3331-4708-ac63-ffd4f6402055"
      },
      "outputs": [
        {
          "output_type": "execute_result",
          "data": {
            "text/plain": [
              "array(['Winter', 'Spring', 'Summer', 'Fall'], dtype=object)"
            ]
          },
          "metadata": {},
          "execution_count": 31
        }
      ],
      "source": [
        "shop['Season'].unique()"
      ]
    },
    {
      "cell_type": "code",
      "execution_count": 32,
      "id": "c74102e4-553c-48a9-b7f0-abe118f7fa73",
      "metadata": {
        "colab": {
          "base_uri": "https://localhost:8080/"
        },
        "id": "c74102e4-553c-48a9-b7f0-abe118f7fa73",
        "outputId": "3c35cf38-5e9f-4a90-c716-d432da810370"
      },
      "outputs": [
        {
          "output_type": "execute_result",
          "data": {
            "text/plain": [
              "955"
            ]
          },
          "metadata": {},
          "execution_count": 32
        }
      ],
      "source": [
        "shop[shop['Season'] == 'Summer'].value_counts().sum()"
      ]
    },
    {
      "cell_type": "code",
      "execution_count": 33,
      "id": "bf8308c7-be59-4983-b0ac-e9b5ad3fcc85",
      "metadata": {
        "colab": {
          "base_uri": "https://localhost:8080/"
        },
        "id": "bf8308c7-be59-4983-b0ac-e9b5ad3fcc85",
        "outputId": "790652a0-a475-44b8-e1c4-ec34808267b7"
      },
      "outputs": [
        {
          "output_type": "execute_result",
          "data": {
            "text/plain": [
              "971"
            ]
          },
          "metadata": {},
          "execution_count": 33
        }
      ],
      "source": [
        "shop[shop['Season'] == 'Winter'].value_counts().sum()"
      ]
    },
    {
      "cell_type": "code",
      "execution_count": 34,
      "id": "9cdf47f1-35dc-4e20-a981-c0a4590a6218",
      "metadata": {
        "colab": {
          "base_uri": "https://localhost:8080/"
        },
        "id": "9cdf47f1-35dc-4e20-a981-c0a4590a6218",
        "outputId": "dc8919fc-f009-49fa-b82b-821a4bb8d96d"
      },
      "outputs": [
        {
          "output_type": "execute_result",
          "data": {
            "text/plain": [
              "999"
            ]
          },
          "metadata": {},
          "execution_count": 34
        }
      ],
      "source": [
        "shop[shop['Season'] == 'Spring'].value_counts().sum()"
      ]
    },
    {
      "cell_type": "code",
      "execution_count": 35,
      "id": "5c53ed99-0609-46ef-8499-25a9bf001157",
      "metadata": {
        "colab": {
          "base_uri": "https://localhost:8080/"
        },
        "id": "5c53ed99-0609-46ef-8499-25a9bf001157",
        "outputId": "68efbd2e-0c2c-420b-a4d0-c5c613f9fa6c"
      },
      "outputs": [
        {
          "output_type": "execute_result",
          "data": {
            "text/plain": [
              "975"
            ]
          },
          "metadata": {},
          "execution_count": 35
        }
      ],
      "source": [
        "shop[shop['Season'] == 'Fall'].value_counts().sum()"
      ]
    },
    {
      "cell_type": "code",
      "execution_count": 36,
      "id": "13141c0e-3840-487a-9e09-69f015b63df5",
      "metadata": {
        "colab": {
          "base_uri": "https://localhost:8080/",
          "height": 542
        },
        "id": "13141c0e-3840-487a-9e09-69f015b63df5",
        "outputId": "06535375-f7c2-4585-f5db-44f4ad05a7be"
      },
      "outputs": [
        {
          "output_type": "display_data",
          "data": {
            "text/html": [
              "<html>\n",
              "<head><meta charset=\"utf-8\" /></head>\n",
              "<body>\n",
              "    <div>            <script src=\"https://cdnjs.cloudflare.com/ajax/libs/mathjax/2.7.5/MathJax.js?config=TeX-AMS-MML_SVG\"></script><script type=\"text/javascript\">if (window.MathJax && window.MathJax.Hub && window.MathJax.Hub.Config) {window.MathJax.Hub.Config({SVG: {font: \"STIX-Web\"}});}</script>                <script type=\"text/javascript\">window.PlotlyConfig = {MathJaxConfig: 'local'};</script>\n",
              "        <script charset=\"utf-8\" src=\"https://cdn.plot.ly/plotly-2.35.2.min.js\"></script>                <div id=\"6ff7342c-75d8-4def-8f3d-c7c36d48e0df\" class=\"plotly-graph-div\" style=\"height:525px; width:100%;\"></div>            <script type=\"text/javascript\">                                    window.PLOTLYENV=window.PLOTLYENV || {};                                    if (document.getElementById(\"6ff7342c-75d8-4def-8f3d-c7c36d48e0df\")) {                    Plotly.newPlot(                        \"6ff7342c-75d8-4def-8f3d-c7c36d48e0df\",                        [{\"alignmentgroup\":\"True\",\"bingroup\":\"x\",\"hovertemplate\":\"Season=%{x}\\u003cbr\\u003ecount=%{y}\\u003cextra\\u003e\\u003c\\u002fextra\\u003e\",\"legendgroup\":\"\",\"marker\":{\"color\":\"#636efa\",\"pattern\":{\"shape\":\"\"}},\"name\":\"\",\"offsetgroup\":\"\",\"orientation\":\"v\",\"showlegend\":false,\"x\":[\"Winter\",\"Winter\",\"Spring\",\"Spring\",\"Spring\",\"Summer\",\"Fall\",\"Winter\",\"Summer\",\"Spring\",\"Fall\",\"Winter\",\"Winter\",\"Spring\",\"Winter\",\"Winter\",\"Spring\",\"Winter\",\"Summer\",\"Summer\",\"Winter\",\"Winter\",\"Summer\",\"Winter\",\"Fall\",\"Summer\",\"Spring\",\"Summer\",\"Fall\",\"Fall\",\"Winter\",\"Winter\",\"Summer\",\"Summer\",\"Spring\",\"Summer\",\"Winter\",\"Summer\",\"Winter\",\"Summer\",\"Winter\",\"Spring\",\"Spring\",\"Fall\",\"Summer\",\"Fall\",\"Summer\",\"Winter\",\"Summer\",\"Spring\",\"Spring\",\"Winter\",\"Summer\",\"Winter\",\"Summer\",\"Winter\",\"Summer\",\"Summer\",\"Summer\",\"Spring\",\"Summer\",\"Winter\",\"Spring\",\"Winter\",\"Fall\",\"Spring\",\"Winter\",\"Winter\",\"Summer\",\"Summer\",\"Fall\",\"Summer\",\"Winter\",\"Spring\",\"Spring\",\"Summer\",\"Summer\",\"Summer\",\"Spring\",\"Winter\",\"Summer\",\"Summer\",\"Spring\",\"Summer\",\"Spring\",\"Winter\",\"Spring\",\"Fall\",\"Fall\",\"Fall\",\"Summer\",\"Winter\",\"Winter\",\"Fall\",\"Spring\",\"Fall\",\"Spring\",\"Winter\",\"Spring\",\"Summer\",\"Fall\",\"Spring\",\"Winter\",\"Winter\",\"Spring\",\"Fall\",\"Summer\",\"Winter\",\"Spring\",\"Spring\",\"Summer\",\"Summer\",\"Spring\",\"Winter\",\"Summer\",\"Spring\",\"Spring\",\"Summer\",\"Fall\",\"Fall\",\"Summer\",\"Winter\",\"Spring\",\"Fall\",\"Spring\",\"Winter\",\"Spring\",\"Winter\",\"Spring\",\"Summer\",\"Fall\",\"Summer\",\"Fall\",\"Winter\",\"Fall\",\"Fall\",\"Winter\",\"Spring\",\"Winter\",\"Fall\",\"Fall\",\"Fall\",\"Fall\",\"Fall\",\"Fall\",\"Fall\",\"Fall\",\"Summer\",\"Fall\",\"Summer\",\"Fall\",\"Fall\",\"Summer\",\"Winter\",\"Fall\",\"Spring\",\"Fall\",\"Fall\",\"Fall\",\"Fall\",\"Summer\",\"Fall\",\"Summer\",\"Summer\",\"Spring\",\"Winter\",\"Fall\",\"Fall\",\"Summer\",\"Summer\",\"Fall\",\"Summer\",\"Summer\",\"Fall\",\"Winter\",\"Fall\",\"Spring\",\"Fall\",\"Fall\",\"Fall\",\"Fall\",\"Summer\",\"Summer\",\"Spring\",\"Spring\",\"Summer\",\"Summer\",\"Spring\",\"Spring\",\"Fall\",\"Fall\",\"Fall\",\"Summer\",\"Fall\",\"Spring\",\"Fall\",\"Summer\",\"Fall\",\"Winter\",\"Summer\",\"Summer\",\"Fall\",\"Spring\",\"Fall\",\"Fall\",\"Winter\",\"Summer\",\"Summer\",\"Spring\",\"Winter\",\"Fall\",\"Fall\",\"Fall\",\"Fall\",\"Summer\",\"Spring\",\"Spring\",\"Winter\",\"Spring\",\"Spring\",\"Spring\",\"Summer\",\"Spring\",\"Spring\",\"Summer\",\"Spring\",\"Spring\",\"Winter\",\"Spring\",\"Spring\",\"Fall\",\"Spring\",\"Winter\",\"Fall\",\"Summer\",\"Winter\",\"Winter\",\"Summer\",\"Fall\",\"Summer\",\"Winter\",\"Winter\",\"Summer\",\"Winter\",\"Spring\",\"Summer\",\"Spring\",\"Spring\",\"Winter\",\"Fall\",\"Fall\",\"Winter\",\"Summer\",\"Winter\",\"Winter\",\"Spring\",\"Spring\",\"Summer\",\"Spring\",\"Fall\",\"Winter\",\"Winter\",\"Summer\",\"Summer\",\"Fall\",\"Spring\",\"Summer\",\"Spring\",\"Spring\",\"Winter\",\"Fall\",\"Summer\",\"Summer\",\"Spring\",\"Spring\",\"Winter\",\"Fall\",\"Winter\",\"Spring\",\"Summer\",\"Fall\",\"Spring\",\"Summer\",\"Fall\",\"Summer\",\"Summer\",\"Summer\",\"Spring\",\"Winter\",\"Fall\",\"Winter\",\"Fall\",\"Spring\",\"Spring\",\"Spring\",\"Winter\",\"Spring\",\"Summer\",\"Winter\",\"Summer\",\"Spring\",\"Spring\",\"Summer\",\"Summer\",\"Winter\",\"Fall\",\"Summer\",\"Winter\",\"Fall\",\"Spring\",\"Winter\",\"Winter\",\"Spring\",\"Spring\",\"Summer\",\"Spring\",\"Fall\",\"Fall\",\"Winter\",\"Spring\",\"Summer\",\"Summer\",\"Winter\",\"Winter\",\"Summer\",\"Winter\",\"Fall\",\"Summer\",\"Fall\",\"Summer\",\"Winter\",\"Fall\",\"Winter\",\"Winter\",\"Fall\",\"Spring\",\"Fall\",\"Winter\",\"Winter\",\"Spring\",\"Summer\",\"Summer\",\"Spring\",\"Summer\",\"Winter\",\"Winter\",\"Spring\",\"Fall\",\"Fall\",\"Winter\",\"Spring\",\"Winter\",\"Fall\",\"Fall\",\"Fall\",\"Fall\",\"Spring\",\"Spring\",\"Summer\",\"Winter\",\"Summer\",\"Spring\",\"Fall\",\"Winter\",\"Summer\",\"Summer\",\"Spring\",\"Spring\",\"Spring\",\"Summer\",\"Winter\",\"Winter\",\"Summer\",\"Summer\",\"Spring\",\"Summer\",\"Fall\",\"Spring\",\"Winter\",\"Fall\",\"Fall\",\"Winter\",\"Winter\",\"Fall\",\"Fall\",\"Fall\",\"Spring\",\"Summer\",\"Summer\",\"Spring\",\"Winter\",\"Spring\",\"Spring\",\"Fall\",\"Spring\",\"Winter\",\"Fall\",\"Fall\",\"Winter\",\"Fall\",\"Winter\",\"Fall\",\"Fall\",\"Winter\",\"Spring\",\"Summer\",\"Spring\",\"Spring\",\"Spring\",\"Winter\",\"Spring\",\"Summer\",\"Summer\",\"Summer\",\"Winter\",\"Winter\",\"Spring\",\"Fall\",\"Spring\",\"Winter\",\"Spring\",\"Winter\",\"Fall\",\"Spring\",\"Winter\",\"Winter\",\"Winter\",\"Winter\",\"Winter\",\"Winter\",\"Summer\",\"Winter\",\"Fall\",\"Fall\",\"Spring\",\"Winter\",\"Summer\",\"Summer\",\"Winter\",\"Summer\",\"Winter\",\"Winter\",\"Fall\",\"Summer\",\"Summer\",\"Fall\",\"Summer\",\"Spring\",\"Summer\",\"Summer\",\"Summer\",\"Summer\",\"Summer\",\"Winter\",\"Summer\",\"Fall\",\"Fall\",\"Spring\",\"Winter\",\"Winter\",\"Summer\",\"Winter\",\"Fall\",\"Summer\",\"Winter\",\"Summer\",\"Winter\",\"Spring\",\"Fall\",\"Fall\",\"Summer\",\"Winter\",\"Winter\",\"Spring\",\"Summer\",\"Summer\",\"Spring\",\"Summer\",\"Winter\",\"Winter\",\"Summer\",\"Fall\",\"Winter\",\"Fall\",\"Summer\",\"Spring\",\"Fall\",\"Winter\",\"Spring\",\"Summer\",\"Winter\",\"Summer\",\"Fall\",\"Summer\",\"Winter\",\"Fall\",\"Fall\",\"Winter\",\"Spring\",\"Winter\",\"Fall\",\"Spring\",\"Fall\",\"Summer\",\"Winter\",\"Spring\",\"Fall\",\"Spring\",\"Winter\",\"Summer\",\"Fall\",\"Fall\",\"Winter\",\"Fall\",\"Winter\",\"Spring\",\"Fall\",\"Fall\",\"Fall\",\"Summer\",\"Spring\",\"Winter\",\"Spring\",\"Spring\",\"Summer\",\"Spring\",\"Winter\",\"Winter\",\"Winter\",\"Fall\",\"Winter\",\"Fall\",\"Winter\",\"Spring\",\"Fall\",\"Spring\",\"Fall\",\"Summer\",\"Spring\",\"Winter\",\"Spring\",\"Fall\",\"Spring\",\"Spring\",\"Summer\",\"Summer\",\"Winter\",\"Winter\",\"Winter\",\"Fall\",\"Summer\",\"Fall\",\"Fall\",\"Winter\",\"Summer\",\"Fall\",\"Winter\",\"Spring\",\"Fall\",\"Fall\",\"Fall\",\"Fall\",\"Summer\",\"Fall\",\"Winter\",\"Fall\",\"Spring\",\"Winter\",\"Summer\",\"Fall\",\"Fall\",\"Spring\",\"Summer\",\"Summer\",\"Fall\",\"Fall\",\"Winter\",\"Fall\",\"Fall\",\"Winter\",\"Spring\",\"Winter\",\"Spring\",\"Spring\",\"Spring\",\"Fall\",\"Winter\",\"Fall\",\"Fall\",\"Fall\",\"Fall\",\"Fall\",\"Fall\",\"Winter\",\"Winter\",\"Summer\",\"Summer\",\"Summer\",\"Winter\",\"Spring\",\"Spring\",\"Summer\",\"Summer\",\"Winter\",\"Fall\",\"Winter\",\"Spring\",\"Fall\",\"Fall\",\"Fall\",\"Summer\",\"Winter\",\"Fall\",\"Fall\",\"Winter\",\"Summer\",\"Spring\",\"Fall\",\"Spring\",\"Summer\",\"Fall\",\"Fall\",\"Spring\",\"Fall\",\"Fall\",\"Fall\",\"Spring\",\"Winter\",\"Fall\",\"Spring\",\"Fall\",\"Summer\",\"Winter\",\"Spring\",\"Summer\",\"Fall\",\"Summer\",\"Winter\",\"Summer\",\"Spring\",\"Summer\",\"Winter\",\"Spring\",\"Winter\",\"Summer\",\"Summer\",\"Spring\",\"Summer\",\"Winter\",\"Spring\",\"Spring\",\"Summer\",\"Winter\",\"Winter\",\"Summer\",\"Fall\",\"Summer\",\"Winter\",\"Fall\",\"Spring\",\"Fall\",\"Fall\",\"Fall\",\"Fall\",\"Winter\",\"Spring\",\"Winter\",\"Winter\",\"Fall\",\"Spring\",\"Spring\",\"Winter\",\"Winter\",\"Spring\",\"Winter\",\"Spring\",\"Winter\",\"Summer\",\"Fall\",\"Fall\",\"Spring\",\"Winter\",\"Summer\",\"Winter\",\"Summer\",\"Winter\",\"Fall\",\"Winter\",\"Summer\",\"Summer\",\"Spring\",\"Summer\",\"Spring\",\"Spring\",\"Fall\",\"Summer\",\"Fall\",\"Summer\",\"Winter\",\"Fall\",\"Winter\",\"Fall\",\"Winter\",\"Summer\",\"Spring\",\"Summer\",\"Summer\",\"Spring\",\"Summer\",\"Summer\",\"Spring\",\"Spring\",\"Summer\",\"Summer\",\"Fall\",\"Spring\",\"Spring\",\"Spring\",\"Summer\",\"Summer\",\"Fall\",\"Summer\",\"Summer\",\"Fall\",\"Fall\",\"Winter\",\"Summer\",\"Winter\",\"Winter\",\"Summer\",\"Summer\",\"Spring\",\"Spring\",\"Fall\",\"Winter\",\"Fall\",\"Spring\",\"Spring\",\"Winter\",\"Summer\",\"Summer\",\"Summer\",\"Summer\",\"Fall\",\"Spring\",\"Fall\",\"Winter\",\"Spring\",\"Fall\",\"Winter\",\"Fall\",\"Fall\",\"Fall\",\"Fall\",\"Spring\",\"Spring\",\"Summer\",\"Fall\",\"Summer\",\"Winter\",\"Fall\",\"Fall\",\"Fall\",\"Spring\",\"Fall\",\"Summer\",\"Winter\",\"Fall\",\"Spring\",\"Spring\",\"Spring\",\"Fall\",\"Fall\",\"Winter\",\"Summer\",\"Winter\",\"Spring\",\"Spring\",\"Summer\",\"Spring\",\"Spring\",\"Winter\",\"Summer\",\"Winter\",\"Winter\",\"Spring\",\"Winter\",\"Spring\",\"Summer\",\"Fall\",\"Summer\",\"Summer\",\"Spring\",\"Summer\",\"Winter\",\"Summer\",\"Fall\",\"Fall\",\"Spring\",\"Summer\",\"Summer\",\"Fall\",\"Winter\",\"Winter\",\"Summer\",\"Summer\",\"Summer\",\"Winter\",\"Fall\",\"Fall\",\"Fall\",\"Winter\",\"Summer\",\"Summer\",\"Winter\",\"Spring\",\"Summer\",\"Spring\",\"Winter\",\"Winter\",\"Spring\",\"Spring\",\"Winter\",\"Winter\",\"Spring\",\"Fall\",\"Winter\",\"Fall\",\"Fall\",\"Spring\",\"Fall\",\"Summer\",\"Fall\",\"Fall\",\"Summer\",\"Summer\",\"Winter\",\"Spring\",\"Spring\",\"Spring\",\"Summer\",\"Summer\",\"Spring\",\"Summer\",\"Winter\",\"Winter\",\"Spring\",\"Fall\",\"Fall\",\"Spring\",\"Winter\",\"Summer\",\"Spring\",\"Winter\",\"Spring\",\"Spring\",\"Summer\",\"Fall\",\"Fall\",\"Winter\",\"Spring\",\"Spring\",\"Winter\",\"Summer\",\"Winter\",\"Winter\",\"Summer\",\"Spring\",\"Summer\",\"Spring\",\"Fall\",\"Spring\",\"Spring\",\"Summer\",\"Fall\",\"Summer\",\"Summer\",\"Winter\",\"Summer\",\"Spring\",\"Spring\",\"Summer\",\"Fall\",\"Fall\",\"Winter\",\"Fall\",\"Summer\",\"Winter\",\"Spring\",\"Fall\",\"Spring\",\"Summer\",\"Summer\",\"Spring\",\"Spring\",\"Spring\",\"Spring\",\"Spring\",\"Spring\",\"Summer\",\"Fall\",\"Summer\",\"Summer\",\"Winter\",\"Spring\",\"Spring\",\"Spring\",\"Winter\",\"Winter\",\"Fall\",\"Spring\",\"Winter\",\"Winter\",\"Fall\",\"Summer\",\"Winter\",\"Spring\",\"Spring\",\"Spring\",\"Winter\",\"Summer\",\"Summer\",\"Fall\",\"Spring\",\"Winter\",\"Winter\",\"Spring\",\"Summer\",\"Winter\",\"Fall\",\"Fall\",\"Winter\",\"Winter\",\"Spring\",\"Spring\",\"Fall\",\"Summer\",\"Summer\",\"Fall\",\"Winter\",\"Spring\",\"Winter\",\"Winter\",\"Winter\",\"Spring\",\"Summer\",\"Spring\",\"Winter\",\"Summer\",\"Summer\",\"Winter\",\"Summer\",\"Fall\",\"Spring\",\"Fall\",\"Summer\",\"Spring\",\"Spring\",\"Winter\",\"Spring\",\"Spring\",\"Fall\",\"Spring\",\"Spring\",\"Spring\",\"Spring\",\"Spring\",\"Summer\",\"Summer\",\"Fall\",\"Winter\",\"Summer\",\"Winter\",\"Fall\",\"Spring\",\"Summer\",\"Fall\",\"Spring\",\"Summer\",\"Fall\",\"Spring\",\"Spring\",\"Summer\",\"Winter\",\"Summer\",\"Fall\",\"Spring\",\"Summer\",\"Winter\",\"Spring\",\"Spring\",\"Spring\",\"Winter\",\"Winter\",\"Fall\",\"Spring\",\"Summer\",\"Spring\",\"Spring\",\"Spring\",\"Winter\",\"Fall\",\"Spring\",\"Fall\",\"Summer\",\"Winter\",\"Summer\",\"Spring\",\"Spring\",\"Summer\",\"Spring\",\"Spring\",\"Summer\",\"Summer\",\"Summer\",\"Summer\",\"Summer\",\"Fall\",\"Spring\",\"Winter\",\"Fall\",\"Winter\",\"Winter\",\"Winter\",\"Summer\",\"Winter\",\"Winter\",\"Summer\",\"Summer\",\"Spring\",\"Winter\",\"Spring\",\"Fall\",\"Spring\",\"Fall\",\"Fall\",\"Fall\",\"Spring\",\"Fall\",\"Fall\",\"Fall\",\"Summer\",\"Spring\",\"Spring\",\"Summer\",\"Fall\",\"Winter\",\"Fall\",\"Fall\",\"Fall\",\"Winter\",\"Fall\",\"Fall\",\"Spring\",\"Winter\",\"Spring\",\"Winter\",\"Spring\",\"Summer\",\"Winter\",\"Summer\",\"Summer\",\"Fall\",\"Summer\",\"Spring\",\"Spring\",\"Winter\",\"Summer\",\"Fall\",\"Fall\",\"Summer\",\"Summer\",\"Fall\",\"Spring\",\"Fall\",\"Summer\",\"Spring\",\"Winter\",\"Fall\",\"Summer\",\"Fall\",\"Spring\",\"Winter\",\"Summer\",\"Fall\",\"Winter\",\"Winter\",\"Winter\",\"Winter\",\"Spring\",\"Spring\",\"Spring\",\"Spring\",\"Winter\",\"Winter\",\"Summer\",\"Fall\",\"Summer\",\"Spring\",\"Fall\",\"Spring\",\"Fall\",\"Fall\",\"Spring\",\"Fall\",\"Spring\",\"Winter\",\"Fall\",\"Fall\",\"Winter\",\"Fall\",\"Summer\",\"Spring\",\"Summer\",\"Fall\",\"Fall\",\"Winter\",\"Spring\",\"Summer\",\"Spring\",\"Winter\",\"Fall\",\"Spring\",\"Fall\",\"Spring\",\"Summer\",\"Winter\",\"Spring\",\"Winter\",\"Winter\",\"Summer\",\"Spring\",\"Spring\",\"Winter\",\"Summer\",\"Winter\",\"Summer\",\"Winter\",\"Summer\",\"Spring\",\"Winter\",\"Winter\",\"Spring\",\"Winter\",\"Fall\",\"Summer\",\"Summer\",\"Winter\",\"Spring\",\"Spring\",\"Winter\",\"Spring\",\"Fall\",\"Summer\",\"Spring\",\"Fall\",\"Summer\",\"Fall\",\"Summer\",\"Fall\",\"Summer\",\"Fall\",\"Winter\",\"Summer\",\"Winter\",\"Winter\",\"Winter\",\"Summer\",\"Summer\",\"Fall\",\"Spring\",\"Spring\",\"Spring\",\"Winter\",\"Winter\",\"Spring\",\"Winter\",\"Spring\",\"Spring\",\"Summer\",\"Spring\",\"Summer\",\"Spring\",\"Spring\",\"Fall\",\"Spring\",\"Summer\",\"Fall\",\"Summer\",\"Summer\",\"Winter\",\"Winter\",\"Summer\",\"Fall\",\"Winter\",\"Winter\",\"Winter\",\"Fall\",\"Summer\",\"Fall\",\"Winter\",\"Summer\",\"Spring\",\"Winter\",\"Spring\",\"Spring\",\"Fall\",\"Summer\",\"Winter\",\"Winter\",\"Fall\",\"Spring\",\"Summer\",\"Spring\",\"Fall\",\"Winter\",\"Summer\",\"Fall\",\"Spring\",\"Winter\",\"Winter\",\"Winter\",\"Fall\",\"Winter\",\"Summer\",\"Fall\",\"Fall\",\"Spring\",\"Winter\",\"Winter\",\"Spring\",\"Spring\",\"Summer\",\"Winter\",\"Fall\",\"Spring\",\"Summer\",\"Spring\",\"Winter\",\"Spring\",\"Winter\",\"Winter\",\"Summer\",\"Spring\",\"Summer\",\"Fall\",\"Winter\",\"Spring\",\"Winter\",\"Winter\",\"Winter\",\"Spring\",\"Fall\",\"Winter\",\"Spring\",\"Fall\",\"Winter\",\"Spring\",\"Spring\",\"Fall\",\"Spring\",\"Summer\",\"Winter\",\"Winter\",\"Winter\",\"Spring\",\"Fall\",\"Spring\",\"Winter\",\"Spring\",\"Fall\",\"Spring\",\"Winter\",\"Spring\",\"Spring\",\"Fall\",\"Spring\",\"Spring\",\"Fall\",\"Fall\",\"Winter\",\"Spring\",\"Winter\",\"Winter\",\"Spring\",\"Fall\",\"Winter\",\"Winter\",\"Winter\",\"Fall\",\"Spring\",\"Spring\",\"Summer\",\"Fall\",\"Summer\",\"Fall\",\"Spring\",\"Summer\",\"Summer\",\"Fall\",\"Spring\",\"Fall\",\"Fall\",\"Summer\",\"Spring\",\"Spring\",\"Winter\",\"Summer\",\"Summer\",\"Summer\",\"Winter\",\"Fall\",\"Winter\",\"Summer\",\"Summer\",\"Spring\",\"Spring\",\"Spring\",\"Spring\",\"Spring\",\"Fall\",\"Winter\",\"Winter\",\"Spring\",\"Summer\",\"Summer\",\"Spring\",\"Winter\",\"Winter\",\"Fall\",\"Fall\",\"Spring\",\"Spring\",\"Winter\",\"Spring\",\"Fall\",\"Spring\",\"Spring\",\"Winter\",\"Winter\",\"Fall\",\"Fall\",\"Summer\",\"Spring\",\"Fall\",\"Fall\",\"Winter\",\"Summer\",\"Spring\",\"Spring\",\"Fall\",\"Summer\",\"Spring\",\"Winter\",\"Spring\",\"Summer\",\"Spring\",\"Summer\",\"Spring\",\"Winter\",\"Fall\",\"Fall\",\"Fall\",\"Summer\",\"Fall\",\"Winter\",\"Fall\",\"Fall\",\"Summer\",\"Winter\",\"Summer\",\"Spring\",\"Fall\",\"Winter\",\"Fall\",\"Spring\",\"Spring\",\"Spring\",\"Fall\",\"Fall\",\"Winter\",\"Winter\",\"Winter\",\"Spring\",\"Fall\",\"Fall\",\"Fall\",\"Winter\",\"Spring\",\"Fall\",\"Summer\",\"Winter\",\"Spring\",\"Spring\",\"Fall\",\"Spring\",\"Winter\",\"Summer\",\"Summer\",\"Winter\",\"Fall\",\"Fall\",\"Summer\",\"Spring\",\"Winter\",\"Winter\",\"Spring\",\"Spring\",\"Winter\",\"Spring\",\"Summer\",\"Summer\",\"Summer\",\"Fall\",\"Summer\",\"Winter\",\"Summer\",\"Spring\",\"Summer\",\"Summer\",\"Summer\",\"Spring\",\"Fall\",\"Fall\",\"Fall\",\"Winter\",\"Summer\",\"Summer\",\"Summer\",\"Fall\",\"Summer\",\"Fall\",\"Winter\",\"Winter\",\"Summer\",\"Fall\",\"Winter\",\"Winter\",\"Spring\",\"Summer\",\"Spring\",\"Summer\",\"Spring\",\"Fall\",\"Fall\",\"Fall\",\"Summer\",\"Summer\",\"Summer\",\"Winter\",\"Winter\",\"Fall\",\"Spring\",\"Winter\",\"Winter\",\"Fall\",\"Spring\",\"Spring\",\"Spring\",\"Winter\",\"Fall\",\"Summer\",\"Summer\",\"Summer\",\"Winter\",\"Winter\",\"Summer\",\"Winter\",\"Fall\",\"Winter\",\"Spring\",\"Spring\",\"Spring\",\"Fall\",\"Fall\",\"Spring\",\"Fall\",\"Summer\",\"Summer\",\"Spring\",\"Fall\",\"Spring\",\"Spring\",\"Summer\",\"Summer\",\"Spring\",\"Spring\",\"Summer\",\"Winter\",\"Summer\",\"Spring\",\"Summer\",\"Summer\",\"Fall\",\"Spring\",\"Winter\",\"Winter\",\"Spring\",\"Summer\",\"Fall\",\"Summer\",\"Spring\",\"Summer\",\"Fall\",\"Winter\",\"Summer\",\"Fall\",\"Winter\",\"Spring\",\"Summer\",\"Fall\",\"Winter\",\"Winter\",\"Spring\",\"Winter\",\"Fall\",\"Winter\",\"Spring\",\"Winter\",\"Fall\",\"Summer\",\"Summer\",\"Spring\",\"Summer\",\"Summer\",\"Winter\",\"Summer\",\"Fall\",\"Spring\",\"Winter\",\"Spring\",\"Spring\",\"Winter\",\"Summer\",\"Summer\",\"Fall\",\"Summer\",\"Spring\",\"Fall\",\"Spring\",\"Winter\",\"Winter\",\"Winter\",\"Fall\",\"Spring\",\"Winter\",\"Summer\",\"Summer\",\"Summer\",\"Spring\",\"Summer\",\"Summer\",\"Spring\",\"Spring\",\"Winter\",\"Winter\",\"Fall\",\"Fall\",\"Fall\",\"Fall\",\"Winter\",\"Summer\",\"Winter\",\"Fall\",\"Summer\",\"Fall\",\"Winter\",\"Spring\",\"Spring\",\"Summer\",\"Winter\",\"Winter\",\"Summer\",\"Summer\",\"Spring\",\"Spring\",\"Spring\",\"Spring\",\"Winter\",\"Summer\",\"Summer\",\"Fall\",\"Spring\",\"Summer\",\"Spring\",\"Fall\",\"Fall\",\"Summer\",\"Winter\",\"Summer\",\"Winter\",\"Winter\",\"Summer\",\"Spring\",\"Summer\",\"Spring\",\"Fall\",\"Winter\",\"Fall\",\"Winter\",\"Spring\",\"Spring\",\"Winter\",\"Summer\",\"Summer\",\"Winter\",\"Spring\",\"Fall\",\"Fall\",\"Fall\",\"Spring\",\"Winter\",\"Summer\",\"Summer\",\"Summer\",\"Fall\",\"Spring\",\"Winter\",\"Summer\",\"Winter\",\"Winter\",\"Summer\",\"Winter\",\"Summer\",\"Winter\",\"Winter\",\"Summer\",\"Winter\",\"Winter\",\"Spring\",\"Summer\",\"Summer\",\"Summer\",\"Spring\",\"Summer\",\"Summer\",\"Fall\",\"Spring\",\"Spring\",\"Summer\",\"Spring\",\"Summer\",\"Spring\",\"Summer\",\"Summer\",\"Summer\",\"Summer\",\"Summer\",\"Summer\",\"Summer\",\"Winter\",\"Winter\",\"Summer\",\"Winter\",\"Spring\",\"Spring\",\"Spring\",\"Spring\",\"Spring\",\"Fall\",\"Winter\",\"Summer\",\"Winter\",\"Summer\",\"Spring\",\"Fall\",\"Summer\",\"Winter\",\"Summer\",\"Winter\",\"Fall\",\"Winter\",\"Fall\",\"Fall\",\"Winter\",\"Spring\",\"Winter\",\"Summer\",\"Summer\",\"Fall\",\"Summer\",\"Winter\",\"Fall\",\"Spring\",\"Spring\",\"Winter\",\"Fall\",\"Winter\",\"Winter\",\"Winter\",\"Summer\",\"Summer\",\"Winter\",\"Fall\",\"Summer\",\"Fall\",\"Spring\",\"Fall\",\"Winter\",\"Spring\",\"Fall\",\"Winter\",\"Summer\",\"Spring\",\"Summer\",\"Summer\",\"Spring\",\"Fall\",\"Spring\",\"Winter\",\"Fall\",\"Spring\",\"Fall\",\"Winter\",\"Summer\",\"Spring\",\"Winter\",\"Summer\",\"Winter\",\"Winter\",\"Winter\",\"Spring\",\"Summer\",\"Spring\",\"Winter\",\"Spring\",\"Summer\",\"Spring\",\"Fall\",\"Winter\",\"Fall\",\"Fall\",\"Winter\",\"Summer\",\"Spring\",\"Winter\",\"Summer\",\"Summer\",\"Spring\",\"Winter\",\"Fall\",\"Winter\",\"Spring\",\"Winter\",\"Winter\",\"Winter\",\"Summer\",\"Winter\",\"Winter\",\"Fall\",\"Fall\",\"Winter\",\"Winter\",\"Fall\",\"Fall\",\"Spring\",\"Fall\",\"Fall\",\"Winter\",\"Spring\",\"Spring\",\"Fall\",\"Summer\",\"Winter\",\"Summer\",\"Spring\",\"Winter\",\"Fall\",\"Summer\",\"Winter\",\"Fall\",\"Fall\",\"Summer\",\"Summer\",\"Spring\",\"Spring\",\"Summer\",\"Winter\",\"Winter\",\"Winter\",\"Summer\",\"Fall\",\"Fall\",\"Winter\",\"Summer\",\"Fall\",\"Spring\",\"Fall\",\"Summer\",\"Spring\",\"Summer\",\"Winter\",\"Fall\",\"Fall\",\"Spring\",\"Fall\",\"Spring\",\"Spring\",\"Winter\",\"Fall\",\"Winter\",\"Spring\",\"Winter\",\"Summer\",\"Winter\",\"Spring\",\"Fall\",\"Summer\",\"Spring\",\"Fall\",\"Fall\",\"Summer\",\"Summer\",\"Spring\",\"Summer\",\"Winter\",\"Summer\",\"Summer\",\"Fall\",\"Spring\",\"Fall\",\"Spring\",\"Summer\",\"Fall\",\"Winter\",\"Winter\",\"Winter\",\"Spring\",\"Spring\",\"Spring\",\"Winter\",\"Summer\",\"Fall\",\"Spring\",\"Summer\",\"Fall\",\"Fall\",\"Winter\",\"Fall\",\"Winter\",\"Winter\",\"Winter\",\"Summer\",\"Fall\",\"Spring\",\"Winter\",\"Summer\",\"Summer\",\"Winter\",\"Winter\",\"Winter\",\"Fall\",\"Winter\",\"Spring\",\"Spring\",\"Spring\",\"Summer\",\"Summer\",\"Spring\",\"Summer\",\"Summer\",\"Fall\",\"Winter\",\"Spring\",\"Fall\",\"Summer\",\"Winter\",\"Fall\",\"Spring\",\"Spring\",\"Spring\",\"Fall\",\"Summer\",\"Fall\",\"Fall\",\"Winter\",\"Fall\",\"Fall\",\"Summer\",\"Spring\",\"Fall\",\"Winter\",\"Winter\",\"Spring\",\"Summer\",\"Winter\",\"Spring\",\"Fall\",\"Winter\",\"Spring\",\"Spring\",\"Summer\",\"Fall\",\"Summer\",\"Fall\",\"Fall\",\"Fall\",\"Winter\",\"Fall\",\"Winter\",\"Summer\",\"Winter\",\"Spring\",\"Summer\",\"Spring\",\"Summer\",\"Spring\",\"Fall\",\"Winter\",\"Spring\",\"Fall\",\"Spring\",\"Winter\",\"Winter\",\"Fall\",\"Fall\",\"Winter\",\"Winter\",\"Summer\",\"Summer\",\"Spring\",\"Fall\",\"Summer\",\"Summer\",\"Fall\",\"Winter\",\"Spring\",\"Summer\",\"Summer\",\"Fall\",\"Spring\",\"Spring\",\"Spring\",\"Summer\",\"Winter\",\"Spring\",\"Summer\",\"Summer\",\"Spring\",\"Winter\",\"Fall\",\"Winter\",\"Fall\",\"Summer\",\"Winter\",\"Winter\",\"Summer\",\"Summer\",\"Winter\",\"Winter\",\"Summer\",\"Summer\",\"Summer\",\"Spring\",\"Winter\",\"Winter\",\"Winter\",\"Spring\",\"Winter\",\"Fall\",\"Summer\",\"Summer\",\"Fall\",\"Spring\",\"Summer\",\"Fall\",\"Winter\",\"Fall\",\"Spring\",\"Winter\",\"Spring\",\"Spring\",\"Summer\",\"Fall\",\"Winter\",\"Fall\",\"Spring\",\"Summer\",\"Spring\",\"Spring\",\"Winter\",\"Summer\",\"Summer\",\"Summer\",\"Summer\",\"Spring\",\"Summer\",\"Summer\",\"Winter\",\"Spring\",\"Spring\",\"Summer\",\"Winter\",\"Spring\",\"Fall\",\"Spring\",\"Summer\",\"Fall\",\"Fall\",\"Winter\",\"Winter\",\"Winter\",\"Summer\",\"Spring\",\"Fall\",\"Winter\",\"Fall\",\"Summer\",\"Spring\",\"Summer\",\"Summer\",\"Spring\",\"Fall\",\"Winter\",\"Summer\",\"Summer\",\"Winter\",\"Winter\",\"Fall\",\"Winter\",\"Winter\",\"Winter\",\"Winter\",\"Winter\",\"Fall\",\"Summer\",\"Winter\",\"Fall\",\"Fall\",\"Spring\",\"Summer\",\"Spring\",\"Winter\",\"Summer\",\"Spring\",\"Summer\",\"Winter\",\"Summer\",\"Spring\",\"Spring\",\"Spring\",\"Winter\",\"Spring\",\"Summer\",\"Spring\",\"Fall\",\"Winter\",\"Summer\",\"Winter\",\"Fall\",\"Summer\",\"Spring\",\"Winter\",\"Spring\",\"Spring\",\"Fall\",\"Spring\",\"Spring\",\"Winter\",\"Spring\",\"Fall\",\"Summer\",\"Fall\",\"Fall\",\"Summer\",\"Spring\",\"Fall\",\"Fall\",\"Summer\",\"Fall\",\"Spring\",\"Fall\",\"Winter\",\"Winter\",\"Summer\",\"Fall\",\"Fall\",\"Fall\",\"Spring\",\"Summer\",\"Fall\",\"Spring\",\"Summer\",\"Fall\",\"Summer\",\"Fall\",\"Summer\",\"Summer\",\"Spring\",\"Spring\",\"Winter\",\"Fall\",\"Fall\",\"Spring\",\"Spring\",\"Fall\",\"Summer\",\"Winter\",\"Summer\",\"Summer\",\"Spring\",\"Winter\",\"Spring\",\"Summer\",\"Spring\",\"Spring\",\"Fall\",\"Winter\",\"Winter\",\"Fall\",\"Spring\",\"Spring\",\"Fall\",\"Spring\",\"Winter\",\"Winter\",\"Summer\",\"Summer\",\"Fall\",\"Spring\",\"Fall\",\"Winter\",\"Fall\",\"Spring\",\"Fall\",\"Fall\",\"Winter\",\"Spring\",\"Fall\",\"Fall\",\"Summer\",\"Fall\",\"Fall\",\"Summer\",\"Winter\",\"Winter\",\"Summer\",\"Winter\",\"Fall\",\"Winter\",\"Fall\",\"Winter\",\"Winter\",\"Fall\",\"Winter\",\"Winter\",\"Summer\",\"Fall\",\"Winter\",\"Winter\",\"Spring\",\"Fall\",\"Summer\",\"Fall\",\"Spring\",\"Fall\",\"Winter\",\"Winter\",\"Spring\",\"Fall\",\"Winter\",\"Summer\",\"Summer\",\"Spring\",\"Winter\",\"Summer\",\"Spring\",\"Winter\",\"Spring\",\"Fall\",\"Fall\",\"Summer\",\"Fall\",\"Summer\",\"Spring\",\"Spring\",\"Winter\",\"Winter\",\"Summer\",\"Fall\",\"Summer\",\"Fall\",\"Winter\",\"Spring\",\"Spring\",\"Winter\",\"Winter\",\"Spring\",\"Winter\",\"Fall\",\"Spring\",\"Summer\",\"Winter\",\"Spring\",\"Summer\",\"Fall\",\"Spring\",\"Summer\",\"Summer\",\"Summer\",\"Summer\",\"Spring\",\"Summer\",\"Winter\",\"Winter\",\"Fall\",\"Spring\",\"Fall\",\"Summer\",\"Summer\",\"Summer\",\"Winter\",\"Winter\",\"Fall\",\"Fall\",\"Winter\",\"Winter\",\"Fall\",\"Winter\",\"Fall\",\"Fall\",\"Fall\",\"Summer\",\"Fall\",\"Winter\",\"Spring\",\"Spring\",\"Summer\",\"Fall\",\"Fall\",\"Spring\",\"Fall\",\"Spring\",\"Summer\",\"Winter\",\"Spring\",\"Winter\",\"Summer\",\"Winter\",\"Summer\",\"Winter\",\"Summer\",\"Spring\",\"Winter\",\"Summer\",\"Fall\",\"Fall\",\"Summer\",\"Winter\",\"Spring\",\"Summer\",\"Fall\",\"Summer\",\"Spring\",\"Winter\",\"Spring\",\"Fall\",\"Fall\",\"Winter\",\"Spring\",\"Fall\",\"Spring\",\"Winter\",\"Winter\",\"Summer\",\"Fall\",\"Fall\",\"Spring\",\"Spring\",\"Fall\",\"Spring\",\"Summer\",\"Spring\",\"Winter\",\"Spring\",\"Winter\",\"Summer\",\"Summer\",\"Fall\",\"Spring\",\"Summer\",\"Summer\",\"Fall\",\"Winter\",\"Fall\",\"Summer\",\"Spring\",\"Summer\",\"Fall\",\"Fall\",\"Winter\",\"Spring\",\"Spring\",\"Fall\",\"Winter\",\"Spring\",\"Fall\",\"Summer\",\"Spring\",\"Summer\",\"Summer\",\"Winter\",\"Summer\",\"Spring\",\"Winter\",\"Summer\",\"Winter\",\"Fall\",\"Winter\",\"Fall\",\"Spring\",\"Spring\",\"Summer\",\"Summer\",\"Winter\",\"Winter\",\"Winter\",\"Summer\",\"Spring\",\"Winter\",\"Spring\",\"Winter\",\"Spring\",\"Winter\",\"Winter\",\"Summer\",\"Winter\",\"Winter\",\"Fall\",\"Spring\",\"Summer\",\"Spring\",\"Fall\",\"Spring\",\"Summer\",\"Summer\",\"Winter\",\"Fall\",\"Fall\",\"Spring\",\"Summer\",\"Summer\",\"Fall\",\"Summer\",\"Fall\",\"Winter\",\"Winter\",\"Fall\",\"Spring\",\"Fall\",\"Winter\",\"Fall\",\"Fall\",\"Fall\",\"Summer\",\"Winter\",\"Summer\",\"Fall\",\"Spring\",\"Spring\",\"Fall\",\"Spring\",\"Fall\",\"Winter\",\"Winter\",\"Winter\",\"Winter\",\"Winter\",\"Summer\",\"Winter\",\"Spring\",\"Winter\",\"Spring\",\"Spring\",\"Winter\",\"Fall\",\"Spring\",\"Fall\",\"Summer\",\"Spring\",\"Fall\",\"Summer\",\"Spring\",\"Spring\",\"Winter\",\"Fall\",\"Summer\",\"Summer\",\"Fall\",\"Spring\",\"Winter\",\"Winter\",\"Spring\",\"Winter\",\"Fall\",\"Winter\",\"Spring\",\"Fall\",\"Winter\",\"Spring\",\"Winter\",\"Winter\",\"Winter\",\"Fall\",\"Winter\",\"Fall\",\"Winter\",\"Summer\",\"Fall\",\"Spring\",\"Summer\",\"Summer\",\"Winter\",\"Fall\",\"Summer\",\"Fall\",\"Summer\",\"Fall\",\"Fall\",\"Fall\",\"Winter\",\"Spring\",\"Winter\",\"Summer\",\"Winter\",\"Summer\",\"Fall\",\"Spring\",\"Spring\",\"Summer\",\"Summer\",\"Fall\",\"Winter\",\"Spring\",\"Spring\",\"Fall\",\"Fall\",\"Winter\",\"Winter\",\"Summer\",\"Spring\",\"Fall\",\"Winter\",\"Spring\",\"Fall\",\"Summer\",\"Spring\",\"Fall\",\"Fall\",\"Fall\",\"Fall\",\"Fall\",\"Winter\",\"Spring\",\"Winter\",\"Spring\",\"Winter\",\"Fall\",\"Fall\",\"Fall\",\"Winter\",\"Summer\",\"Spring\",\"Summer\",\"Winter\",\"Spring\",\"Summer\",\"Spring\",\"Winter\",\"Fall\",\"Fall\",\"Spring\",\"Summer\",\"Winter\",\"Fall\",\"Summer\",\"Summer\",\"Spring\",\"Winter\",\"Fall\",\"Summer\",\"Fall\",\"Winter\",\"Fall\",\"Summer\",\"Spring\",\"Spring\",\"Spring\",\"Summer\",\"Winter\",\"Spring\",\"Spring\",\"Summer\",\"Fall\",\"Winter\",\"Spring\",\"Summer\",\"Summer\",\"Fall\",\"Summer\",\"Fall\",\"Fall\",\"Spring\",\"Summer\",\"Winter\",\"Summer\",\"Spring\",\"Fall\",\"Spring\",\"Spring\",\"Winter\",\"Summer\",\"Summer\",\"Winter\",\"Spring\",\"Summer\",\"Spring\",\"Spring\",\"Fall\",\"Spring\",\"Summer\",\"Fall\",\"Winter\",\"Spring\",\"Spring\",\"Winter\",\"Spring\",\"Fall\",\"Fall\",\"Spring\",\"Spring\",\"Summer\",\"Summer\",\"Summer\",\"Fall\",\"Winter\",\"Spring\",\"Summer\",\"Summer\",\"Fall\",\"Summer\",\"Spring\",\"Winter\",\"Spring\",\"Spring\",\"Spring\",\"Summer\",\"Summer\",\"Winter\",\"Fall\",\"Fall\",\"Winter\",\"Spring\",\"Summer\",\"Summer\",\"Fall\",\"Fall\",\"Spring\",\"Fall\",\"Winter\",\"Spring\",\"Spring\",\"Spring\",\"Winter\",\"Winter\",\"Fall\",\"Fall\",\"Spring\",\"Winter\",\"Spring\",\"Spring\",\"Winter\",\"Fall\",\"Summer\",\"Summer\",\"Fall\",\"Winter\",\"Fall\",\"Fall\",\"Summer\",\"Summer\",\"Winter\",\"Fall\",\"Fall\",\"Summer\",\"Fall\",\"Winter\",\"Winter\",\"Summer\",\"Winter\",\"Summer\",\"Spring\",\"Summer\",\"Fall\",\"Fall\",\"Summer\",\"Spring\",\"Summer\",\"Fall\",\"Winter\",\"Fall\",\"Winter\",\"Fall\",\"Spring\",\"Spring\",\"Spring\",\"Spring\",\"Spring\",\"Fall\",\"Summer\",\"Spring\",\"Fall\",\"Winter\",\"Fall\",\"Spring\",\"Fall\",\"Spring\",\"Spring\",\"Fall\",\"Winter\",\"Winter\",\"Winter\",\"Spring\",\"Fall\",\"Summer\",\"Summer\",\"Fall\",\"Fall\",\"Summer\",\"Winter\",\"Spring\",\"Summer\",\"Fall\",\"Fall\",\"Summer\",\"Spring\",\"Winter\",\"Spring\",\"Spring\",\"Winter\",\"Summer\",\"Winter\",\"Summer\",\"Spring\",\"Spring\",\"Spring\",\"Summer\",\"Summer\",\"Spring\",\"Fall\",\"Summer\",\"Summer\",\"Summer\",\"Fall\",\"Fall\",\"Summer\",\"Winter\",\"Summer\",\"Summer\",\"Summer\",\"Spring\",\"Fall\",\"Summer\",\"Fall\",\"Winter\",\"Winter\",\"Winter\",\"Summer\",\"Summer\",\"Spring\",\"Fall\",\"Winter\",\"Spring\",\"Summer\",\"Fall\",\"Winter\",\"Spring\",\"Spring\",\"Spring\",\"Spring\",\"Fall\",\"Summer\",\"Winter\",\"Summer\",\"Summer\",\"Winter\",\"Winter\",\"Fall\",\"Spring\",\"Fall\",\"Summer\",\"Winter\",\"Spring\",\"Summer\",\"Spring\",\"Fall\",\"Spring\",\"Winter\",\"Summer\",\"Fall\",\"Winter\",\"Summer\",\"Fall\",\"Winter\",\"Spring\",\"Spring\",\"Spring\",\"Fall\",\"Summer\",\"Winter\",\"Summer\",\"Spring\",\"Fall\",\"Fall\",\"Winter\",\"Winter\",\"Spring\",\"Winter\",\"Winter\",\"Fall\",\"Spring\",\"Spring\",\"Spring\",\"Summer\",\"Spring\",\"Summer\",\"Winter\",\"Winter\",\"Winter\",\"Summer\",\"Winter\",\"Summer\",\"Winter\",\"Summer\",\"Summer\",\"Spring\",\"Spring\",\"Spring\",\"Summer\",\"Winter\",\"Summer\",\"Fall\",\"Spring\",\"Fall\",\"Winter\",\"Summer\",\"Fall\",\"Winter\",\"Spring\",\"Spring\",\"Spring\",\"Fall\",\"Winter\",\"Spring\",\"Summer\",\"Winter\",\"Winter\",\"Fall\",\"Summer\",\"Summer\",\"Fall\",\"Fall\",\"Fall\",\"Fall\",\"Spring\",\"Summer\",\"Winter\",\"Spring\",\"Spring\",\"Fall\",\"Fall\",\"Summer\",\"Spring\",\"Spring\",\"Fall\",\"Fall\",\"Fall\",\"Fall\",\"Spring\",\"Winter\",\"Winter\",\"Spring\",\"Spring\",\"Spring\",\"Winter\",\"Summer\",\"Spring\",\"Spring\",\"Summer\",\"Fall\",\"Spring\",\"Fall\",\"Winter\",\"Spring\",\"Fall\",\"Winter\",\"Winter\",\"Winter\",\"Winter\",\"Spring\",\"Fall\",\"Winter\",\"Fall\",\"Winter\",\"Spring\",\"Fall\",\"Spring\",\"Spring\",\"Spring\",\"Summer\",\"Summer\",\"Fall\",\"Fall\",\"Summer\",\"Winter\",\"Fall\",\"Spring\",\"Winter\",\"Fall\",\"Spring\",\"Summer\",\"Summer\",\"Fall\",\"Summer\",\"Fall\",\"Winter\",\"Fall\",\"Fall\",\"Fall\",\"Fall\",\"Spring\",\"Winter\",\"Summer\",\"Fall\",\"Fall\",\"Winter\",\"Winter\",\"Summer\",\"Fall\",\"Summer\",\"Spring\",\"Winter\",\"Fall\",\"Summer\",\"Summer\",\"Summer\",\"Fall\",\"Winter\",\"Fall\",\"Spring\",\"Spring\",\"Summer\",\"Spring\",\"Winter\",\"Fall\",\"Winter\",\"Winter\",\"Spring\",\"Summer\",\"Fall\",\"Spring\",\"Fall\",\"Summer\",\"Fall\",\"Fall\",\"Fall\",\"Summer\",\"Summer\",\"Winter\",\"Summer\",\"Winter\",\"Summer\",\"Fall\",\"Spring\",\"Summer\",\"Fall\",\"Spring\",\"Summer\",\"Summer\",\"Winter\",\"Winter\",\"Winter\",\"Winter\",\"Spring\",\"Summer\",\"Summer\",\"Spring\",\"Winter\",\"Spring\",\"Fall\",\"Winter\",\"Winter\",\"Spring\",\"Spring\",\"Spring\",\"Summer\",\"Summer\",\"Fall\",\"Summer\",\"Spring\",\"Winter\",\"Winter\",\"Spring\",\"Spring\",\"Spring\",\"Winter\",\"Spring\",\"Summer\",\"Winter\",\"Winter\",\"Summer\",\"Fall\",\"Winter\",\"Winter\",\"Fall\",\"Fall\",\"Winter\",\"Winter\",\"Fall\",\"Winter\",\"Spring\",\"Fall\",\"Winter\",\"Spring\",\"Winter\",\"Spring\",\"Winter\",\"Summer\",\"Spring\",\"Winter\",\"Spring\",\"Fall\",\"Spring\",\"Summer\",\"Fall\",\"Spring\",\"Spring\",\"Spring\",\"Fall\",\"Winter\",\"Summer\",\"Spring\",\"Summer\",\"Spring\",\"Summer\",\"Summer\",\"Spring\",\"Spring\",\"Winter\",\"Spring\",\"Winter\",\"Fall\",\"Spring\",\"Summer\",\"Winter\",\"Winter\",\"Fall\",\"Fall\",\"Summer\",\"Summer\",\"Spring\",\"Fall\",\"Fall\",\"Spring\",\"Fall\",\"Summer\",\"Fall\",\"Summer\",\"Fall\",\"Fall\",\"Winter\",\"Fall\",\"Fall\",\"Summer\",\"Summer\",\"Winter\",\"Summer\",\"Winter\",\"Spring\",\"Fall\",\"Fall\",\"Winter\",\"Summer\",\"Winter\",\"Spring\",\"Summer\",\"Summer\",\"Winter\",\"Spring\",\"Summer\",\"Fall\",\"Summer\",\"Spring\",\"Spring\",\"Winter\",\"Summer\",\"Spring\",\"Spring\",\"Summer\",\"Winter\",\"Winter\",\"Summer\",\"Fall\",\"Fall\",\"Winter\",\"Spring\",\"Summer\",\"Winter\",\"Winter\",\"Winter\",\"Winter\",\"Summer\",\"Fall\",\"Summer\",\"Spring\",\"Spring\",\"Summer\",\"Summer\",\"Summer\",\"Winter\",\"Fall\",\"Summer\",\"Fall\",\"Summer\",\"Spring\",\"Summer\",\"Fall\",\"Winter\",\"Summer\",\"Summer\",\"Spring\",\"Summer\",\"Summer\",\"Spring\",\"Spring\",\"Spring\",\"Spring\",\"Summer\",\"Summer\",\"Spring\",\"Fall\",\"Winter\",\"Winter\",\"Fall\",\"Winter\",\"Winter\",\"Spring\",\"Fall\",\"Summer\",\"Summer\",\"Spring\",\"Summer\",\"Spring\",\"Winter\",\"Summer\",\"Fall\",\"Spring\",\"Spring\",\"Winter\",\"Spring\",\"Summer\",\"Fall\",\"Fall\",\"Winter\",\"Winter\",\"Fall\",\"Summer\",\"Spring\",\"Winter\",\"Spring\",\"Fall\",\"Spring\",\"Spring\",\"Winter\",\"Winter\",\"Winter\",\"Summer\",\"Spring\",\"Spring\",\"Fall\",\"Spring\",\"Winter\",\"Spring\",\"Summer\",\"Spring\",\"Winter\",\"Summer\",\"Spring\",\"Spring\",\"Fall\",\"Summer\",\"Winter\",\"Fall\",\"Summer\",\"Summer\",\"Fall\",\"Winter\",\"Fall\",\"Summer\",\"Fall\",\"Winter\",\"Summer\",\"Summer\",\"Winter\",\"Summer\",\"Fall\",\"Winter\",\"Winter\",\"Fall\",\"Winter\",\"Fall\",\"Spring\",\"Fall\",\"Summer\",\"Spring\",\"Fall\",\"Spring\",\"Fall\",\"Summer\",\"Winter\",\"Fall\",\"Fall\",\"Fall\",\"Fall\",\"Summer\",\"Spring\",\"Winter\",\"Winter\",\"Fall\",\"Summer\",\"Summer\",\"Fall\",\"Summer\",\"Spring\",\"Spring\",\"Spring\",\"Fall\",\"Spring\",\"Fall\",\"Winter\",\"Summer\",\"Winter\",\"Winter\",\"Summer\",\"Spring\",\"Spring\",\"Winter\",\"Winter\",\"Fall\",\"Winter\",\"Spring\",\"Fall\",\"Fall\",\"Fall\",\"Winter\",\"Fall\",\"Winter\",\"Fall\",\"Winter\",\"Winter\",\"Fall\",\"Winter\",\"Winter\",\"Summer\",\"Winter\",\"Spring\",\"Winter\",\"Fall\",\"Spring\",\"Fall\",\"Spring\",\"Spring\",\"Fall\",\"Summer\",\"Winter\",\"Fall\",\"Spring\",\"Fall\",\"Spring\",\"Spring\",\"Fall\",\"Summer\",\"Fall\",\"Winter\",\"Spring\",\"Fall\",\"Winter\",\"Winter\",\"Winter\",\"Summer\",\"Fall\",\"Winter\",\"Fall\",\"Winter\",\"Summer\",\"Spring\",\"Winter\",\"Spring\",\"Winter\",\"Winter\",\"Spring\",\"Fall\",\"Fall\",\"Spring\",\"Fall\",\"Fall\",\"Winter\",\"Summer\",\"Winter\",\"Fall\",\"Summer\",\"Winter\",\"Winter\",\"Winter\",\"Spring\",\"Summer\",\"Winter\",\"Fall\",\"Fall\",\"Summer\",\"Fall\",\"Winter\",\"Fall\",\"Spring\",\"Winter\",\"Fall\",\"Spring\",\"Fall\",\"Spring\",\"Fall\",\"Summer\",\"Winter\",\"Spring\",\"Fall\",\"Winter\",\"Summer\",\"Fall\",\"Summer\",\"Fall\",\"Fall\",\"Fall\",\"Summer\",\"Fall\",\"Summer\",\"Fall\",\"Fall\",\"Summer\",\"Summer\",\"Summer\",\"Summer\",\"Spring\",\"Winter\",\"Spring\",\"Fall\",\"Winter\",\"Fall\",\"Winter\",\"Fall\",\"Spring\",\"Fall\",\"Summer\",\"Winter\",\"Spring\",\"Fall\",\"Winter\",\"Winter\",\"Winter\",\"Winter\",\"Fall\",\"Winter\",\"Winter\",\"Spring\",\"Winter\",\"Summer\",\"Spring\",\"Summer\",\"Summer\",\"Spring\",\"Summer\",\"Fall\",\"Winter\",\"Winter\",\"Fall\",\"Spring\",\"Spring\",\"Fall\",\"Winter\",\"Spring\",\"Spring\",\"Summer\",\"Spring\",\"Fall\",\"Spring\",\"Spring\",\"Spring\",\"Summer\",\"Spring\",\"Fall\",\"Fall\",\"Spring\",\"Spring\",\"Summer\",\"Winter\",\"Summer\",\"Fall\",\"Summer\",\"Summer\",\"Winter\",\"Fall\",\"Summer\",\"Winter\",\"Summer\",\"Summer\",\"Fall\",\"Spring\",\"Summer\",\"Summer\",\"Summer\",\"Summer\",\"Summer\",\"Fall\",\"Winter\",\"Winter\",\"Winter\",\"Fall\",\"Fall\",\"Summer\",\"Spring\",\"Spring\",\"Winter\",\"Spring\",\"Summer\",\"Summer\",\"Spring\",\"Summer\",\"Winter\",\"Fall\",\"Winter\",\"Winter\",\"Fall\",\"Fall\",\"Summer\",\"Spring\",\"Winter\",\"Fall\",\"Summer\",\"Summer\",\"Summer\",\"Winter\",\"Fall\",\"Fall\",\"Spring\",\"Summer\",\"Fall\",\"Fall\",\"Spring\",\"Summer\",\"Winter\",\"Fall\",\"Fall\",\"Spring\",\"Spring\",\"Summer\",\"Winter\",\"Fall\",\"Fall\",\"Spring\",\"Summer\",\"Spring\",\"Winter\",\"Summer\",\"Winter\",\"Winter\",\"Spring\",\"Spring\",\"Fall\",\"Winter\",\"Winter\",\"Fall\",\"Summer\",\"Summer\",\"Winter\",\"Spring\",\"Fall\",\"Summer\",\"Winter\",\"Fall\",\"Spring\",\"Spring\",\"Fall\",\"Summer\",\"Fall\",\"Winter\",\"Fall\",\"Spring\",\"Winter\",\"Winter\",\"Summer\",\"Winter\",\"Winter\",\"Fall\",\"Winter\",\"Spring\",\"Summer\",\"Fall\",\"Summer\",\"Spring\",\"Spring\",\"Summer\",\"Summer\",\"Summer\",\"Winter\",\"Fall\",\"Winter\",\"Spring\",\"Fall\",\"Spring\",\"Summer\",\"Summer\",\"Winter\",\"Winter\",\"Summer\",\"Winter\",\"Spring\",\"Summer\",\"Summer\",\"Fall\",\"Winter\",\"Fall\",\"Winter\",\"Winter\",\"Summer\",\"Summer\",\"Spring\",\"Summer\",\"Summer\",\"Winter\",\"Winter\",\"Fall\",\"Summer\",\"Fall\",\"Fall\",\"Spring\",\"Summer\",\"Summer\",\"Fall\",\"Spring\",\"Fall\",\"Winter\",\"Spring\",\"Spring\",\"Fall\",\"Spring\",\"Winter\",\"Fall\",\"Fall\",\"Fall\",\"Summer\",\"Spring\",\"Fall\",\"Spring\",\"Spring\",\"Spring\",\"Fall\",\"Winter\",\"Spring\",\"Summer\",\"Fall\",\"Winter\",\"Fall\",\"Summer\",\"Spring\",\"Summer\",\"Spring\",\"Winter\",\"Spring\",\"Summer\",\"Spring\",\"Fall\",\"Summer\",\"Winter\",\"Summer\",\"Winter\",\"Winter\",\"Fall\",\"Winter\",\"Winter\",\"Fall\",\"Spring\",\"Summer\",\"Spring\",\"Winter\",\"Fall\",\"Winter\",\"Winter\",\"Spring\",\"Summer\",\"Spring\",\"Summer\",\"Fall\",\"Fall\",\"Fall\",\"Fall\",\"Spring\",\"Fall\",\"Winter\",\"Winter\",\"Spring\",\"Fall\",\"Winter\",\"Fall\",\"Summer\",\"Fall\",\"Spring\",\"Winter\",\"Winter\",\"Summer\",\"Winter\",\"Spring\",\"Winter\",\"Spring\",\"Winter\",\"Spring\",\"Summer\",\"Summer\",\"Winter\",\"Spring\",\"Spring\",\"Summer\",\"Winter\",\"Spring\",\"Winter\",\"Fall\",\"Fall\",\"Fall\",\"Summer\",\"Spring\",\"Spring\",\"Spring\",\"Spring\",\"Spring\",\"Winter\",\"Spring\",\"Winter\",\"Fall\",\"Spring\",\"Summer\",\"Summer\",\"Fall\",\"Summer\",\"Winter\",\"Spring\",\"Winter\",\"Spring\",\"Spring\",\"Spring\",\"Fall\",\"Summer\",\"Summer\",\"Fall\",\"Fall\",\"Spring\",\"Winter\",\"Summer\",\"Summer\",\"Spring\",\"Spring\",\"Summer\",\"Spring\",\"Fall\",\"Winter\",\"Summer\",\"Spring\",\"Fall\",\"Fall\",\"Fall\",\"Spring\",\"Winter\",\"Winter\",\"Fall\",\"Summer\",\"Fall\",\"Summer\",\"Summer\",\"Fall\",\"Winter\",\"Winter\",\"Summer\",\"Spring\",\"Spring\",\"Fall\",\"Winter\",\"Spring\",\"Spring\",\"Summer\",\"Spring\",\"Spring\",\"Summer\",\"Spring\",\"Spring\",\"Spring\",\"Summer\",\"Summer\",\"Spring\",\"Fall\",\"Fall\",\"Fall\",\"Fall\",\"Fall\",\"Summer\",\"Fall\",\"Spring\",\"Summer\",\"Fall\",\"Spring\",\"Winter\",\"Winter\",\"Fall\",\"Fall\",\"Winter\",\"Summer\",\"Summer\",\"Fall\",\"Winter\",\"Fall\",\"Winter\",\"Fall\",\"Winter\",\"Summer\",\"Summer\",\"Winter\",\"Fall\",\"Spring\",\"Spring\",\"Winter\",\"Fall\",\"Summer\",\"Winter\",\"Spring\",\"Summer\",\"Spring\",\"Fall\",\"Summer\",\"Fall\",\"Winter\",\"Summer\",\"Spring\",\"Winter\",\"Winter\",\"Fall\",\"Summer\",\"Spring\",\"Fall\",\"Spring\",\"Winter\",\"Fall\",\"Spring\",\"Winter\",\"Fall\",\"Fall\",\"Winter\",\"Winter\",\"Spring\",\"Summer\",\"Fall\",\"Fall\",\"Winter\",\"Fall\",\"Summer\",\"Fall\",\"Winter\",\"Summer\",\"Fall\",\"Summer\",\"Winter\",\"Winter\",\"Spring\",\"Fall\",\"Fall\",\"Summer\",\"Winter\",\"Fall\",\"Fall\",\"Winter\",\"Spring\",\"Summer\",\"Spring\",\"Summer\",\"Spring\",\"Fall\",\"Fall\",\"Summer\",\"Spring\",\"Summer\",\"Winter\",\"Fall\",\"Fall\",\"Winter\",\"Spring\",\"Fall\",\"Summer\",\"Spring\",\"Spring\",\"Fall\",\"Winter\",\"Summer\",\"Spring\",\"Fall\",\"Fall\",\"Fall\",\"Summer\",\"Fall\",\"Spring\",\"Spring\",\"Winter\",\"Fall\",\"Fall\",\"Summer\",\"Fall\",\"Summer\",\"Fall\",\"Fall\",\"Fall\",\"Spring\",\"Winter\",\"Winter\",\"Fall\",\"Summer\",\"Winter\",\"Spring\",\"Summer\",\"Spring\",\"Spring\",\"Fall\",\"Spring\",\"Spring\",\"Spring\",\"Winter\",\"Spring\",\"Fall\",\"Summer\",\"Spring\",\"Fall\",\"Fall\",\"Summer\",\"Spring\",\"Summer\",\"Spring\",\"Fall\",\"Winter\",\"Fall\",\"Fall\",\"Winter\",\"Winter\",\"Summer\",\"Fall\",\"Spring\",\"Fall\",\"Spring\",\"Spring\",\"Fall\",\"Summer\",\"Fall\",\"Winter\",\"Fall\",\"Summer\",\"Fall\",\"Summer\",\"Winter\",\"Summer\",\"Summer\",\"Winter\",\"Fall\",\"Summer\",\"Winter\",\"Spring\",\"Spring\",\"Fall\",\"Fall\",\"Spring\",\"Fall\",\"Winter\",\"Spring\",\"Summer\",\"Winter\",\"Winter\",\"Fall\",\"Fall\",\"Spring\",\"Summer\",\"Summer\",\"Spring\",\"Summer\",\"Fall\",\"Summer\",\"Spring\",\"Fall\",\"Summer\",\"Winter\",\"Winter\",\"Fall\",\"Spring\",\"Spring\",\"Spring\",\"Fall\",\"Fall\",\"Spring\",\"Spring\",\"Winter\",\"Winter\",\"Fall\",\"Winter\",\"Spring\",\"Summer\",\"Winter\",\"Fall\",\"Summer\",\"Fall\",\"Winter\",\"Spring\",\"Winter\",\"Summer\",\"Spring\",\"Summer\",\"Summer\",\"Fall\",\"Summer\",\"Summer\",\"Spring\",\"Spring\",\"Summer\",\"Spring\",\"Winter\",\"Summer\",\"Winter\",\"Winter\",\"Spring\",\"Spring\",\"Summer\",\"Spring\",\"Spring\",\"Fall\",\"Winter\",\"Winter\",\"Fall\",\"Winter\",\"Summer\",\"Fall\",\"Winter\",\"Winter\",\"Summer\",\"Summer\",\"Fall\",\"Fall\",\"Spring\",\"Summer\",\"Summer\",\"Summer\",\"Winter\",\"Fall\",\"Summer\",\"Spring\",\"Winter\",\"Summer\",\"Winter\",\"Spring\",\"Winter\",\"Summer\",\"Winter\",\"Spring\",\"Fall\",\"Fall\",\"Spring\",\"Summer\",\"Summer\",\"Winter\",\"Fall\",\"Spring\",\"Summer\",\"Winter\",\"Winter\",\"Spring\",\"Fall\",\"Fall\",\"Fall\",\"Winter\",\"Summer\",\"Spring\",\"Spring\",\"Spring\",\"Winter\",\"Winter\",\"Summer\",\"Fall\",\"Spring\",\"Summer\",\"Spring\",\"Spring\",\"Summer\",\"Spring\"],\"xaxis\":\"x\",\"yaxis\":\"y\",\"type\":\"histogram\"}],                        {\"template\":{\"data\":{\"histogram2dcontour\":[{\"type\":\"histogram2dcontour\",\"colorbar\":{\"outlinewidth\":0,\"ticks\":\"\"},\"colorscale\":[[0.0,\"#0d0887\"],[0.1111111111111111,\"#46039f\"],[0.2222222222222222,\"#7201a8\"],[0.3333333333333333,\"#9c179e\"],[0.4444444444444444,\"#bd3786\"],[0.5555555555555556,\"#d8576b\"],[0.6666666666666666,\"#ed7953\"],[0.7777777777777778,\"#fb9f3a\"],[0.8888888888888888,\"#fdca26\"],[1.0,\"#f0f921\"]]}],\"choropleth\":[{\"type\":\"choropleth\",\"colorbar\":{\"outlinewidth\":0,\"ticks\":\"\"}}],\"histogram2d\":[{\"type\":\"histogram2d\",\"colorbar\":{\"outlinewidth\":0,\"ticks\":\"\"},\"colorscale\":[[0.0,\"#0d0887\"],[0.1111111111111111,\"#46039f\"],[0.2222222222222222,\"#7201a8\"],[0.3333333333333333,\"#9c179e\"],[0.4444444444444444,\"#bd3786\"],[0.5555555555555556,\"#d8576b\"],[0.6666666666666666,\"#ed7953\"],[0.7777777777777778,\"#fb9f3a\"],[0.8888888888888888,\"#fdca26\"],[1.0,\"#f0f921\"]]}],\"heatmap\":[{\"type\":\"heatmap\",\"colorbar\":{\"outlinewidth\":0,\"ticks\":\"\"},\"colorscale\":[[0.0,\"#0d0887\"],[0.1111111111111111,\"#46039f\"],[0.2222222222222222,\"#7201a8\"],[0.3333333333333333,\"#9c179e\"],[0.4444444444444444,\"#bd3786\"],[0.5555555555555556,\"#d8576b\"],[0.6666666666666666,\"#ed7953\"],[0.7777777777777778,\"#fb9f3a\"],[0.8888888888888888,\"#fdca26\"],[1.0,\"#f0f921\"]]}],\"heatmapgl\":[{\"type\":\"heatmapgl\",\"colorbar\":{\"outlinewidth\":0,\"ticks\":\"\"},\"colorscale\":[[0.0,\"#0d0887\"],[0.1111111111111111,\"#46039f\"],[0.2222222222222222,\"#7201a8\"],[0.3333333333333333,\"#9c179e\"],[0.4444444444444444,\"#bd3786\"],[0.5555555555555556,\"#d8576b\"],[0.6666666666666666,\"#ed7953\"],[0.7777777777777778,\"#fb9f3a\"],[0.8888888888888888,\"#fdca26\"],[1.0,\"#f0f921\"]]}],\"contourcarpet\":[{\"type\":\"contourcarpet\",\"colorbar\":{\"outlinewidth\":0,\"ticks\":\"\"}}],\"contour\":[{\"type\":\"contour\",\"colorbar\":{\"outlinewidth\":0,\"ticks\":\"\"},\"colorscale\":[[0.0,\"#0d0887\"],[0.1111111111111111,\"#46039f\"],[0.2222222222222222,\"#7201a8\"],[0.3333333333333333,\"#9c179e\"],[0.4444444444444444,\"#bd3786\"],[0.5555555555555556,\"#d8576b\"],[0.6666666666666666,\"#ed7953\"],[0.7777777777777778,\"#fb9f3a\"],[0.8888888888888888,\"#fdca26\"],[1.0,\"#f0f921\"]]}],\"surface\":[{\"type\":\"surface\",\"colorbar\":{\"outlinewidth\":0,\"ticks\":\"\"},\"colorscale\":[[0.0,\"#0d0887\"],[0.1111111111111111,\"#46039f\"],[0.2222222222222222,\"#7201a8\"],[0.3333333333333333,\"#9c179e\"],[0.4444444444444444,\"#bd3786\"],[0.5555555555555556,\"#d8576b\"],[0.6666666666666666,\"#ed7953\"],[0.7777777777777778,\"#fb9f3a\"],[0.8888888888888888,\"#fdca26\"],[1.0,\"#f0f921\"]]}],\"mesh3d\":[{\"type\":\"mesh3d\",\"colorbar\":{\"outlinewidth\":0,\"ticks\":\"\"}}],\"scatter\":[{\"fillpattern\":{\"fillmode\":\"overlay\",\"size\":10,\"solidity\":0.2},\"type\":\"scatter\"}],\"parcoords\":[{\"type\":\"parcoords\",\"line\":{\"colorbar\":{\"outlinewidth\":0,\"ticks\":\"\"}}}],\"scatterpolargl\":[{\"type\":\"scatterpolargl\",\"marker\":{\"colorbar\":{\"outlinewidth\":0,\"ticks\":\"\"}}}],\"bar\":[{\"error_x\":{\"color\":\"#2a3f5f\"},\"error_y\":{\"color\":\"#2a3f5f\"},\"marker\":{\"line\":{\"color\":\"#E5ECF6\",\"width\":0.5},\"pattern\":{\"fillmode\":\"overlay\",\"size\":10,\"solidity\":0.2}},\"type\":\"bar\"}],\"scattergeo\":[{\"type\":\"scattergeo\",\"marker\":{\"colorbar\":{\"outlinewidth\":0,\"ticks\":\"\"}}}],\"scatterpolar\":[{\"type\":\"scatterpolar\",\"marker\":{\"colorbar\":{\"outlinewidth\":0,\"ticks\":\"\"}}}],\"histogram\":[{\"marker\":{\"pattern\":{\"fillmode\":\"overlay\",\"size\":10,\"solidity\":0.2}},\"type\":\"histogram\"}],\"scattergl\":[{\"type\":\"scattergl\",\"marker\":{\"colorbar\":{\"outlinewidth\":0,\"ticks\":\"\"}}}],\"scatter3d\":[{\"type\":\"scatter3d\",\"line\":{\"colorbar\":{\"outlinewidth\":0,\"ticks\":\"\"}},\"marker\":{\"colorbar\":{\"outlinewidth\":0,\"ticks\":\"\"}}}],\"scattermapbox\":[{\"type\":\"scattermapbox\",\"marker\":{\"colorbar\":{\"outlinewidth\":0,\"ticks\":\"\"}}}],\"scatterternary\":[{\"type\":\"scatterternary\",\"marker\":{\"colorbar\":{\"outlinewidth\":0,\"ticks\":\"\"}}}],\"scattercarpet\":[{\"type\":\"scattercarpet\",\"marker\":{\"colorbar\":{\"outlinewidth\":0,\"ticks\":\"\"}}}],\"carpet\":[{\"aaxis\":{\"endlinecolor\":\"#2a3f5f\",\"gridcolor\":\"white\",\"linecolor\":\"white\",\"minorgridcolor\":\"white\",\"startlinecolor\":\"#2a3f5f\"},\"baxis\":{\"endlinecolor\":\"#2a3f5f\",\"gridcolor\":\"white\",\"linecolor\":\"white\",\"minorgridcolor\":\"white\",\"startlinecolor\":\"#2a3f5f\"},\"type\":\"carpet\"}],\"table\":[{\"cells\":{\"fill\":{\"color\":\"#EBF0F8\"},\"line\":{\"color\":\"white\"}},\"header\":{\"fill\":{\"color\":\"#C8D4E3\"},\"line\":{\"color\":\"white\"}},\"type\":\"table\"}],\"barpolar\":[{\"marker\":{\"line\":{\"color\":\"#E5ECF6\",\"width\":0.5},\"pattern\":{\"fillmode\":\"overlay\",\"size\":10,\"solidity\":0.2}},\"type\":\"barpolar\"}],\"pie\":[{\"automargin\":true,\"type\":\"pie\"}]},\"layout\":{\"autotypenumbers\":\"strict\",\"colorway\":[\"#636efa\",\"#EF553B\",\"#00cc96\",\"#ab63fa\",\"#FFA15A\",\"#19d3f3\",\"#FF6692\",\"#B6E880\",\"#FF97FF\",\"#FECB52\"],\"font\":{\"color\":\"#2a3f5f\"},\"hovermode\":\"closest\",\"hoverlabel\":{\"align\":\"left\"},\"paper_bgcolor\":\"white\",\"plot_bgcolor\":\"#E5ECF6\",\"polar\":{\"bgcolor\":\"#E5ECF6\",\"angularaxis\":{\"gridcolor\":\"white\",\"linecolor\":\"white\",\"ticks\":\"\"},\"radialaxis\":{\"gridcolor\":\"white\",\"linecolor\":\"white\",\"ticks\":\"\"}},\"ternary\":{\"bgcolor\":\"#E5ECF6\",\"aaxis\":{\"gridcolor\":\"white\",\"linecolor\":\"white\",\"ticks\":\"\"},\"baxis\":{\"gridcolor\":\"white\",\"linecolor\":\"white\",\"ticks\":\"\"},\"caxis\":{\"gridcolor\":\"white\",\"linecolor\":\"white\",\"ticks\":\"\"}},\"coloraxis\":{\"colorbar\":{\"outlinewidth\":0,\"ticks\":\"\"}},\"colorscale\":{\"sequential\":[[0.0,\"#0d0887\"],[0.1111111111111111,\"#46039f\"],[0.2222222222222222,\"#7201a8\"],[0.3333333333333333,\"#9c179e\"],[0.4444444444444444,\"#bd3786\"],[0.5555555555555556,\"#d8576b\"],[0.6666666666666666,\"#ed7953\"],[0.7777777777777778,\"#fb9f3a\"],[0.8888888888888888,\"#fdca26\"],[1.0,\"#f0f921\"]],\"sequentialminus\":[[0.0,\"#0d0887\"],[0.1111111111111111,\"#46039f\"],[0.2222222222222222,\"#7201a8\"],[0.3333333333333333,\"#9c179e\"],[0.4444444444444444,\"#bd3786\"],[0.5555555555555556,\"#d8576b\"],[0.6666666666666666,\"#ed7953\"],[0.7777777777777778,\"#fb9f3a\"],[0.8888888888888888,\"#fdca26\"],[1.0,\"#f0f921\"]],\"diverging\":[[0,\"#8e0152\"],[0.1,\"#c51b7d\"],[0.2,\"#de77ae\"],[0.3,\"#f1b6da\"],[0.4,\"#fde0ef\"],[0.5,\"#f7f7f7\"],[0.6,\"#e6f5d0\"],[0.7,\"#b8e186\"],[0.8,\"#7fbc41\"],[0.9,\"#4d9221\"],[1,\"#276419\"]]},\"xaxis\":{\"gridcolor\":\"white\",\"linecolor\":\"white\",\"ticks\":\"\",\"title\":{\"standoff\":15},\"zerolinecolor\":\"white\",\"automargin\":true,\"zerolinewidth\":2},\"yaxis\":{\"gridcolor\":\"white\",\"linecolor\":\"white\",\"ticks\":\"\",\"title\":{\"standoff\":15},\"zerolinecolor\":\"white\",\"automargin\":true,\"zerolinewidth\":2},\"scene\":{\"xaxis\":{\"backgroundcolor\":\"#E5ECF6\",\"gridcolor\":\"white\",\"linecolor\":\"white\",\"showbackground\":true,\"ticks\":\"\",\"zerolinecolor\":\"white\",\"gridwidth\":2},\"yaxis\":{\"backgroundcolor\":\"#E5ECF6\",\"gridcolor\":\"white\",\"linecolor\":\"white\",\"showbackground\":true,\"ticks\":\"\",\"zerolinecolor\":\"white\",\"gridwidth\":2},\"zaxis\":{\"backgroundcolor\":\"#E5ECF6\",\"gridcolor\":\"white\",\"linecolor\":\"white\",\"showbackground\":true,\"ticks\":\"\",\"zerolinecolor\":\"white\",\"gridwidth\":2}},\"shapedefaults\":{\"line\":{\"color\":\"#2a3f5f\"}},\"annotationdefaults\":{\"arrowcolor\":\"#2a3f5f\",\"arrowhead\":0,\"arrowwidth\":1},\"geo\":{\"bgcolor\":\"white\",\"landcolor\":\"#E5ECF6\",\"subunitcolor\":\"white\",\"showland\":true,\"showlakes\":true,\"lakecolor\":\"white\"},\"title\":{\"x\":0.05},\"mapbox\":{\"style\":\"light\"}}},\"xaxis\":{\"anchor\":\"y\",\"domain\":[0.0,1.0],\"title\":{\"text\":\"Season\"}},\"yaxis\":{\"anchor\":\"x\",\"domain\":[0.0,1.0],\"title\":{\"text\":\"count\"},\"range\":[200,1500]},\"legend\":{\"tracegroupgap\":0},\"margin\":{\"t\":60},\"barmode\":\"relative\"},                        {\"responsive\": true}                    ).then(function(){\n",
              "                            \n",
              "var gd = document.getElementById('6ff7342c-75d8-4def-8f3d-c7c36d48e0df');\n",
              "var x = new MutationObserver(function (mutations, observer) {{\n",
              "        var display = window.getComputedStyle(gd).display;\n",
              "        if (!display || display === 'none') {{\n",
              "            console.log([gd, 'removed!']);\n",
              "            Plotly.purge(gd);\n",
              "            observer.disconnect();\n",
              "        }}\n",
              "}});\n",
              "\n",
              "// Listen for the removal of the full notebook cells\n",
              "var notebookContainer = gd.closest('#notebook-container');\n",
              "if (notebookContainer) {{\n",
              "    x.observe(notebookContainer, {childList: true});\n",
              "}}\n",
              "\n",
              "// Listen for the clearing of the current output cell\n",
              "var outputEl = gd.closest('.output');\n",
              "if (outputEl) {{\n",
              "    x.observe(outputEl, {childList: true});\n",
              "}}\n",
              "\n",
              "                        })                };                            </script>        </div>\n",
              "</body>\n",
              "</html>"
            ]
          },
          "metadata": {}
        }
      ],
      "source": [
        "fig = px.histogram(shop , x = 'Season' , range_y= [200 , 1500] )\n",
        "\n",
        "fig.show()"
      ]
    },
    {
      "cell_type": "markdown",
      "id": "c235c070-87d6-4827-8a50-f24087bec1b8",
      "metadata": {
        "id": "c235c070-87d6-4827-8a50-f24087bec1b8"
      },
      "source": [
        "## 6 What is the average rating given by customers for each product category?"
      ]
    },
    {
      "cell_type": "code",
      "execution_count": 37,
      "id": "722c8493-1667-4c9a-9d1d-2f5920ccbf43",
      "metadata": {
        "id": "722c8493-1667-4c9a-9d1d-2f5920ccbf43"
      },
      "outputs": [],
      "source": [
        "shop_groupby = shop.groupby('Category')['Review Rating'].mean().reset_index()"
      ]
    },
    {
      "cell_type": "code",
      "execution_count": 38,
      "id": "556a9bf7-4b62-48f1-9d2b-79d5aadfd899",
      "metadata": {
        "colab": {
          "base_uri": "https://localhost:8080/",
          "height": 542
        },
        "id": "556a9bf7-4b62-48f1-9d2b-79d5aadfd899",
        "outputId": "1faec115-08b4-42b1-cb07-bac3b951e28f"
      },
      "outputs": [
        {
          "output_type": "display_data",
          "data": {
            "text/html": [
              "<html>\n",
              "<head><meta charset=\"utf-8\" /></head>\n",
              "<body>\n",
              "    <div>            <script src=\"https://cdnjs.cloudflare.com/ajax/libs/mathjax/2.7.5/MathJax.js?config=TeX-AMS-MML_SVG\"></script><script type=\"text/javascript\">if (window.MathJax && window.MathJax.Hub && window.MathJax.Hub.Config) {window.MathJax.Hub.Config({SVG: {font: \"STIX-Web\"}});}</script>                <script type=\"text/javascript\">window.PlotlyConfig = {MathJaxConfig: 'local'};</script>\n",
              "        <script charset=\"utf-8\" src=\"https://cdn.plot.ly/plotly-2.35.2.min.js\"></script>                <div id=\"93e9cb8c-6d82-4680-885b-5a797cb52f52\" class=\"plotly-graph-div\" style=\"height:525px; width:100%;\"></div>            <script type=\"text/javascript\">                                    window.PLOTLYENV=window.PLOTLYENV || {};                                    if (document.getElementById(\"93e9cb8c-6d82-4680-885b-5a797cb52f52\")) {                    Plotly.newPlot(                        \"93e9cb8c-6d82-4680-885b-5a797cb52f52\",                        [{\"alignmentgroup\":\"True\",\"hovertemplate\":\"Category=%{x}\\u003cbr\\u003eReview Rating=%{y}\\u003cextra\\u003e\\u003c\\u002fextra\\u003e\",\"legendgroup\":\"\",\"marker\":{\"color\":\"#636efa\",\"pattern\":{\"shape\":\"\"}},\"name\":\"\",\"offsetgroup\":\"\",\"orientation\":\"v\",\"showlegend\":false,\"textposition\":\"auto\",\"x\":[\"Accessories\",\"Clothing\",\"Footwear\",\"Outerwear\"],\"xaxis\":\"x\",\"y\":[3.768629032258065,3.7231433506044906,3.790651085141903,3.746913580246914],\"yaxis\":\"y\",\"type\":\"bar\"}],                        {\"template\":{\"data\":{\"histogram2dcontour\":[{\"type\":\"histogram2dcontour\",\"colorbar\":{\"outlinewidth\":0,\"ticks\":\"\"},\"colorscale\":[[0.0,\"#0d0887\"],[0.1111111111111111,\"#46039f\"],[0.2222222222222222,\"#7201a8\"],[0.3333333333333333,\"#9c179e\"],[0.4444444444444444,\"#bd3786\"],[0.5555555555555556,\"#d8576b\"],[0.6666666666666666,\"#ed7953\"],[0.7777777777777778,\"#fb9f3a\"],[0.8888888888888888,\"#fdca26\"],[1.0,\"#f0f921\"]]}],\"choropleth\":[{\"type\":\"choropleth\",\"colorbar\":{\"outlinewidth\":0,\"ticks\":\"\"}}],\"histogram2d\":[{\"type\":\"histogram2d\",\"colorbar\":{\"outlinewidth\":0,\"ticks\":\"\"},\"colorscale\":[[0.0,\"#0d0887\"],[0.1111111111111111,\"#46039f\"],[0.2222222222222222,\"#7201a8\"],[0.3333333333333333,\"#9c179e\"],[0.4444444444444444,\"#bd3786\"],[0.5555555555555556,\"#d8576b\"],[0.6666666666666666,\"#ed7953\"],[0.7777777777777778,\"#fb9f3a\"],[0.8888888888888888,\"#fdca26\"],[1.0,\"#f0f921\"]]}],\"heatmap\":[{\"type\":\"heatmap\",\"colorbar\":{\"outlinewidth\":0,\"ticks\":\"\"},\"colorscale\":[[0.0,\"#0d0887\"],[0.1111111111111111,\"#46039f\"],[0.2222222222222222,\"#7201a8\"],[0.3333333333333333,\"#9c179e\"],[0.4444444444444444,\"#bd3786\"],[0.5555555555555556,\"#d8576b\"],[0.6666666666666666,\"#ed7953\"],[0.7777777777777778,\"#fb9f3a\"],[0.8888888888888888,\"#fdca26\"],[1.0,\"#f0f921\"]]}],\"heatmapgl\":[{\"type\":\"heatmapgl\",\"colorbar\":{\"outlinewidth\":0,\"ticks\":\"\"},\"colorscale\":[[0.0,\"#0d0887\"],[0.1111111111111111,\"#46039f\"],[0.2222222222222222,\"#7201a8\"],[0.3333333333333333,\"#9c179e\"],[0.4444444444444444,\"#bd3786\"],[0.5555555555555556,\"#d8576b\"],[0.6666666666666666,\"#ed7953\"],[0.7777777777777778,\"#fb9f3a\"],[0.8888888888888888,\"#fdca26\"],[1.0,\"#f0f921\"]]}],\"contourcarpet\":[{\"type\":\"contourcarpet\",\"colorbar\":{\"outlinewidth\":0,\"ticks\":\"\"}}],\"contour\":[{\"type\":\"contour\",\"colorbar\":{\"outlinewidth\":0,\"ticks\":\"\"},\"colorscale\":[[0.0,\"#0d0887\"],[0.1111111111111111,\"#46039f\"],[0.2222222222222222,\"#7201a8\"],[0.3333333333333333,\"#9c179e\"],[0.4444444444444444,\"#bd3786\"],[0.5555555555555556,\"#d8576b\"],[0.6666666666666666,\"#ed7953\"],[0.7777777777777778,\"#fb9f3a\"],[0.8888888888888888,\"#fdca26\"],[1.0,\"#f0f921\"]]}],\"surface\":[{\"type\":\"surface\",\"colorbar\":{\"outlinewidth\":0,\"ticks\":\"\"},\"colorscale\":[[0.0,\"#0d0887\"],[0.1111111111111111,\"#46039f\"],[0.2222222222222222,\"#7201a8\"],[0.3333333333333333,\"#9c179e\"],[0.4444444444444444,\"#bd3786\"],[0.5555555555555556,\"#d8576b\"],[0.6666666666666666,\"#ed7953\"],[0.7777777777777778,\"#fb9f3a\"],[0.8888888888888888,\"#fdca26\"],[1.0,\"#f0f921\"]]}],\"mesh3d\":[{\"type\":\"mesh3d\",\"colorbar\":{\"outlinewidth\":0,\"ticks\":\"\"}}],\"scatter\":[{\"fillpattern\":{\"fillmode\":\"overlay\",\"size\":10,\"solidity\":0.2},\"type\":\"scatter\"}],\"parcoords\":[{\"type\":\"parcoords\",\"line\":{\"colorbar\":{\"outlinewidth\":0,\"ticks\":\"\"}}}],\"scatterpolargl\":[{\"type\":\"scatterpolargl\",\"marker\":{\"colorbar\":{\"outlinewidth\":0,\"ticks\":\"\"}}}],\"bar\":[{\"error_x\":{\"color\":\"#2a3f5f\"},\"error_y\":{\"color\":\"#2a3f5f\"},\"marker\":{\"line\":{\"color\":\"#E5ECF6\",\"width\":0.5},\"pattern\":{\"fillmode\":\"overlay\",\"size\":10,\"solidity\":0.2}},\"type\":\"bar\"}],\"scattergeo\":[{\"type\":\"scattergeo\",\"marker\":{\"colorbar\":{\"outlinewidth\":0,\"ticks\":\"\"}}}],\"scatterpolar\":[{\"type\":\"scatterpolar\",\"marker\":{\"colorbar\":{\"outlinewidth\":0,\"ticks\":\"\"}}}],\"histogram\":[{\"marker\":{\"pattern\":{\"fillmode\":\"overlay\",\"size\":10,\"solidity\":0.2}},\"type\":\"histogram\"}],\"scattergl\":[{\"type\":\"scattergl\",\"marker\":{\"colorbar\":{\"outlinewidth\":0,\"ticks\":\"\"}}}],\"scatter3d\":[{\"type\":\"scatter3d\",\"line\":{\"colorbar\":{\"outlinewidth\":0,\"ticks\":\"\"}},\"marker\":{\"colorbar\":{\"outlinewidth\":0,\"ticks\":\"\"}}}],\"scattermapbox\":[{\"type\":\"scattermapbox\",\"marker\":{\"colorbar\":{\"outlinewidth\":0,\"ticks\":\"\"}}}],\"scatterternary\":[{\"type\":\"scatterternary\",\"marker\":{\"colorbar\":{\"outlinewidth\":0,\"ticks\":\"\"}}}],\"scattercarpet\":[{\"type\":\"scattercarpet\",\"marker\":{\"colorbar\":{\"outlinewidth\":0,\"ticks\":\"\"}}}],\"carpet\":[{\"aaxis\":{\"endlinecolor\":\"#2a3f5f\",\"gridcolor\":\"white\",\"linecolor\":\"white\",\"minorgridcolor\":\"white\",\"startlinecolor\":\"#2a3f5f\"},\"baxis\":{\"endlinecolor\":\"#2a3f5f\",\"gridcolor\":\"white\",\"linecolor\":\"white\",\"minorgridcolor\":\"white\",\"startlinecolor\":\"#2a3f5f\"},\"type\":\"carpet\"}],\"table\":[{\"cells\":{\"fill\":{\"color\":\"#EBF0F8\"},\"line\":{\"color\":\"white\"}},\"header\":{\"fill\":{\"color\":\"#C8D4E3\"},\"line\":{\"color\":\"white\"}},\"type\":\"table\"}],\"barpolar\":[{\"marker\":{\"line\":{\"color\":\"#E5ECF6\",\"width\":0.5},\"pattern\":{\"fillmode\":\"overlay\",\"size\":10,\"solidity\":0.2}},\"type\":\"barpolar\"}],\"pie\":[{\"automargin\":true,\"type\":\"pie\"}]},\"layout\":{\"autotypenumbers\":\"strict\",\"colorway\":[\"#636efa\",\"#EF553B\",\"#00cc96\",\"#ab63fa\",\"#FFA15A\",\"#19d3f3\",\"#FF6692\",\"#B6E880\",\"#FF97FF\",\"#FECB52\"],\"font\":{\"color\":\"#2a3f5f\"},\"hovermode\":\"closest\",\"hoverlabel\":{\"align\":\"left\"},\"paper_bgcolor\":\"white\",\"plot_bgcolor\":\"#E5ECF6\",\"polar\":{\"bgcolor\":\"#E5ECF6\",\"angularaxis\":{\"gridcolor\":\"white\",\"linecolor\":\"white\",\"ticks\":\"\"},\"radialaxis\":{\"gridcolor\":\"white\",\"linecolor\":\"white\",\"ticks\":\"\"}},\"ternary\":{\"bgcolor\":\"#E5ECF6\",\"aaxis\":{\"gridcolor\":\"white\",\"linecolor\":\"white\",\"ticks\":\"\"},\"baxis\":{\"gridcolor\":\"white\",\"linecolor\":\"white\",\"ticks\":\"\"},\"caxis\":{\"gridcolor\":\"white\",\"linecolor\":\"white\",\"ticks\":\"\"}},\"coloraxis\":{\"colorbar\":{\"outlinewidth\":0,\"ticks\":\"\"}},\"colorscale\":{\"sequential\":[[0.0,\"#0d0887\"],[0.1111111111111111,\"#46039f\"],[0.2222222222222222,\"#7201a8\"],[0.3333333333333333,\"#9c179e\"],[0.4444444444444444,\"#bd3786\"],[0.5555555555555556,\"#d8576b\"],[0.6666666666666666,\"#ed7953\"],[0.7777777777777778,\"#fb9f3a\"],[0.8888888888888888,\"#fdca26\"],[1.0,\"#f0f921\"]],\"sequentialminus\":[[0.0,\"#0d0887\"],[0.1111111111111111,\"#46039f\"],[0.2222222222222222,\"#7201a8\"],[0.3333333333333333,\"#9c179e\"],[0.4444444444444444,\"#bd3786\"],[0.5555555555555556,\"#d8576b\"],[0.6666666666666666,\"#ed7953\"],[0.7777777777777778,\"#fb9f3a\"],[0.8888888888888888,\"#fdca26\"],[1.0,\"#f0f921\"]],\"diverging\":[[0,\"#8e0152\"],[0.1,\"#c51b7d\"],[0.2,\"#de77ae\"],[0.3,\"#f1b6da\"],[0.4,\"#fde0ef\"],[0.5,\"#f7f7f7\"],[0.6,\"#e6f5d0\"],[0.7,\"#b8e186\"],[0.8,\"#7fbc41\"],[0.9,\"#4d9221\"],[1,\"#276419\"]]},\"xaxis\":{\"gridcolor\":\"white\",\"linecolor\":\"white\",\"ticks\":\"\",\"title\":{\"standoff\":15},\"zerolinecolor\":\"white\",\"automargin\":true,\"zerolinewidth\":2},\"yaxis\":{\"gridcolor\":\"white\",\"linecolor\":\"white\",\"ticks\":\"\",\"title\":{\"standoff\":15},\"zerolinecolor\":\"white\",\"automargin\":true,\"zerolinewidth\":2},\"scene\":{\"xaxis\":{\"backgroundcolor\":\"#E5ECF6\",\"gridcolor\":\"white\",\"linecolor\":\"white\",\"showbackground\":true,\"ticks\":\"\",\"zerolinecolor\":\"white\",\"gridwidth\":2},\"yaxis\":{\"backgroundcolor\":\"#E5ECF6\",\"gridcolor\":\"white\",\"linecolor\":\"white\",\"showbackground\":true,\"ticks\":\"\",\"zerolinecolor\":\"white\",\"gridwidth\":2},\"zaxis\":{\"backgroundcolor\":\"#E5ECF6\",\"gridcolor\":\"white\",\"linecolor\":\"white\",\"showbackground\":true,\"ticks\":\"\",\"zerolinecolor\":\"white\",\"gridwidth\":2}},\"shapedefaults\":{\"line\":{\"color\":\"#2a3f5f\"}},\"annotationdefaults\":{\"arrowcolor\":\"#2a3f5f\",\"arrowhead\":0,\"arrowwidth\":1},\"geo\":{\"bgcolor\":\"white\",\"landcolor\":\"#E5ECF6\",\"subunitcolor\":\"white\",\"showland\":true,\"showlakes\":true,\"lakecolor\":\"white\"},\"title\":{\"x\":0.05},\"mapbox\":{\"style\":\"light\"}}},\"xaxis\":{\"anchor\":\"y\",\"domain\":[0.0,1.0],\"title\":{\"text\":\"Category\"}},\"yaxis\":{\"anchor\":\"x\",\"domain\":[0.0,1.0],\"title\":{\"text\":\"Review Rating\"}},\"legend\":{\"tracegroupgap\":0},\"margin\":{\"t\":60},\"barmode\":\"relative\"},                        {\"responsive\": true}                    ).then(function(){\n",
              "                            \n",
              "var gd = document.getElementById('93e9cb8c-6d82-4680-885b-5a797cb52f52');\n",
              "var x = new MutationObserver(function (mutations, observer) {{\n",
              "        var display = window.getComputedStyle(gd).display;\n",
              "        if (!display || display === 'none') {{\n",
              "            console.log([gd, 'removed!']);\n",
              "            Plotly.purge(gd);\n",
              "            observer.disconnect();\n",
              "        }}\n",
              "}});\n",
              "\n",
              "// Listen for the removal of the full notebook cells\n",
              "var notebookContainer = gd.closest('#notebook-container');\n",
              "if (notebookContainer) {{\n",
              "    x.observe(notebookContainer, {childList: true});\n",
              "}}\n",
              "\n",
              "// Listen for the clearing of the current output cell\n",
              "var outputEl = gd.closest('.output');\n",
              "if (outputEl) {{\n",
              "    x.observe(outputEl, {childList: true});\n",
              "}}\n",
              "\n",
              "                        })                };                            </script>        </div>\n",
              "</body>\n",
              "</html>"
            ]
          },
          "metadata": {}
        }
      ],
      "source": [
        "fig = px.bar(shop_groupby ,x= 'Category' , y = 'Review Rating' )\n",
        "fig.show()"
      ]
    },
    {
      "cell_type": "markdown",
      "id": "a570bf66-e2d2-4ff8-85dc-94803636672b",
      "metadata": {
        "id": "a570bf66-e2d2-4ff8-85dc-94803636672b"
      },
      "source": [
        "## 7 Are there any notable differences in purchase behavior between subscribed and non-subscribed customers?"
      ]
    },
    {
      "cell_type": "code",
      "execution_count": 39,
      "id": "2bdc867b-9c3a-4312-98fa-922a00b8c5e8",
      "metadata": {
        "colab": {
          "base_uri": "https://localhost:8080/"
        },
        "id": "2bdc867b-9c3a-4312-98fa-922a00b8c5e8",
        "outputId": "8c3fc1d9-dfa0-4882-a589-bf4a33c8057b"
      },
      "outputs": [
        {
          "output_type": "execute_result",
          "data": {
            "text/plain": [
              "Index(['Customer ID', 'Age', 'Gender', 'Item Purchased', 'Category',\n",
              "       'Purchase Amount (USD)', 'Location', 'Size', 'Color', 'Season',\n",
              "       'Review Rating', 'Subscription Status', 'Shipping Type',\n",
              "       'Discount Applied', 'Promo Code Used', 'Previous Purchases',\n",
              "       'Payment Method', 'Frequency of Purchases', 'Age_category'],\n",
              "      dtype='object')"
            ]
          },
          "metadata": {},
          "execution_count": 39
        }
      ],
      "source": [
        "shop.columns"
      ]
    },
    {
      "cell_type": "code",
      "execution_count": 40,
      "id": "b8c0a3e7-ac5e-49a8-bf65-cfd50b382eef",
      "metadata": {
        "colab": {
          "base_uri": "https://localhost:8080/"
        },
        "id": "b8c0a3e7-ac5e-49a8-bf65-cfd50b382eef",
        "outputId": "e47f657d-2084-49e0-c7ae-9b728fdbb467"
      },
      "outputs": [
        {
          "output_type": "execute_result",
          "data": {
            "text/plain": [
              "array(['Yes', 'No'], dtype=object)"
            ]
          },
          "metadata": {},
          "execution_count": 40
        }
      ],
      "source": [
        "shop['Subscription Status'].unique()"
      ]
    },
    {
      "cell_type": "code",
      "execution_count": 41,
      "id": "66f9f71e-0987-4bdf-84f1-aab74d91bc5f",
      "metadata": {
        "colab": {
          "base_uri": "https://localhost:8080/",
          "height": 466
        },
        "id": "66f9f71e-0987-4bdf-84f1-aab74d91bc5f",
        "outputId": "3f5c4ddc-b3a3-4db0-f451-93260510ac96"
      },
      "outputs": [
        {
          "output_type": "execute_result",
          "data": {
            "text/plain": [
              "<Axes: xlabel='Subscription Status', ylabel='Purchase Amount (USD)'>"
            ]
          },
          "metadata": {},
          "execution_count": 41
        },
        {
          "output_type": "display_data",
          "data": {
            "text/plain": [
              "<Figure size 640x480 with 1 Axes>"
            ],
            "image/png": "[encoded data removed]"
          },
          "metadata": {}
        }
      ],
      "source": [
        "sns.barplot(shop  , x = 'Subscription Status' , y = 'Purchase Amount (USD)')"
      ]
    },
    {
      "cell_type": "code",
      "execution_count": 42,
      "id": "5e13b268-37d9-42dc-80eb-8d6a5b99d537",
      "metadata": {
        "id": "5e13b268-37d9-42dc-80eb-8d6a5b99d537",
        "outputId": "34a6677a-75e8-4302-971a-e32d69ab269e",
        "colab": {
          "base_uri": "https://localhost:8080/"
        }
      },
      "outputs": [
        {
          "output_type": "execute_result",
          "data": {
            "text/plain": [
              "233081"
            ]
          },
          "metadata": {},
          "execution_count": 42
        }
      ],
      "source": [
        "shop['Purchase Amount (USD)'].sum()"
      ]
    },
    {
      "cell_type": "code",
      "execution_count": 43,
      "id": "eff4c43b-6864-41d0-98df-ccfd84909335",
      "metadata": {
        "id": "eff4c43b-6864-41d0-98df-ccfd84909335",
        "outputId": "717c8d02-73e0-43ba-f1aa-b33cd2062958",
        "colab": {
          "base_uri": "https://localhost:8080/",
          "height": 178
        }
      },
      "outputs": [
        {
          "output_type": "execute_result",
          "data": {
            "text/plain": [
              "Subscription Status\n",
              "No     59.865121\n",
              "Yes    59.491928\n",
              "Name: Purchase Amount (USD), dtype: float64"
            ],
            "text/html": [
              "<div>\n",
              "<style scoped>\n",
              "    .dataframe tbody tr th:only-of-type {\n",
              "        vertical-align: middle;\n",
              "    }\n",
              "\n",
              "    .dataframe tbody tr th {\n",
              "        vertical-align: top;\n",
              "    }\n",
              "\n",
              "    .dataframe thead th {\n",
              "        text-align: right;\n",
              "    }\n",
              "</style>\n",
              "<table border=\"1\" class=\"dataframe\">\n",
              "  <thead>\n",
              "    <tr style=\"text-align: right;\">\n",
              "      <th></th>\n",
              "      <th>Purchase Amount (USD)</th>\n",
              "    </tr>\n",
              "    <tr>\n",
              "      <th>Subscription Status</th>\n",
              "      <th></th>\n",
              "    </tr>\n",
              "  </thead>\n",
              "  <tbody>\n",
              "    <tr>\n",
              "      <th>No</th>\n",
              "      <td>59.865121</td>\n",
              "    </tr>\n",
              "    <tr>\n",
              "      <th>Yes</th>\n",
              "      <td>59.491928</td>\n",
              "    </tr>\n",
              "  </tbody>\n",
              "</table>\n",
              "</div><br><label><b>dtype:</b> float64</label>"
            ]
          },
          "metadata": {},
          "execution_count": 43
        }
      ],
      "source": [
        "shop.groupby('Subscription Status')['Purchase Amount (USD)'].mean()"
      ]
    },
    {
      "cell_type": "markdown",
      "id": "e1608fa3-f31e-48dd-afed-d411eed3b5c8",
      "metadata": {
        "id": "e1608fa3-f31e-48dd-afed-d411eed3b5c8"
      },
      "source": [
        "## 8 Which payment method is the most popular among customers?"
      ]
    },
    {
      "cell_type": "code",
      "execution_count": 44,
      "id": "b206efc9-b92c-49d5-9a93-7246a360da71",
      "metadata": {
        "id": "b206efc9-b92c-49d5-9a93-7246a360da71",
        "outputId": "5b7198e9-8693-44b1-9ff2-b93add87ae61",
        "colab": {
          "base_uri": "https://localhost:8080/",
          "height": 304
        }
      },
      "outputs": [
        {
          "output_type": "execute_result",
          "data": {
            "text/plain": [
              "Payment Method\n",
              "Debit Card       60.915094\n",
              "Credit Card      60.074516\n",
              "Bank Transfer    59.712418\n",
              "Cash             59.704478\n",
              "PayPal           59.245199\n",
              "Venmo            58.949527\n",
              "Name: Purchase Amount (USD), dtype: float64"
            ],
            "text/html": [
              "<div>\n",
              "<style scoped>\n",
              "    .dataframe tbody tr th:only-of-type {\n",
              "        vertical-align: middle;\n",
              "    }\n",
              "\n",
              "    .dataframe tbody tr th {\n",
              "        vertical-align: top;\n",
              "    }\n",
              "\n",
              "    .dataframe thead th {\n",
              "        text-align: right;\n",
              "    }\n",
              "</style>\n",
              "<table border=\"1\" class=\"dataframe\">\n",
              "  <thead>\n",
              "    <tr style=\"text-align: right;\">\n",
              "      <th></th>\n",
              "      <th>Purchase Amount (USD)</th>\n",
              "    </tr>\n",
              "    <tr>\n",
              "      <th>Payment Method</th>\n",
              "      <th></th>\n",
              "    </tr>\n",
              "  </thead>\n",
              "  <tbody>\n",
              "    <tr>\n",
              "      <th>Debit Card</th>\n",
              "      <td>60.915094</td>\n",
              "    </tr>\n",
              "    <tr>\n",
              "      <th>Credit Card</th>\n",
              "      <td>60.074516</td>\n",
              "    </tr>\n",
              "    <tr>\n",
              "      <th>Bank Transfer</th>\n",
              "      <td>59.712418</td>\n",
              "    </tr>\n",
              "    <tr>\n",
              "      <th>Cash</th>\n",
              "      <td>59.704478</td>\n",
              "    </tr>\n",
              "    <tr>\n",
              "      <th>PayPal</th>\n",
              "      <td>59.245199</td>\n",
              "    </tr>\n",
              "    <tr>\n",
              "      <th>Venmo</th>\n",
              "      <td>58.949527</td>\n",
              "    </tr>\n",
              "  </tbody>\n",
              "</table>\n",
              "</div><br><label><b>dtype:</b> float64</label>"
            ]
          },
          "metadata": {},
          "execution_count": 44
        }
      ],
      "source": [
        "shop.groupby('Payment Method')['Purchase Amount (USD)'].mean().sort_values(ascending= False)"
      ]
    },
    {
      "cell_type": "code",
      "execution_count": 45,
      "id": "179f61b2-4598-45a9-8809-37838d2631fc",
      "metadata": {
        "id": "179f61b2-4598-45a9-8809-37838d2631fc"
      },
      "outputs": [],
      "source": [
        "shop_groupby = shop.groupby('Payment Method')['Purchase Amount (USD)'].mean().reset_index()"
      ]
    },
    {
      "cell_type": "code",
      "execution_count": 46,
      "id": "92fc2bac-bdcb-4323-ae0a-4449838b83ba",
      "metadata": {
        "id": "92fc2bac-bdcb-4323-ae0a-4449838b83ba",
        "outputId": "5afa277f-af3a-44b8-9c6f-d30235b1850d",
        "colab": {
          "base_uri": "https://localhost:8080/",
          "height": 542
        }
      },
      "outputs": [
        {
          "output_type": "display_data",
          "data": {
            "text/html": [
              "<html>\n",
              "<head><meta charset=\"utf-8\" /></head>\n",
              "<body>\n",
              "    <div>            <script src=\"https://cdnjs.cloudflare.com/ajax/libs/mathjax/2.7.5/MathJax.js?config=TeX-AMS-MML_SVG\"></script><script type=\"text/javascript\">if (window.MathJax && window.MathJax.Hub && window.MathJax.Hub.Config) {window.MathJax.Hub.Config({SVG: {font: \"STIX-Web\"}});}</script>                <script type=\"text/javascript\">window.PlotlyConfig = {MathJaxConfig: 'local'};</script>\n",
              "        <script charset=\"utf-8\" src=\"https://cdn.plot.ly/plotly-2.35.2.min.js\"></script>                <div id=\"7cfebbb0-ec84-4027-b3cf-660c5141d92e\" class=\"plotly-graph-div\" style=\"height:525px; width:100%;\"></div>            <script type=\"text/javascript\">                                    window.PLOTLYENV=window.PLOTLYENV || {};                                    if (document.getElementById(\"7cfebbb0-ec84-4027-b3cf-660c5141d92e\")) {                    Plotly.newPlot(                        \"7cfebbb0-ec84-4027-b3cf-660c5141d92e\",                        [{\"alignmentgroup\":\"True\",\"hovertemplate\":\"Payment Method=%{x}\\u003cbr\\u003ePurchase Amount (USD)=%{y}\\u003cextra\\u003e\\u003c\\u002fextra\\u003e\",\"legendgroup\":\"\",\"marker\":{\"color\":\"#636efa\",\"pattern\":{\"shape\":\"\"}},\"name\":\"\",\"offsetgroup\":\"\",\"orientation\":\"v\",\"showlegend\":false,\"textposition\":\"auto\",\"x\":[\"Bank Transfer\",\"Cash\",\"Credit Card\",\"Debit Card\",\"PayPal\",\"Venmo\"],\"xaxis\":\"x\",\"y\":[59.712418300653596,59.7044776119403,60.07451564828614,60.91509433962264,59.24519940915805,58.94952681388013],\"yaxis\":\"y\",\"type\":\"bar\"}],                        {\"template\":{\"data\":{\"histogram2dcontour\":[{\"type\":\"histogram2dcontour\",\"colorbar\":{\"outlinewidth\":0,\"ticks\":\"\"},\"colorscale\":[[0.0,\"#0d0887\"],[0.1111111111111111,\"#46039f\"],[0.2222222222222222,\"#7201a8\"],[0.3333333333333333,\"#9c179e\"],[0.4444444444444444,\"#bd3786\"],[0.5555555555555556,\"#d8576b\"],[0.6666666666666666,\"#ed7953\"],[0.7777777777777778,\"#fb9f3a\"],[0.8888888888888888,\"#fdca26\"],[1.0,\"#f0f921\"]]}],\"choropleth\":[{\"type\":\"choropleth\",\"colorbar\":{\"outlinewidth\":0,\"ticks\":\"\"}}],\"histogram2d\":[{\"type\":\"histogram2d\",\"colorbar\":{\"outlinewidth\":0,\"ticks\":\"\"},\"colorscale\":[[0.0,\"#0d0887\"],[0.1111111111111111,\"#46039f\"],[0.2222222222222222,\"#7201a8\"],[0.3333333333333333,\"#9c179e\"],[0.4444444444444444,\"#bd3786\"],[0.5555555555555556,\"#d8576b\"],[0.6666666666666666,\"#ed7953\"],[0.7777777777777778,\"#fb9f3a\"],[0.8888888888888888,\"#fdca26\"],[1.0,\"#f0f921\"]]}],\"heatmap\":[{\"type\":\"heatmap\",\"colorbar\":{\"outlinewidth\":0,\"ticks\":\"\"},\"colorscale\":[[0.0,\"#0d0887\"],[0.1111111111111111,\"#46039f\"],[0.2222222222222222,\"#7201a8\"],[0.3333333333333333,\"#9c179e\"],[0.4444444444444444,\"#bd3786\"],[0.5555555555555556,\"#d8576b\"],[0.6666666666666666,\"#ed7953\"],[0.7777777777777778,\"#fb9f3a\"],[0.8888888888888888,\"#fdca26\"],[1.0,\"#f0f921\"]]}],\"heatmapgl\":[{\"type\":\"heatmapgl\",\"colorbar\":{\"outlinewidth\":0,\"ticks\":\"\"},\"colorscale\":[[0.0,\"#0d0887\"],[0.1111111111111111,\"#46039f\"],[0.2222222222222222,\"#7201a8\"],[0.3333333333333333,\"#9c179e\"],[0.4444444444444444,\"#bd3786\"],[0.5555555555555556,\"#d8576b\"],[0.6666666666666666,\"#ed7953\"],[0.7777777777777778,\"#fb9f3a\"],[0.8888888888888888,\"#fdca26\"],[1.0,\"#f0f921\"]]}],\"contourcarpet\":[{\"type\":\"contourcarpet\",\"colorbar\":{\"outlinewidth\":0,\"ticks\":\"\"}}],\"contour\":[{\"type\":\"contour\",\"colorbar\":{\"outlinewidth\":0,\"ticks\":\"\"},\"colorscale\":[[0.0,\"#0d0887\"],[0.1111111111111111,\"#46039f\"],[0.2222222222222222,\"#7201a8\"],[0.3333333333333333,\"#9c179e\"],[0.4444444444444444,\"#bd3786\"],[0.5555555555555556,\"#d8576b\"],[0.6666666666666666,\"#ed7953\"],[0.7777777777777778,\"#fb9f3a\"],[0.8888888888888888,\"#fdca26\"],[1.0,\"#f0f921\"]]}],\"surface\":[{\"type\":\"surface\",\"colorbar\":{\"outlinewidth\":0,\"ticks\":\"\"},\"colorscale\":[[0.0,\"#0d0887\"],[0.1111111111111111,\"#46039f\"],[0.2222222222222222,\"#7201a8\"],[0.3333333333333333,\"#9c179e\"],[0.4444444444444444,\"#bd3786\"],[0.5555555555555556,\"#d8576b\"],[0.6666666666666666,\"#ed7953\"],[0.7777777777777778,\"#fb9f3a\"],[0.8888888888888888,\"#fdca26\"],[1.0,\"#f0f921\"]]}],\"mesh3d\":[{\"type\":\"mesh3d\",\"colorbar\":{\"outlinewidth\":0,\"ticks\":\"\"}}],\"scatter\":[{\"fillpattern\":{\"fillmode\":\"overlay\",\"size\":10,\"solidity\":0.2},\"type\":\"scatter\"}],\"parcoords\":[{\"type\":\"parcoords\",\"line\":{\"colorbar\":{\"outlinewidth\":0,\"ticks\":\"\"}}}],\"scatterpolargl\":[{\"type\":\"scatterpolargl\",\"marker\":{\"colorbar\":{\"outlinewidth\":0,\"ticks\":\"\"}}}],\"bar\":[{\"error_x\":{\"color\":\"#2a3f5f\"},\"error_y\":{\"color\":\"#2a3f5f\"},\"marker\":{\"line\":{\"color\":\"#E5ECF6\",\"width\":0.5},\"pattern\":{\"fillmode\":\"overlay\",\"size\":10,\"solidity\":0.2}},\"type\":\"bar\"}],\"scattergeo\":[{\"type\":\"scattergeo\",\"marker\":{\"colorbar\":{\"outlinewidth\":0,\"ticks\":\"\"}}}],\"scatterpolar\":[{\"type\":\"scatterpolar\",\"marker\":{\"colorbar\":{\"outlinewidth\":0,\"ticks\":\"\"}}}],\"histogram\":[{\"marker\":{\"pattern\":{\"fillmode\":\"overlay\",\"size\":10,\"solidity\":0.2}},\"type\":\"histogram\"}],\"scattergl\":[{\"type\":\"scattergl\",\"marker\":{\"colorbar\":{\"outlinewidth\":0,\"ticks\":\"\"}}}],\"scatter3d\":[{\"type\":\"scatter3d\",\"line\":{\"colorbar\":{\"outlinewidth\":0,\"ticks\":\"\"}},\"marker\":{\"colorbar\":{\"outlinewidth\":0,\"ticks\":\"\"}}}],\"scattermapbox\":[{\"type\":\"scattermapbox\",\"marker\":{\"colorbar\":{\"outlinewidth\":0,\"ticks\":\"\"}}}],\"scatterternary\":[{\"type\":\"scatterternary\",\"marker\":{\"colorbar\":{\"outlinewidth\":0,\"ticks\":\"\"}}}],\"scattercarpet\":[{\"type\":\"scattercarpet\",\"marker\":{\"colorbar\":{\"outlinewidth\":0,\"ticks\":\"\"}}}],\"carpet\":[{\"aaxis\":{\"endlinecolor\":\"#2a3f5f\",\"gridcolor\":\"white\",\"linecolor\":\"white\",\"minorgridcolor\":\"white\",\"startlinecolor\":\"#2a3f5f\"},\"baxis\":{\"endlinecolor\":\"#2a3f5f\",\"gridcolor\":\"white\",\"linecolor\":\"white\",\"minorgridcolor\":\"white\",\"startlinecolor\":\"#2a3f5f\"},\"type\":\"carpet\"}],\"table\":[{\"cells\":{\"fill\":{\"color\":\"#EBF0F8\"},\"line\":{\"color\":\"white\"}},\"header\":{\"fill\":{\"color\":\"#C8D4E3\"},\"line\":{\"color\":\"white\"}},\"type\":\"table\"}],\"barpolar\":[{\"marker\":{\"line\":{\"color\":\"#E5ECF6\",\"width\":0.5},\"pattern\":{\"fillmode\":\"overlay\",\"size\":10,\"solidity\":0.2}},\"type\":\"barpolar\"}],\"pie\":[{\"automargin\":true,\"type\":\"pie\"}]},\"layout\":{\"autotypenumbers\":\"strict\",\"colorway\":[\"#636efa\",\"#EF553B\",\"#00cc96\",\"#ab63fa\",\"#FFA15A\",\"#19d3f3\",\"#FF6692\",\"#B6E880\",\"#FF97FF\",\"#FECB52\"],\"font\":{\"color\":\"#2a3f5f\"},\"hovermode\":\"closest\",\"hoverlabel\":{\"align\":\"left\"},\"paper_bgcolor\":\"white\",\"plot_bgcolor\":\"#E5ECF6\",\"polar\":{\"bgcolor\":\"#E5ECF6\",\"angularaxis\":{\"gridcolor\":\"white\",\"linecolor\":\"white\",\"ticks\":\"\"},\"radialaxis\":{\"gridcolor\":\"white\",\"linecolor\":\"white\",\"ticks\":\"\"}},\"ternary\":{\"bgcolor\":\"#E5ECF6\",\"aaxis\":{\"gridcolor\":\"white\",\"linecolor\":\"white\",\"ticks\":\"\"},\"baxis\":{\"gridcolor\":\"white\",\"linecolor\":\"white\",\"ticks\":\"\"},\"caxis\":{\"gridcolor\":\"white\",\"linecolor\":\"white\",\"ticks\":\"\"}},\"coloraxis\":{\"colorbar\":{\"outlinewidth\":0,\"ticks\":\"\"}},\"colorscale\":{\"sequential\":[[0.0,\"#0d0887\"],[0.1111111111111111,\"#46039f\"],[0.2222222222222222,\"#7201a8\"],[0.3333333333333333,\"#9c179e\"],[0.4444444444444444,\"#bd3786\"],[0.5555555555555556,\"#d8576b\"],[0.6666666666666666,\"#ed7953\"],[0.7777777777777778,\"#fb9f3a\"],[0.8888888888888888,\"#fdca26\"],[1.0,\"#f0f921\"]],\"sequentialminus\":[[0.0,\"#0d0887\"],[0.1111111111111111,\"#46039f\"],[0.2222222222222222,\"#7201a8\"],[0.3333333333333333,\"#9c179e\"],[0.4444444444444444,\"#bd3786\"],[0.5555555555555556,\"#d8576b\"],[0.6666666666666666,\"#ed7953\"],[0.7777777777777778,\"#fb9f3a\"],[0.8888888888888888,\"#fdca26\"],[1.0,\"#f0f921\"]],\"diverging\":[[0,\"#8e0152\"],[0.1,\"#c51b7d\"],[0.2,\"#de77ae\"],[0.3,\"#f1b6da\"],[0.4,\"#fde0ef\"],[0.5,\"#f7f7f7\"],[0.6,\"#e6f5d0\"],[0.7,\"#b8e186\"],[0.8,\"#7fbc41\"],[0.9,\"#4d9221\"],[1,\"#276419\"]]},\"xaxis\":{\"gridcolor\":\"white\",\"linecolor\":\"white\",\"ticks\":\"\",\"title\":{\"standoff\":15},\"zerolinecolor\":\"white\",\"automargin\":true,\"zerolinewidth\":2},\"yaxis\":{\"gridcolor\":\"white\",\"linecolor\":\"white\",\"ticks\":\"\",\"title\":{\"standoff\":15},\"zerolinecolor\":\"white\",\"automargin\":true,\"zerolinewidth\":2},\"scene\":{\"xaxis\":{\"backgroundcolor\":\"#E5ECF6\",\"gridcolor\":\"white\",\"linecolor\":\"white\",\"showbackground\":true,\"ticks\":\"\",\"zerolinecolor\":\"white\",\"gridwidth\":2},\"yaxis\":{\"backgroundcolor\":\"#E5ECF6\",\"gridcolor\":\"white\",\"linecolor\":\"white\",\"showbackground\":true,\"ticks\":\"\",\"zerolinecolor\":\"white\",\"gridwidth\":2},\"zaxis\":{\"backgroundcolor\":\"#E5ECF6\",\"gridcolor\":\"white\",\"linecolor\":\"white\",\"showbackground\":true,\"ticks\":\"\",\"zerolinecolor\":\"white\",\"gridwidth\":2}},\"shapedefaults\":{\"line\":{\"color\":\"#2a3f5f\"}},\"annotationdefaults\":{\"arrowcolor\":\"#2a3f5f\",\"arrowhead\":0,\"arrowwidth\":1},\"geo\":{\"bgcolor\":\"white\",\"landcolor\":\"#E5ECF6\",\"subunitcolor\":\"white\",\"showland\":true,\"showlakes\":true,\"lakecolor\":\"white\"},\"title\":{\"x\":0.05},\"mapbox\":{\"style\":\"light\"}}},\"xaxis\":{\"anchor\":\"y\",\"domain\":[0.0,1.0],\"title\":{\"text\":\"Payment Method\"}},\"yaxis\":{\"anchor\":\"x\",\"domain\":[0.0,1.0],\"title\":{\"text\":\"Purchase Amount (USD)\"}},\"legend\":{\"tracegroupgap\":0},\"margin\":{\"t\":60},\"barmode\":\"relative\"},                        {\"responsive\": true}                    ).then(function(){\n",
              "                            \n",
              "var gd = document.getElementById('7cfebbb0-ec84-4027-b3cf-660c5141d92e');\n",
              "var x = new MutationObserver(function (mutations, observer) {{\n",
              "        var display = window.getComputedStyle(gd).display;\n",
              "        if (!display || display === 'none') {{\n",
              "            console.log([gd, 'removed!']);\n",
              "            Plotly.purge(gd);\n",
              "            observer.disconnect();\n",
              "        }}\n",
              "}});\n",
              "\n",
              "// Listen for the removal of the full notebook cells\n",
              "var notebookContainer = gd.closest('#notebook-container');\n",
              "if (notebookContainer) {{\n",
              "    x.observe(notebookContainer, {childList: true});\n",
              "}}\n",
              "\n",
              "// Listen for the clearing of the current output cell\n",
              "var outputEl = gd.closest('.output');\n",
              "if (outputEl) {{\n",
              "    x.observe(outputEl, {childList: true});\n",
              "}}\n",
              "\n",
              "                        })                };                            </script>        </div>\n",
              "</body>\n",
              "</html>"
            ]
          },
          "metadata": {}
        }
      ],
      "source": [
        "fig = px.bar(shop_groupby , x = 'Payment Method' , y = 'Purchase Amount (USD)')\n",
        "fig.show()"
      ]
    },
    {
      "cell_type": "code",
      "execution_count": 47,
      "id": "a4fc1e99-996a-473f-a3b2-d4e48f29c299",
      "metadata": {
        "id": "a4fc1e99-996a-473f-a3b2-d4e48f29c299",
        "outputId": "df57c3fe-e940-4480-bbba-36cf63033b82",
        "colab": {
          "base_uri": "https://localhost:8080/",
          "height": 466
        }
      },
      "outputs": [
        {
          "output_type": "execute_result",
          "data": {
            "text/plain": [
              "<Axes: xlabel='Payment Method', ylabel='Purchase Amount (USD)'>"
            ]
          },
          "metadata": {},
          "execution_count": 47
        },
        {
          "output_type": "display_data",
          "data": {
            "text/plain": [
              "<Figure size 640x480 with 1 Axes>"
            ],
            "image/png": "[encoded data removed]"
          },
          "metadata": {}
        }
      ],
      "source": [
        "sns.barplot(shop ,x='Payment Method' , y = 'Purchase Amount (USD)')"
      ]
    },
    {
      "cell_type": "markdown",
      "id": "3fe09b80-bcba-4005-96ca-c12b735a6e12",
      "metadata": {
        "id": "3fe09b80-bcba-4005-96ca-c12b735a6e12"
      },
      "source": [
        "## 9 Do customers who use promo codes tend to spend more than those who don't?"
      ]
    },
    {
      "cell_type": "code",
      "execution_count": 48,
      "id": "d4091829-925b-45a6-bcab-9dac0e17653b",
      "metadata": {
        "id": "d4091829-925b-45a6-bcab-9dac0e17653b"
      },
      "outputs": [],
      "source": [
        "shop_groupby  = shop.groupby('Promo Code Used')['Purchase Amount (USD)'].sum().reset_index()"
      ]
    },
    {
      "cell_type": "code",
      "execution_count": 49,
      "id": "c6622e5d-d561-45ae-8638-7c2103be7030",
      "metadata": {
        "id": "c6622e5d-d561-45ae-8638-7c2103be7030",
        "outputId": "a7f1866e-3fb6-44fb-d9c6-8e66d3f48686",
        "colab": {
          "base_uri": "https://localhost:8080/",
          "height": 542
        }
      },
      "outputs": [
        {
          "output_type": "display_data",
          "data": {
            "text/html": [
              "<html>\n",
              "<head><meta charset=\"utf-8\" /></head>\n",
              "<body>\n",
              "    <div>            <script src=\"https://cdnjs.cloudflare.com/ajax/libs/mathjax/2.7.5/MathJax.js?config=TeX-AMS-MML_SVG\"></script><script type=\"text/javascript\">if (window.MathJax && window.MathJax.Hub && window.MathJax.Hub.Config) {window.MathJax.Hub.Config({SVG: {font: \"STIX-Web\"}});}</script>                <script type=\"text/javascript\">window.PlotlyConfig = {MathJaxConfig: 'local'};</script>\n",
              "        <script charset=\"utf-8\" src=\"https://cdn.plot.ly/plotly-2.35.2.min.js\"></script>                <div id=\"50dc8001-ee13-4a8c-9c07-60a9c58929dd\" class=\"plotly-graph-div\" style=\"height:525px; width:100%;\"></div>            <script type=\"text/javascript\">                                    window.PLOTLYENV=window.PLOTLYENV || {};                                    if (document.getElementById(\"50dc8001-ee13-4a8c-9c07-60a9c58929dd\")) {                    Plotly.newPlot(                        \"50dc8001-ee13-4a8c-9c07-60a9c58929dd\",                        [{\"branchvalues\":\"total\",\"domain\":{\"x\":[0.0,1.0],\"y\":[0.0,1.0]},\"hovertemplate\":\"labels=%{label}\\u003cbr\\u003ePurchase Amount (USD)=%{value}\\u003cbr\\u003eparent=%{parent}\\u003cbr\\u003eid=%{id}\\u003cextra\\u003e\\u003c\\u002fextra\\u003e\",\"ids\":[\"Female\\u002fNo\",\"Male\\u002fNo\",\"Male\\u002fYes\",\"Female\",\"Male\"],\"labels\":[\"No\",\"No\",\"Yes\",\"Female\",\"Male\"],\"name\":\"\",\"parents\":[\"Female\",\"Male\",\"Male\",\"\",\"\"],\"values\":[75191,58479,99411,75191,157890],\"type\":\"sunburst\"}],                        {\"template\":{\"data\":{\"histogram2dcontour\":[{\"type\":\"histogram2dcontour\",\"colorbar\":{\"outlinewidth\":0,\"ticks\":\"\"},\"colorscale\":[[0.0,\"#0d0887\"],[0.1111111111111111,\"#46039f\"],[0.2222222222222222,\"#7201a8\"],[0.3333333333333333,\"#9c179e\"],[0.4444444444444444,\"#bd3786\"],[0.5555555555555556,\"#d8576b\"],[0.6666666666666666,\"#ed7953\"],[0.7777777777777778,\"#fb9f3a\"],[0.8888888888888888,\"#fdca26\"],[1.0,\"#f0f921\"]]}],\"choropleth\":[{\"type\":\"choropleth\",\"colorbar\":{\"outlinewidth\":0,\"ticks\":\"\"}}],\"histogram2d\":[{\"type\":\"histogram2d\",\"colorbar\":{\"outlinewidth\":0,\"ticks\":\"\"},\"colorscale\":[[0.0,\"#0d0887\"],[0.1111111111111111,\"#46039f\"],[0.2222222222222222,\"#7201a8\"],[0.3333333333333333,\"#9c179e\"],[0.4444444444444444,\"#bd3786\"],[0.5555555555555556,\"#d8576b\"],[0.6666666666666666,\"#ed7953\"],[0.7777777777777778,\"#fb9f3a\"],[0.8888888888888888,\"#fdca26\"],[1.0,\"#f0f921\"]]}],\"heatmap\":[{\"type\":\"heatmap\",\"colorbar\":{\"outlinewidth\":0,\"ticks\":\"\"},\"colorscale\":[[0.0,\"#0d0887\"],[0.1111111111111111,\"#46039f\"],[0.2222222222222222,\"#7201a8\"],[0.3333333333333333,\"#9c179e\"],[0.4444444444444444,\"#bd3786\"],[0.5555555555555556,\"#d8576b\"],[0.6666666666666666,\"#ed7953\"],[0.7777777777777778,\"#fb9f3a\"],[0.8888888888888888,\"#fdca26\"],[1.0,\"#f0f921\"]]}],\"heatmapgl\":[{\"type\":\"heatmapgl\",\"colorbar\":{\"outlinewidth\":0,\"ticks\":\"\"},\"colorscale\":[[0.0,\"#0d0887\"],[0.1111111111111111,\"#46039f\"],[0.2222222222222222,\"#7201a8\"],[0.3333333333333333,\"#9c179e\"],[0.4444444444444444,\"#bd3786\"],[0.5555555555555556,\"#d8576b\"],[0.6666666666666666,\"#ed7953\"],[0.7777777777777778,\"#fb9f3a\"],[0.8888888888888888,\"#fdca26\"],[1.0,\"#f0f921\"]]}],\"contourcarpet\":[{\"type\":\"contourcarpet\",\"colorbar\":{\"outlinewidth\":0,\"ticks\":\"\"}}],\"contour\":[{\"type\":\"contour\",\"colorbar\":{\"outlinewidth\":0,\"ticks\":\"\"},\"colorscale\":[[0.0,\"#0d0887\"],[0.1111111111111111,\"#46039f\"],[0.2222222222222222,\"#7201a8\"],[0.3333333333333333,\"#9c179e\"],[0.4444444444444444,\"#bd3786\"],[0.5555555555555556,\"#d8576b\"],[0.6666666666666666,\"#ed7953\"],[0.7777777777777778,\"#fb9f3a\"],[0.8888888888888888,\"#fdca26\"],[1.0,\"#f0f921\"]]}],\"surface\":[{\"type\":\"surface\",\"colorbar\":{\"outlinewidth\":0,\"ticks\":\"\"},\"colorscale\":[[0.0,\"#0d0887\"],[0.1111111111111111,\"#46039f\"],[0.2222222222222222,\"#7201a8\"],[0.3333333333333333,\"#9c179e\"],[0.4444444444444444,\"#bd3786\"],[0.5555555555555556,\"#d8576b\"],[0.6666666666666666,\"#ed7953\"],[0.7777777777777778,\"#fb9f3a\"],[0.8888888888888888,\"#fdca26\"],[1.0,\"#f0f921\"]]}],\"mesh3d\":[{\"type\":\"mesh3d\",\"colorbar\":{\"outlinewidth\":0,\"ticks\":\"\"}}],\"scatter\":[{\"fillpattern\":{\"fillmode\":\"overlay\",\"size\":10,\"solidity\":0.2},\"type\":\"scatter\"}],\"parcoords\":[{\"type\":\"parcoords\",\"line\":{\"colorbar\":{\"outlinewidth\":0,\"ticks\":\"\"}}}],\"scatterpolargl\":[{\"type\":\"scatterpolargl\",\"marker\":{\"colorbar\":{\"outlinewidth\":0,\"ticks\":\"\"}}}],\"bar\":[{\"error_x\":{\"color\":\"#2a3f5f\"},\"error_y\":{\"color\":\"#2a3f5f\"},\"marker\":{\"line\":{\"color\":\"#E5ECF6\",\"width\":0.5},\"pattern\":{\"fillmode\":\"overlay\",\"size\":10,\"solidity\":0.2}},\"type\":\"bar\"}],\"scattergeo\":[{\"type\":\"scattergeo\",\"marker\":{\"colorbar\":{\"outlinewidth\":0,\"ticks\":\"\"}}}],\"scatterpolar\":[{\"type\":\"scatterpolar\",\"marker\":{\"colorbar\":{\"outlinewidth\":0,\"ticks\":\"\"}}}],\"histogram\":[{\"marker\":{\"pattern\":{\"fillmode\":\"overlay\",\"size\":10,\"solidity\":0.2}},\"type\":\"histogram\"}],\"scattergl\":[{\"type\":\"scattergl\",\"marker\":{\"colorbar\":{\"outlinewidth\":0,\"ticks\":\"\"}}}],\"scatter3d\":[{\"type\":\"scatter3d\",\"line\":{\"colorbar\":{\"outlinewidth\":0,\"ticks\":\"\"}},\"marker\":{\"colorbar\":{\"outlinewidth\":0,\"ticks\":\"\"}}}],\"scattermapbox\":[{\"type\":\"scattermapbox\",\"marker\":{\"colorbar\":{\"outlinewidth\":0,\"ticks\":\"\"}}}],\"scatterternary\":[{\"type\":\"scatterternary\",\"marker\":{\"colorbar\":{\"outlinewidth\":0,\"ticks\":\"\"}}}],\"scattercarpet\":[{\"type\":\"scattercarpet\",\"marker\":{\"colorbar\":{\"outlinewidth\":0,\"ticks\":\"\"}}}],\"carpet\":[{\"aaxis\":{\"endlinecolor\":\"#2a3f5f\",\"gridcolor\":\"white\",\"linecolor\":\"white\",\"minorgridcolor\":\"white\",\"startlinecolor\":\"#2a3f5f\"},\"baxis\":{\"endlinecolor\":\"#2a3f5f\",\"gridcolor\":\"white\",\"linecolor\":\"white\",\"minorgridcolor\":\"white\",\"startlinecolor\":\"#2a3f5f\"},\"type\":\"carpet\"}],\"table\":[{\"cells\":{\"fill\":{\"color\":\"#EBF0F8\"},\"line\":{\"color\":\"white\"}},\"header\":{\"fill\":{\"color\":\"#C8D4E3\"},\"line\":{\"color\":\"white\"}},\"type\":\"table\"}],\"barpolar\":[{\"marker\":{\"line\":{\"color\":\"#E5ECF6\",\"width\":0.5},\"pattern\":{\"fillmode\":\"overlay\",\"size\":10,\"solidity\":0.2}},\"type\":\"barpolar\"}],\"pie\":[{\"automargin\":true,\"type\":\"pie\"}]},\"layout\":{\"autotypenumbers\":\"strict\",\"colorway\":[\"#636efa\",\"#EF553B\",\"#00cc96\",\"#ab63fa\",\"#FFA15A\",\"#19d3f3\",\"#FF6692\",\"#B6E880\",\"#FF97FF\",\"#FECB52\"],\"font\":{\"color\":\"#2a3f5f\"},\"hovermode\":\"closest\",\"hoverlabel\":{\"align\":\"left\"},\"paper_bgcolor\":\"white\",\"plot_bgcolor\":\"#E5ECF6\",\"polar\":{\"bgcolor\":\"#E5ECF6\",\"angularaxis\":{\"gridcolor\":\"white\",\"linecolor\":\"white\",\"ticks\":\"\"},\"radialaxis\":{\"gridcolor\":\"white\",\"linecolor\":\"white\",\"ticks\":\"\"}},\"ternary\":{\"bgcolor\":\"#E5ECF6\",\"aaxis\":{\"gridcolor\":\"white\",\"linecolor\":\"white\",\"ticks\":\"\"},\"baxis\":{\"gridcolor\":\"white\",\"linecolor\":\"white\",\"ticks\":\"\"},\"caxis\":{\"gridcolor\":\"white\",\"linecolor\":\"white\",\"ticks\":\"\"}},\"coloraxis\":{\"colorbar\":{\"outlinewidth\":0,\"ticks\":\"\"}},\"colorscale\":{\"sequential\":[[0.0,\"#0d0887\"],[0.1111111111111111,\"#46039f\"],[0.2222222222222222,\"#7201a8\"],[0.3333333333333333,\"#9c179e\"],[0.4444444444444444,\"#bd3786\"],[0.5555555555555556,\"#d8576b\"],[0.6666666666666666,\"#ed7953\"],[0.7777777777777778,\"#fb9f3a\"],[0.8888888888888888,\"#fdca26\"],[1.0,\"#f0f921\"]],\"sequentialminus\":[[0.0,\"#0d0887\"],[0.1111111111111111,\"#46039f\"],[0.2222222222222222,\"#7201a8\"],[0.3333333333333333,\"#9c179e\"],[0.4444444444444444,\"#bd3786\"],[0.5555555555555556,\"#d8576b\"],[0.6666666666666666,\"#ed7953\"],[0.7777777777777778,\"#fb9f3a\"],[0.8888888888888888,\"#fdca26\"],[1.0,\"#f0f921\"]],\"diverging\":[[0,\"#8e0152\"],[0.1,\"#c51b7d\"],[0.2,\"#de77ae\"],[0.3,\"#f1b6da\"],[0.4,\"#fde0ef\"],[0.5,\"#f7f7f7\"],[0.6,\"#e6f5d0\"],[0.7,\"#b8e186\"],[0.8,\"#7fbc41\"],[0.9,\"#4d9221\"],[1,\"#276419\"]]},\"xaxis\":{\"gridcolor\":\"white\",\"linecolor\":\"white\",\"ticks\":\"\",\"title\":{\"standoff\":15},\"zerolinecolor\":\"white\",\"automargin\":true,\"zerolinewidth\":2},\"yaxis\":{\"gridcolor\":\"white\",\"linecolor\":\"white\",\"ticks\":\"\",\"title\":{\"standoff\":15},\"zerolinecolor\":\"white\",\"automargin\":true,\"zerolinewidth\":2},\"scene\":{\"xaxis\":{\"backgroundcolor\":\"#E5ECF6\",\"gridcolor\":\"white\",\"linecolor\":\"white\",\"showbackground\":true,\"ticks\":\"\",\"zerolinecolor\":\"white\",\"gridwidth\":2},\"yaxis\":{\"backgroundcolor\":\"#E5ECF6\",\"gridcolor\":\"white\",\"linecolor\":\"white\",\"showbackground\":true,\"ticks\":\"\",\"zerolinecolor\":\"white\",\"gridwidth\":2},\"zaxis\":{\"backgroundcolor\":\"#E5ECF6\",\"gridcolor\":\"white\",\"linecolor\":\"white\",\"showbackground\":true,\"ticks\":\"\",\"zerolinecolor\":\"white\",\"gridwidth\":2}},\"shapedefaults\":{\"line\":{\"color\":\"#2a3f5f\"}},\"annotationdefaults\":{\"arrowcolor\":\"#2a3f5f\",\"arrowhead\":0,\"arrowwidth\":1},\"geo\":{\"bgcolor\":\"white\",\"landcolor\":\"#E5ECF6\",\"subunitcolor\":\"white\",\"showland\":true,\"showlakes\":true,\"lakecolor\":\"white\"},\"title\":{\"x\":0.05},\"mapbox\":{\"style\":\"light\"}}},\"legend\":{\"tracegroupgap\":0},\"margin\":{\"t\":60}},                        {\"responsive\": true}                    ).then(function(){\n",
              "                            \n",
              "var gd = document.getElementById('50dc8001-ee13-4a8c-9c07-60a9c58929dd');\n",
              "var x = new MutationObserver(function (mutations, observer) {{\n",
              "        var display = window.getComputedStyle(gd).display;\n",
              "        if (!display || display === 'none') {{\n",
              "            console.log([gd, 'removed!']);\n",
              "            Plotly.purge(gd);\n",
              "            observer.disconnect();\n",
              "        }}\n",
              "}});\n",
              "\n",
              "// Listen for the removal of the full notebook cells\n",
              "var notebookContainer = gd.closest('#notebook-container');\n",
              "if (notebookContainer) {{\n",
              "    x.observe(notebookContainer, {childList: true});\n",
              "}}\n",
              "\n",
              "// Listen for the clearing of the current output cell\n",
              "var outputEl = gd.closest('.output');\n",
              "if (outputEl) {{\n",
              "    x.observe(outputEl, {childList: true});\n",
              "}}\n",
              "\n",
              "                        })                };                            </script>        </div>\n",
              "</body>\n",
              "</html>"
            ]
          },
          "metadata": {}
        }
      ],
      "source": [
        "fig = px.sunburst(shop , path=['Gender' , 'Promo Code Used'] , values='Purchase Amount (USD)')\n",
        "fig.show()"
      ]
    },
    {
      "cell_type": "code",
      "execution_count": 50,
      "id": "2d8b4900-6932-4040-bcf9-2bd7db8d7c34",
      "metadata": {
        "id": "2d8b4900-6932-4040-bcf9-2bd7db8d7c34",
        "outputId": "8612edf0-2eba-47c9-a479-216b743e0f1e",
        "colab": {
          "base_uri": "https://localhost:8080/",
          "height": 542
        }
      },
      "outputs": [
        {
          "output_type": "display_data",
          "data": {
            "text/html": [
              "<html>\n",
              "<head><meta charset=\"utf-8\" /></head>\n",
              "<body>\n",
              "    <div>            <script src=\"https://cdnjs.cloudflare.com/ajax/libs/mathjax/2.7.5/MathJax.js?config=TeX-AMS-MML_SVG\"></script><script type=\"text/javascript\">if (window.MathJax && window.MathJax.Hub && window.MathJax.Hub.Config) {window.MathJax.Hub.Config({SVG: {font: \"STIX-Web\"}});}</script>                <script type=\"text/javascript\">window.PlotlyConfig = {MathJaxConfig: 'local'};</script>\n",
              "        <script charset=\"utf-8\" src=\"https://cdn.plot.ly/plotly-2.35.2.min.js\"></script>                <div id=\"c4eed61f-3c52-422e-98c9-ab2d196b3800\" class=\"plotly-graph-div\" style=\"height:525px; width:100%;\"></div>            <script type=\"text/javascript\">                                    window.PLOTLYENV=window.PLOTLYENV || {};                                    if (document.getElementById(\"c4eed61f-3c52-422e-98c9-ab2d196b3800\")) {                    Plotly.newPlot(                        \"c4eed61f-3c52-422e-98c9-ab2d196b3800\",                        [{\"alignmentgroup\":\"True\",\"hovertemplate\":\"Promo Code Used=%{x}\\u003cbr\\u003ePurchase Amount (USD)=%{y}\\u003cextra\\u003e\\u003c\\u002fextra\\u003e\",\"legendgroup\":\"\",\"marker\":{\"color\":\"#636efa\",\"pattern\":{\"shape\":\"\"}},\"name\":\"\",\"offsetgroup\":\"\",\"orientation\":\"v\",\"showlegend\":false,\"textposition\":\"auto\",\"x\":[\"No\",\"Yes\"],\"xaxis\":\"x\",\"y\":[133670,99411],\"yaxis\":\"y\",\"type\":\"bar\"}],                        {\"template\":{\"data\":{\"histogram2dcontour\":[{\"type\":\"histogram2dcontour\",\"colorbar\":{\"outlinewidth\":0,\"ticks\":\"\"},\"colorscale\":[[0.0,\"#0d0887\"],[0.1111111111111111,\"#46039f\"],[0.2222222222222222,\"#7201a8\"],[0.3333333333333333,\"#9c179e\"],[0.4444444444444444,\"#bd3786\"],[0.5555555555555556,\"#d8576b\"],[0.6666666666666666,\"#ed7953\"],[0.7777777777777778,\"#fb9f3a\"],[0.8888888888888888,\"#fdca26\"],[1.0,\"#f0f921\"]]}],\"choropleth\":[{\"type\":\"choropleth\",\"colorbar\":{\"outlinewidth\":0,\"ticks\":\"\"}}],\"histogram2d\":[{\"type\":\"histogram2d\",\"colorbar\":{\"outlinewidth\":0,\"ticks\":\"\"},\"colorscale\":[[0.0,\"#0d0887\"],[0.1111111111111111,\"#46039f\"],[0.2222222222222222,\"#7201a8\"],[0.3333333333333333,\"#9c179e\"],[0.4444444444444444,\"#bd3786\"],[0.5555555555555556,\"#d8576b\"],[0.6666666666666666,\"#ed7953\"],[0.7777777777777778,\"#fb9f3a\"],[0.8888888888888888,\"#fdca26\"],[1.0,\"#f0f921\"]]}],\"heatmap\":[{\"type\":\"heatmap\",\"colorbar\":{\"outlinewidth\":0,\"ticks\":\"\"},\"colorscale\":[[0.0,\"#0d0887\"],[0.1111111111111111,\"#46039f\"],[0.2222222222222222,\"#7201a8\"],[0.3333333333333333,\"#9c179e\"],[0.4444444444444444,\"#bd3786\"],[0.5555555555555556,\"#d8576b\"],[0.6666666666666666,\"#ed7953\"],[0.7777777777777778,\"#fb9f3a\"],[0.8888888888888888,\"#fdca26\"],[1.0,\"#f0f921\"]]}],\"heatmapgl\":[{\"type\":\"heatmapgl\",\"colorbar\":{\"outlinewidth\":0,\"ticks\":\"\"},\"colorscale\":[[0.0,\"#0d0887\"],[0.1111111111111111,\"#46039f\"],[0.2222222222222222,\"#7201a8\"],[0.3333333333333333,\"#9c179e\"],[0.4444444444444444,\"#bd3786\"],[0.5555555555555556,\"#d8576b\"],[0.6666666666666666,\"#ed7953\"],[0.7777777777777778,\"#fb9f3a\"],[0.8888888888888888,\"#fdca26\"],[1.0,\"#f0f921\"]]}],\"contourcarpet\":[{\"type\":\"contourcarpet\",\"colorbar\":{\"outlinewidth\":0,\"ticks\":\"\"}}],\"contour\":[{\"type\":\"contour\",\"colorbar\":{\"outlinewidth\":0,\"ticks\":\"\"},\"colorscale\":[[0.0,\"#0d0887\"],[0.1111111111111111,\"#46039f\"],[0.2222222222222222,\"#7201a8\"],[0.3333333333333333,\"#9c179e\"],[0.4444444444444444,\"#bd3786\"],[0.5555555555555556,\"#d8576b\"],[0.6666666666666666,\"#ed7953\"],[0.7777777777777778,\"#fb9f3a\"],[0.8888888888888888,\"#fdca26\"],[1.0,\"#f0f921\"]]}],\"surface\":[{\"type\":\"surface\",\"colorbar\":{\"outlinewidth\":0,\"ticks\":\"\"},\"colorscale\":[[0.0,\"#0d0887\"],[0.1111111111111111,\"#46039f\"],[0.2222222222222222,\"#7201a8\"],[0.3333333333333333,\"#9c179e\"],[0.4444444444444444,\"#bd3786\"],[0.5555555555555556,\"#d8576b\"],[0.6666666666666666,\"#ed7953\"],[0.7777777777777778,\"#fb9f3a\"],[0.8888888888888888,\"#fdca26\"],[1.0,\"#f0f921\"]]}],\"mesh3d\":[{\"type\":\"mesh3d\",\"colorbar\":{\"outlinewidth\":0,\"ticks\":\"\"}}],\"scatter\":[{\"fillpattern\":{\"fillmode\":\"overlay\",\"size\":10,\"solidity\":0.2},\"type\":\"scatter\"}],\"parcoords\":[{\"type\":\"parcoords\",\"line\":{\"colorbar\":{\"outlinewidth\":0,\"ticks\":\"\"}}}],\"scatterpolargl\":[{\"type\":\"scatterpolargl\",\"marker\":{\"colorbar\":{\"outlinewidth\":0,\"ticks\":\"\"}}}],\"bar\":[{\"error_x\":{\"color\":\"#2a3f5f\"},\"error_y\":{\"color\":\"#2a3f5f\"},\"marker\":{\"line\":{\"color\":\"#E5ECF6\",\"width\":0.5},\"pattern\":{\"fillmode\":\"overlay\",\"size\":10,\"solidity\":0.2}},\"type\":\"bar\"}],\"scattergeo\":[{\"type\":\"scattergeo\",\"marker\":{\"colorbar\":{\"outlinewidth\":0,\"ticks\":\"\"}}}],\"scatterpolar\":[{\"type\":\"scatterpolar\",\"marker\":{\"colorbar\":{\"outlinewidth\":0,\"ticks\":\"\"}}}],\"histogram\":[{\"marker\":{\"pattern\":{\"fillmode\":\"overlay\",\"size\":10,\"solidity\":0.2}},\"type\":\"histogram\"}],\"scattergl\":[{\"type\":\"scattergl\",\"marker\":{\"colorbar\":{\"outlinewidth\":0,\"ticks\":\"\"}}}],\"scatter3d\":[{\"type\":\"scatter3d\",\"line\":{\"colorbar\":{\"outlinewidth\":0,\"ticks\":\"\"}},\"marker\":{\"colorbar\":{\"outlinewidth\":0,\"ticks\":\"\"}}}],\"scattermapbox\":[{\"type\":\"scattermapbox\",\"marker\":{\"colorbar\":{\"outlinewidth\":0,\"ticks\":\"\"}}}],\"scatterternary\":[{\"type\":\"scatterternary\",\"marker\":{\"colorbar\":{\"outlinewidth\":0,\"ticks\":\"\"}}}],\"scattercarpet\":[{\"type\":\"scattercarpet\",\"marker\":{\"colorbar\":{\"outlinewidth\":0,\"ticks\":\"\"}}}],\"carpet\":[{\"aaxis\":{\"endlinecolor\":\"#2a3f5f\",\"gridcolor\":\"white\",\"linecolor\":\"white\",\"minorgridcolor\":\"white\",\"startlinecolor\":\"#2a3f5f\"},\"baxis\":{\"endlinecolor\":\"#2a3f5f\",\"gridcolor\":\"white\",\"linecolor\":\"white\",\"minorgridcolor\":\"white\",\"startlinecolor\":\"#2a3f5f\"},\"type\":\"carpet\"}],\"table\":[{\"cells\":{\"fill\":{\"color\":\"#EBF0F8\"},\"line\":{\"color\":\"white\"}},\"header\":{\"fill\":{\"color\":\"#C8D4E3\"},\"line\":{\"color\":\"white\"}},\"type\":\"table\"}],\"barpolar\":[{\"marker\":{\"line\":{\"color\":\"#E5ECF6\",\"width\":0.5},\"pattern\":{\"fillmode\":\"overlay\",\"size\":10,\"solidity\":0.2}},\"type\":\"barpolar\"}],\"pie\":[{\"automargin\":true,\"type\":\"pie\"}]},\"layout\":{\"autotypenumbers\":\"strict\",\"colorway\":[\"#636efa\",\"#EF553B\",\"#00cc96\",\"#ab63fa\",\"#FFA15A\",\"#19d3f3\",\"#FF6692\",\"#B6E880\",\"#FF97FF\",\"#FECB52\"],\"font\":{\"color\":\"#2a3f5f\"},\"hovermode\":\"closest\",\"hoverlabel\":{\"align\":\"left\"},\"paper_bgcolor\":\"white\",\"plot_bgcolor\":\"#E5ECF6\",\"polar\":{\"bgcolor\":\"#E5ECF6\",\"angularaxis\":{\"gridcolor\":\"white\",\"linecolor\":\"white\",\"ticks\":\"\"},\"radialaxis\":{\"gridcolor\":\"white\",\"linecolor\":\"white\",\"ticks\":\"\"}},\"ternary\":{\"bgcolor\":\"#E5ECF6\",\"aaxis\":{\"gridcolor\":\"white\",\"linecolor\":\"white\",\"ticks\":\"\"},\"baxis\":{\"gridcolor\":\"white\",\"linecolor\":\"white\",\"ticks\":\"\"},\"caxis\":{\"gridcolor\":\"white\",\"linecolor\":\"white\",\"ticks\":\"\"}},\"coloraxis\":{\"colorbar\":{\"outlinewidth\":0,\"ticks\":\"\"}},\"colorscale\":{\"sequential\":[[0.0,\"#0d0887\"],[0.1111111111111111,\"#46039f\"],[0.2222222222222222,\"#7201a8\"],[0.3333333333333333,\"#9c179e\"],[0.4444444444444444,\"#bd3786\"],[0.5555555555555556,\"#d8576b\"],[0.6666666666666666,\"#ed7953\"],[0.7777777777777778,\"#fb9f3a\"],[0.8888888888888888,\"#fdca26\"],[1.0,\"#f0f921\"]],\"sequentialminus\":[[0.0,\"#0d0887\"],[0.1111111111111111,\"#46039f\"],[0.2222222222222222,\"#7201a8\"],[0.3333333333333333,\"#9c179e\"],[0.4444444444444444,\"#bd3786\"],[0.5555555555555556,\"#d8576b\"],[0.6666666666666666,\"#ed7953\"],[0.7777777777777778,\"#fb9f3a\"],[0.8888888888888888,\"#fdca26\"],[1.0,\"#f0f921\"]],\"diverging\":[[0,\"#8e0152\"],[0.1,\"#c51b7d\"],[0.2,\"#de77ae\"],[0.3,\"#f1b6da\"],[0.4,\"#fde0ef\"],[0.5,\"#f7f7f7\"],[0.6,\"#e6f5d0\"],[0.7,\"#b8e186\"],[0.8,\"#7fbc41\"],[0.9,\"#4d9221\"],[1,\"#276419\"]]},\"xaxis\":{\"gridcolor\":\"white\",\"linecolor\":\"white\",\"ticks\":\"\",\"title\":{\"standoff\":15},\"zerolinecolor\":\"white\",\"automargin\":true,\"zerolinewidth\":2},\"yaxis\":{\"gridcolor\":\"white\",\"linecolor\":\"white\",\"ticks\":\"\",\"title\":{\"standoff\":15},\"zerolinecolor\":\"white\",\"automargin\":true,\"zerolinewidth\":2},\"scene\":{\"xaxis\":{\"backgroundcolor\":\"#E5ECF6\",\"gridcolor\":\"white\",\"linecolor\":\"white\",\"showbackground\":true,\"ticks\":\"\",\"zerolinecolor\":\"white\",\"gridwidth\":2},\"yaxis\":{\"backgroundcolor\":\"#E5ECF6\",\"gridcolor\":\"white\",\"linecolor\":\"white\",\"showbackground\":true,\"ticks\":\"\",\"zerolinecolor\":\"white\",\"gridwidth\":2},\"zaxis\":{\"backgroundcolor\":\"#E5ECF6\",\"gridcolor\":\"white\",\"linecolor\":\"white\",\"showbackground\":true,\"ticks\":\"\",\"zerolinecolor\":\"white\",\"gridwidth\":2}},\"shapedefaults\":{\"line\":{\"color\":\"#2a3f5f\"}},\"annotationdefaults\":{\"arrowcolor\":\"#2a3f5f\",\"arrowhead\":0,\"arrowwidth\":1},\"geo\":{\"bgcolor\":\"white\",\"landcolor\":\"#E5ECF6\",\"subunitcolor\":\"white\",\"showland\":true,\"showlakes\":true,\"lakecolor\":\"white\"},\"title\":{\"x\":0.05},\"mapbox\":{\"style\":\"light\"}}},\"xaxis\":{\"anchor\":\"y\",\"domain\":[0.0,1.0],\"title\":{\"text\":\"Promo Code Used\"}},\"yaxis\":{\"anchor\":\"x\",\"domain\":[0.0,1.0],\"title\":{\"text\":\"Purchase Amount (USD)\"}},\"legend\":{\"tracegroupgap\":0},\"margin\":{\"t\":60},\"barmode\":\"relative\"},                        {\"responsive\": true}                    ).then(function(){\n",
              "                            \n",
              "var gd = document.getElementById('c4eed61f-3c52-422e-98c9-ab2d196b3800');\n",
              "var x = new MutationObserver(function (mutations, observer) {{\n",
              "        var display = window.getComputedStyle(gd).display;\n",
              "        if (!display || display === 'none') {{\n",
              "            console.log([gd, 'removed!']);\n",
              "            Plotly.purge(gd);\n",
              "            observer.disconnect();\n",
              "        }}\n",
              "}});\n",
              "\n",
              "// Listen for the removal of the full notebook cells\n",
              "var notebookContainer = gd.closest('#notebook-container');\n",
              "if (notebookContainer) {{\n",
              "    x.observe(notebookContainer, {childList: true});\n",
              "}}\n",
              "\n",
              "// Listen for the clearing of the current output cell\n",
              "var outputEl = gd.closest('.output');\n",
              "if (outputEl) {{\n",
              "    x.observe(outputEl, {childList: true});\n",
              "}}\n",
              "\n",
              "                        })                };                            </script>        </div>\n",
              "</body>\n",
              "</html>"
            ]
          },
          "metadata": {}
        }
      ],
      "source": [
        "fig  =  px.bar(shop_groupby , x= 'Promo Code Used' , y = 'Purchase Amount (USD)')\n",
        "fig.show()"
      ]
    },
    {
      "cell_type": "markdown",
      "id": "843e7921-345a-43ff-8cc5-27b663d571e3",
      "metadata": {
        "id": "843e7921-345a-43ff-8cc5-27b663d571e3"
      },
      "source": [
        "## 10 How does the frequency of purchases vary across different age groups?"
      ]
    },
    {
      "cell_type": "code",
      "execution_count": 51,
      "id": "464a8815-a0fb-469c-a514-2e66eb803cc6",
      "metadata": {
        "id": "464a8815-a0fb-469c-a514-2e66eb803cc6",
        "outputId": "f91fc007-7a5a-4e51-9052-a1fba2d74b4f",
        "colab": {
          "base_uri": "https://localhost:8080/",
          "height": 424
        }
      },
      "outputs": [
        {
          "output_type": "execute_result",
          "data": {
            "text/plain": [
              "      Age        Age_category\n",
              "0      55                 old\n",
              "1      19        Young Adults\n",
              "2      50  Middle-Aged Adults\n",
              "3      21        Young Adults\n",
              "4      45  Middle-Aged Adults\n",
              "...   ...                 ...\n",
              "3895   40  Middle-Aged Adults\n",
              "3896   52                 old\n",
              "3897   46  Middle-Aged Adults\n",
              "3898   44  Middle-Aged Adults\n",
              "3899   52                 old\n",
              "\n",
              "[3900 rows x 2 columns]"
            ],
            "text/html": [
              "\n",
              "  <div id=\"df-f9191b43-82ac-4eb6-ade1-cef2942ae1cb\" class=\"colab-df-container\">\n",
              "    <div>\n",
              "<style scoped>\n",
              "    .dataframe tbody tr th:only-of-type {\n",
              "        vertical-align: middle;\n",
              "    }\n",
              "\n",
              "    .dataframe tbody tr th {\n",
              "        vertical-align: top;\n",
              "    }\n",
              "\n",
              "    .dataframe thead th {\n",
              "        text-align: right;\n",
              "    }\n",
              "</style>\n",
              "<table border=\"1\" class=\"dataframe\">\n",
              "  <thead>\n",
              "    <tr style=\"text-align: right;\">\n",
              "      <th></th>\n",
              "      <th>Age</th>\n",
              "      <th>Age_category</th>\n",
              "    </tr>\n",
              "  </thead>\n",
              "  <tbody>\n",
              "    <tr>\n",
              "      <th>0</th>\n",
              "      <td>55</td>\n",
              "      <td>old</td>\n",
              "    </tr>\n",
              "    <tr>\n",
              "      <th>1</th>\n",
              "      <td>19</td>\n",
              "      <td>Young Adults</td>\n",
              "    </tr>\n",
              "    <tr>\n",
              "      <th>2</th>\n",
              "      <td>50</td>\n",
              "      <td>Middle-Aged Adults</td>\n",
              "    </tr>\n",
              "    <tr>\n",
              "      <th>3</th>\n",
              "      <td>21</td>\n",
              "      <td>Young Adults</td>\n",
              "    </tr>\n",
              "    <tr>\n",
              "      <th>4</th>\n",
              "      <td>45</td>\n",
              "      <td>Middle-Aged Adults</td>\n",
              "    </tr>\n",
              "    <tr>\n",
              "      <th>...</th>\n",
              "      <td>...</td>\n",
              "      <td>...</td>\n",
              "    </tr>\n",
              "    <tr>\n",
              "      <th>3895</th>\n",
              "      <td>40</td>\n",
              "      <td>Middle-Aged Adults</td>\n",
              "    </tr>\n",
              "    <tr>\n",
              "      <th>3896</th>\n",
              "      <td>52</td>\n",
              "      <td>old</td>\n",
              "    </tr>\n",
              "    <tr>\n",
              "      <th>3897</th>\n",
              "      <td>46</td>\n",
              "      <td>Middle-Aged Adults</td>\n",
              "    </tr>\n",
              "    <tr>\n",
              "      <th>3898</th>\n",
              "      <td>44</td>\n",
              "      <td>Middle-Aged Adults</td>\n",
              "    </tr>\n",
              "    <tr>\n",
              "      <th>3899</th>\n",
              "      <td>52</td>\n",
              "      <td>old</td>\n",
              "    </tr>\n",
              "  </tbody>\n",
              "</table>\n",
              "<p>3900 rows × 2 columns</p>\n",
              "</div>\n",
              "    <div class=\"colab-df-buttons\">\n",
              "\n",
              "  <div class=\"colab-df-container\">\n",
              "    <button class=\"colab-df-convert\" onclick=\"convertToInteractive('df-f9191b43-82ac-4eb6-ade1-cef2942ae1cb')\"\n",
              "            title=\"Convert this dataframe to an interactive table.\"\n",
              "            style=\"display:none;\">\n",
              "\n",
              "  <svg xmlns=\"http://www.w3.org/2000/svg\" height=\"24px\" viewBox=\"0 -960 960 960\">\n",
              "    <path d=\"M120-120v-720h720v720H120Zm60-500h600v-160H180v160Zm220 220h160v-160H400v160Zm0 220h160v-160H400v160ZM180-400h160v-160H180v160Zm440 0h160v-160H620v160ZM180-180h160v-160H180v160Zm440 0h160v-160H620v160Z\"/>\n",
              "  </svg>\n",
              "    </button>\n",
              "\n",
              "  <style>\n",
              "    .colab-df-container {\n",
              "      display:flex;\n",
              "      gap: 12px;\n",
              "    }\n",
              "\n",
              "    .colab-df-convert {\n",
              "      background-color: #E8F0FE;\n",
              "      border: none;\n",
              "      border-radius: 50%;\n",
              "      cursor: pointer;\n",
              "      display: none;\n",
              "      fill: #1967D2;\n",
              "      height: 32px;\n",
              "      padding: 0 0 0 0;\n",
              "      width: 32px;\n",
              "    }\n",
              "\n",
              "    .colab-df-convert:hover {\n",
              "      background-color: #E2EBFA;\n",
              "      box-shadow: 0px 1px 2px rgba(60, 64, 67, 0.3), 0px 1px 3px 1px rgba(60, 64, 67, 0.15);\n",
              "      fill: #174EA6;\n",
              "    }\n",
              "\n",
              "    .colab-df-buttons div {\n",
              "      margin-bottom: 4px;\n",
              "    }\n",
              "\n",
              "    [theme=dark] .colab-df-convert {\n",
              "      background-color: #3B4455;\n",
              "      fill: #D2E3FC;\n",
              "    }\n",
              "\n",
              "    [theme=dark] .colab-df-convert:hover {\n",
              "      background-color: #434B5C;\n",
              "      box-shadow: 0px 1px 3px 1px rgba(0, 0, 0, 0.15);\n",
              "      filter: drop-shadow(0px 1px 2px rgba(0, 0, 0, 0.3));\n",
              "      fill: #FFFFFF;\n",
              "    }\n",
              "  </style>\n",
              "\n",
              "    <script>\n",
              "      const buttonEl =\n",
              "        document.querySelector('#df-f9191b43-82ac-4eb6-ade1-cef2942ae1cb button.colab-df-convert');\n",
              "      buttonEl.style.display =\n",
              "        google.colab.kernel.accessAllowed ? 'block' : 'none';\n",
              "\n",
              "      async function convertToInteractive(key) {\n",
              "        const element = document.querySelector('#df-f9191b43-82ac-4eb6-ade1-cef2942ae1cb');\n",
              "        const dataTable =\n",
              "          await google.colab.kernel.invokeFunction('convertToInteractive',\n",
              "                                                    [key], {});\n",
              "        if (!dataTable) return;\n",
              "\n",
              "        const docLinkHtml = 'Like what you see? Visit the ' +\n",
              "          '<a target=\"_blank\" href=https://colab.research.google.com/notebooks/data_table.ipynb>data table notebook</a>'\n",
              "          + ' to learn more about interactive tables.';\n",
              "        element.innerHTML = '';\n",
              "        dataTable['output_type'] = 'display_data';\n",
              "        await google.colab.output.renderOutput(dataTable, element);\n",
              "        const docLink = document.createElement('div');\n",
              "        docLink.innerHTML = docLinkHtml;\n",
              "        element.appendChild(docLink);\n",
              "      }\n",
              "    </script>\n",
              "  </div>\n",
              "\n",
              "\n",
              "<div id=\"df-bbcb78a9-3676-40e3-bd6d-df93dd28338c\">\n",
              "  <button class=\"colab-df-quickchart\" onclick=\"quickchart('df-bbcb78a9-3676-40e3-bd6d-df93dd28338c')\"\n",
              "            title=\"Suggest charts\"\n",
              "            style=\"display:none;\">\n",
              "\n",
              "<svg xmlns=\"http://www.w3.org/2000/svg\" height=\"24px\"viewBox=\"0 0 24 24\"\n",
              "     width=\"24px\">\n",
              "    <g>\n",
              "        <path d=\"M19 3H5c-1.1 0-2 .9-2 2v14c0 1.1.9 2 2 2h14c1.1 0 2-.9 2-2V5c0-1.1-.9-2-2-2zM9 17H7v-7h2v7zm4 0h-2V7h2v10zm4 0h-2v-4h2v4z\"/>\n",
              "    </g>\n",
              "</svg>\n",
              "  </button>\n",
              "\n",
              "<style>\n",
              "  .colab-df-quickchart {\n",
              "      --bg-color: #E8F0FE;\n",
              "      --fill-color: #1967D2;\n",
              "      --hover-bg-color: #E2EBFA;\n",
              "      --hover-fill-color: #174EA6;\n",
              "      --disabled-fill-color: #AAA;\n",
              "      --disabled-bg-color: #DDD;\n",
              "  }\n",
              "\n",
              "  [theme=dark] .colab-df-quickchart {\n",
              "      --bg-color: #3B4455;\n",
              "      --fill-color: #D2E3FC;\n",
              "      --hover-bg-color: #434B5C;\n",
              "      --hover-fill-color: #FFFFFF;\n",
              "      --disabled-bg-color: #3B4455;\n",
              "      --disabled-fill-color: #666;\n",
              "  }\n",
              "\n",
              "  .colab-df-quickchart {\n",
              "    background-color: var(--bg-color);\n",
              "    border: none;\n",
              "    border-radius: 50%;\n",
              "    cursor: pointer;\n",
              "    display: none;\n",
              "    fill: var(--fill-color);\n",
              "    height: 32px;\n",
              "    padding: 0;\n",
              "    width: 32px;\n",
              "  }\n",
              "\n",
              "  .colab-df-quickchart:hover {\n",
              "    background-color: var(--hover-bg-color);\n",
              "    box-shadow: 0 1px 2px rgba(60, 64, 67, 0.3), 0 1px 3px 1px rgba(60, 64, 67, 0.15);\n",
              "    fill: var(--button-hover-fill-color);\n",
              "  }\n",
              "\n",
              "  .colab-df-quickchart-complete:disabled,\n",
              "  .colab-df-quickchart-complete:disabled:hover {\n",
              "    background-color: var(--disabled-bg-color);\n",
              "    fill: var(--disabled-fill-color);\n",
              "    box-shadow: none;\n",
              "  }\n",
              "\n",
              "  .colab-df-spinner {\n",
              "    border: 2px solid var(--fill-color);\n",
              "    border-color: transparent;\n",
              "    border-bottom-color: var(--fill-color);\n",
              "    animation:\n",
              "      spin 1s steps(1) infinite;\n",
              "  }\n",
              "\n",
              "  @keyframes spin {\n",
              "    0% {\n",
              "      border-color: transparent;\n",
              "      border-bottom-color: var(--fill-color);\n",
              "      border-left-color: var(--fill-color);\n",
              "    }\n",
              "    20% {\n",
              "      border-color: transparent;\n",
              "      border-left-color: var(--fill-color);\n",
              "      border-top-color: var(--fill-color);\n",
              "    }\n",
              "    30% {\n",
              "      border-color: transparent;\n",
              "      border-left-color: var(--fill-color);\n",
              "      border-top-color: var(--fill-color);\n",
              "      border-right-color: var(--fill-color);\n",
              "    }\n",
              "    40% {\n",
              "      border-color: transparent;\n",
              "      border-right-color: var(--fill-color);\n",
              "      border-top-color: var(--fill-color);\n",
              "    }\n",
              "    60% {\n",
              "      border-color: transparent;\n",
              "      border-right-color: var(--fill-color);\n",
              "    }\n",
              "    80% {\n",
              "      border-color: transparent;\n",
              "      border-right-color: var(--fill-color);\n",
              "      border-bottom-color: var(--fill-color);\n",
              "    }\n",
              "    90% {\n",
              "      border-color: transparent;\n",
              "      border-bottom-color: var(--fill-color);\n",
              "    }\n",
              "  }\n",
              "</style>\n",
              "\n",
              "  <script>\n",
              "    async function quickchart(key) {\n",
              "      const quickchartButtonEl =\n",
              "        document.querySelector('#' + key + ' button');\n",
              "      quickchartButtonEl.disabled = true;  // To prevent multiple clicks.\n",
              "      quickchartButtonEl.classList.add('colab-df-spinner');\n",
              "      try {\n",
              "        const charts = await google.colab.kernel.invokeFunction(\n",
              "            'suggestCharts', [key], {});\n",
              "      } catch (error) {\n",
              "        console.error('Error during call to suggestCharts:', error);\n",
              "      }\n",
              "      quickchartButtonEl.classList.remove('colab-df-spinner');\n",
              "      quickchartButtonEl.classList.add('colab-df-quickchart-complete');\n",
              "    }\n",
              "    (() => {\n",
              "      let quickchartButtonEl =\n",
              "        document.querySelector('#df-bbcb78a9-3676-40e3-bd6d-df93dd28338c button');\n",
              "      quickchartButtonEl.style.display =\n",
              "        google.colab.kernel.accessAllowed ? 'block' : 'none';\n",
              "    })();\n",
              "  </script>\n",
              "</div>\n",
              "\n",
              "    </div>\n",
              "  </div>\n"
            ],
            "application/vnd.google.colaboratory.intrinsic+json": {
              "type": "dataframe",
              "summary": "{\n  \"name\": \"shop[['Age' , 'Age_category']]\",\n  \"rows\": 3900,\n  \"fields\": [\n    {\n      \"column\": \"Age\",\n      \"properties\": {\n        \"dtype\": \"number\",\n        \"std\": 15,\n        \"min\": 18,\n        \"max\": 70,\n        \"num_unique_values\": 53,\n        \"samples\": [\n          56,\n          24,\n          51\n        ],\n        \"semantic_type\": \"\",\n        \"description\": \"\"\n      }\n    },\n    {\n      \"column\": \"Age_category\",\n      \"properties\": {\n        \"dtype\": \"category\",\n        \"num_unique_values\": 4,\n        \"samples\": [\n          \"Young Adults\",\n          \"teen\",\n          \"old\"\n        ],\n        \"semantic_type\": \"\",\n        \"description\": \"\"\n      }\n    }\n  ]\n}"
            }
          },
          "metadata": {},
          "execution_count": 51
        }
      ],
      "source": [
        "shop[['Age' , 'Age_category']]"
      ]
    },
    {
      "cell_type": "code",
      "execution_count": 52,
      "id": "fb8f8552-0645-4388-9a41-5d55af9f9e2b",
      "metadata": {
        "id": "fb8f8552-0645-4388-9a41-5d55af9f9e2b",
        "outputId": "3498c8e8-f510-45af-8de5-a9ca6eaa0857",
        "colab": {
          "base_uri": "https://localhost:8080/"
        }
      },
      "outputs": [
        {
          "output_type": "execute_result",
          "data": {
            "text/plain": [
              "['old', 'Young Adults', 'Middle-Aged Adults', 'teen']\n",
              "Categories (5, object): ['child' < 'teen' < 'Young Adults' < 'Middle-Aged Adults' < 'old']"
            ]
          },
          "metadata": {},
          "execution_count": 52
        }
      ],
      "source": [
        "shop['Age_category'].unique()"
      ]
    },
    {
      "cell_type": "code",
      "execution_count": 53,
      "id": "da345838-6cb8-4b31-934a-c383187fd817",
      "metadata": {
        "id": "da345838-6cb8-4b31-934a-c383187fd817"
      },
      "outputs": [],
      "source": [
        "shop_group = shop.groupby('Frequency of Purchases')['Age'].sum()"
      ]
    },
    {
      "cell_type": "code",
      "execution_count": 54,
      "id": "4b57b9e9-c8e8-4dc0-a1fd-459f8602c9b7",
      "metadata": {
        "id": "4b57b9e9-c8e8-4dc0-a1fd-459f8602c9b7",
        "outputId": "8ea8dae4-0f2c-4535-a14a-9b8636f3c04f",
        "colab": {
          "base_uri": "https://localhost:8080/",
          "height": 631
        }
      },
      "outputs": [
        {
          "output_type": "stream",
          "name": "stderr",
          "text": [
            "/usr/local/lib/python3.11/dist-packages/plotly/express/_core.py:1727: FutureWarning:\n",
            "\n",
            "The default of observed=False is deprecated and will be changed to True in a future version of pandas. Pass observed=False to retain current behavior or observed=True to adopt the future default and silence this warning.\n",
            "\n"
          ]
        },
        {
          "output_type": "display_data",
          "data": {
            "text/html": [
              "<html>\n",
              "<head><meta charset=\"utf-8\" /></head>\n",
              "<body>\n",
              "    <div>            <script src=\"https://cdnjs.cloudflare.com/ajax/libs/mathjax/2.7.5/MathJax.js?config=TeX-AMS-MML_SVG\"></script><script type=\"text/javascript\">if (window.MathJax && window.MathJax.Hub && window.MathJax.Hub.Config) {window.MathJax.Hub.Config({SVG: {font: \"STIX-Web\"}});}</script>                <script type=\"text/javascript\">window.PlotlyConfig = {MathJaxConfig: 'local'};</script>\n",
              "        <script charset=\"utf-8\" src=\"https://cdn.plot.ly/plotly-2.35.2.min.js\"></script>                <div id=\"b1893c16-a91c-4a33-8cf1-19860534849a\" class=\"plotly-graph-div\" style=\"height:525px; width:100%;\"></div>            <script type=\"text/javascript\">                                    window.PLOTLYENV=window.PLOTLYENV || {};                                    if (document.getElementById(\"b1893c16-a91c-4a33-8cf1-19860534849a\")) {                    Plotly.newPlot(                        \"b1893c16-a91c-4a33-8cf1-19860534849a\",                        [{\"branchvalues\":\"total\",\"domain\":{\"x\":[0.0,1.0],\"y\":[0.0,1.0]},\"hovertemplate\":\"labels=%{label}\\u003cbr\\u003eAge=%{value}\\u003cbr\\u003eparent=%{parent}\\u003cbr\\u003eid=%{id}\\u003cextra\\u003e\\u003c\\u002fextra\\u003e\",\"ids\":[\"Annually\\u002fchild\",\"Bi-Weekly\\u002fchild\",\"Every 3 Months\\u002fchild\",\"Fortnightly\\u002fchild\",\"Monthly\\u002fchild\",\"Quarterly\\u002fchild\",\"Weekly\\u002fchild\",\"Annually\\u002fteen\",\"Bi-Weekly\\u002fteen\",\"Every 3 Months\\u002fteen\",\"Fortnightly\\u002fteen\",\"Monthly\\u002fteen\",\"Quarterly\\u002fteen\",\"Weekly\\u002fteen\",\"Annually\\u002fYoung Adults\",\"Bi-Weekly\\u002fYoung Adults\",\"Every 3 Months\\u002fYoung Adults\",\"Fortnightly\\u002fYoung Adults\",\"Monthly\\u002fYoung Adults\",\"Quarterly\\u002fYoung Adults\",\"Weekly\\u002fYoung Adults\",\"Annually\\u002fMiddle-Aged Adults\",\"Bi-Weekly\\u002fMiddle-Aged Adults\",\"Every 3 Months\\u002fMiddle-Aged Adults\",\"Fortnightly\\u002fMiddle-Aged Adults\",\"Monthly\\u002fMiddle-Aged Adults\",\"Quarterly\\u002fMiddle-Aged Adults\",\"Weekly\\u002fMiddle-Aged Adults\",\"Annually\\u002fold\",\"Bi-Weekly\\u002fold\",\"Every 3 Months\\u002fold\",\"Fortnightly\\u002fold\",\"Monthly\\u002fold\",\"Quarterly\\u002fold\",\"Weekly\\u002fold\",\"Annually\",\"Bi-Weekly\",\"Every 3 Months\",\"Fortnightly\",\"Monthly\",\"Quarterly\",\"Weekly\"],\"labels\":[\"child\",\"child\",\"child\",\"child\",\"child\",\"child\",\"child\",\"teen\",\"teen\",\"teen\",\"teen\",\"teen\",\"teen\",\"teen\",\"Young Adults\",\"Young Adults\",\"Young Adults\",\"Young Adults\",\"Young Adults\",\"Young Adults\",\"Young Adults\",\"Middle-Aged Adults\",\"Middle-Aged Adults\",\"Middle-Aged Adults\",\"Middle-Aged Adults\",\"Middle-Aged Adults\",\"Middle-Aged Adults\",\"Middle-Aged Adults\",\"old\",\"old\",\"old\",\"old\",\"old\",\"old\",\"old\",\"Annually\",\"Bi-Weekly\",\"Every 3 Months\",\"Fortnightly\",\"Monthly\",\"Quarterly\",\"Weekly\"],\"name\":\"\",\"parents\":[\"Annually\",\"Bi-Weekly\",\"Every 3 Months\",\"Fortnightly\",\"Monthly\",\"Quarterly\",\"Weekly\",\"Annually\",\"Bi-Weekly\",\"Every 3 Months\",\"Fortnightly\",\"Monthly\",\"Quarterly\",\"Weekly\",\"Annually\",\"Bi-Weekly\",\"Every 3 Months\",\"Fortnightly\",\"Monthly\",\"Quarterly\",\"Weekly\",\"Annually\",\"Bi-Weekly\",\"Every 3 Months\",\"Fortnightly\",\"Monthly\",\"Quarterly\",\"Weekly\",\"Annually\",\"Bi-Weekly\",\"Every 3 Months\",\"Fortnightly\",\"Monthly\",\"Quarterly\",\"Weekly\",\"\",\"\",\"\",\"\",\"\",\"\",\"\"],\"values\":[0,0,0,0,0,0,0,180,180,216,180,126,198,162,2679,3709,3235,3110,2873,3365,2680,8712,7802,9343,8468,9106,7652,8736,13978,11940,12556,11866,12384,13943,12488,25549,23631,25350,23624,24489,25158,24066],\"type\":\"sunburst\"}],                        {\"template\":{\"data\":{\"histogram2dcontour\":[{\"type\":\"histogram2dcontour\",\"colorbar\":{\"outlinewidth\":0,\"ticks\":\"\"},\"colorscale\":[[0.0,\"#0d0887\"],[0.1111111111111111,\"#46039f\"],[0.2222222222222222,\"#7201a8\"],[0.3333333333333333,\"#9c179e\"],[0.4444444444444444,\"#bd3786\"],[0.5555555555555556,\"#d8576b\"],[0.6666666666666666,\"#ed7953\"],[0.7777777777777778,\"#fb9f3a\"],[0.8888888888888888,\"#fdca26\"],[1.0,\"#f0f921\"]]}],\"choropleth\":[{\"type\":\"choropleth\",\"colorbar\":{\"outlinewidth\":0,\"ticks\":\"\"}}],\"histogram2d\":[{\"type\":\"histogram2d\",\"colorbar\":{\"outlinewidth\":0,\"ticks\":\"\"},\"colorscale\":[[0.0,\"#0d0887\"],[0.1111111111111111,\"#46039f\"],[0.2222222222222222,\"#7201a8\"],[0.3333333333333333,\"#9c179e\"],[0.4444444444444444,\"#bd3786\"],[0.5555555555555556,\"#d8576b\"],[0.6666666666666666,\"#ed7953\"],[0.7777777777777778,\"#fb9f3a\"],[0.8888888888888888,\"#fdca26\"],[1.0,\"#f0f921\"]]}],\"heatmap\":[{\"type\":\"heatmap\",\"colorbar\":{\"outlinewidth\":0,\"ticks\":\"\"},\"colorscale\":[[0.0,\"#0d0887\"],[0.1111111111111111,\"#46039f\"],[0.2222222222222222,\"#7201a8\"],[0.3333333333333333,\"#9c179e\"],[0.4444444444444444,\"#bd3786\"],[0.5555555555555556,\"#d8576b\"],[0.6666666666666666,\"#ed7953\"],[0.7777777777777778,\"#fb9f3a\"],[0.8888888888888888,\"#fdca26\"],[1.0,\"#f0f921\"]]}],\"heatmapgl\":[{\"type\":\"heatmapgl\",\"colorbar\":{\"outlinewidth\":0,\"ticks\":\"\"},\"colorscale\":[[0.0,\"#0d0887\"],[0.1111111111111111,\"#46039f\"],[0.2222222222222222,\"#7201a8\"],[0.3333333333333333,\"#9c179e\"],[0.4444444444444444,\"#bd3786\"],[0.5555555555555556,\"#d8576b\"],[0.6666666666666666,\"#ed7953\"],[0.7777777777777778,\"#fb9f3a\"],[0.8888888888888888,\"#fdca26\"],[1.0,\"#f0f921\"]]}],\"contourcarpet\":[{\"type\":\"contourcarpet\",\"colorbar\":{\"outlinewidth\":0,\"ticks\":\"\"}}],\"contour\":[{\"type\":\"contour\",\"colorbar\":{\"outlinewidth\":0,\"ticks\":\"\"},\"colorscale\":[[0.0,\"#0d0887\"],[0.1111111111111111,\"#46039f\"],[0.2222222222222222,\"#7201a8\"],[0.3333333333333333,\"#9c179e\"],[0.4444444444444444,\"#bd3786\"],[0.5555555555555556,\"#d8576b\"],[0.6666666666666666,\"#ed7953\"],[0.7777777777777778,\"#fb9f3a\"],[0.8888888888888888,\"#fdca26\"],[1.0,\"#f0f921\"]]}],\"surface\":[{\"type\":\"surface\",\"colorbar\":{\"outlinewidth\":0,\"ticks\":\"\"},\"colorscale\":[[0.0,\"#0d0887\"],[0.1111111111111111,\"#46039f\"],[0.2222222222222222,\"#7201a8\"],[0.3333333333333333,\"#9c179e\"],[0.4444444444444444,\"#bd3786\"],[0.5555555555555556,\"#d8576b\"],[0.6666666666666666,\"#ed7953\"],[0.7777777777777778,\"#fb9f3a\"],[0.8888888888888888,\"#fdca26\"],[1.0,\"#f0f921\"]]}],\"mesh3d\":[{\"type\":\"mesh3d\",\"colorbar\":{\"outlinewidth\":0,\"ticks\":\"\"}}],\"scatter\":[{\"fillpattern\":{\"fillmode\":\"overlay\",\"size\":10,\"solidity\":0.2},\"type\":\"scatter\"}],\"parcoords\":[{\"type\":\"parcoords\",\"line\":{\"colorbar\":{\"outlinewidth\":0,\"ticks\":\"\"}}}],\"scatterpolargl\":[{\"type\":\"scatterpolargl\",\"marker\":{\"colorbar\":{\"outlinewidth\":0,\"ticks\":\"\"}}}],\"bar\":[{\"error_x\":{\"color\":\"#2a3f5f\"},\"error_y\":{\"color\":\"#2a3f5f\"},\"marker\":{\"line\":{\"color\":\"#E5ECF6\",\"width\":0.5},\"pattern\":{\"fillmode\":\"overlay\",\"size\":10,\"solidity\":0.2}},\"type\":\"bar\"}],\"scattergeo\":[{\"type\":\"scattergeo\",\"marker\":{\"colorbar\":{\"outlinewidth\":0,\"ticks\":\"\"}}}],\"scatterpolar\":[{\"type\":\"scatterpolar\",\"marker\":{\"colorbar\":{\"outlinewidth\":0,\"ticks\":\"\"}}}],\"histogram\":[{\"marker\":{\"pattern\":{\"fillmode\":\"overlay\",\"size\":10,\"solidity\":0.2}},\"type\":\"histogram\"}],\"scattergl\":[{\"type\":\"scattergl\",\"marker\":{\"colorbar\":{\"outlinewidth\":0,\"ticks\":\"\"}}}],\"scatter3d\":[{\"type\":\"scatter3d\",\"line\":{\"colorbar\":{\"outlinewidth\":0,\"ticks\":\"\"}},\"marker\":{\"colorbar\":{\"outlinewidth\":0,\"ticks\":\"\"}}}],\"scattermapbox\":[{\"type\":\"scattermapbox\",\"marker\":{\"colorbar\":{\"outlinewidth\":0,\"ticks\":\"\"}}}],\"scatterternary\":[{\"type\":\"scatterternary\",\"marker\":{\"colorbar\":{\"outlinewidth\":0,\"ticks\":\"\"}}}],\"scattercarpet\":[{\"type\":\"scattercarpet\",\"marker\":{\"colorbar\":{\"outlinewidth\":0,\"ticks\":\"\"}}}],\"carpet\":[{\"aaxis\":{\"endlinecolor\":\"#2a3f5f\",\"gridcolor\":\"white\",\"linecolor\":\"white\",\"minorgridcolor\":\"white\",\"startlinecolor\":\"#2a3f5f\"},\"baxis\":{\"endlinecolor\":\"#2a3f5f\",\"gridcolor\":\"white\",\"linecolor\":\"white\",\"minorgridcolor\":\"white\",\"startlinecolor\":\"#2a3f5f\"},\"type\":\"carpet\"}],\"table\":[{\"cells\":{\"fill\":{\"color\":\"#EBF0F8\"},\"line\":{\"color\":\"white\"}},\"header\":{\"fill\":{\"color\":\"#C8D4E3\"},\"line\":{\"color\":\"white\"}},\"type\":\"table\"}],\"barpolar\":[{\"marker\":{\"line\":{\"color\":\"#E5ECF6\",\"width\":0.5},\"pattern\":{\"fillmode\":\"overlay\",\"size\":10,\"solidity\":0.2}},\"type\":\"barpolar\"}],\"pie\":[{\"automargin\":true,\"type\":\"pie\"}]},\"layout\":{\"autotypenumbers\":\"strict\",\"colorway\":[\"#636efa\",\"#EF553B\",\"#00cc96\",\"#ab63fa\",\"#FFA15A\",\"#19d3f3\",\"#FF6692\",\"#B6E880\",\"#FF97FF\",\"#FECB52\"],\"font\":{\"color\":\"#2a3f5f\"},\"hovermode\":\"closest\",\"hoverlabel\":{\"align\":\"left\"},\"paper_bgcolor\":\"white\",\"plot_bgcolor\":\"#E5ECF6\",\"polar\":{\"bgcolor\":\"#E5ECF6\",\"angularaxis\":{\"gridcolor\":\"white\",\"linecolor\":\"white\",\"ticks\":\"\"},\"radialaxis\":{\"gridcolor\":\"white\",\"linecolor\":\"white\",\"ticks\":\"\"}},\"ternary\":{\"bgcolor\":\"#E5ECF6\",\"aaxis\":{\"gridcolor\":\"white\",\"linecolor\":\"white\",\"ticks\":\"\"},\"baxis\":{\"gridcolor\":\"white\",\"linecolor\":\"white\",\"ticks\":\"\"},\"caxis\":{\"gridcolor\":\"white\",\"linecolor\":\"white\",\"ticks\":\"\"}},\"coloraxis\":{\"colorbar\":{\"outlinewidth\":0,\"ticks\":\"\"}},\"colorscale\":{\"sequential\":[[0.0,\"#0d0887\"],[0.1111111111111111,\"#46039f\"],[0.2222222222222222,\"#7201a8\"],[0.3333333333333333,\"#9c179e\"],[0.4444444444444444,\"#bd3786\"],[0.5555555555555556,\"#d8576b\"],[0.6666666666666666,\"#ed7953\"],[0.7777777777777778,\"#fb9f3a\"],[0.8888888888888888,\"#fdca26\"],[1.0,\"#f0f921\"]],\"sequentialminus\":[[0.0,\"#0d0887\"],[0.1111111111111111,\"#46039f\"],[0.2222222222222222,\"#7201a8\"],[0.3333333333333333,\"#9c179e\"],[0.4444444444444444,\"#bd3786\"],[0.5555555555555556,\"#d8576b\"],[0.6666666666666666,\"#ed7953\"],[0.7777777777777778,\"#fb9f3a\"],[0.8888888888888888,\"#fdca26\"],[1.0,\"#f0f921\"]],\"diverging\":[[0,\"#8e0152\"],[0.1,\"#c51b7d\"],[0.2,\"#de77ae\"],[0.3,\"#f1b6da\"],[0.4,\"#fde0ef\"],[0.5,\"#f7f7f7\"],[0.6,\"#e6f5d0\"],[0.7,\"#b8e186\"],[0.8,\"#7fbc41\"],[0.9,\"#4d9221\"],[1,\"#276419\"]]},\"xaxis\":{\"gridcolor\":\"white\",\"linecolor\":\"white\",\"ticks\":\"\",\"title\":{\"standoff\":15},\"zerolinecolor\":\"white\",\"automargin\":true,\"zerolinewidth\":2},\"yaxis\":{\"gridcolor\":\"white\",\"linecolor\":\"white\",\"ticks\":\"\",\"title\":{\"standoff\":15},\"zerolinecolor\":\"white\",\"automargin\":true,\"zerolinewidth\":2},\"scene\":{\"xaxis\":{\"backgroundcolor\":\"#E5ECF6\",\"gridcolor\":\"white\",\"linecolor\":\"white\",\"showbackground\":true,\"ticks\":\"\",\"zerolinecolor\":\"white\",\"gridwidth\":2},\"yaxis\":{\"backgroundcolor\":\"#E5ECF6\",\"gridcolor\":\"white\",\"linecolor\":\"white\",\"showbackground\":true,\"ticks\":\"\",\"zerolinecolor\":\"white\",\"gridwidth\":2},\"zaxis\":{\"backgroundcolor\":\"#E5ECF6\",\"gridcolor\":\"white\",\"linecolor\":\"white\",\"showbackground\":true,\"ticks\":\"\",\"zerolinecolor\":\"white\",\"gridwidth\":2}},\"shapedefaults\":{\"line\":{\"color\":\"#2a3f5f\"}},\"annotationdefaults\":{\"arrowcolor\":\"#2a3f5f\",\"arrowhead\":0,\"arrowwidth\":1},\"geo\":{\"bgcolor\":\"white\",\"landcolor\":\"#E5ECF6\",\"subunitcolor\":\"white\",\"showland\":true,\"showlakes\":true,\"lakecolor\":\"white\"},\"title\":{\"x\":0.05},\"mapbox\":{\"style\":\"light\"}}},\"legend\":{\"tracegroupgap\":0},\"margin\":{\"t\":60}},                        {\"responsive\": true}                    ).then(function(){\n",
              "                            \n",
              "var gd = document.getElementById('b1893c16-a91c-4a33-8cf1-19860534849a');\n",
              "var x = new MutationObserver(function (mutations, observer) {{\n",
              "        var display = window.getComputedStyle(gd).display;\n",
              "        if (!display || display === 'none') {{\n",
              "            console.log([gd, 'removed!']);\n",
              "            Plotly.purge(gd);\n",
              "            observer.disconnect();\n",
              "        }}\n",
              "}});\n",
              "\n",
              "// Listen for the removal of the full notebook cells\n",
              "var notebookContainer = gd.closest('#notebook-container');\n",
              "if (notebookContainer) {{\n",
              "    x.observe(notebookContainer, {childList: true});\n",
              "}}\n",
              "\n",
              "// Listen for the clearing of the current output cell\n",
              "var outputEl = gd.closest('.output');\n",
              "if (outputEl) {{\n",
              "    x.observe(outputEl, {childList: true});\n",
              "}}\n",
              "\n",
              "                        })                };                            </script>        </div>\n",
              "</body>\n",
              "</html>"
            ]
          },
          "metadata": {}
        }
      ],
      "source": [
        "px.sunburst(shop , path=['Frequency of Purchases','Age_category'] , values='Age')"
      ]
    },
    {
      "cell_type": "markdown",
      "source": [
        "![image.png](data:image/png;base64,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)"
      ],
      "metadata": {
        "id": "Ahd1OBXs90yE"
      },
      "id": "Ahd1OBXs90yE"
    },
    {
      "cell_type": "markdown",
      "id": "f3bf2047-439b-4c05-b2d1-559bdec27d1f",
      "metadata": {
        "id": "f3bf2047-439b-4c05-b2d1-559bdec27d1f"
      },
      "source": [
        "## 11 Are there any correlations between the size of the product and the purchase amount?"
      ]
    },
    {
      "cell_type": "code",
      "execution_count": 55,
      "id": "6462feac-bc50-4a4b-9dda-6186fd46dbb9",
      "metadata": {
        "id": "6462feac-bc50-4a4b-9dda-6186fd46dbb9",
        "outputId": "4925689b-a041-46c4-a994-326ede2fcfef",
        "colab": {
          "base_uri": "https://localhost:8080/"
        }
      },
      "outputs": [
        {
          "output_type": "execute_result",
          "data": {
            "text/plain": [
              "Index(['Customer ID', 'Age', 'Gender', 'Item Purchased', 'Category',\n",
              "       'Purchase Amount (USD)', 'Location', 'Size', 'Color', 'Season',\n",
              "       'Review Rating', 'Subscription Status', 'Shipping Type',\n",
              "       'Discount Applied', 'Promo Code Used', 'Previous Purchases',\n",
              "       'Payment Method', 'Frequency of Purchases', 'Age_category'],\n",
              "      dtype='object')"
            ]
          },
          "metadata": {},
          "execution_count": 55
        }
      ],
      "source": [
        "shop.columns"
      ]
    },
    {
      "cell_type": "code",
      "execution_count": 56,
      "id": "12411267-76c3-4553-93af-9b09f094f68c",
      "metadata": {
        "id": "12411267-76c3-4553-93af-9b09f094f68c"
      },
      "outputs": [],
      "source": [
        "shop_group = shop.groupby('Size')['Purchase Amount (USD)'].sum().reset_index()"
      ]
    },
    {
      "cell_type": "code",
      "execution_count": 57,
      "id": "73e280fa-7ffc-4967-8414-2cbaa9b8e48e",
      "metadata": {
        "id": "73e280fa-7ffc-4967-8414-2cbaa9b8e48e",
        "outputId": "9b23e6c7-2835-4696-f040-c90fa1d023dd",
        "colab": {
          "base_uri": "https://localhost:8080/",
          "height": 542
        }
      },
      "outputs": [
        {
          "output_type": "display_data",
          "data": {
            "text/html": [
              "<html>\n",
              "<head><meta charset=\"utf-8\" /></head>\n",
              "<body>\n",
              "    <div>            <script src=\"https://cdnjs.cloudflare.com/ajax/libs/mathjax/2.7.5/MathJax.js?config=TeX-AMS-MML_SVG\"></script><script type=\"text/javascript\">if (window.MathJax && window.MathJax.Hub && window.MathJax.Hub.Config) {window.MathJax.Hub.Config({SVG: {font: \"STIX-Web\"}});}</script>                <script type=\"text/javascript\">window.PlotlyConfig = {MathJaxConfig: 'local'};</script>\n",
              "        <script charset=\"utf-8\" src=\"https://cdn.plot.ly/plotly-2.35.2.min.js\"></script>                <div id=\"452a08c4-75ae-42f8-9dd8-04eea899f419\" class=\"plotly-graph-div\" style=\"height:525px; width:100%;\"></div>            <script type=\"text/javascript\">                                    window.PLOTLYENV=window.PLOTLYENV || {};                                    if (document.getElementById(\"452a08c4-75ae-42f8-9dd8-04eea899f419\")) {                    Plotly.newPlot(                        \"452a08c4-75ae-42f8-9dd8-04eea899f419\",                        [{\"alignmentgroup\":\"True\",\"hovertemplate\":\"Size=%{x}\\u003cbr\\u003ePurchase Amount (USD)=%{y}\\u003cextra\\u003e\\u003c\\u002fextra\\u003e\",\"legendgroup\":\"\",\"marker\":{\"color\":\"#636efa\",\"pattern\":{\"shape\":\"\"}},\"name\":\"\",\"offsetgroup\":\"\",\"orientation\":\"v\",\"showlegend\":false,\"textposition\":\"auto\",\"x\":[\"L\",\"M\",\"S\",\"XL\"],\"xaxis\":\"x\",\"y\":[61667,105167,40468,25779],\"yaxis\":\"y\",\"type\":\"bar\"}],                        {\"template\":{\"data\":{\"histogram2dcontour\":[{\"type\":\"histogram2dcontour\",\"colorbar\":{\"outlinewidth\":0,\"ticks\":\"\"},\"colorscale\":[[0.0,\"#0d0887\"],[0.1111111111111111,\"#46039f\"],[0.2222222222222222,\"#7201a8\"],[0.3333333333333333,\"#9c179e\"],[0.4444444444444444,\"#bd3786\"],[0.5555555555555556,\"#d8576b\"],[0.6666666666666666,\"#ed7953\"],[0.7777777777777778,\"#fb9f3a\"],[0.8888888888888888,\"#fdca26\"],[1.0,\"#f0f921\"]]}],\"choropleth\":[{\"type\":\"choropleth\",\"colorbar\":{\"outlinewidth\":0,\"ticks\":\"\"}}],\"histogram2d\":[{\"type\":\"histogram2d\",\"colorbar\":{\"outlinewidth\":0,\"ticks\":\"\"},\"colorscale\":[[0.0,\"#0d0887\"],[0.1111111111111111,\"#46039f\"],[0.2222222222222222,\"#7201a8\"],[0.3333333333333333,\"#9c179e\"],[0.4444444444444444,\"#bd3786\"],[0.5555555555555556,\"#d8576b\"],[0.6666666666666666,\"#ed7953\"],[0.7777777777777778,\"#fb9f3a\"],[0.8888888888888888,\"#fdca26\"],[1.0,\"#f0f921\"]]}],\"heatmap\":[{\"type\":\"heatmap\",\"colorbar\":{\"outlinewidth\":0,\"ticks\":\"\"},\"colorscale\":[[0.0,\"#0d0887\"],[0.1111111111111111,\"#46039f\"],[0.2222222222222222,\"#7201a8\"],[0.3333333333333333,\"#9c179e\"],[0.4444444444444444,\"#bd3786\"],[0.5555555555555556,\"#d8576b\"],[0.6666666666666666,\"#ed7953\"],[0.7777777777777778,\"#fb9f3a\"],[0.8888888888888888,\"#fdca26\"],[1.0,\"#f0f921\"]]}],\"heatmapgl\":[{\"type\":\"heatmapgl\",\"colorbar\":{\"outlinewidth\":0,\"ticks\":\"\"},\"colorscale\":[[0.0,\"#0d0887\"],[0.1111111111111111,\"#46039f\"],[0.2222222222222222,\"#7201a8\"],[0.3333333333333333,\"#9c179e\"],[0.4444444444444444,\"#bd3786\"],[0.5555555555555556,\"#d8576b\"],[0.6666666666666666,\"#ed7953\"],[0.7777777777777778,\"#fb9f3a\"],[0.8888888888888888,\"#fdca26\"],[1.0,\"#f0f921\"]]}],\"contourcarpet\":[{\"type\":\"contourcarpet\",\"colorbar\":{\"outlinewidth\":0,\"ticks\":\"\"}}],\"contour\":[{\"type\":\"contour\",\"colorbar\":{\"outlinewidth\":0,\"ticks\":\"\"},\"colorscale\":[[0.0,\"#0d0887\"],[0.1111111111111111,\"#46039f\"],[0.2222222222222222,\"#7201a8\"],[0.3333333333333333,\"#9c179e\"],[0.4444444444444444,\"#bd3786\"],[0.5555555555555556,\"#d8576b\"],[0.6666666666666666,\"#ed7953\"],[0.7777777777777778,\"#fb9f3a\"],[0.8888888888888888,\"#fdca26\"],[1.0,\"#f0f921\"]]}],\"surface\":[{\"type\":\"surface\",\"colorbar\":{\"outlinewidth\":0,\"ticks\":\"\"},\"colorscale\":[[0.0,\"#0d0887\"],[0.1111111111111111,\"#46039f\"],[0.2222222222222222,\"#7201a8\"],[0.3333333333333333,\"#9c179e\"],[0.4444444444444444,\"#bd3786\"],[0.5555555555555556,\"#d8576b\"],[0.6666666666666666,\"#ed7953\"],[0.7777777777777778,\"#fb9f3a\"],[0.8888888888888888,\"#fdca26\"],[1.0,\"#f0f921\"]]}],\"mesh3d\":[{\"type\":\"mesh3d\",\"colorbar\":{\"outlinewidth\":0,\"ticks\":\"\"}}],\"scatter\":[{\"fillpattern\":{\"fillmode\":\"overlay\",\"size\":10,\"solidity\":0.2},\"type\":\"scatter\"}],\"parcoords\":[{\"type\":\"parcoords\",\"line\":{\"colorbar\":{\"outlinewidth\":0,\"ticks\":\"\"}}}],\"scatterpolargl\":[{\"type\":\"scatterpolargl\",\"marker\":{\"colorbar\":{\"outlinewidth\":0,\"ticks\":\"\"}}}],\"bar\":[{\"error_x\":{\"color\":\"#2a3f5f\"},\"error_y\":{\"color\":\"#2a3f5f\"},\"marker\":{\"line\":{\"color\":\"#E5ECF6\",\"width\":0.5},\"pattern\":{\"fillmode\":\"overlay\",\"size\":10,\"solidity\":0.2}},\"type\":\"bar\"}],\"scattergeo\":[{\"type\":\"scattergeo\",\"marker\":{\"colorbar\":{\"outlinewidth\":0,\"ticks\":\"\"}}}],\"scatterpolar\":[{\"type\":\"scatterpolar\",\"marker\":{\"colorbar\":{\"outlinewidth\":0,\"ticks\":\"\"}}}],\"histogram\":[{\"marker\":{\"pattern\":{\"fillmode\":\"overlay\",\"size\":10,\"solidity\":0.2}},\"type\":\"histogram\"}],\"scattergl\":[{\"type\":\"scattergl\",\"marker\":{\"colorbar\":{\"outlinewidth\":0,\"ticks\":\"\"}}}],\"scatter3d\":[{\"type\":\"scatter3d\",\"line\":{\"colorbar\":{\"outlinewidth\":0,\"ticks\":\"\"}},\"marker\":{\"colorbar\":{\"outlinewidth\":0,\"ticks\":\"\"}}}],\"scattermapbox\":[{\"type\":\"scattermapbox\",\"marker\":{\"colorbar\":{\"outlinewidth\":0,\"ticks\":\"\"}}}],\"scatterternary\":[{\"type\":\"scatterternary\",\"marker\":{\"colorbar\":{\"outlinewidth\":0,\"ticks\":\"\"}}}],\"scattercarpet\":[{\"type\":\"scattercarpet\",\"marker\":{\"colorbar\":{\"outlinewidth\":0,\"ticks\":\"\"}}}],\"carpet\":[{\"aaxis\":{\"endlinecolor\":\"#2a3f5f\",\"gridcolor\":\"white\",\"linecolor\":\"white\",\"minorgridcolor\":\"white\",\"startlinecolor\":\"#2a3f5f\"},\"baxis\":{\"endlinecolor\":\"#2a3f5f\",\"gridcolor\":\"white\",\"linecolor\":\"white\",\"minorgridcolor\":\"white\",\"startlinecolor\":\"#2a3f5f\"},\"type\":\"carpet\"}],\"table\":[{\"cells\":{\"fill\":{\"color\":\"#EBF0F8\"},\"line\":{\"color\":\"white\"}},\"header\":{\"fill\":{\"color\":\"#C8D4E3\"},\"line\":{\"color\":\"white\"}},\"type\":\"table\"}],\"barpolar\":[{\"marker\":{\"line\":{\"color\":\"#E5ECF6\",\"width\":0.5},\"pattern\":{\"fillmode\":\"overlay\",\"size\":10,\"solidity\":0.2}},\"type\":\"barpolar\"}],\"pie\":[{\"automargin\":true,\"type\":\"pie\"}]},\"layout\":{\"autotypenumbers\":\"strict\",\"colorway\":[\"#636efa\",\"#EF553B\",\"#00cc96\",\"#ab63fa\",\"#FFA15A\",\"#19d3f3\",\"#FF6692\",\"#B6E880\",\"#FF97FF\",\"#FECB52\"],\"font\":{\"color\":\"#2a3f5f\"},\"hovermode\":\"closest\",\"hoverlabel\":{\"align\":\"left\"},\"paper_bgcolor\":\"white\",\"plot_bgcolor\":\"#E5ECF6\",\"polar\":{\"bgcolor\":\"#E5ECF6\",\"angularaxis\":{\"gridcolor\":\"white\",\"linecolor\":\"white\",\"ticks\":\"\"},\"radialaxis\":{\"gridcolor\":\"white\",\"linecolor\":\"white\",\"ticks\":\"\"}},\"ternary\":{\"bgcolor\":\"#E5ECF6\",\"aaxis\":{\"gridcolor\":\"white\",\"linecolor\":\"white\",\"ticks\":\"\"},\"baxis\":{\"gridcolor\":\"white\",\"linecolor\":\"white\",\"ticks\":\"\"},\"caxis\":{\"gridcolor\":\"white\",\"linecolor\":\"white\",\"ticks\":\"\"}},\"coloraxis\":{\"colorbar\":{\"outlinewidth\":0,\"ticks\":\"\"}},\"colorscale\":{\"sequential\":[[0.0,\"#0d0887\"],[0.1111111111111111,\"#46039f\"],[0.2222222222222222,\"#7201a8\"],[0.3333333333333333,\"#9c179e\"],[0.4444444444444444,\"#bd3786\"],[0.5555555555555556,\"#d8576b\"],[0.6666666666666666,\"#ed7953\"],[0.7777777777777778,\"#fb9f3a\"],[0.8888888888888888,\"#fdca26\"],[1.0,\"#f0f921\"]],\"sequentialminus\":[[0.0,\"#0d0887\"],[0.1111111111111111,\"#46039f\"],[0.2222222222222222,\"#7201a8\"],[0.3333333333333333,\"#9c179e\"],[0.4444444444444444,\"#bd3786\"],[0.5555555555555556,\"#d8576b\"],[0.6666666666666666,\"#ed7953\"],[0.7777777777777778,\"#fb9f3a\"],[0.8888888888888888,\"#fdca26\"],[1.0,\"#f0f921\"]],\"diverging\":[[0,\"#8e0152\"],[0.1,\"#c51b7d\"],[0.2,\"#de77ae\"],[0.3,\"#f1b6da\"],[0.4,\"#fde0ef\"],[0.5,\"#f7f7f7\"],[0.6,\"#e6f5d0\"],[0.7,\"#b8e186\"],[0.8,\"#7fbc41\"],[0.9,\"#4d9221\"],[1,\"#276419\"]]},\"xaxis\":{\"gridcolor\":\"white\",\"linecolor\":\"white\",\"ticks\":\"\",\"title\":{\"standoff\":15},\"zerolinecolor\":\"white\",\"automargin\":true,\"zerolinewidth\":2},\"yaxis\":{\"gridcolor\":\"white\",\"linecolor\":\"white\",\"ticks\":\"\",\"title\":{\"standoff\":15},\"zerolinecolor\":\"white\",\"automargin\":true,\"zerolinewidth\":2},\"scene\":{\"xaxis\":{\"backgroundcolor\":\"#E5ECF6\",\"gridcolor\":\"white\",\"linecolor\":\"white\",\"showbackground\":true,\"ticks\":\"\",\"zerolinecolor\":\"white\",\"gridwidth\":2},\"yaxis\":{\"backgroundcolor\":\"#E5ECF6\",\"gridcolor\":\"white\",\"linecolor\":\"white\",\"showbackground\":true,\"ticks\":\"\",\"zerolinecolor\":\"white\",\"gridwidth\":2},\"zaxis\":{\"backgroundcolor\":\"#E5ECF6\",\"gridcolor\":\"white\",\"linecolor\":\"white\",\"showbackground\":true,\"ticks\":\"\",\"zerolinecolor\":\"white\",\"gridwidth\":2}},\"shapedefaults\":{\"line\":{\"color\":\"#2a3f5f\"}},\"annotationdefaults\":{\"arrowcolor\":\"#2a3f5f\",\"arrowhead\":0,\"arrowwidth\":1},\"geo\":{\"bgcolor\":\"white\",\"landcolor\":\"#E5ECF6\",\"subunitcolor\":\"white\",\"showland\":true,\"showlakes\":true,\"lakecolor\":\"white\"},\"title\":{\"x\":0.05},\"mapbox\":{\"style\":\"light\"}}},\"xaxis\":{\"anchor\":\"y\",\"domain\":[0.0,1.0],\"title\":{\"text\":\"Size\"}},\"yaxis\":{\"anchor\":\"x\",\"domain\":[0.0,1.0],\"title\":{\"text\":\"Purchase Amount (USD)\"}},\"legend\":{\"tracegroupgap\":0},\"margin\":{\"t\":60},\"barmode\":\"relative\"},                        {\"responsive\": true}                    ).then(function(){\n",
              "                            \n",
              "var gd = document.getElementById('452a08c4-75ae-42f8-9dd8-04eea899f419');\n",
              "var x = new MutationObserver(function (mutations, observer) {{\n",
              "        var display = window.getComputedStyle(gd).display;\n",
              "        if (!display || display === 'none') {{\n",
              "            console.log([gd, 'removed!']);\n",
              "            Plotly.purge(gd);\n",
              "            observer.disconnect();\n",
              "        }}\n",
              "}});\n",
              "\n",
              "// Listen for the removal of the full notebook cells\n",
              "var notebookContainer = gd.closest('#notebook-container');\n",
              "if (notebookContainer) {{\n",
              "    x.observe(notebookContainer, {childList: true});\n",
              "}}\n",
              "\n",
              "// Listen for the clearing of the current output cell\n",
              "var outputEl = gd.closest('.output');\n",
              "if (outputEl) {{\n",
              "    x.observe(outputEl, {childList: true});\n",
              "}}\n",
              "\n",
              "                        })                };                            </script>        </div>\n",
              "</body>\n",
              "</html>"
            ]
          },
          "metadata": {}
        }
      ],
      "source": [
        "fig  = px.bar(shop_group , x = 'Size' , y ='Purchase Amount (USD)'  )\n",
        "fig.show()"
      ]
    },
    {
      "cell_type": "markdown",
      "id": "1f94f0b5-7bc9-4fd0-8f44-7c3f4d771ee3",
      "metadata": {
        "id": "1f94f0b5-7bc9-4fd0-8f44-7c3f4d771ee3"
      },
      "source": [
        "## 12 Which shipping type is preferred by customers for different product categories?"
      ]
    },
    {
      "cell_type": "code",
      "execution_count": 58,
      "id": "808075d1-1618-4f89-b8f7-88fb50197f51",
      "metadata": {
        "id": "808075d1-1618-4f89-b8f7-88fb50197f51",
        "outputId": "71858990-cad6-4495-a3c2-8c338e073a0e",
        "colab": {
          "base_uri": "https://localhost:8080/",
          "height": 868
        }
      },
      "outputs": [
        {
          "output_type": "execute_result",
          "data": {
            "text/plain": [
              "Category     Shipping Type \n",
              "Clothing     Standard          297\n",
              "             Free Shipping     294\n",
              "             Next Day Air      293\n",
              "             Express           290\n",
              "             Store Pickup      282\n",
              "             2-Day Shipping    281\n",
              "Accessories  Store Pickup      217\n",
              "             Next Day Air      211\n",
              "             Standard          208\n",
              "             2-Day Shipping    206\n",
              "             Express           203\n",
              "             Free Shipping     195\n",
              "Footwear     Free Shipping     122\n",
              "             Standard          100\n",
              "             Store Pickup       98\n",
              "             Express            96\n",
              "             Next Day Air       93\n",
              "             2-Day Shipping     90\n",
              "Outerwear    Free Shipping      64\n",
              "             Express            57\n",
              "             Store Pickup       53\n",
              "             Next Day Air       51\n",
              "             2-Day Shipping     50\n",
              "             Standard           49\n",
              "Name: count, dtype: int64"
            ],
            "text/html": [
              "<div>\n",
              "<style scoped>\n",
              "    .dataframe tbody tr th:only-of-type {\n",
              "        vertical-align: middle;\n",
              "    }\n",
              "\n",
              "    .dataframe tbody tr th {\n",
              "        vertical-align: top;\n",
              "    }\n",
              "\n",
              "    .dataframe thead th {\n",
              "        text-align: right;\n",
              "    }\n",
              "</style>\n",
              "<table border=\"1\" class=\"dataframe\">\n",
              "  <thead>\n",
              "    <tr style=\"text-align: right;\">\n",
              "      <th></th>\n",
              "      <th></th>\n",
              "      <th>count</th>\n",
              "    </tr>\n",
              "    <tr>\n",
              "      <th>Category</th>\n",
              "      <th>Shipping Type</th>\n",
              "      <th></th>\n",
              "    </tr>\n",
              "  </thead>\n",
              "  <tbody>\n",
              "    <tr>\n",
              "      <th rowspan=\"6\" valign=\"top\">Clothing</th>\n",
              "      <th>Standard</th>\n",
              "      <td>297</td>\n",
              "    </tr>\n",
              "    <tr>\n",
              "      <th>Free Shipping</th>\n",
              "      <td>294</td>\n",
              "    </tr>\n",
              "    <tr>\n",
              "      <th>Next Day Air</th>\n",
              "      <td>293</td>\n",
              "    </tr>\n",
              "    <tr>\n",
              "      <th>Express</th>\n",
              "      <td>290</td>\n",
              "    </tr>\n",
              "    <tr>\n",
              "      <th>Store Pickup</th>\n",
              "      <td>282</td>\n",
              "    </tr>\n",
              "    <tr>\n",
              "      <th>2-Day Shipping</th>\n",
              "      <td>281</td>\n",
              "    </tr>\n",
              "    <tr>\n",
              "      <th rowspan=\"6\" valign=\"top\">Accessories</th>\n",
              "      <th>Store Pickup</th>\n",
              "      <td>217</td>\n",
              "    </tr>\n",
              "    <tr>\n",
              "      <th>Next Day Air</th>\n",
              "      <td>211</td>\n",
              "    </tr>\n",
              "    <tr>\n",
              "      <th>Standard</th>\n",
              "      <td>208</td>\n",
              "    </tr>\n",
              "    <tr>\n",
              "      <th>2-Day Shipping</th>\n",
              "      <td>206</td>\n",
              "    </tr>\n",
              "    <tr>\n",
              "      <th>Express</th>\n",
              "      <td>203</td>\n",
              "    </tr>\n",
              "    <tr>\n",
              "      <th>Free Shipping</th>\n",
              "      <td>195</td>\n",
              "    </tr>\n",
              "    <tr>\n",
              "      <th rowspan=\"6\" valign=\"top\">Footwear</th>\n",
              "      <th>Free Shipping</th>\n",
              "      <td>122</td>\n",
              "    </tr>\n",
              "    <tr>\n",
              "      <th>Standard</th>\n",
              "      <td>100</td>\n",
              "    </tr>\n",
              "    <tr>\n",
              "      <th>Store Pickup</th>\n",
              "      <td>98</td>\n",
              "    </tr>\n",
              "    <tr>\n",
              "      <th>Express</th>\n",
              "      <td>96</td>\n",
              "    </tr>\n",
              "    <tr>\n",
              "      <th>Next Day Air</th>\n",
              "      <td>93</td>\n",
              "    </tr>\n",
              "    <tr>\n",
              "      <th>2-Day Shipping</th>\n",
              "      <td>90</td>\n",
              "    </tr>\n",
              "    <tr>\n",
              "      <th rowspan=\"6\" valign=\"top\">Outerwear</th>\n",
              "      <th>Free Shipping</th>\n",
              "      <td>64</td>\n",
              "    </tr>\n",
              "    <tr>\n",
              "      <th>Express</th>\n",
              "      <td>57</td>\n",
              "    </tr>\n",
              "    <tr>\n",
              "      <th>Store Pickup</th>\n",
              "      <td>53</td>\n",
              "    </tr>\n",
              "    <tr>\n",
              "      <th>Next Day Air</th>\n",
              "      <td>51</td>\n",
              "    </tr>\n",
              "    <tr>\n",
              "      <th>2-Day Shipping</th>\n",
              "      <td>50</td>\n",
              "    </tr>\n",
              "    <tr>\n",
              "      <th>Standard</th>\n",
              "      <td>49</td>\n",
              "    </tr>\n",
              "  </tbody>\n",
              "</table>\n",
              "</div><br><label><b>dtype:</b> int64</label>"
            ]
          },
          "metadata": {},
          "execution_count": 58
        }
      ],
      "source": [
        "shop.groupby('Category')['Shipping Type'].value_counts().sort_values(ascending= False)"
      ]
    },
    {
      "cell_type": "code",
      "execution_count": 59,
      "id": "89f079c5-4d27-47a8-9fb0-b67751436c70",
      "metadata": {
        "id": "89f079c5-4d27-47a8-9fb0-b67751436c70"
      },
      "outputs": [],
      "source": [
        "shop['Shipping_Category'] =shop['Shipping Type'].map({'Express': 0, 'Free Shipping': 1, 'Next Day Air': 2,\n",
        "                                                       'Standard': 3, '2-Day Shipping': 4, 'Store Pickup': 5})"
      ]
    },
    {
      "cell_type": "code",
      "execution_count": 60,
      "id": "ce7cd03a-071f-4d4f-aaac-fe7d57baac5e",
      "metadata": {
        "id": "ce7cd03a-071f-4d4f-aaac-fe7d57baac5e",
        "outputId": "f4504675-64c7-4d43-d75f-0ab89b664b25",
        "colab": {
          "base_uri": "https://localhost:8080/"
        }
      },
      "outputs": [
        {
          "output_type": "execute_result",
          "data": {
            "text/plain": [
              "array(['Clothing', 'Footwear', 'Outerwear', 'Accessories'], dtype=object)"
            ]
          },
          "metadata": {},
          "execution_count": 60
        }
      ],
      "source": [
        "shop['Category'].unique()"
      ]
    },
    {
      "cell_type": "code",
      "execution_count": 61,
      "id": "ec633055-127b-41e4-937c-ea62b9e22aa1",
      "metadata": {
        "id": "ec633055-127b-41e4-937c-ea62b9e22aa1"
      },
      "outputs": [],
      "source": [
        "shop['Category_num'] =shop['Category'].map({'Clothing':1, 'Footwear':2, 'Outerwear':3, 'Accessories':4})"
      ]
    },
    {
      "cell_type": "markdown",
      "id": "a81b3ad1-e49f-4ace-8a34-8aed6311492e",
      "metadata": {
        "id": "a81b3ad1-e49f-4ace-8a34-8aed6311492e"
      },
      "source": [
        "## 13 How does the presence of a discount affect the purchase decision of customers?"
      ]
    },
    {
      "cell_type": "code",
      "execution_count": 62,
      "id": "1f662a61-8393-478d-aabc-72557bea874f",
      "metadata": {
        "id": "1f662a61-8393-478d-aabc-72557bea874f",
        "outputId": "b1c743e0-22de-438e-b2f0-1a0c19ca7ae6",
        "colab": {
          "base_uri": "https://localhost:8080/"
        }
      },
      "outputs": [
        {
          "output_type": "execute_result",
          "data": {
            "text/plain": [
              "Index(['Customer ID', 'Age', 'Gender', 'Item Purchased', 'Category',\n",
              "       'Purchase Amount (USD)', 'Location', 'Size', 'Color', 'Season',\n",
              "       'Review Rating', 'Subscription Status', 'Shipping Type',\n",
              "       'Discount Applied', 'Promo Code Used', 'Previous Purchases',\n",
              "       'Payment Method', 'Frequency of Purchases', 'Age_category',\n",
              "       'Shipping_Category', 'Category_num'],\n",
              "      dtype='object')"
            ]
          },
          "metadata": {},
          "execution_count": 62
        }
      ],
      "source": [
        "shop.columns"
      ]
    },
    {
      "cell_type": "code",
      "execution_count": 63,
      "id": "d2211c8c-9525-46f2-8ba3-661cae1a1a9d",
      "metadata": {
        "id": "d2211c8c-9525-46f2-8ba3-661cae1a1a9d"
      },
      "outputs": [],
      "source": [
        "shop_group = shop.groupby('Discount Applied')['Purchase Amount (USD)'].sum().reset_index()"
      ]
    },
    {
      "cell_type": "code",
      "execution_count": 64,
      "id": "881a58b4-004c-44e9-b6f9-44a52e0bf00a",
      "metadata": {
        "id": "881a58b4-004c-44e9-b6f9-44a52e0bf00a",
        "outputId": "173a79e0-dfcf-435e-8e56-405036fbe65e",
        "colab": {
          "base_uri": "https://localhost:8080/",
          "height": 542
        }
      },
      "outputs": [
        {
          "output_type": "display_data",
          "data": {
            "text/html": [
              "<html>\n",
              "<head><meta charset=\"utf-8\" /></head>\n",
              "<body>\n",
              "    <div>            <script src=\"https://cdnjs.cloudflare.com/ajax/libs/mathjax/2.7.5/MathJax.js?config=TeX-AMS-MML_SVG\"></script><script type=\"text/javascript\">if (window.MathJax && window.MathJax.Hub && window.MathJax.Hub.Config) {window.MathJax.Hub.Config({SVG: {font: \"STIX-Web\"}});}</script>                <script type=\"text/javascript\">window.PlotlyConfig = {MathJaxConfig: 'local'};</script>\n",
              "        <script charset=\"utf-8\" src=\"https://cdn.plot.ly/plotly-2.35.2.min.js\"></script>                <div id=\"b58f50e4-0e03-4fb7-8df1-ebd97f339b4e\" class=\"plotly-graph-div\" style=\"height:525px; width:100%;\"></div>            <script type=\"text/javascript\">                                    window.PLOTLYENV=window.PLOTLYENV || {};                                    if (document.getElementById(\"b58f50e4-0e03-4fb7-8df1-ebd97f339b4e\")) {                    Plotly.newPlot(                        \"b58f50e4-0e03-4fb7-8df1-ebd97f339b4e\",                        [{\"alignmentgroup\":\"True\",\"bingroup\":\"x\",\"histfunc\":\"sum\",\"hovertemplate\":\"Discount Applied=%{x}\\u003cbr\\u003esum of Purchase Amount (USD)=%{y}\\u003cextra\\u003e\\u003c\\u002fextra\\u003e\",\"legendgroup\":\"\",\"marker\":{\"color\":\"#636efa\",\"pattern\":{\"shape\":\"\"}},\"name\":\"\",\"offsetgroup\":\"\",\"orientation\":\"v\",\"showlegend\":false,\"x\":[\"No\",\"Yes\"],\"xaxis\":\"x\",\"y\":[133670,99411],\"yaxis\":\"y\",\"type\":\"histogram\"}],                        {\"template\":{\"data\":{\"histogram2dcontour\":[{\"type\":\"histogram2dcontour\",\"colorbar\":{\"outlinewidth\":0,\"ticks\":\"\"},\"colorscale\":[[0.0,\"#0d0887\"],[0.1111111111111111,\"#46039f\"],[0.2222222222222222,\"#7201a8\"],[0.3333333333333333,\"#9c179e\"],[0.4444444444444444,\"#bd3786\"],[0.5555555555555556,\"#d8576b\"],[0.6666666666666666,\"#ed7953\"],[0.7777777777777778,\"#fb9f3a\"],[0.8888888888888888,\"#fdca26\"],[1.0,\"#f0f921\"]]}],\"choropleth\":[{\"type\":\"choropleth\",\"colorbar\":{\"outlinewidth\":0,\"ticks\":\"\"}}],\"histogram2d\":[{\"type\":\"histogram2d\",\"colorbar\":{\"outlinewidth\":0,\"ticks\":\"\"},\"colorscale\":[[0.0,\"#0d0887\"],[0.1111111111111111,\"#46039f\"],[0.2222222222222222,\"#7201a8\"],[0.3333333333333333,\"#9c179e\"],[0.4444444444444444,\"#bd3786\"],[0.5555555555555556,\"#d8576b\"],[0.6666666666666666,\"#ed7953\"],[0.7777777777777778,\"#fb9f3a\"],[0.8888888888888888,\"#fdca26\"],[1.0,\"#f0f921\"]]}],\"heatmap\":[{\"type\":\"heatmap\",\"colorbar\":{\"outlinewidth\":0,\"ticks\":\"\"},\"colorscale\":[[0.0,\"#0d0887\"],[0.1111111111111111,\"#46039f\"],[0.2222222222222222,\"#7201a8\"],[0.3333333333333333,\"#9c179e\"],[0.4444444444444444,\"#bd3786\"],[0.5555555555555556,\"#d8576b\"],[0.6666666666666666,\"#ed7953\"],[0.7777777777777778,\"#fb9f3a\"],[0.8888888888888888,\"#fdca26\"],[1.0,\"#f0f921\"]]}],\"heatmapgl\":[{\"type\":\"heatmapgl\",\"colorbar\":{\"outlinewidth\":0,\"ticks\":\"\"},\"colorscale\":[[0.0,\"#0d0887\"],[0.1111111111111111,\"#46039f\"],[0.2222222222222222,\"#7201a8\"],[0.3333333333333333,\"#9c179e\"],[0.4444444444444444,\"#bd3786\"],[0.5555555555555556,\"#d8576b\"],[0.6666666666666666,\"#ed7953\"],[0.7777777777777778,\"#fb9f3a\"],[0.8888888888888888,\"#fdca26\"],[1.0,\"#f0f921\"]]}],\"contourcarpet\":[{\"type\":\"contourcarpet\",\"colorbar\":{\"outlinewidth\":0,\"ticks\":\"\"}}],\"contour\":[{\"type\":\"contour\",\"colorbar\":{\"outlinewidth\":0,\"ticks\":\"\"},\"colorscale\":[[0.0,\"#0d0887\"],[0.1111111111111111,\"#46039f\"],[0.2222222222222222,\"#7201a8\"],[0.3333333333333333,\"#9c179e\"],[0.4444444444444444,\"#bd3786\"],[0.5555555555555556,\"#d8576b\"],[0.6666666666666666,\"#ed7953\"],[0.7777777777777778,\"#fb9f3a\"],[0.8888888888888888,\"#fdca26\"],[1.0,\"#f0f921\"]]}],\"surface\":[{\"type\":\"surface\",\"colorbar\":{\"outlinewidth\":0,\"ticks\":\"\"},\"colorscale\":[[0.0,\"#0d0887\"],[0.1111111111111111,\"#46039f\"],[0.2222222222222222,\"#7201a8\"],[0.3333333333333333,\"#9c179e\"],[0.4444444444444444,\"#bd3786\"],[0.5555555555555556,\"#d8576b\"],[0.6666666666666666,\"#ed7953\"],[0.7777777777777778,\"#fb9f3a\"],[0.8888888888888888,\"#fdca26\"],[1.0,\"#f0f921\"]]}],\"mesh3d\":[{\"type\":\"mesh3d\",\"colorbar\":{\"outlinewidth\":0,\"ticks\":\"\"}}],\"scatter\":[{\"fillpattern\":{\"fillmode\":\"overlay\",\"size\":10,\"solidity\":0.2},\"type\":\"scatter\"}],\"parcoords\":[{\"type\":\"parcoords\",\"line\":{\"colorbar\":{\"outlinewidth\":0,\"ticks\":\"\"}}}],\"scatterpolargl\":[{\"type\":\"scatterpolargl\",\"marker\":{\"colorbar\":{\"outlinewidth\":0,\"ticks\":\"\"}}}],\"bar\":[{\"error_x\":{\"color\":\"#2a3f5f\"},\"error_y\":{\"color\":\"#2a3f5f\"},\"marker\":{\"line\":{\"color\":\"#E5ECF6\",\"width\":0.5},\"pattern\":{\"fillmode\":\"overlay\",\"size\":10,\"solidity\":0.2}},\"type\":\"bar\"}],\"scattergeo\":[{\"type\":\"scattergeo\",\"marker\":{\"colorbar\":{\"outlinewidth\":0,\"ticks\":\"\"}}}],\"scatterpolar\":[{\"type\":\"scatterpolar\",\"marker\":{\"colorbar\":{\"outlinewidth\":0,\"ticks\":\"\"}}}],\"histogram\":[{\"marker\":{\"pattern\":{\"fillmode\":\"overlay\",\"size\":10,\"solidity\":0.2}},\"type\":\"histogram\"}],\"scattergl\":[{\"type\":\"scattergl\",\"marker\":{\"colorbar\":{\"outlinewidth\":0,\"ticks\":\"\"}}}],\"scatter3d\":[{\"type\":\"scatter3d\",\"line\":{\"colorbar\":{\"outlinewidth\":0,\"ticks\":\"\"}},\"marker\":{\"colorbar\":{\"outlinewidth\":0,\"ticks\":\"\"}}}],\"scattermapbox\":[{\"type\":\"scattermapbox\",\"marker\":{\"colorbar\":{\"outlinewidth\":0,\"ticks\":\"\"}}}],\"scatterternary\":[{\"type\":\"scatterternary\",\"marker\":{\"colorbar\":{\"outlinewidth\":0,\"ticks\":\"\"}}}],\"scattercarpet\":[{\"type\":\"scattercarpet\",\"marker\":{\"colorbar\":{\"outlinewidth\":0,\"ticks\":\"\"}}}],\"carpet\":[{\"aaxis\":{\"endlinecolor\":\"#2a3f5f\",\"gridcolor\":\"white\",\"linecolor\":\"white\",\"minorgridcolor\":\"white\",\"startlinecolor\":\"#2a3f5f\"},\"baxis\":{\"endlinecolor\":\"#2a3f5f\",\"gridcolor\":\"white\",\"linecolor\":\"white\",\"minorgridcolor\":\"white\",\"startlinecolor\":\"#2a3f5f\"},\"type\":\"carpet\"}],\"table\":[{\"cells\":{\"fill\":{\"color\":\"#EBF0F8\"},\"line\":{\"color\":\"white\"}},\"header\":{\"fill\":{\"color\":\"#C8D4E3\"},\"line\":{\"color\":\"white\"}},\"type\":\"table\"}],\"barpolar\":[{\"marker\":{\"line\":{\"color\":\"#E5ECF6\",\"width\":0.5},\"pattern\":{\"fillmode\":\"overlay\",\"size\":10,\"solidity\":0.2}},\"type\":\"barpolar\"}],\"pie\":[{\"automargin\":true,\"type\":\"pie\"}]},\"layout\":{\"autotypenumbers\":\"strict\",\"colorway\":[\"#636efa\",\"#EF553B\",\"#00cc96\",\"#ab63fa\",\"#FFA15A\",\"#19d3f3\",\"#FF6692\",\"#B6E880\",\"#FF97FF\",\"#FECB52\"],\"font\":{\"color\":\"#2a3f5f\"},\"hovermode\":\"closest\",\"hoverlabel\":{\"align\":\"left\"},\"paper_bgcolor\":\"white\",\"plot_bgcolor\":\"#E5ECF6\",\"polar\":{\"bgcolor\":\"#E5ECF6\",\"angularaxis\":{\"gridcolor\":\"white\",\"linecolor\":\"white\",\"ticks\":\"\"},\"radialaxis\":{\"gridcolor\":\"white\",\"linecolor\":\"white\",\"ticks\":\"\"}},\"ternary\":{\"bgcolor\":\"#E5ECF6\",\"aaxis\":{\"gridcolor\":\"white\",\"linecolor\":\"white\",\"ticks\":\"\"},\"baxis\":{\"gridcolor\":\"white\",\"linecolor\":\"white\",\"ticks\":\"\"},\"caxis\":{\"gridcolor\":\"white\",\"linecolor\":\"white\",\"ticks\":\"\"}},\"coloraxis\":{\"colorbar\":{\"outlinewidth\":0,\"ticks\":\"\"}},\"colorscale\":{\"sequential\":[[0.0,\"#0d0887\"],[0.1111111111111111,\"#46039f\"],[0.2222222222222222,\"#7201a8\"],[0.3333333333333333,\"#9c179e\"],[0.4444444444444444,\"#bd3786\"],[0.5555555555555556,\"#d8576b\"],[0.6666666666666666,\"#ed7953\"],[0.7777777777777778,\"#fb9f3a\"],[0.8888888888888888,\"#fdca26\"],[1.0,\"#f0f921\"]],\"sequentialminus\":[[0.0,\"#0d0887\"],[0.1111111111111111,\"#46039f\"],[0.2222222222222222,\"#7201a8\"],[0.3333333333333333,\"#9c179e\"],[0.4444444444444444,\"#bd3786\"],[0.5555555555555556,\"#d8576b\"],[0.6666666666666666,\"#ed7953\"],[0.7777777777777778,\"#fb9f3a\"],[0.8888888888888888,\"#fdca26\"],[1.0,\"#f0f921\"]],\"diverging\":[[0,\"#8e0152\"],[0.1,\"#c51b7d\"],[0.2,\"#de77ae\"],[0.3,\"#f1b6da\"],[0.4,\"#fde0ef\"],[0.5,\"#f7f7f7\"],[0.6,\"#e6f5d0\"],[0.7,\"#b8e186\"],[0.8,\"#7fbc41\"],[0.9,\"#4d9221\"],[1,\"#276419\"]]},\"xaxis\":{\"gridcolor\":\"white\",\"linecolor\":\"white\",\"ticks\":\"\",\"title\":{\"standoff\":15},\"zerolinecolor\":\"white\",\"automargin\":true,\"zerolinewidth\":2},\"yaxis\":{\"gridcolor\":\"white\",\"linecolor\":\"white\",\"ticks\":\"\",\"title\":{\"standoff\":15},\"zerolinecolor\":\"white\",\"automargin\":true,\"zerolinewidth\":2},\"scene\":{\"xaxis\":{\"backgroundcolor\":\"#E5ECF6\",\"gridcolor\":\"white\",\"linecolor\":\"white\",\"showbackground\":true,\"ticks\":\"\",\"zerolinecolor\":\"white\",\"gridwidth\":2},\"yaxis\":{\"backgroundcolor\":\"#E5ECF6\",\"gridcolor\":\"white\",\"linecolor\":\"white\",\"showbackground\":true,\"ticks\":\"\",\"zerolinecolor\":\"white\",\"gridwidth\":2},\"zaxis\":{\"backgroundcolor\":\"#E5ECF6\",\"gridcolor\":\"white\",\"linecolor\":\"white\",\"showbackground\":true,\"ticks\":\"\",\"zerolinecolor\":\"white\",\"gridwidth\":2}},\"shapedefaults\":{\"line\":{\"color\":\"#2a3f5f\"}},\"annotationdefaults\":{\"arrowcolor\":\"#2a3f5f\",\"arrowhead\":0,\"arrowwidth\":1},\"geo\":{\"bgcolor\":\"white\",\"landcolor\":\"#E5ECF6\",\"subunitcolor\":\"white\",\"showland\":true,\"showlakes\":true,\"lakecolor\":\"white\"},\"title\":{\"x\":0.05},\"mapbox\":{\"style\":\"light\"}}},\"xaxis\":{\"anchor\":\"y\",\"domain\":[0.0,1.0],\"title\":{\"text\":\"Discount Applied\"}},\"yaxis\":{\"anchor\":\"x\",\"domain\":[0.0,1.0],\"title\":{\"text\":\"sum of Purchase Amount (USD)\"}},\"legend\":{\"tracegroupgap\":0},\"margin\":{\"t\":60},\"barmode\":\"relative\"},                        {\"responsive\": true}                    ).then(function(){\n",
              "                            \n",
              "var gd = document.getElementById('b58f50e4-0e03-4fb7-8df1-ebd97f339b4e');\n",
              "var x = new MutationObserver(function (mutations, observer) {{\n",
              "        var display = window.getComputedStyle(gd).display;\n",
              "        if (!display || display === 'none') {{\n",
              "            console.log([gd, 'removed!']);\n",
              "            Plotly.purge(gd);\n",
              "            observer.disconnect();\n",
              "        }}\n",
              "}});\n",
              "\n",
              "// Listen for the removal of the full notebook cells\n",
              "var notebookContainer = gd.closest('#notebook-container');\n",
              "if (notebookContainer) {{\n",
              "    x.observe(notebookContainer, {childList: true});\n",
              "}}\n",
              "\n",
              "// Listen for the clearing of the current output cell\n",
              "var outputEl = gd.closest('.output');\n",
              "if (outputEl) {{\n",
              "    x.observe(outputEl, {childList: true});\n",
              "}}\n",
              "\n",
              "                        })                };                            </script>        </div>\n",
              "</body>\n",
              "</html>"
            ]
          },
          "metadata": {}
        }
      ],
      "source": [
        "px.histogram(shop_group , x = 'Discount Applied' , y = 'Purchase Amount (USD)')"
      ]
    },
    {
      "cell_type": "code",
      "execution_count": 65,
      "id": "a9de61de-3eed-4a27-904e-f3538e0793c8",
      "metadata": {
        "id": "a9de61de-3eed-4a27-904e-f3538e0793c8",
        "outputId": "9eb6cc05-8a0b-496d-f775-14fb138897b8",
        "colab": {
          "base_uri": "https://localhost:8080/",
          "height": 542
        }
      },
      "outputs": [
        {
          "output_type": "display_data",
          "data": {
            "text/html": [
              "<html>\n",
              "<head><meta charset=\"utf-8\" /></head>\n",
              "<body>\n",
              "    <div>            <script src=\"https://cdnjs.cloudflare.com/ajax/libs/mathjax/2.7.5/MathJax.js?config=TeX-AMS-MML_SVG\"></script><script type=\"text/javascript\">if (window.MathJax && window.MathJax.Hub && window.MathJax.Hub.Config) {window.MathJax.Hub.Config({SVG: {font: \"STIX-Web\"}});}</script>                <script type=\"text/javascript\">window.PlotlyConfig = {MathJaxConfig: 'local'};</script>\n",
              "        <script charset=\"utf-8\" src=\"https://cdn.plot.ly/plotly-2.35.2.min.js\"></script>                <div id=\"2ad9e9db-8a1a-4055-855e-79dc0b5096d3\" class=\"plotly-graph-div\" style=\"height:525px; width:100%;\"></div>            <script type=\"text/javascript\">                                    window.PLOTLYENV=window.PLOTLYENV || {};                                    if (document.getElementById(\"2ad9e9db-8a1a-4055-855e-79dc0b5096d3\")) {                    Plotly.newPlot(                        \"2ad9e9db-8a1a-4055-855e-79dc0b5096d3\",                        [{\"branchvalues\":\"total\",\"customdata\":[[\"Female\"],[\"Male\"],[\"Male\"],[\"Female\"],[\"Male\"]],\"domain\":{\"x\":[0.0,1.0],\"y\":[0.0,1.0]},\"hovertemplate\":\"labels=%{label}\\u003cbr\\u003ePurchase Amount (USD)=%{value}\\u003cbr\\u003eparent=%{parent}\\u003cbr\\u003eid=%{id}\\u003cbr\\u003eGender=%{customdata[0]}\\u003cextra\\u003e\\u003c\\u002fextra\\u003e\",\"ids\":[\"Female\\u002fNo\",\"Male\\u002fNo\",\"Male\\u002fYes\",\"Female\",\"Male\"],\"labels\":[\"No\",\"No\",\"Yes\",\"Female\",\"Male\"],\"marker\":{\"colors\":[\"#636efa\",\"#EF553B\",\"#EF553B\",\"#636efa\",\"#EF553B\"]},\"name\":\"\",\"parents\":[\"Female\",\"Male\",\"Male\",\"\",\"\"],\"values\":[75191,58479,99411,75191,157890],\"type\":\"sunburst\"}],                        {\"template\":{\"data\":{\"histogram2dcontour\":[{\"type\":\"histogram2dcontour\",\"colorbar\":{\"outlinewidth\":0,\"ticks\":\"\"},\"colorscale\":[[0.0,\"#0d0887\"],[0.1111111111111111,\"#46039f\"],[0.2222222222222222,\"#7201a8\"],[0.3333333333333333,\"#9c179e\"],[0.4444444444444444,\"#bd3786\"],[0.5555555555555556,\"#d8576b\"],[0.6666666666666666,\"#ed7953\"],[0.7777777777777778,\"#fb9f3a\"],[0.8888888888888888,\"#fdca26\"],[1.0,\"#f0f921\"]]}],\"choropleth\":[{\"type\":\"choropleth\",\"colorbar\":{\"outlinewidth\":0,\"ticks\":\"\"}}],\"histogram2d\":[{\"type\":\"histogram2d\",\"colorbar\":{\"outlinewidth\":0,\"ticks\":\"\"},\"colorscale\":[[0.0,\"#0d0887\"],[0.1111111111111111,\"#46039f\"],[0.2222222222222222,\"#7201a8\"],[0.3333333333333333,\"#9c179e\"],[0.4444444444444444,\"#bd3786\"],[0.5555555555555556,\"#d8576b\"],[0.6666666666666666,\"#ed7953\"],[0.7777777777777778,\"#fb9f3a\"],[0.8888888888888888,\"#fdca26\"],[1.0,\"#f0f921\"]]}],\"heatmap\":[{\"type\":\"heatmap\",\"colorbar\":{\"outlinewidth\":0,\"ticks\":\"\"},\"colorscale\":[[0.0,\"#0d0887\"],[0.1111111111111111,\"#46039f\"],[0.2222222222222222,\"#7201a8\"],[0.3333333333333333,\"#9c179e\"],[0.4444444444444444,\"#bd3786\"],[0.5555555555555556,\"#d8576b\"],[0.6666666666666666,\"#ed7953\"],[0.7777777777777778,\"#fb9f3a\"],[0.8888888888888888,\"#fdca26\"],[1.0,\"#f0f921\"]]}],\"heatmapgl\":[{\"type\":\"heatmapgl\",\"colorbar\":{\"outlinewidth\":0,\"ticks\":\"\"},\"colorscale\":[[0.0,\"#0d0887\"],[0.1111111111111111,\"#46039f\"],[0.2222222222222222,\"#7201a8\"],[0.3333333333333333,\"#9c179e\"],[0.4444444444444444,\"#bd3786\"],[0.5555555555555556,\"#d8576b\"],[0.6666666666666666,\"#ed7953\"],[0.7777777777777778,\"#fb9f3a\"],[0.8888888888888888,\"#fdca26\"],[1.0,\"#f0f921\"]]}],\"contourcarpet\":[{\"type\":\"contourcarpet\",\"colorbar\":{\"outlinewidth\":0,\"ticks\":\"\"}}],\"contour\":[{\"type\":\"contour\",\"colorbar\":{\"outlinewidth\":0,\"ticks\":\"\"},\"colorscale\":[[0.0,\"#0d0887\"],[0.1111111111111111,\"#46039f\"],[0.2222222222222222,\"#7201a8\"],[0.3333333333333333,\"#9c179e\"],[0.4444444444444444,\"#bd3786\"],[0.5555555555555556,\"#d8576b\"],[0.6666666666666666,\"#ed7953\"],[0.7777777777777778,\"#fb9f3a\"],[0.8888888888888888,\"#fdca26\"],[1.0,\"#f0f921\"]]}],\"surface\":[{\"type\":\"surface\",\"colorbar\":{\"outlinewidth\":0,\"ticks\":\"\"},\"colorscale\":[[0.0,\"#0d0887\"],[0.1111111111111111,\"#46039f\"],[0.2222222222222222,\"#7201a8\"],[0.3333333333333333,\"#9c179e\"],[0.4444444444444444,\"#bd3786\"],[0.5555555555555556,\"#d8576b\"],[0.6666666666666666,\"#ed7953\"],[0.7777777777777778,\"#fb9f3a\"],[0.8888888888888888,\"#fdca26\"],[1.0,\"#f0f921\"]]}],\"mesh3d\":[{\"type\":\"mesh3d\",\"colorbar\":{\"outlinewidth\":0,\"ticks\":\"\"}}],\"scatter\":[{\"fillpattern\":{\"fillmode\":\"overlay\",\"size\":10,\"solidity\":0.2},\"type\":\"scatter\"}],\"parcoords\":[{\"type\":\"parcoords\",\"line\":{\"colorbar\":{\"outlinewidth\":0,\"ticks\":\"\"}}}],\"scatterpolargl\":[{\"type\":\"scatterpolargl\",\"marker\":{\"colorbar\":{\"outlinewidth\":0,\"ticks\":\"\"}}}],\"bar\":[{\"error_x\":{\"color\":\"#2a3f5f\"},\"error_y\":{\"color\":\"#2a3f5f\"},\"marker\":{\"line\":{\"color\":\"#E5ECF6\",\"width\":0.5},\"pattern\":{\"fillmode\":\"overlay\",\"size\":10,\"solidity\":0.2}},\"type\":\"bar\"}],\"scattergeo\":[{\"type\":\"scattergeo\",\"marker\":{\"colorbar\":{\"outlinewidth\":0,\"ticks\":\"\"}}}],\"scatterpolar\":[{\"type\":\"scatterpolar\",\"marker\":{\"colorbar\":{\"outlinewidth\":0,\"ticks\":\"\"}}}],\"histogram\":[{\"marker\":{\"pattern\":{\"fillmode\":\"overlay\",\"size\":10,\"solidity\":0.2}},\"type\":\"histogram\"}],\"scattergl\":[{\"type\":\"scattergl\",\"marker\":{\"colorbar\":{\"outlinewidth\":0,\"ticks\":\"\"}}}],\"scatter3d\":[{\"type\":\"scatter3d\",\"line\":{\"colorbar\":{\"outlinewidth\":0,\"ticks\":\"\"}},\"marker\":{\"colorbar\":{\"outlinewidth\":0,\"ticks\":\"\"}}}],\"scattermapbox\":[{\"type\":\"scattermapbox\",\"marker\":{\"colorbar\":{\"outlinewidth\":0,\"ticks\":\"\"}}}],\"scatterternary\":[{\"type\":\"scatterternary\",\"marker\":{\"colorbar\":{\"outlinewidth\":0,\"ticks\":\"\"}}}],\"scattercarpet\":[{\"type\":\"scattercarpet\",\"marker\":{\"colorbar\":{\"outlinewidth\":0,\"ticks\":\"\"}}}],\"carpet\":[{\"aaxis\":{\"endlinecolor\":\"#2a3f5f\",\"gridcolor\":\"white\",\"linecolor\":\"white\",\"minorgridcolor\":\"white\",\"startlinecolor\":\"#2a3f5f\"},\"baxis\":{\"endlinecolor\":\"#2a3f5f\",\"gridcolor\":\"white\",\"linecolor\":\"white\",\"minorgridcolor\":\"white\",\"startlinecolor\":\"#2a3f5f\"},\"type\":\"carpet\"}],\"table\":[{\"cells\":{\"fill\":{\"color\":\"#EBF0F8\"},\"line\":{\"color\":\"white\"}},\"header\":{\"fill\":{\"color\":\"#C8D4E3\"},\"line\":{\"color\":\"white\"}},\"type\":\"table\"}],\"barpolar\":[{\"marker\":{\"line\":{\"color\":\"#E5ECF6\",\"width\":0.5},\"pattern\":{\"fillmode\":\"overlay\",\"size\":10,\"solidity\":0.2}},\"type\":\"barpolar\"}],\"pie\":[{\"automargin\":true,\"type\":\"pie\"}]},\"layout\":{\"autotypenumbers\":\"strict\",\"colorway\":[\"#636efa\",\"#EF553B\",\"#00cc96\",\"#ab63fa\",\"#FFA15A\",\"#19d3f3\",\"#FF6692\",\"#B6E880\",\"#FF97FF\",\"#FECB52\"],\"font\":{\"color\":\"#2a3f5f\"},\"hovermode\":\"closest\",\"hoverlabel\":{\"align\":\"left\"},\"paper_bgcolor\":\"white\",\"plot_bgcolor\":\"#E5ECF6\",\"polar\":{\"bgcolor\":\"#E5ECF6\",\"angularaxis\":{\"gridcolor\":\"white\",\"linecolor\":\"white\",\"ticks\":\"\"},\"radialaxis\":{\"gridcolor\":\"white\",\"linecolor\":\"white\",\"ticks\":\"\"}},\"ternary\":{\"bgcolor\":\"#E5ECF6\",\"aaxis\":{\"gridcolor\":\"white\",\"linecolor\":\"white\",\"ticks\":\"\"},\"baxis\":{\"gridcolor\":\"white\",\"linecolor\":\"white\",\"ticks\":\"\"},\"caxis\":{\"gridcolor\":\"white\",\"linecolor\":\"white\",\"ticks\":\"\"}},\"coloraxis\":{\"colorbar\":{\"outlinewidth\":0,\"ticks\":\"\"}},\"colorscale\":{\"sequential\":[[0.0,\"#0d0887\"],[0.1111111111111111,\"#46039f\"],[0.2222222222222222,\"#7201a8\"],[0.3333333333333333,\"#9c179e\"],[0.4444444444444444,\"#bd3786\"],[0.5555555555555556,\"#d8576b\"],[0.6666666666666666,\"#ed7953\"],[0.7777777777777778,\"#fb9f3a\"],[0.8888888888888888,\"#fdca26\"],[1.0,\"#f0f921\"]],\"sequentialminus\":[[0.0,\"#0d0887\"],[0.1111111111111111,\"#46039f\"],[0.2222222222222222,\"#7201a8\"],[0.3333333333333333,\"#9c179e\"],[0.4444444444444444,\"#bd3786\"],[0.5555555555555556,\"#d8576b\"],[0.6666666666666666,\"#ed7953\"],[0.7777777777777778,\"#fb9f3a\"],[0.8888888888888888,\"#fdca26\"],[1.0,\"#f0f921\"]],\"diverging\":[[0,\"#8e0152\"],[0.1,\"#c51b7d\"],[0.2,\"#de77ae\"],[0.3,\"#f1b6da\"],[0.4,\"#fde0ef\"],[0.5,\"#f7f7f7\"],[0.6,\"#e6f5d0\"],[0.7,\"#b8e186\"],[0.8,\"#7fbc41\"],[0.9,\"#4d9221\"],[1,\"#276419\"]]},\"xaxis\":{\"gridcolor\":\"white\",\"linecolor\":\"white\",\"ticks\":\"\",\"title\":{\"standoff\":15},\"zerolinecolor\":\"white\",\"automargin\":true,\"zerolinewidth\":2},\"yaxis\":{\"gridcolor\":\"white\",\"linecolor\":\"white\",\"ticks\":\"\",\"title\":{\"standoff\":15},\"zerolinecolor\":\"white\",\"automargin\":true,\"zerolinewidth\":2},\"scene\":{\"xaxis\":{\"backgroundcolor\":\"#E5ECF6\",\"gridcolor\":\"white\",\"linecolor\":\"white\",\"showbackground\":true,\"ticks\":\"\",\"zerolinecolor\":\"white\",\"gridwidth\":2},\"yaxis\":{\"backgroundcolor\":\"#E5ECF6\",\"gridcolor\":\"white\",\"linecolor\":\"white\",\"showbackground\":true,\"ticks\":\"\",\"zerolinecolor\":\"white\",\"gridwidth\":2},\"zaxis\":{\"backgroundcolor\":\"#E5ECF6\",\"gridcolor\":\"white\",\"linecolor\":\"white\",\"showbackground\":true,\"ticks\":\"\",\"zerolinecolor\":\"white\",\"gridwidth\":2}},\"shapedefaults\":{\"line\":{\"color\":\"#2a3f5f\"}},\"annotationdefaults\":{\"arrowcolor\":\"#2a3f5f\",\"arrowhead\":0,\"arrowwidth\":1},\"geo\":{\"bgcolor\":\"white\",\"landcolor\":\"#E5ECF6\",\"subunitcolor\":\"white\",\"showland\":true,\"showlakes\":true,\"lakecolor\":\"white\"},\"title\":{\"x\":0.05},\"mapbox\":{\"style\":\"light\"}}},\"legend\":{\"tracegroupgap\":0},\"margin\":{\"t\":60}},                        {\"responsive\": true}                    ).then(function(){\n",
              "                            \n",
              "var gd = document.getElementById('2ad9e9db-8a1a-4055-855e-79dc0b5096d3');\n",
              "var x = new MutationObserver(function (mutations, observer) {{\n",
              "        var display = window.getComputedStyle(gd).display;\n",
              "        if (!display || display === 'none') {{\n",
              "            console.log([gd, 'removed!']);\n",
              "            Plotly.purge(gd);\n",
              "            observer.disconnect();\n",
              "        }}\n",
              "}});\n",
              "\n",
              "// Listen for the removal of the full notebook cells\n",
              "var notebookContainer = gd.closest('#notebook-container');\n",
              "if (notebookContainer) {{\n",
              "    x.observe(notebookContainer, {childList: true});\n",
              "}}\n",
              "\n",
              "// Listen for the clearing of the current output cell\n",
              "var outputEl = gd.closest('.output');\n",
              "if (outputEl) {{\n",
              "    x.observe(outputEl, {childList: true});\n",
              "}}\n",
              "\n",
              "                        })                };                            </script>        </div>\n",
              "</body>\n",
              "</html>"
            ]
          },
          "metadata": {}
        }
      ],
      "source": [
        "fig = px.sunburst(shop , path = ['Gender' , 'Discount Applied'], values='Purchase Amount (USD)' , color= 'Gender')\n",
        "\n",
        "fig.show()"
      ]
    },
    {
      "cell_type": "markdown",
      "id": "37150113-a8ec-4366-aa49-d0c248c33a84",
      "metadata": {
        "id": "37150113-a8ec-4366-aa49-d0c248c33a84"
      },
      "source": [
        "## 14 Are there any specific colors that are more popular among customers?"
      ]
    },
    {
      "cell_type": "code",
      "execution_count": 66,
      "id": "dad4f942-1499-4054-adef-ec8c2e3c43fc",
      "metadata": {
        "id": "dad4f942-1499-4054-adef-ec8c2e3c43fc",
        "outputId": "164e7ea2-d08e-4990-d2ce-d01fafa0dd37",
        "colab": {
          "base_uri": "https://localhost:8080/",
          "height": 542
        }
      },
      "outputs": [
        {
          "output_type": "display_data",
          "data": {
            "text/html": [
              "<html>\n",
              "<head><meta charset=\"utf-8\" /></head>\n",
              "<body>\n",
              "    <div>            <script src=\"https://cdnjs.cloudflare.com/ajax/libs/mathjax/2.7.5/MathJax.js?config=TeX-AMS-MML_SVG\"></script><script type=\"text/javascript\">if (window.MathJax && window.MathJax.Hub && window.MathJax.Hub.Config) {window.MathJax.Hub.Config({SVG: {font: \"STIX-Web\"}});}</script>                <script type=\"text/javascript\">window.PlotlyConfig = {MathJaxConfig: 'local'};</script>\n",
              "        <script charset=\"utf-8\" src=\"https://cdn.plot.ly/plotly-2.35.2.min.js\"></script>                <div id=\"f48a846a-4c04-4c09-ba04-c88a90f9732a\" class=\"plotly-graph-div\" style=\"height:525px; width:100%;\"></div>            <script type=\"text/javascript\">                                    window.PLOTLYENV=window.PLOTLYENV || {};                                    if (document.getElementById(\"f48a846a-4c04-4c09-ba04-c88a90f9732a\")) {                    Plotly.newPlot(                        \"f48a846a-4c04-4c09-ba04-c88a90f9732a\",                        [{\"alignmentgroup\":\"True\",\"bingroup\":\"x\",\"hovertemplate\":\"Color=%{x}\\u003cbr\\u003ecount=%{y}\\u003cextra\\u003e\\u003c\\u002fextra\\u003e\",\"legendgroup\":\"\",\"marker\":{\"color\":\"#636efa\",\"pattern\":{\"shape\":\"\"}},\"name\":\"\",\"offsetgroup\":\"\",\"orientation\":\"v\",\"showlegend\":false,\"x\":[\"Gray\",\"Maroon\",\"Maroon\",\"Maroon\",\"Turquoise\",\"White\",\"Gray\",\"Charcoal\",\"Silver\",\"Pink\",\"Purple\",\"Olive\",\"Gold\",\"Violet\",\"Teal\",\"Teal\",\"Gray\",\"Lavender\",\"Black\",\"Green\",\"Black\",\"Charcoal\",\"Peach\",\"White\",\"Green\",\"Silver\",\"Red\",\"Cyan\",\"Gray\",\"Black\",\"Black\",\"Brown\",\"Silver\",\"Green\",\"Violet\",\"Cyan\",\"Maroon\",\"Cyan\",\"Red\",\"Turquoise\",\"Beige\",\"Orange\",\"Beige\",\"Lavender\",\"Silver\",\"Indigo\",\"White\",\"Charcoal\",\"Orange\",\"Indigo\",\"Red\",\"Gray\",\"Green\",\"Peach\",\"Brown\",\"Lavender\",\"Brown\",\"White\",\"Charcoal\",\"Yellow\",\"Brown\",\"Orange\",\"Magenta\",\"Lavender\",\"Green\",\"Purple\",\"Magenta\",\"Gray\",\"Silver\",\"Cyan\",\"Magenta\",\"Gold\",\"Olive\",\"Teal\",\"Violet\",\"Blue\",\"Teal\",\"Gold\",\"Maroon\",\"Olive\",\"Blue\",\"Maroon\",\"Olive\",\"Turquoise\",\"Peach\",\"Charcoal\",\"Pink\",\"Green\",\"Orange\",\"Pink\",\"Violet\",\"Green\",\"Olive\",\"Purple\",\"Silver\",\"Pink\",\"Gold\",\"Teal\",\"Teal\",\"Indigo\",\"Maroon\",\"White\",\"Violet\",\"Red\",\"Pink\",\"Charcoal\",\"White\",\"Olive\",\"Purple\",\"Violet\",\"Black\",\"Purple\",\"Red\",\"Maroon\",\"Blue\",\"Gray\",\"Blue\",\"Yellow\",\"Orange\",\"Orange\",\"Red\",\"Olive\",\"Brown\",\"Brown\",\"Gray\",\"Indigo\",\"Pink\",\"Gray\",\"Gold\",\"Olive\",\"Violet\",\"Indigo\",\"Orange\",\"Violet\",\"Gray\",\"Purple\",\"White\",\"Turquoise\",\"Maroon\",\"White\",\"Yellow\",\"Turquoise\",\"Violet\",\"Beige\",\"Silver\",\"Teal\",\"Black\",\"Purple\",\"Gray\",\"White\",\"Cyan\",\"Turquoise\",\"Brown\",\"Maroon\",\"Charcoal\",\"Olive\",\"Lavender\",\"Yellow\",\"Teal\",\"Charcoal\",\"Orange\",\"Olive\",\"Turquoise\",\"Purple\",\"Purple\",\"Yellow\",\"Indigo\",\"Green\",\"Magenta\",\"Gold\",\"Maroon\",\"Blue\",\"Violet\",\"Turquoise\",\"Brown\",\"Violet\",\"Black\",\"Magenta\",\"Lavender\",\"Violet\",\"Green\",\"Beige\",\"Purple\",\"Beige\",\"Cyan\",\"Silver\",\"Lavender\",\"Purple\",\"Pink\",\"Maroon\",\"Beige\",\"Gray\",\"Turquoise\",\"Silver\",\"Olive\",\"Magenta\",\"Lavender\",\"Black\",\"Turquoise\",\"Green\",\"Teal\",\"Beige\",\"Magenta\",\"Yellow\",\"Yellow\",\"Silver\",\"Silver\",\"Silver\",\"Gold\",\"Olive\",\"Teal\",\"Maroon\",\"Blue\",\"Peach\",\"Blue\",\"Orange\",\"Yellow\",\"Purple\",\"Magenta\",\"Cyan\",\"Indigo\",\"Magenta\",\"Gray\",\"Turquoise\",\"Beige\",\"Olive\",\"Violet\",\"Turquoise\",\"White\",\"Silver\",\"Olive\",\"Blue\",\"Purple\",\"Yellow\",\"Silver\",\"Cyan\",\"Green\",\"Beige\",\"Peach\",\"Yellow\",\"Turquoise\",\"Peach\",\"Gray\",\"Olive\",\"Indigo\",\"Charcoal\",\"Beige\",\"Brown\",\"Blue\",\"Teal\",\"Black\",\"Gold\",\"Violet\",\"Cyan\",\"White\",\"Charcoal\",\"Violet\",\"Red\",\"Lavender\",\"Gold\",\"Red\",\"Magenta\",\"Teal\",\"Purple\",\"Charcoal\",\"Gray\",\"White\",\"Olive\",\"Charcoal\",\"Charcoal\",\"Orange\",\"Yellow\",\"Beige\",\"Silver\",\"Indigo\",\"Lavender\",\"Turquoise\",\"Green\",\"Orange\",\"Turquoise\",\"Cyan\",\"Charcoal\",\"Teal\",\"Maroon\",\"Red\",\"Yellow\",\"Gray\",\"Blue\",\"Lavender\",\"Yellow\",\"Indigo\",\"Violet\",\"Green\",\"White\",\"Gold\",\"Indigo\",\"Lavender\",\"Purple\",\"Lavender\",\"Maroon\",\"Teal\",\"Green\",\"Olive\",\"Turquoise\",\"Green\",\"Teal\",\"White\",\"Orange\",\"Beige\",\"Yellow\",\"Charcoal\",\"Silver\",\"Green\",\"Pink\",\"Purple\",\"Orange\",\"Charcoal\",\"Teal\",\"Beige\",\"White\",\"White\",\"Orange\",\"Cyan\",\"Orange\",\"Olive\",\"Charcoal\",\"White\",\"Teal\",\"Yellow\",\"White\",\"Beige\",\"Beige\",\"Maroon\",\"Teal\",\"Lavender\",\"Maroon\",\"Orange\",\"Cyan\",\"Silver\",\"Teal\",\"Blue\",\"Blue\",\"Olive\",\"Purple\",\"Charcoal\",\"Olive\",\"Violet\",\"Red\",\"Beige\",\"Green\",\"Violet\",\"Teal\",\"Yellow\",\"Yellow\",\"Olive\",\"Magenta\",\"Black\",\"Olive\",\"Magenta\",\"Olive\",\"Teal\",\"White\",\"Charcoal\",\"Yellow\",\"Charcoal\",\"Gray\",\"Turquoise\",\"Cyan\",\"Charcoal\",\"Silver\",\"Olive\",\"Pink\",\"Orange\",\"White\",\"Purple\",\"Olive\",\"Gray\",\"Silver\",\"Orange\",\"Magenta\",\"Beige\",\"Lavender\",\"Peach\",\"Magenta\",\"Beige\",\"Yellow\",\"Brown\",\"Silver\",\"Orange\",\"Purple\",\"Indigo\",\"Gray\",\"Black\",\"Maroon\",\"Beige\",\"Brown\",\"Black\",\"Indigo\",\"Silver\",\"Blue\",\"Green\",\"Orange\",\"Cyan\",\"Orange\",\"Indigo\",\"Silver\",\"Peach\",\"Teal\",\"White\",\"Brown\",\"Lavender\",\"Indigo\",\"Yellow\",\"White\",\"Violet\",\"Lavender\",\"Olive\",\"Beige\",\"Purple\",\"Teal\",\"Peach\",\"Violet\",\"Purple\",\"Teal\",\"Gold\",\"Teal\",\"Violet\",\"Black\",\"Gold\",\"Gold\",\"Brown\",\"Cyan\",\"Indigo\",\"Orange\",\"Pink\",\"Olive\",\"Cyan\",\"Peach\",\"Turquoise\",\"Turquoise\",\"Maroon\",\"Maroon\",\"Olive\",\"Magenta\",\"Red\",\"Olive\",\"Silver\",\"Turquoise\",\"Yellow\",\"Peach\",\"Beige\",\"Pink\",\"Violet\",\"Peach\",\"Gold\",\"Gold\",\"Indigo\",\"Blue\",\"Black\",\"Black\",\"Teal\",\"Yellow\",\"White\",\"Orange\",\"Silver\",\"Pink\",\"Turquoise\",\"Orange\",\"Peach\",\"Pink\",\"Teal\",\"White\",\"Gray\",\"Olive\",\"Maroon\",\"Magenta\",\"Magenta\",\"Green\",\"Turquoise\",\"Yellow\",\"Gray\",\"Peach\",\"Yellow\",\"White\",\"Lavender\",\"Blue\",\"Charcoal\",\"Red\",\"Olive\",\"Green\",\"Silver\",\"Silver\",\"Black\",\"Red\",\"Indigo\",\"Cyan\",\"Maroon\",\"Silver\",\"Lavender\",\"Silver\",\"Purple\",\"Cyan\",\"Cyan\",\"Lavender\",\"Maroon\",\"Gray\",\"Olive\",\"Magenta\",\"Yellow\",\"Cyan\",\"Teal\",\"Yellow\",\"Peach\",\"Peach\",\"Olive\",\"Charcoal\",\"Indigo\",\"Silver\",\"Beige\",\"Blue\",\"White\",\"Gold\",\"Blue\",\"Orange\",\"Gold\",\"Cyan\",\"Red\",\"Yellow\",\"Beige\",\"Orange\",\"Magenta\",\"Purple\",\"Black\",\"Pink\",\"Pink\",\"Maroon\",\"Maroon\",\"Turquoise\",\"Green\",\"Violet\",\"Lavender\",\"Gray\",\"Teal\",\"Red\",\"Yellow\",\"Magenta\",\"Brown\",\"Blue\",\"Black\",\"Olive\",\"Olive\",\"Green\",\"Peach\",\"White\",\"Red\",\"White\",\"Indigo\",\"White\",\"Teal\",\"Indigo\",\"Red\",\"Blue\",\"Blue\",\"Black\",\"Olive\",\"Lavender\",\"Indigo\",\"Red\",\"Red\",\"Pink\",\"Purple\",\"Cyan\",\"Cyan\",\"Charcoal\",\"Red\",\"Peach\",\"Black\",\"Black\",\"Purple\",\"Violet\",\"Orange\",\"Charcoal\",\"Turquoise\",\"Yellow\",\"White\",\"Gray\",\"Blue\",\"Maroon\",\"Violet\",\"Orange\",\"Turquoise\",\"Olive\",\"Brown\",\"Green\",\"Brown\",\"Silver\",\"White\",\"Gold\",\"Green\",\"Teal\",\"Charcoal\",\"Maroon\",\"Lavender\",\"Green\",\"Pink\",\"Charcoal\",\"Blue\",\"Purple\",\"Gold\",\"Purple\",\"Charcoal\",\"Black\",\"Lavender\",\"Lavender\",\"Lavender\",\"Olive\",\"Teal\",\"Maroon\",\"Cyan\",\"Charcoal\",\"Black\",\"Red\",\"Peach\",\"White\",\"Pink\",\"Red\",\"Indigo\",\"Black\",\"White\",\"Beige\",\"Silver\",\"Violet\",\"Red\",\"Orange\",\"Teal\",\"Brown\",\"Indigo\",\"Cyan\",\"Blue\",\"Olive\",\"Gray\",\"Red\",\"Red\",\"Green\",\"Blue\",\"Purple\",\"Pink\",\"Charcoal\",\"Brown\",\"Orange\",\"Magenta\",\"Yellow\",\"Beige\",\"Olive\",\"Gray\",\"Purple\",\"Beige\",\"White\",\"White\",\"Gold\",\"Olive\",\"Green\",\"Magenta\",\"Charcoal\",\"Indigo\",\"Peach\",\"Turquoise\",\"Blue\",\"Turquoise\",\"Gray\",\"Purple\",\"Black\",\"Peach\",\"Indigo\",\"Beige\",\"Yellow\",\"Peach\",\"Turquoise\",\"Teal\",\"Turquoise\",\"Magenta\",\"Purple\",\"Brown\",\"Violet\",\"Yellow\",\"Magenta\",\"Beige\",\"Turquoise\",\"Peach\",\"Orange\",\"Red\",\"Silver\",\"Cyan\",\"Turquoise\",\"Charcoal\",\"Peach\",\"Green\",\"Brown\",\"Yellow\",\"Charcoal\",\"Olive\",\"Red\",\"White\",\"Pink\",\"Black\",\"Indigo\",\"Turquoise\",\"Purple\",\"Beige\",\"Charcoal\",\"Turquoise\",\"Maroon\",\"Black\",\"Lavender\",\"Magenta\",\"Green\",\"Olive\",\"Green\",\"Peach\",\"Turquoise\",\"Orange\",\"Silver\",\"Blue\",\"Cyan\",\"Green\",\"Silver\",\"Yellow\",\"Gray\",\"Pink\",\"Beige\",\"Indigo\",\"Red\",\"Blue\",\"Cyan\",\"Violet\",\"Orange\",\"Maroon\",\"Teal\",\"Orange\",\"Purple\",\"Orange\",\"Yellow\",\"Charcoal\",\"Gray\",\"Charcoal\",\"Orange\",\"Red\",\"Gold\",\"Brown\",\"Olive\",\"Violet\",\"Indigo\",\"Yellow\",\"Teal\",\"Pink\",\"Violet\",\"Orange\",\"Red\",\"Peach\",\"Green\",\"Violet\",\"Yellow\",\"Pink\",\"Brown\",\"Silver\",\"Pink\",\"Cyan\",\"Brown\",\"Red\",\"Silver\",\"Gray\",\"Cyan\",\"Teal\",\"Indigo\",\"Yellow\",\"Gold\",\"Maroon\",\"Silver\",\"Yellow\",\"Blue\",\"Turquoise\",\"Indigo\",\"Green\",\"Purple\",\"Peach\",\"Purple\",\"Teal\",\"Green\",\"Yellow\",\"Purple\",\"Indigo\",\"Magenta\",\"Violet\",\"Maroon\",\"Yellow\",\"Beige\",\"Black\",\"Violet\",\"Violet\",\"Brown\",\"Gold\",\"Blue\",\"Teal\",\"Silver\",\"Maroon\",\"White\",\"Charcoal\",\"Brown\",\"Lavender\",\"Violet\",\"Lavender\",\"Green\",\"Olive\",\"Olive\",\"Pink\",\"Teal\",\"Cyan\",\"Gray\",\"Peach\",\"Teal\",\"Turquoise\",\"Green\",\"Magenta\",\"Green\",\"White\",\"Brown\",\"Purple\",\"Green\",\"Peach\",\"Silver\",\"Maroon\",\"Red\",\"Blue\",\"Purple\",\"Indigo\",\"Indigo\",\"Violet\",\"Brown\",\"Gray\",\"Teal\",\"Teal\",\"Beige\",\"Violet\",\"Beige\",\"Purple\",\"Charcoal\",\"Pink\",\"Blue\",\"Lavender\",\"Charcoal\",\"Turquoise\",\"Red\",\"Yellow\",\"Orange\",\"Blue\",\"Gold\",\"Gold\",\"Cyan\",\"Olive\",\"Teal\",\"Maroon\",\"Green\",\"Charcoal\",\"Cyan\",\"Charcoal\",\"Charcoal\",\"Lavender\",\"Turquoise\",\"Green\",\"Silver\",\"Blue\",\"Charcoal\",\"Pink\",\"Pink\",\"Magenta\",\"Gray\",\"Gray\",\"Orange\",\"Black\",\"Lavender\",\"Red\",\"Silver\",\"Cyan\",\"Gold\",\"Yellow\",\"Purple\",\"Brown\",\"Turquoise\",\"Gold\",\"Olive\",\"Purple\",\"Lavender\",\"Gray\",\"Red\",\"Purple\",\"Olive\",\"Lavender\",\"Gray\",\"Red\",\"Peach\",\"Gray\",\"Violet\",\"Beige\",\"Blue\",\"Magenta\",\"Cyan\",\"Red\",\"Cyan\",\"Turquoise\",\"Silver\",\"Pink\",\"Black\",\"Green\",\"Yellow\",\"Purple\",\"Purple\",\"Blue\",\"Maroon\",\"Orange\",\"Green\",\"Gold\",\"Silver\",\"Cyan\",\"Silver\",\"Beige\",\"Teal\",\"Green\",\"Black\",\"Yellow\",\"White\",\"Green\",\"Silver\",\"Blue\",\"Magenta\",\"Yellow\",\"White\",\"Pink\",\"Magenta\",\"Teal\",\"Indigo\",\"Maroon\",\"Black\",\"Cyan\",\"Cyan\",\"Gray\",\"Violet\",\"Blue\",\"Charcoal\",\"Olive\",\"Olive\",\"Turquoise\",\"Cyan\",\"Red\",\"Cyan\",\"Turquoise\",\"Lavender\",\"Cyan\",\"Violet\",\"Beige\",\"Cyan\",\"Indigo\",\"Olive\",\"Green\",\"Green\",\"Beige\",\"Black\",\"Brown\",\"Silver\",\"Gray\",\"Pink\",\"Maroon\",\"Cyan\",\"Gold\",\"Teal\",\"Beige\",\"Olive\",\"Gray\",\"Black\",\"Turquoise\",\"Brown\",\"Magenta\",\"Silver\",\"Red\",\"Indigo\",\"Green\",\"Gray\",\"Peach\",\"Charcoal\",\"Orange\",\"Beige\",\"Yellow\",\"White\",\"Gray\",\"Peach\",\"Violet\",\"Magenta\",\"Maroon\",\"Cyan\",\"White\",\"Brown\",\"Red\",\"Orange\",\"White\",\"Green\",\"Black\",\"Gold\",\"Lavender\",\"Turquoise\",\"Pink\",\"Silver\",\"Gray\",\"Indigo\",\"Teal\",\"Green\",\"Violet\",\"Cyan\",\"Blue\",\"Orange\",\"Charcoal\",\"Beige\",\"Black\",\"Lavender\",\"Lavender\",\"Turquoise\",\"Purple\",\"Olive\",\"Turquoise\",\"Teal\",\"Lavender\",\"Purple\",\"Blue\",\"Teal\",\"Lavender\",\"Silver\",\"Olive\",\"Brown\",\"Yellow\",\"Brown\",\"Cyan\",\"Magenta\",\"Magenta\",\"Orange\",\"Maroon\",\"Green\",\"Teal\",\"Black\",\"Magenta\",\"Olive\",\"Yellow\",\"Purple\",\"Beige\",\"Indigo\",\"Pink\",\"Blue\",\"Cyan\",\"Orange\",\"Black\",\"Maroon\",\"Violet\",\"Beige\",\"Gray\",\"Gray\",\"Brown\",\"Indigo\",\"Violet\",\"Blue\",\"Red\",\"Peach\",\"Olive\",\"White\",\"Magenta\",\"Beige\",\"Gold\",\"Purple\",\"White\",\"Indigo\",\"Charcoal\",\"Pink\",\"Silver\",\"Blue\",\"Blue\",\"Brown\",\"Cyan\",\"Teal\",\"Purple\",\"Turquoise\",\"Olive\",\"White\",\"Turquoise\",\"Silver\",\"Violet\",\"Lavender\",\"Magenta\",\"Indigo\",\"Black\",\"Peach\",\"Beige\",\"Black\",\"Turquoise\",\"Peach\",\"Gold\",\"Silver\",\"Peach\",\"Charcoal\",\"Beige\",\"Olive\",\"Violet\",\"Peach\",\"Teal\",\"Violet\",\"Cyan\",\"Olive\",\"Pink\",\"Purple\",\"Violet\",\"Peach\",\"Charcoal\",\"Lavender\",\"Purple\",\"Indigo\",\"Magenta\",\"Peach\",\"Charcoal\",\"Purple\",\"Orange\",\"Lavender\",\"Beige\",\"Maroon\",\"Charcoal\",\"White\",\"Lavender\",\"Black\",\"Teal\",\"Magenta\",\"Brown\",\"Peach\",\"Cyan\",\"Pink\",\"Purple\",\"Purple\",\"White\",\"Silver\",\"Green\",\"Teal\",\"Indigo\",\"Pink\",\"Indigo\",\"Red\",\"Violet\",\"Cyan\",\"Red\",\"Gray\",\"Gold\",\"Pink\",\"Cyan\",\"Red\",\"Gold\",\"Charcoal\",\"Orange\",\"Blue\",\"Blue\",\"Orange\",\"Blue\",\"White\",\"Green\",\"Silver\",\"Lavender\",\"Beige\",\"Violet\",\"Gray\",\"Red\",\"Lavender\",\"Peach\",\"Indigo\",\"Black\",\"Beige\",\"Red\",\"Black\",\"Teal\",\"Blue\",\"Beige\",\"Teal\",\"Maroon\",\"Yellow\",\"Indigo\",\"Magenta\",\"Beige\",\"Maroon\",\"Magenta\",\"Teal\",\"Orange\",\"Charcoal\",\"Turquoise\",\"Pink\",\"Teal\",\"White\",\"Maroon\",\"Violet\",\"Brown\",\"Indigo\",\"Black\",\"Black\",\"Olive\",\"Orange\",\"Pink\",\"Olive\",\"Cyan\",\"White\",\"Red\",\"Blue\",\"Olive\",\"Green\",\"Yellow\",\"Black\",\"Blue\",\"Pink\",\"Lavender\",\"Cyan\",\"Cyan\",\"Gold\",\"Green\",\"Red\",\"Magenta\",\"Red\",\"Yellow\",\"Turquoise\",\"Cyan\",\"Yellow\",\"Yellow\",\"Maroon\",\"Brown\",\"Gold\",\"Charcoal\",\"Beige\",\"Indigo\",\"Red\",\"White\",\"Charcoal\",\"Violet\",\"Magenta\",\"White\",\"Pink\",\"Lavender\",\"Pink\",\"Silver\",\"Violet\",\"Charcoal\",\"Charcoal\",\"Red\",\"Peach\",\"Purple\",\"Orange\",\"Magenta\",\"Red\",\"Black\",\"Peach\",\"Olive\",\"Gold\",\"Gold\",\"Turquoise\",\"Green\",\"Maroon\",\"Brown\",\"Brown\",\"Blue\",\"Lavender\",\"Peach\",\"Gray\",\"Charcoal\",\"Lavender\",\"Green\",\"Gray\",\"Orange\",\"Silver\",\"Olive\",\"Turquoise\",\"Turquoise\",\"Green\",\"Violet\",\"Charcoal\",\"White\",\"Olive\",\"Violet\",\"Violet\",\"Black\",\"Charcoal\",\"Yellow\",\"Blue\",\"Charcoal\",\"Red\",\"Indigo\",\"Beige\",\"Maroon\",\"Yellow\",\"Silver\",\"Olive\",\"Teal\",\"Silver\",\"Indigo\",\"Teal\",\"Charcoal\",\"Orange\",\"Gold\",\"Silver\",\"Orange\",\"Peach\",\"Brown\",\"Black\",\"Red\",\"Lavender\",\"Brown\",\"Maroon\",\"Violet\",\"Lavender\",\"Magenta\",\"Green\",\"Lavender\",\"Green\",\"Maroon\",\"Magenta\",\"Teal\",\"Orange\",\"Violet\",\"Yellow\",\"Orange\",\"Gold\",\"Indigo\",\"Turquoise\",\"Orange\",\"Indigo\",\"Charcoal\",\"Lavender\",\"Gold\",\"Lavender\",\"White\",\"Lavender\",\"Charcoal\",\"Silver\",\"Yellow\",\"Olive\",\"Peach\",\"Yellow\",\"Yellow\",\"Indigo\",\"Violet\",\"White\",\"White\",\"Cyan\",\"Purple\",\"Black\",\"Orange\",\"Maroon\",\"Orange\",\"Teal\",\"Gray\",\"Blue\",\"Cyan\",\"Red\",\"Pink\",\"Cyan\",\"Black\",\"Beige\",\"Gray\",\"Red\",\"Yellow\",\"Magenta\",\"Magenta\",\"Black\",\"Orange\",\"Green\",\"Peach\",\"Charcoal\",\"Gray\",\"Turquoise\",\"Red\",\"Brown\",\"Pink\",\"Olive\",\"Lavender\",\"Purple\",\"Beige\",\"Green\",\"Brown\",\"Beige\",\"Beige\",\"Indigo\",\"Silver\",\"Gold\",\"Lavender\",\"Orange\",\"Maroon\",\"White\",\"Yellow\",\"Yellow\",\"Magenta\",\"Turquoise\",\"Lavender\",\"Magenta\",\"Cyan\",\"Olive\",\"Red\",\"Blue\",\"White\",\"Peach\",\"Charcoal\",\"Peach\",\"Turquoise\",\"Charcoal\",\"Yellow\",\"Blue\",\"Purple\",\"Green\",\"Charcoal\",\"Indigo\",\"Black\",\"Blue\",\"Silver\",\"Brown\",\"Violet\",\"Orange\",\"Gray\",\"Gold\",\"Charcoal\",\"Black\",\"Indigo\",\"White\",\"Yellow\",\"Orange\",\"Green\",\"Gold\",\"Orange\",\"Cyan\",\"Black\",\"Yellow\",\"Maroon\",\"Black\",\"Gray\",\"Orange\",\"Cyan\",\"Magenta\",\"Pink\",\"Turquoise\",\"Violet\",\"Teal\",\"Pink\",\"Gold\",\"Red\",\"Beige\",\"Black\",\"Lavender\",\"Teal\",\"Maroon\",\"Blue\",\"Teal\",\"Maroon\",\"Silver\",\"Olive\",\"Gray\",\"Peach\",\"Yellow\",\"Violet\",\"Red\",\"Charcoal\",\"Beige\",\"Peach\",\"Violet\",\"Green\",\"Olive\",\"Silver\",\"Purple\",\"Silver\",\"Gray\",\"Turquoise\",\"Violet\",\"Pink\",\"Teal\",\"Magenta\",\"Silver\",\"Blue\",\"Black\",\"Gold\",\"Gray\",\"Magenta\",\"Yellow\",\"Teal\",\"Red\",\"Yellow\",\"Black\",\"Pink\",\"Magenta\",\"Olive\",\"Black\",\"Maroon\",\"Gold\",\"Gray\",\"Brown\",\"Purple\",\"Magenta\",\"Teal\",\"Olive\",\"Maroon\",\"Silver\",\"Black\",\"Maroon\",\"Teal\",\"Teal\",\"Beige\",\"Maroon\",\"Beige\",\"White\",\"Gray\",\"Violet\",\"Silver\",\"Red\",\"Brown\",\"Turquoise\",\"Indigo\",\"Violet\",\"Yellow\",\"Cyan\",\"Brown\",\"White\",\"Yellow\",\"White\",\"Pink\",\"Indigo\",\"White\",\"Red\",\"Red\",\"Lavender\",\"Teal\",\"Violet\",\"Silver\",\"Gold\",\"Green\",\"Turquoise\",\"Indigo\",\"Black\",\"Charcoal\",\"Turquoise\",\"Red\",\"Indigo\",\"Maroon\",\"Indigo\",\"Maroon\",\"Black\",\"Purple\",\"Teal\",\"Silver\",\"Black\",\"Black\",\"Olive\",\"Purple\",\"Indigo\",\"Lavender\",\"Cyan\",\"Gold\",\"Magenta\",\"Teal\",\"Beige\",\"Teal\",\"Indigo\",\"Purple\",\"Teal\",\"Turquoise\",\"Peach\",\"Green\",\"Turquoise\",\"Yellow\",\"Orange\",\"Brown\",\"Silver\",\"White\",\"Indigo\",\"Magenta\",\"Turquoise\",\"White\",\"Olive\",\"Maroon\",\"Violet\",\"Cyan\",\"Teal\",\"Red\",\"Yellow\",\"Silver\",\"Charcoal\",\"Purple\",\"Beige\",\"Cyan\",\"Silver\",\"Pink\",\"Gold\",\"Cyan\",\"Black\",\"Charcoal\",\"Magenta\",\"Pink\",\"Maroon\",\"Teal\",\"Orange\",\"Yellow\",\"Red\",\"Charcoal\",\"Black\",\"White\",\"Lavender\",\"White\",\"Gray\",\"Cyan\",\"Brown\",\"Purple\",\"Yellow\",\"Indigo\",\"Black\",\"Gray\",\"Indigo\",\"Green\",\"Peach\",\"Purple\",\"Beige\",\"Charcoal\",\"Gray\",\"Brown\",\"Cyan\",\"White\",\"Beige\",\"Orange\",\"Olive\",\"Teal\",\"Silver\",\"Gold\",\"Violet\",\"White\",\"Peach\",\"Orange\",\"Violet\",\"Green\",\"Peach\",\"Black\",\"Blue\",\"Magenta\",\"Violet\",\"Beige\",\"Pink\",\"Beige\",\"Green\",\"Silver\",\"Purple\",\"Gray\",\"White\",\"Silver\",\"Blue\",\"Orange\",\"Silver\",\"Gray\",\"Gold\",\"Brown\",\"Turquoise\",\"Pink\",\"Black\",\"Yellow\",\"Beige\",\"Olive\",\"Gold\",\"Purple\",\"Pink\",\"Blue\",\"Brown\",\"Charcoal\",\"Maroon\",\"Cyan\",\"Olive\",\"Gold\",\"Violet\",\"Peach\",\"Beige\",\"Cyan\",\"Silver\",\"Magenta\",\"Black\",\"Olive\",\"Green\",\"Yellow\",\"Lavender\",\"Indigo\",\"Pink\",\"Red\",\"Magenta\",\"Peach\",\"Turquoise\",\"Black\",\"Blue\",\"Beige\",\"Olive\",\"Turquoise\",\"Yellow\",\"Turquoise\",\"Lavender\",\"Turquoise\",\"Teal\",\"Black\",\"Blue\",\"Yellow\",\"Black\",\"Lavender\",\"Cyan\",\"Brown\",\"Maroon\",\"Cyan\",\"Pink\",\"Orange\",\"Lavender\",\"Beige\",\"Pink\",\"Charcoal\",\"Gray\",\"Cyan\",\"Orange\",\"Pink\",\"White\",\"Beige\",\"Magenta\",\"Violet\",\"Gold\",\"Teal\",\"Indigo\",\"Olive\",\"Violet\",\"Black\",\"Brown\",\"Silver\",\"Gray\",\"Charcoal\",\"Black\",\"Brown\",\"Purple\",\"Purple\",\"Gray\",\"Green\",\"Silver\",\"Charcoal\",\"Teal\",\"White\",\"Brown\",\"Teal\",\"Red\",\"Brown\",\"Yellow\",\"Teal\",\"Pink\",\"White\",\"Silver\",\"Blue\",\"Black\",\"Beige\",\"Charcoal\",\"Cyan\",\"Yellow\",\"Silver\",\"Green\",\"Peach\",\"Green\",\"Brown\",\"Lavender\",\"Charcoal\",\"Orange\",\"Cyan\",\"Lavender\",\"Indigo\",\"Brown\",\"Pink\",\"Turquoise\",\"Gold\",\"Blue\",\"Lavender\",\"Violet\",\"Cyan\",\"Purple\",\"Red\",\"Charcoal\",\"Gray\",\"Pink\",\"Lavender\",\"Lavender\",\"Yellow\",\"Peach\",\"Brown\",\"Gold\",\"Pink\",\"Peach\",\"Violet\",\"Purple\",\"Peach\",\"White\",\"Indigo\",\"Violet\",\"Brown\",\"Maroon\",\"Magenta\",\"Charcoal\",\"Indigo\",\"Turquoise\",\"Turquoise\",\"Gray\",\"Peach\",\"Gold\",\"Green\",\"Gold\",\"Lavender\",\"Blue\",\"Magenta\",\"Blue\",\"Blue\",\"Olive\",\"White\",\"White\",\"Purple\",\"White\",\"White\",\"Peach\",\"Gold\",\"Teal\",\"Cyan\",\"Pink\",\"Magenta\",\"Pink\",\"Turquoise\",\"Pink\",\"Gray\",\"White\",\"Blue\",\"Cyan\",\"Blue\",\"Yellow\",\"Charcoal\",\"Lavender\",\"Teal\",\"Beige\",\"Blue\",\"Purple\",\"Gold\",\"Blue\",\"Black\",\"Charcoal\",\"Purple\",\"Orange\",\"Yellow\",\"Cyan\",\"Yellow\",\"Maroon\",\"Black\",\"Lavender\",\"Violet\",\"Olive\",\"Teal\",\"Teal\",\"Beige\",\"Maroon\",\"Peach\",\"Beige\",\"Silver\",\"Peach\",\"Turquoise\",\"Orange\",\"Cyan\",\"Silver\",\"Gold\",\"Brown\",\"Silver\",\"Beige\",\"Violet\",\"Violet\",\"Lavender\",\"Red\",\"Purple\",\"Brown\",\"Gray\",\"Pink\",\"Magenta\",\"Charcoal\",\"Yellow\",\"Red\",\"Blue\",\"Cyan\",\"Pink\",\"Maroon\",\"Beige\",\"Gold\",\"Turquoise\",\"Peach\",\"Lavender\",\"Gray\",\"Blue\",\"Red\",\"Purple\",\"Indigo\",\"Gold\",\"Teal\",\"Magenta\",\"Maroon\",\"Blue\",\"Beige\",\"Olive\",\"Gold\",\"Silver\",\"Teal\",\"Green\",\"Orange\",\"Charcoal\",\"Black\",\"Yellow\",\"Gray\",\"Charcoal\",\"Peach\",\"Green\",\"Magenta\",\"Beige\",\"Black\",\"Purple\",\"Olive\",\"Purple\",\"Green\",\"Peach\",\"Blue\",\"Gray\",\"Black\",\"Silver\",\"Pink\",\"Lavender\",\"Brown\",\"Turquoise\",\"Olive\",\"White\",\"Violet\",\"Gold\",\"Violet\",\"Teal\",\"Olive\",\"Blue\",\"Magenta\",\"Gray\",\"Peach\",\"Cyan\",\"Violet\",\"Gold\",\"Gold\",\"White\",\"Gray\",\"Brown\",\"Gray\",\"Blue\",\"Gold\",\"Yellow\",\"Green\",\"Pink\",\"Pink\",\"Pink\",\"Cyan\",\"Gray\",\"White\",\"Red\",\"Black\",\"Silver\",\"Pink\",\"Cyan\",\"White\",\"Purple\",\"Yellow\",\"Blue\",\"Cyan\",\"Indigo\",\"Indigo\",\"Silver\",\"Red\",\"Peach\",\"Turquoise\",\"Pink\",\"Teal\",\"Magenta\",\"Blue\",\"Green\",\"Violet\",\"Turquoise\",\"Pink\",\"Black\",\"Gold\",\"Green\",\"White\",\"Gold\",\"Charcoal\",\"White\",\"Brown\",\"Gold\",\"Purple\",\"Brown\",\"Teal\",\"Indigo\",\"Purple\",\"Orange\",\"Indigo\",\"Lavender\",\"Purple\",\"Red\",\"Blue\",\"Blue\",\"Cyan\",\"Pink\",\"Silver\",\"Gray\",\"Indigo\",\"Maroon\",\"Beige\",\"Green\",\"Peach\",\"Black\",\"Pink\",\"Violet\",\"Green\",\"Gold\",\"Red\",\"Beige\",\"Green\",\"Black\",\"Teal\",\"Silver\",\"Turquoise\",\"Orange\",\"Gold\",\"Purple\",\"Pink\",\"Green\",\"Charcoal\",\"Maroon\",\"Olive\",\"Peach\",\"Yellow\",\"Lavender\",\"Green\",\"Orange\",\"Olive\",\"Gray\",\"Lavender\",\"Red\",\"Charcoal\",\"Orange\",\"Red\",\"Maroon\",\"Silver\",\"Pink\",\"Blue\",\"Teal\",\"Black\",\"Gray\",\"Purple\",\"Gold\",\"Silver\",\"Blue\",\"Yellow\",\"Brown\",\"Beige\",\"Blue\",\"Magenta\",\"Silver\",\"Cyan\",\"Green\",\"Blue\",\"Olive\",\"Beige\",\"Black\",\"Indigo\",\"Red\",\"Yellow\",\"Beige\",\"Green\",\"White\",\"Turquoise\",\"Indigo\",\"Orange\",\"Blue\",\"Violet\",\"Gray\",\"Cyan\",\"Yellow\",\"Orange\",\"Brown\",\"Teal\",\"Beige\",\"Blue\",\"Orange\",\"Gold\",\"Teal\",\"Beige\",\"Silver\",\"Maroon\",\"Indigo\",\"Gray\",\"Blue\",\"Cyan\",\"White\",\"Green\",\"Silver\",\"Blue\",\"Brown\",\"Red\",\"Gold\",\"Silver\",\"Gray\",\"Black\",\"Beige\",\"Peach\",\"Cyan\",\"Pink\",\"Lavender\",\"Brown\",\"Magenta\",\"Violet\",\"Teal\",\"Brown\",\"Olive\",\"Indigo\",\"Red\",\"Olive\",\"Teal\",\"Cyan\",\"Teal\",\"Beige\",\"Magenta\",\"Indigo\",\"Cyan\",\"Orange\",\"Violet\",\"Red\",\"Magenta\",\"Olive\",\"Maroon\",\"Yellow\",\"Red\",\"Purple\",\"Teal\",\"Red\",\"Brown\",\"Peach\",\"Maroon\",\"Red\",\"Orange\",\"White\",\"White\",\"Charcoal\",\"Turquoise\",\"Orange\",\"Orange\",\"Brown\",\"Magenta\",\"Violet\",\"Violet\",\"Yellow\",\"Maroon\",\"Turquoise\",\"Olive\",\"Peach\",\"Charcoal\",\"Peach\",\"Black\",\"Gray\",\"Olive\",\"Turquoise\",\"Purple\",\"Green\",\"Beige\",\"Brown\",\"Turquoise\",\"Yellow\",\"Lavender\",\"Cyan\",\"Olive\",\"Silver\",\"Red\",\"Green\",\"Gold\",\"Lavender\",\"Yellow\",\"Black\",\"Maroon\",\"Maroon\",\"Gold\",\"Violet\",\"Teal\",\"Violet\",\"Brown\",\"Brown\",\"Maroon\",\"Maroon\",\"Yellow\",\"Turquoise\",\"Silver\",\"Brown\",\"Gray\",\"Indigo\",\"Turquoise\",\"Maroon\",\"Charcoal\",\"Peach\",\"Red\",\"Indigo\",\"Lavender\",\"Red\",\"Green\",\"Gray\",\"Violet\",\"Beige\",\"Orange\",\"Purple\",\"Brown\",\"Maroon\",\"Gold\",\"Indigo\",\"Silver\",\"Red\",\"Magenta\",\"Purple\",\"Beige\",\"White\",\"Teal\",\"Gray\",\"Charcoal\",\"Olive\",\"Blue\",\"Gray\",\"Green\",\"Silver\",\"Teal\",\"Beige\",\"Lavender\",\"Gray\",\"Yellow\",\"Gray\",\"Yellow\",\"Black\",\"Beige\",\"Indigo\",\"Green\",\"Purple\",\"Orange\",\"Teal\",\"Gold\",\"Gray\",\"Cyan\",\"Teal\",\"Violet\",\"Indigo\",\"Pink\",\"Gold\",\"Maroon\",\"Brown\",\"Gold\",\"Teal\",\"Turquoise\",\"Olive\",\"Cyan\",\"Beige\",\"Blue\",\"Gold\",\"Green\",\"Green\",\"Turquoise\",\"Yellow\",\"Yellow\",\"Blue\",\"Charcoal\",\"Yellow\",\"Purple\",\"Green\",\"Charcoal\",\"Silver\",\"Turquoise\",\"Gray\",\"Red\",\"Beige\",\"Maroon\",\"Indigo\",\"Red\",\"Maroon\",\"Red\",\"Black\",\"Black\",\"Pink\",\"Blue\",\"Green\",\"Orange\",\"Orange\",\"Magenta\",\"Indigo\",\"Beige\",\"Green\",\"Red\",\"Beige\",\"Green\",\"Orange\",\"Cyan\",\"Violet\",\"Lavender\",\"Turquoise\",\"Pink\",\"Beige\",\"Silver\",\"Gold\",\"Silver\",\"Green\",\"Teal\",\"Gold\",\"Cyan\",\"Gold\",\"Violet\",\"Black\",\"Brown\",\"Indigo\",\"Yellow\",\"Purple\",\"White\",\"Turquoise\",\"Olive\",\"Beige\",\"Lavender\",\"White\",\"Brown\",\"Charcoal\",\"Maroon\",\"Red\",\"Maroon\",\"Teal\",\"Orange\",\"Olive\",\"Olive\",\"Beige\",\"Green\",\"Black\",\"Green\",\"Violet\",\"Silver\",\"Maroon\",\"Cyan\",\"Teal\",\"Olive\",\"Red\",\"Lavender\",\"Orange\",\"Brown\",\"Gray\",\"Orange\",\"Orange\",\"Turquoise\",\"Cyan\",\"Yellow\",\"White\",\"Blue\",\"Purple\",\"Gray\",\"Cyan\",\"Pink\",\"Gold\",\"Silver\",\"Gray\",\"Brown\",\"Pink\",\"Maroon\",\"Peach\",\"Brown\",\"Green\",\"Lavender\",\"Cyan\",\"Black\",\"Charcoal\",\"Silver\",\"Gray\",\"Peach\",\"Peach\",\"Cyan\",\"Magenta\",\"Teal\",\"Peach\",\"Black\",\"Teal\",\"Turquoise\",\"Gold\",\"Green\",\"Brown\",\"Blue\",\"Gold\",\"Peach\",\"Violet\",\"Yellow\",\"Black\",\"Silver\",\"Brown\",\"Peach\",\"Cyan\",\"Olive\",\"Black\",\"Orange\",\"Beige\",\"Peach\",\"Pink\",\"Brown\",\"Magenta\",\"Cyan\",\"Silver\",\"Indigo\",\"Beige\",\"Black\",\"Yellow\",\"Maroon\",\"Cyan\",\"Pink\",\"Violet\",\"Lavender\",\"Lavender\",\"Black\",\"Olive\",\"Indigo\",\"Blue\",\"Green\",\"Pink\",\"Peach\",\"Purple\",\"Peach\",\"Olive\",\"Olive\",\"Purple\",\"Violet\",\"Maroon\",\"White\",\"Olive\",\"Peach\",\"Blue\",\"Brown\",\"Black\",\"Yellow\",\"Magenta\",\"Cyan\",\"Maroon\",\"Red\",\"Black\",\"Violet\",\"Green\",\"Gold\",\"Brown\",\"Peach\",\"Peach\",\"Violet\",\"Violet\",\"Magenta\",\"Purple\",\"Purple\",\"Cyan\",\"Magenta\",\"Lavender\",\"Green\",\"Maroon\",\"Turquoise\",\"Violet\",\"Lavender\",\"Red\",\"Orange\",\"Indigo\",\"Teal\",\"Brown\",\"Pink\",\"Lavender\",\"Cyan\",\"Yellow\",\"Pink\",\"Gray\",\"Peach\",\"Red\",\"Olive\",\"Lavender\",\"Turquoise\",\"Turquoise\",\"Maroon\",\"Olive\",\"Maroon\",\"Cyan\",\"Peach\",\"Teal\",\"Green\",\"Beige\",\"Magenta\",\"Violet\",\"Charcoal\",\"Green\",\"Gray\",\"Magenta\",\"Silver\",\"Beige\",\"Peach\",\"Orange\",\"Yellow\",\"Violet\",\"Green\",\"Pink\",\"Violet\",\"Violet\",\"Pink\",\"Violet\",\"Turquoise\",\"Cyan\",\"Orange\",\"Cyan\",\"Indigo\",\"Black\",\"Purple\",\"Cyan\",\"Green\",\"Teal\",\"Teal\",\"Magenta\",\"Brown\",\"Orange\",\"Blue\",\"Magenta\",\"Magenta\",\"Magenta\",\"Olive\",\"Cyan\",\"Purple\",\"Purple\",\"Peach\",\"Gold\",\"Peach\",\"Magenta\",\"Cyan\",\"Violet\",\"Charcoal\",\"Blue\",\"Red\",\"Purple\",\"Gray\",\"Purple\",\"Silver\",\"Purple\",\"Charcoal\",\"Silver\",\"White\",\"Peach\",\"Red\",\"Olive\",\"Gray\",\"Beige\",\"Pink\",\"Red\",\"Peach\",\"Maroon\",\"Purple\",\"Maroon\",\"Gray\",\"Gray\",\"Magenta\",\"Cyan\",\"Silver\",\"Green\",\"Violet\",\"Magenta\",\"Yellow\",\"Gray\",\"Indigo\",\"Indigo\",\"Yellow\",\"Gold\",\"Green\",\"Charcoal\",\"Olive\",\"Black\",\"Silver\",\"Red\",\"Brown\",\"Silver\",\"Silver\",\"Black\",\"Purple\",\"Purple\",\"Turquoise\",\"Gold\",\"Indigo\",\"Lavender\",\"Blue\",\"Maroon\",\"Yellow\",\"Purple\",\"Peach\",\"Silver\",\"Turquoise\",\"Olive\",\"Peach\",\"Indigo\",\"Indigo\",\"Maroon\",\"Black\",\"Teal\",\"Olive\",\"Gold\",\"Gray\",\"Orange\",\"Black\",\"Teal\",\"Beige\",\"White\",\"Turquoise\",\"Teal\",\"Orange\",\"Black\",\"Violet\",\"Maroon\",\"Turquoise\",\"Gold\",\"Turquoise\",\"Maroon\",\"Purple\",\"Maroon\",\"Brown\",\"Indigo\",\"Lavender\",\"Beige\",\"Yellow\",\"Gold\",\"Indigo\",\"Cyan\",\"Silver\",\"Silver\",\"Silver\",\"Peach\",\"Pink\",\"Violet\",\"Black\",\"Purple\",\"Black\",\"Peach\",\"Magenta\",\"Magenta\",\"Black\",\"Pink\",\"Olive\",\"Olive\",\"Peach\",\"Silver\",\"Turquoise\",\"Olive\",\"Lavender\",\"Red\",\"Gray\",\"Magenta\",\"Maroon\",\"Cyan\",\"Cyan\",\"Lavender\",\"Pink\",\"Gray\",\"Yellow\",\"Pink\",\"Indigo\",\"Gray\",\"Yellow\",\"Olive\",\"Cyan\",\"Silver\",\"Silver\",\"Red\",\"Brown\",\"Orange\",\"Black\",\"Teal\",\"Yellow\",\"Gray\",\"Maroon\",\"Olive\",\"Charcoal\",\"Peach\",\"Maroon\",\"Olive\",\"Magenta\",\"Yellow\",\"Indigo\",\"Olive\",\"Maroon\",\"Indigo\",\"Gray\",\"Gray\",\"Black\",\"White\",\"Turquoise\",\"Orange\",\"Yellow\",\"Blue\",\"Violet\",\"Lavender\",\"Olive\",\"Orange\",\"White\",\"Red\",\"Magenta\",\"Violet\",\"Olive\",\"Silver\",\"Gray\",\"Olive\",\"Beige\",\"Turquoise\",\"Blue\",\"Pink\",\"Teal\",\"Cyan\",\"Purple\",\"Red\",\"Brown\",\"Magenta\",\"Olive\",\"Pink\",\"Black\",\"Beige\",\"Peach\",\"Peach\",\"Peach\",\"Teal\",\"Green\",\"Brown\",\"Brown\",\"Violet\",\"Blue\",\"Charcoal\",\"Pink\",\"Violet\",\"Teal\",\"Red\",\"Orange\",\"Magenta\",\"Yellow\",\"Yellow\",\"Pink\",\"Indigo\",\"Charcoal\",\"Blue\",\"Lavender\",\"Yellow\",\"Black\",\"Beige\",\"Silver\",\"Magenta\",\"Orange\",\"Teal\",\"Turquoise\",\"Cyan\",\"Pink\",\"Indigo\",\"Peach\",\"Beige\",\"Gold\",\"Indigo\",\"Violet\",\"Brown\",\"Purple\",\"Turquoise\",\"Violet\",\"Purple\",\"Charcoal\",\"Green\",\"White\",\"Purple\",\"Cyan\",\"Green\",\"Beige\",\"Lavender\",\"Blue\",\"Beige\",\"Blue\",\"Maroon\",\"Yellow\",\"Red\",\"Green\",\"Magenta\",\"Yellow\",\"Blue\",\"Charcoal\",\"Blue\",\"Cyan\",\"Silver\",\"Black\",\"Green\",\"Violet\",\"Pink\",\"Olive\",\"Orange\",\"Black\",\"Yellow\",\"Violet\",\"Silver\",\"Gold\",\"Magenta\",\"Red\",\"Green\",\"Red\",\"Pink\",\"Violet\",\"Indigo\",\"Red\",\"Violet\",\"Cyan\",\"Black\",\"Purple\",\"Charcoal\",\"Beige\",\"Teal\",\"Purple\",\"Blue\",\"Magenta\",\"Maroon\",\"Gold\",\"Black\",\"Black\",\"Yellow\",\"Turquoise\",\"Lavender\",\"Yellow\",\"Olive\",\"Brown\",\"Olive\",\"Purple\",\"Yellow\",\"Brown\",\"Magenta\",\"Lavender\",\"Teal\",\"Cyan\",\"Pink\",\"Magenta\",\"Teal\",\"Indigo\",\"Pink\",\"Charcoal\",\"Brown\",\"Blue\",\"Teal\",\"Pink\",\"Magenta\",\"Green\",\"White\",\"Indigo\",\"Lavender\",\"Black\",\"Charcoal\",\"Gray\",\"Gold\",\"Silver\",\"Teal\",\"Magenta\",\"Magenta\",\"Beige\",\"Maroon\",\"Indigo\",\"Maroon\",\"Teal\",\"Yellow\",\"Gold\",\"Teal\",\"Violet\",\"Yellow\",\"Maroon\",\"Silver\",\"Violet\",\"White\",\"Black\",\"White\",\"Blue\",\"Black\",\"Olive\",\"Teal\",\"Silver\",\"Pink\",\"Charcoal\",\"Silver\",\"Turquoise\",\"Turquoise\",\"Beige\",\"Cyan\",\"Gold\",\"Silver\",\"Purple\",\"Yellow\",\"Blue\",\"Blue\",\"Green\",\"Charcoal\",\"Violet\",\"Black\",\"Teal\",\"Orange\",\"Brown\",\"Green\",\"Silver\",\"Violet\",\"Peach\",\"Gold\",\"Violet\",\"Olive\",\"Orange\",\"Teal\",\"Gray\",\"Black\",\"Indigo\",\"Lavender\",\"Beige\",\"Indigo\",\"Blue\",\"Orange\",\"Yellow\",\"Cyan\",\"Yellow\",\"Cyan\",\"Green\",\"White\",\"Black\",\"Charcoal\",\"Brown\",\"Cyan\",\"Beige\",\"Magenta\",\"Indigo\",\"Maroon\",\"Gray\",\"Black\",\"Yellow\",\"White\",\"Orange\",\"Magenta\",\"Black\",\"Brown\",\"Orange\",\"Gray\",\"White\",\"White\",\"Violet\",\"Beige\",\"Beige\",\"Purple\",\"Brown\",\"Orange\",\"Cyan\",\"Charcoal\",\"Purple\",\"Peach\",\"Violet\",\"Peach\",\"Maroon\",\"Maroon\",\"Peach\",\"Silver\",\"Indigo\",\"Silver\",\"Olive\",\"Gray\",\"Black\",\"Maroon\",\"Olive\",\"Gold\",\"Pink\",\"Brown\",\"White\",\"Blue\",\"Orange\",\"Silver\",\"Gray\",\"Blue\",\"White\",\"Yellow\",\"Indigo\",\"Blue\",\"Peach\",\"Lavender\",\"Silver\",\"Gold\",\"Cyan\",\"Olive\",\"Teal\",\"Pink\",\"Orange\",\"Charcoal\",\"Red\",\"Teal\",\"Silver\",\"Black\",\"Pink\",\"Teal\",\"Teal\",\"Green\",\"Charcoal\",\"Indigo\",\"White\",\"Orange\",\"White\",\"Yellow\",\"Red\",\"Charcoal\",\"Lavender\",\"Charcoal\",\"Maroon\",\"Brown\",\"Lavender\",\"Brown\",\"Olive\",\"Lavender\",\"Gold\",\"Silver\",\"Violet\",\"Brown\",\"Teal\",\"Peach\",\"Maroon\",\"Lavender\",\"Lavender\",\"Purple\",\"Green\",\"Yellow\",\"Charcoal\",\"Blue\",\"Lavender\",\"Brown\",\"White\",\"Green\",\"Magenta\",\"Peach\",\"Charcoal\",\"Gold\",\"Purple\",\"Teal\",\"Green\",\"Orange\",\"Peach\",\"Gold\",\"Violet\",\"Charcoal\",\"Brown\",\"Blue\",\"Gold\",\"Orange\",\"Turquoise\",\"Peach\",\"Magenta\",\"Black\",\"White\",\"Violet\",\"Olive\",\"Red\",\"Green\",\"Gold\",\"Olive\",\"Brown\",\"Magenta\",\"Violet\",\"Beige\",\"Blue\",\"Orange\",\"Maroon\",\"Charcoal\",\"Olive\",\"Green\",\"Brown\",\"Cyan\",\"Beige\",\"Teal\",\"Gray\",\"Indigo\",\"Magenta\",\"Red\",\"Turquoise\",\"Peach\",\"White\",\"Maroon\",\"Beige\",\"Blue\",\"Red\",\"Blue\",\"Maroon\",\"Yellow\",\"Pink\",\"Maroon\",\"Purple\",\"Indigo\",\"Gray\",\"Lavender\",\"Charcoal\",\"Teal\",\"Blue\",\"Peach\",\"Orange\",\"Silver\",\"Red\",\"Gray\",\"Beige\",\"White\",\"Silver\",\"Cyan\",\"Maroon\",\"Purple\",\"Brown\",\"Green\",\"Peach\",\"Turquoise\",\"Olive\",\"Yellow\",\"Gray\",\"Purple\",\"Gray\",\"Lavender\",\"Indigo\",\"Green\",\"Green\",\"Olive\",\"Charcoal\",\"Gray\",\"Olive\",\"Blue\",\"Silver\",\"Magenta\",\"Black\",\"Pink\",\"Red\",\"Peach\",\"Lavender\",\"Lavender\",\"Beige\",\"Indigo\",\"Cyan\",\"Yellow\",\"Peach\",\"Yellow\",\"Orange\",\"Gray\",\"Yellow\",\"Gray\",\"Turquoise\",\"Gray\",\"Olive\",\"Peach\",\"Peach\",\"Magenta\",\"Purple\",\"Beige\",\"Purple\",\"Yellow\",\"Pink\",\"Purple\",\"Lavender\",\"Peach\",\"Orange\",\"Red\",\"Red\",\"Gold\",\"Brown\",\"Black\",\"Red\",\"Gray\",\"Pink\",\"Turquoise\",\"Charcoal\",\"Blue\",\"Turquoise\",\"Silver\",\"Lavender\",\"Gold\",\"Blue\",\"Orange\",\"White\",\"Charcoal\",\"Maroon\",\"Olive\",\"Teal\",\"Orange\",\"Maroon\",\"Turquoise\",\"Beige\",\"Beige\",\"Olive\",\"Turquoise\",\"Charcoal\",\"Green\",\"Green\",\"Green\",\"Gold\",\"Cyan\",\"Indigo\",\"Lavender\",\"Beige\",\"Purple\",\"Maroon\",\"Maroon\",\"Teal\",\"Gold\",\"Red\",\"Maroon\",\"Teal\",\"Peach\",\"Pink\",\"Black\",\"Indigo\",\"Green\",\"Teal\",\"Lavender\",\"Magenta\",\"Brown\",\"Beige\",\"Indigo\",\"Peach\",\"Magenta\",\"Turquoise\",\"Indigo\",\"Brown\",\"Yellow\",\"Magenta\",\"Olive\",\"Silver\",\"Teal\",\"White\",\"Blue\",\"Yellow\",\"Maroon\",\"Gray\",\"Indigo\",\"Pink\",\"Beige\",\"White\",\"Yellow\",\"Teal\",\"Olive\",\"Maroon\",\"White\",\"Lavender\",\"Black\",\"Green\",\"Olive\",\"Gray\",\"Teal\",\"Charcoal\",\"Violet\",\"Lavender\",\"Beige\",\"Black\",\"Black\",\"Purple\",\"Magenta\",\"Teal\",\"Teal\",\"Pink\",\"Teal\",\"Gold\",\"Brown\",\"Brown\",\"Magenta\",\"Black\",\"Teal\",\"Brown\",\"Magenta\",\"Indigo\",\"Violet\",\"Cyan\",\"Violet\",\"Black\",\"Charcoal\",\"White\",\"Gray\",\"Pink\",\"Cyan\",\"Blue\",\"Indigo\",\"Magenta\",\"Lavender\",\"Orange\",\"Cyan\",\"Green\",\"White\",\"Blue\",\"Black\",\"Red\",\"Red\",\"Gold\",\"Red\",\"Purple\",\"White\",\"Magenta\",\"Pink\",\"Black\",\"White\",\"Maroon\",\"Black\",\"Olive\",\"Gray\",\"Gold\",\"Magenta\",\"Lavender\",\"Green\",\"Violet\",\"Brown\",\"Teal\",\"Charcoal\",\"Charcoal\",\"Beige\",\"Turquoise\",\"Orange\",\"Cyan\",\"Orange\",\"Green\",\"Pink\",\"Blue\",\"Pink\",\"Blue\",\"Black\",\"Black\",\"Violet\",\"Gold\",\"Olive\",\"Pink\",\"Olive\",\"Indigo\",\"Silver\",\"Charcoal\",\"Orange\",\"Yellow\",\"Red\",\"Maroon\",\"Magenta\",\"Black\",\"Violet\",\"Gray\",\"Black\",\"Pink\",\"Silver\",\"Violet\",\"Beige\",\"Cyan\",\"Brown\",\"Blue\",\"White\",\"Cyan\",\"Maroon\",\"Olive\",\"Violet\",\"Green\",\"Magenta\",\"Turquoise\",\"Black\",\"Cyan\",\"Gray\",\"Red\",\"Olive\",\"Cyan\",\"Teal\",\"Teal\",\"Orange\",\"Peach\",\"Silver\",\"Pink\",\"Magenta\",\"Red\",\"Maroon\",\"Silver\",\"Gray\",\"Turquoise\",\"Peach\",\"Teal\",\"Red\",\"Blue\",\"Blue\",\"Indigo\",\"Charcoal\",\"Turquoise\",\"Maroon\",\"Purple\",\"Lavender\",\"Yellow\",\"Green\",\"Yellow\",\"Gold\",\"Turquoise\",\"Blue\",\"Turquoise\",\"Maroon\",\"Pink\",\"Maroon\",\"Olive\",\"Lavender\",\"Pink\",\"Cyan\",\"Maroon\",\"Red\",\"Silver\",\"Blue\",\"Gold\",\"Yellow\",\"Silver\",\"Black\",\"Yellow\",\"Pink\",\"Yellow\",\"Lavender\",\"Peach\",\"Black\",\"Olive\",\"Olive\",\"White\",\"Red\",\"Purple\",\"Purple\",\"Teal\",\"Teal\",\"Gray\",\"Magenta\",\"Black\",\"Maroon\",\"Gold\",\"Purple\",\"Blue\",\"Beige\",\"Indigo\",\"Purple\",\"Maroon\",\"Beige\",\"Brown\",\"Green\",\"Blue\",\"Magenta\",\"Turquoise\",\"Gray\",\"Purple\",\"Lavender\",\"Green\",\"Gray\",\"Yellow\",\"Orange\",\"Beige\",\"Peach\",\"Green\",\"Violet\",\"Gray\",\"Magenta\",\"Charcoal\",\"Violet\",\"Silver\",\"Green\",\"Magenta\",\"Purple\",\"Blue\",\"Yellow\",\"Brown\",\"Pink\",\"Silver\",\"Indigo\",\"Pink\",\"Lavender\",\"Orange\",\"Red\",\"Gray\",\"Violet\",\"Green\",\"Gold\",\"Maroon\",\"Olive\",\"Yellow\",\"Peach\",\"Gold\",\"Purple\",\"Charcoal\",\"Indigo\",\"Magenta\",\"Olive\",\"Blue\",\"White\",\"Cyan\",\"Cyan\",\"Orange\",\"Orange\",\"Teal\",\"Magenta\",\"Orange\",\"Peach\",\"Maroon\",\"Gold\",\"White\",\"Gray\",\"Brown\",\"Charcoal\",\"Beige\",\"Teal\",\"Black\",\"Violet\",\"Orange\",\"Turquoise\",\"Black\",\"Silver\",\"Gray\",\"Pink\",\"Red\",\"Lavender\",\"Indigo\",\"Silver\",\"Silver\",\"Green\",\"Pink\",\"Violet\",\"Red\",\"Olive\",\"Purple\",\"Gray\",\"Brown\",\"Orange\",\"Blue\",\"White\",\"Charcoal\",\"Gray\",\"Charcoal\",\"White\",\"Orange\",\"Black\",\"White\",\"Brown\",\"Pink\",\"Yellow\",\"Cyan\",\"Silver\",\"Olive\",\"Olive\",\"Charcoal\",\"Gray\",\"Maroon\",\"Black\",\"Violet\",\"Indigo\",\"Yellow\",\"Gray\",\"Red\",\"Peach\",\"Gray\",\"White\",\"Green\",\"Magenta\",\"Olive\",\"Olive\",\"Blue\",\"Charcoal\",\"Yellow\",\"Violet\",\"Magenta\",\"Red\",\"Cyan\",\"Orange\",\"Black\",\"Blue\",\"Charcoal\",\"Indigo\",\"Silver\",\"Brown\",\"Peach\",\"Magenta\",\"Beige\",\"Violet\",\"Black\",\"Cyan\",\"Green\",\"Brown\",\"Gray\",\"Orange\",\"Silver\",\"Purple\",\"Olive\",\"Teal\",\"White\",\"Black\",\"Maroon\",\"Cyan\",\"Violet\",\"Yellow\",\"Yellow\",\"Olive\",\"Olive\",\"Magenta\",\"Orange\",\"Beige\",\"Brown\",\"Indigo\",\"Gray\",\"Yellow\",\"Violet\",\"Magenta\",\"Blue\",\"Gray\",\"Gold\",\"Lavender\",\"Black\",\"Charcoal\",\"Violet\",\"Charcoal\",\"Maroon\",\"Purple\",\"Peach\",\"Olive\",\"Indigo\",\"Magenta\",\"Gold\",\"Orange\",\"Gold\",\"Purple\",\"Charcoal\",\"Cyan\",\"Cyan\",\"Green\",\"Silver\",\"Teal\",\"Magenta\",\"Maroon\",\"Gold\",\"Purple\",\"Lavender\",\"Maroon\",\"Magenta\",\"Turquoise\",\"Silver\",\"Purple\",\"Violet\",\"Peach\",\"Green\",\"Teal\",\"Silver\",\"Purple\",\"Lavender\",\"Lavender\",\"Peach\",\"Green\",\"Orange\",\"Pink\",\"Cyan\",\"Lavender\",\"Yellow\",\"Olive\",\"Brown\",\"Pink\",\"Cyan\",\"Maroon\",\"Magenta\",\"Violet\",\"Silver\",\"Maroon\",\"Gray\",\"White\",\"Brown\",\"Silver\",\"Yellow\",\"Magenta\",\"Blue\",\"Green\",\"Yellow\",\"Cyan\",\"Gold\",\"Magenta\",\"Gray\",\"Indigo\",\"White\",\"Indigo\",\"Green\",\"Turquoise\",\"Peach\",\"Olive\",\"Cyan\",\"Magenta\",\"Silver\",\"White\",\"Pink\",\"Pink\",\"Pink\",\"Blue\",\"White\",\"Teal\",\"Gray\",\"Beige\",\"Violet\",\"Blue\",\"Magenta\",\"Maroon\",\"Purple\",\"Charcoal\",\"Red\",\"Charcoal\",\"Lavender\",\"White\",\"Red\",\"Violet\",\"Orange\",\"Turquoise\",\"Violet\",\"Blue\",\"White\",\"Turquoise\",\"Pink\",\"Maroon\",\"Olive\",\"Charcoal\",\"Charcoal\",\"Indigo\",\"Teal\",\"Black\",\"Teal\",\"Green\",\"Gold\",\"Red\",\"Silver\",\"Yellow\",\"Peach\",\"Turquoise\",\"Peach\",\"Peach\",\"Orange\",\"Charcoal\",\"White\",\"Turquoise\",\"Red\",\"Peach\",\"Pink\",\"Yellow\",\"Beige\",\"Green\",\"Turquoise\",\"Orange\",\"Gold\",\"Red\",\"Teal\",\"Teal\",\"Lavender\",\"Pink\",\"Maroon\",\"Beige\",\"Orange\",\"Red\",\"Maroon\",\"Brown\",\"Olive\",\"Silver\",\"Purple\",\"Gray\",\"Cyan\",\"Gray\",\"Gold\",\"Cyan\",\"Olive\",\"Violet\",\"Yellow\",\"Gold\",\"Silver\",\"Pink\",\"Turquoise\",\"Turquoise\",\"Peach\",\"Teal\",\"Red\",\"Black\",\"Pink\",\"Peach\",\"Green\",\"Green\",\"Red\",\"Maroon\",\"Green\",\"Black\",\"Black\",\"Yellow\",\"Green\",\"Black\",\"Red\",\"Yellow\",\"Violet\",\"Cyan\",\"Pink\",\"Olive\",\"Maroon\",\"Cyan\",\"Lavender\",\"Yellow\",\"Pink\",\"Orange\",\"Orange\",\"Violet\",\"Lavender\",\"Yellow\",\"Pink\",\"Teal\",\"Magenta\",\"Beige\",\"Gray\",\"Turquoise\",\"Pink\",\"Violet\",\"Charcoal\",\"Lavender\",\"Gray\",\"Brown\",\"Violet\",\"Turquoise\",\"Peach\",\"Turquoise\",\"Violet\",\"Olive\",\"Green\",\"Teal\",\"Peach\",\"Pink\",\"Maroon\",\"Peach\",\"Maroon\",\"Pink\",\"Orange\",\"Orange\",\"Brown\",\"Silver\",\"Magenta\",\"Indigo\",\"Gold\",\"Purple\",\"Gold\",\"Gold\",\"Gold\",\"Olive\",\"Green\",\"Gray\",\"Red\",\"Charcoal\",\"Indigo\",\"Indigo\",\"Silver\",\"Purple\",\"Gray\",\"Magenta\",\"Silver\",\"Violet\",\"Green\",\"Green\",\"Peach\",\"Turquoise\",\"Pink\",\"Lavender\",\"Silver\",\"Cyan\",\"Green\",\"Orange\",\"Blue\",\"Magenta\",\"Cyan\",\"Indigo\",\"Pink\",\"Peach\",\"Lavender\",\"Black\",\"Lavender\",\"Brown\",\"Yellow\",\"Olive\",\"Blue\",\"Turquoise\",\"Yellow\",\"Turquoise\",\"Orange\",\"Blue\",\"Olive\",\"Beige\",\"Lavender\",\"Magenta\",\"Cyan\",\"Lavender\",\"Black\",\"Green\",\"Silver\",\"Beige\",\"Pink\",\"Cyan\",\"Olive\",\"Pink\",\"Maroon\",\"Red\",\"Silver\",\"Blue\",\"Purple\",\"Brown\",\"Purple\",\"Brown\",\"Charcoal\",\"Violet\",\"Yellow\",\"Green\",\"Peach\",\"Indigo\",\"White\",\"White\",\"Turquoise\",\"White\",\"Green\",\"Brown\",\"Beige\"],\"xaxis\":\"x\",\"yaxis\":\"y\",\"type\":\"histogram\"}],                        {\"template\":{\"data\":{\"histogram2dcontour\":[{\"type\":\"histogram2dcontour\",\"colorbar\":{\"outlinewidth\":0,\"ticks\":\"\"},\"colorscale\":[[0.0,\"#0d0887\"],[0.1111111111111111,\"#46039f\"],[0.2222222222222222,\"#7201a8\"],[0.3333333333333333,\"#9c179e\"],[0.4444444444444444,\"#bd3786\"],[0.5555555555555556,\"#d8576b\"],[0.6666666666666666,\"#ed7953\"],[0.7777777777777778,\"#fb9f3a\"],[0.8888888888888888,\"#fdca26\"],[1.0,\"#f0f921\"]]}],\"choropleth\":[{\"type\":\"choropleth\",\"colorbar\":{\"outlinewidth\":0,\"ticks\":\"\"}}],\"histogram2d\":[{\"type\":\"histogram2d\",\"colorbar\":{\"outlinewidth\":0,\"ticks\":\"\"},\"colorscale\":[[0.0,\"#0d0887\"],[0.1111111111111111,\"#46039f\"],[0.2222222222222222,\"#7201a8\"],[0.3333333333333333,\"#9c179e\"],[0.4444444444444444,\"#bd3786\"],[0.5555555555555556,\"#d8576b\"],[0.6666666666666666,\"#ed7953\"],[0.7777777777777778,\"#fb9f3a\"],[0.8888888888888888,\"#fdca26\"],[1.0,\"#f0f921\"]]}],\"heatmap\":[{\"type\":\"heatmap\",\"colorbar\":{\"outlinewidth\":0,\"ticks\":\"\"},\"colorscale\":[[0.0,\"#0d0887\"],[0.1111111111111111,\"#46039f\"],[0.2222222222222222,\"#7201a8\"],[0.3333333333333333,\"#9c179e\"],[0.4444444444444444,\"#bd3786\"],[0.5555555555555556,\"#d8576b\"],[0.6666666666666666,\"#ed7953\"],[0.7777777777777778,\"#fb9f3a\"],[0.8888888888888888,\"#fdca26\"],[1.0,\"#f0f921\"]]}],\"heatmapgl\":[{\"type\":\"heatmapgl\",\"colorbar\":{\"outlinewidth\":0,\"ticks\":\"\"},\"colorscale\":[[0.0,\"#0d0887\"],[0.1111111111111111,\"#46039f\"],[0.2222222222222222,\"#7201a8\"],[0.3333333333333333,\"#9c179e\"],[0.4444444444444444,\"#bd3786\"],[0.5555555555555556,\"#d8576b\"],[0.6666666666666666,\"#ed7953\"],[0.7777777777777778,\"#fb9f3a\"],[0.8888888888888888,\"#fdca26\"],[1.0,\"#f0f921\"]]}],\"contourcarpet\":[{\"type\":\"contourcarpet\",\"colorbar\":{\"outlinewidth\":0,\"ticks\":\"\"}}],\"contour\":[{\"type\":\"contour\",\"colorbar\":{\"outlinewidth\":0,\"ticks\":\"\"},\"colorscale\":[[0.0,\"#0d0887\"],[0.1111111111111111,\"#46039f\"],[0.2222222222222222,\"#7201a8\"],[0.3333333333333333,\"#9c179e\"],[0.4444444444444444,\"#bd3786\"],[0.5555555555555556,\"#d8576b\"],[0.6666666666666666,\"#ed7953\"],[0.7777777777777778,\"#fb9f3a\"],[0.8888888888888888,\"#fdca26\"],[1.0,\"#f0f921\"]]}],\"surface\":[{\"type\":\"surface\",\"colorbar\":{\"outlinewidth\":0,\"ticks\":\"\"},\"colorscale\":[[0.0,\"#0d0887\"],[0.1111111111111111,\"#46039f\"],[0.2222222222222222,\"#7201a8\"],[0.3333333333333333,\"#9c179e\"],[0.4444444444444444,\"#bd3786\"],[0.5555555555555556,\"#d8576b\"],[0.6666666666666666,\"#ed7953\"],[0.7777777777777778,\"#fb9f3a\"],[0.8888888888888888,\"#fdca26\"],[1.0,\"#f0f921\"]]}],\"mesh3d\":[{\"type\":\"mesh3d\",\"colorbar\":{\"outlinewidth\":0,\"ticks\":\"\"}}],\"scatter\":[{\"fillpattern\":{\"fillmode\":\"overlay\",\"size\":10,\"solidity\":0.2},\"type\":\"scatter\"}],\"parcoords\":[{\"type\":\"parcoords\",\"line\":{\"colorbar\":{\"outlinewidth\":0,\"ticks\":\"\"}}}],\"scatterpolargl\":[{\"type\":\"scatterpolargl\",\"marker\":{\"colorbar\":{\"outlinewidth\":0,\"ticks\":\"\"}}}],\"bar\":[{\"error_x\":{\"color\":\"#2a3f5f\"},\"error_y\":{\"color\":\"#2a3f5f\"},\"marker\":{\"line\":{\"color\":\"#E5ECF6\",\"width\":0.5},\"pattern\":{\"fillmode\":\"overlay\",\"size\":10,\"solidity\":0.2}},\"type\":\"bar\"}],\"scattergeo\":[{\"type\":\"scattergeo\",\"marker\":{\"colorbar\":{\"outlinewidth\":0,\"ticks\":\"\"}}}],\"scatterpolar\":[{\"type\":\"scatterpolar\",\"marker\":{\"colorbar\":{\"outlinewidth\":0,\"ticks\":\"\"}}}],\"histogram\":[{\"marker\":{\"pattern\":{\"fillmode\":\"overlay\",\"size\":10,\"solidity\":0.2}},\"type\":\"histogram\"}],\"scattergl\":[{\"type\":\"scattergl\",\"marker\":{\"colorbar\":{\"outlinewidth\":0,\"ticks\":\"\"}}}],\"scatter3d\":[{\"type\":\"scatter3d\",\"line\":{\"colorbar\":{\"outlinewidth\":0,\"ticks\":\"\"}},\"marker\":{\"colorbar\":{\"outlinewidth\":0,\"ticks\":\"\"}}}],\"scattermapbox\":[{\"type\":\"scattermapbox\",\"marker\":{\"colorbar\":{\"outlinewidth\":0,\"ticks\":\"\"}}}],\"scatterternary\":[{\"type\":\"scatterternary\",\"marker\":{\"colorbar\":{\"outlinewidth\":0,\"ticks\":\"\"}}}],\"scattercarpet\":[{\"type\":\"scattercarpet\",\"marker\":{\"colorbar\":{\"outlinewidth\":0,\"ticks\":\"\"}}}],\"carpet\":[{\"aaxis\":{\"endlinecolor\":\"#2a3f5f\",\"gridcolor\":\"white\",\"linecolor\":\"white\",\"minorgridcolor\":\"white\",\"startlinecolor\":\"#2a3f5f\"},\"baxis\":{\"endlinecolor\":\"#2a3f5f\",\"gridcolor\":\"white\",\"linecolor\":\"white\",\"minorgridcolor\":\"white\",\"startlinecolor\":\"#2a3f5f\"},\"type\":\"carpet\"}],\"table\":[{\"cells\":{\"fill\":{\"color\":\"#EBF0F8\"},\"line\":{\"color\":\"white\"}},\"header\":{\"fill\":{\"color\":\"#C8D4E3\"},\"line\":{\"color\":\"white\"}},\"type\":\"table\"}],\"barpolar\":[{\"marker\":{\"line\":{\"color\":\"#E5ECF6\",\"width\":0.5},\"pattern\":{\"fillmode\":\"overlay\",\"size\":10,\"solidity\":0.2}},\"type\":\"barpolar\"}],\"pie\":[{\"automargin\":true,\"type\":\"pie\"}]},\"layout\":{\"autotypenumbers\":\"strict\",\"colorway\":[\"#636efa\",\"#EF553B\",\"#00cc96\",\"#ab63fa\",\"#FFA15A\",\"#19d3f3\",\"#FF6692\",\"#B6E880\",\"#FF97FF\",\"#FECB52\"],\"font\":{\"color\":\"#2a3f5f\"},\"hovermode\":\"closest\",\"hoverlabel\":{\"align\":\"left\"},\"paper_bgcolor\":\"white\",\"plot_bgcolor\":\"#E5ECF6\",\"polar\":{\"bgcolor\":\"#E5ECF6\",\"angularaxis\":{\"gridcolor\":\"white\",\"linecolor\":\"white\",\"ticks\":\"\"},\"radialaxis\":{\"gridcolor\":\"white\",\"linecolor\":\"white\",\"ticks\":\"\"}},\"ternary\":{\"bgcolor\":\"#E5ECF6\",\"aaxis\":{\"gridcolor\":\"white\",\"linecolor\":\"white\",\"ticks\":\"\"},\"baxis\":{\"gridcolor\":\"white\",\"linecolor\":\"white\",\"ticks\":\"\"},\"caxis\":{\"gridcolor\":\"white\",\"linecolor\":\"white\",\"ticks\":\"\"}},\"coloraxis\":{\"colorbar\":{\"outlinewidth\":0,\"ticks\":\"\"}},\"colorscale\":{\"sequential\":[[0.0,\"#0d0887\"],[0.1111111111111111,\"#46039f\"],[0.2222222222222222,\"#7201a8\"],[0.3333333333333333,\"#9c179e\"],[0.4444444444444444,\"#bd3786\"],[0.5555555555555556,\"#d8576b\"],[0.6666666666666666,\"#ed7953\"],[0.7777777777777778,\"#fb9f3a\"],[0.8888888888888888,\"#fdca26\"],[1.0,\"#f0f921\"]],\"sequentialminus\":[[0.0,\"#0d0887\"],[0.1111111111111111,\"#46039f\"],[0.2222222222222222,\"#7201a8\"],[0.3333333333333333,\"#9c179e\"],[0.4444444444444444,\"#bd3786\"],[0.5555555555555556,\"#d8576b\"],[0.6666666666666666,\"#ed7953\"],[0.7777777777777778,\"#fb9f3a\"],[0.8888888888888888,\"#fdca26\"],[1.0,\"#f0f921\"]],\"diverging\":[[0,\"#8e0152\"],[0.1,\"#c51b7d\"],[0.2,\"#de77ae\"],[0.3,\"#f1b6da\"],[0.4,\"#fde0ef\"],[0.5,\"#f7f7f7\"],[0.6,\"#e6f5d0\"],[0.7,\"#b8e186\"],[0.8,\"#7fbc41\"],[0.9,\"#4d9221\"],[1,\"#276419\"]]},\"xaxis\":{\"gridcolor\":\"white\",\"linecolor\":\"white\",\"ticks\":\"\",\"title\":{\"standoff\":15},\"zerolinecolor\":\"white\",\"automargin\":true,\"zerolinewidth\":2},\"yaxis\":{\"gridcolor\":\"white\",\"linecolor\":\"white\",\"ticks\":\"\",\"title\":{\"standoff\":15},\"zerolinecolor\":\"white\",\"automargin\":true,\"zerolinewidth\":2},\"scene\":{\"xaxis\":{\"backgroundcolor\":\"#E5ECF6\",\"gridcolor\":\"white\",\"linecolor\":\"white\",\"showbackground\":true,\"ticks\":\"\",\"zerolinecolor\":\"white\",\"gridwidth\":2},\"yaxis\":{\"backgroundcolor\":\"#E5ECF6\",\"gridcolor\":\"white\",\"linecolor\":\"white\",\"showbackground\":true,\"ticks\":\"\",\"zerolinecolor\":\"white\",\"gridwidth\":2},\"zaxis\":{\"backgroundcolor\":\"#E5ECF6\",\"gridcolor\":\"white\",\"linecolor\":\"white\",\"showbackground\":true,\"ticks\":\"\",\"zerolinecolor\":\"white\",\"gridwidth\":2}},\"shapedefaults\":{\"line\":{\"color\":\"#2a3f5f\"}},\"annotationdefaults\":{\"arrowcolor\":\"#2a3f5f\",\"arrowhead\":0,\"arrowwidth\":1},\"geo\":{\"bgcolor\":\"white\",\"landcolor\":\"#E5ECF6\",\"subunitcolor\":\"white\",\"showland\":true,\"showlakes\":true,\"lakecolor\":\"white\"},\"title\":{\"x\":0.05},\"mapbox\":{\"style\":\"light\"}}},\"xaxis\":{\"anchor\":\"y\",\"domain\":[0.0,1.0],\"title\":{\"text\":\"Color\"}},\"yaxis\":{\"anchor\":\"x\",\"domain\":[0.0,1.0],\"title\":{\"text\":\"count\"}},\"legend\":{\"tracegroupgap\":0},\"margin\":{\"t\":60},\"barmode\":\"relative\"},                        {\"responsive\": true}                    ).then(function(){\n",
              "                            \n",
              "var gd = document.getElementById('f48a846a-4c04-4c09-ba04-c88a90f9732a');\n",
              "var x = new MutationObserver(function (mutations, observer) {{\n",
              "        var display = window.getComputedStyle(gd).display;\n",
              "        if (!display || display === 'none') {{\n",
              "            console.log([gd, 'removed!']);\n",
              "            Plotly.purge(gd);\n",
              "            observer.disconnect();\n",
              "        }}\n",
              "}});\n",
              "\n",
              "// Listen for the removal of the full notebook cells\n",
              "var notebookContainer = gd.closest('#notebook-container');\n",
              "if (notebookContainer) {{\n",
              "    x.observe(notebookContainer, {childList: true});\n",
              "}}\n",
              "\n",
              "// Listen for the clearing of the current output cell\n",
              "var outputEl = gd.closest('.output');\n",
              "if (outputEl) {{\n",
              "    x.observe(outputEl, {childList: true});\n",
              "}}\n",
              "\n",
              "                        })                };                            </script>        </div>\n",
              "</body>\n",
              "</html>"
            ]
          },
          "metadata": {}
        }
      ],
      "source": [
        "px.histogram(shop , x = 'Color')"
      ]
    },
    {
      "cell_type": "code",
      "execution_count": 67,
      "id": "46fb1f0c-9e9f-4e9f-8e57-d543f14a8871",
      "metadata": {
        "id": "46fb1f0c-9e9f-4e9f-8e57-d543f14a8871",
        "outputId": "5a36100f-57d7-479c-a9fe-4f0d7d48c9e1",
        "colab": {
          "base_uri": "https://localhost:8080/",
          "height": 272
        }
      },
      "outputs": [
        {
          "output_type": "execute_result",
          "data": {
            "text/plain": [
              "Color\n",
              "Olive     177\n",
              "Yellow    174\n",
              "Silver    173\n",
              "Teal      172\n",
              "Green     169\n",
              "Name: count, dtype: int64"
            ],
            "text/html": [
              "<div>\n",
              "<style scoped>\n",
              "    .dataframe tbody tr th:only-of-type {\n",
              "        vertical-align: middle;\n",
              "    }\n",
              "\n",
              "    .dataframe tbody tr th {\n",
              "        vertical-align: top;\n",
              "    }\n",
              "\n",
              "    .dataframe thead th {\n",
              "        text-align: right;\n",
              "    }\n",
              "</style>\n",
              "<table border=\"1\" class=\"dataframe\">\n",
              "  <thead>\n",
              "    <tr style=\"text-align: right;\">\n",
              "      <th></th>\n",
              "      <th>count</th>\n",
              "    </tr>\n",
              "    <tr>\n",
              "      <th>Color</th>\n",
              "      <th></th>\n",
              "    </tr>\n",
              "  </thead>\n",
              "  <tbody>\n",
              "    <tr>\n",
              "      <th>Olive</th>\n",
              "      <td>177</td>\n",
              "    </tr>\n",
              "    <tr>\n",
              "      <th>Yellow</th>\n",
              "      <td>174</td>\n",
              "    </tr>\n",
              "    <tr>\n",
              "      <th>Silver</th>\n",
              "      <td>173</td>\n",
              "    </tr>\n",
              "    <tr>\n",
              "      <th>Teal</th>\n",
              "      <td>172</td>\n",
              "    </tr>\n",
              "    <tr>\n",
              "      <th>Green</th>\n",
              "      <td>169</td>\n",
              "    </tr>\n",
              "  </tbody>\n",
              "</table>\n",
              "</div><br><label><b>dtype:</b> int64</label>"
            ]
          },
          "metadata": {},
          "execution_count": 67
        }
      ],
      "source": [
        "shop['Color'].value_counts().nlargest(5)"
      ]
    },
    {
      "cell_type": "markdown",
      "id": "cae21e0b-0e9e-44ee-aca8-fb0a6ad60afe",
      "metadata": {
        "id": "cae21e0b-0e9e-44ee-aca8-fb0a6ad60afe"
      },
      "source": [
        "## 15 What is the average number of previous purchases made by customers?"
      ]
    },
    {
      "cell_type": "code",
      "execution_count": 68,
      "id": "7819057c-f49f-4dbc-ace9-031f1e3ef807",
      "metadata": {
        "id": "7819057c-f49f-4dbc-ace9-031f1e3ef807",
        "outputId": "dfb60e4d-c199-4190-ed0a-2d1c75d3683b",
        "colab": {
          "base_uri": "https://localhost:8080/"
        }
      },
      "outputs": [
        {
          "output_type": "execute_result",
          "data": {
            "text/plain": [
              "25.35153846153846"
            ]
          },
          "metadata": {},
          "execution_count": 68
        }
      ],
      "source": [
        "shop['Previous Purchases'].mean()"
      ]
    },
    {
      "cell_type": "markdown",
      "id": "18fd1c4b-d9e2-49f1-a995-47f2f6701850",
      "metadata": {
        "id": "18fd1c4b-d9e2-49f1-a995-47f2f6701850"
      },
      "source": [
        "## 16 Are there any noticeable differences in purchase behavior between different locations?"
      ]
    },
    {
      "cell_type": "code",
      "execution_count": 69,
      "id": "a4eca1cb-86c8-4b62-a098-9c91ccce57bc",
      "metadata": {
        "id": "a4eca1cb-86c8-4b62-a098-9c91ccce57bc",
        "outputId": "ae95aa90-8a4d-4ad8-daf1-6a5d83a01d2b",
        "colab": {
          "base_uri": "https://localhost:8080/",
          "height": 1000
        }
      },
      "outputs": [
        {
          "output_type": "execute_result",
          "data": {
            "text/plain": [
              "Location\n",
              "Alaska            67.597222\n",
              "Pennsylvania      66.567568\n",
              "Arizona           66.553846\n",
              "West Virginia     63.876543\n",
              "Nevada            63.379310\n",
              "Washington        63.328767\n",
              "North Dakota      62.891566\n",
              "Virginia          62.883117\n",
              "Utah              62.577465\n",
              "Michigan          62.095890\n",
              "Tennessee         61.974026\n",
              "New Mexico        61.901235\n",
              "Rhode Island      61.444444\n",
              "Texas             61.194805\n",
              "Arkansas          61.113924\n",
              "Illinois          61.054348\n",
              "Mississippi       61.037500\n",
              "Massachusetts     60.888889\n",
              "Iowa              60.884058\n",
              "North Carolina    60.794872\n",
              "Wyoming           60.690141\n",
              "South Dakota      60.514286\n",
              "New York          60.425287\n",
              "Ohio              60.376623\n",
              "Montana           60.250000\n",
              "Idaho             60.075269\n",
              "Nebraska          59.448276\n",
              "New Hampshire     59.422535\n",
              "Alabama           59.112360\n",
              "California        59.000000\n",
              "Indiana           58.924051\n",
              "Georgia           58.797468\n",
              "South Carolina    58.407895\n",
              "Oklahoma          58.346667\n",
              "Missouri          57.913580\n",
              "Hawaii            57.723077\n",
              "Louisiana         57.714286\n",
              "Oregon            57.337838\n",
              "Vermont           57.176471\n",
              "Maine             56.987013\n",
              "New Jersey        56.746269\n",
              "Minnesota         56.556818\n",
              "Colorado          56.293333\n",
              "Wisconsin         55.946667\n",
              "Florida           55.852941\n",
              "Maryland          55.755814\n",
              "Kentucky          55.721519\n",
              "Delaware          55.325581\n",
              "Kansas            54.555556\n",
              "Connecticut       54.179487\n",
              "Name: Purchase Amount (USD), dtype: float64"
            ],
            "text/html": [
              "<div>\n",
              "<style scoped>\n",
              "    .dataframe tbody tr th:only-of-type {\n",
              "        vertical-align: middle;\n",
              "    }\n",
              "\n",
              "    .dataframe tbody tr th {\n",
              "        vertical-align: top;\n",
              "    }\n",
              "\n",
              "    .dataframe thead th {\n",
              "        text-align: right;\n",
              "    }\n",
              "</style>\n",
              "<table border=\"1\" class=\"dataframe\">\n",
              "  <thead>\n",
              "    <tr style=\"text-align: right;\">\n",
              "      <th></th>\n",
              "      <th>Purchase Amount (USD)</th>\n",
              "    </tr>\n",
              "    <tr>\n",
              "      <th>Location</th>\n",
              "      <th></th>\n",
              "    </tr>\n",
              "  </thead>\n",
              "  <tbody>\n",
              "    <tr>\n",
              "      <th>Alaska</th>\n",
              "      <td>67.597222</td>\n",
              "    </tr>\n",
              "    <tr>\n",
              "      <th>Pennsylvania</th>\n",
              "      <td>66.567568</td>\n",
              "    </tr>\n",
              "    <tr>\n",
              "      <th>Arizona</th>\n",
              "      <td>66.553846</td>\n",
              "    </tr>\n",
              "    <tr>\n",
              "      <th>West Virginia</th>\n",
              "      <td>63.876543</td>\n",
              "    </tr>\n",
              "    <tr>\n",
              "      <th>Nevada</th>\n",
              "      <td>63.379310</td>\n",
              "    </tr>\n",
              "    <tr>\n",
              "      <th>Washington</th>\n",
              "      <td>63.328767</td>\n",
              "    </tr>\n",
              "    <tr>\n",
              "      <th>North Dakota</th>\n",
              "      <td>62.891566</td>\n",
              "    </tr>\n",
              "    <tr>\n",
              "      <th>Virginia</th>\n",
              "      <td>62.883117</td>\n",
              "    </tr>\n",
              "    <tr>\n",
              "      <th>Utah</th>\n",
              "      <td>62.577465</td>\n",
              "    </tr>\n",
              "    <tr>\n",
              "      <th>Michigan</th>\n",
              "      <td>62.095890</td>\n",
              "    </tr>\n",
              "    <tr>\n",
              "      <th>Tennessee</th>\n",
              "      <td>61.974026</td>\n",
              "    </tr>\n",
              "    <tr>\n",
              "      <th>New Mexico</th>\n",
              "      <td>61.901235</td>\n",
              "    </tr>\n",
              "    <tr>\n",
              "      <th>Rhode Island</th>\n",
              "      <td>61.444444</td>\n",
              "    </tr>\n",
              "    <tr>\n",
              "      <th>Texas</th>\n",
              "      <td>61.194805</td>\n",
              "    </tr>\n",
              "    <tr>\n",
              "      <th>Arkansas</th>\n",
              "      <td>61.113924</td>\n",
              "    </tr>\n",
              "    <tr>\n",
              "      <th>Illinois</th>\n",
              "      <td>61.054348</td>\n",
              "    </tr>\n",
              "    <tr>\n",
              "      <th>Mississippi</th>\n",
              "      <td>61.037500</td>\n",
              "    </tr>\n",
              "    <tr>\n",
              "      <th>Massachusetts</th>\n",
              "      <td>60.888889</td>\n",
              "    </tr>\n",
              "    <tr>\n",
              "      <th>Iowa</th>\n",
              "      <td>60.884058</td>\n",
              "    </tr>\n",
              "    <tr>\n",
              "      <th>North Carolina</th>\n",
              "      <td>60.794872</td>\n",
              "    </tr>\n",
              "    <tr>\n",
              "      <th>Wyoming</th>\n",
              "      <td>60.690141</td>\n",
              "    </tr>\n",
              "    <tr>\n",
              "      <th>South Dakota</th>\n",
              "      <td>60.514286</td>\n",
              "    </tr>\n",
              "    <tr>\n",
              "      <th>New York</th>\n",
              "      <td>60.425287</td>\n",
              "    </tr>\n",
              "    <tr>\n",
              "      <th>Ohio</th>\n",
              "      <td>60.376623</td>\n",
              "    </tr>\n",
              "    <tr>\n",
              "      <th>Montana</th>\n",
              "      <td>60.250000</td>\n",
              "    </tr>\n",
              "    <tr>\n",
              "      <th>Idaho</th>\n",
              "      <td>60.075269</td>\n",
              "    </tr>\n",
              "    <tr>\n",
              "      <th>Nebraska</th>\n",
              "      <td>59.448276</td>\n",
              "    </tr>\n",
              "    <tr>\n",
              "      <th>New Hampshire</th>\n",
              "      <td>59.422535</td>\n",
              "    </tr>\n",
              "    <tr>\n",
              "      <th>Alabama</th>\n",
              "      <td>59.112360</td>\n",
              "    </tr>\n",
              "    <tr>\n",
              "      <th>California</th>\n",
              "      <td>59.000000</td>\n",
              "    </tr>\n",
              "    <tr>\n",
              "      <th>Indiana</th>\n",
              "      <td>58.924051</td>\n",
              "    </tr>\n",
              "    <tr>\n",
              "      <th>Georgia</th>\n",
              "      <td>58.797468</td>\n",
              "    </tr>\n",
              "    <tr>\n",
              "      <th>South Carolina</th>\n",
              "      <td>58.407895</td>\n",
              "    </tr>\n",
              "    <tr>\n",
              "      <th>Oklahoma</th>\n",
              "      <td>58.346667</td>\n",
              "    </tr>\n",
              "    <tr>\n",
              "      <th>Missouri</th>\n",
              "      <td>57.913580</td>\n",
              "    </tr>\n",
              "    <tr>\n",
              "      <th>Hawaii</th>\n",
              "      <td>57.723077</td>\n",
              "    </tr>\n",
              "    <tr>\n",
              "      <th>Louisiana</th>\n",
              "      <td>57.714286</td>\n",
              "    </tr>\n",
              "    <tr>\n",
              "      <th>Oregon</th>\n",
              "      <td>57.337838</td>\n",
              "    </tr>\n",
              "    <tr>\n",
              "      <th>Vermont</th>\n",
              "      <td>57.176471</td>\n",
              "    </tr>\n",
              "    <tr>\n",
              "      <th>Maine</th>\n",
              "      <td>56.987013</td>\n",
              "    </tr>\n",
              "    <tr>\n",
              "      <th>New Jersey</th>\n",
              "      <td>56.746269</td>\n",
              "    </tr>\n",
              "    <tr>\n",
              "      <th>Minnesota</th>\n",
              "      <td>56.556818</td>\n",
              "    </tr>\n",
              "    <tr>\n",
              "      <th>Colorado</th>\n",
              "      <td>56.293333</td>\n",
              "    </tr>\n",
              "    <tr>\n",
              "      <th>Wisconsin</th>\n",
              "      <td>55.946667</td>\n",
              "    </tr>\n",
              "    <tr>\n",
              "      <th>Florida</th>\n",
              "      <td>55.852941</td>\n",
              "    </tr>\n",
              "    <tr>\n",
              "      <th>Maryland</th>\n",
              "      <td>55.755814</td>\n",
              "    </tr>\n",
              "    <tr>\n",
              "      <th>Kentucky</th>\n",
              "      <td>55.721519</td>\n",
              "    </tr>\n",
              "    <tr>\n",
              "      <th>Delaware</th>\n",
              "      <td>55.325581</td>\n",
              "    </tr>\n",
              "    <tr>\n",
              "      <th>Kansas</th>\n",
              "      <td>54.555556</td>\n",
              "    </tr>\n",
              "    <tr>\n",
              "      <th>Connecticut</th>\n",
              "      <td>54.179487</td>\n",
              "    </tr>\n",
              "  </tbody>\n",
              "</table>\n",
              "</div><br><label><b>dtype:</b> float64</label>"
            ]
          },
          "metadata": {},
          "execution_count": 69
        }
      ],
      "source": [
        "shop.groupby('Location')['Purchase Amount (USD)'].mean().sort_values(ascending = False)"
      ]
    },
    {
      "cell_type": "code",
      "execution_count": 70,
      "id": "0ef53932-87d0-4bfd-a18f-b156362f86a5",
      "metadata": {
        "id": "0ef53932-87d0-4bfd-a18f-b156362f86a5"
      },
      "outputs": [],
      "source": [
        "shop_group = shop.groupby('Location')['Purchase Amount (USD)'].mean().reset_index()"
      ]
    },
    {
      "cell_type": "code",
      "execution_count": 71,
      "id": "05b3823a-13cf-42b3-bf49-b8a8d5b7c616",
      "metadata": {
        "id": "05b3823a-13cf-42b3-bf49-b8a8d5b7c616",
        "outputId": "29ba5d9f-062a-46ec-9366-52e1bb1e5ae0",
        "colab": {
          "base_uri": "https://localhost:8080/",
          "height": 542
        }
      },
      "outputs": [
        {
          "output_type": "display_data",
          "data": {
            "text/html": [
              "<html>\n",
              "<head><meta charset=\"utf-8\" /></head>\n",
              "<body>\n",
              "    <div>            <script src=\"https://cdnjs.cloudflare.com/ajax/libs/mathjax/2.7.5/MathJax.js?config=TeX-AMS-MML_SVG\"></script><script type=\"text/javascript\">if (window.MathJax && window.MathJax.Hub && window.MathJax.Hub.Config) {window.MathJax.Hub.Config({SVG: {font: \"STIX-Web\"}});}</script>                <script type=\"text/javascript\">window.PlotlyConfig = {MathJaxConfig: 'local'};</script>\n",
              "        <script charset=\"utf-8\" src=\"https://cdn.plot.ly/plotly-2.35.2.min.js\"></script>                <div id=\"5055cc65-380b-4e27-867e-bf530d6638c8\" class=\"plotly-graph-div\" style=\"height:525px; width:100%;\"></div>            <script type=\"text/javascript\">                                    window.PLOTLYENV=window.PLOTLYENV || {};                                    if (document.getElementById(\"5055cc65-380b-4e27-867e-bf530d6638c8\")) {                    Plotly.newPlot(                        \"5055cc65-380b-4e27-867e-bf530d6638c8\",                        [{\"alignmentgroup\":\"True\",\"hovertemplate\":\"Location=%{x}\\u003cbr\\u003ePurchase Amount (USD)=%{y}\\u003cextra\\u003e\\u003c\\u002fextra\\u003e\",\"legendgroup\":\"\",\"marker\":{\"color\":\"#636efa\",\"pattern\":{\"shape\":\"\"}},\"name\":\"\",\"offsetgroup\":\"\",\"orientation\":\"v\",\"showlegend\":false,\"textposition\":\"auto\",\"x\":[\"Alabama\",\"Alaska\",\"Arizona\",\"Arkansas\",\"California\",\"Colorado\",\"Connecticut\",\"Delaware\",\"Florida\",\"Georgia\",\"Hawaii\",\"Idaho\",\"Illinois\",\"Indiana\",\"Iowa\",\"Kansas\",\"Kentucky\",\"Louisiana\",\"Maine\",\"Maryland\",\"Massachusetts\",\"Michigan\",\"Minnesota\",\"Mississippi\",\"Missouri\",\"Montana\",\"Nebraska\",\"Nevada\",\"New Hampshire\",\"New Jersey\",\"New Mexico\",\"New York\",\"North Carolina\",\"North Dakota\",\"Ohio\",\"Oklahoma\",\"Oregon\",\"Pennsylvania\",\"Rhode Island\",\"South Carolina\",\"South Dakota\",\"Tennessee\",\"Texas\",\"Utah\",\"Vermont\",\"Virginia\",\"Washington\",\"West Virginia\",\"Wisconsin\",\"Wyoming\"],\"xaxis\":\"x\",\"y\":[59.1123595505618,67.59722222222223,66.55384615384615,61.11392405063291,59.0,56.29333333333334,54.17948717948718,55.325581395348834,55.85294117647059,58.79746835443038,57.723076923076924,60.075268817204304,61.05434782608695,58.924050632911396,60.88405797101449,54.55555555555556,55.721518987341774,57.714285714285715,56.98701298701299,55.75581395348837,60.888888888888886,62.0958904109589,56.55681818181818,61.0375,57.91358024691358,60.25,59.44827586206897,63.37931034482759,59.42253521126761,56.74626865671642,61.901234567901234,60.42528735632184,60.794871794871796,62.89156626506024,60.37662337662338,58.346666666666664,57.33783783783784,66.56756756756756,61.44444444444444,58.4078947368421,60.51428571428571,61.97402597402598,61.1948051948052,62.57746478873239,57.1764705882353,62.883116883116884,63.32876712328767,63.876543209876544,55.946666666666665,60.690140845070424],\"yaxis\":\"y\",\"type\":\"bar\"}],                        {\"template\":{\"data\":{\"histogram2dcontour\":[{\"type\":\"histogram2dcontour\",\"colorbar\":{\"outlinewidth\":0,\"ticks\":\"\"},\"colorscale\":[[0.0,\"#0d0887\"],[0.1111111111111111,\"#46039f\"],[0.2222222222222222,\"#7201a8\"],[0.3333333333333333,\"#9c179e\"],[0.4444444444444444,\"#bd3786\"],[0.5555555555555556,\"#d8576b\"],[0.6666666666666666,\"#ed7953\"],[0.7777777777777778,\"#fb9f3a\"],[0.8888888888888888,\"#fdca26\"],[1.0,\"#f0f921\"]]}],\"choropleth\":[{\"type\":\"choropleth\",\"colorbar\":{\"outlinewidth\":0,\"ticks\":\"\"}}],\"histogram2d\":[{\"type\":\"histogram2d\",\"colorbar\":{\"outlinewidth\":0,\"ticks\":\"\"},\"colorscale\":[[0.0,\"#0d0887\"],[0.1111111111111111,\"#46039f\"],[0.2222222222222222,\"#7201a8\"],[0.3333333333333333,\"#9c179e\"],[0.4444444444444444,\"#bd3786\"],[0.5555555555555556,\"#d8576b\"],[0.6666666666666666,\"#ed7953\"],[0.7777777777777778,\"#fb9f3a\"],[0.8888888888888888,\"#fdca26\"],[1.0,\"#f0f921\"]]}],\"heatmap\":[{\"type\":\"heatmap\",\"colorbar\":{\"outlinewidth\":0,\"ticks\":\"\"},\"colorscale\":[[0.0,\"#0d0887\"],[0.1111111111111111,\"#46039f\"],[0.2222222222222222,\"#7201a8\"],[0.3333333333333333,\"#9c179e\"],[0.4444444444444444,\"#bd3786\"],[0.5555555555555556,\"#d8576b\"],[0.6666666666666666,\"#ed7953\"],[0.7777777777777778,\"#fb9f3a\"],[0.8888888888888888,\"#fdca26\"],[1.0,\"#f0f921\"]]}],\"heatmapgl\":[{\"type\":\"heatmapgl\",\"colorbar\":{\"outlinewidth\":0,\"ticks\":\"\"},\"colorscale\":[[0.0,\"#0d0887\"],[0.1111111111111111,\"#46039f\"],[0.2222222222222222,\"#7201a8\"],[0.3333333333333333,\"#9c179e\"],[0.4444444444444444,\"#bd3786\"],[0.5555555555555556,\"#d8576b\"],[0.6666666666666666,\"#ed7953\"],[0.7777777777777778,\"#fb9f3a\"],[0.8888888888888888,\"#fdca26\"],[1.0,\"#f0f921\"]]}],\"contourcarpet\":[{\"type\":\"contourcarpet\",\"colorbar\":{\"outlinewidth\":0,\"ticks\":\"\"}}],\"contour\":[{\"type\":\"contour\",\"colorbar\":{\"outlinewidth\":0,\"ticks\":\"\"},\"colorscale\":[[0.0,\"#0d0887\"],[0.1111111111111111,\"#46039f\"],[0.2222222222222222,\"#7201a8\"],[0.3333333333333333,\"#9c179e\"],[0.4444444444444444,\"#bd3786\"],[0.5555555555555556,\"#d8576b\"],[0.6666666666666666,\"#ed7953\"],[0.7777777777777778,\"#fb9f3a\"],[0.8888888888888888,\"#fdca26\"],[1.0,\"#f0f921\"]]}],\"surface\":[{\"type\":\"surface\",\"colorbar\":{\"outlinewidth\":0,\"ticks\":\"\"},\"colorscale\":[[0.0,\"#0d0887\"],[0.1111111111111111,\"#46039f\"],[0.2222222222222222,\"#7201a8\"],[0.3333333333333333,\"#9c179e\"],[0.4444444444444444,\"#bd3786\"],[0.5555555555555556,\"#d8576b\"],[0.6666666666666666,\"#ed7953\"],[0.7777777777777778,\"#fb9f3a\"],[0.8888888888888888,\"#fdca26\"],[1.0,\"#f0f921\"]]}],\"mesh3d\":[{\"type\":\"mesh3d\",\"colorbar\":{\"outlinewidth\":0,\"ticks\":\"\"}}],\"scatter\":[{\"fillpattern\":{\"fillmode\":\"overlay\",\"size\":10,\"solidity\":0.2},\"type\":\"scatter\"}],\"parcoords\":[{\"type\":\"parcoords\",\"line\":{\"colorbar\":{\"outlinewidth\":0,\"ticks\":\"\"}}}],\"scatterpolargl\":[{\"type\":\"scatterpolargl\",\"marker\":{\"colorbar\":{\"outlinewidth\":0,\"ticks\":\"\"}}}],\"bar\":[{\"error_x\":{\"color\":\"#2a3f5f\"},\"error_y\":{\"color\":\"#2a3f5f\"},\"marker\":{\"line\":{\"color\":\"#E5ECF6\",\"width\":0.5},\"pattern\":{\"fillmode\":\"overlay\",\"size\":10,\"solidity\":0.2}},\"type\":\"bar\"}],\"scattergeo\":[{\"type\":\"scattergeo\",\"marker\":{\"colorbar\":{\"outlinewidth\":0,\"ticks\":\"\"}}}],\"scatterpolar\":[{\"type\":\"scatterpolar\",\"marker\":{\"colorbar\":{\"outlinewidth\":0,\"ticks\":\"\"}}}],\"histogram\":[{\"marker\":{\"pattern\":{\"fillmode\":\"overlay\",\"size\":10,\"solidity\":0.2}},\"type\":\"histogram\"}],\"scattergl\":[{\"type\":\"scattergl\",\"marker\":{\"colorbar\":{\"outlinewidth\":0,\"ticks\":\"\"}}}],\"scatter3d\":[{\"type\":\"scatter3d\",\"line\":{\"colorbar\":{\"outlinewidth\":0,\"ticks\":\"\"}},\"marker\":{\"colorbar\":{\"outlinewidth\":0,\"ticks\":\"\"}}}],\"scattermapbox\":[{\"type\":\"scattermapbox\",\"marker\":{\"colorbar\":{\"outlinewidth\":0,\"ticks\":\"\"}}}],\"scatterternary\":[{\"type\":\"scatterternary\",\"marker\":{\"colorbar\":{\"outlinewidth\":0,\"ticks\":\"\"}}}],\"scattercarpet\":[{\"type\":\"scattercarpet\",\"marker\":{\"colorbar\":{\"outlinewidth\":0,\"ticks\":\"\"}}}],\"carpet\":[{\"aaxis\":{\"endlinecolor\":\"#2a3f5f\",\"gridcolor\":\"white\",\"linecolor\":\"white\",\"minorgridcolor\":\"white\",\"startlinecolor\":\"#2a3f5f\"},\"baxis\":{\"endlinecolor\":\"#2a3f5f\",\"gridcolor\":\"white\",\"linecolor\":\"white\",\"minorgridcolor\":\"white\",\"startlinecolor\":\"#2a3f5f\"},\"type\":\"carpet\"}],\"table\":[{\"cells\":{\"fill\":{\"color\":\"#EBF0F8\"},\"line\":{\"color\":\"white\"}},\"header\":{\"fill\":{\"color\":\"#C8D4E3\"},\"line\":{\"color\":\"white\"}},\"type\":\"table\"}],\"barpolar\":[{\"marker\":{\"line\":{\"color\":\"#E5ECF6\",\"width\":0.5},\"pattern\":{\"fillmode\":\"overlay\",\"size\":10,\"solidity\":0.2}},\"type\":\"barpolar\"}],\"pie\":[{\"automargin\":true,\"type\":\"pie\"}]},\"layout\":{\"autotypenumbers\":\"strict\",\"colorway\":[\"#636efa\",\"#EF553B\",\"#00cc96\",\"#ab63fa\",\"#FFA15A\",\"#19d3f3\",\"#FF6692\",\"#B6E880\",\"#FF97FF\",\"#FECB52\"],\"font\":{\"color\":\"#2a3f5f\"},\"hovermode\":\"closest\",\"hoverlabel\":{\"align\":\"left\"},\"paper_bgcolor\":\"white\",\"plot_bgcolor\":\"#E5ECF6\",\"polar\":{\"bgcolor\":\"#E5ECF6\",\"angularaxis\":{\"gridcolor\":\"white\",\"linecolor\":\"white\",\"ticks\":\"\"},\"radialaxis\":{\"gridcolor\":\"white\",\"linecolor\":\"white\",\"ticks\":\"\"}},\"ternary\":{\"bgcolor\":\"#E5ECF6\",\"aaxis\":{\"gridcolor\":\"white\",\"linecolor\":\"white\",\"ticks\":\"\"},\"baxis\":{\"gridcolor\":\"white\",\"linecolor\":\"white\",\"ticks\":\"\"},\"caxis\":{\"gridcolor\":\"white\",\"linecolor\":\"white\",\"ticks\":\"\"}},\"coloraxis\":{\"colorbar\":{\"outlinewidth\":0,\"ticks\":\"\"}},\"colorscale\":{\"sequential\":[[0.0,\"#0d0887\"],[0.1111111111111111,\"#46039f\"],[0.2222222222222222,\"#7201a8\"],[0.3333333333333333,\"#9c179e\"],[0.4444444444444444,\"#bd3786\"],[0.5555555555555556,\"#d8576b\"],[0.6666666666666666,\"#ed7953\"],[0.7777777777777778,\"#fb9f3a\"],[0.8888888888888888,\"#fdca26\"],[1.0,\"#f0f921\"]],\"sequentialminus\":[[0.0,\"#0d0887\"],[0.1111111111111111,\"#46039f\"],[0.2222222222222222,\"#7201a8\"],[0.3333333333333333,\"#9c179e\"],[0.4444444444444444,\"#bd3786\"],[0.5555555555555556,\"#d8576b\"],[0.6666666666666666,\"#ed7953\"],[0.7777777777777778,\"#fb9f3a\"],[0.8888888888888888,\"#fdca26\"],[1.0,\"#f0f921\"]],\"diverging\":[[0,\"#8e0152\"],[0.1,\"#c51b7d\"],[0.2,\"#de77ae\"],[0.3,\"#f1b6da\"],[0.4,\"#fde0ef\"],[0.5,\"#f7f7f7\"],[0.6,\"#e6f5d0\"],[0.7,\"#b8e186\"],[0.8,\"#7fbc41\"],[0.9,\"#4d9221\"],[1,\"#276419\"]]},\"xaxis\":{\"gridcolor\":\"white\",\"linecolor\":\"white\",\"ticks\":\"\",\"title\":{\"standoff\":15},\"zerolinecolor\":\"white\",\"automargin\":true,\"zerolinewidth\":2},\"yaxis\":{\"gridcolor\":\"white\",\"linecolor\":\"white\",\"ticks\":\"\",\"title\":{\"standoff\":15},\"zerolinecolor\":\"white\",\"automargin\":true,\"zerolinewidth\":2},\"scene\":{\"xaxis\":{\"backgroundcolor\":\"#E5ECF6\",\"gridcolor\":\"white\",\"linecolor\":\"white\",\"showbackground\":true,\"ticks\":\"\",\"zerolinecolor\":\"white\",\"gridwidth\":2},\"yaxis\":{\"backgroundcolor\":\"#E5ECF6\",\"gridcolor\":\"white\",\"linecolor\":\"white\",\"showbackground\":true,\"ticks\":\"\",\"zerolinecolor\":\"white\",\"gridwidth\":2},\"zaxis\":{\"backgroundcolor\":\"#E5ECF6\",\"gridcolor\":\"white\",\"linecolor\":\"white\",\"showbackground\":true,\"ticks\":\"\",\"zerolinecolor\":\"white\",\"gridwidth\":2}},\"shapedefaults\":{\"line\":{\"color\":\"#2a3f5f\"}},\"annotationdefaults\":{\"arrowcolor\":\"#2a3f5f\",\"arrowhead\":0,\"arrowwidth\":1},\"geo\":{\"bgcolor\":\"white\",\"landcolor\":\"#E5ECF6\",\"subunitcolor\":\"white\",\"showland\":true,\"showlakes\":true,\"lakecolor\":\"white\"},\"title\":{\"x\":0.05},\"mapbox\":{\"style\":\"light\"}}},\"xaxis\":{\"anchor\":\"y\",\"domain\":[0.0,1.0],\"title\":{\"text\":\"Location\"}},\"yaxis\":{\"anchor\":\"x\",\"domain\":[0.0,1.0],\"title\":{\"text\":\"Purchase Amount (USD)\"}},\"legend\":{\"tracegroupgap\":0},\"margin\":{\"t\":60},\"barmode\":\"relative\"},                        {\"responsive\": true}                    ).then(function(){\n",
              "                            \n",
              "var gd = document.getElementById('5055cc65-380b-4e27-867e-bf530d6638c8');\n",
              "var x = new MutationObserver(function (mutations, observer) {{\n",
              "        var display = window.getComputedStyle(gd).display;\n",
              "        if (!display || display === 'none') {{\n",
              "            console.log([gd, 'removed!']);\n",
              "            Plotly.purge(gd);\n",
              "            observer.disconnect();\n",
              "        }}\n",
              "}});\n",
              "\n",
              "// Listen for the removal of the full notebook cells\n",
              "var notebookContainer = gd.closest('#notebook-container');\n",
              "if (notebookContainer) {{\n",
              "    x.observe(notebookContainer, {childList: true});\n",
              "}}\n",
              "\n",
              "// Listen for the clearing of the current output cell\n",
              "var outputEl = gd.closest('.output');\n",
              "if (outputEl) {{\n",
              "    x.observe(outputEl, {childList: true});\n",
              "}}\n",
              "\n",
              "                        })                };                            </script>        </div>\n",
              "</body>\n",
              "</html>"
            ]
          },
          "metadata": {}
        }
      ],
      "source": [
        "fig = px.bar(shop_group, x = 'Location' , y = 'Purchase Amount (USD)')\n",
        "fig.show()"
      ]
    },
    {
      "cell_type": "markdown",
      "id": "92f43b8a-0b01-4265-a1fa-1efb1861ed33",
      "metadata": {
        "id": "92f43b8a-0b01-4265-a1fa-1efb1861ed33"
      },
      "source": [
        "## 17 Is there a relationship between customer age and the category of products they purchase?"
      ]
    },
    {
      "cell_type": "code",
      "execution_count": 72,
      "id": "78b19b31-8754-42fa-9589-03b22ccfcfd7",
      "metadata": {
        "id": "78b19b31-8754-42fa-9589-03b22ccfcfd7"
      },
      "outputs": [],
      "source": [
        "shop_group = shop.groupby('Category')['Age'].mean().reset_index()"
      ]
    },
    {
      "cell_type": "code",
      "execution_count": 73,
      "id": "8a959313-e2cd-40a6-88c1-3aef2a129fc4",
      "metadata": {
        "id": "8a959313-e2cd-40a6-88c1-3aef2a129fc4",
        "outputId": "a6d8ad98-9f5d-4a44-9500-be582a745145",
        "colab": {
          "base_uri": "https://localhost:8080/",
          "height": 542
        }
      },
      "outputs": [
        {
          "output_type": "display_data",
          "data": {
            "text/html": [
              "<html>\n",
              "<head><meta charset=\"utf-8\" /></head>\n",
              "<body>\n",
              "    <div>            <script src=\"https://cdnjs.cloudflare.com/ajax/libs/mathjax/2.7.5/MathJax.js?config=TeX-AMS-MML_SVG\"></script><script type=\"text/javascript\">if (window.MathJax && window.MathJax.Hub && window.MathJax.Hub.Config) {window.MathJax.Hub.Config({SVG: {font: \"STIX-Web\"}});}</script>                <script type=\"text/javascript\">window.PlotlyConfig = {MathJaxConfig: 'local'};</script>\n",
              "        <script charset=\"utf-8\" src=\"https://cdn.plot.ly/plotly-2.35.2.min.js\"></script>                <div id=\"d3d796b4-350e-47d7-899b-208d76a01c4f\" class=\"plotly-graph-div\" style=\"height:525px; width:100%;\"></div>            <script type=\"text/javascript\">                                    window.PLOTLYENV=window.PLOTLYENV || {};                                    if (document.getElementById(\"d3d796b4-350e-47d7-899b-208d76a01c4f\")) {                    Plotly.newPlot(                        \"d3d796b4-350e-47d7-899b-208d76a01c4f\",                        [{\"alignmentgroup\":\"True\",\"hovertemplate\":\"Category=%{x}\\u003cbr\\u003eAge=%{y}\\u003cextra\\u003e\\u003c\\u002fextra\\u003e\",\"legendgroup\":\"\",\"marker\":{\"color\":\"#636efa\",\"pattern\":{\"shape\":\"\"}},\"name\":\"\",\"offsetgroup\":\"\",\"orientation\":\"v\",\"showlegend\":false,\"textposition\":\"auto\",\"x\":[\"Accessories\",\"Clothing\",\"Footwear\",\"Outerwear\"],\"xaxis\":\"x\",\"y\":[44.2241935483871,43.782959124928034,44.4424040066778,44.31172839506173],\"yaxis\":\"y\",\"type\":\"bar\"}],                        {\"template\":{\"data\":{\"histogram2dcontour\":[{\"type\":\"histogram2dcontour\",\"colorbar\":{\"outlinewidth\":0,\"ticks\":\"\"},\"colorscale\":[[0.0,\"#0d0887\"],[0.1111111111111111,\"#46039f\"],[0.2222222222222222,\"#7201a8\"],[0.3333333333333333,\"#9c179e\"],[0.4444444444444444,\"#bd3786\"],[0.5555555555555556,\"#d8576b\"],[0.6666666666666666,\"#ed7953\"],[0.7777777777777778,\"#fb9f3a\"],[0.8888888888888888,\"#fdca26\"],[1.0,\"#f0f921\"]]}],\"choropleth\":[{\"type\":\"choropleth\",\"colorbar\":{\"outlinewidth\":0,\"ticks\":\"\"}}],\"histogram2d\":[{\"type\":\"histogram2d\",\"colorbar\":{\"outlinewidth\":0,\"ticks\":\"\"},\"colorscale\":[[0.0,\"#0d0887\"],[0.1111111111111111,\"#46039f\"],[0.2222222222222222,\"#7201a8\"],[0.3333333333333333,\"#9c179e\"],[0.4444444444444444,\"#bd3786\"],[0.5555555555555556,\"#d8576b\"],[0.6666666666666666,\"#ed7953\"],[0.7777777777777778,\"#fb9f3a\"],[0.8888888888888888,\"#fdca26\"],[1.0,\"#f0f921\"]]}],\"heatmap\":[{\"type\":\"heatmap\",\"colorbar\":{\"outlinewidth\":0,\"ticks\":\"\"},\"colorscale\":[[0.0,\"#0d0887\"],[0.1111111111111111,\"#46039f\"],[0.2222222222222222,\"#7201a8\"],[0.3333333333333333,\"#9c179e\"],[0.4444444444444444,\"#bd3786\"],[0.5555555555555556,\"#d8576b\"],[0.6666666666666666,\"#ed7953\"],[0.7777777777777778,\"#fb9f3a\"],[0.8888888888888888,\"#fdca26\"],[1.0,\"#f0f921\"]]}],\"heatmapgl\":[{\"type\":\"heatmapgl\",\"colorbar\":{\"outlinewidth\":0,\"ticks\":\"\"},\"colorscale\":[[0.0,\"#0d0887\"],[0.1111111111111111,\"#46039f\"],[0.2222222222222222,\"#7201a8\"],[0.3333333333333333,\"#9c179e\"],[0.4444444444444444,\"#bd3786\"],[0.5555555555555556,\"#d8576b\"],[0.6666666666666666,\"#ed7953\"],[0.7777777777777778,\"#fb9f3a\"],[0.8888888888888888,\"#fdca26\"],[1.0,\"#f0f921\"]]}],\"contourcarpet\":[{\"type\":\"contourcarpet\",\"colorbar\":{\"outlinewidth\":0,\"ticks\":\"\"}}],\"contour\":[{\"type\":\"contour\",\"colorbar\":{\"outlinewidth\":0,\"ticks\":\"\"},\"colorscale\":[[0.0,\"#0d0887\"],[0.1111111111111111,\"#46039f\"],[0.2222222222222222,\"#7201a8\"],[0.3333333333333333,\"#9c179e\"],[0.4444444444444444,\"#bd3786\"],[0.5555555555555556,\"#d8576b\"],[0.6666666666666666,\"#ed7953\"],[0.7777777777777778,\"#fb9f3a\"],[0.8888888888888888,\"#fdca26\"],[1.0,\"#f0f921\"]]}],\"surface\":[{\"type\":\"surface\",\"colorbar\":{\"outlinewidth\":0,\"ticks\":\"\"},\"colorscale\":[[0.0,\"#0d0887\"],[0.1111111111111111,\"#46039f\"],[0.2222222222222222,\"#7201a8\"],[0.3333333333333333,\"#9c179e\"],[0.4444444444444444,\"#bd3786\"],[0.5555555555555556,\"#d8576b\"],[0.6666666666666666,\"#ed7953\"],[0.7777777777777778,\"#fb9f3a\"],[0.8888888888888888,\"#fdca26\"],[1.0,\"#f0f921\"]]}],\"mesh3d\":[{\"type\":\"mesh3d\",\"colorbar\":{\"outlinewidth\":0,\"ticks\":\"\"}}],\"scatter\":[{\"fillpattern\":{\"fillmode\":\"overlay\",\"size\":10,\"solidity\":0.2},\"type\":\"scatter\"}],\"parcoords\":[{\"type\":\"parcoords\",\"line\":{\"colorbar\":{\"outlinewidth\":0,\"ticks\":\"\"}}}],\"scatterpolargl\":[{\"type\":\"scatterpolargl\",\"marker\":{\"colorbar\":{\"outlinewidth\":0,\"ticks\":\"\"}}}],\"bar\":[{\"error_x\":{\"color\":\"#2a3f5f\"},\"error_y\":{\"color\":\"#2a3f5f\"},\"marker\":{\"line\":{\"color\":\"#E5ECF6\",\"width\":0.5},\"pattern\":{\"fillmode\":\"overlay\",\"size\":10,\"solidity\":0.2}},\"type\":\"bar\"}],\"scattergeo\":[{\"type\":\"scattergeo\",\"marker\":{\"colorbar\":{\"outlinewidth\":0,\"ticks\":\"\"}}}],\"scatterpolar\":[{\"type\":\"scatterpolar\",\"marker\":{\"colorbar\":{\"outlinewidth\":0,\"ticks\":\"\"}}}],\"histogram\":[{\"marker\":{\"pattern\":{\"fillmode\":\"overlay\",\"size\":10,\"solidity\":0.2}},\"type\":\"histogram\"}],\"scattergl\":[{\"type\":\"scattergl\",\"marker\":{\"colorbar\":{\"outlinewidth\":0,\"ticks\":\"\"}}}],\"scatter3d\":[{\"type\":\"scatter3d\",\"line\":{\"colorbar\":{\"outlinewidth\":0,\"ticks\":\"\"}},\"marker\":{\"colorbar\":{\"outlinewidth\":0,\"ticks\":\"\"}}}],\"scattermapbox\":[{\"type\":\"scattermapbox\",\"marker\":{\"colorbar\":{\"outlinewidth\":0,\"ticks\":\"\"}}}],\"scatterternary\":[{\"type\":\"scatterternary\",\"marker\":{\"colorbar\":{\"outlinewidth\":0,\"ticks\":\"\"}}}],\"scattercarpet\":[{\"type\":\"scattercarpet\",\"marker\":{\"colorbar\":{\"outlinewidth\":0,\"ticks\":\"\"}}}],\"carpet\":[{\"aaxis\":{\"endlinecolor\":\"#2a3f5f\",\"gridcolor\":\"white\",\"linecolor\":\"white\",\"minorgridcolor\":\"white\",\"startlinecolor\":\"#2a3f5f\"},\"baxis\":{\"endlinecolor\":\"#2a3f5f\",\"gridcolor\":\"white\",\"linecolor\":\"white\",\"minorgridcolor\":\"white\",\"startlinecolor\":\"#2a3f5f\"},\"type\":\"carpet\"}],\"table\":[{\"cells\":{\"fill\":{\"color\":\"#EBF0F8\"},\"line\":{\"color\":\"white\"}},\"header\":{\"fill\":{\"color\":\"#C8D4E3\"},\"line\":{\"color\":\"white\"}},\"type\":\"table\"}],\"barpolar\":[{\"marker\":{\"line\":{\"color\":\"#E5ECF6\",\"width\":0.5},\"pattern\":{\"fillmode\":\"overlay\",\"size\":10,\"solidity\":0.2}},\"type\":\"barpolar\"}],\"pie\":[{\"automargin\":true,\"type\":\"pie\"}]},\"layout\":{\"autotypenumbers\":\"strict\",\"colorway\":[\"#636efa\",\"#EF553B\",\"#00cc96\",\"#ab63fa\",\"#FFA15A\",\"#19d3f3\",\"#FF6692\",\"#B6E880\",\"#FF97FF\",\"#FECB52\"],\"font\":{\"color\":\"#2a3f5f\"},\"hovermode\":\"closest\",\"hoverlabel\":{\"align\":\"left\"},\"paper_bgcolor\":\"white\",\"plot_bgcolor\":\"#E5ECF6\",\"polar\":{\"bgcolor\":\"#E5ECF6\",\"angularaxis\":{\"gridcolor\":\"white\",\"linecolor\":\"white\",\"ticks\":\"\"},\"radialaxis\":{\"gridcolor\":\"white\",\"linecolor\":\"white\",\"ticks\":\"\"}},\"ternary\":{\"bgcolor\":\"#E5ECF6\",\"aaxis\":{\"gridcolor\":\"white\",\"linecolor\":\"white\",\"ticks\":\"\"},\"baxis\":{\"gridcolor\":\"white\",\"linecolor\":\"white\",\"ticks\":\"\"},\"caxis\":{\"gridcolor\":\"white\",\"linecolor\":\"white\",\"ticks\":\"\"}},\"coloraxis\":{\"colorbar\":{\"outlinewidth\":0,\"ticks\":\"\"}},\"colorscale\":{\"sequential\":[[0.0,\"#0d0887\"],[0.1111111111111111,\"#46039f\"],[0.2222222222222222,\"#7201a8\"],[0.3333333333333333,\"#9c179e\"],[0.4444444444444444,\"#bd3786\"],[0.5555555555555556,\"#d8576b\"],[0.6666666666666666,\"#ed7953\"],[0.7777777777777778,\"#fb9f3a\"],[0.8888888888888888,\"#fdca26\"],[1.0,\"#f0f921\"]],\"sequentialminus\":[[0.0,\"#0d0887\"],[0.1111111111111111,\"#46039f\"],[0.2222222222222222,\"#7201a8\"],[0.3333333333333333,\"#9c179e\"],[0.4444444444444444,\"#bd3786\"],[0.5555555555555556,\"#d8576b\"],[0.6666666666666666,\"#ed7953\"],[0.7777777777777778,\"#fb9f3a\"],[0.8888888888888888,\"#fdca26\"],[1.0,\"#f0f921\"]],\"diverging\":[[0,\"#8e0152\"],[0.1,\"#c51b7d\"],[0.2,\"#de77ae\"],[0.3,\"#f1b6da\"],[0.4,\"#fde0ef\"],[0.5,\"#f7f7f7\"],[0.6,\"#e6f5d0\"],[0.7,\"#b8e186\"],[0.8,\"#7fbc41\"],[0.9,\"#4d9221\"],[1,\"#276419\"]]},\"xaxis\":{\"gridcolor\":\"white\",\"linecolor\":\"white\",\"ticks\":\"\",\"title\":{\"standoff\":15},\"zerolinecolor\":\"white\",\"automargin\":true,\"zerolinewidth\":2},\"yaxis\":{\"gridcolor\":\"white\",\"linecolor\":\"white\",\"ticks\":\"\",\"title\":{\"standoff\":15},\"zerolinecolor\":\"white\",\"automargin\":true,\"zerolinewidth\":2},\"scene\":{\"xaxis\":{\"backgroundcolor\":\"#E5ECF6\",\"gridcolor\":\"white\",\"linecolor\":\"white\",\"showbackground\":true,\"ticks\":\"\",\"zerolinecolor\":\"white\",\"gridwidth\":2},\"yaxis\":{\"backgroundcolor\":\"#E5ECF6\",\"gridcolor\":\"white\",\"linecolor\":\"white\",\"showbackground\":true,\"ticks\":\"\",\"zerolinecolor\":\"white\",\"gridwidth\":2},\"zaxis\":{\"backgroundcolor\":\"#E5ECF6\",\"gridcolor\":\"white\",\"linecolor\":\"white\",\"showbackground\":true,\"ticks\":\"\",\"zerolinecolor\":\"white\",\"gridwidth\":2}},\"shapedefaults\":{\"line\":{\"color\":\"#2a3f5f\"}},\"annotationdefaults\":{\"arrowcolor\":\"#2a3f5f\",\"arrowhead\":0,\"arrowwidth\":1},\"geo\":{\"bgcolor\":\"white\",\"landcolor\":\"#E5ECF6\",\"subunitcolor\":\"white\",\"showland\":true,\"showlakes\":true,\"lakecolor\":\"white\"},\"title\":{\"x\":0.05},\"mapbox\":{\"style\":\"light\"}}},\"xaxis\":{\"anchor\":\"y\",\"domain\":[0.0,1.0],\"title\":{\"text\":\"Category\"}},\"yaxis\":{\"anchor\":\"x\",\"domain\":[0.0,1.0],\"title\":{\"text\":\"Age\"}},\"legend\":{\"tracegroupgap\":0},\"margin\":{\"t\":60},\"barmode\":\"relative\"},                        {\"responsive\": true}                    ).then(function(){\n",
              "                            \n",
              "var gd = document.getElementById('d3d796b4-350e-47d7-899b-208d76a01c4f');\n",
              "var x = new MutationObserver(function (mutations, observer) {{\n",
              "        var display = window.getComputedStyle(gd).display;\n",
              "        if (!display || display === 'none') {{\n",
              "            console.log([gd, 'removed!']);\n",
              "            Plotly.purge(gd);\n",
              "            observer.disconnect();\n",
              "        }}\n",
              "}});\n",
              "\n",
              "// Listen for the removal of the full notebook cells\n",
              "var notebookContainer = gd.closest('#notebook-container');\n",
              "if (notebookContainer) {{\n",
              "    x.observe(notebookContainer, {childList: true});\n",
              "}}\n",
              "\n",
              "// Listen for the clearing of the current output cell\n",
              "var outputEl = gd.closest('.output');\n",
              "if (outputEl) {{\n",
              "    x.observe(outputEl, {childList: true});\n",
              "}}\n",
              "\n",
              "                        })                };                            </script>        </div>\n",
              "</body>\n",
              "</html>"
            ]
          },
          "metadata": {}
        }
      ],
      "source": [
        "fig = px.bar(shop_group ,y = 'Age' , x= 'Category')\n",
        "fig.show()"
      ]
    },
    {
      "cell_type": "markdown",
      "id": "415ebc6d-8ed1-403d-8b89-675666eaebd6",
      "metadata": {
        "id": "415ebc6d-8ed1-403d-8b89-675666eaebd6"
      },
      "source": [
        "## 18 How does the average purchase amount differ between male and female customers?"
      ]
    },
    {
      "cell_type": "code",
      "execution_count": 74,
      "id": "33ba11c4-2734-4b3d-9f62-5760d4ba5133",
      "metadata": {
        "id": "33ba11c4-2734-4b3d-9f62-5760d4ba5133"
      },
      "outputs": [],
      "source": [
        "shop_group = shop.groupby('Gender')['Purchase Amount (USD)'].sum().reset_index()"
      ]
    },
    {
      "cell_type": "code",
      "execution_count": 75,
      "id": "4a9dedf8-db83-467e-aa7d-c869e1d837d9",
      "metadata": {
        "id": "4a9dedf8-db83-467e-aa7d-c869e1d837d9",
        "outputId": "c120a49d-dc49-49fd-bbd5-dc05700376d3",
        "colab": {
          "base_uri": "https://localhost:8080/",
          "height": 542
        }
      },
      "outputs": [
        {
          "output_type": "display_data",
          "data": {
            "text/html": [
              "<html>\n",
              "<head><meta charset=\"utf-8\" /></head>\n",
              "<body>\n",
              "    <div>            <script src=\"https://cdnjs.cloudflare.com/ajax/libs/mathjax/2.7.5/MathJax.js?config=TeX-AMS-MML_SVG\"></script><script type=\"text/javascript\">if (window.MathJax && window.MathJax.Hub && window.MathJax.Hub.Config) {window.MathJax.Hub.Config({SVG: {font: \"STIX-Web\"}});}</script>                <script type=\"text/javascript\">window.PlotlyConfig = {MathJaxConfig: 'local'};</script>\n",
              "        <script charset=\"utf-8\" src=\"https://cdn.plot.ly/plotly-2.35.2.min.js\"></script>                <div id=\"1300c94e-c9f2-457c-98ed-668da3cc118c\" class=\"plotly-graph-div\" style=\"height:525px; width:100%;\"></div>            <script type=\"text/javascript\">                                    window.PLOTLYENV=window.PLOTLYENV || {};                                    if (document.getElementById(\"1300c94e-c9f2-457c-98ed-668da3cc118c\")) {                    Plotly.newPlot(                        \"1300c94e-c9f2-457c-98ed-668da3cc118c\",                        [{\"alignmentgroup\":\"True\",\"hovertemplate\":\"Gender=%{x}\\u003cbr\\u003ePurchase Amount (USD)=%{y}\\u003cextra\\u003e\\u003c\\u002fextra\\u003e\",\"legendgroup\":\"\",\"marker\":{\"color\":\"#636efa\",\"pattern\":{\"shape\":\"\"}},\"name\":\"\",\"offsetgroup\":\"\",\"orientation\":\"v\",\"showlegend\":false,\"textposition\":\"auto\",\"x\":[\"Female\",\"Male\"],\"xaxis\":\"x\",\"y\":[75191,157890],\"yaxis\":\"y\",\"type\":\"bar\"}],                        {\"template\":{\"data\":{\"histogram2dcontour\":[{\"type\":\"histogram2dcontour\",\"colorbar\":{\"outlinewidth\":0,\"ticks\":\"\"},\"colorscale\":[[0.0,\"#0d0887\"],[0.1111111111111111,\"#46039f\"],[0.2222222222222222,\"#7201a8\"],[0.3333333333333333,\"#9c179e\"],[0.4444444444444444,\"#bd3786\"],[0.5555555555555556,\"#d8576b\"],[0.6666666666666666,\"#ed7953\"],[0.7777777777777778,\"#fb9f3a\"],[0.8888888888888888,\"#fdca26\"],[1.0,\"#f0f921\"]]}],\"choropleth\":[{\"type\":\"choropleth\",\"colorbar\":{\"outlinewidth\":0,\"ticks\":\"\"}}],\"histogram2d\":[{\"type\":\"histogram2d\",\"colorbar\":{\"outlinewidth\":0,\"ticks\":\"\"},\"colorscale\":[[0.0,\"#0d0887\"],[0.1111111111111111,\"#46039f\"],[0.2222222222222222,\"#7201a8\"],[0.3333333333333333,\"#9c179e\"],[0.4444444444444444,\"#bd3786\"],[0.5555555555555556,\"#d8576b\"],[0.6666666666666666,\"#ed7953\"],[0.7777777777777778,\"#fb9f3a\"],[0.8888888888888888,\"#fdca26\"],[1.0,\"#f0f921\"]]}],\"heatmap\":[{\"type\":\"heatmap\",\"colorbar\":{\"outlinewidth\":0,\"ticks\":\"\"},\"colorscale\":[[0.0,\"#0d0887\"],[0.1111111111111111,\"#46039f\"],[0.2222222222222222,\"#7201a8\"],[0.3333333333333333,\"#9c179e\"],[0.4444444444444444,\"#bd3786\"],[0.5555555555555556,\"#d8576b\"],[0.6666666666666666,\"#ed7953\"],[0.7777777777777778,\"#fb9f3a\"],[0.8888888888888888,\"#fdca26\"],[1.0,\"#f0f921\"]]}],\"heatmapgl\":[{\"type\":\"heatmapgl\",\"colorbar\":{\"outlinewidth\":0,\"ticks\":\"\"},\"colorscale\":[[0.0,\"#0d0887\"],[0.1111111111111111,\"#46039f\"],[0.2222222222222222,\"#7201a8\"],[0.3333333333333333,\"#9c179e\"],[0.4444444444444444,\"#bd3786\"],[0.5555555555555556,\"#d8576b\"],[0.6666666666666666,\"#ed7953\"],[0.7777777777777778,\"#fb9f3a\"],[0.8888888888888888,\"#fdca26\"],[1.0,\"#f0f921\"]]}],\"contourcarpet\":[{\"type\":\"contourcarpet\",\"colorbar\":{\"outlinewidth\":0,\"ticks\":\"\"}}],\"contour\":[{\"type\":\"contour\",\"colorbar\":{\"outlinewidth\":0,\"ticks\":\"\"},\"colorscale\":[[0.0,\"#0d0887\"],[0.1111111111111111,\"#46039f\"],[0.2222222222222222,\"#7201a8\"],[0.3333333333333333,\"#9c179e\"],[0.4444444444444444,\"#bd3786\"],[0.5555555555555556,\"#d8576b\"],[0.6666666666666666,\"#ed7953\"],[0.7777777777777778,\"#fb9f3a\"],[0.8888888888888888,\"#fdca26\"],[1.0,\"#f0f921\"]]}],\"surface\":[{\"type\":\"surface\",\"colorbar\":{\"outlinewidth\":0,\"ticks\":\"\"},\"colorscale\":[[0.0,\"#0d0887\"],[0.1111111111111111,\"#46039f\"],[0.2222222222222222,\"#7201a8\"],[0.3333333333333333,\"#9c179e\"],[0.4444444444444444,\"#bd3786\"],[0.5555555555555556,\"#d8576b\"],[0.6666666666666666,\"#ed7953\"],[0.7777777777777778,\"#fb9f3a\"],[0.8888888888888888,\"#fdca26\"],[1.0,\"#f0f921\"]]}],\"mesh3d\":[{\"type\":\"mesh3d\",\"colorbar\":{\"outlinewidth\":0,\"ticks\":\"\"}}],\"scatter\":[{\"fillpattern\":{\"fillmode\":\"overlay\",\"size\":10,\"solidity\":0.2},\"type\":\"scatter\"}],\"parcoords\":[{\"type\":\"parcoords\",\"line\":{\"colorbar\":{\"outlinewidth\":0,\"ticks\":\"\"}}}],\"scatterpolargl\":[{\"type\":\"scatterpolargl\",\"marker\":{\"colorbar\":{\"outlinewidth\":0,\"ticks\":\"\"}}}],\"bar\":[{\"error_x\":{\"color\":\"#2a3f5f\"},\"error_y\":{\"color\":\"#2a3f5f\"},\"marker\":{\"line\":{\"color\":\"#E5ECF6\",\"width\":0.5},\"pattern\":{\"fillmode\":\"overlay\",\"size\":10,\"solidity\":0.2}},\"type\":\"bar\"}],\"scattergeo\":[{\"type\":\"scattergeo\",\"marker\":{\"colorbar\":{\"outlinewidth\":0,\"ticks\":\"\"}}}],\"scatterpolar\":[{\"type\":\"scatterpolar\",\"marker\":{\"colorbar\":{\"outlinewidth\":0,\"ticks\":\"\"}}}],\"histogram\":[{\"marker\":{\"pattern\":{\"fillmode\":\"overlay\",\"size\":10,\"solidity\":0.2}},\"type\":\"histogram\"}],\"scattergl\":[{\"type\":\"scattergl\",\"marker\":{\"colorbar\":{\"outlinewidth\":0,\"ticks\":\"\"}}}],\"scatter3d\":[{\"type\":\"scatter3d\",\"line\":{\"colorbar\":{\"outlinewidth\":0,\"ticks\":\"\"}},\"marker\":{\"colorbar\":{\"outlinewidth\":0,\"ticks\":\"\"}}}],\"scattermapbox\":[{\"type\":\"scattermapbox\",\"marker\":{\"colorbar\":{\"outlinewidth\":0,\"ticks\":\"\"}}}],\"scatterternary\":[{\"type\":\"scatterternary\",\"marker\":{\"colorbar\":{\"outlinewidth\":0,\"ticks\":\"\"}}}],\"scattercarpet\":[{\"type\":\"scattercarpet\",\"marker\":{\"colorbar\":{\"outlinewidth\":0,\"ticks\":\"\"}}}],\"carpet\":[{\"aaxis\":{\"endlinecolor\":\"#2a3f5f\",\"gridcolor\":\"white\",\"linecolor\":\"white\",\"minorgridcolor\":\"white\",\"startlinecolor\":\"#2a3f5f\"},\"baxis\":{\"endlinecolor\":\"#2a3f5f\",\"gridcolor\":\"white\",\"linecolor\":\"white\",\"minorgridcolor\":\"white\",\"startlinecolor\":\"#2a3f5f\"},\"type\":\"carpet\"}],\"table\":[{\"cells\":{\"fill\":{\"color\":\"#EBF0F8\"},\"line\":{\"color\":\"white\"}},\"header\":{\"fill\":{\"color\":\"#C8D4E3\"},\"line\":{\"color\":\"white\"}},\"type\":\"table\"}],\"barpolar\":[{\"marker\":{\"line\":{\"color\":\"#E5ECF6\",\"width\":0.5},\"pattern\":{\"fillmode\":\"overlay\",\"size\":10,\"solidity\":0.2}},\"type\":\"barpolar\"}],\"pie\":[{\"automargin\":true,\"type\":\"pie\"}]},\"layout\":{\"autotypenumbers\":\"strict\",\"colorway\":[\"#636efa\",\"#EF553B\",\"#00cc96\",\"#ab63fa\",\"#FFA15A\",\"#19d3f3\",\"#FF6692\",\"#B6E880\",\"#FF97FF\",\"#FECB52\"],\"font\":{\"color\":\"#2a3f5f\"},\"hovermode\":\"closest\",\"hoverlabel\":{\"align\":\"left\"},\"paper_bgcolor\":\"white\",\"plot_bgcolor\":\"#E5ECF6\",\"polar\":{\"bgcolor\":\"#E5ECF6\",\"angularaxis\":{\"gridcolor\":\"white\",\"linecolor\":\"white\",\"ticks\":\"\"},\"radialaxis\":{\"gridcolor\":\"white\",\"linecolor\":\"white\",\"ticks\":\"\"}},\"ternary\":{\"bgcolor\":\"#E5ECF6\",\"aaxis\":{\"gridcolor\":\"white\",\"linecolor\":\"white\",\"ticks\":\"\"},\"baxis\":{\"gridcolor\":\"white\",\"linecolor\":\"white\",\"ticks\":\"\"},\"caxis\":{\"gridcolor\":\"white\",\"linecolor\":\"white\",\"ticks\":\"\"}},\"coloraxis\":{\"colorbar\":{\"outlinewidth\":0,\"ticks\":\"\"}},\"colorscale\":{\"sequential\":[[0.0,\"#0d0887\"],[0.1111111111111111,\"#46039f\"],[0.2222222222222222,\"#7201a8\"],[0.3333333333333333,\"#9c179e\"],[0.4444444444444444,\"#bd3786\"],[0.5555555555555556,\"#d8576b\"],[0.6666666666666666,\"#ed7953\"],[0.7777777777777778,\"#fb9f3a\"],[0.8888888888888888,\"#fdca26\"],[1.0,\"#f0f921\"]],\"sequentialminus\":[[0.0,\"#0d0887\"],[0.1111111111111111,\"#46039f\"],[0.2222222222222222,\"#7201a8\"],[0.3333333333333333,\"#9c179e\"],[0.4444444444444444,\"#bd3786\"],[0.5555555555555556,\"#d8576b\"],[0.6666666666666666,\"#ed7953\"],[0.7777777777777778,\"#fb9f3a\"],[0.8888888888888888,\"#fdca26\"],[1.0,\"#f0f921\"]],\"diverging\":[[0,\"#8e0152\"],[0.1,\"#c51b7d\"],[0.2,\"#de77ae\"],[0.3,\"#f1b6da\"],[0.4,\"#fde0ef\"],[0.5,\"#f7f7f7\"],[0.6,\"#e6f5d0\"],[0.7,\"#b8e186\"],[0.8,\"#7fbc41\"],[0.9,\"#4d9221\"],[1,\"#276419\"]]},\"xaxis\":{\"gridcolor\":\"white\",\"linecolor\":\"white\",\"ticks\":\"\",\"title\":{\"standoff\":15},\"zerolinecolor\":\"white\",\"automargin\":true,\"zerolinewidth\":2},\"yaxis\":{\"gridcolor\":\"white\",\"linecolor\":\"white\",\"ticks\":\"\",\"title\":{\"standoff\":15},\"zerolinecolor\":\"white\",\"automargin\":true,\"zerolinewidth\":2},\"scene\":{\"xaxis\":{\"backgroundcolor\":\"#E5ECF6\",\"gridcolor\":\"white\",\"linecolor\":\"white\",\"showbackground\":true,\"ticks\":\"\",\"zerolinecolor\":\"white\",\"gridwidth\":2},\"yaxis\":{\"backgroundcolor\":\"#E5ECF6\",\"gridcolor\":\"white\",\"linecolor\":\"white\",\"showbackground\":true,\"ticks\":\"\",\"zerolinecolor\":\"white\",\"gridwidth\":2},\"zaxis\":{\"backgroundcolor\":\"#E5ECF6\",\"gridcolor\":\"white\",\"linecolor\":\"white\",\"showbackground\":true,\"ticks\":\"\",\"zerolinecolor\":\"white\",\"gridwidth\":2}},\"shapedefaults\":{\"line\":{\"color\":\"#2a3f5f\"}},\"annotationdefaults\":{\"arrowcolor\":\"#2a3f5f\",\"arrowhead\":0,\"arrowwidth\":1},\"geo\":{\"bgcolor\":\"white\",\"landcolor\":\"#E5ECF6\",\"subunitcolor\":\"white\",\"showland\":true,\"showlakes\":true,\"lakecolor\":\"white\"},\"title\":{\"x\":0.05},\"mapbox\":{\"style\":\"light\"}}},\"xaxis\":{\"anchor\":\"y\",\"domain\":[0.0,1.0],\"title\":{\"text\":\"Gender\"}},\"yaxis\":{\"anchor\":\"x\",\"domain\":[0.0,1.0],\"title\":{\"text\":\"Purchase Amount (USD)\"}},\"legend\":{\"tracegroupgap\":0},\"margin\":{\"t\":60},\"barmode\":\"relative\"},                        {\"responsive\": true}                    ).then(function(){\n",
              "                            \n",
              "var gd = document.getElementById('1300c94e-c9f2-457c-98ed-668da3cc118c');\n",
              "var x = new MutationObserver(function (mutations, observer) {{\n",
              "        var display = window.getComputedStyle(gd).display;\n",
              "        if (!display || display === 'none') {{\n",
              "            console.log([gd, 'removed!']);\n",
              "            Plotly.purge(gd);\n",
              "            observer.disconnect();\n",
              "        }}\n",
              "}});\n",
              "\n",
              "// Listen for the removal of the full notebook cells\n",
              "var notebookContainer = gd.closest('#notebook-container');\n",
              "if (notebookContainer) {{\n",
              "    x.observe(notebookContainer, {childList: true});\n",
              "}}\n",
              "\n",
              "// Listen for the clearing of the current output cell\n",
              "var outputEl = gd.closest('.output');\n",
              "if (outputEl) {{\n",
              "    x.observe(outputEl, {childList: true});\n",
              "}}\n",
              "\n",
              "                        })                };                            </script>        </div>\n",
              "</body>\n",
              "</html>"
            ]
          },
          "metadata": {}
        }
      ],
      "source": [
        "fig = px.bar(shop_group , x = 'Gender' , y = 'Purchase Amount (USD)')\n",
        "fig.show()"
      ]
    },
    {
      "cell_type": "code",
      "execution_count": 76,
      "id": "8737d886-3ec6-4d3b-a7f8-a28b7a9de0bd",
      "metadata": {
        "id": "8737d886-3ec6-4d3b-a7f8-a28b7a9de0bd",
        "outputId": "aa3466d7-3619-434c-d3a6-8db9d4feda24",
        "colab": {
          "base_uri": "https://localhost:8080/",
          "height": 631
        }
      },
      "outputs": [
        {
          "output_type": "stream",
          "name": "stderr",
          "text": [
            "/usr/local/lib/python3.11/dist-packages/plotly/express/_core.py:1727: FutureWarning:\n",
            "\n",
            "The default of observed=False is deprecated and will be changed to True in a future version of pandas. Pass observed=False to retain current behavior or observed=True to adopt the future default and silence this warning.\n",
            "\n"
          ]
        },
        {
          "output_type": "display_data",
          "data": {
            "text/html": [
              "<html>\n",
              "<head><meta charset=\"utf-8\" /></head>\n",
              "<body>\n",
              "    <div>            <script src=\"https://cdnjs.cloudflare.com/ajax/libs/mathjax/2.7.5/MathJax.js?config=TeX-AMS-MML_SVG\"></script><script type=\"text/javascript\">if (window.MathJax && window.MathJax.Hub && window.MathJax.Hub.Config) {window.MathJax.Hub.Config({SVG: {font: \"STIX-Web\"}});}</script>                <script type=\"text/javascript\">window.PlotlyConfig = {MathJaxConfig: 'local'};</script>\n",
              "        <script charset=\"utf-8\" src=\"https://cdn.plot.ly/plotly-2.35.2.min.js\"></script>                <div id=\"d3a94ad6-ebb9-4f69-99ef-973e5492b0c3\" class=\"plotly-graph-div\" style=\"height:525px; width:100%;\"></div>            <script type=\"text/javascript\">                                    window.PLOTLYENV=window.PLOTLYENV || {};                                    if (document.getElementById(\"d3a94ad6-ebb9-4f69-99ef-973e5492b0c3\")) {                    Plotly.newPlot(                        \"d3a94ad6-ebb9-4f69-99ef-973e5492b0c3\",                        [{\"branchvalues\":\"total\",\"domain\":{\"x\":[0.0,1.0],\"y\":[0.0,1.0]},\"hovertemplate\":\"labels=%{label}\\u003cbr\\u003ePurchase Amount (USD)=%{value}\\u003cbr\\u003eparent=%{parent}\\u003cbr\\u003eid=%{id}\\u003cextra\\u003e\\u003c\\u002fextra\\u003e\",\"ids\":[\"Female\\u002fchild\",\"Male\\u002fchild\",\"Female\\u002fteen\",\"Male\\u002fteen\",\"Female\\u002fYoung Adults\",\"Male\\u002fYoung Adults\",\"Female\\u002fMiddle-Aged Adults\",\"Male\\u002fMiddle-Aged Adults\",\"Female\\u002fold\",\"Male\\u002fold\",\"Female\",\"Male\"],\"labels\":[\"child\",\"child\",\"teen\",\"teen\",\"Young Adults\",\"Young Adults\",\"Middle-Aged Adults\",\"Middle-Aged Adults\",\"old\",\"old\",\"Female\",\"Male\"],\"name\":\"\",\"parents\":[\"Female\",\"Male\",\"Female\",\"Male\",\"Female\",\"Male\",\"Female\",\"Male\",\"Female\",\"Male\",\"\",\"\"],\"values\":[0,0,1194,2945,17141,35999,28971,58351,27885,60595,75191,157890],\"type\":\"sunburst\"}],                        {\"template\":{\"data\":{\"histogram2dcontour\":[{\"type\":\"histogram2dcontour\",\"colorbar\":{\"outlinewidth\":0,\"ticks\":\"\"},\"colorscale\":[[0.0,\"#0d0887\"],[0.1111111111111111,\"#46039f\"],[0.2222222222222222,\"#7201a8\"],[0.3333333333333333,\"#9c179e\"],[0.4444444444444444,\"#bd3786\"],[0.5555555555555556,\"#d8576b\"],[0.6666666666666666,\"#ed7953\"],[0.7777777777777778,\"#fb9f3a\"],[0.8888888888888888,\"#fdca26\"],[1.0,\"#f0f921\"]]}],\"choropleth\":[{\"type\":\"choropleth\",\"colorbar\":{\"outlinewidth\":0,\"ticks\":\"\"}}],\"histogram2d\":[{\"type\":\"histogram2d\",\"colorbar\":{\"outlinewidth\":0,\"ticks\":\"\"},\"colorscale\":[[0.0,\"#0d0887\"],[0.1111111111111111,\"#46039f\"],[0.2222222222222222,\"#7201a8\"],[0.3333333333333333,\"#9c179e\"],[0.4444444444444444,\"#bd3786\"],[0.5555555555555556,\"#d8576b\"],[0.6666666666666666,\"#ed7953\"],[0.7777777777777778,\"#fb9f3a\"],[0.8888888888888888,\"#fdca26\"],[1.0,\"#f0f921\"]]}],\"heatmap\":[{\"type\":\"heatmap\",\"colorbar\":{\"outlinewidth\":0,\"ticks\":\"\"},\"colorscale\":[[0.0,\"#0d0887\"],[0.1111111111111111,\"#46039f\"],[0.2222222222222222,\"#7201a8\"],[0.3333333333333333,\"#9c179e\"],[0.4444444444444444,\"#bd3786\"],[0.5555555555555556,\"#d8576b\"],[0.6666666666666666,\"#ed7953\"],[0.7777777777777778,\"#fb9f3a\"],[0.8888888888888888,\"#fdca26\"],[1.0,\"#f0f921\"]]}],\"heatmapgl\":[{\"type\":\"heatmapgl\",\"colorbar\":{\"outlinewidth\":0,\"ticks\":\"\"},\"colorscale\":[[0.0,\"#0d0887\"],[0.1111111111111111,\"#46039f\"],[0.2222222222222222,\"#7201a8\"],[0.3333333333333333,\"#9c179e\"],[0.4444444444444444,\"#bd3786\"],[0.5555555555555556,\"#d8576b\"],[0.6666666666666666,\"#ed7953\"],[0.7777777777777778,\"#fb9f3a\"],[0.8888888888888888,\"#fdca26\"],[1.0,\"#f0f921\"]]}],\"contourcarpet\":[{\"type\":\"contourcarpet\",\"colorbar\":{\"outlinewidth\":0,\"ticks\":\"\"}}],\"contour\":[{\"type\":\"contour\",\"colorbar\":{\"outlinewidth\":0,\"ticks\":\"\"},\"colorscale\":[[0.0,\"#0d0887\"],[0.1111111111111111,\"#46039f\"],[0.2222222222222222,\"#7201a8\"],[0.3333333333333333,\"#9c179e\"],[0.4444444444444444,\"#bd3786\"],[0.5555555555555556,\"#d8576b\"],[0.6666666666666666,\"#ed7953\"],[0.7777777777777778,\"#fb9f3a\"],[0.8888888888888888,\"#fdca26\"],[1.0,\"#f0f921\"]]}],\"surface\":[{\"type\":\"surface\",\"colorbar\":{\"outlinewidth\":0,\"ticks\":\"\"},\"colorscale\":[[0.0,\"#0d0887\"],[0.1111111111111111,\"#46039f\"],[0.2222222222222222,\"#7201a8\"],[0.3333333333333333,\"#9c179e\"],[0.4444444444444444,\"#bd3786\"],[0.5555555555555556,\"#d8576b\"],[0.6666666666666666,\"#ed7953\"],[0.7777777777777778,\"#fb9f3a\"],[0.8888888888888888,\"#fdca26\"],[1.0,\"#f0f921\"]]}],\"mesh3d\":[{\"type\":\"mesh3d\",\"colorbar\":{\"outlinewidth\":0,\"ticks\":\"\"}}],\"scatter\":[{\"fillpattern\":{\"fillmode\":\"overlay\",\"size\":10,\"solidity\":0.2},\"type\":\"scatter\"}],\"parcoords\":[{\"type\":\"parcoords\",\"line\":{\"colorbar\":{\"outlinewidth\":0,\"ticks\":\"\"}}}],\"scatterpolargl\":[{\"type\":\"scatterpolargl\",\"marker\":{\"colorbar\":{\"outlinewidth\":0,\"ticks\":\"\"}}}],\"bar\":[{\"error_x\":{\"color\":\"#2a3f5f\"},\"error_y\":{\"color\":\"#2a3f5f\"},\"marker\":{\"line\":{\"color\":\"#E5ECF6\",\"width\":0.5},\"pattern\":{\"fillmode\":\"overlay\",\"size\":10,\"solidity\":0.2}},\"type\":\"bar\"}],\"scattergeo\":[{\"type\":\"scattergeo\",\"marker\":{\"colorbar\":{\"outlinewidth\":0,\"ticks\":\"\"}}}],\"scatterpolar\":[{\"type\":\"scatterpolar\",\"marker\":{\"colorbar\":{\"outlinewidth\":0,\"ticks\":\"\"}}}],\"histogram\":[{\"marker\":{\"pattern\":{\"fillmode\":\"overlay\",\"size\":10,\"solidity\":0.2}},\"type\":\"histogram\"}],\"scattergl\":[{\"type\":\"scattergl\",\"marker\":{\"colorbar\":{\"outlinewidth\":0,\"ticks\":\"\"}}}],\"scatter3d\":[{\"type\":\"scatter3d\",\"line\":{\"colorbar\":{\"outlinewidth\":0,\"ticks\":\"\"}},\"marker\":{\"colorbar\":{\"outlinewidth\":0,\"ticks\":\"\"}}}],\"scattermapbox\":[{\"type\":\"scattermapbox\",\"marker\":{\"colorbar\":{\"outlinewidth\":0,\"ticks\":\"\"}}}],\"scatterternary\":[{\"type\":\"scatterternary\",\"marker\":{\"colorbar\":{\"outlinewidth\":0,\"ticks\":\"\"}}}],\"scattercarpet\":[{\"type\":\"scattercarpet\",\"marker\":{\"colorbar\":{\"outlinewidth\":0,\"ticks\":\"\"}}}],\"carpet\":[{\"aaxis\":{\"endlinecolor\":\"#2a3f5f\",\"gridcolor\":\"white\",\"linecolor\":\"white\",\"minorgridcolor\":\"white\",\"startlinecolor\":\"#2a3f5f\"},\"baxis\":{\"endlinecolor\":\"#2a3f5f\",\"gridcolor\":\"white\",\"linecolor\":\"white\",\"minorgridcolor\":\"white\",\"startlinecolor\":\"#2a3f5f\"},\"type\":\"carpet\"}],\"table\":[{\"cells\":{\"fill\":{\"color\":\"#EBF0F8\"},\"line\":{\"color\":\"white\"}},\"header\":{\"fill\":{\"color\":\"#C8D4E3\"},\"line\":{\"color\":\"white\"}},\"type\":\"table\"}],\"barpolar\":[{\"marker\":{\"line\":{\"color\":\"#E5ECF6\",\"width\":0.5},\"pattern\":{\"fillmode\":\"overlay\",\"size\":10,\"solidity\":0.2}},\"type\":\"barpolar\"}],\"pie\":[{\"automargin\":true,\"type\":\"pie\"}]},\"layout\":{\"autotypenumbers\":\"strict\",\"colorway\":[\"#636efa\",\"#EF553B\",\"#00cc96\",\"#ab63fa\",\"#FFA15A\",\"#19d3f3\",\"#FF6692\",\"#B6E880\",\"#FF97FF\",\"#FECB52\"],\"font\":{\"color\":\"#2a3f5f\"},\"hovermode\":\"closest\",\"hoverlabel\":{\"align\":\"left\"},\"paper_bgcolor\":\"white\",\"plot_bgcolor\":\"#E5ECF6\",\"polar\":{\"bgcolor\":\"#E5ECF6\",\"angularaxis\":{\"gridcolor\":\"white\",\"linecolor\":\"white\",\"ticks\":\"\"},\"radialaxis\":{\"gridcolor\":\"white\",\"linecolor\":\"white\",\"ticks\":\"\"}},\"ternary\":{\"bgcolor\":\"#E5ECF6\",\"aaxis\":{\"gridcolor\":\"white\",\"linecolor\":\"white\",\"ticks\":\"\"},\"baxis\":{\"gridcolor\":\"white\",\"linecolor\":\"white\",\"ticks\":\"\"},\"caxis\":{\"gridcolor\":\"white\",\"linecolor\":\"white\",\"ticks\":\"\"}},\"coloraxis\":{\"colorbar\":{\"outlinewidth\":0,\"ticks\":\"\"}},\"colorscale\":{\"sequential\":[[0.0,\"#0d0887\"],[0.1111111111111111,\"#46039f\"],[0.2222222222222222,\"#7201a8\"],[0.3333333333333333,\"#9c179e\"],[0.4444444444444444,\"#bd3786\"],[0.5555555555555556,\"#d8576b\"],[0.6666666666666666,\"#ed7953\"],[0.7777777777777778,\"#fb9f3a\"],[0.8888888888888888,\"#fdca26\"],[1.0,\"#f0f921\"]],\"sequentialminus\":[[0.0,\"#0d0887\"],[0.1111111111111111,\"#46039f\"],[0.2222222222222222,\"#7201a8\"],[0.3333333333333333,\"#9c179e\"],[0.4444444444444444,\"#bd3786\"],[0.5555555555555556,\"#d8576b\"],[0.6666666666666666,\"#ed7953\"],[0.7777777777777778,\"#fb9f3a\"],[0.8888888888888888,\"#fdca26\"],[1.0,\"#f0f921\"]],\"diverging\":[[0,\"#8e0152\"],[0.1,\"#c51b7d\"],[0.2,\"#de77ae\"],[0.3,\"#f1b6da\"],[0.4,\"#fde0ef\"],[0.5,\"#f7f7f7\"],[0.6,\"#e6f5d0\"],[0.7,\"#b8e186\"],[0.8,\"#7fbc41\"],[0.9,\"#4d9221\"],[1,\"#276419\"]]},\"xaxis\":{\"gridcolor\":\"white\",\"linecolor\":\"white\",\"ticks\":\"\",\"title\":{\"standoff\":15},\"zerolinecolor\":\"white\",\"automargin\":true,\"zerolinewidth\":2},\"yaxis\":{\"gridcolor\":\"white\",\"linecolor\":\"white\",\"ticks\":\"\",\"title\":{\"standoff\":15},\"zerolinecolor\":\"white\",\"automargin\":true,\"zerolinewidth\":2},\"scene\":{\"xaxis\":{\"backgroundcolor\":\"#E5ECF6\",\"gridcolor\":\"white\",\"linecolor\":\"white\",\"showbackground\":true,\"ticks\":\"\",\"zerolinecolor\":\"white\",\"gridwidth\":2},\"yaxis\":{\"backgroundcolor\":\"#E5ECF6\",\"gridcolor\":\"white\",\"linecolor\":\"white\",\"showbackground\":true,\"ticks\":\"\",\"zerolinecolor\":\"white\",\"gridwidth\":2},\"zaxis\":{\"backgroundcolor\":\"#E5ECF6\",\"gridcolor\":\"white\",\"linecolor\":\"white\",\"showbackground\":true,\"ticks\":\"\",\"zerolinecolor\":\"white\",\"gridwidth\":2}},\"shapedefaults\":{\"line\":{\"color\":\"#2a3f5f\"}},\"annotationdefaults\":{\"arrowcolor\":\"#2a3f5f\",\"arrowhead\":0,\"arrowwidth\":1},\"geo\":{\"bgcolor\":\"white\",\"landcolor\":\"#E5ECF6\",\"subunitcolor\":\"white\",\"showland\":true,\"showlakes\":true,\"lakecolor\":\"white\"},\"title\":{\"x\":0.05},\"mapbox\":{\"style\":\"light\"}}},\"legend\":{\"tracegroupgap\":0},\"margin\":{\"t\":60}},                        {\"responsive\": true}                    ).then(function(){\n",
              "                            \n",
              "var gd = document.getElementById('d3a94ad6-ebb9-4f69-99ef-973e5492b0c3');\n",
              "var x = new MutationObserver(function (mutations, observer) {{\n",
              "        var display = window.getComputedStyle(gd).display;\n",
              "        if (!display || display === 'none') {{\n",
              "            console.log([gd, 'removed!']);\n",
              "            Plotly.purge(gd);\n",
              "            observer.disconnect();\n",
              "        }}\n",
              "}});\n",
              "\n",
              "// Listen for the removal of the full notebook cells\n",
              "var notebookContainer = gd.closest('#notebook-container');\n",
              "if (notebookContainer) {{\n",
              "    x.observe(notebookContainer, {childList: true});\n",
              "}}\n",
              "\n",
              "// Listen for the clearing of the current output cell\n",
              "var outputEl = gd.closest('.output');\n",
              "if (outputEl) {{\n",
              "    x.observe(outputEl, {childList: true});\n",
              "}}\n",
              "\n",
              "                        })                };                            </script>        </div>\n",
              "</body>\n",
              "</html>"
            ]
          },
          "metadata": {}
        }
      ],
      "source": [
        "px.sunburst(data_frame= shop , path = ['Gender' ,'Age_category'] , values='Purchase Amount (USD)')"
      ]
    },
    {
      "cell_type": "markdown",
      "source": [
        "![image.png](data:image/png;base64,iVBORw0KGgoAAAANSUhEUgAAAoYAAAHfCAYAAADN4xnbAAAAAXNSR0IArs4c6QAAAARnQU1BAACxjwv8YQUAAAAJcEhZcwAADsMAAA7DAcdvqGQAAHqBSURBVHhe7f15nJTlne//v677rqreoGmWZm32VVYBUUAEF5SIK27RaKImE51kzMyJkznOOWcyZ2byOzPJTE7OmW+czcwczSQmRhLFJSRGiKIoiOz7vjbQzdZNN73Uct/X74/qZrllp6u6lvfz8eAhXJ+7qrGpuuvd12qstRYRERERyXtOsEFERERE8pOCoYiIiIiAgqGIiIiItFIwFBERERFQMBQRERGRVgqGIiIiIgIKhiIiIiLSSsFQREREREDBUERERERaKRiKiIiICCgYioiIiEgrBUMRERERAQVDEREREWmlYCgiIiIioGAoIiIiIq0UDEVEREQEFAxFREREpJWCoYiIiIiAgqGIiIiItFIwFBERERFQMBQRERGRVgqGIiIiIgIKhiIiIiLSSsFQREREREDBUERERERaKRiKiIiICCgYioiIiEgrBUMRERERAQVDEREREWmlYCgiIiIioGAoIiIiIq0UDEVEREQEFAxFREREpJWCoYiIiIiAgqGIiIiItFIwFBERERFQMBQRERGRVgqGIiIiIgIKhiIiIiLSSsFQREREREDBUERERERaKRiKiIiICCgYioiIiEgrBUMRERERAQVDEREREWmlYCgiIiIioGAoIiIiIq0UDEVEREQEFAxFREREpJWCoYiIiIgAYKy1NtgoIpJLYnEwBjwPXAdicUskbDAO+B74PsTjFt8aPN+SiIPfcmdsvUE6QChkMI7FMWCc5HM5DoRC4DoGzwffs8nn9cF1IRI2p/9VREQymoKhiGS1WMziuIZEwhIOGWJxqK+3NEehrh5qj1uamqA5ammKQjwBD97t8h8/8Ugkgs92+YwDkTAURKCgIPmrsNBQVABlnQxFRdCxA3QoMRQWAMaSSBiwluJihUcRyQwKhiKSFeJxi+eD6xqO11kaGqCq2lJXD3UnLPX1UN9wWhffeXz1Sw4/fsUnFgtW0qegIBkUO3Y0dO9q6NgByrtBUZEhEkn2OBZEgo8SEUktBUMRySixmMVicByIRi1HjkLlAcuxWktNLdTVBR9x6Z74gssb8z1qaoOVzFBQAGVl0KXM0LO7oVtXKCsFjMFxksPgIiKpoGAoIu0qkeDkvL7Kg3CgynL4qOXo0WQtFR55wGHRRz4HDgYrma1TKXTraqjobeheDl07G6yFiHoWRaSNKBiKSFolEsmFIEeOWnbvg+rDPtWHoLk5eGXqPHCPw+p1Ptt3BivZp7wb9Ohu6Nvb0KsHuKGWOYwiIpdBwVBEUiqeAGsttbWwc4/lYJXlQHVyNXB7uXu2YeduWL8x925/ZWUwuL9D93Lo09vgOupRFJGLp2AoIm0qGrMYY/A82L3HsnOvZf8BSzQavLL93HqTQ81xy/KVuX/7614OgwcaKnoZunU1WCAcCl4lIpKkYCgiVywWT66ibWy0bNpq2bffcvhI8KrMceM0Q8IzLF7iB0s5rbAQ+vYxDB5o6F9h8H1LYaEWsojIKQqGInJZYvHk1jBHayybt1n27LXUnwhelZmunWAoLTUseD+/gmFQv74wbJBD/37gmOS+iyKS3xQMReSixWLJE0GOH7ds3GrZtSe5n2C2GTfa0KeXYf67+R0MT9e3AoYPcRg8IHn6S5FCokheUjAUkQvyPGhqhtXrfXbssm2yl2B7umqYYfgQw7z5CoZnM2iAYcRQQ7++EA4pIIrkEwVDETmreAKsD9t2WjZu8amqDl6RvQYNNEwYa/jlGwqG51NYCKOvchg+FIoLDYWFwStEJNcoGIrIGRqboLHJsnKNZesOi83B7FTRG6ZNcXnlV+24Z06W6V6eDIlDBxsMEA4HrxCRXKBgKCLEYhbjGNZvtGzZ7mf0iuK2UF4On7vZ5Se/UDC8VG4Irh5luGqEQ0mR9kgUyTUKhiJ5LOFBc7Nl+WrL5q2WeDx4RW7q1Anune3y458rGF6Jit4wZpRDvz4QiWguokguUDAUyUOeB8dqLctWWHbuzr9bQFERPPqAy7//RMGwLXTqBOPHOIwYZrC+ehFFspmCoUgeaW62VB6E1et8DlYFq/nDceCrX3L5t5cUDNtSpAAmjDWMucrBcS2RsHoRRbKNgqFIHojGLLv2wMq1PkePBqv56auPu/znK15GHdWXS64Z7zButCEcsoQVEEWyhoKhSA6LxSw7dsHyNT61tcFqfnv8EYc3f+NTo+9LSk0c5zBmJBQWGZ3RLJIFFAxFclA0Brv2WD5dpUB4Lo/c77DoY58DB4MVSYWJVzuMHWUoKEABUSSDKRiK5JDmqGVfJSxb5XPsWLAqp3vgHofV63y27wxWJJWunZgcYnaMFqmIZCIFQ5Ec4HmWqkPw8bLcOqEkle6+3WHXHsu6jboFppvrwuRJDuNGGVw3WBWR9qRgKJLF4gloaLAsXmrZtUdv5Utx200ONcctn67U9629lJTA5GscBvWHwkItUBHJBAqGIlkqGrV8/KllvXq8LsuN1zskfFi8JAfP/Msy5eUweaJDr56GAg0vi7QrBUORLNMctWzYlFxpHNNWK5dt0gRDp1LDgvcVDDPF4IGGGyYnF6joJBWR9uEEG0QkMyUScLDK8sZ8n4+XKRReqVhMix8yzY5dlpd+7rN+c3KahIikn4KhSBaIxuD9xT6/fNPn0OFgVS5HNAaRcLBVMsFHS31+8ZrHrj0WT4fTiKSVgqFIBovFLJu2Wn78c49NWzXroy3F4hBWMMxYNbXw9js+H31iaW7Wa18kXRQMRTJQLJ5cbfybhT4L3vd1bFsKxKIWV3fAjLdmvc9//sJn01ZLLB6sikhb021RJMNEY7B2g+X//cxn775gVdpKNIbO8M0S0SgseN/nnYUejU3J+aEikhoKhiIZIhZPDp/Nf9djyTIfNHqWUtFYcqNlyR6798JLP/fYvsvS0BCsikhbUDAUyQCxOKzfZHn5lx6V+4NVSYVYDEIKhlnHS8DCRT7vfeTT3BysisiVUjAUaWfNzZbfvefz0VIfqy310iYWA0fBMGvt2m35z194bNthSSTUvS7SVhQMRdpJIgF7Ky0/neuza7c+2NLN98H6loKCYEWyRTQKv13o8+lKtK2NSBtRMBRpB7EYfPSJzxvzfZqaglVJl3jCUFIcbJVss3y1zy/meRw6opXLIldKwVAkzY7VWt74jcfaDeolbG/RqKWoKNgq2ejoUfjFaz5bt1vqT+i9JXK5FAxF0iThwdYdllde86mqDlalPcQSKBjmmPc+9Fm1Nvl+E5FLp2AokgYJz/LxJz7vLPTxdAZsxojHoKhAexnmmjXrfV6d51F7PFgRkQtRMBRJsebm5NFea9ZreCvTNDWrxzBXHT0KP53rsWW7JaEfxkQumoKhSIrEYlB1yPLz1zz2VQarkglicSiIqMcwV1kffvd7n1XrrPY8FLlICoYiKZBIWDZts8yd53PiRLAqmaKxUdvV5IOln/os+MDXimWRi6BgKNLG4glYstzywUfarTrTxWJQEAm2Si7atdvyyzc9jtVoSofI+SgYirQhz4MF7/usXqsPn2wQjUI4HGyVXHX0KPzyTZ89+7Tfoci5KBiKtJGGBstrb3ts36lQmC2icQiFNMcwn0Sj8OZvfHbsssR1lJ7IZygYirSBI0ctv3xL+xNmm1jMEg4FWyUfLHjfZ/3G5HQCETlFwVDkCsRisP+gZe6bPnV1wapkulgMQq56jfLV4qU+y1f7NDfrNSDSSsFQ5DLF43CgyvLaWz4JzVfKStEYuBpKzmsrVluWLLfEtdehCCgYilyehAfrN1ne+q1WHmezWAxCGkrOe+s3Wn79O4+4fsATUTAUuVQJz7JitWXxUoXCbJfsMQy2Sj7aVwmvz/c0rCx5T8FQ5BLEYrBsuWXZCoXCXGB98D0oKAxWJB9VV8Nrv/Zp0ikpkscUDEUuUiwGS1f4rFijHoVcEotBSXGwVfJVcq9Dj8bGYEUkPygYilyEWByWfOqzZp1CYa6JRi0lRcFWyWe1tTD3TY+GBr3fJf8oGIpcQCwOHy/zWbshHz8kDJNuc5gzzVAaLOWIeAIKNZQsAXV1yVNS6urz8X0v+UzBUOQ8YjFYssxnXZ6GwlsecpjUBQ4ehlzdpjEWh6JCbVkjn1VXD6//WuFQ8ouCocg5tM4pzM+eQiidahjuWOa/4rP0IEy+zeHROQ7T+gevzG7NTeoxlHOrq4N5831ONAQrIrlJwVDkLKIxWL4qv+cUDigzEIXEEIcH73aY0BXqMIyf4lARvDiLxeJQUKAeQzm348fhjfkeDVqQInlAwVAkIJ6wrF5n82z1sWHadIcBwIAZLk/d73Bog+V4F8OcGw3FR33m/tznrS2WaAhyaRFvQ6OloCDYKnKmYzXw1juezlaWnGestfn06SdyXvEEbN1m+f2HebZPYYXDgzcbyuOQKIYdCzwW7glcU26Yc7tD8W6flz/IndvG2FGGvhWGX7+TZ//mcll694J7Zzu4rnqZJTepx1CkRSwOlQfyKxSWjnOYMRKo9Jn7sSXaEQqilrrAkNnIGS5P3eNQWu3zVg6FQlrmkoZ1+olcpAMH4f2PLNFYbr0PRFopGIq0OHzE8naenX1c0dUwaqrLg9cZOGRZ+bHP2ibD5DscZrQuMqlw6BKz/G6+x4/fsTm3Ojmq85LlEm3cbFm2whKLKxxK7lEwFAGOHLW8mWehEGDj7z3mr7N0HuPw6ETYsd6y6Fc+S48Yxs50mTPVYfY0w/BSy+4DwUfnhljcEg5rWFAuzep1ljXrIBoNVkSym4Kh5L36esuv3/VJxIOV/LD7E59XPrUUDnJ48HZDOZZP3/Z4Z4ulyzBD+QnLwndyt2ckGoWQG2wVubCly3227rDEE8GKSPbS4hPJa54Hr73tUVUdrOSHAdc5VFT5LN4DpUOSvYOl9Zbf/cpnd/DiHFVaCvfd4fDSz/Ovx1jaxu0zHYYMUq+z5Ab1GEreiifgnff8vA2FAJ27GsbPdJk9Euq2+7zya5/DRYbZDzuMzdUz8AKiUQhpKFmuwG9/73PoiPpYJDcoGEpeSiRg6ac+O3bm98181XyPRXtgwFSXORMMHLa8/qbP7gSUdw5enZticQi5+f06kCtjffjNAp/mZr2OJPspGEpe2lOZ3MQ6L/V3mDbu1B/XLkguQCmf4PDoTYbSOsv8X/qf3ccwR1kfPM9QpGPx5ArU1cH8Bb42wJasp2AoeafqkGX+7/JoPlmFw6OPnDrjuKI3jJzk8vDUU8Onuz/x+bQKugx1uOW00JgvYnFLcS4d5yLtYv8BWL7KKhxKVlMwlLxyoiE55JNXKi17mk7NJaxc4vP6SkvJSIfHZxqSUwkNFWWw4/c+C9cEnyD3xWKG4qJgq8ilW7HGZ8t2SzxPdzmQ7KdgKHkj4cGCRR4nTgQruc6yeJ7PqmMwuGUu4eGVyZNO6O/w8CMujz7i0Ddm2bg99zawvhjRmKVIwVDayPuLfQ5W5+lUFcl6CoaSFxIefPyJz77KYCUfGG55wGFsgeXTrafmErLR58dv+uyot3j1lsW/zZ8taoLicSgq1MpkaTsLFvk0NgVbRTKfgqHkhX2VljXr8/Qn+AmG4R0sS17xWfpBchi5cJDDg7MMpYctC9/2eeVtn7X52FXYoqnZUlAQbBW5fA0N8O57HjGdqSxZRsFQct6xWstvFubZvMLTdTC4UTjc8sfDK33mLmoZRr7T0DNweT6KxaGwQD2G0rb2VsLaDToZRbKLgqHkNM+HhYt8vHy+Me+01HU0TJlwKvjUlYFbZ1m701J1xsX5qbER9RhKSiz51LKvUr2Gkj0UDCVnJRKweEkenWzS3+HBh1zmTDdUnH5qSaXPoi1QPsHh8Tsdxo52eHCkoW6Pz9KNp12Xx6IxiESCrSJt4/cfar6hZA8FQ8lZB6osazfkz0/qw4YbehZDcV+HOQ+5PPWQwy3jktvR7F7kMXepJdrJMG2SIXLAZ/6S4DPkr1gMwqFgq0jbaGqChYs8bWEjWcFYa/Pnk1PyRmMT/OyXHk359FN6qcOD9xtY5/HOAcOkCQ6De0KBB4f3W9au8tnYOtFQzjCwv+Gaqx3mvuEFSyJtZsb1DiOGQURnc0sGU4+h5JxYPDl0k1ehEKDOZ8lOKB/hUHHAsnCdpcFCXbWFcsMtc1wevCb4IKFlH8NQSD8jS2ot+sjn+PFgq0hmUTCUnLN1u2XX7vz8kK9c5LMPw/ibHObMMJRU+7w+3+eVlz1+/LrPO8uDjxBahpJD6sXJDGMcnnrCYXywHRh/p8s3Hsruj63ff6jzlCWzZfc7TCSgphbe/yiPt6bBsmiHpdNQQ/kxn9ffPnWSSd3h/DzV5GLEYuDqbihpcOgwrNEWNpLBdCuUnBFPwPsfedh8zoVA3RLL7nrw4qf2LpTzi8bAdfOzl1nSb+mnPkeO6vUmmUnBUHLGpi2Wyv3B1twzfrbL4zOTq43PzjJ/vcXt63BLRbAmZxONQVhDyek1xuGpp1y+0fLrlmC91YxT10zrHSxmr/cW+3ha6yQZSMFQckJNrWXRx/nRVbhjd8upJfc6DAgWW63z2XjIghssyFlZ8BKWouJgQVLD4dEphoYtHj98weOHW2Dk2eYVjnF4ajhULklet/hA8ILsdfQorFqrIWXJPAqGkvViMcsHS3zIk5GZuo0+r39kiXYzzH7AYdg5ug4Xv+mzcE+wVc4lFjeUFAZbJSXGQEnMsnFRy58XWY5FDAPGBK7rYiiotby+LtCeI5Z86lNTkyc3LskaCoaS9Xbshr37gq25q3Scw4PXGxo3WvYVGGbd7TCpPHiVXKpoVD2Gkn6LPtYqZcksCoaS1aIx+HBJfgwhJxmmXGVo3u4z92Oft97yWdtkmHyHw4z+wWvlUsTjUKwew/RYBw0Rw8gZLX+eYegSs+wO9gwes0TLzMn5h11yMLhXVcPmbZZYTD2HkhkUDCVrJTz44GOfaDRYyW3FEYg1tHyI1FkW/cpn1XHD2Jkus4YEr5aLFYtDYZEWoKSHz8tLLCXDWxaWDIeNL/msCl62zufTAzCyZfHJ4BwMhpD84TYW12tPMoOOxJOsdaDK8qs386m3MGnS3S6Tiy3vzPfZWgdgmP2IQ+l+n6UfWHYHHyAXZeaNDvX1lk9W6JYo6TdksOHmGxwKIsGKSHqpx1CyUiyeX0PIY6c5PPyAw5zpht3v+1SGDLPuc5l1tWHSbQ4DXMtahcIrEo9bCgrVayPtY/sOy4GD+qFE2p+CoWSlLdsth/Jk9+bxd7pM6w91R6F4kMODtxqWvOmzqhr6j3cYX27Z8KHPxuAD5ZKcaOQzvTXGAcdJ/lck1ZYs97V9jbQ7DSVL1olGLS/9PE9W8lU4PD4Ttrzms7Szw6M3GepWeby1y1CO5bDOuLsk4Qh06ggdOxhKSqBDsaFDRyiKQJcuUFRoWk5BAceAMWCtxZz8PcQThkTCEotBYxM0NkJDEzRHLQ0NcOKE5Xg9NDQEv7rIhc2Y6jB2tHqupf0oGEpWiSdg8VKf9Rvz5GU7xuGp0TD/15ZJdzuwzuP1NVA6w+WxzpZ/npc/w+mXqktn6NrV0LWzobwLdO5sKCiAhgZLQyPU1cOxGkvNcaittdTWQV295USDpbExueLdD3x7w+HkyuWSEkPHDtCp1FDWydC5U/JrdekMhQXQscRgnOTzVR+C2jrL0WOWI0fJu8VScmlCYXj8YYdiLYSSdqJgKFnlyFHLz3+VT2HI8OCTDp0tNOzyeXmRhVLDnHsdCrZ5vLIkeH1+chzo1RN6djdU9DZ062poarIcrYGqasuefZYduy2VB9J3u+vQAYYMdOjXB4YPNXQsMXQuM9Q3JI9uPHTEUlVtqT8RfKTku4njDZPGO4RDwYpI6ikYStaIxizvvmfZtSfXX7KGWx5w6LLPZ+4nNrmh9SQDRy2VtVDa29D5uM8rb1vyeSS5rAz69jH0rzD06WWoO2E5WAVrN/isXu9TUxt8RGYYM9JhxDDDqGHJ3samZsuuvXCgymdfZfBqyVdf/LxLWadgq0jqKRhK1th/0PLaWzneW1hquOsOh14uUAjR3T6vL7AwxGHaSEPniKWxyrJwcX6GwvJuMKCvoW+FoaQ4uTnwmg0+S5b7nMjSnrexoxzGjoJhg1zKyiw7dsO+yuQPQMGhbMkfAwcYbr1R29dI+ikYSlaIJ2Derz2qqoOV3DLpbpfx+Lz+piU6zuHBawxU+7z5tiVPFmF/RmlHGDzQMLC/obAQDh6ED5b6rFyTe6mpvBvMmOpy9RiHzp2SJ2Ls2quexHx1zx0O/fporqGkl4KhZIXdey1v/Tb3gsCZDHOecGCFx+utR4P1d3j4ZkNpneV3v/Lzap/CQQMMI4YZenU3VB6wvP+Rz7KVuf4aOKW8G9w0zWHsKJdw2LJ5q2XrdssJrXbOG717w12zXCLhYEUkdRQMJePF4jD3DY9jx4KVXGOY9bBDzyM+P17Q+rY03PWYQ3cLBQ2Wn87zc3oIuaAARg43DB9qaGw0rNng8+ZvvOBleWfcaIdZNxv6VThs22HZut3nQFXwKslFd9zmMGiAeg0lfRQMJeNt3mp59/0c6ykqN8y6xnBojc+qA6eaS8c5PDzJEN3rM/93ls43uczsbVnwFkx52FD5gsfC058nR5SWwoRxDsMHG/Yd8Jn/rmXN+hz7N28DhYVw9+ccJo13aGyGVWstu3brFp7LepTDfXe5hLRCWdJEwVAyWiIBP/+VR+3xYCW7zXjAZWxH8FygCQ7u8/l0taWyDsonOMweZygNAx5sXOCxEIev3Apb/t1ncfDJslhZGVwzzmFgf8O2nZZfzEvk/DzStjJ7psuUSQ6Oa1m5xrJ9p27luer2mQ5DBqnXUNJDwVAy2qYtlgWLcrDnaIzDU9fCxjctDVcZRg4wdIlA41HLho2WpVtOe1v2d3hwhiGyp2UfwxxQUgJXj3G4ahisWW/5xeue9vO7TLdMd5gx1cVay6p1+bCdU/4pL4f773IIhxQOJfUUDCVjxRPwymsetRm6H92Vmna/y8iozwtv25OLTEqaoaAE3Jhl7Qc+i3Yb5nzJobTa5/V3sn+LGseBCeMM11ztsGGzz09+4XG8PniVXI5bZjjceL1DczMsX+2r5zXHqNdQ0kXBUDLW5m2Wd9/Lwd7CVv0dHr/VcPh9n4KpDuXHWjatLjWMHwg71mR/EDzd8KGGaycYjtVafvKqz75K3XpS4b47HW6Y7LBtJ6xc69PUFLxCslGP7jDnDpewVihLiikYSkaKxeCXb3kcPRqs5JbJ97pM6gbRI5bfzcvN7Wi6dYXJ1yTPfn3ztx6frMjhsJ8hCsLw1Sdchg9xWPqpz/pNus3ngjtnJefjiqSSgqFkpD37LG/+Jg8CRIXDo58zNH5y2t6FOWTieMOEMYbFSy2vvK5tZ9Jt9FUOj9zn0hy1fLzM50iO/6CV6yp6wx23uUR0GoqkkBNsEGlvTc2WT3N6I2PDtLtd5kwwUOmzah9UjHYYELwsi/XskZws36u74W//j6dQ2E7Wb/L5H/8rzqatlvvudBkzSr1N2azyAByrUV+OpJaCoWSc2lo4mMMT58ff6TC+zLJ7e/IGv3GJpco19O8evDI7jR9nuPM2l5VrLf/rBwkOVOmDrL398k2Pv/9hgsEDHO6+3aGsLHiFZIuVay3NzcFWkbajoWTJKM3NsOADP2c37e05zeW+4bBlgcfCPcFqduvYEaZPdQiH4D9+6lF5IDf/DbPdw/c5TJ/isugjn83b9G+UjR5/xKW0Y7BVpG0oGEpGOV5v+c+f584wcvkEh9tGGzoB+7b4vPUJDBti2bo9eGV2G9jfcNMNDqvW+rz0cw0bZ7rxYxy++HmX3Xstiz7Knfdbvrh2gsN112hagKSGgqFklPcX+6zbmCMvyTEOT11rqFzhU9nBMHmk4fAnHq+vCV6Y3SZebRg53OGN+R4fLlXIyBbGwLeecSkuNrz3oc/xHDtdKJeFQvCVxxwiEYVDaXuaYygZw/NgUw4NbU0bZqjb5DF/NZT3NkR3+ixcAyNHGkqDF2chx0luqty/r8Pf/39xhcIsYy38ww89tmzzue9Oh359g1dIpkokYOuOYKtI21AwlIyxeaslEQ+2ZokKh0e/5DJryKmmAgNgGH+nw4BGn9cXWOpwGHWdw7QsX4JcWgr3znbAwv/8bpxDR4JXSLZ45TWf1972uPVGl1FXqQcqW6zZ4BOLBVtFrpyCoWSE5qhl3cYs7nGq9NlYDYNvbNmGBvh0v6XLSIcpHSwL306eYjL+TkN5vWVtFu9k3bNHMhRu22X5wb8kgmXJQh98bHn+RwnGjXKYeLXCYTY4dgyOHM2dERbJHJpjKBmh6pBl7rzsDIbjpzjULEmeWjJgqsNtIw11G31e+dgyfpbLlL4QrYNmFzq5liVv+qzK0rPuBvYz3HqTw/x3fX79rhaZ5JrSjvCtZ8JUHbJ8pKkBGW/wQMPNNzgUFgYrIpdPwVAywu/e89mSlfMLDXc95tDXWpa8lQx85RMc7p5gYJ/P3HcsBcMdxvaGUNSyYb2lMktD4bAhhhsmG159w2exQkNO+8s/C9EchXcW6t85033lMYfiYvXySttRMJR2F43Bj/7Tw2brZ1CpYfZsh8ERy6pFPov3QOkQh7tmGEqO5sYZyFcNN0y+xuHHP/dYtS5b/6HkUnzrGZdwxPCbd/3sfW/mgelTHcaNVjCUtqM5htLutu+0Wf3BU1ph6FwIjb5h/EyX2SOhbrvPywssNaWG2fc79Aw+KIuMHGG4boLDv72UUCjMI99/3qO50XLHrQ6OPiky1vrNPnFN9ZU2pLe7tKumZtiwJZvDhmHWdQZvk89//NRjcSUMmNqyAGWPz9x5Pos3+VQFH5YlrhpumDjO8K8vJdi0VYML+eb//KtHQ6Pl9lsdUKdURjp2DI4e03tT2o6CobSrWAyqs+lc5P6GYadvQjjG0NlatnySvDGvesdj/kZL+QSHh6caqLOs3Xja9Vlk2BDDNVc7/MdPPba0nOss+ef//qtHcxRuv0UfF5lq526IZetWX5Jx9E6XdrVuU3b1Fk4e7zDrbodp/Vsa9kBDxFAx/NQ1uz+GOg9KexuydbvCgf0M0yY7/HSup55C4Qf/lMBay4zr9ZGRidZv8nGM3qfSNvQul3YTi1l27Mqum9nSeT5rm5JzCWcNAep8Nh6AAdNcZrdMAB9wk6FLneWFX2bnopOePeDWmxzmzvNYrTmF0uJ7/59H1y5w3TX62Mg00SjsqQy2ilwevcOl3dSdgLos3LqlsR6iwLAZLndNMKx622fpgeQehl9/0uWuQbBleXYGqtJSuK1ln8LFn2Tn/4Okzne+n2DwAMOYkZpwmGm2bLM0NQdbRS6dtquRdvPehz7rN2XXy2/kLJcbu1gW/9qneaLLzMFwrGUza8oNw8qgsTo79yp0nFMnmvz0VW1eLWfXu5fhz55xWfyJZfuO7Hr/5jLjwFNfcohEFNrlyqjHUNpFPAG79mbbh4pheA84uNFnbR1sfc9j7kpLyUiHx2caSg9btm7LzlAIMON6hyPHUCiU8zpw0PLyL31mTnfoXh6sSnuxPuzeF2wVuXQKhtIujhy1NDQEWzNMqWHOYy53jT7VFI1DaddTP5EfXumz4QiUDnCYMeLUddlm4tWGzmWGH/5IG6LJhS1flTwSceYMh0hBsCrtZet2S7OGk+UKKRhKu9icDcff1Vl277Csq3e45ToDWNbuh5KBDndNaAmHpQ59y2Djqx5vbQ4+QXYY2N8warjD8/+u/S7k4r39js++AzDtOn2MZIrd+yxuKNgqcmn0jpa0i8UsezJ6GNkw6RpDKbBqiU+iHAaPcXj0JkPdBx6L90DfaxyeesTl8fsMnY/4fJqlw8cdO8L06w3z5nscPhKsipzf8z9KUNbJMGaU5rVlAuuT4fdWyQYKhpJ2Jxqg/kSwNXMMu81h8gSHB+92GABULvd55VNL4SCHB283HFzg8dO3fbZUWSo3+rz+tiVLcyHTpzqsXW/5cKlWIMvl+dF/Jrh2gkOf3sGKtIftuyyNTcFWkYunYChpl+kbJm89YvGaobmLYfYDDsNKoW6Nz38ssDT0cJhzv0OXA5ZF7/ksXGY5HHyCLDF+nCEcgpd+rsUmcvkqD1jefsdj+hQH1w1WJd32VlrC4WCryMVTMJS0amq27Nuf2cGQlZZ9PtSt8DlYaJh5l8OkcmCPzyu/9jlcZLjtzuweOuvZAyaOTR53J3Klfveez6EjcMMUfaS0t2g0ubhP5HLpXSxp5fsmI+eylZ5+/jGWRTstvQYbFr7ps9szTL7DYUZ/4LDl9Td9Xv8gu2+811/rsPADn8oD2f3/IZnjH/8tQb8KGDggu39oygX7dAqKXAEFQ0mrvfsyMIj0d7jrQZdv/IHLVx5wmHWtocs2S02ZYUqpZf4rPqtqDWNnuswemVytfDhbJxUCE8cbojGYN1+9hdJ2PA/e/K3PtMkOIa2MbVfbdvnEtcmAXCYFQ0mrnXsyMBg2Whqj4DVZdldB6WCH2fc49AxBxZjkNjWL53ks3pMFey9eQLeucPVohxd/plAobW/RRz4HqiwTr9ZHS3s6dgyisQy810pW0LtX0iaRgP0HM/Bm1TI8vCNqGDkADn7s8c//7vPWcsuW04LsqgU+i/ac8cisM/kah4+XJT+8RVLhhZcSXDXM0KtnsCLptG9/sEXk4igYStocr7NEo8HWDFFneeeXPqtOGMbPdJk1xLJ7tc/ijcELs9fwoYbiIsMrr6m3UFLnRAO896HHdRP08dKedu21NDbpB0C5dHrnStps25npN6nkkPGiPTB4hnvqdJMc4Dhw7QTDm+8oFErqvflbn1DYcNXw3HkPZZsDBy0FEX3/5dIpGEpaNDdbDmbJ8OXaBR7zN1l6TXCYc3Wwmp0mjDMcPgyfLNdG1pIeb/7GY+I4g6O9DdtFUxPUHs+Oe65kFgVDSYtw2HCgOtiauXZ/7PP6hz6rVgcr2aekBCaOc/jZ6+otlPT5dJXP4aOWsSPVa9VeDmbRPVcyh4KhpEXNcYufZbnk8BbL7mBjFho70mH1Op99leo9kPT65Rs+kyYYioqCFUmHPZWWxuZgq8j5KRhKWlRqhVy7KCuDkcMNv5iXZalccsLOPZbtO2H0VfqoaQ9V1ZaQvvVyifSSkZRrarbsrdTctvYwarjDqnUex7N4Q27Jbq/O85gwFoqLgxVJtcZGtDJZLpmCoaRcyDVUHw62SqqVlsKIYYZfvqlQLu3nQJVl6w4YOVwfN+1B9165VHqnSso1NUOz5rmk3egRDus2+tSfCFZE0uu1tz3GjYJIJFiRVNN56HKpFAwl5Q5W68aUbgUFMPoqw1vat1AywN5KS+UBy/AhWqGcboePWGKxYKvIuSkYSsrp+LX0GzncsHuvpUrbVZyHYcRoQ7dgs6TEO+9Zxo5SMEy3w0eSG9yLXCy9XCSlGhoth48qGKbbmJEOv3tfcwsB6Odw3fAzm8bcHeK7fx/iT54I8d3vh3h89Jl1aXtr1vvEE4YhgxQO0+1Yre7BcvEUDCWlCgsMR48GWyWVBg4wHK+zrFmvYAiGL3zB5Yl73FM9g9eFeGI67PhFgq99K8GPtxlu+HyIm858oKTA4qW+NrxuB4ePBFtEzk3BUFLqRCMkEsFWSaUhAw1r1quHIMnys7d9jvdy+OrslkAyGMK7fX60x/CFPw3xhd6W383zeC/4UGlzv1ng0amToUuXYEVS6WC1JRbTPUEujoKhpNShw7oZpVPHjlDR2/DGb7To5KT1Hi+vtQye7nJbN6AJwr0dvvstl6uqPf7ufyZ4dQXM+WqIOZpwmHLbdvoM6q+PnnQ6dsxidSuWi6R3p6RU9SHdjdJpyEDDXh199xnrXvRZFzfc+ZADH1r2hgysT/Dtn/rsxXDdYy63DYfSrsFHSltb8L7PiKEaTk6nozXgOPqey8VRMJSUaWrWpOd0Gz7EsHhpvs8tNFw3J8R3/jbMv3w3xJ/cYgCff1xoYajD13t6/OgdS3hiiH/56xD/+7shvjoaPvy5x4+3BJ9L2tqW7ZbmZkvfimBFUiWRgFhc92K5OAqGkjLGWGpqg62SKuXdIBIxLFuZT8HQcNPDLUPELX/+wn8N8dXrYO97Hq9uhDGz3OQQ8fseb+8wTLjXpdfCBH/6fxK8+qnl968k+PM/T/CzFfrgTJf1Wyz9++rjJ52O1QRbRM5O70xJGdc11OmM3rTp39ewfVd+hZsbng7x6BQnOUQMMNxhiOPz8vcTvN5kmDXa0OgbbnrYoRuW373is6PU4aGHDey1vPe2x69XW7RoM70WL/UZMjDYKqmkYCgXS8FQUqaxIdgiqTRssGHZinzqLYQP6y2Nhy0Md/mT64AtHn/zXY9140L85b2GvW8m+OOf+jQOdnniRuCIx4/e9Pj9x/kVoDPN/gOWaNRoODmNqg9bYvFgq8hnKRhKyhw+pg/fdCkrS55Du2JNLgdDw3WzXeZMPG0SfTXgW97bDWM+5zKm5bqHphmOLPH458UW4hD3YMQMlwnAkcU+7+099RTSPtZt8qnopY+gdKmts/i5fHuQNqN3paTMifpgi6RK396G/QdzPIjf6fLELIc7Hgvx3WdcrusG1EG8yHDgJz57Ozo8+lgyNMY96FbhcN10l299wYHlHn/zosfK4HNKu1mxxmfQgGCrpEpdHTgmx+8R0iYUDCVldBRe+vTuZVi7PtiaY972WHoQ4pU+Ozo4PPGtEF8tsjSGodMRj1eXWzpd7fL4cMuP5vkc6eHwxN0OnbZ5/OMrPnvVS5hRNm+1YKBL52BFUqGpCUBb1siFKRhKSjQ3W+pOKBimg3GgXx/Dx8tzfVNry4/f9jle4dDp0wT//DEMvtuhVxH0Aja/4rGy1jD5Hpdu6z3+5r/H+dq34nz7p74Wl2SoQ4ctvXsprKSL7slyMRQMJTUM1GsoOS169YT6BsuJE8FKDmo5xWTELS693kzw59/1+N2nlp0AtPQUFhmu0xBlVti4BXp2VzBMl2Svocj5KRhKSoRDhnqtSk6LXt0NO3fnT0/Auhd91nmGWV914IjPqz/1+LC1uN7j23+d4Ne7z3yMZKYVqz369Aq2SqrUHg+2iHyWgqGkRFOzhfzJKu2qd498278weYpJeKTD10cHa5JNqg9DPA5dugQrkgrHavLpPiGXS8FQUiIWC7ZIqpSXG1avy7N9KFpOMRlzp8vgYE2ySk2tpXs3DSenQ0OjjsaTC1MwlJQ4oWHktOjSOXkOav4dPWj53SsJ/u7fPXYES5JVtu+0dO2sYJgODY0W39f3Ws5PwVBSok4LT9KiaxfD8bo86y1sdcSyV8uNs97OPVDRO9gqqdDYBFj1GMr5KRhKStQe180nHbp2MezeF2wVyR4bNvuUdTLaYi8NGhvBcfSNlvNTMJSUaGoOtkgqlHWCPfsUwiV7RWPQ0ARdyoIVaWuJBGhVoFyIgqG0uXgiucG1pF73brAjr1YkSy6qq4OyMvVkpUNUCwPlAhQMpc15HjRFg63S1sIRCIcNlQcUDCW7Haz26FQabJVUiCeCLSJnUjCUNmetJapgmHKlHaGhQaFQst/RY4aOJeoxTAedfiIXomAobc51jIJhGpR2MMTiwVaR7HOw2lLeLdgqqRDXPUMuQMFQ2pzj6OaTDiUlyc2BRbLdwWpLUaF6DNNBPYZyIQqG0vZM6+o3SaUOxYZjNcFWkexzoMpSXBxslVTQHEO5EAVDaXOep16sdCgogJrjwVaR7BOPQzxuKSoKVqStndC8ZLkABUNpcwkNI6dFxw5Qq6FkyRHxOBQWBFulrWk0Ry5EwVDanG81Vygdioqgti7YKpKdmpoVDNNBQ8lyIQqG0ub8PD26N93CIairV4+h5AbPM0QUDFPO9yCmTa7lPBQMpc3F4wor6VBQYDRfSHJGPG4JhzXakGqen1wgKHIuCobS5tRjmB6uC42NwVaR7BRPQMgNtkpbS96f9QOlnJuCobQ5q3tOWoRcq3NPJWck4lbBMA18H4y6DOU8FAylzSkXpp5xAIx6ZyVneLb1dS2pZPWTu1yAsXqVSBs7eMjyy3lKLKnkOPDVx12+/i3tDZRqf/W1esq7qysr1WxBAZGCMFa3jpQyjgHH4DjqNZSzUzCUNld1yDJXwTClHAe++iWXr/+ZgmEq3TjN4Qu31NDwD38eLEkbK/ryn4KfwNuzPViSNuR264E7dhImFA6WREDBUFKhqtoy9w0Fw1R7+gkFw1T73/+tmfC8fyL2+7eDJWljHb71v/Bqj5FYtSRYkosS543ddUyv6AyNJ9gX6sDYYqg+doKGDqUMiiSvcgePoODuxzCRlgaRAAVDaXPVhy2vvq5gmGpf/ZLLN/8iTlzZMCVumOLw2C1HqP+j+4MlSYGSP/5LQmOvw8aasbEoeAnwPPC8ZFvCw3gJbCKBbW5M1hIJ8OLYRAJaanjxZHsigfU8SMSxXvLPtPzXevHk43PMkkO1TOkQ58UDIXrEovToDkuaCujclODqjjFWx8Ebdjd/+Ef3qcdQzknBUNrc4SOWV15TMEy1Lz/m8pd/G+d4fbAibeH7f95M5K1/JbbgjWBJUqDD/+9fsdUH8PbvhnAEE44k/xsKt/w5DOEwuKFkWygEoTD4PqawCBw3WSuIgG/BdTGOg7UWEwqB42LcELguFjDGYP1kuLSel9z52Uvu/my9lhDpeRCL4reGSi+BbW46GTzPHkq9U39OcyhdUnWUsZ0cFtSWMLPMQHMtC9wuzAz7HKpvINy9kP2hYdz0ja9itJu4nIOCobS52uPwk1+k5sYnp3zpYYf//U8eB6r0Fm5rk69xePKOGur/8N5gSVKkw1//M4mNq/C2bwiWUsNxk+EoHMEUFJ4Ko5HWUBrGhJL/JRROtoU+G0opKMIJuVinNZT6yZDquMk9GkJhjONASyg1BixOMogm4uB7LT2bCUjEkr/3WsJlNHoyWBrfw29qPBkw8eLYeDK82kQ82d7URINnCMUbaEhAmesTa2ykwQfq67ElDvW9r2HEA3M0lCznpGAoba6u3vLjn6vH8GI5LpQUQ3ERFBdDcaGhsBAKCw2FBRCJQKSlsyQcMoSSny/E4pb/91OPLdv1Fm5rf/9clKLfvED0ndeCJUmRDn/7IxKffoi3Nw8WnwRDaSiCibT2jLaE02AodUPJXtPTQ2lhIcZpCZyRAqz1MY6bvEH4fvJxjpP8s+NiHIM1DtTVYrp2D/6tREDBUFLhRAO8+HJ+9RgWFEBJERS1BLyi08NdBCIFybONI2FwXYPrQjhkcV2DE0pu7huLQXMU4nFoaoZYzNLQaIjGkrVoDGLR5KbW0RjcdpPDW7/1WbZSIbwtTRrv8NV7j1P39D3arT2NOv7gJ8TefQP/0IFgSdpQeMJUIreqJ1zOTcFQ2lw0Ci/8OPuCYYeS04JdkaGooCXgFSSDXSTcEuxC5mSoC4UsIdfgW4jHLLFE8v8/HofGJktjU0uwi7YEu9ipYBeNJg+zv9zFI5+7xWHVOsvv3su+73Um++5/jVLy7n8QnT83WJIU6vTCGzT9/AVsXU2wJG0ofO10IjfdGWwWOUnBUNpcLA7/9mL6w0oonBySLSlKhrvCIkNRIRQUJMNdQcvITCQCrgPhiMF1kuezhkLJs1qTvXaWeDwZ4pqaDY2NED0t0MVi9mSoa23z0/+/y7TJDoePWl6d1w5fPEeNH+PwtYfqqXv63uScLUmbTj9+h8Z/+tvkAg5JmcjNdxGedEOwWeQkBUNpc4kE/OtL3mWdYFBU2DLP7vQh2ZZgFylM9tgVJKfiEHINjgOhkMV1klNp4nFDNN4S3OKW5mZDQ2MyzMVaeumiMYjGT+/FS7Znm/HjDJFwdvbOZqq//bMYHX//ItG3XwmWJIWc8p50/NsXaPzX7wZL0sYKZt1P6Orrgs0iJykYSpuLxS3zF/iEnJYh2YtYSNE6587zIBY3J4dck0OyyV/R6Km5dq09eLHTeu4SedbBM2yIYUBfwz88n2f/4yky+iqHP36skfo/vDe5j56kTXj8FIoe/wZNP3k+WJI2VnD/k4SGXBVsFjlJwVDaXOv8ucam5JDs2RZSJHvpLNH4qbl20RiX1cuYr3r3hGsnOPz1PygYtoX/9a04pR/8mOgbLwdLkmIFdz5MeNINRN/U9z7VCh9+Crf/kGCzyElOsEGkLcx/12PuPJ95v/Z5Z6HPex9alq3wWbPOsmmLZccuS+UBOHwY6uqguVmh8FIdr4fS0mCrXI6rhjp072qJ/e71YEnSwO3dH//Y4WCzpIAp7hBsEjmDgqG0OcdJbt8iqdXQkByO76D7/BV75O4Y0bd+hm1qDJYkDZyevbHHjwWbJQVMWBtby/kpGErbs8k5hZJ6dfWWIQP1Nr4SQwY59OoO0d9qM+v2Yjp1wR47EmyWVCgsCraInEGfKNLmwmEoUo9hWhyvh4H9FcKvxGP3Joj++hfYBh063V6cLt00lJwWJnl6ish5KBhKSpSVKaykQ1W1pX+FvteXa0A/Q5+eluhvfhksSZq4g4Zjm5uwTQ3BkrQxU9xBK+7lghQMJSVKNe8tLY7UWHp2VzC8XF+63yf2219h62qDJUmT0KgJeAf2BpslBUxJx+Th7CLnoWAoKVFYGGyRVDhyNHmUn1y6Pr2gb2+Izn81WJI0cgcNxx45FGyWFDAdOiRXB4qch14hkhIlxcEWSYVYFI7VWMaM1Fv5Uj35eYi9+zp+zdFgSdLI7dUXv7oy2CwpYDqUalWyXJA+TSQlioo0vJkuh47CNVfrrXwpepRD/94e0bd/ESxJmjm9++EfVDBMB6dbz2CTyGfo00RSw1rtZZgmVdWWHuU6wOhSfPFBQ+z9+fhHNYTZniJTb8EercbGmoMlSQHTQTviy4UpGEqKGDpqAUpaHKy29Oyht/LF6tIZhvePE33rlWBJ0iw0fjKJ3duCzZ+xZMNaflCto5GulFPeI9gk8hn6NJHUMJaOHTWcnA4nTsCJBsvYUXo7X4zHP+8SX/wu/qEDwZKkmTt8LP7+PcHmz5jYpYQPDtYQO62t8kAV82tiZ7TJ+ZnijsEmkc/QJ4mkRCRstGVNGlUegKmT9Ha+kNIOMHJAM81v/TxYkjQzHTvhdumGt3dnsPQZke5lTDxazwoL4LNz12ae3Z2gomMELaW4SG4IE9F3Sy5MnySSMn16qccwXSoP+Azop+/3hTzxBZf4J+/jH9wXLEmaRW6+k8TW9eAlgqXPckuZ2KmOFTVxtmzbyp8fLuO7kysYGwpeKOfilHXBWs1FlgtTMJSUKdH+emmzrxKKiy3l3YIVaVVYCKMHNhF942fBkrSD0Lhr8fbtCjafQ5gp3QtZsHoj363ryg8m9WSQAzTV8vK6rTy7fBcvV2lY+XxMWVdIxIPNIp+hYCgpU6YFcGm1txJmTNWpBufylcdcEis+wtu/O1iSdhAaOAxv19Zg8zl1LghDx158d0I5FQZIHOU7S/ZTXd6Xb4/sTofqrfz5rlOrm2uO16P1Kqc4nbthijW/Ry5MwVBSJhw22rImjXbutowcrrf02YRCMG5QI9E3Xg6WpB1EZt2HV7kbW3/xRxGuramnolspPVpmTOzcXcXOPgN4tmcRnYtLuGd0LzrvOcJaAJqYt7aSD5pOPb6mvoGaPA6KTo8+wSaRs9KniKRMIgFlZcFWSZVdeyzduli6azj5M776RZfE2mV4e3cES9IOIpNn4F3ENjWnNLHisMPErq1nbcZYdzTGmK6nzVfxfE54CeIADcdZQSkTT5abmLd6Lwuakr+fv72WGiDm5U9SdHpWBJtEzkrBUFLGGEuXMi2ISBffh3374c5ZmpEfNH5IA9F5Pw02S3sIh3EHXYW3bWOwcm7xOPGizkw9OT3FEA7MmogdrWNLpxIGATXH6qjsnPw9BIJi3THm7t7DMx+u5+nF67j3g+0saDjzuXKRKe0UbBI5KwVDSZlIxNCzu4JhOm3a5jOwf7A1vz31uEti46pLms8mqVM450sktm3ENtQFS+cWLuWpa/ow/FQDM3qXsnTHftY2xqmpP8r3tjYwfUBXOgObaxuY2OXUJOeaY3XUlJcyCKg8Wgf9h/HyDaN5ccY4vtejmRf31Z+8Ft+j+ngDO+O505toyroCuhfLxVEwlJTq1jXYIqm0rxJCLowbrbd2q4lDG4jO+0mwWdpJ+PqZeDsuobfwHEp6D+aHQ1x+s34Lz26qY+zYq3i2mwPEONQIEbf1PeCz4mgDYzt3BOKsPdrMmE5FJ58n7EDncDj5hxOHeHbRer6z6ygvr1jP0yv38vK+pgusdvZpyPAQ6XTroT0M5aLp00NSSkPJ6bd1h2XGVH3faVmJ7G9dh7d9U7Ak7SA0agJOh1K8reuDpcvSo2tPnrt2NC9eO5B7OreEOyLMHNiZzRvW8MzqXTy3ZD0vHClhTGfAq2NFbSljT/7AGmfzcZ+xXQqBJl5eU0WPkaN5/up+fHvyWP6mSyNzj0fPu4l2w4FdPPnBGh7dfFqvY4ZxK04OqotckIKhpJRxoJO2rUmrrdstQwc5FLbO089j1444QfT1/ww2SzspmP0A8VVLg81trqT7AF6cMZrvjKzgL8f0ZXKPMsZGgJp6VpSVMrF1fqJXx4rjpYwpA07UssTvyoM9Tk1e3Hmi6Ywh6c+IHuZvNns8MbQzDQkvWD2T3369ik7X8mCTyDkpGEpKWWvp1lW9V+l0ogH2VFq+cH9+L0J54hEXf8fm5Oka0v4KCgmNmkBi46pgJTVcl86RMCUdOvPsmO5UAJSU8+yQMjq3XnO0nhVdOzLRAM1RKsPuab2D9aw7UsLEbuf4mLTNzF19gA4jBjO7EGiIUR285jRLNq7huX3ts8G007tfsEnknM7xihdpG5GwoaK3gmG6bdjkM+qq/P6+T77qBNHXfxxslnZS9PmvktiyDnv8WLCUPkUlTC9rHXKGWHFHnqooTYbBzp2Y2FjLu8diNHg+DUePs6SgY7Kn8Swqd+9mXnF/nu3tQkkhFdZPbpXTItZYz4JdVbxxrJmYrWfdkUKu6XLqa6eL6dgJTH7fC+TSKBhKynXXKEbaHaiC48ctD9ydnyehfPEhF7t3G4lNa4Kl3OCF+GZdiP3B9gwWmTwDb0OaegsvUqRDV2Z3awlrbmeem9yD+M4dPLNsO9/bepRY5w7JnsagEwf57o4onU0zK47HaPCBhuaTPYYNh3bz5Kf72emGiVXt5Rsf7mKRe/q+iufiU1nXTKwNjzR2elSAm9+jB3JpFAwl5bp21k+r7WHtRsv4Mfn5vZ86qj4tvYWfNBTxYM2Zv77ZnJ/f8/MpfOgreIerMvo4wp0HD7E51JmnrrmKF6cMZGLIMKV7x+BlYOt5YcVhBo0exjd6OuzbtZNnlh+k0pJcvWzreXFjAzPHj+Cpfl15cOQwvjugEFq2y6GmkkdXHuWsWyfaOl79dD8f+AA+sTaYluj2H6wVyXJJFAwl5ayFcp3GkXa7dlviHtwyPb/e5o/c72IO7CKxfmWwlBIVRc3M7dx08tf/KWzD7p4cEZ5yC4l1y4PNGcSHWD3/tHgNj364nicXbWRecT+e7PLZ61Zs2sWibgN4pmcRw7t159GrR/DiTQOZTjOHGoH6OlYUdOHWk2tWfFYca2Bil2TI3Hmkls6dSzjZeVhTyZOra5JBsfYEKzq1LI6JHeXbH1S2HPF3+VzNL5RLlF+fGNJOLD200XW7WLfBcuMN+fU2v2FMPc2vpb638ELO6E1saB3Sd/nHmkK+WXeq9o9xw2sn/1zIaycXt57eXsSDNRE+OfX0Z/JCfPPkdac/R/srfPDL2BO1Gb7BuMOg/oP5t5vH8MJ1w/nB1DG8OKrsVHg77bqJI8fy8qiWeYknFdKjxCaHgJvj1BRETi1wsXWsPdq6RU4zK476jC07tWXAziO1lHQqoqQ1NHbtSOdYHXM3HWFLWQkjTl55OQymvGewUeS88usTQ9pFJGIY2E/BsD1s32nx4jDr5vyYa/jQvS7OoX0k1n4aLKVMZVPhZ8Lb/uZCvk/sZC/it4jwjydXJhgGFLX0MHbwWHyiAEparosYPoy3vlcs95We6on8v0UO3z8ZME/n8o91IW5ovbY0wYcNmTP/MHLDLBKrlwWbM5RDSSRM5/ClfjRGGNMrAlGgrCNjaw/z6rE4Md+juqrmtF7AepY3tGyPAy1BkZYzoE/7faiQSLyZkoYqnly0lud2N5355S6S27sfeBn0U4JkhUt99Ytclh7dgy2SLqvXW6ZPyY9gPmNsPdHXXgo2p9SZQ8kxrgMqPQOxyMnA+P0Y7PZOBb6+p9953QTXteS9CtdS6Z1WjJ96jv/SdI5/Q8+wG8PPW3sX68JUeg6VwevaQdGXnsF0LIWcn+PmMHbAYB7sAkS68tzVndi8ZQtPf7KDf9pTR6RTh2QPYl0DW0oK6dv6TxmrZ3lzGRNLA793olSfKOTeq6/i5Rmj+U7fIhpqD/G9Zet5cslWnt9bT81FzD90Bo/AFJ465UXkYigYSlqEQoaykz8lSzrt2mNpbIIvfj63Vybef5eLW3MgLRsoX4wrnnvohfjmCYdHWnoC/2/R+R7v8a3TvlZrQG1X4TCRG24jsWE1kemfo/ChP8DtNyR4VU4q6dKL700ZzYtThvEX1wzju/1awlnHEoY3HuXV/Q1U19ezYMcRtpQVJYeLa06wpWsHxgKcOMHak6uYHSJuE/M2HKLzkJH826S+TIxV8+zqcyxgOY1bMTDYJHJBCoaSFtZC757n6PGQlFu+2ufqUVCQ/m3U0uamq9PfW3guFa6lsil8ak6gF+K1y9rb2KdPS29i5ckexwDXMgCXV05bDf1Jc/sPJRf/4Z+T2LqB2Htv0fTv38c/uI+COz5PwT2P4XTvHbw8Z0VCRfQoaPlDQTnfmdybHsePMvfACTbXNzO8a3K+4tqaeoaXJWc11tTUU9O6ivmkOJuPNtDgFjFlyBD+7erOZ5kDeSanZ59gk8gFKRhKWkTCMGTgOT7YJOWqqpN7G371ibPNUct+9852CdVVE1/+UbDULvoUNvOtiMv3W+ce1oUu/W7rJnj4tOd4xTtXj6HHn5TG4bS5jt/3LO0ZCdwRYwlfO4P4px+ebIt9+A6N//K/oKmBws//AZHPPYAp/cyy35wXKe7MoyP78czwXjwzaRzf6RMGmlh3NHxyA+yddQ10Dp/+U1wRj04awpSGvTz9/iZeOOYRcc7/gnJ792/XY/gkexlr7bnuNiJtqjlq+dGPdaNqL0VF8IX7XV74T4/1m3Lr3+GH327Ef+nviS9bFCxJO+j4d/+Ot3sb8eWnguHpTEEhkVn34Q4aQWLNMuIfL8RGL2+BRc6wQOvPzicO8eynB4l17spDw3pTEY1S0bmICBCrP8izyxp56MbBTD/Pz3nh624kcuPsYLPIBZ3/Rw6RNuQYo1NQ2lFTE6zZ4HP/Xef5NMlCd85yCDccUSjMEIX3PY4Jh88ZCgFstJnomz+j+Sf/hNO1O0VP/RnhqTODl+WX0wdUOnTnBzeO4XsjezG5KMHmHVt5euVBPjgeo6YpTjxUQI8LvI3dQVe20Y3kLwVDSRsL9NG5ye1q+SqL71ueeCR3FqLcOukE0QzYt1DAdCgl8rn7iH20MFg6K/9oNc2//H9E3/gZbv8hFD39HKEx1wQvy0/GoSTiEjERZl8zhh8MLqS6qoq5NRGeuraC4cHrT2MKinB6nvUwP5EL0lCypFVVtWXuG7k1jJltunWFOXe4/MPzCfbsy+63/+23ONwzfh8n/vSxYEnaQcl//z62sZH4h78Nli5KaOR4wpOmg7XElvweb9v64CVyEdxhoymc86Vgs8hFUY+hpFW3boaCU5v+Szs4cjS5SvmR+7O/13DW5AZiaTgTWS6s4O4v4PbqS/yjd4Oli5bYuIqmH/8jiY0ridx4e8sWN4ODl8kFhIaOCjaJXDQFQ0kr37f066Ph5Pa2aq0lHLI8/sgFJiplsFtvdChKHCe2+PKDiLQNp3svCu9+hNh7vwb/yk/aiC9fTNOP/gH/YCUFdzxMYZ5tcXOl3MGaXyiXT8FQ0ioSNowYqmCYCT5Y4nPN1Q7jx2TnbWD21AbNLcwQxX/yV8RXL8Pbsz1YuiKxD39L47/8L2xTI4Wf/yqRWfdjSk+eQixn4fbuD072/sAn7S87PxEkq2mj68xQWwuLl/h8fo6LybJ/kpumORTbE8Q+uLy5bNJ2ir78TQwO8SUXt+DkckR/9xpNP/oHTEEhRV/+JpEb78BoTspZuSPG6XsjV0TBUNLO96GfFsxlhM3bLNWHLc9+LbvmG951QwNRzS1sd5EbZxO5fibR378ZLLU529xI9M2Xaf7pP2O69aToq/+V8JRbgpflvdCIMcEmkUuiYChpV1gIo6/SSy9T/P4Dnw4d4StfzI5wOH2KQ4nbmJzPJu3G6dWXose+RvTdedjao8FyyvhHqoj+8j+IvvVz3IHDKHpKW9y0csp7QSiHz72UtNCns7QL7WeYWd7/0GfMVckh2kx394xGoq//Z7BZ0qzkW39LfOUSvG0bgqW08PZso/ln/0J88e8IT7yeoi/9MW6er8Z1B4/AFBUHm0UuSeZ/CkhOCoUsfTWcnDFqj8PCD3zm3OkwbHDmhvYp1zp0jDQTW5D6oUs5t5L/9g/4hw8Q/+T9YCntEhtX0fTSP5LYuIqCG2dT+OBXcPsOCl6WF8LjpwSbRC6ZgqG0i5BrGKPh5Iyydx8sXW75ymMuHTsGq5lhzk2NxNRb2K6Kn/6vOF26E3v3jWCpXcWXf0jjj/4Bv3o/BXd8nsK7H8Upz58tbpzuvSESCTaLXDJ9Mku76av9DDPOhk2W7bssf/TlzJtveO0Eh7KiGNHfvR4sSZoUPfqHhMZeS/TtV4KljBH74Lc0/uvfYaNNFD6SP1vchEZfgynUMLJcOQVDaTeOC4MGKBxmmmUrLPEEPPfHmRUO75/ZRHTeT4LNkiYFdz1C5KY7ib71CvbE8WA540TfeY2mF/4BU1hE0ZefTW5xE8ndbVxCI8cFm0Qui4KhtJuQC2NGKhhmogXvJ8+z/i8Zso3N+LEOnTsk1FvYTiIz76HwoS8TffsV/MMHguWMZZsbib7xU5p/+k+Y8p4UPfVnhKfcHLws67l9B2EKi4LNIpdFwVDaVZ9ehsLc/SE+q/12oU9xEfyXP2z/UxQemtVM9I2fgHflx63JpYnM+BzFjz9D9M2f4+3bGSxnBf9IFdG5/0H07V/gDhye3OJm9MTgZVkrNGYSuJnxQ5xkPwVDaVeeZxkySL2Gmeo37/qUFJt2DYdjRzp07eQRe0e9hekWmfE5ir78LM1vv4q3c3OwnHW83VuTW9x89C7ha6ZR9KVv4A7J8i1uXJfQcG1qLW1HwVDaVSRiGD1CwTBT+T7Mf9enuNjw7B+1T4/E52dHib7xU2w8FixJCkVm3k3Rl79JdP5cvO3ts1dhqiQ2rExucbNpDZGb7qDwgS/jVgwMXpYVQiPGaTWytCkFQ2l3nToZupcHWyVT+D78+nc+kRA898fp7Tm8arhD9y4+Mc0tTKuCux6h+EvfIPr2L3IuFJ4u/ukHNP3o7/EPHaDgrkcouOsLydNDsohOfZG2pmAo7S4Shgnj9FIEYIbLN55wGB9s/wyHR59ySdtJsRZ+s8DHWsO3ngkRSlPn4RfujBF962fY5qZgSVKk6NE/pPCeR2l+7cc5MXx8MWIf/JbGf/lbiEUpfOQpIrPuw3QsC16WcZxuPbMuyErm06exZISB/cwVzJ02zHnC5ak7zxySvuUhl288lCkv8eTf8RspCnO3PPTZ//9UeOf3PvE4/PdvhujTK7Vfb+ggh57llug7rwVLkiLFX/8fhKfOpPmXL2XtQpMrEX3nVzT96PuYohKK/uBPicyYjQln7uq40PjJmOKSYLPIFcmUT03JcxYYPuRyg4bl9ZcsDb0d5rTOwZ7hMrLYsvjV5LYr7W6MoRxLZS30nBEsZpf3F/vs2Wf55tdcJo1P3S3ksXvjRH/9C2zDiWBJUqDkL/4PoUHDaX71P7JqS5q2ZpsaiM77Cc0//WecHr0peupbhKfcFLys/RmH0MgJwVaRK+b+1V/91V8FG0XSzXWgcxms3WCDpYtkCfVyGD3EEF8NU24y1K3wee8QJ3vrbr3W4bqJDkM7WNbtoWU41qH7CssugDEOT93rUNby51secrl1lMPE6x2mTnS4bowhvtpSxWef87qJDn1ils2HzvxbtRp/rUOfRsvLxww39jAsO/3/s+XrTp3ocF03wIO9qy1V5/37GcZONJxYYdk1w+XOCgh1NKf9/wX+foMDX/MKVR2Cxma4706XTqWGdZva7rkBBvQz3HGzT+M//hXEosGytCGnV186/vU/YU8cJ/rGT/X9bmEbT5DYsBL/SBXhsdcRnnwjRJvxDx8MXtouQmMmErpKm1pL20vdj/sil6hjiaHiCo42XfW2TyWGSU84lB/xeX1dsv2WhxwqGi0/fMHjhy9YGO6e6lm8gIJiy6cvePzwheRzj2zp7Qs+57HgA89gGNANDu+xsMhyrMycNpzs8OgUQ8MWL/lcW8544MVZ5LGxFqIHfH74gsfLi2D8naf//Tw2NnIR8xYvzfYdltd/7TH6KsMzX73seQBn9fj9HrHfzMXWZ/4JG9kscuNsOv718yR2bCL27rxgWQBv11aaXv5n4h//ntCk6RR98Ru4Q0YGL0u7yPUzg00ibULBUDJGKHSli1Asr++CggjseLu1B8tQWgyVm1qHlH2qaqG8/8UNW0ePWFYBYKlrbG0NPucFzHCowLJ7HSe//uDW+YBjoCRm2bgo8JgrtKoeKDMnF7IsfNtv+f9oW4cOw+u/9ikpgv/5X8P07X1x39fzqegDFb0N0fm/DJakDRU/9V8p+uIfEf3928Q/eT9YloDEhhU0v/R/SWxZS+TmOyl44Ml22+LG7TcY06E02CzSJq7kU1ikzfXqCZ06BVsvwTFLpg2E3dIDiBimPZVcfDKyDAq6mTbvwTvDopYeyBUwqeXrpmLRC0AsljwlpeqQ5VvfcJk988q2tHniQYj97jX82qPBkrQBp3svOvz187gDhtL0s3/F25a729GkQnzZIppe+Hvs4epTW9x06xm8LKXCE67XSSeSMgqGklGshZHD2/Jlmezpq7iq9Tkdepa1DOu2KG0ZVh7f31BwsvV8ks95stdxDJx7XWDy621sGdJN/koOSw8YA6yDhkjL74HxHYOPv5y/X3J+5JwxwDqfF1qGulufJ1WWfurzzu99pk02fPNrLu5l5MMePaB/b5/or18NlqQNFNz9BTr+3b/jH66m+VcvYhW+L1ts0fzkFjfxGEWP/iGR2+ZgOlzJT7UXx3TpjtN/cLBZpM205SewyBUriBjGjzFELjYBXYSFr/pUFhu+8ZTLN54ysMVrmX/os/EAVExJ9qhNKuaiexsXvppcBf2Np1y+MfE8w6czDF1qLQvPaLTsPtIaLH1e3nLa36Hb6ddd/N9v4SYLLX+fR2fAwupTj/vGU4aSA6fmXKbS/gMw900fYwx/+xdhbrz+0m4xX3nYEHvvLfyj51jFI5fFdCil5C9+QMGt9xD99S+ILznzFSmXL/rbX9L4o/+NKe5A0R98i/D02zHhNryBBUQm3YApLAo2i7QZY61t2+WEIlcoFoNlq3xWrcmSl+YYh6emGHa84AUCYH4b2N8weZLh0BF44ccJTlxg15muXeC7z3nU/+kXM2blZy4ovO9xIp+7j8TGNcQ/ehd8L3iJtBGnex8iN92O060n8eUfEf/kveAlV8QUd6Doa/8NEwoHSyJtRsFQMlJjo+U/fnqRizvawwyXbww/9cdjW5KrgeVMbghumOLQvwJWrLG8PPfcoeTZrzkM2fc2jT/6h2BJLoM7YixFX3wGp7iE2Afv4O3dHrxEUsQdOJzI1FuguAPxjxeQ2LAyeMllidx0J+FrpwebRdqUgqFkpFgcPvrEZ/1GvTxzweBBMGOqQ3Oz4bcLPd5bfGbo71QK3//vceqf+zJ+VeUZNblE4TAlf/QXhMZPIf7xQuLLPwxeIWkSGn0N4Uk3QCJB7OMFeDs2BS+5aCYUpuiZb2MKMvckFskNCoaSsepPWF76WQb3GspFu2OWw9GjUN9gGTvKUFMLb7/js2Fz8t/3T552GV79Gxr/5e+CD5VLUPSlZ4jMuJ3E5rXEP/0QW18bvETaQfjaGYSvnox39BCJpe/h7d8dvOSCwjfMSvZCiqSYgqFkrHjC8sHHlo2b9RLNZsOHwNTJDj95xSeRSO5XeeuNDp06wfE6mDff49knozT8j6fw9u8JPlwuQuGDXyZy42z8Y4eJL/sA/4C+j5kocuMdhK4ah7dvF/Gl7+EfSZ6jdEGOS/E3vo0pLA5WRNqcgqFktPp6y0s/V69hNvvi5x0+XWnZvO3MW01ZJxgxzDBxnIH6Ghr+7s/wdl7O0S/5q/ChrxC+YRbUHye+4iO83VuDl0gGKvjcg4SGjyK+cQ3xJb/Hnjj/CT/habOIXK/eQkkPBUPJaPEEfPCxr17DLHX9ZIfuXZOno5xNJAJffSSBv20D7qDhJLZtIPbbXxFf8VHwUmlVUEjxo18jdO10/COHSKxegrdLgTDbmOKORG67F3fAUBKrlhD/eCE2HgteBm6I4mf+Qr2FkjYKhpLxTjTAiy+fezWrZKaiInjkPodfv+tTfY5tCR+616HrkbVE33oZU1BIaMy1hMZMxNbVElu2iOi8nwYfkrdCoyZQcOfnCY8aT2L75mQg1NB71nN69CFy42ycrj2Ir/yI+NIzt7gJ3/A5IlNvPqNNJJUUDCXjxRPJFcrrNuilmk1un+lwvB4+/uTsvYXGwNe/GCf683/FP3TgjJo7fCzhURNwynuS2LyG6Duvt9mWH1klHKZwzpcIjZ+M07mcxPoVJDauwh4/FrxSspw7aERycUlRMfGPFpLYuBJTUEjR1/67ViJLWikYSlZobIIXf+Zpb94sMWgg3DzN5SevekTPcVzLg/c4dD22jtib5+4VdLr1JDR2Eu7QkdiGE3jrVxBdMA9vz87gpTklMus+CqbchNN/KN7enSQ2r8bbuj54meSg0JhJhK+ZBvEYtukE7pBRwUtEUkrBULJCLA7LV/usWKWXazZ49EGHVevOv6L8j74YI/rqv+NX7QuWzsodMAx3xFjcQcPh+DESW9YT++hdEuuzvyfRdOxE5Oa7iFwzFafPQIhFiW9YSWLNMmxDXfByyQOR6bcTGn+d5hZK2ikYStbwPPjxKx4NDcGKZJLJ1zj06Q2/evPsQ8gA99/t0P34RqLzfhwsXRR3wDBCQ0fh9B2ICYeT23+sX0H8k0X4B/YGL89Ikam3EBpzDe7gq3B79yWxdQPevl14u7ZQeOfDJCp3Ef/wneDDJE8U3P4QobHXBJtFUk7BULJGNAb7Ki2/WXDuwCHtKxSGL33e5bcLPQ6c57jjP3osSuxXL+K1wX57TteeuP0G4vQdiFsxEBuP4u3fh79nO4lNa4ivXQbR5uDD0sodNJzQqAm4g4bj9huMU94Te7SaxO5t+Pv34O3dCV7i5PWh0dcQnjCZpv98/oznkfzg9Kyg6NGvJd9QImmmYChZJeHBL9/0OHw4WJFMcOtNDk1NsHjpucP7nDsdejZsIvraS8FSm3C69cTpVYHTuz9Ol2443XtDQz3+kWq8wwfxD1Xh79+Nt2833v5dEI8Hn+KyOOU9cSsG4vTpj9u7P27PPtC5C05ZV2xzE96Bvdgjh/CrK/EPVmJj5w+rxV//C5peeQF77BxLuiVnFT7yNG6/wcFmkbRQMJSss/+A5bW3zx08pH307Qu33+Lyk194NDUFq6d8/dEo8Xk/xqvcFSyliMHp2gPTtRtOWTdMl3KcDh0xZV1wSjpi4zFsLAqxKH5TEzQ3YpsawPfBS2CtxWCSR7YUFGAiBZhQONmbU1iEU1gERcUQjWJP1GEbT+BVH8AeP4Y9dgT/2OHk812iokeextu/l9gHvwmWJIe5Q0dReM+j4IaCJZG0UDCUrJPwLL/7vWXHLr10M8nn5zhs3GJZt/Hc/y73zHbo7e0i+sq/BkvtxhR3wBQVJyf5FxRCpAATDoMTwrhOcl8dC1gf63mQiCc3Io5Gsc2N2OYmaDiB9dqm57FVaNQEwtfdSNP/+0GwJDms+Ov/A9OxU7BZJG0UDCUr6ai8zHLNeMPA/oa5887/b/K1LzSReOtneHu3B0tyFsVf++80v/of+EergyXJQZEbPkdYm1lLO3OCDSLZoKDQMHG8CTZLOxk3ymHJ8vOHwrtudzA1hxUKL4F/7AjuqInBZslBprQz4ck3BptF0k7BULJSJAzXTXDoXBasSLrddovDtl2Wyspg5UwVZQ3EP14YbJbzSKxdRmjIVcFmyUEFs+aAo49kaX96FUrWisctM67XS7g99e4FA/saVq45f2/hHbMczPEjeLu3BktyHolNqzGRCE63nsGS5BB3yEjcfkOCzSLtQp+qkrUKCw29ehqGDdGQcnuZep3DJyt8TpwIVs7Ur1sz8Y9/H2yWi+AfO0Jo9IRgs+QMQ8Gs+5Kr3kUygIKhZLWQCzOmGgoKghVJtfFjDCEHVq87//q12291oPYw3q7NwZJchPjaT3AHazg5V0Vm3o3pUBpsFmk3CoaS9YwDN0/XSzndxo12WHqBBScA/cubSCxVb+Hl8javxYTDOOW9giXJcm6f/oTHXRtsFmlX+jSVrFcQMQzsBwP6BSuSKjNvdDhYbdl9gWOJb7vFwak/hrd9Y7AklyA5nKzVybkmcuu9OvZOMo6CoeQE1zXcMsPVYQFpUF4OQwbC0hUX7i0c2L2JuHoLr1h89Se4g0cEm7PekvWr+MFZT/xrZu7Sc9VyQ3jyzZjO5cFmkXanYCg5I+TCjVqlnHLTJzt8uspy/HiwcqaZNxrchhq8reuDJblE3tZ14LrJc58l6zm9+xOecjMmEgmWRNqdPkUlZ0QiMGSgYeAArVJOlTEjDSUlhhWrz7/gBGBwzybiS98LNstlsseO4I7S6uRcUDD7QYVCyVgKhpJTIhGYOd3RKuUUuXqMw0efXHgI+ebpBrepDm/L2mBJLlN89dKs3ex6yfpV3Lsg+euZXc3B8kmnrtvEyxfYAilbRWbeg9O1e7BZJGMoGErOMY7lpml6abe1m25wOHzUsmPXhXsLh/ZuIvGJegvbkrdtA8Y4OD0rgqWMVrlrE9870YvnZ45n3syrmFG96axzB4PXPdoheEX2cwcOIzRmUrBZJKPo01NyTkHEMLA/jByhIeW20rkMhg4yLLuIBSczrje40RMkNq0OluQKeccOERqZXcPJ+xqamT6oJ8k4W8iUHoV8cKg2eFngutxjCgopuPPzGkKWjKdgKDkpFDLceL1D167BilyO6yc7rF7vc6wmWPms4X0a1VuYIolVS3NydXI+KLjrEUxxx2CzSMZRMJSc5brwuVvcYLNcohHDDeVdYfmqCw8h3zDFEEo0ktiwMliSNuDt2ARYnJ59g6WM1bekkA92VlEJQDNLqpuZ3r0seFnyupM9ic3sy6E5huEpN+v0GskaCoaS0zqUJOfGyeW7boLD4qUW/8KjyIzo20hi2fvBZmlDNsvOTq4YeBXPdTjIMy2LShb1uIpnz7L2omLgQB49satl8clBdubIHEOnV18i024NNotkLGOtvXA3gEgW8zxYsMhn63a91C/VDVMcOna0zP/dhb93U681XD3gOM3/9nfBkrQhd+BwIrfdS9O/fS9Ykkzjhih++jlMx07BikjGUleK5DzXhZkzNN/wUnUogWFD4NOVFw6FAKOHJHQmchp4u7aA7+H07h8sSYYpuPeLCoWSdRQMJS+4Lsye6WL0ir9o06c6bNgCh48EK5913URD2G8iseaTYElSwB49TGjk+GCzZJDw9bdm7b6Tkt/0MSl5o7jIcuuNeslfjCGDoWcPw/KVFzGxEBg7LK7ewjSKr1yCO0SrkzOVO2AYkck3BptFsoI+JSVvRCKGwQMM48dqf8MLmXKNy8fLfBKJYOWzrrnaECZKfNWSYElSxNu9FRJx3D4aTs40plMXCu75AoTCwZJIVlAwlLwSCsGkCY7OUz6Pqdc5NDRYNm+9uLmFV18Vx9OZyGnnHzmCm2WbXeeDwnsexRQWB5tFsoaCoeSdggjMukmLUc6moACGD4aPP724IeSrxxoKnJh6C9tBYuVHuIOGB5ulHRXc8TBOr+zZY1LkbBQMJS+Fw3D35xwKCoKV/HbjNIdtO6GqOlg5u2vGOSSWLgJ7cUFS2o63dzvG+rgVA4MlaQeRG2dn1f6SIueiYCh5KxSCO27TW6DVwP7Qr4/h01UXF/JGjzIU2Ab1FrYj/1AVoVEKI+0tNGoCofFTgs0iWUmfipK3CgsM5d0MM7VSGYCp17p8/KlPNBqsnN114x0SnywCLx4sSZrEVizGGTgs2Cxp5PYfQuT2BzARDT9IbtAnouS1SBiGDjZMm5zfb4VrJxqiMcuGTRe34GTkcEORaSSh3sJ25e/bCX4Ct++gYEnSwOnWk8IHv4xxQ8GSSNbK709DESDkwthRhlFX5edKZceFUcMdllzkghOAyZMc4ss+wMYvsntRUsavPqjNrtuBKelI4Rf+EBQKJccoGIq0nIwy7TrD4EH5Fw5n3eSwfZfP/gPBytkNHWIodprVW5gh4ssX42h1cnq5IQo//1VMkbalkdyjYCjSIhIx3DrDoW9FsJK7+vaBij6wYs3FDSEDTLvOIf7pB9hoU7Ak7cDfvzu52XW/IcGSpEjhQ1/BKe8ZbBbJCQqGIqcJh+GO21x69AhWctOUax0+WWFpbAxWzm7QACiJxNRbmGH8qgO4I68ONksKFD7wJG6/wcFmkZyhYCgSEA4l9zjM9Q2wJ16dHDZfu/7iewunT3WTcwubGoIlaUfxFR9qs+s0KLj9QdzBVwWbRXKKgqHIWRQWGObc4VJWFqzkjjEjHZZewoKTvhXQoSCu3sIM5B/YC7Eobv+hwZK0kYLb7iM0dlKwWSTnKBiKnENRIdx/p0tpabCS/W672WH/QcveymDl3G65wSX+6YfYhvpgSTKAX32AkIaTU6Jg5r24w8cGm0VykoKhyHkUF8MDdzk5FQ57dofBAwxLl198b2GvntCxUL2FmSy+7ENtdp0CkVvuxh15NaZYK5AlPygYilyA68L9ORQOb5jisHSFT/0ldPzdeqNLfOVH2BPHgyXJEH71PmxzM+4AhcO2ErnlbkKjJmhbGskrCoYiF1BYaAiFDA/c7dCpU7CaXcaNNoRCsOoStqfp1g1KixPEV6q3MNPZyp24w0YHm+UyFMy8l/A10xQKJe8oGIpchMICcJ1kOOzSOVjNHlePcVi6/OJDIcBtNzkkNqzE1tUES5Jh4muWERo6Ktgsl6jw7i8Qmjg12CySFxQMRS5SYSEUFxnuv8uhe3mwmvlunuFQfdiya8/FB8NOnaBLSZz4J+8FS5KB/Or92KYG3IHauuZyFd77RdyrtIhH8peCocglKiw0zLnDoU/vYCVzde0CQwde2oITgNm3Onhb1mJrjgZLkqG8vTtx1Wt4WQofeBJ3+Jhgs0heUTAUuQyRiOGe210G9s+Os5VnXO+wYo1PbW2wcm4lJdC1Q5zY0veDJclgidVLCWme4aVxQxQ+8rQ2rxZRMBS5fK4Ls25xGDE0s8PhqKsMHUsMy1dd/BAywF2zHLyt67DHDgVLksH8I1XYxnrcwSOCJTkLU9KRoif+WMfcibRQMBS5AuEQ3Dzd4eqxmRsOJ4x1WLzs0oaQIxHo1jFG/JNFwZJkAW/PDtyh6jW8EKdbT4oe/xOcbj2DJZG8pWAocoVcF6ZMcrhxWua9nWZc73DkqGXHzkvrLZxzh4O3fRP+kapgSbJAYvUnhIaMDDbLadz+Qyj60jOYjjmyQalIG8m8TzKRLBRyYfhQuP1WBydD3lWdSmHoYMOyVZfWW2gcKC+NEl+muYXZyj9ajW2ox1U4PKvQqAkUPPBlCEeCJZG8lyEfYSLZLxI29Otj+OLnM+N85RumOKzbYDl6iQuKH7jLIbFzK/6hA8GSZBFvz3ZCGk7+jPDkm4jcNgcTCgVLIqJgKNK2IpHkr8/f61LRjtvZjBhq6F4On64O9Bb2N8y+2+GuqYaKc4TX7qXNJJZpbmG2S6xagjvkqmQXsABQcOcjhCdNx0QKgiURaaE7hkgbKyxIboZ91+dcRo5on0UpkyY6LF5q8b3TWw1zZjj0AkoGOsx50GXOVMPpe3Xff7eDv3cHftW+01olG/k1R/BrjyXDYZ4znbpQ9KVvEBo1HlNcEiyLyGkUDEVSJBSCGVPTvyhl2hSH+nqfrdsDC06GGrrELe+86fPKyx6vfGIpHuLw8BMO07onL+nZqZm4egtzhl+5M++Hk92Bwyj+gz/F6dU3WBKRs0jvJ5ZIngmFkotSPn+fQ0kaOiqKi2HYYPh4WXAVsuGWUYYCDypbWg6v93n5Pz3eWWWpPARz7nTw9+3EP7An8FjJVolVS5OnoDhusJQXwtffSsF9j0MoHCyJyDkoGIqkWCRsKO0IX7jfoV9FsNq2ZlzvsHkrHDocrMDhY5aGjoanHnKYNuRU+9Y1lt1Ar06NJD794PSHSJbza4/iHzuUf6uT3RAF9z9JZNqtGIVCkUuiYCiSBoUFhsJCw6ybXcaPS828w8EDoXdP89kFJwBY1n7g8+O5PmtrDSNvdPnKHIexLRMM77nDgSPVeJW7gg+ULOfv3UloaP4EQ6dXX4qffo6Q5laKXBYFQ5E0KiyE6yYa7rjNoagoWL0yUya5LFnmE4+d2V460uHRJ12+8QcuT33O4K32eOENn90e9OqSvKZPWSPxj94984GSE+IrPyY0bBS4ud9zFp5yM0WPfR3TsVOwJCIXScFQJM3CIUOf3obHHnQY0K9teg+nTHJobLJs3PLZuYUzJhgaV3r88EOL58LhQzCyr2Hf+z7vbIG7bncwxw7h7dsReKzkAltfi3+oCndI7p6dbCKFFD7wJJHpn8vb+ZQibUXBUKQdFESgsNAw+1aHGddf2dswHIbhQw1LznYecndDl4Rl4RrDLeMMx9b77MYweKRheI/kJX3LGoh9tCD4SMkh3r7cXZ3sDhxG0dN/hjtYQ8cibeHKPpFE5Iq4LowYCo8/4tD99A0FL8FNNzhs2+FzsDpYAQ5BtMgwZZphgGdZuC65yXWXkKVqG9wxy4G6I3h7tgUfKTkkvnIJoaEjMTl2BFx42m0UzPkSprhjsCQil0nBUKSdRSKG0o6GOXc4jB97aUPL/fpB/wpYuTY4hNzKZ+lOGDzSgA9TbnJ49CZDYqflU6Bf2QniHy0MPkhyjD1xHP/QQZwc6VVzevej6Ik/ITLphpwLuyLtTcFQJENEIobrrnF44B6Hrl2D1bObdp3DkuWWpqZgBSrGOcya7lC80eOnv7cc9AzdusKR5T4vf2C5/VYH01CDt2tL8KGSg7y9OwgNHRVszjqRG++g6At/iNOjD+hoO5E2Z6y15+pqEJF2Eotblq2wrDpnTyBMmmAY0Ncw943Pzi0cf7vLlK6Ww3WG8u6w5U2PhYfOvOYPH43h/eYVvB2bzixITjLFHSl6+jmanv8ONh4NljOe27s/kdsfxOnWckyPiKSEegxFMlAknOw9/NLDDj1bFomcwcCYkYYln342FILD8HLLyjd9lhyHaJXPwkMw416XWUOTV8y6xcGpO6pQmEdsYz1+VWUWnp1sKLzj8xQ+8rRCoUgaKBiKZKhwCDqVGu6702XG9c4Zu3DMutlh+05L5YHTH9GiOxTEoRKHKX0tWz6wgKFLGdCyQGVgj2biSzS3MN94e3ckj8jLEu6QkRT/8V/ijp6YPF9SRFJOwVAkwyVXLhue/ILDkMGG3r1gQF/DijXnGGY+ZDnmGmbdYSiusiyugwEzHMobLRvqYOZNBufEMbxtG4KPlByXWPFRcnVyQWGwlFFMaWcKH/gyBfc+hilKwyHjInKSgqFIFohEoLjIcOuNDrNvdVm3ydLQcKpeWgpguOUhlwevtbz1oeUYUDrA4etPusweaNnyiU8lMKRnM/Glvz/t2S8kxvyV63lyQy1nHKoSbeCDqhq2tExXi52oY23j2Ya2Ac+jwQs2SrrZ5ka8A/twB2fuEXmRGz5H8dPP4Q4egXHVSyiSbgqGIlkk5EJRIYwbZbj3DodQGOjucNeDLo/PcRjsWj5dBuzxef3nHq+867Ngsc/cl3wW7YGbpxucxuN4W9YFn/o8Gtl8zBCpPcRvTq5Z8FmybQc/WL+bXx9PttTUHOL/7Dtx2uNOqdy7lef2NgebAag5cpCXj8ShJVx+cDz5e0kNb8/2jBxOdoeOovjp5whPvRkcfTSJtBe9+0SyUCgEffsYHn/YZWIfy8tvWho7QUGJ4frbHYaVJq87XGoY1x8OtzxuaO+mS+wtbFXC7L4wf1/Lvjj11bzU3IWZHU5d0aP3QJ4f0vKFA45F45SEzn5UWUN9LUvqk92Jhw7v59VjV9a1GEuco9dSAEisWExo0DBMQXGw1C6cnhUUPvI0BXd8HlN2kfs0iUjKKBiKZLHiIpg6yeHRG+HoXstb71vqOhpmPejy8O0Oc0Yb3IbkXMQbpxnc6Am8zWuCT3N+sTjVBir6lFOx/zBrrceCHceYPKwbPSikb8sUsCWb1vKD6pZQ1nSUH3y0hnvfW8NDv9/EC0c9ehSETz1lQz0fVNXwwbEYOxua6VvcRnPeoof49vtruHf5YWqCNQHARpvxDla2+9nJpmMZBbc/ROEjT+H2G5zx8x5F8oWCoUgO6NLZMLQfTB4L21b5vPKJJVpoCFX5LFySvGZ4nyYSn7wXfOiFxT0aSgrp4XZmZtdaFmzbz9xQHx4tjbHvtHmOACUhB2hm7pr9xAePZN5N43j1pmHce9r6gcq9m3lsxUHWNkXZt383Lx+CcMuBL9WNzad6FptqeX7JWh79cD1PLtrAX+5qIPDlPmPnvsPU9u/J9ON1rLiyjsezqty1iWd2nX1IPJt4e7bhDmufs5NNpJDIzXdT9PRzhMZeg4koEIpkEgVDkRwRiRjKuxlumGq4vj9s3ugz9z3LYeCGKYZQooHEhpXBh12SKb3LWLGvmXuGlhHBBxuhcyGAT0Oi5Y7SWMeS5i7c3rOlh9DEqWkupEcxYGt5dZvDo9cN45mBPXl0zEDuKT11J4pZWnoWk+EyctVoXr5hNC9OH8zw6t3Mqz/9bxPg1fDy3kIeHNiDsV3rWHv09KLPzv27ePbD9Tz54Wae336Q5ytPPy7GpyEWpybmETvHYm+AWMIjcoH5bzu3b+ChRZuZe76/K03M33iYncHmNIkvX4w7YEh6V/y6LpHpt1P0zF8QnjQN4559aoGItK/z3+FEJOsUFhj69jHMuN7h7tsdyrvBVX2biH/yfvDSi9PQTGVJIRUAXSp4YfoQZhe0rDTGpcQFiFHTXEjfIsD6xApDdAk8TcQAjc3sLO7IxJMnmXk0JFoeB9AayhrrWNLkUH2gkue3H+KD6iZibozqJoA4W6pqWHE8Rk0sTkPL6HXN/sNs7tWdmSGHiV1LWHH0VDJrOLCLP6+M8MS1I3lx6iBupZ4FtS0raRL1vLBkPc9tPMjLW3bwjY+3s6C1a9JvYsG6zTz54XqeXLaXebVxKorOczavrWd+ZZiJXRIsOnK+nsUomw80tG4reV4rtqzneweT3Z+xRLxtVnfHY/gH0rTZteMSnnYbxX/8PwlPuUlnG4tkOAVDkRwVDkH/voYH73GJFIXwjwTOxLsULUO94FASbrltNMfPHmzCLiUNDew8GWBi7GtwKTk1xfAMp3romqlsaJmzaH1ihaU8NKQXj/brSBkwuO8A7ugExJpYfqyeJbt28uwnW3i5hmQP3L5mppQXUhOLEykrpXP1cdYCEGfRgTomD+zD2AIH3AglrkfngmQ63bJjFzv6XMXzV/fjmTHD+MEAeHFfPeCxYO1W5hf24btTR/L86K6c7RCa09VUHmRJt+58s6KMmqP1Z85z9ONsOVLDB1V17KxpYmdJAX1Pr59DLB4n3NK7tmLzev7tjJ7Qy+ft2YY7JHXb1phQmPANsyj+k78icv1MDRmLZAkFQ5Ec57qAn6Dwoa9Q+PBTuP2GBC85v269+ZvWFSanC4fp26WEQQDEqG5qGVaOdOWhng08v3Qr39u4i+eW7GapjdA5AhSXMCJ6jPk1yW6+WEMtaxsKqQgukC0soEdTM/ucMJ0jRYzt2ZnpPTszvACIlPLoyH48c/UIXrxhNE91hdihauYTZuemLTz7yRaeWX2EQ14tK+o41SsZ+F8oCRmgmbU1Hrt2b+HJDzfznY17ebEqSkPCg9gx3j3aiQeHdKSH61BS7BLxwi1D52fTxPy9cWb3LyNS1oGJp89z9Op4fvFGfljZTHVTHS9vOUSlaUnbDVU8s7SKypPPU8cLH1ayovWPLcG5pq6WzU1QXZvsLb3SnsP4px8mF30Un7a0vA2Y4g5EbrqT4j/+n0Sm3oKJnOweFpEsoGAokgdMUQmmsAi3/xAKH/oKRV/+Ju6wMcHLzs6JMLbTWbr7Il15bkJ5Sy9aKc/cNJiZLoDDxFGj+bfRPZnSvTt/ft1VfGd0OSMATEeeHNuJtavXcO/CNTy7pznZHWk4s2fR7cyTQy0vfrCJ72ypYu72XTz30S4WnDUMxfnNnhpGDBrOD24YzYstv/6ij8+Ko82AS0momc11p7axOXOuYCEPThzNizeM4LlhvXh0zDBeHFF6ctFN35O9pQAuHc41Ne7YYeZHypndETCljO1ax5KWVdqVe/ezpHwQz1/diwcHVvDt4V0pMQ5hABuY1NjQyFqPZK2lF7VHMZQ4HoeawxCvZ8n+KhY1AicO85cfreXJD9fz6HtreGZT3cWvxvYS2CPVuIPbZjjZdOlOwaz7Kf76/yB87XTQkLFIVjLWBu9KIpIXEnFsUxPxpQtJrFuBjZ9xrkn78HxirsPJSOHF2FLTQHXCpUenDgwvOsvPsg2HeG6Dx9OTejHo9BB3aDf37i3hxWvKKTmyl6fX1tG9vJQOTXVsPhFn4ujxPNsd1m5aywvhofxgSFHL1/WJeQ6R6CGeXdbMEzP6MdYA1PPC+/vpce0I7gn2cOKxYPV6XjjmE/MB41Di+DSUD2Te6DKWrF/FB+Xjea51LPrQbu49VMa80WXJ3x/oyKtXd01+/YYqnlkHfz65JxU0M3fpLhhzFQ+WnP775NOc8bw2ztpDzfTt0ZHOp/3Nzid87QycioFEX3spWLpobr/BhCdMxRk4TL2DIjngLHdZEckLoTCmYynhGbMpeubbFMy6D6dbz+BV6XV6KARwIwzv1pnpPUvPHgoBSrrzvWsDoRCgvB8vj+1CCRDp1o8XZwzjy7068+iE4TzZxaVDSyfo2KGDmVK7lccWbeK55Zt58r11PH8UKO7MzA41/NO6KhZUHWXuukoWJArp/plQCNQfYm5tZ/7ipvHMmzmeebeM4+Vre1Fx5ETLPMeA4M/jIfe0MOydti1PnJrm1vmZcWoC61m6hF2W7NjF3KoGqv0wYy8hFNI6nFzRH1PSMVg6P+MQGnMNxX/wLQrmPI47fIxCoUiOOMedVkTyhYkUYCIFuCPGUfjY1yn8wh9e/DBzJjMOJZFk4Ko5UsXcw3HKSgspqTvE/LouTC5ruS5UwqPXjOPVacP487GDeX76OJ7tDhBm9oSreKJjgs3H41QM7scTvUvOugBlbeVhwv27t/QstijpxEQ3Oc9xRGkJSw4epsZPLkJZcrSBiqLTJiuenhObYtR0aFkFjseJRMv8TDxOJIqoOG2u5PDho/m3ESXEDu/nLxe1Ds1fAuvjHzl00YtQnG49KbjzEYr/y99QMPshTNfumMJzTroUkSykoWQR+Qwbj0EiTnzlUrzNa/CPVAUvySqxE0eZu7eWFUdjhMvKuHdIL6a0bpGTQjXHa9gX7sTYohjz1+zgpSMxKCplckkTOzsN4fmBhRA9zHOLD9DQtTMjaGRzQ4zKTv2Sw8y2lu8trGX6zAFMoY4fLKxi8NRh3FOUHDqubnLpUdzy831tJY9uDvG9yT1bQuXFCU+6AbffUJp/9f+CpSQ3RGjE2OSwc9fuLauZRCRXKRiKyDnZ5uQm0H7NYRKrl+FtWY+NNgYvkyvlNbP2cBN07MRge4IVXhHTO4UhVsfzW5q5d0x3KoDKfTv4zvY6qunKt28qY8nvd7GutJQxxS41x2uo6T2cH/S/9B68kj/+nzT+v/+LPXH8ZJvbdxDhqTNxK/pD6CyLj0QkJykYishFsbEoxnXx9u4kvvoTvG0bwZ51mbCkjU9DYxOb63w6dythUOjyZgcVPvw0iU1r8A/uxR06ivDYSZiSDuCGgpeKSI5TMBSRS2bjMbAWf+9O4muW4e3cDL5CYjZyynsRmT4Lp2IgOI4WkYjkOQVDEbkiNh7DAN6+XSTWLcfbvQ3brOHmTOb27o971ThCw8ckV6cXnW2ptYjkIwVDEWk78RgYg1e9H2/zWrw92/EPZ/fClVxgCopw+g8hNHQk7uARYFytJhaRs1IwFJGUsNHm5PByIoG3ZweJ7RvxK3dhG+qDl0oKuL374w4bhdNvEG63nlgLJqLTSETk/BQMRSQtbCx5soo9UYdfXUli81r8A/vOWAkrl8vg9u6H07s/7sChOBUDwLfqFRSRS6ZgKCLtIhkUfWhqwjtchbd9I35VJX71gcCOzxJkOpbh9OiDO2AIbu++mG49wfMVBEXkiikYikhGsLHmZB4MhbA1x/CPVOHt3IJ/pAp75BA2Hg0+JC+Ysq443Xri9h2I06Ucp3c/cF1MgUKgiLQ9BUMRyVyxKNa3EHKh4QR+7VG8yt3YmiPYmqP4tUexjSeCj8o+bginrEsyBHbuhtOjD07PCkxpJ/B98BKXfp6xiMhlUDAUkaxjY9FkYHJMspex8QT+8Vr8qn3Y+jr8E3Vwog6/oR4aTyT3XWw3BlPcAVPSAdOhI6ZDKU63nsn/du6CKe2CiUSw1gccLRARkXalYCgiOcVGmzHGwfqJZIMbAutDcxQbj2IbGyAew56oh3gM/8Tx5J8TCUjEsZ6XDJ2+n3wcFjBgWn45LsZ1k8O5oTCEw5gOnTDhCEQKkgEwEoGiDpjCIgiFwEtu/m0cB8IKfiKSuRQMRURa2FhzMgSe1PJ7c2o9TLLFYrGYiOb5iUhuUTAUEREREQAu78R1EREREck5CoYiIiIiAgqGIiIiItJKwVBEREREQMFQRERERFopGIqIiIgIKBiKiIiISCsFQxEREREBBUMRERERaaVgKCIiIiKgYCgiIiIirRQMRURERAQUDEVERESklYKhiIiIiICCoYiIiIi0UjAUEREREVAwFBEREZFWCoYiIiIiAgqGIiIiItJKwVBEREREQMFQRERERFopGIqIiIgIKBiKiIiISCsFQxEREREBBUMRERERaaVgKCIiIiKgYCgiIiIirRQMRURERAQUDEVERESklYKhiIiIiICCoYiIiIi0UjAUEREREVAwFBEREZFWCoYiIiIiAgqGIiIiItJKwVBEREREQMFQRERERFopGIqIiIgIKBiKiIiISCsFQxEREREBBUMRERERaaVgKCIiIiKgYCgiIiIirRQMRURERAQUDEVERESklYKhiIiIiICCoYiIiIi0UjAUEREREVAwFBEREZFWCoYiIiIiAgqGIiIiItJKwVBEREREQMFQRERERFopGIqIiIgIKBiKiIiISCsFQxEREREBBUMRERERaaVgKCIiIiKgYCgiIiIirRQMRURERAQUDEVERESklYKhiIiIiICCoYiIiIi0UjAUEREREVAwFBEREZFW/38XdPoI5O/LjAAAAABJRU5ErkJggg==)"
      ],
      "metadata": {
        "id": "KqzEqs4v9uRF"
      },
      "id": "KqzEqs4v9uRF"
    },
    {
      "cell_type": "markdown",
      "source": [
        "## Thank You"
      ],
      "metadata": {
        "id": "Vc9ThfmXt_SQ"
      },
      "id": "Vc9ThfmXt_SQ"
    }
  ],
  "metadata": {
    "kernelspec": {
      "display_name": "Python 3 (ipykernel)",
      "language": "python",
      "name": "python3"
    },
    "language_info": {
      "codemirror_mode": {
        "name": "ipython",
        "version": 3
      },
      "file_extension": ".py",
      "mimetype": "text/x-python",
      "name": "python",
      "nbconvert_exporter": "python",
      "pygments_lexer": "ipython3",
      "version": "3.10.4"
    },
    "colab": {
      "provenance": [],
      "toc_visible": true
    }
  },
  "nbformat": 4,
  "nbformat_minor": 5
}