{
  "cells": [
    {
      "cell_type": "markdown",
      "id": "8e6cbbd1",
      "metadata": {
        "id": "8e6cbbd1"
      },
      "source": [
        "\n",
        "![](https://i.imgur.com/KhDDHls.gif)\n",
        "![](https://i.imgur.com/Ffjv44w.gif)"
      ]
    },
    {
      "cell_type": "markdown",
      "id": "3c74108e",
      "metadata": {
        "id": "3c74108e"
      },
      "source": [
        "\n",
        "<div style=\"color: White; display: fill;\n",
        "            border-radius: 5px;\n",
        "            background-color: #123456;\n",
        "            font-size: 100%;\n",
        "            font-family: Verdana\">\n",
        "\n",
        "<p style=\"padding: 7px; color: Black;\">\n",
        "      <ul>  📌 <b>Customer ID</b> - Unique identifier for each customer.<br>\n",
        "        📌 <b>Age</b> - Age of the customer.<br>\n",
        "        📌 <b>Gender</b> - Gender of the customer (Male/Female).<br>\n",
        "        📌 <b>Item Purchased</b> - The item purchased by the customer.<br>\n",
        "        📌 <b>Category</b> - Category of the item purchased.<br>\n",
        "        📌 <b>Purchase Amount (USD)</b> - The amount of the purchase in USD.<br>\n",
        "        📌 <b>Location</b> - Location where the purchase was made.<br>\n",
        "        📌 <b>Size</b> - Size of the purchased item.<br>\n",
        "        📌 <b>Color</b> - Color of the purchased item.<br>\n",
        "        📌 <b>Season</b> - Season during which the purchase was made.<br>\n",
        "        📌 <b>Review Rating</b> - Rating given by the customer for the purchased item.<br>\n",
        "        📌 <b>Subscription Status</b> - Indicates if the customer has a subscription (Yes/No).<br>\n",
        "        📌 <b>Shipping Type</b> - Type of shipping chosen by the customer.<br>\n",
        "        📌 <b>Discount Applied</b> - Indicates if a discount was applied to the purchase (Yes/No).<br>\n",
        "        📌 <b>Promo Code Used</b> - Indicates if a promo code was used for the purchase (Yes/No).<br>\n",
        "        📌 <b>Previous Purchases</b> - Number of previous purchases made by the customer.<br>\n",
        "        📌 <b>Payment Method</b> - Customer's most preferred payment method.<br>\n",
        "        📌 <b>Frequency of Purchases</b> - Frequency at which the customer makes purchases (e.g., Weekly, Fortnightly, Monthly).<br><br>\n",
        "    <p style = \"padding: 3px; color: Black;\">\n"
      ]
    },
    {
      "cell_type": "markdown",
      "id": "cd1b9111-5969-4d7d-96e4-e30da9684a3d",
      "metadata": {
        "id": "cd1b9111-5969-4d7d-96e4-e30da9684a3d"
      },
      "source": [
        "## OBSERVATION:\n",
        "Upon initial examination of the dataset, it is evident that we have a comprehensive and well-structured dataset with 3900 rows and 18 columns. The data is complete, with no missing values, which allows us to proceed confidently with our analysis.\n",
        "\n",
        "Let's delve into the columns and their significance in understanding our custome      \n",
        "\n",
        "-  **Customer ID:** This column serves as a unique identifier for each customer, enabling us to differentiate between individuals.\n",
        "-  **Age:** The age column provides insights into the age demographics of our customers, helping us understand their preferences and behaviors.\n",
        "-  **Gender:** This column showcases the gender of the customers, enabling us to analyze buying patterns based on gender.\n",
        "-  **Item Purchased:** Here, we can identify the specific products that customers have bought, allowing us to gain an understanding of popular choices.\n",
        "-  **Category:** The category column categorizes the products into different groups such as clothing, footwear, and more, aiding us in analyzing trends within specific product categories.\n",
        "-  **Purchase Amount (USD):** This column reveals the amount customers spent on their purchases, providing insights into their spending habits.\n",
        "-  **Location:** The location column indicates the geographical location of customers, which can help identify regional trends and preferences.\n",
        "-  **Size:** This column denotes the size of the purchased products, assisting in understanding size preferences across different categories.\n",
        "-  **Color:** Here, we can determine the color preferences of customers, aiding in analyzing color trends and their impact on purchasing decisions.\n",
        "-  **Season:** The season column allows us to identify the season during which customers made their purchases, enabling us to explore seasonal shopping trends.\n",
        "-  **Review Rating:** This column showcases the ratings given by customers, providing valuable feedback on product satisfaction and quality.\n",
        "-  **Subscription Status:** This column indicates whether customers have opted for a subscription status, which can help us understand customer loyalty and engagement.\n",
        "-  **Shipping Type:** Here, we can identify the different shipping methods used to deliver products to customers, shedding light on preferred shipping options.\n",
        "-  **Discount Applied:** This column indicates whether a discount was applied to the purchased products, enabling us to analyze the impact of discounts on customer behavior.\n",
        "-  **Promo Code Used:** Here, we can identify whether customers utilized promo codes during their purchases, helping us evaluate the effectiveness of promotional campaigns.\n",
        "-  **Previous Purchases:** This column reveals the number of previous purchases made by customers, aiding in understanding customer loyalty and repeat business.\n",
        "-  **Payment Method:** The payment method column showcases the various methods used by customers to make their purchases, allowing us to analyze preferred payment options.\n",
        "-  **Frequency of Purchases:** This column provides insights into the frequency at which customers make purchases, helping us identify patterns and customer buying habits.\n",
        "\n",
        "ustomer buying habits.\n",
        "With this rich and diverse dataset, we are well-equipped to explore customer shopping trends, understand their preferences, and uncover valuable insights that can drive informed decision-making and enhance the overall customer experience. Let's embark on this exciting analysis journey!\n",
        "\n"
      ]
    },
    {
      "cell_type": "markdown",
      "metadata": {
        "id": "HhfV-JJviCcP"
      },
      "source": [
        "## ***1. Know Your Data***"
      ],
      "id": "HhfV-JJviCcP"
    },
    {
      "cell_type": "markdown",
      "metadata": {
        "id": "Y3lxredqlCYt"
      },
      "source": [
        "### Import Libraries"
      ],
      "id": "Y3lxredqlCYt"
    },
    {
      "cell_type": "code",
      "execution_count": 1,
      "metadata": {
        "id": "-Ty8qtjtJq_t"
      },
      "outputs": [],
      "source": [
        "# Import Libraries\n",
        "import numpy as np\n",
        "import pandas as pd\n",
        "import seaborn as sns\n",
        "import matplotlib.pyplot as plt\n",
        "from wordcloud import WordCloud\n",
        "import plotly.express as px # this library can makes interactive plots\n"
      ],
      "id": "-Ty8qtjtJq_t"
    },
    {
      "cell_type": "code",
      "execution_count": 2,
      "metadata": {
        "colab": {
          "base_uri": "https://localhost:8080/"
        },
        "id": "372a29c8",
        "outputId": "9faeb998-f629-4b20-d59e-fc9dafd5f51d"
      },
      "outputs": [
        {
          "output_type": "stream",
          "name": "stdout",
          "text": [
            "Requirement already satisfied: WordCloud in /usr/local/lib/python3.11/dist-packages (1.9.4)\n",
            "Requirement already satisfied: numpy>=1.6.1 in /usr/local/lib/python3.11/dist-packages (from WordCloud) (1.26.4)\n",
            "Requirement already satisfied: pillow in /usr/local/lib/python3.11/dist-packages (from WordCloud) (11.1.0)\n",
            "Requirement already satisfied: matplotlib in /usr/local/lib/python3.11/dist-packages (from WordCloud) (3.10.0)\n",
            "Requirement already satisfied: contourpy>=1.0.1 in /usr/local/lib/python3.11/dist-packages (from matplotlib->WordCloud) (1.3.1)\n",
            "Requirement already satisfied: cycler>=0.10 in /usr/local/lib/python3.11/dist-packages (from matplotlib->WordCloud) (0.12.1)\n",
            "Requirement already satisfied: fonttools>=4.22.0 in /usr/local/lib/python3.11/dist-packages (from matplotlib->WordCloud) (4.55.6)\n",
            "Requirement already satisfied: kiwisolver>=1.3.1 in /usr/local/lib/python3.11/dist-packages (from matplotlib->WordCloud) (1.4.8)\n",
            "Requirement already satisfied: packaging>=20.0 in /usr/local/lib/python3.11/dist-packages (from matplotlib->WordCloud) (24.2)\n",
            "Requirement already satisfied: pyparsing>=2.3.1 in /usr/local/lib/python3.11/dist-packages (from matplotlib->WordCloud) (3.2.1)\n",
            "Requirement already satisfied: python-dateutil>=2.7 in /usr/local/lib/python3.11/dist-packages (from matplotlib->WordCloud) (2.8.2)\n",
            "Requirement already satisfied: six>=1.5 in /usr/local/lib/python3.11/dist-packages (from python-dateutil>=2.7->matplotlib->WordCloud) (1.17.0)\n"
          ]
        }
      ],
      "source": [
        "!pip install WordCloud"
      ],
      "id": "372a29c8"
    },
    {
      "cell_type": "markdown",
      "metadata": {
        "id": "3RnN4peoiCZX"
      },
      "source": [
        "### Dataset Loading"
      ],
      "id": "3RnN4peoiCZX"
    },
    {
      "cell_type": "code",
      "execution_count": 3,
      "metadata": {
        "colab": {
          "base_uri": "https://localhost:8080/",
          "height": 580
        },
        "id": "4CkvbW_SlZ_R",
        "outputId": "b9892c4e-47f1-41e1-f75c-216e3db51699"
      },
      "outputs": [
        {
          "output_type": "stream",
          "name": "stdout",
          "text": [
            "Mounted at /content/drive\n"
          ]
        },
        {
          "output_type": "execute_result",
          "data": {
            "text/plain": [
              "      Customer ID  Age  Gender Item Purchased     Category  \\\n",
              "0               1   55    Male         Blouse     Clothing   \n",
              "1               2   19    Male        Sweater     Clothing   \n",
              "2               3   50    Male          Jeans     Clothing   \n",
              "3               4   21    Male        Sandals     Footwear   \n",
              "4               5   45    Male         Blouse     Clothing   \n",
              "...           ...  ...     ...            ...          ...   \n",
              "3895         3896   40  Female         Hoodie     Clothing   \n",
              "3896         3897   52  Female       Backpack  Accessories   \n",
              "3897         3898   46  Female           Belt  Accessories   \n",
              "3898         3899   44  Female          Shoes     Footwear   \n",
              "3899         3900   52  Female        Handbag  Accessories   \n",
              "\n",
              "      Purchase Amount (USD)       Location Size      Color  Season  \\\n",
              "0                        53       Kentucky    L       Gray  Winter   \n",
              "1                        64          Maine    L     Maroon  Winter   \n",
              "2                        73  Massachusetts    S     Maroon  Spring   \n",
              "3                        90   Rhode Island    M     Maroon  Spring   \n",
              "4                        49         Oregon    M  Turquoise  Spring   \n",
              "...                     ...            ...  ...        ...     ...   \n",
              "3895                     28       Virginia    L  Turquoise  Summer   \n",
              "3896                     49           Iowa    L      White  Spring   \n",
              "3897                     33     New Jersey    L      Green  Spring   \n",
              "3898                     77      Minnesota    S      Brown  Summer   \n",
              "3899                     81     California    M      Beige  Spring   \n",
              "\n",
              "      Review Rating Subscription Status   Shipping Type Discount Applied  \\\n",
              "0               3.1                 Yes         Express              Yes   \n",
              "1               3.1                 Yes         Express              Yes   \n",
              "2               3.1                 Yes   Free Shipping              Yes   \n",
              "3               3.5                 Yes    Next Day Air              Yes   \n",
              "4               2.7                 Yes   Free Shipping              Yes   \n",
              "...             ...                 ...             ...              ...   \n",
              "3895            4.2                  No  2-Day Shipping               No   \n",
              "3896            4.5                  No    Store Pickup               No   \n",
              "3897            2.9                  No        Standard               No   \n",
              "3898            3.8                  No         Express               No   \n",
              "3899            3.1                  No    Store Pickup               No   \n",
              "\n",
              "     Promo Code Used  Previous Purchases Payment Method Frequency of Purchases  \n",
              "0                Yes                  14          Venmo            Fortnightly  \n",
              "1                Yes                   2           Cash            Fortnightly  \n",
              "2                Yes                  23    Credit Card                 Weekly  \n",
              "3                Yes                  49         PayPal                 Weekly  \n",
              "4                Yes                  31         PayPal               Annually  \n",
              "...              ...                 ...            ...                    ...  \n",
              "3895              No                  32          Venmo                 Weekly  \n",
              "3896              No                  41  Bank Transfer              Bi-Weekly  \n",
              "3897              No                  24          Venmo              Quarterly  \n",
              "3898              No                  24          Venmo                 Weekly  \n",
              "3899              No                  33          Venmo              Quarterly  \n",
              "\n",
              "[3900 rows x 18 columns]"
            ],
            "text/html": [
              "\n",
              "  <div id=\"df-7808603a-c5ec-436b-912b-3ed0bf7ba731\" class=\"colab-df-container\">\n",
              "    <div>\n",
              "<style scoped>\n",
              "    .dataframe tbody tr th:only-of-type {\n",
              "        vertical-align: middle;\n",
              "    }\n",
              "\n",
              "    .dataframe tbody tr th {\n",
              "        vertical-align: top;\n",
              "    }\n",
              "\n",
              "    .dataframe thead th {\n",
              "        text-align: right;\n",
              "    }\n",
              "</style>\n",
              "<table border=\"1\" class=\"dataframe\">\n",
              "  <thead>\n",
              "    <tr style=\"text-align: right;\">\n",
              "      <th></th>\n",
              "      <th>Customer ID</th>\n",
              "      <th>Age</th>\n",
              "      <th>Gender</th>\n",
              "      <th>Item Purchased</th>\n",
              "      <th>Category</th>\n",
              "      <th>Purchase Amount (USD)</th>\n",
              "      <th>Location</th>\n",
              "      <th>Size</th>\n",
              "      <th>Color</th>\n",
              "      <th>Season</th>\n",
              "      <th>Review Rating</th>\n",
              "      <th>Subscription Status</th>\n",
              "      <th>Shipping Type</th>\n",
              "      <th>Discount Applied</th>\n",
              "      <th>Promo Code Used</th>\n",
              "      <th>Previous Purchases</th>\n",
              "      <th>Payment Method</th>\n",
              "      <th>Frequency of Purchases</th>\n",
              "    </tr>\n",
              "  </thead>\n",
              "  <tbody>\n",
              "    <tr>\n",
              "      <th>0</th>\n",
              "      <td>1</td>\n",
              "      <td>55</td>\n",
              "      <td>Male</td>\n",
              "      <td>Blouse</td>\n",
              "      <td>Clothing</td>\n",
              "      <td>53</td>\n",
              "      <td>Kentucky</td>\n",
              "      <td>L</td>\n",
              "      <td>Gray</td>\n",
              "      <td>Winter</td>\n",
              "      <td>3.1</td>\n",
              "      <td>Yes</td>\n",
              "      <td>Express</td>\n",
              "      <td>Yes</td>\n",
              "      <td>Yes</td>\n",
              "      <td>14</td>\n",
              "      <td>Venmo</td>\n",
              "      <td>Fortnightly</td>\n",
              "    </tr>\n",
              "    <tr>\n",
              "      <th>1</th>\n",
              "      <td>2</td>\n",
              "      <td>19</td>\n",
              "      <td>Male</td>\n",
              "      <td>Sweater</td>\n",
              "      <td>Clothing</td>\n",
              "      <td>64</td>\n",
              "      <td>Maine</td>\n",
              "      <td>L</td>\n",
              "      <td>Maroon</td>\n",
              "      <td>Winter</td>\n",
              "      <td>3.1</td>\n",
              "      <td>Yes</td>\n",
              "      <td>Express</td>\n",
              "      <td>Yes</td>\n",
              "      <td>Yes</td>\n",
              "      <td>2</td>\n",
              "      <td>Cash</td>\n",
              "      <td>Fortnightly</td>\n",
              "    </tr>\n",
              "    <tr>\n",
              "      <th>2</th>\n",
              "      <td>3</td>\n",
              "      <td>50</td>\n",
              "      <td>Male</td>\n",
              "      <td>Jeans</td>\n",
              "      <td>Clothing</td>\n",
              "      <td>73</td>\n",
              "      <td>Massachusetts</td>\n",
              "      <td>S</td>\n",
              "      <td>Maroon</td>\n",
              "      <td>Spring</td>\n",
              "      <td>3.1</td>\n",
              "      <td>Yes</td>\n",
              "      <td>Free Shipping</td>\n",
              "      <td>Yes</td>\n",
              "      <td>Yes</td>\n",
              "      <td>23</td>\n",
              "      <td>Credit Card</td>\n",
              "      <td>Weekly</td>\n",
              "    </tr>\n",
              "    <tr>\n",
              "      <th>3</th>\n",
              "      <td>4</td>\n",
              "      <td>21</td>\n",
              "      <td>Male</td>\n",
              "      <td>Sandals</td>\n",
              "      <td>Footwear</td>\n",
              "      <td>90</td>\n",
              "      <td>Rhode Island</td>\n",
              "      <td>M</td>\n",
              "      <td>Maroon</td>\n",
              "      <td>Spring</td>\n",
              "      <td>3.5</td>\n",
              "      <td>Yes</td>\n",
              "      <td>Next Day Air</td>\n",
              "      <td>Yes</td>\n",
              "      <td>Yes</td>\n",
              "      <td>49</td>\n",
              "      <td>PayPal</td>\n",
              "      <td>Weekly</td>\n",
              "    </tr>\n",
              "    <tr>\n",
              "      <th>4</th>\n",
              "      <td>5</td>\n",
              "      <td>45</td>\n",
              "      <td>Male</td>\n",
              "      <td>Blouse</td>\n",
              "      <td>Clothing</td>\n",
              "      <td>49</td>\n",
              "      <td>Oregon</td>\n",
              "      <td>M</td>\n",
              "      <td>Turquoise</td>\n",
              "      <td>Spring</td>\n",
              "      <td>2.7</td>\n",
              "      <td>Yes</td>\n",
              "      <td>Free Shipping</td>\n",
              "      <td>Yes</td>\n",
              "      <td>Yes</td>\n",
              "      <td>31</td>\n",
              "      <td>PayPal</td>\n",
              "      <td>Annually</td>\n",
              "    </tr>\n",
              "    <tr>\n",
              "      <th>...</th>\n",
              "      <td>...</td>\n",
              "      <td>...</td>\n",
              "      <td>...</td>\n",
              "      <td>...</td>\n",
              "      <td>...</td>\n",
              "      <td>...</td>\n",
              "      <td>...</td>\n",
              "      <td>...</td>\n",
              "      <td>...</td>\n",
              "      <td>...</td>\n",
              "      <td>...</td>\n",
              "      <td>...</td>\n",
              "      <td>...</td>\n",
              "      <td>...</td>\n",
              "      <td>...</td>\n",
              "      <td>...</td>\n",
              "      <td>...</td>\n",
              "      <td>...</td>\n",
              "    </tr>\n",
              "    <tr>\n",
              "      <th>3895</th>\n",
              "      <td>3896</td>\n",
              "      <td>40</td>\n",
              "      <td>Female</td>\n",
              "      <td>Hoodie</td>\n",
              "      <td>Clothing</td>\n",
              "      <td>28</td>\n",
              "      <td>Virginia</td>\n",
              "      <td>L</td>\n",
              "      <td>Turquoise</td>\n",
              "      <td>Summer</td>\n",
              "      <td>4.2</td>\n",
              "      <td>No</td>\n",
              "      <td>2-Day Shipping</td>\n",
              "      <td>No</td>\n",
              "      <td>No</td>\n",
              "      <td>32</td>\n",
              "      <td>Venmo</td>\n",
              "      <td>Weekly</td>\n",
              "    </tr>\n",
              "    <tr>\n",
              "      <th>3896</th>\n",
              "      <td>3897</td>\n",
              "      <td>52</td>\n",
              "      <td>Female</td>\n",
              "      <td>Backpack</td>\n",
              "      <td>Accessories</td>\n",
              "      <td>49</td>\n",
              "      <td>Iowa</td>\n",
              "      <td>L</td>\n",
              "      <td>White</td>\n",
              "      <td>Spring</td>\n",
              "      <td>4.5</td>\n",
              "      <td>No</td>\n",
              "      <td>Store Pickup</td>\n",
              "      <td>No</td>\n",
              "      <td>No</td>\n",
              "      <td>41</td>\n",
              "      <td>Bank Transfer</td>\n",
              "      <td>Bi-Weekly</td>\n",
              "    </tr>\n",
              "    <tr>\n",
              "      <th>3897</th>\n",
              "      <td>3898</td>\n",
              "      <td>46</td>\n",
              "      <td>Female</td>\n",
              "      <td>Belt</td>\n",
              "      <td>Accessories</td>\n",
              "      <td>33</td>\n",
              "      <td>New Jersey</td>\n",
              "      <td>L</td>\n",
              "      <td>Green</td>\n",
              "      <td>Spring</td>\n",
              "      <td>2.9</td>\n",
              "      <td>No</td>\n",
              "      <td>Standard</td>\n",
              "      <td>No</td>\n",
              "      <td>No</td>\n",
              "      <td>24</td>\n",
              "      <td>Venmo</td>\n",
              "      <td>Quarterly</td>\n",
              "    </tr>\n",
              "    <tr>\n",
              "      <th>3898</th>\n",
              "      <td>3899</td>\n",
              "      <td>44</td>\n",
              "      <td>Female</td>\n",
              "      <td>Shoes</td>\n",
              "      <td>Footwear</td>\n",
              "      <td>77</td>\n",
              "      <td>Minnesota</td>\n",
              "      <td>S</td>\n",
              "      <td>Brown</td>\n",
              "      <td>Summer</td>\n",
              "      <td>3.8</td>\n",
              "      <td>No</td>\n",
              "      <td>Express</td>\n",
              "      <td>No</td>\n",
              "      <td>No</td>\n",
              "      <td>24</td>\n",
              "      <td>Venmo</td>\n",
              "      <td>Weekly</td>\n",
              "    </tr>\n",
              "    <tr>\n",
              "      <th>3899</th>\n",
              "      <td>3900</td>\n",
              "      <td>52</td>\n",
              "      <td>Female</td>\n",
              "      <td>Handbag</td>\n",
              "      <td>Accessories</td>\n",
              "      <td>81</td>\n",
              "      <td>California</td>\n",
              "      <td>M</td>\n",
              "      <td>Beige</td>\n",
              "      <td>Spring</td>\n",
              "      <td>3.1</td>\n",
              "      <td>No</td>\n",
              "      <td>Store Pickup</td>\n",
              "      <td>No</td>\n",
              "      <td>No</td>\n",
              "      <td>33</td>\n",
              "      <td>Venmo</td>\n",
              "      <td>Quarterly</td>\n",
              "    </tr>\n",
              "  </tbody>\n",
              "</table>\n",
              "<p>3900 rows × 18 columns</p>\n",
              "</div>\n",
              "    <div class=\"colab-df-buttons\">\n",
              "\n",
              "  <div class=\"colab-df-container\">\n",
              "    <button class=\"colab-df-convert\" onclick=\"convertToInteractive('df-7808603a-c5ec-436b-912b-3ed0bf7ba731')\"\n",
              "            title=\"Convert this dataframe to an interactive table.\"\n",
              "            style=\"display:none;\">\n",
              "\n",
              "  <svg xmlns=\"http://www.w3.org/2000/svg\" height=\"24px\" viewBox=\"0 -960 960 960\">\n",
              "    <path d=\"M120-120v-720h720v720H120Zm60-500h600v-160H180v160Zm220 220h160v-160H400v160Zm0 220h160v-160H400v160ZM180-400h160v-160H180v160Zm440 0h160v-160H620v160ZM180-180h160v-160H180v160Zm440 0h160v-160H620v160Z\"/>\n",
              "  </svg>\n",
              "    </button>\n",
              "\n",
              "  <style>\n",
              "    .colab-df-container {\n",
              "      display:flex;\n",
              "      gap: 12px;\n",
              "    }\n",
              "\n",
              "    .colab-df-convert {\n",
              "      background-color: #E8F0FE;\n",
              "      border: none;\n",
              "      border-radius: 50%;\n",
              "      cursor: pointer;\n",
              "      display: none;\n",
              "      fill: #1967D2;\n",
              "      height: 32px;\n",
              "      padding: 0 0 0 0;\n",
              "      width: 32px;\n",
              "    }\n",
              "\n",
              "    .colab-df-convert:hover {\n",
              "      background-color: #E2EBFA;\n",
              "      box-shadow: 0px 1px 2px rgba(60, 64, 67, 0.3), 0px 1px 3px 1px rgba(60, 64, 67, 0.15);\n",
              "      fill: #174EA6;\n",
              "    }\n",
              "\n",
              "    .colab-df-buttons div {\n",
              "      margin-bottom: 4px;\n",
              "    }\n",
              "\n",
              "    [theme=dark] .colab-df-convert {\n",
              "      background-color: #3B4455;\n",
              "      fill: #D2E3FC;\n",
              "    }\n",
              "\n",
              "    [theme=dark] .colab-df-convert:hover {\n",
              "      background-color: #434B5C;\n",
              "      box-shadow: 0px 1px 3px 1px rgba(0, 0, 0, 0.15);\n",
              "      filter: drop-shadow(0px 1px 2px rgba(0, 0, 0, 0.3));\n",
              "      fill: #FFFFFF;\n",
              "    }\n",
              "  </style>\n",
              "\n",
              "    <script>\n",
              "      const buttonEl =\n",
              "        document.querySelector('#df-7808603a-c5ec-436b-912b-3ed0bf7ba731 button.colab-df-convert');\n",
              "      buttonEl.style.display =\n",
              "        google.colab.kernel.accessAllowed ? 'block' : 'none';\n",
              "\n",
              "      async function convertToInteractive(key) {\n",
              "        const element = document.querySelector('#df-7808603a-c5ec-436b-912b-3ed0bf7ba731');\n",
              "        const dataTable =\n",
              "          await google.colab.kernel.invokeFunction('convertToInteractive',\n",
              "                                                    [key], {});\n",
              "        if (!dataTable) return;\n",
              "\n",
              "        const docLinkHtml = 'Like what you see? Visit the ' +\n",
              "          '<a target=\"_blank\" href=https://colab.research.google.com/notebooks/data_table.ipynb>data table notebook</a>'\n",
              "          + ' to learn more about interactive tables.';\n",
              "        element.innerHTML = '';\n",
              "        dataTable['output_type'] = 'display_data';\n",
              "        await google.colab.output.renderOutput(dataTable, element);\n",
              "        const docLink = document.createElement('div');\n",
              "        docLink.innerHTML = docLinkHtml;\n",
              "        element.appendChild(docLink);\n",
              "      }\n",
              "    </script>\n",
              "  </div>\n",
              "\n",
              "\n",
              "<div id=\"df-3db059eb-3094-4786-8136-3d574b70bae6\">\n",
              "  <button class=\"colab-df-quickchart\" onclick=\"quickchart('df-3db059eb-3094-4786-8136-3d574b70bae6')\"\n",
              "            title=\"Suggest charts\"\n",
              "            style=\"display:none;\">\n",
              "\n",
              "<svg xmlns=\"http://www.w3.org/2000/svg\" height=\"24px\"viewBox=\"0 0 24 24\"\n",
              "     width=\"24px\">\n",
              "    <g>\n",
              "        <path d=\"M19 3H5c-1.1 0-2 .9-2 2v14c0 1.1.9 2 2 2h14c1.1 0 2-.9 2-2V5c0-1.1-.9-2-2-2zM9 17H7v-7h2v7zm4 0h-2V7h2v10zm4 0h-2v-4h2v4z\"/>\n",
              "    </g>\n",
              "</svg>\n",
              "  </button>\n",
              "\n",
              "<style>\n",
              "  .colab-df-quickchart {\n",
              "      --bg-color: #E8F0FE;\n",
              "      --fill-color: #1967D2;\n",
              "      --hover-bg-color: #E2EBFA;\n",
              "      --hover-fill-color: #174EA6;\n",
              "      --disabled-fill-color: #AAA;\n",
              "      --disabled-bg-color: #DDD;\n",
              "  }\n",
              "\n",
              "  [theme=dark] .colab-df-quickchart {\n",
              "      --bg-color: #3B4455;\n",
              "      --fill-color: #D2E3FC;\n",
              "      --hover-bg-color: #434B5C;\n",
              "      --hover-fill-color: #FFFFFF;\n",
              "      --disabled-bg-color: #3B4455;\n",
              "      --disabled-fill-color: #666;\n",
              "  }\n",
              "\n",
              "  .colab-df-quickchart {\n",
              "    background-color: var(--bg-color);\n",
              "    border: none;\n",
              "    border-radius: 50%;\n",
              "    cursor: pointer;\n",
              "    display: none;\n",
              "    fill: var(--fill-color);\n",
              "    height: 32px;\n",
              "    padding: 0;\n",
              "    width: 32px;\n",
              "  }\n",
              "\n",
              "  .colab-df-quickchart:hover {\n",
              "    background-color: var(--hover-bg-color);\n",
              "    box-shadow: 0 1px 2px rgba(60, 64, 67, 0.3), 0 1px 3px 1px rgba(60, 64, 67, 0.15);\n",
              "    fill: var(--button-hover-fill-color);\n",
              "  }\n",
              "\n",
              "  .colab-df-quickchart-complete:disabled,\n",
              "  .colab-df-quickchart-complete:disabled:hover {\n",
              "    background-color: var(--disabled-bg-color);\n",
              "    fill: var(--disabled-fill-color);\n",
              "    box-shadow: none;\n",
              "  }\n",
              "\n",
              "  .colab-df-spinner {\n",
              "    border: 2px solid var(--fill-color);\n",
              "    border-color: transparent;\n",
              "    border-bottom-color: var(--fill-color);\n",
              "    animation:\n",
              "      spin 1s steps(1) infinite;\n",
              "  }\n",
              "\n",
              "  @keyframes spin {\n",
              "    0% {\n",
              "      border-color: transparent;\n",
              "      border-bottom-color: var(--fill-color);\n",
              "      border-left-color: var(--fill-color);\n",
              "    }\n",
              "    20% {\n",
              "      border-color: transparent;\n",
              "      border-left-color: var(--fill-color);\n",
              "      border-top-color: var(--fill-color);\n",
              "    }\n",
              "    30% {\n",
              "      border-color: transparent;\n",
              "      border-left-color: var(--fill-color);\n",
              "      border-top-color: var(--fill-color);\n",
              "      border-right-color: var(--fill-color);\n",
              "    }\n",
              "    40% {\n",
              "      border-color: transparent;\n",
              "      border-right-color: var(--fill-color);\n",
              "      border-top-color: var(--fill-color);\n",
              "    }\n",
              "    60% {\n",
              "      border-color: transparent;\n",
              "      border-right-color: var(--fill-color);\n",
              "    }\n",
              "    80% {\n",
              "      border-color: transparent;\n",
              "      border-right-color: var(--fill-color);\n",
              "      border-bottom-color: var(--fill-color);\n",
              "    }\n",
              "    90% {\n",
              "      border-color: transparent;\n",
              "      border-bottom-color: var(--fill-color);\n",
              "    }\n",
              "  }\n",
              "</style>\n",
              "\n",
              "  <script>\n",
              "    async function quickchart(key) {\n",
              "      const quickchartButtonEl =\n",
              "        document.querySelector('#' + key + ' button');\n",
              "      quickchartButtonEl.disabled = true;  // To prevent multiple clicks.\n",
              "      quickchartButtonEl.classList.add('colab-df-spinner');\n",
              "      try {\n",
              "        const charts = await google.colab.kernel.invokeFunction(\n",
              "            'suggestCharts', [key], {});\n",
              "      } catch (error) {\n",
              "        console.error('Error during call to suggestCharts:', error);\n",
              "      }\n",
              "      quickchartButtonEl.classList.remove('colab-df-spinner');\n",
              "      quickchartButtonEl.classList.add('colab-df-quickchart-complete');\n",
              "    }\n",
              "    (() => {\n",
              "      let quickchartButtonEl =\n",
              "        document.querySelector('#df-3db059eb-3094-4786-8136-3d574b70bae6 button');\n",
              "      quickchartButtonEl.style.display =\n",
              "        google.colab.kernel.accessAllowed ? 'block' : 'none';\n",
              "    })();\n",
              "  </script>\n",
              "</div>\n",
              "\n",
              "  <div id=\"id_1eddf235-5c85-4ce9-b6a9-76671a4ac879\">\n",
              "    <style>\n",
              "      .colab-df-generate {\n",
              "        background-color: #E8F0FE;\n",
              "        border: none;\n",
              "        border-radius: 50%;\n",
              "        cursor: pointer;\n",
              "        display: none;\n",
              "        fill: #1967D2;\n",
              "        height: 32px;\n",
              "        padding: 0 0 0 0;\n",
              "        width: 32px;\n",
              "      }\n",
              "\n",
              "      .colab-df-generate:hover {\n",
              "        background-color: #E2EBFA;\n",
              "        box-shadow: 0px 1px 2px rgba(60, 64, 67, 0.3), 0px 1px 3px 1px rgba(60, 64, 67, 0.15);\n",
              "        fill: #174EA6;\n",
              "      }\n",
              "\n",
              "      [theme=dark] .colab-df-generate {\n",
              "        background-color: #3B4455;\n",
              "        fill: #D2E3FC;\n",
              "      }\n",
              "\n",
              "      [theme=dark] .colab-df-generate:hover {\n",
              "        background-color: #434B5C;\n",
              "        box-shadow: 0px 1px 3px 1px rgba(0, 0, 0, 0.15);\n",
              "        filter: drop-shadow(0px 1px 2px rgba(0, 0, 0, 0.3));\n",
              "        fill: #FFFFFF;\n",
              "      }\n",
              "    </style>\n",
              "    <button class=\"colab-df-generate\" onclick=\"generateWithVariable('shop')\"\n",
              "            title=\"Generate code using this dataframe.\"\n",
              "            style=\"display:none;\">\n",
              "\n",
              "  <svg xmlns=\"http://www.w3.org/2000/svg\" height=\"24px\"viewBox=\"0 0 24 24\"\n",
              "       width=\"24px\">\n",
              "    <path d=\"M7,19H8.4L18.45,9,17,7.55,7,17.6ZM5,21V16.75L18.45,3.32a2,2,0,0,1,2.83,0l1.4,1.43a1.91,1.91,0,0,1,.58,1.4,1.91,1.91,0,0,1-.58,1.4L9.25,21ZM18.45,9,17,7.55Zm-12,3A5.31,5.31,0,0,0,4.9,8.1,5.31,5.31,0,0,0,1,6.5,5.31,5.31,0,0,0,4.9,4.9,5.31,5.31,0,0,0,6.5,1,5.31,5.31,0,0,0,8.1,4.9,5.31,5.31,0,0,0,12,6.5,5.46,5.46,0,0,0,6.5,12Z\"/>\n",
              "  </svg>\n",
              "    </button>\n",
              "    <script>\n",
              "      (() => {\n",
              "      const buttonEl =\n",
              "        document.querySelector('#id_1eddf235-5c85-4ce9-b6a9-76671a4ac879 button.colab-df-generate');\n",
              "      buttonEl.style.display =\n",
              "        google.colab.kernel.accessAllowed ? 'block' : 'none';\n",
              "\n",
              "      buttonEl.onclick = () => {\n",
              "        google.colab.notebook.generateWithVariable('shop');\n",
              "      }\n",
              "      })();\n",
              "    </script>\n",
              "  </div>\n",
              "\n",
              "    </div>\n",
              "  </div>\n"
            ],
            "application/vnd.google.colaboratory.intrinsic+json": {
              "type": "dataframe",
              "variable_name": "shop",
              "summary": "{\n  \"name\": \"shop\",\n  \"rows\": 3900,\n  \"fields\": [\n    {\n      \"column\": \"Customer ID\",\n      \"properties\": {\n        \"dtype\": \"number\",\n        \"std\": 1125,\n        \"min\": 1,\n        \"max\": 3900,\n        \"num_unique_values\": 3900,\n        \"samples\": [\n          840,\n          1718,\n          322\n        ],\n        \"semantic_type\": \"\",\n        \"description\": \"\"\n      }\n    },\n    {\n      \"column\": \"Age\",\n      \"properties\": {\n        \"dtype\": \"number\",\n        \"std\": 15,\n        \"min\": 18,\n        \"max\": 70,\n        \"num_unique_values\": 53,\n        \"samples\": [\n          56,\n          24,\n          51\n        ],\n        \"semantic_type\": \"\",\n        \"description\": \"\"\n      }\n    },\n    {\n      \"column\": \"Gender\",\n      \"properties\": {\n        \"dtype\": \"category\",\n        \"num_unique_values\": 2,\n        \"samples\": [\n          \"Female\",\n          \"Male\"\n        ],\n        \"semantic_type\": \"\",\n        \"description\": \"\"\n      }\n    },\n    {\n      \"column\": \"Item Purchased\",\n      \"properties\": {\n        \"dtype\": \"category\",\n        \"num_unique_values\": 25,\n        \"samples\": [\n          \"Handbag\",\n          \"Jewelry\"\n        ],\n        \"semantic_type\": \"\",\n        \"description\": \"\"\n      }\n    },\n    {\n      \"column\": \"Category\",\n      \"properties\": {\n        \"dtype\": \"category\",\n        \"num_unique_values\": 4,\n        \"samples\": [\n          \"Footwear\",\n          \"Accessories\"\n        ],\n        \"semantic_type\": \"\",\n        \"description\": \"\"\n      }\n    },\n    {\n      \"column\": \"Purchase Amount (USD)\",\n      \"properties\": {\n        \"dtype\": \"number\",\n        \"std\": 23,\n        \"min\": 20,\n        \"max\": 100,\n        \"num_unique_values\": 81,\n        \"samples\": [\n          60,\n          53\n        ],\n        \"semantic_type\": \"\",\n        \"description\": \"\"\n      }\n    },\n    {\n      \"column\": \"Location\",\n      \"properties\": {\n        \"dtype\": \"category\",\n        \"num_unique_values\": 50,\n        \"samples\": [\n          \"New Hampshire\",\n          \"Connecticut\"\n        ],\n        \"semantic_type\": \"\",\n        \"description\": \"\"\n      }\n    },\n    {\n      \"column\": \"Size\",\n      \"properties\": {\n        \"dtype\": \"category\",\n        \"num_unique_values\": 4,\n        \"samples\": [\n          \"S\",\n          \"XL\"\n        ],\n        \"semantic_type\": \"\",\n        \"description\": \"\"\n      }\n    },\n    {\n      \"column\": \"Color\",\n      \"properties\": {\n        \"dtype\": \"category\",\n        \"num_unique_values\": 25,\n        \"samples\": [\n          \"Olive\",\n          \"Red\"\n        ],\n        \"semantic_type\": \"\",\n        \"description\": \"\"\n      }\n    },\n    {\n      \"column\": \"Season\",\n      \"properties\": {\n        \"dtype\": \"category\",\n        \"num_unique_values\": 4,\n        \"samples\": [\n          \"Spring\",\n          \"Fall\"\n        ],\n        \"semantic_type\": \"\",\n        \"description\": \"\"\n      }\n    },\n    {\n      \"column\": \"Review Rating\",\n      \"properties\": {\n        \"dtype\": \"number\",\n        \"std\": 0.7162228139312449,\n        \"min\": 2.5,\n        \"max\": 5.0,\n        \"num_unique_values\": 26,\n        \"samples\": [\n          4.9,\n          5.0\n        ],\n        \"semantic_type\": \"\",\n        \"description\": \"\"\n      }\n    },\n    {\n      \"column\": \"Subscription Status\",\n      \"properties\": {\n        \"dtype\": \"category\",\n        \"num_unique_values\": 2,\n        \"samples\": [\n          \"No\",\n          \"Yes\"\n        ],\n        \"semantic_type\": \"\",\n        \"description\": \"\"\n      }\n    },\n    {\n      \"column\": \"Shipping Type\",\n      \"properties\": {\n        \"dtype\": \"category\",\n        \"num_unique_values\": 6,\n        \"samples\": [\n          \"Express\",\n          \"Free Shipping\"\n        ],\n        \"semantic_type\": \"\",\n        \"description\": \"\"\n      }\n    },\n    {\n      \"column\": \"Discount Applied\",\n      \"properties\": {\n        \"dtype\": \"category\",\n        \"num_unique_values\": 2,\n        \"samples\": [\n          \"No\",\n          \"Yes\"\n        ],\n        \"semantic_type\": \"\",\n        \"description\": \"\"\n      }\n    },\n    {\n      \"column\": \"Promo Code Used\",\n      \"properties\": {\n        \"dtype\": \"category\",\n        \"num_unique_values\": 2,\n        \"samples\": [\n          \"No\",\n          \"Yes\"\n        ],\n        \"semantic_type\": \"\",\n        \"description\": \"\"\n      }\n    },\n    {\n      \"column\": \"Previous Purchases\",\n      \"properties\": {\n        \"dtype\": \"number\",\n        \"std\": 14,\n        \"min\": 1,\n        \"max\": 50,\n        \"num_unique_values\": 50,\n        \"samples\": [\n          36,\n          47\n        ],\n        \"semantic_type\": \"\",\n        \"description\": \"\"\n      }\n    },\n    {\n      \"column\": \"Payment Method\",\n      \"properties\": {\n        \"dtype\": \"category\",\n        \"num_unique_values\": 6,\n        \"samples\": [\n          \"Venmo\",\n          \"Cash\"\n        ],\n        \"semantic_type\": \"\",\n        \"description\": \"\"\n      }\n    },\n    {\n      \"column\": \"Frequency of Purchases\",\n      \"properties\": {\n        \"dtype\": \"category\",\n        \"num_unique_values\": 7,\n        \"samples\": [\n          \"Fortnightly\",\n          \"Weekly\"\n        ],\n        \"semantic_type\": \"\",\n        \"description\": \"\"\n      }\n    }\n  ]\n}"
            }
          },
          "metadata": {},
          "execution_count": 3
        }
      ],
      "source": [
        "# Load Dataset\n",
        "\n",
        "# #Connecting Google Drive with the Colab\n",
        "from google.colab import drive\n",
        "drive.mount('/content/drive')\n",
        "\n",
        "\n",
        "file_path = '/content/drive/MyDrive/Dataset/csv/shopping_trends_updated.csv'\n",
        "shop=pd.read_csv(file_path)\n",
        "\n",
        "shop\n"
      ],
      "id": "4CkvbW_SlZ_R"
    },
    {
      "cell_type": "markdown",
      "metadata": {
        "id": "x71ZqKXriCWQ"
      },
      "source": [
        "### Dataset First View"
      ],
      "id": "x71ZqKXriCWQ"
    },
    {
      "cell_type": "code",
      "execution_count": 4,
      "metadata": {
        "colab": {
          "base_uri": "https://localhost:8080/",
          "height": 293
        },
        "id": "LWNFOSvLl09H",
        "outputId": "9f35495a-3af5-4451-8dfe-c19c74313b04"
      },
      "outputs": [
        {
          "output_type": "execute_result",
          "data": {
            "text/plain": [
              "   Customer ID  Age Gender Item Purchased  Category  Purchase Amount (USD)  \\\n",
              "0            1   55   Male         Blouse  Clothing                     53   \n",
              "1            2   19   Male        Sweater  Clothing                     64   \n",
              "2            3   50   Male          Jeans  Clothing                     73   \n",
              "3            4   21   Male        Sandals  Footwear                     90   \n",
              "4            5   45   Male         Blouse  Clothing                     49   \n",
              "\n",
              "        Location Size      Color  Season  Review Rating Subscription Status  \\\n",
              "0       Kentucky    L       Gray  Winter            3.1                 Yes   \n",
              "1          Maine    L     Maroon  Winter            3.1                 Yes   \n",
              "2  Massachusetts    S     Maroon  Spring            3.1                 Yes   \n",
              "3   Rhode Island    M     Maroon  Spring            3.5                 Yes   \n",
              "4         Oregon    M  Turquoise  Spring            2.7                 Yes   \n",
              "\n",
              "   Shipping Type Discount Applied Promo Code Used  Previous Purchases  \\\n",
              "0        Express              Yes             Yes                  14   \n",
              "1        Express              Yes             Yes                   2   \n",
              "2  Free Shipping              Yes             Yes                  23   \n",
              "3   Next Day Air              Yes             Yes                  49   \n",
              "4  Free Shipping              Yes             Yes                  31   \n",
              "\n",
              "  Payment Method Frequency of Purchases  \n",
              "0          Venmo            Fortnightly  \n",
              "1           Cash            Fortnightly  \n",
              "2    Credit Card                 Weekly  \n",
              "3         PayPal                 Weekly  \n",
              "4         PayPal               Annually  "
            ],
            "text/html": [
              "\n",
              "  <div id=\"df-2d9bb989-1189-4003-a623-75f270783674\" class=\"colab-df-container\">\n",
              "    <div>\n",
              "<style scoped>\n",
              "    .dataframe tbody tr th:only-of-type {\n",
              "        vertical-align: middle;\n",
              "    }\n",
              "\n",
              "    .dataframe tbody tr th {\n",
              "        vertical-align: top;\n",
              "    }\n",
              "\n",
              "    .dataframe thead th {\n",
              "        text-align: right;\n",
              "    }\n",
              "</style>\n",
              "<table border=\"1\" class=\"dataframe\">\n",
              "  <thead>\n",
              "    <tr style=\"text-align: right;\">\n",
              "      <th></th>\n",
              "      <th>Customer ID</th>\n",
              "      <th>Age</th>\n",
              "      <th>Gender</th>\n",
              "      <th>Item Purchased</th>\n",
              "      <th>Category</th>\n",
              "      <th>Purchase Amount (USD)</th>\n",
              "      <th>Location</th>\n",
              "      <th>Size</th>\n",
              "      <th>Color</th>\n",
              "      <th>Season</th>\n",
              "      <th>Review Rating</th>\n",
              "      <th>Subscription Status</th>\n",
              "      <th>Shipping Type</th>\n",
              "      <th>Discount Applied</th>\n",
              "      <th>Promo Code Used</th>\n",
              "      <th>Previous Purchases</th>\n",
              "      <th>Payment Method</th>\n",
              "      <th>Frequency of Purchases</th>\n",
              "    </tr>\n",
              "  </thead>\n",
              "  <tbody>\n",
              "    <tr>\n",
              "      <th>0</th>\n",
              "      <td>1</td>\n",
              "      <td>55</td>\n",
              "      <td>Male</td>\n",
              "      <td>Blouse</td>\n",
              "      <td>Clothing</td>\n",
              "      <td>53</td>\n",
              "      <td>Kentucky</td>\n",
              "      <td>L</td>\n",
              "      <td>Gray</td>\n",
              "      <td>Winter</td>\n",
              "      <td>3.1</td>\n",
              "      <td>Yes</td>\n",
              "      <td>Express</td>\n",
              "      <td>Yes</td>\n",
              "      <td>Yes</td>\n",
              "      <td>14</td>\n",
              "      <td>Venmo</td>\n",
              "      <td>Fortnightly</td>\n",
              "    </tr>\n",
              "    <tr>\n",
              "      <th>1</th>\n",
              "      <td>2</td>\n",
              "      <td>19</td>\n",
              "      <td>Male</td>\n",
              "      <td>Sweater</td>\n",
              "      <td>Clothing</td>\n",
              "      <td>64</td>\n",
              "      <td>Maine</td>\n",
              "      <td>L</td>\n",
              "      <td>Maroon</td>\n",
              "      <td>Winter</td>\n",
              "      <td>3.1</td>\n",
              "      <td>Yes</td>\n",
              "      <td>Express</td>\n",
              "      <td>Yes</td>\n",
              "      <td>Yes</td>\n",
              "      <td>2</td>\n",
              "      <td>Cash</td>\n",
              "      <td>Fortnightly</td>\n",
              "    </tr>\n",
              "    <tr>\n",
              "      <th>2</th>\n",
              "      <td>3</td>\n",
              "      <td>50</td>\n",
              "      <td>Male</td>\n",
              "      <td>Jeans</td>\n",
              "      <td>Clothing</td>\n",
              "      <td>73</td>\n",
              "      <td>Massachusetts</td>\n",
              "      <td>S</td>\n",
              "      <td>Maroon</td>\n",
              "      <td>Spring</td>\n",
              "      <td>3.1</td>\n",
              "      <td>Yes</td>\n",
              "      <td>Free Shipping</td>\n",
              "      <td>Yes</td>\n",
              "      <td>Yes</td>\n",
              "      <td>23</td>\n",
              "      <td>Credit Card</td>\n",
              "      <td>Weekly</td>\n",
              "    </tr>\n",
              "    <tr>\n",
              "      <th>3</th>\n",
              "      <td>4</td>\n",
              "      <td>21</td>\n",
              "      <td>Male</td>\n",
              "      <td>Sandals</td>\n",
              "      <td>Footwear</td>\n",
              "      <td>90</td>\n",
              "      <td>Rhode Island</td>\n",
              "      <td>M</td>\n",
              "      <td>Maroon</td>\n",
              "      <td>Spring</td>\n",
              "      <td>3.5</td>\n",
              "      <td>Yes</td>\n",
              "      <td>Next Day Air</td>\n",
              "      <td>Yes</td>\n",
              "      <td>Yes</td>\n",
              "      <td>49</td>\n",
              "      <td>PayPal</td>\n",
              "      <td>Weekly</td>\n",
              "    </tr>\n",
              "    <tr>\n",
              "      <th>4</th>\n",
              "      <td>5</td>\n",
              "      <td>45</td>\n",
              "      <td>Male</td>\n",
              "      <td>Blouse</td>\n",
              "      <td>Clothing</td>\n",
              "      <td>49</td>\n",
              "      <td>Oregon</td>\n",
              "      <td>M</td>\n",
              "      <td>Turquoise</td>\n",
              "      <td>Spring</td>\n",
              "      <td>2.7</td>\n",
              "      <td>Yes</td>\n",
              "      <td>Free Shipping</td>\n",
              "      <td>Yes</td>\n",
              "      <td>Yes</td>\n",
              "      <td>31</td>\n",
              "      <td>PayPal</td>\n",
              "      <td>Annually</td>\n",
              "    </tr>\n",
              "  </tbody>\n",
              "</table>\n",
              "</div>\n",
              "    <div class=\"colab-df-buttons\">\n",
              "\n",
              "  <div class=\"colab-df-container\">\n",
              "    <button class=\"colab-df-convert\" onclick=\"convertToInteractive('df-2d9bb989-1189-4003-a623-75f270783674')\"\n",
              "            title=\"Convert this dataframe to an interactive table.\"\n",
              "            style=\"display:none;\">\n",
              "\n",
              "  <svg xmlns=\"http://www.w3.org/2000/svg\" height=\"24px\" viewBox=\"0 -960 960 960\">\n",
              "    <path d=\"M120-120v-720h720v720H120Zm60-500h600v-160H180v160Zm220 220h160v-160H400v160Zm0 220h160v-160H400v160ZM180-400h160v-160H180v160Zm440 0h160v-160H620v160ZM180-180h160v-160H180v160Zm440 0h160v-160H620v160Z\"/>\n",
              "  </svg>\n",
              "    </button>\n",
              "\n",
              "  <style>\n",
              "    .colab-df-container {\n",
              "      display:flex;\n",
              "      gap: 12px;\n",
              "    }\n",
              "\n",
              "    .colab-df-convert {\n",
              "      background-color: #E8F0FE;\n",
              "      border: none;\n",
              "      border-radius: 50%;\n",
              "      cursor: pointer;\n",
              "      display: none;\n",
              "      fill: #1967D2;\n",
              "      height: 32px;\n",
              "      padding: 0 0 0 0;\n",
              "      width: 32px;\n",
              "    }\n",
              "\n",
              "    .colab-df-convert:hover {\n",
              "      background-color: #E2EBFA;\n",
              "      box-shadow: 0px 1px 2px rgba(60, 64, 67, 0.3), 0px 1px 3px 1px rgba(60, 64, 67, 0.15);\n",
              "      fill: #174EA6;\n",
              "    }\n",
              "\n",
              "    .colab-df-buttons div {\n",
              "      margin-bottom: 4px;\n",
              "    }\n",
              "\n",
              "    [theme=dark] .colab-df-convert {\n",
              "      background-color: #3B4455;\n",
              "      fill: #D2E3FC;\n",
              "    }\n",
              "\n",
              "    [theme=dark] .colab-df-convert:hover {\n",
              "      background-color: #434B5C;\n",
              "      box-shadow: 0px 1px 3px 1px rgba(0, 0, 0, 0.15);\n",
              "      filter: drop-shadow(0px 1px 2px rgba(0, 0, 0, 0.3));\n",
              "      fill: #FFFFFF;\n",
              "    }\n",
              "  </style>\n",
              "\n",
              "    <script>\n",
              "      const buttonEl =\n",
              "        document.querySelector('#df-2d9bb989-1189-4003-a623-75f270783674 button.colab-df-convert');\n",
              "      buttonEl.style.display =\n",
              "        google.colab.kernel.accessAllowed ? 'block' : 'none';\n",
              "\n",
              "      async function convertToInteractive(key) {\n",
              "        const element = document.querySelector('#df-2d9bb989-1189-4003-a623-75f270783674');\n",
              "        const dataTable =\n",
              "          await google.colab.kernel.invokeFunction('convertToInteractive',\n",
              "                                                    [key], {});\n",
              "        if (!dataTable) return;\n",
              "\n",
              "        const docLinkHtml = 'Like what you see? Visit the ' +\n",
              "          '<a target=\"_blank\" href=https://colab.research.google.com/notebooks/data_table.ipynb>data table notebook</a>'\n",
              "          + ' to learn more about interactive tables.';\n",
              "        element.innerHTML = '';\n",
              "        dataTable['output_type'] = 'display_data';\n",
              "        await google.colab.output.renderOutput(dataTable, element);\n",
              "        const docLink = document.createElement('div');\n",
              "        docLink.innerHTML = docLinkHtml;\n",
              "        element.appendChild(docLink);\n",
              "      }\n",
              "    </script>\n",
              "  </div>\n",
              "\n",
              "\n",
              "<div id=\"df-b75d165f-187c-4fbb-aeac-dda16860ee78\">\n",
              "  <button class=\"colab-df-quickchart\" onclick=\"quickchart('df-b75d165f-187c-4fbb-aeac-dda16860ee78')\"\n",
              "            title=\"Suggest charts\"\n",
              "            style=\"display:none;\">\n",
              "\n",
              "<svg xmlns=\"http://www.w3.org/2000/svg\" height=\"24px\"viewBox=\"0 0 24 24\"\n",
              "     width=\"24px\">\n",
              "    <g>\n",
              "        <path d=\"M19 3H5c-1.1 0-2 .9-2 2v14c0 1.1.9 2 2 2h14c1.1 0 2-.9 2-2V5c0-1.1-.9-2-2-2zM9 17H7v-7h2v7zm4 0h-2V7h2v10zm4 0h-2v-4h2v4z\"/>\n",
              "    </g>\n",
              "</svg>\n",
              "  </button>\n",
              "\n",
              "<style>\n",
              "  .colab-df-quickchart {\n",
              "      --bg-color: #E8F0FE;\n",
              "      --fill-color: #1967D2;\n",
              "      --hover-bg-color: #E2EBFA;\n",
              "      --hover-fill-color: #174EA6;\n",
              "      --disabled-fill-color: #AAA;\n",
              "      --disabled-bg-color: #DDD;\n",
              "  }\n",
              "\n",
              "  [theme=dark] .colab-df-quickchart {\n",
              "      --bg-color: #3B4455;\n",
              "      --fill-color: #D2E3FC;\n",
              "      --hover-bg-color: #434B5C;\n",
              "      --hover-fill-color: #FFFFFF;\n",
              "      --disabled-bg-color: #3B4455;\n",
              "      --disabled-fill-color: #666;\n",
              "  }\n",
              "\n",
              "  .colab-df-quickchart {\n",
              "    background-color: var(--bg-color);\n",
              "    border: none;\n",
              "    border-radius: 50%;\n",
              "    cursor: pointer;\n",
              "    display: none;\n",
              "    fill: var(--fill-color);\n",
              "    height: 32px;\n",
              "    padding: 0;\n",
              "    width: 32px;\n",
              "  }\n",
              "\n",
              "  .colab-df-quickchart:hover {\n",
              "    background-color: var(--hover-bg-color);\n",
              "    box-shadow: 0 1px 2px rgba(60, 64, 67, 0.3), 0 1px 3px 1px rgba(60, 64, 67, 0.15);\n",
              "    fill: var(--button-hover-fill-color);\n",
              "  }\n",
              "\n",
              "  .colab-df-quickchart-complete:disabled,\n",
              "  .colab-df-quickchart-complete:disabled:hover {\n",
              "    background-color: var(--disabled-bg-color);\n",
              "    fill: var(--disabled-fill-color);\n",
              "    box-shadow: none;\n",
              "  }\n",
              "\n",
              "  .colab-df-spinner {\n",
              "    border: 2px solid var(--fill-color);\n",
              "    border-color: transparent;\n",
              "    border-bottom-color: var(--fill-color);\n",
              "    animation:\n",
              "      spin 1s steps(1) infinite;\n",
              "  }\n",
              "\n",
              "  @keyframes spin {\n",
              "    0% {\n",
              "      border-color: transparent;\n",
              "      border-bottom-color: var(--fill-color);\n",
              "      border-left-color: var(--fill-color);\n",
              "    }\n",
              "    20% {\n",
              "      border-color: transparent;\n",
              "      border-left-color: var(--fill-color);\n",
              "      border-top-color: var(--fill-color);\n",
              "    }\n",
              "    30% {\n",
              "      border-color: transparent;\n",
              "      border-left-color: var(--fill-color);\n",
              "      border-top-color: var(--fill-color);\n",
              "      border-right-color: var(--fill-color);\n",
              "    }\n",
              "    40% {\n",
              "      border-color: transparent;\n",
              "      border-right-color: var(--fill-color);\n",
              "      border-top-color: var(--fill-color);\n",
              "    }\n",
              "    60% {\n",
              "      border-color: transparent;\n",
              "      border-right-color: var(--fill-color);\n",
              "    }\n",
              "    80% {\n",
              "      border-color: transparent;\n",
              "      border-right-color: var(--fill-color);\n",
              "      border-bottom-color: var(--fill-color);\n",
              "    }\n",
              "    90% {\n",
              "      border-color: transparent;\n",
              "      border-bottom-color: var(--fill-color);\n",
              "    }\n",
              "  }\n",
              "</style>\n",
              "\n",
              "  <script>\n",
              "    async function quickchart(key) {\n",
              "      const quickchartButtonEl =\n",
              "        document.querySelector('#' + key + ' button');\n",
              "      quickchartButtonEl.disabled = true;  // To prevent multiple clicks.\n",
              "      quickchartButtonEl.classList.add('colab-df-spinner');\n",
              "      try {\n",
              "        const charts = await google.colab.kernel.invokeFunction(\n",
              "            'suggestCharts', [key], {});\n",
              "      } catch (error) {\n",
              "        console.error('Error during call to suggestCharts:', error);\n",
              "      }\n",
              "      quickchartButtonEl.classList.remove('colab-df-spinner');\n",
              "      quickchartButtonEl.classList.add('colab-df-quickchart-complete');\n",
              "    }\n",
              "    (() => {\n",
              "      let quickchartButtonEl =\n",
              "        document.querySelector('#df-b75d165f-187c-4fbb-aeac-dda16860ee78 button');\n",
              "      quickchartButtonEl.style.display =\n",
              "        google.colab.kernel.accessAllowed ? 'block' : 'none';\n",
              "    })();\n",
              "  </script>\n",
              "</div>\n",
              "\n",
              "    </div>\n",
              "  </div>\n"
            ],
            "application/vnd.google.colaboratory.intrinsic+json": {
              "type": "dataframe",
              "variable_name": "shop",
              "summary": "{\n  \"name\": \"shop\",\n  \"rows\": 3900,\n  \"fields\": [\n    {\n      \"column\": \"Customer ID\",\n      \"properties\": {\n        \"dtype\": \"number\",\n        \"std\": 1125,\n        \"min\": 1,\n        \"max\": 3900,\n        \"num_unique_values\": 3900,\n        \"samples\": [\n          840,\n          1718,\n          322\n        ],\n        \"semantic_type\": \"\",\n        \"description\": \"\"\n      }\n    },\n    {\n      \"column\": \"Age\",\n      \"properties\": {\n        \"dtype\": \"number\",\n        \"std\": 15,\n        \"min\": 18,\n        \"max\": 70,\n        \"num_unique_values\": 53,\n        \"samples\": [\n          56,\n          24,\n          51\n        ],\n        \"semantic_type\": \"\",\n        \"description\": \"\"\n      }\n    },\n    {\n      \"column\": \"Gender\",\n      \"properties\": {\n        \"dtype\": \"category\",\n        \"num_unique_values\": 2,\n        \"samples\": [\n          \"Female\",\n          \"Male\"\n        ],\n        \"semantic_type\": \"\",\n        \"description\": \"\"\n      }\n    },\n    {\n      \"column\": \"Item Purchased\",\n      \"properties\": {\n        \"dtype\": \"category\",\n        \"num_unique_values\": 25,\n        \"samples\": [\n          \"Handbag\",\n          \"Jewelry\"\n        ],\n        \"semantic_type\": \"\",\n        \"description\": \"\"\n      }\n    },\n    {\n      \"column\": \"Category\",\n      \"properties\": {\n        \"dtype\": \"category\",\n        \"num_unique_values\": 4,\n        \"samples\": [\n          \"Footwear\",\n          \"Accessories\"\n        ],\n        \"semantic_type\": \"\",\n        \"description\": \"\"\n      }\n    },\n    {\n      \"column\": \"Purchase Amount (USD)\",\n      \"properties\": {\n        \"dtype\": \"number\",\n        \"std\": 23,\n        \"min\": 20,\n        \"max\": 100,\n        \"num_unique_values\": 81,\n        \"samples\": [\n          60,\n          53\n        ],\n        \"semantic_type\": \"\",\n        \"description\": \"\"\n      }\n    },\n    {\n      \"column\": \"Location\",\n      \"properties\": {\n        \"dtype\": \"category\",\n        \"num_unique_values\": 50,\n        \"samples\": [\n          \"New Hampshire\",\n          \"Connecticut\"\n        ],\n        \"semantic_type\": \"\",\n        \"description\": \"\"\n      }\n    },\n    {\n      \"column\": \"Size\",\n      \"properties\": {\n        \"dtype\": \"category\",\n        \"num_unique_values\": 4,\n        \"samples\": [\n          \"S\",\n          \"XL\"\n        ],\n        \"semantic_type\": \"\",\n        \"description\": \"\"\n      }\n    },\n    {\n      \"column\": \"Color\",\n      \"properties\": {\n        \"dtype\": \"category\",\n        \"num_unique_values\": 25,\n        \"samples\": [\n          \"Olive\",\n          \"Red\"\n        ],\n        \"semantic_type\": \"\",\n        \"description\": \"\"\n      }\n    },\n    {\n      \"column\": \"Season\",\n      \"properties\": {\n        \"dtype\": \"category\",\n        \"num_unique_values\": 4,\n        \"samples\": [\n          \"Spring\",\n          \"Fall\"\n        ],\n        \"semantic_type\": \"\",\n        \"description\": \"\"\n      }\n    },\n    {\n      \"column\": \"Review Rating\",\n      \"properties\": {\n        \"dtype\": \"number\",\n        \"std\": 0.7162228139312449,\n        \"min\": 2.5,\n        \"max\": 5.0,\n        \"num_unique_values\": 26,\n        \"samples\": [\n          4.9,\n          5.0\n        ],\n        \"semantic_type\": \"\",\n        \"description\": \"\"\n      }\n    },\n    {\n      \"column\": \"Subscription Status\",\n      \"properties\": {\n        \"dtype\": \"category\",\n        \"num_unique_values\": 2,\n        \"samples\": [\n          \"No\",\n          \"Yes\"\n        ],\n        \"semantic_type\": \"\",\n        \"description\": \"\"\n      }\n    },\n    {\n      \"column\": \"Shipping Type\",\n      \"properties\": {\n        \"dtype\": \"category\",\n        \"num_unique_values\": 6,\n        \"samples\": [\n          \"Express\",\n          \"Free Shipping\"\n        ],\n        \"semantic_type\": \"\",\n        \"description\": \"\"\n      }\n    },\n    {\n      \"column\": \"Discount Applied\",\n      \"properties\": {\n        \"dtype\": \"category\",\n        \"num_unique_values\": 2,\n        \"samples\": [\n          \"No\",\n          \"Yes\"\n        ],\n        \"semantic_type\": \"\",\n        \"description\": \"\"\n      }\n    },\n    {\n      \"column\": \"Promo Code Used\",\n      \"properties\": {\n        \"dtype\": \"category\",\n        \"num_unique_values\": 2,\n        \"samples\": [\n          \"No\",\n          \"Yes\"\n        ],\n        \"semantic_type\": \"\",\n        \"description\": \"\"\n      }\n    },\n    {\n      \"column\": \"Previous Purchases\",\n      \"properties\": {\n        \"dtype\": \"number\",\n        \"std\": 14,\n        \"min\": 1,\n        \"max\": 50,\n        \"num_unique_values\": 50,\n        \"samples\": [\n          36,\n          47\n        ],\n        \"semantic_type\": \"\",\n        \"description\": \"\"\n      }\n    },\n    {\n      \"column\": \"Payment Method\",\n      \"properties\": {\n        \"dtype\": \"category\",\n        \"num_unique_values\": 6,\n        \"samples\": [\n          \"Venmo\",\n          \"Cash\"\n        ],\n        \"semantic_type\": \"\",\n        \"description\": \"\"\n      }\n    },\n    {\n      \"column\": \"Frequency of Purchases\",\n      \"properties\": {\n        \"dtype\": \"category\",\n        \"num_unique_values\": 7,\n        \"samples\": [\n          \"Fortnightly\",\n          \"Weekly\"\n        ],\n        \"semantic_type\": \"\",\n        \"description\": \"\"\n      }\n    }\n  ]\n}"
            }
          },
          "metadata": {},
          "execution_count": 4
        }
      ],
      "source": [
        "# Dataset First Look\n",
        "shop.head()"
      ],
      "id": "LWNFOSvLl09H"
    },
    {
      "cell_type": "code",
      "execution_count": 5,
      "metadata": {
        "colab": {
          "base_uri": "https://localhost:8080/",
          "height": 310
        },
        "id": "I-TPlGhZD4Z6",
        "outputId": "8e738e87-0b88-44ec-c30c-5193054294ef"
      },
      "outputs": [
        {
          "output_type": "execute_result",
          "data": {
            "text/plain": [
              "      Customer ID  Age  Gender Item Purchased     Category  \\\n",
              "3895         3896   40  Female         Hoodie     Clothing   \n",
              "3896         3897   52  Female       Backpack  Accessories   \n",
              "3897         3898   46  Female           Belt  Accessories   \n",
              "3898         3899   44  Female          Shoes     Footwear   \n",
              "3899         3900   52  Female        Handbag  Accessories   \n",
              "\n",
              "      Purchase Amount (USD)    Location Size      Color  Season  \\\n",
              "3895                     28    Virginia    L  Turquoise  Summer   \n",
              "3896                     49        Iowa    L      White  Spring   \n",
              "3897                     33  New Jersey    L      Green  Spring   \n",
              "3898                     77   Minnesota    S      Brown  Summer   \n",
              "3899                     81  California    M      Beige  Spring   \n",
              "\n",
              "      Review Rating Subscription Status   Shipping Type Discount Applied  \\\n",
              "3895            4.2                  No  2-Day Shipping               No   \n",
              "3896            4.5                  No    Store Pickup               No   \n",
              "3897            2.9                  No        Standard               No   \n",
              "3898            3.8                  No         Express               No   \n",
              "3899            3.1                  No    Store Pickup               No   \n",
              "\n",
              "     Promo Code Used  Previous Purchases Payment Method Frequency of Purchases  \n",
              "3895              No                  32          Venmo                 Weekly  \n",
              "3896              No                  41  Bank Transfer              Bi-Weekly  \n",
              "3897              No                  24          Venmo              Quarterly  \n",
              "3898              No                  24          Venmo                 Weekly  \n",
              "3899              No                  33          Venmo              Quarterly  "
            ],
            "text/html": [
              "\n",
              "  <div id=\"df-cb2f28c9-b100-4347-96e8-33022602d84f\" class=\"colab-df-container\">\n",
              "    <div>\n",
              "<style scoped>\n",
              "    .dataframe tbody tr th:only-of-type {\n",
              "        vertical-align: middle;\n",
              "    }\n",
              "\n",
              "    .dataframe tbody tr th {\n",
              "        vertical-align: top;\n",
              "    }\n",
              "\n",
              "    .dataframe thead th {\n",
              "        text-align: right;\n",
              "    }\n",
              "</style>\n",
              "<table border=\"1\" class=\"dataframe\">\n",
              "  <thead>\n",
              "    <tr style=\"text-align: right;\">\n",
              "      <th></th>\n",
              "      <th>Customer ID</th>\n",
              "      <th>Age</th>\n",
              "      <th>Gender</th>\n",
              "      <th>Item Purchased</th>\n",
              "      <th>Category</th>\n",
              "      <th>Purchase Amount (USD)</th>\n",
              "      <th>Location</th>\n",
              "      <th>Size</th>\n",
              "      <th>Color</th>\n",
              "      <th>Season</th>\n",
              "      <th>Review Rating</th>\n",
              "      <th>Subscription Status</th>\n",
              "      <th>Shipping Type</th>\n",
              "      <th>Discount Applied</th>\n",
              "      <th>Promo Code Used</th>\n",
              "      <th>Previous Purchases</th>\n",
              "      <th>Payment Method</th>\n",
              "      <th>Frequency of Purchases</th>\n",
              "    </tr>\n",
              "  </thead>\n",
              "  <tbody>\n",
              "    <tr>\n",
              "      <th>3895</th>\n",
              "      <td>3896</td>\n",
              "      <td>40</td>\n",
              "      <td>Female</td>\n",
              "      <td>Hoodie</td>\n",
              "      <td>Clothing</td>\n",
              "      <td>28</td>\n",
              "      <td>Virginia</td>\n",
              "      <td>L</td>\n",
              "      <td>Turquoise</td>\n",
              "      <td>Summer</td>\n",
              "      <td>4.2</td>\n",
              "      <td>No</td>\n",
              "      <td>2-Day Shipping</td>\n",
              "      <td>No</td>\n",
              "      <td>No</td>\n",
              "      <td>32</td>\n",
              "      <td>Venmo</td>\n",
              "      <td>Weekly</td>\n",
              "    </tr>\n",
              "    <tr>\n",
              "      <th>3896</th>\n",
              "      <td>3897</td>\n",
              "      <td>52</td>\n",
              "      <td>Female</td>\n",
              "      <td>Backpack</td>\n",
              "      <td>Accessories</td>\n",
              "      <td>49</td>\n",
              "      <td>Iowa</td>\n",
              "      <td>L</td>\n",
              "      <td>White</td>\n",
              "      <td>Spring</td>\n",
              "      <td>4.5</td>\n",
              "      <td>No</td>\n",
              "      <td>Store Pickup</td>\n",
              "      <td>No</td>\n",
              "      <td>No</td>\n",
              "      <td>41</td>\n",
              "      <td>Bank Transfer</td>\n",
              "      <td>Bi-Weekly</td>\n",
              "    </tr>\n",
              "    <tr>\n",
              "      <th>3897</th>\n",
              "      <td>3898</td>\n",
              "      <td>46</td>\n",
              "      <td>Female</td>\n",
              "      <td>Belt</td>\n",
              "      <td>Accessories</td>\n",
              "      <td>33</td>\n",
              "      <td>New Jersey</td>\n",
              "      <td>L</td>\n",
              "      <td>Green</td>\n",
              "      <td>Spring</td>\n",
              "      <td>2.9</td>\n",
              "      <td>No</td>\n",
              "      <td>Standard</td>\n",
              "      <td>No</td>\n",
              "      <td>No</td>\n",
              "      <td>24</td>\n",
              "      <td>Venmo</td>\n",
              "      <td>Quarterly</td>\n",
              "    </tr>\n",
              "    <tr>\n",
              "      <th>3898</th>\n",
              "      <td>3899</td>\n",
              "      <td>44</td>\n",
              "      <td>Female</td>\n",
              "      <td>Shoes</td>\n",
              "      <td>Footwear</td>\n",
              "      <td>77</td>\n",
              "      <td>Minnesota</td>\n",
              "      <td>S</td>\n",
              "      <td>Brown</td>\n",
              "      <td>Summer</td>\n",
              "      <td>3.8</td>\n",
              "      <td>No</td>\n",
              "      <td>Express</td>\n",
              "      <td>No</td>\n",
              "      <td>No</td>\n",
              "      <td>24</td>\n",
              "      <td>Venmo</td>\n",
              "      <td>Weekly</td>\n",
              "    </tr>\n",
              "    <tr>\n",
              "      <th>3899</th>\n",
              "      <td>3900</td>\n",
              "      <td>52</td>\n",
              "      <td>Female</td>\n",
              "      <td>Handbag</td>\n",
              "      <td>Accessories</td>\n",
              "      <td>81</td>\n",
              "      <td>California</td>\n",
              "      <td>M</td>\n",
              "      <td>Beige</td>\n",
              "      <td>Spring</td>\n",
              "      <td>3.1</td>\n",
              "      <td>No</td>\n",
              "      <td>Store Pickup</td>\n",
              "      <td>No</td>\n",
              "      <td>No</td>\n",
              "      <td>33</td>\n",
              "      <td>Venmo</td>\n",
              "      <td>Quarterly</td>\n",
              "    </tr>\n",
              "  </tbody>\n",
              "</table>\n",
              "</div>\n",
              "    <div class=\"colab-df-buttons\">\n",
              "\n",
              "  <div class=\"colab-df-container\">\n",
              "    <button class=\"colab-df-convert\" onclick=\"convertToInteractive('df-cb2f28c9-b100-4347-96e8-33022602d84f')\"\n",
              "            title=\"Convert this dataframe to an interactive table.\"\n",
              "            style=\"display:none;\">\n",
              "\n",
              "  <svg xmlns=\"http://www.w3.org/2000/svg\" height=\"24px\" viewBox=\"0 -960 960 960\">\n",
              "    <path d=\"M120-120v-720h720v720H120Zm60-500h600v-160H180v160Zm220 220h160v-160H400v160Zm0 220h160v-160H400v160ZM180-400h160v-160H180v160Zm440 0h160v-160H620v160ZM180-180h160v-160H180v160Zm440 0h160v-160H620v160Z\"/>\n",
              "  </svg>\n",
              "    </button>\n",
              "\n",
              "  <style>\n",
              "    .colab-df-container {\n",
              "      display:flex;\n",
              "      gap: 12px;\n",
              "    }\n",
              "\n",
              "    .colab-df-convert {\n",
              "      background-color: #E8F0FE;\n",
              "      border: none;\n",
              "      border-radius: 50%;\n",
              "      cursor: pointer;\n",
              "      display: none;\n",
              "      fill: #1967D2;\n",
              "      height: 32px;\n",
              "      padding: 0 0 0 0;\n",
              "      width: 32px;\n",
              "    }\n",
              "\n",
              "    .colab-df-convert:hover {\n",
              "      background-color: #E2EBFA;\n",
              "      box-shadow: 0px 1px 2px rgba(60, 64, 67, 0.3), 0px 1px 3px 1px rgba(60, 64, 67, 0.15);\n",
              "      fill: #174EA6;\n",
              "    }\n",
              "\n",
              "    .colab-df-buttons div {\n",
              "      margin-bottom: 4px;\n",
              "    }\n",
              "\n",
              "    [theme=dark] .colab-df-convert {\n",
              "      background-color: #3B4455;\n",
              "      fill: #D2E3FC;\n",
              "    }\n",
              "\n",
              "    [theme=dark] .colab-df-convert:hover {\n",
              "      background-color: #434B5C;\n",
              "      box-shadow: 0px 1px 3px 1px rgba(0, 0, 0, 0.15);\n",
              "      filter: drop-shadow(0px 1px 2px rgba(0, 0, 0, 0.3));\n",
              "      fill: #FFFFFF;\n",
              "    }\n",
              "  </style>\n",
              "\n",
              "    <script>\n",
              "      const buttonEl =\n",
              "        document.querySelector('#df-cb2f28c9-b100-4347-96e8-33022602d84f button.colab-df-convert');\n",
              "      buttonEl.style.display =\n",
              "        google.colab.kernel.accessAllowed ? 'block' : 'none';\n",
              "\n",
              "      async function convertToInteractive(key) {\n",
              "        const element = document.querySelector('#df-cb2f28c9-b100-4347-96e8-33022602d84f');\n",
              "        const dataTable =\n",
              "          await google.colab.kernel.invokeFunction('convertToInteractive',\n",
              "                                                    [key], {});\n",
              "        if (!dataTable) return;\n",
              "\n",
              "        const docLinkHtml = 'Like what you see? Visit the ' +\n",
              "          '<a target=\"_blank\" href=https://colab.research.google.com/notebooks/data_table.ipynb>data table notebook</a>'\n",
              "          + ' to learn more about interactive tables.';\n",
              "        element.innerHTML = '';\n",
              "        dataTable['output_type'] = 'display_data';\n",
              "        await google.colab.output.renderOutput(dataTable, element);\n",
              "        const docLink = document.createElement('div');\n",
              "        docLink.innerHTML = docLinkHtml;\n",
              "        element.appendChild(docLink);\n",
              "      }\n",
              "    </script>\n",
              "  </div>\n",
              "\n",
              "\n",
              "<div id=\"df-e0cc2132-820c-4883-894d-2cf9a305cd38\">\n",
              "  <button class=\"colab-df-quickchart\" onclick=\"quickchart('df-e0cc2132-820c-4883-894d-2cf9a305cd38')\"\n",
              "            title=\"Suggest charts\"\n",
              "            style=\"display:none;\">\n",
              "\n",
              "<svg xmlns=\"http://www.w3.org/2000/svg\" height=\"24px\"viewBox=\"0 0 24 24\"\n",
              "     width=\"24px\">\n",
              "    <g>\n",
              "        <path d=\"M19 3H5c-1.1 0-2 .9-2 2v14c0 1.1.9 2 2 2h14c1.1 0 2-.9 2-2V5c0-1.1-.9-2-2-2zM9 17H7v-7h2v7zm4 0h-2V7h2v10zm4 0h-2v-4h2v4z\"/>\n",
              "    </g>\n",
              "</svg>\n",
              "  </button>\n",
              "\n",
              "<style>\n",
              "  .colab-df-quickchart {\n",
              "      --bg-color: #E8F0FE;\n",
              "      --fill-color: #1967D2;\n",
              "      --hover-bg-color: #E2EBFA;\n",
              "      --hover-fill-color: #174EA6;\n",
              "      --disabled-fill-color: #AAA;\n",
              "      --disabled-bg-color: #DDD;\n",
              "  }\n",
              "\n",
              "  [theme=dark] .colab-df-quickchart {\n",
              "      --bg-color: #3B4455;\n",
              "      --fill-color: #D2E3FC;\n",
              "      --hover-bg-color: #434B5C;\n",
              "      --hover-fill-color: #FFFFFF;\n",
              "      --disabled-bg-color: #3B4455;\n",
              "      --disabled-fill-color: #666;\n",
              "  }\n",
              "\n",
              "  .colab-df-quickchart {\n",
              "    background-color: var(--bg-color);\n",
              "    border: none;\n",
              "    border-radius: 50%;\n",
              "    cursor: pointer;\n",
              "    display: none;\n",
              "    fill: var(--fill-color);\n",
              "    height: 32px;\n",
              "    padding: 0;\n",
              "    width: 32px;\n",
              "  }\n",
              "\n",
              "  .colab-df-quickchart:hover {\n",
              "    background-color: var(--hover-bg-color);\n",
              "    box-shadow: 0 1px 2px rgba(60, 64, 67, 0.3), 0 1px 3px 1px rgba(60, 64, 67, 0.15);\n",
              "    fill: var(--button-hover-fill-color);\n",
              "  }\n",
              "\n",
              "  .colab-df-quickchart-complete:disabled,\n",
              "  .colab-df-quickchart-complete:disabled:hover {\n",
              "    background-color: var(--disabled-bg-color);\n",
              "    fill: var(--disabled-fill-color);\n",
              "    box-shadow: none;\n",
              "  }\n",
              "\n",
              "  .colab-df-spinner {\n",
              "    border: 2px solid var(--fill-color);\n",
              "    border-color: transparent;\n",
              "    border-bottom-color: var(--fill-color);\n",
              "    animation:\n",
              "      spin 1s steps(1) infinite;\n",
              "  }\n",
              "\n",
              "  @keyframes spin {\n",
              "    0% {\n",
              "      border-color: transparent;\n",
              "      border-bottom-color: var(--fill-color);\n",
              "      border-left-color: var(--fill-color);\n",
              "    }\n",
              "    20% {\n",
              "      border-color: transparent;\n",
              "      border-left-color: var(--fill-color);\n",
              "      border-top-color: var(--fill-color);\n",
              "    }\n",
              "    30% {\n",
              "      border-color: transparent;\n",
              "      border-left-color: var(--fill-color);\n",
              "      border-top-color: var(--fill-color);\n",
              "      border-right-color: var(--fill-color);\n",
              "    }\n",
              "    40% {\n",
              "      border-color: transparent;\n",
              "      border-right-color: var(--fill-color);\n",
              "      border-top-color: var(--fill-color);\n",
              "    }\n",
              "    60% {\n",
              "      border-color: transparent;\n",
              "      border-right-color: var(--fill-color);\n",
              "    }\n",
              "    80% {\n",
              "      border-color: transparent;\n",
              "      border-right-color: var(--fill-color);\n",
              "      border-bottom-color: var(--fill-color);\n",
              "    }\n",
              "    90% {\n",
              "      border-color: transparent;\n",
              "      border-bottom-color: var(--fill-color);\n",
              "    }\n",
              "  }\n",
              "</style>\n",
              "\n",
              "  <script>\n",
              "    async function quickchart(key) {\n",
              "      const quickchartButtonEl =\n",
              "        document.querySelector('#' + key + ' button');\n",
              "      quickchartButtonEl.disabled = true;  // To prevent multiple clicks.\n",
              "      quickchartButtonEl.classList.add('colab-df-spinner');\n",
              "      try {\n",
              "        const charts = await google.colab.kernel.invokeFunction(\n",
              "            'suggestCharts', [key], {});\n",
              "      } catch (error) {\n",
              "        console.error('Error during call to suggestCharts:', error);\n",
              "      }\n",
              "      quickchartButtonEl.classList.remove('colab-df-spinner');\n",
              "      quickchartButtonEl.classList.add('colab-df-quickchart-complete');\n",
              "    }\n",
              "    (() => {\n",
              "      let quickchartButtonEl =\n",
              "        document.querySelector('#df-e0cc2132-820c-4883-894d-2cf9a305cd38 button');\n",
              "      quickchartButtonEl.style.display =\n",
              "        google.colab.kernel.accessAllowed ? 'block' : 'none';\n",
              "    })();\n",
              "  </script>\n",
              "</div>\n",
              "\n",
              "    </div>\n",
              "  </div>\n"
            ],
            "application/vnd.google.colaboratory.intrinsic+json": {
              "type": "dataframe",
              "summary": "{\n  \"name\": \"shop\",\n  \"rows\": 5,\n  \"fields\": [\n    {\n      \"column\": \"Customer ID\",\n      \"properties\": {\n        \"dtype\": \"number\",\n        \"std\": 1,\n        \"min\": 3896,\n        \"max\": 3900,\n        \"num_unique_values\": 5,\n        \"samples\": [\n          3897,\n          3900,\n          3898\n        ],\n        \"semantic_type\": \"\",\n        \"description\": \"\"\n      }\n    },\n    {\n      \"column\": \"Age\",\n      \"properties\": {\n        \"dtype\": \"number\",\n        \"std\": 5,\n        \"min\": 40,\n        \"max\": 52,\n        \"num_unique_values\": 4,\n        \"samples\": [\n          52,\n          44,\n          40\n        ],\n        \"semantic_type\": \"\",\n        \"description\": \"\"\n      }\n    },\n    {\n      \"column\": \"Gender\",\n      \"properties\": {\n        \"dtype\": \"category\",\n        \"num_unique_values\": 1,\n        \"samples\": [\n          \"Female\"\n        ],\n        \"semantic_type\": \"\",\n        \"description\": \"\"\n      }\n    },\n    {\n      \"column\": \"Item Purchased\",\n      \"properties\": {\n        \"dtype\": \"string\",\n        \"num_unique_values\": 5,\n        \"samples\": [\n          \"Backpack\"\n        ],\n        \"semantic_type\": \"\",\n        \"description\": \"\"\n      }\n    },\n    {\n      \"column\": \"Category\",\n      \"properties\": {\n        \"dtype\": \"string\",\n        \"num_unique_values\": 3,\n        \"samples\": [\n          \"Clothing\"\n        ],\n        \"semantic_type\": \"\",\n        \"description\": \"\"\n      }\n    },\n    {\n      \"column\": \"Purchase Amount (USD)\",\n      \"properties\": {\n        \"dtype\": \"number\",\n        \"std\": 24,\n        \"min\": 28,\n        \"max\": 81,\n        \"num_unique_values\": 5,\n        \"samples\": [\n          49\n        ],\n        \"semantic_type\": \"\",\n        \"description\": \"\"\n      }\n    },\n    {\n      \"column\": \"Location\",\n      \"properties\": {\n        \"dtype\": \"string\",\n        \"num_unique_values\": 5,\n        \"samples\": [\n          \"Iowa\"\n        ],\n        \"semantic_type\": \"\",\n        \"description\": \"\"\n      }\n    },\n    {\n      \"column\": \"Size\",\n      \"properties\": {\n        \"dtype\": \"string\",\n        \"num_unique_values\": 3,\n        \"samples\": [\n          \"L\"\n        ],\n        \"semantic_type\": \"\",\n        \"description\": \"\"\n      }\n    },\n    {\n      \"column\": \"Color\",\n      \"properties\": {\n        \"dtype\": \"string\",\n        \"num_unique_values\": 5,\n        \"samples\": [\n          \"White\"\n        ],\n        \"semantic_type\": \"\",\n        \"description\": \"\"\n      }\n    },\n    {\n      \"column\": \"Season\",\n      \"properties\": {\n        \"dtype\": \"category\",\n        \"num_unique_values\": 2,\n        \"samples\": [\n          \"Spring\"\n        ],\n        \"semantic_type\": \"\",\n        \"description\": \"\"\n      }\n    },\n    {\n      \"column\": \"Review Rating\",\n      \"properties\": {\n        \"dtype\": \"number\",\n        \"std\": 0.6892024376045112,\n        \"min\": 2.9,\n        \"max\": 4.5,\n        \"num_unique_values\": 5,\n        \"samples\": [\n          4.5\n        ],\n        \"semantic_type\": \"\",\n        \"description\": \"\"\n      }\n    },\n    {\n      \"column\": \"Subscription Status\",\n      \"properties\": {\n        \"dtype\": \"category\",\n        \"num_unique_values\": 1,\n        \"samples\": [\n          \"No\"\n        ],\n        \"semantic_type\": \"\",\n        \"description\": \"\"\n      }\n    },\n    {\n      \"column\": \"Shipping Type\",\n      \"properties\": {\n        \"dtype\": \"string\",\n        \"num_unique_values\": 4,\n        \"samples\": [\n          \"Store Pickup\"\n        ],\n        \"semantic_type\": \"\",\n        \"description\": \"\"\n      }\n    },\n    {\n      \"column\": \"Discount Applied\",\n      \"properties\": {\n        \"dtype\": \"category\",\n        \"num_unique_values\": 1,\n        \"samples\": [\n          \"No\"\n        ],\n        \"semantic_type\": \"\",\n        \"description\": \"\"\n      }\n    },\n    {\n      \"column\": \"Promo Code Used\",\n      \"properties\": {\n        \"dtype\": \"category\",\n        \"num_unique_values\": 1,\n        \"samples\": [\n          \"No\"\n        ],\n        \"semantic_type\": \"\",\n        \"description\": \"\"\n      }\n    },\n    {\n      \"column\": \"Previous Purchases\",\n      \"properties\": {\n        \"dtype\": \"number\",\n        \"std\": 7,\n        \"min\": 24,\n        \"max\": 41,\n        \"num_unique_values\": 4,\n        \"samples\": [\n          41\n        ],\n        \"semantic_type\": \"\",\n        \"description\": \"\"\n      }\n    },\n    {\n      \"column\": \"Payment Method\",\n      \"properties\": {\n        \"dtype\": \"category\",\n        \"num_unique_values\": 2,\n        \"samples\": [\n          \"Bank Transfer\"\n        ],\n        \"semantic_type\": \"\",\n        \"description\": \"\"\n      }\n    },\n    {\n      \"column\": \"Frequency of Purchases\",\n      \"properties\": {\n        \"dtype\": \"string\",\n        \"num_unique_values\": 3,\n        \"samples\": [\n          \"Weekly\"\n        ],\n        \"semantic_type\": \"\",\n        \"description\": \"\"\n      }\n    }\n  ]\n}"
            }
          },
          "metadata": {},
          "execution_count": 5
        }
      ],
      "source": [
        "# Dataset last Look\n",
        "shop.tail()"
      ],
      "id": "I-TPlGhZD4Z6"
    },
    {
      "cell_type": "markdown",
      "metadata": {
        "id": "7hBIi_osiCS2"
      },
      "source": [
        "### Dataset Rows & Columns count"
      ],
      "id": "7hBIi_osiCS2"
    },
    {
      "cell_type": "code",
      "execution_count": 6,
      "metadata": {
        "colab": {
          "base_uri": "https://localhost:8080/"
        },
        "id": "Kllu7SJgmLij",
        "outputId": "fd5c3a4b-8d14-4dd9-a87b-1d9b849a2320"
      },
      "outputs": [
        {
          "output_type": "execute_result",
          "data": {
            "text/plain": [
              "(3900, 18)"
            ]
          },
          "metadata": {},
          "execution_count": 6
        }
      ],
      "source": [
        "# Dataset Rows & Columns count\n",
        "shop.shape"
      ],
      "id": "Kllu7SJgmLij"
    },
    {
      "cell_type": "markdown",
      "metadata": {
        "id": "JlHwYmJAmNHm"
      },
      "source": [
        "### Dataset Information"
      ],
      "id": "JlHwYmJAmNHm"
    },
    {
      "cell_type": "code",
      "execution_count": 7,
      "metadata": {
        "colab": {
          "base_uri": "https://localhost:8080/"
        },
        "id": "e9hRXRi6meOf",
        "outputId": "e5b3e299-daff-4d9c-df86-97ea3620b4ee"
      },
      "outputs": [
        {
          "output_type": "stream",
          "name": "stdout",
          "text": [
            "<class 'pandas.core.frame.DataFrame'>\n",
            "RangeIndex: 3900 entries, 0 to 3899\n",
            "Data columns (total 18 columns):\n",
            " #   Column                  Non-Null Count  Dtype  \n",
            "---  ------                  --------------  -----  \n",
            " 0   Customer ID             3900 non-null   int64  \n",
            " 1   Age                     3900 non-null   int64  \n",
            " 2   Gender                  3900 non-null   object \n",
            " 3   Item Purchased          3900 non-null   object \n",
            " 4   Category                3900 non-null   object \n",
            " 5   Purchase Amount (USD)   3900 non-null   int64  \n",
            " 6   Location                3900 non-null   object \n",
            " 7   Size                    3900 non-null   object \n",
            " 8   Color                   3900 non-null   object \n",
            " 9   Season                  3900 non-null   object \n",
            " 10  Review Rating           3900 non-null   float64\n",
            " 11  Subscription Status     3900 non-null   object \n",
            " 12  Shipping Type           3900 non-null   object \n",
            " 13  Discount Applied        3900 non-null   object \n",
            " 14  Promo Code Used         3900 non-null   object \n",
            " 15  Previous Purchases      3900 non-null   int64  \n",
            " 16  Payment Method          3900 non-null   object \n",
            " 17  Frequency of Purchases  3900 non-null   object \n",
            "dtypes: float64(1), int64(4), object(13)\n",
            "memory usage: 548.6+ KB\n"
          ]
        }
      ],
      "source": [
        "# Dataset Info to get summary of dataset\n",
        "shop.info()"
      ],
      "id": "e9hRXRi6meOf"
    },
    {
      "cell_type": "markdown",
      "metadata": {
        "id": "1IJkjC8RFMEP"
      },
      "source": [
        "creating a data dictionary for a dataset using pandas, we can summarizes each column's details, including column names, data types, number of unique values, missing values, and sample values. This is helpful for understanding the structure and contents of the dataset."
      ],
      "id": "1IJkjC8RFMEP"
    },
    {
      "cell_type": "code",
      "execution_count": 8,
      "metadata": {
        "colab": {
          "base_uri": "https://localhost:8080/"
        },
        "id": "0id6mIrLErNC",
        "outputId": "3d16c568-7635-49a6-9dfb-1d93c720f50b"
      },
      "outputs": [
        {
          "output_type": "stream",
          "name": "stdout",
          "text": [
            "                                   Column Name Data Type  \\\n",
            "Customer ID                        Customer ID     int64   \n",
            "Age                                        Age     int64   \n",
            "Gender                                  Gender    object   \n",
            "Item Purchased                  Item Purchased    object   \n",
            "Category                              Category    object   \n",
            "Purchase Amount (USD)    Purchase Amount (USD)     int64   \n",
            "Location                              Location    object   \n",
            "Size                                      Size    object   \n",
            "Color                                    Color    object   \n",
            "Season                                  Season    object   \n",
            "Review Rating                    Review Rating   float64   \n",
            "Subscription Status        Subscription Status    object   \n",
            "Shipping Type                    Shipping Type    object   \n",
            "Discount Applied              Discount Applied    object   \n",
            "Promo Code Used                Promo Code Used    object   \n",
            "Previous Purchases          Previous Purchases     int64   \n",
            "Payment Method                  Payment Method    object   \n",
            "Frequency of Purchases  Frequency of Purchases    object   \n",
            "\n",
            "                        Number of Unique Values  Number of Missing Values  \\\n",
            "Customer ID                                3900                         0   \n",
            "Age                                          53                         0   \n",
            "Gender                                        2                         0   \n",
            "Item Purchased                               25                         0   \n",
            "Category                                      4                         0   \n",
            "Purchase Amount (USD)                        81                         0   \n",
            "Location                                     50                         0   \n",
            "Size                                          4                         0   \n",
            "Color                                        25                         0   \n",
            "Season                                        4                         0   \n",
            "Review Rating                                26                         0   \n",
            "Subscription Status                           2                         0   \n",
            "Shipping Type                                 6                         0   \n",
            "Discount Applied                              2                         0   \n",
            "Promo Code Used                               2                         0   \n",
            "Previous Purchases                           50                         0   \n",
            "Payment Method                                6                         0   \n",
            "Frequency of Purchases                        7                         0   \n",
            "\n",
            "                                                            Sample Values  \n",
            "Customer ID                                               [1, 2, 3, 4, 5]  \n",
            "Age                                                  [55, 19, 50, 21, 45]  \n",
            "Gender                                                     [Male, Female]  \n",
            "Item Purchased                [Blouse, Sweater, Jeans, Sandals, Sneakers]  \n",
            "Category                     [Clothing, Footwear, Outerwear, Accessories]  \n",
            "Purchase Amount (USD)                                [53, 64, 73, 90, 49]  \n",
            "Location                [Kentucky, Maine, Massachusetts, Rhode Island,...  \n",
            "Size                                                        [L, S, M, XL]  \n",
            "Color                          [Gray, Maroon, Turquoise, White, Charcoal]  \n",
            "Season                                     [Winter, Spring, Summer, Fall]  \n",
            "Review Rating                                   [3.1, 3.5, 2.7, 2.9, 3.2]  \n",
            "Subscription Status                                             [Yes, No]  \n",
            "Shipping Type           [Express, Free Shipping, Next Day Air, Standar...  \n",
            "Discount Applied                                                [Yes, No]  \n",
            "Promo Code Used                                                 [Yes, No]  \n",
            "Previous Purchases                                    [14, 2, 23, 49, 31]  \n",
            "Payment Method          [Venmo, Cash, Credit Card, PayPal, Bank Transfer]  \n",
            "Frequency of Purchases  [Fortnightly, Weekly, Annually, Quarterly, Bi-...  \n"
          ]
        }
      ],
      "source": [
        "# Creating Data dictionary\n",
        "import pandas as pd\n",
        "\n",
        "def create_data_dictionary(df):\n",
        "    data_dict = pd.DataFrame({\n",
        "        'Column Name': df.columns,\n",
        "        'Data Type': df.dtypes,\n",
        "        'Number of Unique Values': df.nunique(),\n",
        "        'Number of Missing Values': df.isnull().sum(),\n",
        "        'Sample Values': df.apply(lambda x: list(x.dropna().unique()[:5]))  # shows up to 5 unique values\n",
        "    })\n",
        "    return data_dict\n",
        "\n",
        "\n",
        "data_dictionary = create_data_dictionary(shop)\n",
        "print(data_dictionary)\n"
      ],
      "id": "0id6mIrLErNC"
    },
    {
      "cell_type": "markdown",
      "metadata": {
        "id": "35m5QtbWiB9F"
      },
      "source": [
        "#### Duplicate Values"
      ],
      "id": "35m5QtbWiB9F"
    },
    {
      "cell_type": "code",
      "execution_count": 9,
      "metadata": {
        "colab": {
          "base_uri": "https://localhost:8080/"
        },
        "id": "pZhAaeXcpBAt",
        "outputId": "7d8ec50e-fb6b-4f82-e5a1-21e17b2a25df"
      },
      "outputs": [
        {
          "output_type": "execute_result",
          "data": {
            "text/plain": [
              "0"
            ]
          },
          "metadata": {},
          "execution_count": 9
        }
      ],
      "source": [
        "# Dataset Duplicate Value Count\n",
        "shop.duplicated().sum()"
      ],
      "id": "pZhAaeXcpBAt"
    },
    {
      "cell_type": "markdown",
      "metadata": {
        "id": "GLuLzc8rpinN"
      },
      "source": [
        "there are no duplicate values"
      ],
      "id": "GLuLzc8rpinN"
    },
    {
      "cell_type": "markdown",
      "metadata": {
        "id": "PoPl-ycgm1ru"
      },
      "source": [
        "#### Missing Values/Null Values"
      ],
      "id": "PoPl-ycgm1ru"
    },
    {
      "cell_type": "code",
      "execution_count": 10,
      "metadata": {
        "colab": {
          "base_uri": "https://localhost:8080/"
        },
        "id": "GgHWkxvamxVg",
        "outputId": "8d5d0909-4cec-45e1-b70d-ba2b73414a6f"
      },
      "outputs": [
        {
          "output_type": "stream",
          "name": "stdout",
          "text": [
            "Customer ID               0\n",
            "Age                       0\n",
            "Gender                    0\n",
            "Item Purchased            0\n",
            "Category                  0\n",
            "Purchase Amount (USD)     0\n",
            "Location                  0\n",
            "Size                      0\n",
            "Color                     0\n",
            "Season                    0\n",
            "Review Rating             0\n",
            "Subscription Status       0\n",
            "Shipping Type             0\n",
            "Discount Applied          0\n",
            "Promo Code Used           0\n",
            "Previous Purchases        0\n",
            "Payment Method            0\n",
            "Frequency of Purchases    0\n",
            "dtype: int64\n"
          ]
        }
      ],
      "source": [
        "# Missing Values/Null Values Count\n",
        "print(shop.isnull().sum())"
      ],
      "id": "GgHWkxvamxVg"
    },
    {
      "cell_type": "code",
      "execution_count": 11,
      "metadata": {
        "colab": {
          "base_uri": "https://localhost:8080/"
        },
        "id": "vev2YuM9gKSR",
        "outputId": "8fe7f54b-816d-40f0-d9d3-5ab939844f0a"
      },
      "outputs": [
        {
          "output_type": "stream",
          "name": "stdout",
          "text": [
            "0\n"
          ]
        }
      ],
      "source": [
        "# Missing Values/Null Values Count\n",
        "print((shop.isnull().sum()).sum())"
      ],
      "id": "vev2YuM9gKSR"
    },
    {
      "cell_type": "markdown",
      "metadata": {
        "id": "H0kj-8xxnORC"
      },
      "source": [
        "### What did you know about your dataset?"
      ],
      "id": "H0kj-8xxnORC"
    },
    {
      "cell_type": "markdown",
      "metadata": {
        "id": "nA9Y7ga8ng1Z"
      },
      "source": [
        "## ***2. Understanding Your Variables***"
      ],
      "id": "nA9Y7ga8ng1Z"
    },
    {
      "cell_type": "code",
      "execution_count": 12,
      "metadata": {
        "colab": {
          "base_uri": "https://localhost:8080/"
        },
        "id": "XxYCaalemiXb",
        "outputId": "68d054a9-7607-43e8-c161-8b0a1f8ebfb4"
      },
      "outputs": [
        {
          "output_type": "execute_result",
          "data": {
            "text/plain": [
              "Index(['Customer ID', 'Age', 'Gender', 'Item Purchased', 'Category',\n",
              "       'Purchase Amount (USD)', 'Location', 'Size', 'Color', 'Season',\n",
              "       'Review Rating', 'Subscription Status', 'Shipping Type',\n",
              "       'Discount Applied', 'Promo Code Used', 'Previous Purchases',\n",
              "       'Payment Method', 'Frequency of Purchases'],\n",
              "      dtype='object')"
            ]
          },
          "metadata": {},
          "execution_count": 12
        }
      ],
      "source": [
        "# Dataset Columns\n",
        "shop.columns"
      ],
      "id": "XxYCaalemiXb"
    },
    {
      "cell_type": "code",
      "execution_count": 13,
      "metadata": {
        "colab": {
          "base_uri": "https://localhost:8080/"
        },
        "id": "2xdDkxB7oBnX",
        "outputId": "f997e6ff-2d63-475e-b332-4e0247c21ff5"
      },
      "outputs": [
        {
          "output_type": "stream",
          "name": "stdout",
          "text": [
            "Number of columns in Airbnb_df: 18\n"
          ]
        }
      ],
      "source": [
        "# Number of columns in Airbnb_df\n",
        "column_count = len(shop.columns)\n",
        "print(\"Number of columns in Airbnb_df:\", column_count)\n"
      ],
      "id": "2xdDkxB7oBnX"
    },
    {
      "cell_type": "code",
      "execution_count": 14,
      "metadata": {
        "colab": {
          "base_uri": "https://localhost:8080/",
          "height": 300
        },
        "id": "GRyRLp4QmfuR",
        "outputId": "88776e76-786b-4905-ee12-5ed886ad7cfa"
      },
      "outputs": [
        {
          "output_type": "execute_result",
          "data": {
            "text/plain": [
              "       Customer ID          Age  Purchase Amount (USD)  Review Rating  \\\n",
              "count  3900.000000  3900.000000            3900.000000    3900.000000   \n",
              "mean   1950.500000    44.068462              59.764359       3.749949   \n",
              "std    1125.977353    15.207589              23.685392       0.716223   \n",
              "min       1.000000    18.000000              20.000000       2.500000   \n",
              "25%     975.750000    31.000000              39.000000       3.100000   \n",
              "50%    1950.500000    44.000000              60.000000       3.700000   \n",
              "75%    2925.250000    57.000000              81.000000       4.400000   \n",
              "max    3900.000000    70.000000             100.000000       5.000000   \n",
              "\n",
              "       Previous Purchases  \n",
              "count         3900.000000  \n",
              "mean            25.351538  \n",
              "std             14.447125  \n",
              "min              1.000000  \n",
              "25%             13.000000  \n",
              "50%             25.000000  \n",
              "75%             38.000000  \n",
              "max             50.000000  "
            ],
            "text/html": [
              "\n",
              "  <div id=\"df-0f7f96d8-8db1-4195-8eea-c2d65eb7f32d\" class=\"colab-df-container\">\n",
              "    <div>\n",
              "<style scoped>\n",
              "    .dataframe tbody tr th:only-of-type {\n",
              "        vertical-align: middle;\n",
              "    }\n",
              "\n",
              "    .dataframe tbody tr th {\n",
              "        vertical-align: top;\n",
              "    }\n",
              "\n",
              "    .dataframe thead th {\n",
              "        text-align: right;\n",
              "    }\n",
              "</style>\n",
              "<table border=\"1\" class=\"dataframe\">\n",
              "  <thead>\n",
              "    <tr style=\"text-align: right;\">\n",
              "      <th></th>\n",
              "      <th>Customer ID</th>\n",
              "      <th>Age</th>\n",
              "      <th>Purchase Amount (USD)</th>\n",
              "      <th>Review Rating</th>\n",
              "      <th>Previous Purchases</th>\n",
              "    </tr>\n",
              "  </thead>\n",
              "  <tbody>\n",
              "    <tr>\n",
              "      <th>count</th>\n",
              "      <td>3900.000000</td>\n",
              "      <td>3900.000000</td>\n",
              "      <td>3900.000000</td>\n",
              "      <td>3900.000000</td>\n",
              "      <td>3900.000000</td>\n",
              "    </tr>\n",
              "    <tr>\n",
              "      <th>mean</th>\n",
              "      <td>1950.500000</td>\n",
              "      <td>44.068462</td>\n",
              "      <td>59.764359</td>\n",
              "      <td>3.749949</td>\n",
              "      <td>25.351538</td>\n",
              "    </tr>\n",
              "    <tr>\n",
              "      <th>std</th>\n",
              "      <td>1125.977353</td>\n",
              "      <td>15.207589</td>\n",
              "      <td>23.685392</td>\n",
              "      <td>0.716223</td>\n",
              "      <td>14.447125</td>\n",
              "    </tr>\n",
              "    <tr>\n",
              "      <th>min</th>\n",
              "      <td>1.000000</td>\n",
              "      <td>18.000000</td>\n",
              "      <td>20.000000</td>\n",
              "      <td>2.500000</td>\n",
              "      <td>1.000000</td>\n",
              "    </tr>\n",
              "    <tr>\n",
              "      <th>25%</th>\n",
              "      <td>975.750000</td>\n",
              "      <td>31.000000</td>\n",
              "      <td>39.000000</td>\n",
              "      <td>3.100000</td>\n",
              "      <td>13.000000</td>\n",
              "    </tr>\n",
              "    <tr>\n",
              "      <th>50%</th>\n",
              "      <td>1950.500000</td>\n",
              "      <td>44.000000</td>\n",
              "      <td>60.000000</td>\n",
              "      <td>3.700000</td>\n",
              "      <td>25.000000</td>\n",
              "    </tr>\n",
              "    <tr>\n",
              "      <th>75%</th>\n",
              "      <td>2925.250000</td>\n",
              "      <td>57.000000</td>\n",
              "      <td>81.000000</td>\n",
              "      <td>4.400000</td>\n",
              "      <td>38.000000</td>\n",
              "    </tr>\n",
              "    <tr>\n",
              "      <th>max</th>\n",
              "      <td>3900.000000</td>\n",
              "      <td>70.000000</td>\n",
              "      <td>100.000000</td>\n",
              "      <td>5.000000</td>\n",
              "      <td>50.000000</td>\n",
              "    </tr>\n",
              "  </tbody>\n",
              "</table>\n",
              "</div>\n",
              "    <div class=\"colab-df-buttons\">\n",
              "\n",
              "  <div class=\"colab-df-container\">\n",
              "    <button class=\"colab-df-convert\" onclick=\"convertToInteractive('df-0f7f96d8-8db1-4195-8eea-c2d65eb7f32d')\"\n",
              "            title=\"Convert this dataframe to an interactive table.\"\n",
              "            style=\"display:none;\">\n",
              "\n",
              "  <svg xmlns=\"http://www.w3.org/2000/svg\" height=\"24px\" viewBox=\"0 -960 960 960\">\n",
              "    <path d=\"M120-120v-720h720v720H120Zm60-500h600v-160H180v160Zm220 220h160v-160H400v160Zm0 220h160v-160H400v160ZM180-400h160v-160H180v160Zm440 0h160v-160H620v160ZM180-180h160v-160H180v160Zm440 0h160v-160H620v160Z\"/>\n",
              "  </svg>\n",
              "    </button>\n",
              "\n",
              "  <style>\n",
              "    .colab-df-container {\n",
              "      display:flex;\n",
              "      gap: 12px;\n",
              "    }\n",
              "\n",
              "    .colab-df-convert {\n",
              "      background-color: #E8F0FE;\n",
              "      border: none;\n",
              "      border-radius: 50%;\n",
              "      cursor: pointer;\n",
              "      display: none;\n",
              "      fill: #1967D2;\n",
              "      height: 32px;\n",
              "      padding: 0 0 0 0;\n",
              "      width: 32px;\n",
              "    }\n",
              "\n",
              "    .colab-df-convert:hover {\n",
              "      background-color: #E2EBFA;\n",
              "      box-shadow: 0px 1px 2px rgba(60, 64, 67, 0.3), 0px 1px 3px 1px rgba(60, 64, 67, 0.15);\n",
              "      fill: #174EA6;\n",
              "    }\n",
              "\n",
              "    .colab-df-buttons div {\n",
              "      margin-bottom: 4px;\n",
              "    }\n",
              "\n",
              "    [theme=dark] .colab-df-convert {\n",
              "      background-color: #3B4455;\n",
              "      fill: #D2E3FC;\n",
              "    }\n",
              "\n",
              "    [theme=dark] .colab-df-convert:hover {\n",
              "      background-color: #434B5C;\n",
              "      box-shadow: 0px 1px 3px 1px rgba(0, 0, 0, 0.15);\n",
              "      filter: drop-shadow(0px 1px 2px rgba(0, 0, 0, 0.3));\n",
              "      fill: #FFFFFF;\n",
              "    }\n",
              "  </style>\n",
              "\n",
              "    <script>\n",
              "      const buttonEl =\n",
              "        document.querySelector('#df-0f7f96d8-8db1-4195-8eea-c2d65eb7f32d button.colab-df-convert');\n",
              "      buttonEl.style.display =\n",
              "        google.colab.kernel.accessAllowed ? 'block' : 'none';\n",
              "\n",
              "      async function convertToInteractive(key) {\n",
              "        const element = document.querySelector('#df-0f7f96d8-8db1-4195-8eea-c2d65eb7f32d');\n",
              "        const dataTable =\n",
              "          await google.colab.kernel.invokeFunction('convertToInteractive',\n",
              "                                                    [key], {});\n",
              "        if (!dataTable) return;\n",
              "\n",
              "        const docLinkHtml = 'Like what you see? Visit the ' +\n",
              "          '<a target=\"_blank\" href=https://colab.research.google.com/notebooks/data_table.ipynb>data table notebook</a>'\n",
              "          + ' to learn more about interactive tables.';\n",
              "        element.innerHTML = '';\n",
              "        dataTable['output_type'] = 'display_data';\n",
              "        await google.colab.output.renderOutput(dataTable, element);\n",
              "        const docLink = document.createElement('div');\n",
              "        docLink.innerHTML = docLinkHtml;\n",
              "        element.appendChild(docLink);\n",
              "      }\n",
              "    </script>\n",
              "  </div>\n",
              "\n",
              "\n",
              "<div id=\"df-ad1f9976-d196-42c9-b1a2-e975454592e6\">\n",
              "  <button class=\"colab-df-quickchart\" onclick=\"quickchart('df-ad1f9976-d196-42c9-b1a2-e975454592e6')\"\n",
              "            title=\"Suggest charts\"\n",
              "            style=\"display:none;\">\n",
              "\n",
              "<svg xmlns=\"http://www.w3.org/2000/svg\" height=\"24px\"viewBox=\"0 0 24 24\"\n",
              "     width=\"24px\">\n",
              "    <g>\n",
              "        <path d=\"M19 3H5c-1.1 0-2 .9-2 2v14c0 1.1.9 2 2 2h14c1.1 0 2-.9 2-2V5c0-1.1-.9-2-2-2zM9 17H7v-7h2v7zm4 0h-2V7h2v10zm4 0h-2v-4h2v4z\"/>\n",
              "    </g>\n",
              "</svg>\n",
              "  </button>\n",
              "\n",
              "<style>\n",
              "  .colab-df-quickchart {\n",
              "      --bg-color: #E8F0FE;\n",
              "      --fill-color: #1967D2;\n",
              "      --hover-bg-color: #E2EBFA;\n",
              "      --hover-fill-color: #174EA6;\n",
              "      --disabled-fill-color: #AAA;\n",
              "      --disabled-bg-color: #DDD;\n",
              "  }\n",
              "\n",
              "  [theme=dark] .colab-df-quickchart {\n",
              "      --bg-color: #3B4455;\n",
              "      --fill-color: #D2E3FC;\n",
              "      --hover-bg-color: #434B5C;\n",
              "      --hover-fill-color: #FFFFFF;\n",
              "      --disabled-bg-color: #3B4455;\n",
              "      --disabled-fill-color: #666;\n",
              "  }\n",
              "\n",
              "  .colab-df-quickchart {\n",
              "    background-color: var(--bg-color);\n",
              "    border: none;\n",
              "    border-radius: 50%;\n",
              "    cursor: pointer;\n",
              "    display: none;\n",
              "    fill: var(--fill-color);\n",
              "    height: 32px;\n",
              "    padding: 0;\n",
              "    width: 32px;\n",
              "  }\n",
              "\n",
              "  .colab-df-quickchart:hover {\n",
              "    background-color: var(--hover-bg-color);\n",
              "    box-shadow: 0 1px 2px rgba(60, 64, 67, 0.3), 0 1px 3px 1px rgba(60, 64, 67, 0.15);\n",
              "    fill: var(--button-hover-fill-color);\n",
              "  }\n",
              "\n",
              "  .colab-df-quickchart-complete:disabled,\n",
              "  .colab-df-quickchart-complete:disabled:hover {\n",
              "    background-color: var(--disabled-bg-color);\n",
              "    fill: var(--disabled-fill-color);\n",
              "    box-shadow: none;\n",
              "  }\n",
              "\n",
              "  .colab-df-spinner {\n",
              "    border: 2px solid var(--fill-color);\n",
              "    border-color: transparent;\n",
              "    border-bottom-color: var(--fill-color);\n",
              "    animation:\n",
              "      spin 1s steps(1) infinite;\n",
              "  }\n",
              "\n",
              "  @keyframes spin {\n",
              "    0% {\n",
              "      border-color: transparent;\n",
              "      border-bottom-color: var(--fill-color);\n",
              "      border-left-color: var(--fill-color);\n",
              "    }\n",
              "    20% {\n",
              "      border-color: transparent;\n",
              "      border-left-color: var(--fill-color);\n",
              "      border-top-color: var(--fill-color);\n",
              "    }\n",
              "    30% {\n",
              "      border-color: transparent;\n",
              "      border-left-color: var(--fill-color);\n",
              "      border-top-color: var(--fill-color);\n",
              "      border-right-color: var(--fill-color);\n",
              "    }\n",
              "    40% {\n",
              "      border-color: transparent;\n",
              "      border-right-color: var(--fill-color);\n",
              "      border-top-color: var(--fill-color);\n",
              "    }\n",
              "    60% {\n",
              "      border-color: transparent;\n",
              "      border-right-color: var(--fill-color);\n",
              "    }\n",
              "    80% {\n",
              "      border-color: transparent;\n",
              "      border-right-color: var(--fill-color);\n",
              "      border-bottom-color: var(--fill-color);\n",
              "    }\n",
              "    90% {\n",
              "      border-color: transparent;\n",
              "      border-bottom-color: var(--fill-color);\n",
              "    }\n",
              "  }\n",
              "</style>\n",
              "\n",
              "  <script>\n",
              "    async function quickchart(key) {\n",
              "      const quickchartButtonEl =\n",
              "        document.querySelector('#' + key + ' button');\n",
              "      quickchartButtonEl.disabled = true;  // To prevent multiple clicks.\n",
              "      quickchartButtonEl.classList.add('colab-df-spinner');\n",
              "      try {\n",
              "        const charts = await google.colab.kernel.invokeFunction(\n",
              "            'suggestCharts', [key], {});\n",
              "      } catch (error) {\n",
              "        console.error('Error during call to suggestCharts:', error);\n",
              "      }\n",
              "      quickchartButtonEl.classList.remove('colab-df-spinner');\n",
              "      quickchartButtonEl.classList.add('colab-df-quickchart-complete');\n",
              "    }\n",
              "    (() => {\n",
              "      let quickchartButtonEl =\n",
              "        document.querySelector('#df-ad1f9976-d196-42c9-b1a2-e975454592e6 button');\n",
              "      quickchartButtonEl.style.display =\n",
              "        google.colab.kernel.accessAllowed ? 'block' : 'none';\n",
              "    })();\n",
              "  </script>\n",
              "</div>\n",
              "\n",
              "    </div>\n",
              "  </div>\n"
            ],
            "application/vnd.google.colaboratory.intrinsic+json": {
              "type": "dataframe",
              "summary": "{\n  \"name\": \"shop\",\n  \"rows\": 8,\n  \"fields\": [\n    {\n      \"column\": \"Customer ID\",\n      \"properties\": {\n        \"dtype\": \"number\",\n        \"std\": 1405.274081775269,\n        \"min\": 1.0,\n        \"max\": 3900.0,\n        \"num_unique_values\": 6,\n        \"samples\": [\n          3900.0,\n          1950.5,\n          2925.25\n        ],\n        \"semantic_type\": \"\",\n        \"description\": \"\"\n      }\n    },\n    {\n      \"column\": \"Age\",\n      \"properties\": {\n        \"dtype\": \"number\",\n        \"std\": 1364.878318051572,\n        \"min\": 15.20758912716238,\n        \"max\": 3900.0,\n        \"num_unique_values\": 8,\n        \"samples\": [\n          44.06846153846154,\n          44.0,\n          3900.0\n        ],\n        \"semantic_type\": \"\",\n        \"description\": \"\"\n      }\n    },\n    {\n      \"column\": \"Purchase Amount (USD)\",\n      \"properties\": {\n        \"dtype\": \"number\",\n        \"std\": 1359.7647934740537,\n        \"min\": 20.0,\n        \"max\": 3900.0,\n        \"num_unique_values\": 8,\n        \"samples\": [\n          59.76435897435898,\n          60.0,\n          3900.0\n        ],\n        \"semantic_type\": \"\",\n        \"description\": \"\"\n      }\n    },\n    {\n      \"column\": \"Review Rating\",\n      \"properties\": {\n        \"dtype\": \"number\",\n        \"std\": 1377.6887676679473,\n        \"min\": 0.7162228139312449,\n        \"max\": 3900.0,\n        \"num_unique_values\": 8,\n        \"samples\": [\n          3.7499487179487176,\n          3.7,\n          3900.0\n        ],\n        \"semantic_type\": \"\",\n        \"description\": \"\"\n      }\n    },\n    {\n      \"column\": \"Previous Purchases\",\n      \"properties\": {\n        \"dtype\": \"number\",\n        \"std\": 1370.5178374100155,\n        \"min\": 1.0,\n        \"max\": 3900.0,\n        \"num_unique_values\": 8,\n        \"samples\": [\n          25.35153846153846,\n          25.0,\n          3900.0\n        ],\n        \"semantic_type\": \"\",\n        \"description\": \"\"\n      }\n    }\n  ]\n}"
            }
          },
          "metadata": {},
          "execution_count": 14
        }
      ],
      "source": [
        "# Dataset Describe   to get summary of dataset\n",
        "shop.describe()"
      ],
      "id": "GRyRLp4QmfuR"
    },
    {
      "cell_type": "markdown",
      "metadata": {
        "id": "PBTbrJXOngz2"
      },
      "source": [
        "### Variables Description"
      ],
      "id": "PBTbrJXOngz2"
    },
    {
      "cell_type": "markdown",
      "metadata": {
        "id": "aJV4KIxSnxay"
      },
      "source": [
        "Answer Here"
      ],
      "id": "aJV4KIxSnxay"
    },
    {
      "cell_type": "markdown",
      "metadata": {
        "id": "u3PMJOP6ngxN"
      },
      "source": [
        "### Check Unique Values for each variable."
      ],
      "id": "u3PMJOP6ngxN"
    },
    {
      "cell_type": "code",
      "execution_count": 15,
      "metadata": {
        "colab": {
          "base_uri": "https://localhost:8080/",
          "height": 648
        },
        "id": "-lowKgdrmPPa",
        "outputId": "4a453317-2e69-4563-ae2c-ac46dac48470"
      },
      "outputs": [
        {
          "output_type": "execute_result",
          "data": {
            "text/plain": [
              "Customer ID               3900\n",
              "Age                         53\n",
              "Gender                       2\n",
              "Item Purchased              25\n",
              "Category                     4\n",
              "Purchase Amount (USD)       81\n",
              "Location                    50\n",
              "Size                         4\n",
              "Color                       25\n",
              "Season                       4\n",
              "Review Rating               26\n",
              "Subscription Status          2\n",
              "Shipping Type                6\n",
              "Discount Applied             2\n",
              "Promo Code Used              2\n",
              "Previous Purchases          50\n",
              "Payment Method               6\n",
              "Frequency of Purchases       7\n",
              "dtype: int64"
            ],
            "text/html": [
              "<div>\n",
              "<style scoped>\n",
              "    .dataframe tbody tr th:only-of-type {\n",
              "        vertical-align: middle;\n",
              "    }\n",
              "\n",
              "    .dataframe tbody tr th {\n",
              "        vertical-align: top;\n",
              "    }\n",
              "\n",
              "    .dataframe thead th {\n",
              "        text-align: right;\n",
              "    }\n",
              "</style>\n",
              "<table border=\"1\" class=\"dataframe\">\n",
              "  <thead>\n",
              "    <tr style=\"text-align: right;\">\n",
              "      <th></th>\n",
              "      <th>0</th>\n",
              "    </tr>\n",
              "  </thead>\n",
              "  <tbody>\n",
              "    <tr>\n",
              "      <th>Customer ID</th>\n",
              "      <td>3900</td>\n",
              "    </tr>\n",
              "    <tr>\n",
              "      <th>Age</th>\n",
              "      <td>53</td>\n",
              "    </tr>\n",
              "    <tr>\n",
              "      <th>Gender</th>\n",
              "      <td>2</td>\n",
              "    </tr>\n",
              "    <tr>\n",
              "      <th>Item Purchased</th>\n",
              "      <td>25</td>\n",
              "    </tr>\n",
              "    <tr>\n",
              "      <th>Category</th>\n",
              "      <td>4</td>\n",
              "    </tr>\n",
              "    <tr>\n",
              "      <th>Purchase Amount (USD)</th>\n",
              "      <td>81</td>\n",
              "    </tr>\n",
              "    <tr>\n",
              "      <th>Location</th>\n",
              "      <td>50</td>\n",
              "    </tr>\n",
              "    <tr>\n",
              "      <th>Size</th>\n",
              "      <td>4</td>\n",
              "    </tr>\n",
              "    <tr>\n",
              "      <th>Color</th>\n",
              "      <td>25</td>\n",
              "    </tr>\n",
              "    <tr>\n",
              "      <th>Season</th>\n",
              "      <td>4</td>\n",
              "    </tr>\n",
              "    <tr>\n",
              "      <th>Review Rating</th>\n",
              "      <td>26</td>\n",
              "    </tr>\n",
              "    <tr>\n",
              "      <th>Subscription Status</th>\n",
              "      <td>2</td>\n",
              "    </tr>\n",
              "    <tr>\n",
              "      <th>Shipping Type</th>\n",
              "      <td>6</td>\n",
              "    </tr>\n",
              "    <tr>\n",
              "      <th>Discount Applied</th>\n",
              "      <td>2</td>\n",
              "    </tr>\n",
              "    <tr>\n",
              "      <th>Promo Code Used</th>\n",
              "      <td>2</td>\n",
              "    </tr>\n",
              "    <tr>\n",
              "      <th>Previous Purchases</th>\n",
              "      <td>50</td>\n",
              "    </tr>\n",
              "    <tr>\n",
              "      <th>Payment Method</th>\n",
              "      <td>6</td>\n",
              "    </tr>\n",
              "    <tr>\n",
              "      <th>Frequency of Purchases</th>\n",
              "      <td>7</td>\n",
              "    </tr>\n",
              "  </tbody>\n",
              "</table>\n",
              "</div><br><label><b>dtype:</b> int64</label>"
            ]
          },
          "metadata": {},
          "execution_count": 15
        }
      ],
      "source": [
        "# Check Unique Values for each variable.\n",
        "shop.nunique()"
      ],
      "id": "-lowKgdrmPPa"
    },
    {
      "cell_type": "code",
      "execution_count": 16,
      "metadata": {
        "colab": {
          "base_uri": "https://localhost:8080/"
        },
        "id": "GdiQ1nuFrXU9",
        "outputId": "4aa7ff24-bf0b-4f73-b239-0e04e733e69f"
      },
      "outputs": [
        {
          "output_type": "execute_result",
          "data": {
            "text/plain": [
              "4249"
            ]
          },
          "metadata": {},
          "execution_count": 16
        }
      ],
      "source": [
        "# Total Unique Values\n",
        "shop.nunique().sum()"
      ],
      "id": "GdiQ1nuFrXU9"
    },
    {
      "cell_type": "code",
      "execution_count": 17,
      "metadata": {
        "colab": {
          "base_uri": "https://localhost:8080/"
        },
        "id": "878ca58e-50c8-4401-a4dd-c338c75e3501",
        "outputId": "f8ba44ea-dc42-4bce-b7e9-e7e7f346b157"
      },
      "outputs": [
        {
          "output_type": "stream",
          "name": "stdout",
          "text": [
            "The unique values of the 'Gender' column are: ['Male' 'Female']\n",
            "\n",
            "The unique values of the 'Category' column are: ['Clothing' 'Footwear' 'Outerwear' 'Accessories']\n",
            "\n",
            "The unique values of the 'Size' column are: ['L' 'S' 'M' 'XL']\n",
            "\n",
            "The unique values of the 'Subscription Status' column are: ['Yes' 'No']\n",
            "\n",
            "The unique values of the 'Shipping Type' column are: ['Express' 'Free Shipping' 'Next Day Air' 'Standard' '2-Day Shipping'\n",
            " 'Store Pickup']\n",
            "\n",
            "The unique values of the 'Discount Applied' column are: ['Yes' 'No']\n",
            "\n",
            "The unique values of the 'Promo Code Used' column are: ['Yes' 'No']\n",
            "\n",
            "The unique values of the 'Payment Method' column are: ['Venmo' 'Cash' 'Credit Card' 'PayPal' 'Bank Transfer' 'Debit Card']\n"
          ]
        }
      ],
      "source": [
        "print(f\"The unique values of the 'Gender' column are: {shop['Gender'].unique()}\")\n",
        "print()# This will print a blank line\n",
        "print(f\"The unique values of the 'Category' column are: {shop['Category'].unique()}\")\n",
        "print()# This will print a blank line\n",
        "print(f\"The unique values of the 'Size' column are: {shop['Size'].unique()}\")\n",
        "print()# This will print a blank line\n",
        "print(f\"The unique values of the 'Subscription Status' column are: {shop['Subscription Status'].unique()}\")\n",
        "print()# This will print a blank line\n",
        "print(f\"The unique values of the 'Shipping Type' column are: {shop['Shipping Type'].unique()}\")\n",
        "print()# This will print a blank line\n",
        "print(f\"The unique values of the 'Discount Applied' column are: {shop['Discount Applied'].unique()}\")\n",
        "print()# This will print a blank line\n",
        "print(f\"The unique values of the 'Promo Code Used' column are: {shop['Promo Code Used'].unique()}\")\n",
        "print()# This will print a blank line\n",
        "print(f\"The unique values of the 'Payment Method' column are: {shop['Payment Method'].unique()}\")"
      ],
      "id": "878ca58e-50c8-4401-a4dd-c338c75e3501"
    },
    {
      "cell_type": "markdown",
      "id": "2dae46f6-9436-4835-8199-202c22f44e40",
      "metadata": {
        "id": "2dae46f6-9436-4835-8199-202c22f44e40"
      },
      "source": [
        "## 1 What is the overall distribution of customer ages in the dataset?"
      ]
    },
    {
      "cell_type": "code",
      "execution_count": 18,
      "id": "d0751254-5655-43f5-9a70-ad6389e7e23f",
      "metadata": {
        "colab": {
          "base_uri": "https://localhost:8080/",
          "height": 1000
        },
        "id": "d0751254-5655-43f5-9a70-ad6389e7e23f",
        "outputId": "0f2682fc-049e-4e70-9261-5af2fbbe40d7"
      },
      "outputs": [
        {
          "output_type": "execute_result",
          "data": {
            "text/plain": [
              "Age\n",
              "69    88\n",
              "57    87\n",
              "41    86\n",
              "25    85\n",
              "49    84\n",
              "50    83\n",
              "54    83\n",
              "27    83\n",
              "62    83\n",
              "32    82\n",
              "19    81\n",
              "58    81\n",
              "42    80\n",
              "43    79\n",
              "28    79\n",
              "31    79\n",
              "37    77\n",
              "46    76\n",
              "29    76\n",
              "68    75\n",
              "59    75\n",
              "63    75\n",
              "56    74\n",
              "36    74\n",
              "55    73\n",
              "52    73\n",
              "64    73\n",
              "35    72\n",
              "51    72\n",
              "65    72\n",
              "40    72\n",
              "45    72\n",
              "47    71\n",
              "66    71\n",
              "30    71\n",
              "23    71\n",
              "38    70\n",
              "53    70\n",
              "18    69\n",
              "21    69\n",
              "26    69\n",
              "34    68\n",
              "48    68\n",
              "24    68\n",
              "39    68\n",
              "70    67\n",
              "22    66\n",
              "61    65\n",
              "60    65\n",
              "33    63\n",
              "20    62\n",
              "67    54\n",
              "44    51\n",
              "Name: count, dtype: int64"
            ],
            "text/html": [
              "<div>\n",
              "<style scoped>\n",
              "    .dataframe tbody tr th:only-of-type {\n",
              "        vertical-align: middle;\n",
              "    }\n",
              "\n",
              "    .dataframe tbody tr th {\n",
              "        vertical-align: top;\n",
              "    }\n",
              "\n",
              "    .dataframe thead th {\n",
              "        text-align: right;\n",
              "    }\n",
              "</style>\n",
              "<table border=\"1\" class=\"dataframe\">\n",
              "  <thead>\n",
              "    <tr style=\"text-align: right;\">\n",
              "      <th></th>\n",
              "      <th>count</th>\n",
              "    </tr>\n",
              "    <tr>\n",
              "      <th>Age</th>\n",
              "      <th></th>\n",
              "    </tr>\n",
              "  </thead>\n",
              "  <tbody>\n",
              "    <tr>\n",
              "      <th>69</th>\n",
              "      <td>88</td>\n",
              "    </tr>\n",
              "    <tr>\n",
              "      <th>57</th>\n",
              "      <td>87</td>\n",
              "    </tr>\n",
              "    <tr>\n",
              "      <th>41</th>\n",
              "      <td>86</td>\n",
              "    </tr>\n",
              "    <tr>\n",
              "      <th>25</th>\n",
              "      <td>85</td>\n",
              "    </tr>\n",
              "    <tr>\n",
              "      <th>49</th>\n",
              "      <td>84</td>\n",
              "    </tr>\n",
              "    <tr>\n",
              "      <th>50</th>\n",
              "      <td>83</td>\n",
              "    </tr>\n",
              "    <tr>\n",
              "      <th>54</th>\n",
              "      <td>83</td>\n",
              "    </tr>\n",
              "    <tr>\n",
              "      <th>27</th>\n",
              "      <td>83</td>\n",
              "    </tr>\n",
              "    <tr>\n",
              "      <th>62</th>\n",
              "      <td>83</td>\n",
              "    </tr>\n",
              "    <tr>\n",
              "      <th>32</th>\n",
              "      <td>82</td>\n",
              "    </tr>\n",
              "    <tr>\n",
              "      <th>19</th>\n",
              "      <td>81</td>\n",
              "    </tr>\n",
              "    <tr>\n",
              "      <th>58</th>\n",
              "      <td>81</td>\n",
              "    </tr>\n",
              "    <tr>\n",
              "      <th>42</th>\n",
              "      <td>80</td>\n",
              "    </tr>\n",
              "    <tr>\n",
              "      <th>43</th>\n",
              "      <td>79</td>\n",
              "    </tr>\n",
              "    <tr>\n",
              "      <th>28</th>\n",
              "      <td>79</td>\n",
              "    </tr>\n",
              "    <tr>\n",
              "      <th>31</th>\n",
              "      <td>79</td>\n",
              "    </tr>\n",
              "    <tr>\n",
              "      <th>37</th>\n",
              "      <td>77</td>\n",
              "    </tr>\n",
              "    <tr>\n",
              "      <th>46</th>\n",
              "      <td>76</td>\n",
              "    </tr>\n",
              "    <tr>\n",
              "      <th>29</th>\n",
              "      <td>76</td>\n",
              "    </tr>\n",
              "    <tr>\n",
              "      <th>68</th>\n",
              "      <td>75</td>\n",
              "    </tr>\n",
              "    <tr>\n",
              "      <th>59</th>\n",
              "      <td>75</td>\n",
              "    </tr>\n",
              "    <tr>\n",
              "      <th>63</th>\n",
              "      <td>75</td>\n",
              "    </tr>\n",
              "    <tr>\n",
              "      <th>56</th>\n",
              "      <td>74</td>\n",
              "    </tr>\n",
              "    <tr>\n",
              "      <th>36</th>\n",
              "      <td>74</td>\n",
              "    </tr>\n",
              "    <tr>\n",
              "      <th>55</th>\n",
              "      <td>73</td>\n",
              "    </tr>\n",
              "    <tr>\n",
              "      <th>52</th>\n",
              "      <td>73</td>\n",
              "    </tr>\n",
              "    <tr>\n",
              "      <th>64</th>\n",
              "      <td>73</td>\n",
              "    </tr>\n",
              "    <tr>\n",
              "      <th>35</th>\n",
              "      <td>72</td>\n",
              "    </tr>\n",
              "    <tr>\n",
              "      <th>51</th>\n",
              "      <td>72</td>\n",
              "    </tr>\n",
              "    <tr>\n",
              "      <th>65</th>\n",
              "      <td>72</td>\n",
              "    </tr>\n",
              "    <tr>\n",
              "      <th>40</th>\n",
              "      <td>72</td>\n",
              "    </tr>\n",
              "    <tr>\n",
              "      <th>45</th>\n",
              "      <td>72</td>\n",
              "    </tr>\n",
              "    <tr>\n",
              "      <th>47</th>\n",
              "      <td>71</td>\n",
              "    </tr>\n",
              "    <tr>\n",
              "      <th>66</th>\n",
              "      <td>71</td>\n",
              "    </tr>\n",
              "    <tr>\n",
              "      <th>30</th>\n",
              "      <td>71</td>\n",
              "    </tr>\n",
              "    <tr>\n",
              "      <th>23</th>\n",
              "      <td>71</td>\n",
              "    </tr>\n",
              "    <tr>\n",
              "      <th>38</th>\n",
              "      <td>70</td>\n",
              "    </tr>\n",
              "    <tr>\n",
              "      <th>53</th>\n",
              "      <td>70</td>\n",
              "    </tr>\n",
              "    <tr>\n",
              "      <th>18</th>\n",
              "      <td>69</td>\n",
              "    </tr>\n",
              "    <tr>\n",
              "      <th>21</th>\n",
              "      <td>69</td>\n",
              "    </tr>\n",
              "    <tr>\n",
              "      <th>26</th>\n",
              "      <td>69</td>\n",
              "    </tr>\n",
              "    <tr>\n",
              "      <th>34</th>\n",
              "      <td>68</td>\n",
              "    </tr>\n",
              "    <tr>\n",
              "      <th>48</th>\n",
              "      <td>68</td>\n",
              "    </tr>\n",
              "    <tr>\n",
              "      <th>24</th>\n",
              "      <td>68</td>\n",
              "    </tr>\n",
              "    <tr>\n",
              "      <th>39</th>\n",
              "      <td>68</td>\n",
              "    </tr>\n",
              "    <tr>\n",
              "      <th>70</th>\n",
              "      <td>67</td>\n",
              "    </tr>\n",
              "    <tr>\n",
              "      <th>22</th>\n",
              "      <td>66</td>\n",
              "    </tr>\n",
              "    <tr>\n",
              "      <th>61</th>\n",
              "      <td>65</td>\n",
              "    </tr>\n",
              "    <tr>\n",
              "      <th>60</th>\n",
              "      <td>65</td>\n",
              "    </tr>\n",
              "    <tr>\n",
              "      <th>33</th>\n",
              "      <td>63</td>\n",
              "    </tr>\n",
              "    <tr>\n",
              "      <th>20</th>\n",
              "      <td>62</td>\n",
              "    </tr>\n",
              "    <tr>\n",
              "      <th>67</th>\n",
              "      <td>54</td>\n",
              "    </tr>\n",
              "    <tr>\n",
              "      <th>44</th>\n",
              "      <td>51</td>\n",
              "    </tr>\n",
              "  </tbody>\n",
              "</table>\n",
              "</div><br><label><b>dtype:</b> int64</label>"
            ]
          },
          "metadata": {},
          "execution_count": 18
        }
      ],
      "source": [
        "shop['Age'].value_counts()"
      ]
    },
    {
      "cell_type": "code",
      "execution_count": 19,
      "id": "a4a59f39-6b74-467d-bd44-cae9b971b787",
      "metadata": {
        "colab": {
          "base_uri": "https://localhost:8080/"
        },
        "id": "a4a59f39-6b74-467d-bd44-cae9b971b787",
        "outputId": "b5b7a907-ca80-4d9e-fb1c-345aee3ea13f"
      },
      "outputs": [
        {
          "output_type": "execute_result",
          "data": {
            "text/plain": [
              "44.06846153846154"
            ]
          },
          "metadata": {},
          "execution_count": 19
        }
      ],
      "source": [
        "shop['Age'].mean()"
      ]
    },
    {
      "cell_type": "code",
      "execution_count": 20,
      "id": "22fe6b77-0893-4b19-bb73-ee11124ed9db",
      "metadata": {
        "colab": {
          "base_uri": "https://localhost:8080/"
        },
        "id": "22fe6b77-0893-4b19-bb73-ee11124ed9db",
        "outputId": "e3c0e765-ff6f-4b40-e228-7b2a1c08d9af"
      },
      "outputs": [
        {
          "output_type": "execute_result",
          "data": {
            "text/plain": [
              "array(['Male', 'Female'], dtype=object)"
            ]
          },
          "metadata": {},
          "execution_count": 20
        }
      ],
      "source": [
        "shop['Gender'].unique()"
      ]
    },
    {
      "cell_type": "code",
      "execution_count": 21,
      "id": "a4580d69-78f6-4743-8749-080d0c69bb6a",
      "metadata": {
        "id": "a4580d69-78f6-4743-8749-080d0c69bb6a"
      },
      "outputs": [],
      "source": [
        "shop['Age_category'] = pd.cut(shop['Age'], bins= [0,15, 18 , 30 , 50 , 70] , labels= ['child' , 'teen' , 'Young Adults' ,'Middle-Aged Adults'\n",
        "                                                                                             , 'old'] )"
      ]
    },
    {
      "cell_type": "code",
      "execution_count": 22,
      "id": "f1254544-ab85-4879-9db4-563eda07c874",
      "metadata": {
        "colab": {
          "base_uri": "https://localhost:8080/",
          "height": 542
        },
        "id": "f1254544-ab85-4879-9db4-563eda07c874",
        "outputId": "9f9523d7-88ad-41a8-ce87-06b385676796"
      },
      "outputs": [
        {
          "output_type": "display_data",
          "data": {
            "text/html": [
              "<html>\n",
              "<head><meta charset=\"utf-8\" /></head>\n",
              "<body>\n",
              "    <div>            <script src=\"https://cdnjs.cloudflare.com/ajax/libs/mathjax/2.7.5/MathJax.js?config=TeX-AMS-MML_SVG\"></script><script type=\"text/javascript\">if (window.MathJax && window.MathJax.Hub && window.MathJax.Hub.Config) {window.MathJax.Hub.Config({SVG: {font: \"STIX-Web\"}});}</script>                <script type=\"text/javascript\">window.PlotlyConfig = {MathJaxConfig: 'local'};</script>\n",
              "        <script charset=\"utf-8\" src=\"https://cdn.plot.ly/plotly-2.35.2.min.js\"></script>                <div id=\"a0537ff6-2030-4e02-bf16-e593e9de5e44\" class=\"plotly-graph-div\" style=\"height:525px; width:100%;\"></div>            <script type=\"text/javascript\">                                    window.PLOTLYENV=window.PLOTLYENV || {};                                    if (document.getElementById(\"a0537ff6-2030-4e02-bf16-e593e9de5e44\")) {                    Plotly.newPlot(                        \"a0537ff6-2030-4e02-bf16-e593e9de5e44\",                        [{\"alignmentgroup\":\"True\",\"bingroup\":\"x\",\"histfunc\":\"sum\",\"hovertemplate\":\"Age_category=%{x}\\u003cbr\\u003esum of Age=%{y}\\u003cextra\\u003e\\u003c\\u002fextra\\u003e\",\"legendgroup\":\"\",\"marker\":{\"color\":\"#636efa\",\"pattern\":{\"shape\":\"\"}},\"name\":\"\",\"offsetgroup\":\"\",\"orientation\":\"v\",\"showlegend\":false,\"x\":[\"old\",\"Young Adults\",\"Middle-Aged Adults\",\"Young Adults\",\"Middle-Aged Adults\",\"Middle-Aged Adults\",\"old\",\"Young Adults\",\"Young Adults\",\"old\",\"old\",\"Young Adults\",\"old\",\"old\",\"old\",\"old\",\"Young Adults\",\"old\",\"old\",\"old\",\"Young Adults\",\"Middle-Aged Adults\",\"old\",\"Middle-Aged Adults\",\"teen\",\"teen\",\"Middle-Aged Adults\",\"old\",\"old\",\"Middle-Aged Adults\",\"old\",\"Middle-Aged Adults\",\"Middle-Aged Adults\",\"old\",\"Middle-Aged Adults\",\"old\",\"Middle-Aged Adults\",\"Middle-Aged Adults\",\"Young Adults\",\"old\",\"old\",\"old\",\"Young Adults\",\"Young Adults\",\"Middle-Aged Adults\",\"Middle-Aged Adults\",\"old\",\"old\",\"Middle-Aged Adults\",\"old\",\"Middle-Aged Adults\",\"old\",\"Middle-Aged Adults\",\"Young Adults\",\"Middle-Aged Adults\",\"Middle-Aged Adults\",\"Middle-Aged Adults\",\"Young Adults\",\"old\",\"old\",\"Middle-Aged Adults\",\"old\",\"Young Adults\",\"Middle-Aged Adults\",\"old\",\"old\",\"Middle-Aged Adults\",\"Middle-Aged Adults\",\"old\",\"Middle-Aged Adults\",\"Young Adults\",\"Middle-Aged Adults\",\"teen\",\"Middle-Aged Adults\",\"Middle-Aged Adults\",\"old\",\"Middle-Aged Adults\",\"Young Adults\",\"Middle-Aged Adults\",\"Middle-Aged Adults\",\"Young Adults\",\"old\",\"Young Adults\",\"Middle-Aged Adults\",\"old\",\"old\",\"Young Adults\",\"old\",\"Middle-Aged Adults\",\"Middle-Aged Adults\",\"Young Adults\",\"Middle-Aged Adults\",\"old\",\"Middle-Aged Adults\",\"old\",\"Middle-Aged Adults\",\"Middle-Aged Adults\",\"Young Adults\",\"Young Adults\",\"Young Adults\",\"old\",\"Young Adults\",\"old\",\"old\",\"old\",\"old\",\"old\",\"Young Adults\",\"old\",\"old\",\"old\",\"Young Adults\",\"Middle-Aged Adults\",\"Middle-Aged Adults\",\"old\",\"old\",\"old\",\"Middle-Aged Adults\",\"Middle-Aged Adults\",\"Middle-Aged Adults\",\"old\",\"Young Adults\",\"Middle-Aged Adults\",\"old\",\"Middle-Aged Adults\",\"Middle-Aged Adults\",\"Middle-Aged Adults\",\"Young Adults\",\"Young Adults\",\"Young Adults\",\"Middle-Aged Adults\",\"Young Adults\",\"Young Adults\",\"old\",\"Middle-Aged Adults\",\"Middle-Aged Adults\",\"Middle-Aged Adults\",\"old\",\"old\",\"Middle-Aged Adults\",\"old\",\"old\",\"Middle-Aged Adults\",\"Young Adults\",\"Young Adults\",\"Young Adults\",\"old\",\"old\",\"Middle-Aged Adults\",\"Middle-Aged Adults\",\"Middle-Aged Adults\",\"Young Adults\",\"Young Adults\",\"old\",\"Middle-Aged Adults\",\"old\",\"Middle-Aged Adults\",\"Middle-Aged Adults\",\"Young Adults\",\"old\",\"Young Adults\",\"old\",\"old\",\"old\",\"old\",\"Middle-Aged Adults\",\"Middle-Aged Adults\",\"Middle-Aged Adults\",\"Middle-Aged Adults\",\"Young Adults\",\"old\",\"Young Adults\",\"old\",\"Young Adults\",\"Middle-Aged Adults\",\"old\",\"old\",\"Young Adults\",\"old\",\"old\",\"old\",\"Middle-Aged Adults\",\"Middle-Aged Adults\",\"old\",\"Middle-Aged Adults\",\"Middle-Aged Adults\",\"Middle-Aged Adults\",\"Young Adults\",\"Middle-Aged Adults\",\"Middle-Aged Adults\",\"old\",\"old\",\"Middle-Aged Adults\",\"Middle-Aged Adults\",\"old\",\"old\",\"Middle-Aged Adults\",\"old\",\"old\",\"old\",\"Young Adults\",\"old\",\"old\",\"old\",\"Young Adults\",\"old\",\"Young Adults\",\"old\",\"old\",\"old\",\"Middle-Aged Adults\",\"old\",\"old\",\"Young Adults\",\"Young Adults\",\"old\",\"Middle-Aged Adults\",\"Middle-Aged Adults\",\"Young Adults\",\"Middle-Aged Adults\",\"Middle-Aged Adults\",\"Young Adults\",\"Middle-Aged Adults\",\"Young Adults\",\"old\",\"Young Adults\",\"Young Adults\",\"Middle-Aged Adults\",\"teen\",\"old\",\"old\",\"Young Adults\",\"old\",\"Young Adults\",\"Young Adults\",\"Middle-Aged Adults\",\"Middle-Aged Adults\",\"Middle-Aged Adults\",\"old\",\"Middle-Aged Adults\",\"Middle-Aged Adults\",\"Middle-Aged Adults\",\"old\",\"Young Adults\",\"old\",\"Middle-Aged Adults\",\"Middle-Aged Adults\",\"Young Adults\",\"Middle-Aged Adults\",\"old\",\"Middle-Aged Adults\",\"Young Adults\",\"Middle-Aged Adults\",\"old\",\"old\",\"Middle-Aged Adults\",\"old\",\"Young Adults\",\"old\",\"Middle-Aged Adults\",\"Middle-Aged Adults\",\"Young Adults\",\"Middle-Aged Adults\",\"Young Adults\",\"Middle-Aged Adults\",\"Middle-Aged Adults\",\"old\",\"old\",\"old\",\"old\",\"Middle-Aged Adults\",\"old\",\"Middle-Aged Adults\",\"old\",\"old\",\"Middle-Aged Adults\",\"Young Adults\",\"Young Adults\",\"old\",\"Young Adults\",\"Middle-Aged Adults\",\"Middle-Aged Adults\",\"Young Adults\",\"Middle-Aged Adults\",\"old\",\"Young Adults\",\"Young Adults\",\"old\",\"Young Adults\",\"Middle-Aged Adults\",\"old\",\"old\",\"old\",\"old\",\"old\",\"old\",\"Young Adults\",\"Middle-Aged Adults\",\"old\",\"Young Adults\",\"Young Adults\",\"Middle-Aged Adults\",\"Middle-Aged Adults\",\"Young Adults\",\"Middle-Aged Adults\",\"old\",\"Young Adults\",\"Young Adults\",\"old\",\"old\",\"old\",\"old\",\"Middle-Aged Adults\",\"Middle-Aged Adults\",\"Young Adults\",\"old\",\"Middle-Aged Adults\",\"old\",\"Middle-Aged Adults\",\"Middle-Aged Adults\",\"old\",\"Middle-Aged Adults\",\"Middle-Aged Adults\",\"old\",\"Middle-Aged Adults\",\"old\",\"old\",\"old\",\"Middle-Aged Adults\",\"old\",\"Middle-Aged Adults\",\"Middle-Aged Adults\",\"Young Adults\",\"Middle-Aged Adults\",\"Middle-Aged Adults\",\"Young Adults\",\"Middle-Aged Adults\",\"Middle-Aged Adults\",\"old\",\"Middle-Aged Adults\",\"Middle-Aged Adults\",\"Young Adults\",\"old\",\"Young Adults\",\"Young Adults\",\"Middle-Aged Adults\",\"Middle-Aged Adults\",\"Middle-Aged Adults\",\"old\",\"Middle-Aged Adults\",\"Middle-Aged Adults\",\"Young Adults\",\"Young Adults\",\"old\",\"old\",\"Middle-Aged Adults\",\"old\",\"teen\",\"Middle-Aged Adults\",\"Middle-Aged Adults\",\"old\",\"old\",\"old\",\"old\",\"old\",\"old\",\"old\",\"old\",\"Young Adults\",\"Middle-Aged Adults\",\"old\",\"Young Adults\",\"Young Adults\",\"Young Adults\",\"old\",\"old\",\"old\",\"old\",\"old\",\"Middle-Aged Adults\",\"Middle-Aged Adults\",\"old\",\"Young Adults\",\"Middle-Aged Adults\",\"old\",\"old\",\"old\",\"Middle-Aged Adults\",\"Young Adults\",\"Young Adults\",\"Young Adults\",\"Middle-Aged Adults\",\"Young Adults\",\"Middle-Aged Adults\",\"Middle-Aged Adults\",\"Middle-Aged Adults\",\"Middle-Aged Adults\",\"Young Adults\",\"Young Adults\",\"old\",\"Middle-Aged Adults\",\"Middle-Aged Adults\",\"Middle-Aged Adults\",\"Young Adults\",\"Middle-Aged Adults\",\"Middle-Aged Adults\",\"old\",\"Middle-Aged Adults\",\"Middle-Aged Adults\",\"Middle-Aged Adults\",\"Young Adults\",\"old\",\"Young Adults\",\"old\",\"Young Adults\",\"old\",\"Middle-Aged Adults\",\"Young Adults\",\"teen\",\"old\",\"Middle-Aged Adults\",\"Middle-Aged Adults\",\"Middle-Aged Adults\",\"Middle-Aged Adults\",\"old\",\"Middle-Aged Adults\",\"Middle-Aged Adults\",\"old\",\"Young Adults\",\"Middle-Aged Adults\",\"Young Adults\",\"Middle-Aged Adults\",\"Middle-Aged Adults\",\"Middle-Aged Adults\",\"Middle-Aged Adults\",\"old\",\"Middle-Aged Adults\",\"Middle-Aged Adults\",\"old\",\"old\",\"Young Adults\",\"Middle-Aged Adults\",\"Young Adults\",\"Young Adults\",\"Middle-Aged Adults\",\"Middle-Aged Adults\",\"Young Adults\",\"old\",\"Middle-Aged Adults\",\"Young Adults\",\"Young Adults\",\"old\",\"Middle-Aged Adults\",\"old\",\"Middle-Aged Adults\",\"old\",\"Middle-Aged Adults\",\"Young Adults\",\"Middle-Aged Adults\",\"old\",\"old\",\"teen\",\"old\",\"Middle-Aged Adults\",\"Young Adults\",\"old\",\"Middle-Aged Adults\",\"Young Adults\",\"Middle-Aged Adults\",\"Young Adults\",\"Middle-Aged Adults\",\"old\",\"Young Adults\",\"Middle-Aged Adults\",\"old\",\"Young Adults\",\"Young Adults\",\"Middle-Aged Adults\",\"Middle-Aged Adults\",\"Middle-Aged Adults\",\"old\",\"Middle-Aged Adults\",\"Middle-Aged Adults\",\"Young Adults\",\"old\",\"Middle-Aged Adults\",\"Middle-Aged Adults\",\"Middle-Aged Adults\",\"old\",\"Middle-Aged Adults\",\"old\",\"Middle-Aged Adults\",\"Middle-Aged Adults\",\"Young Adults\",\"Middle-Aged Adults\",\"Middle-Aged Adults\",\"Young Adults\",\"Middle-Aged Adults\",\"Middle-Aged Adults\",\"Middle-Aged Adults\",\"Middle-Aged Adults\",\"old\",\"old\",\"old\",\"Middle-Aged Adults\",\"old\",\"Young Adults\",\"old\",\"Young Adults\",\"Middle-Aged Adults\",\"Young Adults\",\"old\",\"Young Adults\",\"Young Adults\",\"old\",\"Young Adults\",\"Middle-Aged Adults\",\"old\",\"Young Adults\",\"Young Adults\",\"old\",\"Middle-Aged Adults\",\"old\",\"Middle-Aged Adults\",\"old\",\"old\",\"old\",\"Young Adults\",\"Middle-Aged Adults\",\"Middle-Aged Adults\",\"Middle-Aged Adults\",\"Middle-Aged Adults\",\"Young Adults\",\"old\",\"old\",\"old\",\"Middle-Aged Adults\",\"Middle-Aged Adults\",\"Young Adults\",\"Middle-Aged Adults\",\"Middle-Aged Adults\",\"old\",\"Young Adults\",\"old\",\"Middle-Aged Adults\",\"Middle-Aged Adults\",\"old\",\"Middle-Aged Adults\",\"Middle-Aged Adults\",\"Middle-Aged Adults\",\"old\",\"Young Adults\",\"Young Adults\",\"old\",\"old\",\"old\",\"Middle-Aged Adults\",\"teen\",\"Middle-Aged Adults\",\"old\",\"Young Adults\",\"old\",\"old\",\"old\",\"old\",\"old\",\"old\",\"Young Adults\",\"Middle-Aged Adults\",\"old\",\"old\",\"old\",\"old\",\"old\",\"old\",\"old\",\"Middle-Aged Adults\",\"Young Adults\",\"old\",\"old\",\"Middle-Aged Adults\",\"Middle-Aged Adults\",\"Middle-Aged Adults\",\"Young Adults\",\"old\",\"old\",\"Middle-Aged Adults\",\"Young Adults\",\"Middle-Aged Adults\",\"Young Adults\",\"old\",\"Middle-Aged Adults\",\"old\",\"old\",\"Middle-Aged Adults\",\"Young Adults\",\"Young Adults\",\"old\",\"Young Adults\",\"old\",\"Young Adults\",\"Middle-Aged Adults\",\"Middle-Aged Adults\",\"Middle-Aged Adults\",\"Middle-Aged Adults\",\"Middle-Aged Adults\",\"Young Adults\",\"Middle-Aged Adults\",\"Middle-Aged Adults\",\"old\",\"old\",\"Middle-Aged Adults\",\"old\",\"old\",\"old\",\"old\",\"Young Adults\",\"Middle-Aged Adults\",\"old\",\"Young Adults\",\"Middle-Aged Adults\",\"old\",\"old\",\"Young Adults\",\"old\",\"Middle-Aged Adults\",\"Middle-Aged Adults\",\"Middle-Aged Adults\",\"old\",\"Young Adults\",\"Middle-Aged Adults\",\"old\",\"Middle-Aged Adults\",\"old\",\"Middle-Aged Adults\",\"Young Adults\",\"Middle-Aged Adults\",\"Young Adults\",\"old\",\"old\",\"old\",\"Middle-Aged Adults\",\"old\",\"teen\",\"old\",\"old\",\"old\",\"old\",\"Young Adults\",\"old\",\"Middle-Aged Adults\",\"Middle-Aged Adults\",\"old\",\"Young Adults\",\"Young Adults\",\"Young Adults\",\"Middle-Aged Adults\",\"Middle-Aged Adults\",\"old\",\"old\",\"Middle-Aged Adults\",\"old\",\"Young Adults\",\"old\",\"old\",\"Middle-Aged Adults\",\"Middle-Aged Adults\",\"Middle-Aged Adults\",\"Middle-Aged Adults\",\"Middle-Aged Adults\",\"old\",\"Middle-Aged Adults\",\"old\",\"Middle-Aged Adults\",\"Middle-Aged Adults\",\"old\",\"Young Adults\",\"old\",\"Young Adults\",\"old\",\"old\",\"Young Adults\",\"Young Adults\",\"Middle-Aged Adults\",\"old\",\"old\",\"old\",\"Young Adults\",\"Young Adults\",\"Young Adults\",\"Young Adults\",\"old\",\"Middle-Aged Adults\",\"Middle-Aged Adults\",\"Middle-Aged Adults\",\"Young Adults\",\"Middle-Aged Adults\",\"old\",\"old\",\"Middle-Aged Adults\",\"old\",\"old\",\"teen\",\"old\",\"Middle-Aged Adults\",\"Young Adults\",\"Middle-Aged Adults\",\"old\",\"Middle-Aged Adults\",\"Middle-Aged Adults\",\"Young Adults\",\"old\",\"Middle-Aged Adults\",\"Middle-Aged Adults\",\"Young Adults\",\"Middle-Aged Adults\",\"Young Adults\",\"Young Adults\",\"Young Adults\",\"old\",\"Middle-Aged Adults\",\"Middle-Aged Adults\",\"Young Adults\",\"Middle-Aged Adults\",\"Middle-Aged Adults\",\"old\",\"Middle-Aged Adults\",\"old\",\"Young Adults\",\"Middle-Aged Adults\",\"Middle-Aged Adults\",\"Middle-Aged Adults\",\"Middle-Aged Adults\",\"Middle-Aged Adults\",\"old\",\"old\",\"teen\",\"Middle-Aged Adults\",\"old\",\"old\",\"Young Adults\",\"Young Adults\",\"old\",\"Young Adults\",\"old\",\"Middle-Aged Adults\",\"Middle-Aged Adults\",\"old\",\"Middle-Aged Adults\",\"old\",\"Young Adults\",\"old\",\"Middle-Aged Adults\",\"Middle-Aged Adults\",\"Middle-Aged Adults\",\"old\",\"old\",\"Middle-Aged Adults\",\"old\",\"old\",\"Middle-Aged Adults\",\"old\",\"Middle-Aged Adults\",\"old\",\"old\",\"old\",\"old\",\"Young Adults\",\"old\",\"old\",\"Young Adults\",\"Young Adults\",\"teen\",\"Young Adults\",\"Middle-Aged Adults\",\"Middle-Aged Adults\",\"Middle-Aged Adults\",\"old\",\"Young Adults\",\"old\",\"Middle-Aged Adults\",\"Young Adults\",\"Young Adults\",\"old\",\"Middle-Aged Adults\",\"Middle-Aged Adults\",\"old\",\"old\",\"Middle-Aged Adults\",\"Middle-Aged Adults\",\"Young Adults\",\"Middle-Aged Adults\",\"Middle-Aged Adults\",\"Young Adults\",\"old\",\"Middle-Aged Adults\",\"Middle-Aged Adults\",\"Middle-Aged Adults\",\"Young Adults\",\"old\",\"Middle-Aged Adults\",\"Young Adults\",\"Middle-Aged Adults\",\"Middle-Aged Adults\",\"Middle-Aged Adults\",\"Middle-Aged Adults\",\"old\",\"Young Adults\",\"Middle-Aged Adults\",\"Middle-Aged Adults\",\"old\",\"teen\",\"old\",\"old\",\"Middle-Aged Adults\",\"Young Adults\",\"Young Adults\",\"Young Adults\",\"old\",\"old\",\"old\",\"old\",\"Middle-Aged Adults\",\"old\",\"old\",\"Young Adults\",\"old\",\"Middle-Aged Adults\",\"Young Adults\",\"Middle-Aged Adults\",\"Middle-Aged Adults\",\"old\",\"old\",\"Middle-Aged Adults\",\"old\",\"Middle-Aged Adults\",\"Young Adults\",\"Young Adults\",\"Middle-Aged Adults\",\"Middle-Aged Adults\",\"Middle-Aged Adults\",\"old\",\"old\",\"old\",\"old\",\"Middle-Aged Adults\",\"Middle-Aged Adults\",\"old\",\"Middle-Aged Adults\",\"Young Adults\",\"old\",\"Middle-Aged Adults\",\"Middle-Aged Adults\",\"old\",\"Young Adults\",\"old\",\"old\",\"Middle-Aged Adults\",\"Young Adults\",\"Middle-Aged Adults\",\"Young Adults\",\"Middle-Aged Adults\",\"Young Adults\",\"Middle-Aged Adults\",\"old\",\"old\",\"old\",\"Middle-Aged Adults\",\"Middle-Aged Adults\",\"Middle-Aged Adults\",\"old\",\"Middle-Aged Adults\",\"old\",\"old\",\"Young Adults\",\"Middle-Aged Adults\",\"Middle-Aged Adults\",\"old\",\"Young Adults\",\"old\",\"Middle-Aged Adults\",\"old\",\"Middle-Aged Adults\",\"Young Adults\",\"old\",\"Middle-Aged Adults\",\"Young Adults\",\"old\",\"Middle-Aged Adults\",\"old\",\"old\",\"Young Adults\",\"Middle-Aged Adults\",\"Middle-Aged Adults\",\"Middle-Aged Adults\",\"Middle-Aged Adults\",\"old\",\"Young Adults\",\"old\",\"old\",\"old\",\"old\",\"Middle-Aged Adults\",\"Middle-Aged Adults\",\"old\",\"Middle-Aged Adults\",\"Middle-Aged Adults\",\"Middle-Aged Adults\",\"Young Adults\",\"old\",\"Middle-Aged Adults\",\"old\",\"Young Adults\",\"Middle-Aged Adults\",\"Middle-Aged Adults\",\"Middle-Aged Adults\",\"Middle-Aged Adults\",\"old\",\"old\",\"Middle-Aged Adults\",\"Middle-Aged Adults\",\"old\",\"old\",\"old\",\"old\",\"Young Adults\",\"old\",\"Young Adults\",\"old\",\"old\",\"Young Adults\",\"Young Adults\",\"old\",\"old\",\"Middle-Aged Adults\",\"old\",\"Middle-Aged Adults\",\"Middle-Aged Adults\",\"Middle-Aged Adults\",\"Young Adults\",\"Middle-Aged Adults\",\"Middle-Aged Adults\",\"Young Adults\",\"Middle-Aged Adults\",\"old\",\"Middle-Aged Adults\",\"Middle-Aged Adults\",\"old\",\"Middle-Aged Adults\",\"Middle-Aged Adults\",\"old\",\"Middle-Aged Adults\",\"Middle-Aged Adults\",\"old\",\"old\",\"old\",\"Young Adults\",\"Middle-Aged Adults\",\"old\",\"Middle-Aged Adults\",\"teen\",\"old\",\"Young Adults\",\"Young Adults\",\"Middle-Aged Adults\",\"Middle-Aged Adults\",\"old\",\"Young Adults\",\"old\",\"Middle-Aged Adults\",\"Middle-Aged Adults\",\"Middle-Aged Adults\",\"old\",\"old\",\"old\",\"old\",\"Middle-Aged Adults\",\"Young Adults\",\"old\",\"old\",\"old\",\"Young Adults\",\"Middle-Aged Adults\",\"Young Adults\",\"Young Adults\",\"Middle-Aged Adults\",\"old\",\"old\",\"Middle-Aged Adults\",\"old\",\"Middle-Aged Adults\",\"Young Adults\",\"Middle-Aged Adults\",\"old\",\"old\",\"Middle-Aged Adults\",\"Young Adults\",\"old\",\"old\",\"Middle-Aged Adults\",\"Middle-Aged Adults\",\"old\",\"old\",\"old\",\"Middle-Aged Adults\",\"Middle-Aged Adults\",\"Young Adults\",\"old\",\"Middle-Aged Adults\",\"Middle-Aged Adults\",\"old\",\"Middle-Aged Adults\",\"Young Adults\",\"old\",\"Young Adults\",\"old\",\"Young Adults\",\"Young Adults\",\"Middle-Aged Adults\",\"Middle-Aged Adults\",\"Young Adults\",\"old\",\"old\",\"old\",\"Young Adults\",\"old\",\"Middle-Aged Adults\",\"Middle-Aged Adults\",\"Middle-Aged Adults\",\"Young Adults\",\"old\",\"Young Adults\",\"old\",\"Young Adults\",\"old\",\"old\",\"old\",\"old\",\"Middle-Aged Adults\",\"Young Adults\",\"old\",\"Middle-Aged Adults\",\"old\",\"Young Adults\",\"Middle-Aged Adults\",\"old\",\"Middle-Aged Adults\",\"Middle-Aged Adults\",\"Young Adults\",\"Middle-Aged Adults\",\"Middle-Aged Adults\",\"Middle-Aged Adults\",\"old\",\"old\",\"teen\",\"old\",\"Young Adults\",\"old\",\"Young Adults\",\"Young Adults\",\"Young Adults\",\"Middle-Aged Adults\",\"old\",\"old\",\"Middle-Aged Adults\",\"old\",\"Middle-Aged Adults\",\"teen\",\"old\",\"Middle-Aged Adults\",\"Middle-Aged Adults\",\"old\",\"Middle-Aged Adults\",\"Young Adults\",\"Middle-Aged Adults\",\"old\",\"Middle-Aged Adults\",\"old\",\"Middle-Aged Adults\",\"teen\",\"old\",\"old\",\"old\",\"Middle-Aged Adults\",\"Middle-Aged Adults\",\"Young Adults\",\"old\",\"Middle-Aged Adults\",\"Middle-Aged Adults\",\"Middle-Aged Adults\",\"Middle-Aged Adults\",\"Middle-Aged Adults\",\"old\",\"old\",\"Young Adults\",\"Young Adults\",\"old\",\"old\",\"Middle-Aged Adults\",\"Young Adults\",\"Middle-Aged Adults\",\"Young Adults\",\"old\",\"Middle-Aged Adults\",\"Middle-Aged Adults\",\"Middle-Aged Adults\",\"old\",\"old\",\"Young Adults\",\"old\",\"Young Adults\",\"Young Adults\",\"old\",\"Young Adults\",\"old\",\"Young Adults\",\"old\",\"Young Adults\",\"Middle-Aged Adults\",\"Middle-Aged Adults\",\"Young Adults\",\"old\",\"old\",\"Middle-Aged Adults\",\"Middle-Aged Adults\",\"Young Adults\",\"Young Adults\",\"Middle-Aged Adults\",\"old\",\"Middle-Aged Adults\",\"old\",\"old\",\"Middle-Aged Adults\",\"Middle-Aged Adults\",\"old\",\"old\",\"Young Adults\",\"Middle-Aged Adults\",\"teen\",\"old\",\"Middle-Aged Adults\",\"Middle-Aged Adults\",\"old\",\"old\",\"Middle-Aged Adults\",\"Middle-Aged Adults\",\"Middle-Aged Adults\",\"old\",\"Middle-Aged Adults\",\"Young Adults\",\"Young Adults\",\"Middle-Aged Adults\",\"old\",\"Young Adults\",\"Middle-Aged Adults\",\"old\",\"Young Adults\",\"Middle-Aged Adults\",\"old\",\"old\",\"Middle-Aged Adults\",\"old\",\"Middle-Aged Adults\",\"Young Adults\",\"old\",\"old\",\"Middle-Aged Adults\",\"old\",\"old\",\"Young Adults\",\"old\",\"Middle-Aged Adults\",\"old\",\"Middle-Aged Adults\",\"Middle-Aged Adults\",\"Middle-Aged Adults\",\"Middle-Aged Adults\",\"old\",\"Middle-Aged Adults\",\"Young Adults\",\"Young Adults\",\"old\",\"Middle-Aged Adults\",\"Young Adults\",\"old\",\"Middle-Aged Adults\",\"old\",\"old\",\"old\",\"old\",\"old\",\"Middle-Aged Adults\",\"Middle-Aged Adults\",\"Middle-Aged Adults\",\"Middle-Aged Adults\",\"Young Adults\",\"Young Adults\",\"old\",\"Middle-Aged Adults\",\"Middle-Aged Adults\",\"Young Adults\",\"Young Adults\",\"Middle-Aged Adults\",\"Middle-Aged Adults\",\"old\",\"old\",\"Young Adults\",\"old\",\"Young Adults\",\"Middle-Aged Adults\",\"Middle-Aged Adults\",\"Young Adults\",\"Middle-Aged Adults\",\"old\",\"Young Adults\",\"old\",\"old\",\"Middle-Aged Adults\",\"old\",\"Young Adults\",\"old\",\"teen\",\"old\",\"old\",\"old\",\"Young Adults\",\"old\",\"Young Adults\",\"old\",\"Middle-Aged Adults\",\"Young Adults\",\"old\",\"old\",\"Middle-Aged Adults\",\"Middle-Aged Adults\",\"Young Adults\",\"Middle-Aged Adults\",\"Young Adults\",\"old\",\"old\",\"Middle-Aged Adults\",\"old\",\"old\",\"Young Adults\",\"old\",\"Middle-Aged Adults\",\"Young Adults\",\"old\",\"old\",\"old\",\"old\",\"old\",\"Young Adults\",\"Middle-Aged Adults\",\"old\",\"Young Adults\",\"Middle-Aged Adults\",\"old\",\"Middle-Aged Adults\",\"old\",\"old\",\"Young Adults\",\"Young Adults\",\"Middle-Aged Adults\",\"old\",\"Middle-Aged Adults\",\"Young Adults\",\"Middle-Aged Adults\",\"Young Adults\",\"Middle-Aged Adults\",\"old\",\"old\",\"Middle-Aged Adults\",\"Middle-Aged Adults\",\"old\",\"old\",\"old\",\"Young Adults\",\"Young Adults\",\"old\",\"Young Adults\",\"Young Adults\",\"Young Adults\",\"old\",\"old\",\"old\",\"Middle-Aged Adults\",\"Young Adults\",\"old\",\"Middle-Aged Adults\",\"old\",\"old\",\"Young Adults\",\"Young Adults\",\"Young Adults\",\"Young Adults\",\"Middle-Aged Adults\",\"Middle-Aged Adults\",\"Young Adults\",\"Young Adults\",\"old\",\"Middle-Aged Adults\",\"Young Adults\",\"Middle-Aged Adults\",\"old\",\"Middle-Aged Adults\",\"old\",\"Young Adults\",\"old\",\"Middle-Aged Adults\",\"Middle-Aged Adults\",\"Middle-Aged Adults\",\"old\",\"old\",\"Middle-Aged Adults\",\"old\",\"Young Adults\",\"Young Adults\",\"old\",\"old\",\"old\",\"old\",\"Young Adults\",\"old\",\"Middle-Aged Adults\",\"Young Adults\",\"Middle-Aged Adults\",\"old\",\"Middle-Aged Adults\",\"old\",\"Young Adults\",\"Middle-Aged Adults\",\"old\",\"Young Adults\",\"Middle-Aged Adults\",\"old\",\"Young Adults\",\"Middle-Aged Adults\",\"old\",\"Middle-Aged Adults\",\"Middle-Aged Adults\",\"Young Adults\",\"old\",\"old\",\"old\",\"Middle-Aged Adults\",\"Middle-Aged Adults\",\"Middle-Aged Adults\",\"Young Adults\",\"Young Adults\",\"Middle-Aged Adults\",\"Young Adults\",\"old\",\"Middle-Aged Adults\",\"old\",\"old\",\"Middle-Aged Adults\",\"Young Adults\",\"Young Adults\",\"Young Adults\",\"old\",\"Middle-Aged Adults\",\"Middle-Aged Adults\",\"Middle-Aged Adults\",\"old\",\"Young Adults\",\"Middle-Aged Adults\",\"old\",\"Young Adults\",\"Middle-Aged Adults\",\"Young Adults\",\"Middle-Aged Adults\",\"old\",\"teen\",\"Young Adults\",\"Middle-Aged Adults\",\"old\",\"Middle-Aged Adults\",\"Middle-Aged Adults\",\"Young Adults\",\"old\",\"Young Adults\",\"old\",\"Middle-Aged Adults\",\"Middle-Aged Adults\",\"Middle-Aged Adults\",\"old\",\"Young Adults\",\"old\",\"old\",\"Young Adults\",\"old\",\"Middle-Aged Adults\",\"Middle-Aged Adults\",\"Young Adults\",\"Middle-Aged Adults\",\"Middle-Aged Adults\",\"old\",\"Young Adults\",\"Young Adults\",\"Middle-Aged Adults\",\"Young Adults\",\"old\",\"Young Adults\",\"Middle-Aged Adults\",\"Middle-Aged Adults\",\"Middle-Aged Adults\",\"old\",\"old\",\"Middle-Aged Adults\",\"old\",\"Middle-Aged Adults\",\"Young Adults\",\"old\",\"Young Adults\",\"old\",\"Middle-Aged Adults\",\"old\",\"teen\",\"Middle-Aged Adults\",\"Young Adults\",\"old\",\"Middle-Aged Adults\",\"old\",\"old\",\"old\",\"old\",\"Middle-Aged Adults\",\"Young Adults\",\"Young Adults\",\"Middle-Aged Adults\",\"Middle-Aged Adults\",\"Middle-Aged Adults\",\"old\",\"old\",\"Middle-Aged Adults\",\"Middle-Aged Adults\",\"old\",\"old\",\"Young Adults\",\"Young Adults\",\"Middle-Aged Adults\",\"old\",\"old\",\"Middle-Aged Adults\",\"old\",\"old\",\"Young Adults\",\"old\",\"teen\",\"Young Adults\",\"old\",\"old\",\"Middle-Aged Adults\",\"old\",\"old\",\"old\",\"old\",\"Middle-Aged Adults\",\"Young Adults\",\"old\",\"old\",\"Middle-Aged Adults\",\"old\",\"Middle-Aged Adults\",\"Middle-Aged Adults\",\"old\",\"Young Adults\",\"Middle-Aged Adults\",\"Young Adults\",\"Middle-Aged Adults\",\"Middle-Aged Adults\",\"Middle-Aged Adults\",\"old\",\"Middle-Aged Adults\",\"Middle-Aged Adults\",\"Middle-Aged Adults\",\"Young Adults\",\"Young Adults\",\"Middle-Aged Adults\",\"Middle-Aged Adults\",\"old\",\"Young Adults\",\"Middle-Aged Adults\",\"Middle-Aged Adults\",\"Young Adults\",\"Young Adults\",\"Middle-Aged Adults\",\"Young Adults\",\"Young Adults\",\"old\",\"Young Adults\",\"old\",\"old\",\"Middle-Aged Adults\",\"Middle-Aged Adults\",\"old\",\"old\",\"old\",\"Young Adults\",\"old\",\"Middle-Aged Adults\",\"Middle-Aged Adults\",\"Middle-Aged Adults\",\"old\",\"Middle-Aged Adults\",\"Middle-Aged Adults\",\"old\",\"Middle-Aged Adults\",\"Young Adults\",\"old\",\"Middle-Aged Adults\",\"old\",\"Young Adults\",\"Young Adults\",\"Middle-Aged Adults\",\"Young Adults\",\"old\",\"old\",\"Middle-Aged Adults\",\"Young Adults\",\"Young Adults\",\"Middle-Aged Adults\",\"old\",\"Young Adults\",\"Young Adults\",\"Middle-Aged Adults\",\"Young Adults\",\"old\",\"Young Adults\",\"old\",\"old\",\"old\",\"Middle-Aged Adults\",\"old\",\"Middle-Aged Adults\",\"teen\",\"old\",\"old\",\"Middle-Aged Adults\",\"Young Adults\",\"Young Adults\",\"old\",\"old\",\"Young Adults\",\"Middle-Aged Adults\",\"old\",\"Middle-Aged Adults\",\"old\",\"Young Adults\",\"old\",\"old\",\"old\",\"Young Adults\",\"old\",\"Middle-Aged Adults\",\"Middle-Aged Adults\",\"Young Adults\",\"Middle-Aged Adults\",\"Middle-Aged Adults\",\"old\",\"Middle-Aged Adults\",\"Middle-Aged Adults\",\"old\",\"Young Adults\",\"old\",\"Middle-Aged Adults\",\"Young Adults\",\"old\",\"Young Adults\",\"Young Adults\",\"Young Adults\",\"Middle-Aged Adults\",\"Middle-Aged Adults\",\"teen\",\"old\",\"old\",\"old\",\"old\",\"Middle-Aged Adults\",\"old\",\"old\",\"Young Adults\",\"Middle-Aged Adults\",\"Middle-Aged Adults\",\"Middle-Aged Adults\",\"Young Adults\",\"Middle-Aged Adults\",\"Middle-Aged Adults\",\"Middle-Aged Adults\",\"old\",\"teen\",\"old\",\"old\",\"Middle-Aged Adults\",\"Middle-Aged Adults\",\"Middle-Aged Adults\",\"Middle-Aged Adults\",\"Middle-Aged Adults\",\"Middle-Aged Adults\",\"Young Adults\",\"old\",\"old\",\"Young Adults\",\"teen\",\"old\",\"old\",\"Middle-Aged Adults\",\"Young Adults\",\"Middle-Aged Adults\",\"Young Adults\",\"Middle-Aged Adults\",\"teen\",\"Young Adults\",\"Young Adults\",\"old\",\"Young Adults\",\"Middle-Aged Adults\",\"old\",\"old\",\"Young Adults\",\"old\",\"Middle-Aged Adults\",\"old\",\"Middle-Aged Adults\",\"Middle-Aged Adults\",\"Middle-Aged Adults\",\"old\",\"Middle-Aged Adults\",\"Middle-Aged Adults\",\"old\",\"old\",\"Middle-Aged Adults\",\"old\",\"Young Adults\",\"old\",\"old\",\"Middle-Aged Adults\",\"old\",\"Middle-Aged Adults\",\"old\",\"Middle-Aged Adults\",\"teen\",\"Middle-Aged Adults\",\"old\",\"old\",\"old\",\"Middle-Aged Adults\",\"Middle-Aged Adults\",\"old\",\"old\",\"old\",\"old\",\"Middle-Aged Adults\",\"Middle-Aged Adults\",\"Middle-Aged Adults\",\"Young Adults\",\"old\",\"Middle-Aged Adults\",\"old\",\"old\",\"old\",\"old\",\"Middle-Aged Adults\",\"Young Adults\",\"Middle-Aged Adults\",\"old\",\"old\",\"old\",\"Middle-Aged Adults\",\"Young Adults\",\"Middle-Aged Adults\",\"teen\",\"Young Adults\",\"Middle-Aged Adults\",\"Middle-Aged Adults\",\"Young Adults\",\"old\",\"Middle-Aged Adults\",\"old\",\"old\",\"Young Adults\",\"old\",\"Young Adults\",\"Young Adults\",\"Middle-Aged Adults\",\"Young Adults\",\"old\",\"Young Adults\",\"Middle-Aged Adults\",\"Middle-Aged Adults\",\"old\",\"old\",\"old\",\"Young Adults\",\"old\",\"Middle-Aged Adults\",\"Middle-Aged Adults\",\"Young Adults\",\"Young Adults\",\"old\",\"old\",\"old\",\"Middle-Aged Adults\",\"old\",\"Middle-Aged Adults\",\"Middle-Aged Adults\",\"Young Adults\",\"Middle-Aged Adults\",\"Middle-Aged Adults\",\"Young Adults\",\"Young Adults\",\"old\",\"Middle-Aged Adults\",\"Young Adults\",\"Young Adults\",\"old\",\"Young Adults\",\"old\",\"Middle-Aged Adults\",\"Young Adults\",\"Middle-Aged Adults\",\"Middle-Aged Adults\",\"old\",\"Middle-Aged Adults\",\"Middle-Aged Adults\",\"old\",\"Middle-Aged Adults\",\"Young Adults\",\"Middle-Aged Adults\",\"Young Adults\",\"Young Adults\",\"Middle-Aged Adults\",\"old\",\"Middle-Aged Adults\",\"old\",\"old\",\"Middle-Aged Adults\",\"old\",\"Young Adults\",\"old\",\"Middle-Aged Adults\",\"old\",\"Young Adults\",\"old\",\"Middle-Aged Adults\",\"old\",\"old\",\"Middle-Aged Adults\",\"Middle-Aged Adults\",\"Middle-Aged Adults\",\"old\",\"Middle-Aged Adults\",\"Young Adults\",\"old\",\"old\",\"Middle-Aged Adults\",\"Young Adults\",\"Young Adults\",\"old\",\"Young Adults\",\"Young Adults\",\"Middle-Aged Adults\",\"Middle-Aged Adults\",\"old\",\"old\",\"old\",\"old\",\"Young Adults\",\"Middle-Aged Adults\",\"old\",\"Middle-Aged Adults\",\"old\",\"Young Adults\",\"Middle-Aged Adults\",\"teen\",\"old\",\"teen\",\"Middle-Aged Adults\",\"Young Adults\",\"old\",\"Middle-Aged Adults\",\"old\",\"Middle-Aged Adults\",\"Middle-Aged Adults\",\"Middle-Aged Adults\",\"Middle-Aged Adults\",\"Young Adults\",\"old\",\"old\",\"Middle-Aged Adults\",\"old\",\"Middle-Aged Adults\",\"old\",\"old\",\"old\",\"old\",\"old\",\"Middle-Aged Adults\",\"Middle-Aged Adults\",\"Young Adults\",\"Middle-Aged Adults\",\"old\",\"old\",\"Young Adults\",\"Middle-Aged Adults\",\"old\",\"Middle-Aged Adults\",\"old\",\"old\",\"Middle-Aged Adults\",\"Middle-Aged Adults\",\"Middle-Aged Adults\",\"Middle-Aged Adults\",\"Middle-Aged Adults\",\"old\",\"Young Adults\",\"Middle-Aged Adults\",\"old\",\"old\",\"Young Adults\",\"old\",\"old\",\"old\",\"old\",\"Young Adults\",\"Middle-Aged Adults\",\"Young Adults\",\"Middle-Aged Adults\",\"Young Adults\",\"Middle-Aged Adults\",\"old\",\"old\",\"Middle-Aged Adults\",\"Middle-Aged Adults\",\"old\",\"old\",\"Middle-Aged Adults\",\"Middle-Aged Adults\",\"Middle-Aged Adults\",\"Middle-Aged Adults\",\"Middle-Aged Adults\",\"old\",\"Middle-Aged Adults\",\"old\",\"old\",\"old\",\"Middle-Aged Adults\",\"Young Adults\",\"Young Adults\",\"old\",\"Young Adults\",\"Middle-Aged Adults\",\"Young Adults\",\"Young Adults\",\"old\",\"old\",\"old\",\"Young Adults\",\"old\",\"teen\",\"Young Adults\",\"old\",\"Young Adults\",\"Young Adults\",\"old\",\"Middle-Aged Adults\",\"Middle-Aged Adults\",\"Young Adults\",\"teen\",\"Middle-Aged Adults\",\"old\",\"Middle-Aged Adults\",\"old\",\"old\",\"old\",\"old\",\"old\",\"Middle-Aged Adults\",\"old\",\"Middle-Aged Adults\",\"old\",\"Middle-Aged Adults\",\"Young Adults\",\"Young Adults\",\"Young Adults\",\"teen\",\"old\",\"old\",\"old\",\"Middle-Aged Adults\",\"old\",\"Middle-Aged Adults\",\"Young Adults\",\"Middle-Aged Adults\",\"Middle-Aged Adults\",\"old\",\"old\",\"old\",\"Middle-Aged Adults\",\"old\",\"old\",\"Middle-Aged Adults\",\"old\",\"Young Adults\",\"Middle-Aged Adults\",\"Young Adults\",\"old\",\"teen\",\"Middle-Aged Adults\",\"Young Adults\",\"old\",\"Young Adults\",\"Middle-Aged Adults\",\"Young Adults\",\"old\",\"Young Adults\",\"Middle-Aged Adults\",\"Middle-Aged Adults\",\"Middle-Aged Adults\",\"old\",\"Middle-Aged Adults\",\"teen\",\"old\",\"Young Adults\",\"old\",\"old\",\"Middle-Aged Adults\",\"Young Adults\",\"old\",\"old\",\"old\",\"Middle-Aged Adults\",\"Middle-Aged Adults\",\"Middle-Aged Adults\",\"Young Adults\",\"old\",\"Middle-Aged Adults\",\"Middle-Aged Adults\",\"old\",\"Middle-Aged Adults\",\"old\",\"old\",\"Middle-Aged Adults\",\"Young Adults\",\"Middle-Aged Adults\",\"old\",\"old\",\"old\",\"old\",\"Middle-Aged Adults\",\"Middle-Aged Adults\",\"old\",\"Young Adults\",\"Young Adults\",\"Middle-Aged Adults\",\"old\",\"old\",\"Middle-Aged Adults\",\"Middle-Aged Adults\",\"old\",\"Middle-Aged Adults\",\"Middle-Aged Adults\",\"old\",\"Middle-Aged Adults\",\"old\",\"old\",\"Middle-Aged Adults\",\"old\",\"old\",\"Young Adults\",\"old\",\"old\",\"Young Adults\",\"Young Adults\",\"old\",\"Middle-Aged Adults\",\"Young Adults\",\"Middle-Aged Adults\",\"Middle-Aged Adults\",\"old\",\"old\",\"Middle-Aged Adults\",\"old\",\"Young Adults\",\"Young Adults\",\"old\",\"old\",\"Middle-Aged Adults\",\"Middle-Aged Adults\",\"Middle-Aged Adults\",\"Middle-Aged Adults\",\"Middle-Aged Adults\",\"Middle-Aged Adults\",\"Middle-Aged Adults\",\"old\",\"old\",\"Middle-Aged Adults\",\"Young Adults\",\"Middle-Aged Adults\",\"Young Adults\",\"old\",\"Middle-Aged Adults\",\"old\",\"Middle-Aged Adults\",\"teen\",\"old\",\"Young Adults\",\"old\",\"Middle-Aged Adults\",\"Young Adults\",\"old\",\"Middle-Aged Adults\",\"Middle-Aged Adults\",\"old\",\"old\",\"old\",\"old\",\"old\",\"Middle-Aged Adults\",\"Middle-Aged Adults\",\"old\",\"old\",\"Middle-Aged Adults\",\"old\",\"Middle-Aged Adults\",\"Middle-Aged Adults\",\"Middle-Aged Adults\",\"Young Adults\",\"Young Adults\",\"old\",\"Young Adults\",\"Middle-Aged Adults\",\"old\",\"old\",\"old\",\"Middle-Aged Adults\",\"Middle-Aged Adults\",\"old\",\"Middle-Aged Adults\",\"old\",\"old\",\"Young Adults\",\"Middle-Aged Adults\",\"Middle-Aged Adults\",\"Middle-Aged Adults\",\"Middle-Aged Adults\",\"old\",\"Middle-Aged Adults\",\"old\",\"Middle-Aged Adults\",\"old\",\"Middle-Aged Adults\",\"Young Adults\",\"old\",\"Young Adults\",\"old\",\"old\",\"Young Adults\",\"old\",\"Young Adults\",\"Middle-Aged Adults\",\"old\",\"old\",\"Middle-Aged Adults\",\"Young Adults\",\"old\",\"old\",\"old\",\"Middle-Aged Adults\",\"old\",\"old\",\"Middle-Aged Adults\",\"Middle-Aged Adults\",\"Middle-Aged Adults\",\"Middle-Aged Adults\",\"old\",\"old\",\"Middle-Aged Adults\",\"Middle-Aged Adults\",\"Young Adults\",\"Young Adults\",\"Middle-Aged Adults\",\"Middle-Aged Adults\",\"Middle-Aged Adults\",\"old\",\"old\",\"old\",\"Middle-Aged Adults\",\"Middle-Aged Adults\",\"old\",\"Young Adults\",\"Middle-Aged Adults\",\"Young Adults\",\"old\",\"Middle-Aged Adults\",\"Young Adults\",\"Middle-Aged Adults\",\"Middle-Aged Adults\",\"Middle-Aged Adults\",\"old\",\"Middle-Aged Adults\",\"Young Adults\",\"Young Adults\",\"old\",\"old\",\"old\",\"Middle-Aged Adults\",\"old\",\"old\",\"old\",\"Middle-Aged Adults\",\"Middle-Aged Adults\",\"old\",\"Middle-Aged Adults\",\"Middle-Aged Adults\",\"old\",\"Young Adults\",\"old\",\"old\",\"old\",\"Middle-Aged Adults\",\"Middle-Aged Adults\",\"old\",\"Middle-Aged Adults\",\"old\",\"old\",\"old\",\"old\",\"Middle-Aged Adults\",\"Young Adults\",\"Young Adults\",\"Young Adults\",\"Young Adults\",\"old\",\"Middle-Aged Adults\",\"Middle-Aged Adults\",\"Young Adults\",\"old\",\"Middle-Aged Adults\",\"old\",\"Young Adults\",\"Middle-Aged Adults\",\"old\",\"Middle-Aged Adults\",\"Middle-Aged Adults\",\"Middle-Aged Adults\",\"Middle-Aged Adults\",\"Young Adults\",\"Middle-Aged Adults\",\"old\",\"old\",\"Middle-Aged Adults\",\"Middle-Aged Adults\",\"Middle-Aged Adults\",\"Middle-Aged Adults\",\"Middle-Aged Adults\",\"Middle-Aged Adults\",\"Young Adults\",\"teen\",\"Middle-Aged Adults\",\"Young Adults\",\"old\",\"old\",\"Middle-Aged Adults\",\"Young Adults\",\"Middle-Aged Adults\",\"Young Adults\",\"Young Adults\",\"Middle-Aged Adults\",\"Middle-Aged Adults\",\"Middle-Aged Adults\",\"Young Adults\",\"Young Adults\",\"Middle-Aged Adults\",\"old\",\"Young Adults\",\"Young Adults\",\"Young Adults\",\"Middle-Aged Adults\",\"Middle-Aged Adults\",\"Young Adults\",\"Middle-Aged Adults\",\"Young Adults\",\"Middle-Aged Adults\",\"Middle-Aged Adults\",\"old\",\"Middle-Aged Adults\",\"Middle-Aged Adults\",\"Middle-Aged Adults\",\"Middle-Aged Adults\",\"Young Adults\",\"Middle-Aged Adults\",\"Young Adults\",\"old\",\"old\",\"Young Adults\",\"Middle-Aged Adults\",\"old\",\"Middle-Aged Adults\",\"old\",\"Middle-Aged Adults\",\"Middle-Aged Adults\",\"old\",\"Young Adults\",\"Middle-Aged Adults\",\"Middle-Aged Adults\",\"old\",\"Young Adults\",\"Middle-Aged Adults\",\"Young Adults\",\"Middle-Aged Adults\",\"old\",\"old\",\"Middle-Aged Adults\",\"Young Adults\",\"Middle-Aged Adults\",\"Middle-Aged Adults\",\"old\",\"Middle-Aged Adults\",\"Young Adults\",\"Young Adults\",\"Middle-Aged Adults\",\"Young Adults\",\"teen\",\"Middle-Aged Adults\",\"Young Adults\",\"Middle-Aged Adults\",\"old\",\"old\",\"old\",\"Middle-Aged Adults\",\"old\",\"Middle-Aged Adults\",\"Middle-Aged Adults\",\"Middle-Aged Adults\",\"Young Adults\",\"Middle-Aged Adults\",\"Middle-Aged Adults\",\"Middle-Aged Adults\",\"old\",\"teen\",\"teen\",\"old\",\"Middle-Aged Adults\",\"Middle-Aged Adults\",\"Middle-Aged Adults\",\"Middle-Aged Adults\",\"old\",\"Middle-Aged Adults\",\"Middle-Aged Adults\",\"Young Adults\",\"Middle-Aged Adults\",\"old\",\"Young Adults\",\"Middle-Aged Adults\",\"Middle-Aged Adults\",\"Middle-Aged Adults\",\"Young Adults\",\"old\",\"Middle-Aged Adults\",\"old\",\"old\",\"Middle-Aged Adults\",\"old\",\"Middle-Aged Adults\",\"Young Adults\",\"Middle-Aged Adults\",\"old\",\"Middle-Aged Adults\",\"Young Adults\",\"Young Adults\",\"Young Adults\",\"old\",\"old\",\"Young Adults\",\"Middle-Aged Adults\",\"Young Adults\",\"old\",\"old\",\"Young Adults\",\"Young Adults\",\"teen\",\"Middle-Aged Adults\",\"Middle-Aged Adults\",\"Middle-Aged Adults\",\"old\",\"old\",\"Young Adults\",\"old\",\"Middle-Aged Adults\",\"Young Adults\",\"Middle-Aged Adults\",\"Middle-Aged Adults\",\"old\",\"Middle-Aged Adults\",\"Middle-Aged Adults\",\"old\",\"Middle-Aged Adults\",\"old\",\"teen\",\"Middle-Aged Adults\",\"Middle-Aged Adults\",\"old\",\"Young Adults\",\"old\",\"Young Adults\",\"Young Adults\",\"Middle-Aged Adults\",\"old\",\"Young Adults\",\"Young Adults\",\"Young Adults\",\"old\",\"Middle-Aged Adults\",\"old\",\"Young Adults\",\"Middle-Aged Adults\",\"old\",\"old\",\"Young Adults\",\"Middle-Aged Adults\",\"Middle-Aged Adults\",\"Middle-Aged Adults\",\"old\",\"Middle-Aged Adults\",\"old\",\"Young Adults\",\"Middle-Aged Adults\",\"Middle-Aged Adults\",\"old\",\"old\",\"Middle-Aged Adults\",\"Middle-Aged Adults\",\"Middle-Aged Adults\",\"Middle-Aged Adults\",\"Young Adults\",\"Middle-Aged Adults\",\"old\",\"Young Adults\",\"old\",\"old\",\"Young Adults\",\"old\",\"Middle-Aged Adults\",\"Young Adults\",\"Young Adults\",\"Middle-Aged Adults\",\"old\",\"old\",\"old\",\"Middle-Aged Adults\",\"old\",\"old\",\"old\",\"Young Adults\",\"old\",\"old\",\"old\",\"Young Adults\",\"Middle-Aged Adults\",\"Middle-Aged Adults\",\"Young Adults\",\"old\",\"old\",\"old\",\"Young Adults\",\"old\",\"Young Adults\",\"Young Adults\",\"old\",\"old\",\"Middle-Aged Adults\",\"Middle-Aged Adults\",\"old\",\"old\",\"Young Adults\",\"Middle-Aged Adults\",\"Young Adults\",\"Middle-Aged Adults\",\"Middle-Aged Adults\",\"old\",\"Middle-Aged Adults\",\"old\",\"Young Adults\",\"Middle-Aged Adults\",\"Young Adults\",\"Middle-Aged Adults\",\"Young Adults\",\"Young Adults\",\"old\",\"Middle-Aged Adults\",\"Middle-Aged Adults\",\"old\",\"Middle-Aged Adults\",\"old\",\"Middle-Aged Adults\",\"Middle-Aged Adults\",\"old\",\"old\",\"Middle-Aged Adults\",\"Middle-Aged Adults\",\"Middle-Aged Adults\",\"old\",\"Young Adults\",\"old\",\"old\",\"old\",\"Young Adults\",\"Young Adults\",\"Middle-Aged Adults\",\"Middle-Aged Adults\",\"old\",\"old\",\"Young Adults\",\"Young Adults\",\"old\",\"Young Adults\",\"Young Adults\",\"Young Adults\",\"Middle-Aged Adults\",\"Middle-Aged Adults\",\"Young Adults\",\"Middle-Aged Adults\",\"Middle-Aged Adults\",\"old\",\"old\",\"Young Adults\",\"old\",\"old\",\"Young Adults\",\"Middle-Aged Adults\",\"old\",\"old\",\"Middle-Aged Adults\",\"Young Adults\",\"old\",\"Middle-Aged Adults\",\"Middle-Aged Adults\",\"old\",\"Middle-Aged Adults\",\"Middle-Aged Adults\",\"old\",\"Young Adults\",\"Middle-Aged Adults\",\"old\",\"Middle-Aged Adults\",\"old\",\"old\",\"Young Adults\",\"old\",\"Middle-Aged Adults\",\"old\",\"Young Adults\",\"Middle-Aged Adults\",\"Young Adults\",\"old\",\"old\",\"old\",\"Middle-Aged Adults\",\"old\",\"Young Adults\",\"old\",\"old\",\"Middle-Aged Adults\",\"teen\",\"Middle-Aged Adults\",\"Young Adults\",\"old\",\"old\",\"old\",\"Young Adults\",\"Young Adults\",\"old\",\"Young Adults\",\"old\",\"old\",\"Young Adults\",\"teen\",\"Middle-Aged Adults\",\"old\",\"Middle-Aged Adults\",\"old\",\"Middle-Aged Adults\",\"old\",\"Middle-Aged Adults\",\"old\",\"old\",\"old\",\"old\",\"old\",\"old\",\"Middle-Aged Adults\",\"Young Adults\",\"Middle-Aged Adults\",\"Middle-Aged Adults\",\"old\",\"Middle-Aged Adults\",\"teen\",\"old\",\"old\",\"Middle-Aged Adults\",\"Middle-Aged Adults\",\"old\",\"old\",\"Young Adults\",\"old\",\"old\",\"Young Adults\",\"Young Adults\",\"Middle-Aged Adults\",\"old\",\"Middle-Aged Adults\",\"old\",\"Middle-Aged Adults\",\"Middle-Aged Adults\",\"Middle-Aged Adults\",\"old\",\"Young Adults\",\"Middle-Aged Adults\",\"old\",\"Young Adults\",\"Young Adults\",\"Middle-Aged Adults\",\"old\",\"Middle-Aged Adults\",\"Middle-Aged Adults\",\"Young Adults\",\"old\",\"Middle-Aged Adults\",\"Young Adults\",\"Middle-Aged Adults\",\"old\",\"old\",\"Middle-Aged Adults\",\"Middle-Aged Adults\",\"old\",\"Middle-Aged Adults\",\"teen\",\"Middle-Aged Adults\",\"Young Adults\",\"Middle-Aged Adults\",\"old\",\"Young Adults\",\"Middle-Aged Adults\",\"Middle-Aged Adults\",\"old\",\"Middle-Aged Adults\",\"Middle-Aged Adults\",\"Middle-Aged Adults\",\"old\",\"Young Adults\",\"old\",\"old\",\"old\",\"Young Adults\",\"Young Adults\",\"old\",\"Middle-Aged Adults\",\"Middle-Aged Adults\",\"old\",\"Middle-Aged Adults\",\"old\",\"old\",\"Middle-Aged Adults\",\"Young Adults\",\"Middle-Aged Adults\",\"Young Adults\",\"old\",\"Middle-Aged Adults\",\"Middle-Aged Adults\",\"Middle-Aged Adults\",\"old\",\"old\",\"Young Adults\",\"old\",\"Young Adults\",\"old\",\"old\",\"old\",\"Middle-Aged Adults\",\"old\",\"Young Adults\",\"old\",\"Young Adults\",\"old\",\"Young Adults\",\"old\",\"Middle-Aged Adults\",\"old\",\"old\",\"Middle-Aged Adults\",\"Young Adults\",\"Middle-Aged Adults\",\"old\",\"Young Adults\",\"old\",\"old\",\"old\",\"old\",\"Young Adults\",\"old\",\"old\",\"old\",\"Middle-Aged Adults\",\"Middle-Aged Adults\",\"old\",\"Middle-Aged Adults\",\"Middle-Aged Adults\",\"old\",\"old\",\"Middle-Aged Adults\",\"old\",\"old\",\"teen\",\"Middle-Aged Adults\",\"old\",\"Middle-Aged Adults\",\"old\",\"old\",\"Young Adults\",\"Middle-Aged Adults\",\"old\",\"Middle-Aged Adults\",\"Young Adults\",\"Young Adults\",\"Middle-Aged Adults\",\"old\",\"Young Adults\",\"old\",\"Young Adults\",\"old\",\"Young Adults\",\"old\",\"Young Adults\",\"old\",\"Middle-Aged Adults\",\"Young Adults\",\"Young Adults\",\"teen\",\"Young Adults\",\"Young Adults\",\"Middle-Aged Adults\",\"Middle-Aged Adults\",\"Young Adults\",\"Young Adults\",\"Middle-Aged Adults\",\"old\",\"old\",\"Young Adults\",\"Young Adults\",\"old\",\"Young Adults\",\"old\",\"Young Adults\",\"Young Adults\",\"old\",\"old\",\"old\",\"Middle-Aged Adults\",\"Young Adults\",\"Middle-Aged Adults\",\"Young Adults\",\"Middle-Aged Adults\",\"Young Adults\",\"old\",\"Middle-Aged Adults\",\"Middle-Aged Adults\",\"old\",\"Middle-Aged Adults\",\"Young Adults\",\"Middle-Aged Adults\",\"old\",\"old\",\"Middle-Aged Adults\",\"Young Adults\",\"Middle-Aged Adults\",\"Middle-Aged Adults\",\"Middle-Aged Adults\",\"old\",\"Middle-Aged Adults\",\"Young Adults\",\"old\",\"old\",\"Middle-Aged Adults\",\"old\",\"Middle-Aged Adults\",\"old\",\"old\",\"Young Adults\",\"Middle-Aged Adults\",\"Middle-Aged Adults\",\"Middle-Aged Adults\",\"old\",\"old\",\"Middle-Aged Adults\",\"old\",\"Middle-Aged Adults\",\"old\",\"Young Adults\",\"Young Adults\",\"Middle-Aged Adults\",\"old\",\"old\",\"old\",\"old\",\"Young Adults\",\"Middle-Aged Adults\",\"old\",\"Middle-Aged Adults\",\"old\",\"Young Adults\",\"Middle-Aged Adults\",\"Young Adults\",\"old\",\"Young Adults\",\"Middle-Aged Adults\",\"teen\",\"Young Adults\",\"old\",\"old\",\"Young Adults\",\"Young Adults\",\"old\",\"old\",\"old\",\"Middle-Aged Adults\",\"Middle-Aged Adults\",\"Young Adults\",\"Middle-Aged Adults\",\"Young Adults\",\"old\",\"Young Adults\",\"Middle-Aged Adults\",\"old\",\"Middle-Aged Adults\",\"Middle-Aged Adults\",\"old\",\"Middle-Aged Adults\",\"Middle-Aged Adults\",\"Young Adults\",\"old\",\"Young Adults\",\"old\",\"Middle-Aged Adults\",\"Young Adults\",\"Middle-Aged Adults\",\"teen\",\"Young Adults\",\"old\",\"old\",\"Young Adults\",\"Middle-Aged Adults\",\"old\",\"old\",\"old\",\"Middle-Aged Adults\",\"Middle-Aged Adults\",\"Middle-Aged Adults\",\"old\",\"Middle-Aged Adults\",\"Middle-Aged Adults\",\"old\",\"Young Adults\",\"old\",\"old\",\"old\",\"Middle-Aged Adults\",\"old\",\"Middle-Aged Adults\",\"Middle-Aged Adults\",\"old\",\"teen\",\"Middle-Aged Adults\",\"old\",\"Middle-Aged Adults\",\"Middle-Aged Adults\",\"old\",\"old\",\"old\",\"Middle-Aged Adults\",\"old\",\"Middle-Aged Adults\",\"Young Adults\",\"Middle-Aged Adults\",\"old\",\"old\",\"Middle-Aged Adults\",\"old\",\"Young Adults\",\"Middle-Aged Adults\",\"Middle-Aged Adults\",\"old\",\"Middle-Aged Adults\",\"Middle-Aged Adults\",\"Middle-Aged Adults\",\"old\",\"old\",\"old\",\"Young Adults\",\"old\",\"old\",\"Young Adults\",\"Middle-Aged Adults\",\"old\",\"teen\",\"Middle-Aged Adults\",\"old\",\"Middle-Aged Adults\",\"old\",\"Young Adults\",\"old\",\"old\",\"Middle-Aged Adults\",\"Middle-Aged Adults\",\"Middle-Aged Adults\",\"Middle-Aged Adults\",\"Young Adults\",\"Middle-Aged Adults\",\"old\",\"Young Adults\",\"Middle-Aged Adults\",\"old\",\"Young Adults\",\"Middle-Aged Adults\",\"old\",\"Middle-Aged Adults\",\"Young Adults\",\"Young Adults\",\"old\",\"old\",\"Middle-Aged Adults\",\"Young Adults\",\"Middle-Aged Adults\",\"Middle-Aged Adults\",\"Middle-Aged Adults\",\"old\",\"old\",\"old\",\"old\",\"Middle-Aged Adults\",\"Young Adults\",\"Young Adults\",\"old\",\"Middle-Aged Adults\",\"Young Adults\",\"Middle-Aged Adults\",\"old\",\"Middle-Aged Adults\",\"old\",\"old\",\"old\",\"Middle-Aged Adults\",\"Middle-Aged Adults\",\"Middle-Aged Adults\",\"Young Adults\",\"old\",\"Middle-Aged Adults\",\"Middle-Aged Adults\",\"Middle-Aged Adults\",\"Young Adults\",\"old\",\"old\",\"Middle-Aged Adults\",\"old\",\"Young Adults\",\"old\",\"Young Adults\",\"Middle-Aged Adults\",\"old\",\"Middle-Aged Adults\",\"Middle-Aged Adults\",\"old\",\"Middle-Aged Adults\",\"Middle-Aged Adults\",\"Young Adults\",\"old\",\"Middle-Aged Adults\",\"old\",\"old\",\"Young Adults\",\"Middle-Aged Adults\",\"old\",\"Young Adults\",\"old\",\"Young Adults\",\"Middle-Aged Adults\",\"Young Adults\",\"old\",\"old\",\"Middle-Aged Adults\",\"Middle-Aged Adults\",\"Young Adults\",\"old\",\"Middle-Aged Adults\",\"old\",\"Young Adults\",\"Middle-Aged Adults\",\"Young Adults\",\"Middle-Aged Adults\",\"Middle-Aged Adults\",\"Middle-Aged Adults\",\"Young Adults\",\"Middle-Aged Adults\",\"Middle-Aged Adults\",\"old\",\"old\",\"Young Adults\",\"Middle-Aged Adults\",\"Young Adults\",\"Middle-Aged Adults\",\"Young Adults\",\"Middle-Aged Adults\",\"Middle-Aged Adults\",\"Middle-Aged Adults\",\"Young Adults\",\"old\",\"old\",\"Young Adults\",\"old\",\"Middle-Aged Adults\",\"Young Adults\",\"Middle-Aged Adults\",\"Young Adults\",\"Middle-Aged Adults\",\"old\",\"old\",\"Middle-Aged Adults\",\"Middle-Aged Adults\",\"Middle-Aged Adults\",\"Middle-Aged Adults\",\"Middle-Aged Adults\",\"old\",\"Young Adults\",\"Middle-Aged Adults\",\"old\",\"Middle-Aged Adults\",\"Young Adults\",\"Young Adults\",\"Middle-Aged Adults\",\"old\",\"Middle-Aged Adults\",\"old\",\"Young Adults\",\"Middle-Aged Adults\",\"Middle-Aged Adults\",\"Middle-Aged Adults\",\"old\",\"old\",\"Young Adults\",\"Young Adults\",\"Middle-Aged Adults\",\"Middle-Aged Adults\",\"Middle-Aged Adults\",\"Middle-Aged Adults\",\"Middle-Aged Adults\",\"old\",\"old\",\"old\",\"Middle-Aged Adults\",\"old\",\"Middle-Aged Adults\",\"old\",\"old\",\"Middle-Aged Adults\",\"Middle-Aged Adults\",\"old\",\"Middle-Aged Adults\",\"Young Adults\",\"Middle-Aged Adults\",\"Young Adults\",\"Young Adults\",\"Middle-Aged Adults\",\"Young Adults\",\"old\",\"old\",\"Young Adults\",\"Middle-Aged Adults\",\"old\",\"Middle-Aged Adults\",\"old\",\"Young Adults\",\"Middle-Aged Adults\",\"old\",\"Middle-Aged Adults\",\"Middle-Aged Adults\",\"old\",\"old\",\"old\",\"Middle-Aged Adults\",\"old\",\"old\",\"Middle-Aged Adults\",\"Middle-Aged Adults\",\"old\",\"Young Adults\",\"old\",\"Middle-Aged Adults\",\"Middle-Aged Adults\",\"Middle-Aged Adults\",\"old\",\"Young Adults\",\"old\",\"old\",\"Middle-Aged Adults\",\"teen\",\"Middle-Aged Adults\",\"Young Adults\",\"Middle-Aged Adults\",\"old\",\"old\",\"Young Adults\",\"Middle-Aged Adults\",\"Middle-Aged Adults\",\"Young Adults\",\"Middle-Aged Adults\",\"Young Adults\",\"old\",\"Middle-Aged Adults\",\"Young Adults\",\"Young Adults\",\"old\",\"old\",\"Middle-Aged Adults\",\"old\",\"Middle-Aged Adults\",\"old\",\"old\",\"old\",\"old\",\"Middle-Aged Adults\",\"old\",\"Young Adults\",\"Young Adults\",\"old\",\"old\",\"Middle-Aged Adults\",\"old\",\"old\",\"old\",\"teen\",\"Middle-Aged Adults\",\"old\",\"Middle-Aged Adults\",\"Young Adults\",\"Middle-Aged Adults\",\"old\",\"Young Adults\",\"old\",\"Middle-Aged Adults\",\"Middle-Aged Adults\",\"Middle-Aged Adults\",\"Middle-Aged Adults\",\"Middle-Aged Adults\",\"Middle-Aged Adults\",\"Young Adults\",\"old\",\"old\",\"Middle-Aged Adults\",\"Middle-Aged Adults\",\"Middle-Aged Adults\",\"Middle-Aged Adults\",\"old\",\"Young Adults\",\"Young Adults\",\"Middle-Aged Adults\",\"old\",\"old\",\"Middle-Aged Adults\",\"old\",\"old\",\"Young Adults\",\"Young Adults\",\"old\",\"Young Adults\",\"old\",\"old\",\"old\",\"Middle-Aged Adults\",\"Middle-Aged Adults\",\"old\",\"old\",\"old\",\"Young Adults\",\"Middle-Aged Adults\",\"Young Adults\",\"Middle-Aged Adults\",\"old\",\"Middle-Aged Adults\",\"Middle-Aged Adults\",\"Young Adults\",\"old\",\"old\",\"Young Adults\",\"Young Adults\",\"old\",\"old\",\"Middle-Aged Adults\",\"old\",\"Middle-Aged Adults\",\"Middle-Aged Adults\",\"Middle-Aged Adults\",\"old\",\"Young Adults\",\"Middle-Aged Adults\",\"Middle-Aged Adults\",\"old\",\"old\",\"Middle-Aged Adults\",\"old\",\"Young Adults\",\"Young Adults\",\"Young Adults\",\"Middle-Aged Adults\",\"Young Adults\",\"Young Adults\",\"Middle-Aged Adults\",\"Middle-Aged Adults\",\"old\",\"old\",\"Middle-Aged Adults\",\"old\",\"Young Adults\",\"old\",\"old\",\"Middle-Aged Adults\",\"old\",\"old\",\"old\",\"old\",\"old\",\"Middle-Aged Adults\",\"Middle-Aged Adults\",\"old\",\"Middle-Aged Adults\",\"old\",\"old\",\"Middle-Aged Adults\",\"Middle-Aged Adults\",\"Middle-Aged Adults\",\"Middle-Aged Adults\",\"Middle-Aged Adults\",\"Young Adults\",\"old\",\"Young Adults\",\"old\",\"Young Adults\",\"Middle-Aged Adults\",\"Middle-Aged Adults\",\"teen\",\"old\",\"old\",\"Middle-Aged Adults\",\"old\",\"Young Adults\",\"Young Adults\",\"teen\",\"Young Adults\",\"Young Adults\",\"old\",\"Young Adults\",\"old\",\"old\",\"Middle-Aged Adults\",\"Middle-Aged Adults\",\"Middle-Aged Adults\",\"Young Adults\",\"Young Adults\",\"Middle-Aged Adults\",\"Middle-Aged Adults\",\"old\",\"old\",\"old\",\"old\",\"Middle-Aged Adults\",\"Middle-Aged Adults\",\"Middle-Aged Adults\",\"old\",\"old\",\"old\",\"teen\",\"Middle-Aged Adults\",\"Middle-Aged Adults\",\"Middle-Aged Adults\",\"old\",\"old\",\"Middle-Aged Adults\",\"old\",\"Middle-Aged Adults\",\"Young Adults\",\"Middle-Aged Adults\",\"old\",\"Young Adults\",\"old\",\"Middle-Aged Adults\",\"old\",\"Young Adults\",\"Young Adults\",\"old\",\"old\",\"old\",\"Middle-Aged Adults\",\"old\",\"old\",\"old\",\"Middle-Aged Adults\",\"Middle-Aged Adults\",\"old\",\"old\",\"old\",\"Young Adults\",\"old\",\"Young Adults\",\"Young Adults\",\"old\",\"Middle-Aged Adults\",\"Middle-Aged Adults\",\"Middle-Aged Adults\",\"Middle-Aged Adults\",\"old\",\"Middle-Aged Adults\",\"Young Adults\",\"Middle-Aged Adults\",\"old\",\"Middle-Aged Adults\",\"old\",\"old\",\"Young Adults\",\"Middle-Aged Adults\",\"old\",\"Middle-Aged Adults\",\"old\",\"Middle-Aged Adults\",\"Middle-Aged Adults\",\"Middle-Aged Adults\",\"Young Adults\",\"old\",\"old\",\"Young Adults\",\"Middle-Aged Adults\",\"old\",\"Middle-Aged Adults\",\"Middle-Aged Adults\",\"Middle-Aged Adults\",\"old\",\"old\",\"old\",\"old\",\"Young Adults\",\"Young Adults\",\"Young Adults\",\"Young Adults\",\"old\",\"Middle-Aged Adults\",\"Young Adults\",\"old\",\"old\",\"Middle-Aged Adults\",\"Middle-Aged Adults\",\"old\",\"Middle-Aged Adults\",\"Middle-Aged Adults\",\"Middle-Aged Adults\",\"old\",\"Young Adults\",\"Middle-Aged Adults\",\"Middle-Aged Adults\",\"Middle-Aged Adults\",\"Young Adults\",\"Young Adults\",\"old\",\"Middle-Aged Adults\",\"old\",\"old\",\"Middle-Aged Adults\",\"Middle-Aged Adults\",\"Middle-Aged Adults\",\"old\",\"old\",\"old\",\"Middle-Aged Adults\",\"Young Adults\",\"Young Adults\",\"Middle-Aged Adults\",\"old\",\"old\",\"Middle-Aged Adults\",\"Young Adults\",\"old\",\"Middle-Aged Adults\",\"old\",\"Young Adults\",\"old\",\"Young Adults\",\"old\",\"old\",\"Young Adults\",\"old\",\"old\",\"Middle-Aged Adults\",\"Young Adults\",\"Middle-Aged Adults\",\"Middle-Aged Adults\",\"Young Adults\",\"Young Adults\",\"Middle-Aged Adults\",\"old\",\"teen\",\"old\",\"Middle-Aged Adults\",\"Middle-Aged Adults\",\"Young Adults\",\"old\",\"old\",\"old\",\"Middle-Aged Adults\",\"Middle-Aged Adults\",\"Young Adults\",\"Middle-Aged Adults\",\"Young Adults\",\"old\",\"Middle-Aged Adults\",\"old\",\"old\",\"Middle-Aged Adults\",\"Young Adults\",\"Middle-Aged Adults\",\"Middle-Aged Adults\",\"Middle-Aged Adults\",\"Middle-Aged Adults\",\"Middle-Aged Adults\",\"old\",\"Young Adults\",\"old\",\"old\",\"Middle-Aged Adults\",\"Middle-Aged Adults\",\"Young Adults\",\"Young Adults\",\"Young Adults\",\"Middle-Aged Adults\",\"old\",\"old\",\"Young Adults\",\"old\",\"Young Adults\",\"Young Adults\",\"Young Adults\",\"Young Adults\",\"Middle-Aged Adults\",\"Middle-Aged Adults\",\"Middle-Aged Adults\",\"old\",\"Middle-Aged Adults\",\"Middle-Aged Adults\",\"Middle-Aged Adults\",\"Middle-Aged Adults\",\"Middle-Aged Adults\",\"old\",\"Middle-Aged Adults\",\"Young Adults\",\"Middle-Aged Adults\",\"Middle-Aged Adults\",\"old\",\"Middle-Aged Adults\",\"Middle-Aged Adults\",\"Middle-Aged Adults\",\"Middle-Aged Adults\",\"Young Adults\",\"Middle-Aged Adults\",\"Young Adults\",\"Middle-Aged Adults\",\"old\",\"old\",\"Young Adults\",\"old\",\"Young Adults\",\"Middle-Aged Adults\",\"Middle-Aged Adults\",\"old\",\"Middle-Aged Adults\",\"old\",\"Middle-Aged Adults\",\"Young Adults\",\"Middle-Aged Adults\",\"old\",\"Middle-Aged Adults\",\"old\",\"Middle-Aged Adults\",\"Middle-Aged Adults\",\"Middle-Aged Adults\",\"Middle-Aged Adults\",\"old\",\"old\",\"Middle-Aged Adults\",\"Middle-Aged Adults\",\"Young Adults\",\"Young Adults\",\"old\",\"Middle-Aged Adults\",\"Middle-Aged Adults\",\"Middle-Aged Adults\",\"Young Adults\",\"Young Adults\",\"old\",\"Young Adults\",\"old\",\"Middle-Aged Adults\",\"Middle-Aged Adults\",\"Young Adults\",\"Middle-Aged Adults\",\"Young Adults\",\"old\",\"Middle-Aged Adults\",\"Young Adults\",\"Middle-Aged Adults\",\"Young Adults\",\"old\",\"old\",\"Young Adults\",\"Young Adults\",\"old\",\"Young Adults\",\"Middle-Aged Adults\",\"Middle-Aged Adults\",\"Middle-Aged Adults\",\"Middle-Aged Adults\",\"Middle-Aged Adults\",\"Middle-Aged Adults\",\"Young Adults\",\"old\",\"Middle-Aged Adults\",\"Middle-Aged Adults\",\"old\",\"Middle-Aged Adults\",\"old\",\"old\",\"Young Adults\",\"Young Adults\",\"Middle-Aged Adults\",\"Middle-Aged Adults\",\"old\",\"Young Adults\",\"Middle-Aged Adults\",\"old\",\"Middle-Aged Adults\",\"old\",\"old\",\"teen\",\"Middle-Aged Adults\",\"Young Adults\",\"Middle-Aged Adults\",\"Young Adults\",\"Middle-Aged Adults\",\"old\",\"Middle-Aged Adults\",\"Middle-Aged Adults\",\"old\",\"old\",\"old\",\"Middle-Aged Adults\",\"old\",\"Middle-Aged Adults\",\"Young Adults\",\"Middle-Aged Adults\",\"Young Adults\",\"Middle-Aged Adults\",\"teen\",\"Middle-Aged Adults\",\"Middle-Aged Adults\",\"Young Adults\",\"Middle-Aged Adults\",\"Middle-Aged Adults\",\"old\",\"Middle-Aged Adults\",\"Middle-Aged Adults\",\"old\",\"old\",\"Middle-Aged Adults\",\"Middle-Aged Adults\",\"Young Adults\",\"old\",\"old\",\"Young Adults\",\"Middle-Aged Adults\",\"Middle-Aged Adults\",\"old\",\"Young Adults\",\"old\",\"Middle-Aged Adults\",\"old\",\"Young Adults\",\"Middle-Aged Adults\",\"Middle-Aged Adults\",\"old\",\"Young Adults\",\"Middle-Aged Adults\",\"Middle-Aged Adults\",\"Middle-Aged Adults\",\"Young Adults\",\"Middle-Aged Adults\",\"old\",\"Middle-Aged Adults\",\"Middle-Aged Adults\",\"old\",\"Middle-Aged Adults\",\"teen\",\"Middle-Aged Adults\",\"old\",\"Middle-Aged Adults\",\"Middle-Aged Adults\",\"old\",\"Middle-Aged Adults\",\"Young Adults\",\"Young Adults\",\"Young Adults\",\"Middle-Aged Adults\",\"Young Adults\",\"Middle-Aged Adults\",\"Middle-Aged Adults\",\"Middle-Aged Adults\",\"old\",\"Young Adults\",\"Middle-Aged Adults\",\"old\",\"Middle-Aged Adults\",\"Young Adults\",\"Young Adults\",\"Middle-Aged Adults\",\"old\",\"old\",\"old\",\"old\",\"Middle-Aged Adults\",\"old\",\"old\",\"old\",\"old\",\"old\",\"Young Adults\",\"Young Adults\",\"old\",\"old\",\"old\",\"old\",\"Middle-Aged Adults\",\"old\",\"old\",\"old\",\"Middle-Aged Adults\",\"old\",\"old\",\"Young Adults\",\"old\",\"Middle-Aged Adults\",\"Young Adults\",\"old\",\"old\",\"old\",\"teen\",\"teen\",\"old\",\"Middle-Aged Adults\",\"Middle-Aged Adults\",\"old\",\"Middle-Aged Adults\",\"Young Adults\",\"Middle-Aged Adults\",\"Young Adults\",\"Middle-Aged Adults\",\"Young Adults\",\"old\",\"Young Adults\",\"Middle-Aged Adults\",\"Young Adults\",\"old\",\"Young Adults\",\"old\",\"Middle-Aged Adults\",\"Middle-Aged Adults\",\"old\",\"Young Adults\",\"Young Adults\",\"old\",\"Middle-Aged Adults\",\"Middle-Aged Adults\",\"Middle-Aged Adults\",\"Middle-Aged Adults\",\"Young Adults\",\"Middle-Aged Adults\",\"Young Adults\",\"Middle-Aged Adults\",\"old\",\"old\",\"Young Adults\",\"Young Adults\",\"Young Adults\",\"Young Adults\",\"Young Adults\",\"Middle-Aged Adults\",\"old\",\"Middle-Aged Adults\",\"old\",\"Middle-Aged Adults\",\"old\",\"old\",\"Middle-Aged Adults\",\"Middle-Aged Adults\",\"Young Adults\",\"Young Adults\",\"teen\",\"old\",\"Middle-Aged Adults\",\"old\",\"Middle-Aged Adults\",\"Middle-Aged Adults\",\"Middle-Aged Adults\",\"Middle-Aged Adults\",\"Young Adults\",\"Middle-Aged Adults\",\"old\",\"Middle-Aged Adults\",\"Middle-Aged Adults\",\"Middle-Aged Adults\",\"Young Adults\",\"Middle-Aged Adults\",\"old\",\"Middle-Aged Adults\",\"old\",\"old\",\"old\",\"Middle-Aged Adults\",\"Young Adults\",\"Middle-Aged Adults\",\"old\",\"old\",\"Middle-Aged Adults\",\"Middle-Aged Adults\",\"Middle-Aged Adults\",\"Young Adults\",\"Middle-Aged Adults\",\"old\",\"Middle-Aged Adults\",\"old\",\"Middle-Aged Adults\",\"Middle-Aged Adults\",\"old\",\"Middle-Aged Adults\",\"Middle-Aged Adults\",\"old\",\"old\",\"Young Adults\",\"Young Adults\",\"old\",\"Young Adults\",\"Young Adults\",\"Middle-Aged Adults\",\"old\",\"Young Adults\",\"Young Adults\",\"Young Adults\",\"old\",\"old\",\"old\",\"old\",\"Young Adults\",\"old\",\"old\",\"old\",\"Young Adults\",\"Middle-Aged Adults\",\"old\",\"old\",\"Middle-Aged Adults\",\"Middle-Aged Adults\",\"old\",\"Young Adults\",\"Middle-Aged Adults\",\"old\",\"old\",\"Young Adults\",\"Young Adults\",\"Middle-Aged Adults\",\"Young Adults\",\"Young Adults\",\"Middle-Aged Adults\",\"old\",\"Middle-Aged Adults\",\"old\",\"Middle-Aged Adults\",\"Young Adults\",\"old\",\"old\",\"old\",\"Middle-Aged Adults\",\"Middle-Aged Adults\",\"old\",\"old\",\"Young Adults\",\"old\",\"Young Adults\",\"Middle-Aged Adults\",\"old\",\"Young Adults\",\"old\",\"Young Adults\",\"Young Adults\",\"Middle-Aged Adults\",\"Middle-Aged Adults\",\"Middle-Aged Adults\",\"old\",\"old\",\"old\",\"Middle-Aged Adults\",\"teen\",\"old\",\"old\",\"Middle-Aged Adults\",\"Middle-Aged Adults\",\"Young Adults\",\"Young Adults\",\"old\",\"Young Adults\",\"Young Adults\",\"Young Adults\",\"teen\",\"Middle-Aged Adults\",\"Middle-Aged Adults\",\"old\",\"Young Adults\",\"Middle-Aged Adults\",\"old\",\"Middle-Aged Adults\",\"Young Adults\",\"Middle-Aged Adults\",\"Middle-Aged Adults\",\"Middle-Aged Adults\",\"Young Adults\",\"Middle-Aged Adults\",\"Middle-Aged Adults\",\"Middle-Aged Adults\",\"old\",\"old\",\"old\",\"Young Adults\",\"old\",\"old\",\"Young Adults\",\"Middle-Aged Adults\",\"Young Adults\",\"Middle-Aged Adults\",\"Middle-Aged Adults\",\"Young Adults\",\"Middle-Aged Adults\",\"Middle-Aged Adults\",\"old\",\"old\",\"old\",\"old\",\"Middle-Aged Adults\",\"old\",\"old\",\"old\",\"Young Adults\",\"Middle-Aged Adults\",\"Young Adults\",\"old\",\"old\",\"Middle-Aged Adults\",\"old\",\"Young Adults\",\"Young Adults\",\"Middle-Aged Adults\",\"Young Adults\",\"old\",\"Middle-Aged Adults\",\"Young Adults\",\"Middle-Aged Adults\",\"Young Adults\",\"old\",\"old\",\"old\",\"Middle-Aged Adults\",\"Middle-Aged Adults\",\"old\",\"old\",\"Middle-Aged Adults\",\"Middle-Aged Adults\",\"Middle-Aged Adults\",\"old\",\"Young Adults\",\"Middle-Aged Adults\",\"Middle-Aged Adults\",\"old\",\"Middle-Aged Adults\",\"Middle-Aged Adults\",\"Middle-Aged Adults\",\"old\",\"old\",\"old\",\"Young Adults\",\"Young Adults\",\"old\",\"Middle-Aged Adults\",\"Middle-Aged Adults\",\"Middle-Aged Adults\",\"teen\",\"Middle-Aged Adults\",\"Middle-Aged Adults\",\"old\",\"Middle-Aged Adults\",\"Middle-Aged Adults\",\"Middle-Aged Adults\",\"old\",\"Middle-Aged Adults\",\"Middle-Aged Adults\",\"Young Adults\",\"old\",\"old\",\"Middle-Aged Adults\",\"Middle-Aged Adults\",\"Young Adults\",\"old\",\"Middle-Aged Adults\",\"old\",\"Middle-Aged Adults\",\"Middle-Aged Adults\",\"old\",\"Middle-Aged Adults\",\"old\",\"Young Adults\",\"Middle-Aged Adults\",\"old\",\"Middle-Aged Adults\",\"Middle-Aged Adults\",\"old\",\"old\",\"Middle-Aged Adults\",\"Middle-Aged Adults\",\"old\",\"Young Adults\",\"old\",\"Middle-Aged Adults\",\"old\",\"Young Adults\",\"old\",\"old\",\"old\",\"Young Adults\",\"Middle-Aged Adults\",\"Young Adults\",\"Middle-Aged Adults\",\"old\",\"old\",\"old\",\"Middle-Aged Adults\",\"Middle-Aged Adults\",\"Middle-Aged Adults\",\"Young Adults\",\"old\",\"old\",\"old\",\"old\",\"Middle-Aged Adults\",\"old\",\"Young Adults\",\"old\",\"Middle-Aged Adults\",\"teen\",\"Young Adults\",\"old\",\"old\",\"Middle-Aged Adults\",\"Middle-Aged Adults\",\"old\",\"old\",\"old\",\"Young Adults\",\"old\",\"Young Adults\",\"Middle-Aged Adults\",\"old\",\"Middle-Aged Adults\",\"Middle-Aged Adults\",\"Middle-Aged Adults\",\"Middle-Aged Adults\",\"Middle-Aged Adults\",\"Middle-Aged Adults\",\"Middle-Aged Adults\",\"old\",\"Middle-Aged Adults\",\"Middle-Aged Adults\",\"Middle-Aged Adults\",\"Young Adults\",\"old\",\"Middle-Aged Adults\",\"old\",\"Middle-Aged Adults\",\"Middle-Aged Adults\",\"old\"],\"xaxis\":\"x\",\"y\":[55,19,50,21,45,46,63,27,26,57,53,30,61,65,64,64,25,53,52,66,21,31,56,31,18,18,38,56,54,31,57,33,36,54,36,54,35,35,29,70,69,67,20,25,39,50,57,55,42,68,49,59,42,29,47,40,41,21,69,63,50,55,30,33,65,65,31,45,57,48,22,36,18,48,49,64,50,22,50,38,19,67,19,36,52,53,24,52,33,47,25,44,61,37,58,37,32,21,20,26,62,27,51,54,55,69,64,28,70,58,56,26,37,44,70,53,55,50,50,38,64,19,40,57,44,49,43,24,20,24,44,28,30,52,43,43,39,68,68,49,63,56,37,30,19,24,52,63,37,38,35,28,30,69,41,63,35,36,25,58,27,65,54,54,59,42,46,33,34,27,52,29,54,25,41,53,53,21,61,64,51,32,38,58,32,46,39,19,50,36,65,64,46,36,51,51,38,59,57,54,25,69,57,70,24,67,24,62,57,55,45,69,67,30,24,62,43,35,28,32,39,28,47,20,63,25,29,50,18,70,66,28,54,19,20,43,38,50,64,49,47,36,55,25,53,49,35,29,47,53,33,21,32,52,67,43,58,20,61,32,38,21,37,27,36,32,51,64,68,68,33,65,48,69,59,48,25,29,57,23,45,38,21,32,63,29,27,56,30,49,58,57,60,69,70,53,25,48,69,25,29,46,37,20,40,60,26,29,66,66,56,69,38,42,30,66,36,58,45,47,66,41,41,66,37,70,62,61,48,70,46,31,19,39,41,20,36,32,69,40,40,20,64,27,24,48,49,36,56,37,42,28,27,63,58,37,56,18,48,31,51,65,53,55,62,55,64,52,24,38,59,27,24,23,69,59,51,63,54,32,39,66,28,50,70,67,64,45,22,27,25,37,26,33,43,37,46,22,20,60,39,43,31,19,35,41,52,45,34,35,29,59,24,70,29,67,36,23,18,53,32,38,47,46,66,40,43,58,21,42,24,43,47,49,50,51,40,45,52,62,20,43,29,22,48,42,19,60,32,26,25,66,45,54,37,54,50,25,47,63,64,18,59,37,23,54,38,19,34,21,50,55,20,34,62,21,21,42,35,39,68,46,41,23,68,48,38,41,58,49,57,49,50,28,38,33,30,43,43,36,36,64,59,55,42,61,28,65,27,41,21,61,19,22,64,28,34,61,24,19,51,36,65,46,59,51,51,21,34,32,48,50,26,57,65,56,44,50,27,49,49,52,27,53,34,33,62,38,36,31,62,29,24,63,56,63,40,18,50,66,25,65,53,61,67,59,55,21,44,65,65,54,56,58,54,58,48,19,69,58,49,32,40,25,70,69,45,29,47,28,64,47,60,67,35,30,23,70,21,51,22,32,37,31,44,40,27,47,41,51,53,43,67,61,68,67,29,50,61,19,33,51,69,19,55,49,31,42,69,26,41,55,35,66,36,27,41,21,53,54,53,47,64,18,68,62,51,54,22,53,34,32,64,20,24,20,42,48,62,62,50,57,24,59,63,41,35,34,49,43,63,38,59,35,48,64,28,60,27,56,58,30,23,33,63,70,70,19,25,19,25,60,35,46,41,30,44,61,55,50,57,51,18,63,34,25,46,59,37,49,22,64,42,37,26,33,30,21,22,63,33,43,27,35,37,61,32,62,29,41,48,43,34,45,65,61,18,47,56,64,26,22,64,21,67,46,40,51,35,56,25,65,39,47,36,66,62,41,66,51,33,57,45,61,55,54,57,27,64,52,19,22,18,29,42,49,49,55,29,60,34,30,28,63,31,46,70,53,50,33,22,50,34,24,69,39,42,42,29,55,32,25,38,32,43,41,56,27,46,48,52,18,64,54,31,30,26,25,59,55,56,62,35,51,61,27,54,31,24,42,41,66,58,43,52,35,23,25,33,48,42,55,59,65,59,31,49,53,48,23,68,35,34,62,21,70,55,43,19,47,26,46,19,49,51,64,67,37,40,38,66,47,56,51,25,37,41,64,23,62,39,52,50,28,67,41,19,70,49,59,52,20,31,33,44,40,69,29,54,65,54,60,43,44,69,46,41,32,26,61,49,53,24,37,43,31,49,69,65,41,37,70,63,55,52,22,54,28,67,59,26,24,62,70,45,58,31,32,36,25,48,39,26,32,54,38,46,57,49,33,54,47,36,68,60,55,29,38,70,36,18,62,29,21,42,43,58,27,57,40,45,47,61,60,69,58,34,20,56,64,56,27,35,24,26,32,54,62,50,70,48,20,46,51,53,44,29,64,51,50,43,61,55,56,33,43,21,58,41,39,54,43,28,59,28,68,20,21,50,32,24,55,61,61,28,60,49,33,45,29,58,22,55,19,68,61,68,52,41,29,68,36,55,28,39,54,40,31,30,45,48,45,60,59,18,70,20,65,29,22,27,36,59,62,34,59,49,18,55,38,50,61,48,22,48,57,33,58,37,18,65,62,54,35,34,25,53,45,49,40,38,44,68,60,25,19,57,58,49,19,50,30,52,35,35,33,52,69,27,66,28,22,69,28,55,30,67,25,49,34,22,63,70,36,42,27,23,50,56,37,67,67,50,36,62,65,23,46,18,58,31,39,69,68,41,31,48,59,34,21,29,41,62,27,49,67,20,37,69,66,37,63,47,26,68,51,48,60,68,25,57,41,59,44,42,35,36,54,37,20,23,61,37,23,63,47,63,56,68,64,62,34,49,40,50,25,30,54,40,49,27,27,48,40,67,52,22,62,20,41,34,23,32,68,30,66,62,50,55,19,67,18,58,69,62,28,53,27,55,34,25,66,57,46,38,23,42,25,55,62,41,58,56,25,70,42,27,65,62,62,52,56,28,39,54,30,45,68,47,68,63,20,29,41,52,32,20,47,23,43,67,70,35,41,54,55,51,19,28,63,30,29,24,69,65,64,40,24,66,35,67,69,26,23,27,30,48,44,29,29,67,42,23,34,64,31,54,23,59,32,43,32,66,70,42,56,28,28,52,65,56,59,23,58,39,28,40,52,37,70,30,38,66,29,46,56,23,37,56,36,40,26,57,68,56,40,44,44,19,21,31,30,65,39,64,59,49,24,19,27,56,49,41,36,68,28,45,60,21,32,27,40,64,18,22,42,57,33,37,21,51,30,68,36,46,41,68,21,62,59,25,53,31,46,26,47,37,55,30,19,36,23,62,26,36,33,32,56,58,34,61,48,25,51,29,54,48,62,18,43,22,68,44,51,66,59,60,31,20,24,48,39,34,70,59,45,35,69,58,25,27,34,53,58,32,64,63,23,64,18,25,54,60,36,66,60,59,58,35,20,70,54,38,54,33,46,58,30,42,28,43,31,39,69,31,44,39,24,28,48,39,64,28,39,49,22,25,40,23,24,66,27,62,70,43,45,63,69,59,19,63,37,37,50,60,46,35,66,35,20,55,34,60,22,26,39,20,57,68,50,21,29,38,54,22,29,41,26,69,20,59,63,68,50,55,36,18,68,56,32,28,24,59,56,30,48,60,46,69,19,66,64,54,27,64,43,43,27,35,43,57,50,37,68,22,58,48,30,51,20,30,28,37,36,18,52,56,68,62,35,65,69,28,37,41,37,25,41,48,42,54,18,56,61,40,34,42,43,47,48,20,65,54,23,18,70,55,49,26,33,20,41,18,26,30,64,26,43,63,57,25,68,31,64,38,34,32,69,45,35,63,65,35,54,28,68,58,35,68,41,65,50,18,38,68,53,58,34,36,58,60,59,65,31,43,37,21,69,32,53,59,64,63,43,19,40,51,51,66,42,22,31,18,21,35,35,27,65,41,60,61,24,65,23,30,33,22,67,28,32,40,64,56,63,20,54,31,36,25,20,62,69,54,39,56,39,37,25,35,45,19,21,65,49,30,23,69,29,54,45,25,34,46,70,42,45,57,49,23,47,23,21,45,67,31,58,57,42,60,21,69,41,51,23,57,40,65,61,34,43,31,57,34,25,66,56,49,19,27,68,20,21,36,37,61,68,60,69,25,32,53,46,58,21,46,18,56,18,49,29,67,31,52,42,32,47,45,20,66,52,50,62,38,65,60,68,62,62,40,32,22,33,57,60,30,41,58,34,67,58,41,42,50,40,32,51,26,32,58,51,19,57,66,62,58,23,45,20,33,30,50,62,69,34,49,65,66,41,37,32,42,31,61,36,60,51,68,46,19,30,51,28,41,29,25,60,63,51,22,54,18,29,59,25,19,56,31,45,23,18,43,56,43,64,67,63,54,69,34,56,34,58,44,25,27,26,18,64,62,59,36,69,39,28,42,31,57,53,59,32,65,56,31,59,22,47,23,69,18,50,29,65,29,49,28,51,26,38,35,34,51,47,18,64,30,59,66,40,25,59,66,54,42,48,34,19,70,43,46,66,50,55,63,32,30,35,59,59,54,63,43,33,57,25,26,50,70,68,39,46,57,47,40,52,40,67,67,37,67,64,28,54,54,24,27,53,32,24,45,49,51,69,41,59,26,23,62,69,46,35,32,46,33,32,33,67,67,42,20,39,26,51,31,68,44,18,58,26,57,37,24,57,48,39,51,57,53,70,60,31,41,62,59,46,62,42,37,50,29,25,66,21,46,57,61,53,37,39,53,35,69,66,19,47,49,31,39,58,45,68,35,65,45,19,65,28,55,66,29,56,21,32,54,61,31,27,64,60,70,36,56,69,39,38,36,46,59,64,49,32,29,24,41,41,32,69,65,54,39,37,51,26,42,21,53,36,21,33,49,31,68,49,23,30,53,65,60,46,54,59,52,41,43,63,37,44,67,27,60,58,53,43,32,54,47,57,63,70,62,40,25,19,25,21,55,34,47,27,67,40,53,24,47,53,47,38,48,47,19,38,57,70,38,35,46,32,38,41,19,18,45,23,60,52,42,29,31,30,23,31,40,39,28,23,42,68,24,24,21,49,41,22,42,30,38,40,55,37,41,38,42,26,41,27,61,58,25,33,57,39,60,39,42,53,20,46,46,69,28,42,30,50,59,54,50,25,41,35,67,33,19,25,32,30,18,38,22,40,54,70,52,34,65,38,35,40,23,45,40,42,57,18,18,56,35,49,49,34,63,42,41,26,48,62,24,48,31,41,24,60,38,58,53,44,51,36,20,32,66,49,27,29,29,55,57,29,31,25,61,53,22,28,18,44,32,34,67,66,28,70,37,28,43,37,54,50,46,60,40,64,18,37,36,51,26,68,27,28,49,70,30,27,19,64,42,69,28,47,69,56,28,50,39,35,59,44,66,20,45,49,60,61,36,33,49,31,19,39,66,25,63,56,20,58,34,28,22,37,54,65,57,38,70,56,56,22,57,53,53,19,49,44,27,60,62,52,30,66,29,24,51,67,50,37,69,60,21,44,26,40,41,62,39,53,24,41,19,36,21,25,65,42,40,58,40,62,38,37,65,55,43,43,45,64,28,69,54,52,23,26,48,49,53,69,26,21,59,21,22,26,41,37,30,49,49,58,70,27,65,57,20,34,59,54,36,21,52,43,32,55,31,45,53,24,47,63,38,59,54,26,68,41,68,21,32,20,59,53,66,47,58,28,68,60,47,18,32,27,65,68,55,30,24,57,23,69,60,25,18,37,61,41,69,32,60,43,61,57,56,66,52,63,50,21,42,40,67,35,18,52,59,49,46,69,56,27,57,58,23,19,40,54,50,69,42,37,46,64,20,40,64,29,20,43,60,39,47,19,52,34,25,43,55,66,41,47,51,44,18,33,24,33,61,27,46,38,63,47,42,41,53,29,61,69,51,24,24,70,49,48,58,32,57,69,42,30,35,19,52,42,36,45,54,54,27,53,20,52,54,65,43,57,19,69,26,57,20,55,44,52,57,40,23,36,59,29,63,60,64,63,21,61,65,69,47,41,68,41,42,66,66,33,55,58,18,49,61,31,70,68,27,48,63,49,19,30,50,66,25,61,29,53,24,51,26,59,41,20,22,18,30,25,39,49,25,23,33,60,51,23,20,51,23,67,23,26,52,52,52,35,24,43,25,46,22,70,49,48,59,39,30,37,56,67,40,24,43,45,33,53,44,23,59,68,46,56,40,61,53,29,44,43,40,55,66,50,57,42,55,25,22,49,70,56,52,65,24,32,57,35,69,30,37,19,53,25,47,18,22,69,55,19,23,54,52,64,33,40,26,31,23,52,21,31,63,46,44,57,50,33,19,68,27,61,38,28,39,18,24,64,51,27,48,69,59,59,42,39,32,68,41,31,58,28,63,64,66,31,55,32,50,58,18,39,56,37,46,52,70,61,33,65,41,19,33,53,54,36,56,28,34,43,54,37,33,33,55,63,52,23,70,64,22,46,65,18,45,56,49,66,27,69,66,45,31,33,43,25,46,67,26,35,61,26,39,69,32,20,25,56,63,34,29,43,39,33,51,65,51,70,40,19,28,51,32,26,50,68,33,56,57,58,40,37,36,29,65,44,34,31,28,66,68,37,58,28,54,21,45,57,47,46,63,44,36,24,65,32,63,62,19,38,59,22,55,29,42,23,70,64,39,47,22,69,35,56,30,43,23,50,41,41,27,38,41,58,58,19,43,27,32,28,48,43,45,26,62,58,19,64,33,20,45,28,47,54,64,45,40,31,38,36,65,27,38,58,31,28,28,32,61,38,54,29,50,32,38,52,61,25,22,47,50,45,33,42,52,69,55,38,57,33,57,52,44,48,52,34,26,36,24,30,31,25,57,61,30,38,53,31,70,21,33,60,45,46,62,63,69,46,69,66,41,32,69,29,70,41,31,31,57,29,70,51,45,18,37,23,39,62,70,20,42,41,24,37,30,58,43,19,23,65,58,50,67,40,55,52,62,64,43,61,26,22,51,69,50,51,56,59,18,48,53,45,21,42,60,21,69,40,31,44,48,32,42,27,69,67,41,46,47,33,51,26,22,49,58,70,32,62,52,23,26,58,26,54,66,60,32,48,69,64,56,22,46,24,47,62,34,50,29,68,52,29,22,62,69,48,66,42,50,32,51,27,43,48,62,65,50,60,19,21,19,46,21,26,50,43,61,63,46,63,23,57,57,33,57,55,65,60,52,34,33,58,35,68,58,34,47,35,34,36,23,68,23,57,21,45,37,18,55,52,49,56,27,22,18,21,30,62,28,66,66,49,40,49,19,24,31,35,65,68,57,69,45,35,36,55,66,57,18,31,50,50,61,52,38,67,42,25,41,62,19,63,43,68,24,27,61,59,67,46,65,63,57,40,36,67,61,64,30,53,27,27,53,34,39,44,37,57,38,21,45,68,37,53,57,28,37,54,49,62,45,45,49,27,63,61,25,33,56,50,45,45,65,63,70,53,22,26,23,25,69,36,21,57,60,44,31,57,39,48,42,56,28,40,49,37,22,27,59,35,58,58,46,43,39,59,59,59,45,27,24,47,70,58,45,24,67,31,52,29,62,19,62,70,20,67,65,45,26,36,36,20,30,34,63,18,55,48,45,29,55,55,55,48,42,21,45,23,66,32,52,54,37,29,47,47,42,34,38,55,27,55,66,44,39,23,29,20,42,55,66,24,62,28,30,22,28,35,45,43,55,31,42,40,39,41,56,43,22,47,50,58,50,43,38,44,30,47,30,49,56,70,22,51,22,37,49,61,41,57,34,27,39,62,34,53,35,38,32,47,53,60,31,44,29,19,54,40,39,44,22,30,69,28,57,46,48,24,50,29,61,34,27,38,25,54,53,23,19,57,19,33,33,38,47,39,32,27,67,46,36,62,31,68,57,22,26,43,45,64,28,47,53,42,51,62,18,48,20,32,26,31,55,49,42,64,68,68,41,51,44,27,36,19,49,18,36,36,19,43,31,63,41,48,68,53,36,46,21,52,66,19,44,50,51,25,62,48,62,22,48,48,62,24,39,35,47,22,38,53,31,31,65,48,18,46,52,50,49,69,36,30,25,19,34,29,50,31,41,52,27,49,69,45,20,25,38,55,62,54,61,50,65,68,55,57,56,29,24,59,62,58,64,48,60,52,63,44,63,66,22,62,39,25,70,52,68,18,18,63,47,43,60,49,28,32,29,35,23,70,23,43,29,61,29,66,46,34,51,26,23,52,39,39,33,33,23,31,27,48,61,63,19,21,28,29,23,37,67,34,58,45,63,68,41,50,24,21,18,63,47,58,46,35,42,48,28,44,60,38,46,39,22,44,69,39,53,52,65,48,27,39,59,52,50,32,40,26,47,51,47,53,35,38,69,47,31,68,51,20,27,67,21,20,35,58,28,27,19,63,69,65,63,28,67,51,59,25,31,62,51,32,35,70,19,32,56,53,22,26,42,30,29,47,59,34,52,47,24,63,59,66,45,38,63,55,25,51,28,46,58,30,68,28,26,35,40,31,60,69,51,49,18,63,57,45,36,20,21,62,23,26,30,18,47,41,62,28,46,54,36,25,38,38,42,19,34,38,42,58,56,62,24,60,53,26,34,24,42,36,24,39,46,64,64,61,61,44,65,60,65,27,36,22,62,59,50,51,23,21,44,25,57,41,19,43,25,60,54,52,40,39,54,64,31,37,43,56,27,40,43,62,44,45,40,68,63,60,19,26,70,48,37,48,18,38,33,57,46,46,50,61,45,32,29,66,70,36,34,20,70,50,54,49,50,62,42,69,22,36,64,44,43,58,62,45,47,66,30,68,35,64,30,58,57,60,22,46,27,50,65,61,57,40,39,42,30,65,57,64,56,40,55,25,58,46,18,26,61,55,41,42,70,63,60,28,60,26,42,56,35,34,47,49,37,40,45,57,35,36,35,21,66,40,52,46,44,52],\"yaxis\":\"y\",\"type\":\"histogram\"}],                        {\"template\":{\"data\":{\"histogram2dcontour\":[{\"type\":\"histogram2dcontour\",\"colorbar\":{\"outlinewidth\":0,\"ticks\":\"\"},\"colorscale\":[[0.0,\"#0d0887\"],[0.1111111111111111,\"#46039f\"],[0.2222222222222222,\"#7201a8\"],[0.3333333333333333,\"#9c179e\"],[0.4444444444444444,\"#bd3786\"],[0.5555555555555556,\"#d8576b\"],[0.6666666666666666,\"#ed7953\"],[0.7777777777777778,\"#fb9f3a\"],[0.8888888888888888,\"#fdca26\"],[1.0,\"#f0f921\"]]}],\"choropleth\":[{\"type\":\"choropleth\",\"colorbar\":{\"outlinewidth\":0,\"ticks\":\"\"}}],\"histogram2d\":[{\"type\":\"histogram2d\",\"colorbar\":{\"outlinewidth\":0,\"ticks\":\"\"},\"colorscale\":[[0.0,\"#0d0887\"],[0.1111111111111111,\"#46039f\"],[0.2222222222222222,\"#7201a8\"],[0.3333333333333333,\"#9c179e\"],[0.4444444444444444,\"#bd3786\"],[0.5555555555555556,\"#d8576b\"],[0.6666666666666666,\"#ed7953\"],[0.7777777777777778,\"#fb9f3a\"],[0.8888888888888888,\"#fdca26\"],[1.0,\"#f0f921\"]]}],\"heatmap\":[{\"type\":\"heatmap\",\"colorbar\":{\"outlinewidth\":0,\"ticks\":\"\"},\"colorscale\":[[0.0,\"#0d0887\"],[0.1111111111111111,\"#46039f\"],[0.2222222222222222,\"#7201a8\"],[0.3333333333333333,\"#9c179e\"],[0.4444444444444444,\"#bd3786\"],[0.5555555555555556,\"#d8576b\"],[0.6666666666666666,\"#ed7953\"],[0.7777777777777778,\"#fb9f3a\"],[0.8888888888888888,\"#fdca26\"],[1.0,\"#f0f921\"]]}],\"heatmapgl\":[{\"type\":\"heatmapgl\",\"colorbar\":{\"outlinewidth\":0,\"ticks\":\"\"},\"colorscale\":[[0.0,\"#0d0887\"],[0.1111111111111111,\"#46039f\"],[0.2222222222222222,\"#7201a8\"],[0.3333333333333333,\"#9c179e\"],[0.4444444444444444,\"#bd3786\"],[0.5555555555555556,\"#d8576b\"],[0.6666666666666666,\"#ed7953\"],[0.7777777777777778,\"#fb9f3a\"],[0.8888888888888888,\"#fdca26\"],[1.0,\"#f0f921\"]]}],\"contourcarpet\":[{\"type\":\"contourcarpet\",\"colorbar\":{\"outlinewidth\":0,\"ticks\":\"\"}}],\"contour\":[{\"type\":\"contour\",\"colorbar\":{\"outlinewidth\":0,\"ticks\":\"\"},\"colorscale\":[[0.0,\"#0d0887\"],[0.1111111111111111,\"#46039f\"],[0.2222222222222222,\"#7201a8\"],[0.3333333333333333,\"#9c179e\"],[0.4444444444444444,\"#bd3786\"],[0.5555555555555556,\"#d8576b\"],[0.6666666666666666,\"#ed7953\"],[0.7777777777777778,\"#fb9f3a\"],[0.8888888888888888,\"#fdca26\"],[1.0,\"#f0f921\"]]}],\"surface\":[{\"type\":\"surface\",\"colorbar\":{\"outlinewidth\":0,\"ticks\":\"\"},\"colorscale\":[[0.0,\"#0d0887\"],[0.1111111111111111,\"#46039f\"],[0.2222222222222222,\"#7201a8\"],[0.3333333333333333,\"#9c179e\"],[0.4444444444444444,\"#bd3786\"],[0.5555555555555556,\"#d8576b\"],[0.6666666666666666,\"#ed7953\"],[0.7777777777777778,\"#fb9f3a\"],[0.8888888888888888,\"#fdca26\"],[1.0,\"#f0f921\"]]}],\"mesh3d\":[{\"type\":\"mesh3d\",\"colorbar\":{\"outlinewidth\":0,\"ticks\":\"\"}}],\"scatter\":[{\"fillpattern\":{\"fillmode\":\"overlay\",\"size\":10,\"solidity\":0.2},\"type\":\"scatter\"}],\"parcoords\":[{\"type\":\"parcoords\",\"line\":{\"colorbar\":{\"outlinewidth\":0,\"ticks\":\"\"}}}],\"scatterpolargl\":[{\"type\":\"scatterpolargl\",\"marker\":{\"colorbar\":{\"outlinewidth\":0,\"ticks\":\"\"}}}],\"bar\":[{\"error_x\":{\"color\":\"#2a3f5f\"},\"error_y\":{\"color\":\"#2a3f5f\"},\"marker\":{\"line\":{\"color\":\"#E5ECF6\",\"width\":0.5},\"pattern\":{\"fillmode\":\"overlay\",\"size\":10,\"solidity\":0.2}},\"type\":\"bar\"}],\"scattergeo\":[{\"type\":\"scattergeo\",\"marker\":{\"colorbar\":{\"outlinewidth\":0,\"ticks\":\"\"}}}],\"scatterpolar\":[{\"type\":\"scatterpolar\",\"marker\":{\"colorbar\":{\"outlinewidth\":0,\"ticks\":\"\"}}}],\"histogram\":[{\"marker\":{\"pattern\":{\"fillmode\":\"overlay\",\"size\":10,\"solidity\":0.2}},\"type\":\"histogram\"}],\"scattergl\":[{\"type\":\"scattergl\",\"marker\":{\"colorbar\":{\"outlinewidth\":0,\"ticks\":\"\"}}}],\"scatter3d\":[{\"type\":\"scatter3d\",\"line\":{\"colorbar\":{\"outlinewidth\":0,\"ticks\":\"\"}},\"marker\":{\"colorbar\":{\"outlinewidth\":0,\"ticks\":\"\"}}}],\"scattermapbox\":[{\"type\":\"scattermapbox\",\"marker\":{\"colorbar\":{\"outlinewidth\":0,\"ticks\":\"\"}}}],\"scatterternary\":[{\"type\":\"scatterternary\",\"marker\":{\"colorbar\":{\"outlinewidth\":0,\"ticks\":\"\"}}}],\"scattercarpet\":[{\"type\":\"scattercarpet\",\"marker\":{\"colorbar\":{\"outlinewidth\":0,\"ticks\":\"\"}}}],\"carpet\":[{\"aaxis\":{\"endlinecolor\":\"#2a3f5f\",\"gridcolor\":\"white\",\"linecolor\":\"white\",\"minorgridcolor\":\"white\",\"startlinecolor\":\"#2a3f5f\"},\"baxis\":{\"endlinecolor\":\"#2a3f5f\",\"gridcolor\":\"white\",\"linecolor\":\"white\",\"minorgridcolor\":\"white\",\"startlinecolor\":\"#2a3f5f\"},\"type\":\"carpet\"}],\"table\":[{\"cells\":{\"fill\":{\"color\":\"#EBF0F8\"},\"line\":{\"color\":\"white\"}},\"header\":{\"fill\":{\"color\":\"#C8D4E3\"},\"line\":{\"color\":\"white\"}},\"type\":\"table\"}],\"barpolar\":[{\"marker\":{\"line\":{\"color\":\"#E5ECF6\",\"width\":0.5},\"pattern\":{\"fillmode\":\"overlay\",\"size\":10,\"solidity\":0.2}},\"type\":\"barpolar\"}],\"pie\":[{\"automargin\":true,\"type\":\"pie\"}]},\"layout\":{\"autotypenumbers\":\"strict\",\"colorway\":[\"#636efa\",\"#EF553B\",\"#00cc96\",\"#ab63fa\",\"#FFA15A\",\"#19d3f3\",\"#FF6692\",\"#B6E880\",\"#FF97FF\",\"#FECB52\"],\"font\":{\"color\":\"#2a3f5f\"},\"hovermode\":\"closest\",\"hoverlabel\":{\"align\":\"left\"},\"paper_bgcolor\":\"white\",\"plot_bgcolor\":\"#E5ECF6\",\"polar\":{\"bgcolor\":\"#E5ECF6\",\"angularaxis\":{\"gridcolor\":\"white\",\"linecolor\":\"white\",\"ticks\":\"\"},\"radialaxis\":{\"gridcolor\":\"white\",\"linecolor\":\"white\",\"ticks\":\"\"}},\"ternary\":{\"bgcolor\":\"#E5ECF6\",\"aaxis\":{\"gridcolor\":\"white\",\"linecolor\":\"white\",\"ticks\":\"\"},\"baxis\":{\"gridcolor\":\"white\",\"linecolor\":\"white\",\"ticks\":\"\"},\"caxis\":{\"gridcolor\":\"white\",\"linecolor\":\"white\",\"ticks\":\"\"}},\"coloraxis\":{\"colorbar\":{\"outlinewidth\":0,\"ticks\":\"\"}},\"colorscale\":{\"sequential\":[[0.0,\"#0d0887\"],[0.1111111111111111,\"#46039f\"],[0.2222222222222222,\"#7201a8\"],[0.3333333333333333,\"#9c179e\"],[0.4444444444444444,\"#bd3786\"],[0.5555555555555556,\"#d8576b\"],[0.6666666666666666,\"#ed7953\"],[0.7777777777777778,\"#fb9f3a\"],[0.8888888888888888,\"#fdca26\"],[1.0,\"#f0f921\"]],\"sequentialminus\":[[0.0,\"#0d0887\"],[0.1111111111111111,\"#46039f\"],[0.2222222222222222,\"#7201a8\"],[0.3333333333333333,\"#9c179e\"],[0.4444444444444444,\"#bd3786\"],[0.5555555555555556,\"#d8576b\"],[0.6666666666666666,\"#ed7953\"],[0.7777777777777778,\"#fb9f3a\"],[0.8888888888888888,\"#fdca26\"],[1.0,\"#f0f921\"]],\"diverging\":[[0,\"#8e0152\"],[0.1,\"#c51b7d\"],[0.2,\"#de77ae\"],[0.3,\"#f1b6da\"],[0.4,\"#fde0ef\"],[0.5,\"#f7f7f7\"],[0.6,\"#e6f5d0\"],[0.7,\"#b8e186\"],[0.8,\"#7fbc41\"],[0.9,\"#4d9221\"],[1,\"#276419\"]]},\"xaxis\":{\"gridcolor\":\"white\",\"linecolor\":\"white\",\"ticks\":\"\",\"title\":{\"standoff\":15},\"zerolinecolor\":\"white\",\"automargin\":true,\"zerolinewidth\":2},\"yaxis\":{\"gridcolor\":\"white\",\"linecolor\":\"white\",\"ticks\":\"\",\"title\":{\"standoff\":15},\"zerolinecolor\":\"white\",\"automargin\":true,\"zerolinewidth\":2},\"scene\":{\"xaxis\":{\"backgroundcolor\":\"#E5ECF6\",\"gridcolor\":\"white\",\"linecolor\":\"white\",\"showbackground\":true,\"ticks\":\"\",\"zerolinecolor\":\"white\",\"gridwidth\":2},\"yaxis\":{\"backgroundcolor\":\"#E5ECF6\",\"gridcolor\":\"white\",\"linecolor\":\"white\",\"showbackground\":true,\"ticks\":\"\",\"zerolinecolor\":\"white\",\"gridwidth\":2},\"zaxis\":{\"backgroundcolor\":\"#E5ECF6\",\"gridcolor\":\"white\",\"linecolor\":\"white\",\"showbackground\":true,\"ticks\":\"\",\"zerolinecolor\":\"white\",\"gridwidth\":2}},\"shapedefaults\":{\"line\":{\"color\":\"#2a3f5f\"}},\"annotationdefaults\":{\"arrowcolor\":\"#2a3f5f\",\"arrowhead\":0,\"arrowwidth\":1},\"geo\":{\"bgcolor\":\"white\",\"landcolor\":\"#E5ECF6\",\"subunitcolor\":\"white\",\"showland\":true,\"showlakes\":true,\"lakecolor\":\"white\"},\"title\":{\"x\":0.05},\"mapbox\":{\"style\":\"light\"}}},\"xaxis\":{\"anchor\":\"y\",\"domain\":[0.0,1.0],\"title\":{\"text\":\"Age_category\"}},\"yaxis\":{\"anchor\":\"x\",\"domain\":[0.0,1.0],\"title\":{\"text\":\"sum of Age\"}},\"legend\":{\"tracegroupgap\":0},\"margin\":{\"t\":60},\"barmode\":\"relative\"},                        {\"responsive\": true}                    ).then(function(){\n",
              "                            \n",
              "var gd = document.getElementById('a0537ff6-2030-4e02-bf16-e593e9de5e44');\n",
              "var x = new MutationObserver(function (mutations, observer) {{\n",
              "        var display = window.getComputedStyle(gd).display;\n",
              "        if (!display || display === 'none') {{\n",
              "            console.log([gd, 'removed!']);\n",
              "            Plotly.purge(gd);\n",
              "            observer.disconnect();\n",
              "        }}\n",
              "}});\n",
              "\n",
              "// Listen for the removal of the full notebook cells\n",
              "var notebookContainer = gd.closest('#notebook-container');\n",
              "if (notebookContainer) {{\n",
              "    x.observe(notebookContainer, {childList: true});\n",
              "}}\n",
              "\n",
              "// Listen for the clearing of the current output cell\n",
              "var outputEl = gd.closest('.output');\n",
              "if (outputEl) {{\n",
              "    x.observe(outputEl, {childList: true});\n",
              "}}\n",
              "\n",
              "                        })                };                            </script>        </div>\n",
              "</body>\n",
              "</html>"
            ]
          },
          "metadata": {}
        }
      ],
      "source": [
        "fig = px.histogram(shop , y = 'Age' , x = 'Age_category')\n",
        "fig.show()"
      ]
    },
    {
      "cell_type": "markdown",
      "id": "90ba091a-8550-4547-9625-67fe41354078",
      "metadata": {
        "id": "90ba091a-8550-4547-9625-67fe41354078"
      },
      "source": [
        "## 2 How does the average purchase amount vary across different product categories?"
      ]
    },
    {
      "cell_type": "code",
      "execution_count": 23,
      "id": "00968bc9-977c-4a10-bc1f-ba28b0f986c2",
      "metadata": {
        "colab": {
          "base_uri": "https://localhost:8080/"
        },
        "id": "00968bc9-977c-4a10-bc1f-ba28b0f986c2",
        "outputId": "d6234d6a-2eaf-41da-c06e-66b56104b008"
      },
      "outputs": [
        {
          "output_type": "execute_result",
          "data": {
            "text/plain": [
              "Index(['Customer ID', 'Age', 'Gender', 'Item Purchased', 'Category',\n",
              "       'Purchase Amount (USD)', 'Location', 'Size', 'Color', 'Season',\n",
              "       'Review Rating', 'Subscription Status', 'Shipping Type',\n",
              "       'Discount Applied', 'Promo Code Used', 'Previous Purchases',\n",
              "       'Payment Method', 'Frequency of Purchases', 'Age_category'],\n",
              "      dtype='object')"
            ]
          },
          "metadata": {},
          "execution_count": 23
        }
      ],
      "source": [
        "shop.columns"
      ]
    },
    {
      "cell_type": "code",
      "execution_count": 24,
      "id": "bc0195f4-6f70-481b-8100-2271a0f42d41",
      "metadata": {
        "colab": {
          "base_uri": "https://localhost:8080/"
        },
        "id": "bc0195f4-6f70-481b-8100-2271a0f42d41",
        "outputId": "e935573c-f8c8-4194-fd48-c4f912a5b760"
      },
      "outputs": [
        {
          "output_type": "execute_result",
          "data": {
            "text/plain": [
              "array(['Clothing', 'Footwear', 'Outerwear', 'Accessories'], dtype=object)"
            ]
          },
          "metadata": {},
          "execution_count": 24
        }
      ],
      "source": [
        "shop['Category'].unique()"
      ]
    },
    {
      "cell_type": "code",
      "execution_count": 25,
      "id": "b53b2dc1-1c15-4925-9826-1fcc269d3467",
      "metadata": {
        "colab": {
          "base_uri": "https://localhost:8080/",
          "height": 241
        },
        "id": "b53b2dc1-1c15-4925-9826-1fcc269d3467",
        "outputId": "9b2fd54d-aacb-404d-c65b-4ea99347e64d"
      },
      "outputs": [
        {
          "output_type": "execute_result",
          "data": {
            "text/plain": [
              "Category\n",
              "Accessories    59.838710\n",
              "Clothing       60.025331\n",
              "Footwear       60.255426\n",
              "Outerwear      57.172840\n",
              "Name: Purchase Amount (USD), dtype: float64"
            ],
            "text/html": [
              "<div>\n",
              "<style scoped>\n",
              "    .dataframe tbody tr th:only-of-type {\n",
              "        vertical-align: middle;\n",
              "    }\n",
              "\n",
              "    .dataframe tbody tr th {\n",
              "        vertical-align: top;\n",
              "    }\n",
              "\n",
              "    .dataframe thead th {\n",
              "        text-align: right;\n",
              "    }\n",
              "</style>\n",
              "<table border=\"1\" class=\"dataframe\">\n",
              "  <thead>\n",
              "    <tr style=\"text-align: right;\">\n",
              "      <th></th>\n",
              "      <th>Purchase Amount (USD)</th>\n",
              "    </tr>\n",
              "    <tr>\n",
              "      <th>Category</th>\n",
              "      <th></th>\n",
              "    </tr>\n",
              "  </thead>\n",
              "  <tbody>\n",
              "    <tr>\n",
              "      <th>Accessories</th>\n",
              "      <td>59.838710</td>\n",
              "    </tr>\n",
              "    <tr>\n",
              "      <th>Clothing</th>\n",
              "      <td>60.025331</td>\n",
              "    </tr>\n",
              "    <tr>\n",
              "      <th>Footwear</th>\n",
              "      <td>60.255426</td>\n",
              "    </tr>\n",
              "    <tr>\n",
              "      <th>Outerwear</th>\n",
              "      <td>57.172840</td>\n",
              "    </tr>\n",
              "  </tbody>\n",
              "</table>\n",
              "</div><br><label><b>dtype:</b> float64</label>"
            ]
          },
          "metadata": {},
          "execution_count": 25
        }
      ],
      "source": [
        "shop.groupby('Category')['Purchase Amount (USD)'].mean()"
      ]
    },
    {
      "cell_type": "markdown",
      "id": "da2e803d-dd65-49ef-bd6b-b1aeda7ffbc1",
      "metadata": {
        "id": "da2e803d-dd65-49ef-bd6b-b1aeda7ffbc1"
      },
      "source": [
        "## 3 Which gender has the highest number of purchases?"
      ]
    },
    {
      "cell_type": "code",
      "execution_count": 26,
      "id": "bc63da3a-9061-44c4-88a0-0d3c04ce6dde",
      "metadata": {
        "colab": {
          "base_uri": "https://localhost:8080/"
        },
        "id": "bc63da3a-9061-44c4-88a0-0d3c04ce6dde",
        "outputId": "32e28e97-549d-4c6d-dd63-9fdd7844da95"
      },
      "outputs": [
        {
          "output_type": "execute_result",
          "data": {
            "text/plain": [
              "Index(['Customer ID', 'Age', 'Gender', 'Item Purchased', 'Category',\n",
              "       'Purchase Amount (USD)', 'Location', 'Size', 'Color', 'Season',\n",
              "       'Review Rating', 'Subscription Status', 'Shipping Type',\n",
              "       'Discount Applied', 'Promo Code Used', 'Previous Purchases',\n",
              "       'Payment Method', 'Frequency of Purchases', 'Age_category'],\n",
              "      dtype='object')"
            ]
          },
          "metadata": {},
          "execution_count": 26
        }
      ],
      "source": [
        "shop.columns"
      ]
    },
    {
      "cell_type": "code",
      "execution_count": 27,
      "id": "144d34b0-5fdc-455e-8d96-c6ff85c8c723",
      "metadata": {
        "colab": {
          "base_uri": "https://localhost:8080/",
          "height": 466
        },
        "id": "144d34b0-5fdc-455e-8d96-c6ff85c8c723",
        "outputId": "046fe546-205f-476f-99f3-38ebc0b8a4df"
      },
      "outputs": [
        {
          "output_type": "execute_result",
          "data": {
            "text/plain": [
              "<Axes: xlabel='Gender', ylabel='Purchase Amount (USD)'>"
            ]
          },
          "metadata": {},
          "execution_count": 27
        },
        {
          "output_type": "display_data",
          "data": {
            "text/plain": [
              "<Figure size 640x480 with 1 Axes>"
            ],
            "image/png": "[encoded data removed]"
          },
          "metadata": {}
        }
      ],
      "source": [
        "sns.barplot(shop , x = 'Gender' , y = 'Purchase Amount (USD)')"
      ]
    },
    {
      "cell_type": "markdown",
      "id": "fceb1814-09d8-4f39-8d01-8e4122369ff1",
      "metadata": {
        "id": "fceb1814-09d8-4f39-8d01-8e4122369ff1"
      },
      "source": [
        "## 4 What are the most commonly purchased items in each category?"
      ]
    },
    {
      "cell_type": "code",
      "execution_count": 28,
      "id": "dd058c0d-7f51-4d86-9234-ad39ed6e03b6",
      "metadata": {
        "colab": {
          "base_uri": "https://localhost:8080/"
        },
        "id": "dd058c0d-7f51-4d86-9234-ad39ed6e03b6",
        "outputId": "56182dc3-faff-4184-8d40-fc724587accf"
      },
      "outputs": [
        {
          "output_type": "execute_result",
          "data": {
            "text/plain": [
              "Index(['Customer ID', 'Age', 'Gender', 'Item Purchased', 'Category',\n",
              "       'Purchase Amount (USD)', 'Location', 'Size', 'Color', 'Season',\n",
              "       'Review Rating', 'Subscription Status', 'Shipping Type',\n",
              "       'Discount Applied', 'Promo Code Used', 'Previous Purchases',\n",
              "       'Payment Method', 'Frequency of Purchases', 'Age_category'],\n",
              "      dtype='object')"
            ]
          },
          "metadata": {},
          "execution_count": 28
        }
      ],
      "source": [
        "shop.columns"
      ]
    },
    {
      "cell_type": "code",
      "execution_count": 29,
      "id": "6f895c48-7a06-4544-a605-d9e4fc16d233",
      "metadata": {
        "colab": {
          "base_uri": "https://localhost:8080/",
          "height": 899
        },
        "id": "6f895c48-7a06-4544-a605-d9e4fc16d233",
        "outputId": "5b5f78a7-adab-422d-dd05-43389025e998"
      },
      "outputs": [
        {
          "output_type": "execute_result",
          "data": {
            "text/plain": [
              "Category     Item Purchased\n",
              "Accessories  Jewelry           171\n",
              "             Belt              161\n",
              "             Sunglasses        161\n",
              "             Scarf             157\n",
              "             Hat               154\n",
              "             Handbag           153\n",
              "             Backpack          143\n",
              "             Gloves            140\n",
              "Clothing     Blouse            171\n",
              "             Pants             171\n",
              "             Shirt             169\n",
              "             Dress             166\n",
              "             Sweater           164\n",
              "             Socks             159\n",
              "             Skirt             158\n",
              "             Shorts            157\n",
              "             Hoodie            151\n",
              "             T-shirt           147\n",
              "             Jeans             124\n",
              "Footwear     Sandals           160\n",
              "             Shoes             150\n",
              "             Sneakers          145\n",
              "             Boots             144\n",
              "Outerwear    Jacket            163\n",
              "             Coat              161\n",
              "Name: count, dtype: int64"
            ],
            "text/html": [
              "<div>\n",
              "<style scoped>\n",
              "    .dataframe tbody tr th:only-of-type {\n",
              "        vertical-align: middle;\n",
              "    }\n",
              "\n",
              "    .dataframe tbody tr th {\n",
              "        vertical-align: top;\n",
              "    }\n",
              "\n",
              "    .dataframe thead th {\n",
              "        text-align: right;\n",
              "    }\n",
              "</style>\n",
              "<table border=\"1\" class=\"dataframe\">\n",
              "  <thead>\n",
              "    <tr style=\"text-align: right;\">\n",
              "      <th></th>\n",
              "      <th></th>\n",
              "      <th>count</th>\n",
              "    </tr>\n",
              "    <tr>\n",
              "      <th>Category</th>\n",
              "      <th>Item Purchased</th>\n",
              "      <th></th>\n",
              "    </tr>\n",
              "  </thead>\n",
              "  <tbody>\n",
              "    <tr>\n",
              "      <th rowspan=\"8\" valign=\"top\">Accessories</th>\n",
              "      <th>Jewelry</th>\n",
              "      <td>171</td>\n",
              "    </tr>\n",
              "    <tr>\n",
              "      <th>Belt</th>\n",
              "      <td>161</td>\n",
              "    </tr>\n",
              "    <tr>\n",
              "      <th>Sunglasses</th>\n",
              "      <td>161</td>\n",
              "    </tr>\n",
              "    <tr>\n",
              "      <th>Scarf</th>\n",
              "      <td>157</td>\n",
              "    </tr>\n",
              "    <tr>\n",
              "      <th>Hat</th>\n",
              "      <td>154</td>\n",
              "    </tr>\n",
              "    <tr>\n",
              "      <th>Handbag</th>\n",
              "      <td>153</td>\n",
              "    </tr>\n",
              "    <tr>\n",
              "      <th>Backpack</th>\n",
              "      <td>143</td>\n",
              "    </tr>\n",
              "    <tr>\n",
              "      <th>Gloves</th>\n",
              "      <td>140</td>\n",
              "    </tr>\n",
              "    <tr>\n",
              "      <th rowspan=\"11\" valign=\"top\">Clothing</th>\n",
              "      <th>Blouse</th>\n",
              "      <td>171</td>\n",
              "    </tr>\n",
              "    <tr>\n",
              "      <th>Pants</th>\n",
              "      <td>171</td>\n",
              "    </tr>\n",
              "    <tr>\n",
              "      <th>Shirt</th>\n",
              "      <td>169</td>\n",
              "    </tr>\n",
              "    <tr>\n",
              "      <th>Dress</th>\n",
              "      <td>166</td>\n",
              "    </tr>\n",
              "    <tr>\n",
              "      <th>Sweater</th>\n",
              "      <td>164</td>\n",
              "    </tr>\n",
              "    <tr>\n",
              "      <th>Socks</th>\n",
              "      <td>159</td>\n",
              "    </tr>\n",
              "    <tr>\n",
              "      <th>Skirt</th>\n",
              "      <td>158</td>\n",
              "    </tr>\n",
              "    <tr>\n",
              "      <th>Shorts</th>\n",
              "      <td>157</td>\n",
              "    </tr>\n",
              "    <tr>\n",
              "      <th>Hoodie</th>\n",
              "      <td>151</td>\n",
              "    </tr>\n",
              "    <tr>\n",
              "      <th>T-shirt</th>\n",
              "      <td>147</td>\n",
              "    </tr>\n",
              "    <tr>\n",
              "      <th>Jeans</th>\n",
              "      <td>124</td>\n",
              "    </tr>\n",
              "    <tr>\n",
              "      <th rowspan=\"4\" valign=\"top\">Footwear</th>\n",
              "      <th>Sandals</th>\n",
              "      <td>160</td>\n",
              "    </tr>\n",
              "    <tr>\n",
              "      <th>Shoes</th>\n",
              "      <td>150</td>\n",
              "    </tr>\n",
              "    <tr>\n",
              "      <th>Sneakers</th>\n",
              "      <td>145</td>\n",
              "    </tr>\n",
              "    <tr>\n",
              "      <th>Boots</th>\n",
              "      <td>144</td>\n",
              "    </tr>\n",
              "    <tr>\n",
              "      <th rowspan=\"2\" valign=\"top\">Outerwear</th>\n",
              "      <th>Jacket</th>\n",
              "      <td>163</td>\n",
              "    </tr>\n",
              "    <tr>\n",
              "      <th>Coat</th>\n",
              "      <td>161</td>\n",
              "    </tr>\n",
              "  </tbody>\n",
              "</table>\n",
              "</div><br><label><b>dtype:</b> int64</label>"
            ]
          },
          "metadata": {},
          "execution_count": 29
        }
      ],
      "source": [
        "shop.groupby('Category')['Item Purchased'].value_counts()"
      ]
    },
    {
      "cell_type": "code",
      "execution_count": 30,
      "id": "c7c9caea-d899-4cf8-88ad-39fb37e5b4e6",
      "metadata": {
        "colab": {
          "base_uri": "https://localhost:8080/",
          "height": 542
        },
        "id": "c7c9caea-d899-4cf8-88ad-39fb37e5b4e6",
        "outputId": "ceeb1614-5bd8-460d-b2d7-3f357bc9d846"
      },
      "outputs": [
        {
          "output_type": "display_data",
          "data": {
            "text/html": [
              "<html>\n",
              "<head><meta charset=\"utf-8\" /></head>\n",
              "<body>\n",
              "    <div>            <script src=\"https://cdnjs.cloudflare.com/ajax/libs/mathjax/2.7.5/MathJax.js?config=TeX-AMS-MML_SVG\"></script><script type=\"text/javascript\">if (window.MathJax && window.MathJax.Hub && window.MathJax.Hub.Config) {window.MathJax.Hub.Config({SVG: {font: \"STIX-Web\"}});}</script>                <script type=\"text/javascript\">window.PlotlyConfig = {MathJaxConfig: 'local'};</script>\n",
              "        <script charset=\"utf-8\" src=\"https://cdn.plot.ly/plotly-2.35.2.min.js\"></script>                <div id=\"aa02934d-ece2-4f82-9e95-56f3842f485c\" class=\"plotly-graph-div\" style=\"height:525px; width:100%;\"></div>            <script type=\"text/javascript\">                                    window.PLOTLYENV=window.PLOTLYENV || {};                                    if (document.getElementById(\"aa02934d-ece2-4f82-9e95-56f3842f485c\")) {                    Plotly.newPlot(                        \"aa02934d-ece2-4f82-9e95-56f3842f485c\",                        [{\"alignmentgroup\":\"True\",\"bingroup\":\"x\",\"hovertemplate\":\"Category=Clothing\\u003cbr\\u003eItem Purchased=%{x}\\u003cbr\\u003ecount=%{y}\\u003cextra\\u003e\\u003c\\u002fextra\\u003e\",\"legendgroup\":\"Clothing\",\"marker\":{\"color\":\"#636efa\",\"pattern\":{\"shape\":\"\"}},\"name\":\"Clothing\",\"offsetgroup\":\"Clothing\",\"orientation\":\"v\",\"showlegend\":true,\"x\":[\"Blouse\",\"Sweater\",\"Jeans\",\"Blouse\",\"Shirt\",\"Shorts\",\"Shorts\",\"Dress\",\"Skirt\",\"Dress\",\"Sweater\",\"Pants\",\"Pants\",\"Pants\",\"Pants\",\"Pants\",\"Hoodie\",\"Shorts\",\"Dress\",\"Dress\",\"Pants\",\"T-shirt\",\"Blouse\",\"T-shirt\",\"Jeans\",\"Dress\",\"Pants\",\"Socks\",\"Shirt\",\"Shirt\",\"Hoodie\",\"Blouse\",\"Skirt\",\"T-shirt\",\"Skirt\",\"Hoodie\",\"Sweater\",\"Blouse\",\"Dress\",\"Dress\",\"Pants\",\"Dress\",\"Skirt\",\"Pants\",\"Dress\",\"Hoodie\",\"T-shirt\",\"Sweater\",\"Skirt\",\"Jeans\",\"Hoodie\",\"Socks\",\"Socks\",\"T-shirt\",\"Skirt\",\"Sweater\",\"Shorts\",\"Sweater\",\"Sweater\",\"Shorts\",\"Shorts\",\"Sweater\",\"Dress\",\"Skirt\",\"Sweater\",\"Blouse\",\"Skirt\",\"Shirt\",\"Skirt\",\"Pants\",\"Shirt\",\"Hoodie\",\"Dress\",\"Socks\",\"Shorts\",\"Shirt\",\"Skirt\",\"Shirt\",\"Shorts\",\"Hoodie\",\"Skirt\",\"Pants\",\"Skirt\",\"T-shirt\",\"Hoodie\",\"Blouse\",\"Dress\",\"Blouse\",\"Shirt\",\"T-shirt\",\"Skirt\",\"Skirt\",\"Shorts\",\"T-shirt\",\"Pants\",\"Socks\",\"Jeans\",\"Socks\",\"Blouse\",\"Sweater\",\"Dress\",\"Skirt\",\"Pants\",\"Sweater\",\"Hoodie\",\"Sweater\",\"Skirt\",\"Shorts\",\"Jeans\",\"Jeans\",\"Pants\",\"Shorts\",\"Pants\",\"Sweater\",\"Blouse\",\"Jeans\",\"Skirt\",\"Shirt\",\"Sweater\",\"Skirt\",\"Sweater\",\"Skirt\",\"T-shirt\",\"T-shirt\",\"Dress\",\"Skirt\",\"T-shirt\",\"Skirt\",\"Sweater\",\"Dress\",\"Sweater\",\"Dress\",\"Pants\",\"Jeans\",\"Pants\",\"Dress\",\"Pants\",\"Sweater\",\"Shorts\",\"Hoodie\",\"Shirt\",\"Pants\",\"Socks\",\"Sweater\",\"Shirt\",\"Shirt\",\"Sweater\",\"Blouse\",\"Sweater\",\"Sweater\",\"Hoodie\",\"Shorts\",\"Shorts\",\"Skirt\",\"Jeans\",\"Blouse\",\"Sweater\",\"Skirt\",\"Jeans\",\"Pants\",\"Pants\",\"T-shirt\",\"Shorts\",\"Socks\",\"Dress\",\"Sweater\",\"Dress\",\"T-shirt\",\"Jeans\",\"Sweater\",\"Shorts\",\"Sweater\",\"T-shirt\",\"Dress\",\"T-shirt\",\"T-shirt\",\"Jeans\",\"Hoodie\",\"Shorts\",\"Sweater\",\"Jeans\",\"Sweater\",\"Shorts\",\"Socks\",\"Shirt\",\"Pants\",\"Sweater\",\"Jeans\",\"Pants\",\"Shirt\",\"Shirt\",\"Skirt\",\"Pants\",\"Shirt\",\"Hoodie\",\"Dress\",\"Shirt\",\"Shorts\",\"Pants\",\"Blouse\",\"Blouse\",\"Shorts\",\"Skirt\",\"Jeans\",\"Shorts\",\"Dress\",\"Jeans\",\"Sweater\",\"Sweater\",\"Hoodie\",\"Hoodie\",\"Sweater\",\"Socks\",\"Shirt\",\"Dress\",\"T-shirt\",\"Pants\",\"T-shirt\",\"Shorts\",\"T-shirt\",\"Shirt\",\"Shirt\",\"Skirt\",\"Hoodie\",\"Blouse\",\"Shorts\",\"Shirt\",\"Pants\",\"T-shirt\",\"Shorts\",\"Pants\",\"T-shirt\",\"Blouse\",\"Socks\",\"Dress\",\"Skirt\",\"Hoodie\",\"T-shirt\",\"Shirt\",\"Jeans\",\"Hoodie\",\"Blouse\",\"Pants\",\"Skirt\",\"T-shirt\",\"Pants\",\"Jeans\",\"Skirt\",\"Sweater\",\"Sweater\",\"Shorts\",\"Socks\",\"Socks\",\"Hoodie\",\"Socks\",\"Shirt\",\"Hoodie\",\"Dress\",\"Hoodie\",\"Sweater\",\"Shorts\",\"Socks\",\"Pants\",\"Sweater\",\"Hoodie\",\"Sweater\",\"Dress\",\"Skirt\",\"Blouse\",\"Skirt\",\"Sweater\",\"Hoodie\",\"Blouse\",\"Hoodie\",\"Pants\",\"Jeans\",\"Shorts\",\"Shirt\",\"Dress\",\"Pants\",\"Pants\",\"Hoodie\",\"T-shirt\",\"Sweater\",\"Socks\",\"Shirt\",\"Pants\",\"Socks\",\"Blouse\",\"Shirt\",\"Blouse\",\"Sweater\",\"Hoodie\",\"Shorts\",\"Shorts\",\"Dress\",\"Shorts\",\"Pants\",\"Shirt\",\"Dress\",\"Hoodie\",\"Pants\",\"Jeans\",\"Shirt\",\"Blouse\",\"Hoodie\",\"Jeans\",\"Socks\",\"Shirt\",\"Shorts\",\"Blouse\",\"Sweater\",\"T-shirt\",\"Shorts\",\"Sweater\",\"Jeans\",\"Shirt\",\"Dress\",\"Shirt\",\"Dress\",\"Shorts\",\"Jeans\",\"T-shirt\",\"Pants\",\"T-shirt\",\"Shorts\",\"T-shirt\",\"Hoodie\",\"Dress\",\"Sweater\",\"Skirt\",\"Socks\",\"Sweater\",\"Jeans\",\"Shirt\",\"Socks\",\"Socks\",\"Dress\",\"Hoodie\",\"T-shirt\",\"Jeans\",\"Shorts\",\"Pants\",\"Sweater\",\"Pants\",\"Socks\",\"Socks\",\"Socks\",\"Pants\",\"Shorts\",\"Dress\",\"Jeans\",\"T-shirt\",\"Shirt\",\"Sweater\",\"Shirt\",\"Hoodie\",\"Shirt\",\"Blouse\",\"Dress\",\"Socks\",\"Socks\",\"Shorts\",\"Hoodie\",\"Shirt\",\"Shirt\",\"Sweater\",\"Shirt\",\"Hoodie\",\"Hoodie\",\"Jeans\",\"Dress\",\"Pants\",\"Socks\",\"Shirt\",\"Shorts\",\"Hoodie\",\"Skirt\",\"Jeans\",\"Blouse\",\"Dress\",\"Hoodie\",\"Jeans\",\"Skirt\",\"Skirt\",\"Dress\",\"Shorts\",\"Skirt\",\"Shorts\",\"Hoodie\",\"Shirt\",\"Sweater\",\"T-shirt\",\"Dress\",\"Pants\",\"Sweater\",\"Hoodie\",\"Pants\",\"Hoodie\",\"Dress\",\"Dress\",\"Jeans\",\"Sweater\",\"Shorts\",\"Shirt\",\"Shirt\",\"Socks\",\"Jeans\",\"Jeans\",\"Dress\",\"T-shirt\",\"Skirt\",\"Jeans\",\"Hoodie\",\"Shorts\",\"Blouse\",\"T-shirt\",\"Dress\",\"Blouse\",\"Jeans\",\"Dress\",\"Dress\",\"Shirt\",\"Skirt\",\"Dress\",\"Hoodie\",\"Shorts\",\"Jeans\",\"Skirt\",\"Sweater\",\"T-shirt\",\"Pants\",\"Shorts\",\"Pants\",\"Socks\",\"Socks\",\"Dress\",\"Pants\",\"Hoodie\",\"Jeans\",\"Dress\",\"Shirt\",\"T-shirt\",\"Shirt\",\"Hoodie\",\"Pants\",\"Socks\",\"Blouse\",\"Pants\",\"Jeans\",\"Shirt\",\"Jeans\",\"Jeans\",\"Sweater\",\"Socks\",\"Socks\",\"Socks\",\"Blouse\",\"Shorts\",\"Sweater\",\"Sweater\",\"Hoodie\",\"T-shirt\",\"Dress\",\"Shirt\",\"Skirt\",\"Shorts\",\"Sweater\",\"T-shirt\",\"Jeans\",\"Pants\",\"Sweater\",\"Sweater\",\"Pants\",\"Sweater\",\"Hoodie\",\"T-shirt\",\"Skirt\",\"Shorts\",\"Hoodie\",\"Hoodie\",\"Hoodie\",\"Skirt\",\"T-shirt\",\"Sweater\",\"Shirt\",\"Hoodie\",\"Shirt\",\"Hoodie\",\"T-shirt\",\"Skirt\",\"Shirt\",\"Pants\",\"Jeans\",\"T-shirt\",\"Jeans\",\"Pants\",\"Blouse\",\"Shirt\",\"Dress\",\"T-shirt\",\"Shorts\",\"Pants\",\"Dress\",\"T-shirt\",\"Dress\",\"Socks\",\"Skirt\",\"Socks\",\"Dress\",\"Skirt\",\"Dress\",\"T-shirt\",\"Skirt\",\"Shorts\",\"Pants\",\"Jeans\",\"Jeans\",\"Blouse\",\"Shirt\",\"Shirt\",\"T-shirt\",\"Hoodie\",\"Socks\",\"Pants\",\"Hoodie\",\"Blouse\",\"Pants\",\"Sweater\",\"Socks\",\"Jeans\",\"Pants\",\"Shorts\",\"Blouse\",\"Socks\",\"Pants\",\"Sweater\",\"Dress\",\"Pants\",\"Hoodie\",\"Socks\",\"Blouse\",\"Socks\",\"Dress\",\"Hoodie\",\"T-shirt\",\"Jeans\",\"Shorts\",\"Dress\",\"Skirt\",\"Shirt\",\"Shirt\",\"Hoodie\",\"Sweater\",\"Shirt\",\"Blouse\",\"T-shirt\",\"Hoodie\",\"Jeans\",\"Sweater\",\"Blouse\",\"Shorts\",\"Hoodie\",\"Pants\",\"Shirt\",\"Shirt\",\"Dress\",\"Jeans\",\"Skirt\",\"Sweater\",\"Shirt\",\"Jeans\",\"Pants\",\"T-shirt\",\"Shirt\",\"Blouse\",\"Pants\",\"Sweater\",\"Dress\",\"Blouse\",\"Hoodie\",\"T-shirt\",\"Shorts\",\"Pants\",\"Shorts\",\"T-shirt\",\"Pants\",\"Shorts\",\"Sweater\",\"Socks\",\"Hoodie\",\"Pants\",\"Sweater\",\"Hoodie\",\"T-shirt\",\"Dress\",\"Hoodie\",\"Sweater\",\"Socks\",\"Pants\",\"Shorts\",\"Hoodie\",\"Skirt\",\"Dress\",\"Blouse\",\"Shirt\",\"Pants\",\"Blouse\",\"T-shirt\",\"Blouse\",\"Dress\",\"Blouse\",\"Pants\",\"Dress\",\"Socks\",\"Shirt\",\"Blouse\",\"Skirt\",\"Shorts\",\"Blouse\",\"Socks\",\"Shorts\",\"Shirt\",\"Jeans\",\"Dress\",\"Dress\",\"Pants\",\"Blouse\",\"Skirt\",\"Pants\",\"Hoodie\",\"Sweater\",\"Pants\",\"Hoodie\",\"Sweater\",\"Jeans\",\"Hoodie\",\"Socks\",\"Dress\",\"Pants\",\"Shirt\",\"Sweater\",\"Shorts\",\"Shorts\",\"Sweater\",\"Blouse\",\"Skirt\",\"Shorts\",\"Skirt\",\"Shirt\",\"T-shirt\",\"T-shirt\",\"Sweater\",\"Jeans\",\"Jeans\",\"Pants\",\"Shirt\",\"Dress\",\"Blouse\",\"Dress\",\"Blouse\",\"Dress\",\"Socks\",\"Jeans\",\"Jeans\",\"Shorts\",\"Socks\",\"Socks\",\"T-shirt\",\"Blouse\",\"Dress\",\"Shorts\",\"Blouse\",\"Jeans\",\"Dress\",\"Blouse\",\"Blouse\",\"Shorts\",\"Shorts\",\"Hoodie\",\"Pants\",\"Skirt\",\"Pants\",\"Skirt\",\"T-shirt\",\"Skirt\",\"Shirt\",\"Dress\",\"Pants\",\"Blouse\",\"Sweater\",\"Socks\",\"Jeans\",\"Skirt\",\"Dress\",\"Shirt\",\"Shirt\",\"Shorts\",\"Sweater\",\"T-shirt\",\"Shorts\",\"Shirt\",\"Socks\",\"Pants\",\"Skirt\",\"T-shirt\",\"Blouse\",\"Shorts\",\"Sweater\",\"Skirt\",\"Dress\",\"Blouse\",\"Sweater\",\"Socks\",\"Dress\",\"Hoodie\",\"Pants\",\"T-shirt\",\"Sweater\",\"Sweater\",\"Blouse\",\"Skirt\",\"T-shirt\",\"Shirt\",\"Skirt\",\"Blouse\",\"T-shirt\",\"Pants\",\"Hoodie\",\"Blouse\",\"Pants\",\"Jeans\",\"Pants\",\"Dress\",\"Socks\",\"Shirt\",\"Blouse\",\"Skirt\",\"Shirt\",\"Shirt\",\"Shirt\",\"Sweater\",\"Hoodie\",\"Jeans\",\"Shorts\",\"Skirt\",\"Pants\",\"T-shirt\",\"T-shirt\",\"Jeans\",\"Dress\",\"Blouse\",\"Hoodie\",\"T-shirt\",\"Sweater\",\"Shorts\",\"T-shirt\",\"Blouse\",\"Jeans\",\"Shorts\",\"Shirt\",\"Blouse\",\"Jeans\",\"Dress\",\"Shorts\",\"Pants\",\"Pants\",\"Skirt\",\"Skirt\",\"Skirt\",\"Hoodie\",\"Sweater\",\"Skirt\",\"Dress\",\"Dress\",\"Sweater\",\"Skirt\",\"Hoodie\",\"Dress\",\"Hoodie\",\"Sweater\",\"Socks\",\"Shirt\",\"Sweater\",\"T-shirt\",\"Pants\",\"Sweater\",\"Blouse\",\"Blouse\",\"Jeans\",\"Jeans\",\"Skirt\",\"Dress\",\"Hoodie\",\"Sweater\",\"Shorts\",\"Sweater\",\"T-shirt\",\"Jeans\",\"Shorts\",\"Jeans\",\"T-shirt\",\"Socks\",\"Shirt\",\"Shorts\",\"Shirt\",\"Socks\",\"Pants\",\"T-shirt\",\"T-shirt\",\"Blouse\",\"Skirt\",\"Pants\",\"Shirt\",\"Socks\",\"Shorts\",\"Jeans\",\"Skirt\",\"Skirt\",\"Sweater\",\"Blouse\",\"Sweater\",\"Shirt\",\"T-shirt\",\"T-shirt\",\"Pants\",\"T-shirt\",\"Skirt\",\"Blouse\",\"Blouse\",\"Jeans\",\"T-shirt\",\"Sweater\",\"Pants\",\"Skirt\",\"Socks\",\"T-shirt\",\"Blouse\",\"Blouse\",\"Shorts\",\"Hoodie\",\"Hoodie\",\"Skirt\",\"Dress\",\"Hoodie\",\"Jeans\",\"Pants\",\"Shorts\",\"Socks\",\"Pants\",\"T-shirt\",\"Skirt\",\"Sweater\",\"Sweater\",\"Skirt\",\"Shorts\",\"Hoodie\",\"Skirt\",\"Skirt\",\"Blouse\",\"Shirt\",\"Pants\",\"Jeans\",\"Pants\",\"Hoodie\",\"Blouse\",\"Socks\",\"Jeans\",\"Pants\",\"Socks\",\"Hoodie\",\"Hoodie\",\"Pants\",\"Shirt\",\"T-shirt\",\"Dress\",\"Skirt\",\"Hoodie\",\"Socks\",\"Shorts\",\"Jeans\",\"Shorts\",\"Pants\",\"Sweater\",\"Dress\",\"Shirt\",\"Dress\",\"Skirt\",\"Jeans\",\"Skirt\",\"Pants\",\"Hoodie\",\"Blouse\",\"Pants\",\"Socks\",\"Shirt\",\"Shirt\",\"Skirt\",\"Sweater\",\"Jeans\",\"Skirt\",\"Socks\",\"Shirt\",\"Sweater\",\"Socks\",\"Socks\",\"Shirt\",\"Socks\",\"Blouse\",\"Jeans\",\"Shorts\",\"T-shirt\",\"Blouse\",\"Blouse\",\"T-shirt\",\"Jeans\",\"Pants\",\"T-shirt\",\"Sweater\",\"Socks\",\"Shirt\",\"Shorts\",\"Sweater\",\"Shorts\",\"Pants\",\"T-shirt\",\"Sweater\",\"Dress\",\"Jeans\",\"Jeans\",\"Blouse\",\"Jeans\",\"Dress\",\"Socks\",\"Jeans\",\"Dress\",\"Socks\",\"Hoodie\",\"Dress\",\"T-shirt\",\"T-shirt\",\"Sweater\",\"Shirt\",\"Pants\",\"Pants\",\"Hoodie\",\"Socks\",\"Dress\",\"Shirt\",\"Dress\",\"Socks\",\"Skirt\",\"Skirt\",\"Shorts\",\"Skirt\",\"Socks\",\"Sweater\",\"Dress\",\"Skirt\",\"Skirt\",\"T-shirt\",\"Shirt\",\"Jeans\",\"Shorts\",\"Shirt\",\"Skirt\",\"Shirt\",\"Blouse\",\"Dress\",\"Shorts\",\"Pants\",\"Skirt\",\"Sweater\",\"Shorts\",\"Skirt\",\"Dress\",\"Socks\",\"Blouse\",\"Shorts\",\"Shorts\",\"Blouse\",\"Blouse\",\"Blouse\",\"Shirt\",\"Socks\",\"Jeans\",\"Dress\",\"Pants\",\"Dress\",\"Dress\",\"Jeans\",\"Sweater\",\"Sweater\",\"Pants\",\"Pants\",\"Blouse\",\"Shorts\",\"Pants\",\"Shirt\",\"Pants\",\"Blouse\",\"Socks\",\"T-shirt\",\"Skirt\",\"Shirt\",\"Shorts\",\"Socks\",\"T-shirt\",\"Hoodie\",\"Blouse\",\"Skirt\",\"T-shirt\",\"Jeans\",\"Dress\",\"Sweater\",\"Skirt\",\"Blouse\",\"Dress\",\"Dress\",\"Shorts\",\"Jeans\",\"Hoodie\",\"Blouse\",\"Socks\",\"Blouse\",\"Shorts\",\"T-shirt\",\"Sweater\",\"Socks\",\"Pants\",\"Hoodie\",\"Skirt\",\"Dress\",\"T-shirt\",\"Dress\",\"Socks\",\"Hoodie\",\"Skirt\",\"Skirt\",\"Pants\",\"Shirt\",\"Shirt\",\"Blouse\",\"Skirt\",\"Socks\",\"T-shirt\",\"Blouse\",\"Sweater\",\"Blouse\",\"Skirt\",\"Shirt\",\"Sweater\",\"Jeans\",\"Socks\",\"Socks\",\"Sweater\",\"Socks\",\"Hoodie\",\"Blouse\",\"Sweater\",\"Blouse\",\"Socks\",\"Dress\",\"Shirt\",\"Shirt\",\"Jeans\",\"Socks\",\"Blouse\",\"Shirt\",\"Dress\",\"Shorts\",\"Shorts\",\"Jeans\",\"Shorts\",\"Hoodie\",\"Shorts\",\"Socks\",\"Pants\",\"Sweater\",\"T-shirt\",\"Hoodie\",\"T-shirt\",\"T-shirt\",\"Jeans\",\"Socks\",\"Blouse\",\"Shirt\",\"Pants\",\"T-shirt\",\"Socks\",\"Shirt\",\"Sweater\",\"Jeans\",\"T-shirt\",\"Socks\",\"Jeans\",\"Pants\",\"Blouse\",\"Shorts\",\"Shorts\",\"Skirt\",\"Blouse\",\"Shirt\",\"Socks\",\"T-shirt\",\"Dress\",\"Socks\",\"Dress\",\"Socks\",\"Skirt\",\"Hoodie\",\"Blouse\",\"Jeans\",\"Blouse\",\"Socks\",\"Hoodie\",\"Shorts\",\"Skirt\",\"Shorts\",\"Dress\",\"Socks\",\"Socks\",\"Blouse\",\"Shorts\",\"Shirt\",\"Sweater\",\"Shorts\",\"Pants\",\"Skirt\",\"Socks\",\"Pants\",\"Pants\",\"T-shirt\",\"Shorts\",\"Hoodie\",\"Hoodie\",\"Shorts\",\"Socks\",\"T-shirt\",\"Dress\",\"Blouse\",\"T-shirt\",\"Shorts\",\"Hoodie\",\"Socks\",\"Blouse\",\"Jeans\",\"Dress\",\"Dress\",\"Jeans\",\"Socks\",\"Pants\",\"Shorts\",\"Pants\",\"Skirt\",\"Blouse\",\"Shirt\",\"Dress\",\"Dress\",\"Sweater\",\"Hoodie\",\"Jeans\",\"T-shirt\",\"Shorts\",\"Pants\",\"Blouse\",\"Dress\",\"Skirt\",\"Shirt\",\"Hoodie\",\"Skirt\",\"Skirt\",\"Hoodie\",\"Pants\",\"Shirt\",\"Blouse\",\"Skirt\",\"Pants\",\"T-shirt\",\"Pants\",\"Socks\",\"Shorts\",\"Blouse\",\"Shorts\",\"Dress\",\"Pants\",\"Skirt\",\"T-shirt\",\"Hoodie\",\"Shorts\",\"Shorts\",\"Shorts\",\"Socks\",\"Dress\",\"Socks\",\"Dress\",\"Blouse\",\"Pants\",\"Hoodie\",\"T-shirt\",\"Sweater\",\"Dress\",\"Dress\",\"Shirt\",\"Sweater\",\"Shorts\",\"Hoodie\",\"Shirt\",\"Skirt\",\"Socks\",\"Jeans\",\"Skirt\",\"Hoodie\",\"Shirt\",\"Dress\",\"Shirt\",\"Hoodie\",\"Jeans\",\"Dress\",\"Sweater\",\"Blouse\",\"Skirt\",\"T-shirt\",\"Sweater\",\"Dress\",\"Dress\",\"Blouse\",\"Shirt\",\"Pants\",\"Socks\",\"Blouse\",\"Skirt\",\"Skirt\",\"Blouse\",\"Sweater\",\"Socks\",\"Shorts\",\"Hoodie\",\"T-shirt\",\"Shirt\",\"Shirt\",\"T-shirt\",\"Hoodie\",\"Blouse\",\"Hoodie\",\"Skirt\",\"Shorts\",\"Jeans\",\"Hoodie\",\"Shirt\",\"T-shirt\",\"Blouse\",\"Skirt\",\"Shorts\",\"Shirt\",\"Skirt\",\"Dress\",\"Blouse\",\"Skirt\",\"Hoodie\",\"Jeans\",\"T-shirt\",\"Pants\",\"T-shirt\",\"Dress\",\"Sweater\",\"Socks\",\"Sweater\",\"Blouse\",\"Dress\",\"Jeans\",\"Shorts\",\"Shirt\",\"T-shirt\",\"Sweater\",\"Skirt\",\"Blouse\",\"Socks\",\"Shorts\",\"Sweater\",\"Shirt\",\"Pants\",\"Hoodie\",\"Socks\",\"Dress\",\"Blouse\",\"Skirt\",\"Blouse\",\"Socks\",\"Hoodie\",\"Jeans\",\"T-shirt\",\"Dress\",\"Hoodie\",\"Blouse\",\"Blouse\",\"Blouse\",\"Blouse\",\"Socks\",\"Sweater\",\"Shirt\",\"Shorts\",\"Shirt\",\"Shirt\",\"Shirt\",\"Sweater\",\"Shirt\",\"Socks\",\"T-shirt\",\"Skirt\",\"Sweater\",\"Skirt\",\"Socks\",\"Shirt\",\"Pants\",\"Pants\",\"Jeans\",\"Dress\",\"T-shirt\",\"Dress\",\"Skirt\",\"Hoodie\",\"Pants\",\"Sweater\",\"Shorts\",\"Shorts\",\"Jeans\",\"Pants\",\"Dress\",\"Pants\",\"Skirt\",\"Socks\",\"Shirt\",\"Dress\",\"Socks\",\"Sweater\",\"Jeans\",\"Sweater\",\"Hoodie\",\"Blouse\",\"Skirt\",\"Shorts\",\"Dress\",\"Skirt\",\"T-shirt\",\"Blouse\",\"Jeans\",\"Blouse\",\"Shirt\",\"Hoodie\",\"Dress\",\"Dress\",\"Blouse\",\"Sweater\",\"Hoodie\",\"Blouse\",\"Socks\",\"Sweater\",\"T-shirt\",\"Skirt\",\"Jeans\",\"Sweater\",\"Shirt\",\"Shorts\",\"Sweater\",\"Hoodie\",\"T-shirt\",\"Pants\",\"Sweater\",\"Shirt\",\"Dress\",\"Shirt\",\"Dress\",\"Socks\",\"Shirt\",\"Pants\",\"Shirt\",\"Shirt\",\"Pants\",\"Skirt\",\"Blouse\",\"Socks\",\"Blouse\",\"Shirt\",\"Hoodie\",\"Shorts\",\"Shirt\",\"Hoodie\",\"Socks\",\"Pants\",\"Sweater\",\"T-shirt\",\"Skirt\",\"Blouse\",\"Hoodie\",\"Shirt\",\"Sweater\",\"Shorts\",\"Blouse\",\"T-shirt\",\"Socks\",\"Shirt\",\"Dress\",\"Pants\",\"Dress\",\"Shirt\",\"Dress\",\"Jeans\",\"T-shirt\",\"Socks\",\"Skirt\",\"Pants\",\"Socks\",\"Shorts\",\"Sweater\",\"Skirt\",\"Blouse\",\"Blouse\",\"Jeans\",\"Hoodie\",\"Sweater\",\"Sweater\",\"Socks\",\"Pants\",\"Hoodie\",\"Socks\",\"Socks\",\"Pants\",\"Skirt\",\"Hoodie\",\"Skirt\",\"T-shirt\",\"Shirt\",\"Hoodie\",\"Blouse\",\"Pants\",\"T-shirt\",\"T-shirt\",\"Socks\",\"Hoodie\",\"Sweater\",\"Pants\",\"T-shirt\",\"Sweater\",\"Shorts\",\"Shirt\",\"T-shirt\",\"Shorts\",\"Pants\",\"Hoodie\",\"Dress\",\"Blouse\",\"Socks\",\"Socks\",\"Sweater\",\"Pants\",\"Skirt\",\"Dress\",\"Pants\",\"T-shirt\",\"Skirt\",\"Sweater\",\"Blouse\",\"Blouse\",\"Shorts\",\"Pants\",\"Blouse\",\"Hoodie\",\"Jeans\",\"Socks\",\"Socks\",\"Shorts\",\"Blouse\",\"Sweater\",\"T-shirt\",\"Shorts\",\"T-shirt\",\"Jeans\",\"Shirt\",\"Blouse\",\"Skirt\",\"T-shirt\",\"Shorts\",\"Jeans\",\"T-shirt\",\"Shirt\",\"Dress\",\"Skirt\",\"Blouse\",\"Jeans\",\"Hoodie\",\"T-shirt\",\"Sweater\",\"Skirt\",\"T-shirt\",\"Sweater\",\"Hoodie\",\"Socks\",\"Blouse\",\"Shirt\",\"Shorts\",\"Dress\",\"Sweater\",\"Hoodie\",\"T-shirt\",\"Pants\",\"Sweater\",\"Pants\",\"Socks\",\"Hoodie\",\"Dress\",\"Dress\",\"Pants\",\"Blouse\",\"Jeans\",\"Pants\",\"Hoodie\",\"Blouse\",\"Sweater\",\"Dress\",\"Socks\",\"Shirt\",\"Blouse\",\"Socks\",\"T-shirt\",\"Skirt\",\"Socks\",\"Socks\",\"Pants\",\"Socks\",\"Shirt\",\"Sweater\",\"Skirt\",\"Dress\",\"Pants\",\"Blouse\",\"Shorts\",\"Blouse\",\"Shirt\",\"T-shirt\",\"Hoodie\",\"Hoodie\",\"Jeans\",\"Socks\",\"Socks\",\"Blouse\",\"Dress\",\"Pants\",\"Sweater\",\"Socks\",\"Hoodie\",\"Dress\",\"Shirt\",\"Shorts\",\"Sweater\",\"Dress\",\"Pants\",\"Pants\",\"Shorts\",\"Socks\",\"Shirt\",\"Shirt\",\"Shirt\",\"Pants\",\"T-shirt\",\"Shirt\",\"Blouse\",\"Dress\",\"Skirt\",\"Shirt\",\"Shorts\",\"Pants\",\"Pants\",\"Sweater\",\"Blouse\",\"T-shirt\",\"Pants\",\"Shorts\",\"Shorts\",\"Blouse\",\"Socks\",\"Blouse\",\"T-shirt\",\"Dress\",\"Blouse\",\"Sweater\",\"Shorts\",\"Socks\",\"Blouse\",\"Jeans\",\"Dress\",\"Skirt\",\"Shorts\",\"Jeans\",\"Socks\",\"Blouse\",\"Dress\",\"Shorts\",\"Blouse\",\"Hoodie\",\"Sweater\",\"Dress\",\"Blouse\",\"Hoodie\",\"Hoodie\",\"Dress\",\"T-shirt\",\"Skirt\",\"Jeans\",\"Hoodie\",\"Jeans\",\"Socks\",\"T-shirt\",\"Dress\",\"Hoodie\",\"Dress\",\"Blouse\",\"Blouse\",\"T-shirt\",\"Socks\",\"Dress\",\"Blouse\",\"Shorts\",\"Skirt\",\"Skirt\",\"Jeans\",\"Sweater\",\"T-shirt\",\"Shorts\",\"Socks\",\"Pants\",\"Blouse\",\"Socks\",\"Socks\",\"Shirt\",\"Shirt\",\"Socks\",\"Skirt\",\"Shorts\",\"Shirt\",\"Blouse\",\"Blouse\",\"Sweater\",\"Skirt\",\"Blouse\",\"Hoodie\",\"Skirt\",\"Skirt\",\"Hoodie\",\"Socks\",\"Blouse\",\"Shirt\",\"T-shirt\",\"Pants\",\"Pants\",\"Dress\",\"Socks\",\"Shirt\",\"Socks\",\"Hoodie\",\"Jeans\",\"Shorts\",\"Pants\",\"Shirt\",\"Shirt\",\"Pants\",\"Hoodie\",\"Socks\",\"Sweater\",\"Blouse\",\"Hoodie\",\"Skirt\",\"Skirt\",\"Skirt\",\"Socks\",\"Shorts\",\"Shirt\",\"Socks\",\"Shorts\",\"Sweater\",\"Pants\",\"T-shirt\",\"Pants\",\"Sweater\",\"Shorts\",\"Jeans\",\"Socks\",\"Jeans\",\"Blouse\",\"Shirt\",\"Shorts\",\"Sweater\",\"Blouse\",\"Blouse\",\"Socks\",\"Skirt\",\"Skirt\",\"Pants\",\"Dress\",\"Pants\",\"Shirt\",\"Shorts\",\"Shorts\",\"Blouse\",\"Pants\",\"Hoodie\",\"Skirt\",\"Hoodie\",\"Dress\",\"Jeans\",\"Jeans\",\"Shorts\",\"Sweater\",\"Blouse\",\"Sweater\",\"Hoodie\",\"T-shirt\",\"Shirt\",\"T-shirt\",\"Shorts\",\"Shirt\",\"T-shirt\",\"Shorts\",\"Dress\",\"T-shirt\",\"Sweater\",\"Hoodie\",\"Skirt\",\"Shirt\",\"Pants\",\"Socks\",\"Shirt\",\"Dress\",\"Shirt\",\"Dress\",\"Skirt\",\"Hoodie\"],\"xaxis\":\"x\",\"yaxis\":\"y\",\"type\":\"histogram\"},{\"alignmentgroup\":\"True\",\"bingroup\":\"x\",\"hovertemplate\":\"Category=Footwear\\u003cbr\\u003eItem Purchased=%{x}\\u003cbr\\u003ecount=%{y}\\u003cextra\\u003e\\u003c\\u002fextra\\u003e\",\"legendgroup\":\"Footwear\",\"marker\":{\"color\":\"#EF553B\",\"pattern\":{\"shape\":\"\"}},\"name\":\"Footwear\",\"offsetgroup\":\"Footwear\",\"orientation\":\"v\",\"showlegend\":true,\"x\":[\"Sandals\",\"Sneakers\",\"Shoes\",\"Sneakers\",\"Boots\",\"Sandals\",\"Shoes\",\"Shoes\",\"Sneakers\",\"Shoes\",\"Boots\",\"Sneakers\",\"Shoes\",\"Sandals\",\"Sandals\",\"Sneakers\",\"Shoes\",\"Shoes\",\"Boots\",\"Sneakers\",\"Shoes\",\"Shoes\",\"Boots\",\"Sandals\",\"Sneakers\",\"Shoes\",\"Shoes\",\"Boots\",\"Sneakers\",\"Sandals\",\"Sneakers\",\"Shoes\",\"Sandals\",\"Sandals\",\"Boots\",\"Shoes\",\"Sneakers\",\"Sandals\",\"Shoes\",\"Sandals\",\"Shoes\",\"Sneakers\",\"Sandals\",\"Sneakers\",\"Sandals\",\"Shoes\",\"Sandals\",\"Sneakers\",\"Sneakers\",\"Sneakers\",\"Shoes\",\"Sneakers\",\"Shoes\",\"Boots\",\"Shoes\",\"Sneakers\",\"Boots\",\"Boots\",\"Sneakers\",\"Sneakers\",\"Sandals\",\"Sandals\",\"Shoes\",\"Boots\",\"Boots\",\"Shoes\",\"Boots\",\"Sneakers\",\"Shoes\",\"Sandals\",\"Sneakers\",\"Boots\",\"Sneakers\",\"Boots\",\"Shoes\",\"Boots\",\"Shoes\",\"Shoes\",\"Boots\",\"Sandals\",\"Sneakers\",\"Sandals\",\"Sandals\",\"Boots\",\"Sandals\",\"Sneakers\",\"Sneakers\",\"Shoes\",\"Sneakers\",\"Sneakers\",\"Sandals\",\"Sandals\",\"Boots\",\"Boots\",\"Shoes\",\"Shoes\",\"Boots\",\"Shoes\",\"Sandals\",\"Shoes\",\"Sandals\",\"Shoes\",\"Boots\",\"Sandals\",\"Sneakers\",\"Sandals\",\"Boots\",\"Sandals\",\"Sneakers\",\"Sandals\",\"Boots\",\"Boots\",\"Boots\",\"Boots\",\"Boots\",\"Sandals\",\"Boots\",\"Shoes\",\"Sneakers\",\"Sneakers\",\"Shoes\",\"Sneakers\",\"Sandals\",\"Boots\",\"Shoes\",\"Boots\",\"Sneakers\",\"Boots\",\"Sneakers\",\"Shoes\",\"Boots\",\"Sandals\",\"Boots\",\"Sandals\",\"Shoes\",\"Sandals\",\"Shoes\",\"Sneakers\",\"Boots\",\"Sandals\",\"Sandals\",\"Boots\",\"Sneakers\",\"Sneakers\",\"Sneakers\",\"Sneakers\",\"Boots\",\"Sneakers\",\"Shoes\",\"Boots\",\"Sneakers\",\"Boots\",\"Boots\",\"Sandals\",\"Boots\",\"Sneakers\",\"Boots\",\"Shoes\",\"Shoes\",\"Sandals\",\"Shoes\",\"Sandals\",\"Shoes\",\"Shoes\",\"Sandals\",\"Shoes\",\"Sandals\",\"Boots\",\"Sneakers\",\"Sneakers\",\"Shoes\",\"Boots\",\"Sneakers\",\"Sneakers\",\"Shoes\",\"Sneakers\",\"Sandals\",\"Shoes\",\"Boots\",\"Sneakers\",\"Sneakers\",\"Shoes\",\"Sandals\",\"Sneakers\",\"Sandals\",\"Shoes\",\"Sneakers\",\"Boots\",\"Boots\",\"Shoes\",\"Boots\",\"Boots\",\"Sandals\",\"Boots\",\"Sandals\",\"Sandals\",\"Sneakers\",\"Boots\",\"Boots\",\"Sandals\",\"Boots\",\"Sandals\",\"Sneakers\",\"Sandals\",\"Sneakers\",\"Shoes\",\"Shoes\",\"Boots\",\"Shoes\",\"Boots\",\"Sneakers\",\"Sneakers\",\"Shoes\",\"Sneakers\",\"Sandals\",\"Sneakers\",\"Shoes\",\"Sneakers\",\"Sandals\",\"Boots\",\"Sandals\",\"Sandals\",\"Sneakers\",\"Boots\",\"Boots\",\"Sandals\",\"Sandals\",\"Boots\",\"Boots\",\"Sneakers\",\"Shoes\",\"Boots\",\"Sneakers\",\"Sandals\",\"Sneakers\",\"Sneakers\",\"Boots\",\"Sneakers\",\"Shoes\",\"Shoes\",\"Sandals\",\"Shoes\",\"Sneakers\",\"Sneakers\",\"Sneakers\",\"Sneakers\",\"Boots\",\"Sneakers\",\"Boots\",\"Sneakers\",\"Shoes\",\"Boots\",\"Sandals\",\"Sandals\",\"Sneakers\",\"Shoes\",\"Boots\",\"Boots\",\"Boots\",\"Shoes\",\"Sneakers\",\"Shoes\",\"Sneakers\",\"Boots\",\"Shoes\",\"Sandals\",\"Boots\",\"Sandals\",\"Sandals\",\"Shoes\",\"Sneakers\",\"Sneakers\",\"Sneakers\",\"Sneakers\",\"Boots\",\"Shoes\",\"Boots\",\"Sandals\",\"Sandals\",\"Sandals\",\"Sneakers\",\"Sandals\",\"Boots\",\"Sandals\",\"Sandals\",\"Boots\",\"Sandals\",\"Sandals\",\"Sneakers\",\"Sandals\",\"Shoes\",\"Shoes\",\"Shoes\",\"Boots\",\"Sandals\",\"Sandals\",\"Shoes\",\"Sneakers\",\"Boots\",\"Sneakers\",\"Sneakers\",\"Shoes\",\"Sandals\",\"Boots\",\"Sandals\",\"Shoes\",\"Shoes\",\"Shoes\",\"Shoes\",\"Sneakers\",\"Boots\",\"Shoes\",\"Sneakers\",\"Sneakers\",\"Sandals\",\"Sandals\",\"Sneakers\",\"Shoes\",\"Shoes\",\"Boots\",\"Sandals\",\"Boots\",\"Sandals\",\"Shoes\",\"Sandals\",\"Shoes\",\"Sandals\",\"Shoes\",\"Sandals\",\"Boots\",\"Sandals\",\"Sandals\",\"Sandals\",\"Sandals\",\"Sneakers\",\"Shoes\",\"Boots\",\"Sandals\",\"Sneakers\",\"Sandals\",\"Shoes\",\"Shoes\",\"Shoes\",\"Sneakers\",\"Shoes\",\"Sneakers\",\"Boots\",\"Sneakers\",\"Sneakers\",\"Sandals\",\"Shoes\",\"Sandals\",\"Boots\",\"Boots\",\"Boots\",\"Sneakers\",\"Sandals\",\"Shoes\",\"Shoes\",\"Boots\",\"Sneakers\",\"Shoes\",\"Shoes\",\"Boots\",\"Sandals\",\"Sandals\",\"Boots\",\"Sneakers\",\"Shoes\",\"Sandals\",\"Sneakers\",\"Shoes\",\"Sneakers\",\"Sneakers\",\"Sneakers\",\"Sandals\",\"Sandals\",\"Sandals\",\"Boots\",\"Shoes\",\"Boots\",\"Shoes\",\"Sneakers\",\"Boots\",\"Sandals\",\"Sandals\",\"Shoes\",\"Boots\",\"Boots\",\"Shoes\",\"Boots\",\"Sneakers\",\"Shoes\",\"Shoes\",\"Sandals\",\"Shoes\",\"Shoes\",\"Sandals\",\"Shoes\",\"Sneakers\",\"Boots\",\"Boots\",\"Sneakers\",\"Sandals\",\"Boots\",\"Sandals\",\"Boots\",\"Shoes\",\"Sneakers\",\"Boots\",\"Sneakers\",\"Boots\",\"Boots\",\"Shoes\",\"Shoes\",\"Sneakers\",\"Shoes\",\"Sandals\",\"Shoes\",\"Sneakers\",\"Sneakers\",\"Shoes\",\"Boots\",\"Sandals\",\"Shoes\",\"Sneakers\",\"Boots\",\"Boots\",\"Boots\",\"Sandals\",\"Boots\",\"Boots\",\"Boots\",\"Shoes\",\"Shoes\",\"Boots\",\"Sandals\",\"Boots\",\"Sneakers\",\"Boots\",\"Sandals\",\"Sneakers\",\"Boots\",\"Boots\",\"Sandals\",\"Shoes\",\"Shoes\",\"Sneakers\",\"Sneakers\",\"Boots\",\"Boots\",\"Boots\",\"Sneakers\",\"Boots\",\"Sneakers\",\"Sandals\",\"Shoes\",\"Boots\",\"Sandals\",\"Shoes\",\"Sneakers\",\"Boots\",\"Boots\",\"Shoes\",\"Sneakers\",\"Shoes\",\"Shoes\",\"Boots\",\"Sandals\",\"Boots\",\"Shoes\",\"Boots\",\"Sneakers\",\"Sandals\",\"Sandals\",\"Shoes\",\"Sandals\",\"Sandals\",\"Sandals\",\"Boots\",\"Shoes\",\"Sneakers\",\"Boots\",\"Shoes\",\"Sandals\",\"Sandals\",\"Sneakers\",\"Boots\",\"Sneakers\",\"Boots\",\"Shoes\",\"Sneakers\",\"Sneakers\",\"Sneakers\",\"Shoes\",\"Sneakers\",\"Sandals\",\"Sneakers\",\"Sandals\",\"Shoes\",\"Shoes\",\"Sneakers\",\"Sandals\",\"Sandals\",\"Sneakers\",\"Shoes\",\"Shoes\",\"Sandals\",\"Sandals\",\"Boots\",\"Sandals\",\"Boots\",\"Sandals\",\"Shoes\",\"Sandals\",\"Boots\",\"Sandals\",\"Shoes\",\"Boots\",\"Boots\",\"Boots\",\"Sandals\",\"Shoes\",\"Sandals\",\"Sneakers\",\"Boots\",\"Sandals\",\"Sandals\",\"Boots\",\"Shoes\",\"Sandals\",\"Shoes\",\"Sneakers\",\"Sneakers\",\"Boots\",\"Shoes\",\"Shoes\",\"Sneakers\",\"Shoes\",\"Shoes\",\"Sandals\",\"Shoes\",\"Shoes\",\"Sneakers\",\"Sneakers\",\"Sandals\",\"Sandals\",\"Boots\",\"Shoes\",\"Sneakers\",\"Boots\",\"Sandals\",\"Sandals\",\"Sandals\",\"Sandals\",\"Sneakers\",\"Sneakers\",\"Sandals\",\"Sandals\",\"Boots\",\"Shoes\",\"Sandals\",\"Shoes\",\"Sandals\",\"Shoes\",\"Sandals\",\"Sandals\",\"Sandals\",\"Sandals\",\"Shoes\",\"Sandals\",\"Sandals\",\"Shoes\",\"Sandals\",\"Boots\",\"Shoes\",\"Sandals\",\"Shoes\",\"Sandals\",\"Sneakers\",\"Sneakers\",\"Sneakers\",\"Sneakers\",\"Boots\",\"Boots\",\"Boots\",\"Shoes\",\"Sneakers\",\"Sneakers\",\"Boots\",\"Sandals\",\"Sandals\",\"Sandals\",\"Sandals\",\"Sandals\",\"Shoes\",\"Sandals\",\"Sneakers\",\"Shoes\"],\"xaxis\":\"x\",\"yaxis\":\"y\",\"type\":\"histogram\"},{\"alignmentgroup\":\"True\",\"bingroup\":\"x\",\"hovertemplate\":\"Category=Outerwear\\u003cbr\\u003eItem Purchased=%{x}\\u003cbr\\u003ecount=%{y}\\u003cextra\\u003e\\u003c\\u002fextra\\u003e\",\"legendgroup\":\"Outerwear\",\"marker\":{\"color\":\"#00cc96\",\"pattern\":{\"shape\":\"\"}},\"name\":\"Outerwear\",\"offsetgroup\":\"Outerwear\",\"orientation\":\"v\",\"showlegend\":true,\"x\":[\"Coat\",\"Coat\",\"Coat\",\"Jacket\",\"Jacket\",\"Coat\",\"Coat\",\"Jacket\",\"Coat\",\"Coat\",\"Jacket\",\"Coat\",\"Jacket\",\"Jacket\",\"Coat\",\"Jacket\",\"Coat\",\"Coat\",\"Coat\",\"Jacket\",\"Coat\",\"Jacket\",\"Coat\",\"Coat\",\"Jacket\",\"Jacket\",\"Jacket\",\"Jacket\",\"Coat\",\"Coat\",\"Coat\",\"Coat\",\"Jacket\",\"Coat\",\"Coat\",\"Coat\",\"Coat\",\"Coat\",\"Jacket\",\"Coat\",\"Coat\",\"Coat\",\"Jacket\",\"Jacket\",\"Jacket\",\"Coat\",\"Jacket\",\"Coat\",\"Coat\",\"Coat\",\"Jacket\",\"Coat\",\"Jacket\",\"Coat\",\"Jacket\",\"Coat\",\"Coat\",\"Jacket\",\"Jacket\",\"Jacket\",\"Coat\",\"Coat\",\"Jacket\",\"Jacket\",\"Coat\",\"Jacket\",\"Jacket\",\"Jacket\",\"Jacket\",\"Jacket\",\"Coat\",\"Coat\",\"Coat\",\"Coat\",\"Jacket\",\"Coat\",\"Jacket\",\"Coat\",\"Jacket\",\"Jacket\",\"Jacket\",\"Coat\",\"Coat\",\"Coat\",\"Coat\",\"Jacket\",\"Coat\",\"Jacket\",\"Jacket\",\"Coat\",\"Coat\",\"Jacket\",\"Jacket\",\"Jacket\",\"Coat\",\"Coat\",\"Coat\",\"Jacket\",\"Coat\",\"Coat\",\"Coat\",\"Coat\",\"Coat\",\"Coat\",\"Jacket\",\"Coat\",\"Jacket\",\"Jacket\",\"Coat\",\"Coat\",\"Jacket\",\"Jacket\",\"Coat\",\"Coat\",\"Coat\",\"Coat\",\"Jacket\",\"Coat\",\"Jacket\",\"Jacket\",\"Jacket\",\"Coat\",\"Jacket\",\"Coat\",\"Coat\",\"Jacket\",\"Jacket\",\"Coat\",\"Coat\",\"Jacket\",\"Jacket\",\"Jacket\",\"Jacket\",\"Jacket\",\"Coat\",\"Jacket\",\"Jacket\",\"Coat\",\"Jacket\",\"Coat\",\"Coat\",\"Coat\",\"Jacket\",\"Coat\",\"Coat\",\"Coat\",\"Jacket\",\"Jacket\",\"Coat\",\"Coat\",\"Coat\",\"Jacket\",\"Jacket\",\"Jacket\",\"Coat\",\"Jacket\",\"Coat\",\"Jacket\",\"Jacket\",\"Jacket\",\"Jacket\",\"Jacket\",\"Jacket\",\"Coat\",\"Jacket\",\"Coat\",\"Jacket\",\"Coat\",\"Jacket\",\"Jacket\",\"Jacket\",\"Coat\",\"Coat\",\"Coat\",\"Jacket\",\"Coat\",\"Coat\",\"Coat\",\"Jacket\",\"Jacket\",\"Jacket\",\"Coat\",\"Coat\",\"Jacket\",\"Coat\",\"Coat\",\"Coat\",\"Coat\",\"Jacket\",\"Coat\",\"Coat\",\"Coat\",\"Jacket\",\"Jacket\",\"Coat\",\"Jacket\",\"Jacket\",\"Coat\",\"Jacket\",\"Jacket\",\"Jacket\",\"Jacket\",\"Jacket\",\"Coat\",\"Jacket\",\"Coat\",\"Coat\",\"Jacket\",\"Jacket\",\"Jacket\",\"Coat\",\"Coat\",\"Coat\",\"Jacket\",\"Jacket\",\"Coat\",\"Jacket\",\"Coat\",\"Jacket\",\"Jacket\",\"Jacket\",\"Jacket\",\"Jacket\",\"Coat\",\"Coat\",\"Coat\",\"Jacket\",\"Jacket\",\"Jacket\",\"Jacket\",\"Coat\",\"Jacket\",\"Jacket\",\"Jacket\",\"Jacket\",\"Jacket\",\"Coat\",\"Jacket\",\"Jacket\",\"Jacket\",\"Coat\",\"Coat\",\"Jacket\",\"Coat\",\"Coat\",\"Jacket\",\"Coat\",\"Coat\",\"Coat\",\"Coat\",\"Jacket\",\"Coat\",\"Jacket\",\"Coat\",\"Jacket\",\"Coat\",\"Coat\",\"Coat\",\"Jacket\",\"Jacket\",\"Jacket\",\"Coat\",\"Coat\",\"Jacket\",\"Jacket\",\"Coat\",\"Jacket\",\"Jacket\",\"Coat\",\"Jacket\",\"Coat\",\"Coat\",\"Coat\",\"Coat\",\"Coat\",\"Jacket\",\"Jacket\",\"Coat\",\"Coat\",\"Jacket\",\"Jacket\",\"Jacket\",\"Jacket\",\"Coat\",\"Jacket\",\"Jacket\",\"Jacket\",\"Jacket\",\"Coat\",\"Coat\",\"Jacket\",\"Coat\",\"Jacket\",\"Coat\",\"Jacket\",\"Coat\",\"Coat\",\"Coat\",\"Jacket\",\"Coat\",\"Jacket\",\"Jacket\",\"Coat\",\"Jacket\",\"Coat\",\"Jacket\",\"Jacket\",\"Coat\",\"Coat\",\"Coat\",\"Jacket\",\"Jacket\",\"Coat\",\"Coat\",\"Jacket\",\"Jacket\",\"Coat\",\"Jacket\",\"Jacket\",\"Jacket\",\"Jacket\",\"Jacket\",\"Coat\",\"Jacket\"],\"xaxis\":\"x\",\"yaxis\":\"y\",\"type\":\"histogram\"},{\"alignmentgroup\":\"True\",\"bingroup\":\"x\",\"hovertemplate\":\"Category=Accessories\\u003cbr\\u003eItem Purchased=%{x}\\u003cbr\\u003ecount=%{y}\\u003cextra\\u003e\\u003c\\u002fextra\\u003e\",\"legendgroup\":\"Accessories\",\"marker\":{\"color\":\"#ab63fa\",\"pattern\":{\"shape\":\"\"}},\"name\":\"Accessories\",\"offsetgroup\":\"Accessories\",\"orientation\":\"v\",\"showlegend\":true,\"x\":[\"Handbag\",\"Sunglasses\",\"Jewelry\",\"Handbag\",\"Jewelry\",\"Handbag\",\"Scarf\",\"Scarf\",\"Hat\",\"Jewelry\",\"Backpack\",\"Belt\",\"Scarf\",\"Sunglasses\",\"Backpack\",\"Handbag\",\"Belt\",\"Belt\",\"Gloves\",\"Scarf\",\"Hat\",\"Sunglasses\",\"Hat\",\"Scarf\",\"Gloves\",\"Sunglasses\",\"Sunglasses\",\"Backpack\",\"Backpack\",\"Belt\",\"Gloves\",\"Hat\",\"Hat\",\"Backpack\",\"Scarf\",\"Scarf\",\"Backpack\",\"Hat\",\"Gloves\",\"Jewelry\",\"Gloves\",\"Sunglasses\",\"Hat\",\"Gloves\",\"Gloves\",\"Backpack\",\"Sunglasses\",\"Handbag\",\"Handbag\",\"Gloves\",\"Jewelry\",\"Hat\",\"Backpack\",\"Gloves\",\"Backpack\",\"Hat\",\"Belt\",\"Backpack\",\"Scarf\",\"Jewelry\",\"Hat\",\"Hat\",\"Scarf\",\"Gloves\",\"Handbag\",\"Handbag\",\"Scarf\",\"Sunglasses\",\"Belt\",\"Hat\",\"Gloves\",\"Scarf\",\"Jewelry\",\"Gloves\",\"Sunglasses\",\"Jewelry\",\"Belt\",\"Sunglasses\",\"Belt\",\"Handbag\",\"Handbag\",\"Sunglasses\",\"Scarf\",\"Jewelry\",\"Handbag\",\"Gloves\",\"Hat\",\"Backpack\",\"Jewelry\",\"Sunglasses\",\"Jewelry\",\"Jewelry\",\"Backpack\",\"Belt\",\"Handbag\",\"Jewelry\",\"Scarf\",\"Handbag\",\"Sunglasses\",\"Hat\",\"Gloves\",\"Handbag\",\"Jewelry\",\"Handbag\",\"Backpack\",\"Jewelry\",\"Belt\",\"Scarf\",\"Hat\",\"Hat\",\"Hat\",\"Jewelry\",\"Jewelry\",\"Belt\",\"Hat\",\"Gloves\",\"Handbag\",\"Belt\",\"Scarf\",\"Jewelry\",\"Sunglasses\",\"Scarf\",\"Backpack\",\"Jewelry\",\"Sunglasses\",\"Jewelry\",\"Handbag\",\"Gloves\",\"Scarf\",\"Belt\",\"Scarf\",\"Backpack\",\"Gloves\",\"Jewelry\",\"Backpack\",\"Belt\",\"Scarf\",\"Backpack\",\"Hat\",\"Jewelry\",\"Belt\",\"Sunglasses\",\"Sunglasses\",\"Gloves\",\"Jewelry\",\"Jewelry\",\"Jewelry\",\"Gloves\",\"Hat\",\"Jewelry\",\"Sunglasses\",\"Backpack\",\"Backpack\",\"Scarf\",\"Scarf\",\"Jewelry\",\"Handbag\",\"Hat\",\"Belt\",\"Hat\",\"Backpack\",\"Handbag\",\"Scarf\",\"Jewelry\",\"Gloves\",\"Scarf\",\"Hat\",\"Belt\",\"Sunglasses\",\"Gloves\",\"Gloves\",\"Backpack\",\"Backpack\",\"Belt\",\"Sunglasses\",\"Gloves\",\"Scarf\",\"Jewelry\",\"Backpack\",\"Scarf\",\"Hat\",\"Belt\",\"Backpack\",\"Jewelry\",\"Hat\",\"Backpack\",\"Handbag\",\"Sunglasses\",\"Hat\",\"Scarf\",\"Backpack\",\"Scarf\",\"Hat\",\"Jewelry\",\"Gloves\",\"Backpack\",\"Backpack\",\"Backpack\",\"Sunglasses\",\"Jewelry\",\"Sunglasses\",\"Jewelry\",\"Backpack\",\"Handbag\",\"Backpack\",\"Gloves\",\"Hat\",\"Sunglasses\",\"Scarf\",\"Handbag\",\"Handbag\",\"Backpack\",\"Gloves\",\"Sunglasses\",\"Jewelry\",\"Sunglasses\",\"Hat\",\"Gloves\",\"Scarf\",\"Backpack\",\"Sunglasses\",\"Belt\",\"Scarf\",\"Handbag\",\"Backpack\",\"Scarf\",\"Jewelry\",\"Jewelry\",\"Jewelry\",\"Hat\",\"Sunglasses\",\"Sunglasses\",\"Sunglasses\",\"Sunglasses\",\"Sunglasses\",\"Hat\",\"Scarf\",\"Gloves\",\"Scarf\",\"Gloves\",\"Belt\",\"Gloves\",\"Jewelry\",\"Belt\",\"Gloves\",\"Backpack\",\"Hat\",\"Hat\",\"Handbag\",\"Scarf\",\"Hat\",\"Handbag\",\"Handbag\",\"Scarf\",\"Backpack\",\"Belt\",\"Belt\",\"Scarf\",\"Handbag\",\"Hat\",\"Handbag\",\"Sunglasses\",\"Sunglasses\",\"Belt\",\"Gloves\",\"Handbag\",\"Backpack\",\"Gloves\",\"Belt\",\"Hat\",\"Sunglasses\",\"Hat\",\"Handbag\",\"Belt\",\"Handbag\",\"Sunglasses\",\"Backpack\",\"Handbag\",\"Scarf\",\"Belt\",\"Gloves\",\"Backpack\",\"Hat\",\"Jewelry\",\"Belt\",\"Hat\",\"Scarf\",\"Hat\",\"Sunglasses\",\"Belt\",\"Belt\",\"Belt\",\"Handbag\",\"Hat\",\"Belt\",\"Hat\",\"Backpack\",\"Hat\",\"Sunglasses\",\"Hat\",\"Scarf\",\"Jewelry\",\"Sunglasses\",\"Sunglasses\",\"Belt\",\"Gloves\",\"Hat\",\"Belt\",\"Hat\",\"Handbag\",\"Scarf\",\"Handbag\",\"Sunglasses\",\"Jewelry\",\"Hat\",\"Backpack\",\"Backpack\",\"Gloves\",\"Scarf\",\"Backpack\",\"Belt\",\"Gloves\",\"Belt\",\"Scarf\",\"Handbag\",\"Sunglasses\",\"Handbag\",\"Jewelry\",\"Gloves\",\"Handbag\",\"Jewelry\",\"Belt\",\"Belt\",\"Sunglasses\",\"Scarf\",\"Hat\",\"Jewelry\",\"Hat\",\"Scarf\",\"Jewelry\",\"Sunglasses\",\"Scarf\",\"Belt\",\"Hat\",\"Backpack\",\"Jewelry\",\"Sunglasses\",\"Backpack\",\"Scarf\",\"Jewelry\",\"Jewelry\",\"Sunglasses\",\"Handbag\",\"Gloves\",\"Hat\",\"Sunglasses\",\"Hat\",\"Backpack\",\"Sunglasses\",\"Belt\",\"Jewelry\",\"Handbag\",\"Hat\",\"Scarf\",\"Gloves\",\"Jewelry\",\"Handbag\",\"Gloves\",\"Hat\",\"Jewelry\",\"Jewelry\",\"Handbag\",\"Belt\",\"Belt\",\"Handbag\",\"Scarf\",\"Scarf\",\"Backpack\",\"Jewelry\",\"Backpack\",\"Belt\",\"Jewelry\",\"Belt\",\"Hat\",\"Scarf\",\"Belt\",\"Scarf\",\"Belt\",\"Handbag\",\"Handbag\",\"Sunglasses\",\"Handbag\",\"Gloves\",\"Gloves\",\"Jewelry\",\"Hat\",\"Handbag\",\"Gloves\",\"Hat\",\"Scarf\",\"Hat\",\"Hat\",\"Jewelry\",\"Jewelry\",\"Hat\",\"Belt\",\"Gloves\",\"Gloves\",\"Belt\",\"Belt\",\"Belt\",\"Backpack\",\"Belt\",\"Sunglasses\",\"Hat\",\"Jewelry\",\"Backpack\",\"Gloves\",\"Handbag\",\"Handbag\",\"Belt\",\"Belt\",\"Sunglasses\",\"Belt\",\"Sunglasses\",\"Hat\",\"Backpack\",\"Backpack\",\"Scarf\",\"Hat\",\"Handbag\",\"Belt\",\"Belt\",\"Scarf\",\"Gloves\",\"Handbag\",\"Sunglasses\",\"Scarf\",\"Jewelry\",\"Scarf\",\"Hat\",\"Gloves\",\"Gloves\",\"Scarf\",\"Sunglasses\",\"Hat\",\"Backpack\",\"Sunglasses\",\"Backpack\",\"Jewelry\",\"Handbag\",\"Backpack\",\"Hat\",\"Belt\",\"Handbag\",\"Backpack\",\"Hat\",\"Scarf\",\"Belt\",\"Sunglasses\",\"Jewelry\",\"Belt\",\"Gloves\",\"Jewelry\",\"Gloves\",\"Jewelry\",\"Jewelry\",\"Hat\",\"Hat\",\"Belt\",\"Gloves\",\"Jewelry\",\"Gloves\",\"Jewelry\",\"Gloves\",\"Hat\",\"Jewelry\",\"Belt\",\"Jewelry\",\"Belt\",\"Gloves\",\"Belt\",\"Sunglasses\",\"Hat\",\"Backpack\",\"Belt\",\"Hat\",\"Backpack\",\"Backpack\",\"Sunglasses\",\"Belt\",\"Handbag\",\"Jewelry\",\"Belt\",\"Hat\",\"Sunglasses\",\"Handbag\",\"Backpack\",\"Sunglasses\",\"Scarf\",\"Hat\",\"Scarf\",\"Scarf\",\"Backpack\",\"Sunglasses\",\"Backpack\",\"Jewelry\",\"Jewelry\",\"Belt\",\"Scarf\",\"Belt\",\"Handbag\",\"Backpack\",\"Jewelry\",\"Hat\",\"Jewelry\",\"Sunglasses\",\"Belt\",\"Jewelry\",\"Jewelry\",\"Hat\",\"Handbag\",\"Hat\",\"Scarf\",\"Backpack\",\"Sunglasses\",\"Gloves\",\"Sunglasses\",\"Gloves\",\"Scarf\",\"Scarf\",\"Scarf\",\"Handbag\",\"Scarf\",\"Belt\",\"Belt\",\"Jewelry\",\"Gloves\",\"Gloves\",\"Sunglasses\",\"Handbag\",\"Handbag\",\"Sunglasses\",\"Gloves\",\"Handbag\",\"Handbag\",\"Hat\",\"Sunglasses\",\"Belt\",\"Handbag\",\"Backpack\",\"Jewelry\",\"Sunglasses\",\"Jewelry\",\"Scarf\",\"Sunglasses\",\"Backpack\",\"Belt\",\"Jewelry\",\"Handbag\",\"Jewelry\",\"Sunglasses\",\"Handbag\",\"Sunglasses\",\"Belt\",\"Jewelry\",\"Hat\",\"Jewelry\",\"Jewelry\",\"Backpack\",\"Belt\",\"Scarf\",\"Jewelry\",\"Handbag\",\"Backpack\",\"Gloves\",\"Gloves\",\"Hat\",\"Backpack\",\"Belt\",\"Handbag\",\"Backpack\",\"Belt\",\"Hat\",\"Sunglasses\",\"Hat\",\"Sunglasses\",\"Jewelry\",\"Jewelry\",\"Scarf\",\"Hat\",\"Gloves\",\"Handbag\",\"Scarf\",\"Gloves\",\"Jewelry\",\"Scarf\",\"Belt\",\"Gloves\",\"Backpack\",\"Gloves\",\"Gloves\",\"Scarf\",\"Backpack\",\"Jewelry\",\"Gloves\",\"Sunglasses\",\"Jewelry\",\"Sunglasses\",\"Jewelry\",\"Backpack\",\"Scarf\",\"Jewelry\",\"Backpack\",\"Backpack\",\"Gloves\",\"Backpack\",\"Sunglasses\",\"Jewelry\",\"Jewelry\",\"Gloves\",\"Hat\",\"Backpack\",\"Gloves\",\"Gloves\",\"Gloves\",\"Hat\",\"Belt\",\"Hat\",\"Backpack\",\"Gloves\",\"Handbag\",\"Sunglasses\",\"Sunglasses\",\"Scarf\",\"Gloves\",\"Belt\",\"Jewelry\",\"Backpack\",\"Sunglasses\",\"Backpack\",\"Belt\",\"Sunglasses\",\"Scarf\",\"Backpack\",\"Belt\",\"Backpack\",\"Handbag\",\"Jewelry\",\"Scarf\",\"Scarf\",\"Sunglasses\",\"Belt\",\"Jewelry\",\"Gloves\",\"Jewelry\",\"Jewelry\",\"Hat\",\"Backpack\",\"Sunglasses\",\"Handbag\",\"Backpack\",\"Belt\",\"Jewelry\",\"Jewelry\",\"Backpack\",\"Belt\",\"Scarf\",\"Gloves\",\"Scarf\",\"Sunglasses\",\"Scarf\",\"Hat\",\"Hat\",\"Gloves\",\"Jewelry\",\"Jewelry\",\"Sunglasses\",\"Belt\",\"Scarf\",\"Jewelry\",\"Scarf\",\"Backpack\",\"Backpack\",\"Hat\",\"Sunglasses\",\"Sunglasses\",\"Handbag\",\"Hat\",\"Sunglasses\",\"Scarf\",\"Handbag\",\"Handbag\",\"Gloves\",\"Handbag\",\"Gloves\",\"Backpack\",\"Belt\",\"Gloves\",\"Jewelry\",\"Handbag\",\"Belt\",\"Scarf\",\"Scarf\",\"Scarf\",\"Gloves\",\"Handbag\",\"Scarf\",\"Sunglasses\",\"Hat\",\"Belt\",\"Jewelry\",\"Sunglasses\",\"Belt\",\"Gloves\",\"Belt\",\"Scarf\",\"Gloves\",\"Jewelry\",\"Jewelry\",\"Gloves\",\"Belt\",\"Scarf\",\"Backpack\",\"Backpack\",\"Scarf\",\"Hat\",\"Gloves\",\"Hat\",\"Gloves\",\"Handbag\",\"Belt\",\"Jewelry\",\"Sunglasses\",\"Hat\",\"Gloves\",\"Handbag\",\"Belt\",\"Sunglasses\",\"Handbag\",\"Gloves\",\"Sunglasses\",\"Gloves\",\"Handbag\",\"Gloves\",\"Hat\",\"Backpack\",\"Scarf\",\"Scarf\",\"Belt\",\"Belt\",\"Handbag\",\"Backpack\",\"Scarf\",\"Handbag\",\"Scarf\",\"Sunglasses\",\"Sunglasses\",\"Gloves\",\"Backpack\",\"Gloves\",\"Scarf\",\"Hat\",\"Scarf\",\"Backpack\",\"Scarf\",\"Hat\",\"Sunglasses\",\"Sunglasses\",\"Scarf\",\"Scarf\",\"Jewelry\",\"Backpack\",\"Jewelry\",\"Backpack\",\"Jewelry\",\"Gloves\",\"Handbag\",\"Jewelry\",\"Backpack\",\"Scarf\",\"Scarf\",\"Hat\",\"Gloves\",\"Belt\",\"Handbag\",\"Scarf\",\"Hat\",\"Gloves\",\"Belt\",\"Handbag\",\"Handbag\",\"Handbag\",\"Sunglasses\",\"Backpack\",\"Scarf\",\"Backpack\",\"Gloves\",\"Handbag\",\"Backpack\",\"Handbag\",\"Hat\",\"Handbag\",\"Belt\",\"Handbag\",\"Jewelry\",\"Gloves\",\"Jewelry\",\"Sunglasses\",\"Belt\",\"Scarf\",\"Belt\",\"Scarf\",\"Jewelry\",\"Scarf\",\"Backpack\",\"Belt\",\"Jewelry\",\"Jewelry\",\"Belt\",\"Backpack\",\"Scarf\",\"Handbag\",\"Sunglasses\",\"Sunglasses\",\"Hat\",\"Sunglasses\",\"Sunglasses\",\"Scarf\",\"Backpack\",\"Gloves\",\"Jewelry\",\"Backpack\",\"Jewelry\",\"Belt\",\"Backpack\",\"Sunglasses\",\"Gloves\",\"Handbag\",\"Backpack\",\"Scarf\",\"Scarf\",\"Sunglasses\",\"Sunglasses\",\"Belt\",\"Gloves\",\"Scarf\",\"Gloves\",\"Sunglasses\",\"Handbag\",\"Jewelry\",\"Belt\",\"Sunglasses\",\"Hat\",\"Backpack\",\"Belt\",\"Backpack\",\"Handbag\",\"Belt\",\"Sunglasses\",\"Hat\",\"Scarf\",\"Backpack\",\"Sunglasses\",\"Sunglasses\",\"Scarf\",\"Hat\",\"Backpack\",\"Belt\",\"Gloves\",\"Gloves\",\"Handbag\",\"Backpack\",\"Jewelry\",\"Sunglasses\",\"Belt\",\"Gloves\",\"Sunglasses\",\"Belt\",\"Hat\",\"Hat\",\"Handbag\",\"Gloves\",\"Backpack\",\"Scarf\",\"Belt\",\"Sunglasses\",\"Gloves\",\"Handbag\",\"Gloves\",\"Scarf\",\"Jewelry\",\"Sunglasses\",\"Backpack\",\"Backpack\",\"Hat\",\"Handbag\",\"Handbag\",\"Scarf\",\"Jewelry\",\"Scarf\",\"Scarf\",\"Hat\",\"Backpack\",\"Jewelry\",\"Belt\",\"Hat\",\"Backpack\",\"Jewelry\",\"Jewelry\",\"Backpack\",\"Backpack\",\"Hat\",\"Sunglasses\",\"Belt\",\"Jewelry\",\"Scarf\",\"Sunglasses\",\"Sunglasses\",\"Backpack\",\"Belt\",\"Sunglasses\",\"Sunglasses\",\"Handbag\",\"Sunglasses\",\"Handbag\",\"Jewelry\",\"Jewelry\",\"Backpack\",\"Hat\",\"Gloves\",\"Handbag\",\"Sunglasses\",\"Handbag\",\"Belt\",\"Jewelry\",\"Jewelry\",\"Scarf\",\"Belt\",\"Jewelry\",\"Handbag\",\"Scarf\",\"Belt\",\"Jewelry\",\"Handbag\",\"Scarf\",\"Gloves\",\"Gloves\",\"Belt\",\"Belt\",\"Belt\",\"Jewelry\",\"Sunglasses\",\"Belt\",\"Sunglasses\",\"Belt\",\"Belt\",\"Belt\",\"Belt\",\"Scarf\",\"Sunglasses\",\"Sunglasses\",\"Backpack\",\"Backpack\",\"Handbag\",\"Belt\",\"Jewelry\",\"Handbag\",\"Handbag\",\"Belt\",\"Jewelry\",\"Handbag\",\"Sunglasses\",\"Gloves\",\"Backpack\",\"Handbag\",\"Backpack\",\"Sunglasses\",\"Belt\",\"Belt\",\"Jewelry\",\"Handbag\",\"Belt\",\"Belt\",\"Scarf\",\"Handbag\",\"Sunglasses\",\"Hat\",\"Hat\",\"Jewelry\",\"Handbag\",\"Belt\",\"Handbag\",\"Scarf\",\"Handbag\",\"Jewelry\",\"Sunglasses\",\"Gloves\",\"Sunglasses\",\"Gloves\",\"Sunglasses\",\"Handbag\",\"Belt\",\"Belt\",\"Belt\",\"Handbag\",\"Belt\",\"Jewelry\",\"Hat\",\"Backpack\",\"Sunglasses\",\"Jewelry\",\"Belt\",\"Handbag\",\"Sunglasses\",\"Jewelry\",\"Gloves\",\"Sunglasses\",\"Belt\",\"Gloves\",\"Handbag\",\"Scarf\",\"Jewelry\",\"Sunglasses\",\"Sunglasses\",\"Handbag\",\"Sunglasses\",\"Scarf\",\"Jewelry\",\"Belt\",\"Jewelry\",\"Belt\",\"Belt\",\"Sunglasses\",\"Handbag\",\"Gloves\",\"Backpack\",\"Backpack\",\"Sunglasses\",\"Hat\",\"Scarf\",\"Belt\",\"Sunglasses\",\"Belt\",\"Scarf\",\"Hat\",\"Handbag\",\"Scarf\",\"Hat\",\"Handbag\",\"Backpack\",\"Belt\",\"Handbag\",\"Belt\",\"Hat\",\"Belt\",\"Handbag\",\"Scarf\",\"Handbag\",\"Hat\",\"Hat\",\"Scarf\",\"Hat\",\"Handbag\",\"Gloves\",\"Backpack\",\"Sunglasses\",\"Hat\",\"Gloves\",\"Hat\",\"Handbag\",\"Jewelry\",\"Handbag\",\"Belt\",\"Sunglasses\",\"Handbag\",\"Scarf\",\"Gloves\",\"Belt\",\"Hat\",\"Handbag\",\"Hat\",\"Jewelry\",\"Scarf\",\"Sunglasses\",\"Backpack\",\"Gloves\",\"Gloves\",\"Jewelry\",\"Hat\",\"Scarf\",\"Hat\",\"Jewelry\",\"Belt\",\"Belt\",\"Gloves\",\"Handbag\",\"Hat\",\"Handbag\",\"Jewelry\",\"Jewelry\",\"Scarf\",\"Jewelry\",\"Backpack\",\"Scarf\",\"Sunglasses\",\"Handbag\",\"Handbag\",\"Gloves\",\"Gloves\",\"Scarf\",\"Handbag\",\"Backpack\",\"Handbag\",\"Jewelry\",\"Handbag\",\"Jewelry\",\"Hat\",\"Backpack\",\"Sunglasses\",\"Scarf\",\"Sunglasses\",\"Handbag\",\"Handbag\",\"Jewelry\",\"Hat\",\"Scarf\",\"Scarf\",\"Gloves\",\"Sunglasses\",\"Backpack\",\"Gloves\",\"Handbag\",\"Scarf\",\"Belt\",\"Scarf\",\"Gloves\",\"Sunglasses\",\"Belt\",\"Scarf\",\"Sunglasses\",\"Scarf\",\"Hat\",\"Gloves\",\"Hat\",\"Gloves\",\"Belt\",\"Gloves\",\"Scarf\",\"Jewelry\",\"Hat\",\"Scarf\",\"Belt\",\"Hat\",\"Hat\",\"Gloves\",\"Backpack\",\"Sunglasses\",\"Scarf\",\"Backpack\",\"Jewelry\",\"Handbag\",\"Handbag\",\"Jewelry\",\"Backpack\",\"Jewelry\",\"Handbag\",\"Handbag\",\"Hat\",\"Jewelry\",\"Backpack\",\"Sunglasses\",\"Gloves\",\"Sunglasses\",\"Jewelry\",\"Backpack\",\"Handbag\",\"Sunglasses\",\"Gloves\",\"Jewelry\",\"Hat\",\"Hat\",\"Sunglasses\",\"Hat\",\"Gloves\",\"Belt\",\"Hat\",\"Jewelry\",\"Sunglasses\",\"Backpack\",\"Jewelry\",\"Sunglasses\",\"Backpack\",\"Jewelry\",\"Handbag\",\"Gloves\",\"Gloves\",\"Belt\",\"Gloves\",\"Hat\",\"Handbag\",\"Sunglasses\",\"Scarf\",\"Sunglasses\",\"Scarf\",\"Gloves\",\"Sunglasses\",\"Jewelry\",\"Scarf\",\"Handbag\",\"Hat\",\"Scarf\",\"Belt\",\"Hat\",\"Scarf\",\"Belt\",\"Hat\",\"Jewelry\",\"Hat\",\"Backpack\",\"Hat\",\"Jewelry\",\"Jewelry\",\"Scarf\",\"Hat\",\"Sunglasses\",\"Hat\",\"Sunglasses\",\"Scarf\",\"Hat\",\"Hat\",\"Hat\",\"Scarf\",\"Hat\",\"Jewelry\",\"Jewelry\",\"Hat\",\"Backpack\",\"Belt\",\"Handbag\"],\"xaxis\":\"x\",\"yaxis\":\"y\",\"type\":\"histogram\"}],                        {\"template\":{\"data\":{\"histogram2dcontour\":[{\"type\":\"histogram2dcontour\",\"colorbar\":{\"outlinewidth\":0,\"ticks\":\"\"},\"colorscale\":[[0.0,\"#0d0887\"],[0.1111111111111111,\"#46039f\"],[0.2222222222222222,\"#7201a8\"],[0.3333333333333333,\"#9c179e\"],[0.4444444444444444,\"#bd3786\"],[0.5555555555555556,\"#d8576b\"],[0.6666666666666666,\"#ed7953\"],[0.7777777777777778,\"#fb9f3a\"],[0.8888888888888888,\"#fdca26\"],[1.0,\"#f0f921\"]]}],\"choropleth\":[{\"type\":\"choropleth\",\"colorbar\":{\"outlinewidth\":0,\"ticks\":\"\"}}],\"histogram2d\":[{\"type\":\"histogram2d\",\"colorbar\":{\"outlinewidth\":0,\"ticks\":\"\"},\"colorscale\":[[0.0,\"#0d0887\"],[0.1111111111111111,\"#46039f\"],[0.2222222222222222,\"#7201a8\"],[0.3333333333333333,\"#9c179e\"],[0.4444444444444444,\"#bd3786\"],[0.5555555555555556,\"#d8576b\"],[0.6666666666666666,\"#ed7953\"],[0.7777777777777778,\"#fb9f3a\"],[0.8888888888888888,\"#fdca26\"],[1.0,\"#f0f921\"]]}],\"heatmap\":[{\"type\":\"heatmap\",\"colorbar\":{\"outlinewidth\":0,\"ticks\":\"\"},\"colorscale\":[[0.0,\"#0d0887\"],[0.1111111111111111,\"#46039f\"],[0.2222222222222222,\"#7201a8\"],[0.3333333333333333,\"#9c179e\"],[0.4444444444444444,\"#bd3786\"],[0.5555555555555556,\"#d8576b\"],[0.6666666666666666,\"#ed7953\"],[0.7777777777777778,\"#fb9f3a\"],[0.8888888888888888,\"#fdca26\"],[1.0,\"#f0f921\"]]}],\"heatmapgl\":[{\"type\":\"heatmapgl\",\"colorbar\":{\"outlinewidth\":0,\"ticks\":\"\"},\"colorscale\":[[0.0,\"#0d0887\"],[0.1111111111111111,\"#46039f\"],[0.2222222222222222,\"#7201a8\"],[0.3333333333333333,\"#9c179e\"],[0.4444444444444444,\"#bd3786\"],[0.5555555555555556,\"#d8576b\"],[0.6666666666666666,\"#ed7953\"],[0.7777777777777778,\"#fb9f3a\"],[0.8888888888888888,\"#fdca26\"],[1.0,\"#f0f921\"]]}],\"contourcarpet\":[{\"type\":\"contourcarpet\",\"colorbar\":{\"outlinewidth\":0,\"ticks\":\"\"}}],\"contour\":[{\"type\":\"contour\",\"colorbar\":{\"outlinewidth\":0,\"ticks\":\"\"},\"colorscale\":[[0.0,\"#0d0887\"],[0.1111111111111111,\"#46039f\"],[0.2222222222222222,\"#7201a8\"],[0.3333333333333333,\"#9c179e\"],[0.4444444444444444,\"#bd3786\"],[0.5555555555555556,\"#d8576b\"],[0.6666666666666666,\"#ed7953\"],[0.7777777777777778,\"#fb9f3a\"],[0.8888888888888888,\"#fdca26\"],[1.0,\"#f0f921\"]]}],\"surface\":[{\"type\":\"surface\",\"colorbar\":{\"outlinewidth\":0,\"ticks\":\"\"},\"colorscale\":[[0.0,\"#0d0887\"],[0.1111111111111111,\"#46039f\"],[0.2222222222222222,\"#7201a8\"],[0.3333333333333333,\"#9c179e\"],[0.4444444444444444,\"#bd3786\"],[0.5555555555555556,\"#d8576b\"],[0.6666666666666666,\"#ed7953\"],[0.7777777777777778,\"#fb9f3a\"],[0.8888888888888888,\"#fdca26\"],[1.0,\"#f0f921\"]]}],\"mesh3d\":[{\"type\":\"mesh3d\",\"colorbar\":{\"outlinewidth\":0,\"ticks\":\"\"}}],\"scatter\":[{\"fillpattern\":{\"fillmode\":\"overlay\",\"size\":10,\"solidity\":0.2},\"type\":\"scatter\"}],\"parcoords\":[{\"type\":\"parcoords\",\"line\":{\"colorbar\":{\"outlinewidth\":0,\"ticks\":\"\"}}}],\"scatterpolargl\":[{\"type\":\"scatterpolargl\",\"marker\":{\"colorbar\":{\"outlinewidth\":0,\"ticks\":\"\"}}}],\"bar\":[{\"error_x\":{\"color\":\"#2a3f5f\"},\"error_y\":{\"color\":\"#2a3f5f\"},\"marker\":{\"line\":{\"color\":\"#E5ECF6\",\"width\":0.5},\"pattern\":{\"fillmode\":\"overlay\",\"size\":10,\"solidity\":0.2}},\"type\":\"bar\"}],\"scattergeo\":[{\"type\":\"scattergeo\",\"marker\":{\"colorbar\":{\"outlinewidth\":0,\"ticks\":\"\"}}}],\"scatterpolar\":[{\"type\":\"scatterpolar\",\"marker\":{\"colorbar\":{\"outlinewidth\":0,\"ticks\":\"\"}}}],\"histogram\":[{\"marker\":{\"pattern\":{\"fillmode\":\"overlay\",\"size\":10,\"solidity\":0.2}},\"type\":\"histogram\"}],\"scattergl\":[{\"type\":\"scattergl\",\"marker\":{\"colorbar\":{\"outlinewidth\":0,\"ticks\":\"\"}}}],\"scatter3d\":[{\"type\":\"scatter3d\",\"line\":{\"colorbar\":{\"outlinewidth\":0,\"ticks\":\"\"}},\"marker\":{\"colorbar\":{\"outlinewidth\":0,\"ticks\":\"\"}}}],\"scattermapbox\":[{\"type\":\"scattermapbox\",\"marker\":{\"colorbar\":{\"outlinewidth\":0,\"ticks\":\"\"}}}],\"scatterternary\":[{\"type\":\"scatterternary\",\"marker\":{\"colorbar\":{\"outlinewidth\":0,\"ticks\":\"\"}}}],\"scattercarpet\":[{\"type\":\"scattercarpet\",\"marker\":{\"colorbar\":{\"outlinewidth\":0,\"ticks\":\"\"}}}],\"carpet\":[{\"aaxis\":{\"endlinecolor\":\"#2a3f5f\",\"gridcolor\":\"white\",\"linecolor\":\"white\",\"minorgridcolor\":\"white\",\"startlinecolor\":\"#2a3f5f\"},\"baxis\":{\"endlinecolor\":\"#2a3f5f\",\"gridcolor\":\"white\",\"linecolor\":\"white\",\"minorgridcolor\":\"white\",\"startlinecolor\":\"#2a3f5f\"},\"type\":\"carpet\"}],\"table\":[{\"cells\":{\"fill\":{\"color\":\"#EBF0F8\"},\"line\":{\"color\":\"white\"}},\"header\":{\"fill\":{\"color\":\"#C8D4E3\"},\"line\":{\"color\":\"white\"}},\"type\":\"table\"}],\"barpolar\":[{\"marker\":{\"line\":{\"color\":\"#E5ECF6\",\"width\":0.5},\"pattern\":{\"fillmode\":\"overlay\",\"size\":10,\"solidity\":0.2}},\"type\":\"barpolar\"}],\"pie\":[{\"automargin\":true,\"type\":\"pie\"}]},\"layout\":{\"autotypenumbers\":\"strict\",\"colorway\":[\"#636efa\",\"#EF553B\",\"#00cc96\",\"#ab63fa\",\"#FFA15A\",\"#19d3f3\",\"#FF6692\",\"#B6E880\",\"#FF97FF\",\"#FECB52\"],\"font\":{\"color\":\"#2a3f5f\"},\"hovermode\":\"closest\",\"hoverlabel\":{\"align\":\"left\"},\"paper_bgcolor\":\"white\",\"plot_bgcolor\":\"#E5ECF6\",\"polar\":{\"bgcolor\":\"#E5ECF6\",\"angularaxis\":{\"gridcolor\":\"white\",\"linecolor\":\"white\",\"ticks\":\"\"},\"radialaxis\":{\"gridcolor\":\"white\",\"linecolor\":\"white\",\"ticks\":\"\"}},\"ternary\":{\"bgcolor\":\"#E5ECF6\",\"aaxis\":{\"gridcolor\":\"white\",\"linecolor\":\"white\",\"ticks\":\"\"},\"baxis\":{\"gridcolor\":\"white\",\"linecolor\":\"white\",\"ticks\":\"\"},\"caxis\":{\"gridcolor\":\"white\",\"linecolor\":\"white\",\"ticks\":\"\"}},\"coloraxis\":{\"colorbar\":{\"outlinewidth\":0,\"ticks\":\"\"}},\"colorscale\":{\"sequential\":[[0.0,\"#0d0887\"],[0.1111111111111111,\"#46039f\"],[0.2222222222222222,\"#7201a8\"],[0.3333333333333333,\"#9c179e\"],[0.4444444444444444,\"#bd3786\"],[0.5555555555555556,\"#d8576b\"],[0.6666666666666666,\"#ed7953\"],[0.7777777777777778,\"#fb9f3a\"],[0.8888888888888888,\"#fdca26\"],[1.0,\"#f0f921\"]],\"sequentialminus\":[[0.0,\"#0d0887\"],[0.1111111111111111,\"#46039f\"],[0.2222222222222222,\"#7201a8\"],[0.3333333333333333,\"#9c179e\"],[0.4444444444444444,\"#bd3786\"],[0.5555555555555556,\"#d8576b\"],[0.6666666666666666,\"#ed7953\"],[0.7777777777777778,\"#fb9f3a\"],[0.8888888888888888,\"#fdca26\"],[1.0,\"#f0f921\"]],\"diverging\":[[0,\"#8e0152\"],[0.1,\"#c51b7d\"],[0.2,\"#de77ae\"],[0.3,\"#f1b6da\"],[0.4,\"#fde0ef\"],[0.5,\"#f7f7f7\"],[0.6,\"#e6f5d0\"],[0.7,\"#b8e186\"],[0.8,\"#7fbc41\"],[0.9,\"#4d9221\"],[1,\"#276419\"]]},\"xaxis\":{\"gridcolor\":\"white\",\"linecolor\":\"white\",\"ticks\":\"\",\"title\":{\"standoff\":15},\"zerolinecolor\":\"white\",\"automargin\":true,\"zerolinewidth\":2},\"yaxis\":{\"gridcolor\":\"white\",\"linecolor\":\"white\",\"ticks\":\"\",\"title\":{\"standoff\":15},\"zerolinecolor\":\"white\",\"automargin\":true,\"zerolinewidth\":2},\"scene\":{\"xaxis\":{\"backgroundcolor\":\"#E5ECF6\",\"gridcolor\":\"white\",\"linecolor\":\"white\",\"showbackground\":true,\"ticks\":\"\",\"zerolinecolor\":\"white\",\"gridwidth\":2},\"yaxis\":{\"backgroundcolor\":\"#E5ECF6\",\"gridcolor\":\"white\",\"linecolor\":\"white\",\"showbackground\":true,\"ticks\":\"\",\"zerolinecolor\":\"white\",\"gridwidth\":2},\"zaxis\":{\"backgroundcolor\":\"#E5ECF6\",\"gridcolor\":\"white\",\"linecolor\":\"white\",\"showbackground\":true,\"ticks\":\"\",\"zerolinecolor\":\"white\",\"gridwidth\":2}},\"shapedefaults\":{\"line\":{\"color\":\"#2a3f5f\"}},\"annotationdefaults\":{\"arrowcolor\":\"#2a3f5f\",\"arrowhead\":0,\"arrowwidth\":1},\"geo\":{\"bgcolor\":\"white\",\"landcolor\":\"#E5ECF6\",\"subunitcolor\":\"white\",\"showland\":true,\"showlakes\":true,\"lakecolor\":\"white\"},\"title\":{\"x\":0.05},\"mapbox\":{\"style\":\"light\"}}},\"xaxis\":{\"anchor\":\"y\",\"domain\":[0.0,1.0],\"title\":{\"text\":\"Item Purchased\"}},\"yaxis\":{\"anchor\":\"x\",\"domain\":[0.0,1.0],\"title\":{\"text\":\"count\"}},\"legend\":{\"title\":{\"text\":\"Category\"},\"tracegroupgap\":0},\"margin\":{\"t\":60},\"barmode\":\"relative\"},                        {\"responsive\": true}                    ).then(function(){\n",
              "                            \n",
              "var gd = document.getElementById('aa02934d-ece2-4f82-9e95-56f3842f485c');\n",
              "var x = new MutationObserver(function (mutations, observer) {{\n",
              "        var display = window.getComputedStyle(gd).display;\n",
              "        if (!display || display === 'none') {{\n",
              "            console.log([gd, 'removed!']);\n",
              "            Plotly.purge(gd);\n",
              "            observer.disconnect();\n",
              "        }}\n",
              "}});\n",
              "\n",
              "// Listen for the removal of the full notebook cells\n",
              "var notebookContainer = gd.closest('#notebook-container');\n",
              "if (notebookContainer) {{\n",
              "    x.observe(notebookContainer, {childList: true});\n",
              "}}\n",
              "\n",
              "// Listen for the clearing of the current output cell\n",
              "var outputEl = gd.closest('.output');\n",
              "if (outputEl) {{\n",
              "    x.observe(outputEl, {childList: true});\n",
              "}}\n",
              "\n",
              "                        })                };                            </script>        </div>\n",
              "</body>\n",
              "</html>"
            ]
          },
          "metadata": {}
        }
      ],
      "source": [
        "fig = px.histogram(shop , x = 'Item Purchased' , color = 'Category')\n",
        "fig.show()"
      ]
    },
    {
      "cell_type": "markdown",
      "id": "c2d8ce2a-6a6f-4598-af78-a3128daade1c",
      "metadata": {
        "id": "c2d8ce2a-6a6f-4598-af78-a3128daade1c"
      },
      "source": [
        "## 5 Are there any specific seasons or months where customer spending is significantly higher?"
      ]
    },
    {
      "cell_type": "code",
      "execution_count": 31,
      "id": "78ac5ef3-b719-4ed0-86cd-3ab41425770f",
      "metadata": {
        "colab": {
          "base_uri": "https://localhost:8080/"
        },
        "id": "78ac5ef3-b719-4ed0-86cd-3ab41425770f",
        "outputId": "fb4e64fc-3331-4708-ac63-ffd4f6402055"
      },
      "outputs": [
        {
          "output_type": "execute_result",
          "data": {
            "text/plain": [
              "array(['Winter', 'Spring', 'Summer', 'Fall'], dtype=object)"
            ]
          },
          "metadata": {},
          "execution_count": 31
        }
      ],
      "source": [
        "shop['Season'].unique()"
      ]
    },
    {
      "cell_type": "code",
      "execution_count": 32,
      "id": "c74102e4-553c-48a9-b7f0-abe118f7fa73",
      "metadata": {
        "colab": {
          "base_uri": "https://localhost:8080/"
        },
        "id": "c74102e4-553c-48a9-b7f0-abe118f7fa73",
        "outputId": "3c35cf38-5e9f-4a90-c716-d432da810370"
      },
      "outputs": [
        {
          "output_type": "execute_result",
          "data": {
            "text/plain": [
              "955"
            ]
          },
          "metadata": {},
          "execution_count": 32
        }
      ],
      "source": [
        "shop[shop['Season'] == 'Summer'].value_counts().sum()"
      ]
    },
    {
      "cell_type": "code",
      "execution_count": 33,
      "id": "bf8308c7-be59-4983-b0ac-e9b5ad3fcc85",
      "metadata": {
        "colab": {
          "base_uri": "https://localhost:8080/"
        },
        "id": "bf8308c7-be59-4983-b0ac-e9b5ad3fcc85",
        "outputId": "790652a0-a475-44b8-e1c4-ec34808267b7"
      },
      "outputs": [
        {
          "output_type": "execute_result",
          "data": {
            "text/plain": [
              "971"
            ]
          },
          "metadata": {},
          "execution_count": 33
        }
      ],
      "source": [
        "shop[shop['Season'] == 'Winter'].value_counts().sum()"
      ]
    },
    {
      "cell_type": "code",
      "execution_count": 34,
      "id": "9cdf47f1-35dc-4e20-a981-c0a4590a6218",
      "metadata": {
        "colab": {
          "base_uri": "https://localhost:8080/"
        },
        "id": "9cdf47f1-35dc-4e20-a981-c0a4590a6218",
        "outputId": "dc8919fc-f009-49fa-b82b-821a4bb8d96d"
      },
      "outputs": [
        {
          "output_type": "execute_result",
          "data": {
            "text/plain": [
              "999"
            ]
          },
          "metadata": {},
          "execution_count": 34
        }
      ],
      "source": [
        "shop[shop['Season'] == 'Spring'].value_counts().sum()"
      ]
    },
    {
      "cell_type": "code",
      "execution_count": 35,
      "id": "5c53ed99-0609-46ef-8499-25a9bf001157",
      "metadata": {
        "colab": {
          "base_uri": "https://localhost:8080/"
        },
        "id": "5c53ed99-0609-46ef-8499-25a9bf001157",
        "outputId": "68efbd2e-0c2c-420b-a4d0-c5c613f9fa6c"
      },
      "outputs": [
        {
          "output_type": "execute_result",
          "data": {
            "text/plain": [
              "975"
            ]
          },
          "metadata": {},
          "execution_count": 35
        }
      ],
      "source": [
        "shop[shop['Season'] == 'Fall'].value_counts().sum()"
      ]
    },
    {
      "cell_type": "code",
      "execution_count": 36,
      "id": "13141c0e-3840-487a-9e09-69f015b63df5",
      "metadata": {
        "colab": {
          "base_uri": "https://localhost:8080/",
          "height": 542
        },
        "id": "13141c0e-3840-487a-9e09-69f015b63df5",
        "outputId": "06535375-f7c2-4585-f5db-44f4ad05a7be"
      },
      "outputs": [
        {
          "output_type": "display_data",
          "data": {
            "text/html": [
              "<html>\n",
              "<head><meta charset=\"utf-8\" /></head>\n",
              "<body>\n",
              "    <div>            <script src=\"https://cdnjs.cloudflare.com/ajax/libs/mathjax/2.7.5/MathJax.js?config=TeX-AMS-MML_SVG\"></script><script type=\"text/javascript\">if (window.MathJax && window.MathJax.Hub && window.MathJax.Hub.Config) {window.MathJax.Hub.Config({SVG: {font: \"STIX-Web\"}});}</script>                <script type=\"text/javascript\">window.PlotlyConfig = {MathJaxConfig: 'local'};</script>\n",
              "        <script charset=\"utf-8\" src=\"https://cdn.plot.ly/plotly-2.35.2.min.js\"></script>                <div id=\"6ff7342c-75d8-4def-8f3d-c7c36d48e0df\" class=\"plotly-graph-div\" style=\"height:525px; width:100%;\"></div>            <script type=\"text/javascript\">                                    window.PLOTLYENV=window.PLOTLYENV || {};                                    if (document.getElementById(\"6ff7342c-75d8-4def-8f3d-c7c36d48e0df\")) {                    Plotly.newPlot(                        \"6ff7342c-75d8-4def-8f3d-c7c36d48e0df\",                        [{\"alignmentgroup\":\"True\",\"bingroup\":\"x\",\"hovertemplate\":\"Season=%{x}\\u003cbr\\u003ecount=%{y}\\u003cextra\\u003e\\u003c\\u002fextra\\u003e\",\"legendgroup\":\"\",\"marker\":{\"color\":\"#636efa\",\"pattern\":{\"shape\":\"\"}},\"name\":\"\",\"offsetgroup\":\"\",\"orientation\":\"v\",\"showlegend\":false,\"x\":[\"Winter\",\"Winter\",\"Spring\",\"Spring\",\"Spring\",\"Summer\",\"Fall\",\"Winter\",\"Summer\",\"Spring\",\"Fall\",\"Winter\",\"Winter\",\"Spring\",\"Winter\",\"Winter\",\"Spring\",\"Winter\",\"Summer\",\"Summer\",\"Winter\",\"Winter\",\"Summer\",\"Winter\",\"Fall\",\"Summer\",\"Spring\",\"Summer\",\"Fall\",\"Fall\",\"Winter\",\"Winter\",\"Summer\",\"Summer\",\"Spring\",\"Summer\",\"Winter\",\"Summer\",\"Winter\",\"Summer\",\"Winter\",\"Spring\",\"Spring\",\"Fall\",\"Summer\",\"Fall\",\"Summer\",\"Winter\",\"Summer\",\"Spring\",\"Spring\",\"Winter\",\"Summer\",\"Winter\",\"Summer\",\"Winter\",\"Summer\",\"Summer\",\"Summer\",\"Spring\",\"Summer\",\"Winter\",\"Spring\",\"Winter\",\"Fall\",\"Spring\",\"Winter\",\"Winter\",\"Summer\",\"Summer\",\"Fall\",\"Summer\",\"Winter\",\"Spring\",\"Spring\",\"Summer\",\"Summer\",\"Summer\",\"Spring\",\"Winter\",\"Summer\",\"Summer\",\"Spring\",\"Summer\",\"Spring\",\"Winter\",\"Spring\",\"Fall\",\"Fall\",\"Fall\",\"Summer\",\"Winter\",\"Winter\",\"Fall\",\"Spring\",\"Fall\",\"Spring\",\"Winter\",\"Spring\",\"Summer\",\"Fall\",\"Spring\",\"Winter\",\"Winter\",\"Spring\",\"Fall\",\"Summer\",\"Winter\",\"Spring\",\"Spring\",\"Summer\",\"Summer\",\"Spring\",\"Winter\",\"Summer\",\"Spring\",\"Spring\",\"Summer\",\"Fall\",\"Fall\",\"Summer\",\"Winter\",\"Spring\",\"Fall\",\"Spring\",\"Winter\",\"Spring\",\"Winter\",\"Spring\",\"Summer\",\"Fall\",\"Summer\",\"Fall\",\"Winter\",\"Fall\",\"Fall\",\"Winter\",\"Spring\",\"Winter\",\"Fall\",\"Fall\",\"Fall\",\"Fall\",\"Fall\",\"Fall\",\"Fall\",\"Fall\",\"Summer\",\"Fall\",\"Summer\",\"Fall\",\"Fall\",\"Summer\",\"Winter\",\"Fall\",\"Spring\",\"Fall\",\"Fall\",\"Fall\",\"Fall\",\"Summer\",\"Fall\",\"Summer\",\"Summer\",\"Spring\",\"Winter\",\"Fall\",\"Fall\",\"Summer\",\"Summer\",\"Fall\",\"Summer\",\"Summer\",\"Fall\",\"Winter\",\"Fall\",\"Spring\",\"Fall\",\"Fall\",\"Fall\",\"Fall\",\"Summer\",\"Summer\",\"Spring\",\"Spring\",\"Summer\",\"Summer\",\"Spring\",\"Spring\",\"Fall\",\"Fall\",\"Fall\",\"Summer\",\"Fall\",\"Spring\",\"Fall\",\"Summer\",\"Fall\",\"Winter\",\"Summer\",\"Summer\",\"Fall\",\"Spring\",\"Fall\",\"Fall\",\"Winter\",\"Summer\",\"Summer\",\"Spring\",\"Winter\",\"Fall\",\"Fall\",\"Fall\",\"Fall\",\"Summer\",\"Spring\",\"Spring\",\"Winter\",\"Spring\",\"Spring\",\"Spring\",\"Summer\",\"Spring\",\"Spring\",\"Summer\",\"Spring\",\"Spring\",\"Winter\",\"Spring\",\"Spring\",\"Fall\",\"Spring\",\"Winter\",\"Fall\",\"Summer\",\"Winter\",\"Winter\",\"Summer\",\"Fall\",\"Summer\",\"Winter\",\"Winter\",\"Summer\",\"Winter\",\"Spring\",\"Summer\",\"Spring\",\"Spring\",\"Winter\",\"Fall\",\"Fall\",\"Winter\",\"Summer\",\"Winter\",\"Winter\",\"Spring\",\"Spring\",\"Summer\",\"Spring\",\"Fall\",\"Winter\",\"Winter\",\"Summer\",\"Summer\",\"Fall\",\"Spring\",\"Summer\",\"Spring\",\"Spring\",\"Winter\",\"Fall\",\"Summer\",\"Summer\",\"Spring\",\"Spring\",\"Winter\",\"Fall\",\"Winter\",\"Spring\",\"Summer\",\"Fall\",\"Spring\",\"Summer\",\"Fall\",\"Summer\",\"Summer\",\"Summer\",\"Spring\",\"Winter\",\"Fall\",\"Winter\",\"Fall\",\"Spring\",\"Spring\",\"Spring\",\"Winter\",\"Spring\",\"Summer\",\"Winter\",\"Summer\",\"Spring\",\"Spring\",\"Summer\",\"Summer\",\"Winter\",\"Fall\",\"Summer\",\"Winter\",\"Fall\",\"Spring\",\"Winter\",\"Winter\",\"Spring\",\"Spring\",\"Summer\",\"Spring\",\"Fall\",\"Fall\",\"Winter\",\"Spring\",\"Summer\",\"Summer\",\"Winter\",\"Winter\",\"Summer\",\"Winter\",\"Fall\",\"Summer\",\"Fall\",\"Summer\",\"Winter\",\"Fall\",\"Winter\",\"Winter\",\"Fall\",\"Spring\",\"Fall\",\"Winter\",\"Winter\",\"Spring\",\"Summer\",\"Summer\",\"Spring\",\"Summer\",\"Winter\",\"Winter\",\"Spring\",\"Fall\",\"Fall\",\"Winter\",\"Spring\",\"Winter\",\"Fall\",\"Fall\",\"Fall\",\"Fall\",\"Spring\",\"Spring\",\"Summer\",\"Winter\",\"Summer\",\"Spring\",\"Fall\",\"Winter\",\"Summer\",\"Summer\",\"Spring\",\"Spring\",\"Spring\",\"Summer\",\"Winter\",\"Winter\",\"Summer\",\"Summer\",\"Spring\",\"Summer\",\"Fall\",\"Spring\",\"Winter\",\"Fall\",\"Fall\",\"Winter\",\"Winter\",\"Fall\",\"Fall\",\"Fall\",\"Spring\",\"Summer\",\"Summer\",\"Spring\",\"Winter\",\"Spring\",\"Spring\",\"Fall\",\"Spring\",\"Winter\",\"Fall\",\"Fall\",\"Winter\",\"Fall\",\"Winter\",\"Fall\",\"Fall\",\"Winter\",\"Spring\",\"Summer\",\"Spring\",\"Spring\",\"Spring\",\"Winter\",\"Spring\",\"Summer\",\"Summer\",\"Summer\",\"Winter\",\"Winter\",\"Spring\",\"Fall\",\"Spring\",\"Winter\",\"Spring\",\"Winter\",\"Fall\",\"Spring\",\"Winter\",\"Winter\",\"Winter\",\"Winter\",\"Winter\",\"Winter\",\"Summer\",\"Winter\",\"Fall\",\"Fall\",\"Spring\",\"Winter\",\"Summer\",\"Summer\",\"Winter\",\"Summer\",\"Winter\",\"Winter\",\"Fall\",\"Summer\",\"Summer\",\"Fall\",\"Summer\",\"Spring\",\"Summer\",\"Summer\",\"Summer\",\"Summer\",\"Summer\",\"Winter\",\"Summer\",\"Fall\",\"Fall\",\"Spring\",\"Winter\",\"Winter\",\"Summer\",\"Winter\",\"Fall\",\"Summer\",\"Winter\",\"Summer\",\"Winter\",\"Spring\",\"Fall\",\"Fall\",\"Summer\",\"Winter\",\"Winter\",\"Spring\",\"Summer\",\"Summer\",\"Spring\",\"Summer\",\"Winter\",\"Winter\",\"Summer\",\"Fall\",\"Winter\",\"Fall\",\"Summer\",\"Spring\",\"Fall\",\"Winter\",\"Spring\",\"Summer\",\"Winter\",\"Summer\",\"Fall\",\"Summer\",\"Winter\",\"Fall\",\"Fall\",\"Winter\",\"Spring\",\"Winter\",\"Fall\",\"Spring\",\"Fall\",\"Summer\",\"Winter\",\"Spring\",\"Fall\",\"Spring\",\"Winter\",\"Summer\",\"Fall\",\"Fall\",\"Winter\",\"Fall\",\"Winter\",\"Spring\",\"Fall\",\"Fall\",\"Fall\",\"Summer\",\"Spring\",\"Winter\",\"Spring\",\"Spring\",\"Summer\",\"Spring\",\"Winter\",\"Winter\",\"Winter\",\"Fall\",\"Winter\",\"Fall\",\"Winter\",\"Spring\",\"Fall\",\"Spring\",\"Fall\",\"Summer\",\"Spring\",\"Winter\",\"Spring\",\"Fall\",\"Spring\",\"Spring\",\"Summer\",\"Summer\",\"Winter\",\"Winter\",\"Winter\",\"Fall\",\"Summer\",\"Fall\",\"Fall\",\"Winter\",\"Summer\",\"Fall\",\"Winter\",\"Spring\",\"Fall\",\"Fall\",\"Fall\",\"Fall\",\"Summer\",\"Fall\",\"Winter\",\"Fall\",\"Spring\",\"Winter\",\"Summer\",\"Fall\",\"Fall\",\"Spring\",\"Summer\",\"Summer\",\"Fall\",\"Fall\",\"Winter\",\"Fall\",\"Fall\",\"Winter\",\"Spring\",\"Winter\",\"Spring\",\"Spring\",\"Spring\",\"Fall\",\"Winter\",\"Fall\",\"Fall\",\"Fall\",\"Fall\",\"Fall\",\"Fall\",\"Winter\",\"Winter\",\"Summer\",\"Summer\",\"Summer\",\"Winter\",\"Spring\",\"Spring\",\"Summer\",\"Summer\",\"Winter\",\"Fall\",\"Winter\",\"Spring\",\"Fall\",\"Fall\",\"Fall\",\"Summer\",\"Winter\",\"Fall\",\"Fall\",\"Winter\",\"Summer\",\"Spring\",\"Fall\",\"Spring\",\"Summer\",\"Fall\",\"Fall\",\"Spring\",\"Fall\",\"Fall\",\"Fall\",\"Spring\",\"Winter\",\"Fall\",\"Spring\",\"Fall\",\"Summer\",\"Winter\",\"Spring\",\"Summer\",\"Fall\",\"Summer\",\"Winter\",\"Summer\",\"Spring\",\"Summer\",\"Winter\",\"Spring\",\"Winter\",\"Summer\",\"Summer\",\"Spring\",\"Summer\",\"Winter\",\"Spring\",\"Spring\",\"Summer\",\"Winter\",\"Winter\",\"Summer\",\"Fall\",\"Summer\",\"Winter\",\"Fall\",\"Spring\",\"Fall\",\"Fall\",\"Fall\",\"Fall\",\"Winter\",\"Spring\",\"Winter\",\"Winter\",\"Fall\",\"Spring\",\"Spring\",\"Winter\",\"Winter\",\"Spring\",\"Winter\",\"Spring\",\"Winter\",\"Summer\",\"Fall\",\"Fall\",\"Spring\",\"Winter\",\"Summer\",\"Winter\",\"Summer\",\"Winter\",\"Fall\",\"Winter\",\"Summer\",\"Summer\",\"Spring\",\"Summer\",\"Spring\",\"Spring\",\"Fall\",\"Summer\",\"Fall\",\"Summer\",\"Winter\",\"Fall\",\"Winter\",\"Fall\",\"Winter\",\"Summer\",\"Spring\",\"Summer\",\"Summer\",\"Spring\",\"Summer\",\"Summer\",\"Spring\",\"Spring\",\"Summer\",\"Summer\",\"Fall\",\"Spring\",\"Spring\",\"Spring\",\"Summer\",\"Summer\",\"Fall\",\"Summer\",\"Summer\",\"Fall\",\"Fall\",\"Winter\",\"Summer\",\"Winter\",\"Winter\",\"Summer\",\"Summer\",\"Spring\",\"Spring\",\"Fall\",\"Winter\",\"Fall\",\"Spring\",\"Spring\",\"Winter\",\"Summer\",\"Summer\",\"Summer\",\"Summer\",\"Fall\",\"Spring\",\"Fall\",\"Winter\",\"Spring\",\"Fall\",\"Winter\",\"Fall\",\"Fall\",\"Fall\",\"Fall\",\"Spring\",\"Spring\",\"Summer\",\"Fall\",\"Summer\",\"Winter\",\"Fall\",\"Fall\",\"Fall\",\"Spring\",\"Fall\",\"Summer\",\"Winter\",\"Fall\",\"Spring\",\"Spring\",\"Spring\",\"Fall\",\"Fall\",\"Winter\",\"Summer\",\"Winter\",\"Spring\",\"Spring\",\"Summer\",\"Spring\",\"Spring\",\"Winter\",\"Summer\",\"Winter\",\"Winter\",\"Spring\",\"Winter\",\"Spring\",\"Summer\",\"Fall\",\"Summer\",\"Summer\",\"Spring\",\"Summer\",\"Winter\",\"Summer\",\"Fall\",\"Fall\",\"Spring\",\"Summer\",\"Summer\",\"Fall\",\"Winter\",\"Winter\",\"Summer\",\"Summer\",\"Summer\",\"Winter\",\"Fall\",\"Fall\",\"Fall\",\"Winter\",\"Summer\",\"Summer\",\"Winter\",\"Spring\",\"Summer\",\"Spring\",\"Winter\",\"Winter\",\"Spring\",\"Spring\",\"Winter\",\"Winter\",\"Spring\",\"Fall\",\"Winter\",\"Fall\",\"Fall\",\"Spring\",\"Fall\",\"Summer\",\"Fall\",\"Fall\",\"Summer\",\"Summer\",\"Winter\",\"Spring\",\"Spring\",\"Spring\",\"Summer\",\"Summer\",\"Spring\",\"Summer\",\"Winter\",\"Winter\",\"Spring\",\"Fall\",\"Fall\",\"Spring\",\"Winter\",\"Summer\",\"Spring\",\"Winter\",\"Spring\",\"Spring\",\"Summer\",\"Fall\",\"Fall\",\"Winter\",\"Spring\",\"Spring\",\"Winter\",\"Summer\",\"Winter\",\"Winter\",\"Summer\",\"Spring\",\"Summer\",\"Spring\",\"Fall\",\"Spring\",\"Spring\",\"Summer\",\"Fall\",\"Summer\",\"Summer\",\"Winter\",\"Summer\",\"Spring\",\"Spring\",\"Summer\",\"Fall\",\"Fall\",\"Winter\",\"Fall\",\"Summer\",\"Winter\",\"Spring\",\"Fall\",\"Spring\",\"Summer\",\"Summer\",\"Spring\",\"Spring\",\"Spring\",\"Spring\",\"Spring\",\"Spring\",\"Summer\",\"Fall\",\"Summer\",\"Summer\",\"Winter\",\"Spring\",\"Spring\",\"Spring\",\"Winter\",\"Winter\",\"Fall\",\"Spring\",\"Winter\",\"Winter\",\"Fall\",\"Summer\",\"Winter\",\"Spring\",\"Spring\",\"Spring\",\"Winter\",\"Summer\",\"Summer\",\"Fall\",\"Spring\",\"Winter\",\"Winter\",\"Spring\",\"Summer\",\"Winter\",\"Fall\",\"Fall\",\"Winter\",\"Winter\",\"Spring\",\"Spring\",\"Fall\",\"Summer\",\"Summer\",\"Fall\",\"Winter\",\"Spring\",\"Winter\",\"Winter\",\"Winter\",\"Spring\",\"Summer\",\"Spring\",\"Winter\",\"Summer\",\"Summer\",\"Winter\",\"Summer\",\"Fall\",\"Spring\",\"Fall\",\"Summer\",\"Spring\",\"Spring\",\"Winter\",\"Spring\",\"Spring\",\"Fall\",\"Spring\",\"Spring\",\"Spring\",\"Spring\",\"Spring\",\"Summer\",\"Summer\",\"Fall\",\"Winter\",\"Summer\",\"Winter\",\"Fall\",\"Spring\",\"Summer\",\"Fall\",\"Spring\",\"Summer\",\"Fall\",\"Spring\",\"Spring\",\"Summer\",\"Winter\",\"Summer\",\"Fall\",\"Spring\",\"Summer\",\"Winter\",\"Spring\",\"Spring\",\"Spring\",\"Winter\",\"Winter\",\"Fall\",\"Spring\",\"Summer\",\"Spring\",\"Spring\",\"Spring\",\"Winter\",\"Fall\",\"Spring\",\"Fall\",\"Summer\",\"Winter\",\"Summer\",\"Spring\",\"Spring\",\"Summer\",\"Spring\",\"Spring\",\"Summer\",\"Summer\",\"Summer\",\"Summer\",\"Summer\",\"Fall\",\"Spring\",\"Winter\",\"Fall\",\"Winter\",\"Winter\",\"Winter\",\"Summer\",\"Winter\",\"Winter\",\"Summer\",\"Summer\",\"Spring\",\"Winter\",\"Spring\",\"Fall\",\"Spring\",\"Fall\",\"Fall\",\"Fall\",\"Spring\",\"Fall\",\"Fall\",\"Fall\",\"Summer\",\"Spring\",\"Spring\",\"Summer\",\"Fall\",\"Winter\",\"Fall\",\"Fall\",\"Fall\",\"Winter\",\"Fall\",\"Fall\",\"Spring\",\"Winter\",\"Spring\",\"Winter\",\"Spring\",\"Summer\",\"Winter\",\"Summer\",\"Summer\",\"Fall\",\"Summer\",\"Spring\",\"Spring\",\"Winter\",\"Summer\",\"Fall\",\"Fall\",\"Summer\",\"Summer\",\"Fall\",\"Spring\",\"Fall\",\"Summer\",\"Spring\",\"Winter\",\"Fall\",\"Summer\",\"Fall\",\"Spring\",\"Winter\",\"Summer\",\"Fall\",\"Winter\",\"Winter\",\"Winter\",\"Winter\",\"Spring\",\"Spring\",\"Spring\",\"Spring\",\"Winter\",\"Winter\",\"Summer\",\"Fall\",\"Summer\",\"Spring\",\"Fall\",\"Spring\",\"Fall\",\"Fall\",\"Spring\",\"Fall\",\"Spring\",\"Winter\",\"Fall\",\"Fall\",\"Winter\",\"Fall\",\"Summer\",\"Spring\",\"Summer\",\"Fall\",\"Fall\",\"Winter\",\"Spring\",\"Summer\",\"Spring\",\"Winter\",\"Fall\",\"Spring\",\"Fall\",\"Spring\",\"Summer\",\"Winter\",\"Spring\",\"Winter\",\"Winter\",\"Summer\",\"Spring\",\"Spring\",\"Winter\",\"Summer\",\"Winter\",\"Summer\",\"Winter\",\"Summer\",\"Spring\",\"Winter\",\"Winter\",\"Spring\",\"Winter\",\"Fall\",\"Summer\",\"Summer\",\"Winter\",\"Spring\",\"Spring\",\"Winter\",\"Spring\",\"Fall\",\"Summer\",\"Spring\",\"Fall\",\"Summer\",\"Fall\",\"Summer\",\"Fall\",\"Summer\",\"Fall\",\"Winter\",\"Summer\",\"Winter\",\"Winter\",\"Winter\",\"Summer\",\"Summer\",\"Fall\",\"Spring\",\"Spring\",\"Spring\",\"Winter\",\"Winter\",\"Spring\",\"Winter\",\"Spring\",\"Spring\",\"Summer\",\"Spring\",\"Summer\",\"Spring\",\"Spring\",\"Fall\",\"Spring\",\"Summer\",\"Fall\",\"Summer\",\"Summer\",\"Winter\",\"Winter\",\"Summer\",\"Fall\",\"Winter\",\"Winter\",\"Winter\",\"Fall\",\"Summer\",\"Fall\",\"Winter\",\"Summer\",\"Spring\",\"Winter\",\"Spring\",\"Spring\",\"Fall\",\"Summer\",\"Winter\",\"Winter\",\"Fall\",\"Spring\",\"Summer\",\"Spring\",\"Fall\",\"Winter\",\"Summer\",\"Fall\",\"Spring\",\"Winter\",\"Winter\",\"Winter\",\"Fall\",\"Winter\",\"Summer\",\"Fall\",\"Fall\",\"Spring\",\"Winter\",\"Winter\",\"Spring\",\"Spring\",\"Summer\",\"Winter\",\"Fall\",\"Spring\",\"Summer\",\"Spring\",\"Winter\",\"Spring\",\"Winter\",\"Winter\",\"Summer\",\"Spring\",\"Summer\",\"Fall\",\"Winter\",\"Spring\",\"Winter\",\"Winter\",\"Winter\",\"Spring\",\"Fall\",\"Winter\",\"Spring\",\"Fall\",\"Winter\",\"Spring\",\"Spring\",\"Fall\",\"Spring\",\"Summer\",\"Winter\",\"Winter\",\"Winter\",\"Spring\",\"Fall\",\"Spring\",\"Winter\",\"Spring\",\"Fall\",\"Spring\",\"Winter\",\"Spring\",\"Spring\",\"Fall\",\"Spring\",\"Spring\",\"Fall\",\"Fall\",\"Winter\",\"Spring\",\"Winter\",\"Winter\",\"Spring\",\"Fall\",\"Winter\",\"Winter\",\"Winter\",\"Fall\",\"Spring\",\"Spring\",\"Summer\",\"Fall\",\"Summer\",\"Fall\",\"Spring\",\"Summer\",\"Summer\",\"Fall\",\"Spring\",\"Fall\",\"Fall\",\"Summer\",\"Spring\",\"Spring\",\"Winter\",\"Summer\",\"Summer\",\"Summer\",\"Winter\",\"Fall\",\"Winter\",\"Summer\",\"Summer\",\"Spring\",\"Spring\",\"Spring\",\"Spring\",\"Spring\",\"Fall\",\"Winter\",\"Winter\",\"Spring\",\"Summer\",\"Summer\",\"Spring\",\"Winter\",\"Winter\",\"Fall\",\"Fall\",\"Spring\",\"Spring\",\"Winter\",\"Spring\",\"Fall\",\"Spring\",\"Spring\",\"Winter\",\"Winter\",\"Fall\",\"Fall\",\"Summer\",\"Spring\",\"Fall\",\"Fall\",\"Winter\",\"Summer\",\"Spring\",\"Spring\",\"Fall\",\"Summer\",\"Spring\",\"Winter\",\"Spring\",\"Summer\",\"Spring\",\"Summer\",\"Spring\",\"Winter\",\"Fall\",\"Fall\",\"Fall\",\"Summer\",\"Fall\",\"Winter\",\"Fall\",\"Fall\",\"Summer\",\"Winter\",\"Summer\",\"Spring\",\"Fall\",\"Winter\",\"Fall\",\"Spring\",\"Spring\",\"Spring\",\"Fall\",\"Fall\",\"Winter\",\"Winter\",\"Winter\",\"Spring\",\"Fall\",\"Fall\",\"Fall\",\"Winter\",\"Spring\",\"Fall\",\"Summer\",\"Winter\",\"Spring\",\"Spring\",\"Fall\",\"Spring\",\"Winter\",\"Summer\",\"Summer\",\"Winter\",\"Fall\",\"Fall\",\"Summer\",\"Spring\",\"Winter\",\"Winter\",\"Spring\",\"Spring\",\"Winter\",\"Spring\",\"Summer\",\"Summer\",\"Summer\",\"Fall\",\"Summer\",\"Winter\",\"Summer\",\"Spring\",\"Summer\",\"Summer\",\"Summer\",\"Spring\",\"Fall\",\"Fall\",\"Fall\",\"Winter\",\"Summer\",\"Summer\",\"Summer\",\"Fall\",\"Summer\",\"Fall\",\"Winter\",\"Winter\",\"Summer\",\"Fall\",\"Winter\",\"Winter\",\"Spring\",\"Summer\",\"Spring\",\"Summer\",\"Spring\",\"Fall\",\"Fall\",\"Fall\",\"Summer\",\"Summer\",\"Summer\",\"Winter\",\"Winter\",\"Fall\",\"Spring\",\"Winter\",\"Winter\",\"Fall\",\"Spring\",\"Spring\",\"Spring\",\"Winter\",\"Fall\",\"Summer\",\"Summer\",\"Summer\",\"Winter\",\"Winter\",\"Summer\",\"Winter\",\"Fall\",\"Winter\",\"Spring\",\"Spring\",\"Spring\",\"Fall\",\"Fall\",\"Spring\",\"Fall\",\"Summer\",\"Summer\",\"Spring\",\"Fall\",\"Spring\",\"Spring\",\"Summer\",\"Summer\",\"Spring\",\"Spring\",\"Summer\",\"Winter\",\"Summer\",\"Spring\",\"Summer\",\"Summer\",\"Fall\",\"Spring\",\"Winter\",\"Winter\",\"Spring\",\"Summer\",\"Fall\",\"Summer\",\"Spring\",\"Summer\",\"Fall\",\"Winter\",\"Summer\",\"Fall\",\"Winter\",\"Spring\",\"Summer\",\"Fall\",\"Winter\",\"Winter\",\"Spring\",\"Winter\",\"Fall\",\"Winter\",\"Spring\",\"Winter\",\"Fall\",\"Summer\",\"Summer\",\"Spring\",\"Summer\",\"Summer\",\"Winter\",\"Summer\",\"Fall\",\"Spring\",\"Winter\",\"Spring\",\"Spring\",\"Winter\",\"Summer\",\"Summer\",\"Fall\",\"Summer\",\"Spring\",\"Fall\",\"Spring\",\"Winter\",\"Winter\",\"Winter\",\"Fall\",\"Spring\",\"Winter\",\"Summer\",\"Summer\",\"Summer\",\"Spring\",\"Summer\",\"Summer\",\"Spring\",\"Spring\",\"Winter\",\"Winter\",\"Fall\",\"Fall\",\"Fall\",\"Fall\",\"Winter\",\"Summer\",\"Winter\",\"Fall\",\"Summer\",\"Fall\",\"Winter\",\"Spring\",\"Spring\",\"Summer\",\"Winter\",\"Winter\",\"Summer\",\"Summer\",\"Spring\",\"Spring\",\"Spring\",\"Spring\",\"Winter\",\"Summer\",\"Summer\",\"Fall\",\"Spring\",\"Summer\",\"Spring\",\"Fall\",\"Fall\",\"Summer\",\"Winter\",\"Summer\",\"Winter\",\"Winter\",\"Summer\",\"Spring\",\"Summer\",\"Spring\",\"Fall\",\"Winter\",\"Fall\",\"Winter\",\"Spring\",\"Spring\",\"Winter\",\"Summer\",\"Summer\",\"Winter\",\"Spring\",\"Fall\",\"Fall\",\"Fall\",\"Spring\",\"Winter\",\"Summer\",\"Summer\",\"Summer\",\"Fall\",\"Spring\",\"Winter\",\"Summer\",\"Winter\",\"Winter\",\"Summer\",\"Winter\",\"Summer\",\"Winter\",\"Winter\",\"Summer\",\"Winter\",\"Winter\",\"Spring\",\"Summer\",\"Summer\",\"Summer\",\"Spring\",\"Summer\",\"Summer\",\"Fall\",\"Spring\",\"Spring\",\"Summer\",\"Spring\",\"Summer\",\"Spring\",\"Summer\",\"Summer\",\"Summer\",\"Summer\",\"Summer\",\"Summer\",\"Summer\",\"Winter\",\"Winter\",\"Summer\",\"Winter\",\"Spring\",\"Spring\",\"Spring\",\"Spring\",\"Spring\",\"Fall\",\"Winter\",\"Summer\",\"Winter\",\"Summer\",\"Spring\",\"Fall\",\"Summer\",\"Winter\",\"Summer\",\"Winter\",\"Fall\",\"Winter\",\"Fall\",\"Fall\",\"Winter\",\"Spring\",\"Winter\",\"Summer\",\"Summer\",\"Fall\",\"Summer\",\"Winter\",\"Fall\",\"Spring\",\"Spring\",\"Winter\",\"Fall\",\"Winter\",\"Winter\",\"Winter\",\"Summer\",\"Summer\",\"Winter\",\"Fall\",\"Summer\",\"Fall\",\"Spring\",\"Fall\",\"Winter\",\"Spring\",\"Fall\",\"Winter\",\"Summer\",\"Spring\",\"Summer\",\"Summer\",\"Spring\",\"Fall\",\"Spring\",\"Winter\",\"Fall\",\"Spring\",\"Fall\",\"Winter\",\"Summer\",\"Spring\",\"Winter\",\"Summer\",\"Winter\",\"Winter\",\"Winter\",\"Spring\",\"Summer\",\"Spring\",\"Winter\",\"Spring\",\"Summer\",\"Spring\",\"Fall\",\"Winter\",\"Fall\",\"Fall\",\"Winter\",\"Summer\",\"Spring\",\"Winter\",\"Summer\",\"Summer\",\"Spring\",\"Winter\",\"Fall\",\"Winter\",\"Spring\",\"Winter\",\"Winter\",\"Winter\",\"Summer\",\"Winter\",\"Winter\",\"Fall\",\"Fall\",\"Winter\",\"Winter\",\"Fall\",\"Fall\",\"Spring\",\"Fall\",\"Fall\",\"Winter\",\"Spring\",\"Spring\",\"Fall\",\"Summer\",\"Winter\",\"Summer\",\"Spring\",\"Winter\",\"Fall\",\"Summer\",\"Winter\",\"Fall\",\"Fall\",\"Summer\",\"Summer\",\"Spring\",\"Spring\",\"Summer\",\"Winter\",\"Winter\",\"Winter\",\"Summer\",\"Fall\",\"Fall\",\"Winter\",\"Summer\",\"Fall\",\"Spring\",\"Fall\",\"Summer\",\"Spring\",\"Summer\",\"Winter\",\"Fall\",\"Fall\",\"Spring\",\"Fall\",\"Spring\",\"Spring\",\"Winter\",\"Fall\",\"Winter\",\"Spring\",\"Winter\",\"Summer\",\"Winter\",\"Spring\",\"Fall\",\"Summer\",\"Spring\",\"Fall\",\"Fall\",\"Summer\",\"Summer\",\"Spring\",\"Summer\",\"Winter\",\"Summer\",\"Summer\",\"Fall\",\"Spring\",\"Fall\",\"Spring\",\"Summer\",\"Fall\",\"Winter\",\"Winter\",\"Winter\",\"Spring\",\"Spring\",\"Spring\",\"Winter\",\"Summer\",\"Fall\",\"Spring\",\"Summer\",\"Fall\",\"Fall\",\"Winter\",\"Fall\",\"Winter\",\"Winter\",\"Winter\",\"Summer\",\"Fall\",\"Spring\",\"Winter\",\"Summer\",\"Summer\",\"Winter\",\"Winter\",\"Winter\",\"Fall\",\"Winter\",\"Spring\",\"Spring\",\"Spring\",\"Summer\",\"Summer\",\"Spring\",\"Summer\",\"Summer\",\"Fall\",\"Winter\",\"Spring\",\"Fall\",\"Summer\",\"Winter\",\"Fall\",\"Spring\",\"Spring\",\"Spring\",\"Fall\",\"Summer\",\"Fall\",\"Fall\",\"Winter\",\"Fall\",\"Fall\",\"Summer\",\"Spring\",\"Fall\",\"Winter\",\"Winter\",\"Spring\",\"Summer\",\"Winter\",\"Spring\",\"Fall\",\"Winter\",\"Spring\",\"Spring\",\"Summer\",\"Fall\",\"Summer\",\"Fall\",\"Fall\",\"Fall\",\"Winter\",\"Fall\",\"Winter\",\"Summer\",\"Winter\",\"Spring\",\"Summer\",\"Spring\",\"Summer\",\"Spring\",\"Fall\",\"Winter\",\"Spring\",\"Fall\",\"Spring\",\"Winter\",\"Winter\",\"Fall\",\"Fall\",\"Winter\",\"Winter\",\"Summer\",\"Summer\",\"Spring\",\"Fall\",\"Summer\",\"Summer\",\"Fall\",\"Winter\",\"Spring\",\"Summer\",\"Summer\",\"Fall\",\"Spring\",\"Spring\",\"Spring\",\"Summer\",\"Winter\",\"Spring\",\"Summer\",\"Summer\",\"Spring\",\"Winter\",\"Fall\",\"Winter\",\"Fall\",\"Summer\",\"Winter\",\"Winter\",\"Summer\",\"Summer\",\"Winter\",\"Winter\",\"Summer\",\"Summer\",\"Summer\",\"Spring\",\"Winter\",\"Winter\",\"Winter\",\"Spring\",\"Winter\",\"Fall\",\"Summer\",\"Summer\",\"Fall\",\"Spring\",\"Summer\",\"Fall\",\"Winter\",\"Fall\",\"Spring\",\"Winter\",\"Spring\",\"Spring\",\"Summer\",\"Fall\",\"Winter\",\"Fall\",\"Spring\",\"Summer\",\"Spring\",\"Spring\",\"Winter\",\"Summer\",\"Summer\",\"Summer\",\"Summer\",\"Spring\",\"Summer\",\"Summer\",\"Winter\",\"Spring\",\"Spring\",\"Summer\",\"Winter\",\"Spring\",\"Fall\",\"Spring\",\"Summer\",\"Fall\",\"Fall\",\"Winter\",\"Winter\",\"Winter\",\"Summer\",\"Spring\",\"Fall\",\"Winter\",\"Fall\",\"Summer\",\"Spring\",\"Summer\",\"Summer\",\"Spring\",\"Fall\",\"Winter\",\"Summer\",\"Summer\",\"Winter\",\"Winter\",\"Fall\",\"Winter\",\"Winter\",\"Winter\",\"Winter\",\"Winter\",\"Fall\",\"Summer\",\"Winter\",\"Fall\",\"Fall\",\"Spring\",\"Summer\",\"Spring\",\"Winter\",\"Summer\",\"Spring\",\"Summer\",\"Winter\",\"Summer\",\"Spring\",\"Spring\",\"Spring\",\"Winter\",\"Spring\",\"Summer\",\"Spring\",\"Fall\",\"Winter\",\"Summer\",\"Winter\",\"Fall\",\"Summer\",\"Spring\",\"Winter\",\"Spring\",\"Spring\",\"Fall\",\"Spring\",\"Spring\",\"Winter\",\"Spring\",\"Fall\",\"Summer\",\"Fall\",\"Fall\",\"Summer\",\"Spring\",\"Fall\",\"Fall\",\"Summer\",\"Fall\",\"Spring\",\"Fall\",\"Winter\",\"Winter\",\"Summer\",\"Fall\",\"Fall\",\"Fall\",\"Spring\",\"Summer\",\"Fall\",\"Spring\",\"Summer\",\"Fall\",\"Summer\",\"Fall\",\"Summer\",\"Summer\",\"Spring\",\"Spring\",\"Winter\",\"Fall\",\"Fall\",\"Spring\",\"Spring\",\"Fall\",\"Summer\",\"Winter\",\"Summer\",\"Summer\",\"Spring\",\"Winter\",\"Spring\",\"Summer\",\"Spring\",\"Spring\",\"Fall\",\"Winter\",\"Winter\",\"Fall\",\"Spring\",\"Spring\",\"Fall\",\"Spring\",\"Winter\",\"Winter\",\"Summer\",\"Summer\",\"Fall\",\"Spring\",\"Fall\",\"Winter\",\"Fall\",\"Spring\",\"Fall\",\"Fall\",\"Winter\",\"Spring\",\"Fall\",\"Fall\",\"Summer\",\"Fall\",\"Fall\",\"Summer\",\"Winter\",\"Winter\",\"Summer\",\"Winter\",\"Fall\",\"Winter\",\"Fall\",\"Winter\",\"Winter\",\"Fall\",\"Winter\",\"Winter\",\"Summer\",\"Fall\",\"Winter\",\"Winter\",\"Spring\",\"Fall\",\"Summer\",\"Fall\",\"Spring\",\"Fall\",\"Winter\",\"Winter\",\"Spring\",\"Fall\",\"Winter\",\"Summer\",\"Summer\",\"Spring\",\"Winter\",\"Summer\",\"Spring\",\"Winter\",\"Spring\",\"Fall\",\"Fall\",\"Summer\",\"Fall\",\"Summer\",\"Spring\",\"Spring\",\"Winter\",\"Winter\",\"Summer\",\"Fall\",\"Summer\",\"Fall\",\"Winter\",\"Spring\",\"Spring\",\"Winter\",\"Winter\",\"Spring\",\"Winter\",\"Fall\",\"Spring\",\"Summer\",\"Winter\",\"Spring\",\"Summer\",\"Fall\",\"Spring\",\"Summer\",\"Summer\",\"Summer\",\"Summer\",\"Spring\",\"Summer\",\"Winter\",\"Winter\",\"Fall\",\"Spring\",\"Fall\",\"Summer\",\"Summer\",\"Summer\",\"Winter\",\"Winter\",\"Fall\",\"Fall\",\"Winter\",\"Winter\",\"Fall\",\"Winter\",\"Fall\",\"Fall\",\"Fall\",\"Summer\",\"Fall\",\"Winter\",\"Spring\",\"Spring\",\"Summer\",\"Fall\",\"Fall\",\"Spring\",\"Fall\",\"Spring\",\"Summer\",\"Winter\",\"Spring\",\"Winter\",\"Summer\",\"Winter\",\"Summer\",\"Winter\",\"Summer\",\"Spring\",\"Winter\",\"Summer\",\"Fall\",\"Fall\",\"Summer\",\"Winter\",\"Spring\",\"Summer\",\"Fall\",\"Summer\",\"Spring\",\"Winter\",\"Spring\",\"Fall\",\"Fall\",\"Winter\",\"Spring\",\"Fall\",\"Spring\",\"Winter\",\"Winter\",\"Summer\",\"Fall\",\"Fall\",\"Spring\",\"Spring\",\"Fall\",\"Spring\",\"Summer\",\"Spring\",\"Winter\",\"Spring\",\"Winter\",\"Summer\",\"Summer\",\"Fall\",\"Spring\",\"Summer\",\"Summer\",\"Fall\",\"Winter\",\"Fall\",\"Summer\",\"Spring\",\"Summer\",\"Fall\",\"Fall\",\"Winter\",\"Spring\",\"Spring\",\"Fall\",\"Winter\",\"Spring\",\"Fall\",\"Summer\",\"Spring\",\"Summer\",\"Summer\",\"Winter\",\"Summer\",\"Spring\",\"Winter\",\"Summer\",\"Winter\",\"Fall\",\"Winter\",\"Fall\",\"Spring\",\"Spring\",\"Summer\",\"Summer\",\"Winter\",\"Winter\",\"Winter\",\"Summer\",\"Spring\",\"Winter\",\"Spring\",\"Winter\",\"Spring\",\"Winter\",\"Winter\",\"Summer\",\"Winter\",\"Winter\",\"Fall\",\"Spring\",\"Summer\",\"Spring\",\"Fall\",\"Spring\",\"Summer\",\"Summer\",\"Winter\",\"Fall\",\"Fall\",\"Spring\",\"Summer\",\"Summer\",\"Fall\",\"Summer\",\"Fall\",\"Winter\",\"Winter\",\"Fall\",\"Spring\",\"Fall\",\"Winter\",\"Fall\",\"Fall\",\"Fall\",\"Summer\",\"Winter\",\"Summer\",\"Fall\",\"Spring\",\"Spring\",\"Fall\",\"Spring\",\"Fall\",\"Winter\",\"Winter\",\"Winter\",\"Winter\",\"Winter\",\"Summer\",\"Winter\",\"Spring\",\"Winter\",\"Spring\",\"Spring\",\"Winter\",\"Fall\",\"Spring\",\"Fall\",\"Summer\",\"Spring\",\"Fall\",\"Summer\",\"Spring\",\"Spring\",\"Winter\",\"Fall\",\"Summer\",\"Summer\",\"Fall\",\"Spring\",\"Winter\",\"Winter\",\"Spring\",\"Winter\",\"Fall\",\"Winter\",\"Spring\",\"Fall\",\"Winter\",\"Spring\",\"Winter\",\"Winter\",\"Winter\",\"Fall\",\"Winter\",\"Fall\",\"Winter\",\"Summer\",\"Fall\",\"Spring\",\"Summer\",\"Summer\",\"Winter\",\"Fall\",\"Summer\",\"Fall\",\"Summer\",\"Fall\",\"Fall\",\"Fall\",\"Winter\",\"Spring\",\"Winter\",\"Summer\",\"Winter\",\"Summer\",\"Fall\",\"Spring\",\"Spring\",\"Summer\",\"Summer\",\"Fall\",\"Winter\",\"Spring\",\"Spring\",\"Fall\",\"Fall\",\"Winter\",\"Winter\",\"Summer\",\"Spring\",\"Fall\",\"Winter\",\"Spring\",\"Fall\",\"Summer\",\"Spring\",\"Fall\",\"Fall\",\"Fall\",\"Fall\",\"Fall\",\"Winter\",\"Spring\",\"Winter\",\"Spring\",\"Winter\",\"Fall\",\"Fall\",\"Fall\",\"Winter\",\"Summer\",\"Spring\",\"Summer\",\"Winter\",\"Spring\",\"Summer\",\"Spring\",\"Winter\",\"Fall\",\"Fall\",\"Spring\",\"Summer\",\"Winter\",\"Fall\",\"Summer\",\"Summer\",\"Spring\",\"Winter\",\"Fall\",\"Summer\",\"Fall\",\"Winter\",\"Fall\",\"Summer\",\"Spring\",\"Spring\",\"Spring\",\"Summer\",\"Winter\",\"Spring\",\"Spring\",\"Summer\",\"Fall\",\"Winter\",\"Spring\",\"Summer\",\"Summer\",\"Fall\",\"Summer\",\"Fall\",\"Fall\",\"Spring\",\"Summer\",\"Winter\",\"Summer\",\"Spring\",\"Fall\",\"Spring\",\"Spring\",\"Winter\",\"Summer\",\"Summer\",\"Winter\",\"Spring\",\"Summer\",\"Spring\",\"Spring\",\"Fall\",\"Spring\",\"Summer\",\"Fall\",\"Winter\",\"Spring\",\"Spring\",\"Winter\",\"Spring\",\"Fall\",\"Fall\",\"Spring\",\"Spring\",\"Summer\",\"Summer\",\"Summer\",\"Fall\",\"Winter\",\"Spring\",\"Summer\",\"Summer\",\"Fall\",\"Summer\",\"Spring\",\"Winter\",\"Spring\",\"Spring\",\"Spring\",\"Summer\",\"Summer\",\"Winter\",\"Fall\",\"Fall\",\"Winter\",\"Spring\",\"Summer\",\"Summer\",\"Fall\",\"Fall\",\"Spring\",\"Fall\",\"Winter\",\"Spring\",\"Spring\",\"Spring\",\"Winter\",\"Winter\",\"Fall\",\"Fall\",\"Spring\",\"Winter\",\"Spring\",\"Spring\",\"Winter\",\"Fall\",\"Summer\",\"Summer\",\"Fall\",\"Winter\",\"Fall\",\"Fall\",\"Summer\",\"Summer\",\"Winter\",\"Fall\",\"Fall\",\"Summer\",\"Fall\",\"Winter\",\"Winter\",\"Summer\",\"Winter\",\"Summer\",\"Spring\",\"Summer\",\"Fall\",\"Fall\",\"Summer\",\"Spring\",\"Summer\",\"Fall\",\"Winter\",\"Fall\",\"Winter\",\"Fall\",\"Spring\",\"Spring\",\"Spring\",\"Spring\",\"Spring\",\"Fall\",\"Summer\",\"Spring\",\"Fall\",\"Winter\",\"Fall\",\"Spring\",\"Fall\",\"Spring\",\"Spring\",\"Fall\",\"Winter\",\"Winter\",\"Winter\",\"Spring\",\"Fall\",\"Summer\",\"Summer\",\"Fall\",\"Fall\",\"Summer\",\"Winter\",\"Spring\",\"Summer\",\"Fall\",\"Fall\",\"Summer\",\"Spring\",\"Winter\",\"Spring\",\"Spring\",\"Winter\",\"Summer\",\"Winter\",\"Summer\",\"Spring\",\"Spring\",\"Spring\",\"Summer\",\"Summer\",\"Spring\",\"Fall\",\"Summer\",\"Summer\",\"Summer\",\"Fall\",\"Fall\",\"Summer\",\"Winter\",\"Summer\",\"Summer\",\"Summer\",\"Spring\",\"Fall\",\"Summer\",\"Fall\",\"Winter\",\"Winter\",\"Winter\",\"Summer\",\"Summer\",\"Spring\",\"Fall\",\"Winter\",\"Spring\",\"Summer\",\"Fall\",\"Winter\",\"Spring\",\"Spring\",\"Spring\",\"Spring\",\"Fall\",\"Summer\",\"Winter\",\"Summer\",\"Summer\",\"Winter\",\"Winter\",\"Fall\",\"Spring\",\"Fall\",\"Summer\",\"Winter\",\"Spring\",\"Summer\",\"Spring\",\"Fall\",\"Spring\",\"Winter\",\"Summer\",\"Fall\",\"Winter\",\"Summer\",\"Fall\",\"Winter\",\"Spring\",\"Spring\",\"Spring\",\"Fall\",\"Summer\",\"Winter\",\"Summer\",\"Spring\",\"Fall\",\"Fall\",\"Winter\",\"Winter\",\"Spring\",\"Winter\",\"Winter\",\"Fall\",\"Spring\",\"Spring\",\"Spring\",\"Summer\",\"Spring\",\"Summer\",\"Winter\",\"Winter\",\"Winter\",\"Summer\",\"Winter\",\"Summer\",\"Winter\",\"Summer\",\"Summer\",\"Spring\",\"Spring\",\"Spring\",\"Summer\",\"Winter\",\"Summer\",\"Fall\",\"Spring\",\"Fall\",\"Winter\",\"Summer\",\"Fall\",\"Winter\",\"Spring\",\"Spring\",\"Spring\",\"Fall\",\"Winter\",\"Spring\",\"Summer\",\"Winter\",\"Winter\",\"Fall\",\"Summer\",\"Summer\",\"Fall\",\"Fall\",\"Fall\",\"Fall\",\"Spring\",\"Summer\",\"Winter\",\"Spring\",\"Spring\",\"Fall\",\"Fall\",\"Summer\",\"Spring\",\"Spring\",\"Fall\",\"Fall\",\"Fall\",\"Fall\",\"Spring\",\"Winter\",\"Winter\",\"Spring\",\"Spring\",\"Spring\",\"Winter\",\"Summer\",\"Spring\",\"Spring\",\"Summer\",\"Fall\",\"Spring\",\"Fall\",\"Winter\",\"Spring\",\"Fall\",\"Winter\",\"Winter\",\"Winter\",\"Winter\",\"Spring\",\"Fall\",\"Winter\",\"Fall\",\"Winter\",\"Spring\",\"Fall\",\"Spring\",\"Spring\",\"Spring\",\"Summer\",\"Summer\",\"Fall\",\"Fall\",\"Summer\",\"Winter\",\"Fall\",\"Spring\",\"Winter\",\"Fall\",\"Spring\",\"Summer\",\"Summer\",\"Fall\",\"Summer\",\"Fall\",\"Winter\",\"Fall\",\"Fall\",\"Fall\",\"Fall\",\"Spring\",\"Winter\",\"Summer\",\"Fall\",\"Fall\",\"Winter\",\"Winter\",\"Summer\",\"Fall\",\"Summer\",\"Spring\",\"Winter\",\"Fall\",\"Summer\",\"Summer\",\"Summer\",\"Fall\",\"Winter\",\"Fall\",\"Spring\",\"Spring\",\"Summer\",\"Spring\",\"Winter\",\"Fall\",\"Winter\",\"Winter\",\"Spring\",\"Summer\",\"Fall\",\"Spring\",\"Fall\",\"Summer\",\"Fall\",\"Fall\",\"Fall\",\"Summer\",\"Summer\",\"Winter\",\"Summer\",\"Winter\",\"Summer\",\"Fall\",\"Spring\",\"Summer\",\"Fall\",\"Spring\",\"Summer\",\"Summer\",\"Winter\",\"Winter\",\"Winter\",\"Winter\",\"Spring\",\"Summer\",\"Summer\",\"Spring\",\"Winter\",\"Spring\",\"Fall\",\"Winter\",\"Winter\",\"Spring\",\"Spring\",\"Spring\",\"Summer\",\"Summer\",\"Fall\",\"Summer\",\"Spring\",\"Winter\",\"Winter\",\"Spring\",\"Spring\",\"Spring\",\"Winter\",\"Spring\",\"Summer\",\"Winter\",\"Winter\",\"Summer\",\"Fall\",\"Winter\",\"Winter\",\"Fall\",\"Fall\",\"Winter\",\"Winter\",\"Fall\",\"Winter\",\"Spring\",\"Fall\",\"Winter\",\"Spring\",\"Winter\",\"Spring\",\"Winter\",\"Summer\",\"Spring\",\"Winter\",\"Spring\",\"Fall\",\"Spring\",\"Summer\",\"Fall\",\"Spring\",\"Spring\",\"Spring\",\"Fall\",\"Winter\",\"Summer\",\"Spring\",\"Summer\",\"Spring\",\"Summer\",\"Summer\",\"Spring\",\"Spring\",\"Winter\",\"Spring\",\"Winter\",\"Fall\",\"Spring\",\"Summer\",\"Winter\",\"Winter\",\"Fall\",\"Fall\",\"Summer\",\"Summer\",\"Spring\",\"Fall\",\"Fall\",\"Spring\",\"Fall\",\"Summer\",\"Fall\",\"Summer\",\"Fall\",\"Fall\",\"Winter\",\"Fall\",\"Fall\",\"Summer\",\"Summer\",\"Winter\",\"Summer\",\"Winter\",\"Spring\",\"Fall\",\"Fall\",\"Winter\",\"Summer\",\"Winter\",\"Spring\",\"Summer\",\"Summer\",\"Winter\",\"Spring\",\"Summer\",\"Fall\",\"Summer\",\"Spring\",\"Spring\",\"Winter\",\"Summer\",\"Spring\",\"Spring\",\"Summer\",\"Winter\",\"Winter\",\"Summer\",\"Fall\",\"Fall\",\"Winter\",\"Spring\",\"Summer\",\"Winter\",\"Winter\",\"Winter\",\"Winter\",\"Summer\",\"Fall\",\"Summer\",\"Spring\",\"Spring\",\"Summer\",\"Summer\",\"Summer\",\"Winter\",\"Fall\",\"Summer\",\"Fall\",\"Summer\",\"Spring\",\"Summer\",\"Fall\",\"Winter\",\"Summer\",\"Summer\",\"Spring\",\"Summer\",\"Summer\",\"Spring\",\"Spring\",\"Spring\",\"Spring\",\"Summer\",\"Summer\",\"Spring\",\"Fall\",\"Winter\",\"Winter\",\"Fall\",\"Winter\",\"Winter\",\"Spring\",\"Fall\",\"Summer\",\"Summer\",\"Spring\",\"Summer\",\"Spring\",\"Winter\",\"Summer\",\"Fall\",\"Spring\",\"Spring\",\"Winter\",\"Spring\",\"Summer\",\"Fall\",\"Fall\",\"Winter\",\"Winter\",\"Fall\",\"Summer\",\"Spring\",\"Winter\",\"Spring\",\"Fall\",\"Spring\",\"Spring\",\"Winter\",\"Winter\",\"Winter\",\"Summer\",\"Spring\",\"Spring\",\"Fall\",\"Spring\",\"Winter\",\"Spring\",\"Summer\",\"Spring\",\"Winter\",\"Summer\",\"Spring\",\"Spring\",\"Fall\",\"Summer\",\"Winter\",\"Fall\",\"Summer\",\"Summer\",\"Fall\",\"Winter\",\"Fall\",\"Summer\",\"Fall\",\"Winter\",\"Summer\",\"Summer\",\"Winter\",\"Summer\",\"Fall\",\"Winter\",\"Winter\",\"Fall\",\"Winter\",\"Fall\",\"Spring\",\"Fall\",\"Summer\",\"Spring\",\"Fall\",\"Spring\",\"Fall\",\"Summer\",\"Winter\",\"Fall\",\"Fall\",\"Fall\",\"Fall\",\"Summer\",\"Spring\",\"Winter\",\"Winter\",\"Fall\",\"Summer\",\"Summer\",\"Fall\",\"Summer\",\"Spring\",\"Spring\",\"Spring\",\"Fall\",\"Spring\",\"Fall\",\"Winter\",\"Summer\",\"Winter\",\"Winter\",\"Summer\",\"Spring\",\"Spring\",\"Winter\",\"Winter\",\"Fall\",\"Winter\",\"Spring\",\"Fall\",\"Fall\",\"Fall\",\"Winter\",\"Fall\",\"Winter\",\"Fall\",\"Winter\",\"Winter\",\"Fall\",\"Winter\",\"Winter\",\"Summer\",\"Winter\",\"Spring\",\"Winter\",\"Fall\",\"Spring\",\"Fall\",\"Spring\",\"Spring\",\"Fall\",\"Summer\",\"Winter\",\"Fall\",\"Spring\",\"Fall\",\"Spring\",\"Spring\",\"Fall\",\"Summer\",\"Fall\",\"Winter\",\"Spring\",\"Fall\",\"Winter\",\"Winter\",\"Winter\",\"Summer\",\"Fall\",\"Winter\",\"Fall\",\"Winter\",\"Summer\",\"Spring\",\"Winter\",\"Spring\",\"Winter\",\"Winter\",\"Spring\",\"Fall\",\"Fall\",\"Spring\",\"Fall\",\"Fall\",\"Winter\",\"Summer\",\"Winter\",\"Fall\",\"Summer\",\"Winter\",\"Winter\",\"Winter\",\"Spring\",\"Summer\",\"Winter\",\"Fall\",\"Fall\",\"Summer\",\"Fall\",\"Winter\",\"Fall\",\"Spring\",\"Winter\",\"Fall\",\"Spring\",\"Fall\",\"Spring\",\"Fall\",\"Summer\",\"Winter\",\"Spring\",\"Fall\",\"Winter\",\"Summer\",\"Fall\",\"Summer\",\"Fall\",\"Fall\",\"Fall\",\"Summer\",\"Fall\",\"Summer\",\"Fall\",\"Fall\",\"Summer\",\"Summer\",\"Summer\",\"Summer\",\"Spring\",\"Winter\",\"Spring\",\"Fall\",\"Winter\",\"Fall\",\"Winter\",\"Fall\",\"Spring\",\"Fall\",\"Summer\",\"Winter\",\"Spring\",\"Fall\",\"Winter\",\"Winter\",\"Winter\",\"Winter\",\"Fall\",\"Winter\",\"Winter\",\"Spring\",\"Winter\",\"Summer\",\"Spring\",\"Summer\",\"Summer\",\"Spring\",\"Summer\",\"Fall\",\"Winter\",\"Winter\",\"Fall\",\"Spring\",\"Spring\",\"Fall\",\"Winter\",\"Spring\",\"Spring\",\"Summer\",\"Spring\",\"Fall\",\"Spring\",\"Spring\",\"Spring\",\"Summer\",\"Spring\",\"Fall\",\"Fall\",\"Spring\",\"Spring\",\"Summer\",\"Winter\",\"Summer\",\"Fall\",\"Summer\",\"Summer\",\"Winter\",\"Fall\",\"Summer\",\"Winter\",\"Summer\",\"Summer\",\"Fall\",\"Spring\",\"Summer\",\"Summer\",\"Summer\",\"Summer\",\"Summer\",\"Fall\",\"Winter\",\"Winter\",\"Winter\",\"Fall\",\"Fall\",\"Summer\",\"Spring\",\"Spring\",\"Winter\",\"Spring\",\"Summer\",\"Summer\",\"Spring\",\"Summer\",\"Winter\",\"Fall\",\"Winter\",\"Winter\",\"Fall\",\"Fall\",\"Summer\",\"Spring\",\"Winter\",\"Fall\",\"Summer\",\"Summer\",\"Summer\",\"Winter\",\"Fall\",\"Fall\",\"Spring\",\"Summer\",\"Fall\",\"Fall\",\"Spring\",\"Summer\",\"Winter\",\"Fall\",\"Fall\",\"Spring\",\"Spring\",\"Summer\",\"Winter\",\"Fall\",\"Fall\",\"Spring\",\"Summer\",\"Spring\",\"Winter\",\"Summer\",\"Winter\",\"Winter\",\"Spring\",\"Spring\",\"Fall\",\"Winter\",\"Winter\",\"Fall\",\"Summer\",\"Summer\",\"Winter\",\"Spring\",\"Fall\",\"Summer\",\"Winter\",\"Fall\",\"Spring\",\"Spring\",\"Fall\",\"Summer\",\"Fall\",\"Winter\",\"Fall\",\"Spring\",\"Winter\",\"Winter\",\"Summer\",\"Winter\",\"Winter\",\"Fall\",\"Winter\",\"Spring\",\"Summer\",\"Fall\",\"Summer\",\"Spring\",\"Spring\",\"Summer\",\"Summer\",\"Summer\",\"Winter\",\"Fall\",\"Winter\",\"Spring\",\"Fall\",\"Spring\",\"Summer\",\"Summer\",\"Winter\",\"Winter\",\"Summer\",\"Winter\",\"Spring\",\"Summer\",\"Summer\",\"Fall\",\"Winter\",\"Fall\",\"Winter\",\"Winter\",\"Summer\",\"Summer\",\"Spring\",\"Summer\",\"Summer\",\"Winter\",\"Winter\",\"Fall\",\"Summer\",\"Fall\",\"Fall\",\"Spring\",\"Summer\",\"Summer\",\"Fall\",\"Spring\",\"Fall\",\"Winter\",\"Spring\",\"Spring\",\"Fall\",\"Spring\",\"Winter\",\"Fall\",\"Fall\",\"Fall\",\"Summer\",\"Spring\",\"Fall\",\"Spring\",\"Spring\",\"Spring\",\"Fall\",\"Winter\",\"Spring\",\"Summer\",\"Fall\",\"Winter\",\"Fall\",\"Summer\",\"Spring\",\"Summer\",\"Spring\",\"Winter\",\"Spring\",\"Summer\",\"Spring\",\"Fall\",\"Summer\",\"Winter\",\"Summer\",\"Winter\",\"Winter\",\"Fall\",\"Winter\",\"Winter\",\"Fall\",\"Spring\",\"Summer\",\"Spring\",\"Winter\",\"Fall\",\"Winter\",\"Winter\",\"Spring\",\"Summer\",\"Spring\",\"Summer\",\"Fall\",\"Fall\",\"Fall\",\"Fall\",\"Spring\",\"Fall\",\"Winter\",\"Winter\",\"Spring\",\"Fall\",\"Winter\",\"Fall\",\"Summer\",\"Fall\",\"Spring\",\"Winter\",\"Winter\",\"Summer\",\"Winter\",\"Spring\",\"Winter\",\"Spring\",\"Winter\",\"Spring\",\"Summer\",\"Summer\",\"Winter\",\"Spring\",\"Spring\",\"Summer\",\"Winter\",\"Spring\",\"Winter\",\"Fall\",\"Fall\",\"Fall\",\"Summer\",\"Spring\",\"Spring\",\"Spring\",\"Spring\",\"Spring\",\"Winter\",\"Spring\",\"Winter\",\"Fall\",\"Spring\",\"Summer\",\"Summer\",\"Fall\",\"Summer\",\"Winter\",\"Spring\",\"Winter\",\"Spring\",\"Spring\",\"Spring\",\"Fall\",\"Summer\",\"Summer\",\"Fall\",\"Fall\",\"Spring\",\"Winter\",\"Summer\",\"Summer\",\"Spring\",\"Spring\",\"Summer\",\"Spring\",\"Fall\",\"Winter\",\"Summer\",\"Spring\",\"Fall\",\"Fall\",\"Fall\",\"Spring\",\"Winter\",\"Winter\",\"Fall\",\"Summer\",\"Fall\",\"Summer\",\"Summer\",\"Fall\",\"Winter\",\"Winter\",\"Summer\",\"Spring\",\"Spring\",\"Fall\",\"Winter\",\"Spring\",\"Spring\",\"Summer\",\"Spring\",\"Spring\",\"Summer\",\"Spring\",\"Spring\",\"Spring\",\"Summer\",\"Summer\",\"Spring\",\"Fall\",\"Fall\",\"Fall\",\"Fall\",\"Fall\",\"Summer\",\"Fall\",\"Spring\",\"Summer\",\"Fall\",\"Spring\",\"Winter\",\"Winter\",\"Fall\",\"Fall\",\"Winter\",\"Summer\",\"Summer\",\"Fall\",\"Winter\",\"Fall\",\"Winter\",\"Fall\",\"Winter\",\"Summer\",\"Summer\",\"Winter\",\"Fall\",\"Spring\",\"Spring\",\"Winter\",\"Fall\",\"Summer\",\"Winter\",\"Spring\",\"Summer\",\"Spring\",\"Fall\",\"Summer\",\"Fall\",\"Winter\",\"Summer\",\"Spring\",\"Winter\",\"Winter\",\"Fall\",\"Summer\",\"Spring\",\"Fall\",\"Spring\",\"Winter\",\"Fall\",\"Spring\",\"Winter\",\"Fall\",\"Fall\",\"Winter\",\"Winter\",\"Spring\",\"Summer\",\"Fall\",\"Fall\",\"Winter\",\"Fall\",\"Summer\",\"Fall\",\"Winter\",\"Summer\",\"Fall\",\"Summer\",\"Winter\",\"Winter\",\"Spring\",\"Fall\",\"Fall\",\"Summer\",\"Winter\",\"Fall\",\"Fall\",\"Winter\",\"Spring\",\"Summer\",\"Spring\",\"Summer\",\"Spring\",\"Fall\",\"Fall\",\"Summer\",\"Spring\",\"Summer\",\"Winter\",\"Fall\",\"Fall\",\"Winter\",\"Spring\",\"Fall\",\"Summer\",\"Spring\",\"Spring\",\"Fall\",\"Winter\",\"Summer\",\"Spring\",\"Fall\",\"Fall\",\"Fall\",\"Summer\",\"Fall\",\"Spring\",\"Spring\",\"Winter\",\"Fall\",\"Fall\",\"Summer\",\"Fall\",\"Summer\",\"Fall\",\"Fall\",\"Fall\",\"Spring\",\"Winter\",\"Winter\",\"Fall\",\"Summer\",\"Winter\",\"Spring\",\"Summer\",\"Spring\",\"Spring\",\"Fall\",\"Spring\",\"Spring\",\"Spring\",\"Winter\",\"Spring\",\"Fall\",\"Summer\",\"Spring\",\"Fall\",\"Fall\",\"Summer\",\"Spring\",\"Summer\",\"Spring\",\"Fall\",\"Winter\",\"Fall\",\"Fall\",\"Winter\",\"Winter\",\"Summer\",\"Fall\",\"Spring\",\"Fall\",\"Spring\",\"Spring\",\"Fall\",\"Summer\",\"Fall\",\"Winter\",\"Fall\",\"Summer\",\"Fall\",\"Summer\",\"Winter\",\"Summer\",\"Summer\",\"Winter\",\"Fall\",\"Summer\",\"Winter\",\"Spring\",\"Spring\",\"Fall\",\"Fall\",\"Spring\",\"Fall\",\"Winter\",\"Spring\",\"Summer\",\"Winter\",\"Winter\",\"Fall\",\"Fall\",\"Spring\",\"Summer\",\"Summer\",\"Spring\",\"Summer\",\"Fall\",\"Summer\",\"Spring\",\"Fall\",\"Summer\",\"Winter\",\"Winter\",\"Fall\",\"Spring\",\"Spring\",\"Spring\",\"Fall\",\"Fall\",\"Spring\",\"Spring\",\"Winter\",\"Winter\",\"Fall\",\"Winter\",\"Spring\",\"Summer\",\"Winter\",\"Fall\",\"Summer\",\"Fall\",\"Winter\",\"Spring\",\"Winter\",\"Summer\",\"Spring\",\"Summer\",\"Summer\",\"Fall\",\"Summer\",\"Summer\",\"Spring\",\"Spring\",\"Summer\",\"Spring\",\"Winter\",\"Summer\",\"Winter\",\"Winter\",\"Spring\",\"Spring\",\"Summer\",\"Spring\",\"Spring\",\"Fall\",\"Winter\",\"Winter\",\"Fall\",\"Winter\",\"Summer\",\"Fall\",\"Winter\",\"Winter\",\"Summer\",\"Summer\",\"Fall\",\"Fall\",\"Spring\",\"Summer\",\"Summer\",\"Summer\",\"Winter\",\"Fall\",\"Summer\",\"Spring\",\"Winter\",\"Summer\",\"Winter\",\"Spring\",\"Winter\",\"Summer\",\"Winter\",\"Spring\",\"Fall\",\"Fall\",\"Spring\",\"Summer\",\"Summer\",\"Winter\",\"Fall\",\"Spring\",\"Summer\",\"Winter\",\"Winter\",\"Spring\",\"Fall\",\"Fall\",\"Fall\",\"Winter\",\"Summer\",\"Spring\",\"Spring\",\"Spring\",\"Winter\",\"Winter\",\"Summer\",\"Fall\",\"Spring\",\"Summer\",\"Spring\",\"Spring\",\"Summer\",\"Spring\"],\"xaxis\":\"x\",\"yaxis\":\"y\",\"type\":\"histogram\"}],                        {\"template\":{\"data\":{\"histogram2dcontour\":[{\"type\":\"histogram2dcontour\",\"colorbar\":{\"outlinewidth\":0,\"ticks\":\"\"},\"colorscale\":[[0.0,\"#0d0887\"],[0.1111111111111111,\"#46039f\"],[0.2222222222222222,\"#7201a8\"],[0.3333333333333333,\"#9c179e\"],[0.4444444444444444,\"#bd3786\"],[0.5555555555555556,\"#d8576b\"],[0.6666666666666666,\"#ed7953\"],[0.7777777777777778,\"#fb9f3a\"],[0.8888888888888888,\"#fdca26\"],[1.0,\"#f0f921\"]]}],\"choropleth\":[{\"type\":\"choropleth\",\"colorbar\":{\"outlinewidth\":0,\"ticks\":\"\"}}],\"histogram2d\":[{\"type\":\"histogram2d\",\"colorbar\":{\"outlinewidth\":0,\"ticks\":\"\"},\"colorscale\":[[0.0,\"#0d0887\"],[0.1111111111111111,\"#46039f\"],[0.2222222222222222,\"#7201a8\"],[0.3333333333333333,\"#9c179e\"],[0.4444444444444444,\"#bd3786\"],[0.5555555555555556,\"#d8576b\"],[0.6666666666666666,\"#ed7953\"],[0.7777777777777778,\"#fb9f3a\"],[0.8888888888888888,\"#fdca26\"],[1.0,\"#f0f921\"]]}],\"heatmap\":[{\"type\":\"heatmap\",\"colorbar\":{\"outlinewidth\":0,\"ticks\":\"\"},\"colorscale\":[[0.0,\"#0d0887\"],[0.1111111111111111,\"#46039f\"],[0.2222222222222222,\"#7201a8\"],[0.3333333333333333,\"#9c179e\"],[0.4444444444444444,\"#bd3786\"],[0.5555555555555556,\"#d8576b\"],[0.6666666666666666,\"#ed7953\"],[0.7777777777777778,\"#fb9f3a\"],[0.8888888888888888,\"#fdca26\"],[1.0,\"#f0f921\"]]}],\"heatmapgl\":[{\"type\":\"heatmapgl\",\"colorbar\":{\"outlinewidth\":0,\"ticks\":\"\"},\"colorscale\":[[0.0,\"#0d0887\"],[0.1111111111111111,\"#46039f\"],[0.2222222222222222,\"#7201a8\"],[0.3333333333333333,\"#9c179e\"],[0.4444444444444444,\"#bd3786\"],[0.5555555555555556,\"#d8576b\"],[0.6666666666666666,\"#ed7953\"],[0.7777777777777778,\"#fb9f3a\"],[0.8888888888888888,\"#fdca26\"],[1.0,\"#f0f921\"]]}],\"contourcarpet\":[{\"type\":\"contourcarpet\",\"colorbar\":{\"outlinewidth\":0,\"ticks\":\"\"}}],\"contour\":[{\"type\":\"contour\",\"colorbar\":{\"outlinewidth\":0,\"ticks\":\"\"},\"colorscale\":[[0.0,\"#0d0887\"],[0.1111111111111111,\"#46039f\"],[0.2222222222222222,\"#7201a8\"],[0.3333333333333333,\"#9c179e\"],[0.4444444444444444,\"#bd3786\"],[0.5555555555555556,\"#d8576b\"],[0.6666666666666666,\"#ed7953\"],[0.7777777777777778,\"#fb9f3a\"],[0.8888888888888888,\"#fdca26\"],[1.0,\"#f0f921\"]]}],\"surface\":[{\"type\":\"surface\",\"colorbar\":{\"outlinewidth\":0,\"ticks\":\"\"},\"colorscale\":[[0.0,\"#0d0887\"],[0.1111111111111111,\"#46039f\"],[0.2222222222222222,\"#7201a8\"],[0.3333333333333333,\"#9c179e\"],[0.4444444444444444,\"#bd3786\"],[0.5555555555555556,\"#d8576b\"],[0.6666666666666666,\"#ed7953\"],[0.7777777777777778,\"#fb9f3a\"],[0.8888888888888888,\"#fdca26\"],[1.0,\"#f0f921\"]]}],\"mesh3d\":[{\"type\":\"mesh3d\",\"colorbar\":{\"outlinewidth\":0,\"ticks\":\"\"}}],\"scatter\":[{\"fillpattern\":{\"fillmode\":\"overlay\",\"size\":10,\"solidity\":0.2},\"type\":\"scatter\"}],\"parcoords\":[{\"type\":\"parcoords\",\"line\":{\"colorbar\":{\"outlinewidth\":0,\"ticks\":\"\"}}}],\"scatterpolargl\":[{\"type\":\"scatterpolargl\",\"marker\":{\"colorbar\":{\"outlinewidth\":0,\"ticks\":\"\"}}}],\"bar\":[{\"error_x\":{\"color\":\"#2a3f5f\"},\"error_y\":{\"color\":\"#2a3f5f\"},\"marker\":{\"line\":{\"color\":\"#E5ECF6\",\"width\":0.5},\"pattern\":{\"fillmode\":\"overlay\",\"size\":10,\"solidity\":0.2}},\"type\":\"bar\"}],\"scattergeo\":[{\"type\":\"scattergeo\",\"marker\":{\"colorbar\":{\"outlinewidth\":0,\"ticks\":\"\"}}}],\"scatterpolar\":[{\"type\":\"scatterpolar\",\"marker\":{\"colorbar\":{\"outlinewidth\":0,\"ticks\":\"\"}}}],\"histogram\":[{\"marker\":{\"pattern\":{\"fillmode\":\"overlay\",\"size\":10,\"solidity\":0.2}},\"type\":\"histogram\"}],\"scattergl\":[{\"type\":\"scattergl\",\"marker\":{\"colorbar\":{\"outlinewidth\":0,\"ticks\":\"\"}}}],\"scatter3d\":[{\"type\":\"scatter3d\",\"line\":{\"colorbar\":{\"outlinewidth\":0,\"ticks\":\"\"}},\"marker\":{\"colorbar\":{\"outlinewidth\":0,\"ticks\":\"\"}}}],\"scattermapbox\":[{\"type\":\"scattermapbox\",\"marker\":{\"colorbar\":{\"outlinewidth\":0,\"ticks\":\"\"}}}],\"scatterternary\":[{\"type\":\"scatterternary\",\"marker\":{\"colorbar\":{\"outlinewidth\":0,\"ticks\":\"\"}}}],\"scattercarpet\":[{\"type\":\"scattercarpet\",\"marker\":{\"colorbar\":{\"outlinewidth\":0,\"ticks\":\"\"}}}],\"carpet\":[{\"aaxis\":{\"endlinecolor\":\"#2a3f5f\",\"gridcolor\":\"white\",\"linecolor\":\"white\",\"minorgridcolor\":\"white\",\"startlinecolor\":\"#2a3f5f\"},\"baxis\":{\"endlinecolor\":\"#2a3f5f\",\"gridcolor\":\"white\",\"linecolor\":\"white\",\"minorgridcolor\":\"white\",\"startlinecolor\":\"#2a3f5f\"},\"type\":\"carpet\"}],\"table\":[{\"cells\":{\"fill\":{\"color\":\"#EBF0F8\"},\"line\":{\"color\":\"white\"}},\"header\":{\"fill\":{\"color\":\"#C8D4E3\"},\"line\":{\"color\":\"white\"}},\"type\":\"table\"}],\"barpolar\":[{\"marker\":{\"line\":{\"color\":\"#E5ECF6\",\"width\":0.5},\"pattern\":{\"fillmode\":\"overlay\",\"size\":10,\"solidity\":0.2}},\"type\":\"barpolar\"}],\"pie\":[{\"automargin\":true,\"type\":\"pie\"}]},\"layout\":{\"autotypenumbers\":\"strict\",\"colorway\":[\"#636efa\",\"#EF553B\",\"#00cc96\",\"#ab63fa\",\"#FFA15A\",\"#19d3f3\",\"#FF6692\",\"#B6E880\",\"#FF97FF\",\"#FECB52\"],\"font\":{\"color\":\"#2a3f5f\"},\"hovermode\":\"closest\",\"hoverlabel\":{\"align\":\"left\"},\"paper_bgcolor\":\"white\",\"plot_bgcolor\":\"#E5ECF6\",\"polar\":{\"bgcolor\":\"#E5ECF6\",\"angularaxis\":{\"gridcolor\":\"white\",\"linecolor\":\"white\",\"ticks\":\"\"},\"radialaxis\":{\"gridcolor\":\"white\",\"linecolor\":\"white\",\"ticks\":\"\"}},\"ternary\":{\"bgcolor\":\"#E5ECF6\",\"aaxis\":{\"gridcolor\":\"white\",\"linecolor\":\"white\",\"ticks\":\"\"},\"baxis\":{\"gridcolor\":\"white\",\"linecolor\":\"white\",\"ticks\":\"\"},\"caxis\":{\"gridcolor\":\"white\",\"linecolor\":\"white\",\"ticks\":\"\"}},\"coloraxis\":{\"colorbar\":{\"outlinewidth\":0,\"ticks\":\"\"}},\"colorscale\":{\"sequential\":[[0.0,\"#0d0887\"],[0.1111111111111111,\"#46039f\"],[0.2222222222222222,\"#7201a8\"],[0.3333333333333333,\"#9c179e\"],[0.4444444444444444,\"#bd3786\"],[0.5555555555555556,\"#d8576b\"],[0.6666666666666666,\"#ed7953\"],[0.7777777777777778,\"#fb9f3a\"],[0.8888888888888888,\"#fdca26\"],[1.0,\"#f0f921\"]],\"sequentialminus\":[[0.0,\"#0d0887\"],[0.1111111111111111,\"#46039f\"],[0.2222222222222222,\"#7201a8\"],[0.3333333333333333,\"#9c179e\"],[0.4444444444444444,\"#bd3786\"],[0.5555555555555556,\"#d8576b\"],[0.6666666666666666,\"#ed7953\"],[0.7777777777777778,\"#fb9f3a\"],[0.8888888888888888,\"#fdca26\"],[1.0,\"#f0f921\"]],\"diverging\":[[0,\"#8e0152\"],[0.1,\"#c51b7d\"],[0.2,\"#de77ae\"],[0.3,\"#f1b6da\"],[0.4,\"#fde0ef\"],[0.5,\"#f7f7f7\"],[0.6,\"#e6f5d0\"],[0.7,\"#b8e186\"],[0.8,\"#7fbc41\"],[0.9,\"#4d9221\"],[1,\"#276419\"]]},\"xaxis\":{\"gridcolor\":\"white\",\"linecolor\":\"white\",\"ticks\":\"\",\"title\":{\"standoff\":15},\"zerolinecolor\":\"white\",\"automargin\":true,\"zerolinewidth\":2},\"yaxis\":{\"gridcolor\":\"white\",\"linecolor\":\"white\",\"ticks\":\"\",\"title\":{\"standoff\":15},\"zerolinecolor\":\"white\",\"automargin\":true,\"zerolinewidth\":2},\"scene\":{\"xaxis\":{\"backgroundcolor\":\"#E5ECF6\",\"gridcolor\":\"white\",\"linecolor\":\"white\",\"showbackground\":true,\"ticks\":\"\",\"zerolinecolor\":\"white\",\"gridwidth\":2},\"yaxis\":{\"backgroundcolor\":\"#E5ECF6\",\"gridcolor\":\"white\",\"linecolor\":\"white\",\"showbackground\":true,\"ticks\":\"\",\"zerolinecolor\":\"white\",\"gridwidth\":2},\"zaxis\":{\"backgroundcolor\":\"#E5ECF6\",\"gridcolor\":\"white\",\"linecolor\":\"white\",\"showbackground\":true,\"ticks\":\"\",\"zerolinecolor\":\"white\",\"gridwidth\":2}},\"shapedefaults\":{\"line\":{\"color\":\"#2a3f5f\"}},\"annotationdefaults\":{\"arrowcolor\":\"#2a3f5f\",\"arrowhead\":0,\"arrowwidth\":1},\"geo\":{\"bgcolor\":\"white\",\"landcolor\":\"#E5ECF6\",\"subunitcolor\":\"white\",\"showland\":true,\"showlakes\":true,\"lakecolor\":\"white\"},\"title\":{\"x\":0.05},\"mapbox\":{\"style\":\"light\"}}},\"xaxis\":{\"anchor\":\"y\",\"domain\":[0.0,1.0],\"title\":{\"text\":\"Season\"}},\"yaxis\":{\"anchor\":\"x\",\"domain\":[0.0,1.0],\"title\":{\"text\":\"count\"},\"range\":[200,1500]},\"legend\":{\"tracegroupgap\":0},\"margin\":{\"t\":60},\"barmode\":\"relative\"},                        {\"responsive\": true}                    ).then(function(){\n",
              "                            \n",
              "var gd = document.getElementById('6ff7342c-75d8-4def-8f3d-c7c36d48e0df');\n",
              "var x = new MutationObserver(function (mutations, observer) {{\n",
              "        var display = window.getComputedStyle(gd).display;\n",
              "        if (!display || display === 'none') {{\n",
              "            console.log([gd, 'removed!']);\n",
              "            Plotly.purge(gd);\n",
              "            observer.disconnect();\n",
              "        }}\n",
              "}});\n",
              "\n",
              "// Listen for the removal of the full notebook cells\n",
              "var notebookContainer = gd.closest('#notebook-container');\n",
              "if (notebookContainer) {{\n",
              "    x.observe(notebookContainer, {childList: true});\n",
              "}}\n",
              "\n",
              "// Listen for the clearing of the current output cell\n",
              "var outputEl = gd.closest('.output');\n",
              "if (outputEl) {{\n",
              "    x.observe(outputEl, {childList: true});\n",
              "}}\n",
              "\n",
              "                        })                };                            </script>        </div>\n",
              "</body>\n",
              "</html>"
            ]
          },
          "metadata": {}
        }
      ],
      "source": [
        "fig = px.histogram(shop , x = 'Season' , range_y= [200 , 1500] )\n",
        "\n",
        "fig.show()"
      ]
    },
    {
      "cell_type": "markdown",
      "id": "c235c070-87d6-4827-8a50-f24087bec1b8",
      "metadata": {
        "id": "c235c070-87d6-4827-8a50-f24087bec1b8"
      },
      "source": [
        "## 6 What is the average rating given by customers for each product category?"
      ]
    },
    {
      "cell_type": "code",
      "execution_count": 37,
      "id": "722c8493-1667-4c9a-9d1d-2f5920ccbf43",
      "metadata": {
        "id": "722c8493-1667-4c9a-9d1d-2f5920ccbf43"
      },
      "outputs": [],
      "source": [
        "shop_groupby = shop.groupby('Category')['Review Rating'].mean().reset_index()"
      ]
    },
    {
      "cell_type": "code",
      "execution_count": 38,
      "id": "556a9bf7-4b62-48f1-9d2b-79d5aadfd899",
      "metadata": {
        "colab": {
          "base_uri": "https://localhost:8080/",
          "height": 542
        },
        "id": "556a9bf7-4b62-48f1-9d2b-79d5aadfd899",
        "outputId": "1faec115-08b4-42b1-cb07-bac3b951e28f"
      },
      "outputs": [
        {
          "output_type": "display_data",
          "data": {
            "text/html": [
              "<html>\n",
              "<head><meta charset=\"utf-8\" /></head>\n",
              "<body>\n",
              "    <div>            <script src=\"https://cdnjs.cloudflare.com/ajax/libs/mathjax/2.7.5/MathJax.js?config=TeX-AMS-MML_SVG\"></script><script type=\"text/javascript\">if (window.MathJax && window.MathJax.Hub && window.MathJax.Hub.Config) {window.MathJax.Hub.Config({SVG: {font: \"STIX-Web\"}});}</script>                <script type=\"text/javascript\">window.PlotlyConfig = {MathJaxConfig: 'local'};</script>\n",
              "        <script charset=\"utf-8\" src=\"https://cdn.plot.ly/plotly-2.35.2.min.js\"></script>                <div id=\"93e9cb8c-6d82-4680-885b-5a797cb52f52\" class=\"plotly-graph-div\" style=\"height:525px; width:100%;\"></div>            <script type=\"text/javascript\">                                    window.PLOTLYENV=window.PLOTLYENV || {};                                    if (document.getElementById(\"93e9cb8c-6d82-4680-885b-5a797cb52f52\")) {                    Plotly.newPlot(                        \"93e9cb8c-6d82-4680-885b-5a797cb52f52\",                        [{\"alignmentgroup\":\"True\",\"hovertemplate\":\"Category=%{x}\\u003cbr\\u003eReview Rating=%{y}\\u003cextra\\u003e\\u003c\\u002fextra\\u003e\",\"legendgroup\":\"\",\"marker\":{\"color\":\"#636efa\",\"pattern\":{\"shape\":\"\"}},\"name\":\"\",\"offsetgroup\":\"\",\"orientation\":\"v\",\"showlegend\":false,\"textposition\":\"auto\",\"x\":[\"Accessories\",\"Clothing\",\"Footwear\",\"Outerwear\"],\"xaxis\":\"x\",\"y\":[3.768629032258065,3.7231433506044906,3.790651085141903,3.746913580246914],\"yaxis\":\"y\",\"type\":\"bar\"}],                        {\"template\":{\"data\":{\"histogram2dcontour\":[{\"type\":\"histogram2dcontour\",\"colorbar\":{\"outlinewidth\":0,\"ticks\":\"\"},\"colorscale\":[[0.0,\"#0d0887\"],[0.1111111111111111,\"#46039f\"],[0.2222222222222222,\"#7201a8\"],[0.3333333333333333,\"#9c179e\"],[0.4444444444444444,\"#bd3786\"],[0.5555555555555556,\"#d8576b\"],[0.6666666666666666,\"#ed7953\"],[0.7777777777777778,\"#fb9f3a\"],[0.8888888888888888,\"#fdca26\"],[1.0,\"#f0f921\"]]}],\"choropleth\":[{\"type\":\"choropleth\",\"colorbar\":{\"outlinewidth\":0,\"ticks\":\"\"}}],\"histogram2d\":[{\"type\":\"histogram2d\",\"colorbar\":{\"outlinewidth\":0,\"ticks\":\"\"},\"colorscale\":[[0.0,\"#0d0887\"],[0.1111111111111111,\"#46039f\"],[0.2222222222222222,\"#7201a8\"],[0.3333333333333333,\"#9c179e\"],[0.4444444444444444,\"#bd3786\"],[0.5555555555555556,\"#d8576b\"],[0.6666666666666666,\"#ed7953\"],[0.7777777777777778,\"#fb9f3a\"],[0.8888888888888888,\"#fdca26\"],[1.0,\"#f0f921\"]]}],\"heatmap\":[{\"type\":\"heatmap\",\"colorbar\":{\"outlinewidth\":0,\"ticks\":\"\"},\"colorscale\":[[0.0,\"#0d0887\"],[0.1111111111111111,\"#46039f\"],[0.2222222222222222,\"#7201a8\"],[0.3333333333333333,\"#9c179e\"],[0.4444444444444444,\"#bd3786\"],[0.5555555555555556,\"#d8576b\"],[0.6666666666666666,\"#ed7953\"],[0.7777777777777778,\"#fb9f3a\"],[0.8888888888888888,\"#fdca26\"],[1.0,\"#f0f921\"]]}],\"heatmapgl\":[{\"type\":\"heatmapgl\",\"colorbar\":{\"outlinewidth\":0,\"ticks\":\"\"},\"colorscale\":[[0.0,\"#0d0887\"],[0.1111111111111111,\"#46039f\"],[0.2222222222222222,\"#7201a8\"],[0.3333333333333333,\"#9c179e\"],[0.4444444444444444,\"#bd3786\"],[0.5555555555555556,\"#d8576b\"],[0.6666666666666666,\"#ed7953\"],[0.7777777777777778,\"#fb9f3a\"],[0.8888888888888888,\"#fdca26\"],[1.0,\"#f0f921\"]]}],\"contourcarpet\":[{\"type\":\"contourcarpet\",\"colorbar\":{\"outlinewidth\":0,\"ticks\":\"\"}}],\"contour\":[{\"type\":\"contour\",\"colorbar\":{\"outlinewidth\":0,\"ticks\":\"\"},\"colorscale\":[[0.0,\"#0d0887\"],[0.1111111111111111,\"#46039f\"],[0.2222222222222222,\"#7201a8\"],[0.3333333333333333,\"#9c179e\"],[0.4444444444444444,\"#bd3786\"],[0.5555555555555556,\"#d8576b\"],[0.6666666666666666,\"#ed7953\"],[0.7777777777777778,\"#fb9f3a\"],[0.8888888888888888,\"#fdca26\"],[1.0,\"#f0f921\"]]}],\"surface\":[{\"type\":\"surface\",\"colorbar\":{\"outlinewidth\":0,\"ticks\":\"\"},\"colorscale\":[[0.0,\"#0d0887\"],[0.1111111111111111,\"#46039f\"],[0.2222222222222222,\"#7201a8\"],[0.3333333333333333,\"#9c179e\"],[0.4444444444444444,\"#bd3786\"],[0.5555555555555556,\"#d8576b\"],[0.6666666666666666,\"#ed7953\"],[0.7777777777777778,\"#fb9f3a\"],[0.8888888888888888,\"#fdca26\"],[1.0,\"#f0f921\"]]}],\"mesh3d\":[{\"type\":\"mesh3d\",\"colorbar\":{\"outlinewidth\":0,\"ticks\":\"\"}}],\"scatter\":[{\"fillpattern\":{\"fillmode\":\"overlay\",\"size\":10,\"solidity\":0.2},\"type\":\"scatter\"}],\"parcoords\":[{\"type\":\"parcoords\",\"line\":{\"colorbar\":{\"outlinewidth\":0,\"ticks\":\"\"}}}],\"scatterpolargl\":[{\"type\":\"scatterpolargl\",\"marker\":{\"colorbar\":{\"outlinewidth\":0,\"ticks\":\"\"}}}],\"bar\":[{\"error_x\":{\"color\":\"#2a3f5f\"},\"error_y\":{\"color\":\"#2a3f5f\"},\"marker\":{\"line\":{\"color\":\"#E5ECF6\",\"width\":0.5},\"pattern\":{\"fillmode\":\"overlay\",\"size\":10,\"solidity\":0.2}},\"type\":\"bar\"}],\"scattergeo\":[{\"type\":\"scattergeo\",\"marker\":{\"colorbar\":{\"outlinewidth\":0,\"ticks\":\"\"}}}],\"scatterpolar\":[{\"type\":\"scatterpolar\",\"marker\":{\"colorbar\":{\"outlinewidth\":0,\"ticks\":\"\"}}}],\"histogram\":[{\"marker\":{\"pattern\":{\"fillmode\":\"overlay\",\"size\":10,\"solidity\":0.2}},\"type\":\"histogram\"}],\"scattergl\":[{\"type\":\"scattergl\",\"marker\":{\"colorbar\":{\"outlinewidth\":0,\"ticks\":\"\"}}}],\"scatter3d\":[{\"type\":\"scatter3d\",\"line\":{\"colorbar\":{\"outlinewidth\":0,\"ticks\":\"\"}},\"marker\":{\"colorbar\":{\"outlinewidth\":0,\"ticks\":\"\"}}}],\"scattermapbox\":[{\"type\":\"scattermapbox\",\"marker\":{\"colorbar\":{\"outlinewidth\":0,\"ticks\":\"\"}}}],\"scatterternary\":[{\"type\":\"scatterternary\",\"marker\":{\"colorbar\":{\"outlinewidth\":0,\"ticks\":\"\"}}}],\"scattercarpet\":[{\"type\":\"scattercarpet\",\"marker\":{\"colorbar\":{\"outlinewidth\":0,\"ticks\":\"\"}}}],\"carpet\":[{\"aaxis\":{\"endlinecolor\":\"#2a3f5f\",\"gridcolor\":\"white\",\"linecolor\":\"white\",\"minorgridcolor\":\"white\",\"startlinecolor\":\"#2a3f5f\"},\"baxis\":{\"endlinecolor\":\"#2a3f5f\",\"gridcolor\":\"white\",\"linecolor\":\"white\",\"minorgridcolor\":\"white\",\"startlinecolor\":\"#2a3f5f\"},\"type\":\"carpet\"}],\"table\":[{\"cells\":{\"fill\":{\"color\":\"#EBF0F8\"},\"line\":{\"color\":\"white\"}},\"header\":{\"fill\":{\"color\":\"#C8D4E3\"},\"line\":{\"color\":\"white\"}},\"type\":\"table\"}],\"barpolar\":[{\"marker\":{\"line\":{\"color\":\"#E5ECF6\",\"width\":0.5},\"pattern\":{\"fillmode\":\"overlay\",\"size\":10,\"solidity\":0.2}},\"type\":\"barpolar\"}],\"pie\":[{\"automargin\":true,\"type\":\"pie\"}]},\"layout\":{\"autotypenumbers\":\"strict\",\"colorway\":[\"#636efa\",\"#EF553B\",\"#00cc96\",\"#ab63fa\",\"#FFA15A\",\"#19d3f3\",\"#FF6692\",\"#B6E880\",\"#FF97FF\",\"#FECB52\"],\"font\":{\"color\":\"#2a3f5f\"},\"hovermode\":\"closest\",\"hoverlabel\":{\"align\":\"left\"},\"paper_bgcolor\":\"white\",\"plot_bgcolor\":\"#E5ECF6\",\"polar\":{\"bgcolor\":\"#E5ECF6\",\"angularaxis\":{\"gridcolor\":\"white\",\"linecolor\":\"white\",\"ticks\":\"\"},\"radialaxis\":{\"gridcolor\":\"white\",\"linecolor\":\"white\",\"ticks\":\"\"}},\"ternary\":{\"bgcolor\":\"#E5ECF6\",\"aaxis\":{\"gridcolor\":\"white\",\"linecolor\":\"white\",\"ticks\":\"\"},\"baxis\":{\"gridcolor\":\"white\",\"linecolor\":\"white\",\"ticks\":\"\"},\"caxis\":{\"gridcolor\":\"white\",\"linecolor\":\"white\",\"ticks\":\"\"}},\"coloraxis\":{\"colorbar\":{\"outlinewidth\":0,\"ticks\":\"\"}},\"colorscale\":{\"sequential\":[[0.0,\"#0d0887\"],[0.1111111111111111,\"#46039f\"],[0.2222222222222222,\"#7201a8\"],[0.3333333333333333,\"#9c179e\"],[0.4444444444444444,\"#bd3786\"],[0.5555555555555556,\"#d8576b\"],[0.6666666666666666,\"#ed7953\"],[0.7777777777777778,\"#fb9f3a\"],[0.8888888888888888,\"#fdca26\"],[1.0,\"#f0f921\"]],\"sequentialminus\":[[0.0,\"#0d0887\"],[0.1111111111111111,\"#46039f\"],[0.2222222222222222,\"#7201a8\"],[0.3333333333333333,\"#9c179e\"],[0.4444444444444444,\"#bd3786\"],[0.5555555555555556,\"#d8576b\"],[0.6666666666666666,\"#ed7953\"],[0.7777777777777778,\"#fb9f3a\"],[0.8888888888888888,\"#fdca26\"],[1.0,\"#f0f921\"]],\"diverging\":[[0,\"#8e0152\"],[0.1,\"#c51b7d\"],[0.2,\"#de77ae\"],[0.3,\"#f1b6da\"],[0.4,\"#fde0ef\"],[0.5,\"#f7f7f7\"],[0.6,\"#e6f5d0\"],[0.7,\"#b8e186\"],[0.8,\"#7fbc41\"],[0.9,\"#4d9221\"],[1,\"#276419\"]]},\"xaxis\":{\"gridcolor\":\"white\",\"linecolor\":\"white\",\"ticks\":\"\",\"title\":{\"standoff\":15},\"zerolinecolor\":\"white\",\"automargin\":true,\"zerolinewidth\":2},\"yaxis\":{\"gridcolor\":\"white\",\"linecolor\":\"white\",\"ticks\":\"\",\"title\":{\"standoff\":15},\"zerolinecolor\":\"white\",\"automargin\":true,\"zerolinewidth\":2},\"scene\":{\"xaxis\":{\"backgroundcolor\":\"#E5ECF6\",\"gridcolor\":\"white\",\"linecolor\":\"white\",\"showbackground\":true,\"ticks\":\"\",\"zerolinecolor\":\"white\",\"gridwidth\":2},\"yaxis\":{\"backgroundcolor\":\"#E5ECF6\",\"gridcolor\":\"white\",\"linecolor\":\"white\",\"showbackground\":true,\"ticks\":\"\",\"zerolinecolor\":\"white\",\"gridwidth\":2},\"zaxis\":{\"backgroundcolor\":\"#E5ECF6\",\"gridcolor\":\"white\",\"linecolor\":\"white\",\"showbackground\":true,\"ticks\":\"\",\"zerolinecolor\":\"white\",\"gridwidth\":2}},\"shapedefaults\":{\"line\":{\"color\":\"#2a3f5f\"}},\"annotationdefaults\":{\"arrowcolor\":\"#2a3f5f\",\"arrowhead\":0,\"arrowwidth\":1},\"geo\":{\"bgcolor\":\"white\",\"landcolor\":\"#E5ECF6\",\"subunitcolor\":\"white\",\"showland\":true,\"showlakes\":true,\"lakecolor\":\"white\"},\"title\":{\"x\":0.05},\"mapbox\":{\"style\":\"light\"}}},\"xaxis\":{\"anchor\":\"y\",\"domain\":[0.0,1.0],\"title\":{\"text\":\"Category\"}},\"yaxis\":{\"anchor\":\"x\",\"domain\":[0.0,1.0],\"title\":{\"text\":\"Review Rating\"}},\"legend\":{\"tracegroupgap\":0},\"margin\":{\"t\":60},\"barmode\":\"relative\"},                        {\"responsive\": true}                    ).then(function(){\n",
              "                            \n",
              "var gd = document.getElementById('93e9cb8c-6d82-4680-885b-5a797cb52f52');\n",
              "var x = new MutationObserver(function (mutations, observer) {{\n",
              "        var display = window.getComputedStyle(gd).display;\n",
              "        if (!display || display === 'none') {{\n",
              "            console.log([gd, 'removed!']);\n",
              "            Plotly.purge(gd);\n",
              "            observer.disconnect();\n",
              "        }}\n",
              "}});\n",
              "\n",
              "// Listen for the removal of the full notebook cells\n",
              "var notebookContainer = gd.closest('#notebook-container');\n",
              "if (notebookContainer) {{\n",
              "    x.observe(notebookContainer, {childList: true});\n",
              "}}\n",
              "\n",
              "// Listen for the clearing of the current output cell\n",
              "var outputEl = gd.closest('.output');\n",
              "if (outputEl) {{\n",
              "    x.observe(outputEl, {childList: true});\n",
              "}}\n",
              "\n",
              "                        })                };                            </script>        </div>\n",
              "</body>\n",
              "</html>"
            ]
          },
          "metadata": {}
        }
      ],
      "source": [
        "fig = px.bar(shop_groupby ,x= 'Category' , y = 'Review Rating' )\n",
        "fig.show()"
      ]
    },
    {
      "cell_type": "markdown",
      "id": "a570bf66-e2d2-4ff8-85dc-94803636672b",
      "metadata": {
        "id": "a570bf66-e2d2-4ff8-85dc-94803636672b"
      },
      "source": [
        "## 7 Are there any notable differences in purchase behavior between subscribed and non-subscribed customers?"
      ]
    },
    {
      "cell_type": "code",
      "execution_count": 39,
      "id": "2bdc867b-9c3a-4312-98fa-922a00b8c5e8",
      "metadata": {
        "colab": {
          "base_uri": "https://localhost:8080/"
        },
        "id": "2bdc867b-9c3a-4312-98fa-922a00b8c5e8",
        "outputId": "8c3fc1d9-dfa0-4882-a589-bf4a33c8057b"
      },
      "outputs": [
        {
          "output_type": "execute_result",
          "data": {
            "text/plain": [
              "Index(['Customer ID', 'Age', 'Gender', 'Item Purchased', 'Category',\n",
              "       'Purchase Amount (USD)', 'Location', 'Size', 'Color', 'Season',\n",
              "       'Review Rating', 'Subscription Status', 'Shipping Type',\n",
              "       'Discount Applied', 'Promo Code Used', 'Previous Purchases',\n",
              "       'Payment Method', 'Frequency of Purchases', 'Age_category'],\n",
              "      dtype='object')"
            ]
          },
          "metadata": {},
          "execution_count": 39
        }
      ],
      "source": [
        "shop.columns"
      ]
    },
    {
      "cell_type": "code",
      "execution_count": 40,
      "id": "b8c0a3e7-ac5e-49a8-bf65-cfd50b382eef",
      "metadata": {
        "colab": {
          "base_uri": "https://localhost:8080/"
        },
        "id": "b8c0a3e7-ac5e-49a8-bf65-cfd50b382eef",
        "outputId": "e47f657d-2084-49e0-c7ae-9b728fdbb467"
      },
      "outputs": [
        {
          "output_type": "execute_result",
          "data": {
            "text/plain": [
              "array(['Yes', 'No'], dtype=object)"
            ]
          },
          "metadata": {},
          "execution_count": 40
        }
      ],
      "source": [
        "shop['Subscription Status'].unique()"
      ]
    },
    {
      "cell_type": "code",
      "execution_count": 41,
      "id": "66f9f71e-0987-4bdf-84f1-aab74d91bc5f",
      "metadata": {
        "colab": {
          "base_uri": "https://localhost:8080/",
          "height": 466
        },
        "id": "66f9f71e-0987-4bdf-84f1-aab74d91bc5f",
        "outputId": "3f5c4ddc-b3a3-4db0-f451-93260510ac96"
      },
      "outputs": [
        {
          "output_type": "execute_result",
          "data": {
            "text/plain": [
              "<Axes: xlabel='Subscription Status', ylabel='Purchase Amount (USD)'>"
            ]
          },
          "metadata": {},
          "execution_count": 41
        },
        {
          "output_type": "display_data",
          "data": {
            "text/plain": [
              "<Figure size 640x480 with 1 Axes>"
            ],
            "image/png": "[encoded data removed]"
          },
          "metadata": {}
        }
      ],
      "source": [
        "sns.barplot(shop  , x = 'Subscription Status' , y = 'Purchase Amount (USD)')"
      ]
    },
    {
      "cell_type": "code",
      "execution_count": 42,
      "id": "5e13b268-37d9-42dc-80eb-8d6a5b99d537",
      "metadata": {
        "id": "5e13b268-37d9-42dc-80eb-8d6a5b99d537",
        "outputId": "34a6677a-75e8-4302-971a-e32d69ab269e",
        "colab": {
          "base_uri": "https://localhost:8080/"
        }
      },
      "outputs": [
        {
          "output_type": "execute_result",
          "data": {
            "text/plain": [
              "233081"
            ]
          },
          "metadata": {},
          "execution_count": 42
        }
      ],
      "source": [
        "shop['Purchase Amount (USD)'].sum()"
      ]
    },
    {
      "cell_type": "code",
      "execution_count": 43,
      "id": "eff4c43b-6864-41d0-98df-ccfd84909335",
      "metadata": {
        "id": "eff4c43b-6864-41d0-98df-ccfd84909335",
        "outputId": "717c8d02-73e0-43ba-f1aa-b33cd2062958",
        "colab": {
          "base_uri": "https://localhost:8080/",
          "height": 178
        }
      },
      "outputs": [
        {
          "output_type": "execute_result",
          "data": {
            "text/plain": [
              "Subscription Status\n",
              "No     59.865121\n",
              "Yes    59.491928\n",
              "Name: Purchase Amount (USD), dtype: float64"
            ],
            "text/html": [
              "<div>\n",
              "<style scoped>\n",
              "    .dataframe tbody tr th:only-of-type {\n",
              "        vertical-align: middle;\n",
              "    }\n",
              "\n",
              "    .dataframe tbody tr th {\n",
              "        vertical-align: top;\n",
              "    }\n",
              "\n",
              "    .dataframe thead th {\n",
              "        text-align: right;\n",
              "    }\n",
              "</style>\n",
              "<table border=\"1\" class=\"dataframe\">\n",
              "  <thead>\n",
              "    <tr style=\"text-align: right;\">\n",
              "      <th></th>\n",
              "      <th>Purchase Amount (USD)</th>\n",
              "    </tr>\n",
              "    <tr>\n",
              "      <th>Subscription Status</th>\n",
              "      <th></th>\n",
              "    </tr>\n",
              "  </thead>\n",
              "  <tbody>\n",
              "    <tr>\n",
              "      <th>No</th>\n",
              "      <td>59.865121</td>\n",
              "    </tr>\n",
              "    <tr>\n",
              "      <th>Yes</th>\n",
              "      <td>59.491928</td>\n",
              "    </tr>\n",
              "  </tbody>\n",
              "</table>\n",
              "</div><br><label><b>dtype:</b> float64</label>"
            ]
          },
          "metadata": {},
          "execution_count": 43
        }
      ],
      "source": [
        "shop.groupby('Subscription Status')['Purchase Amount (USD)'].mean()"
      ]
    },
    {
      "cell_type": "markdown",
      "id": "e1608fa3-f31e-48dd-afed-d411eed3b5c8",
      "metadata": {
        "id": "e1608fa3-f31e-48dd-afed-d411eed3b5c8"
      },
      "source": [
        "## 8 Which payment method is the most popular among customers?"
      ]
    },
    {
      "cell_type": "code",
      "execution_count": 44,
      "id": "b206efc9-b92c-49d5-9a93-7246a360da71",
      "metadata": {
        "id": "b206efc9-b92c-49d5-9a93-7246a360da71",
        "outputId": "5b7198e9-8693-44b1-9ff2-b93add87ae61",
        "colab": {
          "base_uri": "https://localhost:8080/",
          "height": 304
        }
      },
      "outputs": [
        {
          "output_type": "execute_result",
          "data": {
            "text/plain": [
              "Payment Method\n",
              "Debit Card       60.915094\n",
              "Credit Card      60.074516\n",
              "Bank Transfer    59.712418\n",
              "Cash             59.704478\n",
              "PayPal           59.245199\n",
              "Venmo            58.949527\n",
              "Name: Purchase Amount (USD), dtype: float64"
            ],
            "text/html": [
              "<div>\n",
              "<style scoped>\n",
              "    .dataframe tbody tr th:only-of-type {\n",
              "        vertical-align: middle;\n",
              "    }\n",
              "\n",
              "    .dataframe tbody tr th {\n",
              "        vertical-align: top;\n",
              "    }\n",
              "\n",
              "    .dataframe thead th {\n",
              "        text-align: right;\n",
              "    }\n",
              "</style>\n",
              "<table border=\"1\" class=\"dataframe\">\n",
              "  <thead>\n",
              "    <tr style=\"text-align: right;\">\n",
              "      <th></th>\n",
              "      <th>Purchase Amount (USD)</th>\n",
              "    </tr>\n",
              "    <tr>\n",
              "      <th>Payment Method</th>\n",
              "      <th></th>\n",
              "    </tr>\n",
              "  </thead>\n",
              "  <tbody>\n",
              "    <tr>\n",
              "      <th>Debit Card</th>\n",
              "      <td>60.915094</td>\n",
              "    </tr>\n",
              "    <tr>\n",
              "      <th>Credit Card</th>\n",
              "      <td>60.074516</td>\n",
              "    </tr>\n",
              "    <tr>\n",
              "      <th>Bank Transfer</th>\n",
              "      <td>59.712418</td>\n",
              "    </tr>\n",
              "    <tr>\n",
              "      <th>Cash</th>\n",
              "      <td>59.704478</td>\n",
              "    </tr>\n",
              "    <tr>\n",
              "      <th>PayPal</th>\n",
              "      <td>59.245199</td>\n",
              "    </tr>\n",
              "    <tr>\n",
              "      <th>Venmo</th>\n",
              "      <td>58.949527</td>\n",
              "    </tr>\n",
              "  </tbody>\n",
              "</table>\n",
              "</div><br><label><b>dtype:</b> float64</label>"
            ]
          },
          "metadata": {},
          "execution_count": 44
        }
      ],
      "source": [
        "shop.groupby('Payment Method')['Purchase Amount (USD)'].mean().sort_values(ascending= False)"
      ]
    },
    {
      "cell_type": "code",
      "execution_count": 45,
      "id": "179f61b2-4598-45a9-8809-37838d2631fc",
      "metadata": {
        "id": "179f61b2-4598-45a9-8809-37838d2631fc"
      },
      "outputs": [],
      "source": [
        "shop_groupby = shop.groupby('Payment Method')['Purchase Amount (USD)'].mean().reset_index()"
      ]
    },
    {
      "cell_type": "code",
      "execution_count": 46,
      "id": "92fc2bac-bdcb-4323-ae0a-4449838b83ba",
      "metadata": {
        "id": "92fc2bac-bdcb-4323-ae0a-4449838b83ba",
        "outputId": "5afa277f-af3a-44b8-9c6f-d30235b1850d",
        "colab": {
          "base_uri": "https://localhost:8080/",
          "height": 542
        }
      },
      "outputs": [
        {
          "output_type": "display_data",
          "data": {
            "text/html": [
              "<html>\n",
              "<head><meta charset=\"utf-8\" /></head>\n",
              "<body>\n",
              "    <div>            <script src=\"https://cdnjs.cloudflare.com/ajax/libs/mathjax/2.7.5/MathJax.js?config=TeX-AMS-MML_SVG\"></script><script type=\"text/javascript\">if (window.MathJax && window.MathJax.Hub && window.MathJax.Hub.Config) {window.MathJax.Hub.Config({SVG: {font: \"STIX-Web\"}});}</script>                <script type=\"text/javascript\">window.PlotlyConfig = {MathJaxConfig: 'local'};</script>\n",
              "        <script charset=\"utf-8\" src=\"https://cdn.plot.ly/plotly-2.35.2.min.js\"></script>                <div id=\"7cfebbb0-ec84-4027-b3cf-660c5141d92e\" class=\"plotly-graph-div\" style=\"height:525px; width:100%;\"></div>            <script type=\"text/javascript\">                                    window.PLOTLYENV=window.PLOTLYENV || {};                                    if (document.getElementById(\"7cfebbb0-ec84-4027-b3cf-660c5141d92e\")) {                    Plotly.newPlot(                        \"7cfebbb0-ec84-4027-b3cf-660c5141d92e\",                        [{\"alignmentgroup\":\"True\",\"hovertemplate\":\"Payment Method=%{x}\\u003cbr\\u003ePurchase Amount (USD)=%{y}\\u003cextra\\u003e\\u003c\\u002fextra\\u003e\",\"legendgroup\":\"\",\"marker\":{\"color\":\"#636efa\",\"pattern\":{\"shape\":\"\"}},\"name\":\"\",\"offsetgroup\":\"\",\"orientation\":\"v\",\"showlegend\":false,\"textposition\":\"auto\",\"x\":[\"Bank Transfer\",\"Cash\",\"Credit Card\",\"Debit Card\",\"PayPal\",\"Venmo\"],\"xaxis\":\"x\",\"y\":[59.712418300653596,59.7044776119403,60.07451564828614,60.91509433962264,59.24519940915805,58.94952681388013],\"yaxis\":\"y\",\"type\":\"bar\"}],                        {\"template\":{\"data\":{\"histogram2dcontour\":[{\"type\":\"histogram2dcontour\",\"colorbar\":{\"outlinewidth\":0,\"ticks\":\"\"},\"colorscale\":[[0.0,\"#0d0887\"],[0.1111111111111111,\"#46039f\"],[0.2222222222222222,\"#7201a8\"],[0.3333333333333333,\"#9c179e\"],[0.4444444444444444,\"#bd3786\"],[0.5555555555555556,\"#d8576b\"],[0.6666666666666666,\"#ed7953\"],[0.7777777777777778,\"#fb9f3a\"],[0.8888888888888888,\"#fdca26\"],[1.0,\"#f0f921\"]]}],\"choropleth\":[{\"type\":\"choropleth\",\"colorbar\":{\"outlinewidth\":0,\"ticks\":\"\"}}],\"histogram2d\":[{\"type\":\"histogram2d\",\"colorbar\":{\"outlinewidth\":0,\"ticks\":\"\"},\"colorscale\":[[0.0,\"#0d0887\"],[0.1111111111111111,\"#46039f\"],[0.2222222222222222,\"#7201a8\"],[0.3333333333333333,\"#9c179e\"],[0.4444444444444444,\"#bd3786\"],[0.5555555555555556,\"#d8576b\"],[0.6666666666666666,\"#ed7953\"],[0.7777777777777778,\"#fb9f3a\"],[0.8888888888888888,\"#fdca26\"],[1.0,\"#f0f921\"]]}],\"heatmap\":[{\"type\":\"heatmap\",\"colorbar\":{\"outlinewidth\":0,\"ticks\":\"\"},\"colorscale\":[[0.0,\"#0d0887\"],[0.1111111111111111,\"#46039f\"],[0.2222222222222222,\"#7201a8\"],[0.3333333333333333,\"#9c179e\"],[0.4444444444444444,\"#bd3786\"],[0.5555555555555556,\"#d8576b\"],[0.6666666666666666,\"#ed7953\"],[0.7777777777777778,\"#fb9f3a\"],[0.8888888888888888,\"#fdca26\"],[1.0,\"#f0f921\"]]}],\"heatmapgl\":[{\"type\":\"heatmapgl\",\"colorbar\":{\"outlinewidth\":0,\"ticks\":\"\"},\"colorscale\":[[0.0,\"#0d0887\"],[0.1111111111111111,\"#46039f\"],[0.2222222222222222,\"#7201a8\"],[0.3333333333333333,\"#9c179e\"],[0.4444444444444444,\"#bd3786\"],[0.5555555555555556,\"#d8576b\"],[0.6666666666666666,\"#ed7953\"],[0.7777777777777778,\"#fb9f3a\"],[0.8888888888888888,\"#fdca26\"],[1.0,\"#f0f921\"]]}],\"contourcarpet\":[{\"type\":\"contourcarpet\",\"colorbar\":{\"outlinewidth\":0,\"ticks\":\"\"}}],\"contour\":[{\"type\":\"contour\",\"colorbar\":{\"outlinewidth\":0,\"ticks\":\"\"},\"colorscale\":[[0.0,\"#0d0887\"],[0.1111111111111111,\"#46039f\"],[0.2222222222222222,\"#7201a8\"],[0.3333333333333333,\"#9c179e\"],[0.4444444444444444,\"#bd3786\"],[0.5555555555555556,\"#d8576b\"],[0.6666666666666666,\"#ed7953\"],[0.7777777777777778,\"#fb9f3a\"],[0.8888888888888888,\"#fdca26\"],[1.0,\"#f0f921\"]]}],\"surface\":[{\"type\":\"surface\",\"colorbar\":{\"outlinewidth\":0,\"ticks\":\"\"},\"colorscale\":[[0.0,\"#0d0887\"],[0.1111111111111111,\"#46039f\"],[0.2222222222222222,\"#7201a8\"],[0.3333333333333333,\"#9c179e\"],[0.4444444444444444,\"#bd3786\"],[0.5555555555555556,\"#d8576b\"],[0.6666666666666666,\"#ed7953\"],[0.7777777777777778,\"#fb9f3a\"],[0.8888888888888888,\"#fdca26\"],[1.0,\"#f0f921\"]]}],\"mesh3d\":[{\"type\":\"mesh3d\",\"colorbar\":{\"outlinewidth\":0,\"ticks\":\"\"}}],\"scatter\":[{\"fillpattern\":{\"fillmode\":\"overlay\",\"size\":10,\"solidity\":0.2},\"type\":\"scatter\"}],\"parcoords\":[{\"type\":\"parcoords\",\"line\":{\"colorbar\":{\"outlinewidth\":0,\"ticks\":\"\"}}}],\"scatterpolargl\":[{\"type\":\"scatterpolargl\",\"marker\":{\"colorbar\":{\"outlinewidth\":0,\"ticks\":\"\"}}}],\"bar\":[{\"error_x\":{\"color\":\"#2a3f5f\"},\"error_y\":{\"color\":\"#2a3f5f\"},\"marker\":{\"line\":{\"color\":\"#E5ECF6\",\"width\":0.5},\"pattern\":{\"fillmode\":\"overlay\",\"size\":10,\"solidity\":0.2}},\"type\":\"bar\"}],\"scattergeo\":[{\"type\":\"scattergeo\",\"marker\":{\"colorbar\":{\"outlinewidth\":0,\"ticks\":\"\"}}}],\"scatterpolar\":[{\"type\":\"scatterpolar\",\"marker\":{\"colorbar\":{\"outlinewidth\":0,\"ticks\":\"\"}}}],\"histogram\":[{\"marker\":{\"pattern\":{\"fillmode\":\"overlay\",\"size\":10,\"solidity\":0.2}},\"type\":\"histogram\"}],\"scattergl\":[{\"type\":\"scattergl\",\"marker\":{\"colorbar\":{\"outlinewidth\":0,\"ticks\":\"\"}}}],\"scatter3d\":[{\"type\":\"scatter3d\",\"line\":{\"colorbar\":{\"outlinewidth\":0,\"ticks\":\"\"}},\"marker\":{\"colorbar\":{\"outlinewidth\":0,\"ticks\":\"\"}}}],\"scattermapbox\":[{\"type\":\"scattermapbox\",\"marker\":{\"colorbar\":{\"outlinewidth\":0,\"ticks\":\"\"}}}],\"scatterternary\":[{\"type\":\"scatterternary\",\"marker\":{\"colorbar\":{\"outlinewidth\":0,\"ticks\":\"\"}}}],\"scattercarpet\":[{\"type\":\"scattercarpet\",\"marker\":{\"colorbar\":{\"outlinewidth\":0,\"ticks\":\"\"}}}],\"carpet\":[{\"aaxis\":{\"endlinecolor\":\"#2a3f5f\",\"gridcolor\":\"white\",\"linecolor\":\"white\",\"minorgridcolor\":\"white\",\"startlinecolor\":\"#2a3f5f\"},\"baxis\":{\"endlinecolor\":\"#2a3f5f\",\"gridcolor\":\"white\",\"linecolor\":\"white\",\"minorgridcolor\":\"white\",\"startlinecolor\":\"#2a3f5f\"},\"type\":\"carpet\"}],\"table\":[{\"cells\":{\"fill\":{\"color\":\"#EBF0F8\"},\"line\":{\"color\":\"white\"}},\"header\":{\"fill\":{\"color\":\"#C8D4E3\"},\"line\":{\"color\":\"white\"}},\"type\":\"table\"}],\"barpolar\":[{\"marker\":{\"line\":{\"color\":\"#E5ECF6\",\"width\":0.5},\"pattern\":{\"fillmode\":\"overlay\",\"size\":10,\"solidity\":0.2}},\"type\":\"barpolar\"}],\"pie\":[{\"automargin\":true,\"type\":\"pie\"}]},\"layout\":{\"autotypenumbers\":\"strict\",\"colorway\":[\"#636efa\",\"#EF553B\",\"#00cc96\",\"#ab63fa\",\"#FFA15A\",\"#19d3f3\",\"#FF6692\",\"#B6E880\",\"#FF97FF\",\"#FECB52\"],\"font\":{\"color\":\"#2a3f5f\"},\"hovermode\":\"closest\",\"hoverlabel\":{\"align\":\"left\"},\"paper_bgcolor\":\"white\",\"plot_bgcolor\":\"#E5ECF6\",\"polar\":{\"bgcolor\":\"#E5ECF6\",\"angularaxis\":{\"gridcolor\":\"white\",\"linecolor\":\"white\",\"ticks\":\"\"},\"radialaxis\":{\"gridcolor\":\"white\",\"linecolor\":\"white\",\"ticks\":\"\"}},\"ternary\":{\"bgcolor\":\"#E5ECF6\",\"aaxis\":{\"gridcolor\":\"white\",\"linecolor\":\"white\",\"ticks\":\"\"},\"baxis\":{\"gridcolor\":\"white\",\"linecolor\":\"white\",\"ticks\":\"\"},\"caxis\":{\"gridcolor\":\"white\",\"linecolor\":\"white\",\"ticks\":\"\"}},\"coloraxis\":{\"colorbar\":{\"outlinewidth\":0,\"ticks\":\"\"}},\"colorscale\":{\"sequential\":[[0.0,\"#0d0887\"],[0.1111111111111111,\"#46039f\"],[0.2222222222222222,\"#7201a8\"],[0.3333333333333333,\"#9c179e\"],[0.4444444444444444,\"#bd3786\"],[0.5555555555555556,\"#d8576b\"],[0.6666666666666666,\"#ed7953\"],[0.7777777777777778,\"#fb9f3a\"],[0.8888888888888888,\"#fdca26\"],[1.0,\"#f0f921\"]],\"sequentialminus\":[[0.0,\"#0d0887\"],[0.1111111111111111,\"#46039f\"],[0.2222222222222222,\"#7201a8\"],[0.3333333333333333,\"#9c179e\"],[0.4444444444444444,\"#bd3786\"],[0.5555555555555556,\"#d8576b\"],[0.6666666666666666,\"#ed7953\"],[0.7777777777777778,\"#fb9f3a\"],[0.8888888888888888,\"#fdca26\"],[1.0,\"#f0f921\"]],\"diverging\":[[0,\"#8e0152\"],[0.1,\"#c51b7d\"],[0.2,\"#de77ae\"],[0.3,\"#f1b6da\"],[0.4,\"#fde0ef\"],[0.5,\"#f7f7f7\"],[0.6,\"#e6f5d0\"],[0.7,\"#b8e186\"],[0.8,\"#7fbc41\"],[0.9,\"#4d9221\"],[1,\"#276419\"]]},\"xaxis\":{\"gridcolor\":\"white\",\"linecolor\":\"white\",\"ticks\":\"\",\"title\":{\"standoff\":15},\"zerolinecolor\":\"white\",\"automargin\":true,\"zerolinewidth\":2},\"yaxis\":{\"gridcolor\":\"white\",\"linecolor\":\"white\",\"ticks\":\"\",\"title\":{\"standoff\":15},\"zerolinecolor\":\"white\",\"automargin\":true,\"zerolinewidth\":2},\"scene\":{\"xaxis\":{\"backgroundcolor\":\"#E5ECF6\",\"gridcolor\":\"white\",\"linecolor\":\"white\",\"showbackground\":true,\"ticks\":\"\",\"zerolinecolor\":\"white\",\"gridwidth\":2},\"yaxis\":{\"backgroundcolor\":\"#E5ECF6\",\"gridcolor\":\"white\",\"linecolor\":\"white\",\"showbackground\":true,\"ticks\":\"\",\"zerolinecolor\":\"white\",\"gridwidth\":2},\"zaxis\":{\"backgroundcolor\":\"#E5ECF6\",\"gridcolor\":\"white\",\"linecolor\":\"white\",\"showbackground\":true,\"ticks\":\"\",\"zerolinecolor\":\"white\",\"gridwidth\":2}},\"shapedefaults\":{\"line\":{\"color\":\"#2a3f5f\"}},\"annotationdefaults\":{\"arrowcolor\":\"#2a3f5f\",\"arrowhead\":0,\"arrowwidth\":1},\"geo\":{\"bgcolor\":\"white\",\"landcolor\":\"#E5ECF6\",\"subunitcolor\":\"white\",\"showland\":true,\"showlakes\":true,\"lakecolor\":\"white\"},\"title\":{\"x\":0.05},\"mapbox\":{\"style\":\"light\"}}},\"xaxis\":{\"anchor\":\"y\",\"domain\":[0.0,1.0],\"title\":{\"text\":\"Payment Method\"}},\"yaxis\":{\"anchor\":\"x\",\"domain\":[0.0,1.0],\"title\":{\"text\":\"Purchase Amount (USD)\"}},\"legend\":{\"tracegroupgap\":0},\"margin\":{\"t\":60},\"barmode\":\"relative\"},                        {\"responsive\": true}                    ).then(function(){\n",
              "                            \n",
              "var gd = document.getElementById('7cfebbb0-ec84-4027-b3cf-660c5141d92e');\n",
              "var x = new MutationObserver(function (mutations, observer) {{\n",
              "        var display = window.getComputedStyle(gd).display;\n",
              "        if (!display || display === 'none') {{\n",
              "            console.log([gd, 'removed!']);\n",
              "            Plotly.purge(gd);\n",
              "            observer.disconnect();\n",
              "        }}\n",
              "}});\n",
              "\n",
              "// Listen for the removal of the full notebook cells\n",
              "var notebookContainer = gd.closest('#notebook-container');\n",
              "if (notebookContainer) {{\n",
              "    x.observe(notebookContainer, {childList: true});\n",
              "}}\n",
              "\n",
              "// Listen for the clearing of the current output cell\n",
              "var outputEl = gd.closest('.output');\n",
              "if (outputEl) {{\n",
              "    x.observe(outputEl, {childList: true});\n",
              "}}\n",
              "\n",
              "                        })                };                            </script>        </div>\n",
              "</body>\n",
              "</html>"
            ]
          },
          "metadata": {}
        }
      ],
      "source": [
        "fig = px.bar(shop_groupby , x = 'Payment Method' , y = 'Purchase Amount (USD)')\n",
        "fig.show()"
      ]
    },
    {
      "cell_type": "code",
      "execution_count": 47,
      "id": "a4fc1e99-996a-473f-a3b2-d4e48f29c299",
      "metadata": {
        "id": "a4fc1e99-996a-473f-a3b2-d4e48f29c299",
        "outputId": "df57c3fe-e940-4480-bbba-36cf63033b82",
        "colab": {
          "base_uri": "https://localhost:8080/",
          "height": 466
        }
      },
      "outputs": [
        {
          "output_type": "execute_result",
          "data": {
            "text/plain": [
              "<Axes: xlabel='Payment Method', ylabel='Purchase Amount (USD)'>"
            ]
          },
          "metadata": {},
          "execution_count": 47
        },
        {
          "output_type": "display_data",
          "data": {
            "text/plain": [
              "<Figure size 640x480 with 1 Axes>"
            ],
            "image/png": "[encoded data removed]"
          },
          "metadata": {}
        }
      ],
      "source": [
        "sns.barplot(shop ,x='Payment Method' , y = 'Purchase Amount (USD)')"
      ]
    },
    {
      "cell_type": "markdown",
      "id": "3fe09b80-bcba-4005-96ca-c12b735a6e12",
      "metadata": {
        "id": "3fe09b80-bcba-4005-96ca-c12b735a6e12"
      },
      "source": [
        "## 9 Do customers who use promo codes tend to spend more than those who don't?"
      ]
    },
    {
      "cell_type": "code",
      "execution_count": 48,
      "id": "d4091829-925b-45a6-bcab-9dac0e17653b",
      "metadata": {
        "id": "d4091829-925b-45a6-bcab-9dac0e17653b"
      },
      "outputs": [],
      "source": [
        "shop_groupby  = shop.groupby('Promo Code Used')['Purchase Amount (USD)'].sum().reset_index()"
      ]
    },
    {
      "cell_type": "code",
      "execution_count": 49,
      "id": "c6622e5d-d561-45ae-8638-7c2103be7030",
      "metadata": {
        "id": "c6622e5d-d561-45ae-8638-7c2103be7030",
        "outputId": "a7f1866e-3fb6-44fb-d9c6-8e66d3f48686",
        "colab": {
          "base_uri": "https://localhost:8080/",
          "height": 542
        }
      },
      "outputs": [
        {
          "output_type": "display_data",
          "data": {
            "text/html": [
              "<html>\n",
              "<head><meta charset=\"utf-8\" /></head>\n",
              "<body>\n",
              "    <div>            <script src=\"https://cdnjs.cloudflare.com/ajax/libs/mathjax/2.7.5/MathJax.js?config=TeX-AMS-MML_SVG\"></script><script type=\"text/javascript\">if (window.MathJax && window.MathJax.Hub && window.MathJax.Hub.Config) {window.MathJax.Hub.Config({SVG: {font: \"STIX-Web\"}});}</script>                <script type=\"text/javascript\">window.PlotlyConfig = {MathJaxConfig: 'local'};</script>\n",
              "        <script charset=\"utf-8\" src=\"https://cdn.plot.ly/plotly-2.35.2.min.js\"></script>                <div id=\"50dc8001-ee13-4a8c-9c07-60a9c58929dd\" class=\"plotly-graph-div\" style=\"height:525px; width:100%;\"></div>            <script type=\"text/javascript\">                                    window.PLOTLYENV=window.PLOTLYENV || {};                                    if (document.getElementById(\"50dc8001-ee13-4a8c-9c07-60a9c58929dd\")) {                    Plotly.newPlot(                        \"50dc8001-ee13-4a8c-9c07-60a9c58929dd\",                        [{\"branchvalues\":\"total\",\"domain\":{\"x\":[0.0,1.0],\"y\":[0.0,1.0]},\"hovertemplate\":\"labels=%{label}\\u003cbr\\u003ePurchase Amount (USD)=%{value}\\u003cbr\\u003eparent=%{parent}\\u003cbr\\u003eid=%{id}\\u003cextra\\u003e\\u003c\\u002fextra\\u003e\",\"ids\":[\"Female\\u002fNo\",\"Male\\u002fNo\",\"Male\\u002fYes\",\"Female\",\"Male\"],\"labels\":[\"No\",\"No\",\"Yes\",\"Female\",\"Male\"],\"name\":\"\",\"parents\":[\"Female\",\"Male\",\"Male\",\"\",\"\"],\"values\":[75191,58479,99411,75191,157890],\"type\":\"sunburst\"}],                        {\"template\":{\"data\":{\"histogram2dcontour\":[{\"type\":\"histogram2dcontour\",\"colorbar\":{\"outlinewidth\":0,\"ticks\":\"\"},\"colorscale\":[[0.0,\"#0d0887\"],[0.1111111111111111,\"#46039f\"],[0.2222222222222222,\"#7201a8\"],[0.3333333333333333,\"#9c179e\"],[0.4444444444444444,\"#bd3786\"],[0.5555555555555556,\"#d8576b\"],[0.6666666666666666,\"#ed7953\"],[0.7777777777777778,\"#fb9f3a\"],[0.8888888888888888,\"#fdca26\"],[1.0,\"#f0f921\"]]}],\"choropleth\":[{\"type\":\"choropleth\",\"colorbar\":{\"outlinewidth\":0,\"ticks\":\"\"}}],\"histogram2d\":[{\"type\":\"histogram2d\",\"colorbar\":{\"outlinewidth\":0,\"ticks\":\"\"},\"colorscale\":[[0.0,\"#0d0887\"],[0.1111111111111111,\"#46039f\"],[0.2222222222222222,\"#7201a8\"],[0.3333333333333333,\"#9c179e\"],[0.4444444444444444,\"#bd3786\"],[0.5555555555555556,\"#d8576b\"],[0.6666666666666666,\"#ed7953\"],[0.7777777777777778,\"#fb9f3a\"],[0.8888888888888888,\"#fdca26\"],[1.0,\"#f0f921\"]]}],\"heatmap\":[{\"type\":\"heatmap\",\"colorbar\":{\"outlinewidth\":0,\"ticks\":\"\"},\"colorscale\":[[0.0,\"#0d0887\"],[0.1111111111111111,\"#46039f\"],[0.2222222222222222,\"#7201a8\"],[0.3333333333333333,\"#9c179e\"],[0.4444444444444444,\"#bd3786\"],[0.5555555555555556,\"#d8576b\"],[0.6666666666666666,\"#ed7953\"],[0.7777777777777778,\"#fb9f3a\"],[0.8888888888888888,\"#fdca26\"],[1.0,\"#f0f921\"]]}],\"heatmapgl\":[{\"type\":\"heatmapgl\",\"colorbar\":{\"outlinewidth\":0,\"ticks\":\"\"},\"colorscale\":[[0.0,\"#0d0887\"],[0.1111111111111111,\"#46039f\"],[0.2222222222222222,\"#7201a8\"],[0.3333333333333333,\"#9c179e\"],[0.4444444444444444,\"#bd3786\"],[0.5555555555555556,\"#d8576b\"],[0.6666666666666666,\"#ed7953\"],[0.7777777777777778,\"#fb9f3a\"],[0.8888888888888888,\"#fdca26\"],[1.0,\"#f0f921\"]]}],\"contourcarpet\":[{\"type\":\"contourcarpet\",\"colorbar\":{\"outlinewidth\":0,\"ticks\":\"\"}}],\"contour\":[{\"type\":\"contour\",\"colorbar\":{\"outlinewidth\":0,\"ticks\":\"\"},\"colorscale\":[[0.0,\"#0d0887\"],[0.1111111111111111,\"#46039f\"],[0.2222222222222222,\"#7201a8\"],[0.3333333333333333,\"#9c179e\"],[0.4444444444444444,\"#bd3786\"],[0.5555555555555556,\"#d8576b\"],[0.6666666666666666,\"#ed7953\"],[0.7777777777777778,\"#fb9f3a\"],[0.8888888888888888,\"#fdca26\"],[1.0,\"#f0f921\"]]}],\"surface\":[{\"type\":\"surface\",\"colorbar\":{\"outlinewidth\":0,\"ticks\":\"\"},\"colorscale\":[[0.0,\"#0d0887\"],[0.1111111111111111,\"#46039f\"],[0.2222222222222222,\"#7201a8\"],[0.3333333333333333,\"#9c179e\"],[0.4444444444444444,\"#bd3786\"],[0.5555555555555556,\"#d8576b\"],[0.6666666666666666,\"#ed7953\"],[0.7777777777777778,\"#fb9f3a\"],[0.8888888888888888,\"#fdca26\"],[1.0,\"#f0f921\"]]}],\"mesh3d\":[{\"type\":\"mesh3d\",\"colorbar\":{\"outlinewidth\":0,\"ticks\":\"\"}}],\"scatter\":[{\"fillpattern\":{\"fillmode\":\"overlay\",\"size\":10,\"solidity\":0.2},\"type\":\"scatter\"}],\"parcoords\":[{\"type\":\"parcoords\",\"line\":{\"colorbar\":{\"outlinewidth\":0,\"ticks\":\"\"}}}],\"scatterpolargl\":[{\"type\":\"scatterpolargl\",\"marker\":{\"colorbar\":{\"outlinewidth\":0,\"ticks\":\"\"}}}],\"bar\":[{\"error_x\":{\"color\":\"#2a3f5f\"},\"error_y\":{\"color\":\"#2a3f5f\"},\"marker\":{\"line\":{\"color\":\"#E5ECF6\",\"width\":0.5},\"pattern\":{\"fillmode\":\"overlay\",\"size\":10,\"solidity\":0.2}},\"type\":\"bar\"}],\"scattergeo\":[{\"type\":\"scattergeo\",\"marker\":{\"colorbar\":{\"outlinewidth\":0,\"ticks\":\"\"}}}],\"scatterpolar\":[{\"type\":\"scatterpolar\",\"marker\":{\"colorbar\":{\"outlinewidth\":0,\"ticks\":\"\"}}}],\"histogram\":[{\"marker\":{\"pattern\":{\"fillmode\":\"overlay\",\"size\":10,\"solidity\":0.2}},\"type\":\"histogram\"}],\"scattergl\":[{\"type\":\"scattergl\",\"marker\":{\"colorbar\":{\"outlinewidth\":0,\"ticks\":\"\"}}}],\"scatter3d\":[{\"type\":\"scatter3d\",\"line\":{\"colorbar\":{\"outlinewidth\":0,\"ticks\":\"\"}},\"marker\":{\"colorbar\":{\"outlinewidth\":0,\"ticks\":\"\"}}}],\"scattermapbox\":[{\"type\":\"scattermapbox\",\"marker\":{\"colorbar\":{\"outlinewidth\":0,\"ticks\":\"\"}}}],\"scatterternary\":[{\"type\":\"scatterternary\",\"marker\":{\"colorbar\":{\"outlinewidth\":0,\"ticks\":\"\"}}}],\"scattercarpet\":[{\"type\":\"scattercarpet\",\"marker\":{\"colorbar\":{\"outlinewidth\":0,\"ticks\":\"\"}}}],\"carpet\":[{\"aaxis\":{\"endlinecolor\":\"#2a3f5f\",\"gridcolor\":\"white\",\"linecolor\":\"white\",\"minorgridcolor\":\"white\",\"startlinecolor\":\"#2a3f5f\"},\"baxis\":{\"endlinecolor\":\"#2a3f5f\",\"gridcolor\":\"white\",\"linecolor\":\"white\",\"minorgridcolor\":\"white\",\"startlinecolor\":\"#2a3f5f\"},\"type\":\"carpet\"}],\"table\":[{\"cells\":{\"fill\":{\"color\":\"#EBF0F8\"},\"line\":{\"color\":\"white\"}},\"header\":{\"fill\":{\"color\":\"#C8D4E3\"},\"line\":{\"color\":\"white\"}},\"type\":\"table\"}],\"barpolar\":[{\"marker\":{\"line\":{\"color\":\"#E5ECF6\",\"width\":0.5},\"pattern\":{\"fillmode\":\"overlay\",\"size\":10,\"solidity\":0.2}},\"type\":\"barpolar\"}],\"pie\":[{\"automargin\":true,\"type\":\"pie\"}]},\"layout\":{\"autotypenumbers\":\"strict\",\"colorway\":[\"#636efa\",\"#EF553B\",\"#00cc96\",\"#ab63fa\",\"#FFA15A\",\"#19d3f3\",\"#FF6692\",\"#B6E880\",\"#FF97FF\",\"#FECB52\"],\"font\":{\"color\":\"#2a3f5f\"},\"hovermode\":\"closest\",\"hoverlabel\":{\"align\":\"left\"},\"paper_bgcolor\":\"white\",\"plot_bgcolor\":\"#E5ECF6\",\"polar\":{\"bgcolor\":\"#E5ECF6\",\"angularaxis\":{\"gridcolor\":\"white\",\"linecolor\":\"white\",\"ticks\":\"\"},\"radialaxis\":{\"gridcolor\":\"white\",\"linecolor\":\"white\",\"ticks\":\"\"}},\"ternary\":{\"bgcolor\":\"#E5ECF6\",\"aaxis\":{\"gridcolor\":\"white\",\"linecolor\":\"white\",\"ticks\":\"\"},\"baxis\":{\"gridcolor\":\"white\",\"linecolor\":\"white\",\"ticks\":\"\"},\"caxis\":{\"gridcolor\":\"white\",\"linecolor\":\"white\",\"ticks\":\"\"}},\"coloraxis\":{\"colorbar\":{\"outlinewidth\":0,\"ticks\":\"\"}},\"colorscale\":{\"sequential\":[[0.0,\"#0d0887\"],[0.1111111111111111,\"#46039f\"],[0.2222222222222222,\"#7201a8\"],[0.3333333333333333,\"#9c179e\"],[0.4444444444444444,\"#bd3786\"],[0.5555555555555556,\"#d8576b\"],[0.6666666666666666,\"#ed7953\"],[0.7777777777777778,\"#fb9f3a\"],[0.8888888888888888,\"#fdca26\"],[1.0,\"#f0f921\"]],\"sequentialminus\":[[0.0,\"#0d0887\"],[0.1111111111111111,\"#46039f\"],[0.2222222222222222,\"#7201a8\"],[0.3333333333333333,\"#9c179e\"],[0.4444444444444444,\"#bd3786\"],[0.5555555555555556,\"#d8576b\"],[0.6666666666666666,\"#ed7953\"],[0.7777777777777778,\"#fb9f3a\"],[0.8888888888888888,\"#fdca26\"],[1.0,\"#f0f921\"]],\"diverging\":[[0,\"#8e0152\"],[0.1,\"#c51b7d\"],[0.2,\"#de77ae\"],[0.3,\"#f1b6da\"],[0.4,\"#fde0ef\"],[0.5,\"#f7f7f7\"],[0.6,\"#e6f5d0\"],[0.7,\"#b8e186\"],[0.8,\"#7fbc41\"],[0.9,\"#4d9221\"],[1,\"#276419\"]]},\"xaxis\":{\"gridcolor\":\"white\",\"linecolor\":\"white\",\"ticks\":\"\",\"title\":{\"standoff\":15},\"zerolinecolor\":\"white\",\"automargin\":true,\"zerolinewidth\":2},\"yaxis\":{\"gridcolor\":\"white\",\"linecolor\":\"white\",\"ticks\":\"\",\"title\":{\"standoff\":15},\"zerolinecolor\":\"white\",\"automargin\":true,\"zerolinewidth\":2},\"scene\":{\"xaxis\":{\"backgroundcolor\":\"#E5ECF6\",\"gridcolor\":\"white\",\"linecolor\":\"white\",\"showbackground\":true,\"ticks\":\"\",\"zerolinecolor\":\"white\",\"gridwidth\":2},\"yaxis\":{\"backgroundcolor\":\"#E5ECF6\",\"gridcolor\":\"white\",\"linecolor\":\"white\",\"showbackground\":true,\"ticks\":\"\",\"zerolinecolor\":\"white\",\"gridwidth\":2},\"zaxis\":{\"backgroundcolor\":\"#E5ECF6\",\"gridcolor\":\"white\",\"linecolor\":\"white\",\"showbackground\":true,\"ticks\":\"\",\"zerolinecolor\":\"white\",\"gridwidth\":2}},\"shapedefaults\":{\"line\":{\"color\":\"#2a3f5f\"}},\"annotationdefaults\":{\"arrowcolor\":\"#2a3f5f\",\"arrowhead\":0,\"arrowwidth\":1},\"geo\":{\"bgcolor\":\"white\",\"landcolor\":\"#E5ECF6\",\"subunitcolor\":\"white\",\"showland\":true,\"showlakes\":true,\"lakecolor\":\"white\"},\"title\":{\"x\":0.05},\"mapbox\":{\"style\":\"light\"}}},\"legend\":{\"tracegroupgap\":0},\"margin\":{\"t\":60}},                        {\"responsive\": true}                    ).then(function(){\n",
              "                            \n",
              "var gd = document.getElementById('50dc8001-ee13-4a8c-9c07-60a9c58929dd');\n",
              "var x = new MutationObserver(function (mutations, observer) {{\n",
              "        var display = window.getComputedStyle(gd).display;\n",
              "        if (!display || display === 'none') {{\n",
              "            console.log([gd, 'removed!']);\n",
              "            Plotly.purge(gd);\n",
              "            observer.disconnect();\n",
              "        }}\n",
              "}});\n",
              "\n",
              "// Listen for the removal of the full notebook cells\n",
              "var notebookContainer = gd.closest('#notebook-container');\n",
              "if (notebookContainer) {{\n",
              "    x.observe(notebookContainer, {childList: true});\n",
              "}}\n",
              "\n",
              "// Listen for the clearing of the current output cell\n",
              "var outputEl = gd.closest('.output');\n",
              "if (outputEl) {{\n",
              "    x.observe(outputEl, {childList: true});\n",
              "}}\n",
              "\n",
              "                        })                };                            </script>        </div>\n",
              "</body>\n",
              "</html>"
            ]
          },
          "metadata": {}
        }
      ],
      "source": [
        "fig = px.sunburst(shop , path=['Gender' , 'Promo Code Used'] , values='Purchase Amount (USD)')\n",
        "fig.show()"
      ]
    },
    {
      "cell_type": "code",
      "execution_count": 50,
      "id": "2d8b4900-6932-4040-bcf9-2bd7db8d7c34",
      "metadata": {
        "id": "2d8b4900-6932-4040-bcf9-2bd7db8d7c34",
        "outputId": "8612edf0-2eba-47c9-a479-216b743e0f1e",
        "colab": {
          "base_uri": "https://localhost:8080/",
          "height": 542
        }
      },
      "outputs": [
        {
          "output_type": "display_data",
          "data": {
            "text/html": [
              "<html>\n",
              "<head><meta charset=\"utf-8\" /></head>\n",
              "<body>\n",
              "    <div>            <script src=\"https://cdnjs.cloudflare.com/ajax/libs/mathjax/2.7.5/MathJax.js?config=TeX-AMS-MML_SVG\"></script><script type=\"text/javascript\">if (window.MathJax && window.MathJax.Hub && window.MathJax.Hub.Config) {window.MathJax.Hub.Config({SVG: {font: \"STIX-Web\"}});}</script>                <script type=\"text/javascript\">window.PlotlyConfig = {MathJaxConfig: 'local'};</script>\n",
              "        <script charset=\"utf-8\" src=\"https://cdn.plot.ly/plotly-2.35.2.min.js\"></script>                <div id=\"c4eed61f-3c52-422e-98c9-ab2d196b3800\" class=\"plotly-graph-div\" style=\"height:525px; width:100%;\"></div>            <script type=\"text/javascript\">                                    window.PLOTLYENV=window.PLOTLYENV || {};                                    if (document.getElementById(\"c4eed61f-3c52-422e-98c9-ab2d196b3800\")) {                    Plotly.newPlot(                        \"c4eed61f-3c52-422e-98c9-ab2d196b3800\",                        [{\"alignmentgroup\":\"True\",\"hovertemplate\":\"Promo Code Used=%{x}\\u003cbr\\u003ePurchase Amount (USD)=%{y}\\u003cextra\\u003e\\u003c\\u002fextra\\u003e\",\"legendgroup\":\"\",\"marker\":{\"color\":\"#636efa\",\"pattern\":{\"shape\":\"\"}},\"name\":\"\",\"offsetgroup\":\"\",\"orientation\":\"v\",\"showlegend\":false,\"textposition\":\"auto\",\"x\":[\"No\",\"Yes\"],\"xaxis\":\"x\",\"y\":[133670,99411],\"yaxis\":\"y\",\"type\":\"bar\"}],                        {\"template\":{\"data\":{\"histogram2dcontour\":[{\"type\":\"histogram2dcontour\",\"colorbar\":{\"outlinewidth\":0,\"ticks\":\"\"},\"colorscale\":[[0.0,\"#0d0887\"],[0.1111111111111111,\"#46039f\"],[0.2222222222222222,\"#7201a8\"],[0.3333333333333333,\"#9c179e\"],[0.4444444444444444,\"#bd3786\"],[0.5555555555555556,\"#d8576b\"],[0.6666666666666666,\"#ed7953\"],[0.7777777777777778,\"#fb9f3a\"],[0.8888888888888888,\"#fdca26\"],[1.0,\"#f0f921\"]]}],\"choropleth\":[{\"type\":\"choropleth\",\"colorbar\":{\"outlinewidth\":0,\"ticks\":\"\"}}],\"histogram2d\":[{\"type\":\"histogram2d\",\"colorbar\":{\"outlinewidth\":0,\"ticks\":\"\"},\"colorscale\":[[0.0,\"#0d0887\"],[0.1111111111111111,\"#46039f\"],[0.2222222222222222,\"#7201a8\"],[0.3333333333333333,\"#9c179e\"],[0.4444444444444444,\"#bd3786\"],[0.5555555555555556,\"#d8576b\"],[0.6666666666666666,\"#ed7953\"],[0.7777777777777778,\"#fb9f3a\"],[0.8888888888888888,\"#fdca26\"],[1.0,\"#f0f921\"]]}],\"heatmap\":[{\"type\":\"heatmap\",\"colorbar\":{\"outlinewidth\":0,\"ticks\":\"\"},\"colorscale\":[[0.0,\"#0d0887\"],[0.1111111111111111,\"#46039f\"],[0.2222222222222222,\"#7201a8\"],[0.3333333333333333,\"#9c179e\"],[0.4444444444444444,\"#bd3786\"],[0.5555555555555556,\"#d8576b\"],[0.6666666666666666,\"#ed7953\"],[0.7777777777777778,\"#fb9f3a\"],[0.8888888888888888,\"#fdca26\"],[1.0,\"#f0f921\"]]}],\"heatmapgl\":[{\"type\":\"heatmapgl\",\"colorbar\":{\"outlinewidth\":0,\"ticks\":\"\"},\"colorscale\":[[0.0,\"#0d0887\"],[0.1111111111111111,\"#46039f\"],[0.2222222222222222,\"#7201a8\"],[0.3333333333333333,\"#9c179e\"],[0.4444444444444444,\"#bd3786\"],[0.5555555555555556,\"#d8576b\"],[0.6666666666666666,\"#ed7953\"],[0.7777777777777778,\"#fb9f3a\"],[0.8888888888888888,\"#fdca26\"],[1.0,\"#f0f921\"]]}],\"contourcarpet\":[{\"type\":\"contourcarpet\",\"colorbar\":{\"outlinewidth\":0,\"ticks\":\"\"}}],\"contour\":[{\"type\":\"contour\",\"colorbar\":{\"outlinewidth\":0,\"ticks\":\"\"},\"colorscale\":[[0.0,\"#0d0887\"],[0.1111111111111111,\"#46039f\"],[0.2222222222222222,\"#7201a8\"],[0.3333333333333333,\"#9c179e\"],[0.4444444444444444,\"#bd3786\"],[0.5555555555555556,\"#d8576b\"],[0.6666666666666666,\"#ed7953\"],[0.7777777777777778,\"#fb9f3a\"],[0.8888888888888888,\"#fdca26\"],[1.0,\"#f0f921\"]]}],\"surface\":[{\"type\":\"surface\",\"colorbar\":{\"outlinewidth\":0,\"ticks\":\"\"},\"colorscale\":[[0.0,\"#0d0887\"],[0.1111111111111111,\"#46039f\"],[0.2222222222222222,\"#7201a8\"],[0.3333333333333333,\"#9c179e\"],[0.4444444444444444,\"#bd3786\"],[0.5555555555555556,\"#d8576b\"],[0.6666666666666666,\"#ed7953\"],[0.7777777777777778,\"#fb9f3a\"],[0.8888888888888888,\"#fdca26\"],[1.0,\"#f0f921\"]]}],\"mesh3d\":[{\"type\":\"mesh3d\",\"colorbar\":{\"outlinewidth\":0,\"ticks\":\"\"}}],\"scatter\":[{\"fillpattern\":{\"fillmode\":\"overlay\",\"size\":10,\"solidity\":0.2},\"type\":\"scatter\"}],\"parcoords\":[{\"type\":\"parcoords\",\"line\":{\"colorbar\":{\"outlinewidth\":0,\"ticks\":\"\"}}}],\"scatterpolargl\":[{\"type\":\"scatterpolargl\",\"marker\":{\"colorbar\":{\"outlinewidth\":0,\"ticks\":\"\"}}}],\"bar\":[{\"error_x\":{\"color\":\"#2a3f5f\"},\"error_y\":{\"color\":\"#2a3f5f\"},\"marker\":{\"line\":{\"color\":\"#E5ECF6\",\"width\":0.5},\"pattern\":{\"fillmode\":\"overlay\",\"size\":10,\"solidity\":0.2}},\"type\":\"bar\"}],\"scattergeo\":[{\"type\":\"scattergeo\",\"marker\":{\"colorbar\":{\"outlinewidth\":0,\"ticks\":\"\"}}}],\"scatterpolar\":[{\"type\":\"scatterpolar\",\"marker\":{\"colorbar\":{\"outlinewidth\":0,\"ticks\":\"\"}}}],\"histogram\":[{\"marker\":{\"pattern\":{\"fillmode\":\"overlay\",\"size\":10,\"solidity\":0.2}},\"type\":\"histogram\"}],\"scattergl\":[{\"type\":\"scattergl\",\"marker\":{\"colorbar\":{\"outlinewidth\":0,\"ticks\":\"\"}}}],\"scatter3d\":[{\"type\":\"scatter3d\",\"line\":{\"colorbar\":{\"outlinewidth\":0,\"ticks\":\"\"}},\"marker\":{\"colorbar\":{\"outlinewidth\":0,\"ticks\":\"\"}}}],\"scattermapbox\":[{\"type\":\"scattermapbox\",\"marker\":{\"colorbar\":{\"outlinewidth\":0,\"ticks\":\"\"}}}],\"scatterternary\":[{\"type\":\"scatterternary\",\"marker\":{\"colorbar\":{\"outlinewidth\":0,\"ticks\":\"\"}}}],\"scattercarpet\":[{\"type\":\"scattercarpet\",\"marker\":{\"colorbar\":{\"outlinewidth\":0,\"ticks\":\"\"}}}],\"carpet\":[{\"aaxis\":{\"endlinecolor\":\"#2a3f5f\",\"gridcolor\":\"white\",\"linecolor\":\"white\",\"minorgridcolor\":\"white\",\"startlinecolor\":\"#2a3f5f\"},\"baxis\":{\"endlinecolor\":\"#2a3f5f\",\"gridcolor\":\"white\",\"linecolor\":\"white\",\"minorgridcolor\":\"white\",\"startlinecolor\":\"#2a3f5f\"},\"type\":\"carpet\"}],\"table\":[{\"cells\":{\"fill\":{\"color\":\"#EBF0F8\"},\"line\":{\"color\":\"white\"}},\"header\":{\"fill\":{\"color\":\"#C8D4E3\"},\"line\":{\"color\":\"white\"}},\"type\":\"table\"}],\"barpolar\":[{\"marker\":{\"line\":{\"color\":\"#E5ECF6\",\"width\":0.5},\"pattern\":{\"fillmode\":\"overlay\",\"size\":10,\"solidity\":0.2}},\"type\":\"barpolar\"}],\"pie\":[{\"automargin\":true,\"type\":\"pie\"}]},\"layout\":{\"autotypenumbers\":\"strict\",\"colorway\":[\"#636efa\",\"#EF553B\",\"#00cc96\",\"#ab63fa\",\"#FFA15A\",\"#19d3f3\",\"#FF6692\",\"#B6E880\",\"#FF97FF\",\"#FECB52\"],\"font\":{\"color\":\"#2a3f5f\"},\"hovermode\":\"closest\",\"hoverlabel\":{\"align\":\"left\"},\"paper_bgcolor\":\"white\",\"plot_bgcolor\":\"#E5ECF6\",\"polar\":{\"bgcolor\":\"#E5ECF6\",\"angularaxis\":{\"gridcolor\":\"white\",\"linecolor\":\"white\",\"ticks\":\"\"},\"radialaxis\":{\"gridcolor\":\"white\",\"linecolor\":\"white\",\"ticks\":\"\"}},\"ternary\":{\"bgcolor\":\"#E5ECF6\",\"aaxis\":{\"gridcolor\":\"white\",\"linecolor\":\"white\",\"ticks\":\"\"},\"baxis\":{\"gridcolor\":\"white\",\"linecolor\":\"white\",\"ticks\":\"\"},\"caxis\":{\"gridcolor\":\"white\",\"linecolor\":\"white\",\"ticks\":\"\"}},\"coloraxis\":{\"colorbar\":{\"outlinewidth\":0,\"ticks\":\"\"}},\"colorscale\":{\"sequential\":[[0.0,\"#0d0887\"],[0.1111111111111111,\"#46039f\"],[0.2222222222222222,\"#7201a8\"],[0.3333333333333333,\"#9c179e\"],[0.4444444444444444,\"#bd3786\"],[0.5555555555555556,\"#d8576b\"],[0.6666666666666666,\"#ed7953\"],[0.7777777777777778,\"#fb9f3a\"],[0.8888888888888888,\"#fdca26\"],[1.0,\"#f0f921\"]],\"sequentialminus\":[[0.0,\"#0d0887\"],[0.1111111111111111,\"#46039f\"],[0.2222222222222222,\"#7201a8\"],[0.3333333333333333,\"#9c179e\"],[0.4444444444444444,\"#bd3786\"],[0.5555555555555556,\"#d8576b\"],[0.6666666666666666,\"#ed7953\"],[0.7777777777777778,\"#fb9f3a\"],[0.8888888888888888,\"#fdca26\"],[1.0,\"#f0f921\"]],\"diverging\":[[0,\"#8e0152\"],[0.1,\"#c51b7d\"],[0.2,\"#de77ae\"],[0.3,\"#f1b6da\"],[0.4,\"#fde0ef\"],[0.5,\"#f7f7f7\"],[0.6,\"#e6f5d0\"],[0.7,\"#b8e186\"],[0.8,\"#7fbc41\"],[0.9,\"#4d9221\"],[1,\"#276419\"]]},\"xaxis\":{\"gridcolor\":\"white\",\"linecolor\":\"white\",\"ticks\":\"\",\"title\":{\"standoff\":15},\"zerolinecolor\":\"white\",\"automargin\":true,\"zerolinewidth\":2},\"yaxis\":{\"gridcolor\":\"white\",\"linecolor\":\"white\",\"ticks\":\"\",\"title\":{\"standoff\":15},\"zerolinecolor\":\"white\",\"automargin\":true,\"zerolinewidth\":2},\"scene\":{\"xaxis\":{\"backgroundcolor\":\"#E5ECF6\",\"gridcolor\":\"white\",\"linecolor\":\"white\",\"showbackground\":true,\"ticks\":\"\",\"zerolinecolor\":\"white\",\"gridwidth\":2},\"yaxis\":{\"backgroundcolor\":\"#E5ECF6\",\"gridcolor\":\"white\",\"linecolor\":\"white\",\"showbackground\":true,\"ticks\":\"\",\"zerolinecolor\":\"white\",\"gridwidth\":2},\"zaxis\":{\"backgroundcolor\":\"#E5ECF6\",\"gridcolor\":\"white\",\"linecolor\":\"white\",\"showbackground\":true,\"ticks\":\"\",\"zerolinecolor\":\"white\",\"gridwidth\":2}},\"shapedefaults\":{\"line\":{\"color\":\"#2a3f5f\"}},\"annotationdefaults\":{\"arrowcolor\":\"#2a3f5f\",\"arrowhead\":0,\"arrowwidth\":1},\"geo\":{\"bgcolor\":\"white\",\"landcolor\":\"#E5ECF6\",\"subunitcolor\":\"white\",\"showland\":true,\"showlakes\":true,\"lakecolor\":\"white\"},\"title\":{\"x\":0.05},\"mapbox\":{\"style\":\"light\"}}},\"xaxis\":{\"anchor\":\"y\",\"domain\":[0.0,1.0],\"title\":{\"text\":\"Promo Code Used\"}},\"yaxis\":{\"anchor\":\"x\",\"domain\":[0.0,1.0],\"title\":{\"text\":\"Purchase Amount (USD)\"}},\"legend\":{\"tracegroupgap\":0},\"margin\":{\"t\":60},\"barmode\":\"relative\"},                        {\"responsive\": true}                    ).then(function(){\n",
              "                            \n",
              "var gd = document.getElementById('c4eed61f-3c52-422e-98c9-ab2d196b3800');\n",
              "var x = new MutationObserver(function (mutations, observer) {{\n",
              "        var display = window.getComputedStyle(gd).display;\n",
              "        if (!display || display === 'none') {{\n",
              "            console.log([gd, 'removed!']);\n",
              "            Plotly.purge(gd);\n",
              "            observer.disconnect();\n",
              "        }}\n",
              "}});\n",
              "\n",
              "// Listen for the removal of the full notebook cells\n",
              "var notebookContainer = gd.closest('#notebook-container');\n",
              "if (notebookContainer) {{\n",
              "    x.observe(notebookContainer, {childList: true});\n",
              "}}\n",
              "\n",
              "// Listen for the clearing of the current output cell\n",
              "var outputEl = gd.closest('.output');\n",
              "if (outputEl) {{\n",
              "    x.observe(outputEl, {childList: true});\n",
              "}}\n",
              "\n",
              "                        })                };                            </script>        </div>\n",
              "</body>\n",
              "</html>"
            ]
          },
          "metadata": {}
        }
      ],
      "source": [
        "fig  =  px.bar(shop_groupby , x= 'Promo Code Used' , y = 'Purchase Amount (USD)')\n",
        "fig.show()"
      ]
    },
    {
      "cell_type": "markdown",
      "id": "843e7921-345a-43ff-8cc5-27b663d571e3",
      "metadata": {
        "id": "843e7921-345a-43ff-8cc5-27b663d571e3"
      },
      "source": [
        "## 10 How does the frequency of purchases vary across different age groups?"
      ]
    },
    {
      "cell_type": "code",
      "execution_count": 51,
      "id": "464a8815-a0fb-469c-a514-2e66eb803cc6",
      "metadata": {
        "id": "464a8815-a0fb-469c-a514-2e66eb803cc6",
        "outputId": "f91fc007-7a5a-4e51-9052-a1fba2d74b4f",
        "colab": {
          "base_uri": "https://localhost:8080/",
          "height": 424
        }
      },
      "outputs": [
        {
          "output_type": "execute_result",
          "data": {
            "text/plain": [
              "      Age        Age_category\n",
              "0      55                 old\n",
              "1      19        Young Adults\n",
              "2      50  Middle-Aged Adults\n",
              "3      21        Young Adults\n",
              "4      45  Middle-Aged Adults\n",
              "...   ...                 ...\n",
              "3895   40  Middle-Aged Adults\n",
              "3896   52                 old\n",
              "3897   46  Middle-Aged Adults\n",
              "3898   44  Middle-Aged Adults\n",
              "3899   52                 old\n",
              "\n",
              "[3900 rows x 2 columns]"
            ],
            "text/html": [
              "\n",
              "  <div id=\"df-f9191b43-82ac-4eb6-ade1-cef2942ae1cb\" class=\"colab-df-container\">\n",
              "    <div>\n",
              "<style scoped>\n",
              "    .dataframe tbody tr th:only-of-type {\n",
              "        vertical-align: middle;\n",
              "    }\n",
              "\n",
              "    .dataframe tbody tr th {\n",
              "        vertical-align: top;\n",
              "    }\n",
              "\n",
              "    .dataframe thead th {\n",
              "        text-align: right;\n",
              "    }\n",
              "</style>\n",
              "<table border=\"1\" class=\"dataframe\">\n",
              "  <thead>\n",
              "    <tr style=\"text-align: right;\">\n",
              "      <th></th>\n",
              "      <th>Age</th>\n",
              "      <th>Age_category</th>\n",
              "    </tr>\n",
              "  </thead>\n",
              "  <tbody>\n",
              "    <tr>\n",
              "      <th>0</th>\n",
              "      <td>55</td>\n",
              "      <td>old</td>\n",
              "    </tr>\n",
              "    <tr>\n",
              "      <th>1</th>\n",
              "      <td>19</td>\n",
              "      <td>Young Adults</td>\n",
              "    </tr>\n",
              "    <tr>\n",
              "      <th>2</th>\n",
              "      <td>50</td>\n",
              "      <td>Middle-Aged Adults</td>\n",
              "    </tr>\n",
              "    <tr>\n",
              "      <th>3</th>\n",
              "      <td>21</td>\n",
              "      <td>Young Adults</td>\n",
              "    </tr>\n",
              "    <tr>\n",
              "      <th>4</th>\n",
              "      <td>45</td>\n",
              "      <td>Middle-Aged Adults</td>\n",
              "    </tr>\n",
              "    <tr>\n",
              "      <th>...</th>\n",
              "      <td>...</td>\n",
              "      <td>...</td>\n",
              "    </tr>\n",
              "    <tr>\n",
              "      <th>3895</th>\n",
              "      <td>40</td>\n",
              "      <td>Middle-Aged Adults</td>\n",
              "    </tr>\n",
              "    <tr>\n",
              "      <th>3896</th>\n",
              "      <td>52</td>\n",
              "      <td>old</td>\n",
              "    </tr>\n",
              "    <tr>\n",
              "      <th>3897</th>\n",
              "      <td>46</td>\n",
              "      <td>Middle-Aged Adults</td>\n",
              "    </tr>\n",
              "    <tr>\n",
              "      <th>3898</th>\n",
              "      <td>44</td>\n",
              "      <td>Middle-Aged Adults</td>\n",
              "    </tr>\n",
              "    <tr>\n",
              "      <th>3899</th>\n",
              "      <td>52</td>\n",
              "      <td>old</td>\n",
              "    </tr>\n",
              "  </tbody>\n",
              "</table>\n",
              "<p>3900 rows × 2 columns</p>\n",
              "</div>\n",
              "    <div class=\"colab-df-buttons\">\n",
              "\n",
              "  <div class=\"colab-df-container\">\n",
              "    <button class=\"colab-df-convert\" onclick=\"convertToInteractive('df-f9191b43-82ac-4eb6-ade1-cef2942ae1cb')\"\n",
              "            title=\"Convert this dataframe to an interactive table.\"\n",
              "            style=\"display:none;\">\n",
              "\n",
              "  <svg xmlns=\"http://www.w3.org/2000/svg\" height=\"24px\" viewBox=\"0 -960 960 960\">\n",
              "    <path d=\"M120-120v-720h720v720H120Zm60-500h600v-160H180v160Zm220 220h160v-160H400v160Zm0 220h160v-160H400v160ZM180-400h160v-160H180v160Zm440 0h160v-160H620v160ZM180-180h160v-160H180v160Zm440 0h160v-160H620v160Z\"/>\n",
              "  </svg>\n",
              "    </button>\n",
              "\n",
              "  <style>\n",
              "    .colab-df-container {\n",
              "      display:flex;\n",
              "      gap: 12px;\n",
              "    }\n",
              "\n",
              "    .colab-df-convert {\n",
              "      background-color: #E8F0FE;\n",
              "      border: none;\n",
              "      border-radius: 50%;\n",
              "      cursor: pointer;\n",
              "      display: none;\n",
              "      fill: #1967D2;\n",
              "      height: 32px;\n",
              "      padding: 0 0 0 0;\n",
              "      width: 32px;\n",
              "    }\n",
              "\n",
              "    .colab-df-convert:hover {\n",
              "      background-color: #E2EBFA;\n",
              "      box-shadow: 0px 1px 2px rgba(60, 64, 67, 0.3), 0px 1px 3px 1px rgba(60, 64, 67, 0.15);\n",
              "      fill: #174EA6;\n",
              "    }\n",
              "\n",
              "    .colab-df-buttons div {\n",
              "      margin-bottom: 4px;\n",
              "    }\n",
              "\n",
              "    [theme=dark] .colab-df-convert {\n",
              "      background-color: #3B4455;\n",
              "      fill: #D2E3FC;\n",
              "    }\n",
              "\n",
              "    [theme=dark] .colab-df-convert:hover {\n",
              "      background-color: #434B5C;\n",
              "      box-shadow: 0px 1px 3px 1px rgba(0, 0, 0, 0.15);\n",
              "      filter: drop-shadow(0px 1px 2px rgba(0, 0, 0, 0.3));\n",
              "      fill: #FFFFFF;\n",
              "    }\n",
              "  </style>\n",
              "\n",
              "    <script>\n",
              "      const buttonEl =\n",
              "        document.querySelector('#df-f9191b43-82ac-4eb6-ade1-cef2942ae1cb button.colab-df-convert');\n",
              "      buttonEl.style.display =\n",
              "        google.colab.kernel.accessAllowed ? 'block' : 'none';\n",
              "\n",
              "      async function convertToInteractive(key) {\n",
              "        const element = document.querySelector('#df-f9191b43-82ac-4eb6-ade1-cef2942ae1cb');\n",
              "        const dataTable =\n",
              "          await google.colab.kernel.invokeFunction('convertToInteractive',\n",
              "                                                    [key], {});\n",
              "        if (!dataTable) return;\n",
              "\n",
              "        const docLinkHtml = 'Like what you see? Visit the ' +\n",
              "          '<a target=\"_blank\" href=https://colab.research.google.com/notebooks/data_table.ipynb>data table notebook</a>'\n",
              "          + ' to learn more about interactive tables.';\n",
              "        element.innerHTML = '';\n",
              "        dataTable['output_type'] = 'display_data';\n",
              "        await google.colab.output.renderOutput(dataTable, element);\n",
              "        const docLink = document.createElement('div');\n",
              "        docLink.innerHTML = docLinkHtml;\n",
              "        element.appendChild(docLink);\n",
              "      }\n",
              "    </script>\n",
              "  </div>\n",
              "\n",
              "\n",
              "<div id=\"df-bbcb78a9-3676-40e3-bd6d-df93dd28338c\">\n",
              "  <button class=\"colab-df-quickchart\" onclick=\"quickchart('df-bbcb78a9-3676-40e3-bd6d-df93dd28338c')\"\n",
              "            title=\"Suggest charts\"\n",
              "            style=\"display:none;\">\n",
              "\n",
              "<svg xmlns=\"http://www.w3.org/2000/svg\" height=\"24px\"viewBox=\"0 0 24 24\"\n",
              "     width=\"24px\">\n",
              "    <g>\n",
              "        <path d=\"M19 3H5c-1.1 0-2 .9-2 2v14c0 1.1.9 2 2 2h14c1.1 0 2-.9 2-2V5c0-1.1-.9-2-2-2zM9 17H7v-7h2v7zm4 0h-2V7h2v10zm4 0h-2v-4h2v4z\"/>\n",
              "    </g>\n",
              "</svg>\n",
              "  </button>\n",
              "\n",
              "<style>\n",
              "  .colab-df-quickchart {\n",
              "      --bg-color: #E8F0FE;\n",
              "      --fill-color: #1967D2;\n",
              "      --hover-bg-color: #E2EBFA;\n",
              "      --hover-fill-color: #174EA6;\n",
              "      --disabled-fill-color: #AAA;\n",
              "      --disabled-bg-color: #DDD;\n",
              "  }\n",
              "\n",
              "  [theme=dark] .colab-df-quickchart {\n",
              "      --bg-color: #3B4455;\n",
              "      --fill-color: #D2E3FC;\n",
              "      --hover-bg-color: #434B5C;\n",
              "      --hover-fill-color: #FFFFFF;\n",
              "      --disabled-bg-color: #3B4455;\n",
              "      --disabled-fill-color: #666;\n",
              "  }\n",
              "\n",
              "  .colab-df-quickchart {\n",
              "    background-color: var(--bg-color);\n",
              "    border: none;\n",
              "    border-radius: 50%;\n",
              "    cursor: pointer;\n",
              "    display: none;\n",
              "    fill: var(--fill-color);\n",
              "    height: 32px;\n",
              "    padding: 0;\n",
              "    width: 32px;\n",
              "  }\n",
              "\n",
              "  .colab-df-quickchart:hover {\n",
              "    background-color: var(--hover-bg-color);\n",
              "    box-shadow: 0 1px 2px rgba(60, 64, 67, 0.3), 0 1px 3px 1px rgba(60, 64, 67, 0.15);\n",
              "    fill: var(--button-hover-fill-color);\n",
              "  }\n",
              "\n",
              "  .colab-df-quickchart-complete:disabled,\n",
              "  .colab-df-quickchart-complete:disabled:hover {\n",
              "    background-color: var(--disabled-bg-color);\n",
              "    fill: var(--disabled-fill-color);\n",
              "    box-shadow: none;\n",
              "  }\n",
              "\n",
              "  .colab-df-spinner {\n",
              "    border: 2px solid var(--fill-color);\n",
              "    border-color: transparent;\n",
              "    border-bottom-color: var(--fill-color);\n",
              "    animation:\n",
              "      spin 1s steps(1) infinite;\n",
              "  }\n",
              "\n",
              "  @keyframes spin {\n",
              "    0% {\n",
              "      border-color: transparent;\n",
              "      border-bottom-color: var(--fill-color);\n",
              "      border-left-color: var(--fill-color);\n",
              "    }\n",
              "    20% {\n",
              "      border-color: transparent;\n",
              "      border-left-color: var(--fill-color);\n",
              "      border-top-color: var(--fill-color);\n",
              "    }\n",
              "    30% {\n",
              "      border-color: transparent;\n",
              "      border-left-color: var(--fill-color);\n",
              "      border-top-color: var(--fill-color);\n",
              "      border-right-color: var(--fill-color);\n",
              "    }\n",
              "    40% {\n",
              "      border-color: transparent;\n",
              "      border-right-color: var(--fill-color);\n",
              "      border-top-color: var(--fill-color);\n",
              "    }\n",
              "    60% {\n",
              "      border-color: transparent;\n",
              "      border-right-color: var(--fill-color);\n",
              "    }\n",
              "    80% {\n",
              "      border-color: transparent;\n",
              "      border-right-color: var(--fill-color);\n",
              "      border-bottom-color: var(--fill-color);\n",
              "    }\n",
              "    90% {\n",
              "      border-color: transparent;\n",
              "      border-bottom-color: var(--fill-color);\n",
              "    }\n",
              "  }\n",
              "</style>\n",
              "\n",
              "  <script>\n",
              "    async function quickchart(key) {\n",
              "      const quickchartButtonEl =\n",
              "        document.querySelector('#' + key + ' button');\n",
              "      quickchartButtonEl.disabled = true;  // To prevent multiple clicks.\n",
              "      quickchartButtonEl.classList.add('colab-df-spinner');\n",
              "      try {\n",
              "        const charts = await google.colab.kernel.invokeFunction(\n",
              "            'suggestCharts', [key], {});\n",
              "      } catch (error) {\n",
              "        console.error('Error during call to suggestCharts:', error);\n",
              "      }\n",
              "      quickchartButtonEl.classList.remove('colab-df-spinner');\n",
              "      quickchartButtonEl.classList.add('colab-df-quickchart-complete');\n",
              "    }\n",
              "    (() => {\n",
              "      let quickchartButtonEl =\n",
              "        document.querySelector('#df-bbcb78a9-3676-40e3-bd6d-df93dd28338c button');\n",
              "      quickchartButtonEl.style.display =\n",
              "        google.colab.kernel.accessAllowed ? 'block' : 'none';\n",
              "    })();\n",
              "  </script>\n",
              "</div>\n",
              "\n",
              "    </div>\n",
              "  </div>\n"
            ],
            "application/vnd.google.colaboratory.intrinsic+json": {
              "type": "dataframe",
              "summary": "{\n  \"name\": \"shop[['Age' , 'Age_category']]\",\n  \"rows\": 3900,\n  \"fields\": [\n    {\n      \"column\": \"Age\",\n      \"properties\": {\n        \"dtype\": \"number\",\n        \"std\": 15,\n        \"min\": 18,\n        \"max\": 70,\n        \"num_unique_values\": 53,\n        \"samples\": [\n          56,\n          24,\n          51\n        ],\n        \"semantic_type\": \"\",\n        \"description\": \"\"\n      }\n    },\n    {\n      \"column\": \"Age_category\",\n      \"properties\": {\n        \"dtype\": \"category\",\n        \"num_unique_values\": 4,\n        \"samples\": [\n          \"Young Adults\",\n          \"teen\",\n          \"old\"\n        ],\n        \"semantic_type\": \"\",\n        \"description\": \"\"\n      }\n    }\n  ]\n}"
            }
          },
          "metadata": {},
          "execution_count": 51
        }
      ],
      "source": [
        "shop[['Age' , 'Age_category']]"
      ]
    },
    {
      "cell_type": "code",
      "execution_count": 52,
      "id": "fb8f8552-0645-4388-9a41-5d55af9f9e2b",
      "metadata": {
        "id": "fb8f8552-0645-4388-9a41-5d55af9f9e2b",
        "outputId": "3498c8e8-f510-45af-8de5-a9ca6eaa0857",
        "colab": {
          "base_uri": "https://localhost:8080/"
        }
      },
      "outputs": [
        {
          "output_type": "execute_result",
          "data": {
            "text/plain": [
              "['old', 'Young Adults', 'Middle-Aged Adults', 'teen']\n",
              "Categories (5, object): ['child' < 'teen' < 'Young Adults' < 'Middle-Aged Adults' < 'old']"
            ]
          },
          "metadata": {},
          "execution_count": 52
        }
      ],
      "source": [
        "shop['Age_category'].unique()"
      ]
    },
    {
      "cell_type": "code",
      "execution_count": 53,
      "id": "da345838-6cb8-4b31-934a-c383187fd817",
      "metadata": {
        "id": "da345838-6cb8-4b31-934a-c383187fd817"
      },
      "outputs": [],
      "source": [
        "shop_group = shop.groupby('Frequency of Purchases')['Age'].sum()"
      ]
    },
    {
      "cell_type": "code",
      "execution_count": 54,
      "id": "4b57b9e9-c8e8-4dc0-a1fd-459f8602c9b7",
      "metadata": {
        "id": "4b57b9e9-c8e8-4dc0-a1fd-459f8602c9b7",
        "outputId": "8ea8dae4-0f2c-4535-a14a-9b8636f3c04f",
        "colab": {
          "base_uri": "https://localhost:8080/",
          "height": 631
        }
      },
      "outputs": [
        {
          "output_type": "stream",
          "name": "stderr",
          "text": [
            "/usr/local/lib/python3.11/dist-packages/plotly/express/_core.py:1727: FutureWarning:\n",
            "\n",
            "The default of observed=False is deprecated and will be changed to True in a future version of pandas. Pass observed=False to retain current behavior or observed=True to adopt the future default and silence this warning.\n",
            "\n"
          ]
        },
        {
          "output_type": "display_data",
          "data": {
            "text/html": [
              "<html>\n",
              "<head><meta charset=\"utf-8\" /></head>\n",
              "<body>\n",
              "    <div>            <script src=\"https://cdnjs.cloudflare.com/ajax/libs/mathjax/2.7.5/MathJax.js?config=TeX-AMS-MML_SVG\"></script><script type=\"text/javascript\">if (window.MathJax && window.MathJax.Hub && window.MathJax.Hub.Config) {window.MathJax.Hub.Config({SVG: {font: \"STIX-Web\"}});}</script>                <script type=\"text/javascript\">window.PlotlyConfig = {MathJaxConfig: 'local'};</script>\n",
              "        <script charset=\"utf-8\" src=\"https://cdn.plot.ly/plotly-2.35.2.min.js\"></script>                <div id=\"b1893c16-a91c-4a33-8cf1-19860534849a\" class=\"plotly-graph-div\" style=\"height:525px; width:100%;\"></div>            <script type=\"text/javascript\">                                    window.PLOTLYENV=window.PLOTLYENV || {};                                    if (document.getElementById(\"b1893c16-a91c-4a33-8cf1-19860534849a\")) {                    Plotly.newPlot(                        \"b1893c16-a91c-4a33-8cf1-19860534849a\",                        [{\"branchvalues\":\"total\",\"domain\":{\"x\":[0.0,1.0],\"y\":[0.0,1.0]},\"hovertemplate\":\"labels=%{label}\\u003cbr\\u003eAge=%{value}\\u003cbr\\u003eparent=%{parent}\\u003cbr\\u003eid=%{id}\\u003cextra\\u003e\\u003c\\u002fextra\\u003e\",\"ids\":[\"Annually\\u002fchild\",\"Bi-Weekly\\u002fchild\",\"Every 3 Months\\u002fchild\",\"Fortnightly\\u002fchild\",\"Monthly\\u002fchild\",\"Quarterly\\u002fchild\",\"Weekly\\u002fchild\",\"Annually\\u002fteen\",\"Bi-Weekly\\u002fteen\",\"Every 3 Months\\u002fteen\",\"Fortnightly\\u002fteen\",\"Monthly\\u002fteen\",\"Quarterly\\u002fteen\",\"Weekly\\u002fteen\",\"Annually\\u002fYoung Adults\",\"Bi-Weekly\\u002fYoung Adults\",\"Every 3 Months\\u002fYoung Adults\",\"Fortnightly\\u002fYoung Adults\",\"Monthly\\u002fYoung Adults\",\"Quarterly\\u002fYoung Adults\",\"Weekly\\u002fYoung Adults\",\"Annually\\u002fMiddle-Aged Adults\",\"Bi-Weekly\\u002fMiddle-Aged Adults\",\"Every 3 Months\\u002fMiddle-Aged Adults\",\"Fortnightly\\u002fMiddle-Aged Adults\",\"Monthly\\u002fMiddle-Aged Adults\",\"Quarterly\\u002fMiddle-Aged Adults\",\"Weekly\\u002fMiddle-Aged Adults\",\"Annually\\u002fold\",\"Bi-Weekly\\u002fold\",\"Every 3 Months\\u002fold\",\"Fortnightly\\u002fold\",\"Monthly\\u002fold\",\"Quarterly\\u002fold\",\"Weekly\\u002fold\",\"Annually\",\"Bi-Weekly\",\"Every 3 Months\",\"Fortnightly\",\"Monthly\",\"Quarterly\",\"Weekly\"],\"labels\":[\"child\",\"child\",\"child\",\"child\",\"child\",\"child\",\"child\",\"teen\",\"teen\",\"teen\",\"teen\",\"teen\",\"teen\",\"teen\",\"Young Adults\",\"Young Adults\",\"Young Adults\",\"Young Adults\",\"Young Adults\",\"Young Adults\",\"Young Adults\",\"Middle-Aged Adults\",\"Middle-Aged Adults\",\"Middle-Aged Adults\",\"Middle-Aged Adults\",\"Middle-Aged Adults\",\"Middle-Aged Adults\",\"Middle-Aged Adults\",\"old\",\"old\",\"old\",\"old\",\"old\",\"old\",\"old\",\"Annually\",\"Bi-Weekly\",\"Every 3 Months\",\"Fortnightly\",\"Monthly\",\"Quarterly\",\"Weekly\"],\"name\":\"\",\"parents\":[\"Annually\",\"Bi-Weekly\",\"Every 3 Months\",\"Fortnightly\",\"Monthly\",\"Quarterly\",\"Weekly\",\"Annually\",\"Bi-Weekly\",\"Every 3 Months\",\"Fortnightly\",\"Monthly\",\"Quarterly\",\"Weekly\",\"Annually\",\"Bi-Weekly\",\"Every 3 Months\",\"Fortnightly\",\"Monthly\",\"Quarterly\",\"Weekly\",\"Annually\",\"Bi-Weekly\",\"Every 3 Months\",\"Fortnightly\",\"Monthly\",\"Quarterly\",\"Weekly\",\"Annually\",\"Bi-Weekly\",\"Every 3 Months\",\"Fortnightly\",\"Monthly\",\"Quarterly\",\"Weekly\",\"\",\"\",\"\",\"\",\"\",\"\",\"\"],\"values\":[0,0,0,0,0,0,0,180,180,216,180,126,198,162,2679,3709,3235,3110,2873,3365,2680,8712,7802,9343,8468,9106,7652,8736,13978,11940,12556,11866,12384,13943,12488,25549,23631,25350,23624,24489,25158,24066],\"type\":\"sunburst\"}],                        {\"template\":{\"data\":{\"histogram2dcontour\":[{\"type\":\"histogram2dcontour\",\"colorbar\":{\"outlinewidth\":0,\"ticks\":\"\"},\"colorscale\":[[0.0,\"#0d0887\"],[0.1111111111111111,\"#46039f\"],[0.2222222222222222,\"#7201a8\"],[0.3333333333333333,\"#9c179e\"],[0.4444444444444444,\"#bd3786\"],[0.5555555555555556,\"#d8576b\"],[0.6666666666666666,\"#ed7953\"],[0.7777777777777778,\"#fb9f3a\"],[0.8888888888888888,\"#fdca26\"],[1.0,\"#f0f921\"]]}],\"choropleth\":[{\"type\":\"choropleth\",\"colorbar\":{\"outlinewidth\":0,\"ticks\":\"\"}}],\"histogram2d\":[{\"type\":\"histogram2d\",\"colorbar\":{\"outlinewidth\":0,\"ticks\":\"\"},\"colorscale\":[[0.0,\"#0d0887\"],[0.1111111111111111,\"#46039f\"],[0.2222222222222222,\"#7201a8\"],[0.3333333333333333,\"#9c179e\"],[0.4444444444444444,\"#bd3786\"],[0.5555555555555556,\"#d8576b\"],[0.6666666666666666,\"#ed7953\"],[0.7777777777777778,\"#fb9f3a\"],[0.8888888888888888,\"#fdca26\"],[1.0,\"#f0f921\"]]}],\"heatmap\":[{\"type\":\"heatmap\",\"colorbar\":{\"outlinewidth\":0,\"ticks\":\"\"},\"colorscale\":[[0.0,\"#0d0887\"],[0.1111111111111111,\"#46039f\"],[0.2222222222222222,\"#7201a8\"],[0.3333333333333333,\"#9c179e\"],[0.4444444444444444,\"#bd3786\"],[0.5555555555555556,\"#d8576b\"],[0.6666666666666666,\"#ed7953\"],[0.7777777777777778,\"#fb9f3a\"],[0.8888888888888888,\"#fdca26\"],[1.0,\"#f0f921\"]]}],\"heatmapgl\":[{\"type\":\"heatmapgl\",\"colorbar\":{\"outlinewidth\":0,\"ticks\":\"\"},\"colorscale\":[[0.0,\"#0d0887\"],[0.1111111111111111,\"#46039f\"],[0.2222222222222222,\"#7201a8\"],[0.3333333333333333,\"#9c179e\"],[0.4444444444444444,\"#bd3786\"],[0.5555555555555556,\"#d8576b\"],[0.6666666666666666,\"#ed7953\"],[0.7777777777777778,\"#fb9f3a\"],[0.8888888888888888,\"#fdca26\"],[1.0,\"#f0f921\"]]}],\"contourcarpet\":[{\"type\":\"contourcarpet\",\"colorbar\":{\"outlinewidth\":0,\"ticks\":\"\"}}],\"contour\":[{\"type\":\"contour\",\"colorbar\":{\"outlinewidth\":0,\"ticks\":\"\"},\"colorscale\":[[0.0,\"#0d0887\"],[0.1111111111111111,\"#46039f\"],[0.2222222222222222,\"#7201a8\"],[0.3333333333333333,\"#9c179e\"],[0.4444444444444444,\"#bd3786\"],[0.5555555555555556,\"#d8576b\"],[0.6666666666666666,\"#ed7953\"],[0.7777777777777778,\"#fb9f3a\"],[0.8888888888888888,\"#fdca26\"],[1.0,\"#f0f921\"]]}],\"surface\":[{\"type\":\"surface\",\"colorbar\":{\"outlinewidth\":0,\"ticks\":\"\"},\"colorscale\":[[0.0,\"#0d0887\"],[0.1111111111111111,\"#46039f\"],[0.2222222222222222,\"#7201a8\"],[0.3333333333333333,\"#9c179e\"],[0.4444444444444444,\"#bd3786\"],[0.5555555555555556,\"#d8576b\"],[0.6666666666666666,\"#ed7953\"],[0.7777777777777778,\"#fb9f3a\"],[0.8888888888888888,\"#fdca26\"],[1.0,\"#f0f921\"]]}],\"mesh3d\":[{\"type\":\"mesh3d\",\"colorbar\":{\"outlinewidth\":0,\"ticks\":\"\"}}],\"scatter\":[{\"fillpattern\":{\"fillmode\":\"overlay\",\"size\":10,\"solidity\":0.2},\"type\":\"scatter\"}],\"parcoords\":[{\"type\":\"parcoords\",\"line\":{\"colorbar\":{\"outlinewidth\":0,\"ticks\":\"\"}}}],\"scatterpolargl\":[{\"type\":\"scatterpolargl\",\"marker\":{\"colorbar\":{\"outlinewidth\":0,\"ticks\":\"\"}}}],\"bar\":[{\"error_x\":{\"color\":\"#2a3f5f\"},\"error_y\":{\"color\":\"#2a3f5f\"},\"marker\":{\"line\":{\"color\":\"#E5ECF6\",\"width\":0.5},\"pattern\":{\"fillmode\":\"overlay\",\"size\":10,\"solidity\":0.2}},\"type\":\"bar\"}],\"scattergeo\":[{\"type\":\"scattergeo\",\"marker\":{\"colorbar\":{\"outlinewidth\":0,\"ticks\":\"\"}}}],\"scatterpolar\":[{\"type\":\"scatterpolar\",\"marker\":{\"colorbar\":{\"outlinewidth\":0,\"ticks\":\"\"}}}],\"histogram\":[{\"marker\":{\"pattern\":{\"fillmode\":\"overlay\",\"size\":10,\"solidity\":0.2}},\"type\":\"histogram\"}],\"scattergl\":[{\"type\":\"scattergl\",\"marker\":{\"colorbar\":{\"outlinewidth\":0,\"ticks\":\"\"}}}],\"scatter3d\":[{\"type\":\"scatter3d\",\"line\":{\"colorbar\":{\"outlinewidth\":0,\"ticks\":\"\"}},\"marker\":{\"colorbar\":{\"outlinewidth\":0,\"ticks\":\"\"}}}],\"scattermapbox\":[{\"type\":\"scattermapbox\",\"marker\":{\"colorbar\":{\"outlinewidth\":0,\"ticks\":\"\"}}}],\"scatterternary\":[{\"type\":\"scatterternary\",\"marker\":{\"colorbar\":{\"outlinewidth\":0,\"ticks\":\"\"}}}],\"scattercarpet\":[{\"type\":\"scattercarpet\",\"marker\":{\"colorbar\":{\"outlinewidth\":0,\"ticks\":\"\"}}}],\"carpet\":[{\"aaxis\":{\"endlinecolor\":\"#2a3f5f\",\"gridcolor\":\"white\",\"linecolor\":\"white\",\"minorgridcolor\":\"white\",\"startlinecolor\":\"#2a3f5f\"},\"baxis\":{\"endlinecolor\":\"#2a3f5f\",\"gridcolor\":\"white\",\"linecolor\":\"white\",\"minorgridcolor\":\"white\",\"startlinecolor\":\"#2a3f5f\"},\"type\":\"carpet\"}],\"table\":[{\"cells\":{\"fill\":{\"color\":\"#EBF0F8\"},\"line\":{\"color\":\"white\"}},\"header\":{\"fill\":{\"color\":\"#C8D4E3\"},\"line\":{\"color\":\"white\"}},\"type\":\"table\"}],\"barpolar\":[{\"marker\":{\"line\":{\"color\":\"#E5ECF6\",\"width\":0.5},\"pattern\":{\"fillmode\":\"overlay\",\"size\":10,\"solidity\":0.2}},\"type\":\"barpolar\"}],\"pie\":[{\"automargin\":true,\"type\":\"pie\"}]},\"layout\":{\"autotypenumbers\":\"strict\",\"colorway\":[\"#636efa\",\"#EF553B\",\"#00cc96\",\"#ab63fa\",\"#FFA15A\",\"#19d3f3\",\"#FF6692\",\"#B6E880\",\"#FF97FF\",\"#FECB52\"],\"font\":{\"color\":\"#2a3f5f\"},\"hovermode\":\"closest\",\"hoverlabel\":{\"align\":\"left\"},\"paper_bgcolor\":\"white\",\"plot_bgcolor\":\"#E5ECF6\",\"polar\":{\"bgcolor\":\"#E5ECF6\",\"angularaxis\":{\"gridcolor\":\"white\",\"linecolor\":\"white\",\"ticks\":\"\"},\"radialaxis\":{\"gridcolor\":\"white\",\"linecolor\":\"white\",\"ticks\":\"\"}},\"ternary\":{\"bgcolor\":\"#E5ECF6\",\"aaxis\":{\"gridcolor\":\"white\",\"linecolor\":\"white\",\"ticks\":\"\"},\"baxis\":{\"gridcolor\":\"white\",\"linecolor\":\"white\",\"ticks\":\"\"},\"caxis\":{\"gridcolor\":\"white\",\"linecolor\":\"white\",\"ticks\":\"\"}},\"coloraxis\":{\"colorbar\":{\"outlinewidth\":0,\"ticks\":\"\"}},\"colorscale\":{\"sequential\":[[0.0,\"#0d0887\"],[0.1111111111111111,\"#46039f\"],[0.2222222222222222,\"#7201a8\"],[0.3333333333333333,\"#9c179e\"],[0.4444444444444444,\"#bd3786\"],[0.5555555555555556,\"#d8576b\"],[0.6666666666666666,\"#ed7953\"],[0.7777777777777778,\"#fb9f3a\"],[0.8888888888888888,\"#fdca26\"],[1.0,\"#f0f921\"]],\"sequentialminus\":[[0.0,\"#0d0887\"],[0.1111111111111111,\"#46039f\"],[0.2222222222222222,\"#7201a8\"],[0.3333333333333333,\"#9c179e\"],[0.4444444444444444,\"#bd3786\"],[0.5555555555555556,\"#d8576b\"],[0.6666666666666666,\"#ed7953\"],[0.7777777777777778,\"#fb9f3a\"],[0.8888888888888888,\"#fdca26\"],[1.0,\"#f0f921\"]],\"diverging\":[[0,\"#8e0152\"],[0.1,\"#c51b7d\"],[0.2,\"#de77ae\"],[0.3,\"#f1b6da\"],[0.4,\"#fde0ef\"],[0.5,\"#f7f7f7\"],[0.6,\"#e6f5d0\"],[0.7,\"#b8e186\"],[0.8,\"#7fbc41\"],[0.9,\"#4d9221\"],[1,\"#276419\"]]},\"xaxis\":{\"gridcolor\":\"white\",\"linecolor\":\"white\",\"ticks\":\"\",\"title\":{\"standoff\":15},\"zerolinecolor\":\"white\",\"automargin\":true,\"zerolinewidth\":2},\"yaxis\":{\"gridcolor\":\"white\",\"linecolor\":\"white\",\"ticks\":\"\",\"title\":{\"standoff\":15},\"zerolinecolor\":\"white\",\"automargin\":true,\"zerolinewidth\":2},\"scene\":{\"xaxis\":{\"backgroundcolor\":\"#E5ECF6\",\"gridcolor\":\"white\",\"linecolor\":\"white\",\"showbackground\":true,\"ticks\":\"\",\"zerolinecolor\":\"white\",\"gridwidth\":2},\"yaxis\":{\"backgroundcolor\":\"#E5ECF6\",\"gridcolor\":\"white\",\"linecolor\":\"white\",\"showbackground\":true,\"ticks\":\"\",\"zerolinecolor\":\"white\",\"gridwidth\":2},\"zaxis\":{\"backgroundcolor\":\"#E5ECF6\",\"gridcolor\":\"white\",\"linecolor\":\"white\",\"showbackground\":true,\"ticks\":\"\",\"zerolinecolor\":\"white\",\"gridwidth\":2}},\"shapedefaults\":{\"line\":{\"color\":\"#2a3f5f\"}},\"annotationdefaults\":{\"arrowcolor\":\"#2a3f5f\",\"arrowhead\":0,\"arrowwidth\":1},\"geo\":{\"bgcolor\":\"white\",\"landcolor\":\"#E5ECF6\",\"subunitcolor\":\"white\",\"showland\":true,\"showlakes\":true,\"lakecolor\":\"white\"},\"title\":{\"x\":0.05},\"mapbox\":{\"style\":\"light\"}}},\"legend\":{\"tracegroupgap\":0},\"margin\":{\"t\":60}},                        {\"responsive\": true}                    ).then(function(){\n",
              "                            \n",
              "var gd = document.getElementById('b1893c16-a91c-4a33-8cf1-19860534849a');\n",
              "var x = new MutationObserver(function (mutations, observer) {{\n",
              "        var display = window.getComputedStyle(gd).display;\n",
              "        if (!display || display === 'none') {{\n",
              "            console.log([gd, 'removed!']);\n",
              "            Plotly.purge(gd);\n",
              "            observer.disconnect();\n",
              "        }}\n",
              "}});\n",
              "\n",
              "// Listen for the removal of the full notebook cells\n",
              "var notebookContainer = gd.closest('#notebook-container');\n",
              "if (notebookContainer) {{\n",
              "    x.observe(notebookContainer, {childList: true});\n",
              "}}\n",
              "\n",
              "// Listen for the clearing of the current output cell\n",
              "var outputEl = gd.closest('.output');\n",
              "if (outputEl) {{\n",
              "    x.observe(outputEl, {childList: true});\n",
              "}}\n",
              "\n",
              "                        })                };                            </script>        </div>\n",
              "</body>\n",
              "</html>"
            ]
          },
          "metadata": {}
        }
      ],
      "source": [
        "px.sunburst(shop , path=['Frequency of Purchases','Age_category'] , values='Age')"
      ]
    },
    {
      "cell_type": "markdown",
      "id": "f3bf2047-439b-4c05-b2d1-559bdec27d1f",
      "metadata": {
        "id": "f3bf2047-439b-4c05-b2d1-559bdec27d1f"
      },
      "source": [
        "## 11 Are there any correlations between the size of the product and the purchase amount?"
      ]
    },
    {
      "cell_type": "code",
      "execution_count": 55,
      "id": "6462feac-bc50-4a4b-9dda-6186fd46dbb9",
      "metadata": {
        "id": "6462feac-bc50-4a4b-9dda-6186fd46dbb9",
        "outputId": "4925689b-a041-46c4-a994-326ede2fcfef",
        "colab": {
          "base_uri": "https://localhost:8080/"
        }
      },
      "outputs": [
        {
          "output_type": "execute_result",
          "data": {
            "text/plain": [
              "Index(['Customer ID', 'Age', 'Gender', 'Item Purchased', 'Category',\n",
              "       'Purchase Amount (USD)', 'Location', 'Size', 'Color', 'Season',\n",
              "       'Review Rating', 'Subscription Status', 'Shipping Type',\n",
              "       'Discount Applied', 'Promo Code Used', 'Previous Purchases',\n",
              "       'Payment Method', 'Frequency of Purchases', 'Age_category'],\n",
              "      dtype='object')"
            ]
          },
          "metadata": {},
          "execution_count": 55
        }
      ],
      "source": [
        "shop.columns"
      ]
    },
    {
      "cell_type": "code",
      "execution_count": 56,
      "id": "12411267-76c3-4553-93af-9b09f094f68c",
      "metadata": {
        "id": "12411267-76c3-4553-93af-9b09f094f68c"
      },
      "outputs": [],
      "source": [
        "shop_group = shop.groupby('Size')['Purchase Amount (USD)'].sum().reset_index()"
      ]
    },
    {
      "cell_type": "code",
      "execution_count": 57,
      "id": "73e280fa-7ffc-4967-8414-2cbaa9b8e48e",
      "metadata": {
        "id": "73e280fa-7ffc-4967-8414-2cbaa9b8e48e",
        "outputId": "9b23e6c7-2835-4696-f040-c90fa1d023dd",
        "colab": {
          "base_uri": "https://localhost:8080/",
          "height": 542
        }
      },
      "outputs": [
        {
          "output_type": "display_data",
          "data": {
            "text/html": [
              "<html>\n",
              "<head><meta charset=\"utf-8\" /></head>\n",
              "<body>\n",
              "    <div>            <script src=\"https://cdnjs.cloudflare.com/ajax/libs/mathjax/2.7.5/MathJax.js?config=TeX-AMS-MML_SVG\"></script><script type=\"text/javascript\">if (window.MathJax && window.MathJax.Hub && window.MathJax.Hub.Config) {window.MathJax.Hub.Config({SVG: {font: \"STIX-Web\"}});}</script>                <script type=\"text/javascript\">window.PlotlyConfig = {MathJaxConfig: 'local'};</script>\n",
              "        <script charset=\"utf-8\" src=\"https://cdn.plot.ly/plotly-2.35.2.min.js\"></script>                <div id=\"452a08c4-75ae-42f8-9dd8-04eea899f419\" class=\"plotly-graph-div\" style=\"height:525px; width:100%;\"></div>            <script type=\"text/javascript\">                                    window.PLOTLYENV=window.PLOTLYENV || {};                                    if (document.getElementById(\"452a08c4-75ae-42f8-9dd8-04eea899f419\")) {                    Plotly.newPlot(                        \"452a08c4-75ae-42f8-9dd8-04eea899f419\",                        [{\"alignmentgroup\":\"True\",\"hovertemplate\":\"Size=%{x}\\u003cbr\\u003ePurchase Amount (USD)=%{y}\\u003cextra\\u003e\\u003c\\u002fextra\\u003e\",\"legendgroup\":\"\",\"marker\":{\"color\":\"#636efa\",\"pattern\":{\"shape\":\"\"}},\"name\":\"\",\"offsetgroup\":\"\",\"orientation\":\"v\",\"showlegend\":false,\"textposition\":\"auto\",\"x\":[\"L\",\"M\",\"S\",\"XL\"],\"xaxis\":\"x\",\"y\":[61667,105167,40468,25779],\"yaxis\":\"y\",\"type\":\"bar\"}],                        {\"template\":{\"data\":{\"histogram2dcontour\":[{\"type\":\"histogram2dcontour\",\"colorbar\":{\"outlinewidth\":0,\"ticks\":\"\"},\"colorscale\":[[0.0,\"#0d0887\"],[0.1111111111111111,\"#46039f\"],[0.2222222222222222,\"#7201a8\"],[0.3333333333333333,\"#9c179e\"],[0.4444444444444444,\"#bd3786\"],[0.5555555555555556,\"#d8576b\"],[0.6666666666666666,\"#ed7953\"],[0.7777777777777778,\"#fb9f3a\"],[0.8888888888888888,\"#fdca26\"],[1.0,\"#f0f921\"]]}],\"choropleth\":[{\"type\":\"choropleth\",\"colorbar\":{\"outlinewidth\":0,\"ticks\":\"\"}}],\"histogram2d\":[{\"type\":\"histogram2d\",\"colorbar\":{\"outlinewidth\":0,\"ticks\":\"\"},\"colorscale\":[[0.0,\"#0d0887\"],[0.1111111111111111,\"#46039f\"],[0.2222222222222222,\"#7201a8\"],[0.3333333333333333,\"#9c179e\"],[0.4444444444444444,\"#bd3786\"],[0.5555555555555556,\"#d8576b\"],[0.6666666666666666,\"#ed7953\"],[0.7777777777777778,\"#fb9f3a\"],[0.8888888888888888,\"#fdca26\"],[1.0,\"#f0f921\"]]}],\"heatmap\":[{\"type\":\"heatmap\",\"colorbar\":{\"outlinewidth\":0,\"ticks\":\"\"},\"colorscale\":[[0.0,\"#0d0887\"],[0.1111111111111111,\"#46039f\"],[0.2222222222222222,\"#7201a8\"],[0.3333333333333333,\"#9c179e\"],[0.4444444444444444,\"#bd3786\"],[0.5555555555555556,\"#d8576b\"],[0.6666666666666666,\"#ed7953\"],[0.7777777777777778,\"#fb9f3a\"],[0.8888888888888888,\"#fdca26\"],[1.0,\"#f0f921\"]]}],\"heatmapgl\":[{\"type\":\"heatmapgl\",\"colorbar\":{\"outlinewidth\":0,\"ticks\":\"\"},\"colorscale\":[[0.0,\"#0d0887\"],[0.1111111111111111,\"#46039f\"],[0.2222222222222222,\"#7201a8\"],[0.3333333333333333,\"#9c179e\"],[0.4444444444444444,\"#bd3786\"],[0.5555555555555556,\"#d8576b\"],[0.6666666666666666,\"#ed7953\"],[0.7777777777777778,\"#fb9f3a\"],[0.8888888888888888,\"#fdca26\"],[1.0,\"#f0f921\"]]}],\"contourcarpet\":[{\"type\":\"contourcarpet\",\"colorbar\":{\"outlinewidth\":0,\"ticks\":\"\"}}],\"contour\":[{\"type\":\"contour\",\"colorbar\":{\"outlinewidth\":0,\"ticks\":\"\"},\"colorscale\":[[0.0,\"#0d0887\"],[0.1111111111111111,\"#46039f\"],[0.2222222222222222,\"#7201a8\"],[0.3333333333333333,\"#9c179e\"],[0.4444444444444444,\"#bd3786\"],[0.5555555555555556,\"#d8576b\"],[0.6666666666666666,\"#ed7953\"],[0.7777777777777778,\"#fb9f3a\"],[0.8888888888888888,\"#fdca26\"],[1.0,\"#f0f921\"]]}],\"surface\":[{\"type\":\"surface\",\"colorbar\":{\"outlinewidth\":0,\"ticks\":\"\"},\"colorscale\":[[0.0,\"#0d0887\"],[0.1111111111111111,\"#46039f\"],[0.2222222222222222,\"#7201a8\"],[0.3333333333333333,\"#9c179e\"],[0.4444444444444444,\"#bd3786\"],[0.5555555555555556,\"#d8576b\"],[0.6666666666666666,\"#ed7953\"],[0.7777777777777778,\"#fb9f3a\"],[0.8888888888888888,\"#fdca26\"],[1.0,\"#f0f921\"]]}],\"mesh3d\":[{\"type\":\"mesh3d\",\"colorbar\":{\"outlinewidth\":0,\"ticks\":\"\"}}],\"scatter\":[{\"fillpattern\":{\"fillmode\":\"overlay\",\"size\":10,\"solidity\":0.2},\"type\":\"scatter\"}],\"parcoords\":[{\"type\":\"parcoords\",\"line\":{\"colorbar\":{\"outlinewidth\":0,\"ticks\":\"\"}}}],\"scatterpolargl\":[{\"type\":\"scatterpolargl\",\"marker\":{\"colorbar\":{\"outlinewidth\":0,\"ticks\":\"\"}}}],\"bar\":[{\"error_x\":{\"color\":\"#2a3f5f\"},\"error_y\":{\"color\":\"#2a3f5f\"},\"marker\":{\"line\":{\"color\":\"#E5ECF6\",\"width\":0.5},\"pattern\":{\"fillmode\":\"overlay\",\"size\":10,\"solidity\":0.2}},\"type\":\"bar\"}],\"scattergeo\":[{\"type\":\"scattergeo\",\"marker\":{\"colorbar\":{\"outlinewidth\":0,\"ticks\":\"\"}}}],\"scatterpolar\":[{\"type\":\"scatterpolar\",\"marker\":{\"colorbar\":{\"outlinewidth\":0,\"ticks\":\"\"}}}],\"histogram\":[{\"marker\":{\"pattern\":{\"fillmode\":\"overlay\",\"size\":10,\"solidity\":0.2}},\"type\":\"histogram\"}],\"scattergl\":[{\"type\":\"scattergl\",\"marker\":{\"colorbar\":{\"outlinewidth\":0,\"ticks\":\"\"}}}],\"scatter3d\":[{\"type\":\"scatter3d\",\"line\":{\"colorbar\":{\"outlinewidth\":0,\"ticks\":\"\"}},\"marker\":{\"colorbar\":{\"outlinewidth\":0,\"ticks\":\"\"}}}],\"scattermapbox\":[{\"type\":\"scattermapbox\",\"marker\":{\"colorbar\":{\"outlinewidth\":0,\"ticks\":\"\"}}}],\"scatterternary\":[{\"type\":\"scatterternary\",\"marker\":{\"colorbar\":{\"outlinewidth\":0,\"ticks\":\"\"}}}],\"scattercarpet\":[{\"type\":\"scattercarpet\",\"marker\":{\"colorbar\":{\"outlinewidth\":0,\"ticks\":\"\"}}}],\"carpet\":[{\"aaxis\":{\"endlinecolor\":\"#2a3f5f\",\"gridcolor\":\"white\",\"linecolor\":\"white\",\"minorgridcolor\":\"white\",\"startlinecolor\":\"#2a3f5f\"},\"baxis\":{\"endlinecolor\":\"#2a3f5f\",\"gridcolor\":\"white\",\"linecolor\":\"white\",\"minorgridcolor\":\"white\",\"startlinecolor\":\"#2a3f5f\"},\"type\":\"carpet\"}],\"table\":[{\"cells\":{\"fill\":{\"color\":\"#EBF0F8\"},\"line\":{\"color\":\"white\"}},\"header\":{\"fill\":{\"color\":\"#C8D4E3\"},\"line\":{\"color\":\"white\"}},\"type\":\"table\"}],\"barpolar\":[{\"marker\":{\"line\":{\"color\":\"#E5ECF6\",\"width\":0.5},\"pattern\":{\"fillmode\":\"overlay\",\"size\":10,\"solidity\":0.2}},\"type\":\"barpolar\"}],\"pie\":[{\"automargin\":true,\"type\":\"pie\"}]},\"layout\":{\"autotypenumbers\":\"strict\",\"colorway\":[\"#636efa\",\"#EF553B\",\"#00cc96\",\"#ab63fa\",\"#FFA15A\",\"#19d3f3\",\"#FF6692\",\"#B6E880\",\"#FF97FF\",\"#FECB52\"],\"font\":{\"color\":\"#2a3f5f\"},\"hovermode\":\"closest\",\"hoverlabel\":{\"align\":\"left\"},\"paper_bgcolor\":\"white\",\"plot_bgcolor\":\"#E5ECF6\",\"polar\":{\"bgcolor\":\"#E5ECF6\",\"angularaxis\":{\"gridcolor\":\"white\",\"linecolor\":\"white\",\"ticks\":\"\"},\"radialaxis\":{\"gridcolor\":\"white\",\"linecolor\":\"white\",\"ticks\":\"\"}},\"ternary\":{\"bgcolor\":\"#E5ECF6\",\"aaxis\":{\"gridcolor\":\"white\",\"linecolor\":\"white\",\"ticks\":\"\"},\"baxis\":{\"gridcolor\":\"white\",\"linecolor\":\"white\",\"ticks\":\"\"},\"caxis\":{\"gridcolor\":\"white\",\"linecolor\":\"white\",\"ticks\":\"\"}},\"coloraxis\":{\"colorbar\":{\"outlinewidth\":0,\"ticks\":\"\"}},\"colorscale\":{\"sequential\":[[0.0,\"#0d0887\"],[0.1111111111111111,\"#46039f\"],[0.2222222222222222,\"#7201a8\"],[0.3333333333333333,\"#9c179e\"],[0.4444444444444444,\"#bd3786\"],[0.5555555555555556,\"#d8576b\"],[0.6666666666666666,\"#ed7953\"],[0.7777777777777778,\"#fb9f3a\"],[0.8888888888888888,\"#fdca26\"],[1.0,\"#f0f921\"]],\"sequentialminus\":[[0.0,\"#0d0887\"],[0.1111111111111111,\"#46039f\"],[0.2222222222222222,\"#7201a8\"],[0.3333333333333333,\"#9c179e\"],[0.4444444444444444,\"#bd3786\"],[0.5555555555555556,\"#d8576b\"],[0.6666666666666666,\"#ed7953\"],[0.7777777777777778,\"#fb9f3a\"],[0.8888888888888888,\"#fdca26\"],[1.0,\"#f0f921\"]],\"diverging\":[[0,\"#8e0152\"],[0.1,\"#c51b7d\"],[0.2,\"#de77ae\"],[0.3,\"#f1b6da\"],[0.4,\"#fde0ef\"],[0.5,\"#f7f7f7\"],[0.6,\"#e6f5d0\"],[0.7,\"#b8e186\"],[0.8,\"#7fbc41\"],[0.9,\"#4d9221\"],[1,\"#276419\"]]},\"xaxis\":{\"gridcolor\":\"white\",\"linecolor\":\"white\",\"ticks\":\"\",\"title\":{\"standoff\":15},\"zerolinecolor\":\"white\",\"automargin\":true,\"zerolinewidth\":2},\"yaxis\":{\"gridcolor\":\"white\",\"linecolor\":\"white\",\"ticks\":\"\",\"title\":{\"standoff\":15},\"zerolinecolor\":\"white\",\"automargin\":true,\"zerolinewidth\":2},\"scene\":{\"xaxis\":{\"backgroundcolor\":\"#E5ECF6\",\"gridcolor\":\"white\",\"linecolor\":\"white\",\"showbackground\":true,\"ticks\":\"\",\"zerolinecolor\":\"white\",\"gridwidth\":2},\"yaxis\":{\"backgroundcolor\":\"#E5ECF6\",\"gridcolor\":\"white\",\"linecolor\":\"white\",\"showbackground\":true,\"ticks\":\"\",\"zerolinecolor\":\"white\",\"gridwidth\":2},\"zaxis\":{\"backgroundcolor\":\"#E5ECF6\",\"gridcolor\":\"white\",\"linecolor\":\"white\",\"showbackground\":true,\"ticks\":\"\",\"zerolinecolor\":\"white\",\"gridwidth\":2}},\"shapedefaults\":{\"line\":{\"color\":\"#2a3f5f\"}},\"annotationdefaults\":{\"arrowcolor\":\"#2a3f5f\",\"arrowhead\":0,\"arrowwidth\":1},\"geo\":{\"bgcolor\":\"white\",\"landcolor\":\"#E5ECF6\",\"subunitcolor\":\"white\",\"showland\":true,\"showlakes\":true,\"lakecolor\":\"white\"},\"title\":{\"x\":0.05},\"mapbox\":{\"style\":\"light\"}}},\"xaxis\":{\"anchor\":\"y\",\"domain\":[0.0,1.0],\"title\":{\"text\":\"Size\"}},\"yaxis\":{\"anchor\":\"x\",\"domain\":[0.0,1.0],\"title\":{\"text\":\"Purchase Amount (USD)\"}},\"legend\":{\"tracegroupgap\":0},\"margin\":{\"t\":60},\"barmode\":\"relative\"},                        {\"responsive\": true}                    ).then(function(){\n",
              "                            \n",
              "var gd = document.getElementById('452a08c4-75ae-42f8-9dd8-04eea899f419');\n",
              "var x = new MutationObserver(function (mutations, observer) {{\n",
              "        var display = window.getComputedStyle(gd).display;\n",
              "        if (!display || display === 'none') {{\n",
              "            console.log([gd, 'removed!']);\n",
              "            Plotly.purge(gd);\n",
              "            observer.disconnect();\n",
              "        }}\n",
              "}});\n",
              "\n",
              "// Listen for the removal of the full notebook cells\n",
              "var notebookContainer = gd.closest('#notebook-container');\n",
              "if (notebookContainer) {{\n",
              "    x.observe(notebookContainer, {childList: true});\n",
              "}}\n",
              "\n",
              "// Listen for the clearing of the current output cell\n",
              "var outputEl = gd.closest('.output');\n",
              "if (outputEl) {{\n",
              "    x.observe(outputEl, {childList: true});\n",
              "}}\n",
              "\n",
              "                        })                };                            </script>        </div>\n",
              "</body>\n",
              "</html>"
            ]
          },
          "metadata": {}
        }
      ],
      "source": [
        "fig  = px.bar(shop_group , x = 'Size' , y ='Purchase Amount (USD)'  )\n",
        "fig.show()"
      ]
    },
    {
      "cell_type": "markdown",
      "id": "1f94f0b5-7bc9-4fd0-8f44-7c3f4d771ee3",
      "metadata": {
        "id": "1f94f0b5-7bc9-4fd0-8f44-7c3f4d771ee3"
      },
      "source": [
        "## 12 Which shipping type is preferred by customers for different product categories?"
      ]
    },
    {
      "cell_type": "code",
      "execution_count": 58,
      "id": "808075d1-1618-4f89-b8f7-88fb50197f51",
      "metadata": {
        "id": "808075d1-1618-4f89-b8f7-88fb50197f51",
        "outputId": "71858990-cad6-4495-a3c2-8c338e073a0e",
        "colab": {
          "base_uri": "https://localhost:8080/",
          "height": 868
        }
      },
      "outputs": [
        {
          "output_type": "execute_result",
          "data": {
            "text/plain": [
              "Category     Shipping Type \n",
              "Clothing     Standard          297\n",
              "             Free Shipping     294\n",
              "             Next Day Air      293\n",
              "             Express           290\n",
              "             Store Pickup      282\n",
              "             2-Day Shipping    281\n",
              "Accessories  Store Pickup      217\n",
              "             Next Day Air      211\n",
              "             Standard          208\n",
              "             2-Day Shipping    206\n",
              "             Express           203\n",
              "             Free Shipping     195\n",
              "Footwear     Free Shipping     122\n",
              "             Standard          100\n",
              "             Store Pickup       98\n",
              "             Express            96\n",
              "             Next Day Air       93\n",
              "             2-Day Shipping     90\n",
              "Outerwear    Free Shipping      64\n",
              "             Express            57\n",
              "             Store Pickup       53\n",
              "             Next Day Air       51\n",
              "             2-Day Shipping     50\n",
              "             Standard           49\n",
              "Name: count, dtype: int64"
            ],
            "text/html": [
              "<div>\n",
              "<style scoped>\n",
              "    .dataframe tbody tr th:only-of-type {\n",
              "        vertical-align: middle;\n",
              "    }\n",
              "\n",
              "    .dataframe tbody tr th {\n",
              "        vertical-align: top;\n",
              "    }\n",
              "\n",
              "    .dataframe thead th {\n",
              "        text-align: right;\n",
              "    }\n",
              "</style>\n",
              "<table border=\"1\" class=\"dataframe\">\n",
              "  <thead>\n",
              "    <tr style=\"text-align: right;\">\n",
              "      <th></th>\n",
              "      <th></th>\n",
              "      <th>count</th>\n",
              "    </tr>\n",
              "    <tr>\n",
              "      <th>Category</th>\n",
              "      <th>Shipping Type</th>\n",
              "      <th></th>\n",
              "    </tr>\n",
              "  </thead>\n",
              "  <tbody>\n",
              "    <tr>\n",
              "      <th rowspan=\"6\" valign=\"top\">Clothing</th>\n",
              "      <th>Standard</th>\n",
              "      <td>297</td>\n",
              "    </tr>\n",
              "    <tr>\n",
              "      <th>Free Shipping</th>\n",
              "      <td>294</td>\n",
              "    </tr>\n",
              "    <tr>\n",
              "      <th>Next Day Air</th>\n",
              "      <td>293</td>\n",
              "    </tr>\n",
              "    <tr>\n",
              "      <th>Express</th>\n",
              "      <td>290</td>\n",
              "    </tr>\n",
              "    <tr>\n",
              "      <th>Store Pickup</th>\n",
              "      <td>282</td>\n",
              "    </tr>\n",
              "    <tr>\n",
              "      <th>2-Day Shipping</th>\n",
              "      <td>281</td>\n",
              "    </tr>\n",
              "    <tr>\n",
              "      <th rowspan=\"6\" valign=\"top\">Accessories</th>\n",
              "      <th>Store Pickup</th>\n",
              "      <td>217</td>\n",
              "    </tr>\n",
              "    <tr>\n",
              "      <th>Next Day Air</th>\n",
              "      <td>211</td>\n",
              "    </tr>\n",
              "    <tr>\n",
              "      <th>Standard</th>\n",
              "      <td>208</td>\n",
              "    </tr>\n",
              "    <tr>\n",
              "      <th>2-Day Shipping</th>\n",
              "      <td>206</td>\n",
              "    </tr>\n",
              "    <tr>\n",
              "      <th>Express</th>\n",
              "      <td>203</td>\n",
              "    </tr>\n",
              "    <tr>\n",
              "      <th>Free Shipping</th>\n",
              "      <td>195</td>\n",
              "    </tr>\n",
              "    <tr>\n",
              "      <th rowspan=\"6\" valign=\"top\">Footwear</th>\n",
              "      <th>Free Shipping</th>\n",
              "      <td>122</td>\n",
              "    </tr>\n",
              "    <tr>\n",
              "      <th>Standard</th>\n",
              "      <td>100</td>\n",
              "    </tr>\n",
              "    <tr>\n",
              "      <th>Store Pickup</th>\n",
              "      <td>98</td>\n",
              "    </tr>\n",
              "    <tr>\n",
              "      <th>Express</th>\n",
              "      <td>96</td>\n",
              "    </tr>\n",
              "    <tr>\n",
              "      <th>Next Day Air</th>\n",
              "      <td>93</td>\n",
              "    </tr>\n",
              "    <tr>\n",
              "      <th>2-Day Shipping</th>\n",
              "      <td>90</td>\n",
              "    </tr>\n",
              "    <tr>\n",
              "      <th rowspan=\"6\" valign=\"top\">Outerwear</th>\n",
              "      <th>Free Shipping</th>\n",
              "      <td>64</td>\n",
              "    </tr>\n",
              "    <tr>\n",
              "      <th>Express</th>\n",
              "      <td>57</td>\n",
              "    </tr>\n",
              "    <tr>\n",
              "      <th>Store Pickup</th>\n",
              "      <td>53</td>\n",
              "    </tr>\n",
              "    <tr>\n",
              "      <th>Next Day Air</th>\n",
              "      <td>51</td>\n",
              "    </tr>\n",
              "    <tr>\n",
              "      <th>2-Day Shipping</th>\n",
              "      <td>50</td>\n",
              "    </tr>\n",
              "    <tr>\n",
              "      <th>Standard</th>\n",
              "      <td>49</td>\n",
              "    </tr>\n",
              "  </tbody>\n",
              "</table>\n",
              "</div><br><label><b>dtype:</b> int64</label>"
            ]
          },
          "metadata": {},
          "execution_count": 58
        }
      ],
      "source": [
        "shop.groupby('Category')['Shipping Type'].value_counts().sort_values(ascending= False)"
      ]
    },
    {
      "cell_type": "code",
      "execution_count": 59,
      "id": "89f079c5-4d27-47a8-9fb0-b67751436c70",
      "metadata": {
        "id": "89f079c5-4d27-47a8-9fb0-b67751436c70"
      },
      "outputs": [],
      "source": [
        "shop['Shipping_Category'] =shop['Shipping Type'].map({'Express': 0, 'Free Shipping': 1, 'Next Day Air': 2,\n",
        "                                                       'Standard': 3, '2-Day Shipping': 4, 'Store Pickup': 5})"
      ]
    },
    {
      "cell_type": "code",
      "execution_count": 60,
      "id": "ce7cd03a-071f-4d4f-aaac-fe7d57baac5e",
      "metadata": {
        "id": "ce7cd03a-071f-4d4f-aaac-fe7d57baac5e",
        "outputId": "f4504675-64c7-4d43-d75f-0ab89b664b25",
        "colab": {
          "base_uri": "https://localhost:8080/"
        }
      },
      "outputs": [
        {
          "output_type": "execute_result",
          "data": {
            "text/plain": [
              "array(['Clothing', 'Footwear', 'Outerwear', 'Accessories'], dtype=object)"
            ]
          },
          "metadata": {},
          "execution_count": 60
        }
      ],
      "source": [
        "shop['Category'].unique()"
      ]
    },
    {
      "cell_type": "code",
      "execution_count": 61,
      "id": "ec633055-127b-41e4-937c-ea62b9e22aa1",
      "metadata": {
        "id": "ec633055-127b-41e4-937c-ea62b9e22aa1"
      },
      "outputs": [],
      "source": [
        "shop['Category_num'] =shop['Category'].map({'Clothing':1, 'Footwear':2, 'Outerwear':3, 'Accessories':4})"
      ]
    },
    {
      "cell_type": "markdown",
      "id": "a81b3ad1-e49f-4ace-8a34-8aed6311492e",
      "metadata": {
        "id": "a81b3ad1-e49f-4ace-8a34-8aed6311492e"
      },
      "source": [
        "## 13 How does the presence of a discount affect the purchase decision of customers?"
      ]
    },
    {
      "cell_type": "code",
      "execution_count": 62,
      "id": "1f662a61-8393-478d-aabc-72557bea874f",
      "metadata": {
        "id": "1f662a61-8393-478d-aabc-72557bea874f",
        "outputId": "b1c743e0-22de-438e-b2f0-1a0c19ca7ae6",
        "colab": {
          "base_uri": "https://localhost:8080/"
        }
      },
      "outputs": [
        {
          "output_type": "execute_result",
          "data": {
            "text/plain": [
              "Index(['Customer ID', 'Age', 'Gender', 'Item Purchased', 'Category',\n",
              "       'Purchase Amount (USD)', 'Location', 'Size', 'Color', 'Season',\n",
              "       'Review Rating', 'Subscription Status', 'Shipping Type',\n",
              "       'Discount Applied', 'Promo Code Used', 'Previous Purchases',\n",
              "       'Payment Method', 'Frequency of Purchases', 'Age_category',\n",
              "       'Shipping_Category', 'Category_num'],\n",
              "      dtype='object')"
            ]
          },
          "metadata": {},
          "execution_count": 62
        }
      ],
      "source": [
        "shop.columns"
      ]
    },
    {
      "cell_type": "code",
      "execution_count": 63,
      "id": "d2211c8c-9525-46f2-8ba3-661cae1a1a9d",
      "metadata": {
        "id": "d2211c8c-9525-46f2-8ba3-661cae1a1a9d"
      },
      "outputs": [],
      "source": [
        "shop_group = shop.groupby('Discount Applied')['Purchase Amount (USD)'].sum().reset_index()"
      ]
    },
    {
      "cell_type": "code",
      "execution_count": 64,
      "id": "881a58b4-004c-44e9-b6f9-44a52e0bf00a",
      "metadata": {
        "id": "881a58b4-004c-44e9-b6f9-44a52e0bf00a",
        "outputId": "173a79e0-dfcf-435e-8e56-405036fbe65e",
        "colab": {
          "base_uri": "https://localhost:8080/",
          "height": 542
        }
      },
      "outputs": [
        {
          "output_type": "display_data",
          "data": {
            "text/html": [
              "<html>\n",
              "<head><meta charset=\"utf-8\" /></head>\n",
              "<body>\n",
              "    <div>            <script src=\"https://cdnjs.cloudflare.com/ajax/libs/mathjax/2.7.5/MathJax.js?config=TeX-AMS-MML_SVG\"></script><script type=\"text/javascript\">if (window.MathJax && window.MathJax.Hub && window.MathJax.Hub.Config) {window.MathJax.Hub.Config({SVG: {font: \"STIX-Web\"}});}</script>                <script type=\"text/javascript\">window.PlotlyConfig = {MathJaxConfig: 'local'};</script>\n",
              "        <script charset=\"utf-8\" src=\"https://cdn.plot.ly/plotly-2.35.2.min.js\"></script>                <div id=\"b58f50e4-0e03-4fb7-8df1-ebd97f339b4e\" class=\"plotly-graph-div\" style=\"height:525px; width:100%;\"></div>            <script type=\"text/javascript\">                                    window.PLOTLYENV=window.PLOTLYENV || {};                                    if (document.getElementById(\"b58f50e4-0e03-4fb7-8df1-ebd97f339b4e\")) {                    Plotly.newPlot(                        \"b58f50e4-0e03-4fb7-8df1-ebd97f339b4e\",                        [{\"alignmentgroup\":\"True\",\"bingroup\":\"x\",\"histfunc\":\"sum\",\"hovertemplate\":\"Discount Applied=%{x}\\u003cbr\\u003esum of Purchase Amount (USD)=%{y}\\u003cextra\\u003e\\u003c\\u002fextra\\u003e\",\"legendgroup\":\"\",\"marker\":{\"color\":\"#636efa\",\"pattern\":{\"shape\":\"\"}},\"name\":\"\",\"offsetgroup\":\"\",\"orientation\":\"v\",\"showlegend\":false,\"x\":[\"No\",\"Yes\"],\"xaxis\":\"x\",\"y\":[133670,99411],\"yaxis\":\"y\",\"type\":\"histogram\"}],                        {\"template\":{\"data\":{\"histogram2dcontour\":[{\"type\":\"histogram2dcontour\",\"colorbar\":{\"outlinewidth\":0,\"ticks\":\"\"},\"colorscale\":[[0.0,\"#0d0887\"],[0.1111111111111111,\"#46039f\"],[0.2222222222222222,\"#7201a8\"],[0.3333333333333333,\"#9c179e\"],[0.4444444444444444,\"#bd3786\"],[0.5555555555555556,\"#d8576b\"],[0.6666666666666666,\"#ed7953\"],[0.7777777777777778,\"#fb9f3a\"],[0.8888888888888888,\"#fdca26\"],[1.0,\"#f0f921\"]]}],\"choropleth\":[{\"type\":\"choropleth\",\"colorbar\":{\"outlinewidth\":0,\"ticks\":\"\"}}],\"histogram2d\":[{\"type\":\"histogram2d\",\"colorbar\":{\"outlinewidth\":0,\"ticks\":\"\"},\"colorscale\":[[0.0,\"#0d0887\"],[0.1111111111111111,\"#46039f\"],[0.2222222222222222,\"#7201a8\"],[0.3333333333333333,\"#9c179e\"],[0.4444444444444444,\"#bd3786\"],[0.5555555555555556,\"#d8576b\"],[0.6666666666666666,\"#ed7953\"],[0.7777777777777778,\"#fb9f3a\"],[0.8888888888888888,\"#fdca26\"],[1.0,\"#f0f921\"]]}],\"heatmap\":[{\"type\":\"heatmap\",\"colorbar\":{\"outlinewidth\":0,\"ticks\":\"\"},\"colorscale\":[[0.0,\"#0d0887\"],[0.1111111111111111,\"#46039f\"],[0.2222222222222222,\"#7201a8\"],[0.3333333333333333,\"#9c179e\"],[0.4444444444444444,\"#bd3786\"],[0.5555555555555556,\"#d8576b\"],[0.6666666666666666,\"#ed7953\"],[0.7777777777777778,\"#fb9f3a\"],[0.8888888888888888,\"#fdca26\"],[1.0,\"#f0f921\"]]}],\"heatmapgl\":[{\"type\":\"heatmapgl\",\"colorbar\":{\"outlinewidth\":0,\"ticks\":\"\"},\"colorscale\":[[0.0,\"#0d0887\"],[0.1111111111111111,\"#46039f\"],[0.2222222222222222,\"#7201a8\"],[0.3333333333333333,\"#9c179e\"],[0.4444444444444444,\"#bd3786\"],[0.5555555555555556,\"#d8576b\"],[0.6666666666666666,\"#ed7953\"],[0.7777777777777778,\"#fb9f3a\"],[0.8888888888888888,\"#fdca26\"],[1.0,\"#f0f921\"]]}],\"contourcarpet\":[{\"type\":\"contourcarpet\",\"colorbar\":{\"outlinewidth\":0,\"ticks\":\"\"}}],\"contour\":[{\"type\":\"contour\",\"colorbar\":{\"outlinewidth\":0,\"ticks\":\"\"},\"colorscale\":[[0.0,\"#0d0887\"],[0.1111111111111111,\"#46039f\"],[0.2222222222222222,\"#7201a8\"],[0.3333333333333333,\"#9c179e\"],[0.4444444444444444,\"#bd3786\"],[0.5555555555555556,\"#d8576b\"],[0.6666666666666666,\"#ed7953\"],[0.7777777777777778,\"#fb9f3a\"],[0.8888888888888888,\"#fdca26\"],[1.0,\"#f0f921\"]]}],\"surface\":[{\"type\":\"surface\",\"colorbar\":{\"outlinewidth\":0,\"ticks\":\"\"},\"colorscale\":[[0.0,\"#0d0887\"],[0.1111111111111111,\"#46039f\"],[0.2222222222222222,\"#7201a8\"],[0.3333333333333333,\"#9c179e\"],[0.4444444444444444,\"#bd3786\"],[0.5555555555555556,\"#d8576b\"],[0.6666666666666666,\"#ed7953\"],[0.7777777777777778,\"#fb9f3a\"],[0.8888888888888888,\"#fdca26\"],[1.0,\"#f0f921\"]]}],\"mesh3d\":[{\"type\":\"mesh3d\",\"colorbar\":{\"outlinewidth\":0,\"ticks\":\"\"}}],\"scatter\":[{\"fillpattern\":{\"fillmode\":\"overlay\",\"size\":10,\"solidity\":0.2},\"type\":\"scatter\"}],\"parcoords\":[{\"type\":\"parcoords\",\"line\":{\"colorbar\":{\"outlinewidth\":0,\"ticks\":\"\"}}}],\"scatterpolargl\":[{\"type\":\"scatterpolargl\",\"marker\":{\"colorbar\":{\"outlinewidth\":0,\"ticks\":\"\"}}}],\"bar\":[{\"error_x\":{\"color\":\"#2a3f5f\"},\"error_y\":{\"color\":\"#2a3f5f\"},\"marker\":{\"line\":{\"color\":\"#E5ECF6\",\"width\":0.5},\"pattern\":{\"fillmode\":\"overlay\",\"size\":10,\"solidity\":0.2}},\"type\":\"bar\"}],\"scattergeo\":[{\"type\":\"scattergeo\",\"marker\":{\"colorbar\":{\"outlinewidth\":0,\"ticks\":\"\"}}}],\"scatterpolar\":[{\"type\":\"scatterpolar\",\"marker\":{\"colorbar\":{\"outlinewidth\":0,\"ticks\":\"\"}}}],\"histogram\":[{\"marker\":{\"pattern\":{\"fillmode\":\"overlay\",\"size\":10,\"solidity\":0.2}},\"type\":\"histogram\"}],\"scattergl\":[{\"type\":\"scattergl\",\"marker\":{\"colorbar\":{\"outlinewidth\":0,\"ticks\":\"\"}}}],\"scatter3d\":[{\"type\":\"scatter3d\",\"line\":{\"colorbar\":{\"outlinewidth\":0,\"ticks\":\"\"}},\"marker\":{\"colorbar\":{\"outlinewidth\":0,\"ticks\":\"\"}}}],\"scattermapbox\":[{\"type\":\"scattermapbox\",\"marker\":{\"colorbar\":{\"outlinewidth\":0,\"ticks\":\"\"}}}],\"scatterternary\":[{\"type\":\"scatterternary\",\"marker\":{\"colorbar\":{\"outlinewidth\":0,\"ticks\":\"\"}}}],\"scattercarpet\":[{\"type\":\"scattercarpet\",\"marker\":{\"colorbar\":{\"outlinewidth\":0,\"ticks\":\"\"}}}],\"carpet\":[{\"aaxis\":{\"endlinecolor\":\"#2a3f5f\",\"gridcolor\":\"white\",\"linecolor\":\"white\",\"minorgridcolor\":\"white\",\"startlinecolor\":\"#2a3f5f\"},\"baxis\":{\"endlinecolor\":\"#2a3f5f\",\"gridcolor\":\"white\",\"linecolor\":\"white\",\"minorgridcolor\":\"white\",\"startlinecolor\":\"#2a3f5f\"},\"type\":\"carpet\"}],\"table\":[{\"cells\":{\"fill\":{\"color\":\"#EBF0F8\"},\"line\":{\"color\":\"white\"}},\"header\":{\"fill\":{\"color\":\"#C8D4E3\"},\"line\":{\"color\":\"white\"}},\"type\":\"table\"}],\"barpolar\":[{\"marker\":{\"line\":{\"color\":\"#E5ECF6\",\"width\":0.5},\"pattern\":{\"fillmode\":\"overlay\",\"size\":10,\"solidity\":0.2}},\"type\":\"barpolar\"}],\"pie\":[{\"automargin\":true,\"type\":\"pie\"}]},\"layout\":{\"autotypenumbers\":\"strict\",\"colorway\":[\"#636efa\",\"#EF553B\",\"#00cc96\",\"#ab63fa\",\"#FFA15A\",\"#19d3f3\",\"#FF6692\",\"#B6E880\",\"#FF97FF\",\"#FECB52\"],\"font\":{\"color\":\"#2a3f5f\"},\"hovermode\":\"closest\",\"hoverlabel\":{\"align\":\"left\"},\"paper_bgcolor\":\"white\",\"plot_bgcolor\":\"#E5ECF6\",\"polar\":{\"bgcolor\":\"#E5ECF6\",\"angularaxis\":{\"gridcolor\":\"white\",\"linecolor\":\"white\",\"ticks\":\"\"},\"radialaxis\":{\"gridcolor\":\"white\",\"linecolor\":\"white\",\"ticks\":\"\"}},\"ternary\":{\"bgcolor\":\"#E5ECF6\",\"aaxis\":{\"gridcolor\":\"white\",\"linecolor\":\"white\",\"ticks\":\"\"},\"baxis\":{\"gridcolor\":\"white\",\"linecolor\":\"white\",\"ticks\":\"\"},\"caxis\":{\"gridcolor\":\"white\",\"linecolor\":\"white\",\"ticks\":\"\"}},\"coloraxis\":{\"colorbar\":{\"outlinewidth\":0,\"ticks\":\"\"}},\"colorscale\":{\"sequential\":[[0.0,\"#0d0887\"],[0.1111111111111111,\"#46039f\"],[0.2222222222222222,\"#7201a8\"],[0.3333333333333333,\"#9c179e\"],[0.4444444444444444,\"#bd3786\"],[0.5555555555555556,\"#d8576b\"],[0.6666666666666666,\"#ed7953\"],[0.7777777777777778,\"#fb9f3a\"],[0.8888888888888888,\"#fdca26\"],[1.0,\"#f0f921\"]],\"sequentialminus\":[[0.0,\"#0d0887\"],[0.1111111111111111,\"#46039f\"],[0.2222222222222222,\"#7201a8\"],[0.3333333333333333,\"#9c179e\"],[0.4444444444444444,\"#bd3786\"],[0.5555555555555556,\"#d8576b\"],[0.6666666666666666,\"#ed7953\"],[0.7777777777777778,\"#fb9f3a\"],[0.8888888888888888,\"#fdca26\"],[1.0,\"#f0f921\"]],\"diverging\":[[0,\"#8e0152\"],[0.1,\"#c51b7d\"],[0.2,\"#de77ae\"],[0.3,\"#f1b6da\"],[0.4,\"#fde0ef\"],[0.5,\"#f7f7f7\"],[0.6,\"#e6f5d0\"],[0.7,\"#b8e186\"],[0.8,\"#7fbc41\"],[0.9,\"#4d9221\"],[1,\"#276419\"]]},\"xaxis\":{\"gridcolor\":\"white\",\"linecolor\":\"white\",\"ticks\":\"\",\"title\":{\"standoff\":15},\"zerolinecolor\":\"white\",\"automargin\":true,\"zerolinewidth\":2},\"yaxis\":{\"gridcolor\":\"white\",\"linecolor\":\"white\",\"ticks\":\"\",\"title\":{\"standoff\":15},\"zerolinecolor\":\"white\",\"automargin\":true,\"zerolinewidth\":2},\"scene\":{\"xaxis\":{\"backgroundcolor\":\"#E5ECF6\",\"gridcolor\":\"white\",\"linecolor\":\"white\",\"showbackground\":true,\"ticks\":\"\",\"zerolinecolor\":\"white\",\"gridwidth\":2},\"yaxis\":{\"backgroundcolor\":\"#E5ECF6\",\"gridcolor\":\"white\",\"linecolor\":\"white\",\"showbackground\":true,\"ticks\":\"\",\"zerolinecolor\":\"white\",\"gridwidth\":2},\"zaxis\":{\"backgroundcolor\":\"#E5ECF6\",\"gridcolor\":\"white\",\"linecolor\":\"white\",\"showbackground\":true,\"ticks\":\"\",\"zerolinecolor\":\"white\",\"gridwidth\":2}},\"shapedefaults\":{\"line\":{\"color\":\"#2a3f5f\"}},\"annotationdefaults\":{\"arrowcolor\":\"#2a3f5f\",\"arrowhead\":0,\"arrowwidth\":1},\"geo\":{\"bgcolor\":\"white\",\"landcolor\":\"#E5ECF6\",\"subunitcolor\":\"white\",\"showland\":true,\"showlakes\":true,\"lakecolor\":\"white\"},\"title\":{\"x\":0.05},\"mapbox\":{\"style\":\"light\"}}},\"xaxis\":{\"anchor\":\"y\",\"domain\":[0.0,1.0],\"title\":{\"text\":\"Discount Applied\"}},\"yaxis\":{\"anchor\":\"x\",\"domain\":[0.0,1.0],\"title\":{\"text\":\"sum of Purchase Amount (USD)\"}},\"legend\":{\"tracegroupgap\":0},\"margin\":{\"t\":60},\"barmode\":\"relative\"},                        {\"responsive\": true}                    ).then(function(){\n",
              "                            \n",
              "var gd = document.getElementById('b58f50e4-0e03-4fb7-8df1-ebd97f339b4e');\n",
              "var x = new MutationObserver(function (mutations, observer) {{\n",
              "        var display = window.getComputedStyle(gd).display;\n",
              "        if (!display || display === 'none') {{\n",
              "            console.log([gd, 'removed!']);\n",
              "            Plotly.purge(gd);\n",
              "            observer.disconnect();\n",
              "        }}\n",
              "}});\n",
              "\n",
              "// Listen for the removal of the full notebook cells\n",
              "var notebookContainer = gd.closest('#notebook-container');\n",
              "if (notebookContainer) {{\n",
              "    x.observe(notebookContainer, {childList: true});\n",
              "}}\n",
              "\n",
              "// Listen for the clearing of the current output cell\n",
              "var outputEl = gd.closest('.output');\n",
              "if (outputEl) {{\n",
              "    x.observe(outputEl, {childList: true});\n",
              "}}\n",
              "\n",
              "                        })                };                            </script>        </div>\n",
              "</body>\n",
              "</html>"
            ]
          },
          "metadata": {}
        }
      ],
      "source": [
        "px.histogram(shop_group , x = 'Discount Applied' , y = 'Purchase Amount (USD)')"
      ]
    },
    {
      "cell_type": "code",
      "execution_count": 65,
      "id": "a9de61de-3eed-4a27-904e-f3538e0793c8",
      "metadata": {
        "id": "a9de61de-3eed-4a27-904e-f3538e0793c8",
        "outputId": "9eb6cc05-8a0b-496d-f775-14fb138897b8",
        "colab": {
          "base_uri": "https://localhost:8080/",
          "height": 542
        }
      },
      "outputs": [
        {
          "output_type": "display_data",
          "data": {
            "text/html": [
              "<html>\n",
              "<head><meta charset=\"utf-8\" /></head>\n",
              "<body>\n",
              "    <div>            <script src=\"https://cdnjs.cloudflare.com/ajax/libs/mathjax/2.7.5/MathJax.js?config=TeX-AMS-MML_SVG\"></script><script type=\"text/javascript\">if (window.MathJax && window.MathJax.Hub && window.MathJax.Hub.Config) {window.MathJax.Hub.Config({SVG: {font: \"STIX-Web\"}});}</script>                <script type=\"text/javascript\">window.PlotlyConfig = {MathJaxConfig: 'local'};</script>\n",
              "        <script charset=\"utf-8\" src=\"https://cdn.plot.ly/plotly-2.35.2.min.js\"></script>                <div id=\"2ad9e9db-8a1a-4055-855e-79dc0b5096d3\" class=\"plotly-graph-div\" style=\"height:525px; width:100%;\"></div>            <script type=\"text/javascript\">                                    window.PLOTLYENV=window.PLOTLYENV || {};                                    if (document.getElementById(\"2ad9e9db-8a1a-4055-855e-79dc0b5096d3\")) {                    Plotly.newPlot(                        \"2ad9e9db-8a1a-4055-855e-79dc0b5096d3\",                        [{\"branchvalues\":\"total\",\"customdata\":[[\"Female\"],[\"Male\"],[\"Male\"],[\"Female\"],[\"Male\"]],\"domain\":{\"x\":[0.0,1.0],\"y\":[0.0,1.0]},\"hovertemplate\":\"labels=%{label}\\u003cbr\\u003ePurchase Amount (USD)=%{value}\\u003cbr\\u003eparent=%{parent}\\u003cbr\\u003eid=%{id}\\u003cbr\\u003eGender=%{customdata[0]}\\u003cextra\\u003e\\u003c\\u002fextra\\u003e\",\"ids\":[\"Female\\u002fNo\",\"Male\\u002fNo\",\"Male\\u002fYes\",\"Female\",\"Male\"],\"labels\":[\"No\",\"No\",\"Yes\",\"Female\",\"Male\"],\"marker\":{\"colors\":[\"#636efa\",\"#EF553B\",\"#EF553B\",\"#636efa\",\"#EF553B\"]},\"name\":\"\",\"parents\":[\"Female\",\"Male\",\"Male\",\"\",\"\"],\"values\":[75191,58479,99411,75191,157890],\"type\":\"sunburst\"}],                        {\"template\":{\"data\":{\"histogram2dcontour\":[{\"type\":\"histogram2dcontour\",\"colorbar\":{\"outlinewidth\":0,\"ticks\":\"\"},\"colorscale\":[[0.0,\"#0d0887\"],[0.1111111111111111,\"#46039f\"],[0.2222222222222222,\"#7201a8\"],[0.3333333333333333,\"#9c179e\"],[0.4444444444444444,\"#bd3786\"],[0.5555555555555556,\"#d8576b\"],[0.6666666666666666,\"#ed7953\"],[0.7777777777777778,\"#fb9f3a\"],[0.8888888888888888,\"#fdca26\"],[1.0,\"#f0f921\"]]}],\"choropleth\":[{\"type\":\"choropleth\",\"colorbar\":{\"outlinewidth\":0,\"ticks\":\"\"}}],\"histogram2d\":[{\"type\":\"histogram2d\",\"colorbar\":{\"outlinewidth\":0,\"ticks\":\"\"},\"colorscale\":[[0.0,\"#0d0887\"],[0.1111111111111111,\"#46039f\"],[0.2222222222222222,\"#7201a8\"],[0.3333333333333333,\"#9c179e\"],[0.4444444444444444,\"#bd3786\"],[0.5555555555555556,\"#d8576b\"],[0.6666666666666666,\"#ed7953\"],[0.7777777777777778,\"#fb9f3a\"],[0.8888888888888888,\"#fdca26\"],[1.0,\"#f0f921\"]]}],\"heatmap\":[{\"type\":\"heatmap\",\"colorbar\":{\"outlinewidth\":0,\"ticks\":\"\"},\"colorscale\":[[0.0,\"#0d0887\"],[0.1111111111111111,\"#46039f\"],[0.2222222222222222,\"#7201a8\"],[0.3333333333333333,\"#9c179e\"],[0.4444444444444444,\"#bd3786\"],[0.5555555555555556,\"#d8576b\"],[0.6666666666666666,\"#ed7953\"],[0.7777777777777778,\"#fb9f3a\"],[0.8888888888888888,\"#fdca26\"],[1.0,\"#f0f921\"]]}],\"heatmapgl\":[{\"type\":\"heatmapgl\",\"colorbar\":{\"outlinewidth\":0,\"ticks\":\"\"},\"colorscale\":[[0.0,\"#0d0887\"],[0.1111111111111111,\"#46039f\"],[0.2222222222222222,\"#7201a8\"],[0.3333333333333333,\"#9c179e\"],[0.4444444444444444,\"#bd3786\"],[0.5555555555555556,\"#d8576b\"],[0.6666666666666666,\"#ed7953\"],[0.7777777777777778,\"#fb9f3a\"],[0.8888888888888888,\"#fdca26\"],[1.0,\"#f0f921\"]]}],\"contourcarpet\":[{\"type\":\"contourcarpet\",\"colorbar\":{\"outlinewidth\":0,\"ticks\":\"\"}}],\"contour\":[{\"type\":\"contour\",\"colorbar\":{\"outlinewidth\":0,\"ticks\":\"\"},\"colorscale\":[[0.0,\"#0d0887\"],[0.1111111111111111,\"#46039f\"],[0.2222222222222222,\"#7201a8\"],[0.3333333333333333,\"#9c179e\"],[0.4444444444444444,\"#bd3786\"],[0.5555555555555556,\"#d8576b\"],[0.6666666666666666,\"#ed7953\"],[0.7777777777777778,\"#fb9f3a\"],[0.8888888888888888,\"#fdca26\"],[1.0,\"#f0f921\"]]}],\"surface\":[{\"type\":\"surface\",\"colorbar\":{\"outlinewidth\":0,\"ticks\":\"\"},\"colorscale\":[[0.0,\"#0d0887\"],[0.1111111111111111,\"#46039f\"],[0.2222222222222222,\"#7201a8\"],[0.3333333333333333,\"#9c179e\"],[0.4444444444444444,\"#bd3786\"],[0.5555555555555556,\"#d8576b\"],[0.6666666666666666,\"#ed7953\"],[0.7777777777777778,\"#fb9f3a\"],[0.8888888888888888,\"#fdca26\"],[1.0,\"#f0f921\"]]}],\"mesh3d\":[{\"type\":\"mesh3d\",\"colorbar\":{\"outlinewidth\":0,\"ticks\":\"\"}}],\"scatter\":[{\"fillpattern\":{\"fillmode\":\"overlay\",\"size\":10,\"solidity\":0.2},\"type\":\"scatter\"}],\"parcoords\":[{\"type\":\"parcoords\",\"line\":{\"colorbar\":{\"outlinewidth\":0,\"ticks\":\"\"}}}],\"scatterpolargl\":[{\"type\":\"scatterpolargl\",\"marker\":{\"colorbar\":{\"outlinewidth\":0,\"ticks\":\"\"}}}],\"bar\":[{\"error_x\":{\"color\":\"#2a3f5f\"},\"error_y\":{\"color\":\"#2a3f5f\"},\"marker\":{\"line\":{\"color\":\"#E5ECF6\",\"width\":0.5},\"pattern\":{\"fillmode\":\"overlay\",\"size\":10,\"solidity\":0.2}},\"type\":\"bar\"}],\"scattergeo\":[{\"type\":\"scattergeo\",\"marker\":{\"colorbar\":{\"outlinewidth\":0,\"ticks\":\"\"}}}],\"scatterpolar\":[{\"type\":\"scatterpolar\",\"marker\":{\"colorbar\":{\"outlinewidth\":0,\"ticks\":\"\"}}}],\"histogram\":[{\"marker\":{\"pattern\":{\"fillmode\":\"overlay\",\"size\":10,\"solidity\":0.2}},\"type\":\"histogram\"}],\"scattergl\":[{\"type\":\"scattergl\",\"marker\":{\"colorbar\":{\"outlinewidth\":0,\"ticks\":\"\"}}}],\"scatter3d\":[{\"type\":\"scatter3d\",\"line\":{\"colorbar\":{\"outlinewidth\":0,\"ticks\":\"\"}},\"marker\":{\"colorbar\":{\"outlinewidth\":0,\"ticks\":\"\"}}}],\"scattermapbox\":[{\"type\":\"scattermapbox\",\"marker\":{\"colorbar\":{\"outlinewidth\":0,\"ticks\":\"\"}}}],\"scatterternary\":[{\"type\":\"scatterternary\",\"marker\":{\"colorbar\":{\"outlinewidth\":0,\"ticks\":\"\"}}}],\"scattercarpet\":[{\"type\":\"scattercarpet\",\"marker\":{\"colorbar\":{\"outlinewidth\":0,\"ticks\":\"\"}}}],\"carpet\":[{\"aaxis\":{\"endlinecolor\":\"#2a3f5f\",\"gridcolor\":\"white\",\"linecolor\":\"white\",\"minorgridcolor\":\"white\",\"startlinecolor\":\"#2a3f5f\"},\"baxis\":{\"endlinecolor\":\"#2a3f5f\",\"gridcolor\":\"white\",\"linecolor\":\"white\",\"minorgridcolor\":\"white\",\"startlinecolor\":\"#2a3f5f\"},\"type\":\"carpet\"}],\"table\":[{\"cells\":{\"fill\":{\"color\":\"#EBF0F8\"},\"line\":{\"color\":\"white\"}},\"header\":{\"fill\":{\"color\":\"#C8D4E3\"},\"line\":{\"color\":\"white\"}},\"type\":\"table\"}],\"barpolar\":[{\"marker\":{\"line\":{\"color\":\"#E5ECF6\",\"width\":0.5},\"pattern\":{\"fillmode\":\"overlay\",\"size\":10,\"solidity\":0.2}},\"type\":\"barpolar\"}],\"pie\":[{\"automargin\":true,\"type\":\"pie\"}]},\"layout\":{\"autotypenumbers\":\"strict\",\"colorway\":[\"#636efa\",\"#EF553B\",\"#00cc96\",\"#ab63fa\",\"#FFA15A\",\"#19d3f3\",\"#FF6692\",\"#B6E880\",\"#FF97FF\",\"#FECB52\"],\"font\":{\"color\":\"#2a3f5f\"},\"hovermode\":\"closest\",\"hoverlabel\":{\"align\":\"left\"},\"paper_bgcolor\":\"white\",\"plot_bgcolor\":\"#E5ECF6\",\"polar\":{\"bgcolor\":\"#E5ECF6\",\"angularaxis\":{\"gridcolor\":\"white\",\"linecolor\":\"white\",\"ticks\":\"\"},\"radialaxis\":{\"gridcolor\":\"white\",\"linecolor\":\"white\",\"ticks\":\"\"}},\"ternary\":{\"bgcolor\":\"#E5ECF6\",\"aaxis\":{\"gridcolor\":\"white\",\"linecolor\":\"white\",\"ticks\":\"\"},\"baxis\":{\"gridcolor\":\"white\",\"linecolor\":\"white\",\"ticks\":\"\"},\"caxis\":{\"gridcolor\":\"white\",\"linecolor\":\"white\",\"ticks\":\"\"}},\"coloraxis\":{\"colorbar\":{\"outlinewidth\":0,\"ticks\":\"\"}},\"colorscale\":{\"sequential\":[[0.0,\"#0d0887\"],[0.1111111111111111,\"#46039f\"],[0.2222222222222222,\"#7201a8\"],[0.3333333333333333,\"#9c179e\"],[0.4444444444444444,\"#bd3786\"],[0.5555555555555556,\"#d8576b\"],[0.6666666666666666,\"#ed7953\"],[0.7777777777777778,\"#fb9f3a\"],[0.8888888888888888,\"#fdca26\"],[1.0,\"#f0f921\"]],\"sequentialminus\":[[0.0,\"#0d0887\"],[0.1111111111111111,\"#46039f\"],[0.2222222222222222,\"#7201a8\"],[0.3333333333333333,\"#9c179e\"],[0.4444444444444444,\"#bd3786\"],[0.5555555555555556,\"#d8576b\"],[0.6666666666666666,\"#ed7953\"],[0.7777777777777778,\"#fb9f3a\"],[0.8888888888888888,\"#fdca26\"],[1.0,\"#f0f921\"]],\"diverging\":[[0,\"#8e0152\"],[0.1,\"#c51b7d\"],[0.2,\"#de77ae\"],[0.3,\"#f1b6da\"],[0.4,\"#fde0ef\"],[0.5,\"#f7f7f7\"],[0.6,\"#e6f5d0\"],[0.7,\"#b8e186\"],[0.8,\"#7fbc41\"],[0.9,\"#4d9221\"],[1,\"#276419\"]]},\"xaxis\":{\"gridcolor\":\"white\",\"linecolor\":\"white\",\"ticks\":\"\",\"title\":{\"standoff\":15},\"zerolinecolor\":\"white\",\"automargin\":true,\"zerolinewidth\":2},\"yaxis\":{\"gridcolor\":\"white\",\"linecolor\":\"white\",\"ticks\":\"\",\"title\":{\"standoff\":15},\"zerolinecolor\":\"white\",\"automargin\":true,\"zerolinewidth\":2},\"scene\":{\"xaxis\":{\"backgroundcolor\":\"#E5ECF6\",\"gridcolor\":\"white\",\"linecolor\":\"white\",\"showbackground\":true,\"ticks\":\"\",\"zerolinecolor\":\"white\",\"gridwidth\":2},\"yaxis\":{\"backgroundcolor\":\"#E5ECF6\",\"gridcolor\":\"white\",\"linecolor\":\"white\",\"showbackground\":true,\"ticks\":\"\",\"zerolinecolor\":\"white\",\"gridwidth\":2},\"zaxis\":{\"backgroundcolor\":\"#E5ECF6\",\"gridcolor\":\"white\",\"linecolor\":\"white\",\"showbackground\":true,\"ticks\":\"\",\"zerolinecolor\":\"white\",\"gridwidth\":2}},\"shapedefaults\":{\"line\":{\"color\":\"#2a3f5f\"}},\"annotationdefaults\":{\"arrowcolor\":\"#2a3f5f\",\"arrowhead\":0,\"arrowwidth\":1},\"geo\":{\"bgcolor\":\"white\",\"landcolor\":\"#E5ECF6\",\"subunitcolor\":\"white\",\"showland\":true,\"showlakes\":true,\"lakecolor\":\"white\"},\"title\":{\"x\":0.05},\"mapbox\":{\"style\":\"light\"}}},\"legend\":{\"tracegroupgap\":0},\"margin\":{\"t\":60}},                        {\"responsive\": true}                    ).then(function(){\n",
              "                            \n",
              "var gd = document.getElementById('2ad9e9db-8a1a-4055-855e-79dc0b5096d3');\n",
              "var x = new MutationObserver(function (mutations, observer) {{\n",
              "        var display = window.getComputedStyle(gd).display;\n",
              "        if (!display || display === 'none') {{\n",
              "            console.log([gd, 'removed!']);\n",
              "            Plotly.purge(gd);\n",
              "            observer.disconnect();\n",
              "        }}\n",
              "}});\n",
              "\n",
              "// Listen for the removal of the full notebook cells\n",
              "var notebookContainer = gd.closest('#notebook-container');\n",
              "if (notebookContainer) {{\n",
              "    x.observe(notebookContainer, {childList: true});\n",
              "}}\n",
              "\n",
              "// Listen for the clearing of the current output cell\n",
              "var outputEl = gd.closest('.output');\n",
              "if (outputEl) {{\n",
              "    x.observe(outputEl, {childList: true});\n",
              "}}\n",
              "\n",
              "                        })                };                            </script>        </div>\n",
              "</body>\n",
              "</html>"
            ]
          },
          "metadata": {}
        }
      ],
      "source": [
        "fig = px.sunburst(shop , path = ['Gender' , 'Discount Applied'], values='Purchase Amount (USD)' , color= 'Gender')\n",
        "\n",
        "fig.show()"
      ]
    },
    {
      "cell_type": "markdown",
      "id": "37150113-a8ec-4366-aa49-d0c248c33a84",
      "metadata": {
        "id": "37150113-a8ec-4366-aa49-d0c248c33a84"
      },
      "source": [
        "## 14 Are there any specific colors that are more popular among customers?"
      ]
    },
    {
      "cell_type": "code",
      "execution_count": 66,
      "id": "dad4f942-1499-4054-adef-ec8c2e3c43fc",
      "metadata": {
        "id": "dad4f942-1499-4054-adef-ec8c2e3c43fc",
        "outputId": "164e7ea2-d08e-4990-d2ce-d01fafa0dd37",
        "colab": {
          "base_uri": "https://localhost:8080/",
          "height": 542
        }
      },
      "outputs": [
        {
          "output_type": "display_data",
          "data": {
            "text/html": [
              "<html>\n",
              "<head><meta charset=\"utf-8\" /></head>\n",
              "<body>\n",
              "    <div>            <script src=\"https://cdnjs.cloudflare.com/ajax/libs/mathjax/2.7.5/MathJax.js?config=TeX-AMS-MML_SVG\"></script><script type=\"text/javascript\">if (window.MathJax && window.MathJax.Hub && window.MathJax.Hub.Config) {window.MathJax.Hub.Config({SVG: {font: \"STIX-Web\"}});}</script>                <script type=\"text/javascript\">window.PlotlyConfig = {MathJaxConfig: 'local'};</script>\n",
              "        <script charset=\"utf-8\" src=\"https://cdn.plot.ly/plotly-2.35.2.min.js\"></script>                <div id=\"f48a846a-4c04-4c09-ba04-c88a90f9732a\" class=\"plotly-graph-div\" style=\"height:525px; width:100%;\"></div>            <script type=\"text/javascript\">                                    window.PLOTLYENV=window.PLOTLYENV || {};                                    if (document.getElementById(\"f48a846a-4c04-4c09-ba04-c88a90f9732a\")) {                    Plotly.newPlot(                        \"f48a846a-4c04-4c09-ba04-c88a90f9732a\",                        [{\"alignmentgroup\":\"True\",\"bingroup\":\"x\",\"hovertemplate\":\"Color=%{x}\\u003cbr\\u003ecount=%{y}\\u003cextra\\u003e\\u003c\\u002fextra\\u003e\",\"legendgroup\":\"\",\"marker\":{\"color\":\"#636efa\",\"pattern\":{\"shape\":\"\"}},\"name\":\"\",\"offsetgroup\":\"\",\"orientation\":\"v\",\"showlegend\":false,\"x\":[\"Gray\",\"Maroon\",\"Maroon\",\"Maroon\",\"Turquoise\",\"White\",\"Gray\",\"Charcoal\",\"Silver\",\"Pink\",\"Purple\",\"Olive\",\"Gold\",\"Violet\",\"Teal\",\"Teal\",\"Gray\",\"Lavender\",\"Black\",\"Green\",\"Black\",\"Charcoal\",\"Peach\",\"White\",\"Green\",\"Silver\",\"Red\",\"Cyan\",\"Gray\",\"Black\",\"Black\",\"Brown\",\"Silver\",\"Green\",\"Violet\",\"Cyan\",\"Maroon\",\"Cyan\",\"Red\",\"Turquoise\",\"Beige\",\"Orange\",\"Beige\",\"Lavender\",\"Silver\",\"Indigo\",\"White\",\"Charcoal\",\"Orange\",\"Indigo\",\"Red\",\"Gray\",\"Green\",\"Peach\",\"Brown\",\"Lavender\",\"Brown\",\"White\",\"Charcoal\",\"Yellow\",\"Brown\",\"Orange\",\"Magenta\",\"Lavender\",\"Green\",\"Purple\",\"Magenta\",\"Gray\",\"Silver\",\"Cyan\",\"Magenta\",\"Gold\",\"Olive\",\"Teal\",\"Violet\",\"Blue\",\"Teal\",\"Gold\",\"Maroon\",\"Olive\",\"Blue\",\"Maroon\",\"Olive\",\"Turquoise\",\"Peach\",\"Charcoal\",\"Pink\",\"Green\",\"Orange\",\"Pink\",\"Violet\",\"Green\",\"Olive\",\"Purple\",\"Silver\",\"Pink\",\"Gold\",\"Teal\",\"Teal\",\"Indigo\",\"Maroon\",\"White\",\"Violet\",\"Red\",\"Pink\",\"Charcoal\",\"White\",\"Olive\",\"Purple\",\"Violet\",\"Black\",\"Purple\",\"Red\",\"Maroon\",\"Blue\",\"Gray\",\"Blue\",\"Yellow\",\"Orange\",\"Orange\",\"Red\",\"Olive\",\"Brown\",\"Brown\",\"Gray\",\"Indigo\",\"Pink\",\"Gray\",\"Gold\",\"Olive\",\"Violet\",\"Indigo\",\"Orange\",\"Violet\",\"Gray\",\"Purple\",\"White\",\"Turquoise\",\"Maroon\",\"White\",\"Yellow\",\"Turquoise\",\"Violet\",\"Beige\",\"Silver\",\"Teal\",\"Black\",\"Purple\",\"Gray\",\"White\",\"Cyan\",\"Turquoise\",\"Brown\",\"Maroon\",\"Charcoal\",\"Olive\",\"Lavender\",\"Yellow\",\"Teal\",\"Charcoal\",\"Orange\",\"Olive\",\"Turquoise\",\"Purple\",\"Purple\",\"Yellow\",\"Indigo\",\"Green\",\"Magenta\",\"Gold\",\"Maroon\",\"Blue\",\"Violet\",\"Turquoise\",\"Brown\",\"Violet\",\"Black\",\"Magenta\",\"Lavender\",\"Violet\",\"Green\",\"Beige\",\"Purple\",\"Beige\",\"Cyan\",\"Silver\",\"Lavender\",\"Purple\",\"Pink\",\"Maroon\",\"Beige\",\"Gray\",\"Turquoise\",\"Silver\",\"Olive\",\"Magenta\",\"Lavender\",\"Black\",\"Turquoise\",\"Green\",\"Teal\",\"Beige\",\"Magenta\",\"Yellow\",\"Yellow\",\"Silver\",\"Silver\",\"Silver\",\"Gold\",\"Olive\",\"Teal\",\"Maroon\",\"Blue\",\"Peach\",\"Blue\",\"Orange\",\"Yellow\",\"Purple\",\"Magenta\",\"Cyan\",\"Indigo\",\"Magenta\",\"Gray\",\"Turquoise\",\"Beige\",\"Olive\",\"Violet\",\"Turquoise\",\"White\",\"Silver\",\"Olive\",\"Blue\",\"Purple\",\"Yellow\",\"Silver\",\"Cyan\",\"Green\",\"Beige\",\"Peach\",\"Yellow\",\"Turquoise\",\"Peach\",\"Gray\",\"Olive\",\"Indigo\",\"Charcoal\",\"Beige\",\"Brown\",\"Blue\",\"Teal\",\"Black\",\"Gold\",\"Violet\",\"Cyan\",\"White\",\"Charcoal\",\"Violet\",\"Red\",\"Lavender\",\"Gold\",\"Red\",\"Magenta\",\"Teal\",\"Purple\",\"Charcoal\",\"Gray\",\"White\",\"Olive\",\"Charcoal\",\"Charcoal\",\"Orange\",\"Yellow\",\"Beige\",\"Silver\",\"Indigo\",\"Lavender\",\"Turquoise\",\"Green\",\"Orange\",\"Turquoise\",\"Cyan\",\"Charcoal\",\"Teal\",\"Maroon\",\"Red\",\"Yellow\",\"Gray\",\"Blue\",\"Lavender\",\"Yellow\",\"Indigo\",\"Violet\",\"Green\",\"White\",\"Gold\",\"Indigo\",\"Lavender\",\"Purple\",\"Lavender\",\"Maroon\",\"Teal\",\"Green\",\"Olive\",\"Turquoise\",\"Green\",\"Teal\",\"White\",\"Orange\",\"Beige\",\"Yellow\",\"Charcoal\",\"Silver\",\"Green\",\"Pink\",\"Purple\",\"Orange\",\"Charcoal\",\"Teal\",\"Beige\",\"White\",\"White\",\"Orange\",\"Cyan\",\"Orange\",\"Olive\",\"Charcoal\",\"White\",\"Teal\",\"Yellow\",\"White\",\"Beige\",\"Beige\",\"Maroon\",\"Teal\",\"Lavender\",\"Maroon\",\"Orange\",\"Cyan\",\"Silver\",\"Teal\",\"Blue\",\"Blue\",\"Olive\",\"Purple\",\"Charcoal\",\"Olive\",\"Violet\",\"Red\",\"Beige\",\"Green\",\"Violet\",\"Teal\",\"Yellow\",\"Yellow\",\"Olive\",\"Magenta\",\"Black\",\"Olive\",\"Magenta\",\"Olive\",\"Teal\",\"White\",\"Charcoal\",\"Yellow\",\"Charcoal\",\"Gray\",\"Turquoise\",\"Cyan\",\"Charcoal\",\"Silver\",\"Olive\",\"Pink\",\"Orange\",\"White\",\"Purple\",\"Olive\",\"Gray\",\"Silver\",\"Orange\",\"Magenta\",\"Beige\",\"Lavender\",\"Peach\",\"Magenta\",\"Beige\",\"Yellow\",\"Brown\",\"Silver\",\"Orange\",\"Purple\",\"Indigo\",\"Gray\",\"Black\",\"Maroon\",\"Beige\",\"Brown\",\"Black\",\"Indigo\",\"Silver\",\"Blue\",\"Green\",\"Orange\",\"Cyan\",\"Orange\",\"Indigo\",\"Silver\",\"Peach\",\"Teal\",\"White\",\"Brown\",\"Lavender\",\"Indigo\",\"Yellow\",\"White\",\"Violet\",\"Lavender\",\"Olive\",\"Beige\",\"Purple\",\"Teal\",\"Peach\",\"Violet\",\"Purple\",\"Teal\",\"Gold\",\"Teal\",\"Violet\",\"Black\",\"Gold\",\"Gold\",\"Brown\",\"Cyan\",\"Indigo\",\"Orange\",\"Pink\",\"Olive\",\"Cyan\",\"Peach\",\"Turquoise\",\"Turquoise\",\"Maroon\",\"Maroon\",\"Olive\",\"Magenta\",\"Red\",\"Olive\",\"Silver\",\"Turquoise\",\"Yellow\",\"Peach\",\"Beige\",\"Pink\",\"Violet\",\"Peach\",\"Gold\",\"Gold\",\"Indigo\",\"Blue\",\"Black\",\"Black\",\"Teal\",\"Yellow\",\"White\",\"Orange\",\"Silver\",\"Pink\",\"Turquoise\",\"Orange\",\"Peach\",\"Pink\",\"Teal\",\"White\",\"Gray\",\"Olive\",\"Maroon\",\"Magenta\",\"Magenta\",\"Green\",\"Turquoise\",\"Yellow\",\"Gray\",\"Peach\",\"Yellow\",\"White\",\"Lavender\",\"Blue\",\"Charcoal\",\"Red\",\"Olive\",\"Green\",\"Silver\",\"Silver\",\"Black\",\"Red\",\"Indigo\",\"Cyan\",\"Maroon\",\"Silver\",\"Lavender\",\"Silver\",\"Purple\",\"Cyan\",\"Cyan\",\"Lavender\",\"Maroon\",\"Gray\",\"Olive\",\"Magenta\",\"Yellow\",\"Cyan\",\"Teal\",\"Yellow\",\"Peach\",\"Peach\",\"Olive\",\"Charcoal\",\"Indigo\",\"Silver\",\"Beige\",\"Blue\",\"White\",\"Gold\",\"Blue\",\"Orange\",\"Gold\",\"Cyan\",\"Red\",\"Yellow\",\"Beige\",\"Orange\",\"Magenta\",\"Purple\",\"Black\",\"Pink\",\"Pink\",\"Maroon\",\"Maroon\",\"Turquoise\",\"Green\",\"Violet\",\"Lavender\",\"Gray\",\"Teal\",\"Red\",\"Yellow\",\"Magenta\",\"Brown\",\"Blue\",\"Black\",\"Olive\",\"Olive\",\"Green\",\"Peach\",\"White\",\"Red\",\"White\",\"Indigo\",\"White\",\"Teal\",\"Indigo\",\"Red\",\"Blue\",\"Blue\",\"Black\",\"Olive\",\"Lavender\",\"Indigo\",\"Red\",\"Red\",\"Pink\",\"Purple\",\"Cyan\",\"Cyan\",\"Charcoal\",\"Red\",\"Peach\",\"Black\",\"Black\",\"Purple\",\"Violet\",\"Orange\",\"Charcoal\",\"Turquoise\",\"Yellow\",\"White\",\"Gray\",\"Blue\",\"Maroon\",\"Violet\",\"Orange\",\"Turquoise\",\"Olive\",\"Brown\",\"Green\",\"Brown\",\"Silver\",\"White\",\"Gold\",\"Green\",\"Teal\",\"Charcoal\",\"Maroon\",\"Lavender\",\"Green\",\"Pink\",\"Charcoal\",\"Blue\",\"Purple\",\"Gold\",\"Purple\",\"Charcoal\",\"Black\",\"Lavender\",\"Lavender\",\"Lavender\",\"Olive\",\"Teal\",\"Maroon\",\"Cyan\",\"Charcoal\",\"Black\",\"Red\",\"Peach\",\"White\",\"Pink\",\"Red\",\"Indigo\",\"Black\",\"White\",\"Beige\",\"Silver\",\"Violet\",\"Red\",\"Orange\",\"Teal\",\"Brown\",\"Indigo\",\"Cyan\",\"Blue\",\"Olive\",\"Gray\",\"Red\",\"Red\",\"Green\",\"Blue\",\"Purple\",\"Pink\",\"Charcoal\",\"Brown\",\"Orange\",\"Magenta\",\"Yellow\",\"Beige\",\"Olive\",\"Gray\",\"Purple\",\"Beige\",\"White\",\"White\",\"Gold\",\"Olive\",\"Green\",\"Magenta\",\"Charcoal\",\"Indigo\",\"Peach\",\"Turquoise\",\"Blue\",\"Turquoise\",\"Gray\",\"Purple\",\"Black\",\"Peach\",\"Indigo\",\"Beige\",\"Yellow\",\"Peach\",\"Turquoise\",\"Teal\",\"Turquoise\",\"Magenta\",\"Purple\",\"Brown\",\"Violet\",\"Yellow\",\"Magenta\",\"Beige\",\"Turquoise\",\"Peach\",\"Orange\",\"Red\",\"Silver\",\"Cyan\",\"Turquoise\",\"Charcoal\",\"Peach\",\"Green\",\"Brown\",\"Yellow\",\"Charcoal\",\"Olive\",\"Red\",\"White\",\"Pink\",\"Black\",\"Indigo\",\"Turquoise\",\"Purple\",\"Beige\",\"Charcoal\",\"Turquoise\",\"Maroon\",\"Black\",\"Lavender\",\"Magenta\",\"Green\",\"Olive\",\"Green\",\"Peach\",\"Turquoise\",\"Orange\",\"Silver\",\"Blue\",\"Cyan\",\"Green\",\"Silver\",\"Yellow\",\"Gray\",\"Pink\",\"Beige\",\"Indigo\",\"Red\",\"Blue\",\"Cyan\",\"Violet\",\"Orange\",\"Maroon\",\"Teal\",\"Orange\",\"Purple\",\"Orange\",\"Yellow\",\"Charcoal\",\"Gray\",\"Charcoal\",\"Orange\",\"Red\",\"Gold\",\"Brown\",\"Olive\",\"Violet\",\"Indigo\",\"Yellow\",\"Teal\",\"Pink\",\"Violet\",\"Orange\",\"Red\",\"Peach\",\"Green\",\"Violet\",\"Yellow\",\"Pink\",\"Brown\",\"Silver\",\"Pink\",\"Cyan\",\"Brown\",\"Red\",\"Silver\",\"Gray\",\"Cyan\",\"Teal\",\"Indigo\",\"Yellow\",\"Gold\",\"Maroon\",\"Silver\",\"Yellow\",\"Blue\",\"Turquoise\",\"Indigo\",\"Green\",\"Purple\",\"Peach\",\"Purple\",\"Teal\",\"Green\",\"Yellow\",\"Purple\",\"Indigo\",\"Magenta\",\"Violet\",\"Maroon\",\"Yellow\",\"Beige\",\"Black\",\"Violet\",\"Violet\",\"Brown\",\"Gold\",\"Blue\",\"Teal\",\"Silver\",\"Maroon\",\"White\",\"Charcoal\",\"Brown\",\"Lavender\",\"Violet\",\"Lavender\",\"Green\",\"Olive\",\"Olive\",\"Pink\",\"Teal\",\"Cyan\",\"Gray\",\"Peach\",\"Teal\",\"Turquoise\",\"Green\",\"Magenta\",\"Green\",\"White\",\"Brown\",\"Purple\",\"Green\",\"Peach\",\"Silver\",\"Maroon\",\"Red\",\"Blue\",\"Purple\",\"Indigo\",\"Indigo\",\"Violet\",\"Brown\",\"Gray\",\"Teal\",\"Teal\",\"Beige\",\"Violet\",\"Beige\",\"Purple\",\"Charcoal\",\"Pink\",\"Blue\",\"Lavender\",\"Charcoal\",\"Turquoise\",\"Red\",\"Yellow\",\"Orange\",\"Blue\",\"Gold\",\"Gold\",\"Cyan\",\"Olive\",\"Teal\",\"Maroon\",\"Green\",\"Charcoal\",\"Cyan\",\"Charcoal\",\"Charcoal\",\"Lavender\",\"Turquoise\",\"Green\",\"Silver\",\"Blue\",\"Charcoal\",\"Pink\",\"Pink\",\"Magenta\",\"Gray\",\"Gray\",\"Orange\",\"Black\",\"Lavender\",\"Red\",\"Silver\",\"Cyan\",\"Gold\",\"Yellow\",\"Purple\",\"Brown\",\"Turquoise\",\"Gold\",\"Olive\",\"Purple\",\"Lavender\",\"Gray\",\"Red\",\"Purple\",\"Olive\",\"Lavender\",\"Gray\",\"Red\",\"Peach\",\"Gray\",\"Violet\",\"Beige\",\"Blue\",\"Magenta\",\"Cyan\",\"Red\",\"Cyan\",\"Turquoise\",\"Silver\",\"Pink\",\"Black\",\"Green\",\"Yellow\",\"Purple\",\"Purple\",\"Blue\",\"Maroon\",\"Orange\",\"Green\",\"Gold\",\"Silver\",\"Cyan\",\"Silver\",\"Beige\",\"Teal\",\"Green\",\"Black\",\"Yellow\",\"White\",\"Green\",\"Silver\",\"Blue\",\"Magenta\",\"Yellow\",\"White\",\"Pink\",\"Magenta\",\"Teal\",\"Indigo\",\"Maroon\",\"Black\",\"Cyan\",\"Cyan\",\"Gray\",\"Violet\",\"Blue\",\"Charcoal\",\"Olive\",\"Olive\",\"Turquoise\",\"Cyan\",\"Red\",\"Cyan\",\"Turquoise\",\"Lavender\",\"Cyan\",\"Violet\",\"Beige\",\"Cyan\",\"Indigo\",\"Olive\",\"Green\",\"Green\",\"Beige\",\"Black\",\"Brown\",\"Silver\",\"Gray\",\"Pink\",\"Maroon\",\"Cyan\",\"Gold\",\"Teal\",\"Beige\",\"Olive\",\"Gray\",\"Black\",\"Turquoise\",\"Brown\",\"Magenta\",\"Silver\",\"Red\",\"Indigo\",\"Green\",\"Gray\",\"Peach\",\"Charcoal\",\"Orange\",\"Beige\",\"Yellow\",\"White\",\"Gray\",\"Peach\",\"Violet\",\"Magenta\",\"Maroon\",\"Cyan\",\"White\",\"Brown\",\"Red\",\"Orange\",\"White\",\"Green\",\"Black\",\"Gold\",\"Lavender\",\"Turquoise\",\"Pink\",\"Silver\",\"Gray\",\"Indigo\",\"Teal\",\"Green\",\"Violet\",\"Cyan\",\"Blue\",\"Orange\",\"Charcoal\",\"Beige\",\"Black\",\"Lavender\",\"Lavender\",\"Turquoise\",\"Purple\",\"Olive\",\"Turquoise\",\"Teal\",\"Lavender\",\"Purple\",\"Blue\",\"Teal\",\"Lavender\",\"Silver\",\"Olive\",\"Brown\",\"Yellow\",\"Brown\",\"Cyan\",\"Magenta\",\"Magenta\",\"Orange\",\"Maroon\",\"Green\",\"Teal\",\"Black\",\"Magenta\",\"Olive\",\"Yellow\",\"Purple\",\"Beige\",\"Indigo\",\"Pink\",\"Blue\",\"Cyan\",\"Orange\",\"Black\",\"Maroon\",\"Violet\",\"Beige\",\"Gray\",\"Gray\",\"Brown\",\"Indigo\",\"Violet\",\"Blue\",\"Red\",\"Peach\",\"Olive\",\"White\",\"Magenta\",\"Beige\",\"Gold\",\"Purple\",\"White\",\"Indigo\",\"Charcoal\",\"Pink\",\"Silver\",\"Blue\",\"Blue\",\"Brown\",\"Cyan\",\"Teal\",\"Purple\",\"Turquoise\",\"Olive\",\"White\",\"Turquoise\",\"Silver\",\"Violet\",\"Lavender\",\"Magenta\",\"Indigo\",\"Black\",\"Peach\",\"Beige\",\"Black\",\"Turquoise\",\"Peach\",\"Gold\",\"Silver\",\"Peach\",\"Charcoal\",\"Beige\",\"Olive\",\"Violet\",\"Peach\",\"Teal\",\"Violet\",\"Cyan\",\"Olive\",\"Pink\",\"Purple\",\"Violet\",\"Peach\",\"Charcoal\",\"Lavender\",\"Purple\",\"Indigo\",\"Magenta\",\"Peach\",\"Charcoal\",\"Purple\",\"Orange\",\"Lavender\",\"Beige\",\"Maroon\",\"Charcoal\",\"White\",\"Lavender\",\"Black\",\"Teal\",\"Magenta\",\"Brown\",\"Peach\",\"Cyan\",\"Pink\",\"Purple\",\"Purple\",\"White\",\"Silver\",\"Green\",\"Teal\",\"Indigo\",\"Pink\",\"Indigo\",\"Red\",\"Violet\",\"Cyan\",\"Red\",\"Gray\",\"Gold\",\"Pink\",\"Cyan\",\"Red\",\"Gold\",\"Charcoal\",\"Orange\",\"Blue\",\"Blue\",\"Orange\",\"Blue\",\"White\",\"Green\",\"Silver\",\"Lavender\",\"Beige\",\"Violet\",\"Gray\",\"Red\",\"Lavender\",\"Peach\",\"Indigo\",\"Black\",\"Beige\",\"Red\",\"Black\",\"Teal\",\"Blue\",\"Beige\",\"Teal\",\"Maroon\",\"Yellow\",\"Indigo\",\"Magenta\",\"Beige\",\"Maroon\",\"Magenta\",\"Teal\",\"Orange\",\"Charcoal\",\"Turquoise\",\"Pink\",\"Teal\",\"White\",\"Maroon\",\"Violet\",\"Brown\",\"Indigo\",\"Black\",\"Black\",\"Olive\",\"Orange\",\"Pink\",\"Olive\",\"Cyan\",\"White\",\"Red\",\"Blue\",\"Olive\",\"Green\",\"Yellow\",\"Black\",\"Blue\",\"Pink\",\"Lavender\",\"Cyan\",\"Cyan\",\"Gold\",\"Green\",\"Red\",\"Magenta\",\"Red\",\"Yellow\",\"Turquoise\",\"Cyan\",\"Yellow\",\"Yellow\",\"Maroon\",\"Brown\",\"Gold\",\"Charcoal\",\"Beige\",\"Indigo\",\"Red\",\"White\",\"Charcoal\",\"Violet\",\"Magenta\",\"White\",\"Pink\",\"Lavender\",\"Pink\",\"Silver\",\"Violet\",\"Charcoal\",\"Charcoal\",\"Red\",\"Peach\",\"Purple\",\"Orange\",\"Magenta\",\"Red\",\"Black\",\"Peach\",\"Olive\",\"Gold\",\"Gold\",\"Turquoise\",\"Green\",\"Maroon\",\"Brown\",\"Brown\",\"Blue\",\"Lavender\",\"Peach\",\"Gray\",\"Charcoal\",\"Lavender\",\"Green\",\"Gray\",\"Orange\",\"Silver\",\"Olive\",\"Turquoise\",\"Turquoise\",\"Green\",\"Violet\",\"Charcoal\",\"White\",\"Olive\",\"Violet\",\"Violet\",\"Black\",\"Charcoal\",\"Yellow\",\"Blue\",\"Charcoal\",\"Red\",\"Indigo\",\"Beige\",\"Maroon\",\"Yellow\",\"Silver\",\"Olive\",\"Teal\",\"Silver\",\"Indigo\",\"Teal\",\"Charcoal\",\"Orange\",\"Gold\",\"Silver\",\"Orange\",\"Peach\",\"Brown\",\"Black\",\"Red\",\"Lavender\",\"Brown\",\"Maroon\",\"Violet\",\"Lavender\",\"Magenta\",\"Green\",\"Lavender\",\"Green\",\"Maroon\",\"Magenta\",\"Teal\",\"Orange\",\"Violet\",\"Yellow\",\"Orange\",\"Gold\",\"Indigo\",\"Turquoise\",\"Orange\",\"Indigo\",\"Charcoal\",\"Lavender\",\"Gold\",\"Lavender\",\"White\",\"Lavender\",\"Charcoal\",\"Silver\",\"Yellow\",\"Olive\",\"Peach\",\"Yellow\",\"Yellow\",\"Indigo\",\"Violet\",\"White\",\"White\",\"Cyan\",\"Purple\",\"Black\",\"Orange\",\"Maroon\",\"Orange\",\"Teal\",\"Gray\",\"Blue\",\"Cyan\",\"Red\",\"Pink\",\"Cyan\",\"Black\",\"Beige\",\"Gray\",\"Red\",\"Yellow\",\"Magenta\",\"Magenta\",\"Black\",\"Orange\",\"Green\",\"Peach\",\"Charcoal\",\"Gray\",\"Turquoise\",\"Red\",\"Brown\",\"Pink\",\"Olive\",\"Lavender\",\"Purple\",\"Beige\",\"Green\",\"Brown\",\"Beige\",\"Beige\",\"Indigo\",\"Silver\",\"Gold\",\"Lavender\",\"Orange\",\"Maroon\",\"White\",\"Yellow\",\"Yellow\",\"Magenta\",\"Turquoise\",\"Lavender\",\"Magenta\",\"Cyan\",\"Olive\",\"Red\",\"Blue\",\"White\",\"Peach\",\"Charcoal\",\"Peach\",\"Turquoise\",\"Charcoal\",\"Yellow\",\"Blue\",\"Purple\",\"Green\",\"Charcoal\",\"Indigo\",\"Black\",\"Blue\",\"Silver\",\"Brown\",\"Violet\",\"Orange\",\"Gray\",\"Gold\",\"Charcoal\",\"Black\",\"Indigo\",\"White\",\"Yellow\",\"Orange\",\"Green\",\"Gold\",\"Orange\",\"Cyan\",\"Black\",\"Yellow\",\"Maroon\",\"Black\",\"Gray\",\"Orange\",\"Cyan\",\"Magenta\",\"Pink\",\"Turquoise\",\"Violet\",\"Teal\",\"Pink\",\"Gold\",\"Red\",\"Beige\",\"Black\",\"Lavender\",\"Teal\",\"Maroon\",\"Blue\",\"Teal\",\"Maroon\",\"Silver\",\"Olive\",\"Gray\",\"Peach\",\"Yellow\",\"Violet\",\"Red\",\"Charcoal\",\"Beige\",\"Peach\",\"Violet\",\"Green\",\"Olive\",\"Silver\",\"Purple\",\"Silver\",\"Gray\",\"Turquoise\",\"Violet\",\"Pink\",\"Teal\",\"Magenta\",\"Silver\",\"Blue\",\"Black\",\"Gold\",\"Gray\",\"Magenta\",\"Yellow\",\"Teal\",\"Red\",\"Yellow\",\"Black\",\"Pink\",\"Magenta\",\"Olive\",\"Black\",\"Maroon\",\"Gold\",\"Gray\",\"Brown\",\"Purple\",\"Magenta\",\"Teal\",\"Olive\",\"Maroon\",\"Silver\",\"Black\",\"Maroon\",\"Teal\",\"Teal\",\"Beige\",\"Maroon\",\"Beige\",\"White\",\"Gray\",\"Violet\",\"Silver\",\"Red\",\"Brown\",\"Turquoise\",\"Indigo\",\"Violet\",\"Yellow\",\"Cyan\",\"Brown\",\"White\",\"Yellow\",\"White\",\"Pink\",\"Indigo\",\"White\",\"Red\",\"Red\",\"Lavender\",\"Teal\",\"Violet\",\"Silver\",\"Gold\",\"Green\",\"Turquoise\",\"Indigo\",\"Black\",\"Charcoal\",\"Turquoise\",\"Red\",\"Indigo\",\"Maroon\",\"Indigo\",\"Maroon\",\"Black\",\"Purple\",\"Teal\",\"Silver\",\"Black\",\"Black\",\"Olive\",\"Purple\",\"Indigo\",\"Lavender\",\"Cyan\",\"Gold\",\"Magenta\",\"Teal\",\"Beige\",\"Teal\",\"Indigo\",\"Purple\",\"Teal\",\"Turquoise\",\"Peach\",\"Green\",\"Turquoise\",\"Yellow\",\"Orange\",\"Brown\",\"Silver\",\"White\",\"Indigo\",\"Magenta\",\"Turquoise\",\"White\",\"Olive\",\"Maroon\",\"Violet\",\"Cyan\",\"Teal\",\"Red\",\"Yellow\",\"Silver\",\"Charcoal\",\"Purple\",\"Beige\",\"Cyan\",\"Silver\",\"Pink\",\"Gold\",\"Cyan\",\"Black\",\"Charcoal\",\"Magenta\",\"Pink\",\"Maroon\",\"Teal\",\"Orange\",\"Yellow\",\"Red\",\"Charcoal\",\"Black\",\"White\",\"Lavender\",\"White\",\"Gray\",\"Cyan\",\"Brown\",\"Purple\",\"Yellow\",\"Indigo\",\"Black\",\"Gray\",\"Indigo\",\"Green\",\"Peach\",\"Purple\",\"Beige\",\"Charcoal\",\"Gray\",\"Brown\",\"Cyan\",\"White\",\"Beige\",\"Orange\",\"Olive\",\"Teal\",\"Silver\",\"Gold\",\"Violet\",\"White\",\"Peach\",\"Orange\",\"Violet\",\"Green\",\"Peach\",\"Black\",\"Blue\",\"Magenta\",\"Violet\",\"Beige\",\"Pink\",\"Beige\",\"Green\",\"Silver\",\"Purple\",\"Gray\",\"White\",\"Silver\",\"Blue\",\"Orange\",\"Silver\",\"Gray\",\"Gold\",\"Brown\",\"Turquoise\",\"Pink\",\"Black\",\"Yellow\",\"Beige\",\"Olive\",\"Gold\",\"Purple\",\"Pink\",\"Blue\",\"Brown\",\"Charcoal\",\"Maroon\",\"Cyan\",\"Olive\",\"Gold\",\"Violet\",\"Peach\",\"Beige\",\"Cyan\",\"Silver\",\"Magenta\",\"Black\",\"Olive\",\"Green\",\"Yellow\",\"Lavender\",\"Indigo\",\"Pink\",\"Red\",\"Magenta\",\"Peach\",\"Turquoise\",\"Black\",\"Blue\",\"Beige\",\"Olive\",\"Turquoise\",\"Yellow\",\"Turquoise\",\"Lavender\",\"Turquoise\",\"Teal\",\"Black\",\"Blue\",\"Yellow\",\"Black\",\"Lavender\",\"Cyan\",\"Brown\",\"Maroon\",\"Cyan\",\"Pink\",\"Orange\",\"Lavender\",\"Beige\",\"Pink\",\"Charcoal\",\"Gray\",\"Cyan\",\"Orange\",\"Pink\",\"White\",\"Beige\",\"Magenta\",\"Violet\",\"Gold\",\"Teal\",\"Indigo\",\"Olive\",\"Violet\",\"Black\",\"Brown\",\"Silver\",\"Gray\",\"Charcoal\",\"Black\",\"Brown\",\"Purple\",\"Purple\",\"Gray\",\"Green\",\"Silver\",\"Charcoal\",\"Teal\",\"White\",\"Brown\",\"Teal\",\"Red\",\"Brown\",\"Yellow\",\"Teal\",\"Pink\",\"White\",\"Silver\",\"Blue\",\"Black\",\"Beige\",\"Charcoal\",\"Cyan\",\"Yellow\",\"Silver\",\"Green\",\"Peach\",\"Green\",\"Brown\",\"Lavender\",\"Charcoal\",\"Orange\",\"Cyan\",\"Lavender\",\"Indigo\",\"Brown\",\"Pink\",\"Turquoise\",\"Gold\",\"Blue\",\"Lavender\",\"Violet\",\"Cyan\",\"Purple\",\"Red\",\"Charcoal\",\"Gray\",\"Pink\",\"Lavender\",\"Lavender\",\"Yellow\",\"Peach\",\"Brown\",\"Gold\",\"Pink\",\"Peach\",\"Violet\",\"Purple\",\"Peach\",\"White\",\"Indigo\",\"Violet\",\"Brown\",\"Maroon\",\"Magenta\",\"Charcoal\",\"Indigo\",\"Turquoise\",\"Turquoise\",\"Gray\",\"Peach\",\"Gold\",\"Green\",\"Gold\",\"Lavender\",\"Blue\",\"Magenta\",\"Blue\",\"Blue\",\"Olive\",\"White\",\"White\",\"Purple\",\"White\",\"White\",\"Peach\",\"Gold\",\"Teal\",\"Cyan\",\"Pink\",\"Magenta\",\"Pink\",\"Turquoise\",\"Pink\",\"Gray\",\"White\",\"Blue\",\"Cyan\",\"Blue\",\"Yellow\",\"Charcoal\",\"Lavender\",\"Teal\",\"Beige\",\"Blue\",\"Purple\",\"Gold\",\"Blue\",\"Black\",\"Charcoal\",\"Purple\",\"Orange\",\"Yellow\",\"Cyan\",\"Yellow\",\"Maroon\",\"Black\",\"Lavender\",\"Violet\",\"Olive\",\"Teal\",\"Teal\",\"Beige\",\"Maroon\",\"Peach\",\"Beige\",\"Silver\",\"Peach\",\"Turquoise\",\"Orange\",\"Cyan\",\"Silver\",\"Gold\",\"Brown\",\"Silver\",\"Beige\",\"Violet\",\"Violet\",\"Lavender\",\"Red\",\"Purple\",\"Brown\",\"Gray\",\"Pink\",\"Magenta\",\"Charcoal\",\"Yellow\",\"Red\",\"Blue\",\"Cyan\",\"Pink\",\"Maroon\",\"Beige\",\"Gold\",\"Turquoise\",\"Peach\",\"Lavender\",\"Gray\",\"Blue\",\"Red\",\"Purple\",\"Indigo\",\"Gold\",\"Teal\",\"Magenta\",\"Maroon\",\"Blue\",\"Beige\",\"Olive\",\"Gold\",\"Silver\",\"Teal\",\"Green\",\"Orange\",\"Charcoal\",\"Black\",\"Yellow\",\"Gray\",\"Charcoal\",\"Peach\",\"Green\",\"Magenta\",\"Beige\",\"Black\",\"Purple\",\"Olive\",\"Purple\",\"Green\",\"Peach\",\"Blue\",\"Gray\",\"Black\",\"Silver\",\"Pink\",\"Lavender\",\"Brown\",\"Turquoise\",\"Olive\",\"White\",\"Violet\",\"Gold\",\"Violet\",\"Teal\",\"Olive\",\"Blue\",\"Magenta\",\"Gray\",\"Peach\",\"Cyan\",\"Violet\",\"Gold\",\"Gold\",\"White\",\"Gray\",\"Brown\",\"Gray\",\"Blue\",\"Gold\",\"Yellow\",\"Green\",\"Pink\",\"Pink\",\"Pink\",\"Cyan\",\"Gray\",\"White\",\"Red\",\"Black\",\"Silver\",\"Pink\",\"Cyan\",\"White\",\"Purple\",\"Yellow\",\"Blue\",\"Cyan\",\"Indigo\",\"Indigo\",\"Silver\",\"Red\",\"Peach\",\"Turquoise\",\"Pink\",\"Teal\",\"Magenta\",\"Blue\",\"Green\",\"Violet\",\"Turquoise\",\"Pink\",\"Black\",\"Gold\",\"Green\",\"White\",\"Gold\",\"Charcoal\",\"White\",\"Brown\",\"Gold\",\"Purple\",\"Brown\",\"Teal\",\"Indigo\",\"Purple\",\"Orange\",\"Indigo\",\"Lavender\",\"Purple\",\"Red\",\"Blue\",\"Blue\",\"Cyan\",\"Pink\",\"Silver\",\"Gray\",\"Indigo\",\"Maroon\",\"Beige\",\"Green\",\"Peach\",\"Black\",\"Pink\",\"Violet\",\"Green\",\"Gold\",\"Red\",\"Beige\",\"Green\",\"Black\",\"Teal\",\"Silver\",\"Turquoise\",\"Orange\",\"Gold\",\"Purple\",\"Pink\",\"Green\",\"Charcoal\",\"Maroon\",\"Olive\",\"Peach\",\"Yellow\",\"Lavender\",\"Green\",\"Orange\",\"Olive\",\"Gray\",\"Lavender\",\"Red\",\"Charcoal\",\"Orange\",\"Red\",\"Maroon\",\"Silver\",\"Pink\",\"Blue\",\"Teal\",\"Black\",\"Gray\",\"Purple\",\"Gold\",\"Silver\",\"Blue\",\"Yellow\",\"Brown\",\"Beige\",\"Blue\",\"Magenta\",\"Silver\",\"Cyan\",\"Green\",\"Blue\",\"Olive\",\"Beige\",\"Black\",\"Indigo\",\"Red\",\"Yellow\",\"Beige\",\"Green\",\"White\",\"Turquoise\",\"Indigo\",\"Orange\",\"Blue\",\"Violet\",\"Gray\",\"Cyan\",\"Yellow\",\"Orange\",\"Brown\",\"Teal\",\"Beige\",\"Blue\",\"Orange\",\"Gold\",\"Teal\",\"Beige\",\"Silver\",\"Maroon\",\"Indigo\",\"Gray\",\"Blue\",\"Cyan\",\"White\",\"Green\",\"Silver\",\"Blue\",\"Brown\",\"Red\",\"Gold\",\"Silver\",\"Gray\",\"Black\",\"Beige\",\"Peach\",\"Cyan\",\"Pink\",\"Lavender\",\"Brown\",\"Magenta\",\"Violet\",\"Teal\",\"Brown\",\"Olive\",\"Indigo\",\"Red\",\"Olive\",\"Teal\",\"Cyan\",\"Teal\",\"Beige\",\"Magenta\",\"Indigo\",\"Cyan\",\"Orange\",\"Violet\",\"Red\",\"Magenta\",\"Olive\",\"Maroon\",\"Yellow\",\"Red\",\"Purple\",\"Teal\",\"Red\",\"Brown\",\"Peach\",\"Maroon\",\"Red\",\"Orange\",\"White\",\"White\",\"Charcoal\",\"Turquoise\",\"Orange\",\"Orange\",\"Brown\",\"Magenta\",\"Violet\",\"Violet\",\"Yellow\",\"Maroon\",\"Turquoise\",\"Olive\",\"Peach\",\"Charcoal\",\"Peach\",\"Black\",\"Gray\",\"Olive\",\"Turquoise\",\"Purple\",\"Green\",\"Beige\",\"Brown\",\"Turquoise\",\"Yellow\",\"Lavender\",\"Cyan\",\"Olive\",\"Silver\",\"Red\",\"Green\",\"Gold\",\"Lavender\",\"Yellow\",\"Black\",\"Maroon\",\"Maroon\",\"Gold\",\"Violet\",\"Teal\",\"Violet\",\"Brown\",\"Brown\",\"Maroon\",\"Maroon\",\"Yellow\",\"Turquoise\",\"Silver\",\"Brown\",\"Gray\",\"Indigo\",\"Turquoise\",\"Maroon\",\"Charcoal\",\"Peach\",\"Red\",\"Indigo\",\"Lavender\",\"Red\",\"Green\",\"Gray\",\"Violet\",\"Beige\",\"Orange\",\"Purple\",\"Brown\",\"Maroon\",\"Gold\",\"Indigo\",\"Silver\",\"Red\",\"Magenta\",\"Purple\",\"Beige\",\"White\",\"Teal\",\"Gray\",\"Charcoal\",\"Olive\",\"Blue\",\"Gray\",\"Green\",\"Silver\",\"Teal\",\"Beige\",\"Lavender\",\"Gray\",\"Yellow\",\"Gray\",\"Yellow\",\"Black\",\"Beige\",\"Indigo\",\"Green\",\"Purple\",\"Orange\",\"Teal\",\"Gold\",\"Gray\",\"Cyan\",\"Teal\",\"Violet\",\"Indigo\",\"Pink\",\"Gold\",\"Maroon\",\"Brown\",\"Gold\",\"Teal\",\"Turquoise\",\"Olive\",\"Cyan\",\"Beige\",\"Blue\",\"Gold\",\"Green\",\"Green\",\"Turquoise\",\"Yellow\",\"Yellow\",\"Blue\",\"Charcoal\",\"Yellow\",\"Purple\",\"Green\",\"Charcoal\",\"Silver\",\"Turquoise\",\"Gray\",\"Red\",\"Beige\",\"Maroon\",\"Indigo\",\"Red\",\"Maroon\",\"Red\",\"Black\",\"Black\",\"Pink\",\"Blue\",\"Green\",\"Orange\",\"Orange\",\"Magenta\",\"Indigo\",\"Beige\",\"Green\",\"Red\",\"Beige\",\"Green\",\"Orange\",\"Cyan\",\"Violet\",\"Lavender\",\"Turquoise\",\"Pink\",\"Beige\",\"Silver\",\"Gold\",\"Silver\",\"Green\",\"Teal\",\"Gold\",\"Cyan\",\"Gold\",\"Violet\",\"Black\",\"Brown\",\"Indigo\",\"Yellow\",\"Purple\",\"White\",\"Turquoise\",\"Olive\",\"Beige\",\"Lavender\",\"White\",\"Brown\",\"Charcoal\",\"Maroon\",\"Red\",\"Maroon\",\"Teal\",\"Orange\",\"Olive\",\"Olive\",\"Beige\",\"Green\",\"Black\",\"Green\",\"Violet\",\"Silver\",\"Maroon\",\"Cyan\",\"Teal\",\"Olive\",\"Red\",\"Lavender\",\"Orange\",\"Brown\",\"Gray\",\"Orange\",\"Orange\",\"Turquoise\",\"Cyan\",\"Yellow\",\"White\",\"Blue\",\"Purple\",\"Gray\",\"Cyan\",\"Pink\",\"Gold\",\"Silver\",\"Gray\",\"Brown\",\"Pink\",\"Maroon\",\"Peach\",\"Brown\",\"Green\",\"Lavender\",\"Cyan\",\"Black\",\"Charcoal\",\"Silver\",\"Gray\",\"Peach\",\"Peach\",\"Cyan\",\"Magenta\",\"Teal\",\"Peach\",\"Black\",\"Teal\",\"Turquoise\",\"Gold\",\"Green\",\"Brown\",\"Blue\",\"Gold\",\"Peach\",\"Violet\",\"Yellow\",\"Black\",\"Silver\",\"Brown\",\"Peach\",\"Cyan\",\"Olive\",\"Black\",\"Orange\",\"Beige\",\"Peach\",\"Pink\",\"Brown\",\"Magenta\",\"Cyan\",\"Silver\",\"Indigo\",\"Beige\",\"Black\",\"Yellow\",\"Maroon\",\"Cyan\",\"Pink\",\"Violet\",\"Lavender\",\"Lavender\",\"Black\",\"Olive\",\"Indigo\",\"Blue\",\"Green\",\"Pink\",\"Peach\",\"Purple\",\"Peach\",\"Olive\",\"Olive\",\"Purple\",\"Violet\",\"Maroon\",\"White\",\"Olive\",\"Peach\",\"Blue\",\"Brown\",\"Black\",\"Yellow\",\"Magenta\",\"Cyan\",\"Maroon\",\"Red\",\"Black\",\"Violet\",\"Green\",\"Gold\",\"Brown\",\"Peach\",\"Peach\",\"Violet\",\"Violet\",\"Magenta\",\"Purple\",\"Purple\",\"Cyan\",\"Magenta\",\"Lavender\",\"Green\",\"Maroon\",\"Turquoise\",\"Violet\",\"Lavender\",\"Red\",\"Orange\",\"Indigo\",\"Teal\",\"Brown\",\"Pink\",\"Lavender\",\"Cyan\",\"Yellow\",\"Pink\",\"Gray\",\"Peach\",\"Red\",\"Olive\",\"Lavender\",\"Turquoise\",\"Turquoise\",\"Maroon\",\"Olive\",\"Maroon\",\"Cyan\",\"Peach\",\"Teal\",\"Green\",\"Beige\",\"Magenta\",\"Violet\",\"Charcoal\",\"Green\",\"Gray\",\"Magenta\",\"Silver\",\"Beige\",\"Peach\",\"Orange\",\"Yellow\",\"Violet\",\"Green\",\"Pink\",\"Violet\",\"Violet\",\"Pink\",\"Violet\",\"Turquoise\",\"Cyan\",\"Orange\",\"Cyan\",\"Indigo\",\"Black\",\"Purple\",\"Cyan\",\"Green\",\"Teal\",\"Teal\",\"Magenta\",\"Brown\",\"Orange\",\"Blue\",\"Magenta\",\"Magenta\",\"Magenta\",\"Olive\",\"Cyan\",\"Purple\",\"Purple\",\"Peach\",\"Gold\",\"Peach\",\"Magenta\",\"Cyan\",\"Violet\",\"Charcoal\",\"Blue\",\"Red\",\"Purple\",\"Gray\",\"Purple\",\"Silver\",\"Purple\",\"Charcoal\",\"Silver\",\"White\",\"Peach\",\"Red\",\"Olive\",\"Gray\",\"Beige\",\"Pink\",\"Red\",\"Peach\",\"Maroon\",\"Purple\",\"Maroon\",\"Gray\",\"Gray\",\"Magenta\",\"Cyan\",\"Silver\",\"Green\",\"Violet\",\"Magenta\",\"Yellow\",\"Gray\",\"Indigo\",\"Indigo\",\"Yellow\",\"Gold\",\"Green\",\"Charcoal\",\"Olive\",\"Black\",\"Silver\",\"Red\",\"Brown\",\"Silver\",\"Silver\",\"Black\",\"Purple\",\"Purple\",\"Turquoise\",\"Gold\",\"Indigo\",\"Lavender\",\"Blue\",\"Maroon\",\"Yellow\",\"Purple\",\"Peach\",\"Silver\",\"Turquoise\",\"Olive\",\"Peach\",\"Indigo\",\"Indigo\",\"Maroon\",\"Black\",\"Teal\",\"Olive\",\"Gold\",\"Gray\",\"Orange\",\"Black\",\"Teal\",\"Beige\",\"White\",\"Turquoise\",\"Teal\",\"Orange\",\"Black\",\"Violet\",\"Maroon\",\"Turquoise\",\"Gold\",\"Turquoise\",\"Maroon\",\"Purple\",\"Maroon\",\"Brown\",\"Indigo\",\"Lavender\",\"Beige\",\"Yellow\",\"Gold\",\"Indigo\",\"Cyan\",\"Silver\",\"Silver\",\"Silver\",\"Peach\",\"Pink\",\"Violet\",\"Black\",\"Purple\",\"Black\",\"Peach\",\"Magenta\",\"Magenta\",\"Black\",\"Pink\",\"Olive\",\"Olive\",\"Peach\",\"Silver\",\"Turquoise\",\"Olive\",\"Lavender\",\"Red\",\"Gray\",\"Magenta\",\"Maroon\",\"Cyan\",\"Cyan\",\"Lavender\",\"Pink\",\"Gray\",\"Yellow\",\"Pink\",\"Indigo\",\"Gray\",\"Yellow\",\"Olive\",\"Cyan\",\"Silver\",\"Silver\",\"Red\",\"Brown\",\"Orange\",\"Black\",\"Teal\",\"Yellow\",\"Gray\",\"Maroon\",\"Olive\",\"Charcoal\",\"Peach\",\"Maroon\",\"Olive\",\"Magenta\",\"Yellow\",\"Indigo\",\"Olive\",\"Maroon\",\"Indigo\",\"Gray\",\"Gray\",\"Black\",\"White\",\"Turquoise\",\"Orange\",\"Yellow\",\"Blue\",\"Violet\",\"Lavender\",\"Olive\",\"Orange\",\"White\",\"Red\",\"Magenta\",\"Violet\",\"Olive\",\"Silver\",\"Gray\",\"Olive\",\"Beige\",\"Turquoise\",\"Blue\",\"Pink\",\"Teal\",\"Cyan\",\"Purple\",\"Red\",\"Brown\",\"Magenta\",\"Olive\",\"Pink\",\"Black\",\"Beige\",\"Peach\",\"Peach\",\"Peach\",\"Teal\",\"Green\",\"Brown\",\"Brown\",\"Violet\",\"Blue\",\"Charcoal\",\"Pink\",\"Violet\",\"Teal\",\"Red\",\"Orange\",\"Magenta\",\"Yellow\",\"Yellow\",\"Pink\",\"Indigo\",\"Charcoal\",\"Blue\",\"Lavender\",\"Yellow\",\"Black\",\"Beige\",\"Silver\",\"Magenta\",\"Orange\",\"Teal\",\"Turquoise\",\"Cyan\",\"Pink\",\"Indigo\",\"Peach\",\"Beige\",\"Gold\",\"Indigo\",\"Violet\",\"Brown\",\"Purple\",\"Turquoise\",\"Violet\",\"Purple\",\"Charcoal\",\"Green\",\"White\",\"Purple\",\"Cyan\",\"Green\",\"Beige\",\"Lavender\",\"Blue\",\"Beige\",\"Blue\",\"Maroon\",\"Yellow\",\"Red\",\"Green\",\"Magenta\",\"Yellow\",\"Blue\",\"Charcoal\",\"Blue\",\"Cyan\",\"Silver\",\"Black\",\"Green\",\"Violet\",\"Pink\",\"Olive\",\"Orange\",\"Black\",\"Yellow\",\"Violet\",\"Silver\",\"Gold\",\"Magenta\",\"Red\",\"Green\",\"Red\",\"Pink\",\"Violet\",\"Indigo\",\"Red\",\"Violet\",\"Cyan\",\"Black\",\"Purple\",\"Charcoal\",\"Beige\",\"Teal\",\"Purple\",\"Blue\",\"Magenta\",\"Maroon\",\"Gold\",\"Black\",\"Black\",\"Yellow\",\"Turquoise\",\"Lavender\",\"Yellow\",\"Olive\",\"Brown\",\"Olive\",\"Purple\",\"Yellow\",\"Brown\",\"Magenta\",\"Lavender\",\"Teal\",\"Cyan\",\"Pink\",\"Magenta\",\"Teal\",\"Indigo\",\"Pink\",\"Charcoal\",\"Brown\",\"Blue\",\"Teal\",\"Pink\",\"Magenta\",\"Green\",\"White\",\"Indigo\",\"Lavender\",\"Black\",\"Charcoal\",\"Gray\",\"Gold\",\"Silver\",\"Teal\",\"Magenta\",\"Magenta\",\"Beige\",\"Maroon\",\"Indigo\",\"Maroon\",\"Teal\",\"Yellow\",\"Gold\",\"Teal\",\"Violet\",\"Yellow\",\"Maroon\",\"Silver\",\"Violet\",\"White\",\"Black\",\"White\",\"Blue\",\"Black\",\"Olive\",\"Teal\",\"Silver\",\"Pink\",\"Charcoal\",\"Silver\",\"Turquoise\",\"Turquoise\",\"Beige\",\"Cyan\",\"Gold\",\"Silver\",\"Purple\",\"Yellow\",\"Blue\",\"Blue\",\"Green\",\"Charcoal\",\"Violet\",\"Black\",\"Teal\",\"Orange\",\"Brown\",\"Green\",\"Silver\",\"Violet\",\"Peach\",\"Gold\",\"Violet\",\"Olive\",\"Orange\",\"Teal\",\"Gray\",\"Black\",\"Indigo\",\"Lavender\",\"Beige\",\"Indigo\",\"Blue\",\"Orange\",\"Yellow\",\"Cyan\",\"Yellow\",\"Cyan\",\"Green\",\"White\",\"Black\",\"Charcoal\",\"Brown\",\"Cyan\",\"Beige\",\"Magenta\",\"Indigo\",\"Maroon\",\"Gray\",\"Black\",\"Yellow\",\"White\",\"Orange\",\"Magenta\",\"Black\",\"Brown\",\"Orange\",\"Gray\",\"White\",\"White\",\"Violet\",\"Beige\",\"Beige\",\"Purple\",\"Brown\",\"Orange\",\"Cyan\",\"Charcoal\",\"Purple\",\"Peach\",\"Violet\",\"Peach\",\"Maroon\",\"Maroon\",\"Peach\",\"Silver\",\"Indigo\",\"Silver\",\"Olive\",\"Gray\",\"Black\",\"Maroon\",\"Olive\",\"Gold\",\"Pink\",\"Brown\",\"White\",\"Blue\",\"Orange\",\"Silver\",\"Gray\",\"Blue\",\"White\",\"Yellow\",\"Indigo\",\"Blue\",\"Peach\",\"Lavender\",\"Silver\",\"Gold\",\"Cyan\",\"Olive\",\"Teal\",\"Pink\",\"Orange\",\"Charcoal\",\"Red\",\"Teal\",\"Silver\",\"Black\",\"Pink\",\"Teal\",\"Teal\",\"Green\",\"Charcoal\",\"Indigo\",\"White\",\"Orange\",\"White\",\"Yellow\",\"Red\",\"Charcoal\",\"Lavender\",\"Charcoal\",\"Maroon\",\"Brown\",\"Lavender\",\"Brown\",\"Olive\",\"Lavender\",\"Gold\",\"Silver\",\"Violet\",\"Brown\",\"Teal\",\"Peach\",\"Maroon\",\"Lavender\",\"Lavender\",\"Purple\",\"Green\",\"Yellow\",\"Charcoal\",\"Blue\",\"Lavender\",\"Brown\",\"White\",\"Green\",\"Magenta\",\"Peach\",\"Charcoal\",\"Gold\",\"Purple\",\"Teal\",\"Green\",\"Orange\",\"Peach\",\"Gold\",\"Violet\",\"Charcoal\",\"Brown\",\"Blue\",\"Gold\",\"Orange\",\"Turquoise\",\"Peach\",\"Magenta\",\"Black\",\"White\",\"Violet\",\"Olive\",\"Red\",\"Green\",\"Gold\",\"Olive\",\"Brown\",\"Magenta\",\"Violet\",\"Beige\",\"Blue\",\"Orange\",\"Maroon\",\"Charcoal\",\"Olive\",\"Green\",\"Brown\",\"Cyan\",\"Beige\",\"Teal\",\"Gray\",\"Indigo\",\"Magenta\",\"Red\",\"Turquoise\",\"Peach\",\"White\",\"Maroon\",\"Beige\",\"Blue\",\"Red\",\"Blue\",\"Maroon\",\"Yellow\",\"Pink\",\"Maroon\",\"Purple\",\"Indigo\",\"Gray\",\"Lavender\",\"Charcoal\",\"Teal\",\"Blue\",\"Peach\",\"Orange\",\"Silver\",\"Red\",\"Gray\",\"Beige\",\"White\",\"Silver\",\"Cyan\",\"Maroon\",\"Purple\",\"Brown\",\"Green\",\"Peach\",\"Turquoise\",\"Olive\",\"Yellow\",\"Gray\",\"Purple\",\"Gray\",\"Lavender\",\"Indigo\",\"Green\",\"Green\",\"Olive\",\"Charcoal\",\"Gray\",\"Olive\",\"Blue\",\"Silver\",\"Magenta\",\"Black\",\"Pink\",\"Red\",\"Peach\",\"Lavender\",\"Lavender\",\"Beige\",\"Indigo\",\"Cyan\",\"Yellow\",\"Peach\",\"Yellow\",\"Orange\",\"Gray\",\"Yellow\",\"Gray\",\"Turquoise\",\"Gray\",\"Olive\",\"Peach\",\"Peach\",\"Magenta\",\"Purple\",\"Beige\",\"Purple\",\"Yellow\",\"Pink\",\"Purple\",\"Lavender\",\"Peach\",\"Orange\",\"Red\",\"Red\",\"Gold\",\"Brown\",\"Black\",\"Red\",\"Gray\",\"Pink\",\"Turquoise\",\"Charcoal\",\"Blue\",\"Turquoise\",\"Silver\",\"Lavender\",\"Gold\",\"Blue\",\"Orange\",\"White\",\"Charcoal\",\"Maroon\",\"Olive\",\"Teal\",\"Orange\",\"Maroon\",\"Turquoise\",\"Beige\",\"Beige\",\"Olive\",\"Turquoise\",\"Charcoal\",\"Green\",\"Green\",\"Green\",\"Gold\",\"Cyan\",\"Indigo\",\"Lavender\",\"Beige\",\"Purple\",\"Maroon\",\"Maroon\",\"Teal\",\"Gold\",\"Red\",\"Maroon\",\"Teal\",\"Peach\",\"Pink\",\"Black\",\"Indigo\",\"Green\",\"Teal\",\"Lavender\",\"Magenta\",\"Brown\",\"Beige\",\"Indigo\",\"Peach\",\"Magenta\",\"Turquoise\",\"Indigo\",\"Brown\",\"Yellow\",\"Magenta\",\"Olive\",\"Silver\",\"Teal\",\"White\",\"Blue\",\"Yellow\",\"Maroon\",\"Gray\",\"Indigo\",\"Pink\",\"Beige\",\"White\",\"Yellow\",\"Teal\",\"Olive\",\"Maroon\",\"White\",\"Lavender\",\"Black\",\"Green\",\"Olive\",\"Gray\",\"Teal\",\"Charcoal\",\"Violet\",\"Lavender\",\"Beige\",\"Black\",\"Black\",\"Purple\",\"Magenta\",\"Teal\",\"Teal\",\"Pink\",\"Teal\",\"Gold\",\"Brown\",\"Brown\",\"Magenta\",\"Black\",\"Teal\",\"Brown\",\"Magenta\",\"Indigo\",\"Violet\",\"Cyan\",\"Violet\",\"Black\",\"Charcoal\",\"White\",\"Gray\",\"Pink\",\"Cyan\",\"Blue\",\"Indigo\",\"Magenta\",\"Lavender\",\"Orange\",\"Cyan\",\"Green\",\"White\",\"Blue\",\"Black\",\"Red\",\"Red\",\"Gold\",\"Red\",\"Purple\",\"White\",\"Magenta\",\"Pink\",\"Black\",\"White\",\"Maroon\",\"Black\",\"Olive\",\"Gray\",\"Gold\",\"Magenta\",\"Lavender\",\"Green\",\"Violet\",\"Brown\",\"Teal\",\"Charcoal\",\"Charcoal\",\"Beige\",\"Turquoise\",\"Orange\",\"Cyan\",\"Orange\",\"Green\",\"Pink\",\"Blue\",\"Pink\",\"Blue\",\"Black\",\"Black\",\"Violet\",\"Gold\",\"Olive\",\"Pink\",\"Olive\",\"Indigo\",\"Silver\",\"Charcoal\",\"Orange\",\"Yellow\",\"Red\",\"Maroon\",\"Magenta\",\"Black\",\"Violet\",\"Gray\",\"Black\",\"Pink\",\"Silver\",\"Violet\",\"Beige\",\"Cyan\",\"Brown\",\"Blue\",\"White\",\"Cyan\",\"Maroon\",\"Olive\",\"Violet\",\"Green\",\"Magenta\",\"Turquoise\",\"Black\",\"Cyan\",\"Gray\",\"Red\",\"Olive\",\"Cyan\",\"Teal\",\"Teal\",\"Orange\",\"Peach\",\"Silver\",\"Pink\",\"Magenta\",\"Red\",\"Maroon\",\"Silver\",\"Gray\",\"Turquoise\",\"Peach\",\"Teal\",\"Red\",\"Blue\",\"Blue\",\"Indigo\",\"Charcoal\",\"Turquoise\",\"Maroon\",\"Purple\",\"Lavender\",\"Yellow\",\"Green\",\"Yellow\",\"Gold\",\"Turquoise\",\"Blue\",\"Turquoise\",\"Maroon\",\"Pink\",\"Maroon\",\"Olive\",\"Lavender\",\"Pink\",\"Cyan\",\"Maroon\",\"Red\",\"Silver\",\"Blue\",\"Gold\",\"Yellow\",\"Silver\",\"Black\",\"Yellow\",\"Pink\",\"Yellow\",\"Lavender\",\"Peach\",\"Black\",\"Olive\",\"Olive\",\"White\",\"Red\",\"Purple\",\"Purple\",\"Teal\",\"Teal\",\"Gray\",\"Magenta\",\"Black\",\"Maroon\",\"Gold\",\"Purple\",\"Blue\",\"Beige\",\"Indigo\",\"Purple\",\"Maroon\",\"Beige\",\"Brown\",\"Green\",\"Blue\",\"Magenta\",\"Turquoise\",\"Gray\",\"Purple\",\"Lavender\",\"Green\",\"Gray\",\"Yellow\",\"Orange\",\"Beige\",\"Peach\",\"Green\",\"Violet\",\"Gray\",\"Magenta\",\"Charcoal\",\"Violet\",\"Silver\",\"Green\",\"Magenta\",\"Purple\",\"Blue\",\"Yellow\",\"Brown\",\"Pink\",\"Silver\",\"Indigo\",\"Pink\",\"Lavender\",\"Orange\",\"Red\",\"Gray\",\"Violet\",\"Green\",\"Gold\",\"Maroon\",\"Olive\",\"Yellow\",\"Peach\",\"Gold\",\"Purple\",\"Charcoal\",\"Indigo\",\"Magenta\",\"Olive\",\"Blue\",\"White\",\"Cyan\",\"Cyan\",\"Orange\",\"Orange\",\"Teal\",\"Magenta\",\"Orange\",\"Peach\",\"Maroon\",\"Gold\",\"White\",\"Gray\",\"Brown\",\"Charcoal\",\"Beige\",\"Teal\",\"Black\",\"Violet\",\"Orange\",\"Turquoise\",\"Black\",\"Silver\",\"Gray\",\"Pink\",\"Red\",\"Lavender\",\"Indigo\",\"Silver\",\"Silver\",\"Green\",\"Pink\",\"Violet\",\"Red\",\"Olive\",\"Purple\",\"Gray\",\"Brown\",\"Orange\",\"Blue\",\"White\",\"Charcoal\",\"Gray\",\"Charcoal\",\"White\",\"Orange\",\"Black\",\"White\",\"Brown\",\"Pink\",\"Yellow\",\"Cyan\",\"Silver\",\"Olive\",\"Olive\",\"Charcoal\",\"Gray\",\"Maroon\",\"Black\",\"Violet\",\"Indigo\",\"Yellow\",\"Gray\",\"Red\",\"Peach\",\"Gray\",\"White\",\"Green\",\"Magenta\",\"Olive\",\"Olive\",\"Blue\",\"Charcoal\",\"Yellow\",\"Violet\",\"Magenta\",\"Red\",\"Cyan\",\"Orange\",\"Black\",\"Blue\",\"Charcoal\",\"Indigo\",\"Silver\",\"Brown\",\"Peach\",\"Magenta\",\"Beige\",\"Violet\",\"Black\",\"Cyan\",\"Green\",\"Brown\",\"Gray\",\"Orange\",\"Silver\",\"Purple\",\"Olive\",\"Teal\",\"White\",\"Black\",\"Maroon\",\"Cyan\",\"Violet\",\"Yellow\",\"Yellow\",\"Olive\",\"Olive\",\"Magenta\",\"Orange\",\"Beige\",\"Brown\",\"Indigo\",\"Gray\",\"Yellow\",\"Violet\",\"Magenta\",\"Blue\",\"Gray\",\"Gold\",\"Lavender\",\"Black\",\"Charcoal\",\"Violet\",\"Charcoal\",\"Maroon\",\"Purple\",\"Peach\",\"Olive\",\"Indigo\",\"Magenta\",\"Gold\",\"Orange\",\"Gold\",\"Purple\",\"Charcoal\",\"Cyan\",\"Cyan\",\"Green\",\"Silver\",\"Teal\",\"Magenta\",\"Maroon\",\"Gold\",\"Purple\",\"Lavender\",\"Maroon\",\"Magenta\",\"Turquoise\",\"Silver\",\"Purple\",\"Violet\",\"Peach\",\"Green\",\"Teal\",\"Silver\",\"Purple\",\"Lavender\",\"Lavender\",\"Peach\",\"Green\",\"Orange\",\"Pink\",\"Cyan\",\"Lavender\",\"Yellow\",\"Olive\",\"Brown\",\"Pink\",\"Cyan\",\"Maroon\",\"Magenta\",\"Violet\",\"Silver\",\"Maroon\",\"Gray\",\"White\",\"Brown\",\"Silver\",\"Yellow\",\"Magenta\",\"Blue\",\"Green\",\"Yellow\",\"Cyan\",\"Gold\",\"Magenta\",\"Gray\",\"Indigo\",\"White\",\"Indigo\",\"Green\",\"Turquoise\",\"Peach\",\"Olive\",\"Cyan\",\"Magenta\",\"Silver\",\"White\",\"Pink\",\"Pink\",\"Pink\",\"Blue\",\"White\",\"Teal\",\"Gray\",\"Beige\",\"Violet\",\"Blue\",\"Magenta\",\"Maroon\",\"Purple\",\"Charcoal\",\"Red\",\"Charcoal\",\"Lavender\",\"White\",\"Red\",\"Violet\",\"Orange\",\"Turquoise\",\"Violet\",\"Blue\",\"White\",\"Turquoise\",\"Pink\",\"Maroon\",\"Olive\",\"Charcoal\",\"Charcoal\",\"Indigo\",\"Teal\",\"Black\",\"Teal\",\"Green\",\"Gold\",\"Red\",\"Silver\",\"Yellow\",\"Peach\",\"Turquoise\",\"Peach\",\"Peach\",\"Orange\",\"Charcoal\",\"White\",\"Turquoise\",\"Red\",\"Peach\",\"Pink\",\"Yellow\",\"Beige\",\"Green\",\"Turquoise\",\"Orange\",\"Gold\",\"Red\",\"Teal\",\"Teal\",\"Lavender\",\"Pink\",\"Maroon\",\"Beige\",\"Orange\",\"Red\",\"Maroon\",\"Brown\",\"Olive\",\"Silver\",\"Purple\",\"Gray\",\"Cyan\",\"Gray\",\"Gold\",\"Cyan\",\"Olive\",\"Violet\",\"Yellow\",\"Gold\",\"Silver\",\"Pink\",\"Turquoise\",\"Turquoise\",\"Peach\",\"Teal\",\"Red\",\"Black\",\"Pink\",\"Peach\",\"Green\",\"Green\",\"Red\",\"Maroon\",\"Green\",\"Black\",\"Black\",\"Yellow\",\"Green\",\"Black\",\"Red\",\"Yellow\",\"Violet\",\"Cyan\",\"Pink\",\"Olive\",\"Maroon\",\"Cyan\",\"Lavender\",\"Yellow\",\"Pink\",\"Orange\",\"Orange\",\"Violet\",\"Lavender\",\"Yellow\",\"Pink\",\"Teal\",\"Magenta\",\"Beige\",\"Gray\",\"Turquoise\",\"Pink\",\"Violet\",\"Charcoal\",\"Lavender\",\"Gray\",\"Brown\",\"Violet\",\"Turquoise\",\"Peach\",\"Turquoise\",\"Violet\",\"Olive\",\"Green\",\"Teal\",\"Peach\",\"Pink\",\"Maroon\",\"Peach\",\"Maroon\",\"Pink\",\"Orange\",\"Orange\",\"Brown\",\"Silver\",\"Magenta\",\"Indigo\",\"Gold\",\"Purple\",\"Gold\",\"Gold\",\"Gold\",\"Olive\",\"Green\",\"Gray\",\"Red\",\"Charcoal\",\"Indigo\",\"Indigo\",\"Silver\",\"Purple\",\"Gray\",\"Magenta\",\"Silver\",\"Violet\",\"Green\",\"Green\",\"Peach\",\"Turquoise\",\"Pink\",\"Lavender\",\"Silver\",\"Cyan\",\"Green\",\"Orange\",\"Blue\",\"Magenta\",\"Cyan\",\"Indigo\",\"Pink\",\"Peach\",\"Lavender\",\"Black\",\"Lavender\",\"Brown\",\"Yellow\",\"Olive\",\"Blue\",\"Turquoise\",\"Yellow\",\"Turquoise\",\"Orange\",\"Blue\",\"Olive\",\"Beige\",\"Lavender\",\"Magenta\",\"Cyan\",\"Lavender\",\"Black\",\"Green\",\"Silver\",\"Beige\",\"Pink\",\"Cyan\",\"Olive\",\"Pink\",\"Maroon\",\"Red\",\"Silver\",\"Blue\",\"Purple\",\"Brown\",\"Purple\",\"Brown\",\"Charcoal\",\"Violet\",\"Yellow\",\"Green\",\"Peach\",\"Indigo\",\"White\",\"White\",\"Turquoise\",\"White\",\"Green\",\"Brown\",\"Beige\"],\"xaxis\":\"x\",\"yaxis\":\"y\",\"type\":\"histogram\"}],                        {\"template\":{\"data\":{\"histogram2dcontour\":[{\"type\":\"histogram2dcontour\",\"colorbar\":{\"outlinewidth\":0,\"ticks\":\"\"},\"colorscale\":[[0.0,\"#0d0887\"],[0.1111111111111111,\"#46039f\"],[0.2222222222222222,\"#7201a8\"],[0.3333333333333333,\"#9c179e\"],[0.4444444444444444,\"#bd3786\"],[0.5555555555555556,\"#d8576b\"],[0.6666666666666666,\"#ed7953\"],[0.7777777777777778,\"#fb9f3a\"],[0.8888888888888888,\"#fdca26\"],[1.0,\"#f0f921\"]]}],\"choropleth\":[{\"type\":\"choropleth\",\"colorbar\":{\"outlinewidth\":0,\"ticks\":\"\"}}],\"histogram2d\":[{\"type\":\"histogram2d\",\"colorbar\":{\"outlinewidth\":0,\"ticks\":\"\"},\"colorscale\":[[0.0,\"#0d0887\"],[0.1111111111111111,\"#46039f\"],[0.2222222222222222,\"#7201a8\"],[0.3333333333333333,\"#9c179e\"],[0.4444444444444444,\"#bd3786\"],[0.5555555555555556,\"#d8576b\"],[0.6666666666666666,\"#ed7953\"],[0.7777777777777778,\"#fb9f3a\"],[0.8888888888888888,\"#fdca26\"],[1.0,\"#f0f921\"]]}],\"heatmap\":[{\"type\":\"heatmap\",\"colorbar\":{\"outlinewidth\":0,\"ticks\":\"\"},\"colorscale\":[[0.0,\"#0d0887\"],[0.1111111111111111,\"#46039f\"],[0.2222222222222222,\"#7201a8\"],[0.3333333333333333,\"#9c179e\"],[0.4444444444444444,\"#bd3786\"],[0.5555555555555556,\"#d8576b\"],[0.6666666666666666,\"#ed7953\"],[0.7777777777777778,\"#fb9f3a\"],[0.8888888888888888,\"#fdca26\"],[1.0,\"#f0f921\"]]}],\"heatmapgl\":[{\"type\":\"heatmapgl\",\"colorbar\":{\"outlinewidth\":0,\"ticks\":\"\"},\"colorscale\":[[0.0,\"#0d0887\"],[0.1111111111111111,\"#46039f\"],[0.2222222222222222,\"#7201a8\"],[0.3333333333333333,\"#9c179e\"],[0.4444444444444444,\"#bd3786\"],[0.5555555555555556,\"#d8576b\"],[0.6666666666666666,\"#ed7953\"],[0.7777777777777778,\"#fb9f3a\"],[0.8888888888888888,\"#fdca26\"],[1.0,\"#f0f921\"]]}],\"contourcarpet\":[{\"type\":\"contourcarpet\",\"colorbar\":{\"outlinewidth\":0,\"ticks\":\"\"}}],\"contour\":[{\"type\":\"contour\",\"colorbar\":{\"outlinewidth\":0,\"ticks\":\"\"},\"colorscale\":[[0.0,\"#0d0887\"],[0.1111111111111111,\"#46039f\"],[0.2222222222222222,\"#7201a8\"],[0.3333333333333333,\"#9c179e\"],[0.4444444444444444,\"#bd3786\"],[0.5555555555555556,\"#d8576b\"],[0.6666666666666666,\"#ed7953\"],[0.7777777777777778,\"#fb9f3a\"],[0.8888888888888888,\"#fdca26\"],[1.0,\"#f0f921\"]]}],\"surface\":[{\"type\":\"surface\",\"colorbar\":{\"outlinewidth\":0,\"ticks\":\"\"},\"colorscale\":[[0.0,\"#0d0887\"],[0.1111111111111111,\"#46039f\"],[0.2222222222222222,\"#7201a8\"],[0.3333333333333333,\"#9c179e\"],[0.4444444444444444,\"#bd3786\"],[0.5555555555555556,\"#d8576b\"],[0.6666666666666666,\"#ed7953\"],[0.7777777777777778,\"#fb9f3a\"],[0.8888888888888888,\"#fdca26\"],[1.0,\"#f0f921\"]]}],\"mesh3d\":[{\"type\":\"mesh3d\",\"colorbar\":{\"outlinewidth\":0,\"ticks\":\"\"}}],\"scatter\":[{\"fillpattern\":{\"fillmode\":\"overlay\",\"size\":10,\"solidity\":0.2},\"type\":\"scatter\"}],\"parcoords\":[{\"type\":\"parcoords\",\"line\":{\"colorbar\":{\"outlinewidth\":0,\"ticks\":\"\"}}}],\"scatterpolargl\":[{\"type\":\"scatterpolargl\",\"marker\":{\"colorbar\":{\"outlinewidth\":0,\"ticks\":\"\"}}}],\"bar\":[{\"error_x\":{\"color\":\"#2a3f5f\"},\"error_y\":{\"color\":\"#2a3f5f\"},\"marker\":{\"line\":{\"color\":\"#E5ECF6\",\"width\":0.5},\"pattern\":{\"fillmode\":\"overlay\",\"size\":10,\"solidity\":0.2}},\"type\":\"bar\"}],\"scattergeo\":[{\"type\":\"scattergeo\",\"marker\":{\"colorbar\":{\"outlinewidth\":0,\"ticks\":\"\"}}}],\"scatterpolar\":[{\"type\":\"scatterpolar\",\"marker\":{\"colorbar\":{\"outlinewidth\":0,\"ticks\":\"\"}}}],\"histogram\":[{\"marker\":{\"pattern\":{\"fillmode\":\"overlay\",\"size\":10,\"solidity\":0.2}},\"type\":\"histogram\"}],\"scattergl\":[{\"type\":\"scattergl\",\"marker\":{\"colorbar\":{\"outlinewidth\":0,\"ticks\":\"\"}}}],\"scatter3d\":[{\"type\":\"scatter3d\",\"line\":{\"colorbar\":{\"outlinewidth\":0,\"ticks\":\"\"}},\"marker\":{\"colorbar\":{\"outlinewidth\":0,\"ticks\":\"\"}}}],\"scattermapbox\":[{\"type\":\"scattermapbox\",\"marker\":{\"colorbar\":{\"outlinewidth\":0,\"ticks\":\"\"}}}],\"scatterternary\":[{\"type\":\"scatterternary\",\"marker\":{\"colorbar\":{\"outlinewidth\":0,\"ticks\":\"\"}}}],\"scattercarpet\":[{\"type\":\"scattercarpet\",\"marker\":{\"colorbar\":{\"outlinewidth\":0,\"ticks\":\"\"}}}],\"carpet\":[{\"aaxis\":{\"endlinecolor\":\"#2a3f5f\",\"gridcolor\":\"white\",\"linecolor\":\"white\",\"minorgridcolor\":\"white\",\"startlinecolor\":\"#2a3f5f\"},\"baxis\":{\"endlinecolor\":\"#2a3f5f\",\"gridcolor\":\"white\",\"linecolor\":\"white\",\"minorgridcolor\":\"white\",\"startlinecolor\":\"#2a3f5f\"},\"type\":\"carpet\"}],\"table\":[{\"cells\":{\"fill\":{\"color\":\"#EBF0F8\"},\"line\":{\"color\":\"white\"}},\"header\":{\"fill\":{\"color\":\"#C8D4E3\"},\"line\":{\"color\":\"white\"}},\"type\":\"table\"}],\"barpolar\":[{\"marker\":{\"line\":{\"color\":\"#E5ECF6\",\"width\":0.5},\"pattern\":{\"fillmode\":\"overlay\",\"size\":10,\"solidity\":0.2}},\"type\":\"barpolar\"}],\"pie\":[{\"automargin\":true,\"type\":\"pie\"}]},\"layout\":{\"autotypenumbers\":\"strict\",\"colorway\":[\"#636efa\",\"#EF553B\",\"#00cc96\",\"#ab63fa\",\"#FFA15A\",\"#19d3f3\",\"#FF6692\",\"#B6E880\",\"#FF97FF\",\"#FECB52\"],\"font\":{\"color\":\"#2a3f5f\"},\"hovermode\":\"closest\",\"hoverlabel\":{\"align\":\"left\"},\"paper_bgcolor\":\"white\",\"plot_bgcolor\":\"#E5ECF6\",\"polar\":{\"bgcolor\":\"#E5ECF6\",\"angularaxis\":{\"gridcolor\":\"white\",\"linecolor\":\"white\",\"ticks\":\"\"},\"radialaxis\":{\"gridcolor\":\"white\",\"linecolor\":\"white\",\"ticks\":\"\"}},\"ternary\":{\"bgcolor\":\"#E5ECF6\",\"aaxis\":{\"gridcolor\":\"white\",\"linecolor\":\"white\",\"ticks\":\"\"},\"baxis\":{\"gridcolor\":\"white\",\"linecolor\":\"white\",\"ticks\":\"\"},\"caxis\":{\"gridcolor\":\"white\",\"linecolor\":\"white\",\"ticks\":\"\"}},\"coloraxis\":{\"colorbar\":{\"outlinewidth\":0,\"ticks\":\"\"}},\"colorscale\":{\"sequential\":[[0.0,\"#0d0887\"],[0.1111111111111111,\"#46039f\"],[0.2222222222222222,\"#7201a8\"],[0.3333333333333333,\"#9c179e\"],[0.4444444444444444,\"#bd3786\"],[0.5555555555555556,\"#d8576b\"],[0.6666666666666666,\"#ed7953\"],[0.7777777777777778,\"#fb9f3a\"],[0.8888888888888888,\"#fdca26\"],[1.0,\"#f0f921\"]],\"sequentialminus\":[[0.0,\"#0d0887\"],[0.1111111111111111,\"#46039f\"],[0.2222222222222222,\"#7201a8\"],[0.3333333333333333,\"#9c179e\"],[0.4444444444444444,\"#bd3786\"],[0.5555555555555556,\"#d8576b\"],[0.6666666666666666,\"#ed7953\"],[0.7777777777777778,\"#fb9f3a\"],[0.8888888888888888,\"#fdca26\"],[1.0,\"#f0f921\"]],\"diverging\":[[0,\"#8e0152\"],[0.1,\"#c51b7d\"],[0.2,\"#de77ae\"],[0.3,\"#f1b6da\"],[0.4,\"#fde0ef\"],[0.5,\"#f7f7f7\"],[0.6,\"#e6f5d0\"],[0.7,\"#b8e186\"],[0.8,\"#7fbc41\"],[0.9,\"#4d9221\"],[1,\"#276419\"]]},\"xaxis\":{\"gridcolor\":\"white\",\"linecolor\":\"white\",\"ticks\":\"\",\"title\":{\"standoff\":15},\"zerolinecolor\":\"white\",\"automargin\":true,\"zerolinewidth\":2},\"yaxis\":{\"gridcolor\":\"white\",\"linecolor\":\"white\",\"ticks\":\"\",\"title\":{\"standoff\":15},\"zerolinecolor\":\"white\",\"automargin\":true,\"zerolinewidth\":2},\"scene\":{\"xaxis\":{\"backgroundcolor\":\"#E5ECF6\",\"gridcolor\":\"white\",\"linecolor\":\"white\",\"showbackground\":true,\"ticks\":\"\",\"zerolinecolor\":\"white\",\"gridwidth\":2},\"yaxis\":{\"backgroundcolor\":\"#E5ECF6\",\"gridcolor\":\"white\",\"linecolor\":\"white\",\"showbackground\":true,\"ticks\":\"\",\"zerolinecolor\":\"white\",\"gridwidth\":2},\"zaxis\":{\"backgroundcolor\":\"#E5ECF6\",\"gridcolor\":\"white\",\"linecolor\":\"white\",\"showbackground\":true,\"ticks\":\"\",\"zerolinecolor\":\"white\",\"gridwidth\":2}},\"shapedefaults\":{\"line\":{\"color\":\"#2a3f5f\"}},\"annotationdefaults\":{\"arrowcolor\":\"#2a3f5f\",\"arrowhead\":0,\"arrowwidth\":1},\"geo\":{\"bgcolor\":\"white\",\"landcolor\":\"#E5ECF6\",\"subunitcolor\":\"white\",\"showland\":true,\"showlakes\":true,\"lakecolor\":\"white\"},\"title\":{\"x\":0.05},\"mapbox\":{\"style\":\"light\"}}},\"xaxis\":{\"anchor\":\"y\",\"domain\":[0.0,1.0],\"title\":{\"text\":\"Color\"}},\"yaxis\":{\"anchor\":\"x\",\"domain\":[0.0,1.0],\"title\":{\"text\":\"count\"}},\"legend\":{\"tracegroupgap\":0},\"margin\":{\"t\":60},\"barmode\":\"relative\"},                        {\"responsive\": true}                    ).then(function(){\n",
              "                            \n",
              "var gd = document.getElementById('f48a846a-4c04-4c09-ba04-c88a90f9732a');\n",
              "var x = new MutationObserver(function (mutations, observer) {{\n",
              "        var display = window.getComputedStyle(gd).display;\n",
              "        if (!display || display === 'none') {{\n",
              "            console.log([gd, 'removed!']);\n",
              "            Plotly.purge(gd);\n",
              "            observer.disconnect();\n",
              "        }}\n",
              "}});\n",
              "\n",
              "// Listen for the removal of the full notebook cells\n",
              "var notebookContainer = gd.closest('#notebook-container');\n",
              "if (notebookContainer) {{\n",
              "    x.observe(notebookContainer, {childList: true});\n",
              "}}\n",
              "\n",
              "// Listen for the clearing of the current output cell\n",
              "var outputEl = gd.closest('.output');\n",
              "if (outputEl) {{\n",
              "    x.observe(outputEl, {childList: true});\n",
              "}}\n",
              "\n",
              "                        })                };                            </script>        </div>\n",
              "</body>\n",
              "</html>"
            ]
          },
          "metadata": {}
        }
      ],
      "source": [
        "px.histogram(shop , x = 'Color')"
      ]
    },
    {
      "cell_type": "code",
      "execution_count": 67,
      "id": "46fb1f0c-9e9f-4e9f-8e57-d543f14a8871",
      "metadata": {
        "id": "46fb1f0c-9e9f-4e9f-8e57-d543f14a8871",
        "outputId": "5a36100f-57d7-479c-a9fe-4f0d7d48c9e1",
        "colab": {
          "base_uri": "https://localhost:8080/",
          "height": 272
        }
      },
      "outputs": [
        {
          "output_type": "execute_result",
          "data": {
            "text/plain": [
              "Color\n",
              "Olive     177\n",
              "Yellow    174\n",
              "Silver    173\n",
              "Teal      172\n",
              "Green     169\n",
              "Name: count, dtype: int64"
            ],
            "text/html": [
              "<div>\n",
              "<style scoped>\n",
              "    .dataframe tbody tr th:only-of-type {\n",
              "        vertical-align: middle;\n",
              "    }\n",
              "\n",
              "    .dataframe tbody tr th {\n",
              "        vertical-align: top;\n",
              "    }\n",
              "\n",
              "    .dataframe thead th {\n",
              "        text-align: right;\n",
              "    }\n",
              "</style>\n",
              "<table border=\"1\" class=\"dataframe\">\n",
              "  <thead>\n",
              "    <tr style=\"text-align: right;\">\n",
              "      <th></th>\n",
              "      <th>count</th>\n",
              "    </tr>\n",
              "    <tr>\n",
              "      <th>Color</th>\n",
              "      <th></th>\n",
              "    </tr>\n",
              "  </thead>\n",
              "  <tbody>\n",
              "    <tr>\n",
              "      <th>Olive</th>\n",
              "      <td>177</td>\n",
              "    </tr>\n",
              "    <tr>\n",
              "      <th>Yellow</th>\n",
              "      <td>174</td>\n",
              "    </tr>\n",
              "    <tr>\n",
              "      <th>Silver</th>\n",
              "      <td>173</td>\n",
              "    </tr>\n",
              "    <tr>\n",
              "      <th>Teal</th>\n",
              "      <td>172</td>\n",
              "    </tr>\n",
              "    <tr>\n",
              "      <th>Green</th>\n",
              "      <td>169</td>\n",
              "    </tr>\n",
              "  </tbody>\n",
              "</table>\n",
              "</div><br><label><b>dtype:</b> int64</label>"
            ]
          },
          "metadata": {},
          "execution_count": 67
        }
      ],
      "source": [
        "shop['Color'].value_counts().nlargest(5)"
      ]
    },
    {
      "cell_type": "markdown",
      "id": "cae21e0b-0e9e-44ee-aca8-fb0a6ad60afe",
      "metadata": {
        "id": "cae21e0b-0e9e-44ee-aca8-fb0a6ad60afe"
      },
      "source": [
        "## 15 What is the average number of previous purchases made by customers?"
      ]
    },
    {
      "cell_type": "code",
      "execution_count": 68,
      "id": "7819057c-f49f-4dbc-ace9-031f1e3ef807",
      "metadata": {
        "id": "7819057c-f49f-4dbc-ace9-031f1e3ef807",
        "outputId": "dfb60e4d-c199-4190-ed0a-2d1c75d3683b",
        "colab": {
          "base_uri": "https://localhost:8080/"
        }
      },
      "outputs": [
        {
          "output_type": "execute_result",
          "data": {
            "text/plain": [
              "25.35153846153846"
            ]
          },
          "metadata": {},
          "execution_count": 68
        }
      ],
      "source": [
        "shop['Previous Purchases'].mean()"
      ]
    },
    {
      "cell_type": "markdown",
      "id": "18fd1c4b-d9e2-49f1-a995-47f2f6701850",
      "metadata": {
        "id": "18fd1c4b-d9e2-49f1-a995-47f2f6701850"
      },
      "source": [
        "## 16 Are there any noticeable differences in purchase behavior between different locations?"
      ]
    },
    {
      "cell_type": "code",
      "execution_count": 69,
      "id": "a4eca1cb-86c8-4b62-a098-9c91ccce57bc",
      "metadata": {
        "id": "a4eca1cb-86c8-4b62-a098-9c91ccce57bc",
        "outputId": "ae95aa90-8a4d-4ad8-daf1-6a5d83a01d2b",
        "colab": {
          "base_uri": "https://localhost:8080/",
          "height": 1000
        }
      },
      "outputs": [
        {
          "output_type": "execute_result",
          "data": {
            "text/plain": [
              "Location\n",
              "Alaska            67.597222\n",
              "Pennsylvania      66.567568\n",
              "Arizona           66.553846\n",
              "West Virginia     63.876543\n",
              "Nevada            63.379310\n",
              "Washington        63.328767\n",
              "North Dakota      62.891566\n",
              "Virginia          62.883117\n",
              "Utah              62.577465\n",
              "Michigan          62.095890\n",
              "Tennessee         61.974026\n",
              "New Mexico        61.901235\n",
              "Rhode Island      61.444444\n",
              "Texas             61.194805\n",
              "Arkansas          61.113924\n",
              "Illinois          61.054348\n",
              "Mississippi       61.037500\n",
              "Massachusetts     60.888889\n",
              "Iowa              60.884058\n",
              "North Carolina    60.794872\n",
              "Wyoming           60.690141\n",
              "South Dakota      60.514286\n",
              "New York          60.425287\n",
              "Ohio              60.376623\n",
              "Montana           60.250000\n",
              "Idaho             60.075269\n",
              "Nebraska          59.448276\n",
              "New Hampshire     59.422535\n",
              "Alabama           59.112360\n",
              "California        59.000000\n",
              "Indiana           58.924051\n",
              "Georgia           58.797468\n",
              "South Carolina    58.407895\n",
              "Oklahoma          58.346667\n",
              "Missouri          57.913580\n",
              "Hawaii            57.723077\n",
              "Louisiana         57.714286\n",
              "Oregon            57.337838\n",
              "Vermont           57.176471\n",
              "Maine             56.987013\n",
              "New Jersey        56.746269\n",
              "Minnesota         56.556818\n",
              "Colorado          56.293333\n",
              "Wisconsin         55.946667\n",
              "Florida           55.852941\n",
              "Maryland          55.755814\n",
              "Kentucky          55.721519\n",
              "Delaware          55.325581\n",
              "Kansas            54.555556\n",
              "Connecticut       54.179487\n",
              "Name: Purchase Amount (USD), dtype: float64"
            ],
            "text/html": [
              "<div>\n",
              "<style scoped>\n",
              "    .dataframe tbody tr th:only-of-type {\n",
              "        vertical-align: middle;\n",
              "    }\n",
              "\n",
              "    .dataframe tbody tr th {\n",
              "        vertical-align: top;\n",
              "    }\n",
              "\n",
              "    .dataframe thead th {\n",
              "        text-align: right;\n",
              "    }\n",
              "</style>\n",
              "<table border=\"1\" class=\"dataframe\">\n",
              "  <thead>\n",
              "    <tr style=\"text-align: right;\">\n",
              "      <th></th>\n",
              "      <th>Purchase Amount (USD)</th>\n",
              "    </tr>\n",
              "    <tr>\n",
              "      <th>Location</th>\n",
              "      <th></th>\n",
              "    </tr>\n",
              "  </thead>\n",
              "  <tbody>\n",
              "    <tr>\n",
              "      <th>Alaska</th>\n",
              "      <td>67.597222</td>\n",
              "    </tr>\n",
              "    <tr>\n",
              "      <th>Pennsylvania</th>\n",
              "      <td>66.567568</td>\n",
              "    </tr>\n",
              "    <tr>\n",
              "      <th>Arizona</th>\n",
              "      <td>66.553846</td>\n",
              "    </tr>\n",
              "    <tr>\n",
              "      <th>West Virginia</th>\n",
              "      <td>63.876543</td>\n",
              "    </tr>\n",
              "    <tr>\n",
              "      <th>Nevada</th>\n",
              "      <td>63.379310</td>\n",
              "    </tr>\n",
              "    <tr>\n",
              "      <th>Washington</th>\n",
              "      <td>63.328767</td>\n",
              "    </tr>\n",
              "    <tr>\n",
              "      <th>North Dakota</th>\n",
              "      <td>62.891566</td>\n",
              "    </tr>\n",
              "    <tr>\n",
              "      <th>Virginia</th>\n",
              "      <td>62.883117</td>\n",
              "    </tr>\n",
              "    <tr>\n",
              "      <th>Utah</th>\n",
              "      <td>62.577465</td>\n",
              "    </tr>\n",
              "    <tr>\n",
              "      <th>Michigan</th>\n",
              "      <td>62.095890</td>\n",
              "    </tr>\n",
              "    <tr>\n",
              "      <th>Tennessee</th>\n",
              "      <td>61.974026</td>\n",
              "    </tr>\n",
              "    <tr>\n",
              "      <th>New Mexico</th>\n",
              "      <td>61.901235</td>\n",
              "    </tr>\n",
              "    <tr>\n",
              "      <th>Rhode Island</th>\n",
              "      <td>61.444444</td>\n",
              "    </tr>\n",
              "    <tr>\n",
              "      <th>Texas</th>\n",
              "      <td>61.194805</td>\n",
              "    </tr>\n",
              "    <tr>\n",
              "      <th>Arkansas</th>\n",
              "      <td>61.113924</td>\n",
              "    </tr>\n",
              "    <tr>\n",
              "      <th>Illinois</th>\n",
              "      <td>61.054348</td>\n",
              "    </tr>\n",
              "    <tr>\n",
              "      <th>Mississippi</th>\n",
              "      <td>61.037500</td>\n",
              "    </tr>\n",
              "    <tr>\n",
              "      <th>Massachusetts</th>\n",
              "      <td>60.888889</td>\n",
              "    </tr>\n",
              "    <tr>\n",
              "      <th>Iowa</th>\n",
              "      <td>60.884058</td>\n",
              "    </tr>\n",
              "    <tr>\n",
              "      <th>North Carolina</th>\n",
              "      <td>60.794872</td>\n",
              "    </tr>\n",
              "    <tr>\n",
              "      <th>Wyoming</th>\n",
              "      <td>60.690141</td>\n",
              "    </tr>\n",
              "    <tr>\n",
              "      <th>South Dakota</th>\n",
              "      <td>60.514286</td>\n",
              "    </tr>\n",
              "    <tr>\n",
              "      <th>New York</th>\n",
              "      <td>60.425287</td>\n",
              "    </tr>\n",
              "    <tr>\n",
              "      <th>Ohio</th>\n",
              "      <td>60.376623</td>\n",
              "    </tr>\n",
              "    <tr>\n",
              "      <th>Montana</th>\n",
              "      <td>60.250000</td>\n",
              "    </tr>\n",
              "    <tr>\n",
              "      <th>Idaho</th>\n",
              "      <td>60.075269</td>\n",
              "    </tr>\n",
              "    <tr>\n",
              "      <th>Nebraska</th>\n",
              "      <td>59.448276</td>\n",
              "    </tr>\n",
              "    <tr>\n",
              "      <th>New Hampshire</th>\n",
              "      <td>59.422535</td>\n",
              "    </tr>\n",
              "    <tr>\n",
              "      <th>Alabama</th>\n",
              "      <td>59.112360</td>\n",
              "    </tr>\n",
              "    <tr>\n",
              "      <th>California</th>\n",
              "      <td>59.000000</td>\n",
              "    </tr>\n",
              "    <tr>\n",
              "      <th>Indiana</th>\n",
              "      <td>58.924051</td>\n",
              "    </tr>\n",
              "    <tr>\n",
              "      <th>Georgia</th>\n",
              "      <td>58.797468</td>\n",
              "    </tr>\n",
              "    <tr>\n",
              "      <th>South Carolina</th>\n",
              "      <td>58.407895</td>\n",
              "    </tr>\n",
              "    <tr>\n",
              "      <th>Oklahoma</th>\n",
              "      <td>58.346667</td>\n",
              "    </tr>\n",
              "    <tr>\n",
              "      <th>Missouri</th>\n",
              "      <td>57.913580</td>\n",
              "    </tr>\n",
              "    <tr>\n",
              "      <th>Hawaii</th>\n",
              "      <td>57.723077</td>\n",
              "    </tr>\n",
              "    <tr>\n",
              "      <th>Louisiana</th>\n",
              "      <td>57.714286</td>\n",
              "    </tr>\n",
              "    <tr>\n",
              "      <th>Oregon</th>\n",
              "      <td>57.337838</td>\n",
              "    </tr>\n",
              "    <tr>\n",
              "      <th>Vermont</th>\n",
              "      <td>57.176471</td>\n",
              "    </tr>\n",
              "    <tr>\n",
              "      <th>Maine</th>\n",
              "      <td>56.987013</td>\n",
              "    </tr>\n",
              "    <tr>\n",
              "      <th>New Jersey</th>\n",
              "      <td>56.746269</td>\n",
              "    </tr>\n",
              "    <tr>\n",
              "      <th>Minnesota</th>\n",
              "      <td>56.556818</td>\n",
              "    </tr>\n",
              "    <tr>\n",
              "      <th>Colorado</th>\n",
              "      <td>56.293333</td>\n",
              "    </tr>\n",
              "    <tr>\n",
              "      <th>Wisconsin</th>\n",
              "      <td>55.946667</td>\n",
              "    </tr>\n",
              "    <tr>\n",
              "      <th>Florida</th>\n",
              "      <td>55.852941</td>\n",
              "    </tr>\n",
              "    <tr>\n",
              "      <th>Maryland</th>\n",
              "      <td>55.755814</td>\n",
              "    </tr>\n",
              "    <tr>\n",
              "      <th>Kentucky</th>\n",
              "      <td>55.721519</td>\n",
              "    </tr>\n",
              "    <tr>\n",
              "      <th>Delaware</th>\n",
              "      <td>55.325581</td>\n",
              "    </tr>\n",
              "    <tr>\n",
              "      <th>Kansas</th>\n",
              "      <td>54.555556</td>\n",
              "    </tr>\n",
              "    <tr>\n",
              "      <th>Connecticut</th>\n",
              "      <td>54.179487</td>\n",
              "    </tr>\n",
              "  </tbody>\n",
              "</table>\n",
              "</div><br><label><b>dtype:</b> float64</label>"
            ]
          },
          "metadata": {},
          "execution_count": 69
        }
      ],
      "source": [
        "shop.groupby('Location')['Purchase Amount (USD)'].mean().sort_values(ascending = False)"
      ]
    },
    {
      "cell_type": "code",
      "execution_count": 70,
      "id": "0ef53932-87d0-4bfd-a18f-b156362f86a5",
      "metadata": {
        "id": "0ef53932-87d0-4bfd-a18f-b156362f86a5"
      },
      "outputs": [],
      "source": [
        "shop_group = shop.groupby('Location')['Purchase Amount (USD)'].mean().reset_index()"
      ]
    },
    {
      "cell_type": "code",
      "execution_count": 71,
      "id": "05b3823a-13cf-42b3-bf49-b8a8d5b7c616",
      "metadata": {
        "id": "05b3823a-13cf-42b3-bf49-b8a8d5b7c616",
        "outputId": "29ba5d9f-062a-46ec-9366-52e1bb1e5ae0",
        "colab": {
          "base_uri": "https://localhost:8080/",
          "height": 542
        }
      },
      "outputs": [
        {
          "output_type": "display_data",
          "data": {
            "text/html": [
              "<html>\n",
              "<head><meta charset=\"utf-8\" /></head>\n",
              "<body>\n",
              "    <div>            <script src=\"https://cdnjs.cloudflare.com/ajax/libs/mathjax/2.7.5/MathJax.js?config=TeX-AMS-MML_SVG\"></script><script type=\"text/javascript\">if (window.MathJax && window.MathJax.Hub && window.MathJax.Hub.Config) {window.MathJax.Hub.Config({SVG: {font: \"STIX-Web\"}});}</script>                <script type=\"text/javascript\">window.PlotlyConfig = {MathJaxConfig: 'local'};</script>\n",
              "        <script charset=\"utf-8\" src=\"https://cdn.plot.ly/plotly-2.35.2.min.js\"></script>                <div id=\"5055cc65-380b-4e27-867e-bf530d6638c8\" class=\"plotly-graph-div\" style=\"height:525px; width:100%;\"></div>            <script type=\"text/javascript\">                                    window.PLOTLYENV=window.PLOTLYENV || {};                                    if (document.getElementById(\"5055cc65-380b-4e27-867e-bf530d6638c8\")) {                    Plotly.newPlot(                        \"5055cc65-380b-4e27-867e-bf530d6638c8\",                        [{\"alignmentgroup\":\"True\",\"hovertemplate\":\"Location=%{x}\\u003cbr\\u003ePurchase Amount (USD)=%{y}\\u003cextra\\u003e\\u003c\\u002fextra\\u003e\",\"legendgroup\":\"\",\"marker\":{\"color\":\"#636efa\",\"pattern\":{\"shape\":\"\"}},\"name\":\"\",\"offsetgroup\":\"\",\"orientation\":\"v\",\"showlegend\":false,\"textposition\":\"auto\",\"x\":[\"Alabama\",\"Alaska\",\"Arizona\",\"Arkansas\",\"California\",\"Colorado\",\"Connecticut\",\"Delaware\",\"Florida\",\"Georgia\",\"Hawaii\",\"Idaho\",\"Illinois\",\"Indiana\",\"Iowa\",\"Kansas\",\"Kentucky\",\"Louisiana\",\"Maine\",\"Maryland\",\"Massachusetts\",\"Michigan\",\"Minnesota\",\"Mississippi\",\"Missouri\",\"Montana\",\"Nebraska\",\"Nevada\",\"New Hampshire\",\"New Jersey\",\"New Mexico\",\"New York\",\"North Carolina\",\"North Dakota\",\"Ohio\",\"Oklahoma\",\"Oregon\",\"Pennsylvania\",\"Rhode Island\",\"South Carolina\",\"South Dakota\",\"Tennessee\",\"Texas\",\"Utah\",\"Vermont\",\"Virginia\",\"Washington\",\"West Virginia\",\"Wisconsin\",\"Wyoming\"],\"xaxis\":\"x\",\"y\":[59.1123595505618,67.59722222222223,66.55384615384615,61.11392405063291,59.0,56.29333333333334,54.17948717948718,55.325581395348834,55.85294117647059,58.79746835443038,57.723076923076924,60.075268817204304,61.05434782608695,58.924050632911396,60.88405797101449,54.55555555555556,55.721518987341774,57.714285714285715,56.98701298701299,55.75581395348837,60.888888888888886,62.0958904109589,56.55681818181818,61.0375,57.91358024691358,60.25,59.44827586206897,63.37931034482759,59.42253521126761,56.74626865671642,61.901234567901234,60.42528735632184,60.794871794871796,62.89156626506024,60.37662337662338,58.346666666666664,57.33783783783784,66.56756756756756,61.44444444444444,58.4078947368421,60.51428571428571,61.97402597402598,61.1948051948052,62.57746478873239,57.1764705882353,62.883116883116884,63.32876712328767,63.876543209876544,55.946666666666665,60.690140845070424],\"yaxis\":\"y\",\"type\":\"bar\"}],                        {\"template\":{\"data\":{\"histogram2dcontour\":[{\"type\":\"histogram2dcontour\",\"colorbar\":{\"outlinewidth\":0,\"ticks\":\"\"},\"colorscale\":[[0.0,\"#0d0887\"],[0.1111111111111111,\"#46039f\"],[0.2222222222222222,\"#7201a8\"],[0.3333333333333333,\"#9c179e\"],[0.4444444444444444,\"#bd3786\"],[0.5555555555555556,\"#d8576b\"],[0.6666666666666666,\"#ed7953\"],[0.7777777777777778,\"#fb9f3a\"],[0.8888888888888888,\"#fdca26\"],[1.0,\"#f0f921\"]]}],\"choropleth\":[{\"type\":\"choropleth\",\"colorbar\":{\"outlinewidth\":0,\"ticks\":\"\"}}],\"histogram2d\":[{\"type\":\"histogram2d\",\"colorbar\":{\"outlinewidth\":0,\"ticks\":\"\"},\"colorscale\":[[0.0,\"#0d0887\"],[0.1111111111111111,\"#46039f\"],[0.2222222222222222,\"#7201a8\"],[0.3333333333333333,\"#9c179e\"],[0.4444444444444444,\"#bd3786\"],[0.5555555555555556,\"#d8576b\"],[0.6666666666666666,\"#ed7953\"],[0.7777777777777778,\"#fb9f3a\"],[0.8888888888888888,\"#fdca26\"],[1.0,\"#f0f921\"]]}],\"heatmap\":[{\"type\":\"heatmap\",\"colorbar\":{\"outlinewidth\":0,\"ticks\":\"\"},\"colorscale\":[[0.0,\"#0d0887\"],[0.1111111111111111,\"#46039f\"],[0.2222222222222222,\"#7201a8\"],[0.3333333333333333,\"#9c179e\"],[0.4444444444444444,\"#bd3786\"],[0.5555555555555556,\"#d8576b\"],[0.6666666666666666,\"#ed7953\"],[0.7777777777777778,\"#fb9f3a\"],[0.8888888888888888,\"#fdca26\"],[1.0,\"#f0f921\"]]}],\"heatmapgl\":[{\"type\":\"heatmapgl\",\"colorbar\":{\"outlinewidth\":0,\"ticks\":\"\"},\"colorscale\":[[0.0,\"#0d0887\"],[0.1111111111111111,\"#46039f\"],[0.2222222222222222,\"#7201a8\"],[0.3333333333333333,\"#9c179e\"],[0.4444444444444444,\"#bd3786\"],[0.5555555555555556,\"#d8576b\"],[0.6666666666666666,\"#ed7953\"],[0.7777777777777778,\"#fb9f3a\"],[0.8888888888888888,\"#fdca26\"],[1.0,\"#f0f921\"]]}],\"contourcarpet\":[{\"type\":\"contourcarpet\",\"colorbar\":{\"outlinewidth\":0,\"ticks\":\"\"}}],\"contour\":[{\"type\":\"contour\",\"colorbar\":{\"outlinewidth\":0,\"ticks\":\"\"},\"colorscale\":[[0.0,\"#0d0887\"],[0.1111111111111111,\"#46039f\"],[0.2222222222222222,\"#7201a8\"],[0.3333333333333333,\"#9c179e\"],[0.4444444444444444,\"#bd3786\"],[0.5555555555555556,\"#d8576b\"],[0.6666666666666666,\"#ed7953\"],[0.7777777777777778,\"#fb9f3a\"],[0.8888888888888888,\"#fdca26\"],[1.0,\"#f0f921\"]]}],\"surface\":[{\"type\":\"surface\",\"colorbar\":{\"outlinewidth\":0,\"ticks\":\"\"},\"colorscale\":[[0.0,\"#0d0887\"],[0.1111111111111111,\"#46039f\"],[0.2222222222222222,\"#7201a8\"],[0.3333333333333333,\"#9c179e\"],[0.4444444444444444,\"#bd3786\"],[0.5555555555555556,\"#d8576b\"],[0.6666666666666666,\"#ed7953\"],[0.7777777777777778,\"#fb9f3a\"],[0.8888888888888888,\"#fdca26\"],[1.0,\"#f0f921\"]]}],\"mesh3d\":[{\"type\":\"mesh3d\",\"colorbar\":{\"outlinewidth\":0,\"ticks\":\"\"}}],\"scatter\":[{\"fillpattern\":{\"fillmode\":\"overlay\",\"size\":10,\"solidity\":0.2},\"type\":\"scatter\"}],\"parcoords\":[{\"type\":\"parcoords\",\"line\":{\"colorbar\":{\"outlinewidth\":0,\"ticks\":\"\"}}}],\"scatterpolargl\":[{\"type\":\"scatterpolargl\",\"marker\":{\"colorbar\":{\"outlinewidth\":0,\"ticks\":\"\"}}}],\"bar\":[{\"error_x\":{\"color\":\"#2a3f5f\"},\"error_y\":{\"color\":\"#2a3f5f\"},\"marker\":{\"line\":{\"color\":\"#E5ECF6\",\"width\":0.5},\"pattern\":{\"fillmode\":\"overlay\",\"size\":10,\"solidity\":0.2}},\"type\":\"bar\"}],\"scattergeo\":[{\"type\":\"scattergeo\",\"marker\":{\"colorbar\":{\"outlinewidth\":0,\"ticks\":\"\"}}}],\"scatterpolar\":[{\"type\":\"scatterpolar\",\"marker\":{\"colorbar\":{\"outlinewidth\":0,\"ticks\":\"\"}}}],\"histogram\":[{\"marker\":{\"pattern\":{\"fillmode\":\"overlay\",\"size\":10,\"solidity\":0.2}},\"type\":\"histogram\"}],\"scattergl\":[{\"type\":\"scattergl\",\"marker\":{\"colorbar\":{\"outlinewidth\":0,\"ticks\":\"\"}}}],\"scatter3d\":[{\"type\":\"scatter3d\",\"line\":{\"colorbar\":{\"outlinewidth\":0,\"ticks\":\"\"}},\"marker\":{\"colorbar\":{\"outlinewidth\":0,\"ticks\":\"\"}}}],\"scattermapbox\":[{\"type\":\"scattermapbox\",\"marker\":{\"colorbar\":{\"outlinewidth\":0,\"ticks\":\"\"}}}],\"scatterternary\":[{\"type\":\"scatterternary\",\"marker\":{\"colorbar\":{\"outlinewidth\":0,\"ticks\":\"\"}}}],\"scattercarpet\":[{\"type\":\"scattercarpet\",\"marker\":{\"colorbar\":{\"outlinewidth\":0,\"ticks\":\"\"}}}],\"carpet\":[{\"aaxis\":{\"endlinecolor\":\"#2a3f5f\",\"gridcolor\":\"white\",\"linecolor\":\"white\",\"minorgridcolor\":\"white\",\"startlinecolor\":\"#2a3f5f\"},\"baxis\":{\"endlinecolor\":\"#2a3f5f\",\"gridcolor\":\"white\",\"linecolor\":\"white\",\"minorgridcolor\":\"white\",\"startlinecolor\":\"#2a3f5f\"},\"type\":\"carpet\"}],\"table\":[{\"cells\":{\"fill\":{\"color\":\"#EBF0F8\"},\"line\":{\"color\":\"white\"}},\"header\":{\"fill\":{\"color\":\"#C8D4E3\"},\"line\":{\"color\":\"white\"}},\"type\":\"table\"}],\"barpolar\":[{\"marker\":{\"line\":{\"color\":\"#E5ECF6\",\"width\":0.5},\"pattern\":{\"fillmode\":\"overlay\",\"size\":10,\"solidity\":0.2}},\"type\":\"barpolar\"}],\"pie\":[{\"automargin\":true,\"type\":\"pie\"}]},\"layout\":{\"autotypenumbers\":\"strict\",\"colorway\":[\"#636efa\",\"#EF553B\",\"#00cc96\",\"#ab63fa\",\"#FFA15A\",\"#19d3f3\",\"#FF6692\",\"#B6E880\",\"#FF97FF\",\"#FECB52\"],\"font\":{\"color\":\"#2a3f5f\"},\"hovermode\":\"closest\",\"hoverlabel\":{\"align\":\"left\"},\"paper_bgcolor\":\"white\",\"plot_bgcolor\":\"#E5ECF6\",\"polar\":{\"bgcolor\":\"#E5ECF6\",\"angularaxis\":{\"gridcolor\":\"white\",\"linecolor\":\"white\",\"ticks\":\"\"},\"radialaxis\":{\"gridcolor\":\"white\",\"linecolor\":\"white\",\"ticks\":\"\"}},\"ternary\":{\"bgcolor\":\"#E5ECF6\",\"aaxis\":{\"gridcolor\":\"white\",\"linecolor\":\"white\",\"ticks\":\"\"},\"baxis\":{\"gridcolor\":\"white\",\"linecolor\":\"white\",\"ticks\":\"\"},\"caxis\":{\"gridcolor\":\"white\",\"linecolor\":\"white\",\"ticks\":\"\"}},\"coloraxis\":{\"colorbar\":{\"outlinewidth\":0,\"ticks\":\"\"}},\"colorscale\":{\"sequential\":[[0.0,\"#0d0887\"],[0.1111111111111111,\"#46039f\"],[0.2222222222222222,\"#7201a8\"],[0.3333333333333333,\"#9c179e\"],[0.4444444444444444,\"#bd3786\"],[0.5555555555555556,\"#d8576b\"],[0.6666666666666666,\"#ed7953\"],[0.7777777777777778,\"#fb9f3a\"],[0.8888888888888888,\"#fdca26\"],[1.0,\"#f0f921\"]],\"sequentialminus\":[[0.0,\"#0d0887\"],[0.1111111111111111,\"#46039f\"],[0.2222222222222222,\"#7201a8\"],[0.3333333333333333,\"#9c179e\"],[0.4444444444444444,\"#bd3786\"],[0.5555555555555556,\"#d8576b\"],[0.6666666666666666,\"#ed7953\"],[0.7777777777777778,\"#fb9f3a\"],[0.8888888888888888,\"#fdca26\"],[1.0,\"#f0f921\"]],\"diverging\":[[0,\"#8e0152\"],[0.1,\"#c51b7d\"],[0.2,\"#de77ae\"],[0.3,\"#f1b6da\"],[0.4,\"#fde0ef\"],[0.5,\"#f7f7f7\"],[0.6,\"#e6f5d0\"],[0.7,\"#b8e186\"],[0.8,\"#7fbc41\"],[0.9,\"#4d9221\"],[1,\"#276419\"]]},\"xaxis\":{\"gridcolor\":\"white\",\"linecolor\":\"white\",\"ticks\":\"\",\"title\":{\"standoff\":15},\"zerolinecolor\":\"white\",\"automargin\":true,\"zerolinewidth\":2},\"yaxis\":{\"gridcolor\":\"white\",\"linecolor\":\"white\",\"ticks\":\"\",\"title\":{\"standoff\":15},\"zerolinecolor\":\"white\",\"automargin\":true,\"zerolinewidth\":2},\"scene\":{\"xaxis\":{\"backgroundcolor\":\"#E5ECF6\",\"gridcolor\":\"white\",\"linecolor\":\"white\",\"showbackground\":true,\"ticks\":\"\",\"zerolinecolor\":\"white\",\"gridwidth\":2},\"yaxis\":{\"backgroundcolor\":\"#E5ECF6\",\"gridcolor\":\"white\",\"linecolor\":\"white\",\"showbackground\":true,\"ticks\":\"\",\"zerolinecolor\":\"white\",\"gridwidth\":2},\"zaxis\":{\"backgroundcolor\":\"#E5ECF6\",\"gridcolor\":\"white\",\"linecolor\":\"white\",\"showbackground\":true,\"ticks\":\"\",\"zerolinecolor\":\"white\",\"gridwidth\":2}},\"shapedefaults\":{\"line\":{\"color\":\"#2a3f5f\"}},\"annotationdefaults\":{\"arrowcolor\":\"#2a3f5f\",\"arrowhead\":0,\"arrowwidth\":1},\"geo\":{\"bgcolor\":\"white\",\"landcolor\":\"#E5ECF6\",\"subunitcolor\":\"white\",\"showland\":true,\"showlakes\":true,\"lakecolor\":\"white\"},\"title\":{\"x\":0.05},\"mapbox\":{\"style\":\"light\"}}},\"xaxis\":{\"anchor\":\"y\",\"domain\":[0.0,1.0],\"title\":{\"text\":\"Location\"}},\"yaxis\":{\"anchor\":\"x\",\"domain\":[0.0,1.0],\"title\":{\"text\":\"Purchase Amount (USD)\"}},\"legend\":{\"tracegroupgap\":0},\"margin\":{\"t\":60},\"barmode\":\"relative\"},                        {\"responsive\": true}                    ).then(function(){\n",
              "                            \n",
              "var gd = document.getElementById('5055cc65-380b-4e27-867e-bf530d6638c8');\n",
              "var x = new MutationObserver(function (mutations, observer) {{\n",
              "        var display = window.getComputedStyle(gd).display;\n",
              "        if (!display || display === 'none') {{\n",
              "            console.log([gd, 'removed!']);\n",
              "            Plotly.purge(gd);\n",
              "            observer.disconnect();\n",
              "        }}\n",
              "}});\n",
              "\n",
              "// Listen for the removal of the full notebook cells\n",
              "var notebookContainer = gd.closest('#notebook-container');\n",
              "if (notebookContainer) {{\n",
              "    x.observe(notebookContainer, {childList: true});\n",
              "}}\n",
              "\n",
              "// Listen for the clearing of the current output cell\n",
              "var outputEl = gd.closest('.output');\n",
              "if (outputEl) {{\n",
              "    x.observe(outputEl, {childList: true});\n",
              "}}\n",
              "\n",
              "                        })                };                            </script>        </div>\n",
              "</body>\n",
              "</html>"
            ]
          },
          "metadata": {}
        }
      ],
      "source": [
        "fig = px.bar(shop_group, x = 'Location' , y = 'Purchase Amount (USD)')\n",
        "fig.show()"
      ]
    },
    {
      "cell_type": "markdown",
      "id": "92f43b8a-0b01-4265-a1fa-1efb1861ed33",
      "metadata": {
        "id": "92f43b8a-0b01-4265-a1fa-1efb1861ed33"
      },
      "source": [
        "## 17 Is there a relationship between customer age and the category of products they purchase?"
      ]
    },
    {
      "cell_type": "code",
      "execution_count": 72,
      "id": "78b19b31-8754-42fa-9589-03b22ccfcfd7",
      "metadata": {
        "id": "78b19b31-8754-42fa-9589-03b22ccfcfd7"
      },
      "outputs": [],
      "source": [
        "shop_group = shop.groupby('Category')['Age'].mean().reset_index()"
      ]
    },
    {
      "cell_type": "code",
      "execution_count": 73,
      "id": "8a959313-e2cd-40a6-88c1-3aef2a129fc4",
      "metadata": {
        "id": "8a959313-e2cd-40a6-88c1-3aef2a129fc4",
        "outputId": "a6d8ad98-9f5d-4a44-9500-be582a745145",
        "colab": {
          "base_uri": "https://localhost:8080/",
          "height": 542
        }
      },
      "outputs": [
        {
          "output_type": "display_data",
          "data": {
            "text/html": [
              "<html>\n",
              "<head><meta charset=\"utf-8\" /></head>\n",
              "<body>\n",
              "    <div>            <script src=\"https://cdnjs.cloudflare.com/ajax/libs/mathjax/2.7.5/MathJax.js?config=TeX-AMS-MML_SVG\"></script><script type=\"text/javascript\">if (window.MathJax && window.MathJax.Hub && window.MathJax.Hub.Config) {window.MathJax.Hub.Config({SVG: {font: \"STIX-Web\"}});}</script>                <script type=\"text/javascript\">window.PlotlyConfig = {MathJaxConfig: 'local'};</script>\n",
              "        <script charset=\"utf-8\" src=\"https://cdn.plot.ly/plotly-2.35.2.min.js\"></script>                <div id=\"d3d796b4-350e-47d7-899b-208d76a01c4f\" class=\"plotly-graph-div\" style=\"height:525px; width:100%;\"></div>            <script type=\"text/javascript\">                                    window.PLOTLYENV=window.PLOTLYENV || {};                                    if (document.getElementById(\"d3d796b4-350e-47d7-899b-208d76a01c4f\")) {                    Plotly.newPlot(                        \"d3d796b4-350e-47d7-899b-208d76a01c4f\",                        [{\"alignmentgroup\":\"True\",\"hovertemplate\":\"Category=%{x}\\u003cbr\\u003eAge=%{y}\\u003cextra\\u003e\\u003c\\u002fextra\\u003e\",\"legendgroup\":\"\",\"marker\":{\"color\":\"#636efa\",\"pattern\":{\"shape\":\"\"}},\"name\":\"\",\"offsetgroup\":\"\",\"orientation\":\"v\",\"showlegend\":false,\"textposition\":\"auto\",\"x\":[\"Accessories\",\"Clothing\",\"Footwear\",\"Outerwear\"],\"xaxis\":\"x\",\"y\":[44.2241935483871,43.782959124928034,44.4424040066778,44.31172839506173],\"yaxis\":\"y\",\"type\":\"bar\"}],                        {\"template\":{\"data\":{\"histogram2dcontour\":[{\"type\":\"histogram2dcontour\",\"colorbar\":{\"outlinewidth\":0,\"ticks\":\"\"},\"colorscale\":[[0.0,\"#0d0887\"],[0.1111111111111111,\"#46039f\"],[0.2222222222222222,\"#7201a8\"],[0.3333333333333333,\"#9c179e\"],[0.4444444444444444,\"#bd3786\"],[0.5555555555555556,\"#d8576b\"],[0.6666666666666666,\"#ed7953\"],[0.7777777777777778,\"#fb9f3a\"],[0.8888888888888888,\"#fdca26\"],[1.0,\"#f0f921\"]]}],\"choropleth\":[{\"type\":\"choropleth\",\"colorbar\":{\"outlinewidth\":0,\"ticks\":\"\"}}],\"histogram2d\":[{\"type\":\"histogram2d\",\"colorbar\":{\"outlinewidth\":0,\"ticks\":\"\"},\"colorscale\":[[0.0,\"#0d0887\"],[0.1111111111111111,\"#46039f\"],[0.2222222222222222,\"#7201a8\"],[0.3333333333333333,\"#9c179e\"],[0.4444444444444444,\"#bd3786\"],[0.5555555555555556,\"#d8576b\"],[0.6666666666666666,\"#ed7953\"],[0.7777777777777778,\"#fb9f3a\"],[0.8888888888888888,\"#fdca26\"],[1.0,\"#f0f921\"]]}],\"heatmap\":[{\"type\":\"heatmap\",\"colorbar\":{\"outlinewidth\":0,\"ticks\":\"\"},\"colorscale\":[[0.0,\"#0d0887\"],[0.1111111111111111,\"#46039f\"],[0.2222222222222222,\"#7201a8\"],[0.3333333333333333,\"#9c179e\"],[0.4444444444444444,\"#bd3786\"],[0.5555555555555556,\"#d8576b\"],[0.6666666666666666,\"#ed7953\"],[0.7777777777777778,\"#fb9f3a\"],[0.8888888888888888,\"#fdca26\"],[1.0,\"#f0f921\"]]}],\"heatmapgl\":[{\"type\":\"heatmapgl\",\"colorbar\":{\"outlinewidth\":0,\"ticks\":\"\"},\"colorscale\":[[0.0,\"#0d0887\"],[0.1111111111111111,\"#46039f\"],[0.2222222222222222,\"#7201a8\"],[0.3333333333333333,\"#9c179e\"],[0.4444444444444444,\"#bd3786\"],[0.5555555555555556,\"#d8576b\"],[0.6666666666666666,\"#ed7953\"],[0.7777777777777778,\"#fb9f3a\"],[0.8888888888888888,\"#fdca26\"],[1.0,\"#f0f921\"]]}],\"contourcarpet\":[{\"type\":\"contourcarpet\",\"colorbar\":{\"outlinewidth\":0,\"ticks\":\"\"}}],\"contour\":[{\"type\":\"contour\",\"colorbar\":{\"outlinewidth\":0,\"ticks\":\"\"},\"colorscale\":[[0.0,\"#0d0887\"],[0.1111111111111111,\"#46039f\"],[0.2222222222222222,\"#7201a8\"],[0.3333333333333333,\"#9c179e\"],[0.4444444444444444,\"#bd3786\"],[0.5555555555555556,\"#d8576b\"],[0.6666666666666666,\"#ed7953\"],[0.7777777777777778,\"#fb9f3a\"],[0.8888888888888888,\"#fdca26\"],[1.0,\"#f0f921\"]]}],\"surface\":[{\"type\":\"surface\",\"colorbar\":{\"outlinewidth\":0,\"ticks\":\"\"},\"colorscale\":[[0.0,\"#0d0887\"],[0.1111111111111111,\"#46039f\"],[0.2222222222222222,\"#7201a8\"],[0.3333333333333333,\"#9c179e\"],[0.4444444444444444,\"#bd3786\"],[0.5555555555555556,\"#d8576b\"],[0.6666666666666666,\"#ed7953\"],[0.7777777777777778,\"#fb9f3a\"],[0.8888888888888888,\"#fdca26\"],[1.0,\"#f0f921\"]]}],\"mesh3d\":[{\"type\":\"mesh3d\",\"colorbar\":{\"outlinewidth\":0,\"ticks\":\"\"}}],\"scatter\":[{\"fillpattern\":{\"fillmode\":\"overlay\",\"size\":10,\"solidity\":0.2},\"type\":\"scatter\"}],\"parcoords\":[{\"type\":\"parcoords\",\"line\":{\"colorbar\":{\"outlinewidth\":0,\"ticks\":\"\"}}}],\"scatterpolargl\":[{\"type\":\"scatterpolargl\",\"marker\":{\"colorbar\":{\"outlinewidth\":0,\"ticks\":\"\"}}}],\"bar\":[{\"error_x\":{\"color\":\"#2a3f5f\"},\"error_y\":{\"color\":\"#2a3f5f\"},\"marker\":{\"line\":{\"color\":\"#E5ECF6\",\"width\":0.5},\"pattern\":{\"fillmode\":\"overlay\",\"size\":10,\"solidity\":0.2}},\"type\":\"bar\"}],\"scattergeo\":[{\"type\":\"scattergeo\",\"marker\":{\"colorbar\":{\"outlinewidth\":0,\"ticks\":\"\"}}}],\"scatterpolar\":[{\"type\":\"scatterpolar\",\"marker\":{\"colorbar\":{\"outlinewidth\":0,\"ticks\":\"\"}}}],\"histogram\":[{\"marker\":{\"pattern\":{\"fillmode\":\"overlay\",\"size\":10,\"solidity\":0.2}},\"type\":\"histogram\"}],\"scattergl\":[{\"type\":\"scattergl\",\"marker\":{\"colorbar\":{\"outlinewidth\":0,\"ticks\":\"\"}}}],\"scatter3d\":[{\"type\":\"scatter3d\",\"line\":{\"colorbar\":{\"outlinewidth\":0,\"ticks\":\"\"}},\"marker\":{\"colorbar\":{\"outlinewidth\":0,\"ticks\":\"\"}}}],\"scattermapbox\":[{\"type\":\"scattermapbox\",\"marker\":{\"colorbar\":{\"outlinewidth\":0,\"ticks\":\"\"}}}],\"scatterternary\":[{\"type\":\"scatterternary\",\"marker\":{\"colorbar\":{\"outlinewidth\":0,\"ticks\":\"\"}}}],\"scattercarpet\":[{\"type\":\"scattercarpet\",\"marker\":{\"colorbar\":{\"outlinewidth\":0,\"ticks\":\"\"}}}],\"carpet\":[{\"aaxis\":{\"endlinecolor\":\"#2a3f5f\",\"gridcolor\":\"white\",\"linecolor\":\"white\",\"minorgridcolor\":\"white\",\"startlinecolor\":\"#2a3f5f\"},\"baxis\":{\"endlinecolor\":\"#2a3f5f\",\"gridcolor\":\"white\",\"linecolor\":\"white\",\"minorgridcolor\":\"white\",\"startlinecolor\":\"#2a3f5f\"},\"type\":\"carpet\"}],\"table\":[{\"cells\":{\"fill\":{\"color\":\"#EBF0F8\"},\"line\":{\"color\":\"white\"}},\"header\":{\"fill\":{\"color\":\"#C8D4E3\"},\"line\":{\"color\":\"white\"}},\"type\":\"table\"}],\"barpolar\":[{\"marker\":{\"line\":{\"color\":\"#E5ECF6\",\"width\":0.5},\"pattern\":{\"fillmode\":\"overlay\",\"size\":10,\"solidity\":0.2}},\"type\":\"barpolar\"}],\"pie\":[{\"automargin\":true,\"type\":\"pie\"}]},\"layout\":{\"autotypenumbers\":\"strict\",\"colorway\":[\"#636efa\",\"#EF553B\",\"#00cc96\",\"#ab63fa\",\"#FFA15A\",\"#19d3f3\",\"#FF6692\",\"#B6E880\",\"#FF97FF\",\"#FECB52\"],\"font\":{\"color\":\"#2a3f5f\"},\"hovermode\":\"closest\",\"hoverlabel\":{\"align\":\"left\"},\"paper_bgcolor\":\"white\",\"plot_bgcolor\":\"#E5ECF6\",\"polar\":{\"bgcolor\":\"#E5ECF6\",\"angularaxis\":{\"gridcolor\":\"white\",\"linecolor\":\"white\",\"ticks\":\"\"},\"radialaxis\":{\"gridcolor\":\"white\",\"linecolor\":\"white\",\"ticks\":\"\"}},\"ternary\":{\"bgcolor\":\"#E5ECF6\",\"aaxis\":{\"gridcolor\":\"white\",\"linecolor\":\"white\",\"ticks\":\"\"},\"baxis\":{\"gridcolor\":\"white\",\"linecolor\":\"white\",\"ticks\":\"\"},\"caxis\":{\"gridcolor\":\"white\",\"linecolor\":\"white\",\"ticks\":\"\"}},\"coloraxis\":{\"colorbar\":{\"outlinewidth\":0,\"ticks\":\"\"}},\"colorscale\":{\"sequential\":[[0.0,\"#0d0887\"],[0.1111111111111111,\"#46039f\"],[0.2222222222222222,\"#7201a8\"],[0.3333333333333333,\"#9c179e\"],[0.4444444444444444,\"#bd3786\"],[0.5555555555555556,\"#d8576b\"],[0.6666666666666666,\"#ed7953\"],[0.7777777777777778,\"#fb9f3a\"],[0.8888888888888888,\"#fdca26\"],[1.0,\"#f0f921\"]],\"sequentialminus\":[[0.0,\"#0d0887\"],[0.1111111111111111,\"#46039f\"],[0.2222222222222222,\"#7201a8\"],[0.3333333333333333,\"#9c179e\"],[0.4444444444444444,\"#bd3786\"],[0.5555555555555556,\"#d8576b\"],[0.6666666666666666,\"#ed7953\"],[0.7777777777777778,\"#fb9f3a\"],[0.8888888888888888,\"#fdca26\"],[1.0,\"#f0f921\"]],\"diverging\":[[0,\"#8e0152\"],[0.1,\"#c51b7d\"],[0.2,\"#de77ae\"],[0.3,\"#f1b6da\"],[0.4,\"#fde0ef\"],[0.5,\"#f7f7f7\"],[0.6,\"#e6f5d0\"],[0.7,\"#b8e186\"],[0.8,\"#7fbc41\"],[0.9,\"#4d9221\"],[1,\"#276419\"]]},\"xaxis\":{\"gridcolor\":\"white\",\"linecolor\":\"white\",\"ticks\":\"\",\"title\":{\"standoff\":15},\"zerolinecolor\":\"white\",\"automargin\":true,\"zerolinewidth\":2},\"yaxis\":{\"gridcolor\":\"white\",\"linecolor\":\"white\",\"ticks\":\"\",\"title\":{\"standoff\":15},\"zerolinecolor\":\"white\",\"automargin\":true,\"zerolinewidth\":2},\"scene\":{\"xaxis\":{\"backgroundcolor\":\"#E5ECF6\",\"gridcolor\":\"white\",\"linecolor\":\"white\",\"showbackground\":true,\"ticks\":\"\",\"zerolinecolor\":\"white\",\"gridwidth\":2},\"yaxis\":{\"backgroundcolor\":\"#E5ECF6\",\"gridcolor\":\"white\",\"linecolor\":\"white\",\"showbackground\":true,\"ticks\":\"\",\"zerolinecolor\":\"white\",\"gridwidth\":2},\"zaxis\":{\"backgroundcolor\":\"#E5ECF6\",\"gridcolor\":\"white\",\"linecolor\":\"white\",\"showbackground\":true,\"ticks\":\"\",\"zerolinecolor\":\"white\",\"gridwidth\":2}},\"shapedefaults\":{\"line\":{\"color\":\"#2a3f5f\"}},\"annotationdefaults\":{\"arrowcolor\":\"#2a3f5f\",\"arrowhead\":0,\"arrowwidth\":1},\"geo\":{\"bgcolor\":\"white\",\"landcolor\":\"#E5ECF6\",\"subunitcolor\":\"white\",\"showland\":true,\"showlakes\":true,\"lakecolor\":\"white\"},\"title\":{\"x\":0.05},\"mapbox\":{\"style\":\"light\"}}},\"xaxis\":{\"anchor\":\"y\",\"domain\":[0.0,1.0],\"title\":{\"text\":\"Category\"}},\"yaxis\":{\"anchor\":\"x\",\"domain\":[0.0,1.0],\"title\":{\"text\":\"Age\"}},\"legend\":{\"tracegroupgap\":0},\"margin\":{\"t\":60},\"barmode\":\"relative\"},                        {\"responsive\": true}                    ).then(function(){\n",
              "                            \n",
              "var gd = document.getElementById('d3d796b4-350e-47d7-899b-208d76a01c4f');\n",
              "var x = new MutationObserver(function (mutations, observer) {{\n",
              "        var display = window.getComputedStyle(gd).display;\n",
              "        if (!display || display === 'none') {{\n",
              "            console.log([gd, 'removed!']);\n",
              "            Plotly.purge(gd);\n",
              "            observer.disconnect();\n",
              "        }}\n",
              "}});\n",
              "\n",
              "// Listen for the removal of the full notebook cells\n",
              "var notebookContainer = gd.closest('#notebook-container');\n",
              "if (notebookContainer) {{\n",
              "    x.observe(notebookContainer, {childList: true});\n",
              "}}\n",
              "\n",
              "// Listen for the clearing of the current output cell\n",
              "var outputEl = gd.closest('.output');\n",
              "if (outputEl) {{\n",
              "    x.observe(outputEl, {childList: true});\n",
              "}}\n",
              "\n",
              "                        })                };                            </script>        </div>\n",
              "</body>\n",
              "</html>"
            ]
          },
          "metadata": {}
        }
      ],
      "source": [
        "fig = px.bar(shop_group ,y = 'Age' , x= 'Category')\n",
        "fig.show()"
      ]
    },
    {
      "cell_type": "markdown",
      "id": "415ebc6d-8ed1-403d-8b89-675666eaebd6",
      "metadata": {
        "id": "415ebc6d-8ed1-403d-8b89-675666eaebd6"
      },
      "source": [
        "## 18 How does the average purchase amount differ between male and female customers?"
      ]
    },
    {
      "cell_type": "code",
      "execution_count": 74,
      "id": "33ba11c4-2734-4b3d-9f62-5760d4ba5133",
      "metadata": {
        "id": "33ba11c4-2734-4b3d-9f62-5760d4ba5133"
      },
      "outputs": [],
      "source": [
        "shop_group = shop.groupby('Gender')['Purchase Amount (USD)'].sum().reset_index()"
      ]
    },
    {
      "cell_type": "code",
      "execution_count": 75,
      "id": "4a9dedf8-db83-467e-aa7d-c869e1d837d9",
      "metadata": {
        "id": "4a9dedf8-db83-467e-aa7d-c869e1d837d9",
        "outputId": "c120a49d-dc49-49fd-bbd5-dc05700376d3",
        "colab": {
          "base_uri": "https://localhost:8080/",
          "height": 542
        }
      },
      "outputs": [
        {
          "output_type": "display_data",
          "data": {
            "text/html": [
              "<html>\n",
              "<head><meta charset=\"utf-8\" /></head>\n",
              "<body>\n",
              "    <div>            <script src=\"https://cdnjs.cloudflare.com/ajax/libs/mathjax/2.7.5/MathJax.js?config=TeX-AMS-MML_SVG\"></script><script type=\"text/javascript\">if (window.MathJax && window.MathJax.Hub && window.MathJax.Hub.Config) {window.MathJax.Hub.Config({SVG: {font: \"STIX-Web\"}});}</script>                <script type=\"text/javascript\">window.PlotlyConfig = {MathJaxConfig: 'local'};</script>\n",
              "        <script charset=\"utf-8\" src=\"https://cdn.plot.ly/plotly-2.35.2.min.js\"></script>                <div id=\"1300c94e-c9f2-457c-98ed-668da3cc118c\" class=\"plotly-graph-div\" style=\"height:525px; width:100%;\"></div>            <script type=\"text/javascript\">                                    window.PLOTLYENV=window.PLOTLYENV || {};                                    if (document.getElementById(\"1300c94e-c9f2-457c-98ed-668da3cc118c\")) {                    Plotly.newPlot(                        \"1300c94e-c9f2-457c-98ed-668da3cc118c\",                        [{\"alignmentgroup\":\"True\",\"hovertemplate\":\"Gender=%{x}\\u003cbr\\u003ePurchase Amount (USD)=%{y}\\u003cextra\\u003e\\u003c\\u002fextra\\u003e\",\"legendgroup\":\"\",\"marker\":{\"color\":\"#636efa\",\"pattern\":{\"shape\":\"\"}},\"name\":\"\",\"offsetgroup\":\"\",\"orientation\":\"v\",\"showlegend\":false,\"textposition\":\"auto\",\"x\":[\"Female\",\"Male\"],\"xaxis\":\"x\",\"y\":[75191,157890],\"yaxis\":\"y\",\"type\":\"bar\"}],                        {\"template\":{\"data\":{\"histogram2dcontour\":[{\"type\":\"histogram2dcontour\",\"colorbar\":{\"outlinewidth\":0,\"ticks\":\"\"},\"colorscale\":[[0.0,\"#0d0887\"],[0.1111111111111111,\"#46039f\"],[0.2222222222222222,\"#7201a8\"],[0.3333333333333333,\"#9c179e\"],[0.4444444444444444,\"#bd3786\"],[0.5555555555555556,\"#d8576b\"],[0.6666666666666666,\"#ed7953\"],[0.7777777777777778,\"#fb9f3a\"],[0.8888888888888888,\"#fdca26\"],[1.0,\"#f0f921\"]]}],\"choropleth\":[{\"type\":\"choropleth\",\"colorbar\":{\"outlinewidth\":0,\"ticks\":\"\"}}],\"histogram2d\":[{\"type\":\"histogram2d\",\"colorbar\":{\"outlinewidth\":0,\"ticks\":\"\"},\"colorscale\":[[0.0,\"#0d0887\"],[0.1111111111111111,\"#46039f\"],[0.2222222222222222,\"#7201a8\"],[0.3333333333333333,\"#9c179e\"],[0.4444444444444444,\"#bd3786\"],[0.5555555555555556,\"#d8576b\"],[0.6666666666666666,\"#ed7953\"],[0.7777777777777778,\"#fb9f3a\"],[0.8888888888888888,\"#fdca26\"],[1.0,\"#f0f921\"]]}],\"heatmap\":[{\"type\":\"heatmap\",\"colorbar\":{\"outlinewidth\":0,\"ticks\":\"\"},\"colorscale\":[[0.0,\"#0d0887\"],[0.1111111111111111,\"#46039f\"],[0.2222222222222222,\"#7201a8\"],[0.3333333333333333,\"#9c179e\"],[0.4444444444444444,\"#bd3786\"],[0.5555555555555556,\"#d8576b\"],[0.6666666666666666,\"#ed7953\"],[0.7777777777777778,\"#fb9f3a\"],[0.8888888888888888,\"#fdca26\"],[1.0,\"#f0f921\"]]}],\"heatmapgl\":[{\"type\":\"heatmapgl\",\"colorbar\":{\"outlinewidth\":0,\"ticks\":\"\"},\"colorscale\":[[0.0,\"#0d0887\"],[0.1111111111111111,\"#46039f\"],[0.2222222222222222,\"#7201a8\"],[0.3333333333333333,\"#9c179e\"],[0.4444444444444444,\"#bd3786\"],[0.5555555555555556,\"#d8576b\"],[0.6666666666666666,\"#ed7953\"],[0.7777777777777778,\"#fb9f3a\"],[0.8888888888888888,\"#fdca26\"],[1.0,\"#f0f921\"]]}],\"contourcarpet\":[{\"type\":\"contourcarpet\",\"colorbar\":{\"outlinewidth\":0,\"ticks\":\"\"}}],\"contour\":[{\"type\":\"contour\",\"colorbar\":{\"outlinewidth\":0,\"ticks\":\"\"},\"colorscale\":[[0.0,\"#0d0887\"],[0.1111111111111111,\"#46039f\"],[0.2222222222222222,\"#7201a8\"],[0.3333333333333333,\"#9c179e\"],[0.4444444444444444,\"#bd3786\"],[0.5555555555555556,\"#d8576b\"],[0.6666666666666666,\"#ed7953\"],[0.7777777777777778,\"#fb9f3a\"],[0.8888888888888888,\"#fdca26\"],[1.0,\"#f0f921\"]]}],\"surface\":[{\"type\":\"surface\",\"colorbar\":{\"outlinewidth\":0,\"ticks\":\"\"},\"colorscale\":[[0.0,\"#0d0887\"],[0.1111111111111111,\"#46039f\"],[0.2222222222222222,\"#7201a8\"],[0.3333333333333333,\"#9c179e\"],[0.4444444444444444,\"#bd3786\"],[0.5555555555555556,\"#d8576b\"],[0.6666666666666666,\"#ed7953\"],[0.7777777777777778,\"#fb9f3a\"],[0.8888888888888888,\"#fdca26\"],[1.0,\"#f0f921\"]]}],\"mesh3d\":[{\"type\":\"mesh3d\",\"colorbar\":{\"outlinewidth\":0,\"ticks\":\"\"}}],\"scatter\":[{\"fillpattern\":{\"fillmode\":\"overlay\",\"size\":10,\"solidity\":0.2},\"type\":\"scatter\"}],\"parcoords\":[{\"type\":\"parcoords\",\"line\":{\"colorbar\":{\"outlinewidth\":0,\"ticks\":\"\"}}}],\"scatterpolargl\":[{\"type\":\"scatterpolargl\",\"marker\":{\"colorbar\":{\"outlinewidth\":0,\"ticks\":\"\"}}}],\"bar\":[{\"error_x\":{\"color\":\"#2a3f5f\"},\"error_y\":{\"color\":\"#2a3f5f\"},\"marker\":{\"line\":{\"color\":\"#E5ECF6\",\"width\":0.5},\"pattern\":{\"fillmode\":\"overlay\",\"size\":10,\"solidity\":0.2}},\"type\":\"bar\"}],\"scattergeo\":[{\"type\":\"scattergeo\",\"marker\":{\"colorbar\":{\"outlinewidth\":0,\"ticks\":\"\"}}}],\"scatterpolar\":[{\"type\":\"scatterpolar\",\"marker\":{\"colorbar\":{\"outlinewidth\":0,\"ticks\":\"\"}}}],\"histogram\":[{\"marker\":{\"pattern\":{\"fillmode\":\"overlay\",\"size\":10,\"solidity\":0.2}},\"type\":\"histogram\"}],\"scattergl\":[{\"type\":\"scattergl\",\"marker\":{\"colorbar\":{\"outlinewidth\":0,\"ticks\":\"\"}}}],\"scatter3d\":[{\"type\":\"scatter3d\",\"line\":{\"colorbar\":{\"outlinewidth\":0,\"ticks\":\"\"}},\"marker\":{\"colorbar\":{\"outlinewidth\":0,\"ticks\":\"\"}}}],\"scattermapbox\":[{\"type\":\"scattermapbox\",\"marker\":{\"colorbar\":{\"outlinewidth\":0,\"ticks\":\"\"}}}],\"scatterternary\":[{\"type\":\"scatterternary\",\"marker\":{\"colorbar\":{\"outlinewidth\":0,\"ticks\":\"\"}}}],\"scattercarpet\":[{\"type\":\"scattercarpet\",\"marker\":{\"colorbar\":{\"outlinewidth\":0,\"ticks\":\"\"}}}],\"carpet\":[{\"aaxis\":{\"endlinecolor\":\"#2a3f5f\",\"gridcolor\":\"white\",\"linecolor\":\"white\",\"minorgridcolor\":\"white\",\"startlinecolor\":\"#2a3f5f\"},\"baxis\":{\"endlinecolor\":\"#2a3f5f\",\"gridcolor\":\"white\",\"linecolor\":\"white\",\"minorgridcolor\":\"white\",\"startlinecolor\":\"#2a3f5f\"},\"type\":\"carpet\"}],\"table\":[{\"cells\":{\"fill\":{\"color\":\"#EBF0F8\"},\"line\":{\"color\":\"white\"}},\"header\":{\"fill\":{\"color\":\"#C8D4E3\"},\"line\":{\"color\":\"white\"}},\"type\":\"table\"}],\"barpolar\":[{\"marker\":{\"line\":{\"color\":\"#E5ECF6\",\"width\":0.5},\"pattern\":{\"fillmode\":\"overlay\",\"size\":10,\"solidity\":0.2}},\"type\":\"barpolar\"}],\"pie\":[{\"automargin\":true,\"type\":\"pie\"}]},\"layout\":{\"autotypenumbers\":\"strict\",\"colorway\":[\"#636efa\",\"#EF553B\",\"#00cc96\",\"#ab63fa\",\"#FFA15A\",\"#19d3f3\",\"#FF6692\",\"#B6E880\",\"#FF97FF\",\"#FECB52\"],\"font\":{\"color\":\"#2a3f5f\"},\"hovermode\":\"closest\",\"hoverlabel\":{\"align\":\"left\"},\"paper_bgcolor\":\"white\",\"plot_bgcolor\":\"#E5ECF6\",\"polar\":{\"bgcolor\":\"#E5ECF6\",\"angularaxis\":{\"gridcolor\":\"white\",\"linecolor\":\"white\",\"ticks\":\"\"},\"radialaxis\":{\"gridcolor\":\"white\",\"linecolor\":\"white\",\"ticks\":\"\"}},\"ternary\":{\"bgcolor\":\"#E5ECF6\",\"aaxis\":{\"gridcolor\":\"white\",\"linecolor\":\"white\",\"ticks\":\"\"},\"baxis\":{\"gridcolor\":\"white\",\"linecolor\":\"white\",\"ticks\":\"\"},\"caxis\":{\"gridcolor\":\"white\",\"linecolor\":\"white\",\"ticks\":\"\"}},\"coloraxis\":{\"colorbar\":{\"outlinewidth\":0,\"ticks\":\"\"}},\"colorscale\":{\"sequential\":[[0.0,\"#0d0887\"],[0.1111111111111111,\"#46039f\"],[0.2222222222222222,\"#7201a8\"],[0.3333333333333333,\"#9c179e\"],[0.4444444444444444,\"#bd3786\"],[0.5555555555555556,\"#d8576b\"],[0.6666666666666666,\"#ed7953\"],[0.7777777777777778,\"#fb9f3a\"],[0.8888888888888888,\"#fdca26\"],[1.0,\"#f0f921\"]],\"sequentialminus\":[[0.0,\"#0d0887\"],[0.1111111111111111,\"#46039f\"],[0.2222222222222222,\"#7201a8\"],[0.3333333333333333,\"#9c179e\"],[0.4444444444444444,\"#bd3786\"],[0.5555555555555556,\"#d8576b\"],[0.6666666666666666,\"#ed7953\"],[0.7777777777777778,\"#fb9f3a\"],[0.8888888888888888,\"#fdca26\"],[1.0,\"#f0f921\"]],\"diverging\":[[0,\"#8e0152\"],[0.1,\"#c51b7d\"],[0.2,\"#de77ae\"],[0.3,\"#f1b6da\"],[0.4,\"#fde0ef\"],[0.5,\"#f7f7f7\"],[0.6,\"#e6f5d0\"],[0.7,\"#b8e186\"],[0.8,\"#7fbc41\"],[0.9,\"#4d9221\"],[1,\"#276419\"]]},\"xaxis\":{\"gridcolor\":\"white\",\"linecolor\":\"white\",\"ticks\":\"\",\"title\":{\"standoff\":15},\"zerolinecolor\":\"white\",\"automargin\":true,\"zerolinewidth\":2},\"yaxis\":{\"gridcolor\":\"white\",\"linecolor\":\"white\",\"ticks\":\"\",\"title\":{\"standoff\":15},\"zerolinecolor\":\"white\",\"automargin\":true,\"zerolinewidth\":2},\"scene\":{\"xaxis\":{\"backgroundcolor\":\"#E5ECF6\",\"gridcolor\":\"white\",\"linecolor\":\"white\",\"showbackground\":true,\"ticks\":\"\",\"zerolinecolor\":\"white\",\"gridwidth\":2},\"yaxis\":{\"backgroundcolor\":\"#E5ECF6\",\"gridcolor\":\"white\",\"linecolor\":\"white\",\"showbackground\":true,\"ticks\":\"\",\"zerolinecolor\":\"white\",\"gridwidth\":2},\"zaxis\":{\"backgroundcolor\":\"#E5ECF6\",\"gridcolor\":\"white\",\"linecolor\":\"white\",\"showbackground\":true,\"ticks\":\"\",\"zerolinecolor\":\"white\",\"gridwidth\":2}},\"shapedefaults\":{\"line\":{\"color\":\"#2a3f5f\"}},\"annotationdefaults\":{\"arrowcolor\":\"#2a3f5f\",\"arrowhead\":0,\"arrowwidth\":1},\"geo\":{\"bgcolor\":\"white\",\"landcolor\":\"#E5ECF6\",\"subunitcolor\":\"white\",\"showland\":true,\"showlakes\":true,\"lakecolor\":\"white\"},\"title\":{\"x\":0.05},\"mapbox\":{\"style\":\"light\"}}},\"xaxis\":{\"anchor\":\"y\",\"domain\":[0.0,1.0],\"title\":{\"text\":\"Gender\"}},\"yaxis\":{\"anchor\":\"x\",\"domain\":[0.0,1.0],\"title\":{\"text\":\"Purchase Amount (USD)\"}},\"legend\":{\"tracegroupgap\":0},\"margin\":{\"t\":60},\"barmode\":\"relative\"},                        {\"responsive\": true}                    ).then(function(){\n",
              "                            \n",
              "var gd = document.getElementById('1300c94e-c9f2-457c-98ed-668da3cc118c');\n",
              "var x = new MutationObserver(function (mutations, observer) {{\n",
              "        var display = window.getComputedStyle(gd).display;\n",
              "        if (!display || display === 'none') {{\n",
              "            console.log([gd, 'removed!']);\n",
              "            Plotly.purge(gd);\n",
              "            observer.disconnect();\n",
              "        }}\n",
              "}});\n",
              "\n",
              "// Listen for the removal of the full notebook cells\n",
              "var notebookContainer = gd.closest('#notebook-container');\n",
              "if (notebookContainer) {{\n",
              "    x.observe(notebookContainer, {childList: true});\n",
              "}}\n",
              "\n",
              "// Listen for the clearing of the current output cell\n",
              "var outputEl = gd.closest('.output');\n",
              "if (outputEl) {{\n",
              "    x.observe(outputEl, {childList: true});\n",
              "}}\n",
              "\n",
              "                        })                };                            </script>        </div>\n",
              "</body>\n",
              "</html>"
            ]
          },
          "metadata": {}
        }
      ],
      "source": [
        "fig = px.bar(shop_group , x = 'Gender' , y = 'Purchase Amount (USD)')\n",
        "fig.show()"
      ]
    },
    {
      "cell_type": "code",
      "execution_count": 76,
      "id": "8737d886-3ec6-4d3b-a7f8-a28b7a9de0bd",
      "metadata": {
        "id": "8737d886-3ec6-4d3b-a7f8-a28b7a9de0bd",
        "outputId": "aa3466d7-3619-434c-d3a6-8db9d4feda24",
        "colab": {
          "base_uri": "https://localhost:8080/",
          "height": 631
        }
      },
      "outputs": [
        {
          "output_type": "stream",
          "name": "stderr",
          "text": [
            "/usr/local/lib/python3.11/dist-packages/plotly/express/_core.py:1727: FutureWarning:\n",
            "\n",
            "The default of observed=False is deprecated and will be changed to True in a future version of pandas. Pass observed=False to retain current behavior or observed=True to adopt the future default and silence this warning.\n",
            "\n"
          ]
        },
        {
          "output_type": "display_data",
          "data": {
            "text/html": [
              "<html>\n",
              "<head><meta charset=\"utf-8\" /></head>\n",
              "<body>\n",
              "    <div>            <script src=\"https://cdnjs.cloudflare.com/ajax/libs/mathjax/2.7.5/MathJax.js?config=TeX-AMS-MML_SVG\"></script><script type=\"text/javascript\">if (window.MathJax && window.MathJax.Hub && window.MathJax.Hub.Config) {window.MathJax.Hub.Config({SVG: {font: \"STIX-Web\"}});}</script>                <script type=\"text/javascript\">window.PlotlyConfig = {MathJaxConfig: 'local'};</script>\n",
              "        <script charset=\"utf-8\" src=\"https://cdn.plot.ly/plotly-2.35.2.min.js\"></script>                <div id=\"d3a94ad6-ebb9-4f69-99ef-973e5492b0c3\" class=\"plotly-graph-div\" style=\"height:525px; width:100%;\"></div>            <script type=\"text/javascript\">                                    window.PLOTLYENV=window.PLOTLYENV || {};                                    if (document.getElementById(\"d3a94ad6-ebb9-4f69-99ef-973e5492b0c3\")) {                    Plotly.newPlot(                        \"d3a94ad6-ebb9-4f69-99ef-973e5492b0c3\",                        [{\"branchvalues\":\"total\",\"domain\":{\"x\":[0.0,1.0],\"y\":[0.0,1.0]},\"hovertemplate\":\"labels=%{label}\\u003cbr\\u003ePurchase Amount (USD)=%{value}\\u003cbr\\u003eparent=%{parent}\\u003cbr\\u003eid=%{id}\\u003cextra\\u003e\\u003c\\u002fextra\\u003e\",\"ids\":[\"Female\\u002fchild\",\"Male\\u002fchild\",\"Female\\u002fteen\",\"Male\\u002fteen\",\"Female\\u002fYoung Adults\",\"Male\\u002fYoung Adults\",\"Female\\u002fMiddle-Aged Adults\",\"Male\\u002fMiddle-Aged Adults\",\"Female\\u002fold\",\"Male\\u002fold\",\"Female\",\"Male\"],\"labels\":[\"child\",\"child\",\"teen\",\"teen\",\"Young Adults\",\"Young Adults\",\"Middle-Aged Adults\",\"Middle-Aged Adults\",\"old\",\"old\",\"Female\",\"Male\"],\"name\":\"\",\"parents\":[\"Female\",\"Male\",\"Female\",\"Male\",\"Female\",\"Male\",\"Female\",\"Male\",\"Female\",\"Male\",\"\",\"\"],\"values\":[0,0,1194,2945,17141,35999,28971,58351,27885,60595,75191,157890],\"type\":\"sunburst\"}],                        {\"template\":{\"data\":{\"histogram2dcontour\":[{\"type\":\"histogram2dcontour\",\"colorbar\":{\"outlinewidth\":0,\"ticks\":\"\"},\"colorscale\":[[0.0,\"#0d0887\"],[0.1111111111111111,\"#46039f\"],[0.2222222222222222,\"#7201a8\"],[0.3333333333333333,\"#9c179e\"],[0.4444444444444444,\"#bd3786\"],[0.5555555555555556,\"#d8576b\"],[0.6666666666666666,\"#ed7953\"],[0.7777777777777778,\"#fb9f3a\"],[0.8888888888888888,\"#fdca26\"],[1.0,\"#f0f921\"]]}],\"choropleth\":[{\"type\":\"choropleth\",\"colorbar\":{\"outlinewidth\":0,\"ticks\":\"\"}}],\"histogram2d\":[{\"type\":\"histogram2d\",\"colorbar\":{\"outlinewidth\":0,\"ticks\":\"\"},\"colorscale\":[[0.0,\"#0d0887\"],[0.1111111111111111,\"#46039f\"],[0.2222222222222222,\"#7201a8\"],[0.3333333333333333,\"#9c179e\"],[0.4444444444444444,\"#bd3786\"],[0.5555555555555556,\"#d8576b\"],[0.6666666666666666,\"#ed7953\"],[0.7777777777777778,\"#fb9f3a\"],[0.8888888888888888,\"#fdca26\"],[1.0,\"#f0f921\"]]}],\"heatmap\":[{\"type\":\"heatmap\",\"colorbar\":{\"outlinewidth\":0,\"ticks\":\"\"},\"colorscale\":[[0.0,\"#0d0887\"],[0.1111111111111111,\"#46039f\"],[0.2222222222222222,\"#7201a8\"],[0.3333333333333333,\"#9c179e\"],[0.4444444444444444,\"#bd3786\"],[0.5555555555555556,\"#d8576b\"],[0.6666666666666666,\"#ed7953\"],[0.7777777777777778,\"#fb9f3a\"],[0.8888888888888888,\"#fdca26\"],[1.0,\"#f0f921\"]]}],\"heatmapgl\":[{\"type\":\"heatmapgl\",\"colorbar\":{\"outlinewidth\":0,\"ticks\":\"\"},\"colorscale\":[[0.0,\"#0d0887\"],[0.1111111111111111,\"#46039f\"],[0.2222222222222222,\"#7201a8\"],[0.3333333333333333,\"#9c179e\"],[0.4444444444444444,\"#bd3786\"],[0.5555555555555556,\"#d8576b\"],[0.6666666666666666,\"#ed7953\"],[0.7777777777777778,\"#fb9f3a\"],[0.8888888888888888,\"#fdca26\"],[1.0,\"#f0f921\"]]}],\"contourcarpet\":[{\"type\":\"contourcarpet\",\"colorbar\":{\"outlinewidth\":0,\"ticks\":\"\"}}],\"contour\":[{\"type\":\"contour\",\"colorbar\":{\"outlinewidth\":0,\"ticks\":\"\"},\"colorscale\":[[0.0,\"#0d0887\"],[0.1111111111111111,\"#46039f\"],[0.2222222222222222,\"#7201a8\"],[0.3333333333333333,\"#9c179e\"],[0.4444444444444444,\"#bd3786\"],[0.5555555555555556,\"#d8576b\"],[0.6666666666666666,\"#ed7953\"],[0.7777777777777778,\"#fb9f3a\"],[0.8888888888888888,\"#fdca26\"],[1.0,\"#f0f921\"]]}],\"surface\":[{\"type\":\"surface\",\"colorbar\":{\"outlinewidth\":0,\"ticks\":\"\"},\"colorscale\":[[0.0,\"#0d0887\"],[0.1111111111111111,\"#46039f\"],[0.2222222222222222,\"#7201a8\"],[0.3333333333333333,\"#9c179e\"],[0.4444444444444444,\"#bd3786\"],[0.5555555555555556,\"#d8576b\"],[0.6666666666666666,\"#ed7953\"],[0.7777777777777778,\"#fb9f3a\"],[0.8888888888888888,\"#fdca26\"],[1.0,\"#f0f921\"]]}],\"mesh3d\":[{\"type\":\"mesh3d\",\"colorbar\":{\"outlinewidth\":0,\"ticks\":\"\"}}],\"scatter\":[{\"fillpattern\":{\"fillmode\":\"overlay\",\"size\":10,\"solidity\":0.2},\"type\":\"scatter\"}],\"parcoords\":[{\"type\":\"parcoords\",\"line\":{\"colorbar\":{\"outlinewidth\":0,\"ticks\":\"\"}}}],\"scatterpolargl\":[{\"type\":\"scatterpolargl\",\"marker\":{\"colorbar\":{\"outlinewidth\":0,\"ticks\":\"\"}}}],\"bar\":[{\"error_x\":{\"color\":\"#2a3f5f\"},\"error_y\":{\"color\":\"#2a3f5f\"},\"marker\":{\"line\":{\"color\":\"#E5ECF6\",\"width\":0.5},\"pattern\":{\"fillmode\":\"overlay\",\"size\":10,\"solidity\":0.2}},\"type\":\"bar\"}],\"scattergeo\":[{\"type\":\"scattergeo\",\"marker\":{\"colorbar\":{\"outlinewidth\":0,\"ticks\":\"\"}}}],\"scatterpolar\":[{\"type\":\"scatterpolar\",\"marker\":{\"colorbar\":{\"outlinewidth\":0,\"ticks\":\"\"}}}],\"histogram\":[{\"marker\":{\"pattern\":{\"fillmode\":\"overlay\",\"size\":10,\"solidity\":0.2}},\"type\":\"histogram\"}],\"scattergl\":[{\"type\":\"scattergl\",\"marker\":{\"colorbar\":{\"outlinewidth\":0,\"ticks\":\"\"}}}],\"scatter3d\":[{\"type\":\"scatter3d\",\"line\":{\"colorbar\":{\"outlinewidth\":0,\"ticks\":\"\"}},\"marker\":{\"colorbar\":{\"outlinewidth\":0,\"ticks\":\"\"}}}],\"scattermapbox\":[{\"type\":\"scattermapbox\",\"marker\":{\"colorbar\":{\"outlinewidth\":0,\"ticks\":\"\"}}}],\"scatterternary\":[{\"type\":\"scatterternary\",\"marker\":{\"colorbar\":{\"outlinewidth\":0,\"ticks\":\"\"}}}],\"scattercarpet\":[{\"type\":\"scattercarpet\",\"marker\":{\"colorbar\":{\"outlinewidth\":0,\"ticks\":\"\"}}}],\"carpet\":[{\"aaxis\":{\"endlinecolor\":\"#2a3f5f\",\"gridcolor\":\"white\",\"linecolor\":\"white\",\"minorgridcolor\":\"white\",\"startlinecolor\":\"#2a3f5f\"},\"baxis\":{\"endlinecolor\":\"#2a3f5f\",\"gridcolor\":\"white\",\"linecolor\":\"white\",\"minorgridcolor\":\"white\",\"startlinecolor\":\"#2a3f5f\"},\"type\":\"carpet\"}],\"table\":[{\"cells\":{\"fill\":{\"color\":\"#EBF0F8\"},\"line\":{\"color\":\"white\"}},\"header\":{\"fill\":{\"color\":\"#C8D4E3\"},\"line\":{\"color\":\"white\"}},\"type\":\"table\"}],\"barpolar\":[{\"marker\":{\"line\":{\"color\":\"#E5ECF6\",\"width\":0.5},\"pattern\":{\"fillmode\":\"overlay\",\"size\":10,\"solidity\":0.2}},\"type\":\"barpolar\"}],\"pie\":[{\"automargin\":true,\"type\":\"pie\"}]},\"layout\":{\"autotypenumbers\":\"strict\",\"colorway\":[\"#636efa\",\"#EF553B\",\"#00cc96\",\"#ab63fa\",\"#FFA15A\",\"#19d3f3\",\"#FF6692\",\"#B6E880\",\"#FF97FF\",\"#FECB52\"],\"font\":{\"color\":\"#2a3f5f\"},\"hovermode\":\"closest\",\"hoverlabel\":{\"align\":\"left\"},\"paper_bgcolor\":\"white\",\"plot_bgcolor\":\"#E5ECF6\",\"polar\":{\"bgcolor\":\"#E5ECF6\",\"angularaxis\":{\"gridcolor\":\"white\",\"linecolor\":\"white\",\"ticks\":\"\"},\"radialaxis\":{\"gridcolor\":\"white\",\"linecolor\":\"white\",\"ticks\":\"\"}},\"ternary\":{\"bgcolor\":\"#E5ECF6\",\"aaxis\":{\"gridcolor\":\"white\",\"linecolor\":\"white\",\"ticks\":\"\"},\"baxis\":{\"gridcolor\":\"white\",\"linecolor\":\"white\",\"ticks\":\"\"},\"caxis\":{\"gridcolor\":\"white\",\"linecolor\":\"white\",\"ticks\":\"\"}},\"coloraxis\":{\"colorbar\":{\"outlinewidth\":0,\"ticks\":\"\"}},\"colorscale\":{\"sequential\":[[0.0,\"#0d0887\"],[0.1111111111111111,\"#46039f\"],[0.2222222222222222,\"#7201a8\"],[0.3333333333333333,\"#9c179e\"],[0.4444444444444444,\"#bd3786\"],[0.5555555555555556,\"#d8576b\"],[0.6666666666666666,\"#ed7953\"],[0.7777777777777778,\"#fb9f3a\"],[0.8888888888888888,\"#fdca26\"],[1.0,\"#f0f921\"]],\"sequentialminus\":[[0.0,\"#0d0887\"],[0.1111111111111111,\"#46039f\"],[0.2222222222222222,\"#7201a8\"],[0.3333333333333333,\"#9c179e\"],[0.4444444444444444,\"#bd3786\"],[0.5555555555555556,\"#d8576b\"],[0.6666666666666666,\"#ed7953\"],[0.7777777777777778,\"#fb9f3a\"],[0.8888888888888888,\"#fdca26\"],[1.0,\"#f0f921\"]],\"diverging\":[[0,\"#8e0152\"],[0.1,\"#c51b7d\"],[0.2,\"#de77ae\"],[0.3,\"#f1b6da\"],[0.4,\"#fde0ef\"],[0.5,\"#f7f7f7\"],[0.6,\"#e6f5d0\"],[0.7,\"#b8e186\"],[0.8,\"#7fbc41\"],[0.9,\"#4d9221\"],[1,\"#276419\"]]},\"xaxis\":{\"gridcolor\":\"white\",\"linecolor\":\"white\",\"ticks\":\"\",\"title\":{\"standoff\":15},\"zerolinecolor\":\"white\",\"automargin\":true,\"zerolinewidth\":2},\"yaxis\":{\"gridcolor\":\"white\",\"linecolor\":\"white\",\"ticks\":\"\",\"title\":{\"standoff\":15},\"zerolinecolor\":\"white\",\"automargin\":true,\"zerolinewidth\":2},\"scene\":{\"xaxis\":{\"backgroundcolor\":\"#E5ECF6\",\"gridcolor\":\"white\",\"linecolor\":\"white\",\"showbackground\":true,\"ticks\":\"\",\"zerolinecolor\":\"white\",\"gridwidth\":2},\"yaxis\":{\"backgroundcolor\":\"#E5ECF6\",\"gridcolor\":\"white\",\"linecolor\":\"white\",\"showbackground\":true,\"ticks\":\"\",\"zerolinecolor\":\"white\",\"gridwidth\":2},\"zaxis\":{\"backgroundcolor\":\"#E5ECF6\",\"gridcolor\":\"white\",\"linecolor\":\"white\",\"showbackground\":true,\"ticks\":\"\",\"zerolinecolor\":\"white\",\"gridwidth\":2}},\"shapedefaults\":{\"line\":{\"color\":\"#2a3f5f\"}},\"annotationdefaults\":{\"arrowcolor\":\"#2a3f5f\",\"arrowhead\":0,\"arrowwidth\":1},\"geo\":{\"bgcolor\":\"white\",\"landcolor\":\"#E5ECF6\",\"subunitcolor\":\"white\",\"showland\":true,\"showlakes\":true,\"lakecolor\":\"white\"},\"title\":{\"x\":0.05},\"mapbox\":{\"style\":\"light\"}}},\"legend\":{\"tracegroupgap\":0},\"margin\":{\"t\":60}},                        {\"responsive\": true}                    ).then(function(){\n",
              "                            \n",
              "var gd = document.getElementById('d3a94ad6-ebb9-4f69-99ef-973e5492b0c3');\n",
              "var x = new MutationObserver(function (mutations, observer) {{\n",
              "        var display = window.getComputedStyle(gd).display;\n",
              "        if (!display || display === 'none') {{\n",
              "            console.log([gd, 'removed!']);\n",
              "            Plotly.purge(gd);\n",
              "            observer.disconnect();\n",
              "        }}\n",
              "}});\n",
              "\n",
              "// Listen for the removal of the full notebook cells\n",
              "var notebookContainer = gd.closest('#notebook-container');\n",
              "if (notebookContainer) {{\n",
              "    x.observe(notebookContainer, {childList: true});\n",
              "}}\n",
              "\n",
              "// Listen for the clearing of the current output cell\n",
              "var outputEl = gd.closest('.output');\n",
              "if (outputEl) {{\n",
              "    x.observe(outputEl, {childList: true});\n",
              "}}\n",
              "\n",
              "                        })                };                            </script>        </div>\n",
              "</body>\n",
              "</html>"
            ]
          },
          "metadata": {}
        }
      ],
      "source": [
        "px.sunburst(data_frame= shop , path = ['Gender' ,'Age_category'] , values='Purchase Amount (USD)')"
      ]
    },
    {
      "cell_type": "markdown",
      "source": [
        "## Thank You"
      ],
      "metadata": {
        "id": "Vc9ThfmXt_SQ"
      },
      "id": "Vc9ThfmXt_SQ"
    }
  ],
  "metadata": {
    "kernelspec": {
      "display_name": "Python 3 (ipykernel)",
      "language": "python",
      "name": "python3"
    },
    "language_info": {
      "codemirror_mode": {
        "name": "ipython",
        "version": 3
      },
      "file_extension": ".py",
      "mimetype": "text/x-python",
      "name": "python",
      "nbconvert_exporter": "python",
      "pygments_lexer": "ipython3",
      "version": "3.10.4"
    },
    "colab": {
      "provenance": [],
      "toc_visible": true
    }
  },
  "nbformat": 4,
  "nbformat_minor": 5
}